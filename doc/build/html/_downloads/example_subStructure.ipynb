{
 "metadata": {
  "signature": "sha256:5d069ce06f9f0fab2d6435818f5c41da5a5b7d371c0f5597694dbaeb5ed22085"
 },
 "nbformat": 3,
 "nbformat_minor": 0,
 "worksheets": [
  {
   "cells": [
    {
     "cell_type": "heading",
     "level": 1,
     "metadata": {},
     "source": [
      "Substructure Test for StructureContainer object"
     ]
    },
    {
     "cell_type": "heading",
     "level": 3,
     "metadata": {},
     "source": [
      "This test shows how to set up Structure container with Particle and Bond Containers.\n",
      "Shows how IDs changed in StructureContainer propagate to values set in BondContainer for its held particle ID values.\n",
      "Illustrates how a substructure method can return subgroup"
     ]
    },
    {
     "cell_type": "code",
     "collapsed": false,
     "input": [
      "#!/usr/bin/env python\n",
      "import copy\n",
      "\n",
      "# String diagrams for checking code\n",
      "diagramBefore=\"\"\"\n",
      "5--'b1'---2\n",
      " -        |\n",
      "  -       'b2'\n",
      "   'b4'   |\n",
      "     -    |\n",
      "       -  3---'b3'---4\n",
      "\"\"\"\n",
      "\n",
      "diagramAfter1=\"\"\"\n",
      "5--'b1'---2\n",
      "\"\"\"\n",
      "\n",
      "diagramAfter2=\"\"\"\n",
      "5--'b1'---2\n",
      " -        |\n",
      "  -       'b2'\n",
      "   'b4'   |\n",
      "     -    |\n",
      "       -  3\n",
      "\"\"\""
     ],
     "language": "python",
     "metadata": {},
     "outputs": [],
     "prompt_number": 1
    },
    {
     "cell_type": "heading",
     "level": 3,
     "metadata": {},
     "source": [
      "Load the Particle and Bond classes and their associated container classes. Load the structureContainer class"
     ]
    },
    {
     "cell_type": "code",
     "collapsed": false,
     "input": [
      "import os, sys, math, random, time\n",
      "\n",
      "from particles import Particle\n",
      "from particles import ParticleContainer\n",
      "\n",
      "from bonds import Bond\n",
      "from bonds import BondContainer\n",
      "\n",
      "from structureContainer import StructureContainer"
     ],
     "language": "python",
     "metadata": {},
     "outputs": [],
     "prompt_number": 2
    },
    {
     "cell_type": "heading",
     "level": 3,
     "metadata": {},
     "source": [
      "Create a set of test Particle and Bond objects. The Bond connectivity is set manually to match the diagramBefore string above."
     ]
    },
    {
     "cell_type": "code",
     "collapsed": false,
     "input": [
      "p1 = Particle( [0.2, 1.3,  33.0], \"Si\", 2.0, 1.23)\n",
      "p2 = Particle( [5.0, 2.3, -22.1], \"C\",  1.0, 2.34)\n",
      "p3 = Particle( [5.0, 2.3, -20.1], \"C\",  1.0, 2.34)\n",
      "p4 = Particle( [0.0, 2.3, -20.1], \"C\",  1.0, 2.34)\n",
      "p5 = Particle( [0.2, 1.3,  33.0], \"Si\", 2.0, 1.23)\n",
      "\n",
      "b1 = Bond( 5, 2, 1.233, \"hooke\")\n",
      "b2 = Bond( 2, 3, 0.500, \"hooke\")\n",
      "b3 = Bond( 3, 4, 2.301, \"hooke\")\n",
      "b4 = Bond( 5, 3, 0.828, \"hooke\")"
     ],
     "language": "python",
     "metadata": {},
     "outputs": [],
     "prompt_number": 3
    },
    {
     "cell_type": "heading",
     "level": 3,
     "metadata": {},
     "source": [
      "Pushing the Particle and Bond objects above into the Particle and Bond Container objects. "
     ]
    },
    {
     "cell_type": "code",
     "collapsed": false,
     "input": [
      "atoms1 = ParticleContainer()\n",
      "atoms1.put(p1)\n",
      "atoms1.put(p2)\n",
      "atoms1.put(p3)\n",
      "atoms1.put(p4)\n",
      "atoms1.put(p5)\n",
      "\n",
      "# Example of the 'delete' magic method. Removes the particle with index=1\n",
      "del atoms1[1]\n",
      "\n",
      "bonds = BondContainer()\n",
      "bonds.put(b1)\n",
      "bonds.put(b2)\n",
      "bonds.put(b3)\n",
      "bonds.put(b4)\n",
      "\n",
      "# Removing separate particle and bond objects. This is possible because insertion into the Container objects performs deep copies.\n",
      "del p1, p2, p3, p4, b1, b2, b3, b4"
     ],
     "language": "python",
     "metadata": {},
     "outputs": [],
     "prompt_number": 4
    },
    {
     "cell_type": "heading",
     "level": 3,
     "metadata": {},
     "source": [
      "Initialize StructureContainer with the Particle and Bond Containers"
     ]
    },
    {
     "cell_type": "code",
     "collapsed": false,
     "input": [
      "polymer1 = StructureContainer(atoms1, bonds)\n",
      "del atoms1, bonds"
     ],
     "language": "python",
     "metadata": {},
     "outputs": [],
     "prompt_number": 5
    },
    {
     "cell_type": "heading",
     "level": 3,
     "metadata": {},
     "source": [
      "StructureContainer objects implement a python magic method that enables a 'print' statement to output the objects' contents. Default box lengths and the associated lattice vectors are included. At the bottom are the particle, bond, angle, dihedral labels and the connectivity associated with these 2, 3, 4 body interactions."
     ]
    },
    {
     "cell_type": "code",
     "collapsed": false,
     "input": [
      "print polymer1"
     ],
     "language": "python",
     "metadata": {},
     "outputs": [
      {
       "output_type": "stream",
       "stream": "stdout",
       "text": [
        "\n",
        "---------------------------------------------------------------------\n",
        "    Structure properties \n",
        "---------------------------------------------------------------------\n",
        "      Box lengths: \n",
        "        Lx (A) = [0.0, 1.0]\n",
        "        Ly (A) = [0.0, 1.0]\n",
        "        Lz (A) = [0.0, 1.0]\n",
        "      Volume 1000000.000000  A^3 \n",
        "      Mass 8.250000  AMU \n",
        "      Density 0.000014 g/cm^3 \n",
        "      Lattice vectors \n",
        "        v_i (A)  ( 100.000000 , 0.000000 , 0.000000 ) \n",
        "        v_j (A)  ( 0.000000 , 100.000000 , 0.000000 ) \n",
        "        v_k (A)  ( 0.000000 , 0.000000 , 100.000000 ) \n",
        "\n",
        "      Particles 4 \n",
        "      Bonds  4 \n",
        "      Angles 0 \n",
        "      Dihedrals 0 \n",
        "      Impropers 0 \n",
        "\n",
        " Contains particle objects: \n",
        " 2 :  C 5.000000 2.300000 -22.100000 1.000000 2.340000    \n",
        " 3 :  C 5.000000 2.300000 -20.100000 1.000000 2.340000    \n",
        " 4 :  C 0.000000 2.300000 -20.100000 1.000000 2.340000    \n",
        " 5 :  Si 0.200000 1.300000 33.000000 2.000000 1.230000    \n",
        "\n",
        " Contains bond objects: \n",
        " 1 :  5 - 2    hooke  \n",
        " 2 :  2 - 3    hooke  \n",
        " 3 :  3 - 4    hooke  \n",
        " 4 :  5 - 3    hooke  \n",
        "\n",
        " Contains angle objects: \n",
        "\n",
        " Contains dihedral objects: \n",
        "\n"
       ]
      }
     ],
     "prompt_number": 6
    },
    {
     "cell_type": "heading",
     "level": 3,
     "metadata": {},
     "source": [
      "The diagram below should match with the Particle labels and Bond lists above. The 'b1', 'b2' ... are the bond labels.  NOTE: the particle positions are not true. This illustrates connectivity and labeling only."
     ]
    },
    {
     "cell_type": "code",
     "collapsed": false,
     "input": [
      "print diagramBefore"
     ],
     "language": "python",
     "metadata": {},
     "outputs": [
      {
       "output_type": "stream",
       "stream": "stdout",
       "text": [
        "\n",
        "5--'b1'---2\n",
        " -        |\n",
        "  -       'b2'\n",
        "   'b4'   |\n",
        "     -    |\n",
        "       -  3---'b3'---4\n",
        "\n"
       ]
      }
     ],
     "prompt_number": 7
    },
    {
     "cell_type": "heading",
     "level": 2,
     "metadata": {},
     "source": [
      "Below are example tests of the getSubStructure method in the StructureContainer. All ID's are preserved in the new substructure that is returned. NOTE: the polymer1 object is unchanged after the getSubStructure call"
     ]
    },
    {
     "cell_type": "heading",
     "level": 4,
     "metadata": {},
     "source": [
      "Example 1: Return substructure containing particle ID's --> [5,2]"
     ]
    },
    {
     "cell_type": "code",
     "collapsed": false,
     "input": [
      "subpolymer = polymer1.getSubStructure([5,2])\n",
      "print subpolymer"
     ],
     "language": "python",
     "metadata": {},
     "outputs": [
      {
       "output_type": "stream",
       "stream": "stdout",
       "text": [
        "\n",
        "---------------------------------------------------------------------\n",
        "    Structure properties \n",
        "---------------------------------------------------------------------\n",
        "      Box lengths: \n",
        "        Lx (A) = [0.0, 1.0]\n",
        "        Ly (A) = [0.0, 1.0]\n",
        "        Lz (A) = [0.0, 1.0]\n",
        "      Volume 1000000.000000  A^3 \n",
        "      Mass 3.570000  AMU \n",
        "      Density 0.000006 g/cm^3 \n",
        "      Lattice vectors \n",
        "        v_i (A)  ( 100.000000 , 0.000000 , 0.000000 ) \n",
        "        v_j (A)  ( 0.000000 , 100.000000 , 0.000000 ) \n",
        "        v_k (A)  ( 0.000000 , 0.000000 , 100.000000 ) \n",
        "\n",
        "      Particles 2 \n",
        "      Bonds  1 \n",
        "      Angles 0 \n",
        "      Dihedrals 0 \n",
        "      Impropers 0 \n",
        "\n",
        " Contains particle objects: \n",
        " 2 :  C 5.000000 2.300000 -22.100000 1.000000 2.340000    \n",
        " 5 :  Si 0.200000 1.300000 33.000000 2.000000 1.230000    \n",
        "\n",
        " Contains bond objects: \n",
        " 1 :  5 - 2    hooke  \n",
        "\n",
        " Contains angle objects: \n",
        "\n",
        " Contains dihedral objects: \n",
        "\n"
       ]
      }
     ],
     "prompt_number": 8
    },
    {
     "cell_type": "code",
     "collapsed": false,
     "input": [
      "print \"Before \", diagramBefore\n",
      "print \"After \", diagramAfter1"
     ],
     "language": "python",
     "metadata": {},
     "outputs": [
      {
       "output_type": "stream",
       "stream": "stdout",
       "text": [
        "Before  \n",
        "5--'b1'---2\n",
        " -        |\n",
        "  -       'b2'\n",
        "   'b4'   |\n",
        "     -    |\n",
        "       -  3---'b3'---4\n",
        "\n",
        "After  \n",
        "5--'b1'---2\n",
        "\n"
       ]
      }
     ],
     "prompt_number": 9
    },
    {
     "cell_type": "heading",
     "level": 4,
     "metadata": {},
     "source": [
      "Example 2: Return substructure containing particle ID's --> [2,3,5]"
     ]
    },
    {
     "cell_type": "code",
     "collapsed": false,
     "input": [
      "subpolymer = polymer1.getSubStructure([2,3,5])\n",
      "print subpolymer"
     ],
     "language": "python",
     "metadata": {},
     "outputs": [
      {
       "output_type": "stream",
       "stream": "stdout",
       "text": [
        "Cleaning structureContainer\n",
        "\n",
        "---------------------------------------------------------------------\n",
        "    Structure properties \n",
        "---------------------------------------------------------------------\n",
        "      Box lengths: \n",
        "        Lx (A) = [0.0, 1.0]\n",
        "        Ly (A) = [0.0, 1.0]\n",
        "        Lz (A) = [0.0, 1.0]\n",
        "      Volume 1000000.000000  A^3 \n",
        "      Mass 5.910000  AMU \n",
        "      Density 0.000010 g/cm^3 \n",
        "      Lattice vectors \n",
        "        v_i (A)  ( 100.000000 , 0.000000 , 0.000000 ) \n",
        "        v_j (A)  ( 0.000000 , 100.000000 , 0.000000 ) \n",
        "        v_k (A)  ( 0.000000 , 0.000000 , 100.000000 ) \n",
        "\n",
        "      Particles 3 \n",
        "      Bonds  3 \n",
        "      Angles 0 \n",
        "      Dihedrals 0 \n",
        "      Impropers 0 \n",
        "\n",
        " Contains particle objects: \n",
        " 2 :  C 5.000000 2.300000 -22.100000 1.000000 2.340000    \n",
        " 3 :  C 5.000000 2.300000 -20.100000 1.000000 2.340000    \n",
        " 5 :  Si 0.200000 1.300000 33.000000 2.000000 1.230000    \n",
        "\n",
        " Contains bond objects: \n",
        " 1 :  5 - 2    hooke  \n",
        " 2 :  2 - 3    hooke  \n",
        " 4 :  5 - 3    hooke  \n",
        "\n",
        " Contains angle objects: \n",
        "\n",
        " Contains dihedral objects: \n",
        "\n"
       ]
      }
     ],
     "prompt_number": 10
    },
    {
     "cell_type": "code",
     "collapsed": false,
     "input": [
      "print \"Before \", diagramBefore\n",
      "print \"After \", diagramAfter2"
     ],
     "language": "python",
     "metadata": {},
     "outputs": [
      {
       "output_type": "stream",
       "stream": "stdout",
       "text": [
        "Before  \n",
        "5--'b1'---2\n",
        " -        |\n",
        "  -       'b2'\n",
        "   'b4'   |\n",
        "     -    |\n",
        "       -  3---'b3'---4\n",
        "\n",
        "After  \n",
        "5--'b1'---2\n",
        " -        |\n",
        "  -       'b2'\n",
        "   'b4'   |\n",
        "     -    |\n",
        "       -  3\n",
        "\n"
       ]
      }
     ],
     "prompt_number": 11
    }
   ],
   "metadata": {}
  }
 ]
}