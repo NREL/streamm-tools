{
 "metadata": {
  "signature": "sha256:22c4ea09f103b9ec890880518df53dec00a9d69efd6a13fe9209da981741fa94"
 },
 "nbformat": 3,
 "nbformat_minor": 0,
 "worksheets": [
  {
   "cells": [
    {
     "cell_type": "heading",
     "level": 1,
     "metadata": {},
     "source": [
      "Test for combining StructureContainer-s"
     ]
    },
    {
     "cell_type": "heading",
     "level": 2,
     "metadata": {},
     "source": [
      "This test shows how to add StructureContainer objects together and how indexing changes within each object"
     ]
    },
    {
     "cell_type": "heading",
     "level": 3,
     "metadata": {},
     "source": [
      "Load Particle, Bond and StructureContainer modules"
     ]
    },
    {
     "cell_type": "code",
     "collapsed": false,
     "input": [
      "#!/usr/bin/env python\n",
      "import os, sys, math, random, time\n",
      "\n",
      "from particles import Particle\n",
      "from particles import ParticleContainer\n",
      "\n",
      "from bonds import Bond\n",
      "from bonds import BondContainer\n",
      "\n",
      "from structureContainer import StructureContainer"
     ],
     "language": "python",
     "metadata": {},
     "outputs": [],
     "prompt_number": 13
    },
    {
     "cell_type": "heading",
     "level": 3,
     "metadata": {},
     "source": [
      "Create set of test particle and bond objects"
     ]
    },
    {
     "cell_type": "code",
     "collapsed": false,
     "input": [
      "p1 = Particle( [0.2, 1.3,  33.0], \"Si\", 2.0, 1.23)\n",
      "p2 = Particle( [5.0, 2.3, -22.1], \"C\",  1.0, 2.34)\n",
      "p3 = Particle( [5.0, 2.3, -20.1], \"C\",  1.0, 2.34)\n",
      "\n",
      "b1 = Bond( 1, 2, 1.233, \"hooke\")\n",
      "b2 = Bond( 2, 3, 0.500, \"hooke\")"
     ],
     "language": "python",
     "metadata": {},
     "outputs": [],
     "prompt_number": 14
    },
    {
     "cell_type": "heading",
     "level": 3,
     "metadata": {},
     "source": [
      "Push particle and bond objects into their respective containers and then use these to build the 'first' StructureContainer"
     ]
    },
    {
     "cell_type": "code",
     "collapsed": false,
     "input": [
      "atoms1   = ParticleContainer()\n",
      "atoms1.put(p1)\n",
      "atoms1.put(p2)\n",
      "atoms1.put(p3)\n",
      "\n",
      "bonds1   = BondContainer()\n",
      "bonds1.put(b1)\n",
      "bonds1.put(b2)\n",
      "\n",
      "polymer1 = StructureContainer(atoms1, bonds1)  # Complete structure 1 completely"
     ],
     "language": "python",
     "metadata": {},
     "outputs": [
      {
       "output_type": "stream",
       "stream": "stdout",
       "text": [
        "Cleaning structureContainer\n"
       ]
      }
     ],
     "prompt_number": 15
    },
    {
     "cell_type": "heading",
     "level": 3,
     "metadata": {},
     "source": [
      "Create Particle, Bond objects. Then create their containers and final the StructureContainer for the 'second' structure"
     ]
    },
    {
     "cell_type": "code",
     "collapsed": false,
     "input": [
      "p1other = Particle( [0.0, 2.3, -20.1], \"C\",  1.0, 2.34)\n",
      "p2other = Particle( [50.0, 0.3, -0.1], \"Ar\", 2.0, 2.34)\n",
      "\n",
      "b1other = Bond( 1, 2, 1.233, \"hooke\")    # Correct ptclIDs for second structure\n",
      "\n",
      "atoms2 = ParticleContainer()\n",
      "atoms2.put(p1other)\n",
      "atoms2.put(p2other)\n",
      "\n",
      "bonds2   = BondContainer()\n",
      "bonds2.put(b1other)\n",
      "\n",
      "polymer2 = StructureContainer(atoms2, bonds2)  # Complete structure 2\n",
      "print \"Number of particles in polymer2 = \", polymer2.getPtclNum()"
     ],
     "language": "python",
     "metadata": {},
     "outputs": [
      {
       "output_type": "stream",
       "stream": "stdout",
       "text": [
        "Cleaning structureContainer\n",
        "Number of particles in polymer2 =  2\n"
       ]
      }
     ],
     "prompt_number": 16
    },
    {
     "cell_type": "heading",
     "level": 3,
     "metadata": {},
     "source": [
      "Clean all auxillary data objects, then one is left with only the StructureContainer-s '1' and '2'"
     ]
    },
    {
     "cell_type": "code",
     "collapsed": false,
     "input": [
      "del p1, p2, p3, p1other, p2other, b1, b2, b1other, atoms1, atoms2, bonds1, bonds2\n",
      "print \"\\n Cleaning memory for initial objects \\n\" "
     ],
     "language": "python",
     "metadata": {},
     "outputs": [
      {
       "output_type": "stream",
       "stream": "stdout",
       "text": [
        "\n",
        " Cleaning memory for initial objects \n",
        "\n"
       ]
      }
     ],
     "prompt_number": 17
    },
    {
     "cell_type": "heading",
     "level": 3,
     "metadata": {},
     "source": [
      "Structure containers initial state, before adding"
     ]
    },
    {
     "cell_type": "code",
     "collapsed": false,
     "input": [
      "print \"polymer1 = \", polymer1\n",
      "print \"polymer2 = \", polymer2"
     ],
     "language": "python",
     "metadata": {},
     "outputs": [
      {
       "output_type": "stream",
       "stream": "stdout",
       "text": [
        "polymer1 =  \n",
        "---------------------------------------------------------------------\n",
        "    Structure properties \n",
        "---------------------------------------------------------------------\n",
        "      Box lengths: \n",
        "        Lx (A) = [0.0, 1.0]\n",
        "        Ly (A) = [0.0, 1.0]\n",
        "        Lz (A) = [0.0, 1.0]\n",
        "      Volume 1000000.000000  A^3 \n",
        "      Mass 5.910000  AMU \n",
        "      Density 0.000010 g/cm^3 \n",
        "      Lattice vectors \n",
        "        v_i (A)  ( 100.000000 , 0.000000 , 0.000000 ) \n",
        "        v_j (A)  ( 0.000000 , 100.000000 , 0.000000 ) \n",
        "        v_k (A)  ( 0.000000 , 0.000000 , 100.000000 ) \n",
        "\n",
        "      Particles 3 \n",
        "      Bonds  2 \n",
        "      Angles 0 \n",
        "      Dihedrals 0 \n",
        "      Impropers 0 \n",
        "\n",
        " Contains particle objects: \n",
        " 1 :  Si 0.200000 1.300000 33.000000 2.000000 1.230000    \n",
        " 2 :  C 5.000000 2.300000 -22.100000 1.000000 2.340000    \n",
        " 3 :  C 5.000000 2.300000 -20.100000 1.000000 2.340000    \n",
        "\n",
        " Contains bond objects: \n",
        " 1 :  1 - 2    hooke  \n",
        " 2 :  2 - 3    hooke  \n",
        "\n",
        " Contains angle objects: \n",
        "\n",
        " Contains dihedral objects: \n",
        "\n",
        "polymer2 =  \n",
        "---------------------------------------------------------------------\n",
        "    Structure properties \n",
        "---------------------------------------------------------------------\n",
        "      Box lengths: \n",
        "        Lx (A) = [0.0, 1.0]\n",
        "        Ly (A) = [0.0, 1.0]\n",
        "        Lz (A) = [0.0, 1.0]\n",
        "      Volume 1000000.000000  A^3 \n",
        "      Mass 4.680000  AMU \n",
        "      Density 0.000008 g/cm^3 \n",
        "      Lattice vectors \n",
        "        v_i (A)  ( 100.000000 , 0.000000 , 0.000000 ) \n",
        "        v_j (A)  ( 0.000000 , 100.000000 , 0.000000 ) \n",
        "        v_k (A)  ( 0.000000 , 0.000000 , 100.000000 ) \n",
        "\n",
        "      Particles 2 \n",
        "      Bonds  1 \n",
        "      Angles 0 \n",
        "      Dihedrals 0 \n",
        "      Impropers 0 \n",
        "\n",
        " Contains particle objects: \n",
        " 1 :  C 0.000000 2.300000 -20.100000 1.000000 2.340000    \n",
        " 2 :  Ar 50.000000 0.300000 -0.100000 2.000000 2.340000    \n",
        "\n",
        " Contains bond objects: \n",
        " 1 :  1 - 2    hooke  \n",
        "\n",
        " Contains angle objects: \n",
        "\n",
        " Contains dihedral objects: \n",
        "\n"
       ]
      }
     ],
     "prompt_number": 18
    },
    {
     "cell_type": "heading",
     "level": 3,
     "metadata": {},
     "source": [
      "Use the '+=' magic method to add the contents of polymer2 into the StructureContainer polymer1"
     ]
    },
    {
     "cell_type": "code",
     "collapsed": false,
     "input": [
      "polymer1 += polymer2\n",
      "print \"polymer1 = \", polymer1\n",
      "print \"Number of particles in polymer1 after add = \", polymer1.getPtclNum()"
     ],
     "language": "python",
     "metadata": {},
     "outputs": [
      {
       "output_type": "stream",
       "stream": "stdout",
       "text": [
        "polymer1 =  \n",
        "---------------------------------------------------------------------\n",
        "    Structure properties \n",
        "---------------------------------------------------------------------\n",
        "      Box lengths: \n",
        "        Lx (A) = [0.0, 1.0]\n",
        "        Ly (A) = [0.0, 1.0]\n",
        "        Lz (A) = [0.0, 1.0]\n",
        "      Volume 1000000.000000  A^3 \n",
        "      Mass 10.590000  AMU \n",
        "      Density 0.000018 g/cm^3 \n",
        "      Lattice vectors \n",
        "        v_i (A)  ( 100.000000 , 0.000000 , 0.000000 ) \n",
        "        v_j (A)  ( 0.000000 , 100.000000 , 0.000000 ) \n",
        "        v_k (A)  ( 0.000000 , 0.000000 , 100.000000 ) \n",
        "\n",
        "      Particles 5 \n",
        "      Bonds  3 \n",
        "      Angles 0 \n",
        "      Dihedrals 0 \n",
        "      Impropers 0 \n",
        "\n",
        " Contains particle objects: \n",
        " 1 :  Si 0.200000 1.300000 33.000000 2.000000 1.230000    \n",
        " 2 :  C 5.000000 2.300000 -22.100000 1.000000 2.340000    \n",
        " 3 :  C 5.000000 2.300000 -20.100000 1.000000 2.340000    \n",
        " 4 :  C 0.000000 2.300000 -20.100000 1.000000 2.340000    \n",
        " 5 :  Ar 50.000000 0.300000 -0.100000 2.000000 2.340000    \n",
        "\n",
        " Contains bond objects: \n",
        " 1 :  1 - 2    hooke  \n",
        " 2 :  2 - 3    hooke  \n",
        " 3 :  4 - 5    hooke  \n",
        "\n",
        " Contains angle objects: \n",
        "\n",
        " Contains dihedral objects: \n",
        "\n",
        "Number of particles in polymer1 after add =  5\n"
       ]
      }
     ],
     "prompt_number": 19
    },
    {
     "cell_type": "heading",
     "level": 3,
     "metadata": {},
     "source": [
      "-------------------- Results (check above) --------------------"
     ]
    },
    {
     "cell_type": "heading",
     "level": 3,
     "metadata": {},
     "source": [
      "1---b1---2---b2---3 + 1---b1----2   should go to \\n"
     ]
    },
    {
     "cell_type": "heading",
     "level": 3,
     "metadata": {},
     "source": [
      "1---b1---2---b2---3   4---b3----5 \\n"
     ]
    },
    {
     "cell_type": "heading",
     "level": 3,
     "metadata": {},
     "source": [
      " After adding, polymer2 should be unchanged"
     ]
    },
    {
     "cell_type": "code",
     "collapsed": false,
     "input": [
      "print \"polymer2 = \", polymer2"
     ],
     "language": "python",
     "metadata": {},
     "outputs": [
      {
       "output_type": "stream",
       "stream": "stdout",
       "text": [
        "polymer2 =  \n",
        "---------------------------------------------------------------------\n",
        "    Structure properties \n",
        "---------------------------------------------------------------------\n",
        "      Box lengths: \n",
        "        Lx (A) = [0.0, 1.0]\n",
        "        Ly (A) = [0.0, 1.0]\n",
        "        Lz (A) = [0.0, 1.0]\n",
        "      Volume 1000000.000000  A^3 \n",
        "      Mass 4.680000  AMU \n",
        "      Density 0.000008 g/cm^3 \n",
        "      Lattice vectors \n",
        "        v_i (A)  ( 100.000000 , 0.000000 , 0.000000 ) \n",
        "        v_j (A)  ( 0.000000 , 100.000000 , 0.000000 ) \n",
        "        v_k (A)  ( 0.000000 , 0.000000 , 100.000000 ) \n",
        "\n",
        "      Particles 2 \n",
        "      Bonds  1 \n",
        "      Angles 0 \n",
        "      Dihedrals 0 \n",
        "      Impropers 0 \n",
        "\n",
        " Contains particle objects: \n",
        " 1 :  C 0.000000 2.300000 -20.100000 1.000000 2.340000    \n",
        " 2 :  Ar 50.000000 0.300000 -0.100000 2.000000 2.340000    \n",
        "\n",
        " Contains bond objects: \n",
        " 1 :  1 - 2    hooke  \n",
        "\n",
        " Contains angle objects: \n",
        "\n",
        " Contains dihedral objects: \n",
        "\n"
       ]
      }
     ],
     "prompt_number": 20
    }
   ],
   "metadata": {}
  }
 ]
}