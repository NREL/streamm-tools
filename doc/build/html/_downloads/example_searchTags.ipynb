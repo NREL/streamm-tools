{
 "metadata": {
  "signature": "sha256:b0df867bdee8333c2990530493779bb295b53a815727f234914899658c42d8ca"
 },
 "nbformat": 3,
 "nbformat_minor": 0,
 "worksheets": [
  {
   "cells": [
    {
     "cell_type": "heading",
     "level": 1,
     "metadata": {},
     "source": [
      "Search by Particle tags example"
     ]
    },
    {
     "cell_type": "heading",
     "level": 2,
     "metadata": {},
     "source": [
      "This test illustrates the search capability for multiple tags and can be combined with class method that returns iterator over search results"
     ]
    },
    {
     "cell_type": "heading",
     "level": 3,
     "metadata": {},
     "source": [
      "Load Particle class modules"
     ]
    },
    {
     "cell_type": "code",
     "collapsed": false,
     "input": [
      "#!/usr/bin/env python\n",
      "import copy\n",
      "import os, sys, math, random, time\n",
      "\n",
      "from particles import Particle\n",
      "from particles import ParticleContainer"
     ],
     "language": "python",
     "metadata": {},
     "outputs": [],
     "prompt_number": 17
    },
    {
     "cell_type": "heading",
     "level": 3,
     "metadata": {},
     "source": [
      "Create test particle data. Custom tags are also created and set for each Particle object"
     ]
    },
    {
     "cell_type": "code",
     "collapsed": false,
     "input": [
      "p1 = Particle( [0.2, 1.3,  33.0], \"Si\", 2.0, 1.23)\n",
      "tagsD = {\"molnum\":1,\"ringnum\":4}\n",
      "p1.setTagsDict(tagsD)\n",
      "\n",
      "p2 = Particle( [5.0, 2.3, -22.1], \"C\",  1.0, 2.34)\n",
      "tagsD = {\"molnum\":2,\"ringnum\":4}\n",
      "p2.setTagsDict(tagsD)\n",
      "\n",
      "p3 = Particle( [5.0, 2.3, -20.1], \"C\",  1.0, 2.34)\n",
      "tagsD = {\"molnum\":1, \"ringnum\":4}\n",
      "p3.setTagsDict(tagsD)\n",
      "\n",
      "p4 = Particle( [0.0, 2.3, -20.1], \"Si\",  1.0, 2.34)\n",
      "tagsD = {\"molnum\":2,\"ringnum\":4}\n",
      "p4.setTagsDict(tagsD)\n",
      "\n",
      "p5 = Particle( [1.0, 2.3, -20.1], \"C\",  1.0, 5.34)\n",
      "tagsD = {\"molnum\":2,\"ringnum\":2}\n",
      "p5.setTagsDict(tagsD)\n",
      "\n",
      "p6 = Particle( [8.0, 2.3, -20.1], \"Si\",  1.0, 8.00)\n",
      "tagsD = {\"molnum\":2,\"ringnum\":3}\n",
      "p6.setTagsDict(tagsD)\n",
      "\n",
      "p7 = Particle( [8.0, 2.3, -20.1], \"O\",  1.0, 8.00)\n",
      "tagsD = {\"molnum\":2,\"ringnum\":3}\n",
      "p7.setTagsDict(tagsD)\n",
      "\n",
      "p8 = Particle( [8.0, 2.3, -20.1], \"O\",  1.0, 8.00)\n",
      "tagsD = {\"molnum\":2,\"ringnum\":3}\n",
      "p8.setTagsDict(tagsD)\n",
      "\n",
      "p9 = Particle( [8.0, 2.3, -20.1], \"H\",  1.0, 8.00)\n",
      "tagsD = {\"molnum\":2,\"ringnum\":3}\n",
      "p9.setTagsDict(tagsD)"
     ],
     "language": "python",
     "metadata": {},
     "outputs": [],
     "prompt_number": 18
    },
    {
     "cell_type": "heading",
     "level": 3,
     "metadata": {},
     "source": [
      "Add Particle objects to ParticleContainer"
     ]
    },
    {
     "cell_type": "code",
     "collapsed": false,
     "input": [
      "atoms1 = ParticleContainer()\n",
      "atoms1.put(p1)\n",
      "atoms1.put(p2)\n",
      "atoms1.put(p3)\n",
      "atoms1.put(p4)\n",
      "atoms1.put(p5)\n",
      "atoms1.put(p6)\n",
      "atoms1.put(p7)\n",
      "atoms1.put(p8)\n",
      "atoms1.put(p9)\n",
      "del p1, p2, p3, p4, p5, p6, p7, p8, p9\n",
      "\n",
      "print \"atoms1 initially contains all of the following\""
     ],
     "language": "python",
     "metadata": {},
     "outputs": [
      {
       "output_type": "stream",
       "stream": "stdout",
       "text": [
        "atoms1 initially contains all of the following\n"
       ]
      }
     ],
     "prompt_number": 19
    },
    {
     "cell_type": "heading",
     "level": 3,
     "metadata": {},
     "source": [
      "Different search tag combinations\n",
      "Note: default tag like 'Si' can be mixed with user defined tags like 'molnum'"
     ]
    },
    {
     "cell_type": "code",
     "collapsed": false,
     "input": [
      "searchD = {'molnum':2, 'type':\"Si\"}\n",
      "print \"Print only atoms1 with search....\", searchD, \"\\n\"\n",
      "subList = atoms1.getParticlesWithTags(searchD)\n",
      "for id, ptcl in atoms1(subList):\n",
      "    print \"id = \", id, \" ptclObj = \",str(ptcl),\" molnum \", ptcl.tagsDict[\"molnum\"],\"ringnum\", ptcl.tagsDict[\"ringnum\"]"
     ],
     "language": "python",
     "metadata": {},
     "outputs": [
      {
       "output_type": "stream",
       "stream": "stdout",
       "text": [
        "Print only atoms1 with search.... {'molnum': 2, 'type': 'Si'} \n",
        "\n",
        "id =  4  ptclObj =   Si 0.000000 2.300000 -20.100000 1.000000 2.340000    molnum  2 ringnum 4\n",
        "id =  6  ptclObj =   Si 8.000000 2.300000 -20.100000 1.000000 8.000000    molnum  2 ringnum 3\n"
       ]
      }
     ],
     "prompt_number": 20
    },
    {
     "cell_type": "code",
     "collapsed": false,
     "input": [
      "searchD = {'molnum':2, 'type':\"Si\",'ringnum':4}\n",
      "print \"Print only atoms1 with search....\", searchD, \"\\n\"\n",
      "subList = atoms1.getParticlesWithTags(searchD)\n",
      "for id, ptcl in atoms1(subList):\n",
      "    print \"id = \", id, \" ptclObj = \",str(ptcl),\" molnum \", ptcl.tagsDict[\"molnum\"],\"ringnum\", ptcl.tagsDict[\"ringnum\"]"
     ],
     "language": "python",
     "metadata": {},
     "outputs": [
      {
       "output_type": "stream",
       "stream": "stdout",
       "text": [
        "Print only atoms1 with search.... {'ringnum': 4, 'molnum': 2, 'type': 'Si'} \n",
        "\n",
        "id =  4  ptclObj =   Si 0.000000 2.300000 -20.100000 1.000000 2.340000    molnum  2 ringnum 4\n"
       ]
      }
     ],
     "prompt_number": 21
    },
    {
     "cell_type": "heading",
     "level": 3,
     "metadata": {},
     "source": [
      "Note: multiple values for the same tag can be search (eg 'ringnum) in a list. This example searches for all particles with type = 'Si' and ringnum '3' or '4'"
     ]
    },
    {
     "cell_type": "code",
     "collapsed": false,
     "input": [
      "searchD = {'type':\"Si\", 'ringnum':[3, 4]}\n",
      "print \"Print only atoms1 with search....\", searchD, \"\\n\"\n",
      "subList = atoms1.getParticlesWithTags(searchD)\n",
      "for id, ptcl in atoms1(subList):\n",
      "    print \"id = \", id, \" ptclObj = \",str(ptcl),\" molnum \", ptcl.tagsDict[\"molnum\"],\"ringnum\", ptcl.tagsDict[\"ringnum\"]"
     ],
     "language": "python",
     "metadata": {},
     "outputs": [
      {
       "output_type": "stream",
       "stream": "stdout",
       "text": [
        "Print only atoms1 with search.... {'ringnum': [3, 4], 'type': 'Si'} \n",
        "\n",
        "id =  1  ptclObj =   Si 0.200000 1.300000 33.000000 2.000000 1.230000    molnum  1 ringnum 4\n",
        "id =  4  ptclObj =   Si 0.000000 2.300000 -20.100000 1.000000 2.340000    molnum  2 ringnum 4\n",
        "id =  6  ptclObj =   Si 8.000000 2.300000 -20.100000 1.000000 8.000000    molnum  2 ringnum 3\n"
       ]
      }
     ],
     "prompt_number": 22
    },
    {
     "cell_type": "code",
     "collapsed": false,
     "input": [
      "searchD = {'type':[\"Si\",\"O\"], 'ringnum':[2, 3, 4]}\n",
      "print \"Print only atoms1 with search....\", searchD, \"\\n\"\n",
      "subList = atoms1.getParticlesWithTags(searchD)\n",
      "for id, ptcl in atoms1(subList):\n",
      "    print \"id = \", id, \" ptclObj = \",str(ptcl),\" molnum \", ptcl.tagsDict[\"molnum\"],\"ringnum\", ptcl.tagsDict[\"ringnum\"]"
     ],
     "language": "python",
     "metadata": {},
     "outputs": [
      {
       "output_type": "stream",
       "stream": "stdout",
       "text": [
        "Print only atoms1 with search.... {'ringnum': [2, 3, 4], 'type': ['Si', 'O']} \n",
        "\n",
        "id =  8  ptclObj =   O 8.000000 2.300000 -20.100000 1.000000 8.000000    molnum  2 ringnum 3\n",
        "id =  1  ptclObj =   Si 0.200000 1.300000 33.000000 2.000000 1.230000    molnum  1 ringnum 4\n",
        "id =  4  ptclObj =   Si 0.000000 2.300000 -20.100000 1.000000 2.340000    molnum  2 ringnum 4\n",
        "id =  6  ptclObj =   Si 8.000000 2.300000 -20.100000 1.000000 8.000000    molnum  2 ringnum 3\n",
        "id =  7  ptclObj =   O 8.000000 2.300000 -20.100000 1.000000 8.000000    molnum  2 ringnum 3\n"
       ]
      }
     ],
     "prompt_number": 23
    }
   ],
   "metadata": {}
  }
 ]
}