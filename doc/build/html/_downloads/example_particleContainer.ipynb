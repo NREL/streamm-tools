{
 "metadata": {
  "signature": "sha256:5aac9b6ed9e54f17eac0ce146b8e9eafe9f5f98752e548a55e28f8753416404a"
 },
 "nbformat": 3,
 "nbformat_minor": 0,
 "worksheets": [
  {
   "cells": [
    {
     "cell_type": "heading",
     "level": 1,
     "metadata": {},
     "source": [
      "Basic Particle class method example"
     ]
    },
    {
     "cell_type": "heading",
     "level": 2,
     "metadata": {},
     "source": [
      "Shows various operators within Particle and ParticleContainer classes. Illustrates memory management structure and access methods."
     ]
    },
    {
     "cell_type": "heading",
     "level": 3,
     "metadata": {},
     "source": [
      "Load Particle modules containing class specifications"
     ]
    },
    {
     "cell_type": "code",
     "collapsed": false,
     "input": [
      "#!/usr/bin/env python\n",
      "\n",
      "import os, sys, math, random, time\n",
      "\n",
      "from particles import Particle\n",
      "from particles import ParticleContainer"
     ],
     "language": "python",
     "metadata": {},
     "outputs": [],
     "prompt_number": 14
    },
    {
     "cell_type": "heading",
     "level": 3,
     "metadata": {},
     "source": [
      "Create set of test particle data"
     ]
    },
    {
     "cell_type": "code",
     "collapsed": false,
     "input": [
      "p1 = Particle( [0.2, 1.3,  33.0], \"Si\", 2.0, 1.23)\n",
      "p2 = Particle( [5.0, 2.3, -22.1], \"C\",  1.0, 2.34)\n",
      "p3 = Particle( [5.0, 2.3, -20.1], \"C\",  1.0, 2.34)\n",
      "p4 = Particle( [0.0, 2.3, -20.1], \"C\",  1.0, 2.34)"
     ],
     "language": "python",
     "metadata": {},
     "outputs": [],
     "prompt_number": 15
    },
    {
     "cell_type": "heading",
     "level": 3,
     "metadata": {},
     "source": [
      "Push Particle objects into ParticleContainer"
     ]
    },
    {
     "cell_type": "code",
     "collapsed": false,
     "input": [
      "atoms1 = ParticleContainer()\n",
      "atoms2 = ParticleContainer()\n",
      "\n",
      "atoms1.put(p1)\n",
      "atoms1.put(p2)\n",
      "#\n",
      "atoms2.put(p3)\n",
      "atoms2.put(p4)\n",
      "\n",
      "del p1, p2, p3, p4\n",
      "print \"\\n Cleaning memory for initial objects \\n\" "
     ],
     "language": "python",
     "metadata": {},
     "outputs": [
      {
       "output_type": "stream",
       "stream": "stdout",
       "text": [
        "\n",
        " Cleaning memory for initial objects \n",
        "\n"
       ]
      }
     ],
     "prompt_number": 16
    },
    {
     "cell_type": "heading",
     "level": 3,
     "metadata": {},
     "source": [
      "Assignment operator returns x as a reference to internal data, which can be used to make direct edits on the ParticleContainer data"
     ]
    },
    {
     "cell_type": "code",
     "collapsed": false,
     "input": [
      "print \"x = atoms1[1] returns x as an effective 'reference' \\n\"\n",
      "x = atoms1[1]\n",
      "print \"x = \", x.__dict__, \"\\n\"\n",
      "x.position=[1.0, 1.0, 1.0]\n",
      "print \"after changing with x.position = [1.0, 1.0, 1.0]\"\n",
      "print \"x = \", x.__dict__, \"\\n\""
     ],
     "language": "python",
     "metadata": {},
     "outputs": [
      {
       "output_type": "stream",
       "stream": "stdout",
       "text": [
        "x = atoms1[1] returns x as an effective 'reference' \n",
        "\n",
        "x =  {'position': [0.2, 1.3, 33.0], 'charge': 2.0, 'type': 'Si', 'mass': 1.23, 'tagsDict': {'type': 'Si'}} \n",
        "\n",
        "after changing with x.position = [1.0, 1.0, 1.0]\n",
        "x =  {'position': [1.0, 1.0, 1.0], 'charge': 2.0, 'type': 'Si', 'mass': 1.23, 'tagsDict': {'type': 'Si'}} \n",
        "\n"
       ]
      }
     ],
     "prompt_number": 17
    },
    {
     "cell_type": "heading",
     "level": 3,
     "metadata": {},
     "source": [
      "This value has been changed by code above"
     ]
    },
    {
     "cell_type": "code",
     "collapsed": false,
     "input": [
      "print \"atoms1 has been changed\"\n",
      "print atoms1"
     ],
     "language": "python",
     "metadata": {},
     "outputs": [
      {
       "output_type": "stream",
       "stream": "stdout",
       "text": [
        "atoms1 has been changed\n",
        "\n",
        " Contains particle objects: \n",
        " 1 :  Si 1.000000 1.000000 1.000000 2.000000 1.230000    \n",
        " 2 :  C 5.000000 2.300000 -22.100000 1.000000 2.340000    \n",
        "\n"
       ]
      }
     ],
     "prompt_number": 18
    },
    {
     "cell_type": "heading",
     "level": 3,
     "metadata": {},
     "source": [
      "Testing the 'delete' method for ParticleContainer"
     ]
    },
    {
     "cell_type": "code",
     "collapsed": false,
     "input": [
      "print \"before, atoms1--> \", atoms1, \"\\n\"\n",
      "del atoms1[2]\n",
      "print \"after 'del atoms1[2]' atoms1 --> \", atoms1, \"\\n\""
     ],
     "language": "python",
     "metadata": {},
     "outputs": [
      {
       "output_type": "stream",
       "stream": "stdout",
       "text": [
        "before, atoms1-->  \n",
        " Contains particle objects: \n",
        " 1 :  Si 1.000000 1.000000 1.000000 2.000000 1.230000    \n",
        " 2 :  C 5.000000 2.300000 -22.100000 1.000000 2.340000    \n",
        " \n",
        "\n",
        "after 'del atoms1[2]' atoms1 -->  \n",
        " Contains particle objects: \n",
        " 1 :  Si 1.000000 1.000000 1.000000 2.000000 1.230000    \n",
        " \n",
        "\n"
       ]
      }
     ],
     "prompt_number": 19
    },
    {
     "cell_type": "heading",
     "level": 3,
     "metadata": {},
     "source": [
      "Demonstrates the 'in' operator which can be used to test if an object contains a data member"
     ]
    },
    {
     "cell_type": "code",
     "collapsed": false,
     "input": [
      "print \"Testing 'in' operator (1 in atoms1)\"\n",
      "if (1 in atoms1):\n",
      "    print \"atoms1 contains gid 1\"\n",
      "else:\n",
      "    print \"key not found in atoms1\"\n",
      "\n",
      "print \" \"\n",
      "    \n",
      "print \"Testing 'in' operator (5 in atoms1)\"\n",
      "if (5 in atoms1):\n",
      "    print \"atoms1 contains gid 5\"\n",
      "else:\n",
      "    print \"key not found in atoms1\""
     ],
     "language": "python",
     "metadata": {},
     "outputs": [
      {
       "output_type": "stream",
       "stream": "stdout",
       "text": [
        "Testing 'in' operator (1 in atoms1)\n",
        "atoms1 contains gid 1\n",
        " \n",
        "Testing 'in' operator (5 in atoms1)\n",
        "key not found in atoms1\n"
       ]
      }
     ],
     "prompt_number": 20
    },
    {
     "cell_type": "heading",
     "level": 3,
     "metadata": {},
     "source": [
      "ParticleContainers can be directly combined with the '+=' operator. Note: Particle object indices within a container are always unique. If indices overlap, the maximun index within the container on the left of the '+=' is used to shift all other indices"
     ]
    },
    {
     "cell_type": "code",
     "collapsed": false,
     "input": [
      "print \" \"\n",
      "atoms1 += atoms2\n",
      "print \"Will print the new atoms1 after adding atoms1 += atoms2\"\n",
      "print atoms1"
     ],
     "language": "python",
     "metadata": {},
     "outputs": [
      {
       "output_type": "stream",
       "stream": "stdout",
       "text": [
        " \n",
        "Will print the new atoms1 after adding atoms1 += atoms2\n",
        "\n",
        " Contains particle objects: \n",
        " 1 :  Si 1.000000 1.000000 1.000000 2.000000 1.230000    \n",
        " 3 :  C 5.000000 2.300000 -20.100000 1.000000 2.340000    \n",
        " 4 :  C 0.000000 2.300000 -20.100000 1.000000 2.340000    \n",
        "\n"
       ]
      }
     ],
     "prompt_number": 21
    }
   ],
   "metadata": {}
  }
 ]
}