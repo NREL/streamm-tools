{
 "cells": [
  {
   "cell_type": "code",
   "execution_count": 1,
   "metadata": {
    "collapsed": true
   },
   "outputs": [],
   "source": [
    "from pprint import pprint"
   ]
  },
  {
   "cell_type": "markdown",
   "metadata": {},
   "source": [
    "The units model is taken from the pymatgen code and modified to contain more unit conversions for the streamm code. "
   ]
  },
  {
   "cell_type": "code",
   "execution_count": 2,
   "metadata": {
    "collapsed": true
   },
   "outputs": [],
   "source": [
    "import pymatgen_core.core.units as units "
   ]
  },
  {
   "cell_type": "markdown",
   "metadata": {},
   "source": [
    "Each object in streamm has a property `_unit_conf` that specifies the units for the object. "
   ]
  },
  {
   "cell_type": "markdown",
   "metadata": {},
   "source": [
    "The default `unit_conf` is in units "
   ]
  },
  {
   "cell_type": "code",
   "execution_count": 3,
   "metadata": {},
   "outputs": [
    {
     "name": "stdout",
     "output_type": "stream",
     "text": [
      "{u'amount': u'atom',\n",
      " u'angle': u'degree',\n",
      " u'capacitance': u'F',\n",
      " u'charge': u'e',\n",
      " u'conductance': u'S',\n",
      " u'current': u'A',\n",
      " u'density': u'amu_nm^3',\n",
      " u'electric_dipole_moment': u'D',\n",
      " u'emf': u'V',\n",
      " u'energy': u'Ha',\n",
      " u'force': u'GN',\n",
      " u'frequency': u'Hz',\n",
      " u'harm_bond_coeff': u'kCalmolsqang',\n",
      " u'intensity': u'cd',\n",
      " u'length': u'ang',\n",
      " u'magnetic_flux': u'Wb',\n",
      " u'mass': u'amu',\n",
      " u'memory': u'Kb',\n",
      " u'power': u'GW',\n",
      " u'pressure': u'KPa',\n",
      " u'resistance': u'ohm',\n",
      " u'temperature': u'K',\n",
      " u'time': u'ns',\n",
      " u'volume': u'nm^3'}\n"
     ]
    }
   ],
   "source": [
    "pprint(units.unit_conf)"
   ]
  },
  {
   "cell_type": "markdown",
   "metadata": {},
   "source": [
    "The units of most objects in streamm can be changed using an `update_units` function associated with that object"
   ]
  },
  {
   "cell_type": "markdown",
   "metadata": {},
   "source": [
    "The units are then converted using a `units_instance`"
   ]
  },
  {
   "cell_type": "markdown",
   "metadata": {},
   "source": [
    "For example to convert units of length"
   ]
  },
  {
   "cell_type": "code",
   "execution_count": 4,
   "metadata": {
    "collapsed": true
   },
   "outputs": [],
   "source": [
    "Unit_instance = units.partial(units.FloatWithUnit, unit_type='length')"
   ]
  },
  {
   "cell_type": "code",
   "execution_count": 5,
   "metadata": {},
   "outputs": [
    {
     "name": "stdout",
     "output_type": "stream",
     "text": [
      "Conversion of ang to nm is 1.0 nm\n"
     ]
    }
   ],
   "source": [
    "value = 10.0 \n",
    "old_unit = 'ang'\n",
    "new_unit = 'nm'\n",
    "print \"Conversion of {} to {} is {}\".format(old_unit,new_unit,Unit_instance(value,old_unit).to(new_unit))"
   ]
  },
  {
   "cell_type": "code",
   "execution_count": 6,
   "metadata": {},
   "outputs": [
    {
     "name": "stdout",
     "output_type": "stream",
     "text": [
      "Conversion of mile to ang is 1.609344e+14 ang\n"
     ]
    }
   ],
   "source": [
    "value = 10.0 \n",
    "old_unit = 'mile'\n",
    "new_unit = 'ang'\n",
    "print \"Conversion of {} to {} is {}\".format(old_unit,new_unit,Unit_instance(value,old_unit).to(new_unit))"
   ]
  },
  {
   "cell_type": "markdown",
   "metadata": {},
   "source": [
    "To convert units of energy "
   ]
  },
  {
   "cell_type": "code",
   "execution_count": 7,
   "metadata": {
    "collapsed": true
   },
   "outputs": [],
   "source": [
    "Unit_instance = units.partial(units.FloatWithUnit, unit_type='energy')"
   ]
  },
  {
   "cell_type": "code",
   "execution_count": 8,
   "metadata": {},
   "outputs": [
    {
     "name": "stdout",
     "output_type": "stream",
     "text": [
      "Conversion of 37.5 kCalmol to kJmol is 156.9 kJmol\n"
     ]
    }
   ],
   "source": [
    "value = 37.500000\n",
    "old_unit = 'kCalmol'\n",
    "new_unit = 'kJmol'\n",
    "print \"Conversion of {} {} to {} is {}\".format(value,old_unit,new_unit,Unit_instance(value,old_unit).to(new_unit))"
   ]
  },
  {
   "cell_type": "code",
   "execution_count": 9,
   "metadata": {},
   "outputs": [
    {
     "name": "stdout",
     "output_type": "stream",
     "text": [
      "Conversion of 1.0 eV to Ha is 0.03674932248 Ha\n",
      "Conversion of 1.0 eV to J is 1.6021766208e-19 J\n",
      "Conversion of 1.0 eV to wavenumber is 8065.5440048 wavenumber\n",
      "Conversion of 1.0 eV to kJmol is 96.4853328825 kJmol\n",
      "Conversion of 1.0 eV to kCalmol is 23.0605480121 kCalmol\n"
     ]
    }
   ],
   "source": [
    "value = 1.0 \n",
    "old_unit = 'eV'\n",
    "for new_unit in ['Ha','J','wavenumber','kJmol','kCalmol']:\n",
    "    print \"Conversion of {} {} to {} is {}\".format(value,old_unit,new_unit,Unit_instance(value,old_unit).to(new_unit))"
   ]
  },
  {
   "cell_type": "markdown",
   "metadata": {},
   "source": [
    "We have special units for bond stretching of energy/length^2"
   ]
  },
  {
   "cell_type": "code",
   "execution_count": 10,
   "metadata": {
    "collapsed": true
   },
   "outputs": [],
   "source": [
    "Unit_instance = units.partial(units.FloatWithUnit, unit_type='harm_bond_coeff')"
   ]
  },
  {
   "cell_type": "code",
   "execution_count": 11,
   "metadata": {},
   "outputs": [
    {
     "name": "stdout",
     "output_type": "stream",
     "text": [
      "Conversion of 367.0 kCalmolsqang to kJmolsqnm is 153552.8 kJmolsqnm\n"
     ]
    }
   ],
   "source": [
    "value = 367.000000\n",
    "old_unit = 'kCalmolsqang'\n",
    "new_unit = 'kJmolsqnm'\n",
    "print \"Conversion of {} {} to {} is {}\".format(value,old_unit,new_unit,Unit_instance(value,old_unit).to(new_unit))"
   ]
  },
  {
   "cell_type": "markdown",
   "metadata": {},
   "source": [
    "Well, that's handy!"
   ]
  }
 ],
 "metadata": {
  "anaconda-cloud": {},
  "kernelspec": {
   "display_name": "Python 2",
   "language": "python",
   "name": "python2"
  },
  "language_info": {
   "codemirror_mode": {
    "name": "ipython",
    "version": 2
   },
   "file_extension": ".py",
   "mimetype": "text/x-python",
   "name": "python",
   "nbconvert_exporter": "python",
   "pygments_lexer": "ipython2",
   "version": "2.7.13"
  }
 },
 "nbformat": 4,
 "nbformat_minor": 2
}
