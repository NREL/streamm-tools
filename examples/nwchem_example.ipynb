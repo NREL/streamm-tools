{
 "cells": [
  {
   "cell_type": "code",
   "execution_count": 1,
   "metadata": {
    "collapsed": true
   },
   "outputs": [],
   "source": [
    "import os \n",
    "from pprint import pprint"
   ]
  },
  {
   "cell_type": "markdown",
   "metadata": {},
   "source": [
    "Check that output from other examples has been generated "
   ]
  },
  {
   "cell_type": "code",
   "execution_count": 2,
   "metadata": {
    "collapsed": true
   },
   "outputs": [],
   "source": [
    "from pathlib2 import Path"
   ]
  },
  {
   "cell_type": "code",
   "execution_count": 3,
   "metadata": {
    "collapsed": true
   },
   "outputs": [],
   "source": [
    "need_files = ['ethane_struc.json']\n",
    "for f in need_files:\n",
    "    path = Path(f)\n",
    "    if not path.is_file():\n",
    "        print(\"Need to run buildingblocks_example.ipynb\")\n",
    "        os.system(\"jupyter nbconvert --to python  buildingblocks_example.ipynb\")\n",
    "        os.system(\"python buildingblocks_example.py\")"
   ]
  },
  {
   "cell_type": "code",
   "execution_count": 4,
   "metadata": {
    "collapsed": true
   },
   "outputs": [],
   "source": [
    "need_files = ['local_res.json','remote_res.json']\n",
    "for f in need_files:\n",
    "    path = Path(f)\n",
    "    if not path.is_file():\n",
    "        print(\"Need to run resource_example.ipynb\")\n",
    "        os.system(\"jupyter nbconvert --to python  resource_example.ipynb\")\n",
    "        os.system(\"python resource_example.py\")"
   ]
  },
  {
   "cell_type": "code",
   "execution_count": 5,
   "metadata": {
    "collapsed": true
   },
   "outputs": [],
   "source": [
    "import streamm"
   ]
  },
  {
   "cell_type": "markdown",
   "metadata": {},
   "source": [
    "Now let's create project and resource to keep track of our work"
   ]
  },
  {
   "cell_type": "code",
   "execution_count": 6,
   "metadata": {
    "collapsed": true
   },
   "outputs": [],
   "source": [
    "nwchem_example = streamm.Project('nwchem_example')\n",
    "res_local = streamm.Resource('local')"
   ]
  },
  {
   "cell_type": "code",
   "execution_count": 7,
   "metadata": {
    "collapsed": true
   },
   "outputs": [],
   "source": [
    "res_local.make_dir()"
   ]
  },
  {
   "cell_type": "markdown",
   "metadata": {},
   "source": [
    "Update relative location of templates directory "
   ]
  },
  {
   "cell_type": "code",
   "execution_count": 8,
   "metadata": {
    "collapsed": true
   },
   "outputs": [],
   "source": [
    "res_local.dir['templates'] =  os.path.join(res_local.dir['home'],'..','templates','')"
   ]
  },
  {
   "cell_type": "markdown",
   "metadata": {},
   "source": [
    "Make sure this is the location of the templates directory that comes with the streamm git repository  https://github.com/NREL/streamm-tools"
   ]
  },
  {
   "cell_type": "code",
   "execution_count": 9,
   "metadata": {},
   "outputs": [
    {
     "name": "stdout",
     "output_type": "stream",
     "text": [
      "/Users/tkemper/Development/streamm-tools/examples/../templates/\n"
     ]
    }
   ],
   "source": [
    "print res_local.dir['templates']"
   ]
  },
  {
   "cell_type": "markdown",
   "metadata": {},
   "source": [
    "Create the local directories that will store our files "
   ]
  },
  {
   "cell_type": "code",
   "execution_count": 10,
   "metadata": {
    "collapsed": true
   },
   "outputs": [],
   "source": [
    "nwchem_example.make_dir()"
   ]
  },
  {
   "cell_type": "markdown",
   "metadata": {},
   "source": [
    "Tell the project about our directories "
   ]
  },
  {
   "cell_type": "code",
   "execution_count": 11,
   "metadata": {
    "collapsed": true
   },
   "outputs": [],
   "source": [
    "nwchem_example.set_resource(res_local)"
   ]
  },
  {
   "cell_type": "markdown",
   "metadata": {},
   "source": [
    "Read in the ethane structure created in the  buildingblocks_example.ipynb example "
   ]
  },
  {
   "cell_type": "code",
   "execution_count": 12,
   "metadata": {
    "collapsed": true
   },
   "outputs": [],
   "source": [
    "ethane = streamm.Buildingblock('ethane')"
   ]
  },
  {
   "cell_type": "code",
   "execution_count": 13,
   "metadata": {
    "collapsed": true
   },
   "outputs": [],
   "source": [
    "ethane.import_json()"
   ]
  },
  {
   "cell_type": "code",
   "execution_count": 14,
   "metadata": {},
   "outputs": [
    {
     "name": "stdout",
     "output_type": "stream",
     "text": [
      " n_particles:8 \n",
      " n_bonds:7\n",
      " n_angles:12\n",
      " n_dihedrals:9\n",
      " n_impropers:0\n"
     ]
    }
   ],
   "source": [
    "print ethane.print_properties()"
   ]
  },
  {
   "cell_type": "markdown",
   "metadata": {},
   "source": [
    "Set the paramkeys so we can identify force field parameters later on"
   ]
  },
  {
   "cell_type": "code",
   "execution_count": 15,
   "metadata": {
    "collapsed": true
   },
   "outputs": [],
   "source": [
    "for pkey,p in ethane.particles.iteritems():\n",
    "    if( p.symbol == 'C' ):\n",
    "        p.paramkey = 'CT'\n",
    "    elif( p.symbol == 'H' ):\n",
    "        p.paramkey = 'HC'"
   ]
  },
  {
   "cell_type": "code",
   "execution_count": 16,
   "metadata": {
    "collapsed": true
   },
   "outputs": [],
   "source": [
    "for pk,p in ethane.particles.iteritems():\n",
    "    p.residue = 1\n",
    "    p.resname = 'ETH'"
   ]
  },
  {
   "cell_type": "markdown",
   "metadata": {},
   "source": [
    "Set `rsite`'s to hydrogens to be replaced during join"
   ]
  },
  {
   "cell_type": "code",
   "execution_count": 17,
   "metadata": {
    "collapsed": true
   },
   "outputs": [],
   "source": [
    "ethane.particles[1].rsite = 'RH'\n",
    "ethane.particles[5].rsite = 'RH'"
   ]
  },
  {
   "cell_type": "markdown",
   "metadata": {},
   "source": [
    "Run `find_rsites()` to populate `func` list"
   ]
  },
  {
   "cell_type": "code",
   "execution_count": 18,
   "metadata": {
    "collapsed": true
   },
   "outputs": [],
   "source": [
    "ethane.find_rsites()"
   ]
  },
  {
   "cell_type": "code",
   "execution_count": 19,
   "metadata": {},
   "outputs": [
    {
     "name": "stdout",
     "output_type": "stream",
     "text": [
      "rsite:RH[ paticle:atom H (H) index:1 n_bonds:1] \n",
      "rsite:RH[ paticle:atom H (H) index:5 n_bonds:1] \n",
      "\n"
     ]
    }
   ],
   "source": [
    "print ethane.show_rsites()"
   ]
  },
  {
   "cell_type": "code",
   "execution_count": 20,
   "metadata": {
    "collapsed": true
   },
   "outputs": [],
   "source": [
    "import copy"
   ]
  },
  {
   "cell_type": "markdown",
   "metadata": {},
   "source": [
    "Create octane from ethane "
   ]
  },
  {
   "cell_type": "markdown",
   "metadata": {},
   "source": [
    "Copy ethane to a new Buildingblock octane "
   ]
  },
  {
   "cell_type": "code",
   "execution_count": 21,
   "metadata": {
    "collapsed": true
   },
   "outputs": [],
   "source": [
    "octane = copy.deepcopy(ethane)"
   ]
  },
  {
   "cell_type": "code",
   "execution_count": 22,
   "metadata": {
    "collapsed": true
   },
   "outputs": [],
   "source": [
    "from streamm.structures.buildingblock import attach"
   ]
  },
  {
   "cell_type": "markdown",
   "metadata": {},
   "source": [
    "Then attach 3 more ethanes to make an octane "
   ]
  },
  {
   "cell_type": "code",
   "execution_count": 23,
   "metadata": {
    "collapsed": true
   },
   "outputs": [],
   "source": [
    "for i in range(3):\n",
    "    octane = attach(octane,ethane,'RH',1,'RH',0)"
   ]
  },
  {
   "cell_type": "code",
   "execution_count": 24,
   "metadata": {
    "collapsed": true
   },
   "outputs": [],
   "source": [
    "octane.tag = 'octane'"
   ]
  },
  {
   "cell_type": "code",
   "execution_count": 25,
   "metadata": {},
   "outputs": [
    {
     "name": "stdout",
     "output_type": "stream",
     "text": [
      "26\n"
     ]
    }
   ],
   "source": [
    "print octane.n_particles"
   ]
  },
  {
   "cell_type": "code",
   "execution_count": 26,
   "metadata": {
    "collapsed": true
   },
   "outputs": [],
   "source": [
    "octane.write_xyz()"
   ]
  },
  {
   "cell_type": "markdown",
   "metadata": {},
   "source": [
    "Update the tag"
   ]
  },
  {
   "cell_type": "code",
   "execution_count": 27,
   "metadata": {},
   "outputs": [],
   "source": [
    "octane.tag = 'octane'"
   ]
  },
  {
   "cell_type": "markdown",
   "metadata": {},
   "source": [
    "Rename the residue and resname for octane"
   ]
  },
  {
   "cell_type": "code",
   "execution_count": 28,
   "metadata": {
    "collapsed": true
   },
   "outputs": [],
   "source": [
    "for pk,p in octane.particles.iteritems():\n",
    "    p.residue = 2\n",
    "    p.resname = \"OCT\""
   ]
  },
  {
   "cell_type": "code",
   "execution_count": 29,
   "metadata": {
    "collapsed": true
   },
   "outputs": [],
   "source": [
    "octane.write_xyz()"
   ]
  },
  {
   "cell_type": "markdown",
   "metadata": {},
   "source": [
    "Create NWChem Calculation object "
   ]
  },
  {
   "cell_type": "code",
   "execution_count": 30,
   "metadata": {
    "collapsed": true
   },
   "outputs": [],
   "source": [
    "nwchem_octane = streamm.NWChem('nw_octane_OPT')"
   ]
  },
  {
   "cell_type": "markdown",
   "metadata": {},
   "source": [
    "Add calculation to project"
   ]
  },
  {
   "cell_type": "code",
   "execution_count": 31,
   "metadata": {
    "collapsed": true
   },
   "outputs": [],
   "source": [
    "nwchem_example.add_calc(nwchem_octane)"
   ]
  },
  {
   "cell_type": "markdown",
   "metadata": {},
   "source": [
    "Set the structure of the calculation to octane"
   ]
  },
  {
   "cell_type": "code",
   "execution_count": 32,
   "metadata": {
    "collapsed": true
   },
   "outputs": [],
   "source": [
    "nwchem_octane.strucC = octane"
   ]
  },
  {
   "cell_type": "markdown",
   "metadata": {},
   "source": [
    "Set the resource to be local"
   ]
  },
  {
   "cell_type": "code",
   "execution_count": 33,
   "metadata": {
    "collapsed": true
   },
   "outputs": [],
   "source": [
    "nwchem_octane.set_resource(res_local)"
   ]
  },
  {
   "cell_type": "markdown",
   "metadata": {},
   "source": [
    "Make the local directories "
   ]
  },
  {
   "cell_type": "code",
   "execution_count": 34,
   "metadata": {
    "collapsed": true
   },
   "outputs": [],
   "source": [
    "nwchem_octane.make_dir()"
   ]
  },
  {
   "cell_type": "markdown",
   "metadata": {},
   "source": [
    "Change to the `scratch` directory"
   ]
  },
  {
   "cell_type": "code",
   "execution_count": 35,
   "metadata": {
    "collapsed": true
   },
   "outputs": [],
   "source": [
    "os.chdir(nwchem_octane.dir['scratch'])"
   ]
  },
  {
   "cell_type": "markdown",
   "metadata": {},
   "source": [
    "Copy the template files to the scratch direcotry "
   ]
  },
  {
   "cell_type": "code",
   "execution_count": 36,
   "metadata": {
    "collapsed": true
   },
   "outputs": [],
   "source": [
    "file_type = 'templates'\n",
    "file_key = 'run'\n",
    "file_name = \"nwchem.sh\"\n",
    "from_dirkey = 'templates'\n",
    "to_dirkey = 'scratch'\n",
    "nwchem_octane.cp_file(file_type,file_key,file_name,from_dirkey,to_dirkey)"
   ]
  },
  {
   "cell_type": "code",
   "execution_count": 37,
   "metadata": {
    "collapsed": true
   },
   "outputs": [],
   "source": [
    "file_type = 'templates'\n",
    "file_key = 'nw'\n",
    "file_name = \"nwchem.nw\"\n",
    "from_dirkey = 'templates'\n",
    "to_dirkey = 'scratch'\n",
    "nwchem_octane.cp_file(file_type,file_key,file_name,from_dirkey,to_dirkey)"
   ]
  },
  {
   "cell_type": "markdown",
   "metadata": {},
   "source": [
    "Read in the template files and add them to the `str` dictionary"
   ]
  },
  {
   "cell_type": "code",
   "execution_count": 38,
   "metadata": {
    "collapsed": true
   },
   "outputs": [],
   "source": [
    "nwchem_octane.load_str('templates','nw')        \n",
    "nwchem_octane.load_str('templates','run')"
   ]
  },
  {
   "cell_type": "markdown",
   "metadata": {},
   "source": [
    "Set the properties dictionary to desired calculation details"
   ]
  },
  {
   "cell_type": "code",
   "execution_count": 39,
   "metadata": {
    "collapsed": true
   },
   "outputs": [],
   "source": [
    "nwchem_octane.properties['basis'] = '6-31g'\n",
    "nwchem_octane.properties['method'] = 'UHF'\n",
    "nwchem_octane.properties['charge'] = 0\n",
    "nwchem_octane.properties['spin_mult'] = 1\n",
    "nwchem_octane.properties['task'] = 'SCF optimize'\n",
    "nwchem_octane.properties['coord'] = nwchem_octane.strucC.write_coord()"
   ]
  },
  {
   "cell_type": "code",
   "execution_count": 40,
   "metadata": {},
   "outputs": [
    {
     "name": "stdout",
     "output_type": "stream",
     "text": [
      "{u'allocation': u'',\n",
      " u'basis': '6-31g',\n",
      " u'charge': 0,\n",
      " 'comp_key': 'compressed',\n",
      " 'compress': 'tar -czf ',\n",
      " 'compress_sufix': 'tgz',\n",
      " 'coord': u'     C       4.02000001       1.81801533      -3.32560073 \\n     H       5.22000000       1.81801533      -3.32560073 \\n     H       3.62000002       1.22964308      -4.29194336 \\n     H       3.62000002       2.94907872      -3.35197474 \\n     C       3.57333334       1.21201022      -2.21706715 \\n     H       3.97333333       1.80038247      -1.25072452 \\n     H       3.97333333       0.08094683      -2.19069315 \\n     C       2.23333334       1.21201022      -2.21706715 \\n     H       1.83333335       0.62363797      -3.18340979 \\n     H       1.83333335       2.34307361      -2.24344116 \\n     C       1.78666667       0.60600511      -1.10853358 \\n     H       2.18666666       1.19437736      -0.14219095 \\n     H       2.18666666      -0.52505828      -1.08215957 \\n     C       0.44666667       0.60600511      -1.10853358 \\n     H       0.04666668       0.01763286      -2.07487621 \\n     H       0.04666668       1.73706850      -1.13490758 \\n     C       0.00000000       0.00000000       0.00000000 \\n     H       0.39999999       0.58837225       0.96634263 \\n     H       0.39999999      -1.13106339       0.02637400 \\n     C      -1.34000000       0.00000000       0.00000000 \\n     H      -1.73999999      -0.58837225      -0.96634263 \\n     H      -1.73999999       1.13106339      -0.02637400 \\n     C      -1.78666667      -0.60600511       1.10853358 \\n     H      -2.98666666      -0.60600511       1.10853358 \\n     H      -1.38666668      -0.01763286       2.07487621 \\n     H      -1.38666668      -1.73706850       1.13490758 \\n',\n",
      " u'exe_command': u'./',\n",
      " u'feature': u'24core',\n",
      " u'finish_str': u'Total times  cpu:',\n",
      " u'maxiter': 100,\n",
      " u'method': 'UHF',\n",
      " u'nodes': 1,\n",
      " u'nproc': 1,\n",
      " u'pmem': 1500,\n",
      " u'ppn': 1,\n",
      " u'queue': u'batch',\n",
      " 'scratch': u'/Users/tkemper/Development/streamm-tools/examples/scratch/nw_octane_OPT/',\n",
      " u'spin_mult': 1,\n",
      " u'task': 'SCF optimize',\n",
      " 'uncompress': 'tar -xzf ',\n",
      " u'walltime': 24}\n"
     ]
    }
   ],
   "source": [
    "pprint(nwchem_octane.properties)"
   ]
  },
  {
   "cell_type": "markdown",
   "metadata": {},
   "source": [
    "Replace the keys in the template strings and write the input files "
   ]
  },
  {
   "cell_type": "code",
   "execution_count": 41,
   "metadata": {
    "collapsed": true
   },
   "outputs": [],
   "source": [
    "nwchem_octane.replacewrite_prop('nw','input','nw','%s.nw'%(nwchem_octane.tag))"
   ]
  },
  {
   "cell_type": "markdown",
   "metadata": {},
   "source": [
    "Add the input file to the properties to be written into the run file"
   ]
  },
  {
   "cell_type": "code",
   "execution_count": 42,
   "metadata": {
    "collapsed": true
   },
   "outputs": [],
   "source": [
    "nwchem_octane.properties['input_nw'] = nwchem_octane.files['input']['nw']\n",
    "nwchem_octane.replacewrite_prop('run','scripts','run','%s.sh'%(nwchem_octane.tag))"
   ]
  },
  {
   "cell_type": "markdown",
   "metadata": {},
   "source": [
    "Add the log file to the files dictionary "
   ]
  },
  {
   "cell_type": "code",
   "execution_count": 43,
   "metadata": {
    "collapsed": true
   },
   "outputs": [],
   "source": [
    "file_type = 'output'\n",
    "file_key = 'log'\n",
    "file_name = \"%s.log\"%(nwchem_octane.tag)\n",
    "nwchem_octane.add_file(file_type,file_key,file_name)"
   ]
  },
  {
   "cell_type": "markdown",
   "metadata": {},
   "source": [
    "Change back to the root directory and write a json file"
   ]
  },
  {
   "cell_type": "code",
   "execution_count": 44,
   "metadata": {},
   "outputs": [
    {
     "data": {
      "text/plain": [
       "{u'calculations': {'nw_octane_OPT': u'nwchem'},\n",
       " u'meta': {'date': '2017-11-14T19:36:56.244639',\n",
       "  'software': u'streamm_proj',\n",
       "  'status': 'written'},\n",
       " u'resources': ['local']}"
      ]
     },
     "execution_count": 44,
     "metadata": {},
     "output_type": "execute_result"
    }
   ],
   "source": [
    "os.chdir(nwchem_example.dir['home'])\n",
    "nwchem_example.export_json()"
   ]
  },
  {
   "cell_type": "markdown",
   "metadata": {},
   "source": [
    "Change back to scratch"
   ]
  },
  {
   "cell_type": "code",
   "execution_count": 45,
   "metadata": {},
   "outputs": [
    {
     "name": "stdout",
     "output_type": "stream",
     "text": [
      "/Users/tkemper/Development/streamm-tools/examples\n"
     ]
    }
   ],
   "source": [
    "print nwchem_example.dir['scratch']"
   ]
  },
  {
   "cell_type": "code",
   "execution_count": 46,
   "metadata": {
    "collapsed": true
   },
   "outputs": [],
   "source": [
    "os.chdir(nwchem_example.dir['scratch'])"
   ]
  },
  {
   "cell_type": "markdown",
   "metadata": {},
   "source": [
    "Run the bash script for the calculation or submit the job to the cluster"
   ]
  },
  {
   "cell_type": "code",
   "execution_count": 47,
   "metadata": {},
   "outputs": [
    {
     "name": "stdout",
     "output_type": "stream",
     "text": [
      "nw_octane_OPT\n"
     ]
    }
   ],
   "source": [
    "print nwchem_octane.tag"
   ]
  },
  {
   "cell_type": "code",
   "execution_count": 48,
   "metadata": {
    "collapsed": true
   },
   "outputs": [],
   "source": [
    "nwchem_octane.run()"
   ]
  },
  {
   "cell_type": "markdown",
   "metadata": {},
   "source": [
    "Check the status of all the calculations in the project"
   ]
  },
  {
   "cell_type": "code",
   "execution_count": 49,
   "metadata": {},
   "outputs": [
    {
     "name": "stdout",
     "output_type": "stream",
     "text": [
      "Calculation nw_octane_OPT has status written\n"
     ]
    }
   ],
   "source": [
    "nwchem_example.check()"
   ]
  },
  {
   "cell_type": "markdown",
   "metadata": {},
   "source": [
    "Run the analysis"
   ]
  },
  {
   "cell_type": "code",
   "execution_count": 50,
   "metadata": {},
   "outputs": [
    {
     "name": "stdout",
     "output_type": "stream",
     "text": [
      "File nw_octane_OPT.log not found \n"
     ]
    }
   ],
   "source": [
    "nwchem_octane.analysis()"
   ]
  },
  {
   "cell_type": "markdown",
   "metadata": {},
   "source": [
    "Tar and zip the results and copy them to a storage location"
   ]
  },
  {
   "cell_type": "code",
   "execution_count": 51,
   "metadata": {
    "collapsed": true
   },
   "outputs": [],
   "source": [
    "nwchem_example.store()"
   ]
  },
  {
   "cell_type": "markdown",
   "metadata": {},
   "source": [
    "Save json in home directory"
   ]
  },
  {
   "cell_type": "code",
   "execution_count": 52,
   "metadata": {},
   "outputs": [
    {
     "data": {
      "text/plain": [
       "{u'calculations': {'nw_octane_OPT': u'nwchem'},\n",
       " u'meta': {'date': '2017-11-14T19:36:56.244639',\n",
       "  'software': u'streamm_proj',\n",
       "  'status': 'written'},\n",
       " u'resources': ['local']}"
      ]
     },
     "execution_count": 52,
     "metadata": {},
     "output_type": "execute_result"
    }
   ],
   "source": [
    "os.chdir(nwchem_example.dir['home'])\n",
    "nwchem_example.export_json()"
   ]
  }
 ],
 "metadata": {
  "anaconda-cloud": {},
  "kernelspec": {
   "display_name": "Python 2",
   "language": "python",
   "name": "python2"
  },
  "language_info": {
   "codemirror_mode": {
    "name": "ipython",
    "version": 2
   },
   "file_extension": ".py",
   "mimetype": "text/x-python",
   "name": "python",
   "nbconvert_exporter": "python",
   "pygments_lexer": "ipython2",
   "version": "2.7.13"
  }
 },
 "nbformat": 4,
 "nbformat_minor": 2
}
