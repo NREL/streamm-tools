{
 "cells": [
  {
   "cell_type": "code",
   "execution_count": 1,
   "metadata": {
    "collapsed": true
   },
   "outputs": [],
   "source": [
    "import streamm"
   ]
  },
  {
   "cell_type": "code",
   "execution_count": 2,
   "metadata": {},
   "outputs": [],
   "source": [
    "methane = streamm.Buildingblock('methane')"
   ]
  },
  {
   "cell_type": "code",
   "execution_count": 3,
   "metadata": {
    "collapsed": true
   },
   "outputs": [],
   "source": [
    "C = streamm.Particle(symbol='C')\n",
    "H = streamm.Particle(symbol='H')"
   ]
  },
  {
   "cell_type": "code",
   "execution_count": 4,
   "metadata": {},
   "outputs": [],
   "source": [
    "methane.add_partpos(C,[0.0,0.0,0.0])\n",
    "methane.add_partpos(H,[0.69,0.69,0.69])\n",
    "methane.add_partpos(H,[-0.69,-0.69,0.69])\n",
    "methane.add_partpos(H,[-0.69,0.69,-0.69])\n",
    "methane.add_partpos(H,[0.69,-0.69,-0.69])"
   ]
  },
  {
   "cell_type": "code",
   "execution_count": 5,
   "metadata": {
    "collapsed": true
   },
   "outputs": [],
   "source": [
    "methane.bonded_nblist = methane.guess_nblist(0,radii_buffer=1.25)"
   ]
  },
  {
   "cell_type": "code",
   "execution_count": 6,
   "metadata": {},
   "outputs": [
    {
     "name": "stdout",
     "output_type": "stream",
     "text": [
      "0 atom[0] C (C) [ 0.  0.  0.] 4 ang\n",
      "1 atom[1] H (H) [ 0.69  0.69  0.69] 1 ang\n",
      "2 atom[2] H (H) [-0.69 -0.69  0.69] 1 ang\n",
      "3 atom[3] H (H) [-0.69  0.69 -0.69] 1 ang\n",
      "4 atom[4] H (H) [ 0.69 -0.69 -0.69] 1 ang\n"
     ]
    }
   ],
   "source": [
    "for p_index,particle_i in methane.particles.iteritems():\n",
    "    print p_index,particle_i,methane.positions[p_index],methane.bonded_nblist.calc_nnab(p_index),methane.unit_conf['length']"
   ]
  },
  {
   "cell_type": "code",
   "execution_count": 7,
   "metadata": {
    "collapsed": true
   },
   "outputs": [],
   "source": [
    "methane.bonded_bonds()\n",
    "methane.bonded_angles()\n",
    "methane.bonded_dih()"
   ]
  },
  {
   "cell_type": "code",
   "execution_count": 8,
   "metadata": {},
   "outputs": [
    {
     "name": "stdout",
     "output_type": "stream",
     "text": [
      " n_particles:5 \n",
      " n_bonds:4\n",
      " n_angles:6\n",
      " n_dihedrals:0\n",
      " n_impropers:0\n"
     ]
    }
   ],
   "source": [
    "print methane.print_properties()"
   ]
  },
  {
   "cell_type": "code",
   "execution_count": 9,
   "metadata": {
    "collapsed": true
   },
   "outputs": [],
   "source": [
    "methane.particles[1].rsite = 'RH'"
   ]
  },
  {
   "cell_type": "code",
   "execution_count": 10,
   "metadata": {
    "collapsed": true
   },
   "outputs": [],
   "source": [
    "methane.particles[2].rsite = 'RH'"
   ]
  },
  {
   "cell_type": "code",
   "execution_count": 11,
   "metadata": {},
   "outputs": [
    {
     "name": "stdout",
     "output_type": "stream",
     "text": [
      "rsite:RH[ paticle:atom[1] H (H) index:1 n_bonds:1] \n",
      "rsite:RH[ paticle:atom[2] H (H) index:2 n_bonds:1] \n",
      "\n"
     ]
    }
   ],
   "source": [
    "methane.find_rsites()\n",
    "print methane.show_rsites()"
   ]
  },
  {
   "cell_type": "code",
   "execution_count": 12,
   "metadata": {},
   "outputs": [],
   "source": [
    "import streamm.structures.buildingblock as bb"
   ]
  },
  {
   "cell_type": "code",
   "execution_count": 13,
   "metadata": {},
   "outputs": [],
   "source": [
    "ethane = bb.attach(methane,methane,'RH',0,'RH',1,tag='ethane')"
   ]
  },
  {
   "cell_type": "code",
   "execution_count": 14,
   "metadata": {},
   "outputs": [],
   "source": [
    "oplsaa = streamm.Parameters('oplsaa')"
   ]
  },
  {
   "cell_type": "code",
   "execution_count": 15,
   "metadata": {
    "collapsed": true
   },
   "outputs": [],
   "source": [
    "oplsaa.update_units({'energy':'kCalmol'})"
   ]
  },
  {
   "cell_type": "code",
   "execution_count": 16,
   "metadata": {
    "collapsed": true
   },
   "outputs": [],
   "source": [
    "CT = streamm.Particletype('CT',unit_conf=oplsaa.unit_conf)\n",
    "HC = streamm.Particletype('HC',unit_conf=oplsaa.unit_conf)"
   ]
  },
  {
   "cell_type": "code",
   "execution_count": 17,
   "metadata": {
    "collapsed": true
   },
   "outputs": [],
   "source": [
    "CT.epsilon = 0.066 # kcal/mol\n",
    "CT.sigma = 3.5 # Angstroms \n",
    "CT.mass = 12.0107\n",
    "HC.epsilon = 0.03 # kcal/mol\n",
    "HC.sigma = 2.5 # Angstroms \n",
    "HC.mass = 1.00794"
   ]
  },
  {
   "cell_type": "code",
   "execution_count": 18,
   "metadata": {
    "collapsed": true
   },
   "outputs": [],
   "source": [
    "oplsaa.add_particletype(CT)\n",
    "oplsaa.add_particletype(HC)"
   ]
  },
  {
   "cell_type": "code",
   "execution_count": 19,
   "metadata": {
    "collapsed": true
   },
   "outputs": [],
   "source": [
    "C_H = streamm.Bondtype('CT','HC',unit_conf=oplsaa.unit_conf)\n",
    "C_H.setharmonic(1.080,367.0)\n",
    "C_C = streamm.Bondtype('CT','CT',unit_conf=oplsaa.unit_conf)\n",
    "C_C.setharmonic(1.080,367.0)"
   ]
  },
  {
   "cell_type": "code",
   "execution_count": 20,
   "metadata": {
    "collapsed": true
   },
   "outputs": [],
   "source": [
    "oplsaa.add_bondtype(C_H)\n",
    "oplsaa.add_bondtype(C_C)"
   ]
  },
  {
   "cell_type": "code",
   "execution_count": 21,
   "metadata": {},
   "outputs": [],
   "source": [
    "H_C_H = streamm.Angletype('HC','CT','HC',unit_conf=oplsaa.unit_conf)\n",
    "H_C_H.setharmonic(110.7,37.50)\n",
    "H_C_C = streamm.Angletype('HC','CT','CT',unit_conf=oplsaa.unit_conf)\n",
    "H_C_C.setharmonic(90.7,60.50)"
   ]
  },
  {
   "cell_type": "code",
   "execution_count": 22,
   "metadata": {
    "collapsed": true
   },
   "outputs": [],
   "source": [
    "oplsaa.add_angletype(H_C_H)\n",
    "oplsaa.add_angletype(H_C_C)"
   ]
  },
  {
   "cell_type": "code",
   "execution_count": 39,
   "metadata": {},
   "outputs": [
    {
     "name": "stdout",
     "output_type": "stream",
     "text": [
      "CT 4\n",
      "HC 1\n",
      "HC 1\n",
      "HC 1\n",
      "CT 4\n",
      "HC 1\n",
      "HC 1\n",
      "HC 1\n"
     ]
    }
   ],
   "source": [
    "for pk,p in ethane.particles.iteritems():\n",
    "    if( p.symbol == 'C' ):\n",
    "        p.paramkey = 'CT'\n",
    "    elif( p.symbol == 'H' ):\n",
    "        p.paramkey = 'HC' \n",
    "    print p.paramkey ,ethane.bonded_nblist.calc_nnab(pk)\n",
    "\n"
   ]
  },
  {
   "cell_type": "code",
   "execution_count": 40,
   "metadata": {},
   "outputs": [],
   "source": [
    "md_calc = streamm.LAMMPS('ethane_md')"
   ]
  },
  {
   "cell_type": "code",
   "execution_count": 41,
   "metadata": {
    "collapsed": true
   },
   "outputs": [],
   "source": [
    "ethane.update_units(md_calc.unit_conf)"
   ]
  },
  {
   "cell_type": "code",
   "execution_count": 42,
   "metadata": {
    "collapsed": true
   },
   "outputs": [],
   "source": [
    "oplsaa.update_units(md_calc.unit_conf)"
   ]
  },
  {
   "cell_type": "code",
   "execution_count": 43,
   "metadata": {
    "collapsed": true
   },
   "outputs": [],
   "source": [
    "md_calc.strucC = ethane"
   ]
  },
  {
   "cell_type": "code",
   "execution_count": 44,
   "metadata": {
    "collapsed": true
   },
   "outputs": [],
   "source": [
    "md_calc.paramC = oplsaa"
   ]
  },
  {
   "cell_type": "code",
   "execution_count": 46,
   "metadata": {},
   "outputs": [],
   "source": [
    "md_calc.set_ffparam()"
   ]
  },
  {
   "cell_type": "code",
   "execution_count": 47,
   "metadata": {
    "collapsed": true
   },
   "outputs": [],
   "source": [
    "md_calc.write_data()"
   ]
  },
  {
   "cell_type": "code",
   "execution_count": null,
   "metadata": {
    "collapsed": true
   },
   "outputs": [],
   "source": []
  }
 ],
 "metadata": {
  "kernelspec": {
   "display_name": "Python 2",
   "language": "python",
   "name": "python2"
  },
  "language_info": {
   "codemirror_mode": {
    "name": "ipython",
    "version": 2
   },
   "file_extension": ".py",
   "mimetype": "text/x-python",
   "name": "python",
   "nbconvert_exporter": "python",
   "pygments_lexer": "ipython2",
   "version": "2.7.13"
  }
 },
 "nbformat": 4,
 "nbformat_minor": 2
}
