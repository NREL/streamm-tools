{
 "cells": [
  {
   "cell_type": "code",
   "execution_count": 35,
   "metadata": {
    "collapsed": true
   },
   "outputs": [],
   "source": [
    "import os,sys, copy, pickle"
   ]
  },
  {
   "cell_type": "code",
   "execution_count": 36,
   "metadata": {
    "collapsed": true
   },
   "outputs": [],
   "source": [
    "import pandas as pd"
   ]
  },
  {
   "cell_type": "code",
   "execution_count": 2,
   "metadata": {
    "collapsed": true
   },
   "outputs": [],
   "source": [
    "from streamm import *"
   ]
  },
  {
   "cell_type": "code",
   "execution_count": 3,
   "metadata": {
    "collapsed": true
   },
   "outputs": [],
   "source": [
    "%load_ext autoreload\n",
    "%autoreload 2"
   ]
  },
  {
   "cell_type": "code",
   "execution_count": 4,
   "metadata": {
    "collapsed": false
   },
   "outputs": [
    {
     "name": "stdout",
     "output_type": "stream",
     "text": [
      "Reading in resource json file res_local.json \n"
     ]
    }
   ],
   "source": [
    "res_tag = 'local'  # Change this to remote to run the calculations remotely \n",
    "res_local = resource.Resource(res_tag)\n",
    "res_local.load_json()"
   ]
  },
  {
   "cell_type": "code",
   "execution_count": 5,
   "metadata": {
    "collapsed": false
   },
   "outputs": [
    {
     "name": "stdout",
     "output_type": "stream",
     "text": [
      "Reading in resource json file res_peregrine.json \n"
     ]
    }
   ],
   "source": [
    "peregrine = resource.Resource('peregrine')\n",
    "peregrine.load_json()"
   ]
  },
  {
   "cell_type": "markdown",
   "metadata": {},
   "source": [
    "Find sub list of particle keys to be included in et calculation"
   ]
  },
  {
   "cell_type": "code",
   "execution_count": 28,
   "metadata": {
    "collapsed": false
   },
   "outputs": [
    {
     "data": {
      "text/plain": [
       "'/Users/tkemper/Development/streamm_ext/streamm-tools/examples/scratch/p3ht_n10_esp_x20_et1'"
      ]
     },
     "execution_count": 28,
     "metadata": {},
     "output_type": "execute_result"
    }
   ],
   "source": [
    "os.getcwd()"
   ]
  },
  {
   "cell_type": "code",
   "execution_count": 29,
   "metadata": {
    "collapsed": true
   },
   "outputs": [],
   "source": [
    "os.chdir(lmp_bulk.dir['home'])"
   ]
  },
  {
   "cell_type": "code",
   "execution_count": 31,
   "metadata": {
    "collapsed": true
   },
   "outputs": [],
   "source": [
    "p3ht_n10_x20_nvt = buildingblock.Container('p3ht_n10_x20_nvt')\n",
    "p3ht_n10_x20_nvt.read_cply()"
   ]
  },
  {
   "cell_type": "code",
   "execution_count": 32,
   "metadata": {
    "collapsed": true
   },
   "outputs": [],
   "source": [
    "p3ht_n10_x20_nvt.group_prop('residue','residue')"
   ]
  },
  {
   "cell_type": "code",
   "execution_count": 33,
   "metadata": {
    "collapsed": true
   },
   "outputs": [],
   "source": [
    "p3ht_n10_x20_nvt.propcompile_particles()"
   ]
  },
  {
   "cell_type": "code",
   "execution_count": 37,
   "metadata": {
    "collapsed": false
   },
   "outputs": [],
   "source": [
    "part_df =  pd.DataFrame(p3ht_n10_x20_nvt.prop_particles)"
   ]
  },
  {
   "cell_type": "code",
   "execution_count": 38,
   "metadata": {
    "collapsed": true
   },
   "outputs": [],
   "source": [
    "syC = part_df['resname'] == 'SCP2'\n",
    "syS = part_df['resname'] == 'ThS'"
   ]
  },
  {
   "cell_type": "code",
   "execution_count": 40,
   "metadata": {
    "collapsed": true
   },
   "outputs": [],
   "source": [
    "sub_th = part_df[ syC | syS ]"
   ]
  },
  {
   "cell_type": "code",
   "execution_count": 41,
   "metadata": {
    "collapsed": false
   },
   "outputs": [],
   "source": [
    "struc_th = p3ht_n10_x20_nvt.getSubStructure(sub_th.index,'sub_th') "
   ]
  },
  {
   "cell_type": "code",
   "execution_count": 42,
   "metadata": {
    "collapsed": true
   },
   "outputs": [],
   "source": [
    "struc_th.write_xyz()"
   ]
  },
  {
   "cell_type": "markdown",
   "metadata": {},
   "source": [
    "Make sure the selection is correct by viewing the structure "
   ]
  },
  {
   "cell_type": "code",
   "execution_count": 6,
   "metadata": {
    "collapsed": true
   },
   "outputs": [],
   "source": [
    "xO = 20"
   ]
  },
  {
   "cell_type": "code",
   "execution_count": 7,
   "metadata": {
    "collapsed": true
   },
   "outputs": [],
   "source": [
    "lmp_bulk = lammps.LAMMPS('p3ht_n10_esp_x%d'%(xO))"
   ]
  },
  {
   "cell_type": "code",
   "execution_count": 8,
   "metadata": {
    "collapsed": false
   },
   "outputs": [
    {
     "name": "stdout",
     "output_type": "stream",
     "text": [
      "Resource tag found peregrine \n",
      "Reading in resource json file res_peregrine.json \n"
     ]
    }
   ],
   "source": [
    "lmp_bulk.load_json()"
   ]
  },
  {
   "cell_type": "code",
   "execution_count": 9,
   "metadata": {
    "collapsed": false
   },
   "outputs": [
    {
     "data": {
      "text/plain": [
       "'/Users/tkemper/Development/streamm_ext/streamm-tools/examples'"
      ]
     },
     "execution_count": 9,
     "metadata": {},
     "output_type": "execute_result"
    }
   ],
   "source": [
    "os.getcwd()"
   ]
  },
  {
   "cell_type": "code",
   "execution_count": 10,
   "metadata": {
    "collapsed": true
   },
   "outputs": [],
   "source": [
    "equ_et = calculation.CalculationRes('%s_et1'%(lmp_bulk.tag))"
   ]
  },
  {
   "cell_type": "code",
   "execution_count": 11,
   "metadata": {
    "collapsed": true
   },
   "outputs": [],
   "source": [
    "equ_et.set_resource(peregrine)"
   ]
  },
  {
   "cell_type": "code",
   "execution_count": 12,
   "metadata": {
    "collapsed": true
   },
   "outputs": [],
   "source": [
    "equ_et.properties['scratch'] = equ_et.dir['scratch']"
   ]
  },
  {
   "cell_type": "code",
   "execution_count": 14,
   "metadata": {
    "collapsed": false
   },
   "outputs": [],
   "source": [
    "equ_et.add_refcalc(lmp_bulk)"
   ]
  },
  {
   "cell_type": "code",
   "execution_count": 16,
   "metadata": {
    "collapsed": false
   },
   "outputs": [
    {
     "name": "stdout",
     "output_type": "stream",
     "text": [
      "Making /Users/tkemper/Development/streamm_ext/streamm-tools/examples/scratch/p3ht_n10_esp_x20_et1/ \n"
     ]
    }
   ],
   "source": [
    "equ_et.make_dir()"
   ]
  },
  {
   "cell_type": "code",
   "execution_count": 45,
   "metadata": {
    "collapsed": false
   },
   "outputs": [],
   "source": [
    "os.chdir(equ_et.dir['launch'])"
   ]
  },
  {
   "cell_type": "code",
   "execution_count": 49,
   "metadata": {
    "collapsed": false
   },
   "outputs": [
    {
     "name": "stdout",
     "output_type": "stream",
     "text": [
      "> in cp_file  input cply p3ht_n10_x20_nvt.cply home launch\n",
      "copying /Users/tkemper/Development/streamm_ext/streamm-tools/examples/p3ht_n10_x20_nvt.cply to /Users/tkemper/Development/streamm_ext/streamm-tools/examples/scratch/p3ht_n10_esp_x20_et1/p3ht_n10_x20_nvt.cply \n"
     ]
    }
   ],
   "source": [
    "file_type = 'input'\n",
    "file_key = 'cply'\n",
    "file_name = \"p3ht_n10_x20_nvt.cply\"\n",
    "from_dirkey = 'home'\n",
    "to_dirkey = 'launch'\n",
    "equ_et.cp_file(file_type,file_key,file_name,from_dirkey,to_dirkey)"
   ]
  },
  {
   "cell_type": "code",
   "execution_count": 22,
   "metadata": {
    "collapsed": false
   },
   "outputs": [
    {
     "name": "stdout",
     "output_type": "stream",
     "text": [
      "> in cp_file  templates run streamm_peregrine.pbs templates launch\n",
      "copying /Users/tkemper/Development/streamm_ext/streamm-tools/templates/streamm_peregrine.pbs to /Users/tkemper/Development/streamm_ext/streamm-tools/examples/scratch/p3ht_n10_esp_x20_et1/streamm_peregrine.pbs \n"
     ]
    }
   ],
   "source": [
    "file_type = 'templates'\n",
    "file_key = 'run'\n",
    "file_name = \"streamm_peregrine.pbs\"\n",
    "from_dirkey = 'templates'\n",
    "to_dirkey = 'launch'\n",
    "equ_et.cp_file(file_type,file_key,file_name,from_dirkey,to_dirkey)"
   ]
  },
  {
   "cell_type": "code",
   "execution_count": 23,
   "metadata": {
    "collapsed": false
   },
   "outputs": [
    {
     "name": "stdout",
     "output_type": "stream",
     "text": [
      "/Users/tkemper/Development/streamm_ext/streamm-tools/scripts\n"
     ]
    }
   ],
   "source": [
    "equ_et.dir['scripts'] = '/Users/tkemper/Development/streamm_ext/streamm-tools/scripts'\n",
    "print equ_et.dir['scripts']"
   ]
  },
  {
   "cell_type": "code",
   "execution_count": 75,
   "metadata": {
    "collapsed": false
   },
   "outputs": [
    {
     "name": "stdout",
     "output_type": "stream",
     "text": [
      "> in cp_file  scripts py_script et1.py scripts launch\n",
      "copying /Users/tkemper/Development/streamm_ext/streamm-tools/scripts/et1.py to /Users/tkemper/Development/streamm_ext/streamm-tools/examples/scratch/p3ht_n10_esp_x20_et1/et1.py \n"
     ]
    }
   ],
   "source": [
    "file_type = 'scripts'\n",
    "file_key = 'py_script'\n",
    "file_name = \"et1.py\"\n",
    "from_dirkey = 'scripts'\n",
    "to_dirkey = 'launch'\n",
    "equ_et.cp_file(file_type,file_key,file_name,from_dirkey,to_dirkey)"
   ]
  },
  {
   "cell_type": "code",
   "execution_count": 27,
   "metadata": {
    "collapsed": true
   },
   "outputs": [],
   "source": [
    "equ_et.properties['finish_str'] ='Finished'"
   ]
  },
  {
   "cell_type": "code",
   "execution_count": 43,
   "metadata": {
    "collapsed": true
   },
   "outputs": [],
   "source": [
    "list_th = [str(pkey) for pkey in sub_th.index]"
   ]
  },
  {
   "cell_type": "code",
   "execution_count": 46,
   "metadata": {
    "collapsed": true
   },
   "outputs": [],
   "source": [
    "outfile = open('list_th','wb')\n",
    "outfile.write(\"\\n\".join(list_th))\n",
    "outfile.close()"
   ]
  },
  {
   "cell_type": "code",
   "execution_count": 50,
   "metadata": {
    "collapsed": true
   },
   "outputs": [],
   "source": [
    "equ_et.add_file('input','list_i','list_th')"
   ]
  },
  {
   "cell_type": "code",
   "execution_count": 56,
   "metadata": {
    "collapsed": false
   },
   "outputs": [
    {
     "name": "stdout",
     "output_type": "stream",
     "text": [
      "python et1.py  p3ht_n10_esp_x20_et1 --cply p3ht_n10_x20_nvt.cply --list_i list_th \n"
     ]
    }
   ],
   "source": [
    "equ_et.properties['streamm_command'] ='python %s  %s --cply %s --list_i %s '%(equ_et.files['scripts']['py_script'],equ_et.tag,equ_et.files['input']['cply'],equ_et.files['input']['list_i'])\n",
    "print equ_et.properties['streamm_command']"
   ]
  },
  {
   "cell_type": "code",
   "execution_count": 57,
   "metadata": {
    "collapsed": true
   },
   "outputs": [],
   "source": [
    "equ_et.load_str('templates','run')"
   ]
  },
  {
   "cell_type": "code",
   "execution_count": 59,
   "metadata": {
    "collapsed": true
   },
   "outputs": [],
   "source": [
    "equ_et.replacewrite_prop('run','scripts','run','%s.pbs'%(equ_et.tag))"
   ]
  },
  {
   "cell_type": "code",
   "execution_count": 61,
   "metadata": {
    "collapsed": false
   },
   "outputs": [],
   "source": [
    "file_type = 'output'\n",
    "file_key = 'log'\n",
    "file_name = \"%s.log\"%(equ_et.tag)\n",
    "equ_et.add_file(file_type,file_key,file_name)"
   ]
  },
  {
   "cell_type": "code",
   "execution_count": 62,
   "metadata": {
    "collapsed": false
   },
   "outputs": [
    {
     "name": "stdout",
     "output_type": "stream",
     "text": [
      " Resource type ssh \n",
      "runnning push function in /Users/tkemper/Development/streamm_ext/streamm-tools/examples/scratch/p3ht_n10_esp_x20_et1 \n",
      "Compressing and copying input files to scratch directory \n",
      " file_i  p3ht_n10_x20_nvt.cply\n",
      " file_i  list_th\n",
      "> compressed_file  p3ht_n10_esp_x20_et1_input.tgz\n",
      "Compressing and copying templates files to scratch directory \n",
      " file_i  streamm_peregrine.pbs\n",
      "> compressed_file  p3ht_n10_esp_x20_et1_templates.tgz\n",
      "Compressing and copying scripts files to scratch directory \n",
      " file_i  p3ht_n10_esp_x20_et1.pbs\n",
      " file_i  et1.py\n",
      "> compressed_file  p3ht_n10_esp_x20_et1_scripts.tgz\n",
      "Copying output of reference calculations p3ht_n10_esp_x20\n"
     ]
    }
   ],
   "source": [
    "equ_et.push()"
   ]
  },
  {
   "cell_type": "code",
   "execution_count": 63,
   "metadata": {
    "collapsed": false
   },
   "outputs": [
    {
     "name": "stdout",
     "output_type": "stream",
     "text": [
      "Calculation with status written \n",
      "Resource type ssh \n",
      "Executing run command ssh tkemper@peregrine.hpc.nrel.gov ' cd /scratch/tkemper/p3ht_n10_esp_x20_et1/ ; qsub p3ht_n10_esp_x20_et1.pbs '  \n",
      "Executing run command ssh tkemper@peregrine.hpc.nrel.gov ' cd /scratch/tkemper/p3ht_n10_esp_x20_et1/ ; qsub et1.py '  \n"
     ]
    }
   ],
   "source": [
    "equ_et.run()"
   ]
  },
  {
   "cell_type": "code",
   "execution_count": null,
   "metadata": {
    "collapsed": true
   },
   "outputs": [],
   "source": []
  }
 ],
 "metadata": {
  "kernelspec": {
   "display_name": "Python [Root]",
   "language": "python",
   "name": "Python [Root]"
  },
  "language_info": {
   "codemirror_mode": {
    "name": "ipython",
    "version": 2
   },
   "file_extension": ".py",
   "mimetype": "text/x-python",
   "name": "python",
   "nbconvert_exporter": "python",
   "pygments_lexer": "ipython2",
   "version": "2.7.12"
  }
 },
 "nbformat": 4,
 "nbformat_minor": 0
}
