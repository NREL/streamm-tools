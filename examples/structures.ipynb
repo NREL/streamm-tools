{
 "cells": [
  {
   "cell_type": "markdown",
   "metadata": {},
   "source": [
    "This notebook imports the fundamental objects of the streamm.structure module and goes through the functionality of each"
   ]
  },
  {
   "cell_type": "code",
   "execution_count": 2,
   "metadata": {
    "collapsed": true
   },
   "outputs": [],
   "source": [
    "from pprint import pprint \n",
    "import copy"
   ]
  },
  {
   "cell_type": "markdown",
   "metadata": {},
   "source": [
    "Set up a log file for this example so we can read what exactly streamm is doing, if we feel like it."
   ]
  },
  {
   "cell_type": "code",
   "execution_count": 3,
   "metadata": {
    "collapsed": true
   },
   "outputs": [],
   "source": [
    "import logging\n",
    "logging.basicConfig(filename='structures_example.log',level=logging.DEBUG)"
   ]
  },
  {
   "cell_type": "markdown",
   "metadata": {},
   "source": [
    "Let's start with the Particle object "
   ]
  },
  {
   "cell_type": "code",
   "execution_count": 4,
   "metadata": {
    "collapsed": true
   },
   "outputs": [],
   "source": [
    "from streamm.structures.particle import Particle"
   ]
  },
  {
   "cell_type": "markdown",
   "metadata": {},
   "source": [
    "Create a particle object with label 'C1'"
   ]
  },
  {
   "cell_type": "code",
   "execution_count": 5,
   "metadata": {
    "collapsed": true
   },
   "outputs": [],
   "source": [
    "p_i = Particle(label='C1')"
   ]
  },
  {
   "cell_type": "code",
   "execution_count": 6,
   "metadata": {},
   "outputs": [
    {
     "name": "stdout",
     "output_type": "stream",
     "text": [
      "atom C1 (C1)\n"
     ]
    }
   ],
   "source": [
    "print(p_i)"
   ]
  },
  {
   "cell_type": "markdown",
   "metadata": {},
   "source": [
    "Assign the carbon element to the particle"
   ]
  },
  {
   "cell_type": "code",
   "execution_count": 7,
   "metadata": {
    "collapsed": true
   },
   "outputs": [],
   "source": [
    "p_i.set_element('C')"
   ]
  },
  {
   "cell_type": "markdown",
   "metadata": {},
   "source": [
    "Let's oxidize the carbon just to make the charge non-zero "
   ]
  },
  {
   "cell_type": "code",
   "execution_count": 8,
   "metadata": {
    "collapsed": true
   },
   "outputs": [],
   "source": [
    "p_i.charge = -1.0"
   ]
  },
  {
   "cell_type": "markdown",
   "metadata": {},
   "source": [
    "Check that the element properties were set to the particle "
   ]
  },
  {
   "cell_type": "code",
   "execution_count": 9,
   "metadata": {},
   "outputs": [
    {
     "name": "stdout",
     "output_type": "stream",
     "text": [
      " type:atom \n",
      " label:C1\n",
      " symbol:C\n",
      " mass:12.0107 (amu)\n",
      " charge:-1.0 (e)\n",
      " bonded_radius:0.67 (ang)\n",
      " nonbonded_radius:1.7 (ang)\n"
     ]
    }
   ],
   "source": [
    "print p_i.show_attributes()"
   ]
  },
  {
   "cell_type": "markdown",
   "metadata": {},
   "source": [
    "Say we want to change the units to SI "
   ]
  },
  {
   "cell_type": "markdown",
   "metadata": {},
   "source": [
    "Let's look at the current units of the particle instance"
   ]
  },
  {
   "cell_type": "code",
   "execution_count": 10,
   "metadata": {},
   "outputs": [
    {
     "name": "stdout",
     "output_type": "stream",
     "text": [
      "{u'amount': u'atom',\n",
      " u'angle': u'degree',\n",
      " u'capacitance': u'F',\n",
      " u'charge': u'e',\n",
      " u'conductance': u'S',\n",
      " u'current': u'A',\n",
      " u'density': u'amu_nm^3',\n",
      " u'electric_dipole_moment': u'D',\n",
      " u'emf': u'V',\n",
      " u'energy': u'Ha',\n",
      " u'force': u'GN',\n",
      " u'frequency': u'Hz',\n",
      " u'harm_bond_coeff': u'kCalmolsqang',\n",
      " u'intensity': u'cd',\n",
      " u'length': u'ang',\n",
      " u'magnetic_flux': u'Wb',\n",
      " u'mass': u'amu',\n",
      " u'memory': u'Kb',\n",
      " u'power': u'GW',\n",
      " u'pressure': u'KPa',\n",
      " u'resistance': u'ohm',\n",
      " u'temperature': u'K',\n",
      " u'time': u'ns',\n",
      " u'volume': u'nm^3'}\n"
     ]
    }
   ],
   "source": [
    "default_unit_conf = copy.deepcopy(p_i.unit_conf)\n",
    "pprint(default_unit_conf)"
   ]
  },
  {
   "cell_type": "markdown",
   "metadata": {},
   "source": [
    "Create a dictionary with new units "
   ]
  },
  {
   "cell_type": "code",
   "execution_count": 11,
   "metadata": {
    "collapsed": true
   },
   "outputs": [],
   "source": [
    "new_unit_conf = {'length':'m','mass':'kg','charge':'C'}"
   ]
  },
  {
   "cell_type": "code",
   "execution_count": 12,
   "metadata": {
    "collapsed": true
   },
   "outputs": [],
   "source": [
    "p_i.update_units(new_unit_conf)"
   ]
  },
  {
   "cell_type": "code",
   "execution_count": 13,
   "metadata": {},
   "outputs": [
    {
     "name": "stdout",
     "output_type": "stream",
     "text": [
      " type:atom \n",
      " label:C1\n",
      " symbol:C\n",
      " mass:1.99442362477e-26 (kg)\n",
      " charge:-1.6021766208e-19 (C)\n",
      " bonded_radius:6.7e-11 (m)\n",
      " nonbonded_radius:1.7e-10 (m)\n"
     ]
    }
   ],
   "source": [
    "print p_i.show_attributes()"
   ]
  },
  {
   "cell_type": "markdown",
   "metadata": {},
   "source": [
    "That's cool, but we should stick with the default units values, so let's change them back"
   ]
  },
  {
   "cell_type": "code",
   "execution_count": 14,
   "metadata": {
    "collapsed": true
   },
   "outputs": [],
   "source": [
    "p_i.update_units(default_unit_conf)"
   ]
  },
  {
   "cell_type": "code",
   "execution_count": 15,
   "metadata": {},
   "outputs": [
    {
     "name": "stdout",
     "output_type": "stream",
     "text": [
      " type:atom \n",
      " label:C1\n",
      " symbol:C\n",
      " mass:12.0107 (amu)\n",
      " charge:-1.0 (e)\n",
      " bonded_radius:0.67 (ang)\n",
      " nonbonded_radius:1.7 (ang)\n"
     ]
    }
   ],
   "source": [
    "print p_i.show_attributes()"
   ]
  },
  {
   "cell_type": "markdown",
   "metadata": {},
   "source": [
    "Let's create another particle and set the element to hydrogen "
   ]
  },
  {
   "cell_type": "code",
   "execution_count": 16,
   "metadata": {
    "collapsed": true
   },
   "outputs": [],
   "source": [
    "p_j = Particle(symbol='H')"
   ]
  },
  {
   "cell_type": "code",
   "execution_count": 17,
   "metadata": {},
   "outputs": [
    {
     "name": "stdout",
     "output_type": "stream",
     "text": [
      " type:atom \n",
      " label:H\n",
      " symbol:H\n",
      " mass:1.00794 (amu)\n",
      " charge:0.0 (e)\n",
      " bonded_radius:0.53 (ang)\n",
      " nonbonded_radius:1.2 (ang)\n"
     ]
    }
   ],
   "source": [
    "print p_j.show_attributes()"
   ]
  },
  {
   "cell_type": "markdown",
   "metadata": {},
   "source": [
    "Let's make an empty structure container "
   ]
  },
  {
   "cell_type": "code",
   "execution_count": 18,
   "metadata": {
    "collapsed": true
   },
   "outputs": [],
   "source": [
    "from streamm.structures.structure import Structure"
   ]
  },
  {
   "cell_type": "code",
   "execution_count": 19,
   "metadata": {
    "collapsed": true
   },
   "outputs": [],
   "source": [
    "mol_i = Structure('methane')"
   ]
  },
  {
   "cell_type": "markdown",
   "metadata": {},
   "source": [
    "Now let's construct a molecule "
   ]
  },
  {
   "cell_type": "markdown",
   "metadata": {},
   "source": [
    "We can add the carbon at the origin using the ``add_partpos()`` function. "
   ]
  },
  {
   "cell_type": "code",
   "execution_count": 20,
   "metadata": {
    "collapsed": true
   },
   "outputs": [],
   "source": [
    "pos_i = [0.0,0.0,0.0]\n",
    "mol_i.add_partpos(p_i,pos_i)"
   ]
  },
  {
   "cell_type": "code",
   "execution_count": 21,
   "metadata": {
    "collapsed": true
   },
   "outputs": [],
   "source": [
    "for p_index,particle_i in mol_i.particles.iteritems():\n",
    "    if( particle_i.symbol == 'H' ):\n",
    "        particle_i.residue = 1\n",
    "\n",
    "        h_cnt += 1\n",
    "        "
   ]
  },
  {
   "cell_type": "code",
   "execution_count": 22,
   "metadata": {},
   "outputs": [
    {
     "name": "stdout",
     "output_type": "stream",
     "text": [
      "0 atom C1 (C)\n"
     ]
    }
   ],
   "source": [
    "for p_index,particle_i in mol_i.particles.iteritems():\n",
    "    print p_index,particle_i"
   ]
  },
  {
   "cell_type": "code",
   "execution_count": 23,
   "metadata": {},
   "outputs": [
    {
     "name": "stdout",
     "output_type": "stream",
     "text": [
      "Now the structure container has 1 particle \n"
     ]
    }
   ],
   "source": [
    "print(\"Now the structure container has {} particle \".format(mol_i.n_particles))"
   ]
  },
  {
   "cell_type": "markdown",
   "metadata": {},
   "source": [
    "Find the positions of the hydrogens to give a tetrahedral molecular geometry"
   ]
  },
  {
   "cell_type": "code",
   "execution_count": 24,
   "metadata": {
    "collapsed": true
   },
   "outputs": [],
   "source": [
    "import numpy as np\n",
    "import decimal"
   ]
  },
  {
   "cell_type": "code",
   "execution_count": 25,
   "metadata": {
    "collapsed": true
   },
   "outputs": [],
   "source": [
    "bond_length = p_i.bonded_radius + p_j.bonded_radius "
   ]
  },
  {
   "cell_type": "code",
   "execution_count": 26,
   "metadata": {},
   "outputs": [
    {
     "name": "stdout",
     "output_type": "stream",
     "text": [
      "1.2 ang\n"
     ]
    }
   ],
   "source": [
    "print bond_length,mol_i.unit_conf['length']"
   ]
  },
  {
   "cell_type": "code",
   "execution_count": 27,
   "metadata": {
    "collapsed": true
   },
   "outputs": [],
   "source": [
    "tet_a = bond_length/np.sqrt(3)"
   ]
  },
  {
   "cell_type": "code",
   "execution_count": 28,
   "metadata": {},
   "outputs": [
    {
     "name": "stdout",
     "output_type": "stream",
     "text": [
      "0.692820323028\n"
     ]
    }
   ],
   "source": [
    "print tet_a"
   ]
  },
  {
   "cell_type": "markdown",
   "metadata": {},
   "source": [
    "Add hydrogens"
   ]
  },
  {
   "cell_type": "code",
   "execution_count": 29,
   "metadata": {
    "collapsed": true
   },
   "outputs": [],
   "source": [
    "pos_j = [tet_a,tet_a,tet_a]\n",
    "mol_i.add_partpos(p_j,pos_j)"
   ]
  },
  {
   "cell_type": "code",
   "execution_count": 30,
   "metadata": {},
   "outputs": [
    {
     "name": "stdout",
     "output_type": "stream",
     "text": [
      "0 atom C1 (C)\n",
      "1 atom H (H)\n"
     ]
    }
   ],
   "source": [
    "for p_index,particle_i in mol_i.particles.iteritems():\n",
    "    print p_index,particle_i"
   ]
  },
  {
   "cell_type": "markdown",
   "metadata": {},
   "source": [
    "We can add the subsequent hydrogens using the same particle object since add_partpos makes a deepcopy of the object when adding to the structure container"
   ]
  },
  {
   "cell_type": "code",
   "execution_count": 31,
   "metadata": {
    "collapsed": true
   },
   "outputs": [],
   "source": [
    "pos_j = [-tet_a,-tet_a,tet_a]\n",
    "mol_i.add_partpos(p_j,pos_j)"
   ]
  },
  {
   "cell_type": "code",
   "execution_count": 32,
   "metadata": {
    "collapsed": true
   },
   "outputs": [],
   "source": [
    "pos_j = [-tet_a,tet_a,-tet_a]\n",
    "mol_i.add_partpos(p_j,pos_j)"
   ]
  },
  {
   "cell_type": "code",
   "execution_count": 33,
   "metadata": {
    "collapsed": true
   },
   "outputs": [],
   "source": [
    "pos_j = [tet_a,-tet_a,-tet_a]\n",
    "mol_i.add_partpos(p_j,pos_j)"
   ]
  },
  {
   "cell_type": "markdown",
   "metadata": {},
   "source": [
    "Check the position array "
   ]
  },
  {
   "cell_type": "code",
   "execution_count": 34,
   "metadata": {},
   "outputs": [
    {
     "name": "stdout",
     "output_type": "stream",
     "text": [
      "[[ 0.          0.          0.        ]\n",
      " [ 0.69282032  0.69282032  0.69282032]\n",
      " [-0.69282032 -0.69282032  0.69282032]\n",
      " [-0.69282032  0.69282032 -0.69282032]\n",
      " [ 0.69282032 -0.69282032 -0.69282032]]\n"
     ]
    }
   ],
   "source": [
    "print mol_i.positions"
   ]
  },
  {
   "cell_type": "markdown",
   "metadata": {},
   "source": [
    "The particles instance variable of the structure container is a dictionary, so we can just loop over that using the iteritems() function. "
   ]
  },
  {
   "cell_type": "code",
   "execution_count": 35,
   "metadata": {},
   "outputs": [
    {
     "name": "stdout",
     "output_type": "stream",
     "text": [
      "0 atom C1 (C)\n",
      "1 atom H (H)\n",
      "2 atom H (H)\n",
      "3 atom H (H)\n",
      "4 atom H (H)\n"
     ]
    }
   ],
   "source": [
    "for p_index,particle_i in mol_i.particles.iteritems():\n",
    "    print p_index,particle_i"
   ]
  },
  {
   "cell_type": "markdown",
   "metadata": {},
   "source": [
    "Hum, let's fix the labels of the hydrogens..."
   ]
  },
  {
   "cell_type": "code",
   "execution_count": 36,
   "metadata": {
    "collapsed": true
   },
   "outputs": [],
   "source": [
    "h_cnt = 1\n",
    "for p_index,particle_i in mol_i.particles.iteritems():\n",
    "    if( particle_i.symbol == 'H' ):\n",
    "        particle_i.label = 'H{}'.format(h_cnt)\n",
    "\n",
    "        h_cnt += 1\n",
    "        "
   ]
  },
  {
   "cell_type": "code",
   "execution_count": 37,
   "metadata": {},
   "outputs": [
    {
     "name": "stdout",
     "output_type": "stream",
     "text": [
      "0 atom C1 (C)\n",
      "1 atom H1 (H)\n",
      "2 atom H2 (H)\n",
      "3 atom H3 (H)\n",
      "4 atom H4 (H)\n"
     ]
    }
   ],
   "source": [
    "for p_index,particle_i in mol_i.particles.iteritems():\n",
    "    print p_index,particle_i "
   ]
  },
  {
   "cell_type": "markdown",
   "metadata": {},
   "source": [
    "Okay, that looks better"
   ]
  },
  {
   "cell_type": "markdown",
   "metadata": {},
   "source": [
    "Print .xyz file and check geometry with a molecular viewer such as  Avogadro (https://avogadro.cc/) "
   ]
  },
  {
   "cell_type": "code",
   "execution_count": 38,
   "metadata": {
    "collapsed": true
   },
   "outputs": [],
   "source": [
    "mol_i.write_xyz()"
   ]
  },
  {
   "cell_type": "markdown",
   "metadata": {},
   "source": [
    "Looks good, you should have the geometry of a methane molecule with a C-H bond length of 1.2 Angstroms "
   ]
  },
  {
   "cell_type": "markdown",
   "metadata": {},
   "source": [
    "However, we have not told streamm about the bonds. There are a few ways to do this, let's do it explicitly with the Bond object fist."
   ]
  },
  {
   "cell_type": "code",
   "execution_count": 39,
   "metadata": {
    "collapsed": true
   },
   "outputs": [],
   "source": [
    "from streamm.structures.bond import Bond"
   ]
  },
  {
   "cell_type": "markdown",
   "metadata": {},
   "source": [
    "based on the particle index values"
   ]
  },
  {
   "cell_type": "code",
   "execution_count": 40,
   "metadata": {
    "collapsed": true
   },
   "outputs": [],
   "source": [
    "b_ij = Bond(0,1)"
   ]
  },
  {
   "cell_type": "markdown",
   "metadata": {},
   "source": [
    "Now add the bond to the bonds dictionary in the structure container"
   ]
  },
  {
   "cell_type": "code",
   "execution_count": 41,
   "metadata": {
    "collapsed": true
   },
   "outputs": [],
   "source": [
    "mol_i.add_bond(b_ij)"
   ]
  },
  {
   "cell_type": "code",
   "execution_count": 42,
   "metadata": {},
   "outputs": [
    {
     "name": "stdout",
     "output_type": "stream",
     "text": [
      "Now the structure container has 5 particle/s and 1 bond/s\n"
     ]
    }
   ],
   "source": [
    "print(\"Now the structure container has {} particle/s and {} bond/s\".format(mol_i.n_particles,mol_i.n_bonds))"
   ]
  },
  {
   "cell_type": "markdown",
   "metadata": {},
   "source": [
    "Neat, but adding all the bonds, bond angles and dihedrals explicitly would be pretty tedious, so let's use some functions to do that. "
   ]
  },
  {
   "cell_type": "markdown",
   "metadata": {},
   "source": [
    "First, let's guess the ``bonded_nblist`` of the molecule based on the ``bonded_radius`` of each particle (atom)"
   ]
  },
  {
   "cell_type": "code",
   "execution_count": 43,
   "metadata": {
    "collapsed": true
   },
   "outputs": [],
   "source": [
    "mol_i.bonded_nblist = mol_i.guess_nblist(0,radii_buffer=1.35)"
   ]
  },
  {
   "cell_type": "code",
   "execution_count": 44,
   "metadata": {},
   "outputs": [
    {
     "name": "stdout",
     "output_type": "stream",
     "text": [
      " NBlist of 5 particle with 8 connections\n"
     ]
    }
   ],
   "source": [
    "print mol_i.bonded_nblist"
   ]
  },
  {
   "cell_type": "markdown",
   "metadata": {},
   "source": [
    "Let's take a look at the neighbor lists ``list`` and ``index`` instance variables "
   ]
  },
  {
   "cell_type": "code",
   "execution_count": 45,
   "metadata": {},
   "outputs": [
    {
     "name": "stdout",
     "output_type": "stream",
     "text": [
      "[1, 2, 3, 4, 0, 0, 0, 0]\n",
      "[0, 4, 5, 6, 7, 8]\n"
     ]
    }
   ],
   "source": [
    "print mol_i.bonded_nblist.list \n",
    "print mol_i.bonded_nblist.index "
   ]
  },
  {
   "cell_type": "markdown",
   "metadata": {},
   "source": [
    "Looking at the ``index `` for particle 0, we get that it has neighbors in the ``list`` from 0:3 (index[0]:index[0+1]-1). Therefore we know particle 0 has [1, 2, 3, 4] for neighbors."
   ]
  },
  {
   "cell_type": "code",
   "execution_count": 46,
   "metadata": {},
   "outputs": [
    {
     "name": "stdout",
     "output_type": "stream",
     "text": [
      "4\n"
     ]
    }
   ],
   "source": [
    "print mol_i.bonded_nblist.calc_nnab(0)"
   ]
  },
  {
   "cell_type": "markdown",
   "metadata": {},
   "source": [
    "Now we can use the bonded neighbor list to construct the bonds, bond angles and dihedrals "
   ]
  },
  {
   "cell_type": "code",
   "execution_count": 47,
   "metadata": {
    "collapsed": true
   },
   "outputs": [],
   "source": [
    "mol_i.bonded_bonds()\n",
    "mol_i.bonded_angles()\n",
    "mol_i.bonded_dih()"
   ]
  },
  {
   "cell_type": "code",
   "execution_count": 48,
   "metadata": {},
   "outputs": [
    {
     "name": "stdout",
     "output_type": "stream",
     "text": [
      " n_particles:5 \n",
      " n_bonds:4\n",
      " n_angles:6\n",
      " n_dihedrals:0\n",
      " n_impropers:0\n"
     ]
    }
   ],
   "source": [
    "print(mol_i.print_properties())"
   ]
  },
  {
   "cell_type": "markdown",
   "metadata": {},
   "source": [
    "A little easier than adding everything by hand"
   ]
  },
  {
   "cell_type": "markdown",
   "metadata": {},
   "source": [
    "We can dump a json file `methane_struc.json` for checkpointing the entire structure"
   ]
  },
  {
   "cell_type": "code",
   "execution_count": 49,
   "metadata": {
    "collapsed": true
   },
   "outputs": [],
   "source": [
    "mol_json = mol_i.export_json()"
   ]
  },
  {
   "cell_type": "code",
   "execution_count": 50,
   "metadata": {},
   "outputs": [
    {
     "name": "stdout",
     "output_type": "stream",
     "text": [
      "methane\n"
     ]
    }
   ],
   "source": [
    "print mol_i.tag"
   ]
  },
  {
   "cell_type": "code",
   "execution_count": 51,
   "metadata": {
    "collapsed": true
   },
   "outputs": [],
   "source": [
    "mol_test = Structure('methane')"
   ]
  },
  {
   "cell_type": "code",
   "execution_count": 52,
   "metadata": {
    "collapsed": true
   },
   "outputs": [],
   "source": [
    "mol_test.import_json()"
   ]
  },
  {
   "cell_type": "code",
   "execution_count": 55,
   "metadata": {
    "collapsed": true
   },
   "outputs": [],
   "source": [
    "if( mol_test == mol_i ):\n",
    "    print \"reader is good\""
   ]
  },
  {
   "cell_type": "markdown",
   "metadata": {},
   "source": [
    "Now let's set some groups. This is a little unnecessary for methane, but it will come in super handy if you have a large simulation of thousands of molecules."
   ]
  },
  {
   "cell_type": "markdown",
   "metadata": {},
   "source": [
    "To do this we will set the residue variable for each particle."
   ]
  },
  {
   "cell_type": "code",
   "execution_count": null,
   "metadata": {},
   "outputs": [],
   "source": [
    "mol_i.particles[0].residue = 0\n",
    "for p_index,particle_i in mol_i.particles.iteritems():\n",
    "    if( particle_i.symbol == 'H' ):\n",
    "        particle_i.residue = 1\n",
    "    print particle_i, particle_i.residue"
   ]
  },
  {
   "cell_type": "markdown",
   "metadata": {},
   "source": [
    "Check the import json function with another strcuture with the same tag"
   ]
  },
  {
   "cell_type": "code",
   "execution_count": null,
   "metadata": {
    "collapsed": true
   },
   "outputs": [],
   "source": [
    "mol_ii = Structure('methane')"
   ]
  },
  {
   "cell_type": "code",
   "execution_count": null,
   "metadata": {
    "collapsed": true
   },
   "outputs": [],
   "source": [
    "mol_ii.import_json()"
   ]
  },
  {
   "cell_type": "code",
   "execution_count": null,
   "metadata": {},
   "outputs": [],
   "source": [
    "print mol_i.n_particles, mol_ii.n_particles"
   ]
  },
  {
   "cell_type": "code",
   "execution_count": null,
   "metadata": {},
   "outputs": [],
   "source": [
    "for pk in range(mol_i.n_particles):\n",
    "    print pk,mol_i.particles[pk],mol_ii.particles[pk]"
   ]
  },
  {
   "cell_type": "code",
   "execution_count": null,
   "metadata": {
    "scrolled": true
   },
   "outputs": [],
   "source": [
    "for pk in range(mol_i.n_particles):\n",
    "    print pk,mol_i.positions[pk],mol_ii.positions[pk]"
   ]
  },
  {
   "cell_type": "code",
   "execution_count": null,
   "metadata": {
    "collapsed": true
   },
   "outputs": [],
   "source": [
    "import streamm.structures.group as group"
   ]
  },
  {
   "cell_type": "code",
   "execution_count": null,
   "metadata": {
    "collapsed": true
   },
   "outputs": [],
   "source": [
    "groups_i = group.Groups('methane_residues',mol_i)"
   ]
  },
  {
   "cell_type": "markdown",
   "metadata": {},
   "source": [
    "Find groups based on residue variable "
   ]
  },
  {
   "cell_type": "code",
   "execution_count": null,
   "metadata": {
    "collapsed": true
   },
   "outputs": [],
   "source": [
    "groups_i.group_prop('residue',groups_i.tag)"
   ]
  },
  {
   "cell_type": "code",
   "execution_count": null,
   "metadata": {},
   "outputs": [],
   "source": [
    "for g_index,group_i in groups_i.groups.iteritems():\n",
    "    print group_i.pkeys\n",
    "    print group_i.write_coord()"
   ]
  },
  {
   "cell_type": "markdown",
   "metadata": {},
   "source": [
    "Looks good. We have two groups in the group container, the first with the carbon particle index 0 and the rest are the hyrdogens."
   ]
  },
  {
   "cell_type": "code",
   "execution_count": null,
   "metadata": {
    "collapsed": true
   },
   "outputs": [],
   "source": [
    "res_json = groups_i.export_json()"
   ]
  },
  {
   "cell_type": "markdown",
   "metadata": {
    "collapsed": true
   },
   "source": [
    "Now let's change the units"
   ]
  },
  {
   "cell_type": "code",
   "execution_count": null,
   "metadata": {
    "collapsed": true
   },
   "outputs": [],
   "source": [
    "mol_i.update_units({'length':'pm'})"
   ]
  },
  {
   "cell_type": "markdown",
   "metadata": {},
   "source": [
    "Check the positions "
   ]
  },
  {
   "cell_type": "code",
   "execution_count": null,
   "metadata": {
    "collapsed": true
   },
   "outputs": [],
   "source": [
    "print mol_i.positions"
   ]
  },
  {
   "cell_type": "markdown",
   "metadata": {},
   "source": [
    "Check the particle bond radii"
   ]
  },
  {
   "cell_type": "code",
   "execution_count": null,
   "metadata": {
    "collapsed": true
   },
   "outputs": [],
   "source": [
    "for p_index,particle_i in mol_i.particles.iteritems():\n",
    "    print particle_i,particle_i.bonded_radius"
   ]
  },
  {
   "cell_type": "code",
   "execution_count": null,
   "metadata": {
    "collapsed": true
   },
   "outputs": [],
   "source": [
    "if( mol_i == mol_ii ):\n",
    "    print('Successful import ')"
   ]
  },
  {
   "cell_type": "code",
   "execution_count": null,
   "metadata": {
    "collapsed": true
   },
   "outputs": [],
   "source": []
  },
  {
   "cell_type": "code",
   "execution_count": null,
   "metadata": {
    "collapsed": true
   },
   "outputs": [],
   "source": []
  },
  {
   "cell_type": "markdown",
   "metadata": {},
   "source": [
    "Cool beans bro! "
   ]
  },
  {
   "cell_type": "code",
   "execution_count": null,
   "metadata": {
    "collapsed": true
   },
   "outputs": [],
   "source": []
  }
 ],
 "metadata": {
  "anaconda-cloud": {},
  "kernelspec": {
   "display_name": "Python 2",
   "language": "python",
   "name": "python2"
  },
  "language_info": {
   "codemirror_mode": {
    "name": "ipython",
    "version": 2
   },
   "file_extension": ".py",
   "mimetype": "text/x-python",
   "name": "python",
   "nbconvert_exporter": "python",
   "pygments_lexer": "ipython2",
   "version": "2.7.13"
  }
 },
 "nbformat": 4,
 "nbformat_minor": 2
}
