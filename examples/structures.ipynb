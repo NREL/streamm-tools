{
 "cells": [
  {
   "cell_type": "markdown",
   "metadata": {},
   "source": [
    "This notebook imports the fundamental objects of the streamm.structure module and goes through the functionality of each"
   ]
  },
  {
   "cell_type": "code",
   "execution_count": 1,
   "metadata": {
    "collapsed": true
   },
   "outputs": [],
   "source": [
    "%load_ext autoreload\n",
    "%autoreload 2"
   ]
  },
  {
   "cell_type": "code",
   "execution_count": 2,
   "metadata": {
    "collapsed": false
   },
   "outputs": [],
   "source": [
    "import logging\n",
    "logging.basicConfig(filename='structures_example.log',level=logging.DEBUG)"
   ]
  },
  {
   "cell_type": "markdown",
   "metadata": {},
   "source": [
    "Let's start with the Particle object "
   ]
  },
  {
   "cell_type": "code",
   "execution_count": 3,
   "metadata": {
    "collapsed": true
   },
   "outputs": [],
   "source": [
    "from streamm.structures.particle import Particle"
   ]
  },
  {
   "cell_type": "markdown",
   "metadata": {},
   "source": [
    "Create a particle object with label 'C1'"
   ]
  },
  {
   "cell_type": "code",
   "execution_count": 4,
   "metadata": {
    "collapsed": false
   },
   "outputs": [],
   "source": [
    "p_i = Particle(label='C1')"
   ]
  },
  {
   "cell_type": "code",
   "execution_count": 5,
   "metadata": {
    "collapsed": false
   },
   "outputs": [
    {
     "name": "stdout",
     "output_type": "stream",
     "text": [
      "atom[None] C1 (C1)\n"
     ]
    }
   ],
   "source": [
    "print(p_i)"
   ]
  },
  {
   "cell_type": "markdown",
   "metadata": {},
   "source": [
    "Assign the carbon element to the particle"
   ]
  },
  {
   "cell_type": "code",
   "execution_count": 7,
   "metadata": {
    "collapsed": false
   },
   "outputs": [],
   "source": [
    "p_i.set_element('C')"
   ]
  },
  {
   "cell_type": "markdown",
   "metadata": {},
   "source": [
    "Check that the element properties were set to the particle "
   ]
  },
  {
   "cell_type": "code",
   "execution_count": null,
   "metadata": {
    "collapsed": false
   },
   "outputs": [],
   "source": [
    "property_msg = \" type:{} \".format(p_i.type)\n",
    "property_msg += \"\\n label:{}\".format(p_i.label)\n",
    "property_msg += \"\\n symbol:{}\".format(p_i.symbol)\n",
    "property_msg += \"\\n mass:{}\".format(p_i.mass)\n",
    "property_msg += \"\\n charge:{}\".format(p_i.charge)\n",
    "property_msg += \"\\n bonded_radius:{}\".format(p_i.bonded_radius)\n",
    "property_msg += \"\\n nonbonded_radius:{}\".format(p_i.nonbonded_radius)\n",
    "\n",
    "print(property_msg)"
   ]
  },
  {
   "cell_type": "markdown",
   "metadata": {},
   "source": [
    "Let's create another particle and set the element to hydrogen "
   ]
  },
  {
   "cell_type": "code",
   "execution_count": null,
   "metadata": {
    "collapsed": true
   },
   "outputs": [],
   "source": [
    "p_j = Particle(symbol='H')"
   ]
  },
  {
   "cell_type": "code",
   "execution_count": null,
   "metadata": {
    "collapsed": false
   },
   "outputs": [],
   "source": [
    "property_msg = \" type:{} \".format(p_j.type)\n",
    "property_msg += \"\\n label:{}\".format(p_j.label)\n",
    "property_msg += \"\\n symbol:{}\".format(p_j.symbol)\n",
    "property_msg += \"\\n mass:{}\".format(p_j.mass)\n",
    "property_msg += \"\\n charge:{}\".format(p_j.charge)\n",
    "property_msg += \"\\n bonded_radius:{}\".format(p_j.bonded_radius)\n",
    "property_msg += \"\\n nonbonded_radius:{}\".format(p_j.nonbonded_radius)\n",
    "\n",
    "print(property_msg)"
   ]
  },
  {
   "cell_type": "markdown",
   "metadata": {},
   "source": [
    "Let's make an empty structure container "
   ]
  },
  {
   "cell_type": "code",
   "execution_count": null,
   "metadata": {
    "collapsed": true
   },
   "outputs": [],
   "source": [
    "from streamm.structures.container import Container"
   ]
  },
  {
   "cell_type": "code",
   "execution_count": null,
   "metadata": {
    "collapsed": true
   },
   "outputs": [],
   "source": [
    "mol_i = Container('methane')"
   ]
  },
  {
   "cell_type": "markdown",
   "metadata": {},
   "source": [
    "Now let's construct a molecule "
   ]
  },
  {
   "cell_type": "markdown",
   "metadata": {},
   "source": [
    "We can add the carbon at the origin using the ``add_partpos()`` function. "
   ]
  },
  {
   "cell_type": "code",
   "execution_count": null,
   "metadata": {
    "collapsed": true
   },
   "outputs": [],
   "source": [
    "pos_i = [0.0,0.0,0.0]\n",
    "mol_i.add_partpos(p_i,pos_i)"
   ]
  },
  {
   "cell_type": "code",
   "execution_count": null,
   "metadata": {
    "collapsed": false
   },
   "outputs": [],
   "source": [
    "print(\"Now the structure container has {} particle \".format(mol_i.n_particles))"
   ]
  },
  {
   "cell_type": "markdown",
   "metadata": {},
   "source": [
    "Find the positions of the hydrogens to give a tetrahedral molecular geometry"
   ]
  },
  {
   "cell_type": "code",
   "execution_count": null,
   "metadata": {
    "collapsed": true
   },
   "outputs": [],
   "source": [
    "import numpy as np\n",
    "import decimal"
   ]
  },
  {
   "cell_type": "code",
   "execution_count": null,
   "metadata": {
    "collapsed": true
   },
   "outputs": [],
   "source": [
    "bond_length = float(decimal.Decimal(str(p_i.bonded_radius + p_j.bonded_radius)))"
   ]
  },
  {
   "cell_type": "code",
   "execution_count": null,
   "metadata": {
    "collapsed": false
   },
   "outputs": [],
   "source": [
    "bond_length"
   ]
  },
  {
   "cell_type": "code",
   "execution_count": null,
   "metadata": {
    "collapsed": true
   },
   "outputs": [],
   "source": [
    "tet_a = bond_length/np.sqrt(3)"
   ]
  },
  {
   "cell_type": "code",
   "execution_count": null,
   "metadata": {
    "collapsed": false
   },
   "outputs": [],
   "source": [
    "print tet_a"
   ]
  },
  {
   "cell_type": "markdown",
   "metadata": {},
   "source": [
    "Add hydrogens"
   ]
  },
  {
   "cell_type": "code",
   "execution_count": null,
   "metadata": {
    "collapsed": true
   },
   "outputs": [],
   "source": [
    "pos_j = [tet_a,tet_a,tet_a]\n",
    "mol_i.add_partpos(p_j,pos_j)"
   ]
  },
  {
   "cell_type": "markdown",
   "metadata": {},
   "source": [
    "We can add the subsequent hydrogens using the same particle object since add_partpos makes a deepcopy of the object when adding to the structure container"
   ]
  },
  {
   "cell_type": "code",
   "execution_count": null,
   "metadata": {
    "collapsed": true
   },
   "outputs": [],
   "source": [
    "pos_j = [-tet_a,-tet_a,tet_a]\n",
    "mol_i.add_partpos(p_j,pos_j)"
   ]
  },
  {
   "cell_type": "code",
   "execution_count": null,
   "metadata": {
    "collapsed": true
   },
   "outputs": [],
   "source": [
    "pos_j = [-tet_a,tet_a,-tet_a]\n",
    "mol_i.add_partpos(p_j,pos_j)"
   ]
  },
  {
   "cell_type": "code",
   "execution_count": null,
   "metadata": {
    "collapsed": true
   },
   "outputs": [],
   "source": [
    "pos_j = [tet_a,-tet_a,-tet_a]\n",
    "mol_i.add_partpos(p_j,pos_j)"
   ]
  },
  {
   "cell_type": "markdown",
   "metadata": {},
   "source": [
    "Check the position array "
   ]
  },
  {
   "cell_type": "code",
   "execution_count": null,
   "metadata": {
    "collapsed": false
   },
   "outputs": [],
   "source": [
    "print mol_i.positions"
   ]
  },
  {
   "cell_type": "markdown",
   "metadata": {},
   "source": [
    "The particles instance variable of the structure container is a dictionary, so we can just loop over that using the iteritems() function. "
   ]
  },
  {
   "cell_type": "code",
   "execution_count": null,
   "metadata": {
    "collapsed": false
   },
   "outputs": [],
   "source": [
    "for p_index,particle_i in mol_i.particles.iteritems():\n",
    "    print p_index,particle_i"
   ]
  },
  {
   "cell_type": "markdown",
   "metadata": {},
   "source": [
    "Hum, let's fix the labels of the hydrogens..."
   ]
  },
  {
   "cell_type": "code",
   "execution_count": null,
   "metadata": {
    "collapsed": true
   },
   "outputs": [],
   "source": [
    "h_cnt = 1\n",
    "for p_index,particle_i in mol_i.particles.iteritems():\n",
    "    if( particle_i.symbol == 'H' ):\n",
    "        particle_i.label = 'H{}'.format(h_cnt)\n",
    "        h_cnt += 1\n",
    "        "
   ]
  },
  {
   "cell_type": "code",
   "execution_count": null,
   "metadata": {
    "collapsed": false
   },
   "outputs": [],
   "source": [
    "for p_index,particle_i in mol_i.particles.iteritems():\n",
    "    print p_index,particle_i"
   ]
  },
  {
   "cell_type": "markdown",
   "metadata": {},
   "source": [
    "Okay, that looks better"
   ]
  },
  {
   "cell_type": "markdown",
   "metadata": {},
   "source": [
    "Print .xyz file and check geometry with a molecular viewer such as  Avogadro (https://avogadro.cc/) "
   ]
  },
  {
   "cell_type": "code",
   "execution_count": null,
   "metadata": {
    "collapsed": true
   },
   "outputs": [],
   "source": [
    "mol_i.write_xyz()"
   ]
  },
  {
   "cell_type": "markdown",
   "metadata": {},
   "source": [
    "Looks good, you should have the geometry of a methane molecule with a C-H bond length of 1.2 Angstroms "
   ]
  },
  {
   "cell_type": "markdown",
   "metadata": {},
   "source": [
    "However, we have not told streamm about the bonds. There are a few ways to do this, let's do it explictly with the Bond object fist."
   ]
  },
  {
   "cell_type": "code",
   "execution_count": null,
   "metadata": {
    "collapsed": true
   },
   "outputs": [],
   "source": [
    "from streamm.structures.bond import Bond"
   ]
  },
  {
   "cell_type": "markdown",
   "metadata": {},
   "source": [
    "based on the particle index values"
   ]
  },
  {
   "cell_type": "code",
   "execution_count": null,
   "metadata": {
    "collapsed": true
   },
   "outputs": [],
   "source": [
    "b_ij = Bond(0,1)"
   ]
  },
  {
   "cell_type": "markdown",
   "metadata": {},
   "source": [
    "Now add the bond to the bonds dictionary in the structure container"
   ]
  },
  {
   "cell_type": "code",
   "execution_count": null,
   "metadata": {
    "collapsed": true
   },
   "outputs": [],
   "source": [
    "mol_i.add_bond(b_ij)"
   ]
  },
  {
   "cell_type": "code",
   "execution_count": null,
   "metadata": {
    "collapsed": false
   },
   "outputs": [],
   "source": [
    "print(\"Now the structure container has {} particle/s and {} bond/s\".format(mol_i.n_particles,mol_i.n_bonds))"
   ]
  },
  {
   "cell_type": "markdown",
   "metadata": {},
   "source": [
    "Neat, but adding all the bonds, bond angles and dihedrals explicitly would be pretty tedious, so let's use some functions to do that. "
   ]
  },
  {
   "cell_type": "markdown",
   "metadata": {},
   "source": [
    "First let's guess the ``bonded_nblist`` of the molecule based on the ``bonded_radius`` of each particle (atom)"
   ]
  },
  {
   "cell_type": "code",
   "execution_count": null,
   "metadata": {
    "collapsed": true
   },
   "outputs": [],
   "source": [
    "mol_i.bonded_nblist = mol_i.guess_nblist(0,radii_buffer=1.25)"
   ]
  },
  {
   "cell_type": "code",
   "execution_count": null,
   "metadata": {
    "collapsed": false
   },
   "outputs": [],
   "source": [
    "print mol_i.bonded_nblist"
   ]
  },
  {
   "cell_type": "markdown",
   "metadata": {},
   "source": [
    "Let's take a look at the neighbor lists ``list`` and ``index`` instance variables "
   ]
  },
  {
   "cell_type": "code",
   "execution_count": null,
   "metadata": {
    "collapsed": false
   },
   "outputs": [],
   "source": [
    "print mol_i.bonded_nblist.list \n",
    "print mol_i.bonded_nblist.index "
   ]
  },
  {
   "cell_type": "markdown",
   "metadata": {},
   "source": [
    "Looking at the ``index `` for particle 0, we get that it has neighbors in the ``list`` from 0:3 (index[0]:index[0+1]-1). There for we know particle 0 has [1, 2, 3, 4] for nieghbors."
   ]
  },
  {
   "cell_type": "code",
   "execution_count": null,
   "metadata": {
    "collapsed": false
   },
   "outputs": [],
   "source": [
    "print mol_i.bonded_nblist.calc_nnab(0)"
   ]
  },
  {
   "cell_type": "markdown",
   "metadata": {},
   "source": [
    "Now we can used the bonded neighbor list to construct the bonds,bond angles and dihedrals "
   ]
  },
  {
   "cell_type": "code",
   "execution_count": null,
   "metadata": {
    "collapsed": true
   },
   "outputs": [],
   "source": [
    "mol_i.bonded_bonds()\n",
    "mol_i.bonded_angles()\n",
    "mol_i.bonded_dih()\n"
   ]
  },
  {
   "cell_type": "code",
   "execution_count": null,
   "metadata": {
    "collapsed": false
   },
   "outputs": [],
   "source": [
    "property_msg = \" n_particles:{} \".format(mol_i.n_particles)\n",
    "property_msg += \"\\n n_bonds:{}\".format(mol_i.n_bonds)\n",
    "property_msg += \"\\n n_angles:{}\".format(mol_i.n_angles)\n",
    "property_msg += \"\\n n_dihedrals:{}\".format(mol_i.n_dihedrals)\n",
    "property_msg += \"\\n n_impropers:{}\".format(mol_i.n_impropers)\n",
    "\n",
    "print(property_msg)"
   ]
  },
  {
   "cell_type": "markdown",
   "metadata": {},
   "source": [
    "A little easier than adding everything by hand"
   ]
  },
  {
   "cell_type": "markdown",
   "metadata": {},
   "source": [
    "Now let's set some groups. This is a little unnecessary for methane, but it will come in super helpful if you a large simulation of thousands of molecules."
   ]
  },
  {
   "cell_type": "markdown",
   "metadata": {},
   "source": [
    "To do this we will set the resname variable for each particle."
   ]
  },
  {
   "cell_type": "markdown",
   "metadata": {},
   "source": [
    "mol_i.particles[0].residue = 0\n",
    "for p_index,particle_i in mol_i.particles.iteritems():\n",
    "    if( particle_i.symbol == 'H' ):\n",
    "        particle_i.residue = 1\n",
    "    print particle_i, particle_i.residue"
   ]
  },
  {
   "cell_type": "code",
   "execution_count": null,
   "metadata": {
    "collapsed": true
   },
   "outputs": [],
   "source": [
    "import streamm.structures.group as group"
   ]
  },
  {
   "cell_type": "code",
   "execution_count": null,
   "metadata": {
    "collapsed": true
   },
   "outputs": [],
   "source": [
    "groupContainer_i = group.Container('methane_residues',mol_i)"
   ]
  },
  {
   "cell_type": "markdown",
   "metadata": {},
   "source": [
    "Find groups based on residue variable "
   ]
  },
  {
   "cell_type": "code",
   "execution_count": null,
   "metadata": {
    "collapsed": true
   },
   "outputs": [],
   "source": [
    "groupContainer_i.group_prop('residue',groupContainer_i.tag)"
   ]
  },
  {
   "cell_type": "code",
   "execution_count": null,
   "metadata": {
    "collapsed": false
   },
   "outputs": [],
   "source": [
    "for g_index,group_i in groupContainer_i.groups.iteritems():\n",
    "    print group_i.pkeys"
   ]
  },
  {
   "cell_type": "markdown",
   "metadata": {},
   "source": [
    "Looks good. We have two groups in the group container, the first with the carbon particle index 0 and the rest are the hyrdogens."
   ]
  },
  {
   "cell_type": "code",
   "execution_count": null,
   "metadata": {
    "collapsed": true
   },
   "outputs": [],
   "source": []
  }
 ],
 "metadata": {
  "anaconda-cloud": {},
  "kernelspec": {
   "display_name": "Python [default]",
   "language": "python",
   "name": "python2"
  },
  "language_info": {
   "codemirror_mode": {
    "name": "ipython",
    "version": 2
   },
   "file_extension": ".py",
   "mimetype": "text/x-python",
   "name": "python",
   "nbconvert_exporter": "python",
   "pygments_lexer": "ipython2",
   "version": "2.7.12"
  }
 },
 "nbformat": 4,
 "nbformat_minor": 2
}
