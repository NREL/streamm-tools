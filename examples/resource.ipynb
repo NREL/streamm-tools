{
 "cells": [
  {
   "cell_type": "code",
   "execution_count": 2,
   "metadata": {
    "collapsed": true
   },
   "outputs": [],
   "source": [
    "from pprint import pprint"
   ]
  },
  {
   "cell_type": "markdown",
   "metadata": {},
   "source": [
    "In this example, we will use the resource object to keep track of file locations"
   ]
  },
  {
   "cell_type": "code",
   "execution_count": 13,
   "metadata": {
    "collapsed": true
   },
   "outputs": [],
   "source": [
    "import streamm\n",
    "import os "
   ]
  },
  {
   "cell_type": "code",
   "execution_count": 14,
   "metadata": {
    "collapsed": false
   },
   "outputs": [],
   "source": [
    "res_local = streamm.Resource('local')"
   ]
  },
  {
   "cell_type": "markdown",
   "metadata": {},
   "source": [
    "Set the `templates` directory "
   ]
  },
  {
   "cell_type": "code",
   "execution_count": 15,
   "metadata": {
    "collapsed": false
   },
   "outputs": [],
   "source": [
    "res_local.dir['templates'] =  os.path.join(res_local.dir['home'],'..','templates','')"
   ]
  },
  {
   "cell_type": "markdown",
   "metadata": {},
   "source": [
    "This reads in the current directory as the root directory for a project "
   ]
  },
  {
   "cell_type": "code",
   "execution_count": 16,
   "metadata": {
    "collapsed": false
   },
   "outputs": [
    {
     "name": "stdout",
     "output_type": "stream",
     "text": [
      "{u'home': '/Users/tkemper/Development/STREAMM/streamm-tools/examples',\n",
      " u'launch': u'/Users/tkemper/Development/STREAMM/streamm-tools/examples/scratch',\n",
      " u'materials': u'/Users/tkemper/Development/STREAMM/streamm-tools/examples/materials',\n",
      " u'scratch': u'/Users/tkemper/Development/STREAMM/streamm-tools/examples/scratch',\n",
      " u'scripts': u'/Users/tkemper/Development/STREAMM/streamm-tools/examples/scripts',\n",
      " u'storage': u'/Users/tkemper/Development/STREAMM/streamm-tools/examples/storage',\n",
      " u'templates': '/Users/tkemper/Development/STREAMM/streamm-tools/examples/../templates/'}\n"
     ]
    }
   ],
   "source": [
    "pprint(res_local.dir)"
   ]
  },
  {
   "cell_type": "markdown",
   "metadata": {},
   "source": [
    "These directories can be created using the make_dir() function"
   ]
  },
  {
   "cell_type": "code",
   "execution_count": 17,
   "metadata": {
    "collapsed": true
   },
   "outputs": [],
   "source": [
    "res_local.make_dir()"
   ]
  },
  {
   "cell_type": "markdown",
   "metadata": {},
   "source": [
    "Then the `Calculation` object can use the location of these directories and files within them to copy files to the correct locations "
   ]
  },
  {
   "cell_type": "code",
   "execution_count": 18,
   "metadata": {
    "collapsed": true
   },
   "outputs": [],
   "source": [
    "res_json = res_local.export_json()"
   ]
  },
  {
   "cell_type": "markdown",
   "metadata": {},
   "source": [
    "We can also setup a resource we can access using ssh calls"
   ]
  },
  {
   "cell_type": "code",
   "execution_count": 19,
   "metadata": {
    "collapsed": true
   },
   "outputs": [],
   "source": [
    "res_ssh = streamm.Resource('ssh')"
   ]
  },
  {
   "cell_type": "markdown",
   "metadata": {},
   "source": [
    "Set the type to `ssh`, this will trigger some if statements in the calculation object to scp calculation files to the external resource. "
   ]
  },
  {
   "cell_type": "code",
   "execution_count": 20,
   "metadata": {
    "collapsed": true
   },
   "outputs": [],
   "source": [
    "res_ssh.meta['type'] = \"ssh\""
   ]
  },
  {
   "cell_type": "markdown",
   "metadata": {},
   "source": [
    "Enter your username and the address of the resource"
   ]
  },
  {
   "cell_type": "code",
   "execution_count": 22,
   "metadata": {
    "collapsed": true
   },
   "outputs": [],
   "source": [
    "res_ssh.ssh['username'] = 'my_username'\n",
    "res_ssh.ssh['address'] = 'ssh_name'"
   ]
  },
  {
   "cell_type": "markdown",
   "metadata": {},
   "source": [
    "Then add the direcotry structure to the `dir` dictionary of the resource "
   ]
  },
  {
   "cell_type": "code",
   "execution_count": 23,
   "metadata": {
    "collapsed": true
   },
   "outputs": [],
   "source": [
    "res_ssh.dir['storage'] = '/storage/%s'%(res_ssh.ssh['username'])\n",
    "res_ssh.dir['scratch'] = '/scratch/%s'%(res_ssh.ssh['username'])\n",
    "res_ssh.dir['home'] = res_local.dir['home']\n",
    "res_ssh.dir['launch'] = res_local.dir['launch']\n",
    "res_ssh.dir['templates'] = res_local.dir['templates']"
   ]
  },
  {
   "cell_type": "code",
   "execution_count": 24,
   "metadata": {
    "collapsed": false
   },
   "outputs": [
    {
     "data": {
      "text/plain": [
       "{u'dir': {u'home': '/Users/tkemper/Development/STREAMM/streamm-tools/examples',\n",
       "  u'launch': u'/Users/tkemper/Development/STREAMM/streamm-tools/examples/scratch',\n",
       "  u'materials': u'/Users/tkemper/Development/STREAMM/streamm-tools/examples/materials',\n",
       "  u'scratch': '/scratch/my_username',\n",
       "  u'scripts': u'/Users/tkemper/Development/STREAMM/streamm-tools/examples/scripts',\n",
       "  u'storage': '/storage/my_username',\n",
       "  u'templates': '/Users/tkemper/Development/STREAMM/streamm-tools/examples/../templates/'},\n",
       " u'meta': {u'type': 'ssh'},\n",
       " u'properties': {u'allocation': u'',\n",
       "  u'exe_command': u'./',\n",
       "  u'feature': u'24core',\n",
       "  u'nodes': 1,\n",
       "  u'nproc': 1,\n",
       "  u'pmem': 1500,\n",
       "  u'ppn': 1,\n",
       "  u'queue': u'batch',\n",
       "  u'walltime': 24},\n",
       " u'ssh': {u'address': 'ssh_name', u'username': 'my_username'}}"
      ]
     },
     "execution_count": 24,
     "metadata": {},
     "output_type": "execute_result"
    }
   ],
   "source": [
    "res_ssh.export_json()"
   ]
  },
  {
   "cell_type": "markdown",
   "metadata": {},
   "source": [
    "Meh, whatever."
   ]
  }
 ],
 "metadata": {
  "kernelspec": {
   "display_name": "Python [default]",
   "language": "python",
   "name": "python2"
  },
  "language_info": {
   "codemirror_mode": {
    "name": "ipython",
    "version": 2
   },
   "file_extension": ".py",
   "mimetype": "text/x-python",
   "name": "python",
   "nbconvert_exporter": "python",
   "pygments_lexer": "ipython2",
   "version": "2.7.9"
  }
 },
 "nbformat": 4,
 "nbformat_minor": 2
}
