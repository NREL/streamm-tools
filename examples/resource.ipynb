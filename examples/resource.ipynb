{
 "cells": [
  {
   "cell_type": "code",
   "execution_count": 1,
   "metadata": {
    "collapsed": true
   },
   "outputs": [],
   "source": [
    "from pprint import pprint"
   ]
  },
  {
   "cell_type": "markdown",
   "metadata": {},
   "source": [
    "In this example, we will use the resource object to keep track of file locations"
   ]
  },
  {
   "cell_type": "code",
   "execution_count": 2,
   "metadata": {
    "collapsed": true
   },
   "outputs": [],
   "source": [
    "import streamm"
   ]
  },
  {
   "cell_type": "code",
   "execution_count": 3,
   "metadata": {
    "collapsed": true
   },
   "outputs": [],
   "source": [
    "res_local = streamm.Resource('local')"
   ]
  },
  {
   "cell_type": "markdown",
   "metadata": {},
   "source": [
    "This reads in the current directory as the root directory for a project "
   ]
  },
  {
   "cell_type": "code",
   "execution_count": 4,
   "metadata": {
    "collapsed": false
   },
   "outputs": [
    {
     "name": "stdout",
     "output_type": "stream",
     "text": [
      "{u'home': '/Users/tkemper/Development/STREAMM/streamm-tools/examples',\n",
      " u'launch': u'/Users/tkemper/Development/STREAMM/streamm-tools/examples/scratch',\n",
      " u'materials': u'/Users/tkemper/Development/STREAMM/streamm-tools/examples/materials',\n",
      " u'scratch': u'/Users/tkemper/Development/STREAMM/streamm-tools/examples/scratch',\n",
      " u'scripts': u'/Users/tkemper/Development/STREAMM/streamm-tools/examples/scripts',\n",
      " u'storage': u'/Users/tkemper/Development/STREAMM/streamm-tools/examples/storage',\n",
      " u'templates': u'/Users/tkemper/Development/STREAMM/streamm-tools/examples/templates'}\n"
     ]
    }
   ],
   "source": [
    "pprint(res_local.dir)"
   ]
  },
  {
   "cell_type": "markdown",
   "metadata": {},
   "source": [
    "These directories can be created using the make_dir() function"
   ]
  },
  {
   "cell_type": "code",
   "execution_count": 5,
   "metadata": {
    "collapsed": true
   },
   "outputs": [],
   "source": [
    "res_local.make_dir()"
   ]
  },
  {
   "cell_type": "markdown",
   "metadata": {},
   "source": [
    "Then the `Calculation` object can use the location of these directories and files within them to copy files to the correct locations "
   ]
  },
  {
   "cell_type": "code",
   "execution_count": 6,
   "metadata": {
    "collapsed": true
   },
   "outputs": [],
   "source": [
    "res_json = res_local.export_json()"
   ]
  },
  {
   "cell_type": "markdown",
   "metadata": {},
   "source": [
    "Meh, whatever."
   ]
  }
 ],
 "metadata": {
  "kernelspec": {
   "display_name": "Python [default]",
   "language": "python",
   "name": "python2"
  },
  "language_info": {
   "codemirror_mode": {
    "name": "ipython",
    "version": 2
   },
   "file_extension": ".py",
   "mimetype": "text/x-python",
   "name": "python",
   "nbconvert_exporter": "python",
   "pygments_lexer": "ipython2",
   "version": "2.7.9"
  }
 },
 "nbformat": 4,
 "nbformat_minor": 2
}
