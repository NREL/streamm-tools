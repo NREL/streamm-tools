{
 "cells": [
  {
   "cell_type": "code",
   "execution_count": 31,
   "metadata": {
    "collapsed": false
   },
   "outputs": [
    {
     "name": "stdout",
     "output_type": "stream",
     "text": [
      "The autoreload extension is already loaded. To reload it, use:\n",
      "  %reload_ext autoreload\n"
     ]
    }
   ],
   "source": [
    "# Standard \n",
    "import os, sys , copy ,shutil, logging, csv, json, logging\n",
    "logger = logging.getLogger()\n",
    "import pandas as pd\n",
    "import numpy as np\n",
    "%matplotlib inline\n",
    "import matplotlib\n",
    "import matplotlib.pyplot as plt\n",
    "from scipy import optimize\n",
    "\n",
    "\n",
    "# Import all the streamm modules\n",
    "from streamm import *\n",
    "\n",
    "%load_ext autoreload\n",
    "%autoreload 2"
   ]
  },
  {
   "cell_type": "code",
   "execution_count": 32,
   "metadata": {
    "collapsed": true
   },
   "outputs": [],
   "source": [
    "os.chdir('/Users/tkemper/Projects/DApolymers/notebooks')"
   ]
  },
  {
   "cell_type": "code",
   "execution_count": 33,
   "metadata": {
    "collapsed": true
   },
   "outputs": [],
   "source": [
    "def find_DA(calc_i):\n",
    "    \n",
    "\n",
    "    calc_i.strucC.propcompile_particles()\n",
    "    part_df =  pd.DataFrame(calc_i.strucC.prop_particles)\n",
    "\n",
    "    ress = []    \n",
    "    for res_i in  part_df['resname']:\n",
    "        if( res_i not in ress ):\n",
    "            ress.append(res_i)\n",
    "            print res_i\n",
    "    res_D = None\n",
    "    res_A = None\n",
    "    for res_i in ress:\n",
    "        if( res_i[:1] == 'D' ):\n",
    "            res_D = res_i\n",
    "        if( res_i[:1] == 'A' ):\n",
    "            res_A = res_i\n",
    "    if( res_D == None or res_A == None ):\n",
    "        print \" Search failed\"\n",
    "        \n",
    "\n",
    "    return part_df,res_D,res_A\n",
    "    "
   ]
  },
  {
   "cell_type": "code",
   "execution_count": 34,
   "metadata": {
    "collapsed": false
   },
   "outputs": [],
   "source": [
    "def make_rdfcalc(calc_ref,proj_tag):\n",
    "    tag_i = '%s_%s'%(calc_ref.tag,proj_tag)\n",
    "    tag_i = tag_i.replace('_rdf1','')\n",
    "    calc_i = calculation.CalculationRes(tag_i)\n",
    "    \n",
    "    calc_i.properties['name'] = calc_ref.properties['name']\n",
    "    calc_i.files['input']['cply'] = calc_ref.files['input']['cply']\n",
    "    \n",
    "    os.chdir(calc_ref.dir['launch'])\n",
    "    calc_i.strucC.read_cply(calc_i.files['input']['cply'])\n",
    "    \n",
    "\n",
    "    calc_i.set_resource(peregrine)\n",
    "    calc_i.properties['scratch'] = calc_i.dir['scratch']\n",
    "    calc_i.dir['templates'] = '/Users/tkemper/Development/streamm-tools/templates'\n",
    "    calc_i.dir['scripts'] = '/Users/tkemper/Development/streamm-tools/scripts'    \n",
    "\n",
    "    calc_i.make_dir()\n",
    "    \n",
    "    os.chdir(calc_i.dir['launch'])\n",
    "    # calc_i.add_refcalc(calc_ref)\n",
    "    # return calc_i\n",
    "\n",
    "    calc_i.strucC.write_cply()\n",
    "\n",
    "    calc_i.strucC.write_xyz()\n",
    "    \n",
    "    return calc_i\n",
    "\n"
   ]
  },
  {
   "cell_type": "code",
   "execution_count": 35,
   "metadata": {
    "collapsed": false
   },
   "outputs": [
    {
     "name": "stdout",
     "output_type": "stream",
     "text": [
      "Reading in resource json file res_local.json \n",
      "Reading in resource json file res_peregrine.json \n"
     ]
    }
   ],
   "source": [
    "local = resource.Resource('local')\n",
    "local.load_json()\n",
    "\n",
    "peregrine = resource.Resource('peregrine')\n",
    "peregrine.load_json()"
   ]
  },
  {
   "cell_type": "code",
   "execution_count": 40,
   "metadata": {
    "collapsed": false
   },
   "outputs": [
    {
     "name": "stdout",
     "output_type": "stream",
     "text": [
      "/Users/tkemper/Projects/DApolymers\n"
     ]
    }
   ],
   "source": [
    "print peregrine.dir['home']"
   ]
  },
  {
   "cell_type": "code",
   "execution_count": 36,
   "metadata": {
    "collapsed": false
   },
   "outputs": [
    {
     "name": "stdout",
     "output_type": "stream",
     "text": [
      "{u'allocation': u'orgopv', u'scratch': u'/scratch/tkemper', u'ppn': 24, u'feature': '24core', u'queue': 'batch', u'e-mail': u'travis.kemper@nrel.gov', u'exe_command': u'qsub ', u'nproc': 24, u'nodes': 1, u'pmem': 1500, u'walltime': 48}\n"
     ]
    }
   ],
   "source": [
    "peregrine.properties['queue'] = 'batch'\n",
    "peregrine.properties['walltime'] = 48\n",
    "peregrine.properties['feature'] = '24core'\n",
    "peregrine.properties['ppn'] = 24\n",
    "peregrine.properties['nproc'] = 24\n",
    "\n",
    "print peregrine.properties"
   ]
  },
  {
   "cell_type": "code",
   "execution_count": 37,
   "metadata": {
    "collapsed": false
   },
   "outputs": [
    {
     "name": "stdout",
     "output_type": "stream",
     "text": [
      "Resource tag found peregrine \n",
      "Reading in resource json file res_peregrine.json \n",
      "Resource tag found peregrine \n",
      "Reading in resource json file res_peregrine.json \n",
      "Resource tag found peregrine \n",
      "Reading in resource json file res_peregrine.json \n",
      "Resource tag found peregrine \n",
      "Reading in resource json file res_peregrine.json \n",
      "Resource tag found peregrine \n",
      "Reading in resource json file res_peregrine.json \n",
      "Resource tag found peregrine \n",
      "Reading in resource json file res_peregrine.json \n"
     ]
    }
   ],
   "source": [
    "proj_tag = 'rdf4'\n",
    "proj_i = project.Project('DAPpolymers_%s'%(proj_tag))\n",
    "proj_i.load_json()"
   ]
  },
  {
   "cell_type": "code",
   "execution_count": 38,
   "metadata": {
    "collapsed": false
   },
   "outputs": [
    {
     "name": "stdout",
     "output_type": "stream",
     "text": [
      "Resource tag found peregrine \n",
      "Reading in resource json file res_peregrine.json \n",
      "Resource tag found peregrine \n",
      "Reading in resource json file res_peregrine.json \n",
      "Resource tag found peregrine \n",
      "Reading in resource json file res_peregrine.json \n",
      "Resource tag found peregrine \n",
      "Reading in resource json file res_peregrine.json \n",
      "Resource tag found peregrine \n",
      "Reading in resource json file res_peregrine.json \n",
      "Resource tag found peregrine \n",
      "Reading in resource json file res_peregrine.json \n"
     ]
    }
   ],
   "source": [
    "ref_proj_tag = 'rdf1'\n",
    "proj_ref = project.Project('DAPpolymers_%s'%(ref_proj_tag))\n",
    "proj_ref.load_json()"
   ]
  },
  {
   "cell_type": "code",
   "execution_count": 39,
   "metadata": {
    "collapsed": false
   },
   "outputs": [
    {
     "name": "stdout",
     "output_type": "stream",
     "text": [
      "D1_R2R200_A2_R3_R200R200R201_n5_x197_prod1_rdf1\n",
      "/Users/tkemper/Projects/DApolymers/scratch/D1_R2R200_A2_R3_R200R200R201_n5_x197_prod1_rdf1/\n",
      "D51_00R300R3_A23_R4__n1wB_R41n1wBR41n1wBR41n1wB__n5_x173_prod1_rdf1\n",
      "/Users/tkemper/Projects/DApolymers/scratch/D51_00R300R3_A23_R4__n1wB_R41n1wBR41n1wBR41n1wB__n5_x173_prod1_rdf1/\n",
      "D1_R2R200_A23_R4_n1_R41n1R41n1R41n1__n5_x193_prod1_rdf1\n",
      "/Users/tkemper/Projects/DApolymers/scratch/D1_R2R200_A23_R4_n1_R41n1R41n1R41n1__n5_x193_prod1_rdf1/\n",
      "D1_R2R200_A23_R4_n1_R41n1R41n1R40n1__n5_x193_prod1_rdf1\n",
      "/Users/tkemper/Projects/DApolymers/scratch/D1_R2R200_A23_R4_n1_R41n1R41n1R40n1__n5_x193_prod1_rdf1/\n",
      "D1_R2R200_A31_R4_n1_R40n1R40n1R42n1__n5_x173_prod1_rdf1\n",
      "/Users/tkemper/Projects/DApolymers/scratch/D1_R2R200_A31_R4_n1_R40n1R40n1R42n1__n5_x173_prod1_rdf1/\n",
      "D1_R2R200_A31_R4_n1_R41n1R41n1R40n1__n5_x193_prod1_rdf1\n",
      "/Users/tkemper/Projects/DApolymers/scratch/D1_R2R200_A31_R4_n1_R41n1R41n1R40n1__n5_x193_prod1_rdf1/\n"
     ]
    }
   ],
   "source": [
    "for tag,calc_i in proj_ref.calculations.iteritems():\n",
    "    print tag\n",
    "    print calc_i.dir['launch']"
   ]
  },
  {
   "cell_type": "code",
   "execution_count": 124,
   "metadata": {
    "collapsed": false
   },
   "outputs": [
    {
     "name": "stdout",
     "output_type": "stream",
     "text": [
      "Resource tag found peregrine \n",
      "Reading in resource json file res_peregrine.json \n",
      "Resource tag found peregrine \n",
      "Reading in resource json file res_peregrine.json \n",
      "Resource tag found peregrine \n",
      "Reading in resource json file res_peregrine.json \n",
      "Resource tag found peregrine \n",
      "Reading in resource json file res_peregrine.json \n",
      "Resource tag found peregrine \n",
      "Reading in resource json file res_peregrine.json \n",
      "Resource tag found peregrine \n",
      "Reading in resource json file res_peregrine.json \n"
     ]
    }
   ],
   "source": [
    "prod1_proj_tag = 'prod1'\n",
    "proj_prod1 = project.Project('DAPpolymers_%s'%(prod1_proj_tag))\n",
    "proj_prod1.load_json()"
   ]
  },
  {
   "cell_type": "code",
   "execution_count": 8,
   "metadata": {
    "collapsed": false
   },
   "outputs": [
    {
     "name": "stdout",
     "output_type": "stream",
     "text": [
      "D1_R2R200_A2_R3_R200R200R201_n5_x197_prod1_rdf1 written BDT-TPD\n",
      "D51_00R300R3_A23_R4__n1wB_R41n1wBR41n1wBR41n1wB__n5_x173_prod1_rdf1 written PCE10\n",
      "D1_R2R200_A23_R4_n1_R41n1R41n1R41n1__n5_x193_prod1_rdf1 written PTB7\n",
      "D1_R2R200_A23_R4_n1_R41n1R41n1R40n1__n5_x193_prod1_rdf1 written PTB4\n",
      "D1_R2R200_A31_R4_n1_R40n1R40n1R42n1__n5_x173_prod1_rdf1 written PTB1\n",
      "D1_R2R200_A31_R4_n1_R41n1R41n1R40n1__n5_x193_prod1_rdf1 written PTB5\n"
     ]
    }
   ],
   "source": [
    "for tag_i,calc_ref in proj_ref.calculations.iteritems():\n",
    "    print tag_i,calc_ref.meta['status'],calc_ref.properties['name']"
   ]
  },
  {
   "cell_type": "code",
   "execution_count": null,
   "metadata": {
    "collapsed": false
   },
   "outputs": [],
   "source": [
    "for tag,calc_ref in proj_ref.calculations.iteritems():\n",
    "    print tag\n",
    "    calc_i = make_rdfcalc(calc_ref,proj_tag)\n",
    "    proj_i.calculations[calc_i.tag] = copy.deepcopy(calc_i)"
   ]
  },
  {
   "cell_type": "code",
   "execution_count": null,
   "metadata": {
    "collapsed": false
   },
   "outputs": [],
   "source": [
    "for tag,calc_i in proj_i.calculations.iteritems():\n",
    "    print tag\n",
    "    calc_i.meta['status']  = 'written'\n",
    "    calc_i.set_resource(peregrine)\n",
    "    calc_i.properties['scratch'] = calc_i.dir['scratch']\n",
    "\n",
    "\n",
    "\n",
    "    print calc_i.meta['status'] "
   ]
  },
  {
   "cell_type": "code",
   "execution_count": null,
   "metadata": {
    "collapsed": false
   },
   "outputs": [],
   "source": [
    "for tag,calc_i in proj_i.calculations.iteritems():\n",
    "    print tag\n",
    "    if( calc_i.meta['status'] != 'running' ):\n",
    "        os.chdir(calc_i.dir['launch'])\n",
    "\n",
    "        part_df,res_D,res_A = find_DA(calc_i)\n",
    "\n",
    "        print res_D,res_A\n",
    "\n",
    "        sel_D = part_df['resname'] == res_D\n",
    "        sel_A = part_df['resname'] == res_A\n",
    "        sel_THIO = part_df['resname'] == 'THIO'\n",
    "\n",
    "        syC = part_df['symbol'] == 'C'\n",
    "        syS = part_df['symbol'] == 'S'\n",
    "        syN = part_df['symbol'] == 'N'\n",
    "        ffO = part_df['fftype'] == 'O'    \n",
    "\n",
    "        calc_i.sel_DA = part_df[(syC | syS  |syN ) & (sel_D | sel_A )]\n",
    "        calc_i.strucC.write_xyz_list(calc_i.sel_DA.index,'sel_DA.xyz')    \n",
    "        calc_i.sel_D = part_df[(syC | syS  |syN ) & (sel_D  )]\n",
    "        calc_i.strucC.write_xyz_list(calc_i.sel_D.index,'sel_D.xyz')    \n",
    "        calc_i.sel_A = part_df[(syC | syS  |syN ) & ( sel_A )]\n",
    "        calc_i.strucC.write_xyz_list(calc_i.sel_A.index,'sel_A.xyz')    \n",
    "\n",
    "        file_DA = calc_i.strucC.write_list(calc_i.sel_DA.index,'DA')\n",
    "        file_D = calc_i.strucC.write_list(calc_i.sel_D.index,'D')\n",
    "        file_A = calc_i.strucC.write_list(calc_i.sel_A.index,'A')    \n",
    "\n"
   ]
  },
  {
   "cell_type": "code",
   "execution_count": 11,
   "metadata": {
    "collapsed": false
   },
   "outputs": [
    {
     "name": "stdout",
     "output_type": "stream",
     "text": [
      "D51_00R300R3_A23_R4__n1wB_R41n1wBR41n1wBR41n1wB__n5_x173_prod1_rdf4\n",
      "D1_R2R200_A23_R4_n1_R41n1R41n1R41n1__n5_x193_prod1_rdf4\n",
      "D1_R2R200_A2_R3_R200R200R201_n5_x197_prod1_rdf4\n",
      "D1_R2R200_A23_R4_n1_R41n1R41n1R40n1__n5_x193_prod1_rdf4\n",
      "D1_R2R200_A31_R4_n1_R41n1R41n1R40n1__n5_x193_prod1_rdf4\n",
      "D1_R2R200_A31_R4_n1_R40n1R40n1R42n1__n5_x173_prod1_rdf4\n"
     ]
    }
   ],
   "source": [
    "for tag,calc_i in proj_i.calculations.iteritems():\n",
    "        print tag\n",
    "\n",
    "        calc_i.files['input']['file_DA'] = 'DA.list'\n",
    "        calc_i.files['input']['file_D'] = 'D.list'\n",
    "        calc_i.files['input']['file_A'] = 'A.list'"
   ]
  },
  {
   "cell_type": "code",
   "execution_count": 12,
   "metadata": {
    "collapsed": false
   },
   "outputs": [
    {
     "name": "stdout",
     "output_type": "stream",
     "text": [
      "D51_00R300R3_A23_R4__n1wB_R41n1wBR41n1wBR41n1wB__n5_x173_prod1_rdf4\n",
      "D1_R2R200_A23_R4_n1_R41n1R41n1R41n1__n5_x193_prod1_rdf4\n",
      "D1_R2R200_A2_R3_R200R200R201_n5_x197_prod1_rdf4\n",
      "D1_R2R200_A23_R4_n1_R41n1R41n1R40n1__n5_x193_prod1_rdf4\n",
      "D1_R2R200_A31_R4_n1_R41n1R41n1R40n1__n5_x193_prod1_rdf4\n",
      "D1_R2R200_A31_R4_n1_R40n1R40n1R42n1__n5_x173_prod1_rdf4\n"
     ]
    }
   ],
   "source": [
    "for tag,calc_i in proj_i.calculations.iteritems():\n",
    "    print tag\n",
    "\n",
    "    calc_i.dir['templates'] = '/Users/tkemper/Development/streamm-tools/templates'\n",
    "    calc_i.dir['scripts'] = '/Users/tkemper/Development/streamm-tools/scripts'    \n",
    "\n"
   ]
  },
  {
   "cell_type": "code",
   "execution_count": 13,
   "metadata": {
    "collapsed": false
   },
   "outputs": [
    {
     "name": "stdout",
     "output_type": "stream",
     "text": [
      "D51_00R300R3_A23_R4__n1wB_R41n1wBR41n1wBR41n1wB__n5_x173_prod1_rdf4\n",
      "> in cp_file  templates run streamm_peregrine.pbs templates launch\n",
      "copying /Users/tkemper/Development/streamm-tools/templates/streamm_peregrine.pbs to /Users/tkemper/Projects/DApolymers/scratch/D51_00R300R3_A23_R4__n1wB_R41n1wBR41n1wBR41n1wB__n5_x173_prod1_rdf4/streamm_peregrine.pbs \n",
      "> in cp_file  input py_script rdf2.py scripts launch\n",
      "copying /Users/tkemper/Development/streamm-tools/scripts/rdf2.py to /Users/tkemper/Projects/DApolymers/scratch/D51_00R300R3_A23_R4__n1wB_R41n1wBR41n1wBR41n1wB__n5_x173_prod1_rdf4/rdf2.py \n",
      "D1_R2R200_A23_R4_n1_R41n1R41n1R41n1__n5_x193_prod1_rdf4\n",
      "> in cp_file  templates run streamm_peregrine.pbs templates launch\n",
      "copying /Users/tkemper/Development/streamm-tools/templates/streamm_peregrine.pbs to /Users/tkemper/Projects/DApolymers/scratch/D1_R2R200_A23_R4_n1_R41n1R41n1R41n1__n5_x193_prod1_rdf4/streamm_peregrine.pbs \n",
      "> in cp_file  input py_script rdf2.py scripts launch\n",
      "copying /Users/tkemper/Development/streamm-tools/scripts/rdf2.py to /Users/tkemper/Projects/DApolymers/scratch/D1_R2R200_A23_R4_n1_R41n1R41n1R41n1__n5_x193_prod1_rdf4/rdf2.py \n",
      "D1_R2R200_A2_R3_R200R200R201_n5_x197_prod1_rdf4\n",
      "> in cp_file  templates run streamm_peregrine.pbs templates launch\n",
      "copying /Users/tkemper/Development/streamm-tools/templates/streamm_peregrine.pbs to /Users/tkemper/Projects/DApolymers/scratch/D1_R2R200_A2_R3_R200R200R201_n5_x197_prod1_rdf4/streamm_peregrine.pbs \n",
      "> in cp_file  input py_script rdf2.py scripts launch\n",
      "copying /Users/tkemper/Development/streamm-tools/scripts/rdf2.py to /Users/tkemper/Projects/DApolymers/scratch/D1_R2R200_A2_R3_R200R200R201_n5_x197_prod1_rdf4/rdf2.py \n",
      "D1_R2R200_A23_R4_n1_R41n1R41n1R40n1__n5_x193_prod1_rdf4\n",
      "> in cp_file  templates run streamm_peregrine.pbs templates launch\n",
      "copying /Users/tkemper/Development/streamm-tools/templates/streamm_peregrine.pbs to /Users/tkemper/Projects/DApolymers/scratch/D1_R2R200_A23_R4_n1_R41n1R41n1R40n1__n5_x193_prod1_rdf4/streamm_peregrine.pbs \n",
      "> in cp_file  input py_script rdf2.py scripts launch\n",
      "copying /Users/tkemper/Development/streamm-tools/scripts/rdf2.py to /Users/tkemper/Projects/DApolymers/scratch/D1_R2R200_A23_R4_n1_R41n1R41n1R40n1__n5_x193_prod1_rdf4/rdf2.py \n",
      "D1_R2R200_A31_R4_n1_R41n1R41n1R40n1__n5_x193_prod1_rdf4\n",
      "> in cp_file  templates run streamm_peregrine.pbs templates launch\n",
      "copying /Users/tkemper/Development/streamm-tools/templates/streamm_peregrine.pbs to /Users/tkemper/Projects/DApolymers/scratch/D1_R2R200_A31_R4_n1_R41n1R41n1R40n1__n5_x193_prod1_rdf4/streamm_peregrine.pbs \n",
      "> in cp_file  input py_script rdf2.py scripts launch\n",
      "copying /Users/tkemper/Development/streamm-tools/scripts/rdf2.py to /Users/tkemper/Projects/DApolymers/scratch/D1_R2R200_A31_R4_n1_R41n1R41n1R40n1__n5_x193_prod1_rdf4/rdf2.py \n",
      "D1_R2R200_A31_R4_n1_R40n1R40n1R42n1__n5_x173_prod1_rdf4\n",
      "> in cp_file  templates run streamm_peregrine.pbs templates launch\n",
      "copying /Users/tkemper/Development/streamm-tools/templates/streamm_peregrine.pbs to /Users/tkemper/Projects/DApolymers/scratch/D1_R2R200_A31_R4_n1_R40n1R40n1R42n1__n5_x173_prod1_rdf4/streamm_peregrine.pbs \n",
      "> in cp_file  input py_script rdf2.py scripts launch\n",
      "copying /Users/tkemper/Development/streamm-tools/scripts/rdf2.py to /Users/tkemper/Projects/DApolymers/scratch/D1_R2R200_A31_R4_n1_R40n1R40n1R42n1__n5_x173_prod1_rdf4/rdf2.py \n"
     ]
    }
   ],
   "source": [
    "for tag,calc_i in proj_i.calculations.iteritems():\n",
    "    print tag\n",
    "    #if( calc_i.meta['status'] != 'running' ):\n",
    "\n",
    "    os.chdir(calc_i.dir['launch'])\n",
    "\n",
    "    file_type = 'templates'\n",
    "    file_key = 'run'\n",
    "    file_name = \"streamm_peregrine.pbs\"\n",
    "    from_dirkey = 'templates'\n",
    "    to_dirkey = 'launch'\n",
    "    calc_i.cp_file(file_type,file_key,file_name,from_dirkey,to_dirkey)\n",
    "\n",
    "    file_type = 'input'\n",
    "    file_key = 'py_script'\n",
    "    file_name = \"rdf2.py\"\n",
    "    from_dirkey = 'scripts'\n",
    "    to_dirkey = 'launch'\n",
    "    calc_i.cp_file(file_type,file_key,file_name,from_dirkey,to_dirkey)\n",
    "\n"
   ]
  },
  {
   "cell_type": "code",
   "execution_count": 75,
   "metadata": {
    "collapsed": false
   },
   "outputs": [
    {
     "name": "stdout",
     "output_type": "stream",
     "text": [
      "D51_00R300R3_A23_R4__n1wB_R41n1wBR41n1wBR41n1wB__n5_x173_prod1_rdf4 running\n",
      "D1_R2R200_A23_R4_n1_R41n1R41n1R41n1__n5_x193_prod1_rdf4 running\n",
      "D1_R2R200_A2_R3_R200R200R201_n5_x197_prod1_rdf4 running\n",
      "D1_R2R200_A23_R4_n1_R41n1R41n1R40n1__n5_x193_prod1_rdf4 running\n",
      "D1_R2R200_A31_R4_n1_R41n1R41n1R40n1__n5_x193_prod1_rdf4 running\n",
      "D1_R2R200_A31_R4_n1_R40n1R40n1R42n1__n5_x173_prod1_rdf4 running\n"
     ]
    }
   ],
   "source": [
    "for tag,calc_i in proj_i.calculations.iteritems():\n",
    "    print tag,calc_i.meta['status']\n",
    "    calc_i.properties['frame_step'] = 100 \n",
    "\n"
   ]
  },
  {
   "cell_type": "code",
   "execution_count": 16,
   "metadata": {
    "collapsed": false
   },
   "outputs": [
    {
     "name": "stdout",
     "output_type": "stream",
     "text": [
      "D51_00R300R3_A23_R4__n1wB_R41n1wBR41n1wBR41n1wB__n5_x173_prod1_rdf4\n",
      "python rdf2.py  D_D_fs100 --cply D51_00R300R3_A23_R4__n1wB_R41n1wBR41n1wBR41n1wB__n5_x173.cply --list_i D.list  --list_j D.list  --dcd prod1_dump.dcd --mol_inter --frame_step 100\n",
      " \n",
      "python rdf2.py  D_A_fs100 --cply D51_00R300R3_A23_R4__n1wB_R41n1wBR41n1wBR41n1wB__n5_x173.cply --list_i D.list  --list_j A.list  --dcd prod1_dump.dcd --mol_inter --frame_step 100\n",
      " \n",
      "python rdf2.py  A_A_fs100 --cply D51_00R300R3_A23_R4__n1wB_R41n1wBR41n1wBR41n1wB__n5_x173.cply --list_i A.list  --list_j A.list  --dcd prod1_dump.dcd --mol_inter --frame_step 100\n",
      "D1_R2R200_A23_R4_n1_R41n1R41n1R41n1__n5_x193_prod1_rdf4\n",
      "python rdf2.py  D_D_fs100 --cply D1_R2R200_A23_R4_n1_R41n1R41n1R41n1__n5_x193.cply --list_i D.list  --list_j D.list  --dcd prod1_dump.dcd --mol_inter --frame_step 100\n",
      " \n",
      "python rdf2.py  D_A_fs100 --cply D1_R2R200_A23_R4_n1_R41n1R41n1R41n1__n5_x193.cply --list_i D.list  --list_j A.list  --dcd prod1_dump.dcd --mol_inter --frame_step 100\n",
      " \n",
      "python rdf2.py  A_A_fs100 --cply D1_R2R200_A23_R4_n1_R41n1R41n1R41n1__n5_x193.cply --list_i A.list  --list_j A.list  --dcd prod1_dump.dcd --mol_inter --frame_step 100\n",
      "D1_R2R200_A2_R3_R200R200R201_n5_x197_prod1_rdf4\n",
      "python rdf2.py  D_D_fs100 --cply D1_R2R200_A2_R3_R200R200R201_n5_x197.cply --list_i D.list  --list_j D.list  --dcd prod1_dump.dcd --mol_inter --frame_step 100\n",
      " \n",
      "python rdf2.py  D_A_fs100 --cply D1_R2R200_A2_R3_R200R200R201_n5_x197.cply --list_i D.list  --list_j A.list  --dcd prod1_dump.dcd --mol_inter --frame_step 100\n",
      " \n",
      "python rdf2.py  A_A_fs100 --cply D1_R2R200_A2_R3_R200R200R201_n5_x197.cply --list_i A.list  --list_j A.list  --dcd prod1_dump.dcd --mol_inter --frame_step 100\n",
      "D1_R2R200_A23_R4_n1_R41n1R41n1R40n1__n5_x193_prod1_rdf4\n",
      "python rdf2.py  D_D_fs100 --cply D1_R2R200_A23_R4_n1_R41n1R41n1R40n1__n5_x193.cply --list_i D.list  --list_j D.list  --dcd prod1_dump.dcd --mol_inter --frame_step 100\n",
      " \n",
      "python rdf2.py  D_A_fs100 --cply D1_R2R200_A23_R4_n1_R41n1R41n1R40n1__n5_x193.cply --list_i D.list  --list_j A.list  --dcd prod1_dump.dcd --mol_inter --frame_step 100\n",
      " \n",
      "python rdf2.py  A_A_fs100 --cply D1_R2R200_A23_R4_n1_R41n1R41n1R40n1__n5_x193.cply --list_i A.list  --list_j A.list  --dcd prod1_dump.dcd --mol_inter --frame_step 100\n",
      "D1_R2R200_A31_R4_n1_R41n1R41n1R40n1__n5_x193_prod1_rdf4\n",
      "python rdf2.py  D_D_fs100 --cply D1_R2R200_A31_R4_n1_R41n1R41n1R40n1__n5_x193.cply --list_i D.list  --list_j D.list  --dcd prod1_dump.dcd --mol_inter --frame_step 100\n",
      " \n",
      "python rdf2.py  D_A_fs100 --cply D1_R2R200_A31_R4_n1_R41n1R41n1R40n1__n5_x193.cply --list_i D.list  --list_j A.list  --dcd prod1_dump.dcd --mol_inter --frame_step 100\n",
      " \n",
      "python rdf2.py  A_A_fs100 --cply D1_R2R200_A31_R4_n1_R41n1R41n1R40n1__n5_x193.cply --list_i A.list  --list_j A.list  --dcd prod1_dump.dcd --mol_inter --frame_step 100\n",
      "D1_R2R200_A31_R4_n1_R40n1R40n1R42n1__n5_x173_prod1_rdf4\n",
      "python rdf2.py  D_D_fs100 --cply D1_R2R200_A31_R4_n1_R40n1R40n1R42n1__n5_x173.cply --list_i D.list  --list_j D.list  --dcd prod1_dump.dcd --mol_inter --frame_step 100\n",
      " \n",
      "python rdf2.py  D_A_fs100 --cply D1_R2R200_A31_R4_n1_R40n1R40n1R42n1__n5_x173.cply --list_i D.list  --list_j A.list  --dcd prod1_dump.dcd --mol_inter --frame_step 100\n",
      " \n",
      "python rdf2.py  A_A_fs100 --cply D1_R2R200_A31_R4_n1_R40n1R40n1R42n1__n5_x173.cply --list_i A.list  --list_j A.list  --dcd prod1_dump.dcd --mol_inter --frame_step 100\n"
     ]
    }
   ],
   "source": [
    "for tag,calc_i in proj_i.calculations.iteritems():\n",
    "        print tag\n",
    "        # if( calc_i.meta['status'] != 'running' ):\n",
    "\n",
    "\n",
    "        os.chdir(calc_i.dir['launch'])\n",
    "\n",
    "        calc_i.properties['streamm_command'] = ' \\n'\n",
    "\n",
    "        run_tag = \"D_D_fs%d\"%(calc_i.properties['frame_step'])\n",
    "        calc_i.properties['streamm_command'] = 'python %s  %s --cply %s'%(calc_i.files['input']['py_script'],run_tag,calc_i.files['input']['cply'])\n",
    "        calc_i.properties['streamm_command'] += ' --list_i %s '%(calc_i.files['input']['file_D'])\n",
    "        calc_i.properties['streamm_command'] += ' --list_j %s '%(calc_i.files['input']['file_D'])\n",
    "        calc_i.properties['streamm_command'] += ' --dcd prod1_dump.dcd'\n",
    "        calc_i.properties['streamm_command'] += ' --mol_inter'\n",
    "        calc_i.properties['streamm_command'] += ' --frame_step %d'%(calc_i.properties['frame_step'])\n",
    "\n",
    "        calc_i.files['output'][\"%s_log\"%(run_tag)] = \"%s.log\"%(run_tag)\n",
    "        calc_i.files['output'][\"%s_data\"%(run_tag)] = \"%s.dat\"%(run_tag)\n",
    "\n",
    "        print calc_i.properties['streamm_command']    \n",
    "\n",
    "\n",
    "        calc_i.load_str('templates','run')\n",
    "        calc_i.replacewrite_prop('run','scripts','run_%s'%(run_tag),'%s.pbs'%(run_tag))\n",
    "\n",
    "\n",
    "        calc_i.properties['finish_str'] ='Finished'\n",
    "\n",
    "\n",
    "\n",
    "        calc_i.properties['streamm_command'] = ' \\n'\n",
    "        run_tag = \"D_A_fs%d\"%(calc_i.properties['frame_step'])\n",
    "        calc_i.properties['streamm_command'] += 'python %s  %s --cply %s'%(calc_i.files['input']['py_script'],run_tag,calc_i.files['input']['cply'])\n",
    "        calc_i.properties['streamm_command'] += ' --list_i %s '%(calc_i.files['input']['file_D'])\n",
    "        calc_i.properties['streamm_command'] += ' --list_j %s '%(calc_i.files['input']['file_A'])\n",
    "        calc_i.properties['streamm_command'] += ' --dcd prod1_dump.dcd'\n",
    "        calc_i.properties['streamm_command'] += ' --mol_inter'\n",
    "        calc_i.properties['streamm_command'] += ' --frame_step %d'%(calc_i.properties['frame_step'])\n",
    "        calc_i.files['output'][\"%s_log\"%(run_tag)] = \"%s.log\"%(run_tag)\n",
    "        calc_i.files['output'][\"%s_data\"%(run_tag)] = \"%s.dat\"%(run_tag)\n",
    "\n",
    "\n",
    "        print calc_i.properties['streamm_command']    \n",
    "\n",
    "\n",
    "        calc_i.load_str('templates','run')\n",
    "        calc_i.replacewrite_prop('run','scripts','run_%s'%(run_tag),'%s.pbs'%(run_tag))\n",
    "\n",
    "\n",
    "        calc_i.properties['finish_str'] ='Finished'\n",
    "\n",
    "\n",
    "        calc_i.properties['streamm_command'] = ' \\n'\n",
    "        run_tag = \"A_A_fs%d\"%(calc_i.properties['frame_step'])\n",
    "        calc_i.properties['streamm_command'] += 'python %s  %s --cply %s'%(calc_i.files['input']['py_script'],run_tag,calc_i.files['input']['cply'])\n",
    "        calc_i.properties['streamm_command'] += ' --list_i %s '%(calc_i.files['input']['file_A'])\n",
    "        calc_i.properties['streamm_command'] += ' --list_j %s '%(calc_i.files['input']['file_A'])\n",
    "        calc_i.properties['streamm_command'] += ' --dcd prod1_dump.dcd'\n",
    "        calc_i.properties['streamm_command'] += ' --mol_inter'\n",
    "        calc_i.properties['streamm_command'] += ' --frame_step %d'%(calc_i.properties['frame_step'])\n",
    "        \n",
    "        calc_i.files['output'][\"%s_log\"%(run_tag)] = \"%s.log\"%(run_tag)\n",
    "        calc_i.files['output'][\"%s_data\"%(run_tag)] = \"%s.dat\"%(run_tag)\n",
    "\n",
    "\n",
    "        print calc_i.properties['streamm_command']    \n",
    "\n",
    "\n",
    "        calc_i.load_str('templates','run')\n",
    "        calc_i.replacewrite_prop('run','scripts','run_%s'%(run_tag),'%s.pbs'%(run_tag))\n",
    "\n",
    "\n",
    "        calc_i.properties['finish_str'] ='Finished'\n",
    "\n",
    "        \n",
    "        #return prod1_et"
   ]
  },
  {
   "cell_type": "code",
   "execution_count": 26,
   "metadata": {
    "collapsed": true
   },
   "outputs": [],
   "source": [
    "for tag,calc_i in proj_i.calculations.iteritems():\n",
    "    run_tag = \"A_A_fs%d\"%(calc_i.properties['frame_step'])\n",
    "    calc_i.files['output'][\"log\"] = \"%s.log\"%(run_tag)\n",
    "\n",
    "\n"
   ]
  },
  {
   "cell_type": "code",
   "execution_count": null,
   "metadata": {
    "collapsed": false
   },
   "outputs": [],
   "source": [
    "for tag,calc_i in proj_i.calculations.iteritems():\n",
    "    try:\n",
    "        del calc_i.files['scripts']['py_script']\n",
    "    except:\n",
    "        print \"meh\""
   ]
  },
  {
   "cell_type": "code",
   "execution_count": null,
   "metadata": {
    "collapsed": false
   },
   "outputs": [],
   "source": [
    "for tag,calc_i in proj_i.calculations.iteritems():\n",
    "    print calc_i.files['scripts']"
   ]
  },
  {
   "cell_type": "code",
   "execution_count": null,
   "metadata": {
    "collapsed": false
   },
   "outputs": [],
   "source": [
    "os.chdir(calc_i.dir['home'])"
   ]
  },
  {
   "cell_type": "code",
   "execution_count": null,
   "metadata": {
    "collapsed": false
   },
   "outputs": [],
   "source": [
    "proj_prod1_id = 'prod1'\n",
    "proj_prod1 = project.Project('DAPpolymers_%s'%(proj_prod1_id))\n",
    "proj_prod1.load_json()"
   ]
  },
  {
   "cell_type": "code",
   "execution_count": null,
   "metadata": {
    "collapsed": false
   },
   "outputs": [],
   "source": [
    "for tag,calc_prod1 in proj_prod1.calculations.iteritems():\n",
    "    print calc_prod1.tag #,calc_prod1.properties['name']"
   ]
  },
  {
   "cell_type": "code",
   "execution_count": null,
   "metadata": {
    "collapsed": false
   },
   "outputs": [],
   "source": [
    "for tag,calc_i in proj_i.calculations.iteritems():\n",
    "\n",
    "    print calc_i.tag"
   ]
  },
  {
   "cell_type": "code",
   "execution_count": null,
   "metadata": {
    "collapsed": false
   },
   "outputs": [],
   "source": [
    "calc_i = proj_i.calculations['D1_R2R200_A2_R3_R200R200R201_n5_x197_prod1_rdf4']\n",
    "calc_i.add_refcalc(proj_prod1.calculations['D1_R2R200_A2_R3_R200R200R201_n5_x197_prod1'])\n",
    "calc_i = proj_i.calculations['D1_R2R200_A23_R4_n1_R41n1R41n1R41n1__n5_x193_prod1_rdf4']\n",
    "calc_i.add_refcalc(proj_prod1.calculations['D1_R2R200_A23_R4_n1_R41n1R41n1R41n1__n5_x193_prod1'])\n",
    "calc_i = proj_i.calculations['D1_R2R200_A23_R4_n1_R41n1R41n1R40n1__n5_x193_prod1_rdf4']\n",
    "calc_i.add_refcalc(proj_prod1.calculations['D1_R2R200_A23_R4_n1_R41n1R41n1R40n1__n5_x193_prod1'])\n",
    "calc_i = proj_i.calculations['D1_R2R200_A31_R4_n1_R40n1R40n1R42n1__n5_x173_prod1_rdf4']\n",
    "calc_i.add_refcalc(proj_prod1.calculations['D1_R2R200_A31_R4_n1_R40n1R40n1R42n1__n5_x173_prod1'])\n",
    "calc_i = proj_i.calculations['D1_R2R200_A31_R4_n1_R41n1R41n1R40n1__n5_x193_prod1_rdf4']\n",
    "calc_i.add_refcalc(proj_prod1.calculations['D1_R2R200_A31_R4_n1_R41n1R41n1R40n1__n5_x193_prod1'])\n",
    "calc_i = proj_i.calculations['D51_00R300R3_A23_R4__n1wB_R41n1wBR41n1wBR41n1wB__n5_x173_prod1_rdf4']\n",
    "calc_i.add_refcalc(proj_prod1.calculations['D51_00R300R3_A23_R4__n1wB_R41n1wBR41n1wBR41n1wB__n5_x173_prod1'])"
   ]
  },
  {
   "cell_type": "code",
   "execution_count": null,
   "metadata": {
    "collapsed": false
   },
   "outputs": [],
   "source": [
    "for tag_i,calc_ref in proj_ref.calculations.iteritems():\n",
    "    print tag_i,calc_ref.meta['status'],calc_ref.properties['name']"
   ]
  },
  {
   "cell_type": "code",
   "execution_count": null,
   "metadata": {
    "collapsed": false
   },
   "outputs": [],
   "source": [
    "for tag,calc_i in proj_i.calculations.iteritems():\n",
    "    print tag\n",
    "    #if( calc_i.meta['status'] != 'running' ):\n",
    "    calc_i.meta['status'] = 'written'\n",
    "    os.chdir(calc_i.dir['launch'])\n",
    "\n",
    "    calc_i.push()"
   ]
  },
  {
   "cell_type": "code",
   "execution_count": null,
   "metadata": {
    "collapsed": false
   },
   "outputs": [],
   "source": [
    "for tag,calc_i in proj_i.calculations.iteritems():\n",
    "    print tag\n",
    "    if( calc_i.meta['status'] != 'running' ):\n",
    "        calc_i.run()\n",
    "\n",
    "        calc_i.meta['status'] = 'running'\n",
    "        print calc_i.meta['status']  \n",
    "\n",
    "        os.chdir(calc_i.dir['home'])\n",
    "        calc_i.dump_json()        "
   ]
  },
  {
   "cell_type": "code",
   "execution_count": null,
   "metadata": {
    "collapsed": false
   },
   "outputs": [],
   "source": [
    "for tag,calc_i in proj_i.calculations.iteritems():\n",
    "\n",
    "        os.chdir(calc_i.dir['home'])\n",
    "        calc_i.dump_json()   \n",
    "        \n",
    "os.chdir(calc_i.dir['home'])\n",
    "proj_i.dump_json()"
   ]
  },
  {
   "cell_type": "markdown",
   "metadata": {
    "collapsed": true
   },
   "source": [
    "Add other RDFs "
   ]
  },
  {
   "cell_type": "code",
   "execution_count": null,
   "metadata": {
    "collapsed": true
   },
   "outputs": [],
   "source": []
  },
  {
   "cell_type": "code",
   "execution_count": 17,
   "metadata": {
    "collapsed": true
   },
   "outputs": [],
   "source": [
    "calc_i = proj_i.calculations['D1_R2R200_A2_R3_R200R200R201_n5_x197_prod1_rdf4']"
   ]
  },
  {
   "cell_type": "code",
   "execution_count": 18,
   "metadata": {
    "collapsed": true
   },
   "outputs": [],
   "source": [
    "    calc_i.meta['status'] = 'written'"
   ]
  },
  {
   "cell_type": "code",
   "execution_count": 19,
   "metadata": {
    "collapsed": true
   },
   "outputs": [],
   "source": [
    "        os.chdir(calc_i.dir['launch'])"
   ]
  },
  {
   "cell_type": "code",
   "execution_count": null,
   "metadata": {
    "collapsed": false
   },
   "outputs": [],
   "source": [
    "        part_df,res_D,res_A = find_DA(calc_i)\n",
    "\n",
    "        sel_D = part_df['resname'] == res_D\n",
    "        sel_A = part_df['resname'] == res_A\n",
    "        sel_THIO = part_df['resname'] == 'THIO'\n",
    "\n",
    "        syC = part_df['symbol'] == 'C'\n",
    "        syS = part_df['symbol'] == 'S'\n",
    "        syN = part_df['symbol'] == 'N'\n",
    "        ffO = part_df['fftype'] == 'O'   \n",
    "        \n",
    "        ffO = part_df['fftype'] == 'O'    \n",
    "        ffS = part_df['fftype'] == 'S'        \n",
    "        ffNS = part_df['fftype'] == 'NS'   "
   ]
  },
  {
   "cell_type": "code",
   "execution_count": null,
   "metadata": {
    "collapsed": true
   },
   "outputs": [],
   "source": []
  },
  {
   "cell_type": "code",
   "execution_count": null,
   "metadata": {
    "collapsed": true
   },
   "outputs": [],
   "source": [
    "    calc_i.sel_AffO = part_df[( ffO ) & ( sel_A )]\n",
    "    calc_i.strucC.write_xyz_list(calc_i.sel_AffO.index,'sel_AffO.xyz')   \n",
    "    file_AffO = calc_i.strucC.write_list(calc_i.sel_AffO.index,'AffO')    \n",
    "    calc_i.files['input']['file_AffO'] = file_AffO   \n",
    "\n",
    "    calc_i.sel_AffS = part_df[( ffS ) & ( sel_A )]\n",
    "    calc_i.strucC.write_xyz_list(calc_i.sel_AffS.index,'sel_AffS.xyz')   \n",
    "    file_AffS = calc_i.strucC.write_list(calc_i.sel_AffS.index,'AffS')    \n",
    "    calc_i.files['input']['file_AffS'] = file_AffS   \n",
    "\n",
    "    calc_i.sel_AffNS = part_df[( ffNS ) & ( sel_A )]\n",
    "    calc_i.strucC.write_xyz_list(calc_i.sel_AffNS.index,'sel_AffNS.xyz')   \n",
    "    file_AffNS = calc_i.strucC.write_list(calc_i.sel_AffNS.index,'AffNS')    \n",
    "    calc_i.files['input']['file_AffNS'] = file_AffNS   "
   ]
  },
  {
   "cell_type": "code",
   "execution_count": null,
   "metadata": {
    "collapsed": false
   },
   "outputs": [],
   "source": [
    "    calc_i.files['scripts_t'] =  calc_i.files['scripts']"
   ]
  },
  {
   "cell_type": "code",
   "execution_count": null,
   "metadata": {
    "collapsed": true
   },
   "outputs": [],
   "source": [
    "    del  calc_i.files['scripts']"
   ]
  },
  {
   "cell_type": "code",
   "execution_count": null,
   "metadata": {
    "collapsed": true
   },
   "outputs": [],
   "source": [
    "    calc_i.files['scripts'] = {}"
   ]
  },
  {
   "cell_type": "code",
   "execution_count": null,
   "metadata": {
    "collapsed": false
   },
   "outputs": [],
   "source": [
    "    print  calc_i.files['scripts']"
   ]
  },
  {
   "cell_type": "code",
   "execution_count": null,
   "metadata": {
    "collapsed": true
   },
   "outputs": [],
   "source": []
  },
  {
   "cell_type": "code",
   "execution_count": null,
   "metadata": {
    "collapsed": false
   },
   "outputs": [],
   "source": [
    "        calc_i.properties['streamm_command'] = ' \\n'\n",
    "\n",
    "        run_tag = \"AffO_AffO_fs%d\"%(calc_i.properties['frame_step'])\n",
    "        calc_i.properties['streamm_command'] = 'python %s  %s --cply %s'%(calc_i.files['input']['py_script'],run_tag,calc_i.files['input']['cply'])\n",
    "        calc_i.properties['streamm_command'] += ' --list_i %s '%(calc_i.files['input']['file_AffO'])\n",
    "        calc_i.properties['streamm_command'] += ' --list_j %s '%(calc_i.files['input']['file_AffO'])\n",
    "        calc_i.properties['streamm_command'] += ' --dcd prod1_dump.dcd'\n",
    "        calc_i.properties['streamm_command'] += ' --mol_inter'\n",
    "        calc_i.properties['streamm_command'] += ' --frame_step %d'%(calc_i.properties['frame_step'])\n",
    "\n",
    "        calc_i.files['output'][\"%s_log\"%(run_tag)] = \"%s.log\"%(run_tag)\n",
    "        calc_i.files['output'][\"%s_data\"%(run_tag)] = \"%s.dat\"%(run_tag)\n",
    "\n",
    "        print calc_i.properties['streamm_command']    \n",
    "\n",
    "\n",
    "        calc_i.load_str('templates','run')\n",
    "        calc_i.replacewrite_prop('run','scripts','run_%s'%(run_tag),'%s.pbs'%(run_tag))\n",
    "\n",
    "\n",
    "        calc_i.properties['finish_str'] ='Finished'\n",
    "\n",
    "        run_tag = \"AffS_AffS_fs%d\"%(calc_i.properties['frame_step'])\n",
    "        calc_i.properties['streamm_command'] = 'python %s  %s --cply %s'%(calc_i.files['input']['py_script'],run_tag,calc_i.files['input']['cply'])\n",
    "        calc_i.properties['streamm_command'] += ' --list_i %s '%(calc_i.files['input']['file_AffS'])\n",
    "        calc_i.properties['streamm_command'] += ' --list_j %s '%(calc_i.files['input']['file_AffS'])\n",
    "        calc_i.properties['streamm_command'] += ' --dcd prod1_dump.dcd'\n",
    "        calc_i.properties['streamm_command'] += ' --mol_inter'\n",
    "        calc_i.properties['streamm_command'] += ' --frame_step %d'%(calc_i.properties['frame_step'])\n",
    "\n",
    "        calc_i.files['output'][\"%s_log\"%(run_tag)] = \"%s.log\"%(run_tag)\n",
    "        calc_i.files['output'][\"%s_data\"%(run_tag)] = \"%s.dat\"%(run_tag)\n",
    "\n",
    "        print calc_i.properties['streamm_command']    \n",
    "\n",
    "\n",
    "        calc_i.load_str('templates','run')\n",
    "        calc_i.replacewrite_prop('run','scripts','run_%s'%(run_tag),'%s.pbs'%(run_tag))\n",
    "\n",
    "\n",
    "        calc_i.properties['finish_str'] ='Finished'\n",
    "\n",
    "\n",
    "        run_tag = \"AffNS_AffNS_fs%d\"%(calc_i.properties['frame_step'])\n",
    "        calc_i.properties['streamm_command'] = 'python %s  %s --cply %s'%(calc_i.files['input']['py_script'],run_tag,calc_i.files['input']['cply'])\n",
    "        calc_i.properties['streamm_command'] += ' --list_i %s '%(calc_i.files['input']['file_AffNS'])\n",
    "        calc_i.properties['streamm_command'] += ' --list_j %s '%(calc_i.files['input']['file_AffNS'])\n",
    "        calc_i.properties['streamm_command'] += ' --dcd prod1_dump.dcd'\n",
    "        calc_i.properties['streamm_command'] += ' --mol_inter'\n",
    "        calc_i.properties['streamm_command'] += ' --frame_step %d'%(calc_i.properties['frame_step'])\n",
    "\n",
    "        calc_i.files['output'][\"%s_log\"%(run_tag)] = \"%s.log\"%(run_tag)\n",
    "        calc_i.files['output'][\"%s_data\"%(run_tag)] = \"%s.dat\"%(run_tag)\n",
    "\n",
    "        print calc_i.properties['streamm_command']    \n",
    "\n",
    "\n",
    "        calc_i.load_str('templates','run')\n",
    "        calc_i.replacewrite_prop('run','scripts','run_%s'%(run_tag),'%s.pbs'%(run_tag))\n",
    "\n",
    "\n",
    "        calc_i.properties['finish_str'] ='Finished'\n",
    "\n",
    "\n",
    "\n",
    "\n"
   ]
  },
  {
   "cell_type": "code",
   "execution_count": 21,
   "metadata": {
    "collapsed": true
   },
   "outputs": [],
   "source": [
    "        run_tag = \"AffO_AffO_fs%d\"%(calc_i.properties['frame_step'])\n",
    "\n",
    "        calc_i.files['output'][\"%s_log\"%(run_tag)] = \"%s.log\"%(run_tag)\n",
    "        calc_i.files['output'][\"%s_data\"%(run_tag)] = \"%s.dat\"%(run_tag)\n",
    "\n",
    "        run_tag = \"AffS_AffS_fs%d\"%(calc_i.properties['frame_step'])\n",
    "\n",
    "        calc_i.files['output'][\"%s_log\"%(run_tag)] = \"%s.log\"%(run_tag)\n",
    "        calc_i.files['output'][\"%s_data\"%(run_tag)] = \"%s.dat\"%(run_tag)\n",
    "\n",
    "        run_tag = \"AffNS_AffNS_fs%d\"%(calc_i.properties['frame_step'])\n",
    "\n",
    "        calc_i.files['output'][\"%s_log\"%(run_tag)] = \"%s.log\"%(run_tag)\n",
    "        calc_i.files['output'][\"%s_data\"%(run_tag)] = \"%s.dat\"%(run_tag)"
   ]
  },
  {
   "cell_type": "code",
   "execution_count": null,
   "metadata": {
    "collapsed": false
   },
   "outputs": [],
   "source": [
    "    calc_i.push()"
   ]
  },
  {
   "cell_type": "code",
   "execution_count": null,
   "metadata": {
    "collapsed": false
   },
   "outputs": [],
   "source": [
    "    print calc_i.files['scripts']"
   ]
  },
  {
   "cell_type": "code",
   "execution_count": null,
   "metadata": {
    "collapsed": false
   },
   "outputs": [],
   "source": [
    "    calc_i.run()"
   ]
  },
  {
   "cell_type": "markdown",
   "metadata": {},
   "source": [
    "    Add scripts back in "
   ]
  },
  {
   "cell_type": "code",
   "execution_count": null,
   "metadata": {
    "collapsed": true
   },
   "outputs": [],
   "source": [
    "    calc_i.files['scripts'].update(calc_i.files['scripts_t'])"
   ]
  },
  {
   "cell_type": "code",
   "execution_count": null,
   "metadata": {
    "collapsed": false
   },
   "outputs": [],
   "source": [
    "    print calc_i.files['scripts']"
   ]
  },
  {
   "cell_type": "code",
   "execution_count": 27,
   "metadata": {
    "collapsed": false
   },
   "outputs": [
    {
     "name": "stdout",
     "output_type": "stream",
     "text": [
      "D51_00R300R3_A23_R4__n1wB_R41n1wBR41n1wBR41n1wB__n5_x173_prod1_rdf4\n",
      "D1_R2R200_A23_R4_n1_R41n1R41n1R41n1__n5_x193_prod1_rdf4\n",
      "D1_R2R200_A2_R3_R200R200R201_n5_x197_prod1_rdf4\n",
      "D1_R2R200_A23_R4_n1_R41n1R41n1R40n1__n5_x193_prod1_rdf4\n",
      "D1_R2R200_A31_R4_n1_R41n1R41n1R40n1__n5_x193_prod1_rdf4\n",
      "D1_R2R200_A31_R4_n1_R40n1R40n1R42n1__n5_x173_prod1_rdf4\n"
     ]
    }
   ],
   "source": [
    "for tag,calc_i in proj_i.calculations.iteritems():\n",
    "    print tag\n",
    "    os.chdir(calc_i.dir['launch'])\n",
    "    calc_i.check()"
   ]
  },
  {
   "cell_type": "code",
   "execution_count": 28,
   "metadata": {
    "collapsed": false
   },
   "outputs": [
    {
     "name": "stdout",
     "output_type": "stream",
     "text": [
      "finished\n",
      "finished\n",
      "finished\n",
      "finished\n",
      "finished\n",
      "finished\n"
     ]
    }
   ],
   "source": [
    "for tag,calc_i in proj_i.calculations.iteritems():\n",
    "    print calc_i.meta['status']"
   ]
  },
  {
   "cell_type": "code",
   "execution_count": 29,
   "metadata": {
    "collapsed": false
   },
   "outputs": [
    {
     "name": "stdout",
     "output_type": "stream",
     "text": [
      "D51_00R300R3_A23_R4__n1wB_R41n1wBR41n1wBR41n1wB__n5_x173_prod1_rdf4\n",
      "runnning store function in /Users/tkemper/Projects/DApolymers/scratch/D51_00R300R3_A23_R4__n1wB_R41n1wBR41n1wBR41n1wB__n5_x173_prod1_rdf4 \n",
      "Storing input files \n",
      "Adding D51_00R300R3_A23_R4__n1wB_R41n1wBR41n1wBR41n1wB__n5_x173.cply \n",
      "Adding rdf2.py \n",
      "Adding D.list \n",
      "Adding DA.list \n",
      "Adding A.list \n",
      "> compressed_file  D51_00R300R3_A23_R4__n1wB_R41n1wBR41n1wBR41n1wB__n5_x173_prod1_rdf4_input.tgz\n",
      "ssh tkemper@peregrine.hpc.nrel.gov ' cd /scratch/tkemper/D51_00R300R3_A23_R4__n1wB_R41n1wBR41n1wBR41n1wB__n5_x173_prod1_rdf4/ ; tar -czf  D51_00R300R3_A23_R4__n1wB_R41n1wBR41n1wBR41n1wB__n5_x173_prod1_rdf4_input.tgz  D51_00R300R3_A23_R4__n1wB_R41n1wBR41n1wBR41n1wB__n5_x173.cply rdf2.py D.list DA.list A.list  ' \n",
      "ssh tkemper@peregrine.hpc.nrel.gov ' cd /scratch/tkemper/D51_00R300R3_A23_R4__n1wB_R41n1wBR41n1wBR41n1wB__n5_x173_prod1_rdf4/ ; cp /scratch/tkemper/D51_00R300R3_A23_R4__n1wB_R41n1wBR41n1wBR41n1wB__n5_x173_prod1_rdf4/D51_00R300R3_A23_R4__n1wB_R41n1wBR41n1wBR41n1wB__n5_x173_prod1_rdf4_input.tgz /mss/users/tkemper/D51_00R300R3_A23_R4__n1wB_R41n1wBR41n1wBR41n1wB__n5_x173_prod1_rdf4/D51_00R300R3_A23_R4__n1wB_R41n1wBR41n1wBR41n1wB__n5_x173_prod1_rdf4_input.tgz  ' \n",
      "Storing scripts files \n",
      "Adding D_A_fs100.pbs \n",
      "Adding A_A_fs100.pbs \n",
      "Adding D_D_fs100.pbs \n",
      "> compressed_file  D51_00R300R3_A23_R4__n1wB_R41n1wBR41n1wBR41n1wB__n5_x173_prod1_rdf4_scripts.tgz\n",
      "ssh tkemper@peregrine.hpc.nrel.gov ' cd /scratch/tkemper/D51_00R300R3_A23_R4__n1wB_R41n1wBR41n1wBR41n1wB__n5_x173_prod1_rdf4/ ; tar -czf  D51_00R300R3_A23_R4__n1wB_R41n1wBR41n1wBR41n1wB__n5_x173_prod1_rdf4_scripts.tgz  D_A_fs100.pbs A_A_fs100.pbs D_D_fs100.pbs  ' \n",
      "ssh tkemper@peregrine.hpc.nrel.gov ' cd /scratch/tkemper/D51_00R300R3_A23_R4__n1wB_R41n1wBR41n1wBR41n1wB__n5_x173_prod1_rdf4/ ; cp /scratch/tkemper/D51_00R300R3_A23_R4__n1wB_R41n1wBR41n1wBR41n1wB__n5_x173_prod1_rdf4/D51_00R300R3_A23_R4__n1wB_R41n1wBR41n1wBR41n1wB__n5_x173_prod1_rdf4_scripts.tgz /mss/users/tkemper/D51_00R300R3_A23_R4__n1wB_R41n1wBR41n1wBR41n1wB__n5_x173_prod1_rdf4/D51_00R300R3_A23_R4__n1wB_R41n1wBR41n1wBR41n1wB__n5_x173_prod1_rdf4_scripts.tgz  ' \n",
      "Storing output files \n",
      "Adding A_A_fs100.log \n",
      "Adding A_A_fs100.log \n",
      "Adding D_D_fs100.dat \n",
      "Adding D_A_fs100.log \n",
      "Adding D_A_fs100.dat \n",
      "Adding D_D_fs100.log \n",
      "Adding A_A_fs100.dat \n",
      "> compressed_file  D51_00R300R3_A23_R4__n1wB_R41n1wBR41n1wBR41n1wB__n5_x173_prod1_rdf4_output.tgz\n",
      "ssh tkemper@peregrine.hpc.nrel.gov ' cd /scratch/tkemper/D51_00R300R3_A23_R4__n1wB_R41n1wBR41n1wBR41n1wB__n5_x173_prod1_rdf4/ ; tar -czf  D51_00R300R3_A23_R4__n1wB_R41n1wBR41n1wBR41n1wB__n5_x173_prod1_rdf4_output.tgz  A_A_fs100.log A_A_fs100.log D_D_fs100.dat D_A_fs100.log D_A_fs100.dat D_D_fs100.log A_A_fs100.dat  ' \n",
      "ssh tkemper@peregrine.hpc.nrel.gov ' cd /scratch/tkemper/D51_00R300R3_A23_R4__n1wB_R41n1wBR41n1wBR41n1wB__n5_x173_prod1_rdf4/ ; cp /scratch/tkemper/D51_00R300R3_A23_R4__n1wB_R41n1wBR41n1wBR41n1wB__n5_x173_prod1_rdf4/D51_00R300R3_A23_R4__n1wB_R41n1wBR41n1wBR41n1wB__n5_x173_prod1_rdf4_output.tgz /mss/users/tkemper/D51_00R300R3_A23_R4__n1wB_R41n1wBR41n1wBR41n1wB__n5_x173_prod1_rdf4/D51_00R300R3_A23_R4__n1wB_R41n1wBR41n1wBR41n1wB__n5_x173_prod1_rdf4_output.tgz  ' \n",
      "No files of type data present\n",
      "D1_R2R200_A23_R4_n1_R41n1R41n1R41n1__n5_x193_prod1_rdf4\n",
      "runnning store function in /Users/tkemper/Projects/DApolymers/scratch/D1_R2R200_A23_R4_n1_R41n1R41n1R41n1__n5_x193_prod1_rdf4 \n",
      "Storing input files \n",
      "Adding D1_R2R200_A23_R4_n1_R41n1R41n1R41n1__n5_x193.cply \n",
      "Adding rdf2.py \n",
      "Adding D.list \n",
      "Adding DA.list \n",
      "Adding A.list \n",
      "> compressed_file  D1_R2R200_A23_R4_n1_R41n1R41n1R41n1__n5_x193_prod1_rdf4_input.tgz\n",
      "ssh tkemper@peregrine.hpc.nrel.gov ' cd /scratch/tkemper/D1_R2R200_A23_R4_n1_R41n1R41n1R41n1__n5_x193_prod1_rdf4/ ; tar -czf  D1_R2R200_A23_R4_n1_R41n1R41n1R41n1__n5_x193_prod1_rdf4_input.tgz  D1_R2R200_A23_R4_n1_R41n1R41n1R41n1__n5_x193.cply rdf2.py D.list DA.list A.list  ' \n",
      "ssh tkemper@peregrine.hpc.nrel.gov ' cd /scratch/tkemper/D1_R2R200_A23_R4_n1_R41n1R41n1R41n1__n5_x193_prod1_rdf4/ ; cp /scratch/tkemper/D1_R2R200_A23_R4_n1_R41n1R41n1R41n1__n5_x193_prod1_rdf4/D1_R2R200_A23_R4_n1_R41n1R41n1R41n1__n5_x193_prod1_rdf4_input.tgz /mss/users/tkemper/D1_R2R200_A23_R4_n1_R41n1R41n1R41n1__n5_x193_prod1_rdf4/D1_R2R200_A23_R4_n1_R41n1R41n1R41n1__n5_x193_prod1_rdf4_input.tgz  ' \n",
      "Storing scripts files \n",
      "Adding D_A_fs100.pbs \n",
      "Adding A_A_fs100.pbs \n",
      "Adding D_D_fs100.pbs \n",
      "> compressed_file  D1_R2R200_A23_R4_n1_R41n1R41n1R41n1__n5_x193_prod1_rdf4_scripts.tgz\n",
      "ssh tkemper@peregrine.hpc.nrel.gov ' cd /scratch/tkemper/D1_R2R200_A23_R4_n1_R41n1R41n1R41n1__n5_x193_prod1_rdf4/ ; tar -czf  D1_R2R200_A23_R4_n1_R41n1R41n1R41n1__n5_x193_prod1_rdf4_scripts.tgz  D_A_fs100.pbs A_A_fs100.pbs D_D_fs100.pbs  ' \n",
      "ssh tkemper@peregrine.hpc.nrel.gov ' cd /scratch/tkemper/D1_R2R200_A23_R4_n1_R41n1R41n1R41n1__n5_x193_prod1_rdf4/ ; cp /scratch/tkemper/D1_R2R200_A23_R4_n1_R41n1R41n1R41n1__n5_x193_prod1_rdf4/D1_R2R200_A23_R4_n1_R41n1R41n1R41n1__n5_x193_prod1_rdf4_scripts.tgz /mss/users/tkemper/D1_R2R200_A23_R4_n1_R41n1R41n1R41n1__n5_x193_prod1_rdf4/D1_R2R200_A23_R4_n1_R41n1R41n1R41n1__n5_x193_prod1_rdf4_scripts.tgz  ' \n",
      "Storing output files \n",
      "Adding A_A_fs100.log \n",
      "Adding A_A_fs100.log \n",
      "Adding D_D_fs100.dat \n",
      "Adding D_A_fs100.log \n",
      "Adding D_A_fs100.dat \n",
      "Adding D_D_fs100.log \n",
      "Adding A_A_fs100.dat \n",
      "> compressed_file  D1_R2R200_A23_R4_n1_R41n1R41n1R41n1__n5_x193_prod1_rdf4_output.tgz\n",
      "ssh tkemper@peregrine.hpc.nrel.gov ' cd /scratch/tkemper/D1_R2R200_A23_R4_n1_R41n1R41n1R41n1__n5_x193_prod1_rdf4/ ; tar -czf  D1_R2R200_A23_R4_n1_R41n1R41n1R41n1__n5_x193_prod1_rdf4_output.tgz  A_A_fs100.log A_A_fs100.log D_D_fs100.dat D_A_fs100.log D_A_fs100.dat D_D_fs100.log A_A_fs100.dat  ' \n",
      "ssh tkemper@peregrine.hpc.nrel.gov ' cd /scratch/tkemper/D1_R2R200_A23_R4_n1_R41n1R41n1R41n1__n5_x193_prod1_rdf4/ ; cp /scratch/tkemper/D1_R2R200_A23_R4_n1_R41n1R41n1R41n1__n5_x193_prod1_rdf4/D1_R2R200_A23_R4_n1_R41n1R41n1R41n1__n5_x193_prod1_rdf4_output.tgz /mss/users/tkemper/D1_R2R200_A23_R4_n1_R41n1R41n1R41n1__n5_x193_prod1_rdf4/D1_R2R200_A23_R4_n1_R41n1R41n1R41n1__n5_x193_prod1_rdf4_output.tgz  ' \n",
      "No files of type data present\n",
      "D1_R2R200_A2_R3_R200R200R201_n5_x197_prod1_rdf4\n",
      "runnning store function in /Users/tkemper/Projects/DApolymers/scratch/D1_R2R200_A2_R3_R200R200R201_n5_x197_prod1_rdf4 \n",
      "Storing input files \n",
      "Adding D1_R2R200_A2_R3_R200R200R201_n5_x197.cply \n",
      "Adding rdf2.py \n",
      "Adding D.list \n",
      "Adding DA.list \n",
      "Adding A.list \n",
      "> compressed_file  D1_R2R200_A2_R3_R200R200R201_n5_x197_prod1_rdf4_input.tgz\n",
      "ssh tkemper@peregrine.hpc.nrel.gov ' cd /scratch/tkemper/D1_R2R200_A2_R3_R200R200R201_n5_x197_prod1_rdf4/ ; tar -czf  D1_R2R200_A2_R3_R200R200R201_n5_x197_prod1_rdf4_input.tgz  D1_R2R200_A2_R3_R200R200R201_n5_x197.cply rdf2.py D.list DA.list A.list  ' \n",
      "ssh tkemper@peregrine.hpc.nrel.gov ' cd /scratch/tkemper/D1_R2R200_A2_R3_R200R200R201_n5_x197_prod1_rdf4/ ; cp /scratch/tkemper/D1_R2R200_A2_R3_R200R200R201_n5_x197_prod1_rdf4/D1_R2R200_A2_R3_R200R200R201_n5_x197_prod1_rdf4_input.tgz /mss/users/tkemper/D1_R2R200_A2_R3_R200R200R201_n5_x197_prod1_rdf4/D1_R2R200_A2_R3_R200R200R201_n5_x197_prod1_rdf4_input.tgz  ' \n",
      "Storing scripts files \n",
      "Adding D_A_fs100.pbs \n",
      "Adding A_A_fs100.pbs \n",
      "Adding D_D_fs100.pbs \n",
      "> compressed_file  D1_R2R200_A2_R3_R200R200R201_n5_x197_prod1_rdf4_scripts.tgz\n",
      "ssh tkemper@peregrine.hpc.nrel.gov ' cd /scratch/tkemper/D1_R2R200_A2_R3_R200R200R201_n5_x197_prod1_rdf4/ ; tar -czf  D1_R2R200_A2_R3_R200R200R201_n5_x197_prod1_rdf4_scripts.tgz  D_A_fs100.pbs A_A_fs100.pbs D_D_fs100.pbs  ' \n",
      "ssh tkemper@peregrine.hpc.nrel.gov ' cd /scratch/tkemper/D1_R2R200_A2_R3_R200R200R201_n5_x197_prod1_rdf4/ ; cp /scratch/tkemper/D1_R2R200_A2_R3_R200R200R201_n5_x197_prod1_rdf4/D1_R2R200_A2_R3_R200R200R201_n5_x197_prod1_rdf4_scripts.tgz /mss/users/tkemper/D1_R2R200_A2_R3_R200R200R201_n5_x197_prod1_rdf4/D1_R2R200_A2_R3_R200R200R201_n5_x197_prod1_rdf4_scripts.tgz  ' \n",
      "Storing output files \n",
      "Adding A_A_fs100.log \n",
      "Adding A_A_fs100.log \n",
      "Adding D_D_fs100.dat \n",
      "Adding AffNS_AffNS_fs100.log \n",
      "Adding AffO_AffO_fs100.dat \n",
      "Adding D_A_fs100.log \n",
      "Adding AffNS_AffNS_fs100.dat \n",
      "Adding D_A_fs100.dat \n",
      "Adding AffS_AffS_fs100.log \n",
      "Adding AffS_AffS_fs100.dat \n",
      "Adding AffO_AffO_fs100.log \n",
      "Adding D_D_fs100.log \n",
      "Adding A_A_fs100.dat \n",
      "> compressed_file  D1_R2R200_A2_R3_R200R200R201_n5_x197_prod1_rdf4_output.tgz\n",
      "ssh tkemper@peregrine.hpc.nrel.gov ' cd /scratch/tkemper/D1_R2R200_A2_R3_R200R200R201_n5_x197_prod1_rdf4/ ; tar -czf  D1_R2R200_A2_R3_R200R200R201_n5_x197_prod1_rdf4_output.tgz  A_A_fs100.log A_A_fs100.log D_D_fs100.dat AffNS_AffNS_fs100.log AffO_AffO_fs100.dat D_A_fs100.log AffNS_AffNS_fs100.dat D_A_fs100.dat AffS_AffS_fs100.log AffS_AffS_fs100.dat AffO_AffO_fs100.log D_D_fs100.log A_A_fs100.dat  ' \n",
      "ssh tkemper@peregrine.hpc.nrel.gov ' cd /scratch/tkemper/D1_R2R200_A2_R3_R200R200R201_n5_x197_prod1_rdf4/ ; cp /scratch/tkemper/D1_R2R200_A2_R3_R200R200R201_n5_x197_prod1_rdf4/D1_R2R200_A2_R3_R200R200R201_n5_x197_prod1_rdf4_output.tgz /mss/users/tkemper/D1_R2R200_A2_R3_R200R200R201_n5_x197_prod1_rdf4/D1_R2R200_A2_R3_R200R200R201_n5_x197_prod1_rdf4_output.tgz  ' \n",
      "No files of type data present\n",
      "D1_R2R200_A23_R4_n1_R41n1R41n1R40n1__n5_x193_prod1_rdf4\n",
      "runnning store function in /Users/tkemper/Projects/DApolymers/scratch/D1_R2R200_A23_R4_n1_R41n1R41n1R40n1__n5_x193_prod1_rdf4 \n",
      "Storing input files \n",
      "Adding D1_R2R200_A23_R4_n1_R41n1R41n1R40n1__n5_x193.cply \n",
      "Adding rdf2.py \n",
      "Adding D.list \n",
      "Adding DA.list \n",
      "Adding A.list \n",
      "> compressed_file  D1_R2R200_A23_R4_n1_R41n1R41n1R40n1__n5_x193_prod1_rdf4_input.tgz\n",
      "ssh tkemper@peregrine.hpc.nrel.gov ' cd /scratch/tkemper/D1_R2R200_A23_R4_n1_R41n1R41n1R40n1__n5_x193_prod1_rdf4/ ; tar -czf  D1_R2R200_A23_R4_n1_R41n1R41n1R40n1__n5_x193_prod1_rdf4_input.tgz  D1_R2R200_A23_R4_n1_R41n1R41n1R40n1__n5_x193.cply rdf2.py D.list DA.list A.list  ' \n",
      "ssh tkemper@peregrine.hpc.nrel.gov ' cd /scratch/tkemper/D1_R2R200_A23_R4_n1_R41n1R41n1R40n1__n5_x193_prod1_rdf4/ ; cp /scratch/tkemper/D1_R2R200_A23_R4_n1_R41n1R41n1R40n1__n5_x193_prod1_rdf4/D1_R2R200_A23_R4_n1_R41n1R41n1R40n1__n5_x193_prod1_rdf4_input.tgz /mss/users/tkemper/D1_R2R200_A23_R4_n1_R41n1R41n1R40n1__n5_x193_prod1_rdf4/D1_R2R200_A23_R4_n1_R41n1R41n1R40n1__n5_x193_prod1_rdf4_input.tgz  ' \n",
      "Storing scripts files \n",
      "Adding D_A_fs100.pbs \n",
      "Adding A_A_fs100.pbs \n",
      "Adding D_D_fs100.pbs \n",
      "> compressed_file  D1_R2R200_A23_R4_n1_R41n1R41n1R40n1__n5_x193_prod1_rdf4_scripts.tgz\n",
      "ssh tkemper@peregrine.hpc.nrel.gov ' cd /scratch/tkemper/D1_R2R200_A23_R4_n1_R41n1R41n1R40n1__n5_x193_prod1_rdf4/ ; tar -czf  D1_R2R200_A23_R4_n1_R41n1R41n1R40n1__n5_x193_prod1_rdf4_scripts.tgz  D_A_fs100.pbs A_A_fs100.pbs D_D_fs100.pbs  ' \n",
      "ssh tkemper@peregrine.hpc.nrel.gov ' cd /scratch/tkemper/D1_R2R200_A23_R4_n1_R41n1R41n1R40n1__n5_x193_prod1_rdf4/ ; cp /scratch/tkemper/D1_R2R200_A23_R4_n1_R41n1R41n1R40n1__n5_x193_prod1_rdf4/D1_R2R200_A23_R4_n1_R41n1R41n1R40n1__n5_x193_prod1_rdf4_scripts.tgz /mss/users/tkemper/D1_R2R200_A23_R4_n1_R41n1R41n1R40n1__n5_x193_prod1_rdf4/D1_R2R200_A23_R4_n1_R41n1R41n1R40n1__n5_x193_prod1_rdf4_scripts.tgz  ' \n",
      "Storing output files \n",
      "Adding A_A_fs100.log \n",
      "Adding A_A_fs100.log \n",
      "Adding D_D_fs100.dat \n",
      "Adding D_A_fs100.log \n",
      "Adding D_A_fs100.dat \n",
      "Adding D_D_fs100.log \n",
      "Adding A_A_fs100.dat \n",
      "> compressed_file  D1_R2R200_A23_R4_n1_R41n1R41n1R40n1__n5_x193_prod1_rdf4_output.tgz\n",
      "ssh tkemper@peregrine.hpc.nrel.gov ' cd /scratch/tkemper/D1_R2R200_A23_R4_n1_R41n1R41n1R40n1__n5_x193_prod1_rdf4/ ; tar -czf  D1_R2R200_A23_R4_n1_R41n1R41n1R40n1__n5_x193_prod1_rdf4_output.tgz  A_A_fs100.log A_A_fs100.log D_D_fs100.dat D_A_fs100.log D_A_fs100.dat D_D_fs100.log A_A_fs100.dat  ' \n",
      "ssh tkemper@peregrine.hpc.nrel.gov ' cd /scratch/tkemper/D1_R2R200_A23_R4_n1_R41n1R41n1R40n1__n5_x193_prod1_rdf4/ ; cp /scratch/tkemper/D1_R2R200_A23_R4_n1_R41n1R41n1R40n1__n5_x193_prod1_rdf4/D1_R2R200_A23_R4_n1_R41n1R41n1R40n1__n5_x193_prod1_rdf4_output.tgz /mss/users/tkemper/D1_R2R200_A23_R4_n1_R41n1R41n1R40n1__n5_x193_prod1_rdf4/D1_R2R200_A23_R4_n1_R41n1R41n1R40n1__n5_x193_prod1_rdf4_output.tgz  ' \n",
      "No files of type data present\n",
      "D1_R2R200_A31_R4_n1_R41n1R41n1R40n1__n5_x193_prod1_rdf4\n",
      "runnning store function in /Users/tkemper/Projects/DApolymers/scratch/D1_R2R200_A31_R4_n1_R41n1R41n1R40n1__n5_x193_prod1_rdf4 \n",
      "Storing input files \n",
      "Adding D1_R2R200_A31_R4_n1_R41n1R41n1R40n1__n5_x193.cply \n",
      "Adding rdf2.py \n",
      "Adding D.list \n",
      "Adding DA.list \n",
      "Adding A.list \n",
      "> compressed_file  D1_R2R200_A31_R4_n1_R41n1R41n1R40n1__n5_x193_prod1_rdf4_input.tgz\n",
      "ssh tkemper@peregrine.hpc.nrel.gov ' cd /scratch/tkemper/D1_R2R200_A31_R4_n1_R41n1R41n1R40n1__n5_x193_prod1_rdf4/ ; tar -czf  D1_R2R200_A31_R4_n1_R41n1R41n1R40n1__n5_x193_prod1_rdf4_input.tgz  D1_R2R200_A31_R4_n1_R41n1R41n1R40n1__n5_x193.cply rdf2.py D.list DA.list A.list  ' \n",
      "ssh tkemper@peregrine.hpc.nrel.gov ' cd /scratch/tkemper/D1_R2R200_A31_R4_n1_R41n1R41n1R40n1__n5_x193_prod1_rdf4/ ; cp /scratch/tkemper/D1_R2R200_A31_R4_n1_R41n1R41n1R40n1__n5_x193_prod1_rdf4/D1_R2R200_A31_R4_n1_R41n1R41n1R40n1__n5_x193_prod1_rdf4_input.tgz /mss/users/tkemper/D1_R2R200_A31_R4_n1_R41n1R41n1R40n1__n5_x193_prod1_rdf4/D1_R2R200_A31_R4_n1_R41n1R41n1R40n1__n5_x193_prod1_rdf4_input.tgz  ' \n",
      "Storing scripts files \n",
      "Adding D_A_fs100.pbs \n",
      "Adding A_A_fs100.pbs \n",
      "Adding D_D_fs100.pbs \n",
      "> compressed_file  D1_R2R200_A31_R4_n1_R41n1R41n1R40n1__n5_x193_prod1_rdf4_scripts.tgz\n",
      "ssh tkemper@peregrine.hpc.nrel.gov ' cd /scratch/tkemper/D1_R2R200_A31_R4_n1_R41n1R41n1R40n1__n5_x193_prod1_rdf4/ ; tar -czf  D1_R2R200_A31_R4_n1_R41n1R41n1R40n1__n5_x193_prod1_rdf4_scripts.tgz  D_A_fs100.pbs A_A_fs100.pbs D_D_fs100.pbs  ' \n",
      "ssh tkemper@peregrine.hpc.nrel.gov ' cd /scratch/tkemper/D1_R2R200_A31_R4_n1_R41n1R41n1R40n1__n5_x193_prod1_rdf4/ ; cp /scratch/tkemper/D1_R2R200_A31_R4_n1_R41n1R41n1R40n1__n5_x193_prod1_rdf4/D1_R2R200_A31_R4_n1_R41n1R41n1R40n1__n5_x193_prod1_rdf4_scripts.tgz /mss/users/tkemper/D1_R2R200_A31_R4_n1_R41n1R41n1R40n1__n5_x193_prod1_rdf4/D1_R2R200_A31_R4_n1_R41n1R41n1R40n1__n5_x193_prod1_rdf4_scripts.tgz  ' \n",
      "Storing output files \n",
      "Adding A_A_fs100.log \n",
      "Adding A_A_fs100.log \n",
      "Adding D_D_fs100.dat \n",
      "Adding D_A_fs100.log \n",
      "Adding D_A_fs100.dat \n",
      "Adding D_D_fs100.log \n",
      "Adding A_A_fs100.dat \n",
      "> compressed_file  D1_R2R200_A31_R4_n1_R41n1R41n1R40n1__n5_x193_prod1_rdf4_output.tgz\n",
      "ssh tkemper@peregrine.hpc.nrel.gov ' cd /scratch/tkemper/D1_R2R200_A31_R4_n1_R41n1R41n1R40n1__n5_x193_prod1_rdf4/ ; tar -czf  D1_R2R200_A31_R4_n1_R41n1R41n1R40n1__n5_x193_prod1_rdf4_output.tgz  A_A_fs100.log A_A_fs100.log D_D_fs100.dat D_A_fs100.log D_A_fs100.dat D_D_fs100.log A_A_fs100.dat  ' \n",
      "ssh tkemper@peregrine.hpc.nrel.gov ' cd /scratch/tkemper/D1_R2R200_A31_R4_n1_R41n1R41n1R40n1__n5_x193_prod1_rdf4/ ; cp /scratch/tkemper/D1_R2R200_A31_R4_n1_R41n1R41n1R40n1__n5_x193_prod1_rdf4/D1_R2R200_A31_R4_n1_R41n1R41n1R40n1__n5_x193_prod1_rdf4_output.tgz /mss/users/tkemper/D1_R2R200_A31_R4_n1_R41n1R41n1R40n1__n5_x193_prod1_rdf4/D1_R2R200_A31_R4_n1_R41n1R41n1R40n1__n5_x193_prod1_rdf4_output.tgz  ' \n",
      "No files of type data present\n",
      "D1_R2R200_A31_R4_n1_R40n1R40n1R42n1__n5_x173_prod1_rdf4\n",
      "runnning store function in /Users/tkemper/Projects/DApolymers/scratch/D1_R2R200_A31_R4_n1_R40n1R40n1R42n1__n5_x173_prod1_rdf4 \n",
      "Storing input files \n",
      "Adding D1_R2R200_A31_R4_n1_R40n1R40n1R42n1__n5_x173.cply \n",
      "Adding rdf2.py \n",
      "Adding D.list \n",
      "Adding DA.list \n",
      "Adding A.list \n",
      "> compressed_file  D1_R2R200_A31_R4_n1_R40n1R40n1R42n1__n5_x173_prod1_rdf4_input.tgz\n",
      "ssh tkemper@peregrine.hpc.nrel.gov ' cd /scratch/tkemper/D1_R2R200_A31_R4_n1_R40n1R40n1R42n1__n5_x173_prod1_rdf4/ ; tar -czf  D1_R2R200_A31_R4_n1_R40n1R40n1R42n1__n5_x173_prod1_rdf4_input.tgz  D1_R2R200_A31_R4_n1_R40n1R40n1R42n1__n5_x173.cply rdf2.py D.list DA.list A.list  ' \n",
      "ssh tkemper@peregrine.hpc.nrel.gov ' cd /scratch/tkemper/D1_R2R200_A31_R4_n1_R40n1R40n1R42n1__n5_x173_prod1_rdf4/ ; cp /scratch/tkemper/D1_R2R200_A31_R4_n1_R40n1R40n1R42n1__n5_x173_prod1_rdf4/D1_R2R200_A31_R4_n1_R40n1R40n1R42n1__n5_x173_prod1_rdf4_input.tgz /mss/users/tkemper/D1_R2R200_A31_R4_n1_R40n1R40n1R42n1__n5_x173_prod1_rdf4/D1_R2R200_A31_R4_n1_R40n1R40n1R42n1__n5_x173_prod1_rdf4_input.tgz  ' \n",
      "Storing scripts files \n",
      "Adding D_A_fs100.pbs \n",
      "Adding A_A_fs100.pbs \n",
      "Adding D_D_fs100.pbs \n",
      "> compressed_file  D1_R2R200_A31_R4_n1_R40n1R40n1R42n1__n5_x173_prod1_rdf4_scripts.tgz\n",
      "ssh tkemper@peregrine.hpc.nrel.gov ' cd /scratch/tkemper/D1_R2R200_A31_R4_n1_R40n1R40n1R42n1__n5_x173_prod1_rdf4/ ; tar -czf  D1_R2R200_A31_R4_n1_R40n1R40n1R42n1__n5_x173_prod1_rdf4_scripts.tgz  D_A_fs100.pbs A_A_fs100.pbs D_D_fs100.pbs  ' \n",
      "ssh tkemper@peregrine.hpc.nrel.gov ' cd /scratch/tkemper/D1_R2R200_A31_R4_n1_R40n1R40n1R42n1__n5_x173_prod1_rdf4/ ; cp /scratch/tkemper/D1_R2R200_A31_R4_n1_R40n1R40n1R42n1__n5_x173_prod1_rdf4/D1_R2R200_A31_R4_n1_R40n1R40n1R42n1__n5_x173_prod1_rdf4_scripts.tgz /mss/users/tkemper/D1_R2R200_A31_R4_n1_R40n1R40n1R42n1__n5_x173_prod1_rdf4/D1_R2R200_A31_R4_n1_R40n1R40n1R42n1__n5_x173_prod1_rdf4_scripts.tgz  ' \n",
      "Storing output files \n",
      "Adding A_A_fs100.log \n",
      "Adding A_A_fs100.log \n",
      "Adding D_D_fs100.dat \n",
      "Adding D_A_fs100.log \n",
      "Adding D_A_fs100.dat \n",
      "Adding D_D_fs100.log \n",
      "Adding A_A_fs100.dat \n",
      "> compressed_file  D1_R2R200_A31_R4_n1_R40n1R40n1R42n1__n5_x173_prod1_rdf4_output.tgz\n",
      "ssh tkemper@peregrine.hpc.nrel.gov ' cd /scratch/tkemper/D1_R2R200_A31_R4_n1_R40n1R40n1R42n1__n5_x173_prod1_rdf4/ ; tar -czf  D1_R2R200_A31_R4_n1_R40n1R40n1R42n1__n5_x173_prod1_rdf4_output.tgz  A_A_fs100.log A_A_fs100.log D_D_fs100.dat D_A_fs100.log D_A_fs100.dat D_D_fs100.log A_A_fs100.dat  ' \n",
      "ssh tkemper@peregrine.hpc.nrel.gov ' cd /scratch/tkemper/D1_R2R200_A31_R4_n1_R40n1R40n1R42n1__n5_x173_prod1_rdf4/ ; cp /scratch/tkemper/D1_R2R200_A31_R4_n1_R40n1R40n1R42n1__n5_x173_prod1_rdf4/D1_R2R200_A31_R4_n1_R40n1R40n1R42n1__n5_x173_prod1_rdf4_output.tgz /mss/users/tkemper/D1_R2R200_A31_R4_n1_R40n1R40n1R42n1__n5_x173_prod1_rdf4/D1_R2R200_A31_R4_n1_R40n1R40n1R42n1__n5_x173_prod1_rdf4_output.tgz  ' \n",
      "No files of type data present\n"
     ]
    }
   ],
   "source": [
    "for tag,calc_i in proj_i.calculations.iteritems():\n",
    "    print tag\n",
    "    os.chdir(calc_i.dir['launch'])\n",
    "    calc_i.store()"
   ]
  },
  {
   "cell_type": "code",
   "execution_count": 30,
   "metadata": {
    "collapsed": false
   },
   "outputs": [
    {
     "name": "stdout",
     "output_type": "stream",
     "text": [
      "D51_00R300R3_A23_R4__n1wB_R41n1wBR41n1wBR41n1wB__n5_x173_prod1_rdf4\n",
      "output D51_00R300R3_A23_R4__n1wB_R41n1wBR41n1wBR41n1wB__n5_x173_prod1_rdf4_output.tgz\n",
      "bash_command  scp tkemper@peregrine.hpc.nrel.gov:/scratch/tkemper/D51_00R300R3_A23_R4__n1wB_R41n1wBR41n1wBR41n1wB__n5_x173_prod1_rdf4/D51_00R300R3_A23_R4__n1wB_R41n1wBR41n1wBR41n1wB__n5_x173_prod1_rdf4_output.tgz /Users/tkemper/Projects/DApolymers/scratch/D51_00R300R3_A23_R4__n1wB_R41n1wBR41n1wBR41n1wB__n5_x173_prod1_rdf4/ \n"
     ]
    },
    {
     "name": "stderr",
     "output_type": "stream",
     "text": [
      "WARNING:root:No commpressed files for file type data with key compressed \n"
     ]
    },
    {
     "name": "stdout",
     "output_type": "stream",
     "text": [
      "No commpressed files for file type data with key compressed \n",
      "D1_R2R200_A23_R4_n1_R41n1R41n1R41n1__n5_x193_prod1_rdf4\n",
      "output D1_R2R200_A23_R4_n1_R41n1R41n1R41n1__n5_x193_prod1_rdf4_output.tgz\n",
      "bash_command  scp tkemper@peregrine.hpc.nrel.gov:/scratch/tkemper/D1_R2R200_A23_R4_n1_R41n1R41n1R41n1__n5_x193_prod1_rdf4/D1_R2R200_A23_R4_n1_R41n1R41n1R41n1__n5_x193_prod1_rdf4_output.tgz /Users/tkemper/Projects/DApolymers/scratch/D1_R2R200_A23_R4_n1_R41n1R41n1R41n1__n5_x193_prod1_rdf4/ \n"
     ]
    },
    {
     "name": "stderr",
     "output_type": "stream",
     "text": [
      "WARNING:root:No commpressed files for file type data with key compressed \n"
     ]
    },
    {
     "name": "stdout",
     "output_type": "stream",
     "text": [
      "No commpressed files for file type data with key compressed \n",
      "D1_R2R200_A2_R3_R200R200R201_n5_x197_prod1_rdf4\n",
      "output D1_R2R200_A2_R3_R200R200R201_n5_x197_prod1_rdf4_output.tgz\n",
      "bash_command  scp tkemper@peregrine.hpc.nrel.gov:/scratch/tkemper/D1_R2R200_A2_R3_R200R200R201_n5_x197_prod1_rdf4/D1_R2R200_A2_R3_R200R200R201_n5_x197_prod1_rdf4_output.tgz /Users/tkemper/Projects/DApolymers/scratch/D1_R2R200_A2_R3_R200R200R201_n5_x197_prod1_rdf4/ \n"
     ]
    },
    {
     "name": "stderr",
     "output_type": "stream",
     "text": [
      "WARNING:root:No commpressed files for file type data with key compressed \n"
     ]
    },
    {
     "name": "stdout",
     "output_type": "stream",
     "text": [
      "No commpressed files for file type data with key compressed \n",
      "D1_R2R200_A23_R4_n1_R41n1R41n1R40n1__n5_x193_prod1_rdf4\n",
      "output D1_R2R200_A23_R4_n1_R41n1R41n1R40n1__n5_x193_prod1_rdf4_output.tgz\n",
      "bash_command  scp tkemper@peregrine.hpc.nrel.gov:/scratch/tkemper/D1_R2R200_A23_R4_n1_R41n1R41n1R40n1__n5_x193_prod1_rdf4/D1_R2R200_A23_R4_n1_R41n1R41n1R40n1__n5_x193_prod1_rdf4_output.tgz /Users/tkemper/Projects/DApolymers/scratch/D1_R2R200_A23_R4_n1_R41n1R41n1R40n1__n5_x193_prod1_rdf4/ \n"
     ]
    },
    {
     "name": "stderr",
     "output_type": "stream",
     "text": [
      "WARNING:root:No commpressed files for file type data with key compressed \n"
     ]
    },
    {
     "name": "stdout",
     "output_type": "stream",
     "text": [
      "No commpressed files for file type data with key compressed \n",
      "D1_R2R200_A31_R4_n1_R41n1R41n1R40n1__n5_x193_prod1_rdf4\n",
      "output D1_R2R200_A31_R4_n1_R41n1R41n1R40n1__n5_x193_prod1_rdf4_output.tgz\n",
      "bash_command  scp tkemper@peregrine.hpc.nrel.gov:/scratch/tkemper/D1_R2R200_A31_R4_n1_R41n1R41n1R40n1__n5_x193_prod1_rdf4/D1_R2R200_A31_R4_n1_R41n1R41n1R40n1__n5_x193_prod1_rdf4_output.tgz /Users/tkemper/Projects/DApolymers/scratch/D1_R2R200_A31_R4_n1_R41n1R41n1R40n1__n5_x193_prod1_rdf4/ \n"
     ]
    },
    {
     "name": "stderr",
     "output_type": "stream",
     "text": [
      "WARNING:root:No commpressed files for file type data with key compressed \n"
     ]
    },
    {
     "name": "stdout",
     "output_type": "stream",
     "text": [
      "No commpressed files for file type data with key compressed \n",
      "D1_R2R200_A31_R4_n1_R40n1R40n1R42n1__n5_x173_prod1_rdf4\n",
      "output D1_R2R200_A31_R4_n1_R40n1R40n1R42n1__n5_x173_prod1_rdf4_output.tgz\n",
      "bash_command  scp tkemper@peregrine.hpc.nrel.gov:/scratch/tkemper/D1_R2R200_A31_R4_n1_R40n1R40n1R42n1__n5_x173_prod1_rdf4/D1_R2R200_A31_R4_n1_R40n1R40n1R42n1__n5_x173_prod1_rdf4_output.tgz /Users/tkemper/Projects/DApolymers/scratch/D1_R2R200_A31_R4_n1_R40n1R40n1R42n1__n5_x173_prod1_rdf4/ \n"
     ]
    },
    {
     "name": "stderr",
     "output_type": "stream",
     "text": [
      "WARNING:root:No commpressed files for file type data with key compressed \n"
     ]
    },
    {
     "name": "stdout",
     "output_type": "stream",
     "text": [
      "No commpressed files for file type data with key compressed \n"
     ]
    }
   ],
   "source": [
    "for tag,calc_i in proj_i.calculations.iteritems():\n",
    "    print tag\n",
    "    os.chdir(calc_i.dir['launch'])\n",
    "    calc_i.pull()"
   ]
  },
  {
   "cell_type": "code",
   "execution_count": 83,
   "metadata": {
    "collapsed": true
   },
   "outputs": [],
   "source": [
    "name_l = []\n",
    "name_l.append('BDT-TPD')\n",
    "name_l.append('PTB1')\n",
    "name_l.append('PTB5')\n",
    "name_l.append('PTB4')\n",
    "name_l.append('PTB7')\n",
    "name_l.append('PCE10')"
   ]
  },
  {
   "cell_type": "code",
   "execution_count": 31,
   "metadata": {
    "collapsed": false
   },
   "outputs": [
    {
     "name": "stdout",
     "output_type": "stream",
     "text": [
      "D51_00R300R3_A23_R4__n1wB_R41n1wBR41n1wBR41n1wB__n5_x173_prod1_rdf4\n",
      "D1_R2R200_A23_R4_n1_R41n1R41n1R41n1__n5_x193_prod1_rdf4\n",
      "D1_R2R200_A2_R3_R200R200R201_n5_x197_prod1_rdf4\n",
      "D1_R2R200_A23_R4_n1_R41n1R41n1R40n1__n5_x193_prod1_rdf4\n",
      "D1_R2R200_A31_R4_n1_R41n1R41n1R40n1__n5_x193_prod1_rdf4\n",
      "D1_R2R200_A31_R4_n1_R40n1R40n1R42n1__n5_x173_prod1_rdf4\n"
     ]
    }
   ],
   "source": [
    "for tag,calc_i in proj_i.calculations.iteritems():\n",
    "    print tag"
   ]
  },
  {
   "cell_type": "code",
   "execution_count": 78,
   "metadata": {
    "collapsed": true
   },
   "outputs": [],
   "source": [
    "def read_dat(data_file):\n",
    "    f = open(data_file,'r')\n",
    "    lines = f.readlines()\n",
    "    rdf = {}\n",
    "    rdf['r'] = []\n",
    "    rdf['g_r'] = []\n",
    "    rdf['g_r_nn'] = []    \n",
    "    for line in  lines:\n",
    "        col = line.split()\n",
    "        if( col[0] != '#' ):\n",
    "            rdf['r'].append(float(col[0]))\n",
    "            rdf['g_r'].append(float(col[1]))\n",
    "            rdf['g_r_nn'].append(float(col[2]))\n",
    "    \n",
    "    return rdf"
   ]
  },
  {
   "cell_type": "code",
   "execution_count": 50,
   "metadata": {
    "collapsed": true
   },
   "outputs": [],
   "source": [
    "for tag,calc_i in proj_i.calculations.iteritems():\n",
    "    os.chdir(calc_i.dir['launch'])\n",
    "    calc_i.rdf_DA = read_dat(calc_i.files['output']['D_A_fs100_data'])\n",
    "    calc_i.rdf_DD = read_dat(calc_i.files['output']['D_D_fs100_data'])\n",
    "    calc_i.rdf_AA = read_dat(calc_i.files['output']['A_A_fs100_data'])    "
   ]
  },
  {
   "cell_type": "code",
   "execution_count": 60,
   "metadata": {
    "collapsed": false,
    "scrolled": true
   },
   "outputs": [
    {
     "name": "stdout",
     "output_type": "stream",
     "text": [
      "BDT-TPD\n",
      "PTB1\n",
      "PTB5\n",
      "PTB4\n",
      "PTB7\n",
      "PCE10\n"
     ]
    },
    {
     "data": {
      "image/png": "[encoded data removed]",
      "text/plain": [
       "<matplotlib.figure.Figure at 0x11a401b50>"
      ]
     },
     "metadata": {},
     "output_type": "display_data"
    }
   ],
   "source": [
    "os.chdir('/Users/tkemper/Projects/DApolymers/figures')\n",
    "ms = 3\n",
    "led_x = 0.015\n",
    "led_y = 0.001\n",
    "fontsz_leg = 12\n",
    "fontsz_text = 18\n",
    "\n",
    "\n",
    "fig, ax = plt.subplots(6,sharex=True)\n",
    "#ax.plot(rgy_sq_vals.bin_val,rgy_sq_vals.hist_bin)\n",
    "#ax.bar(rgy_sq_vals.bins_cent, rgy_sq_vals.hist_cent , align='center', width=rgy_sq_vals.bin_size)\n",
    "i = 0\n",
    "for name_i in name_l:\n",
    "    calc_i = None \n",
    "    for tag_i,calc_o in proj_i.calculations.iteritems():\n",
    "        if( calc_o.properties['name'] == name_i  ):\n",
    "            calc_i = calc_o\n",
    "\n",
    "\n",
    "\n",
    "    print calc_i.properties['name']\n",
    "    \n",
    "    ax[i].plot(calc_i.rdf_DA['r'],calc_i.rdf_DA['g_r'],'-k',label=r'DA',ms=ms)\n",
    "    ax[i].plot(calc_i.rdf_DA['r'],calc_i.rdf_AA['g_r'],'--r',label=r'AA',ms=ms)\n",
    "    ax[i].plot(calc_i.rdf_DA['r'],calc_i.rdf_DD['g_r'],'-.b',label=r'DD',ms=ms)\n",
    "\n",
    "\n",
    "    \n",
    "\n",
    "    ax[i].set_xlim(0,15.0)\n",
    "    ax[i].set_ylim(0.0,1.40)\n",
    "    ax[i].text(12.0,1.0,name_i,fontsize=fontsz_text)    \n",
    "    ax[i].set_ylabel(r'$g(r)$',fontsize=fontsz_text)\n",
    "\n",
    "\n",
    "    labels=ax[i].get_yticks().tolist()\n",
    "    labels[-1]=''\n",
    "    ax[i].set_yticklabels(labels)    \n",
    "\n",
    "    i += 1 \n",
    "\n",
    "ax[i-1].set_xlabel(r'$r (\\AA)$',fontsize=fontsz_text)\n",
    "    \n",
    "ax[0].legend(loc=(0.01,0.40),prop={'size':fontsz_leg})\n",
    "fig.subplots_adjust(hspace=0.0)   \n",
    "fig.set_size_inches(8.0, 12.0)\n",
    "\n",
    "        \n",
    "\n",
    "fig.savefig('gr_v1.pdf',format='pdf')    "
   ]
  },
  {
   "cell_type": "code",
   "execution_count": 67,
   "metadata": {
    "collapsed": false
   },
   "outputs": [
    {
     "name": "stdout",
     "output_type": "stream",
     "text": [
      "BDT-TPD\n",
      "PTB1\n",
      "PTB5\n",
      "PTB4\n",
      "PTB7\n",
      "PCE10\n",
      "BDT-TPD\n",
      "PTB1\n",
      "PTB5\n",
      "PTB4\n",
      "PTB7\n",
      "PCE10\n",
      "BDT-TPD\n",
      "PTB1\n",
      "PTB5\n",
      "PTB4\n",
      "PTB7\n",
      "PCE10\n"
     ]
    },
    {
     "data": {
      "image/png": "[encoded data removed]",
      "text/plain": [
       "<matplotlib.figure.Figure at 0x116728a10>"
      ]
     },
     "metadata": {},
     "output_type": "display_data"
    }
   ],
   "source": [
    "os.chdir('/Users/tkemper/Projects/DApolymers/figures')\n",
    "ms = 3\n",
    "led_x = 0.015\n",
    "led_y = 0.001\n",
    "fontsz_leg = 12\n",
    "fontsz_text = 18\n",
    "\n",
    "ltypes = ['-k','--r','-.b',':g','-v','--y']\n",
    "\n",
    "fig, ax = plt.subplots(3,sharex=True)\n",
    "#ax.plot(rgy_sq_vals.bin_val,rgy_sq_vals.hist_bin)\n",
    "#ax.bar(rgy_sq_vals.bins_cent, rgy_sq_vals.hist_cent , align='center', width=rgy_sq_vals.bin_size)\n",
    "i = 0\n",
    "j = 0 \n",
    "for name_i in name_l:\n",
    "    calc_i = None \n",
    "    for tag_i,calc_o in proj_i.calculations.iteritems():\n",
    "        if( calc_o.properties['name'] == name_i  ):\n",
    "            calc_i = calc_o\n",
    "    print calc_i.properties['name']    \n",
    "    ax[i].plot(calc_i.rdf_DA['r'],calc_i.rdf_DA['g_r'],ltypes[j],label=name_i,ms=ms)\n",
    "    j += 1\n",
    "    \n",
    "ax[i].set_xlim(0,15.0)\n",
    "ax[i].set_ylim(0.0,1.40)\n",
    "ax[i].text(10.0,1.2,'donor-donor',fontsize=fontsz_text)    \n",
    "ax[i].set_ylabel(r'$g(r)$',fontsize=fontsz_text)\n",
    "\n",
    "\n",
    "labels=ax[i].get_yticks().tolist()\n",
    "labels[-1]=''\n",
    "ax[i].set_yticklabels(labels)    \n",
    "\n",
    "i += 1 \n",
    "j = 0 \n",
    "for name_i in name_l:\n",
    "    calc_i = None \n",
    "    for tag_i,calc_o in proj_i.calculations.iteritems():\n",
    "        if( calc_o.properties['name'] == name_i  ):\n",
    "            calc_i = calc_o\n",
    "    print calc_i.properties['name']        \n",
    "    ax[i].plot(calc_i.rdf_AA['r'],calc_i.rdf_AA['g_r'],ltypes[j],label=name_i,ms=ms)\n",
    "    j += 1\n",
    "\n",
    "    \n",
    "ax[i].set_xlim(0,15.0)\n",
    "ax[i].set_ylim(0.0,1.40)\n",
    "ax[i].text(9.0,1.2,'acceptor-acceptor',fontsize=fontsz_text)    \n",
    "ax[i].set_ylabel(r'$g(r)$',fontsize=fontsz_text)\n",
    "\n",
    "\n",
    "labels=ax[i].get_yticks().tolist()\n",
    "labels[-1]=''\n",
    "ax[i].set_yticklabels(labels)    \n",
    "\n",
    "i += 1 \n",
    "j = 0 \n",
    "for name_i in name_l:\n",
    "    calc_i = None \n",
    "    for tag_i,calc_o in proj_i.calculations.iteritems():\n",
    "        if( calc_o.properties['name'] == name_i  ):\n",
    "            calc_i = calc_o\n",
    "    print calc_i.properties['name']        \n",
    "    ax[i].plot(calc_i.rdf_DD['r'],calc_i.rdf_DD['g_r'],ltypes[j],label=name_i,ms=ms)\n",
    "    j += 1\n",
    "\n",
    "    \n",
    "ax[i].set_xlim(0,15.0)\n",
    "ax[i].set_ylim(0.0,1.40)\n",
    "ax[i].text(10.0,1.2,'acceptor-donor',fontsize=fontsz_text)    \n",
    "ax[i].set_ylabel(r'$g(r)$',fontsize=fontsz_text)\n",
    "\n",
    "\n",
    "labels=ax[i].get_yticks().tolist()\n",
    "labels[-1]=''\n",
    "ax[i].set_yticklabels(labels)    \n",
    "\n",
    "i += 1 \n",
    "\n",
    "ax[i-1].set_xlabel(r'$r (\\AA)$',fontsize=fontsz_text)\n",
    "ax[0].legend(loc=(0.01,0.40),prop={'size':fontsz_leg})\n",
    "fig.subplots_adjust(hspace=0.0)\n",
    "fig.set_size_inches(8.0, 12.0)\n",
    "\n",
    "fig.savefig('gr_v2.pdf',format='pdf')    "
   ]
  },
  {
   "cell_type": "code",
   "execution_count": 141,
   "metadata": {
    "collapsed": true
   },
   "outputs": [],
   "source": [
    "calc_i = proj_i.calculations['D1_R2R200_A2_R3_R200R200R201_n5_x197_prod1_rdf4']"
   ]
  },
  {
   "cell_type": "code",
   "execution_count": 143,
   "metadata": {
    "collapsed": false
   },
   "outputs": [],
   "source": [
    "os.chdir(calc_i.dir['launch'])\n",
    "\n",
    "calc_i.rdf_AA = read_dat('A_A_fs100.dat')\n",
    "calc_i.rdf_NN = read_dat('AffNS_AffNS_fs100.dat')\n",
    "calc_i.rdf_OO = read_dat('AffO_AffO_fs100.dat')  \n",
    "calc_i.rdf_SS = read_dat('AffS_AffS_fs100.dat')\n",
    "\n",
    "\n",
    "\n"
   ]
  },
  {
   "cell_type": "code",
   "execution_count": 158,
   "metadata": {
    "collapsed": false
   },
   "outputs": [
    {
     "name": "stdout",
     "output_type": "stream",
     "text": [
      "PTB1\n"
     ]
    },
    {
     "ename": "AttributeError",
     "evalue": "'CalculationRes' object has no attribute 'rdf_AA'",
     "output_type": "error",
     "traceback": [
      "\u001b[0;31m---------------------------------------------------------------------------\u001b[0m",
      "\u001b[0;31mAttributeError\u001b[0m                            Traceback (most recent call last)",
      "\u001b[0;32m<ipython-input-158-46a145e3783a>\u001b[0m in \u001b[0;36m<module>\u001b[0;34m()\u001b[0m\n\u001b[1;32m     12\u001b[0m \u001b[0;32mprint\u001b[0m \u001b[0mcalc_i\u001b[0m\u001b[0;34m.\u001b[0m\u001b[0mproperties\u001b[0m\u001b[0;34m[\u001b[0m\u001b[0;34m'name'\u001b[0m\u001b[0;34m]\u001b[0m\u001b[0;34m\u001b[0m\u001b[0m\n\u001b[1;32m     13\u001b[0m \u001b[0;34m\u001b[0m\u001b[0m\n\u001b[0;32m---> 14\u001b[0;31m \u001b[0max\u001b[0m\u001b[0;34m.\u001b[0m\u001b[0mplot\u001b[0m\u001b[0;34m(\u001b[0m\u001b[0mcalc_i\u001b[0m\u001b[0;34m.\u001b[0m\u001b[0mrdf_AA\u001b[0m\u001b[0;34m[\u001b[0m\u001b[0;34m'r'\u001b[0m\u001b[0;34m]\u001b[0m\u001b[0;34m,\u001b[0m\u001b[0mcalc_i\u001b[0m\u001b[0;34m.\u001b[0m\u001b[0mrdf_AA\u001b[0m\u001b[0;34m[\u001b[0m\u001b[0;34m'g_r'\u001b[0m\u001b[0;34m]\u001b[0m\u001b[0;34m,\u001b[0m\u001b[0mltypes\u001b[0m\u001b[0;34m[\u001b[0m\u001b[0;36m0\u001b[0m\u001b[0;34m]\u001b[0m\u001b[0;34m,\u001b[0m\u001b[0mlabel\u001b[0m\u001b[0;34m=\u001b[0m\u001b[0;34mr'A-A'\u001b[0m\u001b[0;34m,\u001b[0m\u001b[0mms\u001b[0m\u001b[0;34m=\u001b[0m\u001b[0mms\u001b[0m\u001b[0;34m)\u001b[0m\u001b[0;34m\u001b[0m\u001b[0m\n\u001b[0m\u001b[1;32m     15\u001b[0m \u001b[0max\u001b[0m\u001b[0;34m.\u001b[0m\u001b[0mplot\u001b[0m\u001b[0;34m(\u001b[0m\u001b[0mcalc_i\u001b[0m\u001b[0;34m.\u001b[0m\u001b[0mrdf_NN\u001b[0m\u001b[0;34m[\u001b[0m\u001b[0;34m'r'\u001b[0m\u001b[0;34m]\u001b[0m\u001b[0;34m,\u001b[0m\u001b[0mcalc_i\u001b[0m\u001b[0;34m.\u001b[0m\u001b[0mrdf_NN\u001b[0m\u001b[0;34m[\u001b[0m\u001b[0;34m'g_r'\u001b[0m\u001b[0;34m]\u001b[0m\u001b[0;34m,\u001b[0m\u001b[0mltypes\u001b[0m\u001b[0;34m[\u001b[0m\u001b[0;36m1\u001b[0m\u001b[0;34m]\u001b[0m\u001b[0;34m,\u001b[0m\u001b[0mlabel\u001b[0m\u001b[0;34m=\u001b[0m\u001b[0;34mr'N-N'\u001b[0m\u001b[0;34m,\u001b[0m\u001b[0mms\u001b[0m\u001b[0;34m=\u001b[0m\u001b[0mms\u001b[0m\u001b[0;34m)\u001b[0m\u001b[0;34m\u001b[0m\u001b[0m\n\u001b[1;32m     16\u001b[0m \u001b[0max\u001b[0m\u001b[0;34m.\u001b[0m\u001b[0mplot\u001b[0m\u001b[0;34m(\u001b[0m\u001b[0mcalc_i\u001b[0m\u001b[0;34m.\u001b[0m\u001b[0mrdf_OO\u001b[0m\u001b[0;34m[\u001b[0m\u001b[0;34m'r'\u001b[0m\u001b[0;34m]\u001b[0m\u001b[0;34m,\u001b[0m\u001b[0mcalc_i\u001b[0m\u001b[0;34m.\u001b[0m\u001b[0mrdf_OO\u001b[0m\u001b[0;34m[\u001b[0m\u001b[0;34m'g_r'\u001b[0m\u001b[0;34m]\u001b[0m\u001b[0;34m,\u001b[0m\u001b[0mltypes\u001b[0m\u001b[0;34m[\u001b[0m\u001b[0;36m2\u001b[0m\u001b[0;34m]\u001b[0m\u001b[0;34m,\u001b[0m\u001b[0mlabel\u001b[0m\u001b[0;34m=\u001b[0m\u001b[0;34mr'O-O'\u001b[0m\u001b[0;34m,\u001b[0m\u001b[0mms\u001b[0m\u001b[0;34m=\u001b[0m\u001b[0mms\u001b[0m\u001b[0;34m)\u001b[0m\u001b[0;34m\u001b[0m\u001b[0m\n",
      "\u001b[0;31mAttributeError\u001b[0m: 'CalculationRes' object has no attribute 'rdf_AA'"
     ]
    },
    {
     "data": {
      "image/png": "[encoded data removed]",
      "text/plain": [
       "<matplotlib.figure.Figure at 0x1857d5890>"
      ]
     },
     "metadata": {},
     "output_type": "display_data"
    }
   ],
   "source": [
    "os.chdir('/Users/tkemper/Projects/DApolymers/figures')\n",
    "ms = 3\n",
    "led_x = 0.015\n",
    "led_y = 0.001\n",
    "fontsz_leg = 14\n",
    "fontsz_text = 18\n",
    "\n",
    "ltypes = ['-k','--r','-.b',':g','-v','--y']\n",
    "\n",
    "fig, ax = plt.subplots(1,sharex=True)\n",
    "\n",
    "print calc_i.properties['name']\n",
    "\n",
    "ax.plot(calc_i.rdf_AA['r'],calc_i.rdf_AA['g_r'],ltypes[0],label=r'A-A',ms=ms)\n",
    "ax.plot(calc_i.rdf_NN['r'],calc_i.rdf_NN['g_r'],ltypes[1],label=r'N-N',ms=ms)\n",
    "ax.plot(calc_i.rdf_OO['r'],calc_i.rdf_OO['g_r'],ltypes[2],label=r'O-O',ms=ms)\n",
    "ax.plot(calc_i.rdf_SS['r'],calc_i.rdf_SS['g_r'],ltypes[3],label=r'S-S',ms=ms)\n",
    "\n",
    "ax.set_xlim(0,15.0)\n",
    "ax.set_ylim(0.0,2.50)\n",
    "ax.text(10.0,1.2,'acceptor-donor',fontsize=fontsz_text)    \n",
    "ax.set_ylabel(r'$g(r)$',fontsize=fontsz_text)\n",
    "\n",
    "\n",
    "#labels=ax[i].get_yticks().tolist()\n",
    "#labels[-1]=''\n",
    "#ax[i].set_yticklabels(labels)    \n",
    "\n",
    "i += 1 \n",
    "\n",
    "ax.set_xlabel(r'$r (\\AA)$',fontsize=fontsz_text)\n",
    "ax.legend(loc=(0.01,0.40),prop={'size':fontsz_leg})\n",
    "fig.subplots_adjust(hspace=0.0)\n",
    "fig.set_size_inches(8.0, 4.0)\n",
    "\n",
    "fig.savefig('gr_BDTTPDv1.pdf',format='pdf')    "
   ]
  },
  {
   "cell_type": "code",
   "execution_count": 84,
   "metadata": {
    "collapsed": true
   },
   "outputs": [],
   "source": [
    "proj_i.dir['notebook'] = '/Users/tkemper/Projects/DApolymers/notebooks'\n",
    "for tag,calc_i in proj_i.calculations.iteritems():\n",
    "    calc_i.dir['notebook'] = '/Users/tkemper/Projects/DApolymers/notebooks'"
   ]
  },
  {
   "cell_type": "code",
   "execution_count": 85,
   "metadata": {
    "collapsed": false
   },
   "outputs": [
    {
     "name": "stdout",
     "output_type": "stream",
     "text": [
      "{'files': {u'templates': {u'run': u'streamm_peregrine.pbs', u'compressed': u'D51_00R300R3_A23_R4__n1wB_R41n1wBR41n1wBR41n1wB__n5_x173_prod1_rdf4_templates.tgz'}, u'input': {u'cply': u'D51_00R300R3_A23_R4__n1wB_R41n1wBR41n1wBR41n1wB__n5_x173.cply', u'py_script': u'rdf2.py', u'compressed': u'D51_00R300R3_A23_R4__n1wB_R41n1wBR41n1wBR41n1wB__n5_x173_prod1_rdf4_input.tgz', u'file_D': u'D.list', u'file_DA': u'DA.list', u'file_A': u'A.list'}, u'output': {u'A_A_fs100_log': u'A_A_fs100.log', u'D_D_fs100_data': u'D_D_fs100.dat', u'D_A_fs100_log': u'D_A_fs100.log', u'D_A_fs100_data': u'D_A_fs100.dat', u'D_D_fs100_log': u'D_D_fs100.log', u'A_A_fs100_data': u'A_A_fs100.dat'}, u'data': {}, u'scripts': {u'run_D_A_fs100': u'D_A_fs100.pbs', u'run_A_A_fs100': u'A_A_fs100.pbs', u'compressed': u'D51_00R300R3_A23_R4__n1wB_R41n1wBR41n1wBR41n1wB__n5_x173_prod1_rdf4_scripts.tgz', u'run_D_D_fs100': u'D_D_fs100.pbs'}}, 'meta': {u'date': u'2016-12-29T12:18:09.776919', u'status': u'running', u'resource': u'peregrine', u'software': u'streamm_calc'}, 'references': {}, 'units': {u'distance': u'angstroms', u'angle': u'radians'}, 'data': {}, 'properties': {u'queue': u'batch', u'compress_sufix': u'tgz', u'comp_key': u'compressed', u'name': u'PCE10', u'frame_step': 100, u'uncompress': u'tar -xzf ', u'scratch': u'/scratch/tkemper/D51_00R300R3_A23_R4__n1wB_R41n1wBR41n1wBR41n1wB__n5_x173_prod1_rdf4/', u'compress': u'tar -czf ', u'ppn': 24, u'finish_str': u'Finished', u'allocation': u'orgopv', u'e-mail': u'travis.kemper@nrel.gov', u'streamm_command': u' \\npython rdf2.py  A_A_fs100 --cply D51_00R300R3_A23_R4__n1wB_R41n1wBR41n1wBR41n1wB__n5_x173.cply --list_i A.list  --list_j A.list  --dcd prod1_dump.dcd --mol_inter --frame_step 100', u'exe_command': u'qsub ', u'run_list': '', u'nproc': 24, u'feature': u'24core', u'nodes': 1, u'pmem': 1500, u'walltime': 48}, 'dir': {u'templates': u'/Users/tkemper/Development/streamm-tools/templates', u'launch': u'/Users/tkemper/Projects/DApolymers/scratch/D51_00R300R3_A23_R4__n1wB_R41n1wBR41n1wBR41n1wB__n5_x173_prod1_rdf4/', u'scratch': u'/scratch/tkemper/D51_00R300R3_A23_R4__n1wB_R41n1wBR41n1wBR41n1wB__n5_x173_prod1_rdf4/', u'storage': u'/mss/users/tkemper/D51_00R300R3_A23_R4__n1wB_R41n1wBR41n1wBR41n1wB__n5_x173_prod1_rdf4/', 'notebook': '/Users/tkemper/Projects/DApolymers/notebooks', u'materials': u'/Users/tkemper/Projects/DApolymers/materials', u'scripts': u'/Users/tkemper/Development/streamm-tools/scripts', u'home': u'/Users/tkemper/Projects/DApolymers'}}\n",
      "{'files': {u'templates': {u'run': u'streamm_peregrine.pbs', u'compressed': u'D1_R2R200_A23_R4_n1_R41n1R41n1R41n1__n5_x193_prod1_rdf4_templates.tgz'}, u'input': {u'cply': u'D1_R2R200_A23_R4_n1_R41n1R41n1R41n1__n5_x193.cply', u'py_script': u'rdf2.py', u'compressed': u'D1_R2R200_A23_R4_n1_R41n1R41n1R41n1__n5_x193_prod1_rdf4_input.tgz', u'file_D': u'D.list', u'file_DA': u'DA.list', u'file_A': u'A.list'}, u'output': {u'A_A_fs100_log': u'A_A_fs100.log', u'D_D_fs100_data': u'D_D_fs100.dat', u'D_A_fs100_log': u'D_A_fs100.log', u'D_A_fs100_data': u'D_A_fs100.dat', u'D_D_fs100_log': u'D_D_fs100.log', u'A_A_fs100_data': u'A_A_fs100.dat'}, u'data': {}, u'scripts': {u'run_D_A_fs100': u'D_A_fs100.pbs', u'run_A_A_fs100': u'A_A_fs100.pbs', u'compressed': u'D1_R2R200_A23_R4_n1_R41n1R41n1R41n1__n5_x193_prod1_rdf4_scripts.tgz', u'run_D_D_fs100': u'D_D_fs100.pbs'}}, 'meta': {u'date': u'2016-12-29T12:18:44.477002', u'status': u'running', u'resource': u'peregrine', u'software': u'streamm_calc'}, 'references': {}, 'units': {u'distance': u'angstroms', u'angle': u'radians'}, 'data': {}, 'properties': {u'queue': u'batch', u'compress_sufix': u'tgz', u'comp_key': u'compressed', u'name': u'PTB7', u'frame_step': 100, u'uncompress': u'tar -xzf ', u'scratch': u'/scratch/tkemper/D1_R2R200_A23_R4_n1_R41n1R41n1R41n1__n5_x193_prod1_rdf4/', u'compress': u'tar -czf ', u'ppn': 24, u'finish_str': u'Finished', u'allocation': u'orgopv', u'e-mail': u'travis.kemper@nrel.gov', u'streamm_command': u' \\npython rdf2.py  A_A_fs100 --cply D1_R2R200_A23_R4_n1_R41n1R41n1R41n1__n5_x193.cply --list_i A.list  --list_j A.list  --dcd prod1_dump.dcd --mol_inter --frame_step 100', u'exe_command': u'qsub ', u'run_list': '', u'nproc': 24, u'feature': u'24core', u'nodes': 1, u'pmem': 1500, u'walltime': 48}, 'dir': {u'templates': u'/Users/tkemper/Development/streamm-tools/templates', u'launch': u'/Users/tkemper/Projects/DApolymers/scratch/D1_R2R200_A23_R4_n1_R41n1R41n1R41n1__n5_x193_prod1_rdf4/', u'scratch': u'/scratch/tkemper/D1_R2R200_A23_R4_n1_R41n1R41n1R41n1__n5_x193_prod1_rdf4/', u'storage': u'/mss/users/tkemper/D1_R2R200_A23_R4_n1_R41n1R41n1R41n1__n5_x193_prod1_rdf4/', 'notebook': '/Users/tkemper/Projects/DApolymers/notebooks', u'materials': u'/Users/tkemper/Projects/DApolymers/materials', u'scripts': u'/Users/tkemper/Development/streamm-tools/scripts', u'home': u'/Users/tkemper/Projects/DApolymers'}}\n",
      "{'files': {u'templates': {u'run': u'streamm_peregrine.pbs', u'compressed': u'D1_R2R200_A2_R3_R200R200R201_n5_x197_prod1_rdf4_templates.tgz'}, u'input': {u'cply': u'D1_R2R200_A2_R3_R200R200R201_n5_x197.cply', u'py_script': u'rdf2.py', u'compressed': u'D1_R2R200_A2_R3_R200R200R201_n5_x197_prod1_rdf4_input.tgz', u'file_D': u'D.list', u'file_DA': u'DA.list', u'file_A': u'A.list'}, u'output': {u'A_A_fs100_log': u'A_A_fs100.log', u'D_D_fs100_data': u'D_D_fs100.dat', u'D_A_fs100_log': u'D_A_fs100.log', u'D_A_fs100_data': u'D_A_fs100.dat', u'D_D_fs100_log': u'D_D_fs100.log', u'A_A_fs100_data': u'A_A_fs100.dat'}, u'data': {}, u'scripts': {u'run_D_A_fs100': u'D_A_fs100.pbs', u'run_A_A_fs100': u'A_A_fs100.pbs', u'compressed': u'D1_R2R200_A2_R3_R200R200R201_n5_x197_prod1_rdf4_scripts.tgz', u'run_D_D_fs100': u'D_D_fs100.pbs'}}, 'meta': {u'date': u'2016-12-29T12:17:38.089108', u'status': u'running', u'resource': u'peregrine', u'software': u'streamm_calc'}, 'references': {}, 'units': {u'distance': u'angstroms', u'angle': u'radians'}, 'data': {}, 'properties': {u'queue': u'batch', u'compress_sufix': u'tgz', u'comp_key': u'compressed', u'name': u'BDT-TPD', u'frame_step': 100, u'uncompress': u'tar -xzf ', u'scratch': u'/scratch/tkemper/D1_R2R200_A2_R3_R200R200R201_n5_x197_prod1_rdf4/', u'compress': u'tar -czf ', u'ppn': 24, u'finish_str': u'Finished', u'allocation': u'orgopv', u'e-mail': u'travis.kemper@nrel.gov', u'streamm_command': u' \\npython rdf2.py  A_A_fs100 --cply D1_R2R200_A2_R3_R200R200R201_n5_x197.cply --list_i A.list  --list_j A.list  --dcd prod1_dump.dcd --mol_inter --frame_step 100', u'exe_command': u'qsub ', u'run_list': '', u'nproc': 24, u'feature': u'24core', u'nodes': 1, u'pmem': 1500, u'walltime': 48}, 'dir': {u'templates': u'/Users/tkemper/Development/streamm-tools/templates', u'launch': u'/Users/tkemper/Projects/DApolymers/scratch/D1_R2R200_A2_R3_R200R200R201_n5_x197_prod1_rdf4/', u'scratch': u'/scratch/tkemper/D1_R2R200_A2_R3_R200R200R201_n5_x197_prod1_rdf4/', u'storage': u'/mss/users/tkemper/D1_R2R200_A2_R3_R200R200R201_n5_x197_prod1_rdf4/', 'notebook': '/Users/tkemper/Projects/DApolymers/notebooks', u'materials': u'/Users/tkemper/Projects/DApolymers/materials', u'scripts': u'/Users/tkemper/Development/streamm-tools/scripts', u'home': u'/Users/tkemper/Projects/DApolymers'}}\n",
      "{'files': {u'templates': {u'run': u'streamm_peregrine.pbs', u'compressed': u'D1_R2R200_A23_R4_n1_R41n1R41n1R40n1__n5_x193_prod1_rdf4_templates.tgz'}, u'input': {u'cply': u'D1_R2R200_A23_R4_n1_R41n1R41n1R40n1__n5_x193.cply', u'py_script': u'rdf2.py', u'compressed': u'D1_R2R200_A23_R4_n1_R41n1R41n1R40n1__n5_x193_prod1_rdf4_input.tgz', u'file_D': u'D.list', u'file_DA': u'DA.list', u'file_A': u'A.list'}, u'output': {u'A_A_fs100_log': u'A_A_fs100.log', u'D_D_fs100_data': u'D_D_fs100.dat', u'D_A_fs100_log': u'D_A_fs100.log', u'D_A_fs100_data': u'D_A_fs100.dat', u'D_D_fs100_log': u'D_D_fs100.log', u'A_A_fs100_data': u'A_A_fs100.dat'}, u'data': {}, u'scripts': {u'run_D_A_fs100': u'D_A_fs100.pbs', u'run_A_A_fs100': u'A_A_fs100.pbs', u'compressed': u'D1_R2R200_A23_R4_n1_R41n1R41n1R40n1__n5_x193_prod1_rdf4_scripts.tgz', u'run_D_D_fs100': u'D_D_fs100.pbs'}}, 'meta': {u'date': u'2016-12-29T12:19:17.794381', u'status': u'running', u'resource': u'peregrine', u'software': u'streamm_calc'}, 'references': {}, 'units': {u'distance': u'angstroms', u'angle': u'radians'}, 'data': {}, 'properties': {u'queue': u'batch', u'compress_sufix': u'tgz', u'comp_key': u'compressed', u'name': u'PTB4', u'frame_step': 100, u'uncompress': u'tar -xzf ', u'scratch': u'/scratch/tkemper/D1_R2R200_A23_R4_n1_R41n1R41n1R40n1__n5_x193_prod1_rdf4/', u'compress': u'tar -czf ', u'ppn': 24, u'finish_str': u'Finished', u'allocation': u'orgopv', u'e-mail': u'travis.kemper@nrel.gov', u'streamm_command': u' \\npython rdf2.py  A_A_fs100 --cply D1_R2R200_A23_R4_n1_R41n1R41n1R40n1__n5_x193.cply --list_i A.list  --list_j A.list  --dcd prod1_dump.dcd --mol_inter --frame_step 100', u'exe_command': u'qsub ', u'run_list': '', u'nproc': 24, u'feature': u'24core', u'nodes': 1, u'pmem': 1500, u'walltime': 48}, 'dir': {u'templates': u'/Users/tkemper/Development/streamm-tools/templates', u'launch': u'/Users/tkemper/Projects/DApolymers/scratch/D1_R2R200_A23_R4_n1_R41n1R41n1R40n1__n5_x193_prod1_rdf4/', u'scratch': u'/scratch/tkemper/D1_R2R200_A23_R4_n1_R41n1R41n1R40n1__n5_x193_prod1_rdf4/', u'storage': u'/mss/users/tkemper/D1_R2R200_A23_R4_n1_R41n1R41n1R40n1__n5_x193_prod1_rdf4/', 'notebook': '/Users/tkemper/Projects/DApolymers/notebooks', u'materials': u'/Users/tkemper/Projects/DApolymers/materials', u'scripts': u'/Users/tkemper/Development/streamm-tools/scripts', u'home': u'/Users/tkemper/Projects/DApolymers'}}\n",
      "{'files': {u'templates': {u'run': u'streamm_peregrine.pbs', u'compressed': u'D1_R2R200_A31_R4_n1_R41n1R41n1R40n1__n5_x193_prod1_rdf4_templates.tgz'}, u'input': {u'cply': u'D1_R2R200_A31_R4_n1_R41n1R41n1R40n1__n5_x193.cply', u'py_script': u'rdf2.py', u'compressed': u'D1_R2R200_A31_R4_n1_R41n1R41n1R40n1__n5_x193_prod1_rdf4_input.tgz', u'file_D': u'D.list', u'file_DA': u'DA.list', u'file_A': u'A.list'}, u'output': {u'A_A_fs100_log': u'A_A_fs100.log', u'D_D_fs100_data': u'D_D_fs100.dat', u'D_A_fs100_log': u'D_A_fs100.log', u'D_A_fs100_data': u'D_A_fs100.dat', u'D_D_fs100_log': u'D_D_fs100.log', u'A_A_fs100_data': u'A_A_fs100.dat'}, u'data': {}, u'scripts': {u'run_D_A_fs100': u'D_A_fs100.pbs', u'run_A_A_fs100': u'A_A_fs100.pbs', u'compressed': u'D1_R2R200_A31_R4_n1_R41n1R41n1R40n1__n5_x193_prod1_rdf4_scripts.tgz', u'run_D_D_fs100': u'D_D_fs100.pbs'}}, 'meta': {u'date': u'2016-12-29T12:20:24.302322', u'status': u'running', u'resource': u'peregrine', u'software': u'streamm_calc'}, 'references': {}, 'units': {u'distance': u'angstroms', u'angle': u'radians'}, 'data': {}, 'properties': {u'queue': u'batch', u'compress_sufix': u'tgz', u'comp_key': u'compressed', u'name': u'PTB5', u'frame_step': 100, u'uncompress': u'tar -xzf ', u'scratch': u'/scratch/tkemper/D1_R2R200_A31_R4_n1_R41n1R41n1R40n1__n5_x193_prod1_rdf4/', u'compress': u'tar -czf ', u'ppn': 24, u'finish_str': u'Finished', u'allocation': u'orgopv', u'e-mail': u'travis.kemper@nrel.gov', u'streamm_command': u' \\npython rdf2.py  A_A_fs100 --cply D1_R2R200_A31_R4_n1_R41n1R41n1R40n1__n5_x193.cply --list_i A.list  --list_j A.list  --dcd prod1_dump.dcd --mol_inter --frame_step 100', u'exe_command': u'qsub ', u'run_list': '', u'nproc': 24, u'feature': u'24core', u'nodes': 1, u'pmem': 1500, u'walltime': 48}, 'dir': {u'templates': u'/Users/tkemper/Development/streamm-tools/templates', u'launch': u'/Users/tkemper/Projects/DApolymers/scratch/D1_R2R200_A31_R4_n1_R41n1R41n1R40n1__n5_x193_prod1_rdf4/', u'scratch': u'/scratch/tkemper/D1_R2R200_A31_R4_n1_R41n1R41n1R40n1__n5_x193_prod1_rdf4/', u'storage': u'/mss/users/tkemper/D1_R2R200_A31_R4_n1_R41n1R41n1R40n1__n5_x193_prod1_rdf4/', 'notebook': '/Users/tkemper/Projects/DApolymers/notebooks', u'materials': u'/Users/tkemper/Projects/DApolymers/materials', u'scripts': u'/Users/tkemper/Development/streamm-tools/scripts', u'home': u'/Users/tkemper/Projects/DApolymers'}}\n",
      "{'files': {u'templates': {u'run': u'streamm_peregrine.pbs', u'compressed': u'D1_R2R200_A31_R4_n1_R40n1R40n1R42n1__n5_x173_prod1_rdf4_templates.tgz'}, u'input': {u'cply': u'D1_R2R200_A31_R4_n1_R40n1R40n1R42n1__n5_x173.cply', u'py_script': u'rdf2.py', u'compressed': u'D1_R2R200_A31_R4_n1_R40n1R40n1R42n1__n5_x173_prod1_rdf4_input.tgz', u'file_D': u'D.list', u'file_DA': u'DA.list', u'file_A': u'A.list'}, u'output': {u'A_A_fs100_log': u'A_A_fs100.log', u'D_D_fs100_data': u'D_D_fs100.dat', u'D_A_fs100_log': u'D_A_fs100.log', u'D_A_fs100_data': u'D_A_fs100.dat', u'D_D_fs100_log': u'D_D_fs100.log', u'A_A_fs100_data': u'A_A_fs100.dat'}, u'data': {}, u'scripts': {u'run_D_A_fs100': u'D_A_fs100.pbs', u'run_A_A_fs100': u'A_A_fs100.pbs', u'compressed': u'D1_R2R200_A31_R4_n1_R40n1R40n1R42n1__n5_x173_prod1_rdf4_scripts.tgz', u'run_D_D_fs100': u'D_D_fs100.pbs'}}, 'meta': {u'date': u'2016-12-29T12:19:51.374690', u'status': u'running', u'resource': u'peregrine', u'software': u'streamm_calc'}, 'references': {}, 'units': {u'distance': u'angstroms', u'angle': u'radians'}, 'data': {}, 'properties': {u'queue': u'batch', u'compress_sufix': u'tgz', u'comp_key': u'compressed', u'name': u'PTB1', u'frame_step': 100, u'uncompress': u'tar -xzf ', u'scratch': u'/scratch/tkemper/D1_R2R200_A31_R4_n1_R40n1R40n1R42n1__n5_x173_prod1_rdf4/', u'compress': u'tar -czf ', u'ppn': 24, u'finish_str': u'Finished', u'allocation': u'orgopv', u'e-mail': u'travis.kemper@nrel.gov', u'streamm_command': u' \\npython rdf2.py  A_A_fs100 --cply D1_R2R200_A31_R4_n1_R40n1R40n1R42n1__n5_x173.cply --list_i A.list  --list_j A.list  --dcd prod1_dump.dcd --mol_inter --frame_step 100', u'exe_command': u'qsub ', u'run_list': '', u'nproc': 24, u'feature': u'24core', u'nodes': 1, u'pmem': 1500, u'walltime': 48}, 'dir': {u'templates': u'/Users/tkemper/Development/streamm-tools/templates', u'launch': u'/Users/tkemper/Projects/DApolymers/scratch/D1_R2R200_A31_R4_n1_R40n1R40n1R42n1__n5_x173_prod1_rdf4/', u'scratch': u'/scratch/tkemper/D1_R2R200_A31_R4_n1_R40n1R40n1R42n1__n5_x173_prod1_rdf4/', u'storage': u'/mss/users/tkemper/D1_R2R200_A31_R4_n1_R40n1R40n1R42n1__n5_x173_prod1_rdf4/', 'notebook': '/Users/tkemper/Projects/DApolymers/notebooks', u'materials': u'/Users/tkemper/Projects/DApolymers/materials', u'scripts': u'/Users/tkemper/Development/streamm-tools/scripts', u'home': u'/Users/tkemper/Projects/DApolymers'}}\n"
     ]
    }
   ],
   "source": [
    "for tag,calc_i in proj_i.calculations.iteritems():\n",
    "    os.chdir(calc_i.dir['notebook'])\n",
    "    calc_i.dump_json()\n",
    "os.chdir(proj_i.dir['notebook'])\n",
    "proj_i.dump_json()"
   ]
  },
  {
   "cell_type": "markdown",
   "metadata": {},
   "source": [
    "Recalculate rdf with smaller frame step of 10 frames "
   ]
  },
  {
   "cell_type": "code",
   "execution_count": 41,
   "metadata": {
    "collapsed": true
   },
   "outputs": [],
   "source": [
    "os.chdir('/Users/tkemper/Projects/DApolymers/notebooks')"
   ]
  },
  {
   "cell_type": "code",
   "execution_count": 42,
   "metadata": {
    "collapsed": false
   },
   "outputs": [],
   "source": [
    "proj_j_tag = 'rdf5'\n",
    "proj_j = project.Project('DAPpolymers_%s'%(proj_j_tag))\n",
    "proj_j.load_json()"
   ]
  },
  {
   "cell_type": "code",
   "execution_count": 44,
   "metadata": {
    "collapsed": false
   },
   "outputs": [
    {
     "name": "stdout",
     "output_type": "stream",
     "text": [
      "{}\n"
     ]
    }
   ],
   "source": [
    "print proj_j.calculations"
   ]
  },
  {
   "cell_type": "code",
   "execution_count": 43,
   "metadata": {
    "collapsed": false
   },
   "outputs": [],
   "source": [
    "for tag,calc_i in proj_j.calculations.iteritems():\n",
    "    run_tag = \"A_A\" #%(calc_i.properties['frame_step'])\n",
    "    calc_i.files['output'][\"log\"] = \"%s.log\"%(run_tag)\n",
    "\n",
    "\n"
   ]
  },
  {
   "cell_type": "code",
   "execution_count": 45,
   "metadata": {
    "collapsed": false
   },
   "outputs": [
    {
     "name": "stdout",
     "output_type": "stream",
     "text": [
      "D1_R2R200_A2_R3_R200R200R201_n5_x197_prod1_rdf1\n",
      "MAKEDIR  ssh tkemper@peregrine.hpc.nrel.gov '   mkdir -p /mss/users/tkemper/D1_R2R200_A2_R3_R200R200R201_n5_x197_prod1_rdf5/   ' \n",
      "MAKEDIR  ssh tkemper@peregrine.hpc.nrel.gov '   mkdir -p /scratch/tkemper/D1_R2R200_A2_R3_R200R200R201_n5_x197_prod1_rdf5/   ' \n",
      "D51_00R300R3_A23_R4__n1wB_R41n1wBR41n1wBR41n1wB__n5_x173_prod1_rdf1\n",
      "MAKEDIR  ssh tkemper@peregrine.hpc.nrel.gov '   mkdir -p /mss/users/tkemper/D51_00R300R3_A23_R4__n1wB_R41n1wBR41n1wBR41n1wB__n5_x173_prod1_rdf5/   ' \n",
      "MAKEDIR  ssh tkemper@peregrine.hpc.nrel.gov '   mkdir -p /scratch/tkemper/D51_00R300R3_A23_R4__n1wB_R41n1wBR41n1wBR41n1wB__n5_x173_prod1_rdf5/   ' \n",
      "D1_R2R200_A23_R4_n1_R41n1R41n1R41n1__n5_x193_prod1_rdf1\n",
      "MAKEDIR  ssh tkemper@peregrine.hpc.nrel.gov '   mkdir -p /mss/users/tkemper/D1_R2R200_A23_R4_n1_R41n1R41n1R41n1__n5_x193_prod1_rdf5/   ' \n",
      "MAKEDIR  ssh tkemper@peregrine.hpc.nrel.gov '   mkdir -p /scratch/tkemper/D1_R2R200_A23_R4_n1_R41n1R41n1R41n1__n5_x193_prod1_rdf5/   ' \n",
      "D1_R2R200_A23_R4_n1_R41n1R41n1R40n1__n5_x193_prod1_rdf1\n",
      "MAKEDIR  ssh tkemper@peregrine.hpc.nrel.gov '   mkdir -p /mss/users/tkemper/D1_R2R200_A23_R4_n1_R41n1R41n1R40n1__n5_x193_prod1_rdf5/   ' \n",
      "MAKEDIR  ssh tkemper@peregrine.hpc.nrel.gov '   mkdir -p /scratch/tkemper/D1_R2R200_A23_R4_n1_R41n1R41n1R40n1__n5_x193_prod1_rdf5/   ' \n",
      "D1_R2R200_A31_R4_n1_R40n1R40n1R42n1__n5_x173_prod1_rdf1\n",
      "MAKEDIR  ssh tkemper@peregrine.hpc.nrel.gov '   mkdir -p /mss/users/tkemper/D1_R2R200_A31_R4_n1_R40n1R40n1R42n1__n5_x173_prod1_rdf5/   ' \n",
      "MAKEDIR  ssh tkemper@peregrine.hpc.nrel.gov '   mkdir -p /scratch/tkemper/D1_R2R200_A31_R4_n1_R40n1R40n1R42n1__n5_x173_prod1_rdf5/   ' \n",
      "D1_R2R200_A31_R4_n1_R41n1R41n1R40n1__n5_x193_prod1_rdf1\n",
      "MAKEDIR  ssh tkemper@peregrine.hpc.nrel.gov '   mkdir -p /mss/users/tkemper/D1_R2R200_A31_R4_n1_R41n1R41n1R40n1__n5_x193_prod1_rdf5/   ' \n",
      "MAKEDIR  ssh tkemper@peregrine.hpc.nrel.gov '   mkdir -p /scratch/tkemper/D1_R2R200_A31_R4_n1_R41n1R41n1R40n1__n5_x193_prod1_rdf5/   ' \n"
     ]
    }
   ],
   "source": [
    "for tag,calc_ref in proj_ref.calculations.iteritems():\n",
    "    print tag\n",
    "    calc_i = make_rdfcalc(calc_ref,proj_j_tag)\n",
    "    proj_j.calculations[calc_i.tag] = copy.deepcopy(calc_i)"
   ]
  },
  {
   "cell_type": "code",
   "execution_count": 46,
   "metadata": {
    "collapsed": false
   },
   "outputs": [
    {
     "name": "stdout",
     "output_type": "stream",
     "text": [
      "D51_00R300R3_A23_R4__n1wB_R41n1wBR41n1wBR41n1wB__n5_x173_prod1_rdf5\n",
      "written\n",
      "D1_R2R200_A23_R4_n1_R41n1R41n1R41n1__n5_x193_prod1_rdf5\n",
      "written\n",
      "D1_R2R200_A2_R3_R200R200R201_n5_x197_prod1_rdf5\n",
      "written\n",
      "D1_R2R200_A23_R4_n1_R41n1R41n1R40n1__n5_x193_prod1_rdf5\n",
      "written\n",
      "D1_R2R200_A31_R4_n1_R41n1R41n1R40n1__n5_x193_prod1_rdf5\n",
      "written\n",
      "D1_R2R200_A31_R4_n1_R40n1R40n1R42n1__n5_x173_prod1_rdf5\n",
      "written\n"
     ]
    }
   ],
   "source": [
    "for tag,calc_i in proj_j.calculations.iteritems():\n",
    "    print tag\n",
    "    calc_i.meta['status']  = 'written'\n",
    "    calc_i.set_resource(peregrine)\n",
    "    calc_i.properties['scratch'] = calc_i.dir['scratch']\n",
    "\n",
    "\n",
    "\n",
    "    print calc_i.meta['status'] "
   ]
  },
  {
   "cell_type": "code",
   "execution_count": 47,
   "metadata": {
    "collapsed": false
   },
   "outputs": [
    {
     "name": "stdout",
     "output_type": "stream",
     "text": [
      "D51_00R300R3_A23_R4__n1wB_R41n1wBR41n1wBR41n1wB__n5_x173_prod1_rdf5\n",
      "D1\n",
      "THIO\n",
      "R3\n",
      "A23\n",
      "R4\n",
      "R41\n",
      "D1 A23\n",
      "D1_R2R200_A23_R4_n1_R41n1R41n1R41n1__n5_x193_prod1_rdf5\n",
      "D1\n",
      "R2\n",
      "A23\n",
      "R4\n",
      "R41\n",
      "D1 A23\n",
      "D1_R2R200_A2_R3_R200R200R201_n5_x197_prod1_rdf5\n",
      "D1\n",
      "R2\n",
      "A2\n",
      "R3\n",
      "R41\n",
      "R40\n",
      "D1 A2\n",
      "D1_R2R200_A23_R4_n1_R41n1R41n1R40n1__n5_x193_prod1_rdf5\n",
      "D1\n",
      "R2\n",
      "A23\n",
      "R4\n",
      "R41\n",
      "R40\n",
      "D1 A23\n",
      "D1_R2R200_A31_R4_n1_R41n1R41n1R40n1__n5_x193_prod1_rdf5\n",
      "D1\n",
      "R2\n",
      "A31\n",
      "R4\n",
      "R41\n",
      "R40\n",
      "D1 A31\n",
      "D1_R2R200_A31_R4_n1_R40n1R40n1R42n1__n5_x173_prod1_rdf5\n",
      "D1\n",
      "R2\n",
      "A31\n",
      "R4\n",
      "R40\n",
      "R42\n",
      "D1 A31\n"
     ]
    }
   ],
   "source": [
    "for tag,calc_i in proj_j.calculations.iteritems():\n",
    "    print tag\n",
    "    if( calc_i.meta['status'] != 'running' ):\n",
    "        os.chdir(calc_i.dir['launch'])\n",
    "\n",
    "        part_df,res_D,res_A = find_DA(calc_i)\n",
    "\n",
    "        print res_D,res_A\n",
    "\n",
    "        sel_D = part_df['resname'] == res_D\n",
    "        sel_A = part_df['resname'] == res_A\n",
    "        sel_THIO = part_df['resname'] == 'THIO'\n",
    "\n",
    "        syC = part_df['symbol'] == 'C'\n",
    "        syS = part_df['symbol'] == 'S'\n",
    "        syN = part_df['symbol'] == 'N'\n",
    "        ffO = part_df['fftype'] == 'O'    \n",
    "\n",
    "        calc_i.sel_DA = part_df[(syC | syS  |syN ) & (sel_D | sel_A )]\n",
    "        calc_i.strucC.write_xyz_list(calc_i.sel_DA.index,'sel_DA.xyz')    \n",
    "        calc_i.sel_D = part_df[(syC | syS  |syN ) & (sel_D  )]\n",
    "        calc_i.strucC.write_xyz_list(calc_i.sel_D.index,'sel_D.xyz')    \n",
    "        calc_i.sel_A = part_df[(syC | syS  |syN ) & ( sel_A )]\n",
    "        calc_i.strucC.write_xyz_list(calc_i.sel_A.index,'sel_A.xyz')    \n",
    "\n",
    "        file_DA = calc_i.strucC.write_list(calc_i.sel_DA.index,'DA')\n",
    "        file_D = calc_i.strucC.write_list(calc_i.sel_D.index,'D')\n",
    "        file_A = calc_i.strucC.write_list(calc_i.sel_A.index,'A')    \n",
    "\n"
   ]
  },
  {
   "cell_type": "code",
   "execution_count": 48,
   "metadata": {
    "collapsed": false
   },
   "outputs": [
    {
     "name": "stdout",
     "output_type": "stream",
     "text": [
      "D51_00R300R3_A23_R4__n1wB_R41n1wBR41n1wBR41n1wB__n5_x173_prod1_rdf5\n",
      "D1_R2R200_A23_R4_n1_R41n1R41n1R41n1__n5_x193_prod1_rdf5\n",
      "D1_R2R200_A2_R3_R200R200R201_n5_x197_prod1_rdf5\n",
      "D1_R2R200_A23_R4_n1_R41n1R41n1R40n1__n5_x193_prod1_rdf5\n",
      "D1_R2R200_A31_R4_n1_R41n1R41n1R40n1__n5_x193_prod1_rdf5\n",
      "D1_R2R200_A31_R4_n1_R40n1R40n1R42n1__n5_x173_prod1_rdf5\n"
     ]
    }
   ],
   "source": [
    "for tag,calc_i in proj_j.calculations.iteritems():\n",
    "        print tag\n",
    "\n",
    "        calc_i.files['input']['file_DA'] = 'DA.list'\n",
    "        calc_i.files['input']['file_D'] = 'D.list'\n",
    "        calc_i.files['input']['file_A'] = 'A.list'"
   ]
  },
  {
   "cell_type": "code",
   "execution_count": 49,
   "metadata": {
    "collapsed": false
   },
   "outputs": [
    {
     "name": "stdout",
     "output_type": "stream",
     "text": [
      "D51_00R300R3_A23_R4__n1wB_R41n1wBR41n1wBR41n1wB__n5_x173_prod1_rdf5\n",
      "D1_R2R200_A23_R4_n1_R41n1R41n1R41n1__n5_x193_prod1_rdf5\n",
      "D1_R2R200_A2_R3_R200R200R201_n5_x197_prod1_rdf5\n",
      "D1_R2R200_A23_R4_n1_R41n1R41n1R40n1__n5_x193_prod1_rdf5\n",
      "D1_R2R200_A31_R4_n1_R41n1R41n1R40n1__n5_x193_prod1_rdf5\n",
      "D1_R2R200_A31_R4_n1_R40n1R40n1R42n1__n5_x173_prod1_rdf5\n"
     ]
    }
   ],
   "source": [
    "for tag,calc_i in proj_j.calculations.iteritems():\n",
    "    print tag\n",
    "\n",
    "    calc_i.dir['templates'] = '/Users/tkemper/Development/streamm-tools/templates'\n",
    "    calc_i.dir['scripts'] = '/Users/tkemper/Development/streamm-tools/scripts'    \n",
    "\n"
   ]
  },
  {
   "cell_type": "code",
   "execution_count": 50,
   "metadata": {
    "collapsed": false
   },
   "outputs": [
    {
     "name": "stdout",
     "output_type": "stream",
     "text": [
      "D51_00R300R3_A23_R4__n1wB_R41n1wBR41n1wBR41n1wB__n5_x173_prod1_rdf5\n",
      "> in cp_file  templates run streamm_peregrine.pbs templates launch\n",
      "copying /Users/tkemper/Development/streamm-tools/templates/streamm_peregrine.pbs to /Users/tkemper/Projects/DApolymers/scratch/D51_00R300R3_A23_R4__n1wB_R41n1wBR41n1wBR41n1wB__n5_x173_prod1_rdf5/streamm_peregrine.pbs \n",
      "> in cp_file  input py_script rdf2.py scripts launch\n",
      "copying /Users/tkemper/Development/streamm-tools/scripts/rdf2.py to /Users/tkemper/Projects/DApolymers/scratch/D51_00R300R3_A23_R4__n1wB_R41n1wBR41n1wBR41n1wB__n5_x173_prod1_rdf5/rdf2.py \n",
      "D1_R2R200_A23_R4_n1_R41n1R41n1R41n1__n5_x193_prod1_rdf5\n",
      "> in cp_file  templates run streamm_peregrine.pbs templates launch\n",
      "copying /Users/tkemper/Development/streamm-tools/templates/streamm_peregrine.pbs to /Users/tkemper/Projects/DApolymers/scratch/D1_R2R200_A23_R4_n1_R41n1R41n1R41n1__n5_x193_prod1_rdf5/streamm_peregrine.pbs \n",
      "> in cp_file  input py_script rdf2.py scripts launch\n",
      "copying /Users/tkemper/Development/streamm-tools/scripts/rdf2.py to /Users/tkemper/Projects/DApolymers/scratch/D1_R2R200_A23_R4_n1_R41n1R41n1R41n1__n5_x193_prod1_rdf5/rdf2.py \n",
      "D1_R2R200_A2_R3_R200R200R201_n5_x197_prod1_rdf5\n",
      "> in cp_file  templates run streamm_peregrine.pbs templates launch\n",
      "copying /Users/tkemper/Development/streamm-tools/templates/streamm_peregrine.pbs to /Users/tkemper/Projects/DApolymers/scratch/D1_R2R200_A2_R3_R200R200R201_n5_x197_prod1_rdf5/streamm_peregrine.pbs \n",
      "> in cp_file  input py_script rdf2.py scripts launch\n",
      "copying /Users/tkemper/Development/streamm-tools/scripts/rdf2.py to /Users/tkemper/Projects/DApolymers/scratch/D1_R2R200_A2_R3_R200R200R201_n5_x197_prod1_rdf5/rdf2.py \n",
      "D1_R2R200_A23_R4_n1_R41n1R41n1R40n1__n5_x193_prod1_rdf5\n",
      "> in cp_file  templates run streamm_peregrine.pbs templates launch\n",
      "copying /Users/tkemper/Development/streamm-tools/templates/streamm_peregrine.pbs to /Users/tkemper/Projects/DApolymers/scratch/D1_R2R200_A23_R4_n1_R41n1R41n1R40n1__n5_x193_prod1_rdf5/streamm_peregrine.pbs \n",
      "> in cp_file  input py_script rdf2.py scripts launch\n",
      "copying /Users/tkemper/Development/streamm-tools/scripts/rdf2.py to /Users/tkemper/Projects/DApolymers/scratch/D1_R2R200_A23_R4_n1_R41n1R41n1R40n1__n5_x193_prod1_rdf5/rdf2.py \n",
      "D1_R2R200_A31_R4_n1_R41n1R41n1R40n1__n5_x193_prod1_rdf5\n",
      "> in cp_file  templates run streamm_peregrine.pbs templates launch\n",
      "copying /Users/tkemper/Development/streamm-tools/templates/streamm_peregrine.pbs to /Users/tkemper/Projects/DApolymers/scratch/D1_R2R200_A31_R4_n1_R41n1R41n1R40n1__n5_x193_prod1_rdf5/streamm_peregrine.pbs \n",
      "> in cp_file  input py_script rdf2.py scripts launch\n",
      "copying /Users/tkemper/Development/streamm-tools/scripts/rdf2.py to /Users/tkemper/Projects/DApolymers/scratch/D1_R2R200_A31_R4_n1_R41n1R41n1R40n1__n5_x193_prod1_rdf5/rdf2.py \n",
      "D1_R2R200_A31_R4_n1_R40n1R40n1R42n1__n5_x173_prod1_rdf5\n",
      "> in cp_file  templates run streamm_peregrine.pbs templates launch\n",
      "copying /Users/tkemper/Development/streamm-tools/templates/streamm_peregrine.pbs to /Users/tkemper/Projects/DApolymers/scratch/D1_R2R200_A31_R4_n1_R40n1R40n1R42n1__n5_x173_prod1_rdf5/streamm_peregrine.pbs \n",
      "> in cp_file  input py_script rdf2.py scripts launch\n",
      "copying /Users/tkemper/Development/streamm-tools/scripts/rdf2.py to /Users/tkemper/Projects/DApolymers/scratch/D1_R2R200_A31_R4_n1_R40n1R40n1R42n1__n5_x173_prod1_rdf5/rdf2.py \n"
     ]
    }
   ],
   "source": [
    "for tag,calc_i in proj_j.calculations.iteritems():\n",
    "    print tag\n",
    "    #if( calc_i.meta['status'] != 'running' ):\n",
    "\n",
    "    os.chdir(calc_i.dir['launch'])\n",
    "\n",
    "    file_type = 'templates'\n",
    "    file_key = 'run'\n",
    "    file_name = \"streamm_peregrine.pbs\"\n",
    "    from_dirkey = 'templates'\n",
    "    to_dirkey = 'launch'\n",
    "    calc_i.cp_file(file_type,file_key,file_name,from_dirkey,to_dirkey)\n",
    "\n",
    "    file_type = 'input'\n",
    "    file_key = 'py_script'\n",
    "    file_name = \"rdf2.py\"\n",
    "    from_dirkey = 'scripts'\n",
    "    to_dirkey = 'launch'\n",
    "    calc_i.cp_file(file_type,file_key,file_name,from_dirkey,to_dirkey)\n",
    "\n"
   ]
  },
  {
   "cell_type": "code",
   "execution_count": 51,
   "metadata": {
    "collapsed": false
   },
   "outputs": [
    {
     "name": "stdout",
     "output_type": "stream",
     "text": [
      "D51_00R300R3_A23_R4__n1wB_R41n1wBR41n1wBR41n1wB__n5_x173_prod1_rdf5 written\n",
      "D1_R2R200_A23_R4_n1_R41n1R41n1R41n1__n5_x193_prod1_rdf5 written\n",
      "D1_R2R200_A2_R3_R200R200R201_n5_x197_prod1_rdf5 written\n",
      "D1_R2R200_A23_R4_n1_R41n1R41n1R40n1__n5_x193_prod1_rdf5 written\n",
      "D1_R2R200_A31_R4_n1_R41n1R41n1R40n1__n5_x193_prod1_rdf5 written\n",
      "D1_R2R200_A31_R4_n1_R40n1R40n1R42n1__n5_x173_prod1_rdf5 written\n"
     ]
    }
   ],
   "source": [
    "for tag,calc_i in proj_j.calculations.iteritems():\n",
    "    print tag,calc_i.meta['status']\n",
    "    calc_i.properties['frame_step'] = 10\n",
    "\n"
   ]
  },
  {
   "cell_type": "code",
   "execution_count": 52,
   "metadata": {
    "collapsed": false
   },
   "outputs": [
    {
     "name": "stdout",
     "output_type": "stream",
     "text": [
      "10\n",
      "10\n",
      "10\n",
      "10\n",
      "10\n",
      "10\n"
     ]
    }
   ],
   "source": [
    "for tag,calc_i in proj_j.calculations.iteritems():\n",
    "     print calc_i.properties['frame_step']"
   ]
  },
  {
   "cell_type": "code",
   "execution_count": 53,
   "metadata": {
    "collapsed": false
   },
   "outputs": [
    {
     "name": "stdout",
     "output_type": "stream",
     "text": [
      "D51_00R300R3_A23_R4__n1wB_R41n1wBR41n1wBR41n1wB__n5_x173_prod1_rdf5\n",
      "python rdf2.py  D_D_fs10 --cply D51_00R300R3_A23_R4__n1wB_R41n1wBR41n1wBR41n1wB__n5_x173.cply --list_i D.list  --list_j D.list  --dcd prod1_dump.dcd --mol_inter --frame_step 10\n",
      " \n",
      "python rdf2.py  D_A_fs10 --cply D51_00R300R3_A23_R4__n1wB_R41n1wBR41n1wBR41n1wB__n5_x173.cply --list_i D.list  --list_j A.list  --dcd prod1_dump.dcd --mol_inter --frame_step 10\n",
      " \n",
      "python rdf2.py  A_A_fs10 --cply D51_00R300R3_A23_R4__n1wB_R41n1wBR41n1wBR41n1wB__n5_x173.cply --list_i A.list  --list_j A.list  --dcd prod1_dump.dcd --mol_inter --frame_step 10\n",
      "D1_R2R200_A23_R4_n1_R41n1R41n1R41n1__n5_x193_prod1_rdf5\n",
      "python rdf2.py  D_D_fs10 --cply D1_R2R200_A23_R4_n1_R41n1R41n1R41n1__n5_x193.cply --list_i D.list  --list_j D.list  --dcd prod1_dump.dcd --mol_inter --frame_step 10\n",
      " \n",
      "python rdf2.py  D_A_fs10 --cply D1_R2R200_A23_R4_n1_R41n1R41n1R41n1__n5_x193.cply --list_i D.list  --list_j A.list  --dcd prod1_dump.dcd --mol_inter --frame_step 10\n",
      " \n",
      "python rdf2.py  A_A_fs10 --cply D1_R2R200_A23_R4_n1_R41n1R41n1R41n1__n5_x193.cply --list_i A.list  --list_j A.list  --dcd prod1_dump.dcd --mol_inter --frame_step 10\n",
      "D1_R2R200_A2_R3_R200R200R201_n5_x197_prod1_rdf5\n",
      "python rdf2.py  D_D_fs10 --cply D1_R2R200_A2_R3_R200R200R201_n5_x197.cply --list_i D.list  --list_j D.list  --dcd prod1_dump.dcd --mol_inter --frame_step 10\n",
      " \n",
      "python rdf2.py  D_A_fs10 --cply D1_R2R200_A2_R3_R200R200R201_n5_x197.cply --list_i D.list  --list_j A.list  --dcd prod1_dump.dcd --mol_inter --frame_step 10\n",
      " \n",
      "python rdf2.py  A_A_fs10 --cply D1_R2R200_A2_R3_R200R200R201_n5_x197.cply --list_i A.list  --list_j A.list  --dcd prod1_dump.dcd --mol_inter --frame_step 10\n",
      "D1_R2R200_A23_R4_n1_R41n1R41n1R40n1__n5_x193_prod1_rdf5\n",
      "python rdf2.py  D_D_fs10 --cply D1_R2R200_A23_R4_n1_R41n1R41n1R40n1__n5_x193.cply --list_i D.list  --list_j D.list  --dcd prod1_dump.dcd --mol_inter --frame_step 10\n",
      " \n",
      "python rdf2.py  D_A_fs10 --cply D1_R2R200_A23_R4_n1_R41n1R41n1R40n1__n5_x193.cply --list_i D.list  --list_j A.list  --dcd prod1_dump.dcd --mol_inter --frame_step 10\n",
      " \n",
      "python rdf2.py  A_A_fs10 --cply D1_R2R200_A23_R4_n1_R41n1R41n1R40n1__n5_x193.cply --list_i A.list  --list_j A.list  --dcd prod1_dump.dcd --mol_inter --frame_step 10\n",
      "D1_R2R200_A31_R4_n1_R41n1R41n1R40n1__n5_x193_prod1_rdf5\n",
      "python rdf2.py  D_D_fs10 --cply D1_R2R200_A31_R4_n1_R41n1R41n1R40n1__n5_x193.cply --list_i D.list  --list_j D.list  --dcd prod1_dump.dcd --mol_inter --frame_step 10\n",
      " \n",
      "python rdf2.py  D_A_fs10 --cply D1_R2R200_A31_R4_n1_R41n1R41n1R40n1__n5_x193.cply --list_i D.list  --list_j A.list  --dcd prod1_dump.dcd --mol_inter --frame_step 10\n",
      " \n",
      "python rdf2.py  A_A_fs10 --cply D1_R2R200_A31_R4_n1_R41n1R41n1R40n1__n5_x193.cply --list_i A.list  --list_j A.list  --dcd prod1_dump.dcd --mol_inter --frame_step 10\n",
      "D1_R2R200_A31_R4_n1_R40n1R40n1R42n1__n5_x173_prod1_rdf5\n",
      "python rdf2.py  D_D_fs10 --cply D1_R2R200_A31_R4_n1_R40n1R40n1R42n1__n5_x173.cply --list_i D.list  --list_j D.list  --dcd prod1_dump.dcd --mol_inter --frame_step 10\n",
      " \n",
      "python rdf2.py  D_A_fs10 --cply D1_R2R200_A31_R4_n1_R40n1R40n1R42n1__n5_x173.cply --list_i D.list  --list_j A.list  --dcd prod1_dump.dcd --mol_inter --frame_step 10\n",
      " \n",
      "python rdf2.py  A_A_fs10 --cply D1_R2R200_A31_R4_n1_R40n1R40n1R42n1__n5_x173.cply --list_i A.list  --list_j A.list  --dcd prod1_dump.dcd --mol_inter --frame_step 10\n"
     ]
    }
   ],
   "source": [
    "for tag,calc_i in proj_j.calculations.iteritems():\n",
    "        print tag\n",
    "        # if( calc_i.meta['status'] != 'running' ):\n",
    "\n",
    "\n",
    "        os.chdir(calc_i.dir['launch'])\n",
    "\n",
    "        calc_i.properties['streamm_command'] = ' \\n'\n",
    "\n",
    "        run_tag = \"D_D_fs%d\"%(calc_i.properties['frame_step'])\n",
    "        calc_i.properties['streamm_command'] = 'python %s  %s --cply %s'%(calc_i.files['input']['py_script'],run_tag,calc_i.files['input']['cply'])\n",
    "        calc_i.properties['streamm_command'] += ' --list_i %s '%(calc_i.files['input']['file_D'])\n",
    "        calc_i.properties['streamm_command'] += ' --list_j %s '%(calc_i.files['input']['file_D'])\n",
    "        calc_i.properties['streamm_command'] += ' --dcd prod1_dump.dcd'\n",
    "        calc_i.properties['streamm_command'] += ' --mol_inter'\n",
    "        calc_i.properties['streamm_command'] += ' --frame_step %d'%(calc_i.properties['frame_step'])\n",
    "\n",
    "        calc_i.files['output'][\"%s_log\"%(run_tag)] = \"%s.log\"%(run_tag)\n",
    "        calc_i.files['output'][\"%s_data\"%(run_tag)] = \"%s.dat\"%(run_tag)\n",
    "\n",
    "        print calc_i.properties['streamm_command']    \n",
    "\n",
    "\n",
    "        calc_i.load_str('templates','run')\n",
    "        calc_i.replacewrite_prop('run','scripts','run_%s'%(run_tag),'%s.pbs'%(run_tag))\n",
    "\n",
    "\n",
    "        calc_i.properties['finish_str'] ='Finished'\n",
    "\n",
    "\n",
    "\n",
    "        calc_i.properties['streamm_command'] = ' \\n'\n",
    "        run_tag = \"D_A_fs%d\"%(calc_i.properties['frame_step'])\n",
    "        calc_i.properties['streamm_command'] += 'python %s  %s --cply %s'%(calc_i.files['input']['py_script'],run_tag,calc_i.files['input']['cply'])\n",
    "        calc_i.properties['streamm_command'] += ' --list_i %s '%(calc_i.files['input']['file_D'])\n",
    "        calc_i.properties['streamm_command'] += ' --list_j %s '%(calc_i.files['input']['file_A'])\n",
    "        calc_i.properties['streamm_command'] += ' --dcd prod1_dump.dcd'\n",
    "        calc_i.properties['streamm_command'] += ' --mol_inter'\n",
    "        calc_i.properties['streamm_command'] += ' --frame_step %d'%(calc_i.properties['frame_step'])\n",
    "        calc_i.files['output'][\"%s_log\"%(run_tag)] = \"%s.log\"%(run_tag)\n",
    "        calc_i.files['output'][\"%s_data\"%(run_tag)] = \"%s.dat\"%(run_tag)\n",
    "\n",
    "\n",
    "        print calc_i.properties['streamm_command']    \n",
    "\n",
    "\n",
    "        calc_i.load_str('templates','run')\n",
    "        calc_i.replacewrite_prop('run','scripts','run_%s'%(run_tag),'%s.pbs'%(run_tag))\n",
    "\n",
    "\n",
    "        calc_i.properties['finish_str'] ='Finished'\n",
    "\n",
    "\n",
    "        calc_i.properties['streamm_command'] = ' \\n'\n",
    "        run_tag = \"A_A_fs%d\"%(calc_i.properties['frame_step'])\n",
    "        calc_i.properties['streamm_command'] += 'python %s  %s --cply %s'%(calc_i.files['input']['py_script'],run_tag,calc_i.files['input']['cply'])\n",
    "        calc_i.properties['streamm_command'] += ' --list_i %s '%(calc_i.files['input']['file_A'])\n",
    "        calc_i.properties['streamm_command'] += ' --list_j %s '%(calc_i.files['input']['file_A'])\n",
    "        calc_i.properties['streamm_command'] += ' --dcd prod1_dump.dcd'\n",
    "        calc_i.properties['streamm_command'] += ' --mol_inter'\n",
    "        calc_i.properties['streamm_command'] += ' --frame_step %d'%(calc_i.properties['frame_step'])\n",
    "        \n",
    "        calc_i.files['output'][\"%s_log\"%(run_tag)] = \"%s.log\"%(run_tag)\n",
    "        calc_i.files['output'][\"%s_data\"%(run_tag)] = \"%s.dat\"%(run_tag)\n",
    "\n",
    "\n",
    "        print calc_i.properties['streamm_command']    \n",
    "\n",
    "\n",
    "        calc_i.load_str('templates','run')\n",
    "        calc_i.replacewrite_prop('run','scripts','run_%s'%(run_tag),'%s.pbs'%(run_tag))\n",
    "\n",
    "\n",
    "        calc_i.properties['finish_str'] ='Finished'\n",
    "\n",
    "        \n",
    "        #return prod1_et"
   ]
  },
  {
   "cell_type": "code",
   "execution_count": 54,
   "metadata": {
    "collapsed": true
   },
   "outputs": [],
   "source": [
    "for tag,calc_i in proj_j.calculations.iteritems():\n",
    "    run_tag = \"A_A_fs%d\"%(calc_i.properties['frame_step'])\n",
    "    calc_i.files['output'][\"log\"] = \"%s.log\"%(run_tag)\n",
    "\n",
    "\n"
   ]
  },
  {
   "cell_type": "code",
   "execution_count": null,
   "metadata": {
    "collapsed": false
   },
   "outputs": [],
   "source": [
    "for tag,calc_i in proj_j.calculations.iteritems():\n",
    "    try:\n",
    "        del calc_i.files['scripts']['py_script']\n",
    "    except:\n",
    "        print \"meh\""
   ]
  },
  {
   "cell_type": "code",
   "execution_count": 55,
   "metadata": {
    "collapsed": false
   },
   "outputs": [
    {
     "name": "stdout",
     "output_type": "stream",
     "text": [
      "{'run_A_A_fs10': 'A_A_fs10.pbs', 'run_D_A_fs10': 'D_A_fs10.pbs', 'run_D_D_fs10': 'D_D_fs10.pbs'}\n",
      "{'run_A_A_fs10': 'A_A_fs10.pbs', 'run_D_A_fs10': 'D_A_fs10.pbs', 'run_D_D_fs10': 'D_D_fs10.pbs'}\n",
      "{'run_A_A_fs10': 'A_A_fs10.pbs', 'run_D_A_fs10': 'D_A_fs10.pbs', 'run_D_D_fs10': 'D_D_fs10.pbs'}\n",
      "{'run_A_A_fs10': 'A_A_fs10.pbs', 'run_D_A_fs10': 'D_A_fs10.pbs', 'run_D_D_fs10': 'D_D_fs10.pbs'}\n",
      "{'run_A_A_fs10': 'A_A_fs10.pbs', 'run_D_A_fs10': 'D_A_fs10.pbs', 'run_D_D_fs10': 'D_D_fs10.pbs'}\n",
      "{'run_A_A_fs10': 'A_A_fs10.pbs', 'run_D_A_fs10': 'D_A_fs10.pbs', 'run_D_D_fs10': 'D_D_fs10.pbs'}\n"
     ]
    }
   ],
   "source": [
    "for tag,calc_i in proj_j.calculations.iteritems():\n",
    "    print calc_i.files['scripts']"
   ]
  },
  {
   "cell_type": "code",
   "execution_count": 58,
   "metadata": {
    "collapsed": false
   },
   "outputs": [],
   "source": [
    "os.chdir('/Users/tkemper/Projects/DApolymers/notebooks')"
   ]
  },
  {
   "cell_type": "code",
   "execution_count": 59,
   "metadata": {
    "collapsed": false
   },
   "outputs": [
    {
     "name": "stdout",
     "output_type": "stream",
     "text": [
      "Resource tag found peregrine \n",
      "Reading in resource json file res_peregrine.json \n",
      "Resource tag found peregrine \n",
      "Reading in resource json file res_peregrine.json \n",
      "Resource tag found peregrine \n",
      "Reading in resource json file res_peregrine.json \n",
      "Resource tag found peregrine \n",
      "Reading in resource json file res_peregrine.json \n",
      "Resource tag found peregrine \n",
      "Reading in resource json file res_peregrine.json \n",
      "Resource tag found peregrine \n",
      "Reading in resource json file res_peregrine.json \n"
     ]
    }
   ],
   "source": [
    "proj_prod1_id = 'prod1'\n",
    "proj_prod1 = project.Project('DAPpolymers_%s'%(proj_prod1_id))\n",
    "proj_prod1.load_json()"
   ]
  },
  {
   "cell_type": "code",
   "execution_count": 60,
   "metadata": {
    "collapsed": false
   },
   "outputs": [
    {
     "name": "stdout",
     "output_type": "stream",
     "text": [
      "D1_R2R200_A23_R4_n1_R41n1R41n1R40n1__n5_x193_prod1\n",
      "D1_R2R200_A31_R4_n1_R40n1R40n1R42n1__n5_x173_prod1\n",
      "D1_R2R200_A31_R4_n1_R41n1R41n1R40n1__n5_x193_prod1\n",
      "D51_00R300R3_A23_R4__n1wB_R41n1wBR41n1wBR41n1wB__n5_x173_prod1\n",
      "D1_R2R200_A23_R4_n1_R41n1R41n1R41n1__n5_x193_prod1\n",
      "D1_R2R200_A2_R3_R200R200R201_n5_x197_prod1\n"
     ]
    }
   ],
   "source": [
    "for tag,calc_prod1 in proj_prod1.calculations.iteritems():\n",
    "    print calc_prod1.tag #,calc_prod1.properties['name']"
   ]
  },
  {
   "cell_type": "code",
   "execution_count": 61,
   "metadata": {
    "collapsed": false
   },
   "outputs": [
    {
     "name": "stdout",
     "output_type": "stream",
     "text": [
      "D51_00R300R3_A23_R4__n1wB_R41n1wBR41n1wBR41n1wB__n5_x173_prod1_rdf4\n",
      "D1_R2R200_A23_R4_n1_R41n1R41n1R41n1__n5_x193_prod1_rdf4\n",
      "D1_R2R200_A2_R3_R200R200R201_n5_x197_prod1_rdf4\n",
      "D1_R2R200_A23_R4_n1_R41n1R41n1R40n1__n5_x193_prod1_rdf4\n",
      "D1_R2R200_A31_R4_n1_R41n1R41n1R40n1__n5_x193_prod1_rdf4\n",
      "D1_R2R200_A31_R4_n1_R40n1R40n1R42n1__n5_x173_prod1_rdf4\n"
     ]
    }
   ],
   "source": [
    "for tag,calc_i in proj_i.calculations.iteritems():\n",
    "\n",
    "    print calc_i.tag"
   ]
  },
  {
   "cell_type": "code",
   "execution_count": 62,
   "metadata": {
    "collapsed": false
   },
   "outputs": [],
   "source": [
    "calc_i = proj_j.calculations['D1_R2R200_A2_R3_R200R200R201_n5_x197_prod1_rdf5']\n",
    "calc_i.add_refcalc(proj_prod1.calculations['D1_R2R200_A2_R3_R200R200R201_n5_x197_prod1'])\n",
    "calc_i = proj_j.calculations['D1_R2R200_A23_R4_n1_R41n1R41n1R41n1__n5_x193_prod1_rdf5']\n",
    "calc_i.add_refcalc(proj_prod1.calculations['D1_R2R200_A23_R4_n1_R41n1R41n1R41n1__n5_x193_prod1'])\n",
    "calc_i = proj_j.calculations['D1_R2R200_A23_R4_n1_R41n1R41n1R40n1__n5_x193_prod1_rdf5']\n",
    "calc_i.add_refcalc(proj_prod1.calculations['D1_R2R200_A23_R4_n1_R41n1R41n1R40n1__n5_x193_prod1'])\n",
    "calc_i = proj_j.calculations['D1_R2R200_A31_R4_n1_R40n1R40n1R42n1__n5_x173_prod1_rdf5']\n",
    "calc_i.add_refcalc(proj_prod1.calculations['D1_R2R200_A31_R4_n1_R40n1R40n1R42n1__n5_x173_prod1'])\n",
    "calc_i = proj_j.calculations['D1_R2R200_A31_R4_n1_R41n1R41n1R40n1__n5_x193_prod1_rdf5']\n",
    "calc_i.add_refcalc(proj_prod1.calculations['D1_R2R200_A31_R4_n1_R41n1R41n1R40n1__n5_x193_prod1'])\n",
    "calc_i = proj_j.calculations['D51_00R300R3_A23_R4__n1wB_R41n1wBR41n1wBR41n1wB__n5_x173_prod1_rdf5']\n",
    "calc_i.add_refcalc(proj_prod1.calculations['D51_00R300R3_A23_R4__n1wB_R41n1wBR41n1wBR41n1wB__n5_x173_prod1'])"
   ]
  },
  {
   "cell_type": "code",
   "execution_count": 63,
   "metadata": {
    "collapsed": false
   },
   "outputs": [
    {
     "name": "stdout",
     "output_type": "stream",
     "text": [
      "D1_R2R200_A2_R3_R200R200R201_n5_x197_prod1_rdf1 written BDT-TPD\n",
      "D51_00R300R3_A23_R4__n1wB_R41n1wBR41n1wBR41n1wB__n5_x173_prod1_rdf1 written PCE10\n",
      "D1_R2R200_A23_R4_n1_R41n1R41n1R41n1__n5_x193_prod1_rdf1 written PTB7\n",
      "D1_R2R200_A23_R4_n1_R41n1R41n1R40n1__n5_x193_prod1_rdf1 written PTB4\n",
      "D1_R2R200_A31_R4_n1_R40n1R40n1R42n1__n5_x173_prod1_rdf1 written PTB1\n",
      "D1_R2R200_A31_R4_n1_R41n1R41n1R40n1__n5_x193_prod1_rdf1 written PTB5\n"
     ]
    }
   ],
   "source": [
    "for tag_i,calc_ref in proj_ref.calculations.iteritems():\n",
    "    print tag_i,calc_ref.meta['status'],calc_ref.properties['name']"
   ]
  },
  {
   "cell_type": "code",
   "execution_count": 156,
   "metadata": {
    "collapsed": false
   },
   "outputs": [
    {
     "name": "stdout",
     "output_type": "stream",
     "text": [
      "D51_00R300R3_A23_R4__n1wB_R41n1wBR41n1wBR41n1wB__n5_x173_prod1_rdf5\n",
      " Resource type ssh \n",
      "runnning push function in /Users/tkemper/Projects/DApolymers/scratch/D51_00R300R3_A23_R4__n1wB_R41n1wBR41n1wBR41n1wB__n5_x173_prod1_rdf5 \n",
      "Compressing and copying input files to scratch directory \n",
      "Adding D51_00R300R3_A23_R4__n1wB_R41n1wBR41n1wBR41n1wB__n5_x173.cply \n",
      "Adding D.list \n",
      "Adding DA.list \n",
      "Adding A.list \n",
      "Adding rdf2.py \n",
      "> compressed_file  D51_00R300R3_A23_R4__n1wB_R41n1wBR41n1wBR41n1wB__n5_x173_prod1_rdf5_input.tgz\n",
      "COPY  scp /Users/tkemper/Projects/DApolymers/scratch/D51_00R300R3_A23_R4__n1wB_R41n1wBR41n1wBR41n1wB__n5_x173_prod1_rdf5/D51_00R300R3_A23_R4__n1wB_R41n1wBR41n1wBR41n1wB__n5_x173_prod1_rdf5_input.tgz tkemper@peregrine.hpc.nrel.gov:/scratch/tkemper/D51_00R300R3_A23_R4__n1wB_R41n1wBR41n1wBR41n1wB__n5_x173_prod1_rdf5/\n",
      "Compressing and copying templates files to scratch directory \n",
      "Adding streamm_peregrine.pbs \n",
      "> compressed_file  D51_00R300R3_A23_R4__n1wB_R41n1wBR41n1wBR41n1wB__n5_x173_prod1_rdf5_templates.tgz\n",
      "COPY  scp /Users/tkemper/Projects/DApolymers/scratch/D51_00R300R3_A23_R4__n1wB_R41n1wBR41n1wBR41n1wB__n5_x173_prod1_rdf5/D51_00R300R3_A23_R4__n1wB_R41n1wBR41n1wBR41n1wB__n5_x173_prod1_rdf5_templates.tgz tkemper@peregrine.hpc.nrel.gov:/scratch/tkemper/D51_00R300R3_A23_R4__n1wB_R41n1wBR41n1wBR41n1wB__n5_x173_prod1_rdf5/\n",
      "Compressing and copying scripts files to scratch directory \n",
      "Adding A_A_fs10.pbs \n",
      "Adding D_A_fs10.pbs \n",
      "Adding D_D_fs10.pbs \n",
      "> compressed_file  D51_00R300R3_A23_R4__n1wB_R41n1wBR41n1wBR41n1wB__n5_x173_prod1_rdf5_scripts.tgz\n",
      "COPY  scp /Users/tkemper/Projects/DApolymers/scratch/D51_00R300R3_A23_R4__n1wB_R41n1wBR41n1wBR41n1wB__n5_x173_prod1_rdf5/D51_00R300R3_A23_R4__n1wB_R41n1wBR41n1wBR41n1wB__n5_x173_prod1_rdf5_scripts.tgz tkemper@peregrine.hpc.nrel.gov:/scratch/tkemper/D51_00R300R3_A23_R4__n1wB_R41n1wBR41n1wBR41n1wB__n5_x173_prod1_rdf5/\n",
      "Copying output of reference calculations D51_00R300R3_A23_R4__n1wB_R41n1wBR41n1wBR41n1wB__n5_x173_prod1\n",
      "D1_R2R200_A23_R4_n1_R41n1R41n1R41n1__n5_x193_prod1_rdf5\n",
      " Resource type ssh \n",
      "runnning push function in /Users/tkemper/Projects/DApolymers/scratch/D1_R2R200_A23_R4_n1_R41n1R41n1R41n1__n5_x193_prod1_rdf5 \n",
      "Compressing and copying input files to scratch directory \n",
      "Adding D1_R2R200_A23_R4_n1_R41n1R41n1R41n1__n5_x193.cply \n",
      "Adding D.list \n",
      "Adding DA.list \n",
      "Adding A.list \n",
      "Adding rdf2.py \n",
      "> compressed_file  D1_R2R200_A23_R4_n1_R41n1R41n1R41n1__n5_x193_prod1_rdf5_input.tgz\n",
      "COPY  scp /Users/tkemper/Projects/DApolymers/scratch/D1_R2R200_A23_R4_n1_R41n1R41n1R41n1__n5_x193_prod1_rdf5/D1_R2R200_A23_R4_n1_R41n1R41n1R41n1__n5_x193_prod1_rdf5_input.tgz tkemper@peregrine.hpc.nrel.gov:/scratch/tkemper/D1_R2R200_A23_R4_n1_R41n1R41n1R41n1__n5_x193_prod1_rdf5/\n",
      "Compressing and copying templates files to scratch directory \n",
      "Adding streamm_peregrine.pbs \n",
      "> compressed_file  D1_R2R200_A23_R4_n1_R41n1R41n1R41n1__n5_x193_prod1_rdf5_templates.tgz\n",
      "COPY  scp /Users/tkemper/Projects/DApolymers/scratch/D1_R2R200_A23_R4_n1_R41n1R41n1R41n1__n5_x193_prod1_rdf5/D1_R2R200_A23_R4_n1_R41n1R41n1R41n1__n5_x193_prod1_rdf5_templates.tgz tkemper@peregrine.hpc.nrel.gov:/scratch/tkemper/D1_R2R200_A23_R4_n1_R41n1R41n1R41n1__n5_x193_prod1_rdf5/\n",
      "Compressing and copying scripts files to scratch directory \n",
      "Adding A_A_fs10.pbs \n",
      "Adding D_A_fs10.pbs \n",
      "Adding D_D_fs10.pbs \n",
      "> compressed_file  D1_R2R200_A23_R4_n1_R41n1R41n1R41n1__n5_x193_prod1_rdf5_scripts.tgz\n",
      "COPY  scp /Users/tkemper/Projects/DApolymers/scratch/D1_R2R200_A23_R4_n1_R41n1R41n1R41n1__n5_x193_prod1_rdf5/D1_R2R200_A23_R4_n1_R41n1R41n1R41n1__n5_x193_prod1_rdf5_scripts.tgz tkemper@peregrine.hpc.nrel.gov:/scratch/tkemper/D1_R2R200_A23_R4_n1_R41n1R41n1R41n1__n5_x193_prod1_rdf5/\n",
      "Copying output of reference calculations D1_R2R200_A23_R4_n1_R41n1R41n1R41n1__n5_x193_prod1\n",
      "D1_R2R200_A2_R3_R200R200R201_n5_x197_prod1_rdf5\n",
      " Resource type ssh \n",
      "runnning push function in /Users/tkemper/Projects/DApolymers/scratch/D1_R2R200_A2_R3_R200R200R201_n5_x197_prod1_rdf5 \n",
      "Compressing and copying input files to scratch directory \n",
      "Adding AffS.list \n",
      "Adding AffNS.list \n",
      "Adding D1_R2R200_A2_R3_R200R200R201_n5_x197.cply \n",
      "Adding AffO.list \n",
      "Adding rdf2.py \n",
      "Adding D.list \n",
      "Adding DA.list \n",
      "Adding A.list \n",
      "> compressed_file  D1_R2R200_A2_R3_R200R200R201_n5_x197_prod1_rdf5_input.tgz\n",
      "COPY  scp /Users/tkemper/Projects/DApolymers/scratch/D1_R2R200_A2_R3_R200R200R201_n5_x197_prod1_rdf5/D1_R2R200_A2_R3_R200R200R201_n5_x197_prod1_rdf5_input.tgz tkemper@peregrine.hpc.nrel.gov:/scratch/tkemper/D1_R2R200_A2_R3_R200R200R201_n5_x197_prod1_rdf5/\n",
      "Compressing and copying templates files to scratch directory \n",
      "Adding streamm_peregrine.pbs \n",
      "> compressed_file  D1_R2R200_A2_R3_R200R200R201_n5_x197_prod1_rdf5_templates.tgz\n",
      "COPY  scp /Users/tkemper/Projects/DApolymers/scratch/D1_R2R200_A2_R3_R200R200R201_n5_x197_prod1_rdf5/D1_R2R200_A2_R3_R200R200R201_n5_x197_prod1_rdf5_templates.tgz tkemper@peregrine.hpc.nrel.gov:/scratch/tkemper/D1_R2R200_A2_R3_R200R200R201_n5_x197_prod1_rdf5/\n",
      "Compressing and copying scripts files to scratch directory \n",
      "Adding AffNS_AffS_fs10.pbs \n",
      "Adding AffS_AffS_fs10.pbs \n",
      "Adding AffO_AffO_fs10.pbs \n",
      "Adding D_A_fs10.pbs \n",
      "Adding AffNS_AffNS_fs10.pbs \n",
      "Adding D_D_fs10.pbs \n",
      "Adding A_A_fs10.pbs \n",
      "> compressed_file  D1_R2R200_A2_R3_R200R200R201_n5_x197_prod1_rdf5_scripts.tgz\n",
      "COPY  scp /Users/tkemper/Projects/DApolymers/scratch/D1_R2R200_A2_R3_R200R200R201_n5_x197_prod1_rdf5/D1_R2R200_A2_R3_R200R200R201_n5_x197_prod1_rdf5_scripts.tgz tkemper@peregrine.hpc.nrel.gov:/scratch/tkemper/D1_R2R200_A2_R3_R200R200R201_n5_x197_prod1_rdf5/\n",
      "Copying output of reference calculations D1_R2R200_A2_R3_R200R200R201_n5_x197_prod1\n",
      "D1_R2R200_A23_R4_n1_R41n1R41n1R40n1__n5_x193_prod1_rdf5\n",
      " Resource type ssh \n",
      "runnning push function in /Users/tkemper/Projects/DApolymers/scratch/D1_R2R200_A23_R4_n1_R41n1R41n1R40n1__n5_x193_prod1_rdf5 \n",
      "Compressing and copying input files to scratch directory \n",
      "Adding D1_R2R200_A23_R4_n1_R41n1R41n1R40n1__n5_x193.cply \n",
      "Adding D.list \n",
      "Adding DA.list \n",
      "Adding A.list \n",
      "Adding rdf2.py \n",
      "> compressed_file  D1_R2R200_A23_R4_n1_R41n1R41n1R40n1__n5_x193_prod1_rdf5_input.tgz\n",
      "COPY  scp /Users/tkemper/Projects/DApolymers/scratch/D1_R2R200_A23_R4_n1_R41n1R41n1R40n1__n5_x193_prod1_rdf5/D1_R2R200_A23_R4_n1_R41n1R41n1R40n1__n5_x193_prod1_rdf5_input.tgz tkemper@peregrine.hpc.nrel.gov:/scratch/tkemper/D1_R2R200_A23_R4_n1_R41n1R41n1R40n1__n5_x193_prod1_rdf5/\n",
      "Compressing and copying templates files to scratch directory \n",
      "Adding streamm_peregrine.pbs \n",
      "> compressed_file  D1_R2R200_A23_R4_n1_R41n1R41n1R40n1__n5_x193_prod1_rdf5_templates.tgz\n",
      "COPY  scp /Users/tkemper/Projects/DApolymers/scratch/D1_R2R200_A23_R4_n1_R41n1R41n1R40n1__n5_x193_prod1_rdf5/D1_R2R200_A23_R4_n1_R41n1R41n1R40n1__n5_x193_prod1_rdf5_templates.tgz tkemper@peregrine.hpc.nrel.gov:/scratch/tkemper/D1_R2R200_A23_R4_n1_R41n1R41n1R40n1__n5_x193_prod1_rdf5/\n",
      "Compressing and copying scripts files to scratch directory \n",
      "Adding A_A_fs10.pbs \n",
      "Adding D_A_fs10.pbs \n",
      "Adding D_D_fs10.pbs \n",
      "> compressed_file  D1_R2R200_A23_R4_n1_R41n1R41n1R40n1__n5_x193_prod1_rdf5_scripts.tgz\n",
      "COPY  scp /Users/tkemper/Projects/DApolymers/scratch/D1_R2R200_A23_R4_n1_R41n1R41n1R40n1__n5_x193_prod1_rdf5/D1_R2R200_A23_R4_n1_R41n1R41n1R40n1__n5_x193_prod1_rdf5_scripts.tgz tkemper@peregrine.hpc.nrel.gov:/scratch/tkemper/D1_R2R200_A23_R4_n1_R41n1R41n1R40n1__n5_x193_prod1_rdf5/\n",
      "Copying output of reference calculations D1_R2R200_A23_R4_n1_R41n1R41n1R40n1__n5_x193_prod1\n",
      "D1_R2R200_A31_R4_n1_R41n1R41n1R40n1__n5_x193_prod1_rdf5\n",
      " Resource type ssh \n",
      "runnning push function in /Users/tkemper/Projects/DApolymers/scratch/D1_R2R200_A31_R4_n1_R41n1R41n1R40n1__n5_x193_prod1_rdf5 \n",
      "Compressing and copying input files to scratch directory \n",
      "Adding D1_R2R200_A31_R4_n1_R41n1R41n1R40n1__n5_x193.cply \n",
      "Adding D.list \n",
      "Adding DA.list \n",
      "Adding A.list \n",
      "Adding rdf2.py \n",
      "> compressed_file  D1_R2R200_A31_R4_n1_R41n1R41n1R40n1__n5_x193_prod1_rdf5_input.tgz\n",
      "COPY  scp /Users/tkemper/Projects/DApolymers/scratch/D1_R2R200_A31_R4_n1_R41n1R41n1R40n1__n5_x193_prod1_rdf5/D1_R2R200_A31_R4_n1_R41n1R41n1R40n1__n5_x193_prod1_rdf5_input.tgz tkemper@peregrine.hpc.nrel.gov:/scratch/tkemper/D1_R2R200_A31_R4_n1_R41n1R41n1R40n1__n5_x193_prod1_rdf5/\n",
      "Compressing and copying templates files to scratch directory \n",
      "Adding streamm_peregrine.pbs \n",
      "> compressed_file  D1_R2R200_A31_R4_n1_R41n1R41n1R40n1__n5_x193_prod1_rdf5_templates.tgz\n",
      "COPY  scp /Users/tkemper/Projects/DApolymers/scratch/D1_R2R200_A31_R4_n1_R41n1R41n1R40n1__n5_x193_prod1_rdf5/D1_R2R200_A31_R4_n1_R41n1R41n1R40n1__n5_x193_prod1_rdf5_templates.tgz tkemper@peregrine.hpc.nrel.gov:/scratch/tkemper/D1_R2R200_A31_R4_n1_R41n1R41n1R40n1__n5_x193_prod1_rdf5/\n",
      "Compressing and copying scripts files to scratch directory \n",
      "Adding A_A_fs10.pbs \n",
      "Adding D_A_fs10.pbs \n",
      "Adding D_D_fs10.pbs \n",
      "> compressed_file  D1_R2R200_A31_R4_n1_R41n1R41n1R40n1__n5_x193_prod1_rdf5_scripts.tgz\n",
      "COPY  scp /Users/tkemper/Projects/DApolymers/scratch/D1_R2R200_A31_R4_n1_R41n1R41n1R40n1__n5_x193_prod1_rdf5/D1_R2R200_A31_R4_n1_R41n1R41n1R40n1__n5_x193_prod1_rdf5_scripts.tgz tkemper@peregrine.hpc.nrel.gov:/scratch/tkemper/D1_R2R200_A31_R4_n1_R41n1R41n1R40n1__n5_x193_prod1_rdf5/\n",
      "Copying output of reference calculations D1_R2R200_A31_R4_n1_R41n1R41n1R40n1__n5_x193_prod1\n",
      "D1_R2R200_A31_R4_n1_R40n1R40n1R42n1__n5_x173_prod1_rdf5\n",
      " Resource type ssh \n",
      "runnning push function in /Users/tkemper/Projects/DApolymers/scratch/D1_R2R200_A31_R4_n1_R40n1R40n1R42n1__n5_x173_prod1_rdf5 \n",
      "Compressing and copying input files to scratch directory \n",
      "Adding D1_R2R200_A31_R4_n1_R40n1R40n1R42n1__n5_x173.cply \n",
      "Adding D.list \n",
      "Adding DA.list \n",
      "Adding A.list \n",
      "Adding rdf2.py \n",
      "> compressed_file  D1_R2R200_A31_R4_n1_R40n1R40n1R42n1__n5_x173_prod1_rdf5_input.tgz\n",
      "COPY  scp /Users/tkemper/Projects/DApolymers/scratch/D1_R2R200_A31_R4_n1_R40n1R40n1R42n1__n5_x173_prod1_rdf5/D1_R2R200_A31_R4_n1_R40n1R40n1R42n1__n5_x173_prod1_rdf5_input.tgz tkemper@peregrine.hpc.nrel.gov:/scratch/tkemper/D1_R2R200_A31_R4_n1_R40n1R40n1R42n1__n5_x173_prod1_rdf5/\n",
      "Compressing and copying templates files to scratch directory \n",
      "Adding streamm_peregrine.pbs \n",
      "> compressed_file  D1_R2R200_A31_R4_n1_R40n1R40n1R42n1__n5_x173_prod1_rdf5_templates.tgz\n",
      "COPY  scp /Users/tkemper/Projects/DApolymers/scratch/D1_R2R200_A31_R4_n1_R40n1R40n1R42n1__n5_x173_prod1_rdf5/D1_R2R200_A31_R4_n1_R40n1R40n1R42n1__n5_x173_prod1_rdf5_templates.tgz tkemper@peregrine.hpc.nrel.gov:/scratch/tkemper/D1_R2R200_A31_R4_n1_R40n1R40n1R42n1__n5_x173_prod1_rdf5/\n",
      "Compressing and copying scripts files to scratch directory \n",
      "Adding A_A_fs10.pbs \n",
      "Adding D_A_fs10.pbs \n",
      "Adding D_D_fs10.pbs \n",
      "> compressed_file  D1_R2R200_A31_R4_n1_R40n1R40n1R42n1__n5_x173_prod1_rdf5_scripts.tgz\n",
      "COPY  scp /Users/tkemper/Projects/DApolymers/scratch/D1_R2R200_A31_R4_n1_R40n1R40n1R42n1__n5_x173_prod1_rdf5/D1_R2R200_A31_R4_n1_R40n1R40n1R42n1__n5_x173_prod1_rdf5_scripts.tgz tkemper@peregrine.hpc.nrel.gov:/scratch/tkemper/D1_R2R200_A31_R4_n1_R40n1R40n1R42n1__n5_x173_prod1_rdf5/\n",
      "Copying output of reference calculations D1_R2R200_A31_R4_n1_R40n1R40n1R42n1__n5_x173_prod1\n"
     ]
    }
   ],
   "source": [
    "for tag,calc_i in proj_j.calculations.iteritems():\n",
    "    print tag\n",
    "    #if( calc_i.meta['status'] != 'running' ):\n",
    "    calc_i.meta['status'] = 'written'\n",
    "    os.chdir(calc_i.dir['launch'])\n",
    "\n",
    "    calc_i.push()"
   ]
  },
  {
   "cell_type": "markdown",
   "metadata": {
    "collapsed": true
   },
   "source": [
    "Add other RDFs "
   ]
  },
  {
   "cell_type": "code",
   "execution_count": 64,
   "metadata": {
    "collapsed": false
   },
   "outputs": [],
   "source": [
    "calc_i = proj_j.calculations['D1_R2R200_A2_R3_R200R200R201_n5_x197_prod1_rdf5']"
   ]
  },
  {
   "cell_type": "code",
   "execution_count": 65,
   "metadata": {
    "collapsed": true
   },
   "outputs": [],
   "source": [
    "calc_i.meta['status'] = 'written'"
   ]
  },
  {
   "cell_type": "code",
   "execution_count": 66,
   "metadata": {
    "collapsed": true
   },
   "outputs": [],
   "source": [
    "os.chdir(calc_i.dir['launch'])"
   ]
  },
  {
   "cell_type": "code",
   "execution_count": 67,
   "metadata": {
    "collapsed": false
   },
   "outputs": [
    {
     "name": "stdout",
     "output_type": "stream",
     "text": [
      "D1\n",
      "R2\n",
      "A2\n",
      "R3\n",
      "R41\n",
      "R40\n",
      "D1 A2\n"
     ]
    }
   ],
   "source": [
    "os.chdir(calc_i.dir['launch'])\n",
    "\n",
    "part_df,res_D,res_A = find_DA(calc_i)\n",
    "\n",
    "print res_D,res_A"
   ]
  },
  {
   "cell_type": "code",
   "execution_count": 68,
   "metadata": {
    "collapsed": false
   },
   "outputs": [
    {
     "name": "stdout",
     "output_type": "stream",
     "text": [
      "D1\n",
      "R2\n",
      "A2\n",
      "R3\n",
      "R41\n",
      "R40\n"
     ]
    }
   ],
   "source": [
    "part_df,res_D,res_A = find_DA(calc_i)\n",
    "\n",
    "sel_D = part_df['resname'] == res_D\n",
    "sel_A = part_df['resname'] == res_A\n",
    "sel_THIO = part_df['resname'] == 'THIO'\n",
    "\n",
    "syC = part_df['symbol'] == 'C'\n",
    "syS = part_df['symbol'] == 'S'\n",
    "syN = part_df['symbol'] == 'N'\n",
    "ffO = part_df['fftype'] == 'O'   \n",
    "\n",
    "ffO = part_df['fftype'] == 'O'    \n",
    "ffS = part_df['fftype'] == 'S'        \n",
    "ffNS = part_df['fftype'] == 'NS'   "
   ]
  },
  {
   "cell_type": "code",
   "execution_count": 69,
   "metadata": {
    "collapsed": true
   },
   "outputs": [],
   "source": [
    "    calc_i.sel_AffO = part_df[( ffO ) & ( sel_A )]\n",
    "    calc_i.strucC.write_xyz_list(calc_i.sel_AffO.index,'sel_AffO.xyz')   \n",
    "    file_AffO = calc_i.strucC.write_list(calc_i.sel_AffO.index,'AffO')    \n",
    "    calc_i.files['input']['file_AffO'] = file_AffO   \n",
    "\n",
    "    calc_i.sel_AffS = part_df[( ffS ) & ( sel_A )]\n",
    "    calc_i.strucC.write_xyz_list(calc_i.sel_AffS.index,'sel_AffS.xyz')   \n",
    "    file_AffS = calc_i.strucC.write_list(calc_i.sel_AffS.index,'AffS')    \n",
    "    calc_i.files['input']['file_AffS'] = file_AffS   \n",
    "\n",
    "    calc_i.sel_AffNS = part_df[( ffNS ) & ( sel_A )]\n",
    "    calc_i.strucC.write_xyz_list(calc_i.sel_AffNS.index,'sel_AffNS.xyz')   \n",
    "    file_AffNS = calc_i.strucC.write_list(calc_i.sel_AffNS.index,'AffNS')    \n",
    "    calc_i.files['input']['file_AffNS'] = file_AffNS   "
   ]
  },
  {
   "cell_type": "code",
   "execution_count": 70,
   "metadata": {
    "collapsed": false
   },
   "outputs": [],
   "source": [
    "    calc_i.files['scripts_t'] =  calc_i.files['scripts']"
   ]
  },
  {
   "cell_type": "code",
   "execution_count": null,
   "metadata": {
    "collapsed": true
   },
   "outputs": [],
   "source": [
    "    del  calc_i.files['scripts']"
   ]
  },
  {
   "cell_type": "code",
   "execution_count": null,
   "metadata": {
    "collapsed": true
   },
   "outputs": [],
   "source": [
    "    calc_i.files['scripts'] = {}"
   ]
  },
  {
   "cell_type": "code",
   "execution_count": null,
   "metadata": {
    "collapsed": false
   },
   "outputs": [],
   "source": [
    "    print  calc_i.files['scripts']"
   ]
  },
  {
   "cell_type": "code",
   "execution_count": null,
   "metadata": {
    "collapsed": true
   },
   "outputs": [],
   "source": []
  },
  {
   "cell_type": "code",
   "execution_count": 71,
   "metadata": {
    "collapsed": false
   },
   "outputs": [
    {
     "name": "stdout",
     "output_type": "stream",
     "text": [
      "python rdf2.py  AffO_AffO_fs10 --cply D1_R2R200_A2_R3_R200R200R201_n5_x197.cply --list_i AffO.list  --list_j AffO.list  --dcd prod1_dump.dcd --mol_inter --frame_step 10\n",
      "python rdf2.py  AffS_AffS_fs10 --cply D1_R2R200_A2_R3_R200R200R201_n5_x197.cply --list_i AffS.list  --list_j AffS.list  --dcd prod1_dump.dcd --mol_inter --frame_step 10\n",
      "python rdf2.py  AffNS_AffNS_fs10 --cply D1_R2R200_A2_R3_R200R200R201_n5_x197.cply --list_i AffNS.list  --list_j AffNS.list  --dcd prod1_dump.dcd --mol_inter --frame_step 10\n",
      "python rdf2.py  AffNS_AffS_fs10 --cply D1_R2R200_A2_R3_R200R200R201_n5_x197.cply --list_i AffNS.list  --list_j AffS.list  --dcd prod1_dump.dcd --mol_inter --frame_step 10\n"
     ]
    }
   ],
   "source": [
    "        calc_i.properties['streamm_command'] = ' \\n'\n",
    "\n",
    "        run_tag = \"AffO_AffO_fs%d\"%(calc_i.properties['frame_step'])\n",
    "        calc_i.properties['streamm_command'] = 'python %s  %s --cply %s'%(calc_i.files['input']['py_script'],run_tag,calc_i.files['input']['cply'])\n",
    "        calc_i.properties['streamm_command'] += ' --list_i %s '%(calc_i.files['input']['file_AffO'])\n",
    "        calc_i.properties['streamm_command'] += ' --list_j %s '%(calc_i.files['input']['file_AffO'])\n",
    "        calc_i.properties['streamm_command'] += ' --dcd prod1_dump.dcd'\n",
    "        calc_i.properties['streamm_command'] += ' --mol_inter'\n",
    "        calc_i.properties['streamm_command'] += ' --frame_step %d'%(calc_i.properties['frame_step'])\n",
    "\n",
    "        calc_i.files['output'][\"%s_log\"%(run_tag)] = \"%s.log\"%(run_tag)\n",
    "        calc_i.files['output'][\"%s_data\"%(run_tag)] = \"%s.dat\"%(run_tag)\n",
    "\n",
    "        print calc_i.properties['streamm_command']    \n",
    "\n",
    "\n",
    "        calc_i.load_str('templates','run')\n",
    "        calc_i.replacewrite_prop('run','scripts','run_%s'%(run_tag),'%s.pbs'%(run_tag))\n",
    "\n",
    "\n",
    "        calc_i.properties['finish_str'] ='Finished'\n",
    "\n",
    "        run_tag = \"AffS_AffS_fs%d\"%(calc_i.properties['frame_step'])\n",
    "        calc_i.properties['streamm_command'] = 'python %s  %s --cply %s'%(calc_i.files['input']['py_script'],run_tag,calc_i.files['input']['cply'])\n",
    "        calc_i.properties['streamm_command'] += ' --list_i %s '%(calc_i.files['input']['file_AffS'])\n",
    "        calc_i.properties['streamm_command'] += ' --list_j %s '%(calc_i.files['input']['file_AffS'])\n",
    "        calc_i.properties['streamm_command'] += ' --dcd prod1_dump.dcd'\n",
    "        calc_i.properties['streamm_command'] += ' --mol_inter'\n",
    "        calc_i.properties['streamm_command'] += ' --frame_step %d'%(calc_i.properties['frame_step'])\n",
    "\n",
    "        calc_i.files['output'][\"%s_log\"%(run_tag)] = \"%s.log\"%(run_tag)\n",
    "        calc_i.files['output'][\"%s_data\"%(run_tag)] = \"%s.dat\"%(run_tag)\n",
    "\n",
    "        print calc_i.properties['streamm_command']    \n",
    "\n",
    "\n",
    "        calc_i.load_str('templates','run')\n",
    "        calc_i.replacewrite_prop('run','scripts','run_%s'%(run_tag),'%s.pbs'%(run_tag))\n",
    "\n",
    "\n",
    "        calc_i.properties['finish_str'] ='Finished'\n",
    "\n",
    "\n",
    "        run_tag = \"AffNS_AffNS_fs%d\"%(calc_i.properties['frame_step'])\n",
    "        calc_i.properties['streamm_command'] = 'python %s  %s --cply %s'%(calc_i.files['input']['py_script'],run_tag,calc_i.files['input']['cply'])\n",
    "        calc_i.properties['streamm_command'] += ' --list_i %s '%(calc_i.files['input']['file_AffNS'])\n",
    "        calc_i.properties['streamm_command'] += ' --list_j %s '%(calc_i.files['input']['file_AffNS'])\n",
    "        calc_i.properties['streamm_command'] += ' --dcd prod1_dump.dcd'\n",
    "        calc_i.properties['streamm_command'] += ' --mol_inter'\n",
    "        calc_i.properties['streamm_command'] += ' --frame_step %d'%(calc_i.properties['frame_step'])\n",
    "\n",
    "        calc_i.files['output'][\"%s_log\"%(run_tag)] = \"%s.log\"%(run_tag)\n",
    "        calc_i.files['output'][\"%s_data\"%(run_tag)] = \"%s.dat\"%(run_tag)\n",
    "\n",
    "        print calc_i.properties['streamm_command']    \n",
    "\n",
    "\n",
    "        calc_i.load_str('templates','run')\n",
    "        calc_i.replacewrite_prop('run','scripts','run_%s'%(run_tag),'%s.pbs'%(run_tag))\n",
    "\n",
    "\n",
    "        calc_i.properties['finish_str'] ='Finished'\n",
    "\n",
    "        \n",
    "        run_tag = \"AffNS_AffS_fs%d\"%(calc_i.properties['frame_step'])\n",
    "        calc_i.properties['streamm_command'] = 'python %s  %s --cply %s'%(calc_i.files['input']['py_script'],run_tag,calc_i.files['input']['cply'])\n",
    "        calc_i.properties['streamm_command'] += ' --list_i %s '%(calc_i.files['input']['file_AffNS'])\n",
    "        calc_i.properties['streamm_command'] += ' --list_j %s '%(calc_i.files['input']['file_AffS'])\n",
    "        calc_i.properties['streamm_command'] += ' --dcd prod1_dump.dcd'\n",
    "        calc_i.properties['streamm_command'] += ' --mol_inter'\n",
    "        calc_i.properties['streamm_command'] += ' --frame_step %d'%(calc_i.properties['frame_step'])\n",
    "\n",
    "        calc_i.files['output'][\"%s_log\"%(run_tag)] = \"%s.log\"%(run_tag)\n",
    "        calc_i.files['output'][\"%s_data\"%(run_tag)] = \"%s.dat\"%(run_tag)\n",
    "\n",
    "        print calc_i.properties['streamm_command']    \n",
    "\n",
    "\n",
    "        calc_i.load_str('templates','run')\n",
    "        calc_i.replacewrite_prop('run','scripts','run_%s'%(run_tag),'%s.pbs'%(run_tag))\n",
    "\n",
    "\n",
    "        calc_i.properties['finish_str'] ='Finished'\n",
    "\n",
    "\n",
    "\n",
    "\n",
    "\n"
   ]
  },
  {
   "cell_type": "code",
   "execution_count": 72,
   "metadata": {
    "collapsed": true
   },
   "outputs": [],
   "source": [
    "        run_tag = \"AffO_AffO_fs%d\"%(calc_i.properties['frame_step'])\n",
    "\n",
    "        calc_i.files['output'][\"%s_log\"%(run_tag)] = \"%s.log\"%(run_tag)\n",
    "        calc_i.files['output'][\"%s_data\"%(run_tag)] = \"%s.dat\"%(run_tag)\n",
    "\n",
    "        run_tag = \"AffS_AffS_fs%d\"%(calc_i.properties['frame_step'])\n",
    "\n",
    "        calc_i.files['output'][\"%s_log\"%(run_tag)] = \"%s.log\"%(run_tag)\n",
    "        calc_i.files['output'][\"%s_data\"%(run_tag)] = \"%s.dat\"%(run_tag)\n",
    "\n",
    "        run_tag = \"AffNS_AffNS_fs%d\"%(calc_i.properties['frame_step'])\n",
    "\n",
    "        calc_i.files['output'][\"%s_log\"%(run_tag)] = \"%s.log\"%(run_tag)\n",
    "        calc_i.files['output'][\"%s_data\"%(run_tag)] = \"%s.dat\"%(run_tag)"
   ]
  },
  {
   "cell_type": "code",
   "execution_count": 152,
   "metadata": {
    "collapsed": false
   },
   "outputs": [
    {
     "name": "stdout",
     "output_type": "stream",
     "text": [
      " Resource type ssh \n",
      "runnning push function in /Users/tkemper/Projects/DApolymers/figures \n",
      "Compressing and copying input files to scratch directory \n",
      "Adding AffS.list \n",
      "Adding AffNS.list \n",
      "Adding D1_R2R200_A2_R3_R200R200R201_n5_x197.cply \n",
      "Adding AffO.list \n",
      "Adding rdf2.py \n",
      "Adding D.list \n",
      "Adding DA.list \n",
      "Adding A.list \n",
      "> compressed_file  D1_R2R200_A2_R3_R200R200R201_n5_x197_prod1_rdf5_input.tgz\n",
      "COPY  scp /Users/tkemper/Projects/DApolymers/scratch/D1_R2R200_A2_R3_R200R200R201_n5_x197_prod1_rdf5/D1_R2R200_A2_R3_R200R200R201_n5_x197_prod1_rdf5_input.tgz tkemper@peregrine.hpc.nrel.gov:/scratch/tkemper/D1_R2R200_A2_R3_R200R200R201_n5_x197_prod1_rdf5/\n",
      "Compressing and copying templates files to scratch directory \n",
      "Adding streamm_peregrine.pbs \n",
      "> compressed_file  D1_R2R200_A2_R3_R200R200R201_n5_x197_prod1_rdf5_templates.tgz\n",
      "COPY  scp /Users/tkemper/Projects/DApolymers/scratch/D1_R2R200_A2_R3_R200R200R201_n5_x197_prod1_rdf5/D1_R2R200_A2_R3_R200R200R201_n5_x197_prod1_rdf5_templates.tgz tkemper@peregrine.hpc.nrel.gov:/scratch/tkemper/D1_R2R200_A2_R3_R200R200R201_n5_x197_prod1_rdf5/\n",
      "Compressing and copying scripts files to scratch directory \n",
      "Adding AffNS_AffS_fs10.pbs \n",
      "Adding AffS_AffS_fs10.pbs \n",
      "Adding AffO_AffO_fs10.pbs \n",
      "Adding D_A_fs10.pbs \n",
      "Adding AffNS_AffNS_fs10.pbs \n",
      "Adding D_D_fs10.pbs \n",
      "Adding A_A_fs10.pbs \n",
      "> compressed_file  D1_R2R200_A2_R3_R200R200R201_n5_x197_prod1_rdf5_scripts.tgz\n",
      "COPY  scp /Users/tkemper/Projects/DApolymers/scratch/D1_R2R200_A2_R3_R200R200R201_n5_x197_prod1_rdf5/D1_R2R200_A2_R3_R200R200R201_n5_x197_prod1_rdf5_scripts.tgz tkemper@peregrine.hpc.nrel.gov:/scratch/tkemper/D1_R2R200_A2_R3_R200R200R201_n5_x197_prod1_rdf5/\n",
      "Copying output of reference calculations D1_R2R200_A2_R3_R200R200R201_n5_x197_prod1\n"
     ]
    }
   ],
   "source": [
    "    calc_i.push()"
   ]
  },
  {
   "cell_type": "code",
   "execution_count": 154,
   "metadata": {
    "collapsed": false
   },
   "outputs": [
    {
     "name": "stdout",
     "output_type": "stream",
     "text": [
      "D51_00R300R3_A23_R4__n1wB_R41n1wBR41n1wBR41n1wB__n5_x173_prod1_rdf5\n",
      "written\n",
      "D1_R2R200_A23_R4_n1_R41n1R41n1R41n1__n5_x193_prod1_rdf5\n",
      "written\n",
      "D1_R2R200_A2_R3_R200R200R201_n5_x197_prod1_rdf5\n",
      "written\n",
      "D1_R2R200_A23_R4_n1_R41n1R41n1R40n1__n5_x193_prod1_rdf5\n",
      "written\n",
      "D1_R2R200_A31_R4_n1_R41n1R41n1R40n1__n5_x193_prod1_rdf5\n",
      "written\n",
      "D1_R2R200_A31_R4_n1_R40n1R40n1R42n1__n5_x173_prod1_rdf5\n",
      "written\n"
     ]
    }
   ],
   "source": [
    "for tag,calc_i in proj_j.calculations.iteritems():\n",
    "    print tag\n",
    "    print calc_i.meta['status']"
   ]
  },
  {
   "cell_type": "code",
   "execution_count": 157,
   "metadata": {
    "collapsed": false
   },
   "outputs": [
    {
     "name": "stdout",
     "output_type": "stream",
     "text": [
      "D51_00R300R3_A23_R4__n1wB_R41n1wBR41n1wBR41n1wB__n5_x173_prod1_rdf5\n",
      "Calculation with status written \n",
      "Resource type ssh \n",
      "Executing run command ssh tkemper@peregrine.hpc.nrel.gov ' cd /scratch/tkemper/D51_00R300R3_A23_R4__n1wB_R41n1wBR41n1wBR41n1wB__n5_x173_prod1_rdf5/ ; qsub A_A_fs10.pbs '  \n",
      "Executing run command ssh tkemper@peregrine.hpc.nrel.gov ' cd /scratch/tkemper/D51_00R300R3_A23_R4__n1wB_R41n1wBR41n1wBR41n1wB__n5_x173_prod1_rdf5/ ; qsub D_A_fs10.pbs '  \n",
      "Executing run command ssh tkemper@peregrine.hpc.nrel.gov ' cd /scratch/tkemper/D51_00R300R3_A23_R4__n1wB_R41n1wBR41n1wBR41n1wB__n5_x173_prod1_rdf5/ ; qsub D_D_fs10.pbs '  \n",
      "written\n",
      "D1_R2R200_A23_R4_n1_R41n1R41n1R41n1__n5_x193_prod1_rdf5\n",
      "Calculation with status written \n",
      "Resource type ssh \n",
      "Executing run command ssh tkemper@peregrine.hpc.nrel.gov ' cd /scratch/tkemper/D1_R2R200_A23_R4_n1_R41n1R41n1R41n1__n5_x193_prod1_rdf5/ ; qsub A_A_fs10.pbs '  \n",
      "Executing run command ssh tkemper@peregrine.hpc.nrel.gov ' cd /scratch/tkemper/D1_R2R200_A23_R4_n1_R41n1R41n1R41n1__n5_x193_prod1_rdf5/ ; qsub D_A_fs10.pbs '  \n",
      "Executing run command ssh tkemper@peregrine.hpc.nrel.gov ' cd /scratch/tkemper/D1_R2R200_A23_R4_n1_R41n1R41n1R41n1__n5_x193_prod1_rdf5/ ; qsub D_D_fs10.pbs '  \n",
      "written\n",
      "D1_R2R200_A2_R3_R200R200R201_n5_x197_prod1_rdf5\n",
      "Calculation with status written \n",
      "Resource type ssh \n",
      "Executing run command ssh tkemper@peregrine.hpc.nrel.gov ' cd /scratch/tkemper/D1_R2R200_A2_R3_R200R200R201_n5_x197_prod1_rdf5/ ; qsub AffNS_AffS_fs10.pbs '  \n",
      "Executing run command ssh tkemper@peregrine.hpc.nrel.gov ' cd /scratch/tkemper/D1_R2R200_A2_R3_R200R200R201_n5_x197_prod1_rdf5/ ; qsub AffS_AffS_fs10.pbs '  \n",
      "Executing run command ssh tkemper@peregrine.hpc.nrel.gov ' cd /scratch/tkemper/D1_R2R200_A2_R3_R200R200R201_n5_x197_prod1_rdf5/ ; qsub AffO_AffO_fs10.pbs '  \n",
      "Executing run command ssh tkemper@peregrine.hpc.nrel.gov ' cd /scratch/tkemper/D1_R2R200_A2_R3_R200R200R201_n5_x197_prod1_rdf5/ ; qsub D_A_fs10.pbs '  \n",
      "Executing run command ssh tkemper@peregrine.hpc.nrel.gov ' cd /scratch/tkemper/D1_R2R200_A2_R3_R200R200R201_n5_x197_prod1_rdf5/ ; qsub AffNS_AffNS_fs10.pbs '  \n",
      "Executing run command ssh tkemper@peregrine.hpc.nrel.gov ' cd /scratch/tkemper/D1_R2R200_A2_R3_R200R200R201_n5_x197_prod1_rdf5/ ; qsub D_D_fs10.pbs '  \n",
      "Executing run command ssh tkemper@peregrine.hpc.nrel.gov ' cd /scratch/tkemper/D1_R2R200_A2_R3_R200R200R201_n5_x197_prod1_rdf5/ ; qsub A_A_fs10.pbs '  \n",
      "written\n",
      "D1_R2R200_A23_R4_n1_R41n1R41n1R40n1__n5_x193_prod1_rdf5\n",
      "Calculation with status written \n",
      "Resource type ssh \n",
      "Executing run command ssh tkemper@peregrine.hpc.nrel.gov ' cd /scratch/tkemper/D1_R2R200_A23_R4_n1_R41n1R41n1R40n1__n5_x193_prod1_rdf5/ ; qsub A_A_fs10.pbs '  \n",
      "Executing run command ssh tkemper@peregrine.hpc.nrel.gov ' cd /scratch/tkemper/D1_R2R200_A23_R4_n1_R41n1R41n1R40n1__n5_x193_prod1_rdf5/ ; qsub D_A_fs10.pbs '  \n",
      "Executing run command ssh tkemper@peregrine.hpc.nrel.gov ' cd /scratch/tkemper/D1_R2R200_A23_R4_n1_R41n1R41n1R40n1__n5_x193_prod1_rdf5/ ; qsub D_D_fs10.pbs '  \n",
      "written\n",
      "D1_R2R200_A31_R4_n1_R41n1R41n1R40n1__n5_x193_prod1_rdf5\n",
      "Calculation with status written \n",
      "Resource type ssh \n",
      "Executing run command ssh tkemper@peregrine.hpc.nrel.gov ' cd /scratch/tkemper/D1_R2R200_A31_R4_n1_R41n1R41n1R40n1__n5_x193_prod1_rdf5/ ; qsub A_A_fs10.pbs '  \n",
      "Executing run command ssh tkemper@peregrine.hpc.nrel.gov ' cd /scratch/tkemper/D1_R2R200_A31_R4_n1_R41n1R41n1R40n1__n5_x193_prod1_rdf5/ ; qsub D_A_fs10.pbs '  \n",
      "Executing run command ssh tkemper@peregrine.hpc.nrel.gov ' cd /scratch/tkemper/D1_R2R200_A31_R4_n1_R41n1R41n1R40n1__n5_x193_prod1_rdf5/ ; qsub D_D_fs10.pbs '  \n",
      "written\n",
      "D1_R2R200_A31_R4_n1_R40n1R40n1R42n1__n5_x173_prod1_rdf5\n",
      "Calculation with status written \n",
      "Resource type ssh \n",
      "Executing run command ssh tkemper@peregrine.hpc.nrel.gov ' cd /scratch/tkemper/D1_R2R200_A31_R4_n1_R40n1R40n1R42n1__n5_x173_prod1_rdf5/ ; qsub A_A_fs10.pbs '  \n",
      "Executing run command ssh tkemper@peregrine.hpc.nrel.gov ' cd /scratch/tkemper/D1_R2R200_A31_R4_n1_R40n1R40n1R42n1__n5_x173_prod1_rdf5/ ; qsub D_A_fs10.pbs '  \n",
      "Executing run command ssh tkemper@peregrine.hpc.nrel.gov ' cd /scratch/tkemper/D1_R2R200_A31_R4_n1_R40n1R40n1R42n1__n5_x173_prod1_rdf5/ ; qsub D_D_fs10.pbs '  \n",
      "written\n"
     ]
    }
   ],
   "source": [
    "for tag,calc_i in proj_j.calculations.iteritems():\n",
    "    print tag\n",
    "    if( calc_i.meta['status'] != 'running' ):\n",
    "        calc_i.run()\n",
    "        print calc_i.meta['status']"
   ]
  },
  {
   "cell_type": "code",
   "execution_count": 74,
   "metadata": {
    "collapsed": false
   },
   "outputs": [
    {
     "name": "stdout",
     "output_type": "stream",
     "text": [
      "finished\n",
      "finished\n",
      "finished\n",
      "finished\n",
      "finished\n",
      "finished\n"
     ]
    }
   ],
   "source": [
    "for tag,calc_i in proj_j.calculations.iteritems():\n",
    "    calc_i.check()\n",
    "    print calc_i.meta['status']\n",
    "    \n"
   ]
  },
  {
   "cell_type": "code",
   "execution_count": 75,
   "metadata": {
    "collapsed": false
   },
   "outputs": [
    {
     "name": "stdout",
     "output_type": "stream",
     "text": [
      "runnning store function in /Users/tkemper/Projects/DApolymers/scratch/D1_R2R200_A2_R3_R200R200R201_n5_x197_prod1_rdf5 \n",
      "Storing input files \n",
      "Adding D51_00R300R3_A23_R4__n1wB_R41n1wBR41n1wBR41n1wB__n5_x173.cply \n",
      "Adding D.list \n",
      "Adding DA.list \n",
      "Adding A.list \n",
      "Adding rdf2.py \n",
      "> compressed_file  D51_00R300R3_A23_R4__n1wB_R41n1wBR41n1wBR41n1wB__n5_x173_prod1_rdf5_input.tgz\n",
      "ssh tkemper@peregrine.hpc.nrel.gov ' cd /scratch/tkemper/D51_00R300R3_A23_R4__n1wB_R41n1wBR41n1wBR41n1wB__n5_x173_prod1_rdf5/ ; tar -czf  D51_00R300R3_A23_R4__n1wB_R41n1wBR41n1wBR41n1wB__n5_x173_prod1_rdf5_input.tgz  D51_00R300R3_A23_R4__n1wB_R41n1wBR41n1wBR41n1wB__n5_x173.cply D.list DA.list A.list rdf2.py  ' \n",
      "ssh tkemper@peregrine.hpc.nrel.gov ' cd /scratch/tkemper/D51_00R300R3_A23_R4__n1wB_R41n1wBR41n1wBR41n1wB__n5_x173_prod1_rdf5/ ; cp /scratch/tkemper/D51_00R300R3_A23_R4__n1wB_R41n1wBR41n1wBR41n1wB__n5_x173_prod1_rdf5/D51_00R300R3_A23_R4__n1wB_R41n1wBR41n1wBR41n1wB__n5_x173_prod1_rdf5_input.tgz /mss/users/tkemper/D51_00R300R3_A23_R4__n1wB_R41n1wBR41n1wBR41n1wB__n5_x173_prod1_rdf5/D51_00R300R3_A23_R4__n1wB_R41n1wBR41n1wBR41n1wB__n5_x173_prod1_rdf5_input.tgz  ' \n",
      "Storing scripts files \n",
      "Adding A_A_fs10.pbs \n",
      "Adding D_A_fs10.pbs \n",
      "Adding D_D_fs10.pbs \n",
      "> compressed_file  D51_00R300R3_A23_R4__n1wB_R41n1wBR41n1wBR41n1wB__n5_x173_prod1_rdf5_scripts.tgz\n",
      "ssh tkemper@peregrine.hpc.nrel.gov ' cd /scratch/tkemper/D51_00R300R3_A23_R4__n1wB_R41n1wBR41n1wBR41n1wB__n5_x173_prod1_rdf5/ ; tar -czf  D51_00R300R3_A23_R4__n1wB_R41n1wBR41n1wBR41n1wB__n5_x173_prod1_rdf5_scripts.tgz  A_A_fs10.pbs D_A_fs10.pbs D_D_fs10.pbs  ' \n",
      "ssh tkemper@peregrine.hpc.nrel.gov ' cd /scratch/tkemper/D51_00R300R3_A23_R4__n1wB_R41n1wBR41n1wBR41n1wB__n5_x173_prod1_rdf5/ ; cp /scratch/tkemper/D51_00R300R3_A23_R4__n1wB_R41n1wBR41n1wBR41n1wB__n5_x173_prod1_rdf5/D51_00R300R3_A23_R4__n1wB_R41n1wBR41n1wBR41n1wB__n5_x173_prod1_rdf5_scripts.tgz /mss/users/tkemper/D51_00R300R3_A23_R4__n1wB_R41n1wBR41n1wBR41n1wB__n5_x173_prod1_rdf5/D51_00R300R3_A23_R4__n1wB_R41n1wBR41n1wBR41n1wB__n5_x173_prod1_rdf5_scripts.tgz  ' \n",
      "Storing output files \n",
      "Adding D_D_fs10.dat \n",
      "Adding A_A_fs10.log \n",
      "Adding D_A_fs10.log \n",
      "Adding A_A_fs10.log \n",
      "Adding A_A_fs10.dat \n",
      "Adding D_D_fs10.log \n",
      "Adding D_A_fs10.dat \n",
      "> compressed_file  D51_00R300R3_A23_R4__n1wB_R41n1wBR41n1wBR41n1wB__n5_x173_prod1_rdf5_output.tgz\n",
      "ssh tkemper@peregrine.hpc.nrel.gov ' cd /scratch/tkemper/D51_00R300R3_A23_R4__n1wB_R41n1wBR41n1wBR41n1wB__n5_x173_prod1_rdf5/ ; tar -czf  D51_00R300R3_A23_R4__n1wB_R41n1wBR41n1wBR41n1wB__n5_x173_prod1_rdf5_output.tgz  D_D_fs10.dat A_A_fs10.log D_A_fs10.log A_A_fs10.log A_A_fs10.dat D_D_fs10.log D_A_fs10.dat  ' \n",
      "ssh tkemper@peregrine.hpc.nrel.gov ' cd /scratch/tkemper/D51_00R300R3_A23_R4__n1wB_R41n1wBR41n1wBR41n1wB__n5_x173_prod1_rdf5/ ; cp /scratch/tkemper/D51_00R300R3_A23_R4__n1wB_R41n1wBR41n1wBR41n1wB__n5_x173_prod1_rdf5/D51_00R300R3_A23_R4__n1wB_R41n1wBR41n1wBR41n1wB__n5_x173_prod1_rdf5_output.tgz /mss/users/tkemper/D51_00R300R3_A23_R4__n1wB_R41n1wBR41n1wBR41n1wB__n5_x173_prod1_rdf5/D51_00R300R3_A23_R4__n1wB_R41n1wBR41n1wBR41n1wB__n5_x173_prod1_rdf5_output.tgz  ' \n",
      "No files of type data present\n",
      "runnning store function in /Users/tkemper/Projects/DApolymers/scratch/D1_R2R200_A2_R3_R200R200R201_n5_x197_prod1_rdf5 \n",
      "Storing input files \n",
      "Adding D1_R2R200_A23_R4_n1_R41n1R41n1R41n1__n5_x193.cply \n",
      "Adding D.list \n",
      "Adding DA.list \n",
      "Adding A.list \n",
      "Adding rdf2.py \n",
      "> compressed_file  D1_R2R200_A23_R4_n1_R41n1R41n1R41n1__n5_x193_prod1_rdf5_input.tgz\n",
      "ssh tkemper@peregrine.hpc.nrel.gov ' cd /scratch/tkemper/D1_R2R200_A23_R4_n1_R41n1R41n1R41n1__n5_x193_prod1_rdf5/ ; tar -czf  D1_R2R200_A23_R4_n1_R41n1R41n1R41n1__n5_x193_prod1_rdf5_input.tgz  D1_R2R200_A23_R4_n1_R41n1R41n1R41n1__n5_x193.cply D.list DA.list A.list rdf2.py  ' \n",
      "ssh tkemper@peregrine.hpc.nrel.gov ' cd /scratch/tkemper/D1_R2R200_A23_R4_n1_R41n1R41n1R41n1__n5_x193_prod1_rdf5/ ; cp /scratch/tkemper/D1_R2R200_A23_R4_n1_R41n1R41n1R41n1__n5_x193_prod1_rdf5/D1_R2R200_A23_R4_n1_R41n1R41n1R41n1__n5_x193_prod1_rdf5_input.tgz /mss/users/tkemper/D1_R2R200_A23_R4_n1_R41n1R41n1R41n1__n5_x193_prod1_rdf5/D1_R2R200_A23_R4_n1_R41n1R41n1R41n1__n5_x193_prod1_rdf5_input.tgz  ' \n",
      "Storing scripts files \n",
      "Adding A_A_fs10.pbs \n",
      "Adding D_A_fs10.pbs \n",
      "Adding D_D_fs10.pbs \n",
      "> compressed_file  D1_R2R200_A23_R4_n1_R41n1R41n1R41n1__n5_x193_prod1_rdf5_scripts.tgz\n",
      "ssh tkemper@peregrine.hpc.nrel.gov ' cd /scratch/tkemper/D1_R2R200_A23_R4_n1_R41n1R41n1R41n1__n5_x193_prod1_rdf5/ ; tar -czf  D1_R2R200_A23_R4_n1_R41n1R41n1R41n1__n5_x193_prod1_rdf5_scripts.tgz  A_A_fs10.pbs D_A_fs10.pbs D_D_fs10.pbs  ' \n",
      "ssh tkemper@peregrine.hpc.nrel.gov ' cd /scratch/tkemper/D1_R2R200_A23_R4_n1_R41n1R41n1R41n1__n5_x193_prod1_rdf5/ ; cp /scratch/tkemper/D1_R2R200_A23_R4_n1_R41n1R41n1R41n1__n5_x193_prod1_rdf5/D1_R2R200_A23_R4_n1_R41n1R41n1R41n1__n5_x193_prod1_rdf5_scripts.tgz /mss/users/tkemper/D1_R2R200_A23_R4_n1_R41n1R41n1R41n1__n5_x193_prod1_rdf5/D1_R2R200_A23_R4_n1_R41n1R41n1R41n1__n5_x193_prod1_rdf5_scripts.tgz  ' \n",
      "Storing output files \n",
      "Adding D_D_fs10.dat \n",
      "Adding A_A_fs10.log \n",
      "Adding D_A_fs10.log \n",
      "Adding A_A_fs10.log \n",
      "Adding A_A_fs10.dat \n",
      "Adding D_D_fs10.log \n",
      "Adding D_A_fs10.dat \n",
      "> compressed_file  D1_R2R200_A23_R4_n1_R41n1R41n1R41n1__n5_x193_prod1_rdf5_output.tgz\n",
      "ssh tkemper@peregrine.hpc.nrel.gov ' cd /scratch/tkemper/D1_R2R200_A23_R4_n1_R41n1R41n1R41n1__n5_x193_prod1_rdf5/ ; tar -czf  D1_R2R200_A23_R4_n1_R41n1R41n1R41n1__n5_x193_prod1_rdf5_output.tgz  D_D_fs10.dat A_A_fs10.log D_A_fs10.log A_A_fs10.log A_A_fs10.dat D_D_fs10.log D_A_fs10.dat  ' \n",
      "ssh tkemper@peregrine.hpc.nrel.gov ' cd /scratch/tkemper/D1_R2R200_A23_R4_n1_R41n1R41n1R41n1__n5_x193_prod1_rdf5/ ; cp /scratch/tkemper/D1_R2R200_A23_R4_n1_R41n1R41n1R41n1__n5_x193_prod1_rdf5/D1_R2R200_A23_R4_n1_R41n1R41n1R41n1__n5_x193_prod1_rdf5_output.tgz /mss/users/tkemper/D1_R2R200_A23_R4_n1_R41n1R41n1R41n1__n5_x193_prod1_rdf5/D1_R2R200_A23_R4_n1_R41n1R41n1R41n1__n5_x193_prod1_rdf5_output.tgz  ' \n",
      "No files of type data present\n",
      "runnning store function in /Users/tkemper/Projects/DApolymers/scratch/D1_R2R200_A2_R3_R200R200R201_n5_x197_prod1_rdf5 \n",
      "Storing input files \n",
      "Adding AffS.list \n",
      "Adding AffNS.list \n",
      "Adding D1_R2R200_A2_R3_R200R200R201_n5_x197.cply \n",
      "Adding AffO.list \n",
      "Adding rdf2.py \n",
      "Adding D.list \n",
      "Adding DA.list \n",
      "Adding A.list \n",
      "> compressed_file  D1_R2R200_A2_R3_R200R200R201_n5_x197_prod1_rdf5_input.tgz\n",
      "ssh tkemper@peregrine.hpc.nrel.gov ' cd /scratch/tkemper/D1_R2R200_A2_R3_R200R200R201_n5_x197_prod1_rdf5/ ; tar -czf  D1_R2R200_A2_R3_R200R200R201_n5_x197_prod1_rdf5_input.tgz  AffS.list AffNS.list D1_R2R200_A2_R3_R200R200R201_n5_x197.cply AffO.list rdf2.py D.list DA.list A.list  ' \n",
      "ssh tkemper@peregrine.hpc.nrel.gov ' cd /scratch/tkemper/D1_R2R200_A2_R3_R200R200R201_n5_x197_prod1_rdf5/ ; cp /scratch/tkemper/D1_R2R200_A2_R3_R200R200R201_n5_x197_prod1_rdf5/D1_R2R200_A2_R3_R200R200R201_n5_x197_prod1_rdf5_input.tgz /mss/users/tkemper/D1_R2R200_A2_R3_R200R200R201_n5_x197_prod1_rdf5/D1_R2R200_A2_R3_R200R200R201_n5_x197_prod1_rdf5_input.tgz  ' \n",
      "Storing scripts files \n",
      "Adding AffNS_AffS_fs10.pbs \n",
      "Adding AffS_AffS_fs10.pbs \n",
      "Adding AffO_AffO_fs10.pbs \n",
      "Adding D_A_fs10.pbs \n",
      "Adding AffNS_AffNS_fs10.pbs \n",
      "Adding D_D_fs10.pbs \n",
      "Adding A_A_fs10.pbs \n",
      "> compressed_file  D1_R2R200_A2_R3_R200R200R201_n5_x197_prod1_rdf5_scripts.tgz\n",
      "ssh tkemper@peregrine.hpc.nrel.gov ' cd /scratch/tkemper/D1_R2R200_A2_R3_R200R200R201_n5_x197_prod1_rdf5/ ; tar -czf  D1_R2R200_A2_R3_R200R200R201_n5_x197_prod1_rdf5_scripts.tgz  AffNS_AffS_fs10.pbs AffS_AffS_fs10.pbs AffO_AffO_fs10.pbs D_A_fs10.pbs AffNS_AffNS_fs10.pbs D_D_fs10.pbs A_A_fs10.pbs  ' \n",
      "ssh tkemper@peregrine.hpc.nrel.gov ' cd /scratch/tkemper/D1_R2R200_A2_R3_R200R200R201_n5_x197_prod1_rdf5/ ; cp /scratch/tkemper/D1_R2R200_A2_R3_R200R200R201_n5_x197_prod1_rdf5/D1_R2R200_A2_R3_R200R200R201_n5_x197_prod1_rdf5_scripts.tgz /mss/users/tkemper/D1_R2R200_A2_R3_R200R200R201_n5_x197_prod1_rdf5/D1_R2R200_A2_R3_R200R200R201_n5_x197_prod1_rdf5_scripts.tgz  ' \n",
      "Storing output files \n",
      "Adding D_D_fs10.dat \n",
      "Adding A_A_fs10.log \n",
      "Adding D_A_fs10.log \n",
      "Adding A_A_fs10.log \n",
      "Adding A_A_fs10.dat \n",
      "Adding D_D_fs10.log \n",
      "Adding AffNS_AffS_fs10.log \n",
      "Adding AffS_AffS_fs10.log \n",
      "Adding AffO_AffO_fs10.log \n",
      "Adding AffNS_AffNS_fs10.dat \n",
      "Adding AffS_AffS_fs10.dat \n",
      "Adding AffNS_AffS_fs10.dat \n",
      "Adding AffO_AffO_fs10.dat \n",
      "Adding AffNS_AffNS_fs10.log \n",
      "Adding D_A_fs10.dat \n",
      "> compressed_file  D1_R2R200_A2_R3_R200R200R201_n5_x197_prod1_rdf5_output.tgz\n",
      "ssh tkemper@peregrine.hpc.nrel.gov ' cd /scratch/tkemper/D1_R2R200_A2_R3_R200R200R201_n5_x197_prod1_rdf5/ ; tar -czf  D1_R2R200_A2_R3_R200R200R201_n5_x197_prod1_rdf5_output.tgz  D_D_fs10.dat A_A_fs10.log D_A_fs10.log A_A_fs10.log A_A_fs10.dat D_D_fs10.log AffNS_AffS_fs10.log AffS_AffS_fs10.log AffO_AffO_fs10.log AffNS_AffNS_fs10.dat AffS_AffS_fs10.dat AffNS_AffS_fs10.dat AffO_AffO_fs10.dat AffNS_AffNS_fs10.log D_A_fs10.dat  ' \n",
      "ssh tkemper@peregrine.hpc.nrel.gov ' cd /scratch/tkemper/D1_R2R200_A2_R3_R200R200R201_n5_x197_prod1_rdf5/ ; cp /scratch/tkemper/D1_R2R200_A2_R3_R200R200R201_n5_x197_prod1_rdf5/D1_R2R200_A2_R3_R200R200R201_n5_x197_prod1_rdf5_output.tgz /mss/users/tkemper/D1_R2R200_A2_R3_R200R200R201_n5_x197_prod1_rdf5/D1_R2R200_A2_R3_R200R200R201_n5_x197_prod1_rdf5_output.tgz  ' \n",
      "No files of type data present\n",
      "runnning store function in /Users/tkemper/Projects/DApolymers/scratch/D1_R2R200_A2_R3_R200R200R201_n5_x197_prod1_rdf5 \n",
      "Storing input files \n",
      "Adding D1_R2R200_A23_R4_n1_R41n1R41n1R40n1__n5_x193.cply \n",
      "Adding D.list \n",
      "Adding DA.list \n",
      "Adding A.list \n",
      "Adding rdf2.py \n",
      "> compressed_file  D1_R2R200_A23_R4_n1_R41n1R41n1R40n1__n5_x193_prod1_rdf5_input.tgz\n",
      "ssh tkemper@peregrine.hpc.nrel.gov ' cd /scratch/tkemper/D1_R2R200_A23_R4_n1_R41n1R41n1R40n1__n5_x193_prod1_rdf5/ ; tar -czf  D1_R2R200_A23_R4_n1_R41n1R41n1R40n1__n5_x193_prod1_rdf5_input.tgz  D1_R2R200_A23_R4_n1_R41n1R41n1R40n1__n5_x193.cply D.list DA.list A.list rdf2.py  ' \n",
      "ssh tkemper@peregrine.hpc.nrel.gov ' cd /scratch/tkemper/D1_R2R200_A23_R4_n1_R41n1R41n1R40n1__n5_x193_prod1_rdf5/ ; cp /scratch/tkemper/D1_R2R200_A23_R4_n1_R41n1R41n1R40n1__n5_x193_prod1_rdf5/D1_R2R200_A23_R4_n1_R41n1R41n1R40n1__n5_x193_prod1_rdf5_input.tgz /mss/users/tkemper/D1_R2R200_A23_R4_n1_R41n1R41n1R40n1__n5_x193_prod1_rdf5/D1_R2R200_A23_R4_n1_R41n1R41n1R40n1__n5_x193_prod1_rdf5_input.tgz  ' \n",
      "Storing scripts files \n",
      "Adding A_A_fs10.pbs \n",
      "Adding D_A_fs10.pbs \n",
      "Adding D_D_fs10.pbs \n",
      "> compressed_file  D1_R2R200_A23_R4_n1_R41n1R41n1R40n1__n5_x193_prod1_rdf5_scripts.tgz\n",
      "ssh tkemper@peregrine.hpc.nrel.gov ' cd /scratch/tkemper/D1_R2R200_A23_R4_n1_R41n1R41n1R40n1__n5_x193_prod1_rdf5/ ; tar -czf  D1_R2R200_A23_R4_n1_R41n1R41n1R40n1__n5_x193_prod1_rdf5_scripts.tgz  A_A_fs10.pbs D_A_fs10.pbs D_D_fs10.pbs  ' \n",
      "ssh tkemper@peregrine.hpc.nrel.gov ' cd /scratch/tkemper/D1_R2R200_A23_R4_n1_R41n1R41n1R40n1__n5_x193_prod1_rdf5/ ; cp /scratch/tkemper/D1_R2R200_A23_R4_n1_R41n1R41n1R40n1__n5_x193_prod1_rdf5/D1_R2R200_A23_R4_n1_R41n1R41n1R40n1__n5_x193_prod1_rdf5_scripts.tgz /mss/users/tkemper/D1_R2R200_A23_R4_n1_R41n1R41n1R40n1__n5_x193_prod1_rdf5/D1_R2R200_A23_R4_n1_R41n1R41n1R40n1__n5_x193_prod1_rdf5_scripts.tgz  ' \n",
      "Storing output files \n",
      "Adding D_D_fs10.dat \n",
      "Adding A_A_fs10.log \n",
      "Adding D_A_fs10.log \n",
      "Adding A_A_fs10.log \n",
      "Adding A_A_fs10.dat \n",
      "Adding D_D_fs10.log \n",
      "Adding D_A_fs10.dat \n",
      "> compressed_file  D1_R2R200_A23_R4_n1_R41n1R41n1R40n1__n5_x193_prod1_rdf5_output.tgz\n",
      "ssh tkemper@peregrine.hpc.nrel.gov ' cd /scratch/tkemper/D1_R2R200_A23_R4_n1_R41n1R41n1R40n1__n5_x193_prod1_rdf5/ ; tar -czf  D1_R2R200_A23_R4_n1_R41n1R41n1R40n1__n5_x193_prod1_rdf5_output.tgz  D_D_fs10.dat A_A_fs10.log D_A_fs10.log A_A_fs10.log A_A_fs10.dat D_D_fs10.log D_A_fs10.dat  ' \n",
      "ssh tkemper@peregrine.hpc.nrel.gov ' cd /scratch/tkemper/D1_R2R200_A23_R4_n1_R41n1R41n1R40n1__n5_x193_prod1_rdf5/ ; cp /scratch/tkemper/D1_R2R200_A23_R4_n1_R41n1R41n1R40n1__n5_x193_prod1_rdf5/D1_R2R200_A23_R4_n1_R41n1R41n1R40n1__n5_x193_prod1_rdf5_output.tgz /mss/users/tkemper/D1_R2R200_A23_R4_n1_R41n1R41n1R40n1__n5_x193_prod1_rdf5/D1_R2R200_A23_R4_n1_R41n1R41n1R40n1__n5_x193_prod1_rdf5_output.tgz  ' \n",
      "No files of type data present\n",
      "runnning store function in /Users/tkemper/Projects/DApolymers/scratch/D1_R2R200_A2_R3_R200R200R201_n5_x197_prod1_rdf5 \n",
      "Storing input files \n",
      "Adding D1_R2R200_A31_R4_n1_R41n1R41n1R40n1__n5_x193.cply \n",
      "Adding D.list \n",
      "Adding DA.list \n",
      "Adding A.list \n",
      "Adding rdf2.py \n",
      "> compressed_file  D1_R2R200_A31_R4_n1_R41n1R41n1R40n1__n5_x193_prod1_rdf5_input.tgz\n",
      "ssh tkemper@peregrine.hpc.nrel.gov ' cd /scratch/tkemper/D1_R2R200_A31_R4_n1_R41n1R41n1R40n1__n5_x193_prod1_rdf5/ ; tar -czf  D1_R2R200_A31_R4_n1_R41n1R41n1R40n1__n5_x193_prod1_rdf5_input.tgz  D1_R2R200_A31_R4_n1_R41n1R41n1R40n1__n5_x193.cply D.list DA.list A.list rdf2.py  ' \n",
      "ssh tkemper@peregrine.hpc.nrel.gov ' cd /scratch/tkemper/D1_R2R200_A31_R4_n1_R41n1R41n1R40n1__n5_x193_prod1_rdf5/ ; cp /scratch/tkemper/D1_R2R200_A31_R4_n1_R41n1R41n1R40n1__n5_x193_prod1_rdf5/D1_R2R200_A31_R4_n1_R41n1R41n1R40n1__n5_x193_prod1_rdf5_input.tgz /mss/users/tkemper/D1_R2R200_A31_R4_n1_R41n1R41n1R40n1__n5_x193_prod1_rdf5/D1_R2R200_A31_R4_n1_R41n1R41n1R40n1__n5_x193_prod1_rdf5_input.tgz  ' \n",
      "Storing scripts files \n",
      "Adding A_A_fs10.pbs \n",
      "Adding D_A_fs10.pbs \n",
      "Adding D_D_fs10.pbs \n",
      "> compressed_file  D1_R2R200_A31_R4_n1_R41n1R41n1R40n1__n5_x193_prod1_rdf5_scripts.tgz\n",
      "ssh tkemper@peregrine.hpc.nrel.gov ' cd /scratch/tkemper/D1_R2R200_A31_R4_n1_R41n1R41n1R40n1__n5_x193_prod1_rdf5/ ; tar -czf  D1_R2R200_A31_R4_n1_R41n1R41n1R40n1__n5_x193_prod1_rdf5_scripts.tgz  A_A_fs10.pbs D_A_fs10.pbs D_D_fs10.pbs  ' \n",
      "ssh tkemper@peregrine.hpc.nrel.gov ' cd /scratch/tkemper/D1_R2R200_A31_R4_n1_R41n1R41n1R40n1__n5_x193_prod1_rdf5/ ; cp /scratch/tkemper/D1_R2R200_A31_R4_n1_R41n1R41n1R40n1__n5_x193_prod1_rdf5/D1_R2R200_A31_R4_n1_R41n1R41n1R40n1__n5_x193_prod1_rdf5_scripts.tgz /mss/users/tkemper/D1_R2R200_A31_R4_n1_R41n1R41n1R40n1__n5_x193_prod1_rdf5/D1_R2R200_A31_R4_n1_R41n1R41n1R40n1__n5_x193_prod1_rdf5_scripts.tgz  ' \n",
      "Storing output files \n",
      "Adding D_D_fs10.dat \n",
      "Adding A_A_fs10.log \n",
      "Adding D_A_fs10.log \n",
      "Adding A_A_fs10.log \n",
      "Adding A_A_fs10.dat \n",
      "Adding D_D_fs10.log \n",
      "Adding D_A_fs10.dat \n",
      "> compressed_file  D1_R2R200_A31_R4_n1_R41n1R41n1R40n1__n5_x193_prod1_rdf5_output.tgz\n",
      "ssh tkemper@peregrine.hpc.nrel.gov ' cd /scratch/tkemper/D1_R2R200_A31_R4_n1_R41n1R41n1R40n1__n5_x193_prod1_rdf5/ ; tar -czf  D1_R2R200_A31_R4_n1_R41n1R41n1R40n1__n5_x193_prod1_rdf5_output.tgz  D_D_fs10.dat A_A_fs10.log D_A_fs10.log A_A_fs10.log A_A_fs10.dat D_D_fs10.log D_A_fs10.dat  ' \n",
      "ssh tkemper@peregrine.hpc.nrel.gov ' cd /scratch/tkemper/D1_R2R200_A31_R4_n1_R41n1R41n1R40n1__n5_x193_prod1_rdf5/ ; cp /scratch/tkemper/D1_R2R200_A31_R4_n1_R41n1R41n1R40n1__n5_x193_prod1_rdf5/D1_R2R200_A31_R4_n1_R41n1R41n1R40n1__n5_x193_prod1_rdf5_output.tgz /mss/users/tkemper/D1_R2R200_A31_R4_n1_R41n1R41n1R40n1__n5_x193_prod1_rdf5/D1_R2R200_A31_R4_n1_R41n1R41n1R40n1__n5_x193_prod1_rdf5_output.tgz  ' \n",
      "No files of type data present\n",
      "runnning store function in /Users/tkemper/Projects/DApolymers/scratch/D1_R2R200_A2_R3_R200R200R201_n5_x197_prod1_rdf5 \n",
      "Storing input files \n",
      "Adding D1_R2R200_A31_R4_n1_R40n1R40n1R42n1__n5_x173.cply \n",
      "Adding D.list \n",
      "Adding DA.list \n",
      "Adding A.list \n",
      "Adding rdf2.py \n",
      "> compressed_file  D1_R2R200_A31_R4_n1_R40n1R40n1R42n1__n5_x173_prod1_rdf5_input.tgz\n",
      "ssh tkemper@peregrine.hpc.nrel.gov ' cd /scratch/tkemper/D1_R2R200_A31_R4_n1_R40n1R40n1R42n1__n5_x173_prod1_rdf5/ ; tar -czf  D1_R2R200_A31_R4_n1_R40n1R40n1R42n1__n5_x173_prod1_rdf5_input.tgz  D1_R2R200_A31_R4_n1_R40n1R40n1R42n1__n5_x173.cply D.list DA.list A.list rdf2.py  ' \n",
      "ssh tkemper@peregrine.hpc.nrel.gov ' cd /scratch/tkemper/D1_R2R200_A31_R4_n1_R40n1R40n1R42n1__n5_x173_prod1_rdf5/ ; cp /scratch/tkemper/D1_R2R200_A31_R4_n1_R40n1R40n1R42n1__n5_x173_prod1_rdf5/D1_R2R200_A31_R4_n1_R40n1R40n1R42n1__n5_x173_prod1_rdf5_input.tgz /mss/users/tkemper/D1_R2R200_A31_R4_n1_R40n1R40n1R42n1__n5_x173_prod1_rdf5/D1_R2R200_A31_R4_n1_R40n1R40n1R42n1__n5_x173_prod1_rdf5_input.tgz  ' \n",
      "Storing scripts files \n",
      "Adding A_A_fs10.pbs \n",
      "Adding D_A_fs10.pbs \n",
      "Adding D_D_fs10.pbs \n",
      "> compressed_file  D1_R2R200_A31_R4_n1_R40n1R40n1R42n1__n5_x173_prod1_rdf5_scripts.tgz\n",
      "ssh tkemper@peregrine.hpc.nrel.gov ' cd /scratch/tkemper/D1_R2R200_A31_R4_n1_R40n1R40n1R42n1__n5_x173_prod1_rdf5/ ; tar -czf  D1_R2R200_A31_R4_n1_R40n1R40n1R42n1__n5_x173_prod1_rdf5_scripts.tgz  A_A_fs10.pbs D_A_fs10.pbs D_D_fs10.pbs  ' \n",
      "ssh tkemper@peregrine.hpc.nrel.gov ' cd /scratch/tkemper/D1_R2R200_A31_R4_n1_R40n1R40n1R42n1__n5_x173_prod1_rdf5/ ; cp /scratch/tkemper/D1_R2R200_A31_R4_n1_R40n1R40n1R42n1__n5_x173_prod1_rdf5/D1_R2R200_A31_R4_n1_R40n1R40n1R42n1__n5_x173_prod1_rdf5_scripts.tgz /mss/users/tkemper/D1_R2R200_A31_R4_n1_R40n1R40n1R42n1__n5_x173_prod1_rdf5/D1_R2R200_A31_R4_n1_R40n1R40n1R42n1__n5_x173_prod1_rdf5_scripts.tgz  ' \n",
      "Storing output files \n",
      "Adding D_D_fs10.dat \n",
      "Adding A_A_fs10.log \n",
      "Adding D_A_fs10.log \n",
      "Adding A_A_fs10.log \n",
      "Adding A_A_fs10.dat \n",
      "Adding D_D_fs10.log \n",
      "Adding D_A_fs10.dat \n",
      "> compressed_file  D1_R2R200_A31_R4_n1_R40n1R40n1R42n1__n5_x173_prod1_rdf5_output.tgz\n",
      "ssh tkemper@peregrine.hpc.nrel.gov ' cd /scratch/tkemper/D1_R2R200_A31_R4_n1_R40n1R40n1R42n1__n5_x173_prod1_rdf5/ ; tar -czf  D1_R2R200_A31_R4_n1_R40n1R40n1R42n1__n5_x173_prod1_rdf5_output.tgz  D_D_fs10.dat A_A_fs10.log D_A_fs10.log A_A_fs10.log A_A_fs10.dat D_D_fs10.log D_A_fs10.dat  ' \n",
      "ssh tkemper@peregrine.hpc.nrel.gov ' cd /scratch/tkemper/D1_R2R200_A31_R4_n1_R40n1R40n1R42n1__n5_x173_prod1_rdf5/ ; cp /scratch/tkemper/D1_R2R200_A31_R4_n1_R40n1R40n1R42n1__n5_x173_prod1_rdf5/D1_R2R200_A31_R4_n1_R40n1R40n1R42n1__n5_x173_prod1_rdf5_output.tgz /mss/users/tkemper/D1_R2R200_A31_R4_n1_R40n1R40n1R42n1__n5_x173_prod1_rdf5/D1_R2R200_A31_R4_n1_R40n1R40n1R42n1__n5_x173_prod1_rdf5_output.tgz  ' \n",
      "No files of type data present\n"
     ]
    }
   ],
   "source": [
    "for tag,calc_i in proj_j.calculations.iteritems():\n",
    "    calc_i.store()\n",
    "\n"
   ]
  },
  {
   "cell_type": "code",
   "execution_count": 76,
   "metadata": {
    "collapsed": false
   },
   "outputs": [
    {
     "name": "stdout",
     "output_type": "stream",
     "text": [
      "output D51_00R300R3_A23_R4__n1wB_R41n1wBR41n1wBR41n1wB__n5_x173_prod1_rdf5_output.tgz\n",
      "bash_command  scp tkemper@peregrine.hpc.nrel.gov:/scratch/tkemper/D51_00R300R3_A23_R4__n1wB_R41n1wBR41n1wBR41n1wB__n5_x173_prod1_rdf5/D51_00R300R3_A23_R4__n1wB_R41n1wBR41n1wBR41n1wB__n5_x173_prod1_rdf5_output.tgz /Users/tkemper/Projects/DApolymers/scratch/D51_00R300R3_A23_R4__n1wB_R41n1wBR41n1wBR41n1wB__n5_x173_prod1_rdf5/ \n"
     ]
    },
    {
     "name": "stderr",
     "output_type": "stream",
     "text": [
      "WARNING:root:No commpressed files for file type data with key compressed \n"
     ]
    },
    {
     "name": "stdout",
     "output_type": "stream",
     "text": [
      "No commpressed files for file type data with key compressed \n",
      "output D1_R2R200_A23_R4_n1_R41n1R41n1R41n1__n5_x193_prod1_rdf5_output.tgz\n",
      "bash_command  scp tkemper@peregrine.hpc.nrel.gov:/scratch/tkemper/D1_R2R200_A23_R4_n1_R41n1R41n1R41n1__n5_x193_prod1_rdf5/D1_R2R200_A23_R4_n1_R41n1R41n1R41n1__n5_x193_prod1_rdf5_output.tgz /Users/tkemper/Projects/DApolymers/scratch/D1_R2R200_A23_R4_n1_R41n1R41n1R41n1__n5_x193_prod1_rdf5/ \n"
     ]
    },
    {
     "name": "stderr",
     "output_type": "stream",
     "text": [
      "WARNING:root:No commpressed files for file type data with key compressed \n"
     ]
    },
    {
     "name": "stdout",
     "output_type": "stream",
     "text": [
      "No commpressed files for file type data with key compressed \n",
      "output D1_R2R200_A2_R3_R200R200R201_n5_x197_prod1_rdf5_output.tgz\n",
      "bash_command  scp tkemper@peregrine.hpc.nrel.gov:/scratch/tkemper/D1_R2R200_A2_R3_R200R200R201_n5_x197_prod1_rdf5/D1_R2R200_A2_R3_R200R200R201_n5_x197_prod1_rdf5_output.tgz /Users/tkemper/Projects/DApolymers/scratch/D1_R2R200_A2_R3_R200R200R201_n5_x197_prod1_rdf5/ \n"
     ]
    },
    {
     "name": "stderr",
     "output_type": "stream",
     "text": [
      "WARNING:root:No commpressed files for file type data with key compressed \n"
     ]
    },
    {
     "name": "stdout",
     "output_type": "stream",
     "text": [
      "No commpressed files for file type data with key compressed \n",
      "output D1_R2R200_A23_R4_n1_R41n1R41n1R40n1__n5_x193_prod1_rdf5_output.tgz\n",
      "bash_command  scp tkemper@peregrine.hpc.nrel.gov:/scratch/tkemper/D1_R2R200_A23_R4_n1_R41n1R41n1R40n1__n5_x193_prod1_rdf5/D1_R2R200_A23_R4_n1_R41n1R41n1R40n1__n5_x193_prod1_rdf5_output.tgz /Users/tkemper/Projects/DApolymers/scratch/D1_R2R200_A23_R4_n1_R41n1R41n1R40n1__n5_x193_prod1_rdf5/ \n"
     ]
    },
    {
     "name": "stderr",
     "output_type": "stream",
     "text": [
      "WARNING:root:No commpressed files for file type data with key compressed \n"
     ]
    },
    {
     "name": "stdout",
     "output_type": "stream",
     "text": [
      "No commpressed files for file type data with key compressed \n",
      "output D1_R2R200_A31_R4_n1_R41n1R41n1R40n1__n5_x193_prod1_rdf5_output.tgz\n",
      "bash_command  scp tkemper@peregrine.hpc.nrel.gov:/scratch/tkemper/D1_R2R200_A31_R4_n1_R41n1R41n1R40n1__n5_x193_prod1_rdf5/D1_R2R200_A31_R4_n1_R41n1R41n1R40n1__n5_x193_prod1_rdf5_output.tgz /Users/tkemper/Projects/DApolymers/scratch/D1_R2R200_A31_R4_n1_R41n1R41n1R40n1__n5_x193_prod1_rdf5/ \n"
     ]
    },
    {
     "name": "stderr",
     "output_type": "stream",
     "text": [
      "WARNING:root:No commpressed files for file type data with key compressed \n"
     ]
    },
    {
     "name": "stdout",
     "output_type": "stream",
     "text": [
      "No commpressed files for file type data with key compressed \n",
      "output D1_R2R200_A31_R4_n1_R40n1R40n1R42n1__n5_x173_prod1_rdf5_output.tgz\n",
      "bash_command  scp tkemper@peregrine.hpc.nrel.gov:/scratch/tkemper/D1_R2R200_A31_R4_n1_R40n1R40n1R42n1__n5_x173_prod1_rdf5/D1_R2R200_A31_R4_n1_R40n1R40n1R42n1__n5_x173_prod1_rdf5_output.tgz /Users/tkemper/Projects/DApolymers/scratch/D1_R2R200_A31_R4_n1_R40n1R40n1R42n1__n5_x173_prod1_rdf5/ \n"
     ]
    },
    {
     "name": "stderr",
     "output_type": "stream",
     "text": [
      "WARNING:root:No commpressed files for file type data with key compressed \n"
     ]
    },
    {
     "name": "stdout",
     "output_type": "stream",
     "text": [
      "No commpressed files for file type data with key compressed \n"
     ]
    }
   ],
   "source": [
    "for tag,calc_i in proj_j.calculations.iteritems():\n",
    "    calc_i.pull()\n",
    "\n"
   ]
  },
  {
   "cell_type": "code",
   "execution_count": 80,
   "metadata": {
    "collapsed": false
   },
   "outputs": [
    {
     "name": "stdout",
     "output_type": "stream",
     "text": [
      "{'D_D_fs10_data': 'D_D_fs10.dat', 'A_A_fs10_log': 'A_A_fs10.log', 'D_A_fs10_log': 'D_A_fs10.log', 'log': 'A_A_fs10.log', 'A_A_fs10_data': 'A_A_fs10.dat', 'D_D_fs10_log': 'D_D_fs10.log', 'compressed': 'D51_00R300R3_A23_R4__n1wB_R41n1wBR41n1wBR41n1wB__n5_x173_prod1_rdf5_output.tgz', 'D_A_fs10_data': 'D_A_fs10.dat'}\n"
     ]
    }
   ],
   "source": [
    "print calc_i.files['output']"
   ]
  },
  {
   "cell_type": "code",
   "execution_count": 87,
   "metadata": {
    "collapsed": false
   },
   "outputs": [
    {
     "name": "stdout",
     "output_type": "stream",
     "text": [
      "/Users/tkemper/Projects/DApolymers/scratch/D51_00R300R3_A23_R4__n1wB_R41n1wBR41n1wBR41n1wB__n5_x173_prod1_rdf5/\n",
      "/Users/tkemper/Projects/DApolymers/scratch/D1_R2R200_A23_R4_n1_R41n1R41n1R41n1__n5_x193_prod1_rdf5/\n",
      "/Users/tkemper/Projects/DApolymers/scratch/D1_R2R200_A2_R3_R200R200R201_n5_x197_prod1_rdf5/\n",
      "/Users/tkemper/Projects/DApolymers/scratch/D1_R2R200_A23_R4_n1_R41n1R41n1R40n1__n5_x193_prod1_rdf5/\n",
      "/Users/tkemper/Projects/DApolymers/scratch/D1_R2R200_A31_R4_n1_R41n1R41n1R40n1__n5_x193_prod1_rdf5/\n",
      "/Users/tkemper/Projects/DApolymers/scratch/D1_R2R200_A31_R4_n1_R40n1R40n1R42n1__n5_x173_prod1_rdf5/\n"
     ]
    }
   ],
   "source": [
    "for tag,calc_i in proj_j.calculations.iteritems():\n",
    "    os.chdir(calc_i.dir['launch'])\n",
    "    print calc_i.dir['launch']\n",
    "    calc_i.rdf_DA = read_dat(calc_i.files['output']['D_A_fs10_data'])\n",
    "    calc_i.rdf_DD = read_dat(calc_i.files['output']['D_D_fs10_data'])\n",
    "    calc_i.rdf_AA = read_dat(calc_i.files['output']['A_A_fs10_data'])    "
   ]
  },
  {
   "cell_type": "code",
   "execution_count": 88,
   "metadata": {
    "collapsed": false,
    "scrolled": true
   },
   "outputs": [
    {
     "name": "stdout",
     "output_type": "stream",
     "text": [
      "BDT-TPD\n",
      "PTB1\n",
      "PTB5\n",
      "PTB4\n",
      "PTB7\n",
      "PCE10\n"
     ]
    },
    {
     "data": {
      "image/png": "[encoded data removed]",
      "text/plain": [
       "<matplotlib.figure.Figure at 0x18861a950>"
      ]
     },
     "metadata": {},
     "output_type": "display_data"
    }
   ],
   "source": [
    "os.chdir('/Users/tkemper/Projects/DApolymers/figures')\n",
    "ms = 3\n",
    "led_x = 0.015\n",
    "led_y = 0.001\n",
    "fontsz_leg = 12\n",
    "fontsz_text = 18\n",
    "\n",
    "\n",
    "fig, ax = plt.subplots(6,sharex=True)\n",
    "#ax.plot(rgy_sq_vals.bin_val,rgy_sq_vals.hist_bin)\n",
    "#ax.bar(rgy_sq_vals.bins_cent, rgy_sq_vals.hist_cent , align='center', width=rgy_sq_vals.bin_size)\n",
    "i = 0\n",
    "for name_i in name_l:\n",
    "    calc_i = None \n",
    "    for tag_i,calc_o in proj_j.calculations.iteritems():\n",
    "        if( calc_o.properties['name'] == name_i  ):\n",
    "            calc_i = calc_o\n",
    "\n",
    "\n",
    "\n",
    "    print calc_i.properties['name']\n",
    "    \n",
    "    ax[i].plot(calc_i.rdf_DA['r'],calc_i.rdf_DA['g_r'],'-k',label=r'DA',ms=ms)\n",
    "    ax[i].plot(calc_i.rdf_DA['r'],calc_i.rdf_AA['g_r'],'--r',label=r'AA',ms=ms)\n",
    "    ax[i].plot(calc_i.rdf_DA['r'],calc_i.rdf_DD['g_r'],'-.b',label=r'DD',ms=ms)\n",
    "\n",
    "\n",
    "    \n",
    "\n",
    "    ax[i].set_xlim(0,15.0)\n",
    "    ax[i].set_ylim(0.0,1.40)\n",
    "    ax[i].text(12.0,1.0,name_i,fontsize=fontsz_text)    \n",
    "    ax[i].set_ylabel(r'$g(r)$',fontsize=fontsz_text)\n",
    "\n",
    "\n",
    "    labels=ax[i].get_yticks().tolist()\n",
    "    labels[-1]=''\n",
    "    ax[i].set_yticklabels(labels)    \n",
    "\n",
    "    i += 1 \n",
    "\n",
    "ax[i-1].set_xlabel(r'$r (\\AA)$',fontsize=fontsz_text)\n",
    "    \n",
    "ax[0].legend(loc=(0.01,0.40),prop={'size':fontsz_leg})\n",
    "fig.subplots_adjust(hspace=0.0)   \n",
    "fig.set_size_inches(8.0, 12.0)\n",
    "\n",
    "        \n",
    "\n",
    "fig.savefig('gr_fs10_v1.pdf',format='pdf')    "
   ]
  },
  {
   "cell_type": "code",
   "execution_count": 89,
   "metadata": {
    "collapsed": false
   },
   "outputs": [
    {
     "name": "stdout",
     "output_type": "stream",
     "text": [
      "BDT-TPD\n",
      "PTB1\n",
      "PTB5\n",
      "PTB4\n",
      "PTB7\n",
      "PCE10\n",
      "BDT-TPD\n",
      "PTB1\n",
      "PTB5\n",
      "PTB4\n",
      "PTB7\n",
      "PCE10\n",
      "BDT-TPD\n",
      "PTB1\n",
      "PTB5\n",
      "PTB4\n",
      "PTB7\n",
      "PCE10\n"
     ]
    },
    {
     "data": {
      "image/png": "[encoded data removed]",
      "text/plain": [
       "<matplotlib.figure.Figure at 0x187f14bd0>"
      ]
     },
     "metadata": {},
     "output_type": "display_data"
    }
   ],
   "source": [
    "os.chdir('/Users/tkemper/Projects/DApolymers/figures')\n",
    "ms = 3\n",
    "led_x = 0.015\n",
    "led_y = 0.001\n",
    "fontsz_leg = 12\n",
    "fontsz_text = 18\n",
    "\n",
    "ltypes = ['-k','--r','-.b',':g','-v','--y']\n",
    "\n",
    "fig, ax = plt.subplots(3,sharex=True)\n",
    "#ax.plot(rgy_sq_vals.bin_val,rgy_sq_vals.hist_bin)\n",
    "#ax.bar(rgy_sq_vals.bins_cent, rgy_sq_vals.hist_cent , align='center', width=rgy_sq_vals.bin_size)\n",
    "i = 0\n",
    "j = 0 \n",
    "for name_i in name_l:\n",
    "    calc_i = None \n",
    "    for tag_i,calc_o in proj_j.calculations.iteritems():\n",
    "        if( calc_o.properties['name'] == name_i  ):\n",
    "            calc_i = calc_o\n",
    "    print calc_i.properties['name']    \n",
    "    ax[i].plot(calc_i.rdf_DA['r'],calc_i.rdf_DA['g_r'],ltypes[j],label=name_i,ms=ms)\n",
    "    j += 1\n",
    "    \n",
    "ax[i].set_xlim(0,15.0)\n",
    "ax[i].set_ylim(0.0,1.40)\n",
    "ax[i].text(10.0,1.2,'donor-donor',fontsize=fontsz_text)    \n",
    "ax[i].set_ylabel(r'$g(r)$',fontsize=fontsz_text)\n",
    "\n",
    "\n",
    "labels=ax[i].get_yticks().tolist()\n",
    "labels[-1]=''\n",
    "ax[i].set_yticklabels(labels)    \n",
    "\n",
    "i += 1 \n",
    "j = 0 \n",
    "for name_i in name_l:\n",
    "    calc_i = None \n",
    "    for tag_i,calc_o in proj_j.calculations.iteritems():\n",
    "        if( calc_o.properties['name'] == name_i  ):\n",
    "            calc_i = calc_o\n",
    "    print calc_i.properties['name']        \n",
    "    ax[i].plot(calc_i.rdf_AA['r'],calc_i.rdf_AA['g_r'],ltypes[j],label=name_i,ms=ms)\n",
    "    j += 1\n",
    "\n",
    "    \n",
    "ax[i].set_xlim(0,15.0)\n",
    "ax[i].set_ylim(0.0,1.40)\n",
    "ax[i].text(9.0,1.2,'acceptor-acceptor',fontsize=fontsz_text)    \n",
    "ax[i].set_ylabel(r'$g(r)$',fontsize=fontsz_text)\n",
    "\n",
    "\n",
    "labels=ax[i].get_yticks().tolist()\n",
    "labels[-1]=''\n",
    "ax[i].set_yticklabels(labels)    \n",
    "\n",
    "i += 1 \n",
    "j = 0 \n",
    "for name_i in name_l:\n",
    "    calc_i = None \n",
    "    for tag_i,calc_o in proj_j.calculations.iteritems():\n",
    "        if( calc_o.properties['name'] == name_i  ):\n",
    "            calc_i = calc_o\n",
    "    print calc_i.properties['name']        \n",
    "    ax[i].plot(calc_i.rdf_DD['r'],calc_i.rdf_DD['g_r'],ltypes[j],label=name_i,ms=ms)\n",
    "    j += 1\n",
    "\n",
    "    \n",
    "ax[i].set_xlim(0,15.0)\n",
    "ax[i].set_ylim(0.0,1.40)\n",
    "ax[i].text(10.0,1.2,'acceptor-donor',fontsize=fontsz_text)    \n",
    "ax[i].set_ylabel(r'$g(r)$',fontsize=fontsz_text)\n",
    "\n",
    "\n",
    "labels=ax[i].get_yticks().tolist()\n",
    "labels[-1]=''\n",
    "ax[i].set_yticklabels(labels)    \n",
    "\n",
    "i += 1 \n",
    "\n",
    "ax[i-1].set_xlabel(r'$r (\\AA)$',fontsize=fontsz_text)\n",
    "ax[0].legend(loc=(0.01,0.40),prop={'size':fontsz_leg})\n",
    "fig.subplots_adjust(hspace=0.0)\n",
    "fig.set_size_inches(8.0, 12.0)\n",
    "\n",
    "fig.savefig('gr_v2.pdf',format='pdf')    "
   ]
  },
  {
   "cell_type": "code",
   "execution_count": null,
   "metadata": {
    "collapsed": true
   },
   "outputs": [],
   "source": []
  },
  {
   "cell_type": "code",
   "execution_count": null,
   "metadata": {
    "collapsed": true
   },
   "outputs": [],
   "source": []
  },
  {
   "cell_type": "code",
   "execution_count": 86,
   "metadata": {
    "collapsed": true
   },
   "outputs": [],
   "source": [
    "proj_j.dir['notebook'] = '/Users/tkemper/Projects/DApolymers/notebooks'\n",
    "for tag,calc_i in proj_j.calculations.iteritems():\n",
    "    calc_i.dir['notebook'] = '/Users/tkemper/Projects/DApolymers/notebooks'"
   ]
  },
  {
   "cell_type": "code",
   "execution_count": 87,
   "metadata": {
    "collapsed": false
   },
   "outputs": [
    {
     "name": "stdout",
     "output_type": "stream",
     "text": [
      "{'files': {u'templates': {u'run': u'streamm_peregrine.pbs', u'compressed': u'D1_R2R200_A2_R3_R200R200R201_n5_x197_prod1_rdf3_templates.tgz'}, u'input': {u'cply': u'D1_R2R200_A2_R3_R200R200R201_n5_x197.cply', u'py_script': u'rdf2.py', u'compressed': u'D1_R2R200_A2_R3_R200R200R201_n5_x197_prod1_rdf3_input.tgz', u'file_D': u'D.list', u'file_DA': u'DA.list', u'file_A': u'A.list'}, u'scripts': {u'run_A_A': u'A_A.pbs', u'run_D_D': u'D_D.pbs', u'run_D_A': u'D_A.pbs', u'run_DA_DA': u'DA_DA.pbs', u'compressed': u'D1_R2R200_A2_R3_R200R200R201_n5_x197_prod1_rdf3_scripts.tgz'}, u'data': {}, u'output': {u'A_A_log': 'A_A.log', u'DA_DA_data': u'DA_DA.dat', 'A_D_log': 'A_D.log', 'log': 'A_A.log', u'D_D_data': u'D_D.dat', 'D_D_dat': 'D_D.dat', u'A_A_data': u'A_A.dat', 'A_A_dat': 'A_A.dat', u'compressed': u'D1_R2R200_A2_R3_R200R200R201_n5_x197_prod1_rdf3_output.tgz', u'D_D_log': 'D_D.log', u'DA_DA_log': u'DA_DA.log', u'D_A_log': u'D_A.log', 'A_D_dat': 'A_D.dat', u'D_A_data': u'D_A.dat'}}, 'meta': {u'date': u'2016-12-28T20:28:45.256499', u'status': 'stored', u'resource': u'peregrine', u'software': u'streamm_calc'}, 'references': {}, 'units': {u'distance': u'angstroms', u'angle': u'radians'}, 'data': {}, 'properties': {u'queue': u'batch', u'compress_sufix': u'tgz', u'comp_key': u'compressed', u'name': u'BDT-TPD', 'frame_step': 10, u'uncompress': u'tar -xzf ', u'scratch': u'/scratch/tkemper/D1_R2R200_A2_R3_R200R200R201_n5_x197_prod1_rdf3/', u'compress': u'tar -czf ', u'ppn': 24, u'finish_str': u'Finished', u'allocation': u'orgopv', u'e-mail': u'travis.kemper@nrel.gov', u'streamm_command': u' \\npython rdf2.py  A_A --cply D1_R2R200_A2_R3_R200R200R201_n5_x197.cply --list_i A.list  --list_j A.list  --dcd prod1_dump.dcd', u'exe_command': u'qsub ', u'run_list': '', u'nproc': 24, u'feature': u'24core', u'nodes': 1, u'walltime': 48, u'pmem': 1500}, 'dir': {u'templates': u'/Users/tkemper/Development/streamm_ext/streamm-tools/templates', u'launch': u'/Users/tkemper/Projects/DApolymers/scratch/D1_R2R200_A2_R3_R200R200R201_n5_x197_prod1_rdf3/', u'scratch': u'/scratch/tkemper/D1_R2R200_A2_R3_R200R200R201_n5_x197_prod1_rdf3/', u'storage': u'/mss/users/tkemper/D1_R2R200_A2_R3_R200R200R201_n5_x197_prod1_rdf3/', 'notebook': '/Users/tkemper/Projects/DApolymers/notebooks', u'materials': u'/Users/tkemper/Projects/DApolymers/materials', u'scripts': u'/Users/tkemper/Development/streamm_ext/streamm-tools/scripts', u'home': u'/Users/tkemper/Projects/DApolymers'}}\n",
      "{'files': {u'templates': {u'run': u'streamm_peregrine.pbs', u'compressed': u'D1_R2R200_A23_R4_n1_R41n1R41n1R41n1__n5_x193_prod1_rdf3_templates.tgz'}, u'input': {u'cply': u'D1_R2R200_A23_R4_n1_R41n1R41n1R41n1__n5_x193.cply', u'py_script': u'rdf2.py', u'compressed': u'D1_R2R200_A23_R4_n1_R41n1R41n1R41n1__n5_x193_prod1_rdf3_input.tgz', u'file_D': u'D.list', u'file_DA': u'DA.list', u'file_A': u'A.list'}, u'scripts': {u'run_A_A': u'A_A.pbs', u'run_D_D': u'D_D.pbs', u'run_D_A': u'D_A.pbs', u'run_DA_DA': u'DA_DA.pbs', u'compressed': u'D1_R2R200_A23_R4_n1_R41n1R41n1R41n1__n5_x193_prod1_rdf3_scripts.tgz'}, u'data': {}, u'output': {u'A_A_log': 'A_A.log', u'DA_DA_data': u'DA_DA.dat', 'A_D_log': 'A_D.log', 'log': 'A_A.log', u'D_D_data': u'D_D.dat', 'D_D_dat': 'D_D.dat', u'A_A_data': u'A_A.dat', 'A_A_dat': 'A_A.dat', u'compressed': u'D1_R2R200_A23_R4_n1_R41n1R41n1R41n1__n5_x193_prod1_rdf3_output.tgz', u'D_D_log': 'D_D.log', u'DA_DA_log': u'DA_DA.log', u'D_A_log': u'D_A.log', 'A_D_dat': 'A_D.dat', u'D_A_data': u'D_A.dat'}}, 'meta': {u'date': u'2016-12-28T20:29:52.419056', u'status': 'stored', u'resource': u'peregrine', u'software': u'streamm_calc'}, 'references': {}, 'units': {u'distance': u'angstroms', u'angle': u'radians'}, 'data': {}, 'properties': {u'queue': u'batch', u'compress_sufix': u'tgz', u'comp_key': u'compressed', u'name': u'PTB7', 'frame_step': 10, u'uncompress': u'tar -xzf ', u'scratch': u'/scratch/tkemper/D1_R2R200_A23_R4_n1_R41n1R41n1R41n1__n5_x193_prod1_rdf3/', u'compress': u'tar -czf ', u'ppn': 24, u'finish_str': u'Finished', u'allocation': u'orgopv', u'e-mail': u'travis.kemper@nrel.gov', u'streamm_command': u' \\npython rdf2.py  A_A --cply D1_R2R200_A23_R4_n1_R41n1R41n1R41n1__n5_x193.cply --list_i A.list  --list_j A.list  --dcd prod1_dump.dcd', u'exe_command': u'qsub ', u'run_list': '', u'nproc': 24, u'feature': u'24core', u'nodes': 1, u'walltime': 48, u'pmem': 1500}, 'dir': {u'templates': u'/Users/tkemper/Development/streamm_ext/streamm-tools/templates', u'launch': u'/Users/tkemper/Projects/DApolymers/scratch/D1_R2R200_A23_R4_n1_R41n1R41n1R41n1__n5_x193_prod1_rdf3/', u'scratch': u'/scratch/tkemper/D1_R2R200_A23_R4_n1_R41n1R41n1R41n1__n5_x193_prod1_rdf3/', u'storage': u'/mss/users/tkemper/D1_R2R200_A23_R4_n1_R41n1R41n1R41n1__n5_x193_prod1_rdf3/', 'notebook': '/Users/tkemper/Projects/DApolymers/notebooks', u'materials': u'/Users/tkemper/Projects/DApolymers/materials', u'scripts': u'/Users/tkemper/Development/streamm_ext/streamm-tools/scripts', u'home': u'/Users/tkemper/Projects/DApolymers'}}\n",
      "{'files': {u'templates': {u'run': u'streamm_peregrine.pbs', u'compressed': u'D51_00R300R3_A23_R4__n1wB_R41n1wBR41n1wBR41n1wB__n5_x173_prod1_rdf3_templates.tgz'}, u'input': {u'cply': u'D51_00R300R3_A23_R4__n1wB_R41n1wBR41n1wBR41n1wB__n5_x173.cply', u'py_script': u'rdf2.py', u'compressed': u'D51_00R300R3_A23_R4__n1wB_R41n1wBR41n1wBR41n1wB__n5_x173_prod1_rdf3_input.tgz', u'file_D': u'D.list', u'file_DA': u'DA.list', u'file_A': u'A.list'}, u'scripts': {u'run_A_A': u'A_A.pbs', u'run_D_D': u'D_D.pbs', u'run_D_A': u'D_A.pbs', u'run_DA_DA': u'DA_DA.pbs', u'compressed': u'D51_00R300R3_A23_R4__n1wB_R41n1wBR41n1wBR41n1wB__n5_x173_prod1_rdf3_scripts.tgz'}, u'data': {}, u'output': {u'A_A_log': 'A_A.log', u'DA_DA_data': u'DA_DA.dat', 'A_D_log': 'A_D.log', 'log': 'A_A.log', u'D_D_data': u'D_D.dat', 'D_D_dat': 'D_D.dat', u'A_A_data': u'A_A.dat', 'A_A_dat': 'A_A.dat', u'compressed': u'D51_00R300R3_A23_R4__n1wB_R41n1wBR41n1wBR41n1wB__n5_x173_prod1_rdf3_output.tgz', u'D_D_log': 'D_D.log', u'DA_DA_log': u'DA_DA.log', u'D_A_log': u'D_A.log', 'A_D_dat': 'A_D.dat', u'D_A_data': u'D_A.dat'}}, 'meta': {u'date': u'2016-12-28T20:29:18.736174', u'status': 'stored', u'resource': u'peregrine', u'software': u'streamm_calc'}, 'references': {}, 'units': {u'distance': u'angstroms', u'angle': u'radians'}, 'data': {}, 'properties': {u'queue': u'batch', u'compress_sufix': u'tgz', u'comp_key': u'compressed', u'name': u'PCE10', 'frame_step': 10, u'uncompress': u'tar -xzf ', u'scratch': u'/scratch/tkemper/D51_00R300R3_A23_R4__n1wB_R41n1wBR41n1wBR41n1wB__n5_x173_prod1_rdf3/', u'compress': u'tar -czf ', u'ppn': 24, u'finish_str': u'Finished', u'allocation': u'orgopv', u'e-mail': u'travis.kemper@nrel.gov', u'streamm_command': u' \\npython rdf2.py  A_A --cply D51_00R300R3_A23_R4__n1wB_R41n1wBR41n1wBR41n1wB__n5_x173.cply --list_i A.list  --list_j A.list  --dcd prod1_dump.dcd', u'exe_command': u'qsub ', u'run_list': '', u'nproc': 24, u'feature': u'24core', u'nodes': 1, u'walltime': 48, u'pmem': 1500}, 'dir': {u'templates': u'/Users/tkemper/Development/streamm_ext/streamm-tools/templates', u'launch': u'/Users/tkemper/Projects/DApolymers/scratch/D51_00R300R3_A23_R4__n1wB_R41n1wBR41n1wBR41n1wB__n5_x173_prod1_rdf3/', u'scratch': u'/scratch/tkemper/D51_00R300R3_A23_R4__n1wB_R41n1wBR41n1wBR41n1wB__n5_x173_prod1_rdf3/', u'storage': u'/mss/users/tkemper/D51_00R300R3_A23_R4__n1wB_R41n1wBR41n1wBR41n1wB__n5_x173_prod1_rdf3/', 'notebook': '/Users/tkemper/Projects/DApolymers/notebooks', u'materials': u'/Users/tkemper/Projects/DApolymers/materials', u'scripts': u'/Users/tkemper/Development/streamm_ext/streamm-tools/scripts', u'home': u'/Users/tkemper/Projects/DApolymers'}}\n",
      "{'files': {u'templates': {u'run': u'streamm_peregrine.pbs', u'compressed': u'D1_R2R200_A23_R4_n1_R41n1R41n1R40n1__n5_x193_prod1_rdf3_templates.tgz'}, u'input': {u'cply': u'D1_R2R200_A23_R4_n1_R41n1R41n1R40n1__n5_x193.cply', u'py_script': u'rdf2.py', u'compressed': u'D1_R2R200_A23_R4_n1_R41n1R41n1R40n1__n5_x193_prod1_rdf3_input.tgz', u'file_D': u'D.list', u'file_DA': u'DA.list', u'file_A': u'A.list'}, u'scripts': {u'run_A_A': u'A_A.pbs', u'run_D_D': u'D_D.pbs', u'run_D_A': u'D_A.pbs', u'run_DA_DA': u'DA_DA.pbs', u'compressed': u'D1_R2R200_A23_R4_n1_R41n1R41n1R40n1__n5_x193_prod1_rdf3_scripts.tgz'}, u'data': {}, u'output': {u'A_A_log': 'A_A.log', u'DA_DA_data': u'DA_DA.dat', 'A_D_log': 'A_D.log', 'log': 'A_A.log', u'D_D_data': u'D_D.dat', 'D_D_dat': 'D_D.dat', u'A_A_data': u'A_A.dat', 'A_A_dat': 'A_A.dat', u'compressed': u'D1_R2R200_A23_R4_n1_R41n1R41n1R40n1__n5_x193_prod1_rdf3_output.tgz', u'D_D_log': 'D_D.log', u'DA_DA_log': u'DA_DA.log', u'D_A_log': u'D_A.log', 'A_D_dat': 'A_D.dat', u'D_A_data': u'D_A.dat'}}, 'meta': {u'date': u'2016-12-28T20:30:25.820886', u'status': 'stored', u'resource': u'peregrine', u'software': u'streamm_calc'}, 'references': {}, 'units': {u'distance': u'angstroms', u'angle': u'radians'}, 'data': {}, 'properties': {u'queue': u'batch', u'compress_sufix': u'tgz', u'comp_key': u'compressed', u'name': u'PTB4', 'frame_step': 10, u'uncompress': u'tar -xzf ', u'scratch': u'/scratch/tkemper/D1_R2R200_A23_R4_n1_R41n1R41n1R40n1__n5_x193_prod1_rdf3/', u'compress': u'tar -czf ', u'ppn': 24, u'finish_str': u'Finished', u'allocation': u'orgopv', u'e-mail': u'travis.kemper@nrel.gov', u'streamm_command': u' \\npython rdf2.py  A_A --cply D1_R2R200_A23_R4_n1_R41n1R41n1R40n1__n5_x193.cply --list_i A.list  --list_j A.list  --dcd prod1_dump.dcd', u'exe_command': u'qsub ', u'run_list': '', u'nproc': 24, u'feature': u'24core', u'nodes': 1, u'walltime': 48, u'pmem': 1500}, 'dir': {u'templates': u'/Users/tkemper/Development/streamm_ext/streamm-tools/templates', u'launch': u'/Users/tkemper/Projects/DApolymers/scratch/D1_R2R200_A23_R4_n1_R41n1R41n1R40n1__n5_x193_prod1_rdf3/', u'scratch': u'/scratch/tkemper/D1_R2R200_A23_R4_n1_R41n1R41n1R40n1__n5_x193_prod1_rdf3/', u'storage': u'/mss/users/tkemper/D1_R2R200_A23_R4_n1_R41n1R41n1R40n1__n5_x193_prod1_rdf3/', 'notebook': '/Users/tkemper/Projects/DApolymers/notebooks', u'materials': u'/Users/tkemper/Projects/DApolymers/materials', u'scripts': u'/Users/tkemper/Development/streamm_ext/streamm-tools/scripts', u'home': u'/Users/tkemper/Projects/DApolymers'}}\n",
      "{'files': {u'templates': {u'run': u'streamm_peregrine.pbs', u'compressed': u'D1_R2R200_A31_R4_n1_R40n1R40n1R42n1__n5_x173_prod1_rdf3_templates.tgz'}, u'input': {u'cply': u'D1_R2R200_A31_R4_n1_R40n1R40n1R42n1__n5_x173.cply', u'py_script': u'rdf2.py', u'compressed': u'D1_R2R200_A31_R4_n1_R40n1R40n1R42n1__n5_x173_prod1_rdf3_input.tgz', u'file_D': u'D.list', u'file_DA': u'DA.list', u'file_A': u'A.list'}, u'scripts': {u'run_A_A': u'A_A.pbs', u'run_D_D': u'D_D.pbs', u'run_D_A': u'D_A.pbs', u'run_DA_DA': u'DA_DA.pbs', u'compressed': u'D1_R2R200_A31_R4_n1_R40n1R40n1R42n1__n5_x173_prod1_rdf3_scripts.tgz'}, u'data': {}, u'output': {u'A_A_log': 'A_A.log', u'DA_DA_data': u'DA_DA.dat', 'A_D_log': 'A_D.log', 'log': 'A_A.log', u'D_D_data': u'D_D.dat', 'D_D_dat': 'D_D.dat', u'A_A_data': u'A_A.dat', 'A_A_dat': 'A_A.dat', u'compressed': u'D1_R2R200_A31_R4_n1_R40n1R40n1R42n1__n5_x173_prod1_rdf3_output.tgz', u'D_D_log': 'D_D.log', u'DA_DA_log': u'DA_DA.log', u'D_A_log': u'D_A.log', 'A_D_dat': 'A_D.dat', u'D_A_data': u'D_A.dat'}}, 'meta': {u'date': u'2016-12-28T20:31:00.697874', u'status': 'stored', u'resource': u'peregrine', u'software': u'streamm_calc'}, 'references': {}, 'units': {u'distance': u'angstroms', u'angle': u'radians'}, 'data': {}, 'properties': {u'queue': u'batch', u'compress_sufix': u'tgz', u'comp_key': u'compressed', u'name': u'PTB1', 'frame_step': 10, u'uncompress': u'tar -xzf ', u'scratch': u'/scratch/tkemper/D1_R2R200_A31_R4_n1_R40n1R40n1R42n1__n5_x173_prod1_rdf3/', u'compress': u'tar -czf ', u'ppn': 24, u'finish_str': u'Finished', u'allocation': u'orgopv', u'e-mail': u'travis.kemper@nrel.gov', u'streamm_command': u' \\npython rdf2.py  A_A --cply D1_R2R200_A31_R4_n1_R40n1R40n1R42n1__n5_x173.cply --list_i A.list  --list_j A.list  --dcd prod1_dump.dcd', u'exe_command': u'qsub ', u'run_list': '', u'nproc': 24, u'feature': u'24core', u'nodes': 1, u'walltime': 48, u'pmem': 1500}, 'dir': {u'templates': u'/Users/tkemper/Development/streamm_ext/streamm-tools/templates', u'launch': u'/Users/tkemper/Projects/DApolymers/scratch/D1_R2R200_A31_R4_n1_R40n1R40n1R42n1__n5_x173_prod1_rdf3/', u'scratch': u'/scratch/tkemper/D1_R2R200_A31_R4_n1_R40n1R40n1R42n1__n5_x173_prod1_rdf3/', u'storage': u'/mss/users/tkemper/D1_R2R200_A31_R4_n1_R40n1R40n1R42n1__n5_x173_prod1_rdf3/', 'notebook': '/Users/tkemper/Projects/DApolymers/notebooks', u'materials': u'/Users/tkemper/Projects/DApolymers/materials', u'scripts': u'/Users/tkemper/Development/streamm_ext/streamm-tools/scripts', u'home': u'/Users/tkemper/Projects/DApolymers'}}\n",
      "{'files': {u'templates': {u'run': u'streamm_peregrine.pbs', u'compressed': u'D1_R2R200_A31_R4_n1_R41n1R41n1R40n1__n5_x193_prod1_rdf3_templates.tgz'}, u'input': {u'cply': u'D1_R2R200_A31_R4_n1_R41n1R41n1R40n1__n5_x193.cply', u'py_script': u'rdf2.py', u'compressed': u'D1_R2R200_A31_R4_n1_R41n1R41n1R40n1__n5_x193_prod1_rdf3_input.tgz', u'file_D': u'D.list', u'file_DA': u'DA.list', u'file_A': u'A.list'}, u'scripts': {u'run_A_A': u'A_A.pbs', u'run_D_D': u'D_D.pbs', u'run_D_A': u'D_A.pbs', u'run_DA_DA': u'DA_DA.pbs', u'compressed': u'D1_R2R200_A31_R4_n1_R41n1R41n1R40n1__n5_x193_prod1_rdf3_scripts.tgz'}, u'data': {}, u'output': {u'A_A_log': 'A_A.log', u'DA_DA_data': u'DA_DA.dat', 'A_D_log': 'A_D.log', 'log': 'A_A.log', u'D_D_data': u'D_D.dat', 'D_D_dat': 'D_D.dat', u'A_A_data': u'A_A.dat', 'A_A_dat': 'A_A.dat', u'compressed': u'D1_R2R200_A31_R4_n1_R41n1R41n1R40n1__n5_x193_prod1_rdf3_output.tgz', u'D_D_log': 'D_D.log', u'DA_DA_log': u'DA_DA.log', u'D_A_log': u'D_A.log', 'A_D_dat': 'A_D.dat', u'D_A_data': u'D_A.dat'}}, 'meta': {u'date': u'2016-12-28T20:31:36.483937', u'status': 'stored', u'resource': u'peregrine', u'software': u'streamm_calc'}, 'references': {}, 'units': {u'distance': u'angstroms', u'angle': u'radians'}, 'data': {}, 'properties': {u'queue': u'batch', u'compress_sufix': u'tgz', u'comp_key': u'compressed', u'name': u'PTB5', 'frame_step': 10, u'uncompress': u'tar -xzf ', u'scratch': u'/scratch/tkemper/D1_R2R200_A31_R4_n1_R41n1R41n1R40n1__n5_x193_prod1_rdf3/', u'compress': u'tar -czf ', u'ppn': 24, u'finish_str': u'Finished', u'allocation': u'orgopv', u'e-mail': u'travis.kemper@nrel.gov', u'streamm_command': u' \\npython rdf2.py  A_A --cply D1_R2R200_A31_R4_n1_R41n1R41n1R40n1__n5_x193.cply --list_i A.list  --list_j A.list  --dcd prod1_dump.dcd', u'exe_command': u'qsub ', u'run_list': '', u'nproc': 24, u'feature': u'24core', u'nodes': 1, u'walltime': 48, u'pmem': 1500}, 'dir': {u'templates': u'/Users/tkemper/Development/streamm_ext/streamm-tools/templates', u'launch': u'/Users/tkemper/Projects/DApolymers/scratch/D1_R2R200_A31_R4_n1_R41n1R41n1R40n1__n5_x193_prod1_rdf3/', u'scratch': u'/scratch/tkemper/D1_R2R200_A31_R4_n1_R41n1R41n1R40n1__n5_x193_prod1_rdf3/', u'storage': u'/mss/users/tkemper/D1_R2R200_A31_R4_n1_R41n1R41n1R40n1__n5_x193_prod1_rdf3/', 'notebook': '/Users/tkemper/Projects/DApolymers/notebooks', u'materials': u'/Users/tkemper/Projects/DApolymers/materials', u'scripts': u'/Users/tkemper/Development/streamm_ext/streamm-tools/scripts', u'home': u'/Users/tkemper/Projects/DApolymers'}}\n"
     ]
    }
   ],
   "source": [
    "for tag,calc_i in proj_j.calculations.iteritems():\n",
    "    os.chdir(calc_i.dir['notebook'])\n",
    "    calc_i.dump_json()\n",
    "os.chdir(proj_j.dir['notebook'])\n",
    "proj_i.dump_json()"
   ]
  },
  {
   "cell_type": "code",
   "execution_count": null,
   "metadata": {
    "collapsed": true
   },
   "outputs": [],
   "source": []
  }
 ],
 "metadata": {
  "anaconda-cloud": {},
  "kernelspec": {
   "display_name": "Python [conda root]",
   "language": "python",
   "name": "conda-root-py"
  },
  "language_info": {
   "codemirror_mode": {
    "name": "ipython",
    "version": 2
   },
   "file_extension": ".py",
   "mimetype": "text/x-python",
   "name": "python",
   "nbconvert_exporter": "python",
   "pygments_lexer": "ipython2",
   "version": "2.7.12"
  }
 },
 "nbformat": 4,
 "nbformat_minor": 1
}
