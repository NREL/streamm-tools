{
 "cells": [
  {
   "cell_type": "code",
   "execution_count": 1,
   "metadata": {
    "collapsed": true
   },
   "outputs": [],
   "source": [
    "# Standard \n",
    "import os, sys , copy ,shutil, logging"
   ]
  },
  {
   "cell_type": "code",
   "execution_count": 2,
   "metadata": {
    "collapsed": true
   },
   "outputs": [],
   "source": [
    "import pandas as pd"
   ]
  },
  {
   "cell_type": "code",
   "execution_count": 3,
   "metadata": {
    "collapsed": true
   },
   "outputs": [],
   "source": [
    "# Import all the streamm modules\n",
    "from streamm import *"
   ]
  },
  {
   "cell_type": "code",
   "execution_count": 4,
   "metadata": {
    "collapsed": true
   },
   "outputs": [],
   "source": [
    "%load_ext autoreload\n",
    "%autoreload 2"
   ]
  },
  {
   "cell_type": "code",
   "execution_count": 5,
   "metadata": {
    "collapsed": false
   },
   "outputs": [
    {
     "name": "stdout",
     "output_type": "stream",
     "text": [
      "Reading in resource json file res_local.json \n"
     ]
    }
   ],
   "source": [
    "res_i = resource.Resource('local')\n",
    "res_i.load_json()"
   ]
  },
  {
   "cell_type": "code",
   "execution_count": 6,
   "metadata": {
    "collapsed": false
   },
   "outputs": [
    {
     "name": "stdout",
     "output_type": "stream",
     "text": [
      "Reading in resource json file res_peregrine.json \n"
     ]
    }
   ],
   "source": [
    "peregrine = resource.Resource('peregrine')\n",
    "peregrine.load_json()"
   ]
  },
  {
   "cell_type": "code",
   "execution_count": null,
   "metadata": {
    "collapsed": true
   },
   "outputs": [],
   "source": [
    "os.chdir('/Users/tkemper/Projects/DApolymers/materials/param_files')\n",
    "gro_i = gromacs.GROMACS('PTB_X')\n",
    "gro_i.read_itp('biaryl_BDT_PTB_X.itp')\n",
    "lmp_i = lammps.LAMMPS('PTB_X_lmp')\n",
    "lmp_i.convert_GROMACS(gro_i)\n",
    "lmp_i.write_param('biaryl_BDT_PTB_X.param')\n",
    "del lmp_i,gro_i"
   ]
  },
  {
   "cell_type": "code",
   "execution_count": 7,
   "metadata": {
    "collapsed": false
   },
   "outputs": [
    {
     "name": "stdout",
     "output_type": "stream",
     "text": [
      "{u'templates': u'/Users/tkemper/Development/streamm_ext/streamm-tools/templates', u'launch': u'/Users/tkemper/Projects/DApolymers/scratch', u'scratch': u'/Users/tkemper/Projects/DApolymers/scratch', u'storage': u'/Users/tkemper/Projects/DApolymers/storage', u'materials': u'/Users/tkemper/Projects/DApolymers/materials', u'scripts': u'/Users/tkemper/Development/streamm_ext/streamm-tools/scripts', u'home': u'/Users/tkemper/Projects/DApolymers'}\n"
     ]
    }
   ],
   "source": [
    "print res_i.dir"
   ]
  },
  {
   "cell_type": "code",
   "execution_count": 8,
   "metadata": {
    "collapsed": false
   },
   "outputs": [],
   "source": [
    "tags = []\n",
    "tags.append('D1_R2R200_A23_R4_n1_R41n1R41n1R40n1__n5')\n",
    "tags.append('D1_R2R200_A23_R4_n1_R41n1R41n1R41n1__n5')\n",
    "tags.append('D1_R2R200_A31_R4_n1_R40n1R40n1R42n1__n5')\n",
    "tags.append('D1_R2R200_A31_R4_n1_R41n1R41n1R40n1__n5')\n",
    "tags.append('D51_00R300R3_A23_R4__n1wB_R41n1wBR41n1wBR41n1wB__n5')"
   ]
  },
  {
   "cell_type": "markdown",
   "metadata": {
    "collapsed": false
   },
   "source": [
    "Process old data files to get know parameters "
   ]
  },
  {
   "cell_type": "code",
   "execution_count": 9,
   "metadata": {
    "collapsed": true
   },
   "outputs": [],
   "source": [
    "os.chdir(res_i.dir['home'])"
   ]
  },
  {
   "cell_type": "code",
   "execution_count": 10,
   "metadata": {
    "collapsed": false
   },
   "outputs": [
    {
     "name": "stdout",
     "output_type": "stream",
     "text": [
      "Resource tag found peregrine \n",
      "Reading in resource json file res_peregrine.json \n",
      "Resource tag found peregrine \n",
      "Reading in resource json file res_peregrine.json \n",
      "Resource tag found peregrine \n",
      "Reading in resource json file res_peregrine.json \n",
      "Resource tag found peregrine \n",
      "Reading in resource json file res_peregrine.json \n",
      "Resource tag found peregrine \n",
      "Reading in resource json file res_peregrine.json \n",
      "Resource tag found peregrine \n",
      "Reading in resource json file res_peregrine.json \n"
     ]
    }
   ],
   "source": [
    "proj_ref = project.Project('DAPpolymers_prod1')\n",
    "proj_ref.load_json()"
   ]
  },
  {
   "cell_type": "code",
   "execution_count": 11,
   "metadata": {
    "collapsed": false
   },
   "outputs": [
    {
     "name": "stdout",
     "output_type": "stream",
     "text": [
      "0 D1_R2R200_A23_R4_n1_R41n1R41n1R40n1__n5_x193_prod1\n",
      "1 D1_R2R200_A31_R4_n1_R40n1R40n1R42n1__n5_x173_prod1\n",
      "2 D1_R2R200_A31_R4_n1_R41n1R41n1R40n1__n5_x193_prod1\n",
      "3 D51_00R300R3_A23_R4__n1wB_R41n1wBR41n1wBR41n1wB__n5_x173_prod1\n",
      "4 D1_R2R200_A23_R4_n1_R41n1R41n1R41n1__n5_x193_prod1\n",
      "5 D1_R2R200_A2_R3_R200R200R201_n5_x197_prod1\n"
     ]
    }
   ],
   "source": [
    "c_cnt = 0\n",
    "for ckey,sim_prod1 in proj_ref.calculations.iteritems():\n",
    "    print c_cnt,sim_prod1.tag\n",
    "    c_cnt += 1     "
   ]
  },
  {
   "cell_type": "code",
   "execution_count": 214,
   "metadata": {
    "collapsed": true
   },
   "outputs": [],
   "source": [
    "def proc_param(sim_prod1):    \n",
    "    \n",
    "    print \"Reading in %s\"%(sim_prod1.files['output']['cply']) \n",
    "    \n",
    "    os.chdir(sim_prod1.dir['launch'])\n",
    "\n",
    "    #prod1_min = lammps.LAMMPS('%s_%s'%(sim_prod1.tag,proj_tag))\n",
    "    sim_prod1.strucC.read_cply(sim_prod1.files['output']['cply'])\n",
    "    sim_prod1.read_data('prod1.data',dtype = \"opls\")\n",
    "    sim_prod1.write_param('%s.param'%(sim_prod1.strucC.tag))\n",
    "    \n",
    "    \n",
    "    return \n",
    "\n"
   ]
  },
  {
   "cell_type": "code",
   "execution_count": 225,
   "metadata": {
    "collapsed": true
   },
   "outputs": [],
   "source": [
    "sim_prod1 = proj_ref.calculations['D1_R2R200_A31_R4_n1_R40n1R40n1R42n1__n5_x173_prod1']"
   ]
  },
  {
   "cell_type": "code",
   "execution_count": 226,
   "metadata": {
    "collapsed": false
   },
   "outputs": [
    {
     "name": "stdout",
     "output_type": "stream",
     "text": [
      "Reading in D1_R2R200_A31_R4_n1_R40n1R40n1R42n1__n5_x173.cply\n"
     ]
    }
   ],
   "source": [
    "proc_param(sim_prod1)"
   ]
  },
  {
   "cell_type": "code",
   "execution_count": null,
   "metadata": {
    "collapsed": false
   },
   "outputs": [],
   "source": [
    "for ckey,sim_prod1 in proj_ref.calculations.iteritems():\n",
    "    proc_param(sim_prod1)"
   ]
  },
  {
   "cell_type": "code",
   "execution_count": null,
   "metadata": {
    "collapsed": false
   },
   "outputs": [],
   "source": [
    "for ckey,sim_prod1 in proj_ref.calculations.iteritems():\n",
    "    print sim_prod1.tag,sim_prod1.paramC.n_ljtypes,sim_prod1.paramC.n_angletypes,sim_prod1.paramC.n_dihtypes"
   ]
  },
  {
   "cell_type": "markdown",
   "metadata": {},
   "source": [
    "Read in parameters from initial file "
   ]
  },
  {
   "cell_type": "code",
   "execution_count": 57,
   "metadata": {
    "collapsed": true
   },
   "outputs": [],
   "source": [
    "os.chdir('/Users/tkemper/Projects/DApolymers/materials/param_files')"
   ]
  },
  {
   "cell_type": "code",
   "execution_count": 58,
   "metadata": {
    "collapsed": true
   },
   "outputs": [],
   "source": [
    "lmp_BDTX = lammps.LAMMPS('BDTX')"
   ]
  },
  {
   "cell_type": "code",
   "execution_count": 59,
   "metadata": {
    "collapsed": true
   },
   "outputs": [],
   "source": [
    "lmp_BDTX.read_param('biaryl_BDT_PTB_X.param')"
   ]
  },
  {
   "cell_type": "code",
   "execution_count": 61,
   "metadata": {
    "collapsed": false
   },
   "outputs": [
    {
     "name": "stdout",
     "output_type": "stream",
     "text": [
      " 15 66 179 130\n"
     ]
    }
   ],
   "source": [
    "print lmp_BDTX.paramC.n_ljtypes,lmp_BDTX.paramC.n_bondtypes,lmp_BDTX.paramC.n_angletypes,lmp_BDTX.paramC.n_dihtypes"
   ]
  },
  {
   "cell_type": "code",
   "execution_count": 78,
   "metadata": {
    "collapsed": true
   },
   "outputs": [],
   "source": [
    "BDTX_param = lmp_BDTX.paramC"
   ]
  },
  {
   "cell_type": "markdown",
   "metadata": {},
   "source": [
    "Read in D1 A2 for the dihedral parameters "
   ]
  },
  {
   "cell_type": "code",
   "execution_count": 12,
   "metadata": {
    "collapsed": true
   },
   "outputs": [],
   "source": [
    "sim_prod1 = proj_ref.calculations['D1_R2R200_A2_R3_R200R200R201_n5_x197_prod1']"
   ]
  },
  {
   "cell_type": "code",
   "execution_count": 14,
   "metadata": {
    "collapsed": false
   },
   "outputs": [],
   "source": [
    "os.chdir(sim_prod1.dir['launch'])"
   ]
  },
  {
   "cell_type": "code",
   "execution_count": 17,
   "metadata": {
    "collapsed": false
   },
   "outputs": [],
   "source": [
    "sim_prod1.read_param('%s.param'%('D1_R2R200_A2_R3_R200R200R201_n5_x197'))"
   ]
  },
  {
   "cell_type": "code",
   "execution_count": 18,
   "metadata": {
    "collapsed": false
   },
   "outputs": [
    {
     "name": "stdout",
     "output_type": "stream",
     "text": [
      "13 21 44 77\n"
     ]
    }
   ],
   "source": [
    "print sim_prod1.paramC.n_ljtypes,sim_prod1.paramC.n_bondtypes,sim_prod1.paramC.n_angletypes,sim_prod1.paramC.n_dihtypes"
   ]
  },
  {
   "cell_type": "code",
   "execution_count": 19,
   "metadata": {
    "collapsed": true
   },
   "outputs": [],
   "source": [
    "param_D1A2  = copy.deepcopy(sim_prod1.paramC)"
   ]
  },
  {
   "cell_type": "code",
   "execution_count": null,
   "metadata": {
    "collapsed": false
   },
   "outputs": [],
   "source": [
    "for dtkey_i, dihtype_i  in param_D1A2.dihtypes.iteritems():   \n",
    "    param_lines = \"%s %s %s %s  %s\"%(dihtype_i.fftype1,dihtype_i.fftype2,dihtype_i.fftype3,dihtype_i.fftype4 ,dihtype_i.type)\n",
    "    if( dihtype_i.type == \"multiharmonic\"):\n",
    "                    K = dihtype_i.kb\n",
    "                    n = dihtype_i.mult\n",
    "                    d = dihtype_i.theat_s\n",
    "                    w = 0.0 # Weight\n",
    "                    p = dihtype_i.paths\n",
    "                    param_lines += \" %f %d %f %d %f \\n\"%(K,n,d,w,p)\n",
    "    print param_lines"
   ]
  },
  {
   "cell_type": "markdown",
   "metadata": {},
   "source": [
    "Test minimize oligomers with parameters "
   ]
  },
  {
   "cell_type": "code",
   "execution_count": 20,
   "metadata": {
    "collapsed": true
   },
   "outputs": [],
   "source": [
    "os.chdir(res_i.dir['materials']+'/oligomers_wRES')"
   ]
  },
  {
   "cell_type": "markdown",
   "metadata": {
    "collapsed": true
   },
   "source": [
    "tag_i = tags[-1]\n",
    "wRES_bb = buildingblock.Container(tag_i)\n",
    "wRES_bb.read_cply()\n",
    "wRES_bb.write_xyz('t3.xyz')\n",
    "wRES_bb.lat_cubic(1000.0)\n",
    "wRES_bb.write_xyz('t4.xyz')"
   ]
  },
  {
   "cell_type": "code",
   "execution_count": 21,
   "metadata": {
    "collapsed": false
   },
   "outputs": [],
   "source": [
    "wRES_oligos = dict()\n",
    "for tag_i in tags:\n",
    "    bb_i = buildingblock.Container(tag_i)\n",
    "    bb_i.read_cply()\n",
    "    bb_i.lat_cubic(1000.0)\n",
    "    wRES_oligos[tag_i] = copy.deepcopy(bb_i)"
   ]
  },
  {
   "cell_type": "markdown",
   "metadata": {},
   "source": [
    "Check parameters "
   ]
  },
  {
   "cell_type": "code",
   "execution_count": 11,
   "metadata": {
    "collapsed": false
   },
   "outputs": [
    {
     "name": "stdout",
     "output_type": "stream",
     "text": [
      "0 D1_R2R200_A23_R4_n1_R41n1R41n1R40n1__n5_x193_prod1\n",
      "1 D1_R2R200_A31_R4_n1_R40n1R40n1R42n1__n5_x173_prod1\n",
      "2 D1_R2R200_A31_R4_n1_R41n1R41n1R40n1__n5_x193_prod1\n",
      "3 D51_00R300R3_A23_R4__n1wB_R41n1wBR41n1wBR41n1wB__n5_x173_prod1\n",
      "4 D1_R2R200_A23_R4_n1_R41n1R41n1R41n1__n5_x193_prod1\n",
      "5 D1_R2R200_A2_R3_R200R200R201_n5_x197_prod1\n"
     ]
    }
   ],
   "source": [
    "c_cnt = 0\n",
    "for ckey,sim_prod1 in proj_ref.calculations.iteritems():\n",
    "    print c_cnt,sim_prod1.tag\n",
    "    c_cnt += 1     "
   ]
  },
  {
   "cell_type": "code",
   "execution_count": 22,
   "metadata": {
    "collapsed": false
   },
   "outputs": [
    {
     "name": "stdout",
     "output_type": "stream",
     "text": [
      "['D1_R2R200_A31_R4_n1_R40n1R40n1R42n1__n5', 'D1_R2R200_A23_R4_n1_R41n1R41n1R40n1__n5', 'D1_R2R200_A23_R4_n1_R41n1R41n1R41n1__n5', 'D51_00R300R3_A23_R4__n1wB_R41n1wBR41n1wBR41n1wB__n5', 'D1_R2R200_A31_R4_n1_R41n1R41n1R40n1__n5']\n"
     ]
    }
   ],
   "source": [
    "print wRES_oligos.keys()"
   ]
  },
  {
   "cell_type": "code",
   "execution_count": 251,
   "metadata": {
    "collapsed": true
   },
   "outputs": [],
   "source": [
    "proj_tag = 'min2'"
   ]
  },
  {
   "cell_type": "code",
   "execution_count": null,
   "metadata": {
    "collapsed": true
   },
   "outputs": [],
   "source": []
  },
  {
   "cell_type": "code",
   "execution_count": 351,
   "metadata": {
    "collapsed": true
   },
   "outputs": [],
   "source": [
    "sim_prod1 = proj_ref.calculations['D1_R2R200_A31_R4_n1_R40n1R40n1R42n1__n5_x173_prod1']"
   ]
  },
  {
   "cell_type": "code",
   "execution_count": 352,
   "metadata": {
    "collapsed": true
   },
   "outputs": [],
   "source": [
    "sim_prod1.strucC.tag = 'D1_R2R200_A31_R4_n1_R40n1R40n1R42n1__n5_x173'"
   ]
  },
  {
   "cell_type": "code",
   "execution_count": 353,
   "metadata": {
    "collapsed": true
   },
   "outputs": [],
   "source": [
    "oligo_i = wRES_oligos['D1_R2R200_A31_R4_n1_R40n1R40n1R42n1__n5']"
   ]
  },
  {
   "cell_type": "code",
   "execution_count": 354,
   "metadata": {
    "collapsed": true
   },
   "outputs": [],
   "source": [
    "os.chdir(sim_prod1.dir['launch'])"
   ]
  },
  {
   "cell_type": "code",
   "execution_count": 355,
   "metadata": {
    "collapsed": false
   },
   "outputs": [],
   "source": [
    "lmp_oligo = lammps.LAMMPS('%s_%s'%(oligo_i.tag,proj_tag))"
   ]
  },
  {
   "cell_type": "code",
   "execution_count": 356,
   "metadata": {
    "collapsed": false
   },
   "outputs": [],
   "source": [
    "lmp_oligo.set_resource(res_i)\n",
    "lmp_oligo.properties['scratch'] = lmp_oligo.dir['scratch']"
   ]
  },
  {
   "cell_type": "code",
   "execution_count": 357,
   "metadata": {
    "collapsed": false
   },
   "outputs": [
    {
     "data": {
      "text/plain": [
       "'/Users/tkemper/Projects/DApolymers/scratch/D1_R2R200_A31_R4_n1_R40n1R40n1R42n1__n5_x173_prod1'"
      ]
     },
     "execution_count": 357,
     "metadata": {},
     "output_type": "execute_result"
    }
   ],
   "source": [
    "os.getcwd()"
   ]
  },
  {
   "cell_type": "code",
   "execution_count": 358,
   "metadata": {
    "collapsed": false
   },
   "outputs": [],
   "source": [
    "lmp_oligo.read_param('%s.param'%(sim_prod1.strucC.tag))"
   ]
  },
  {
   "cell_type": "code",
   "execution_count": 359,
   "metadata": {
    "collapsed": false
   },
   "outputs": [
    {
     "name": "stdout",
     "output_type": "stream",
     "text": [
      "12 20 43 80\n"
     ]
    }
   ],
   "source": [
    "print lmp_oligo.paramC.n_ljtypes,lmp_oligo.paramC.n_bondtypes,lmp_oligo.paramC.n_angletypes,lmp_oligo.paramC.n_dihtypes"
   ]
  },
  {
   "cell_type": "code",
   "execution_count": 360,
   "metadata": {
    "collapsed": false
   },
   "outputs": [],
   "source": [
    "lmp_oligo.make_dir()"
   ]
  },
  {
   "cell_type": "code",
   "execution_count": 361,
   "metadata": {
    "collapsed": true
   },
   "outputs": [],
   "source": [
    "lmp_oligo.add_strucC(oligo_i)"
   ]
  },
  {
   "cell_type": "code",
   "execution_count": 363,
   "metadata": {
    "collapsed": true
   },
   "outputs": [],
   "source": [
    "os.chdir(lmp_oligo.dir['scratch'])"
   ]
  },
  {
   "cell_type": "code",
   "execution_count": 364,
   "metadata": {
    "collapsed": false
   },
   "outputs": [
    {
     "name": "stdout",
     "output_type": "stream",
     "text": [
      "/Users/tkemper/Projects/DApolymers/scratch/D1_R2R200_A31_R4_n1_R40n1R40n1R42n1__n5_min2\n"
     ]
    }
   ],
   "source": [
    "print os.getcwd()"
   ]
  },
  {
   "cell_type": "code",
   "execution_count": 365,
   "metadata": {
    "collapsed": true
   },
   "outputs": [],
   "source": [
    "set_inter = True \n",
    "if( set_inter ):\n",
    "    lmp_oligo.strucC.bonded_bonds()\n",
    "    lmp_oligo.strucC.bonded_angles()\n",
    "    lmp_oligo.strucC.bonded_dih()"
   ]
  },
  {
   "cell_type": "code",
   "execution_count": 366,
   "metadata": {
    "collapsed": false
   },
   "outputs": [
    {
     "ename": "TypeError",
     "evalue": " No Bond parameters were found for bond type CP-CP ",
     "output_type": "error",
     "traceback": [
      "\u001b[0;31m---------------------------------------------------------------------------\u001b[0m",
      "\u001b[0;31mTypeError\u001b[0m                                 Traceback (most recent call last)",
      "\u001b[0;32m<ipython-input-366-3975f6769269>\u001b[0m in \u001b[0;36m<module>\u001b[0;34m()\u001b[0m\n\u001b[0;32m----> 1\u001b[0;31m \u001b[0mlmp_oligo\u001b[0m\u001b[0;34m.\u001b[0m\u001b[0mset_ffparam\u001b[0m\u001b[0;34m(\u001b[0m\u001b[0;34m)\u001b[0m\u001b[0;34m\u001b[0m\u001b[0m\n\u001b[0m",
      "\u001b[0;32m/Users/tkemper/Development/streamm_ext/streamm-tools/streamm/calculation.pyc\u001b[0m in \u001b[0;36mset_ffparam\u001b[0;34m(self)\u001b[0m\n\u001b[1;32m    588\u001b[0m                 \u001b[0;32mif\u001b[0m\u001b[0;34m(\u001b[0m \u001b[0mcnt_check\u001b[0m \u001b[0;34m<\u001b[0m \u001b[0;36m1\u001b[0m \u001b[0;34m)\u001b[0m\u001b[0;34m:\u001b[0m\u001b[0;34m\u001b[0m\u001b[0m\n\u001b[1;32m    589\u001b[0m                     \u001b[0mself\u001b[0m\u001b[0;34m.\u001b[0m\u001b[0mparamC\u001b[0m \u001b[0;34m=\u001b[0m \u001b[0mself\u001b[0m\u001b[0;34m.\u001b[0m\u001b[0mparamC_o\u001b[0m\u001b[0;34m\u001b[0m\u001b[0m\n\u001b[0;32m--> 590\u001b[0;31m                     \u001b[0;32mraise\u001b[0m \u001b[0mTypeError\u001b[0m\u001b[0;34m(\u001b[0m\u001b[0;34m\" No Bond parameters were found for bond type %s-%s \"\u001b[0m\u001b[0;34m%\u001b[0m\u001b[0;34m(\u001b[0m\u001b[0mfftype_i\u001b[0m\u001b[0;34m,\u001b[0m\u001b[0mfftype_j\u001b[0m\u001b[0;34m)\u001b[0m\u001b[0;34m)\u001b[0m\u001b[0;34m\u001b[0m\u001b[0m\n\u001b[0m\u001b[1;32m    591\u001b[0m                 \u001b[0;32melif\u001b[0m\u001b[0;34m(\u001b[0m \u001b[0mcnt_check\u001b[0m \u001b[0;34m>\u001b[0m \u001b[0;36m1\u001b[0m \u001b[0;34m)\u001b[0m\u001b[0;34m:\u001b[0m\u001b[0;34m\u001b[0m\u001b[0m\n\u001b[1;32m    592\u001b[0m                     \u001b[0mlogger\u001b[0m\u001b[0;34m.\u001b[0m\u001b[0mwarning\u001b[0m\u001b[0;34m(\u001b[0m\u001b[0;34m\" %d  Bond parameters were found for bond type %s-%s \"\u001b[0m\u001b[0;34m%\u001b[0m\u001b[0;34m(\u001b[0m\u001b[0mcnt_check\u001b[0m\u001b[0;34m,\u001b[0m\u001b[0mfftype_i\u001b[0m\u001b[0;34m,\u001b[0m\u001b[0mfftype_j\u001b[0m\u001b[0;34m)\u001b[0m\u001b[0;34m)\u001b[0m\u001b[0;34m\u001b[0m\u001b[0m\n",
      "\u001b[0;31mTypeError\u001b[0m:  No Bond parameters were found for bond type CP-CP "
     ]
    }
   ],
   "source": [
    "lmp_oligo.set_ffparam()"
   ]
  },
  {
   "cell_type": "code",
   "execution_count": 342,
   "metadata": {
    "collapsed": false
   },
   "outputs": [
    {
     "name": "stdout",
     "output_type": "stream",
     "text": [
      "D51_00R300R3_A23_R4__n1wB_R41n1wBR41n1wBR41n1wB__n5\n"
     ]
    }
   ],
   "source": [
    "print lmp_oligo.strucC.tag"
   ]
  },
  {
   "cell_type": "code",
   "execution_count": 343,
   "metadata": {
    "collapsed": false
   },
   "outputs": [],
   "source": [
    "lmp_oligo.write_param('%s.param'%(lmp_oligo.strucC.tag))"
   ]
  },
  {
   "cell_type": "code",
   "execution_count": 344,
   "metadata": {
    "collapsed": false
   },
   "outputs": [
    {
     "name": "stdout",
     "output_type": "stream",
     "text": [
      "> in cp_file  templates in lammps_min.in templates scratch\n",
      "copying /Users/tkemper/Development/streamm_ext/streamm-tools/templates/lammps_min.in to /Users/tkemper/Projects/DApolymers/scratch/D51_00R300R3_A23_R4__n1wB_R41n1wBR41n1wBR41n1wB__n5_min2/lammps_min.in \n",
      "> in cp_file  templates run lammps.sh templates launch\n",
      "copying /Users/tkemper/Development/streamm_ext/streamm-tools/templates/lammps.sh to /Users/tkemper/Projects/DApolymers/scratch/D51_00R300R3_A23_R4__n1wB_R41n1wBR41n1wBR41n1wB__n5_min2/lammps.sh \n"
     ]
    }
   ],
   "source": [
    "\n",
    "add_in = True \n",
    "if( add_in ):\n",
    "    file_type = 'templates'\n",
    "    file_key = 'in'\n",
    "    file_name = \"lammps_min.in\"\n",
    "    from_dirkey = 'templates'\n",
    "    to_dirkey = 'scratch'\n",
    "    lmp_oligo.cp_file(file_type,file_key,file_name,from_dirkey,to_dirkey)\n",
    "\n",
    "add_in = True \n",
    "if( add_in ):\n",
    "    file_type = 'templates'\n",
    "    file_key = 'run'\n",
    "    file_name = \"lammps.sh\"\n",
    "    from_dirkey = 'templates'\n",
    "    to_dirkey = 'launch'\n",
    "    lmp_oligo.cp_file(file_type,file_key,file_name,from_dirkey,to_dirkey)"
   ]
  },
  {
   "cell_type": "code",
   "execution_count": 345,
   "metadata": {
    "collapsed": false
   },
   "outputs": [],
   "source": [
    "add_in = True \n",
    "if( add_in ):\n",
    "    lmp_oligo.write_data()   \n",
    "\n",
    "    lmp_oligo.load_str('templates','in')\n",
    "    lmp_oligo.load_str('templates','run')\n",
    "    \n",
    "    lmp_oligo.replacewrite_prop('in','input','in','%s.in'%(lmp_oligo.tag))\n",
    "    lmp_oligo.properties['input_in'] = lmp_oligo.files['input']['in']\n",
    "    lmp_oligo.replacewrite_prop('run','scripts','run','%s.pbs'%(lmp_oligo.tag))\n",
    "\n",
    "    file_type = 'output'\n",
    "    file_key = 'log'\n",
    "    file_name = \"%s.log\"%(lmp_oligo.tag)\n",
    "    lmp_oligo.add_file(file_type,file_key,file_name)\n",
    "        "
   ]
  },
  {
   "cell_type": "code",
   "execution_count": 346,
   "metadata": {
    "collapsed": false
   },
   "outputs": [
    {
     "name": "stdout",
     "output_type": "stream",
     "text": [
      "Calculation with status written \n",
      "Resource type local \n",
      "Executing run command ./D51_00R300R3_A23_R4__n1wB_R41n1wBR41n1wBR41n1wB__n5_min2.pbs \n"
     ]
    }
   ],
   "source": [
    "lmp_oligo.run()"
   ]
  },
  {
   "cell_type": "code",
   "execution_count": 347,
   "metadata": {
    "collapsed": false
   },
   "outputs": [
    {
     "name": "stdout",
     "output_type": "stream",
     "text": [
      "finished\n"
     ]
    }
   ],
   "source": [
    "lmp_oligo.check()\n",
    "print lmp_oligo.meta['status']"
   ]
  },
  {
   "cell_type": "code",
   "execution_count": 348,
   "metadata": {
    "collapsed": false
   },
   "outputs": [
    {
     "name": "stdout",
     "output_type": "stream",
     "text": [
      ">  using mdrun with len 1 \n",
      " Adding thermo keys from line: Step Temp PotEng TotEng Press Volume Lx Ly Lz E_bond E_angle E_dihed E_impro E_vdwl E_coul E_long E_tail \n",
      " \n",
      "> col  0 ['0', '0', '121.5308', '121.5308', '-0.0041729942', '1e+09', '1000', '1000', '1000', '10.017539', '172.44273', '105.5209', '0', '-107.02231', '80.815352', '-140.2434', '0']\n",
      "1 9823u  [0.0]\n",
      "> col  1 ['4', '0', '119.41026', '119.41026', '-0.014393332', '1e+09', '1000', '1000', '1000', '10.485144', '170.95678', '104.95118', '0', '-107.06089', '80.321599', '-140.24356', '0']\n",
      "2 9823u  [0.0, 4.0]\n",
      " Calc 0 finished \n"
     ]
    }
   ],
   "source": [
    "lmp_oligo.analysis()"
   ]
  },
  {
   "cell_type": "code",
   "execution_count": 349,
   "metadata": {
    "collapsed": false
   },
   "outputs": [
    {
     "name": "stdout",
     "output_type": "stream",
     "text": [
      "runnning store function in /Users/tkemper/Projects/DApolymers/scratch/D51_00R300R3_A23_R4__n1wB_R41n1wBR41n1wBR41n1wB__n5_min2 \n",
      "Storing input files \n",
      " file_i  D51_00R300R3_A23_R4__n1wB_R41n1wBR41n1wBR41n1wB__n5_min2.data\n",
      " file_i  D51_00R300R3_A23_R4__n1wB_R41n1wBR41n1wBR41n1wB__n5_min2.in\n",
      "> compressed_file  D51_00R300R3_A23_R4__n1wB_R41n1wBR41n1wBR41n1wB__n5_min2_input.tgz\n",
      "Storing scripts files \n",
      " file_i  D51_00R300R3_A23_R4__n1wB_R41n1wBR41n1wBR41n1wB__n5_min2.pbs\n",
      "> compressed_file  D51_00R300R3_A23_R4__n1wB_R41n1wBR41n1wBR41n1wB__n5_min2_scripts.tgz\n",
      "Storing output files \n",
      " file_i  min1.xyz\n",
      " file_i  min1.data\n",
      " file_i  D51_00R300R3_A23_R4__n1wB_R41n1wBR41n1wBR41n1wB__n5_min2.log\n",
      " file_i  min1.cply\n",
      "> compressed_file  D51_00R300R3_A23_R4__n1wB_R41n1wBR41n1wBR41n1wB__n5_min2_output.tgz\n",
      "Storing data files \n",
      " file_i  min1_restart.*\n",
      "> compressed_file  D51_00R300R3_A23_R4__n1wB_R41n1wBR41n1wBR41n1wB__n5_min2_data.tgz\n"
     ]
    }
   ],
   "source": [
    "lmp_oligo.store()"
   ]
  },
  {
   "cell_type": "code",
   "execution_count": 350,
   "metadata": {
    "collapsed": true
   },
   "outputs": [],
   "source": [
    "del lmp_oligo,oligo_i,sim_prod1"
   ]
  },
  {
   "cell_type": "markdown",
   "metadata": {},
   "source": [
    "Correct labels for D1 A31 R40R40R42"
   ]
  },
  {
   "cell_type": "code",
   "execution_count": 368,
   "metadata": {
    "collapsed": false
   },
   "outputs": [
    {
     "name": "stdout",
     "output_type": "stream",
     "text": [
      "C7\n",
      "C15\n"
     ]
    }
   ],
   "source": [
    "print lmp_oligo.strucC.particles[6].properties[\"label\"]\n",
    "print lmp_oligo.strucC.particles[486].properties[\"label\"]"
   ]
  },
  {
   "cell_type": "code",
   "execution_count": 367,
   "metadata": {
    "collapsed": true
   },
   "outputs": [],
   "source": [
    "for pkey_i, particle_i  in lmp_oligo.strucC.particles.iteritems():\n",
    "    if( particle_i.properties[\"label\"] in ['C7','C11','C13','C15'] ):\n",
    "        particle_i.properties[\"fftype\"] = 'C!'\n",
    "\n",
    "lmp_oligo.strucC.particles[6].properties[\"fftype\"] = 'CP'\n",
    "lmp_oligo.strucC.particles[486].properties[\"fftype\"] = 'CP'\n"
   ]
  },
  {
   "cell_type": "code",
   "execution_count": null,
   "metadata": {
    "collapsed": true
   },
   "outputs": [],
   "source": []
  },
  {
   "cell_type": "code",
   "execution_count": 177,
   "metadata": {
    "collapsed": true
   },
   "outputs": [],
   "source": [
    "for tkey_i, type_i  in param_D1A2.angletypes.iteritems():   \n",
    "    lmp_oligo.paramC.add_angletype(type_i)"
   ]
  },
  {
   "cell_type": "code",
   "execution_count": 293,
   "metadata": {
    "collapsed": true
   },
   "outputs": [],
   "source": [
    "for tkey_i, type_i  in BDTX_param.angletypes.iteritems():   \n",
    "    lmp_oligo.paramC.add_angletype(type_i)"
   ]
  },
  {
   "cell_type": "code",
   "execution_count": 207,
   "metadata": {
    "collapsed": true
   },
   "outputs": [],
   "source": [
    "for tkey_i, type_i  in param_D1A2.dihtypes.iteritems():   \n",
    "    lmp_oligo.paramC.add_dihtype(type_i)"
   ]
  },
  {
   "cell_type": "code",
   "execution_count": 294,
   "metadata": {
    "collapsed": true
   },
   "outputs": [],
   "source": [
    "for tkey_i, type_i  in BDTX_param.dihtypes.iteritems():   \n",
    "    lmp_oligo.paramC.add_dihtype(type_i)"
   ]
  },
  {
   "cell_type": "code",
   "execution_count": null,
   "metadata": {
    "collapsed": true
   },
   "outputs": [],
   "source": []
  },
  {
   "cell_type": "code",
   "execution_count": null,
   "metadata": {
    "collapsed": true
   },
   "outputs": [],
   "source": []
  },
  {
   "cell_type": "code",
   "execution_count": 24,
   "metadata": {
    "collapsed": true
   },
   "outputs": [],
   "source": [
    "oligo_i = wRES_oligos['D1_R2R200_A31_R4_n1_R40n1R40n1R42n1__n5']"
   ]
  },
  {
   "cell_type": "code",
   "execution_count": 25,
   "metadata": {
    "collapsed": false
   },
   "outputs": [
    {
     "name": "stdout",
     "output_type": "stream",
     "text": [
      "D1_R2R200_A31_R4_n1_R40n1R40n1R42n1__n5\n"
     ]
    }
   ],
   "source": [
    "print oligo_i.tag "
   ]
  },
  {
   "cell_type": "code",
   "execution_count": 26,
   "metadata": {
    "collapsed": true
   },
   "outputs": [],
   "source": [
    "sim_prod1 = proj_ref.calculations['D1_R2R200_A31_R4_n1_R40n1R40n1R42n1__n5_x173_prod1']"
   ]
  },
  {
   "cell_type": "code",
   "execution_count": 32,
   "metadata": {
    "collapsed": true
   },
   "outputs": [],
   "source": [
    "sim_prod1.strucC.tag = 'D1_R2R200_A31_R4_n1_R40n1R40n1R42n1__n5_x173'"
   ]
  },
  {
   "cell_type": "code",
   "execution_count": 35,
   "metadata": {
    "collapsed": false
   },
   "outputs": [
    {
     "name": "stdout",
     "output_type": "stream",
     "text": [
      "/Users/tkemper/Projects/DApolymers/scratch/D1_R2R200_A31_R4_n1_R40n1R40n1R42n1__n5_x173_prod1/\n"
     ]
    }
   ],
   "source": [
    "print sim_prod1.dir['launch']"
   ]
  },
  {
   "cell_type": "code",
   "execution_count": 36,
   "metadata": {
    "collapsed": true
   },
   "outputs": [],
   "source": [
    "os.chdir(sim_prod1.dir['launch'])"
   ]
  },
  {
   "cell_type": "code",
   "execution_count": null,
   "metadata": {
    "collapsed": true
   },
   "outputs": [],
   "source": [
    "del lmp_oligo"
   ]
  },
  {
   "cell_type": "code",
   "execution_count": 28,
   "metadata": {
    "collapsed": false
   },
   "outputs": [],
   "source": [
    "lmp_oligo = lammps.LAMMPS('%s_%s'%(oligo_i.tag,proj_tag))"
   ]
  },
  {
   "cell_type": "code",
   "execution_count": 29,
   "metadata": {
    "collapsed": false
   },
   "outputs": [],
   "source": [
    "lmp_oligo.set_resource(res_i)"
   ]
  },
  {
   "cell_type": "code",
   "execution_count": 37,
   "metadata": {
    "collapsed": false
   },
   "outputs": [
    {
     "data": {
      "text/plain": [
       "'/Users/tkemper/Projects/DApolymers/scratch/D1_R2R200_A31_R4_n1_R40n1R40n1R42n1__n5_x173_prod1'"
      ]
     },
     "execution_count": 37,
     "metadata": {},
     "output_type": "execute_result"
    }
   ],
   "source": [
    "os.getcwd()"
   ]
  },
  {
   "cell_type": "code",
   "execution_count": 38,
   "metadata": {
    "collapsed": false
   },
   "outputs": [],
   "source": [
    "lmp_oligo.read_param('%s.param'%(sim_prod1.strucC.tag))"
   ]
  },
  {
   "cell_type": "code",
   "execution_count": 39,
   "metadata": {
    "collapsed": false
   },
   "outputs": [
    {
     "name": "stdout",
     "output_type": "stream",
     "text": [
      "12 20 43 0\n"
     ]
    }
   ],
   "source": [
    "print lmp_oligo.paramC.n_ljtypes,lmp_oligo.paramC.n_bondtypes,lmp_oligo.paramC.n_angletypes,lmp_oligo.paramC.n_dihtypes"
   ]
  },
  {
   "cell_type": "code",
   "execution_count": 30,
   "metadata": {
    "collapsed": false
   },
   "outputs": [],
   "source": [
    "lmp_oligo.make_dir()"
   ]
  },
  {
   "cell_type": "code",
   "execution_count": null,
   "metadata": {
    "collapsed": true
   },
   "outputs": [],
   "source": []
  },
  {
   "cell_type": "code",
   "execution_count": 40,
   "metadata": {
    "collapsed": false
   },
   "outputs": [
    {
     "name": "stdout",
     "output_type": "stream",
     "text": [
      "D1_R2R200_A31_R4_n1_R40n1R40n1R42n1__n5_x173\n"
     ]
    }
   ],
   "source": [
    "print sim_prod1.strucC.tag"
   ]
  },
  {
   "cell_type": "code",
   "execution_count": 41,
   "metadata": {
    "collapsed": true
   },
   "outputs": [],
   "source": [
    "lmp_oligo.add_strucC(oligo_i)"
   ]
  },
  {
   "cell_type": "code",
   "execution_count": 42,
   "metadata": {
    "collapsed": true
   },
   "outputs": [],
   "source": [
    "os.chdir(lmp_oligo.dir['scratch'])"
   ]
  },
  {
   "cell_type": "code",
   "execution_count": 43,
   "metadata": {
    "collapsed": false
   },
   "outputs": [
    {
     "name": "stdout",
     "output_type": "stream",
     "text": [
      "> in cp_file  templates in lammps_min.in templates scratch\n",
      "copying /Users/tkemper/Development/streamm_ext/streamm-tools/templates/lammps_min.in to /Users/tkemper/Projects/DApolymers/scratch/D1_R2R200_A31_R4_n1_R40n1R40n1R42n1__n5_min/lammps_min.in \n",
      "> in cp_file  templates run lammps.sh templates launch\n",
      "copying /Users/tkemper/Development/streamm_ext/streamm-tools/templates/lammps.sh to /Users/tkemper/Projects/DApolymers/scratch/D1_R2R200_A31_R4_n1_R40n1R40n1R42n1__n5_min/lammps.sh \n"
     ]
    }
   ],
   "source": [
    "set_inter = True \n",
    "if( set_inter ):\n",
    "    lmp_oligo.strucC.bonded_bonds()\n",
    "    lmp_oligo.strucC.bonded_angles()\n",
    "    lmp_oligo.strucC.bonded_dih()\n",
    "\n",
    "add_in = True \n",
    "if( add_in ):\n",
    "    file_type = 'templates'\n",
    "    file_key = 'in'\n",
    "    file_name = \"lammps_min.in\"\n",
    "    from_dirkey = 'templates'\n",
    "    to_dirkey = 'scratch'\n",
    "    lmp_oligo.cp_file(file_type,file_key,file_name,from_dirkey,to_dirkey)\n",
    "\n",
    "add_in = True \n",
    "if( add_in ):\n",
    "    file_type = 'templates'\n",
    "    file_key = 'run'\n",
    "    file_name = \"lammps.sh\"\n",
    "    from_dirkey = 'templates'\n",
    "    to_dirkey = 'launch'\n",
    "    lmp_oligo.cp_file(file_type,file_key,file_name,from_dirkey,to_dirkey)"
   ]
  },
  {
   "cell_type": "code",
   "execution_count": 54,
   "metadata": {
    "collapsed": true
   },
   "outputs": [],
   "source": [
    "for tkey_i, type_i  in param_D1A2.angletypes.iteritems():   \n",
    "    lmp_oligo.paramC.add_angletype(type_i)\n",
    "\n"
   ]
  },
  {
   "cell_type": "code",
   "execution_count": 44,
   "metadata": {
    "collapsed": true
   },
   "outputs": [],
   "source": [
    "lmp_oligo.paramC.dihtypes = copy.deepcopy(param_D1A2.dihtypes)"
   ]
  },
  {
   "cell_type": "code",
   "execution_count": null,
   "metadata": {
    "collapsed": true
   },
   "outputs": [],
   "source": [
    "for pkey_i, particle_i  in lmp_oligo.strucC.particles.iteritems():\n",
    "    particle_i.tag = particle_i.properties[\"label\"]"
   ]
  },
  {
   "cell_type": "code",
   "execution_count": null,
   "metadata": {
    "collapsed": false
   },
   "outputs": [],
   "source": [
    "if( 'C1' in ['C7','C11','C13','C15'] ):\n",
    "    print 'in list '"
   ]
  },
  {
   "cell_type": "code",
   "execution_count": 173,
   "metadata": {
    "collapsed": true
   },
   "outputs": [],
   "source": [
    "for pkey_i, particle_i  in lmp_oligo.strucC.particles.iteritems():\n",
    "    if( particle_i.properties[\"label\"] in ['C7','C11','C13','C15'] ):\n",
    "        particle_i.properties[\"fftype\"] = 'C!'"
   ]
  },
  {
   "cell_type": "code",
   "execution_count": 174,
   "metadata": {
    "collapsed": false
   },
   "outputs": [
    {
     "name": "stdout",
     "output_type": "stream",
     "text": [
      "C7\n",
      "C15\n"
     ]
    }
   ],
   "source": [
    "print lmp_oligo.strucC.particles[6].properties[\"label\"]\n",
    "print lmp_oligo.strucC.particles[486].properties[\"label\"]"
   ]
  },
  {
   "cell_type": "code",
   "execution_count": 175,
   "metadata": {
    "collapsed": false
   },
   "outputs": [],
   "source": [
    "lmp_oligo.strucC.particles[6].properties[\"fftype\"] = 'CP'\n",
    "lmp_oligo.strucC.particles[486].properties[\"fftype\"] = 'CP'\n"
   ]
  },
  {
   "cell_type": "code",
   "execution_count": null,
   "metadata": {
    "collapsed": false
   },
   "outputs": [],
   "source": [
    "lmp_oligo.strucC.write_xyz('labels.xyz')"
   ]
  },
  {
   "cell_type": "code",
   "execution_count": null,
   "metadata": {
    "collapsed": false
   },
   "outputs": [],
   "source": [
    "print 'mol new {%s/%s.xyz} type {xyz} first 0 last -1 step 1 waitfor 1'%(os.getcwd(),'labels')"
   ]
  },
  {
   "cell_type": "code",
   "execution_count": null,
   "metadata": {
    "collapsed": false
   },
   "outputs": [],
   "source": [
    "for tkey_i, type_i  in lmp_oligo.paramC.bondtypes.iteritems():  \n",
    "    print tkey_i, type_i"
   ]
  },
  {
   "cell_type": "code",
   "execution_count": 52,
   "metadata": {
    "collapsed": true
   },
   "outputs": [],
   "source": [
    "ang_i = parameters.Angletype('C!','CB','CB')\n",
    "ang_i.theta0 = 112.300000\n",
    "ang_i.kb = 70.0 \n",
    "lmp_oligo.paramC.add_angletype(ang_i)"
   ]
  },
  {
   "cell_type": "code",
   "execution_count": 55,
   "metadata": {
    "collapsed": false
   },
   "outputs": [
    {
     "name": "stdout",
     "output_type": "stream",
     "text": [
      "Adding new lmptyp 20 for bond atoms CP - CB numbers 486 - 487 \n",
      " Adding new lmptyp 1  angle atoms CA - CB - CB numbers 2 - 0 - 1 \n",
      " Adding new lmptyp 2  angle atoms CS - CB - CB numbers 3 - 0 - 1 \n",
      " Setting angle atoms CA - CB - CB numbers 4 - 1 - 0 \n",
      " Adding new lmptyp 4  angle atoms S - CB - CB numbers 8 - 1 - 0 \n",
      " Adding new lmptyp 5  angle atoms S - CB - CA numbers 8 - 1 - 4 \n",
      " Adding new lmptyp 6  angle atoms CB - CA - CB numbers 5 - 2 - 0 \n",
      " Setting angle atoms OS - CA - CB numbers 9 - 2 - 5 \n",
      " Adding new lmptyp 8  angle atoms CP - CS - CB numbers 6 - 3 - 0 \n",
      " Adding new lmptyp 9  angle atoms HA - CS - CB numbers 7 - 3 - 0 \n",
      " Setting angle atoms S - CB - CB numbers 12 - 5 - 10 \n",
      " Adding new lmptyp 11  angle atoms S - CP - CS numbers 8 - 6 - 3 \n",
      " Adding new lmptyp 12  angle atoms HA - CP - CS numbers 11 - 6 - 3 \n",
      " Adding new lmptyp 13  angle atoms HA - CP - S numbers 11 - 6 - 8 \n",
      " Adding new lmptyp 14  angle atoms CP - S - CB numbers 6 - 8 - 1 \n",
      " Setting angle atoms CS - CB - CB numbers 15 - 10 - 5 \n",
      " Setting angle atoms CT - OS - CA numbers 17 - 13 - 4 \n",
      " Setting angle atoms HC - CT - OS numbers 19 - 14 - 9 \n",
      " Adding new lmptyp 18  angle atoms CT - CT - OS numbers 38 - 14 - 9 \n",
      " Adding new lmptyp 19  angle atoms HC - CT - HC numbers 19 - 14 - 18 \n",
      " Setting angle atoms CT - CT - HC numbers 38 - 14 - 19 \n",
      " Setting angle atoms HA - CS - CB numbers 20 - 15 - 10 \n",
      " Adding new lmptyp 22  angle atoms HA - CS - C! numbers 20 - 15 - 16 \n",
      " Adding new lmptyp 23  angle atoms CS - C! - S numbers 15 - 16 - 12 \n",
      " Adding new lmptyp 24  angle atoms C! - C! - S numbers 23 - 16 - 12 \n",
      " Setting angle atoms CT - CT - HC numbers 60 - 17 - 22 \n",
      " Setting angle atoms S - C! - C! numbers 25 - 23 - 16 \n",
      " Adding new lmptyp 27  angle atoms S - C! - CB numbers 25 - 23 - 24 \n"
     ]
    },
    {
     "ename": "TypeError",
     "evalue": " No Angles parameters were found for bond type S-CB-C! ",
     "output_type": "error",
     "traceback": [
      "\u001b[0;31m---------------------------------------------------------------------------\u001b[0m",
      "\u001b[0;31mTypeError\u001b[0m                                 Traceback (most recent call last)",
      "\u001b[0;32m<ipython-input-55-3975f6769269>\u001b[0m in \u001b[0;36m<module>\u001b[0;34m()\u001b[0m\n\u001b[0;32m----> 1\u001b[0;31m \u001b[0mlmp_oligo\u001b[0m\u001b[0;34m.\u001b[0m\u001b[0mset_ffparam\u001b[0m\u001b[0;34m(\u001b[0m\u001b[0;34m)\u001b[0m\u001b[0;34m\u001b[0m\u001b[0m\n\u001b[0m",
      "\u001b[0;32m/Users/tkemper/Development/streamm_ext/streamm-tools/streamm/calculation.pyc\u001b[0m in \u001b[0;36mset_ffparam\u001b[0;34m(self)\u001b[0m\n\u001b[1;32m    680\u001b[0m                 \u001b[0;32mif\u001b[0m\u001b[0;34m(\u001b[0m \u001b[0mcnt_check\u001b[0m \u001b[0;34m<\u001b[0m \u001b[0;36m1\u001b[0m \u001b[0;34m)\u001b[0m\u001b[0;34m:\u001b[0m\u001b[0;34m\u001b[0m\u001b[0m\n\u001b[1;32m    681\u001b[0m                     \u001b[0mself\u001b[0m\u001b[0;34m.\u001b[0m\u001b[0mparamC\u001b[0m \u001b[0;34m=\u001b[0m \u001b[0mself\u001b[0m\u001b[0;34m.\u001b[0m\u001b[0mparamC_o\u001b[0m\u001b[0;34m\u001b[0m\u001b[0m\n\u001b[0;32m--> 682\u001b[0;31m                     \u001b[0;32mraise\u001b[0m \u001b[0mTypeError\u001b[0m\u001b[0;34m(\u001b[0m\u001b[0;34m\" No Angles parameters were found for bond type %s-%s-%s \"\u001b[0m\u001b[0;34m%\u001b[0m\u001b[0;34m(\u001b[0m\u001b[0mfftype_k\u001b[0m\u001b[0;34m,\u001b[0m\u001b[0mfftype_i\u001b[0m\u001b[0;34m,\u001b[0m\u001b[0mfftype_j\u001b[0m\u001b[0;34m)\u001b[0m\u001b[0;34m)\u001b[0m\u001b[0;34m\u001b[0m\u001b[0m\n\u001b[0m\u001b[1;32m    683\u001b[0m                 \u001b[0;32melif\u001b[0m\u001b[0;34m(\u001b[0m \u001b[0mcnt_check\u001b[0m \u001b[0;34m>\u001b[0m \u001b[0;36m1\u001b[0m \u001b[0;34m)\u001b[0m\u001b[0;34m:\u001b[0m\u001b[0;34m\u001b[0m\u001b[0m\n\u001b[1;32m    684\u001b[0m                     \u001b[0;31m# log_line=\" %d Angles parameters were found for angle atoms %s - %s - %s numbers %d - %d - %d  wiht angle %f  \\n\"%(cnt_check,fftype_k,fftype_i,fftype_j,pid_k,pid_i,pid_j,angle_kij )\u001b[0m\u001b[0;34m\u001b[0m\u001b[0;34m\u001b[0m\u001b[0m\n",
      "\u001b[0;31mTypeError\u001b[0m:  No Angles parameters were found for bond type S-CB-C! "
     ]
    }
   ],
   "source": [
    "lmp_oligo.set_ffparam()"
   ]
  },
  {
   "cell_type": "code",
   "execution_count": null,
   "metadata": {
    "collapsed": true
   },
   "outputs": [],
   "source": []
  },
  {
   "cell_type": "code",
   "execution_count": null,
   "metadata": {
    "collapsed": true
   },
   "outputs": [],
   "source": []
  },
  {
   "cell_type": "code",
   "execution_count": null,
   "metadata": {
    "collapsed": true
   },
   "outputs": [],
   "source": []
  },
  {
   "cell_type": "code",
   "execution_count": null,
   "metadata": {
    "collapsed": true
   },
   "outputs": [],
   "source": [
    "param_i = sim_prod1.paramC"
   ]
  },
  {
   "cell_type": "code",
   "execution_count": null,
   "metadata": {
    "collapsed": false
   },
   "outputs": [],
   "source": [
    "print param_i.n_ljtypes,param_i.n_bondtypes,param_i.n_angletypes,param_i.n_dihtypes"
   ]
  },
  {
   "cell_type": "code",
   "execution_count": null,
   "metadata": {
    "collapsed": true
   },
   "outputs": [],
   "source": [
    "lmp_oligo = lammps.LAMMPS('%s_%s'%(oligo_i.tag,proj_tag))"
   ]
  },
  {
   "cell_type": "code",
   "execution_count": null,
   "metadata": {
    "collapsed": true
   },
   "outputs": [],
   "source": [
    "lmp_oligo.add_struc()"
   ]
  }
 ],
 "metadata": {
  "anaconda-cloud": {},
  "kernelspec": {
   "display_name": "Python [conda root]",
   "language": "python",
   "name": "conda-root-py"
  },
  "language_info": {
   "codemirror_mode": {
    "name": "ipython",
    "version": 2
   },
   "file_extension": ".py",
   "mimetype": "text/x-python",
   "name": "python",
   "nbconvert_exporter": "python",
   "pygments_lexer": "ipython2",
   "version": "2.7.12"
  }
 },
 "nbformat": 4,
 "nbformat_minor": 0
}
