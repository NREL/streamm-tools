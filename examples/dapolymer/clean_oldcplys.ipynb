{
 "cells": [
  {
   "cell_type": "code",
   "execution_count": 1,
   "metadata": {
    "collapsed": true
   },
   "outputs": [],
   "source": [
    "# Standard \n",
    "import os, sys , copy ,shutil, logging"
   ]
  },
  {
   "cell_type": "code",
   "execution_count": 2,
   "metadata": {
    "collapsed": true
   },
   "outputs": [],
   "source": [
    "import pandas as pd"
   ]
  },
  {
   "cell_type": "code",
   "execution_count": 3,
   "metadata": {
    "collapsed": true
   },
   "outputs": [],
   "source": [
    "# Import all the streamm modules\n",
    "from streamm import *"
   ]
  },
  {
   "cell_type": "code",
   "execution_count": 4,
   "metadata": {
    "collapsed": true
   },
   "outputs": [],
   "source": [
    "%load_ext autoreload\n",
    "%autoreload 2"
   ]
  },
  {
   "cell_type": "code",
   "execution_count": 5,
   "metadata": {
    "collapsed": false
   },
   "outputs": [
    {
     "name": "stdout",
     "output_type": "stream",
     "text": [
      "Reading in resource json file res_local.json \n"
     ]
    }
   ],
   "source": [
    "res_i = resource.Resource('local')\n",
    "res_i.load_json()"
   ]
  },
  {
   "cell_type": "code",
   "execution_count": 6,
   "metadata": {
    "collapsed": false
   },
   "outputs": [
    {
     "name": "stdout",
     "output_type": "stream",
     "text": [
      "Reading in resource json file res_peregrine.json \n"
     ]
    }
   ],
   "source": [
    "peregrine = resource.Resource('peregrine')\n",
    "peregrine.load_json()"
   ]
  },
  {
   "cell_type": "code",
   "execution_count": 8,
   "metadata": {
    "collapsed": false
   },
   "outputs": [],
   "source": [
    "res_i.dir['materials'] = '/Users/tkemper/Projects/DApolymers/BuildingBlocks-release/'"
   ]
  },
  {
   "cell_type": "code",
   "execution_count": null,
   "metadata": {
    "collapsed": false
   },
   "outputs": [],
   "source": [
    "os.chdir(res_i.dir['materials']+'/prod1min1')"
   ]
  },
  {
   "cell_type": "code",
   "execution_count": 10,
   "metadata": {
    "collapsed": false
   },
   "outputs": [],
   "source": [
    "tags = []\n",
    "tags.append('BDT_TPD_n5')\n",
    "tags.append('D1_R2R200_A23_R4_n1_R41n1R41n1R40n1__n5')\n",
    "tags.append('D1_R2R200_A23_R4_n1_R41n1R41n1R41n1__n5')\n",
    "tags.append('D1_R2R200_A31_R4_n1_R40n1R40n1R42n1__n5')\n",
    "tags.append('D1_R2R200_A31_R4_n1_R41n1R41n1R40n1__n5')\n",
    "tags.append('D51_00R300R3_A23_R4__n1wB_R41n1wBR41n1wBR41n1wB__n5')"
   ]
  },
  {
   "cell_type": "code",
   "execution_count": null,
   "metadata": {
    "collapsed": true
   },
   "outputs": [],
   "source": [
    "BDT_TPD_n5_x197 = buildingblock.Container('BDT_TPD_n5_x197')"
   ]
  },
  {
   "cell_type": "code",
   "execution_count": null,
   "metadata": {
    "collapsed": false
   },
   "outputs": [],
   "source": [
    "BDT_TPD_n5_x197.read_cply('BDTTPDn5x197_prod1_min.cply')"
   ]
  },
  {
   "cell_type": "markdown",
   "metadata": {},
   "source": [
    "Use pandas to select first molecule"
   ]
  },
  {
   "cell_type": "code",
   "execution_count": null,
   "metadata": {
    "collapsed": false
   },
   "outputs": [],
   "source": [
    "BDT_TPD_n5_x197.propcompile_particles()"
   ]
  },
  {
   "cell_type": "code",
   "execution_count": null,
   "metadata": {
    "collapsed": false
   },
   "outputs": [],
   "source": [
    "BDT_TPD_n5_x197.df = pd.DataFrame(BDT_TPD_n5_x197.prop_particles)"
   ]
  },
  {
   "cell_type": "code",
   "execution_count": null,
   "metadata": {
    "collapsed": false
   },
   "outputs": [],
   "source": [
    "sel_i = BDT_TPD_n5_x197.df['mol'] == 1"
   ]
  },
  {
   "cell_type": "code",
   "execution_count": null,
   "metadata": {
    "collapsed": false
   },
   "outputs": [],
   "source": [
    "list_i =  BDT_TPD_n5_x197.df[  sel_i ]"
   ]
  },
  {
   "cell_type": "code",
   "execution_count": null,
   "metadata": {
    "collapsed": false
   },
   "outputs": [],
   "source": [
    "print list_i.index"
   ]
  },
  {
   "cell_type": "code",
   "execution_count": null,
   "metadata": {
    "collapsed": false
   },
   "outputs": [],
   "source": [
    "mol_i = BDT_TPD_n5_x197.getSubStructure(list_i.index,'BDT_TPD_n5')"
   ]
  },
  {
   "cell_type": "code",
   "execution_count": null,
   "metadata": {
    "collapsed": true
   },
   "outputs": [],
   "source": [
    "os.chdir(res_i.dir['materials']+'/oligomers_wRES')"
   ]
  },
  {
   "cell_type": "code",
   "execution_count": null,
   "metadata": {
    "collapsed": false
   },
   "outputs": [],
   "source": [
    "mol_i.group_prop('mol','mols')"
   ]
  },
  {
   "cell_type": "code",
   "execution_count": null,
   "metadata": {
    "collapsed": true
   },
   "outputs": [],
   "source": [
    "mol_i.groupsets['mols'].group_pbcs()"
   ]
  },
  {
   "cell_type": "code",
   "execution_count": null,
   "metadata": {
    "collapsed": true
   },
   "outputs": [],
   "source": [
    "mol_i.write_xyz()"
   ]
  },
  {
   "cell_type": "code",
   "execution_count": null,
   "metadata": {
    "collapsed": false
   },
   "outputs": [],
   "source": [
    "mol_i.write_cply()"
   ]
  },
  {
   "cell_type": "markdown",
   "metadata": {},
   "source": [
    "Loop over other structures "
   ]
  },
  {
   "cell_type": "code",
   "execution_count": null,
   "metadata": {
    "collapsed": true
   },
   "outputs": [],
   "source": [
    "struc_list = []"
   ]
  },
  {
   "cell_type": "code",
   "execution_count": null,
   "metadata": {
    "collapsed": false
   },
   "outputs": [],
   "source": [
    "struc_list.append(('D1_R2R200_A23_R4_n1_R41n1R41n1R40n1__n5','D1_R2R200_A23_R4_n1_R41n1R41n1R40n1__n5_x193_prod1min1.cply'))\n",
    "struc_list.append(('D1_R2R200_A23_R4_n1_R41n1R41n1R41n1__n5','D1_R2R200_A23_R4_n1_R41n1R41n1R41n1__n5_x193_prod1min1.cply'))\n",
    "struc_list.append(('D1_R2R200_A31_R4_n1_R40n1R40n1R42n1__n5','D1_R2R200_A31_R4_n1_R40n1R40n1R42n1__n5x193.cply'))\n",
    "struc_list.append(('D1_R2R200_A31_R4_n1_R41n1R41n1R40n1__n5','D1_R2R200_A31_R4_n1_R41n1R41n1R40n1__n5_x193_prod1min1.cply'))\n",
    "struc_list.append(('D51_00R300R3_A23_R4__n1wB_R41n1wBR41n1wBR41n1wB__n5','D51_00R300R3_A23_R4__n1wB_R41n1wBR41n1wBR41n1wB__n5_x173_prod1min1.cply'))"
   ]
  },
  {
   "cell_type": "code",
   "execution_count": null,
   "metadata": {
    "collapsed": false
   },
   "outputs": [],
   "source": [
    "bulk_prod1 = dict()\n",
    "\n",
    "for s_tup in struc_list:\n",
    "    (tag,cply_file) = s_tup\n",
    "    print tag,cply_file\n",
    "\n",
    "    os.chdir(res_i.dir['materials']+'/prod1min1')\n",
    "    struc_i = buildingblock.Container(tag)\n",
    "    struc_i.read_cply(cply_file)\n",
    "    bulk_prod1[tag] = copy.deepcopy(struc_i)\n",
    "\n"
   ]
  },
  {
   "cell_type": "code",
   "execution_count": null,
   "metadata": {
    "collapsed": false
   },
   "outputs": [],
   "source": [
    "bulk_prod1 = dict()\n",
    "\n",
    "for s_tup in struc_list:\n",
    "    (tag,cply_file) = s_tup\n",
    "    print tag,cply_file\n",
    "\n",
    "    os.chdir(res_i.dir['materials']+'/prod1min1')\n",
    "    struc_i = buildingblock.Container(tag)\n",
    "    struc_i.read_cply(cply_file)\n",
    "    struc_i.propcompile_particles()\n",
    "    struc_i.df = pd.DataFrame(struc_i.prop_particles)\n",
    "    sel_i = struc_i.df['mol'] == 1\n",
    "    list_i =  struc_i.df[sel_i]\n",
    "    mol_i = struc_i.getSubStructure(list_i.index,tag)\n",
    "    os.chdir(res_i.dir['materials']+'/oligomers_originals')\n",
    "    mol_i.group_prop('mol','mols')\n",
    "    mol_i.groupsets['mols'].group_pbcs()\n",
    "    mol_i.write_xyz()\n",
    "    mol_i.write_cply()\n",
    "    "
   ]
  },
  {
   "cell_type": "code",
   "execution_count": null,
   "metadata": {
    "collapsed": true
   },
   "outputs": [],
   "source": [
    "os.chdir(res_i.dir['home'])"
   ]
  },
  {
   "cell_type": "code",
   "execution_count": null,
   "metadata": {
    "collapsed": true
   },
   "outputs": [],
   "source": [
    "from IPython.display import Image"
   ]
  },
  {
   "cell_type": "code",
   "execution_count": null,
   "metadata": {
    "collapsed": false
   },
   "outputs": [],
   "source": [
    "Image(filename='figures/PTBX.png')"
   ]
  },
  {
   "cell_type": "raw",
   "metadata": {},
   "source": [
    "D1_R2R200_A23_R4_n1_R41n1R41n1R40n1__n5 = PTB4\n",
    "D1_R2R200_A23_R4_n1_R41n1R41n1R41n1__n5 = PTB7??\n",
    "D1_R2R200_A31_R4_n1_R40n1R40n1R42n1__n5 = PTB1 \n",
    "D1_R2R200_A31_R4_n1_R41n1R41n1R40n1__n5 = PTB5\n",
    "D51_00R300R3_A23_R4__n1wB_R41n1wBR41n1wBR41n1wB__n5 = PCE10"
   ]
  },
  {
   "cell_type": "markdown",
   "metadata": {},
   "source": [
    "Analyze old cply files from backup drive"
   ]
  },
  {
   "cell_type": "code",
   "execution_count": null,
   "metadata": {
    "collapsed": true
   },
   "outputs": [],
   "source": [
    "os.chdir('/Users/tkemper/Projects/DApolymers/materials/oligomers_originals')"
   ]
  },
  {
   "cell_type": "code",
   "execution_count": null,
   "metadata": {
    "collapsed": true
   },
   "outputs": [],
   "source": [
    "for tag_i in tags:\n",
    "    bb_i = buildingblock.Container(tag_i)\n",
    "    bb_i.read_cply()\n",
    "    bb_i.write_xyz()"
   ]
  },
  {
   "cell_type": "raw",
   "metadata": {},
   "source": [
    "In 'materials/oligomers_wRES'\n",
    "\n",
    "D1_R2R200_A23_R4_n1_R41n1R41n1R40n1__n5 = PTB4 good\n",
    "D1_R2R200_A23_R4_n1_R41n1R41n1R41n1__n5 = PTB7 good\n",
    "D1_R2R200_A31_R4_n1_R40n1R40n1R42n1__n5 = PTB1 good\n",
    "D1_R2R200_A31_R4_n1_R41n1R41n1R40n1__n5 = PTB5 good\n",
    "D51_00R300R3_A23_R4__n1wB_R41n1wBR41n1wBR41n1wB__n5 = PCE10 good"
   ]
  },
  {
   "cell_type": "markdown",
   "metadata": {},
   "source": [
    "Load originals and wRES and check that the order was not changed"
   ]
  },
  {
   "cell_type": "code",
   "execution_count": null,
   "metadata": {
    "collapsed": true
   },
   "outputs": [],
   "source": [
    "os.chdir('/Users/tkemper/Projects/DApolymers/materials/oligomers_originals')"
   ]
  },
  {
   "cell_type": "code",
   "execution_count": null,
   "metadata": {
    "collapsed": false
   },
   "outputs": [],
   "source": [
    "import copy"
   ]
  },
  {
   "cell_type": "code",
   "execution_count": null,
   "metadata": {
    "collapsed": false
   },
   "outputs": [],
   "source": [
    "og_oligos = dict()\n",
    "for tag_i in tags:\n",
    "    bb_i = buildingblock.Container(tag_i)\n",
    "    bb_i.read_cply()\n",
    "    og_oligos[tag_i] = copy.deepcopy(bb_i)"
   ]
  },
  {
   "cell_type": "code",
   "execution_count": 39,
   "metadata": {
    "collapsed": true
   },
   "outputs": [],
   "source": [
    "os.chdir(res_i.dir['materials']+'/oligomers_wRES')"
   ]
  },
  {
   "cell_type": "markdown",
   "metadata": {
    "collapsed": true
   },
   "source": [
    "tag_i = tags[-1]\n",
    "wRES_bb = buildingblock.Container(tag_i)\n",
    "wRES_bb.read_cply()\n",
    "wRES_bb.write_xyz('t3.xyz')\n",
    "wRES_bb.lat_cubic(1000.0)\n",
    "wRES_bb.write_xyz('t4.xyz')"
   ]
  },
  {
   "cell_type": "code",
   "execution_count": 11,
   "metadata": {
    "collapsed": false
   },
   "outputs": [],
   "source": [
    "wRES_oligos = dict()\n",
    "for tag_i in tags:\n",
    "    bb_i = buildingblock.Container(tag_i)\n",
    "    bb_i.read_cply()\n",
    "    bb_i.lat_cubic(1000.0)\n",
    "    bb_i.write_xyz()\n",
    "    wRES_oligos[tag_i] = copy.deepcopy(bb_i)"
   ]
  },
  {
   "cell_type": "code",
   "execution_count": 12,
   "metadata": {
    "collapsed": false
   },
   "outputs": [
    {
     "name": "stdout",
     "output_type": "stream",
     "text": [
      "['BDT_TPD_n5', 'D1_R2R200_A23_R4_n1_R41n1R41n1R40n1__n5', 'D1_R2R200_A23_R4_n1_R41n1R41n1R41n1__n5', 'D1_R2R200_A31_R4_n1_R40n1R40n1R42n1__n5', 'D1_R2R200_A31_R4_n1_R41n1R41n1R40n1__n5', 'D51_00R300R3_A23_R4__n1wB_R41n1wBR41n1wBR41n1wB__n5']\n"
     ]
    }
   ],
   "source": [
    "print tags"
   ]
  },
  {
   "cell_type": "code",
   "execution_count": 58,
   "metadata": {
    "collapsed": true
   },
   "outputs": [],
   "source": [
    "bb_i = wRES_oligos['D1_R2R200_A31_R4_n1_R40n1R40n1R42n1__n5']"
   ]
  },
  {
   "cell_type": "code",
   "execution_count": null,
   "metadata": {
    "collapsed": true
   },
   "outputs": [],
   "source": [
    "R3 = Me\n",
    "A2 = TPD\n",
    "R2 = MeO \n",
    "R40 = C7\n",
    "R41 2-ethylhexyl\n",
    "R42 C11\n"
   ]
  },
  {
   "cell_type": "code",
   "execution_count": 61,
   "metadata": {
    "collapsed": true
   },
   "outputs": [],
   "source": [
    "tag_j = 'R42'\n",
    "bb_j = buildingblock.Container(tag_j)\n",
    "for pk,p in bb_i.particles.iteritems():\n",
    "    if( p.properties['resname'] == tag_j and  int(p.properties['residue']) <=6):\n",
    "        bb_j.add_partpos(p,bb_i.positions[pk])"
   ]
  },
  {
   "cell_type": "code",
   "execution_count": 62,
   "metadata": {
    "collapsed": false
   },
   "outputs": [
    {
     "name": "stdout",
     "output_type": "stream",
     "text": [
      "34\n"
     ]
    }
   ],
   "source": [
    "print bb_j.n_particles"
   ]
  },
  {
   "cell_type": "code",
   "execution_count": 63,
   "metadata": {
    "collapsed": true
   },
   "outputs": [],
   "source": [
    "bb_j.write_xyz()"
   ]
  },
  {
   "cell_type": "code",
   "execution_count": 37,
   "metadata": {
    "collapsed": true
   },
   "outputs": [],
   "source": [
    "os.chdir('/Users/tkemper/Development/BuildingBlocks-release/functional_groups')"
   ]
  },
  {
   "cell_type": "code",
   "execution_count": 38,
   "metadata": {
    "collapsed": false
   },
   "outputs": [
    {
     "name": "stdout",
     "output_type": "stream",
     "text": [
      "AA.cply AA\n",
      "ACDMA.cply ACDMA\n",
      "Bn.cply Bn\n",
      "Cy.cply Cy\n",
      "DCE.cply DCE\n",
      "DTBuBn.cply DTBuBn\n",
      "Et.cply Et\n",
      "Eth.cply Eth\n",
      "H.cply H\n",
      "iBu.cply iBu\n",
      "iPr.cply iPr\n",
      "iPrAc.cply iPrAc\n",
      "ME.cply ME\n",
      "MeO.cply MeO\n",
      "OAcDA.cply OAcDA\n",
      "PAMeOMeO.cply PAMeOMeO\n",
      "Ph.cply Ph\n",
      "Th.cply Th\n"
     ]
    }
   ],
   "source": [
    "for subdir, dirs, files in os.walk('/Users/tkemper/Development/BuildingBlocks-release/functional_groups'):\n",
    "    for file_i in files:\n",
    "        if( file_i[-5:] == '.cply'):\n",
    "            tag_i =  file_i[:-5] \n",
    "            print file_i,tag_i\n",
    "            bb_i = buildingblock.Container(tag_i)\n",
    "            bb_i.read_cply()\n",
    "            bb_i.write_xyz()\n",
    "\n",
    "            \n"
   ]
  },
  {
   "cell_type": "code",
   "execution_count": null,
   "metadata": {
    "collapsed": false
   },
   "outputs": [],
   "source": [
    "for tag_i in tags:\n",
    "    og_bb = og_oligos[tag_i]\n",
    "    wRES_bb = wRES_oligos[tag_i]\n",
    "    print og_bb.n_particles-wRES_bb.n_particles\n",
    "    for pkey,p_i in og_bb.particles.iteritems():\n",
    "        if( p_i.properties['symbol'] != wRES_bb.particles[pkey].properties['symbol']): \n",
    "            print \" error %s not %s \"%(p_i.properties['symbol'] , wRES_bb.particles[pkey].properties['symbol'])\n",
    "        if( p_i.properties['charge'] != wRES_bb.particles[pkey].properties['charge']): \n",
    "            print \" error %f not %f \"%(p_i.properties['charge'] , wRES_bb.particles[pkey].properties['charge'])\n",
    "\n"
   ]
  },
  {
   "cell_type": "markdown",
   "metadata": {},
   "source": [
    "Check parameters "
   ]
  },
  {
   "cell_type": "code",
   "execution_count": null,
   "metadata": {
    "collapsed": false
   },
   "outputs": [],
   "source": [
    "print wRES_oligos.keys()"
   ]
  },
  {
   "cell_type": "code",
   "execution_count": null,
   "metadata": {
    "collapsed": true
   },
   "outputs": [],
   "source": [
    "oligo_i = wRES_oligos['D1_R2R200_A31_R4_n1_R40n1R40n1R42n1__n5']"
   ]
  },
  {
   "cell_type": "code",
   "execution_count": null,
   "metadata": {
    "collapsed": false
   },
   "outputs": [],
   "source": [
    "print oligo_i.tag "
   ]
  },
  {
   "cell_type": "code",
   "execution_count": null,
   "metadata": {
    "collapsed": true
   },
   "outputs": [],
   "source": [
    "for pkey_i, particle_i  in oligo_i.particles.iteritems():\n",
    "    if( particle_i.properties[\"label\"] in ['C7','C11','C13','C15'] ):\n",
    "        particle_i.properties[\"fftype\"] = 'C!'"
   ]
  },
  {
   "cell_type": "code",
   "execution_count": null,
   "metadata": {
    "collapsed": true
   },
   "outputs": [],
   "source": [
    "oligo_i.particles[6].properties[\"fftype\"] = 'CP'\n",
    "oligo_i.particles[486].properties[\"fftype\"] = 'CP'"
   ]
  },
  {
   "cell_type": "code",
   "execution_count": null,
   "metadata": {
    "collapsed": false
   },
   "outputs": [],
   "source": [
    "oligo_i.write_xyz()"
   ]
  },
  {
   "cell_type": "code",
   "execution_count": null,
   "metadata": {
    "collapsed": true
   },
   "outputs": [],
   "source": [
    "oligo_i.write_cply()"
   ]
  },
  {
   "cell_type": "markdown",
   "metadata": {},
   "source": [
    "Replicate oligomers on grid to create new cply files for bulk analysis"
   ]
  },
  {
   "cell_type": "code",
   "execution_count": null,
   "metadata": {
    "collapsed": false
   },
   "outputs": [],
   "source": [
    "print tags[0:4]"
   ]
  },
  {
   "cell_type": "code",
   "execution_count": null,
   "metadata": {
    "collapsed": false
   },
   "outputs": [],
   "source": [
    "print wRES_oligos.keys()"
   ]
  },
  {
   "cell_type": "code",
   "execution_count": null,
   "metadata": {
    "collapsed": true
   },
   "outputs": [],
   "source": [
    "os.chdir(res_i.dir['materials']+'/replicate_grid')"
   ]
  },
  {
   "cell_type": "code",
   "execution_count": null,
   "metadata": {
    "collapsed": true
   },
   "outputs": [],
   "source": [
    "tag_i = 'D1_R2R200_A31_R4_n1_R40n1R40n1R42n1__n5'"
   ]
  },
  {
   "cell_type": "code",
   "execution_count": null,
   "metadata": {
    "collapsed": false
   },
   "outputs": [],
   "source": [
    "print tag_i"
   ]
  },
  {
   "cell_type": "code",
   "execution_count": null,
   "metadata": {
    "collapsed": true
   },
   "outputs": [],
   "source": [
    "wRES_bb = wRES_oligos[tag_i]"
   ]
  },
  {
   "cell_type": "code",
   "execution_count": null,
   "metadata": {
    "collapsed": false
   },
   "outputs": [],
   "source": [
    "n=173\n",
    "rep_tag = '%s_x%d'%(wRES_bb.tag,n)\n",
    "print rep_tag"
   ]
  },
  {
   "cell_type": "code",
   "execution_count": null,
   "metadata": {
    "collapsed": true
   },
   "outputs": [],
   "source": [
    "#rep_i = buildingblock.Container(rep_tag)\n",
    "#rep_i.read_cply()"
   ]
  },
  {
   "cell_type": "code",
   "execution_count": null,
   "metadata": {
    "collapsed": false
   },
   "outputs": [],
   "source": [
    "cube_i = buildingblock.Container('%s_x%d'%(wRES_bb.tag,n))"
   ]
  },
  {
   "cell_type": "code",
   "execution_count": null,
   "metadata": {
    "collapsed": false
   },
   "outputs": [],
   "source": [
    "cube_i.lat_cubic(1000.0)"
   ]
  },
  {
   "cell_type": "code",
   "execution_count": null,
   "metadata": {
    "collapsed": false,
    "scrolled": true
   },
   "outputs": [],
   "source": [
    "rep_i = cube_i.add_struc_grid(wRES_bb,n,calc_overlap=False)"
   ]
  },
  {
   "cell_type": "code",
   "execution_count": null,
   "metadata": {
    "collapsed": true
   },
   "outputs": [],
   "source": [
    "rep_i.tag  = rep_tag"
   ]
  },
  {
   "cell_type": "code",
   "execution_count": null,
   "metadata": {
    "collapsed": false
   },
   "outputs": [],
   "source": [
    "print rep_i.tag , rep_i.n_particles"
   ]
  },
  {
   "cell_type": "code",
   "execution_count": null,
   "metadata": {
    "collapsed": false
   },
   "outputs": [],
   "source": [
    "rep_i.write_xyz()"
   ]
  },
  {
   "cell_type": "code",
   "execution_count": null,
   "metadata": {
    "collapsed": true
   },
   "outputs": [],
   "source": [
    "rep_i.write_cply()"
   ]
  },
  {
   "cell_type": "code",
   "execution_count": null,
   "metadata": {
    "collapsed": false
   },
   "outputs": [],
   "source": [
    "del rep_lmp"
   ]
  },
  {
   "cell_type": "code",
   "execution_count": null,
   "metadata": {
    "collapsed": false
   },
   "outputs": [],
   "source": [
    "rep_lmp = lammps.LAMMPS('%s_prod1'%(rep_i.tag))"
   ]
  },
  {
   "cell_type": "code",
   "execution_count": null,
   "metadata": {
    "collapsed": true
   },
   "outputs": [],
   "source": [
    "rep_lmp.add_strucC(rep_i)"
   ]
  },
  {
   "cell_type": "code",
   "execution_count": null,
   "metadata": {
    "collapsed": true
   },
   "outputs": [],
   "source": [
    "rep_lmp.set_resource(res_i)"
   ]
  },
  {
   "cell_type": "code",
   "execution_count": null,
   "metadata": {
    "collapsed": false
   },
   "outputs": [],
   "source": [
    "os.chdir(rep_lmp.dir['scratch'])"
   ]
  },
  {
   "cell_type": "code",
   "execution_count": null,
   "metadata": {
    "collapsed": true
   },
   "outputs": [],
   "source": [
    "rep_lmp.read_data_pos('prod1.data')"
   ]
  },
  {
   "cell_type": "code",
   "execution_count": null,
   "metadata": {
    "collapsed": true
   },
   "outputs": [],
   "source": [
    "rep_lmp.strucC.write_xyz()"
   ]
  },
  {
   "cell_type": "code",
   "execution_count": null,
   "metadata": {
    "collapsed": true
   },
   "outputs": [],
   "source": [
    "rep_lmp.strucC.write_cply()"
   ]
  },
  {
   "cell_type": "markdown",
   "metadata": {},
   "source": [
    "Repeat for PTB-X"
   ]
  },
  {
   "cell_type": "code",
   "execution_count": null,
   "metadata": {
    "collapsed": true
   },
   "outputs": [],
   "source": [
    "os.chdir(res_i.dir['materials']+'/replicate_grid')"
   ]
  },
  {
   "cell_type": "code",
   "execution_count": null,
   "metadata": {
    "collapsed": false
   },
   "outputs": [],
   "source": [
    "for tag_i in tags[0:4]:\n",
    "    wRES_bb = wRES_oligos[tag_i]\n",
    "    n=193\n",
    "    rep_tag = '%s_x%d'%(wRES_bb.tag,n)\n",
    "    print rep_tag\n",
    "    cube_i = buildingblock.Container('%s_x%d'%(wRES_bb.tag,n))\n",
    "    cube_i.lat_cubic(1000.0)\n",
    "    rep_i = cube_i.add_struc_grid(wRES_bb,n,calc_overlap=False)\n",
    "    rep_i.tag = '%s_x%d'%(wRES_bb.tag,n)\n",
    "    print rep_i.tag , rep_i.n_particles\n",
    "    rep_i.write_xyz()\n",
    "    rep_i.write_cply()\n",
    "    \n",
    "    del rep_i"
   ]
  },
  {
   "cell_type": "code",
   "execution_count": null,
   "metadata": {
    "collapsed": true
   },
   "outputs": [],
   "source": [
    "rep_s = dict()"
   ]
  },
  {
   "cell_type": "code",
   "execution_count": null,
   "metadata": {
    "collapsed": false
   },
   "outputs": [],
   "source": [
    "print tags"
   ]
  },
  {
   "cell_type": "code",
   "execution_count": null,
   "metadata": {
    "collapsed": false
   },
   "outputs": [],
   "source": [
    "for tag_i in tags[0:4]:\n",
    "    n=193\n",
    "    rep_tag = '%s_x%d'%(tag_i,n)\n",
    "    print rep_tag"
   ]
  },
  {
   "cell_type": "code",
   "execution_count": null,
   "metadata": {
    "collapsed": false
   },
   "outputs": [],
   "source": [
    "for tag_i in tags[0:4]:\n",
    "    n=193\n",
    "    rep_tag = '%s_x%d'%(tag_i,n)\n",
    "    rep_i = buildingblock.Container(rep_tag)\n",
    "    rep_i.read_cply()\n",
    "    rep_s[rep_tag] = copy.deepcopy(rep_i)\n",
    "    print rep_tag,rep_i.tag"
   ]
  },
  {
   "cell_type": "code",
   "execution_count": null,
   "metadata": {
    "collapsed": false
   },
   "outputs": [],
   "source": [
    "n=173\n",
    "tag_i = tags[2]\n",
    "rep_tag = '%s_x%d'%(tag_i,n)\n",
    "\n",
    "print rep_tag"
   ]
  },
  {
   "cell_type": "code",
   "execution_count": null,
   "metadata": {
    "collapsed": false
   },
   "outputs": [],
   "source": [
    "rep_i = buildingblock.Container(rep_tag)\n",
    "rep_i.read_cply()\n",
    "rep_s[rep_tag] = copy.deepcopy(rep_i)\n",
    "print rep_tag,rep_i.tag"
   ]
  },
  {
   "cell_type": "code",
   "execution_count": null,
   "metadata": {
    "collapsed": false
   },
   "outputs": [],
   "source": [
    "for t,rep_i in rep_s.iteritems():\n",
    "    print \"rep_tags.append(\\'\"+rep_i.tag+\"\\')\""
   ]
  },
  {
   "cell_type": "code",
   "execution_count": null,
   "metadata": {
    "collapsed": true
   },
   "outputs": [],
   "source": [
    "os.chdir(res_i.dir['scratch'])"
   ]
  },
  {
   "cell_type": "code",
   "execution_count": null,
   "metadata": {
    "collapsed": false
   },
   "outputs": [],
   "source": [
    "print os.getcwd()"
   ]
  },
  {
   "cell_type": "code",
   "execution_count": null,
   "metadata": {
    "collapsed": false
   },
   "outputs": [],
   "source": [
    "for t,rep_i in rep_s.iteritems():\n",
    "    try:\n",
    "        os.mkdir(\"%s_prod1\"%t)\n",
    "    except:\n",
    "        print \" already there \""
   ]
  },
  {
   "cell_type": "code",
   "execution_count": null,
   "metadata": {
    "collapsed": true
   },
   "outputs": [],
   "source": [
    "rep_tag = 'D51_00R300R3_A23_R4__n1wB_R41n1wBR41n1wBR41n1wB__n5_x173'"
   ]
  },
  {
   "cell_type": "code",
   "execution_count": null,
   "metadata": {
    "collapsed": false
   },
   "outputs": [],
   "source": [
    "rep_i = rep_s[rep_tag]"
   ]
  },
  {
   "cell_type": "code",
   "execution_count": null,
   "metadata": {
    "collapsed": true
   },
   "outputs": [],
   "source": [
    "rep_lmp = lammps.LAMMPS('%s_prod1'%(rep_i.tag))"
   ]
  },
  {
   "cell_type": "code",
   "execution_count": null,
   "metadata": {
    "collapsed": true
   },
   "outputs": [],
   "source": [
    "rep_lmp.add_strucC(rep_i)"
   ]
  },
  {
   "cell_type": "code",
   "execution_count": null,
   "metadata": {
    "collapsed": true
   },
   "outputs": [],
   "source": [
    "rep_lmp.set_resource(res_i)"
   ]
  },
  {
   "cell_type": "code",
   "execution_count": null,
   "metadata": {
    "collapsed": false
   },
   "outputs": [],
   "source": [
    "os.chdir(rep_lmp.dir['scratch'])"
   ]
  },
  {
   "cell_type": "code",
   "execution_count": null,
   "metadata": {
    "collapsed": true
   },
   "outputs": [],
   "source": [
    "rep_lmp.read_data_pos('prod1.data')"
   ]
  },
  {
   "cell_type": "code",
   "execution_count": null,
   "metadata": {
    "collapsed": true
   },
   "outputs": [],
   "source": [
    "rep_lmp.strucC.write_xyz()"
   ]
  },
  {
   "cell_type": "code",
   "execution_count": null,
   "metadata": {
    "collapsed": true
   },
   "outputs": [],
   "source": [
    "rep_lmp.strucC.write_cply()"
   ]
  },
  {
   "cell_type": "code",
   "execution_count": null,
   "metadata": {
    "collapsed": true
   },
   "outputs": [],
   "source": [
    "ssh_id = \"%s@%s\"%(peregrine.ssh['username'],peregrine.ssh['address'])# "
   ]
  },
  {
   "cell_type": "code",
   "execution_count": null,
   "metadata": {
    "collapsed": true
   },
   "outputs": [],
   "source": [
    "comd = 'scp %s.cply %s:/scratch/tkemper/%s/'%(rep_lmp.strucC.tag,ssh_id,rep_lmp.tag)"
   ]
  },
  {
   "cell_type": "code",
   "execution_count": null,
   "metadata": {
    "collapsed": false
   },
   "outputs": [],
   "source": [
    "os.system(comd)"
   ]
  },
  {
   "cell_type": "code",
   "execution_count": null,
   "metadata": {
    "collapsed": true
   },
   "outputs": [],
   "source": [
    "comd = 'scp %s.xyz %s:/scratch/tkemper/%s/'%(rep_lmp.strucC.tag,ssh_id,rep_lmp.tag)"
   ]
  },
  {
   "cell_type": "code",
   "execution_count": null,
   "metadata": {
    "collapsed": false
   },
   "outputs": [],
   "source": [
    "os.system(comd)"
   ]
  },
  {
   "cell_type": "code",
   "execution_count": null,
   "metadata": {
    "collapsed": true
   },
   "outputs": [],
   "source": []
  },
  {
   "cell_type": "code",
   "execution_count": null,
   "metadata": {
    "collapsed": true
   },
   "outputs": [],
   "source": [
    "for t,rep_i in rep_s.iteritems():\n",
    "\n"
   ]
  },
  {
   "cell_type": "code",
   "execution_count": null,
   "metadata": {
    "collapsed": false
   },
   "outputs": [],
   "source": [
    "print rep_s.keys()"
   ]
  },
  {
   "cell_type": "code",
   "execution_count": null,
   "metadata": {
    "collapsed": true
   },
   "outputs": [],
   "source": [
    "ssh_id = \"%s@%s\"%(peregrine.ssh['username'],peregrine.ssh['address'])# "
   ]
  },
  {
   "cell_type": "code",
   "execution_count": null,
   "metadata": {
    "collapsed": false
   },
   "outputs": [],
   "source": [
    "rep_i = rep_s['D1_R2R200_A31_R4_n1_R41n1R41n1R40n1__n5_x193']"
   ]
  },
  {
   "cell_type": "code",
   "execution_count": null,
   "metadata": {
    "collapsed": false
   },
   "outputs": [],
   "source": [
    "ssh_id = \"%s@%s\"%(peregrine.ssh['username'],peregrine.ssh['address'])# \n",
    "    \n",
    "rep_lmp = lammps.LAMMPS('%s_prod1'%(rep_i.tag))\n",
    "rep_lmp.set_resource(res_i)\n",
    "os.chdir(rep_lmp.dir['scratch'])\n",
    "    "
   ]
  },
  {
   "cell_type": "code",
   "execution_count": null,
   "metadata": {
    "collapsed": true
   },
   "outputs": [],
   "source": [
    "rep_lmp.add_strucC(rep_i)\n",
    "\n"
   ]
  },
  {
   "cell_type": "code",
   "execution_count": null,
   "metadata": {
    "collapsed": false
   },
   "outputs": [],
   "source": [
    "\n",
    "comd = 'scp %s:/scratch/tkemper/%s/prod1.data ./'%(ssh_id,rep_lmp.tag)\n",
    "print comd\n",
    "os.system(comd)\n",
    "    "
   ]
  },
  {
   "cell_type": "code",
   "execution_count": null,
   "metadata": {
    "collapsed": false
   },
   "outputs": [],
   "source": [
    "\n",
    "rep_lmp.read_data_pos('prod1.data')\n",
    "rep_lmp.strucC.write_xyz()\n",
    "rep_lmp.strucC.write_cply()\n",
    "\n",
    "    "
   ]
  },
  {
   "cell_type": "code",
   "execution_count": null,
   "metadata": {
    "collapsed": false
   },
   "outputs": [],
   "source": [
    "ssh_id = \"%s@%s\"%(peregrine.ssh['username'],peregrine.ssh['address'])# \n",
    "comd = 'scp %s.cply %s:/scratch/tkemper/%s/'%(rep_lmp.strucC.tag,ssh_id,rep_lmp.tag)\n",
    "os.system(comd)\n",
    "comd = 'scp %s.xyz %s:/scratch/tkemper/%s/'%(rep_lmp.strucC.tag,ssh_id,rep_lmp.tag)\n",
    "os.system(comd)"
   ]
  },
  {
   "cell_type": "code",
   "execution_count": null,
   "metadata": {
    "collapsed": true
   },
   "outputs": [],
   "source": []
  },
  {
   "cell_type": "code",
   "execution_count": null,
   "metadata": {
    "collapsed": true
   },
   "outputs": [],
   "source": []
  },
  {
   "cell_type": "code",
   "execution_count": null,
   "metadata": {
    "collapsed": true
   },
   "outputs": [],
   "source": []
  },
  {
   "cell_type": "code",
   "execution_count": null,
   "metadata": {
    "collapsed": true
   },
   "outputs": [],
   "source": []
  },
  {
   "cell_type": "code",
   "execution_count": null,
   "metadata": {
    "collapsed": true
   },
   "outputs": [],
   "source": [
    "rep_i = buildingblock.Container('D51_00R300R3_A23_R4__n1wB_R41n1wBR41n1wBR41n1wB__n5_x173')"
   ]
  },
  {
   "cell_type": "code",
   "execution_count": null,
   "metadata": {
    "collapsed": true
   },
   "outputs": [],
   "source": [
    "rep_i.read_cply()"
   ]
  },
  {
   "cell_type": "code",
   "execution_count": null,
   "metadata": {
    "collapsed": true
   },
   "outputs": [],
   "source": [
    "lmp_i = lammps.LAMMPS('prod1')\n",
    "lmp_i.read_data('prod1.data')"
   ]
  },
  {
   "cell_type": "code",
   "execution_count": null,
   "metadata": {
    "collapsed": true
   },
   "outputs": [],
   "source": [
    "print rep_i.n_particles-lmp_i.strucC.n_particles"
   ]
  },
  {
   "cell_type": "code",
   "execution_count": null,
   "metadata": {
    "collapsed": true
   },
   "outputs": [],
   "source": [
    "for pkey,p_i in lmp_i.strucC.particles.iteritems():\n",
    "        if( p_i.properties['symbol'] != rep_i.particles[pkey].properties['symbol']): \n",
    "            print \" error %s not %s \"%(p_i.properties['symbol'] , rep_i.particles[pkey].properties['symbol'])\n",
    "        if( p_i.properties['charge'] != rep_i.particles[pkey].properties['charge']): \n",
    "            print \" error %f not %f \"%(p_i.properties['charge'] , rep_i.particles[pkey].properties['charge'])\n",
    "\n",
    "\n"
   ]
  },
  {
   "cell_type": "code",
   "execution_count": null,
   "metadata": {
    "collapsed": true
   },
   "outputs": [],
   "source": [
    "lmp_i.strucC.particles = rep_i.particles"
   ]
  },
  {
   "cell_type": "code",
   "execution_count": null,
   "metadata": {
    "collapsed": true
   },
   "outputs": [],
   "source": [
    "lmp_i.strucC.write_xyz('prod1.xyz')\n",
    "lmp_i.strucC.write_cply('prod1.cply')"
   ]
  },
  {
   "cell_type": "code",
   "execution_count": null,
   "metadata": {
    "collapsed": true
   },
   "outputs": [],
   "source": [
    "lmp_i.strucC.group_prop('mol','mols')\n",
    "lmp_i.strucC.groupsets['mols'].group_pbcs()\n",
    "lmp_i.strucC.write_xyz('prod1_molpbcs.xyz')\n",
    "lmp_i.strucC.write_cply('prod1_molpbcs.cply')"
   ]
  },
  {
   "cell_type": "code",
   "execution_count": null,
   "metadata": {
    "collapsed": true
   },
   "outputs": [],
   "source": [
    "del lmp_i,rep_i"
   ]
  },
  {
   "cell_type": "code",
   "execution_count": null,
   "metadata": {
    "collapsed": true
   },
   "outputs": [],
   "source": [
    "rep_i = buildingblock.Container('%s_x%d'%(wRES_bb.tag,n))"
   ]
  },
  {
   "cell_type": "code",
   "execution_count": null,
   "metadata": {
    "collapsed": true
   },
   "outputs": [],
   "source": []
  },
  {
   "cell_type": "code",
   "execution_count": null,
   "metadata": {
    "collapsed": true
   },
   "outputs": [],
   "source": []
  },
  {
   "cell_type": "code",
   "execution_count": null,
   "metadata": {
    "collapsed": true
   },
   "outputs": [],
   "source": [
    "rep_i.read_cply()"
   ]
  },
  {
   "cell_type": "code",
   "execution_count": null,
   "metadata": {
    "collapsed": false
   },
   "outputs": [],
   "source": [
    "print rep_i.n_particles"
   ]
  },
  {
   "cell_type": "code",
   "execution_count": null,
   "metadata": {
    "collapsed": true
   },
   "outputs": [],
   "source": [
    "os.chdir(res_i.dir['materials']+'/prod1min1')"
   ]
  },
  {
   "cell_type": "code",
   "execution_count": null,
   "metadata": {
    "collapsed": true
   },
   "outputs": [],
   "source": [
    "prod1_i = buildingblock.Container('%s_x%d'%(wRES_bb.tag,n))"
   ]
  },
  {
   "cell_type": "code",
   "execution_count": null,
   "metadata": {
    "collapsed": true
   },
   "outputs": [],
   "source": [
    "del cube_i,rep_i"
   ]
  },
  {
   "cell_type": "code",
   "execution_count": null,
   "metadata": {
    "collapsed": true
   },
   "outputs": [],
   "source": []
  }
 ],
 "metadata": {
  "anaconda-cloud": {},
  "kernelspec": {
   "display_name": "Python [conda root]",
   "language": "python",
   "name": "conda-root-py"
  },
  "language_info": {
   "codemirror_mode": {
    "name": "ipython",
    "version": 2
   },
   "file_extension": ".py",
   "mimetype": "text/x-python",
   "name": "python",
   "nbconvert_exporter": "python",
   "pygments_lexer": "ipython2",
   "version": "2.7.12"
  }
 },
 "nbformat": 4,
 "nbformat_minor": 0
}
