{
 "cells": [
  {
   "cell_type": "code",
   "execution_count": 1,
   "metadata": {
    "collapsed": false
   },
   "outputs": [],
   "source": [
    "# Standard \n",
    "import os, sys , copy ,shutil, logging, csv, json \n",
    "\n",
    "import pandas as pd\n",
    "import numpy as np\n",
    "%matplotlib inline\n",
    "import matplotlib\n",
    "import matplotlib.pyplot as plt\n",
    "\n",
    "# Import all the streamm modules\n",
    "from streamm import *\n",
    "\n",
    "%load_ext autoreload\n",
    "%autoreload 2"
   ]
  },
  {
   "cell_type": "code",
   "execution_count": 2,
   "metadata": {
    "collapsed": false
   },
   "outputs": [],
   "source": [
    "os.chdir('/Users/tkemper/Projects/DApolymers/scratch/D51_00R300R3_A23_R4__n1wB_R41n1wBR41n1wBR41n1wB__n5_x173_prod1_min2_grp1_remin1_res_et2')"
   ]
  },
  {
   "cell_type": "code",
   "execution_count": 3,
   "metadata": {
    "collapsed": false
   },
   "outputs": [],
   "source": [
    "mol1 = buildingblock.Container('mol1')"
   ]
  },
  {
   "cell_type": "code",
   "execution_count": 4,
   "metadata": {
    "collapsed": true
   },
   "outputs": [],
   "source": [
    "mol1.read_cply()"
   ]
  },
  {
   "cell_type": "code",
   "execution_count": 5,
   "metadata": {
    "collapsed": true
   },
   "outputs": [],
   "source": [
    "group_i_id = 'mol'"
   ]
  },
  {
   "cell_type": "code",
   "execution_count": 6,
   "metadata": {
    "collapsed": true
   },
   "outputs": [],
   "source": [
    "mol1.group_prop(group_i_id,group_i_id)"
   ]
  },
  {
   "cell_type": "code",
   "execution_count": 7,
   "metadata": {
    "collapsed": false
   },
   "outputs": [],
   "source": [
    "        groupset_mol = mol1.groupsets[group_i_id]\n",
    "        groupset_mol.calc_cent_mass()\n",
    "        groupset_mol.calc_radius()\n",
    "        groupset_mol.group_pbcs()"
   ]
  },
  {
   "cell_type": "code",
   "execution_count": 8,
   "metadata": {
    "collapsed": true
   },
   "outputs": [],
   "source": [
    "os.chdir('/Users/tkemper/Projects/DApolymers/scratch/htermtest')"
   ]
  },
  {
   "cell_type": "code",
   "execution_count": 9,
   "metadata": {
    "collapsed": true
   },
   "outputs": [],
   "source": [
    "mol1.write_xyz('%s_pbcs.xyz'%(group_i_id))"
   ]
  },
  {
   "cell_type": "code",
   "execution_count": 10,
   "metadata": {
    "collapsed": true
   },
   "outputs": [],
   "source": [
    "def find_DA(prod1_strucC):\n",
    "    \n",
    "\n",
    "    prod1_strucC.propcompile_particles()\n",
    "    part_df =  pd.DataFrame(prod1_strucC.prop_particles)\n",
    "    ress = []\n",
    "    \n",
    "    for res_i in  part_df['resname']:\n",
    "        if( res_i not in ress ):\n",
    "            ress.append(res_i)\n",
    "        \n",
    "            print res_i\n",
    "\n",
    "    res_D = None\n",
    "    res_A = None\n",
    "    for res_i in ress:\n",
    "        if( res_i[:1] == 'D' ):\n",
    "            res_D = res_i\n",
    "        if( res_i[:1] == 'A' ):\n",
    "            res_A = res_i\n",
    "    if( res_D == None or res_A == None ):\n",
    "        print \" Search failed\"\n",
    "         \n",
    "    \n",
    "    sel_D = part_df['resname'] == res_D\n",
    "    sel_A = part_df['resname'] == res_A\n",
    "    sel_R2 = part_df['resname'] == 'R2'\n",
    "    sel_R3 = part_df['resname'] == 'R3'\n",
    "    sel_R4 = part_df['resname'] == 'R4'\n",
    "    sel_THIO = part_df['resname'] == 'THIO'\n",
    "\n",
    "\n",
    "\n",
    "    syC = part_df['symbol'] == 'C'\n",
    "    syS = part_df['symbol'] == 'S'\n",
    "    syN = part_df['symbol'] == 'N'\n",
    "    syO = part_df['symbol'] == 'O'    \n",
    "    syH = part_df['symbol'] == 'H'    \n",
    "    syF = part_df['symbol'] == 'F'    \n",
    "    ffCBang = part_df['fftype'] == 'C!'\n",
    "\n",
    "    sub_DA = part_df[ (syC | syS  |syN | syO | syH | syF ) &  (sel_D | sel_A | sel_R2  | sel_R4 | ( sel_THIO & ffCBang) ) ]\n",
    "    prod1_strucC.write_xyz_list(sub_DA.index,'sub_DA.xyz') \n",
    "    \n",
    "    return sub_DA\n",
    "    \n",
    "    "
   ]
  },
  {
   "cell_type": "code",
   "execution_count": 11,
   "metadata": {
    "collapsed": false
   },
   "outputs": [
    {
     "name": "stdout",
     "output_type": "stream",
     "text": [
      "D1\n",
      "THIO\n",
      "R3\n",
      "A23\n",
      "R4\n",
      "R41\n"
     ]
    }
   ],
   "source": [
    "sub_DA = find_DA(mol1)"
   ]
  },
  {
   "cell_type": "code",
   "execution_count": 12,
   "metadata": {
    "collapsed": true
   },
   "outputs": [],
   "source": [
    "group_id = 'residue'"
   ]
  },
  {
   "cell_type": "code",
   "execution_count": 13,
   "metadata": {
    "collapsed": false
   },
   "outputs": [],
   "source": [
    "mol1.group_prop(group_id,group_id,particles_select=sub_DA.index)"
   ]
  },
  {
   "cell_type": "code",
   "execution_count": 14,
   "metadata": {
    "collapsed": true
   },
   "outputs": [],
   "source": [
    "groupset_i = mol1.groupsets[group_id]"
   ]
  },
  {
   "cell_type": "code",
   "execution_count": 15,
   "metadata": {
    "collapsed": true
   },
   "outputs": [],
   "source": [
    "groupset_i.calc_cent_mass()"
   ]
  },
  {
   "cell_type": "code",
   "execution_count": 16,
   "metadata": {
    "collapsed": true
   },
   "outputs": [],
   "source": [
    "groupset_i.calc_radius()"
   ]
  },
  {
   "cell_type": "code",
   "execution_count": 17,
   "metadata": {
    "collapsed": false
   },
   "outputs": [],
   "source": [
    "    et_cut = 0.0 \n",
    "    groupset_i.properties['radius'] = []\n",
    "    for gkey,group_i in groupset_i.groups.iteritems():\n",
    "        if(  et_cut  > 0 ):\n",
    "            group_i.properties['radius'] = et_cut \n",
    "        groupset_i.properties['radius'].append(group_i.properties['radius'])\n"
   ]
  },
  {
   "cell_type": "code",
   "execution_count": 18,
   "metadata": {
    "collapsed": true
   },
   "outputs": [],
   "source": [
    "group_i = groupset_i.groups[0]"
   ]
  },
  {
   "cell_type": "code",
   "execution_count": 20,
   "metadata": {
    "collapsed": false
   },
   "outputs": [],
   "source": [
    "        hb_length = 1.09\n",
    "        hb_angle =  109.5\n",
    "        tetrahedral_angle = np.deg2rad(hb_angle/2.0 )\n",
    "        scale_vcross = np.sin(tetrahedral_angle) * hb_length\n",
    "        scale_vadd = np.cos(tetrahedral_angle) * hb_length\n"
   ]
  },
  {
   "cell_type": "code",
   "execution_count": 21,
   "metadata": {
    "collapsed": true
   },
   "outputs": [],
   "source": [
    "self = group_i"
   ]
  },
  {
   "cell_type": "code",
   "execution_count": 120,
   "metadata": {
    "collapsed": false
   },
   "outputs": [],
   "source": [
    "        latticevec = self.strucC.lat._matrix\n",
    "\n",
    "\n",
    "        hb_length = 1.09\n",
    "        hb_angle =  109.5\n",
    "        tetrahedral_angle = np.deg2rad(hb_angle/2.0 )\n",
    "\n",
    "\n",
    "        scale_vcross = np.sin(tetrahedral_angle) * hb_length\n",
    "        scale_vadd = np.cos(tetrahedral_angle) * hb_length\n",
    "        \n",
    "        \n",
    "        HCC_angle = np.deg2rad(hb_angle )\n",
    "        HCC_sin = np.sin(HCC_angle) #* hb_length\n",
    "        HCC_cos = np.cos(HCC_angle) #* hb_length\n",
    "\n",
    "\n",
    "        pt_H = structure.Atom('H')\n",
    "        pt_H.properties = periodictable.element_number(1)\n",
    "        pt_H.properties[\"fftype\"] = \"HC\"\n",
    "        pt_H.properties[\"resname\"] = \"TERM\"\n",
    "        pt_H.properties[\"mol\"] = self.properties[\"mol\"] \n",
    "        pt_H.properties[\"residue\"] = self.properties[\"residue\"] \n",
    "\n",
    "        original_ref_mod = []\n",
    "        sub_ref_mod = []\n",
    "        pid_i_mod = 0\n",
    "\n",
    "        Htermed = self.strucC.getSubStructure(self.pkeys,tag='%s_hterm'%(self.tag))\n",
    "\n"
   ]
  },
  {
   "cell_type": "code",
   "execution_count": 121,
   "metadata": {
    "collapsed": false
   },
   "outputs": [
    {
     "name": "stdout",
     "output_type": "stream",
     "text": [
      ">hterm_group 3 1\n",
      " Nubmer of missing atoms 1 has yet to be accounted for in groups.hterm \n",
      " 3 -> 2\n",
      ">hterm_group 3 2\n",
      ">hterm_group 3 2\n"
     ]
    }
   ],
   "source": [
    "        #def hterm_group(self,debug=False):\n",
    "        \"\"\"\n",
    "        Hydrogen terminate group  \n",
    "\n",
    "        (j)    (l)\n",
    "            \\  /\n",
    "            (i)    - 109.5 deg\n",
    "            /  \\\n",
    "          (k)   (m)\n",
    "          \n",
    "        Hydrogens will be added to sp3 carbons in a tetrahedral configuration\n",
    "\n",
    "            ^         (l)\n",
    "            |        /  |\n",
    "       A    |   C  /    | \n",
    "            |    /      |\n",
    "            |  /        |\n",
    "            (i) -------->  \n",
    "                B\n",
    "\n",
    "        If atom i is bonded to two other atoms j and k\n",
    "        r_ij = position_i - position_j\n",
    "        r_ik = position_i - position_k\n",
    "            A = r_ij x r_ik\n",
    "            B = r_ij + r_ik\n",
    "\n",
    "        For the angle (l)(i)(m) to be 109.5\n",
    "\n",
    "        |A| = sin(  109.5/2 ) |C|\n",
    "        |B| = cos(  109.5/2 ) |C|\n",
    "\n",
    "        By scaling A and B they can be added to get the bonds between i and l and m\n",
    "\n",
    "        r_il = A + B\n",
    "        r_im = -A + B\n",
    "\n",
    "        \"\"\"\n",
    "        \n",
    "        for pkey_i in Htermed.particles.keys():\n",
    "            NNAB_i = Htermed.bonded_nblist.calc_nnab(pkey_i)  # Group neighbors\n",
    "            pkey_o = self.pkeys[pkey_i]\n",
    "            NNAB_o = self.strucC.bonded_nblist.calc_nnab(pkey_o)# Structure container neighbors \n",
    "            if( NNAB_o != NNAB_i):\n",
    "                # If there has been neighbors removed terminate \n",
    "                dB = NNAB_o - NNAB_i\n",
    "                particle_i = Htermed.particles[pkey_i]\n",
    "                r_i = Htermed.positions[pkey_i]\n",
    "                r_ij_array = []\n",
    "                for pkey_j in Htermed.bonded_nblist.getnbs(pkey_i):\n",
    "                    r_j =  Htermed.positions[pkey_j]\n",
    "                    r_ij = Htermed.lat.deltasq_pos(r_i,r_j)\n",
    "                    r_ij_array.append(r_ij)\n",
    "\n",
    "                    # print r_i,r_j,r_ij\n",
    "                \n",
    "                if( len(r_ij_array) != NNAB_i ):\n",
    "                    error_line = \" len(r_ij_array) {} != NNAB_i {} in groups.hterm() \".format(len(r_ij_array),NNAB_i)\n",
    "                    sys.exit(error_line)\n",
    "                    \n",
    "                print \">hterm_group\",NNAB_o,dB \n",
    "                \n",
    "                if( NNAB_o == 3 and dB == 2 ):\n",
    "                    '''\n",
    "                    Choose vector cros_ik normal to plane of i,j and one nieghbor of j \n",
    "                    \n",
    "                    \n",
    "                    \n",
    "                         cros_ik    H0\n",
    "                          |        / \n",
    "                          |       /\n",
    "                          j ---- i \n",
    "                        / \n",
    "                       / \n",
    "                    jk\n",
    "                    \n",
    "                    Scale vectore cros_ik by sin(109.5)\n",
    "                    \n",
    "\n",
    "                             H1\n",
    "                            /  \n",
    "                           /    \n",
    "                    j----i  ----  dr_CC_s                        \n",
    "                    \n",
    "                                        \n",
    "                    \n",
    "                    add to vector dr_CC between i-j scaled by cos(109.5) \n",
    "                    to get a vector hbond_0 which has an angle jiH0 of 109.5  \n",
    "                    '''\n",
    "                    pkey_j = Htermed.bonded_nblist.getnbs(pkey_i)[0]\n",
    "                    r_j =  Htermed.positions[pkey_j]\n",
    "                    for pkey_jk in Htermed.bonded_nblist.getnbs(pkey_j):\n",
    "                        if( pkey_jk != pkey_i ):\n",
    "                            r_jk =  Htermed.positions[pkey_jk]\n",
    "                    dr_CC = r_ij_array[0]\n",
    "                    dr_CC_n = dr_CC/np.linalg.norm(dr_CC)\n",
    "                    dr_CC_s = dr_CC_n*HCC_cos\n",
    "\n",
    "                    dr_jk = Htermed.lat.deltasq_pos(r_j,r_jk)                    \n",
    "                    cros_ik = np.cross(dr_CC,dr_jk)\n",
    "                    cros_ik_n = cros_ik/np.linalg.norm(cros_ik)\n",
    "                    cros_ik_s = cros_ik/np.linalg.norm(cros_ik)*HCC_sin\n",
    "\n",
    "                    hbond_0 = cros_ik_s    + dr_CC_s\n",
    "                    hpos_0 = r_i + hbond_0\n",
    "                    \n",
    "                    r_i0 = Htermed.lat.deltasq_pos(r_i,hpos_0)\n",
    "                    \n",
    "                    '''\n",
    "                                 H1\n",
    "                    theta=109.5 /   \n",
    "                               /    \n",
    "                        j----i ---- H0\n",
    "                               \\\n",
    "                                \\  \n",
    "                                 \\\n",
    "                                  H2\n",
    "                                  \n",
    "                    so dr_CC_s is the same as H0 \n",
    "\n",
    "                        H0(cros_ik_n)\n",
    "                        | \n",
    "                        |    theta2 = 120.0\n",
    "                        |\n",
    "                        i  -------cros_jk\n",
    "                       /  \\\n",
    "                      /    \\\n",
    "                     /      \\\n",
    "                    H2       H1 \n",
    "                    \n",
    "                    H1 is at  2pi/3 from cros_ik_n and cros_jk\n",
    "                    H2 is at -2pi/3 from cros_ik_n and cros_jk\n",
    "\n",
    "                    and cros_ijk_n is again scaled by sin(109.5)\n",
    "                    \n",
    "                    '''\n",
    "\n",
    "                    cros_jk = np.cross(dr_CC,r_i0)\n",
    "                    cros_jk_n = cros_jk/np.linalg.norm(cros_jk)\n",
    "                    phi = 2.0*np.pi/3.0\n",
    "                    cros_ijk = cros_jk_n*np.sin(phi) + cros_ik_n*np.cos(phi)\n",
    "                    cros_ijk_n = cros_ijk/np.linalg.norm(cros_ijk)\n",
    "                    cros_ijk_s = cros_ijk_n*HCC_sin\n",
    "                    hbond_1 = cros_ijk_s + dr_CC_s\n",
    "\n",
    "                    cros_ijk = -1.0*cros_jk_n*np.sin(phi) + cros_ik_n*np.cos(phi)\n",
    "                    cros_ijk_n = cros_ijk/np.linalg.norm(cros_ijk)\n",
    "                    cros_ijk_s = cros_ijk_n*HCC_sin\n",
    "                    hbond_2 = cros_ijk_s + dr_CC_s\n",
    "\n",
    "                    hpos_1 = r_i + hbond_1\n",
    "                    hpos_2 = r_i + hbond_2\n",
    "\n",
    "                    pt_H.properties[\"fftype\"] = \"HC\"\n",
    "                    Htermed.add_partpos(pt_H,hpos_0,deepcopy = True)\n",
    "                    p_j = Htermed.n_particles -1 \n",
    "                    Bond_iH = structure.Bond(pkey_i,p_j)\n",
    "                    Htermed.add_bond(Bond_iH)\n",
    "                    \n",
    "                    pt_H.properties[\"fftype\"] = \"HC\"\n",
    "                    Htermed.add_partpos(pt_H,hpos_1,deepcopy = True)\n",
    "                    p_j = Htermed.n_particles -1 \n",
    "                    Bond_iH = structure.Bond(pkey_i,p_j)\n",
    "                    Htermed.add_bond(Bond_iH)\n",
    "\n",
    "                    pt_H.properties[\"fftype\"] = \"HC\"\n",
    "                    Htermed.add_partpos(pt_H,hpos_2,deepcopy = True)\n",
    "                    p_j = Htermed.n_particles -1 \n",
    "                    Bond_iH = structure.Bond(pkey_i,p_j)\n",
    "                    Htermed.add_bond(Bond_iH)\n",
    "\n",
    "                    #original_ref_mod.append(-1)\n",
    "                    #pid_i_mod += 1 \n",
    "                    #sub_ref_mod.append(pid_i_mod)\n",
    "\n",
    "                    #  Add H-(i)-H angle\n",
    "                    pid_H_j = Htermed.n_particles\n",
    "                    a_i = structure.Angle( pid_H_j-1 ,pkey_i, pid_H_j )            \n",
    "                    Htermed.add_angle(a_i)\n",
    "\n",
    "                    #original_ref_mod.append(-1)\n",
    "                    #pid_i_mod += 1 \n",
    "                    #sub_ref_mod.append(pid_i_mod)\n",
    "                                        \n",
    "                else:\n",
    "                    error_line =  \" Nubmer of missing atoms %d has yet to be accounted for in groups.hterm \\n\"%(dB)\n",
    "                    error_line +=  \" {} -> {}\".format(NNAB_o,NNAB_i)\n",
    "                    Htermed.write_xyz(\"hterm_failed.xyz\")\n",
    "                    print error_line\n",
    "                    #sys.exit(error_line)\n",
    "                # Redo neighbor list\n",
    "                Htermed.bonded_nblist.build_nblist(Htermed.particles,Htermed.bonds )\n",
    "            \n",
    "        #return Htermed #original_ref_mod,sub_ref_mod \n"
   ]
  },
  {
   "cell_type": "code",
   "execution_count": 122,
   "metadata": {
    "collapsed": true
   },
   "outputs": [],
   "source": [
    "Htermed.write_xyz()"
   ]
  },
  {
   "cell_type": "code",
   "execution_count": 123,
   "metadata": {
    "collapsed": false
   },
   "outputs": [
    {
     "name": "stdout",
     "output_type": "stream",
     "text": [
      "residue_0_hterm\n"
     ]
    }
   ],
   "source": [
    "print Htermed.tag"
   ]
  },
  {
   "cell_type": "code",
   "execution_count": 128,
   "metadata": {
    "collapsed": false
   },
   "outputs": [
    {
     "name": "stdout",
     "output_type": "stream",
     "text": [
      ">hterm_group 3 1\n",
      ">hterm_group 3 2\n",
      ">hterm_group 3 2\n"
     ]
    }
   ],
   "source": [
    "htermed = group_i.hterm_group()"
   ]
  },
  {
   "cell_type": "code",
   "execution_count": 129,
   "metadata": {
    "collapsed": true
   },
   "outputs": [],
   "source": [
    "htermed.write_xyz()"
   ]
  },
  {
   "cell_type": "code",
   "execution_count": 130,
   "metadata": {
    "collapsed": false
   },
   "outputs": [
    {
     "data": {
      "text/plain": [
       "'residue_0_hterm'"
      ]
     },
     "execution_count": 130,
     "metadata": {},
     "output_type": "execute_result"
    }
   ],
   "source": [
    "htermed.tag"
   ]
  },
  {
   "cell_type": "code",
   "execution_count": null,
   "metadata": {
    "collapsed": true
   },
   "outputs": [],
   "source": []
  }
 ],
 "metadata": {
  "kernelspec": {
   "display_name": "Python [conda root]",
   "language": "python",
   "name": "conda-root-py"
  },
  "language_info": {
   "codemirror_mode": {
    "name": "ipython",
    "version": 2
   },
   "file_extension": ".py",
   "mimetype": "text/x-python",
   "name": "python",
   "nbconvert_exporter": "python",
   "pygments_lexer": "ipython2",
   "version": "2.7.12"
  }
 },
 "nbformat": 4,
 "nbformat_minor": 1
}
