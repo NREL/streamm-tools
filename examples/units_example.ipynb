{
 "cells": [
  {
   "cell_type": "code",
   "execution_count": null,
   "metadata": {
    "collapsed": true
   },
   "outputs": [],
   "source": [
    "from pprint import pprint"
   ]
  },
  {
   "cell_type": "markdown",
   "metadata": {},
   "source": [
    "The units model is taken from the pymatgen code and modified to contain more unit conversions for the streamm code. "
   ]
  },
  {
   "cell_type": "code",
   "execution_count": null,
   "metadata": {
    "collapsed": true
   },
   "outputs": [],
   "source": [
    "import pymatgen_core.core.units as units "
   ]
  },
  {
   "cell_type": "markdown",
   "metadata": {},
   "source": [
    "Each object in streamm has a property `_unit_conf` that specifies the units for the object. "
   ]
  },
  {
   "cell_type": "markdown",
   "metadata": {},
   "source": [
    "The default `unit_conf` is in units "
   ]
  },
  {
   "cell_type": "code",
   "execution_count": null,
   "metadata": {
    "collapsed": true
   },
   "outputs": [],
   "source": [
    "pprint(units.unit_conf)"
   ]
  },
  {
   "cell_type": "markdown",
   "metadata": {},
   "source": [
    "The units of most objects in streamm can be changed using an `update_units` function associated with that object"
   ]
  },
  {
   "cell_type": "markdown",
   "metadata": {},
   "source": [
    "The units are then converted using a `units_instance`"
   ]
  },
  {
   "cell_type": "markdown",
   "metadata": {},
   "source": [
    "For example to convert units of length"
   ]
  },
  {
   "cell_type": "code",
   "execution_count": null,
   "metadata": {
    "collapsed": true
   },
   "outputs": [],
   "source": [
    "Unit_instance = units.partial(units.FloatWithUnit, unit_type='length')"
   ]
  },
  {
   "cell_type": "code",
   "execution_count": null,
   "metadata": {
    "collapsed": true
   },
   "outputs": [],
   "source": [
    "value = 10.0 \n",
    "old_unit = 'ang'\n",
    "new_unit = 'nm'\n",
    "print \"Conversion of {} to {} is {}\".format(old_unit,new_unit,Unit_instance(value,old_unit).to(new_unit))"
   ]
  },
  {
   "cell_type": "code",
   "execution_count": null,
   "metadata": {
    "collapsed": true
   },
   "outputs": [],
   "source": [
    "value = 10.0 \n",
    "old_unit = 'mile'\n",
    "new_unit = 'ang'\n",
    "print \"Conversion of {} to {} is {}\".format(old_unit,new_unit,Unit_instance(value,old_unit).to(new_unit))"
   ]
  },
  {
   "cell_type": "markdown",
   "metadata": {},
   "source": [
    "To convert units of energy "
   ]
  },
  {
   "cell_type": "code",
   "execution_count": null,
   "metadata": {
    "collapsed": true
   },
   "outputs": [],
   "source": [
    "Unit_instance = units.partial(units.FloatWithUnit, unit_type='energy')"
   ]
  },
  {
   "cell_type": "code",
   "execution_count": null,
   "metadata": {
    "collapsed": true
   },
   "outputs": [],
   "source": [
    "value = 37.500000\n",
    "old_unit = 'kCalmol'\n",
    "new_unit = 'kJmol'\n",
    "print \"Conversion of {} {} to {} is {}\".format(value,old_unit,new_unit,Unit_instance(value,old_unit).to(new_unit))"
   ]
  },
  {
   "cell_type": "code",
   "execution_count": null,
   "metadata": {
    "collapsed": true
   },
   "outputs": [],
   "source": [
    "value = 1.0 \n",
    "old_unit = 'eV'\n",
    "for new_unit in ['Ha','J','wavenumber','kJmol','kCalmol']:\n",
    "    print \"Conversion of {} {} to {} is {}\".format(value,old_unit,new_unit,Unit_instance(value,old_unit).to(new_unit))"
   ]
  },
  {
   "cell_type": "markdown",
   "metadata": {},
   "source": [
    "We have special units for bond stretching of energy/length^2"
   ]
  },
  {
   "cell_type": "code",
   "execution_count": null,
   "metadata": {
    "collapsed": true
   },
   "outputs": [],
   "source": [
    "Unit_instance = units.partial(units.FloatWithUnit, unit_type='harm_bond_coeff')"
   ]
  },
  {
   "cell_type": "code",
   "execution_count": null,
   "metadata": {
    "collapsed": true
   },
   "outputs": [],
   "source": [
    "value = 367.000000\n",
    "old_unit = 'kCalmolsqang'\n",
    "new_unit = 'kJmolsqnm'\n",
    "print \"Conversion of {} {} to {} is {}\".format(value,old_unit,new_unit,Unit_instance(value,old_unit).to(new_unit))"
   ]
  },
  {
   "cell_type": "markdown",
   "metadata": {},
   "source": [
    "Well, that's handy!"
   ]
  }
 ],
 "metadata": {
  "anaconda-cloud": {},
  "kernelspec": {
   "display_name": "Python 2",
   "language": "python",
   "name": "python2"
  },
  "language_info": {
   "codemirror_mode": {
    "name": "ipython",
    "version": 2
   },
   "file_extension": ".py",
   "mimetype": "text/x-python",
   "name": "python",
   "nbconvert_exporter": "python",
   "pygments_lexer": "ipython2",
   "version": "2.7.13"
  }
 },
 "nbformat": 4,
 "nbformat_minor": 2
}
