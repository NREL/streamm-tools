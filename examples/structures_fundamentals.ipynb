{
 "cells": [
  {
   "cell_type": "code",
   "execution_count": 1,
   "metadata": {
    "collapsed": true
   },
   "outputs": [],
   "source": [
    "%load_ext autoreload\n",
    "%autoreload 2"
   ]
  },
  {
   "cell_type": "markdown",
   "metadata": {},
   "source": [
    "This notebook imports the fundamental objects of the streamm package and goes through the functionality of each"
   ]
  },
  {
   "cell_type": "markdown",
   "metadata": {},
   "source": [
    "Let's start with the Particle object "
   ]
  },
  {
   "cell_type": "code",
   "execution_count": 2,
   "metadata": {
    "collapsed": true
   },
   "outputs": [],
   "source": [
    "from streamm.structures.particle import Particle"
   ]
  },
  {
   "cell_type": "markdown",
   "metadata": {},
   "source": [
    "Create a particle object with label 'C1'"
   ]
  },
  {
   "cell_type": "code",
   "execution_count": 3,
   "metadata": {
    "collapsed": true
   },
   "outputs": [],
   "source": [
    "p_i = Particle(label='C1')"
   ]
  },
  {
   "cell_type": "code",
   "execution_count": 4,
   "metadata": {},
   "outputs": [
    {
     "name": "stdout",
     "output_type": "stream",
     "text": [
      "atom:C1\n"
     ]
    }
   ],
   "source": [
    "print(p_i)"
   ]
  },
  {
   "cell_type": "markdown",
   "metadata": {},
   "source": [
    "Assign the carbon element to the particle"
   ]
  },
  {
   "cell_type": "code",
   "execution_count": 5,
   "metadata": {
    "collapsed": true
   },
   "outputs": [],
   "source": [
    "p_i.set_element('C')"
   ]
  },
  {
   "cell_type": "markdown",
   "metadata": {},
   "source": [
    "Check that the element properties were set to the particle "
   ]
  },
  {
   "cell_type": "code",
   "execution_count": 6,
   "metadata": {},
   "outputs": [
    {
     "name": "stdout",
     "output_type": "stream",
     "text": [
      " type:atom \n",
      " label:C1\n",
      " symbol:C\n",
      " mass:12.0107 amu\n",
      " charge:0.0\n",
      " bonded_radius:0.67\n",
      " nonbonded_radius:1.7\n"
     ]
    }
   ],
   "source": [
    "property_msg = \" type:{} \".format(p_i.type)\n",
    "property_msg += \"\\n label:{}\".format(p_i.label)\n",
    "property_msg += \"\\n symbol:{}\".format(p_i.symbol)\n",
    "property_msg += \"\\n mass:{}\".format(p_i.mass)\n",
    "property_msg += \"\\n charge:{}\".format(p_i.charge)\n",
    "property_msg += \"\\n bonded_radius:{}\".format(p_i.bonded_radius)\n",
    "property_msg += \"\\n nonbonded_radius:{}\".format(p_i.nonbonded_radius)\n",
    "\n",
    "print(property_msg)"
   ]
  },
  {
   "cell_type": "markdown",
   "metadata": {},
   "source": [
    "Let's create another particle and set the element to hydrogen "
   ]
  },
  {
   "cell_type": "code",
   "execution_count": 7,
   "metadata": {
    "collapsed": true
   },
   "outputs": [],
   "source": [
    "p_j = Particle(symbol='H')"
   ]
  },
  {
   "cell_type": "code",
   "execution_count": 8,
   "metadata": {},
   "outputs": [
    {
     "name": "stdout",
     "output_type": "stream",
     "text": [
      " type:atom \n",
      " label:H\n",
      " symbol:H\n",
      " mass:1.00794 amu\n",
      " charge:0.0\n",
      " bonded_radius:0.53\n",
      " nonbonded_radius:1.2\n"
     ]
    }
   ],
   "source": [
    "property_msg = \" type:{} \".format(p_j.type)\n",
    "property_msg += \"\\n label:{}\".format(p_j.label)\n",
    "property_msg += \"\\n symbol:{}\".format(p_j.symbol)\n",
    "property_msg += \"\\n mass:{}\".format(p_j.mass)\n",
    "property_msg += \"\\n charge:{}\".format(p_j.charge)\n",
    "property_msg += \"\\n bonded_radius:{}\".format(p_j.bonded_radius)\n",
    "property_msg += \"\\n nonbonded_radius:{}\".format(p_j.nonbonded_radius)\n",
    "\n",
    "print(property_msg)"
   ]
  },
  {
   "cell_type": "markdown",
   "metadata": {},
   "source": [
    "Let's make an empty structure container "
   ]
  },
  {
   "cell_type": "code",
   "execution_count": 9,
   "metadata": {
    "collapsed": true
   },
   "outputs": [],
   "source": [
    "from streamm.structures.container import Container"
   ]
  },
  {
   "cell_type": "code",
   "execution_count": 10,
   "metadata": {
    "collapsed": true
   },
   "outputs": [],
   "source": [
    "mol_i = Container('methane')"
   ]
  },
  {
   "cell_type": "markdown",
   "metadata": {},
   "source": [
    "Now let's construct a molecule "
   ]
  },
  {
   "cell_type": "markdown",
   "metadata": {},
   "source": [
    "We can add the carbon at the origin using the ``add_partpos()`` function. "
   ]
  },
  {
   "cell_type": "code",
   "execution_count": 11,
   "metadata": {
    "collapsed": true
   },
   "outputs": [],
   "source": [
    "pos_i = [0.0,0.0,0.0]\n",
    "mol_i.add_partpos(p_i,pos_i)"
   ]
  },
  {
   "cell_type": "code",
   "execution_count": 12,
   "metadata": {},
   "outputs": [
    {
     "name": "stdout",
     "output_type": "stream",
     "text": [
      "Now the structure container has 1 particle \n"
     ]
    }
   ],
   "source": [
    "print(\"Now the structure container has {} particle \".format(mol_i.n_particles))"
   ]
  },
  {
   "cell_type": "markdown",
   "metadata": {},
   "source": [
    "Find the positions of the hydrogens to give a tetrahedral molecular geometry  with a little math"
   ]
  },
  {
   "cell_type": "code",
   "execution_count": 13,
   "metadata": {
    "collapsed": true
   },
   "outputs": [],
   "source": [
    "import numpy as np\n",
    "import decimal"
   ]
  },
  {
   "cell_type": "code",
   "execution_count": 14,
   "metadata": {},
   "outputs": [],
   "source": [
    "bond_length = float(decimal.Decimal(str(p_i.bonded_radius + p_j.bonded_radius)))"
   ]
  },
  {
   "cell_type": "code",
   "execution_count": 15,
   "metadata": {},
   "outputs": [
    {
     "data": {
      "text/plain": [
       "1.2"
      ]
     },
     "execution_count": 15,
     "metadata": {},
     "output_type": "execute_result"
    }
   ],
   "source": [
    "bond_length"
   ]
  },
  {
   "cell_type": "code",
   "execution_count": 16,
   "metadata": {
    "collapsed": true
   },
   "outputs": [],
   "source": [
    "tet_a = bond_length/np.sqrt(3)"
   ]
  },
  {
   "cell_type": "code",
   "execution_count": 17,
   "metadata": {},
   "outputs": [
    {
     "name": "stdout",
     "output_type": "stream",
     "text": [
      "0.692820323028\n"
     ]
    }
   ],
   "source": [
    "print tet_a"
   ]
  },
  {
   "cell_type": "markdown",
   "metadata": {},
   "source": [
    "Add hydrogens"
   ]
  },
  {
   "cell_type": "code",
   "execution_count": 18,
   "metadata": {
    "collapsed": true
   },
   "outputs": [],
   "source": [
    "pos_j = [tet_a,tet_a,tet_a]\n",
    "mol_i.add_partpos(p_j,pos_j)"
   ]
  },
  {
   "cell_type": "markdown",
   "metadata": {},
   "source": [
    "We can add the subsequent hydrogens using the same particle object since add_partpos makes a deepcopy of the object when adding to the structure container"
   ]
  },
  {
   "cell_type": "code",
   "execution_count": 19,
   "metadata": {
    "collapsed": true
   },
   "outputs": [],
   "source": [
    "pos_j = [-tet_a,-tet_a,tet_a]\n",
    "mol_i.add_partpos(p_j,pos_j)"
   ]
  },
  {
   "cell_type": "code",
   "execution_count": 20,
   "metadata": {},
   "outputs": [],
   "source": [
    "pos_j = [-tet_a,tet_a,-tet_a]\n",
    "mol_i.add_partpos(p_j,pos_j)"
   ]
  },
  {
   "cell_type": "code",
   "execution_count": 21,
   "metadata": {
    "collapsed": true
   },
   "outputs": [],
   "source": [
    "pos_j = [tet_a,-tet_a,-tet_a]\n",
    "mol_i.add_partpos(p_j,pos_j)"
   ]
  },
  {
   "cell_type": "markdown",
   "metadata": {},
   "source": [
    "Check the position array "
   ]
  },
  {
   "cell_type": "code",
   "execution_count": 22,
   "metadata": {},
   "outputs": [
    {
     "name": "stdout",
     "output_type": "stream",
     "text": [
      "[array([ 0.,  0.,  0.]), array([ 0.69282032,  0.69282032,  0.69282032]), array([-0.69282032, -0.69282032,  0.69282032]), array([-0.69282032,  0.69282032, -0.69282032]), array([ 0.69282032, -0.69282032, -0.69282032])]\n"
     ]
    }
   ],
   "source": [
    "print mol_i.positions"
   ]
  },
  {
   "cell_type": "markdown",
   "metadata": {},
   "source": [
    "The particles instance variable of the structure container is a dictionary, so we can just loop over that using the iteritems() function. "
   ]
  },
  {
   "cell_type": "code",
   "execution_count": 23,
   "metadata": {},
   "outputs": [
    {
     "name": "stdout",
     "output_type": "stream",
     "text": [
      "0 atom:C1\n",
      "1 atom:H\n",
      "2 atom:H\n",
      "3 atom:H\n",
      "4 atom:H\n"
     ]
    }
   ],
   "source": [
    "for p_index,particle_i in mol_i.particles.iteritems():\n",
    "    print p_index,particle_i"
   ]
  },
  {
   "cell_type": "markdown",
   "metadata": {},
   "source": [
    "Hum, let's fix the labels of the hydrogens..."
   ]
  },
  {
   "cell_type": "code",
   "execution_count": 24,
   "metadata": {
    "collapsed": true
   },
   "outputs": [],
   "source": [
    "h_cnt = 1\n",
    "for p_index,particle_i in mol_i.particles.iteritems():\n",
    "    if( particle_i.symbol == 'H' ):\n",
    "        particle_i.label = 'H{}'.format(h_cnt)\n",
    "        h_cnt += 1\n",
    "        "
   ]
  },
  {
   "cell_type": "code",
   "execution_count": 25,
   "metadata": {},
   "outputs": [
    {
     "name": "stdout",
     "output_type": "stream",
     "text": [
      "0 atom:C1\n",
      "1 atom:H1\n",
      "2 atom:H2\n",
      "3 atom:H3\n",
      "4 atom:H4\n"
     ]
    }
   ],
   "source": [
    "for p_index,particle_i in mol_i.particles.iteritems():\n",
    "    print p_index,particle_i"
   ]
  },
  {
   "cell_type": "markdown",
   "metadata": {},
   "source": [
    "Okay, that looks better"
   ]
  },
  {
   "cell_type": "markdown",
   "metadata": {},
   "source": [
    "Print .xyz file and check geometry with a molecular viewer such as  Avogadro (https://avogadro.cc/) "
   ]
  },
  {
   "cell_type": "code",
   "execution_count": 26,
   "metadata": {
    "collapsed": true
   },
   "outputs": [],
   "source": [
    "mol_i.write_xyz()"
   ]
  },
  {
   "cell_type": "markdown",
   "metadata": {},
   "source": [
    "Looks good, you should have the geometry of a methane molecule with bond length of 1.2 Angstroms "
   ]
  },
  {
   "cell_type": "markdown",
   "metadata": {},
   "source": [
    "However, we have not told streamm about the bonds. There are a few ways to do this, let's do it explictly with the Bond object fist."
   ]
  },
  {
   "cell_type": "code",
   "execution_count": 27,
   "metadata": {
    "collapsed": true
   },
   "outputs": [],
   "source": [
    "from streamm.structures.bond import Bond"
   ]
  },
  {
   "cell_type": "markdown",
   "metadata": {},
   "source": [
    "based on the particle index values"
   ]
  },
  {
   "cell_type": "code",
   "execution_count": 28,
   "metadata": {
    "collapsed": true
   },
   "outputs": [],
   "source": [
    "b_ij = Bond(0,1)"
   ]
  },
  {
   "cell_type": "markdown",
   "metadata": {},
   "source": [
    "Now add the bond to the bonds dictionary in the structure container"
   ]
  },
  {
   "cell_type": "code",
   "execution_count": 29,
   "metadata": {
    "collapsed": true
   },
   "outputs": [],
   "source": [
    "mol_i.add_bond(b_ij)"
   ]
  },
  {
   "cell_type": "code",
   "execution_count": 30,
   "metadata": {},
   "outputs": [
    {
     "name": "stdout",
     "output_type": "stream",
     "text": [
      "Now the structure container has 5 particle/s and 1 bond/s\n"
     ]
    }
   ],
   "source": [
    "print(\"Now the structure container has {} particle/s and {} bond/s\".format(mol_i.n_particles,mol_i.n_bonds))\n"
   ]
  },
  {
   "cell_type": "markdown",
   "metadata": {},
   "source": [
    "Neat, but adding all the bonds, bond angles and dihedrals explicitly would be pretty tedious, so let's use some functions to do that. "
   ]
  },
  {
   "cell_type": "markdown",
   "metadata": {},
   "source": [
    "First let's guess the ``bonded_nblist`` of the molecule based on the ``bonded_radius`` of each particle (atom)"
   ]
  },
  {
   "cell_type": "code",
   "execution_count": 31,
   "metadata": {
    "collapsed": true
   },
   "outputs": [],
   "source": [
    "mol_i.bonded_nblist = mol_i.guess_nblist(0,radii_buffer=1.25)"
   ]
  },
  {
   "cell_type": "code",
   "execution_count": 32,
   "metadata": {},
   "outputs": [
    {
     "name": "stdout",
     "output_type": "stream",
     "text": [
      " NBlist of 5 particle with 8 connections\n"
     ]
    }
   ],
   "source": [
    "print mol_i.bonded_nblist"
   ]
  },
  {
   "cell_type": "markdown",
   "metadata": {},
   "source": [
    "Let's take a look at the neighbor lists ``list`` and ``index`` instance variables "
   ]
  },
  {
   "cell_type": "code",
   "execution_count": 33,
   "metadata": {},
   "outputs": [
    {
     "name": "stdout",
     "output_type": "stream",
     "text": [
      "[1, 2, 3, 4, 0, 0, 0, 0]\n",
      "[0, 4, 5, 6, 7, 8]\n"
     ]
    }
   ],
   "source": [
    "print mol_i.bonded_nblist.list \n",
    "print mol_i.bonded_nblist.index "
   ]
  },
  {
   "cell_type": "markdown",
   "metadata": {},
   "source": [
    "Looking at the ``index `` for particle 0, we get that it has neighbors in the ``list`` from 0:3 (index[0]:index[0+1]-1). There for we know particle 0 has [1, 2, 3, 4] for nieghbors."
   ]
  },
  {
   "cell_type": "code",
   "execution_count": 34,
   "metadata": {},
   "outputs": [
    {
     "name": "stdout",
     "output_type": "stream",
     "text": [
      "4\n"
     ]
    }
   ],
   "source": [
    "print mol_i.bonded_nblist.calc_nnab(0)"
   ]
  },
  {
   "cell_type": "markdown",
   "metadata": {},
   "source": [
    "Now we can used the bonded neighbor list to construct the bonds,bond angles and dihedrals "
   ]
  },
  {
   "cell_type": "code",
   "execution_count": 35,
   "metadata": {
    "collapsed": true
   },
   "outputs": [],
   "source": [
    "mol_i.bonded_bonds()\n",
    "mol_i.bonded_angles()\n",
    "mol_i.bonded_dih()\n"
   ]
  },
  {
   "cell_type": "code",
   "execution_count": 36,
   "metadata": {},
   "outputs": [
    {
     "name": "stdout",
     "output_type": "stream",
     "text": [
      " n_particles:5 \n",
      " n_bonds:4\n",
      " n_angles:6\n",
      " n_dihedrals:0\n",
      " n_impropers:0\n"
     ]
    }
   ],
   "source": [
    "property_msg = \" n_particles:{} \".format(mol_i.n_particles)\n",
    "property_msg += \"\\n n_bonds:{}\".format(mol_i.n_bonds)\n",
    "property_msg += \"\\n n_angles:{}\".format(mol_i.n_angles)\n",
    "property_msg += \"\\n n_dihedrals:{}\".format(mol_i.n_dihedrals)\n",
    "property_msg += \"\\n n_impropers:{}\".format(mol_i.n_impropers)\n",
    "\n",
    "print(property_msg)"
   ]
  },
  {
   "cell_type": "markdown",
   "metadata": {},
   "source": [
    "A little easier than adding everything by hand"
   ]
  },
  {
   "cell_type": "code",
   "execution_count": null,
   "metadata": {
    "collapsed": true
   },
   "outputs": [],
   "source": []
  }
 ],
 "metadata": {
  "kernelspec": {
   "display_name": "Python 2",
   "language": "python",
   "name": "python2"
  },
  "language_info": {
   "codemirror_mode": {
    "name": "ipython",
    "version": 2
   },
   "file_extension": ".py",
   "mimetype": "text/x-python",
   "name": "python",
   "nbconvert_exporter": "python",
   "pygments_lexer": "ipython2",
   "version": "2.7.13"
  }
 },
 "nbformat": 4,
 "nbformat_minor": 2
}
