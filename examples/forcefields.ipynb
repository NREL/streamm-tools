{
 "cells": [
  {
   "cell_type": "markdown",
   "metadata": {},
   "source": [
    "This notebook imports the fundamental objects of the streamm.forcefields module and goes through the functionality of each"
   ]
  },
  {
   "cell_type": "code",
   "execution_count": 1,
   "metadata": {
    "collapsed": true
   },
   "outputs": [],
   "source": [
    "from pprint import pprint"
   ]
  },
  {
   "cell_type": "code",
   "execution_count": 2,
   "metadata": {
    "collapsed": true
   },
   "outputs": [],
   "source": [
    "import logging\n",
    "logging.basicConfig(filename='forcefield_example.log',level=logging.DEBUG)"
   ]
  },
  {
   "cell_type": "code",
   "execution_count": 3,
   "metadata": {
    "collapsed": true
   },
   "outputs": [],
   "source": [
    "import streamm.forcefields.particletype as particletype"
   ]
  },
  {
   "cell_type": "markdown",
   "metadata": {},
   "source": [
    "Let's start with a ethane molecule from the buildingblocks.ipynb example "
   ]
  },
  {
   "cell_type": "markdown",
   "metadata": {},
   "source": [
    "We have an sp3 carbon bonded to hydrogens"
   ]
  },
  {
   "cell_type": "markdown",
   "metadata": {},
   "source": [
    "Let's create the force field parameters object for a 'CT' carbon and an 'HC' hydrogen"
   ]
  },
  {
   "cell_type": "code",
   "execution_count": 4,
   "metadata": {
    "collapsed": true
   },
   "outputs": [],
   "source": [
    "CT = particletype.Particletype('CT')\n",
    "HC = particletype.Particletype('HC')"
   ]
  },
  {
   "cell_type": "markdown",
   "metadata": {},
   "source": [
    "Set some parameters from J. Am. Chem. Soc., Vol. 121, No. 20, 1999"
   ]
  },
  {
   "cell_type": "markdown",
   "metadata": {},
   "source": [
    "In general you should pick a force field that has been shown to work well for your system and set up the parameters "
   ]
  },
  {
   "cell_type": "markdown",
   "metadata": {},
   "source": [
    "Check that we have our units set right"
   ]
  },
  {
   "cell_type": "code",
   "execution_count": 5,
   "metadata": {},
   "outputs": [
    {
     "name": "stdout",
     "output_type": "stream",
     "text": [
      "Ha ang\n"
     ]
    }
   ],
   "source": [
    "print CT.unit_conf['energy'],CT.unit_conf['length']"
   ]
  },
  {
   "cell_type": "markdown",
   "metadata": {},
   "source": [
    "Our potential is in kCal/mol (`kCalmol`) so let's get the unit dictionary and create our own default"
   ]
  },
  {
   "cell_type": "code",
   "execution_count": 6,
   "metadata": {
    "collapsed": true
   },
   "outputs": [],
   "source": [
    "import copy"
   ]
  },
  {
   "cell_type": "code",
   "execution_count": 7,
   "metadata": {
    "collapsed": true
   },
   "outputs": [],
   "source": [
    "oplsaa_unit_conf = copy.deepcopy(CT.unit_conf)"
   ]
  },
  {
   "cell_type": "code",
   "execution_count": 8,
   "metadata": {
    "collapsed": true
   },
   "outputs": [],
   "source": [
    "oplsaa_unit_conf['energy'] = 'kCalmol'"
   ]
  },
  {
   "cell_type": "code",
   "execution_count": 9,
   "metadata": {},
   "outputs": [
    {
     "name": "stdout",
     "output_type": "stream",
     "text": [
      "{u'amount': u'atom',\n",
      " u'angle': u'degree',\n",
      " u'capacitance': u'F',\n",
      " u'charge': u'e',\n",
      " u'conductance': u'S',\n",
      " u'current': u'A',\n",
      " u'density': u'amu_nm^3',\n",
      " u'electric_dipole_moment': u'D',\n",
      " u'emf': u'V',\n",
      " u'energy': 'kCalmol',\n",
      " u'force': u'GN',\n",
      " u'frequency': u'Hz',\n",
      " u'harm_bond_coeff': u'kCalmolsqang',\n",
      " u'intensity': u'cd',\n",
      " u'length': u'ang',\n",
      " u'magnetic_flux': u'Wb',\n",
      " u'mass': u'amu',\n",
      " u'memory': u'Kb',\n",
      " u'power': u'GW',\n",
      " u'pressure': u'KPa',\n",
      " u'resistance': u'ohm',\n",
      " u'temperature': u'K',\n",
      " u'time': u'ns',\n",
      " u'volume': u'nm^3'}\n"
     ]
    }
   ],
   "source": [
    "pprint(oplsaa_unit_conf)"
   ]
  },
  {
   "cell_type": "code",
   "execution_count": 10,
   "metadata": {
    "collapsed": true
   },
   "outputs": [],
   "source": [
    "CT.update_units(oplsaa_unit_conf)"
   ]
  },
  {
   "cell_type": "code",
   "execution_count": 11,
   "metadata": {
    "collapsed": true
   },
   "outputs": [],
   "source": [
    "HC.update_units(oplsaa_unit_conf)"
   ]
  },
  {
   "cell_type": "code",
   "execution_count": 12,
   "metadata": {
    "collapsed": true
   },
   "outputs": [],
   "source": [
    "CT.epsilon = 0.066 # kcal/mol\n",
    "CT.sigma = 3.5 # Angstroms "
   ]
  },
  {
   "cell_type": "code",
   "execution_count": 13,
   "metadata": {
    "collapsed": true
   },
   "outputs": [],
   "source": [
    "HC.epsilon = 0.03 # kcal/mol\n",
    "HC.sigma = 2.5 # Angstroms "
   ]
  },
  {
   "cell_type": "markdown",
   "metadata": {},
   "source": [
    "Set mass using periodic table"
   ]
  },
  {
   "cell_type": "code",
   "execution_count": 14,
   "metadata": {
    "collapsed": true
   },
   "outputs": [],
   "source": [
    "import pymatgen_core.core.periodic_table as periodic_table"
   ]
  },
  {
   "cell_type": "code",
   "execution_count": 15,
   "metadata": {
    "collapsed": true
   },
   "outputs": [],
   "source": [
    "CT.mass =  periodic_table.Element['C'].atomic_mass.real\n",
    "HC.mass =  periodic_table.Element['H'].atomic_mass.real"
   ]
  },
  {
   "cell_type": "markdown",
   "metadata": {},
   "source": [
    "Set the bond stretching parameters "
   ]
  },
  {
   "cell_type": "code",
   "execution_count": 16,
   "metadata": {
    "collapsed": true
   },
   "outputs": [],
   "source": [
    "import streamm.forcefields.bondtype as bondtype"
   ]
  },
  {
   "cell_type": "code",
   "execution_count": 17,
   "metadata": {
    "collapsed": true
   },
   "outputs": [],
   "source": [
    "C_H = bondtype.Bondtype('CT','HC',unit_conf=oplsaa_unit_conf)"
   ]
  },
  {
   "cell_type": "code",
   "execution_count": 18,
   "metadata": {
    "collapsed": true
   },
   "outputs": [],
   "source": [
    "C_H.setharmonic(1.080,367.0)"
   ]
  },
  {
   "cell_type": "code",
   "execution_count": 19,
   "metadata": {
    "scrolled": true
   },
   "outputs": [
    {
     "name": "stdout",
     "output_type": "stream",
     "text": [
      " bond  CT - HC type harmonic \n",
      "  harmonic r_0 = 1.080000 K = 367.000000 lammps index 0  gromacs index 0  \n"
     ]
    }
   ],
   "source": [
    "print C_H"
   ]
  },
  {
   "cell_type": "code",
   "execution_count": 20,
   "metadata": {
    "collapsed": true
   },
   "outputs": [],
   "source": [
    "C_C = bondtype.Bondtype('CT','CT',unit_conf=oplsaa_unit_conf)\n",
    "C_C.setharmonic(1.53,268.0)"
   ]
  },
  {
   "cell_type": "code",
   "execution_count": 21,
   "metadata": {
    "collapsed": true
   },
   "outputs": [],
   "source": [
    "import streamm.forcefields.angletype as angletype"
   ]
  },
  {
   "cell_type": "code",
   "execution_count": 22,
   "metadata": {
    "collapsed": true
   },
   "outputs": [],
   "source": [
    "H_C_H = angletype.Angletype('HC','CT','HC',unit_conf=oplsaa_unit_conf)"
   ]
  },
  {
   "cell_type": "code",
   "execution_count": 23,
   "metadata": {
    "collapsed": true
   },
   "outputs": [],
   "source": [
    "H_C_H.setharmonic(110.7,37.50)"
   ]
  },
  {
   "cell_type": "code",
   "execution_count": 24,
   "metadata": {},
   "outputs": [
    {
     "name": "stdout",
     "output_type": "stream",
     "text": [
      " angle  HC - CT - HC type harmonic \n",
      "  harmonic theta_0 = 110.700000 K = 37.500000 lammps index 0  gromacs index 0  \n"
     ]
    }
   ],
   "source": [
    "print H_C_H"
   ]
  },
  {
   "cell_type": "code",
   "execution_count": 25,
   "metadata": {
    "collapsed": true
   },
   "outputs": [],
   "source": [
    "H_C_C = angletype.Angletype('HC','CT','CT',unit_conf=oplsaa_unit_conf)\n",
    "H_C_C.setharmonic(110.7,37.50)"
   ]
  },
  {
   "cell_type": "markdown",
   "metadata": {},
   "source": [
    "Now we need a dihedral potential for the HC-CT-CT-HC dihedral "
   ]
  },
  {
   "cell_type": "code",
   "execution_count": 26,
   "metadata": {
    "collapsed": true
   },
   "outputs": [],
   "source": [
    "import streamm.forcefields.dihtype as dihtype"
   ]
  },
  {
   "cell_type": "code",
   "execution_count": 27,
   "metadata": {
    "collapsed": true
   },
   "outputs": [],
   "source": [
    "H_C_C_H = dihtype.Dihtype('HC','CT','CT','HC',unit_conf=oplsaa_unit_conf)"
   ]
  },
  {
   "cell_type": "code",
   "execution_count": 28,
   "metadata": {
    "collapsed": true
   },
   "outputs": [],
   "source": [
    "H_C_C_H.type ='opls'"
   ]
  },
  {
   "cell_type": "code",
   "execution_count": 29,
   "metadata": {
    "collapsed": true
   },
   "outputs": [],
   "source": [
    "H_C_C_H.setopls(0.0,0.0,0.3,0.0)"
   ]
  },
  {
   "cell_type": "markdown",
   "metadata": {},
   "source": [
    "Let's create a parameter container to keep track of our parameters"
   ]
  },
  {
   "cell_type": "code",
   "execution_count": 30,
   "metadata": {
    "collapsed": true
   },
   "outputs": [],
   "source": [
    "import streamm.forcefields.parameters as parameters "
   ]
  },
  {
   "cell_type": "code",
   "execution_count": 31,
   "metadata": {
    "collapsed": true
   },
   "outputs": [],
   "source": [
    "paramC = parameters.Parameters('oplsaa',unit_conf=oplsaa_unit_conf)"
   ]
  },
  {
   "cell_type": "markdown",
   "metadata": {},
   "source": [
    "Add parameters to the container"
   ]
  },
  {
   "cell_type": "code",
   "execution_count": 32,
   "metadata": {
    "collapsed": true
   },
   "outputs": [],
   "source": [
    "paramC.add_particletype(CT)"
   ]
  },
  {
   "cell_type": "code",
   "execution_count": 33,
   "metadata": {
    "collapsed": true
   },
   "outputs": [],
   "source": [
    "paramC.add_particletype(HC)"
   ]
  },
  {
   "cell_type": "code",
   "execution_count": 34,
   "metadata": {
    "collapsed": true
   },
   "outputs": [],
   "source": [
    "paramC.add_bondtype(C_H)\n",
    "paramC.add_bondtype(C_C)"
   ]
  },
  {
   "cell_type": "code",
   "execution_count": 35,
   "metadata": {
    "collapsed": true
   },
   "outputs": [],
   "source": [
    "paramC.add_angletype(H_C_H)\n",
    "paramC.add_angletype(H_C_C)"
   ]
  },
  {
   "cell_type": "code",
   "execution_count": 36,
   "metadata": {
    "collapsed": true
   },
   "outputs": [],
   "source": [
    "paramC.add_dihtype(H_C_C_H)"
   ]
  },
  {
   "cell_type": "code",
   "execution_count": 37,
   "metadata": {},
   "outputs": [
    {
     "name": "stdout",
     "output_type": "stream",
     "text": [
      "\n",
      "    Parameters \n",
      "      LJ parameters 2 \n",
      "      Bond parameters 2 \n",
      "      Angle parameters 2 \n",
      "      Dihedral parameters 1 \n",
      "      Imporper Dihedral parameters 0 \n",
      "\n"
     ]
    }
   ],
   "source": [
    "print paramC"
   ]
  },
  {
   "cell_type": "code",
   "execution_count": 38,
   "metadata": {},
   "outputs": [
    {
     "name": "stdout",
     "output_type": "stream",
     "text": [
      "0  CT epsilon:0.066 sigma:3.5 kCalmol ang\n",
      "1  HC epsilon:0.03 sigma:2.5 kCalmol ang\n"
     ]
    }
   ],
   "source": [
    "for ptkey,pt in paramC.particletypes.iteritems():\n",
    "    print ptkey,pt,pt.unit_conf['energy'],pt.unit_conf['length']\n",
    "    "
   ]
  },
  {
   "cell_type": "code",
   "execution_count": 39,
   "metadata": {},
   "outputs": [
    {
     "name": "stdout",
     "output_type": "stream",
     "text": [
      "0  bond  CT - HC type harmonic \n",
      "  harmonic r_0 = 1.080000 K = 367.000000 lammps index 0  gromacs index 0   kCalmolsqang ang\n",
      "1  bond  CT - CT type harmonic \n",
      "  harmonic r_0 = 1.530000 K = 268.000000 lammps index 0  gromacs index 0   kCalmolsqang ang\n"
     ]
    }
   ],
   "source": [
    "for btkey,bt in paramC.bondtypes.iteritems():\n",
    "    print btkey,bt,bt.unit_conf['harm_bond_coeff'],pt.unit_conf['length']"
   ]
  },
  {
   "cell_type": "code",
   "execution_count": 40,
   "metadata": {},
   "outputs": [
    {
     "name": "stdout",
     "output_type": "stream",
     "text": [
      "0  angle  HC - CT - HC type harmonic \n",
      "  harmonic theta_0 = 110.700000 K = 37.500000 lammps index 0  gromacs index 0   kCalmol ang\n",
      "1  angle  HC - CT - CT type harmonic \n",
      "  harmonic theta_0 = 110.700000 K = 37.500000 lammps index 0  gromacs index 0   kCalmol ang\n"
     ]
    }
   ],
   "source": [
    "for atkey,at in paramC.angletypes.iteritems():\n",
    "    print atkey,at,at.unit_conf['energy'],at.unit_conf['length']"
   ]
  },
  {
   "cell_type": "code",
   "execution_count": 41,
   "metadata": {},
   "outputs": [
    {
     "name": "stdout",
     "output_type": "stream",
     "text": [
      "oplsaa\n"
     ]
    }
   ],
   "source": [
    "print paramC.tag"
   ]
  },
  {
   "cell_type": "code",
   "execution_count": 42,
   "metadata": {},
   "outputs": [
    {
     "data": {
      "text/plain": [
       "{u'amount': u'atom',\n",
       " u'angle': u'degree',\n",
       " u'capacitance': u'F',\n",
       " u'charge': u'e',\n",
       " u'conductance': u'S',\n",
       " u'current': u'A',\n",
       " u'density': u'amu_nm^3',\n",
       " u'electric_dipole_moment': u'D',\n",
       " u'emf': u'V',\n",
       " u'energy': 'kCalmol',\n",
       " u'force': u'GN',\n",
       " u'frequency': u'Hz',\n",
       " u'harm_bond_coeff': u'kCalmolsqang',\n",
       " u'intensity': u'cd',\n",
       " u'length': u'ang',\n",
       " u'magnetic_flux': u'Wb',\n",
       " u'mass': u'amu',\n",
       " u'memory': u'Kb',\n",
       " u'power': u'GW',\n",
       " u'pressure': u'KPa',\n",
       " u'resistance': u'ohm',\n",
       " u'temperature': u'K',\n",
       " u'time': u'ns',\n",
       " u'volume': u'nm^3'}"
      ]
     },
     "execution_count": 42,
     "metadata": {},
     "output_type": "execute_result"
    }
   ],
   "source": [
    "paramC.unit_conf"
   ]
  },
  {
   "cell_type": "code",
   "execution_count": 43,
   "metadata": {},
   "outputs": [
    {
     "name": "stdout",
     "output_type": "stream",
     "text": [
      "None\n"
     ]
    }
   ],
   "source": [
    "print paramC.dump_pickle()"
   ]
  },
  {
   "cell_type": "markdown",
   "metadata": {},
   "source": [
    "Read in methane .xyz file from the structures example"
   ]
  },
  {
   "cell_type": "code",
   "execution_count": 44,
   "metadata": {
    "collapsed": true
   },
   "outputs": [],
   "source": [
    "import streamm.structures.buildingblock as bb"
   ]
  },
  {
   "cell_type": "code",
   "execution_count": 45,
   "metadata": {},
   "outputs": [],
   "source": [
    "mol_i = bb.Buildingblock('ethane')"
   ]
  },
  {
   "cell_type": "code",
   "execution_count": 46,
   "metadata": {
    "collapsed": true
   },
   "outputs": [],
   "source": [
    "mol_i.read_xyz()"
   ]
  },
  {
   "cell_type": "code",
   "execution_count": 47,
   "metadata": {},
   "outputs": [
    {
     "name": "stdout",
     "output_type": "stream",
     "text": [
      "8\n"
     ]
    }
   ],
   "source": [
    "print(mol_i.n_particles)"
   ]
  },
  {
   "cell_type": "markdown",
   "metadata": {},
   "source": [
    "Find neighbor list based on bonded radius "
   ]
  },
  {
   "cell_type": "code",
   "execution_count": 48,
   "metadata": {
    "collapsed": true
   },
   "outputs": [],
   "source": [
    "mol_i.bonded_nblist = mol_i.guess_nblist(0,radii_buffer=1.25)"
   ]
  },
  {
   "cell_type": "markdown",
   "metadata": {},
   "source": [
    "Let's set the ffkey for each particle based on the symbol. "
   ]
  },
  {
   "cell_type": "code",
   "execution_count": 49,
   "metadata": {},
   "outputs": [
    {
     "name": "stdout",
     "output_type": "stream",
     "text": [
      "C\n",
      "CA 4\n",
      "H\n",
      "HA 1\n",
      "H\n",
      "HA 1\n",
      "H\n",
      "HA 1\n",
      "C\n",
      "CA 4\n",
      "H\n",
      "HA 1\n",
      "H\n",
      "HA 1\n",
      "H\n",
      "HA 1\n"
     ]
    }
   ],
   "source": [
    "for pk,p in mol_i.particles.iteritems():\n",
    "    print  p.symbol \n",
    "    if( p.symbol == 'C' ):\n",
    "        p.paramkey = 'CA'\n",
    "    elif( p.symbol == 'H' ):\n",
    "        p.paramkey = 'HA' \n",
    "    print p.paramkey ,mol_i.bonded_nblist.calc_nnab(pk)\n"
   ]
  },
  {
   "cell_type": "markdown",
   "metadata": {},
   "source": [
    "This is a bit redundant, but we can think of a more complex molecule where we could use the number of neighbors to write a more complex routine "
   ]
  },
  {
   "cell_type": "markdown",
   "metadata": {},
   "source": [
    "Find bonds and bond angles based on neighbor list "
   ]
  },
  {
   "cell_type": "code",
   "execution_count": 50,
   "metadata": {},
   "outputs": [],
   "source": [
    "mol_i.bonded_bonds()\n",
    "mol_i.bonded_angles()\n",
    "mol_i.bonded_dih()"
   ]
  },
  {
   "cell_type": "code",
   "execution_count": 51,
   "metadata": {},
   "outputs": [
    {
     "name": "stdout",
     "output_type": "stream",
     "text": [
      "8\n"
     ]
    }
   ],
   "source": [
    "print mol_i.n_particles"
   ]
  },
  {
   "cell_type": "markdown",
   "metadata": {},
   "source": [
    "Now we can set the particles, bonds, bond angles and dihedrals of the molecule to have parameters"
   ]
  },
  {
   "cell_type": "markdown",
   "metadata": {},
   "source": [
    "First lets set the particle types "
   ]
  },
  {
   "cell_type": "code",
   "execution_count": 52,
   "metadata": {
    "collapsed": true
   },
   "outputs": [],
   "source": [
    "for pk,p in mol_i.particles.iteritems():\n",
    "    if( p.paramkey == 'CA' ):\n",
    "        p.param = CT\n",
    "        p.param_index = 0\n",
    "    elif( p.paramkey == 'HA' ):\n",
    "        p.param = HC\n",
    "        p.param_index = 1\n"
   ]
  },
  {
   "cell_type": "markdown",
   "metadata": {},
   "source": [
    "Now we can set the bond types"
   ]
  },
  {
   "cell_type": "code",
   "execution_count": 53,
   "metadata": {
    "collapsed": true
   },
   "outputs": [],
   "source": [
    "for bk,b in mol_i.bonds.iteritems():\n",
    "    b.param = C_H\n",
    "    b.param_index = 0 "
   ]
  },
  {
   "cell_type": "code",
   "execution_count": 54,
   "metadata": {
    "collapsed": true
   },
   "outputs": [],
   "source": [
    "for ak,a in mol_i.angles.iteritems():\n",
    "    a.param = H_C_H\n",
    "    b.param_index = 0 "
   ]
  },
  {
   "cell_type": "code",
   "execution_count": 55,
   "metadata": {
    "collapsed": true
   },
   "outputs": [],
   "source": [
    "for dk,d in mol_i.dihedrals.iteritems():\n",
    "    d.param = H_C_C_H\n",
    "    d.param_index = 0 "
   ]
  },
  {
   "cell_type": "code",
   "execution_count": 56,
   "metadata": {},
   "outputs": [
    {
     "name": "stdout",
     "output_type": "stream",
     "text": [
      "Particles \n",
      "atom[0] C (C)  CT epsilon:0.066 sigma:3.5 0\n",
      "atom[1] H (H)  HC epsilon:0.03 sigma:2.5 1\n",
      "atom[2] H (H)  HC epsilon:0.03 sigma:2.5 1\n",
      "atom[3] H (H)  HC epsilon:0.03 sigma:2.5 1\n",
      "atom[4] C (C)  CT epsilon:0.066 sigma:3.5 0\n",
      "atom[5] H (H)  HC epsilon:0.03 sigma:2.5 1\n",
      "atom[6] H (H)  HC epsilon:0.03 sigma:2.5 1\n",
      "atom[7] H (H)  HC epsilon:0.03 sigma:2.5 1\n",
      "\n",
      " Bonds \n",
      " 0 - 1  bond  CT - HC type harmonic \n",
      "  harmonic r_0 = 1.080000 K = 367.000000 lammps index 0  gromacs index 0   0\n",
      " 0 - 2  bond  CT - HC type harmonic \n",
      "  harmonic r_0 = 1.080000 K = 367.000000 lammps index 0  gromacs index 0   0\n",
      " 0 - 3  bond  CT - HC type harmonic \n",
      "  harmonic r_0 = 1.080000 K = 367.000000 lammps index 0  gromacs index 0   0\n",
      " 0 - 4  bond  CT - HC type harmonic \n",
      "  harmonic r_0 = 1.080000 K = 367.000000 lammps index 0  gromacs index 0   0\n",
      " 4 - 5  bond  CT - HC type harmonic \n",
      "  harmonic r_0 = 1.080000 K = 367.000000 lammps index 0  gromacs index 0   0\n",
      " 4 - 6  bond  CT - HC type harmonic \n",
      "  harmonic r_0 = 1.080000 K = 367.000000 lammps index 0  gromacs index 0   0\n",
      " 4 - 7  bond  CT - HC type harmonic \n",
      "  harmonic r_0 = 1.080000 K = 367.000000 lammps index 0  gromacs index 0   0\n",
      "\n",
      " Bond angles \n",
      " 2 - 0 - 1  angle  HC - CT - HC type harmonic \n",
      "  harmonic theta_0 = 110.700000 K = 37.500000 lammps index 0  gromacs index 0   0\n",
      " 3 - 0 - 1  angle  HC - CT - HC type harmonic \n",
      "  harmonic theta_0 = 110.700000 K = 37.500000 lammps index 0  gromacs index 0   0\n",
      " 4 - 0 - 1  angle  HC - CT - HC type harmonic \n",
      "  harmonic theta_0 = 110.700000 K = 37.500000 lammps index 0  gromacs index 0   0\n",
      " 3 - 0 - 2  angle  HC - CT - HC type harmonic \n",
      "  harmonic theta_0 = 110.700000 K = 37.500000 lammps index 0  gromacs index 0   0\n",
      " 4 - 0 - 2  angle  HC - CT - HC type harmonic \n",
      "  harmonic theta_0 = 110.700000 K = 37.500000 lammps index 0  gromacs index 0   0\n",
      " 4 - 0 - 3  angle  HC - CT - HC type harmonic \n",
      "  harmonic theta_0 = 110.700000 K = 37.500000 lammps index 0  gromacs index 0   0\n",
      " 5 - 4 - 0  angle  HC - CT - HC type harmonic \n",
      "  harmonic theta_0 = 110.700000 K = 37.500000 lammps index 0  gromacs index 0   0\n",
      " 6 - 4 - 0  angle  HC - CT - HC type harmonic \n",
      "  harmonic theta_0 = 110.700000 K = 37.500000 lammps index 0  gromacs index 0   0\n",
      " 7 - 4 - 0  angle  HC - CT - HC type harmonic \n",
      "  harmonic theta_0 = 110.700000 K = 37.500000 lammps index 0  gromacs index 0   0\n",
      " 6 - 4 - 5  angle  HC - CT - HC type harmonic \n",
      "  harmonic theta_0 = 110.700000 K = 37.500000 lammps index 0  gromacs index 0   0\n",
      " 7 - 4 - 5  angle  HC - CT - HC type harmonic \n",
      "  harmonic theta_0 = 110.700000 K = 37.500000 lammps index 0  gromacs index 0   0\n",
      " 7 - 4 - 6  angle  HC - CT - HC type harmonic \n",
      "  harmonic theta_0 = 110.700000 K = 37.500000 lammps index 0  gromacs index 0   0\n",
      "\n",
      " Dihedrals \n",
      " 1 - 0 - 4 - 5  dihedral  HC - CT - CT - HC type opls \n",
      "  k1 = 0.000000 k2 = 0.000000 k3 = 0.300000 k4 = 0.000000 lammps index 0  gromcas index 0  0\n",
      " 1 - 0 - 4 - 6  dihedral  HC - CT - CT - HC type opls \n",
      "  k1 = 0.000000 k2 = 0.000000 k3 = 0.300000 k4 = 0.000000 lammps index 0  gromcas index 0  0\n",
      " 1 - 0 - 4 - 7  dihedral  HC - CT - CT - HC type opls \n",
      "  k1 = 0.000000 k2 = 0.000000 k3 = 0.300000 k4 = 0.000000 lammps index 0  gromcas index 0  0\n",
      " 2 - 0 - 4 - 5  dihedral  HC - CT - CT - HC type opls \n",
      "  k1 = 0.000000 k2 = 0.000000 k3 = 0.300000 k4 = 0.000000 lammps index 0  gromcas index 0  0\n",
      " 2 - 0 - 4 - 6  dihedral  HC - CT - CT - HC type opls \n",
      "  k1 = 0.000000 k2 = 0.000000 k3 = 0.300000 k4 = 0.000000 lammps index 0  gromcas index 0  0\n",
      " 2 - 0 - 4 - 7  dihedral  HC - CT - CT - HC type opls \n",
      "  k1 = 0.000000 k2 = 0.000000 k3 = 0.300000 k4 = 0.000000 lammps index 0  gromcas index 0  0\n",
      " 3 - 0 - 4 - 5  dihedral  HC - CT - CT - HC type opls \n",
      "  k1 = 0.000000 k2 = 0.000000 k3 = 0.300000 k4 = 0.000000 lammps index 0  gromcas index 0  0\n",
      " 3 - 0 - 4 - 6  dihedral  HC - CT - CT - HC type opls \n",
      "  k1 = 0.000000 k2 = 0.000000 k3 = 0.300000 k4 = 0.000000 lammps index 0  gromcas index 0  0\n",
      " 3 - 0 - 4 - 7  dihedral  HC - CT - CT - HC type opls \n",
      "  k1 = 0.000000 k2 = 0.000000 k3 = 0.300000 k4 = 0.000000 lammps index 0  gromcas index 0  0\n"
     ]
    }
   ],
   "source": [
    "print \"Particles \"\n",
    "for pk,p in mol_i.particles.iteritems():\n",
    "    print p,p.param, p.param_index \n",
    "print \"\\n Bonds \"\n",
    "for bk,b in mol_i.bonds.iteritems():    \n",
    "    print b,b.param, b.param_index \n",
    "print \"\\n Bond angles \"\n",
    "for ak,a in mol_i.angles.iteritems():\n",
    "    print a,a.param, a.param_index \n",
    "print \"\\n Dihedrals \"\n",
    "for ak,a in mol_i.dihedrals.iteritems():\n",
    "    print a,a.param, a.param_index     "
   ]
  },
  {
   "cell_type": "markdown",
   "metadata": {},
   "source": [
    "Now our molecule has forcefield parameters for all the interactions "
   ]
  },
  {
   "cell_type": "markdown",
   "metadata": {},
   "source": [
    "Now let's say we want to use a software like GROMACS that used kJ/mol instead of kCal/mol"
   ]
  },
  {
   "cell_type": "code",
   "execution_count": 57,
   "metadata": {
    "collapsed": true
   },
   "outputs": [],
   "source": [
    "gromacs_unit_conf = copy.deepcopy(oplsaa_unit_conf)"
   ]
  },
  {
   "cell_type": "code",
   "execution_count": 58,
   "metadata": {
    "collapsed": true
   },
   "outputs": [],
   "source": [
    "gromacs_unit_conf['energy'] = 'kJmol'\n",
    "gromacs_unit_conf['length'] = 'nm'\n",
    "\n",
    "gromacs_unit_conf['harm_bond_coeff'] = 'kJmolsqnm' #*"
   ]
  },
  {
   "cell_type": "markdown",
   "metadata": {},
   "source": [
    "* The harmonic bond coefficient `harm_bond_coeff` has to be changed as well since it has special units of energy/length^2"
   ]
  },
  {
   "cell_type": "code",
   "execution_count": 59,
   "metadata": {},
   "outputs": [
    {
     "name": "stdout",
     "output_type": "stream",
     "text": [
      "{u'amount': u'atom',\n",
      " u'angle': u'degree',\n",
      " u'capacitance': u'F',\n",
      " u'charge': u'e',\n",
      " u'conductance': u'S',\n",
      " u'current': u'A',\n",
      " u'density': u'amu_nm^3',\n",
      " u'electric_dipole_moment': u'D',\n",
      " u'emf': u'V',\n",
      " u'energy': 'kJmol',\n",
      " u'force': u'GN',\n",
      " u'frequency': u'Hz',\n",
      " u'harm_bond_coeff': 'kJmolsqnm',\n",
      " u'intensity': u'cd',\n",
      " u'length': 'nm',\n",
      " u'magnetic_flux': u'Wb',\n",
      " u'mass': u'amu',\n",
      " u'memory': u'Kb',\n",
      " u'power': u'GW',\n",
      " u'pressure': u'KPa',\n",
      " u'resistance': u'ohm',\n",
      " u'temperature': u'K',\n",
      " u'time': u'ns',\n",
      " u'volume': u'nm^3'}\n"
     ]
    }
   ],
   "source": [
    "pprint(gromacs_unit_conf)"
   ]
  },
  {
   "cell_type": "code",
   "execution_count": 60,
   "metadata": {
    "collapsed": true
   },
   "outputs": [],
   "source": [
    "mol_i.update_units(gromacs_unit_conf)"
   ]
  },
  {
   "cell_type": "code",
   "execution_count": 61,
   "metadata": {},
   "outputs": [
    {
     "name": "stdout",
     "output_type": "stream",
     "text": [
      "Particles \n",
      "atom[0] C (C)  CT epsilon:0.276144 sigma:0.35 0\n",
      "atom[1] H (H)  HC epsilon:0.12552 sigma:0.25 1\n",
      "atom[2] H (H)  HC epsilon:0.12552 sigma:0.25 1\n",
      "atom[3] H (H)  HC epsilon:0.12552 sigma:0.25 1\n",
      "atom[4] C (C)  CT epsilon:0.276144 sigma:0.35 0\n",
      "atom[5] H (H)  HC epsilon:0.12552 sigma:0.25 1\n",
      "atom[6] H (H)  HC epsilon:0.12552 sigma:0.25 1\n",
      "atom[7] H (H)  HC epsilon:0.12552 sigma:0.25 1\n",
      "\n",
      " Bonds \n",
      " 0 - 1  bond  CT - HC type harmonic \n",
      "  harmonic r_0 = 0.108000 K = 153552.800000 lammps index 0  gromacs index 0   0\n",
      " 0 - 2  bond  CT - HC type harmonic \n",
      "  harmonic r_0 = 0.108000 K = 153552.800000 lammps index 0  gromacs index 0   0\n",
      " 0 - 3  bond  CT - HC type harmonic \n",
      "  harmonic r_0 = 0.108000 K = 153552.800000 lammps index 0  gromacs index 0   0\n",
      " 0 - 4  bond  CT - HC type harmonic \n",
      "  harmonic r_0 = 0.108000 K = 153552.800000 lammps index 0  gromacs index 0   0\n",
      " 4 - 5  bond  CT - HC type harmonic \n",
      "  harmonic r_0 = 0.108000 K = 153552.800000 lammps index 0  gromacs index 0   0\n",
      " 4 - 6  bond  CT - HC type harmonic \n",
      "  harmonic r_0 = 0.108000 K = 153552.800000 lammps index 0  gromacs index 0   0\n",
      " 4 - 7  bond  CT - HC type harmonic \n",
      "  harmonic r_0 = 0.108000 K = 153552.800000 lammps index 0  gromacs index 0   0\n",
      "\n",
      " Bond angles \n",
      " 2 - 0 - 1  angle  HC - CT - HC type harmonic \n",
      "  harmonic theta_0 = 110.700000 K = 156.900000 lammps index 0  gromacs index 0   0\n",
      " 3 - 0 - 1  angle  HC - CT - HC type harmonic \n",
      "  harmonic theta_0 = 110.700000 K = 156.900000 lammps index 0  gromacs index 0   0\n",
      " 4 - 0 - 1  angle  HC - CT - HC type harmonic \n",
      "  harmonic theta_0 = 110.700000 K = 156.900000 lammps index 0  gromacs index 0   0\n",
      " 3 - 0 - 2  angle  HC - CT - HC type harmonic \n",
      "  harmonic theta_0 = 110.700000 K = 156.900000 lammps index 0  gromacs index 0   0\n",
      " 4 - 0 - 2  angle  HC - CT - HC type harmonic \n",
      "  harmonic theta_0 = 110.700000 K = 156.900000 lammps index 0  gromacs index 0   0\n",
      " 4 - 0 - 3  angle  HC - CT - HC type harmonic \n",
      "  harmonic theta_0 = 110.700000 K = 156.900000 lammps index 0  gromacs index 0   0\n",
      " 5 - 4 - 0  angle  HC - CT - HC type harmonic \n",
      "  harmonic theta_0 = 110.700000 K = 156.900000 lammps index 0  gromacs index 0   0\n",
      " 6 - 4 - 0  angle  HC - CT - HC type harmonic \n",
      "  harmonic theta_0 = 110.700000 K = 156.900000 lammps index 0  gromacs index 0   0\n",
      " 7 - 4 - 0  angle  HC - CT - HC type harmonic \n",
      "  harmonic theta_0 = 110.700000 K = 156.900000 lammps index 0  gromacs index 0   0\n",
      " 6 - 4 - 5  angle  HC - CT - HC type harmonic \n",
      "  harmonic theta_0 = 110.700000 K = 156.900000 lammps index 0  gromacs index 0   0\n",
      " 7 - 4 - 5  angle  HC - CT - HC type harmonic \n",
      "  harmonic theta_0 = 110.700000 K = 156.900000 lammps index 0  gromacs index 0   0\n",
      " 7 - 4 - 6  angle  HC - CT - HC type harmonic \n",
      "  harmonic theta_0 = 110.700000 K = 156.900000 lammps index 0  gromacs index 0   0\n",
      "\n",
      " Dihedrals \n",
      " 1 - 0 - 4 - 5  dihedral  HC - CT - CT - HC type opls \n",
      "  k1 = 0.000000 k2 = 0.000000 k3 = 1.255200 k4 = 0.000000 lammps index 0  gromcas index 0  0\n",
      " 1 - 0 - 4 - 6  dihedral  HC - CT - CT - HC type opls \n",
      "  k1 = 0.000000 k2 = 0.000000 k3 = 1.255200 k4 = 0.000000 lammps index 0  gromcas index 0  0\n",
      " 1 - 0 - 4 - 7  dihedral  HC - CT - CT - HC type opls \n",
      "  k1 = 0.000000 k2 = 0.000000 k3 = 1.255200 k4 = 0.000000 lammps index 0  gromcas index 0  0\n",
      " 2 - 0 - 4 - 5  dihedral  HC - CT - CT - HC type opls \n",
      "  k1 = 0.000000 k2 = 0.000000 k3 = 1.255200 k4 = 0.000000 lammps index 0  gromcas index 0  0\n",
      " 2 - 0 - 4 - 6  dihedral  HC - CT - CT - HC type opls \n",
      "  k1 = 0.000000 k2 = 0.000000 k3 = 1.255200 k4 = 0.000000 lammps index 0  gromcas index 0  0\n",
      " 2 - 0 - 4 - 7  dihedral  HC - CT - CT - HC type opls \n",
      "  k1 = 0.000000 k2 = 0.000000 k3 = 1.255200 k4 = 0.000000 lammps index 0  gromcas index 0  0\n",
      " 3 - 0 - 4 - 5  dihedral  HC - CT - CT - HC type opls \n",
      "  k1 = 0.000000 k2 = 0.000000 k3 = 1.255200 k4 = 0.000000 lammps index 0  gromcas index 0  0\n",
      " 3 - 0 - 4 - 6  dihedral  HC - CT - CT - HC type opls \n",
      "  k1 = 0.000000 k2 = 0.000000 k3 = 1.255200 k4 = 0.000000 lammps index 0  gromcas index 0  0\n",
      " 3 - 0 - 4 - 7  dihedral  HC - CT - CT - HC type opls \n",
      "  k1 = 0.000000 k2 = 0.000000 k3 = 1.255200 k4 = 0.000000 lammps index 0  gromcas index 0  0\n"
     ]
    }
   ],
   "source": [
    "print \"Particles \"\n",
    "for pk,p in mol_i.particles.iteritems():\n",
    "    print p,p.param, p.param_index \n",
    "print \"\\n Bonds \"\n",
    "for bk,b in mol_i.bonds.iteritems():    \n",
    "    print b,b.param, b.param_index \n",
    "print \"\\n Bond angles \"\n",
    "for ak,a in mol_i.angles.iteritems():\n",
    "    print a,a.param, a.param_index \n",
    "print \"\\n Dihedrals \"\n",
    "for ak,a in mol_i.dihedrals.iteritems():\n",
    "    print a,a.param, a.param_index      "
   ]
  },
  {
   "cell_type": "code",
   "execution_count": 62,
   "metadata": {
    "collapsed": true
   },
   "outputs": [],
   "source": [
    "mol_i.update_units(oplsaa_unit_conf)"
   ]
  },
  {
   "cell_type": "code",
   "execution_count": 63,
   "metadata": {},
   "outputs": [
    {
     "name": "stdout",
     "output_type": "stream",
     "text": [
      "Particles \n",
      "atom[0] C (C)  CT epsilon:0.066 sigma:3.5 0\n",
      "atom[1] H (H)  HC epsilon:0.03 sigma:2.5 1\n",
      "atom[2] H (H)  HC epsilon:0.03 sigma:2.5 1\n",
      "atom[3] H (H)  HC epsilon:0.03 sigma:2.5 1\n",
      "atom[4] C (C)  CT epsilon:0.066 sigma:3.5 0\n",
      "atom[5] H (H)  HC epsilon:0.03 sigma:2.5 1\n",
      "atom[6] H (H)  HC epsilon:0.03 sigma:2.5 1\n",
      "atom[7] H (H)  HC epsilon:0.03 sigma:2.5 1\n",
      "\n",
      " Bonds \n",
      " 0 - 1  bond  CT - HC type harmonic \n",
      "  harmonic r_0 = 1.080000 K = 367.000000 lammps index 0  gromacs index 0   0\n",
      " 0 - 2  bond  CT - HC type harmonic \n",
      "  harmonic r_0 = 1.080000 K = 367.000000 lammps index 0  gromacs index 0   0\n",
      " 0 - 3  bond  CT - HC type harmonic \n",
      "  harmonic r_0 = 1.080000 K = 367.000000 lammps index 0  gromacs index 0   0\n",
      " 0 - 4  bond  CT - HC type harmonic \n",
      "  harmonic r_0 = 1.080000 K = 367.000000 lammps index 0  gromacs index 0   0\n",
      " 4 - 5  bond  CT - HC type harmonic \n",
      "  harmonic r_0 = 1.080000 K = 367.000000 lammps index 0  gromacs index 0   0\n",
      " 4 - 6  bond  CT - HC type harmonic \n",
      "  harmonic r_0 = 1.080000 K = 367.000000 lammps index 0  gromacs index 0   0\n",
      " 4 - 7  bond  CT - HC type harmonic \n",
      "  harmonic r_0 = 1.080000 K = 367.000000 lammps index 0  gromacs index 0   0\n",
      "\n",
      " Bond angles \n",
      " 2 - 0 - 1  angle  HC - CT - HC type harmonic \n",
      "  harmonic theta_0 = 110.700000 K = 37.500000 lammps index 0  gromacs index 0   0\n",
      " 3 - 0 - 1  angle  HC - CT - HC type harmonic \n",
      "  harmonic theta_0 = 110.700000 K = 37.500000 lammps index 0  gromacs index 0   0\n",
      " 4 - 0 - 1  angle  HC - CT - HC type harmonic \n",
      "  harmonic theta_0 = 110.700000 K = 37.500000 lammps index 0  gromacs index 0   0\n",
      " 3 - 0 - 2  angle  HC - CT - HC type harmonic \n",
      "  harmonic theta_0 = 110.700000 K = 37.500000 lammps index 0  gromacs index 0   0\n",
      " 4 - 0 - 2  angle  HC - CT - HC type harmonic \n",
      "  harmonic theta_0 = 110.700000 K = 37.500000 lammps index 0  gromacs index 0   0\n",
      " 4 - 0 - 3  angle  HC - CT - HC type harmonic \n",
      "  harmonic theta_0 = 110.700000 K = 37.500000 lammps index 0  gromacs index 0   0\n",
      " 5 - 4 - 0  angle  HC - CT - HC type harmonic \n",
      "  harmonic theta_0 = 110.700000 K = 37.500000 lammps index 0  gromacs index 0   0\n",
      " 6 - 4 - 0  angle  HC - CT - HC type harmonic \n",
      "  harmonic theta_0 = 110.700000 K = 37.500000 lammps index 0  gromacs index 0   0\n",
      " 7 - 4 - 0  angle  HC - CT - HC type harmonic \n",
      "  harmonic theta_0 = 110.700000 K = 37.500000 lammps index 0  gromacs index 0   0\n",
      " 6 - 4 - 5  angle  HC - CT - HC type harmonic \n",
      "  harmonic theta_0 = 110.700000 K = 37.500000 lammps index 0  gromacs index 0   0\n",
      " 7 - 4 - 5  angle  HC - CT - HC type harmonic \n",
      "  harmonic theta_0 = 110.700000 K = 37.500000 lammps index 0  gromacs index 0   0\n",
      " 7 - 4 - 6  angle  HC - CT - HC type harmonic \n",
      "  harmonic theta_0 = 110.700000 K = 37.500000 lammps index 0  gromacs index 0   0\n",
      "\n",
      " Dihedrals \n",
      " 1 - 0 - 4 - 5  dihedral  HC - CT - CT - HC type opls \n",
      "  k1 = 0.000000 k2 = 0.000000 k3 = 0.300000 k4 = 0.000000 lammps index 0  gromcas index 0  0\n",
      " 1 - 0 - 4 - 6  dihedral  HC - CT - CT - HC type opls \n",
      "  k1 = 0.000000 k2 = 0.000000 k3 = 0.300000 k4 = 0.000000 lammps index 0  gromcas index 0  0\n",
      " 1 - 0 - 4 - 7  dihedral  HC - CT - CT - HC type opls \n",
      "  k1 = 0.000000 k2 = 0.000000 k3 = 0.300000 k4 = 0.000000 lammps index 0  gromcas index 0  0\n",
      " 2 - 0 - 4 - 5  dihedral  HC - CT - CT - HC type opls \n",
      "  k1 = 0.000000 k2 = 0.000000 k3 = 0.300000 k4 = 0.000000 lammps index 0  gromcas index 0  0\n",
      " 2 - 0 - 4 - 6  dihedral  HC - CT - CT - HC type opls \n",
      "  k1 = 0.000000 k2 = 0.000000 k3 = 0.300000 k4 = 0.000000 lammps index 0  gromcas index 0  0\n",
      " 2 - 0 - 4 - 7  dihedral  HC - CT - CT - HC type opls \n",
      "  k1 = 0.000000 k2 = 0.000000 k3 = 0.300000 k4 = 0.000000 lammps index 0  gromcas index 0  0\n",
      " 3 - 0 - 4 - 5  dihedral  HC - CT - CT - HC type opls \n",
      "  k1 = 0.000000 k2 = 0.000000 k3 = 0.300000 k4 = 0.000000 lammps index 0  gromcas index 0  0\n",
      " 3 - 0 - 4 - 6  dihedral  HC - CT - CT - HC type opls \n",
      "  k1 = 0.000000 k2 = 0.000000 k3 = 0.300000 k4 = 0.000000 lammps index 0  gromcas index 0  0\n",
      " 3 - 0 - 4 - 7  dihedral  HC - CT - CT - HC type opls \n",
      "  k1 = 0.000000 k2 = 0.000000 k3 = 0.300000 k4 = 0.000000 lammps index 0  gromcas index 0  0\n"
     ]
    }
   ],
   "source": [
    "print \"Particles \"\n",
    "for pk,p in mol_i.particles.iteritems():\n",
    "    print p,p.param, p.param_index \n",
    "print \"\\n Bonds \"\n",
    "for bk,b in mol_i.bonds.iteritems():    \n",
    "    print b,b.param, b.param_index \n",
    "print \"\\n Bond angles \"\n",
    "for ak,a in mol_i.angles.iteritems():\n",
    "    print a,a.param, a.param_index \n",
    "print \"\\n Dihedrals \"\n",
    "for ak,a in mol_i.dihedrals.iteritems():\n",
    "    print a,a.param, a.param_index      "
   ]
  },
  {
   "cell_type": "markdown",
   "metadata": {},
   "source": [
    "Sweet as, bro!"
   ]
  }
 ],
 "metadata": {
  "anaconda-cloud": {},
  "kernelspec": {
   "display_name": "Python 2",
   "language": "python",
   "name": "python2"
  },
  "language_info": {
   "codemirror_mode": {
    "name": "ipython",
    "version": 2
   },
   "file_extension": ".py",
   "mimetype": "text/x-python",
   "name": "python",
   "nbconvert_exporter": "python",
   "pygments_lexer": "ipython2",
   "version": "2.7.13"
  }
 },
 "nbformat": 4,
 "nbformat_minor": 2
}
