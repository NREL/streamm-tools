{
 "cells": [
  {
   "cell_type": "code",
   "execution_count": 1,
   "metadata": {
    "collapsed": true
   },
   "outputs": [],
   "source": [
    "%load_ext autoreload\n",
    "%autoreload 2"
   ]
  },
  {
   "cell_type": "markdown",
   "metadata": {},
   "source": [
    "In this example we will create alkyl chains of various lengths, run quantum chemical analysis on each and then replicate them into a simulation cell for an MD simulation"
   ]
  },
  {
   "cell_type": "code",
   "execution_count": 2,
   "metadata": {
    "collapsed": true
   },
   "outputs": [],
   "source": [
    "from __future__ import division, unicode_literals"
   ]
  },
  {
   "cell_type": "code",
   "execution_count": 3,
   "metadata": {
    "collapsed": true
   },
   "outputs": [],
   "source": [
    "import os \n",
    "from pprint import pprint"
   ]
  },
  {
   "cell_type": "code",
   "execution_count": 4,
   "metadata": {
    "collapsed": true
   },
   "outputs": [],
   "source": [
    "import streamm"
   ]
  },
  {
   "cell_type": "markdown",
   "metadata": {},
   "source": [
    "Now let's create project and resource to keep track of our work"
   ]
  },
  {
   "cell_type": "code",
   "execution_count": 5,
   "metadata": {
    "collapsed": true
   },
   "outputs": [],
   "source": [
    "alkyl_example = streamm.Project('alkyl_example')\n",
    "res_local = streamm.Resource('local')"
   ]
  },
  {
   "cell_type": "markdown",
   "metadata": {},
   "source": [
    "Update relative location of templates directory "
   ]
  },
  {
   "cell_type": "code",
   "execution_count": 6,
   "metadata": {
    "collapsed": true
   },
   "outputs": [],
   "source": [
    "res_local.dir['templates'] =  os.path.join(res_local.dir['home'],'..','templates','')"
   ]
  },
  {
   "cell_type": "markdown",
   "metadata": {},
   "source": [
    "Make sure this is the location of the templates directory that comes with the streamm git repository  https://github.com/NREL/streamm-tools"
   ]
  },
  {
   "cell_type": "code",
   "execution_count": 7,
   "metadata": {
    "collapsed": false
   },
   "outputs": [
    {
     "name": "stdout",
     "output_type": "stream",
     "text": [
      "/Users/tkemper/Development/streamm-tools/examples/../templates/\n"
     ]
    }
   ],
   "source": [
    "print res_local.dir['templates']"
   ]
  },
  {
   "cell_type": "markdown",
   "metadata": {},
   "source": [
    "Create the local directories that will store our files "
   ]
  },
  {
   "cell_type": "code",
   "execution_count": 8,
   "metadata": {
    "collapsed": true
   },
   "outputs": [],
   "source": [
    "res_local.make_dir()"
   ]
  },
  {
   "cell_type": "markdown",
   "metadata": {},
   "source": [
    "Tell the project about our directories "
   ]
  },
  {
   "cell_type": "code",
   "execution_count": 9,
   "metadata": {
    "collapsed": true
   },
   "outputs": [],
   "source": [
    "alkyl_example.set_resource(res_local)"
   ]
  },
  {
   "cell_type": "markdown",
   "metadata": {},
   "source": [
    "Read in the methane.xyz file created in the structure.ipynb example "
   ]
  },
  {
   "cell_type": "code",
   "execution_count": 10,
   "metadata": {
    "collapsed": true
   },
   "outputs": [],
   "source": [
    "methane = streamm.Buildingblock('methane')"
   ]
  },
  {
   "cell_type": "code",
   "execution_count": 11,
   "metadata": {
    "collapsed": true
   },
   "outputs": [],
   "source": [
    "methane.read_xyz()"
   ]
  },
  {
   "cell_type": "markdown",
   "metadata": {},
   "source": [
    "Create the neighbor list and the bonded interactions"
   ]
  },
  {
   "cell_type": "code",
   "execution_count": 12,
   "metadata": {
    "collapsed": true
   },
   "outputs": [],
   "source": [
    "methane.bonded_nblist = methane.guess_nblist(0,radii_buffer=1.25)"
   ]
  },
  {
   "cell_type": "code",
   "execution_count": 13,
   "metadata": {
    "collapsed": true
   },
   "outputs": [],
   "source": [
    "methane.bonded_bonds()\n",
    "methane.bonded_angles()\n",
    "methane.bonded_dih()"
   ]
  },
  {
   "cell_type": "code",
   "execution_count": 14,
   "metadata": {
    "collapsed": false
   },
   "outputs": [
    {
     "name": "stdout",
     "output_type": "stream",
     "text": [
      "5\n"
     ]
    }
   ],
   "source": [
    "print methane.n_particles"
   ]
  },
  {
   "cell_type": "code",
   "execution_count": 15,
   "metadata": {
    "collapsed": false
   },
   "outputs": [
    {
     "name": "stdout",
     "output_type": "stream",
     "text": [
      " n_particles:5 \n",
      " n_bonds:4\n",
      " n_angles:6\n",
      " n_dihedrals:0\n",
      " n_impropers:0\n"
     ]
    }
   ],
   "source": [
    "print methane.print_properties()"
   ]
  },
  {
   "cell_type": "markdown",
   "metadata": {},
   "source": [
    "Set the paramkeys so we can identify force field paramters later on"
   ]
  },
  {
   "cell_type": "code",
   "execution_count": 16,
   "metadata": {
    "collapsed": true
   },
   "outputs": [],
   "source": [
    "for pkey,p in methane.particles.iteritems():\n",
    "    if( p.symbol == 'C' ):\n",
    "        p.paramkey = 'CT'\n",
    "    elif( p.symbol == 'H' ):\n",
    "        p.paramkey = 'HC'"
   ]
  },
  {
   "cell_type": "code",
   "execution_count": 17,
   "metadata": {
    "collapsed": true
   },
   "outputs": [],
   "source": [
    "for pk,p in methane.particles.iteritems():\n",
    "    p.residue = 1\n",
    "    p.resname = 'METH'"
   ]
  },
  {
   "cell_type": "markdown",
   "metadata": {},
   "source": [
    "Set some rsites to be able to join molecules together "
   ]
  },
  {
   "cell_type": "code",
   "execution_count": 18,
   "metadata": {
    "collapsed": true
   },
   "outputs": [],
   "source": [
    "methane.particles[1].rsite = 'RH'\n",
    "methane.particles[2].rsite = 'RH'"
   ]
  },
  {
   "cell_type": "code",
   "execution_count": 19,
   "metadata": {
    "collapsed": true
   },
   "outputs": [],
   "source": [
    "methane.find_rsites()"
   ]
  },
  {
   "cell_type": "code",
   "execution_count": 20,
   "metadata": {
    "collapsed": false
   },
   "outputs": [
    {
     "name": "stdout",
     "output_type": "stream",
     "text": [
      "rsite:RH[ paticle:atom[1] H (H) index:1 n_bonds:1] \n",
      "rsite:RH[ paticle:atom[2] H (H) index:2 n_bonds:1] \n",
      "\n"
     ]
    }
   ],
   "source": [
    "print methane.show_rsites()"
   ]
  },
  {
   "cell_type": "markdown",
   "metadata": {},
   "source": [
    "Read in ethane.xyz from the buildinblock.ipynb example "
   ]
  },
  {
   "cell_type": "code",
   "execution_count": 21,
   "metadata": {
    "collapsed": true
   },
   "outputs": [],
   "source": [
    "ethane = streamm.Buildingblock('ethane')"
   ]
  },
  {
   "cell_type": "code",
   "execution_count": 22,
   "metadata": {
    "collapsed": true
   },
   "outputs": [],
   "source": [
    "ethane.read_xyz()"
   ]
  },
  {
   "cell_type": "code",
   "execution_count": 23,
   "metadata": {
    "collapsed": true
   },
   "outputs": [],
   "source": [
    "ethane.bonded_nblist = ethane.guess_nblist(0,radii_buffer=1.25)"
   ]
  },
  {
   "cell_type": "code",
   "execution_count": 24,
   "metadata": {
    "collapsed": true
   },
   "outputs": [],
   "source": [
    "ethane.bonded_bonds()\n",
    "ethane.bonded_angles()\n",
    "ethane.bonded_dih()"
   ]
  },
  {
   "cell_type": "code",
   "execution_count": 25,
   "metadata": {
    "collapsed": false
   },
   "outputs": [
    {
     "name": "stdout",
     "output_type": "stream",
     "text": [
      "8\n"
     ]
    }
   ],
   "source": [
    "print ethane.n_particles"
   ]
  },
  {
   "cell_type": "code",
   "execution_count": 26,
   "metadata": {
    "collapsed": false
   },
   "outputs": [
    {
     "name": "stdout",
     "output_type": "stream",
     "text": [
      " n_particles:8 \n",
      " n_bonds:7\n",
      " n_angles:12\n",
      " n_dihedrals:9\n",
      " n_impropers:0\n"
     ]
    }
   ],
   "source": [
    "print ethane.print_properties()"
   ]
  },
  {
   "cell_type": "code",
   "execution_count": 27,
   "metadata": {
    "collapsed": true
   },
   "outputs": [],
   "source": [
    "for pkey,p in ethane.particles.iteritems():\n",
    "    if( p.symbol == 'C' ):\n",
    "        p.paramkey = 'CT'\n",
    "    elif( p.symbol == 'H' ):\n",
    "        p.paramkey = 'HC'"
   ]
  },
  {
   "cell_type": "code",
   "execution_count": 28,
   "metadata": {
    "collapsed": true
   },
   "outputs": [],
   "source": [
    "for pk,p in ethane.particles.iteritems():\n",
    "    p.residue = 1\n",
    "    p.resname = 'ETH'"
   ]
  },
  {
   "cell_type": "code",
   "execution_count": 29,
   "metadata": {
    "collapsed": true
   },
   "outputs": [],
   "source": [
    "ethane.particles[1].rsite = 'RH'\n",
    "ethane.particles[5].rsite = 'RH'"
   ]
  },
  {
   "cell_type": "code",
   "execution_count": 30,
   "metadata": {
    "collapsed": true
   },
   "outputs": [],
   "source": [
    "ethane.find_rsites()"
   ]
  },
  {
   "cell_type": "code",
   "execution_count": 31,
   "metadata": {
    "collapsed": false
   },
   "outputs": [
    {
     "name": "stdout",
     "output_type": "stream",
     "text": [
      "rsite:RH[ paticle:atom[1] H (H) index:1 n_bonds:1] \n",
      "rsite:RH[ paticle:atom[5] H (H) index:5 n_bonds:1] \n",
      "\n"
     ]
    }
   ],
   "source": [
    "print ethane.show_rsites()"
   ]
  },
  {
   "cell_type": "code",
   "execution_count": 32,
   "metadata": {
    "collapsed": true
   },
   "outputs": [],
   "source": [
    "import copy"
   ]
  },
  {
   "cell_type": "code",
   "execution_count": 33,
   "metadata": {
    "collapsed": true
   },
   "outputs": [],
   "source": [
    "octane = copy.deepcopy(ethane)"
   ]
  },
  {
   "cell_type": "code",
   "execution_count": 34,
   "metadata": {
    "collapsed": true
   },
   "outputs": [],
   "source": [
    "from streamm.structures.buildingblock import attach"
   ]
  },
  {
   "cell_type": "code",
   "execution_count": 35,
   "metadata": {
    "collapsed": true
   },
   "outputs": [],
   "source": [
    "for i in range(3):\n",
    "    octane = attach(octane,ethane,'RH',1,'RH',0)"
   ]
  },
  {
   "cell_type": "code",
   "execution_count": 36,
   "metadata": {
    "collapsed": true
   },
   "outputs": [],
   "source": [
    "octane.tag = 'octane'"
   ]
  },
  {
   "cell_type": "code",
   "execution_count": 37,
   "metadata": {
    "collapsed": true
   },
   "outputs": [],
   "source": [
    "for pk,p in octane.particles.iteritems():\n",
    "    p.residue = 2\n",
    "    p.resname = \"OCT\"\n",
    " "
   ]
  },
  {
   "cell_type": "code",
   "execution_count": 38,
   "metadata": {
    "collapsed": true
   },
   "outputs": [],
   "source": [
    "octane.write_xyz()"
   ]
  },
  {
   "cell_type": "code",
   "execution_count": 39,
   "metadata": {
    "collapsed": false
   },
   "outputs": [
    {
     "name": "stdout",
     "output_type": "stream",
     "text": [
      "rsite:RH[ paticle:atom[1] H (H) index:1 n_bonds:1] \n",
      "rsite:RH[ paticle:atom[23] H (H) index:23 n_bonds:1] \n",
      "\n"
     ]
    }
   ],
   "source": [
    "print octane.show_rsites()"
   ]
  },
  {
   "cell_type": "code",
   "execution_count": 40,
   "metadata": {
    "collapsed": false
   },
   "outputs": [
    {
     "name": "stdout",
     "output_type": "stream",
     "text": [
      "H\n"
     ]
    }
   ],
   "source": [
    "print octane.particles[14].symbol"
   ]
  },
  {
   "cell_type": "code",
   "execution_count": 41,
   "metadata": {
    "collapsed": true
   },
   "outputs": [],
   "source": [
    "octane.particles[14].rsite = 'R2'"
   ]
  },
  {
   "cell_type": "code",
   "execution_count": 42,
   "metadata": {
    "collapsed": true
   },
   "outputs": [],
   "source": [
    "octane.find_rsites()"
   ]
  },
  {
   "cell_type": "code",
   "execution_count": 43,
   "metadata": {
    "collapsed": true
   },
   "outputs": [],
   "source": [
    "ethyl_octane = attach(octane,ethane,'R2',0,'RH',0)"
   ]
  },
  {
   "cell_type": "code",
   "execution_count": 44,
   "metadata": {
    "collapsed": true
   },
   "outputs": [],
   "source": [
    "ethyl_octane.tag = 'ethyl_octane'"
   ]
  },
  {
   "cell_type": "code",
   "execution_count": 45,
   "metadata": {
    "collapsed": true
   },
   "outputs": [],
   "source": [
    "ethyl_octane.write_xyz()"
   ]
  },
  {
   "cell_type": "code",
   "execution_count": 46,
   "metadata": {
    "collapsed": false
   },
   "outputs": [
    {
     "name": "stdout",
     "output_type": "stream",
     "text": [
      "2 OCT\n",
      "2 OCT\n",
      "2 OCT\n",
      "2 OCT\n",
      "2 OCT\n",
      "2 OCT\n",
      "2 OCT\n",
      "2 OCT\n",
      "2 OCT\n",
      "2 OCT\n",
      "2 OCT\n",
      "2 OCT\n",
      "2 OCT\n",
      "2 OCT\n",
      "2 OCT\n",
      "2 OCT\n",
      "2 OCT\n",
      "2 OCT\n",
      "2 OCT\n",
      "2 OCT\n",
      "2 OCT\n",
      "2 OCT\n",
      "2 OCT\n",
      "2 OCT\n",
      "2 OCT\n",
      "1 ETH\n",
      "1 ETH\n",
      "1 ETH\n",
      "1 ETH\n",
      "1 ETH\n",
      "1 ETH\n",
      "1 ETH\n"
     ]
    }
   ],
   "source": [
    "for pk,p in ethyl_octane.particles.iteritems():\n",
    "    print p.residue,p.resname\n",
    "    #p.residue = 1\n",
    "    #p.resname = 'ETHHEX'"
   ]
  },
  {
   "cell_type": "code",
   "execution_count": 47,
   "metadata": {
    "collapsed": true
   },
   "outputs": [],
   "source": [
    "oplsaa = streamm.forcefields.parameters.read_pickle('oplsaa')"
   ]
  },
  {
   "cell_type": "code",
   "execution_count": 48,
   "metadata": {
    "collapsed": false
   },
   "outputs": [
    {
     "name": "stdout",
     "output_type": "stream",
     "text": [
      "\n",
      "    Parameters \n",
      "      LJ parameters 2 \n",
      "      Bond parameters 3 \n",
      "      Angle parameters 2 \n",
      "      Dihedral parameters 1 \n",
      "      Imporper Dihedral parameters 0 \n",
      "\n"
     ]
    }
   ],
   "source": [
    "print oplsaa"
   ]
  },
  {
   "cell_type": "code",
   "execution_count": 49,
   "metadata": {
    "collapsed": true
   },
   "outputs": [],
   "source": [
    "nwchem_i = streamm.NWChem('nw_ethane_HF')"
   ]
  },
  {
   "cell_type": "code",
   "execution_count": 50,
   "metadata": {
    "collapsed": true
   },
   "outputs": [],
   "source": [
    "alkyl_example.add_calc(nwchem_i)"
   ]
  },
  {
   "cell_type": "code",
   "execution_count": 51,
   "metadata": {
    "collapsed": true
   },
   "outputs": [],
   "source": [
    "nwchem_i.strucC = ethane"
   ]
  },
  {
   "cell_type": "code",
   "execution_count": 52,
   "metadata": {
    "collapsed": true
   },
   "outputs": [],
   "source": [
    "nwchem_i.set_resource(res_local)"
   ]
  },
  {
   "cell_type": "code",
   "execution_count": 53,
   "metadata": {
    "collapsed": true
   },
   "outputs": [],
   "source": [
    "nwchem_i.make_dir()"
   ]
  },
  {
   "cell_type": "code",
   "execution_count": 54,
   "metadata": {
    "collapsed": true
   },
   "outputs": [],
   "source": [
    "os.chdir(nwchem_i.dir['scratch'])"
   ]
  },
  {
   "cell_type": "code",
   "execution_count": 55,
   "metadata": {
    "collapsed": true
   },
   "outputs": [],
   "source": [
    "file_type = 'templates'\n",
    "file_key = 'run'\n",
    "file_name = \"nwchem.sh\"\n",
    "from_dirkey = 'templates'\n",
    "to_dirkey = 'scratch'\n",
    "nwchem_i.cp_file(file_type,file_key,file_name,from_dirkey,to_dirkey)"
   ]
  },
  {
   "cell_type": "code",
   "execution_count": 56,
   "metadata": {
    "collapsed": true
   },
   "outputs": [],
   "source": [
    "file_type = 'templates'\n",
    "file_key = 'nw'\n",
    "file_name = \"nwchem.nw\"\n",
    "from_dirkey = 'templates'\n",
    "to_dirkey = 'scratch'\n",
    "nwchem_i.cp_file(file_type,file_key,file_name,from_dirkey,to_dirkey)"
   ]
  },
  {
   "cell_type": "code",
   "execution_count": 57,
   "metadata": {
    "collapsed": true
   },
   "outputs": [],
   "source": [
    "nwchem_i.load_str('templates','nw')        \n",
    "nwchem_i.load_str('templates','run')"
   ]
  },
  {
   "cell_type": "code",
   "execution_count": 58,
   "metadata": {
    "collapsed": true
   },
   "outputs": [],
   "source": [
    "nwchem_i.properties['basis'] = '6-31g'\n",
    "nwchem_i.properties['method'] = 'UHF'\n",
    "nwchem_i.properties['charge'] = 0\n",
    "nwchem_i.properties['spin_mult'] = 1\n",
    "nwchem_i.properties['task'] = 'SCF '\n",
    "nwchem_i.properties['coord'] = nwchem_i.strucC.write_coord()"
   ]
  },
  {
   "cell_type": "code",
   "execution_count": 59,
   "metadata": {
    "collapsed": false
   },
   "outputs": [
    {
     "name": "stdout",
     "output_type": "stream",
     "text": [
      "{u'allocation': u'',\n",
      " u'basis': u'6-31g',\n",
      " u'charge': 0,\n",
      " 'comp_key': 'compressed',\n",
      " 'compress': 'tar -czf ',\n",
      " 'compress_sufix': 'tgz',\n",
      " u'coord': u'     C       1.34000000      -0.00000000       0.00000000 \\n     H       1.74000000      -0.00000000      -1.13137084 \\n     H       1.74000000       0.97979589       0.56568542 \\n     H       1.74000000      -0.97979589       0.56568542 \\n     C       0.00000000       0.00000000       0.00000000 \\n     H      -0.40000000       0.00000000       1.13137084 \\n     H      -0.40000000      -0.97979589      -0.56568542 \\n     H      -0.40000000       0.97979589      -0.56568542 \\n',\n",
      " u'exe_command': u'./',\n",
      " u'feature': u'24core',\n",
      " u'finish_str': u'Total times  cpu:',\n",
      " u'method': u'UHF',\n",
      " u'nodes': 1,\n",
      " u'nproc': 1,\n",
      " u'pmem': 1500,\n",
      " u'ppn': 1,\n",
      " u'queue': u'batch',\n",
      " u'scratch': u'/Users/tkemper/Development/streamm-tools/examples/scratch/nw_ethane_HF/',\n",
      " u'spin_mult': 1,\n",
      " u'task': u'SCF ',\n",
      " 'uncompress': 'tar -xzf ',\n",
      " u'walltime': 24}\n"
     ]
    }
   ],
   "source": [
    "pprint(nwchem_i.properties)"
   ]
  },
  {
   "cell_type": "code",
   "execution_count": 60,
   "metadata": {
    "collapsed": true
   },
   "outputs": [],
   "source": [
    "nwchem_i.replacewrite_prop('nw','input','nw','%s.nw'%(nwchem_i.tag))"
   ]
  },
  {
   "cell_type": "code",
   "execution_count": 61,
   "metadata": {
    "collapsed": true
   },
   "outputs": [],
   "source": [
    "nwchem_i.properties['input_nw'] = nwchem_i.files['input']['nw']\n",
    "nwchem_i.replacewrite_prop('run','scripts','run','%s.sh'%(nwchem_i.tag))"
   ]
  },
  {
   "cell_type": "code",
   "execution_count": 62,
   "metadata": {
    "collapsed": true
   },
   "outputs": [],
   "source": [
    "file_type = 'output'\n",
    "file_key = 'log'\n",
    "file_name = \"%s.log\"%(nwchem_i.tag)\n",
    "nwchem_i.add_file(file_type,file_key,file_name)"
   ]
  },
  {
   "cell_type": "code",
   "execution_count": 63,
   "metadata": {
    "collapsed": true
   },
   "outputs": [],
   "source": [
    "os.chdir(nwchem_i.dir['home'])\n",
    "alkyl_example.dump_json()"
   ]
  },
  {
   "cell_type": "code",
   "execution_count": 66,
   "metadata": {
    "collapsed": true
   },
   "outputs": [],
   "source": [
    "os.chdir(nwchem_i.dir['scratch'])"
   ]
  },
  {
   "cell_type": "code",
   "execution_count": 67,
   "metadata": {
    "collapsed": true
   },
   "outputs": [],
   "source": [
    "nwchem_i.run()"
   ]
  },
  {
   "cell_type": "code",
   "execution_count": 68,
   "metadata": {
    "collapsed": false
   },
   "outputs": [
    {
     "name": "stdout",
     "output_type": "stream",
     "text": [
      "Calculation nw_ethane_HF has status running\n"
     ]
    }
   ],
   "source": [
    "alkyl_example.check()"
   ]
  },
  {
   "cell_type": "code",
   "execution_count": 69,
   "metadata": {
    "collapsed": true
   },
   "outputs": [],
   "source": [
    "nwchem_i.analysis()"
   ]
  },
  {
   "cell_type": "code",
   "execution_count": 70,
   "metadata": {
    "collapsed": true
   },
   "outputs": [],
   "source": [
    "nwchem_i.store()"
   ]
  },
  {
   "cell_type": "code",
   "execution_count": 71,
   "metadata": {
    "collapsed": true
   },
   "outputs": [],
   "source": [
    "os.chdir(nwchem_i.dir['home'])\n",
    "alkyl_example.dump_json()"
   ]
  },
  {
   "cell_type": "code",
   "execution_count": 72,
   "metadata": {
    "collapsed": true
   },
   "outputs": [],
   "source": [
    "gaussian_i = streamm.Gaussian('gaus_ethane_HF')"
   ]
  },
  {
   "cell_type": "code",
   "execution_count": 73,
   "metadata": {
    "collapsed": true
   },
   "outputs": [],
   "source": [
    "alkyl_example.add_calc(gaussian_i)"
   ]
  },
  {
   "cell_type": "code",
   "execution_count": 74,
   "metadata": {
    "collapsed": true
   },
   "outputs": [],
   "source": [
    "gaussian_i.strucC = ethane"
   ]
  },
  {
   "cell_type": "code",
   "execution_count": 75,
   "metadata": {
    "collapsed": true
   },
   "outputs": [],
   "source": [
    "gaussian_i.set_resource(res_local)"
   ]
  },
  {
   "cell_type": "code",
   "execution_count": 76,
   "metadata": {
    "collapsed": true
   },
   "outputs": [],
   "source": [
    "gaussian_i.make_dir()"
   ]
  },
  {
   "cell_type": "code",
   "execution_count": 77,
   "metadata": {
    "collapsed": true
   },
   "outputs": [],
   "source": [
    "os.chdir(gaussian_i.dir['scratch'])"
   ]
  },
  {
   "cell_type": "code",
   "execution_count": 78,
   "metadata": {
    "collapsed": true
   },
   "outputs": [],
   "source": [
    "file_type = 'templates'\n",
    "file_key = 'run'\n",
    "file_name = \"gaussian.sh\"\n",
    "from_dirkey = 'templates'\n",
    "to_dirkey = 'scratch'\n",
    "gaussian_i.cp_file(file_type,file_key,file_name,from_dirkey,to_dirkey)"
   ]
  },
  {
   "cell_type": "code",
   "execution_count": 79,
   "metadata": {
    "collapsed": true
   },
   "outputs": [],
   "source": [
    "file_type = 'templates'\n",
    "file_key = 'com'\n",
    "file_name = \"gaussian.com\"\n",
    "from_dirkey = 'templates'\n",
    "to_dirkey = 'scratch'\n",
    "gaussian_i.cp_file(file_type,file_key,file_name,from_dirkey,to_dirkey)"
   ]
  },
  {
   "cell_type": "code",
   "execution_count": 80,
   "metadata": {
    "collapsed": true
   },
   "outputs": [],
   "source": [
    "gaussian_i.load_str('templates','com')        \n",
    "gaussian_i.load_str('templates','run')"
   ]
  },
  {
   "cell_type": "code",
   "execution_count": 81,
   "metadata": {
    "collapsed": true
   },
   "outputs": [],
   "source": [
    "gaussian_i.properties['commands'] = 'HF/3-21G SP'\n",
    "gaussian_i.properties['method'] = 'UHF'\n",
    "gaussian_i.properties['charge'] = 0\n",
    "gaussian_i.properties['spin_mult'] = 1\n",
    "gaussian_i.properties['coord'] = gaussian_i.strucC.write_coord()"
   ]
  },
  {
   "cell_type": "code",
   "execution_count": 82,
   "metadata": {
    "collapsed": false
   },
   "outputs": [
    {
     "name": "stdout",
     "output_type": "stream",
     "text": [
      "{u'allocation': u'',\n",
      " u'charge': 0,\n",
      " u'commands': u'HF/3-21G SP',\n",
      " 'comp_key': 'compressed',\n",
      " 'compress': 'tar -czf ',\n",
      " 'compress_sufix': 'tgz',\n",
      " u'coord': u'     C       1.34000000      -0.00000000       0.00000000 \\n     H       1.74000000      -0.00000000      -1.13137084 \\n     H       1.74000000       0.97979589       0.56568542 \\n     H       1.74000000      -0.97979589       0.56568542 \\n     C       0.00000000       0.00000000       0.00000000 \\n     H      -0.40000000       0.00000000       1.13137084 \\n     H      -0.40000000      -0.97979589      -0.56568542 \\n     H      -0.40000000       0.97979589      -0.56568542 \\n',\n",
      " u'exe_command': u'./',\n",
      " u'feature': u'24core',\n",
      " u'finish_str': u'Normal termination of Gaussian',\n",
      " u'method': u'UHF',\n",
      " u'nodes': 1,\n",
      " u'nproc': 1,\n",
      " u'pmem': 1500,\n",
      " u'ppn': 1,\n",
      " u'queue': u'batch',\n",
      " u'scratch': u'/Users/tkemper/Development/streamm-tools/examples/scratch/gaus_ethane_HF/',\n",
      " u'spin_mult': 1,\n",
      " 'uncompress': 'tar -xzf ',\n",
      " u'walltime': 24}\n"
     ]
    }
   ],
   "source": [
    "pprint(gaussian_i.properties)"
   ]
  },
  {
   "cell_type": "code",
   "execution_count": 83,
   "metadata": {
    "collapsed": true
   },
   "outputs": [],
   "source": [
    "gaussian_i.replacewrite_prop('com','input','com','%s.com'%(gaussian_i.tag))"
   ]
  },
  {
   "cell_type": "code",
   "execution_count": 84,
   "metadata": {
    "collapsed": true
   },
   "outputs": [],
   "source": [
    "gaussian_i.properties['input_com'] = gaussian_i.files['input']['com']\n",
    "gaussian_i.replacewrite_prop('run','scripts','run','%s.sh'%(gaussian_i.tag))"
   ]
  },
  {
   "cell_type": "code",
   "execution_count": 85,
   "metadata": {
    "collapsed": true
   },
   "outputs": [],
   "source": [
    "file_type = 'output'\n",
    "file_key = 'log'\n",
    "file_name = \"%s.log\"%(gaussian_i.tag)\n",
    "gaussian_i.add_file(file_type,file_key,file_name)"
   ]
  },
  {
   "cell_type": "code",
   "execution_count": 86,
   "metadata": {
    "collapsed": true
   },
   "outputs": [],
   "source": [
    "os.chdir(gaussian_i.dir['home'])\n",
    "alkyl_example.dump_json()"
   ]
  },
  {
   "cell_type": "code",
   "execution_count": 87,
   "metadata": {
    "collapsed": true
   },
   "outputs": [],
   "source": [
    "os.chdir(gaussian_i.dir['scratch'])"
   ]
  },
  {
   "cell_type": "code",
   "execution_count": 88,
   "metadata": {
    "collapsed": true
   },
   "outputs": [],
   "source": [
    "gaussian_i.run()"
   ]
  },
  {
   "cell_type": "code",
   "execution_count": 89,
   "metadata": {
    "collapsed": false
   },
   "outputs": [
    {
     "name": "stdout",
     "output_type": "stream",
     "text": [
      "Calculation nw_ethane_HF has status running\n",
      "Calculation gaus_ethane_HF has status running\n"
     ]
    }
   ],
   "source": [
    "alkyl_example.check()"
   ]
  },
  {
   "cell_type": "code",
   "execution_count": 90,
   "metadata": {
    "collapsed": true
   },
   "outputs": [],
   "source": [
    "os.chdir(alkyl_example.dir['home'])\n",
    "alkyl_example.dump_json()"
   ]
  },
  {
   "cell_type": "code",
   "execution_count": 91,
   "metadata": {
    "collapsed": true
   },
   "outputs": [],
   "source": [
    "lmp_alkyl = streamm.LAMMPS('lmp_alkyl')"
   ]
  },
  {
   "cell_type": "code",
   "execution_count": 92,
   "metadata": {
    "collapsed": true
   },
   "outputs": [],
   "source": [
    "alkyl_example.add_calc(lmp_alkyl)"
   ]
  },
  {
   "cell_type": "code",
   "execution_count": 93,
   "metadata": {
    "collapsed": true
   },
   "outputs": [],
   "source": [
    "lmp_alkyl.set_resource(res_local)"
   ]
  },
  {
   "cell_type": "code",
   "execution_count": 94,
   "metadata": {
    "collapsed": true
   },
   "outputs": [],
   "source": [
    "lmp_alkyl.make_dir()"
   ]
  },
  {
   "cell_type": "code",
   "execution_count": 113,
   "metadata": {
    "collapsed": false
   },
   "outputs": [
    {
     "name": "stdout",
     "output_type": "stream",
     "text": [
      "/Users/tkemper/Development/streamm-tools/examples/scratch/lmp_alkyl/\n"
     ]
    }
   ],
   "source": [
    "print lmp_alkyl.dir['scratch']"
   ]
  },
  {
   "cell_type": "code",
   "execution_count": 110,
   "metadata": {
    "collapsed": true
   },
   "outputs": [],
   "source": [
    "os.chdir(lmp_alkyl.dir['scratch'])"
   ]
  },
  {
   "cell_type": "code",
   "execution_count": 95,
   "metadata": {
    "collapsed": true
   },
   "outputs": [],
   "source": [
    "lmp_alkyl.paramC = oplsaa"
   ]
  },
  {
   "cell_type": "code",
   "execution_count": 96,
   "metadata": {
    "collapsed": true
   },
   "outputs": [],
   "source": [
    "import streamm"
   ]
  },
  {
   "cell_type": "code",
   "execution_count": 102,
   "metadata": {
    "collapsed": true
   },
   "outputs": [],
   "source": [
    "lmp_alkyl.strucC =  streamm.Buildingblock(matrix=[50.0,0.0,0.0,0.0,50.0,0.0,0.0,0.0,50.0])"
   ]
  },
  {
   "cell_type": "code",
   "execution_count": 103,
   "metadata": {
    "collapsed": true
   },
   "outputs": [],
   "source": [
    "lmp_alkyl.strucC.lat.pbcs = [True,True,True]"
   ]
  },
  {
   "cell_type": "code",
   "execution_count": 104,
   "metadata": {
    "collapsed": false
   },
   "outputs": [
    {
     "name": "stdout",
     "output_type": "stream",
     "text": [
      "No overlap found adding structure 0\n",
      "No overlap found adding structure 1\n",
      "No overlap found adding structure 2\n",
      "No overlap found adding structure 3\n",
      "No overlap found adding structure 4\n",
      "No overlap found adding structure 5\n",
      "No overlap found adding structure 6\n",
      "No overlap found adding structure 7\n",
      "No overlap found adding structure 8\n",
      "No overlap found adding structure 9\n"
     ]
    }
   ],
   "source": [
    "seed = 92734\n",
    "lmp_alkyl.strucC = streamm.add_struc(lmp_alkyl.strucC,ethyl_octane,10,seed)"
   ]
  },
  {
   "cell_type": "code",
   "execution_count": 105,
   "metadata": {
    "collapsed": false
   },
   "outputs": [
    {
     "name": "stdout",
     "output_type": "stream",
     "text": [
      "50.000000 0.000000 0.000000\n",
      "0.000000 50.000000 0.000000\n",
      "0.000000 0.000000 50.000000\n"
     ]
    }
   ],
   "source": [
    "print lmp_alkyl.strucC.lat"
   ]
  },
  {
   "cell_type": "code",
   "execution_count": 106,
   "metadata": {
    "collapsed": false
   },
   "outputs": [
    {
     "name": "stdout",
     "output_type": "stream",
     "text": [
      "9\n"
     ]
    }
   ],
   "source": [
    "print lmp_alkyl.strucC.n_molecules()"
   ]
  },
  {
   "cell_type": "code",
   "execution_count": 107,
   "metadata": {
    "collapsed": false
   },
   "outputs": [
    {
     "name": "stdout",
     "output_type": "stream",
     "text": [
      "ethyl_octane\n"
     ]
    }
   ],
   "source": [
    "print ethyl_octane.tag"
   ]
  },
  {
   "cell_type": "code",
   "execution_count": 108,
   "metadata": {
    "collapsed": true
   },
   "outputs": [],
   "source": [
    "lmp_alkyl.strucC.tag = ethyl_octane.tag + '_x10'"
   ]
  },
  {
   "cell_type": "code",
   "execution_count": 112,
   "metadata": {
    "collapsed": true
   },
   "outputs": [],
   "source": [
    "lmp_alkyl.strucC.write_xyz()"
   ]
  },
  {
   "cell_type": "code",
   "execution_count": 114,
   "metadata": {
    "collapsed": false
   },
   "outputs": [
    {
     "name": "stdout",
     "output_type": "stream",
     "text": [
      "No overlap found adding structure 0\n",
      "No overlap found adding structure 1\n",
      "Max placments 10 exceeded resetting to original system \n",
      "No overlap found adding structure 0\n",
      "No overlap found adding structure 1\n",
      "No overlap found adding structure 2\n",
      "No overlap found adding structure 3\n",
      "No overlap found adding structure 4\n",
      "Max placments 10 exceeded resetting to original system \n",
      "No overlap found adding structure 0\n",
      "No overlap found adding structure 1\n",
      "No overlap found adding structure 2\n",
      "No overlap found adding structure 3\n",
      "No overlap found adding structure 4\n",
      "No overlap found adding structure 5\n",
      "No overlap found adding structure 6\n",
      "No overlap found adding structure 7\n",
      "No overlap found adding structure 8\n",
      "No overlap found adding structure 9\n"
     ]
    }
   ],
   "source": [
    "seed = 283674\n",
    "lmp_alkyl.strucC = streamm.add_struc(lmp_alkyl.strucC,ethane,10,seed)"
   ]
  },
  {
   "cell_type": "code",
   "execution_count": 115,
   "metadata": {
    "collapsed": false
   },
   "outputs": [
    {
     "name": "stdout",
     "output_type": "stream",
     "text": [
      "19\n"
     ]
    }
   ],
   "source": [
    "print lmp_alkyl.strucC.n_molecules()"
   ]
  },
  {
   "cell_type": "code",
   "execution_count": 116,
   "metadata": {
    "collapsed": true
   },
   "outputs": [],
   "source": [
    "lmp_alkyl.strucC.tag += '_ethane_x10'"
   ]
  },
  {
   "cell_type": "code",
   "execution_count": 117,
   "metadata": {
    "collapsed": true
   },
   "outputs": [],
   "source": [
    "lmp_alkyl.strucC = streamm.add_struc_grid(lmp_alkyl.strucC,methane,50)"
   ]
  },
  {
   "cell_type": "code",
   "execution_count": 118,
   "metadata": {
    "collapsed": false
   },
   "outputs": [
    {
     "name": "stdout",
     "output_type": "stream",
     "text": [
      "66.550000 0.000000 0.000000\n",
      "0.000000 66.550000 0.000000\n",
      "0.000000 0.000000 66.550000\n"
     ]
    }
   ],
   "source": [
    "print lmp_alkyl.strucC.lat"
   ]
  },
  {
   "cell_type": "code",
   "execution_count": 119,
   "metadata": {
    "collapsed": true
   },
   "outputs": [],
   "source": [
    "lmp_alkyl.strucC.tag += '_methane_x50'"
   ]
  },
  {
   "cell_type": "code",
   "execution_count": 120,
   "metadata": {
    "collapsed": true
   },
   "outputs": [],
   "source": [
    "lmp_alkyl.strucC.write_xyz()"
   ]
  },
  {
   "cell_type": "code",
   "execution_count": 121,
   "metadata": {
    "collapsed": false
   },
   "outputs": [
    {
     "name": "stdout",
     "output_type": "stream",
     "text": [
      "atom[0] C (C) 0 2 OCT\n",
      "atom[1] H (H) 0 2 OCT\n",
      "atom[2] H (H) 0 2 OCT\n",
      "atom[3] H (H) 0 2 OCT\n",
      "atom[4] C (C) 0 2 OCT\n",
      "atom[5] H (H) 0 2 OCT\n",
      "atom[6] H (H) 0 2 OCT\n",
      "atom[7] C (C) 0 2 OCT\n",
      "atom[8] H (H) 0 2 OCT\n",
      "atom[9] H (H) 0 2 OCT\n",
      "atom[10] C (C) 0 2 OCT\n",
      "atom[11] H (H) 0 2 OCT\n",
      "atom[12] H (H) 0 2 OCT\n",
      "atom[13] C (C) 0 2 OCT\n",
      "atom[14] H (H) 0 2 OCT\n",
      "atom[15] C (C) 0 2 OCT\n",
      "atom[16] H (H) 0 2 OCT\n",
      "atom[17] H (H) 0 2 OCT\n",
      "atom[18] C (C) 0 2 OCT\n",
      "atom[19] H (H) 0 2 OCT\n",
      "atom[20] H (H) 0 2 OCT\n",
      "atom[21] C (C) 0 2 OCT\n",
      "atom[22] H (H) 0 2 OCT\n",
      "atom[23] H (H) 0 2 OCT\n",
      "atom[24] H (H) 0 2 OCT\n",
      "atom[25] C (C) 0 1 ETH\n",
      "atom[26] H (H) 0 1 ETH\n",
      "atom[27] H (H) 0 1 ETH\n",
      "atom[28] C (C) 0 1 ETH\n",
      "atom[29] H (H) 0 1 ETH\n",
      "atom[30] H (H) 0 1 ETH\n",
      "atom[31] H (H) 0 1 ETH\n",
      "atom[32] C (C) 1 2 OCT\n",
      "atom[33] H (H) 1 2 OCT\n",
      "atom[34] H (H) 1 2 OCT\n",
      "atom[35] H (H) 1 2 OCT\n",
      "atom[36] C (C) 1 2 OCT\n",
      "atom[37] H (H) 1 2 OCT\n",
      "atom[38] H (H) 1 2 OCT\n",
      "atom[39] C (C) 1 2 OCT\n",
      "atom[40] H (H) 1 2 OCT\n",
      "atom[41] H (H) 1 2 OCT\n",
      "atom[42] C (C) 1 2 OCT\n",
      "atom[43] H (H) 1 2 OCT\n",
      "atom[44] H (H) 1 2 OCT\n",
      "atom[45] C (C) 1 2 OCT\n",
      "atom[46] H (H) 1 2 OCT\n",
      "atom[47] C (C) 1 2 OCT\n",
      "atom[48] H (H) 1 2 OCT\n",
      "atom[49] H (H) 1 2 OCT\n",
      "atom[50] C (C) 1 2 OCT\n",
      "atom[51] H (H) 1 2 OCT\n",
      "atom[52] H (H) 1 2 OCT\n",
      "atom[53] C (C) 1 2 OCT\n",
      "atom[54] H (H) 1 2 OCT\n",
      "atom[55] H (H) 1 2 OCT\n",
      "atom[56] H (H) 1 2 OCT\n",
      "atom[57] C (C) 1 1 ETH\n",
      "atom[58] H (H) 1 1 ETH\n",
      "atom[59] H (H) 1 1 ETH\n",
      "atom[60] C (C) 1 1 ETH\n",
      "atom[61] H (H) 1 1 ETH\n",
      "atom[62] H (H) 1 1 ETH\n",
      "atom[63] H (H) 1 1 ETH\n",
      "atom[64] C (C) 2 2 OCT\n",
      "atom[65] H (H) 2 2 OCT\n",
      "atom[66] H (H) 2 2 OCT\n",
      "atom[67] H (H) 2 2 OCT\n",
      "atom[68] C (C) 2 2 OCT\n",
      "atom[69] H (H) 2 2 OCT\n",
      "atom[70] H (H) 2 2 OCT\n",
      "atom[71] C (C) 2 2 OCT\n",
      "atom[72] H (H) 2 2 OCT\n",
      "atom[73] H (H) 2 2 OCT\n",
      "atom[74] C (C) 2 2 OCT\n",
      "atom[75] H (H) 2 2 OCT\n",
      "atom[76] H (H) 2 2 OCT\n",
      "atom[77] C (C) 2 2 OCT\n",
      "atom[78] H (H) 2 2 OCT\n",
      "atom[79] C (C) 2 2 OCT\n",
      "atom[80] H (H) 2 2 OCT\n",
      "atom[81] H (H) 2 2 OCT\n",
      "atom[82] C (C) 2 2 OCT\n",
      "atom[83] H (H) 2 2 OCT\n",
      "atom[84] H (H) 2 2 OCT\n",
      "atom[85] C (C) 2 2 OCT\n",
      "atom[86] H (H) 2 2 OCT\n",
      "atom[87] H (H) 2 2 OCT\n",
      "atom[88] H (H) 2 2 OCT\n",
      "atom[89] C (C) 2 1 ETH\n",
      "atom[90] H (H) 2 1 ETH\n",
      "atom[91] H (H) 2 1 ETH\n",
      "atom[92] C (C) 2 1 ETH\n",
      "atom[93] H (H) 2 1 ETH\n",
      "atom[94] H (H) 2 1 ETH\n",
      "atom[95] H (H) 2 1 ETH\n",
      "atom[96] C (C) 3 2 OCT\n",
      "atom[97] H (H) 3 2 OCT\n",
      "atom[98] H (H) 3 2 OCT\n",
      "atom[99] H (H) 3 2 OCT\n",
      "atom[100] C (C) 3 2 OCT\n",
      "atom[101] H (H) 3 2 OCT\n",
      "atom[102] H (H) 3 2 OCT\n",
      "atom[103] C (C) 3 2 OCT\n",
      "atom[104] H (H) 3 2 OCT\n",
      "atom[105] H (H) 3 2 OCT\n",
      "atom[106] C (C) 3 2 OCT\n",
      "atom[107] H (H) 3 2 OCT\n",
      "atom[108] H (H) 3 2 OCT\n",
      "atom[109] C (C) 3 2 OCT\n",
      "atom[110] H (H) 3 2 OCT\n",
      "atom[111] C (C) 3 2 OCT\n",
      "atom[112] H (H) 3 2 OCT\n",
      "atom[113] H (H) 3 2 OCT\n",
      "atom[114] C (C) 3 2 OCT\n",
      "atom[115] H (H) 3 2 OCT\n",
      "atom[116] H (H) 3 2 OCT\n",
      "atom[117] C (C) 3 2 OCT\n",
      "atom[118] H (H) 3 2 OCT\n",
      "atom[119] H (H) 3 2 OCT\n",
      "atom[120] H (H) 3 2 OCT\n",
      "atom[121] C (C) 3 1 ETH\n",
      "atom[122] H (H) 3 1 ETH\n",
      "atom[123] H (H) 3 1 ETH\n",
      "atom[124] C (C) 3 1 ETH\n",
      "atom[125] H (H) 3 1 ETH\n",
      "atom[126] H (H) 3 1 ETH\n",
      "atom[127] H (H) 3 1 ETH\n",
      "atom[128] C (C) 4 2 OCT\n",
      "atom[129] H (H) 4 2 OCT\n",
      "atom[130] H (H) 4 2 OCT\n",
      "atom[131] H (H) 4 2 OCT\n",
      "atom[132] C (C) 4 2 OCT\n",
      "atom[133] H (H) 4 2 OCT\n",
      "atom[134] H (H) 4 2 OCT\n",
      "atom[135] C (C) 4 2 OCT\n",
      "atom[136] H (H) 4 2 OCT\n",
      "atom[137] H (H) 4 2 OCT\n",
      "atom[138] C (C) 4 2 OCT\n",
      "atom[139] H (H) 4 2 OCT\n",
      "atom[140] H (H) 4 2 OCT\n",
      "atom[141] C (C) 4 2 OCT\n",
      "atom[142] H (H) 4 2 OCT\n",
      "atom[143] C (C) 4 2 OCT\n",
      "atom[144] H (H) 4 2 OCT\n",
      "atom[145] H (H) 4 2 OCT\n",
      "atom[146] C (C) 4 2 OCT\n",
      "atom[147] H (H) 4 2 OCT\n",
      "atom[148] H (H) 4 2 OCT\n",
      "atom[149] C (C) 4 2 OCT\n",
      "atom[150] H (H) 4 2 OCT\n",
      "atom[151] H (H) 4 2 OCT\n",
      "atom[152] H (H) 4 2 OCT\n",
      "atom[153] C (C) 4 1 ETH\n",
      "atom[154] H (H) 4 1 ETH\n",
      "atom[155] H (H) 4 1 ETH\n",
      "atom[156] C (C) 4 1 ETH\n",
      "atom[157] H (H) 4 1 ETH\n",
      "atom[158] H (H) 4 1 ETH\n",
      "atom[159] H (H) 4 1 ETH\n",
      "atom[160] C (C) 5 2 OCT\n",
      "atom[161] H (H) 5 2 OCT\n",
      "atom[162] H (H) 5 2 OCT\n",
      "atom[163] H (H) 5 2 OCT\n",
      "atom[164] C (C) 5 2 OCT\n",
      "atom[165] H (H) 5 2 OCT\n",
      "atom[166] H (H) 5 2 OCT\n",
      "atom[167] C (C) 5 2 OCT\n",
      "atom[168] H (H) 5 2 OCT\n",
      "atom[169] H (H) 5 2 OCT\n",
      "atom[170] C (C) 5 2 OCT\n",
      "atom[171] H (H) 5 2 OCT\n",
      "atom[172] H (H) 5 2 OCT\n",
      "atom[173] C (C) 5 2 OCT\n",
      "atom[174] H (H) 5 2 OCT\n",
      "atom[175] C (C) 5 2 OCT\n",
      "atom[176] H (H) 5 2 OCT\n",
      "atom[177] H (H) 5 2 OCT\n",
      "atom[178] C (C) 5 2 OCT\n",
      "atom[179] H (H) 5 2 OCT\n",
      "atom[180] H (H) 5 2 OCT\n",
      "atom[181] C (C) 5 2 OCT\n",
      "atom[182] H (H) 5 2 OCT\n",
      "atom[183] H (H) 5 2 OCT\n",
      "atom[184] H (H) 5 2 OCT\n",
      "atom[185] C (C) 5 1 ETH\n",
      "atom[186] H (H) 5 1 ETH\n",
      "atom[187] H (H) 5 1 ETH\n",
      "atom[188] C (C) 5 1 ETH\n",
      "atom[189] H (H) 5 1 ETH\n",
      "atom[190] H (H) 5 1 ETH\n",
      "atom[191] H (H) 5 1 ETH\n",
      "atom[192] C (C) 6 2 OCT\n",
      "atom[193] H (H) 6 2 OCT\n",
      "atom[194] H (H) 6 2 OCT\n",
      "atom[195] H (H) 6 2 OCT\n",
      "atom[196] C (C) 6 2 OCT\n",
      "atom[197] H (H) 6 2 OCT\n",
      "atom[198] H (H) 6 2 OCT\n",
      "atom[199] C (C) 6 2 OCT\n",
      "atom[200] H (H) 6 2 OCT\n",
      "atom[201] H (H) 6 2 OCT\n",
      "atom[202] C (C) 6 2 OCT\n",
      "atom[203] H (H) 6 2 OCT\n",
      "atom[204] H (H) 6 2 OCT\n",
      "atom[205] C (C) 6 2 OCT\n",
      "atom[206] H (H) 6 2 OCT\n",
      "atom[207] C (C) 6 2 OCT\n",
      "atom[208] H (H) 6 2 OCT\n",
      "atom[209] H (H) 6 2 OCT\n",
      "atom[210] C (C) 6 2 OCT\n",
      "atom[211] H (H) 6 2 OCT\n",
      "atom[212] H (H) 6 2 OCT\n",
      "atom[213] C (C) 6 2 OCT\n",
      "atom[214] H (H) 6 2 OCT\n",
      "atom[215] H (H) 6 2 OCT\n",
      "atom[216] H (H) 6 2 OCT\n",
      "atom[217] C (C) 6 1 ETH\n",
      "atom[218] H (H) 6 1 ETH\n",
      "atom[219] H (H) 6 1 ETH\n",
      "atom[220] C (C) 6 1 ETH\n",
      "atom[221] H (H) 6 1 ETH\n",
      "atom[222] H (H) 6 1 ETH\n",
      "atom[223] H (H) 6 1 ETH\n",
      "atom[224] C (C) 7 2 OCT\n",
      "atom[225] H (H) 7 2 OCT\n",
      "atom[226] H (H) 7 2 OCT\n",
      "atom[227] H (H) 7 2 OCT\n",
      "atom[228] C (C) 7 2 OCT\n",
      "atom[229] H (H) 7 2 OCT\n",
      "atom[230] H (H) 7 2 OCT\n",
      "atom[231] C (C) 7 2 OCT\n",
      "atom[232] H (H) 7 2 OCT\n",
      "atom[233] H (H) 7 2 OCT\n",
      "atom[234] C (C) 7 2 OCT\n",
      "atom[235] H (H) 7 2 OCT\n",
      "atom[236] H (H) 7 2 OCT\n",
      "atom[237] C (C) 7 2 OCT\n",
      "atom[238] H (H) 7 2 OCT\n",
      "atom[239] C (C) 7 2 OCT\n",
      "atom[240] H (H) 7 2 OCT\n",
      "atom[241] H (H) 7 2 OCT\n",
      "atom[242] C (C) 7 2 OCT\n",
      "atom[243] H (H) 7 2 OCT\n",
      "atom[244] H (H) 7 2 OCT\n",
      "atom[245] C (C) 7 2 OCT\n",
      "atom[246] H (H) 7 2 OCT\n",
      "atom[247] H (H) 7 2 OCT\n",
      "atom[248] H (H) 7 2 OCT\n",
      "atom[249] C (C) 7 1 ETH\n",
      "atom[250] H (H) 7 1 ETH\n",
      "atom[251] H (H) 7 1 ETH\n",
      "atom[252] C (C) 7 1 ETH\n",
      "atom[253] H (H) 7 1 ETH\n",
      "atom[254] H (H) 7 1 ETH\n",
      "atom[255] H (H) 7 1 ETH\n",
      "atom[256] C (C) 8 2 OCT\n",
      "atom[257] H (H) 8 2 OCT\n",
      "atom[258] H (H) 8 2 OCT\n",
      "atom[259] H (H) 8 2 OCT\n",
      "atom[260] C (C) 8 2 OCT\n",
      "atom[261] H (H) 8 2 OCT\n",
      "atom[262] H (H) 8 2 OCT\n",
      "atom[263] C (C) 8 2 OCT\n",
      "atom[264] H (H) 8 2 OCT\n",
      "atom[265] H (H) 8 2 OCT\n",
      "atom[266] C (C) 8 2 OCT\n",
      "atom[267] H (H) 8 2 OCT\n",
      "atom[268] H (H) 8 2 OCT\n",
      "atom[269] C (C) 8 2 OCT\n",
      "atom[270] H (H) 8 2 OCT\n",
      "atom[271] C (C) 8 2 OCT\n",
      "atom[272] H (H) 8 2 OCT\n",
      "atom[273] H (H) 8 2 OCT\n",
      "atom[274] C (C) 8 2 OCT\n",
      "atom[275] H (H) 8 2 OCT\n",
      "atom[276] H (H) 8 2 OCT\n",
      "atom[277] C (C) 8 2 OCT\n",
      "atom[278] H (H) 8 2 OCT\n",
      "atom[279] H (H) 8 2 OCT\n",
      "atom[280] H (H) 8 2 OCT\n",
      "atom[281] C (C) 8 1 ETH\n",
      "atom[282] H (H) 8 1 ETH\n",
      "atom[283] H (H) 8 1 ETH\n",
      "atom[284] C (C) 8 1 ETH\n",
      "atom[285] H (H) 8 1 ETH\n",
      "atom[286] H (H) 8 1 ETH\n",
      "atom[287] H (H) 8 1 ETH\n",
      "atom[288] C (C) 9 2 OCT\n",
      "atom[289] H (H) 9 2 OCT\n",
      "atom[290] H (H) 9 2 OCT\n",
      "atom[291] H (H) 9 2 OCT\n",
      "atom[292] C (C) 9 2 OCT\n",
      "atom[293] H (H) 9 2 OCT\n",
      "atom[294] H (H) 9 2 OCT\n",
      "atom[295] C (C) 9 2 OCT\n",
      "atom[296] H (H) 9 2 OCT\n",
      "atom[297] H (H) 9 2 OCT\n",
      "atom[298] C (C) 9 2 OCT\n",
      "atom[299] H (H) 9 2 OCT\n",
      "atom[300] H (H) 9 2 OCT\n",
      "atom[301] C (C) 9 2 OCT\n",
      "atom[302] H (H) 9 2 OCT\n",
      "atom[303] C (C) 9 2 OCT\n",
      "atom[304] H (H) 9 2 OCT\n",
      "atom[305] H (H) 9 2 OCT\n",
      "atom[306] C (C) 9 2 OCT\n",
      "atom[307] H (H) 9 2 OCT\n",
      "atom[308] H (H) 9 2 OCT\n",
      "atom[309] C (C) 9 2 OCT\n",
      "atom[310] H (H) 9 2 OCT\n",
      "atom[311] H (H) 9 2 OCT\n",
      "atom[312] H (H) 9 2 OCT\n",
      "atom[313] C (C) 9 1 ETH\n",
      "atom[314] H (H) 9 1 ETH\n",
      "atom[315] H (H) 9 1 ETH\n",
      "atom[316] C (C) 9 1 ETH\n",
      "atom[317] H (H) 9 1 ETH\n",
      "atom[318] H (H) 9 1 ETH\n",
      "atom[319] H (H) 9 1 ETH\n",
      "atom[320] C (C) 10 1 ETH\n",
      "atom[321] H (H) 10 1 ETH\n",
      "atom[322] H (H) 10 1 ETH\n",
      "atom[323] H (H) 10 1 ETH\n",
      "atom[324] C (C) 10 1 ETH\n",
      "atom[325] H (H) 10 1 ETH\n",
      "atom[326] H (H) 10 1 ETH\n",
      "atom[327] H (H) 10 1 ETH\n",
      "atom[328] C (C) 11 1 ETH\n",
      "atom[329] H (H) 11 1 ETH\n",
      "atom[330] H (H) 11 1 ETH\n",
      "atom[331] H (H) 11 1 ETH\n",
      "atom[332] C (C) 11 1 ETH\n",
      "atom[333] H (H) 11 1 ETH\n",
      "atom[334] H (H) 11 1 ETH\n",
      "atom[335] H (H) 11 1 ETH\n",
      "atom[336] C (C) 12 1 ETH\n",
      "atom[337] H (H) 12 1 ETH\n",
      "atom[338] H (H) 12 1 ETH\n",
      "atom[339] H (H) 12 1 ETH\n",
      "atom[340] C (C) 12 1 ETH\n",
      "atom[341] H (H) 12 1 ETH\n",
      "atom[342] H (H) 12 1 ETH\n",
      "atom[343] H (H) 12 1 ETH\n",
      "atom[344] C (C) 13 1 ETH\n",
      "atom[345] H (H) 13 1 ETH\n",
      "atom[346] H (H) 13 1 ETH\n",
      "atom[347] H (H) 13 1 ETH\n",
      "atom[348] C (C) 13 1 ETH\n",
      "atom[349] H (H) 13 1 ETH\n",
      "atom[350] H (H) 13 1 ETH\n",
      "atom[351] H (H) 13 1 ETH\n",
      "atom[352] C (C) 14 1 ETH\n",
      "atom[353] H (H) 14 1 ETH\n",
      "atom[354] H (H) 14 1 ETH\n",
      "atom[355] H (H) 14 1 ETH\n",
      "atom[356] C (C) 14 1 ETH\n",
      "atom[357] H (H) 14 1 ETH\n",
      "atom[358] H (H) 14 1 ETH\n",
      "atom[359] H (H) 14 1 ETH\n",
      "atom[360] C (C) 15 1 ETH\n",
      "atom[361] H (H) 15 1 ETH\n",
      "atom[362] H (H) 15 1 ETH\n",
      "atom[363] H (H) 15 1 ETH\n",
      "atom[364] C (C) 15 1 ETH\n",
      "atom[365] H (H) 15 1 ETH\n",
      "atom[366] H (H) 15 1 ETH\n",
      "atom[367] H (H) 15 1 ETH\n",
      "atom[368] C (C) 16 1 ETH\n",
      "atom[369] H (H) 16 1 ETH\n",
      "atom[370] H (H) 16 1 ETH\n",
      "atom[371] H (H) 16 1 ETH\n",
      "atom[372] C (C) 16 1 ETH\n",
      "atom[373] H (H) 16 1 ETH\n",
      "atom[374] H (H) 16 1 ETH\n",
      "atom[375] H (H) 16 1 ETH\n",
      "atom[376] C (C) 17 1 ETH\n",
      "atom[377] H (H) 17 1 ETH\n",
      "atom[378] H (H) 17 1 ETH\n",
      "atom[379] H (H) 17 1 ETH\n",
      "atom[380] C (C) 17 1 ETH\n",
      "atom[381] H (H) 17 1 ETH\n",
      "atom[382] H (H) 17 1 ETH\n",
      "atom[383] H (H) 17 1 ETH\n",
      "atom[384] C (C) 18 1 ETH\n",
      "atom[385] H (H) 18 1 ETH\n",
      "atom[386] H (H) 18 1 ETH\n",
      "atom[387] H (H) 18 1 ETH\n",
      "atom[388] C (C) 18 1 ETH\n",
      "atom[389] H (H) 18 1 ETH\n",
      "atom[390] H (H) 18 1 ETH\n",
      "atom[391] H (H) 18 1 ETH\n",
      "atom[392] C (C) 19 1 ETH\n",
      "atom[393] H (H) 19 1 ETH\n",
      "atom[394] H (H) 19 1 ETH\n",
      "atom[395] H (H) 19 1 ETH\n",
      "atom[396] C (C) 19 1 ETH\n",
      "atom[397] H (H) 19 1 ETH\n",
      "atom[398] H (H) 19 1 ETH\n",
      "atom[399] H (H) 19 1 ETH\n",
      "atom[400] C (C) 20 1 METH\n",
      "atom[401] H (H) 20 1 METH\n",
      "atom[402] H (H) 20 1 METH\n",
      "atom[403] H (H) 20 1 METH\n",
      "atom[404] H (H) 20 1 METH\n",
      "atom[405] C (C) 21 1 METH\n",
      "atom[406] H (H) 21 1 METH\n",
      "atom[407] H (H) 21 1 METH\n",
      "atom[408] H (H) 21 1 METH\n",
      "atom[409] H (H) 21 1 METH\n",
      "atom[410] C (C) 22 1 METH\n",
      "atom[411] H (H) 22 1 METH\n",
      "atom[412] H (H) 22 1 METH\n",
      "atom[413] H (H) 22 1 METH\n",
      "atom[414] H (H) 22 1 METH\n",
      "atom[415] C (C) 23 1 METH\n",
      "atom[416] H (H) 23 1 METH\n",
      "atom[417] H (H) 23 1 METH\n",
      "atom[418] H (H) 23 1 METH\n",
      "atom[419] H (H) 23 1 METH\n",
      "atom[420] C (C) 24 1 METH\n",
      "atom[421] H (H) 24 1 METH\n",
      "atom[422] H (H) 24 1 METH\n",
      "atom[423] H (H) 24 1 METH\n",
      "atom[424] H (H) 24 1 METH\n",
      "atom[425] C (C) 25 1 METH\n",
      "atom[426] H (H) 25 1 METH\n",
      "atom[427] H (H) 25 1 METH\n",
      "atom[428] H (H) 25 1 METH\n",
      "atom[429] H (H) 25 1 METH\n",
      "atom[430] C (C) 26 1 METH\n",
      "atom[431] H (H) 26 1 METH\n",
      "atom[432] H (H) 26 1 METH\n",
      "atom[433] H (H) 26 1 METH\n",
      "atom[434] H (H) 26 1 METH\n",
      "atom[435] C (C) 27 1 METH\n",
      "atom[436] H (H) 27 1 METH\n",
      "atom[437] H (H) 27 1 METH\n",
      "atom[438] H (H) 27 1 METH\n",
      "atom[439] H (H) 27 1 METH\n",
      "atom[440] C (C) 28 1 METH\n",
      "atom[441] H (H) 28 1 METH\n",
      "atom[442] H (H) 28 1 METH\n",
      "atom[443] H (H) 28 1 METH\n",
      "atom[444] H (H) 28 1 METH\n",
      "atom[445] C (C) 29 1 METH\n",
      "atom[446] H (H) 29 1 METH\n",
      "atom[447] H (H) 29 1 METH\n",
      "atom[448] H (H) 29 1 METH\n",
      "atom[449] H (H) 29 1 METH\n",
      "atom[450] C (C) 30 1 METH\n",
      "atom[451] H (H) 30 1 METH\n",
      "atom[452] H (H) 30 1 METH\n",
      "atom[453] H (H) 30 1 METH\n",
      "atom[454] H (H) 30 1 METH\n",
      "atom[455] C (C) 31 1 METH\n",
      "atom[456] H (H) 31 1 METH\n",
      "atom[457] H (H) 31 1 METH\n",
      "atom[458] H (H) 31 1 METH\n",
      "atom[459] H (H) 31 1 METH\n",
      "atom[460] C (C) 32 1 METH\n",
      "atom[461] H (H) 32 1 METH\n",
      "atom[462] H (H) 32 1 METH\n",
      "atom[463] H (H) 32 1 METH\n",
      "atom[464] H (H) 32 1 METH\n",
      "atom[465] C (C) 33 1 METH\n",
      "atom[466] H (H) 33 1 METH\n",
      "atom[467] H (H) 33 1 METH\n",
      "atom[468] H (H) 33 1 METH\n",
      "atom[469] H (H) 33 1 METH\n",
      "atom[470] C (C) 34 1 METH\n",
      "atom[471] H (H) 34 1 METH\n",
      "atom[472] H (H) 34 1 METH\n",
      "atom[473] H (H) 34 1 METH\n",
      "atom[474] H (H) 34 1 METH\n",
      "atom[475] C (C) 35 1 METH\n",
      "atom[476] H (H) 35 1 METH\n",
      "atom[477] H (H) 35 1 METH\n",
      "atom[478] H (H) 35 1 METH\n",
      "atom[479] H (H) 35 1 METH\n",
      "atom[480] C (C) 36 1 METH\n",
      "atom[481] H (H) 36 1 METH\n",
      "atom[482] H (H) 36 1 METH\n",
      "atom[483] H (H) 36 1 METH\n",
      "atom[484] H (H) 36 1 METH\n",
      "atom[485] C (C) 37 1 METH\n",
      "atom[486] H (H) 37 1 METH\n",
      "atom[487] H (H) 37 1 METH\n",
      "atom[488] H (H) 37 1 METH\n",
      "atom[489] H (H) 37 1 METH\n",
      "atom[490] C (C) 38 1 METH\n",
      "atom[491] H (H) 38 1 METH\n",
      "atom[492] H (H) 38 1 METH\n",
      "atom[493] H (H) 38 1 METH\n",
      "atom[494] H (H) 38 1 METH\n",
      "atom[495] C (C) 39 1 METH\n",
      "atom[496] H (H) 39 1 METH\n",
      "atom[497] H (H) 39 1 METH\n",
      "atom[498] H (H) 39 1 METH\n",
      "atom[499] H (H) 39 1 METH\n",
      "atom[500] C (C) 40 1 METH\n",
      "atom[501] H (H) 40 1 METH\n",
      "atom[502] H (H) 40 1 METH\n",
      "atom[503] H (H) 40 1 METH\n",
      "atom[504] H (H) 40 1 METH\n",
      "atom[505] C (C) 41 1 METH\n",
      "atom[506] H (H) 41 1 METH\n",
      "atom[507] H (H) 41 1 METH\n",
      "atom[508] H (H) 41 1 METH\n",
      "atom[509] H (H) 41 1 METH\n",
      "atom[510] C (C) 42 1 METH\n",
      "atom[511] H (H) 42 1 METH\n",
      "atom[512] H (H) 42 1 METH\n",
      "atom[513] H (H) 42 1 METH\n",
      "atom[514] H (H) 42 1 METH\n",
      "atom[515] C (C) 43 1 METH\n",
      "atom[516] H (H) 43 1 METH\n",
      "atom[517] H (H) 43 1 METH\n",
      "atom[518] H (H) 43 1 METH\n",
      "atom[519] H (H) 43 1 METH\n",
      "atom[520] C (C) 44 1 METH\n",
      "atom[521] H (H) 44 1 METH\n",
      "atom[522] H (H) 44 1 METH\n",
      "atom[523] H (H) 44 1 METH\n",
      "atom[524] H (H) 44 1 METH\n",
      "atom[525] C (C) 45 1 METH\n",
      "atom[526] H (H) 45 1 METH\n",
      "atom[527] H (H) 45 1 METH\n",
      "atom[528] H (H) 45 1 METH\n",
      "atom[529] H (H) 45 1 METH\n",
      "atom[530] C (C) 46 1 METH\n",
      "atom[531] H (H) 46 1 METH\n",
      "atom[532] H (H) 46 1 METH\n",
      "atom[533] H (H) 46 1 METH\n",
      "atom[534] H (H) 46 1 METH\n",
      "atom[535] C (C) 47 1 METH\n",
      "atom[536] H (H) 47 1 METH\n",
      "atom[537] H (H) 47 1 METH\n",
      "atom[538] H (H) 47 1 METH\n",
      "atom[539] H (H) 47 1 METH\n",
      "atom[540] C (C) 48 1 METH\n",
      "atom[541] H (H) 48 1 METH\n",
      "atom[542] H (H) 48 1 METH\n",
      "atom[543] H (H) 48 1 METH\n",
      "atom[544] H (H) 48 1 METH\n",
      "atom[545] C (C) 49 1 METH\n",
      "atom[546] H (H) 49 1 METH\n",
      "atom[547] H (H) 49 1 METH\n",
      "atom[548] H (H) 49 1 METH\n",
      "atom[549] H (H) 49 1 METH\n",
      "atom[550] C (C) 50 1 METH\n",
      "atom[551] H (H) 50 1 METH\n",
      "atom[552] H (H) 50 1 METH\n",
      "atom[553] H (H) 50 1 METH\n",
      "atom[554] H (H) 50 1 METH\n",
      "atom[555] C (C) 51 1 METH\n",
      "atom[556] H (H) 51 1 METH\n",
      "atom[557] H (H) 51 1 METH\n",
      "atom[558] H (H) 51 1 METH\n",
      "atom[559] H (H) 51 1 METH\n",
      "atom[560] C (C) 52 1 METH\n",
      "atom[561] H (H) 52 1 METH\n",
      "atom[562] H (H) 52 1 METH\n",
      "atom[563] H (H) 52 1 METH\n",
      "atom[564] H (H) 52 1 METH\n",
      "atom[565] C (C) 53 1 METH\n",
      "atom[566] H (H) 53 1 METH\n",
      "atom[567] H (H) 53 1 METH\n",
      "atom[568] H (H) 53 1 METH\n",
      "atom[569] H (H) 53 1 METH\n",
      "atom[570] C (C) 54 1 METH\n",
      "atom[571] H (H) 54 1 METH\n",
      "atom[572] H (H) 54 1 METH\n",
      "atom[573] H (H) 54 1 METH\n",
      "atom[574] H (H) 54 1 METH\n",
      "atom[575] C (C) 55 1 METH\n",
      "atom[576] H (H) 55 1 METH\n",
      "atom[577] H (H) 55 1 METH\n",
      "atom[578] H (H) 55 1 METH\n",
      "atom[579] H (H) 55 1 METH\n",
      "atom[580] C (C) 56 1 METH\n",
      "atom[581] H (H) 56 1 METH\n",
      "atom[582] H (H) 56 1 METH\n",
      "atom[583] H (H) 56 1 METH\n",
      "atom[584] H (H) 56 1 METH\n",
      "atom[585] C (C) 57 1 METH\n",
      "atom[586] H (H) 57 1 METH\n",
      "atom[587] H (H) 57 1 METH\n",
      "atom[588] H (H) 57 1 METH\n",
      "atom[589] H (H) 57 1 METH\n",
      "atom[590] C (C) 58 1 METH\n",
      "atom[591] H (H) 58 1 METH\n",
      "atom[592] H (H) 58 1 METH\n",
      "atom[593] H (H) 58 1 METH\n",
      "atom[594] H (H) 58 1 METH\n",
      "atom[595] C (C) 59 1 METH\n",
      "atom[596] H (H) 59 1 METH\n",
      "atom[597] H (H) 59 1 METH\n",
      "atom[598] H (H) 59 1 METH\n",
      "atom[599] H (H) 59 1 METH\n",
      "atom[600] C (C) 60 1 METH\n",
      "atom[601] H (H) 60 1 METH\n",
      "atom[602] H (H) 60 1 METH\n",
      "atom[603] H (H) 60 1 METH\n",
      "atom[604] H (H) 60 1 METH\n",
      "atom[605] C (C) 61 1 METH\n",
      "atom[606] H (H) 61 1 METH\n",
      "atom[607] H (H) 61 1 METH\n",
      "atom[608] H (H) 61 1 METH\n",
      "atom[609] H (H) 61 1 METH\n",
      "atom[610] C (C) 62 1 METH\n",
      "atom[611] H (H) 62 1 METH\n",
      "atom[612] H (H) 62 1 METH\n",
      "atom[613] H (H) 62 1 METH\n",
      "atom[614] H (H) 62 1 METH\n",
      "atom[615] C (C) 63 1 METH\n",
      "atom[616] H (H) 63 1 METH\n",
      "atom[617] H (H) 63 1 METH\n",
      "atom[618] H (H) 63 1 METH\n",
      "atom[619] H (H) 63 1 METH\n",
      "atom[620] C (C) 64 1 METH\n",
      "atom[621] H (H) 64 1 METH\n",
      "atom[622] H (H) 64 1 METH\n",
      "atom[623] H (H) 64 1 METH\n",
      "atom[624] H (H) 64 1 METH\n",
      "atom[625] C (C) 65 1 METH\n",
      "atom[626] H (H) 65 1 METH\n",
      "atom[627] H (H) 65 1 METH\n",
      "atom[628] H (H) 65 1 METH\n",
      "atom[629] H (H) 65 1 METH\n",
      "atom[630] C (C) 66 1 METH\n",
      "atom[631] H (H) 66 1 METH\n",
      "atom[632] H (H) 66 1 METH\n",
      "atom[633] H (H) 66 1 METH\n",
      "atom[634] H (H) 66 1 METH\n",
      "atom[635] C (C) 67 1 METH\n",
      "atom[636] H (H) 67 1 METH\n",
      "atom[637] H (H) 67 1 METH\n",
      "atom[638] H (H) 67 1 METH\n",
      "atom[639] H (H) 67 1 METH\n",
      "atom[640] C (C) 68 1 METH\n",
      "atom[641] H (H) 68 1 METH\n",
      "atom[642] H (H) 68 1 METH\n",
      "atom[643] H (H) 68 1 METH\n",
      "atom[644] H (H) 68 1 METH\n",
      "atom[645] C (C) 69 1 METH\n",
      "atom[646] H (H) 69 1 METH\n",
      "atom[647] H (H) 69 1 METH\n",
      "atom[648] H (H) 69 1 METH\n",
      "atom[649] H (H) 69 1 METH\n"
     ]
    }
   ],
   "source": [
    "for pk,p in lmp_alkyl.strucC.particles.iteritems():\n",
    "    print p,p.mol,p.residue,p.resname"
   ]
  },
  {
   "cell_type": "code",
   "execution_count": 122,
   "metadata": {
    "collapsed": true
   },
   "outputs": [],
   "source": [
    "lmp_alkyl.set_ffparam()"
   ]
  },
  {
   "cell_type": "code",
   "execution_count": 123,
   "metadata": {
    "collapsed": true
   },
   "outputs": [],
   "source": [
    "file_type = 'templates'\n",
    "file_key = 'in'\n",
    "file_name = \"lammps_sp.in\"\n",
    "from_dirkey = 'templates'\n",
    "to_dirkey = 'scratch'\n",
    "lmp_alkyl.cp_file(file_type,file_key,file_name,from_dirkey,to_dirkey)"
   ]
  },
  {
   "cell_type": "code",
   "execution_count": 124,
   "metadata": {
    "collapsed": true
   },
   "outputs": [],
   "source": [
    "file_type = 'templates'\n",
    "file_key = 'run'\n",
    "file_name = \"lammps.sh\"\n",
    "from_dirkey = 'templates'\n",
    "to_dirkey = 'scratch'\n",
    "lmp_alkyl.cp_file(file_type,file_key,file_name,from_dirkey,to_dirkey)"
   ]
  },
  {
   "cell_type": "code",
   "execution_count": 125,
   "metadata": {
    "collapsed": true
   },
   "outputs": [],
   "source": [
    "os.chdir(lmp_alkyl.dir['scratch'])"
   ]
  },
  {
   "cell_type": "code",
   "execution_count": 126,
   "metadata": {
    "collapsed": true
   },
   "outputs": [],
   "source": [
    "lmp_alkyl.load_str('templates','in')\n",
    "lmp_alkyl.load_str('templates','run')"
   ]
  },
  {
   "cell_type": "code",
   "execution_count": 127,
   "metadata": {
    "collapsed": true
   },
   "outputs": [],
   "source": [
    "lmp_alkyl.write_data()"
   ]
  },
  {
   "cell_type": "code",
   "execution_count": 128,
   "metadata": {
    "collapsed": true
   },
   "outputs": [],
   "source": [
    "lmp_alkyl.replacewrite_prop('in','input','in','%s.in'%(lmp_alkyl.tag))"
   ]
  },
  {
   "cell_type": "code",
   "execution_count": 129,
   "metadata": {
    "collapsed": true
   },
   "outputs": [],
   "source": [
    "lmp_alkyl.properties['input_in'] = lmp_alkyl.files['input']['in']\n",
    "lmp_alkyl.replacewrite_prop('run','scripts','run','%s.sh'%(lmp_alkyl.tag))"
   ]
  },
  {
   "cell_type": "code",
   "execution_count": 130,
   "metadata": {
    "collapsed": true
   },
   "outputs": [],
   "source": [
    "os.chdir(lmp_alkyl.dir['home'])\n",
    "lmp_alkyl.dump_json()"
   ]
  },
  {
   "cell_type": "code",
   "execution_count": 131,
   "metadata": {
    "collapsed": true
   },
   "outputs": [],
   "source": [
    "lmp_alkyl.run()"
   ]
  },
  {
   "cell_type": "code",
   "execution_count": 132,
   "metadata": {
    "collapsed": true
   },
   "outputs": [],
   "source": [
    "os.chdir(lmp_alkyl.dir['scratch'])\n",
    "lmp_alkyl.check()"
   ]
  },
  {
   "cell_type": "code",
   "execution_count": 133,
   "metadata": {
    "collapsed": false
   },
   "outputs": [
    {
     "name": "stdout",
     "output_type": "stream",
     "text": [
      "u'Calculation:lmp_alkyl has status:written'\n"
     ]
    }
   ],
   "source": [
    "pprint(\"Calculation:{} has status:{}\".format(lmp_alkyl.tag,lmp_alkyl.meta['status']))"
   ]
  },
  {
   "cell_type": "code",
   "execution_count": 134,
   "metadata": {
    "collapsed": true
   },
   "outputs": [],
   "source": [
    "lmp_alkyl.strucC.calc_center_mass()"
   ]
  },
  {
   "cell_type": "code",
   "execution_count": 146,
   "metadata": {
    "collapsed": true
   },
   "outputs": [],
   "source": [
    "groupset_i = streamm.Groups('mol',lmp_alkyl.strucC)\n",
    "groupset_i.group_prop('mol','group_mol')"
   ]
  },
  {
   "cell_type": "code",
   "execution_count": 147,
   "metadata": {
    "collapsed": true
   },
   "outputs": [],
   "source": [
    "groupset_i.calc_cent_mass()\n",
    "groupset_i.calc_radius_asphericity()\n",
    "groupset_i.calc_dl()"
   ]
  },
  {
   "cell_type": "code",
   "execution_count": 148,
   "metadata": {
    "collapsed": true
   },
   "outputs": [],
   "source": [
    "groupset_i.write_cm_xyz()"
   ]
  },
  {
   "cell_type": "code",
   "execution_count": 149,
   "metadata": {
    "collapsed": true
   },
   "outputs": [],
   "source": [
    "import numpy as np"
   ]
  },
  {
   "cell_type": "code",
   "execution_count": 150,
   "metadata": {
    "collapsed": false
   },
   "outputs": [
    {
     "name": "stdout",
     "output_type": "stream",
     "text": [
      "1.79932546227 ang\n"
     ]
    }
   ],
   "source": [
    "print np.mean(groupset_i.radius),groupset_i.strucC.unit_conf['length']"
   ]
  },
  {
   "cell_type": "code",
   "execution_count": 151,
   "metadata": {
    "collapsed": false
   },
   "outputs": [
    {
     "name": "stdout",
     "output_type": "stream",
     "text": [
      "[True, True, True]\n"
     ]
    }
   ],
   "source": [
    "print groupset_i.strucC.lat.pbcs"
   ]
  },
  {
   "cell_type": "code",
   "execution_count": 152,
   "metadata": {
    "collapsed": true
   },
   "outputs": [],
   "source": [
    "groupset_i.group_nblist.radii_nblist(groupset_i.strucC.lat,groupset_i.cent_mass,groupset_i.radius,radii_buffer=5.25)"
   ]
  },
  {
   "cell_type": "code",
   "execution_count": 155,
   "metadata": {
    "collapsed": true
   },
   "outputs": [],
   "source": [
    "groupset_i.group_pbcs()"
   ]
  },
  {
   "cell_type": "code",
   "execution_count": 156,
   "metadata": {
    "collapsed": false
   },
   "outputs": [
    {
     "name": "stdout",
     "output_type": "stream",
     "text": [
      "group_mol_0 47 0\n",
      "[ 38.326923   5.15297    0.311727]\n",
      "group_mol_1 35 1\n",
      "[ 36.599462  26.819205  37.318824]\n",
      "group_mol_2 35 2\n",
      "[  3.427126  43.098942  12.819743]\n",
      "group_mol_3 34 3\n",
      "[  2.385817  34.09571   44.931817]\n",
      "group_mol_4 36 4\n",
      "[ 12.99275   18.251691  29.674268]\n",
      "group_mol_5 45 5\n",
      "[ 17.256952   2.611683  24.930946]\n",
      "group_mol_6 34 6\n",
      "[ 33.107853  35.964402  24.485375]\n",
      "group_mol_7 42 7\n",
      "[ 18.156043  28.621305  46.606473]\n",
      "group_mol_8 39 8\n",
      "[ 29.279355  48.702058  37.262101]\n",
      "group_mol_9 39 9\n",
      "[ 46.718605  28.275142  16.173422]\n"
     ]
    }
   ],
   "source": [
    "for gk_i,g_i in groupset_i.groups.iteritems():\n",
    "    if( len(g_i.pkeys) == 32 ):\n",
    "        print g_i.tag,groupset_i.group_nblist.calc_nnab(gk_i),g_i.mol \n",
    "        print g_i.cent_mass\n",
    "        list_i = []\n",
    "        for g_j in groupset_i.group_nblist.getnbs(gk_i):\n",
    "            list_i += groupset_i.groups[g_j].pkeys\n",
    "        groupset_i.strucC.shift_pos(-1.0*g_i.cent_mass)  # Place center of mass at origin\n",
    "        groupset_i.strucC.write_xyz_list(list_i,xyz_file='{}_blob.xyz'.format(g_i.tag))\n",
    "        groupset_i.strucC.shift_pos(g_i.cent_mass)  # Return center of mass \n",
    "        "
   ]
  },
  {
   "cell_type": "markdown",
   "metadata": {},
   "source": [
    "Fancy aye! "
   ]
  }
 ],
 "metadata": {
  "kernelspec": {
   "display_name": "Python [default]",
   "language": "python",
   "name": "python2"
  },
  "language_info": {
   "codemirror_mode": {
    "name": "ipython",
    "version": 2
   },
   "file_extension": ".py",
   "mimetype": "text/x-python",
   "name": "python",
   "nbconvert_exporter": "python",
   "pygments_lexer": "ipython2",
   "version": "2.7.12"
  }
 },
 "nbformat": 4,
 "nbformat_minor": 2
}
