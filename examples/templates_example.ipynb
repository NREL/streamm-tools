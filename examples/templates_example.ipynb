{
 "cells": [
  {
   "cell_type": "markdown",
   "metadata": {},
   "source": [
    "In this example, we will write out a NWChem input file based on a template"
   ]
  },
  {
   "cell_type": "code",
   "execution_count": 1,
   "metadata": {
    "collapsed": true
   },
   "outputs": [],
   "source": [
    "import streamm"
   ]
  },
  {
   "cell_type": "code",
   "execution_count": 2,
   "metadata": {
    "collapsed": true
   },
   "outputs": [],
   "source": [
    "import os \n",
    "from pprint import pprint\n",
    "from pathlib2 import Path"
   ]
  },
  {
   "cell_type": "markdown",
   "metadata": {},
   "source": [
    "First, we need to set the location of the templates directory cloned from http://github.com/NREL/streamm-tools"
   ]
  },
  {
   "cell_type": "markdown",
   "metadata": {},
   "source": [
    "If you are running this example in the examples directory in the streamm-tools repo, the TEMPLATE_DIR should look like this"
   ]
  },
  {
   "cell_type": "code",
   "execution_count": 3,
   "metadata": {},
   "outputs": [
    {
     "name": "stdout",
     "output_type": "stream",
     "text": [
      "/Users/tkemper/Development/streamm-tools/examples\n",
      "/Users/tkemper/Development/streamm-tools/examples/../templates/\n"
     ]
    }
   ],
   "source": [
    "EXAMPLE_DIR = os.getcwd()\n",
    "\n",
    "print(EXAMPLE_DIR)\n",
    "\n",
    "TEMPLATE_DIR =  os.path.join(EXAMPLE_DIR,'..','templates','')\n",
    "\n",
    "print(TEMPLATE_DIR)"
   ]
  },
  {
   "cell_type": "markdown",
   "metadata": {},
   "source": [
    "If not please set the `TEMPLATE_DIR` variable to the location of the templates"
   ]
  },
  {
   "cell_type": "markdown",
   "metadata": {},
   "source": [
    "We will use the basic nwchem.nw example template "
   ]
  },
  {
   "cell_type": "code",
   "execution_count": 4,
   "metadata": {
    "collapsed": true
   },
   "outputs": [],
   "source": [
    "temlate_file = 'nwchem.nw'"
   ]
  },
  {
   "cell_type": "markdown",
   "metadata": {},
   "source": [
    "Create a NWChem calculation object"
   ]
  },
  {
   "cell_type": "code",
   "execution_count": 5,
   "metadata": {
    "collapsed": true
   },
   "outputs": [],
   "source": [
    "nwchem = streamm.NWChem('ethane_nw_sp')"
   ]
  },
  {
   "cell_type": "markdown",
   "metadata": {},
   "source": [
    "Read in the ethane structure we creating in the buildingblocks example. "
   ]
  },
  {
   "cell_type": "markdown",
   "metadata": {},
   "source": [
    ".. Note::\n",
    "\n",
    "    If you have not run the buildingblocks_example.ipynb example, please do so the create a `.xyz` file\n",
    "    "
   ]
  },
  {
   "cell_type": "code",
   "execution_count": 6,
   "metadata": {
    "collapsed": true
   },
   "outputs": [],
   "source": [
    "need_files = ['ethane_struc.json']\n",
    "for f in need_files:\n",
    "    path = Path(f)\n",
    "    if not path.is_file():\n",
    "        print(\"Need to run buildingblocks_example.ipynb\")\n",
    "        os.system(\"jupyter nbconvert --to python  buildingblocks_example.ipynb\")\n",
    "        os.system(\"python buildingblocks_example.py\")"
   ]
  },
  {
   "cell_type": "code",
   "execution_count": 7,
   "metadata": {},
   "outputs": [
    {
     "name": "stdout",
     "output_type": "stream",
     "text": [
      " n_particles:8 \n",
      " n_bonds:7\n",
      " n_angles:12\n",
      " n_dihedrals:9\n",
      " n_impropers:0\n"
     ]
    }
   ],
   "source": [
    "nwchem.strucC.tag = 'ethane'\n",
    "nwchem.strucC.import_json()\n",
    "print nwchem.strucC.print_properties()"
   ]
  },
  {
   "cell_type": "markdown",
   "metadata": {},
   "source": [
    "Get the location of the template file"
   ]
  },
  {
   "cell_type": "code",
   "execution_count": 8,
   "metadata": {},
   "outputs": [
    {
     "name": "stdout",
     "output_type": "stream",
     "text": [
      "/Users/tkemper/Development/streamm-tools/examples/../templates/nwchem.nw\n"
     ]
    }
   ],
   "source": [
    "template_path =  os.path.join(TEMPLATE_DIR,temlate_file)\n",
    "\n",
    "print template_path"
   ]
  },
  {
   "cell_type": "markdown",
   "metadata": {},
   "source": [
    "Read in the template "
   ]
  },
  {
   "cell_type": "code",
   "execution_count": 9,
   "metadata": {
    "collapsed": true
   },
   "outputs": [],
   "source": [
    "template_line = nwchem.read_lines(template_path)"
   ]
  },
  {
   "cell_type": "code",
   "execution_count": 10,
   "metadata": {},
   "outputs": [
    {
     "name": "stdout",
     "output_type": "stream",
     "text": [
      "start test\n",
      " geometry GEOM units angstroms NOCENTER NOAUTOZ NOAUTOSYM\n",
      "<coord>end\n",
      "\n",
      "\n",
      " BASIS \n",
      " * LIBRARY <basis>\n",
      " end \n",
      " SET geometry  GEOM \n",
      " CHARGE  <charge>\n",
      " SCF \n",
      " NOPEN 0\n",
      " <method> \n",
      " SINGLET\n",
      " maxiter <maxiter> \n",
      " end \n",
      " TASK <task>\n",
      "\n",
      "\n"
     ]
    }
   ],
   "source": [
    "print template_line"
   ]
  },
  {
   "cell_type": "markdown",
   "metadata": {},
   "source": [
    "Set the properties dictionary to contain the information for our calculation"
   ]
  },
  {
   "cell_type": "code",
   "execution_count": 11,
   "metadata": {
    "collapsed": true
   },
   "outputs": [],
   "source": [
    "nwchem.properties['basis'] = '6-31g'\n",
    "nwchem.properties['method'] = 'UHF'\n",
    "nwchem.properties['charge'] = 0\n",
    "nwchem.properties['spin_mult'] = 1\n",
    "nwchem.properties['task'] = 'SCF '\n",
    "nwchem.properties['coord'] = nwchem.strucC.write_coord()"
   ]
  },
  {
   "cell_type": "markdown",
   "metadata": {},
   "source": [
    "Do a string replace of the dictionary keys to create an input string"
   ]
  },
  {
   "cell_type": "code",
   "execution_count": 12,
   "metadata": {},
   "outputs": [
    {
     "name": "stdout",
     "output_type": "stream",
     "text": [
      "start test\n",
      " geometry GEOM units angstroms NOCENTER NOAUTOZ NOAUTOSYM\n",
      "     C       1.34000000      -0.00000000       0.00000000 \n",
      "     H       1.74000000      -0.00000000      -1.13137084 \n",
      "     H       1.74000000       0.97979589       0.56568542 \n",
      "     H       1.74000000      -0.97979589       0.56568542 \n",
      "     C       0.00000000       0.00000000       0.00000000 \n",
      "     H      -0.40000000       0.00000000       1.13137084 \n",
      "     H      -0.40000000      -0.97979589      -0.56568542 \n",
      "     H      -0.40000000       0.97979589      -0.56568542 \n",
      "end\n",
      "\n",
      "\n",
      " BASIS \n",
      " * LIBRARY 6-31g\n",
      " end \n",
      " SET geometry  GEOM \n",
      " CHARGE  0\n",
      " SCF \n",
      " NOPEN 0\n",
      " UHF \n",
      " SINGLET\n",
      " maxiter 100 \n",
      " end \n",
      " TASK SCF \n",
      "\n",
      "\n"
     ]
    }
   ],
   "source": [
    "input_str = nwchem.replace_keys(template_line,nwchem.properties)\n",
    "print input_str"
   ]
  },
  {
   "cell_type": "code",
   "execution_count": 13,
   "metadata": {
    "collapsed": true
   },
   "outputs": [],
   "source": [
    "file_name = '%s.nw'%(nwchem.tag)\n",
    "with open(file_name,\"w\") as F:\n",
    "    F.write(input_str)\n"
   ]
  },
  {
   "cell_type": "markdown",
   "metadata": {},
   "source": [
    "Easy peasy!"
   ]
  }
 ],
 "metadata": {
  "anaconda-cloud": {},
  "kernelspec": {
   "display_name": "Python 2",
   "language": "python",
   "name": "python2"
  },
  "language_info": {
   "codemirror_mode": {
    "name": "ipython",
    "version": 2
   },
   "file_extension": ".py",
   "mimetype": "text/x-python",
   "name": "python",
   "nbconvert_exporter": "python",
   "pygments_lexer": "ipython2",
   "version": "2.7.13"
  }
 },
 "nbformat": 4,
 "nbformat_minor": 1
}
