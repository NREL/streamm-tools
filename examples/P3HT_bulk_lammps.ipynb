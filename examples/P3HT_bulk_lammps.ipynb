{
 "cells": [
  {
   "cell_type": "markdown",
   "metadata": {},
   "source": [
    "Build P3HT bulk simulation "
   ]
  },
  {
   "cell_type": "code",
   "execution_count": 1,
   "metadata": {
    "collapsed": true
   },
   "outputs": [],
   "source": [
    "import os,sys, copy, pickle"
   ]
  },
  {
   "cell_type": "code",
   "execution_count": 2,
   "metadata": {
    "collapsed": false
   },
   "outputs": [],
   "source": [
    "from streamm import *"
   ]
  },
  {
   "cell_type": "code",
   "execution_count": 3,
   "metadata": {
    "collapsed": false
   },
   "outputs": [],
   "source": [
    "%load_ext autoreload\n",
    "%autoreload 2"
   ]
  },
  {
   "cell_type": "markdown",
   "metadata": {},
   "source": [
    "Load resources from previous example "
   ]
  },
  {
   "cell_type": "code",
   "execution_count": 4,
   "metadata": {
    "collapsed": false
   },
   "outputs": [
    {
     "name": "stdout",
     "output_type": "stream",
     "text": [
      "Reading in resource json file res_local.json \n"
     ]
    }
   ],
   "source": [
    "res_tag = 'local'  # Change this to remote to run the calculations remotely \n",
    "res_local = resource.Resource(res_tag)\n",
    "res_local.load_json()"
   ]
  },
  {
   "cell_type": "code",
   "execution_count": 5,
   "metadata": {
    "collapsed": false
   },
   "outputs": [
    {
     "name": "stdout",
     "output_type": "stream",
     "text": [
      "Reading in resource json file res_peregrine.json \n"
     ]
    }
   ],
   "source": [
    "peregrine = resource.Resource('peregrine')\n",
    "peregrine.load_json()"
   ]
  },
  {
   "cell_type": "code",
   "execution_count": 62,
   "metadata": {
    "collapsed": false
   },
   "outputs": [
    {
     "name": "stdout",
     "output_type": "stream",
     "text": [
      "/Users/tkemper/Development/streamm_ext/streamm-tools/examples\n"
     ]
    }
   ],
   "source": [
    "print os.getcwd()"
   ]
  },
  {
   "cell_type": "markdown",
   "metadata": {},
   "source": [
    "Load oligomer from previous examples "
   ]
  },
  {
   "cell_type": "code",
   "execution_count": 6,
   "metadata": {
    "collapsed": true
   },
   "outputs": [],
   "source": [
    "p3ht_n10_esp = buildingblock.Container('p3ht_n10_esp')"
   ]
  },
  {
   "cell_type": "code",
   "execution_count": 7,
   "metadata": {
    "collapsed": true
   },
   "outputs": [],
   "source": [
    "p3ht_n10_esp.read_cply()"
   ]
  },
  {
   "cell_type": "code",
   "execution_count": 8,
   "metadata": {
    "collapsed": true
   },
   "outputs": [],
   "source": [
    "p3ht_n10_esp.lat_cubic(50.0)"
   ]
  },
  {
   "cell_type": "code",
   "execution_count": 9,
   "metadata": {
    "collapsed": false
   },
   "outputs": [],
   "source": [
    "p3ht_n10_esp.guess_oplsa()"
   ]
  },
  {
   "cell_type": "code",
   "execution_count": 10,
   "metadata": {
    "collapsed": false
   },
   "outputs": [],
   "source": [
    "p3ht_n10_esp.bonded_bonds()\n",
    "p3ht_n10_esp.bonded_angles()\n",
    "p3ht_n10_esp.bonded_dih()"
   ]
  },
  {
   "cell_type": "markdown",
   "metadata": {},
   "source": [
    "Place the oligomer into a simulation and add parameters "
   ]
  },
  {
   "cell_type": "code",
   "execution_count": 11,
   "metadata": {
    "collapsed": false
   },
   "outputs": [
    {
     "name": "stdout",
     "output_type": "stream",
     "text": [
      "Resource tag found peregrine \n",
      "Reading in resource json file res_peregrine.json \n"
     ]
    }
   ],
   "source": [
    "lmp_oligo = lammps.LAMMPS('p3ht_n10_esp_nvt')\n",
    "lmp_oligo.load_json()"
   ]
  },
  {
   "cell_type": "code",
   "execution_count": 12,
   "metadata": {
    "collapsed": true
   },
   "outputs": [],
   "source": [
    "lmp_oligo.set_resource(peregrine)"
   ]
  },
  {
   "cell_type": "code",
   "execution_count": 13,
   "metadata": {
    "collapsed": true
   },
   "outputs": [],
   "source": [
    "lmp_oligo.properties['scratch'] = lmp_oligo.dir['scratch']"
   ]
  },
  {
   "cell_type": "code",
   "execution_count": 14,
   "metadata": {
    "collapsed": false
   },
   "outputs": [
    {
     "name": "stdout",
     "output_type": "stream",
     "text": [
      "Making /Users/tkemper/Development/streamm_ext/streamm-tools/examples/scratch/p3ht_n10_esp_nvt/ \n"
     ]
    }
   ],
   "source": [
    "lmp_oligo.make_dir()"
   ]
  },
  {
   "cell_type": "code",
   "execution_count": 15,
   "metadata": {
    "collapsed": false
   },
   "outputs": [],
   "source": [
    "lmp_oligo.add_strucC(p3ht_n10_esp)"
   ]
  },
  {
   "cell_type": "code",
   "execution_count": 16,
   "metadata": {
    "collapsed": false
   },
   "outputs": [
    {
     "name": "stdout",
     "output_type": "stream",
     "text": [
      "[[ 50.   0.   0.]\n",
      " [  0.  50.   0.]\n",
      " [  0.   0.  50.]]\n"
     ]
    }
   ],
   "source": [
    "print lmp_oligo.strucC.lat._matrix"
   ]
  },
  {
   "cell_type": "code",
   "execution_count": 17,
   "metadata": {
    "collapsed": false
   },
   "outputs": [],
   "source": [
    "lmp_oligo.read_param(\"conj.param\")"
   ]
  },
  {
   "cell_type": "code",
   "execution_count": 18,
   "metadata": {
    "collapsed": false
   },
   "outputs": [],
   "source": [
    "lmp_oligo.set_ffparam()"
   ]
  },
  {
   "cell_type": "code",
   "execution_count": 19,
   "metadata": {
    "collapsed": true
   },
   "outputs": [
    {
     "name": "stdout",
     "output_type": "stream",
     "text": [
      "0 C CA\n",
      "1 C CA\n",
      "2 C CA\n",
      "3 C CA\n",
      "4 S S\n",
      "5 H HA\n",
      "6 H HA\n",
      "7 C CT\n",
      "8 H HC\n",
      "9 H HC\n",
      "10 C CT\n",
      "11 H HC\n",
      "12 H HC\n",
      "13 C CT\n",
      "14 H HC\n",
      "15 H HC\n",
      "16 C CT\n",
      "17 H HC\n",
      "18 H HC\n",
      "19 C CT\n",
      "20 H HC\n",
      "21 H HC\n",
      "22 C CT\n",
      "23 H HC\n",
      "24 H HC\n",
      "25 H HC\n",
      "26 C CA\n",
      "27 C CA\n",
      "28 C CA\n",
      "29 C CA\n",
      "30 S S\n",
      "31 H HA\n",
      "32 C CT\n",
      "33 H HC\n",
      "34 H HC\n",
      "35 C CT\n",
      "36 H HC\n",
      "37 H HC\n",
      "38 C CT\n",
      "39 H HC\n",
      "40 H HC\n",
      "41 C CT\n",
      "42 H HC\n",
      "43 H HC\n",
      "44 C CT\n",
      "45 H HC\n",
      "46 H HC\n",
      "47 C CT\n",
      "48 H HC\n",
      "49 H HC\n",
      "50 H HC\n",
      "51 C CA\n",
      "52 C CA\n",
      "53 C CA\n",
      "54 C CA\n",
      "55 S S\n",
      "56 H HA\n",
      "57 C CT\n",
      "58 H HC\n",
      "59 H HC\n",
      "60 C CT\n",
      "61 H HC\n",
      "62 H HC\n",
      "63 C CT\n",
      "64 H HC\n",
      "65 H HC\n",
      "66 C CT\n",
      "67 H HC\n",
      "68 H HC\n",
      "69 C CT\n",
      "70 H HC\n",
      "71 H HC\n",
      "72 C CT\n",
      "73 H HC\n",
      "74 H HC\n",
      "75 H HC\n",
      "76 C CA\n",
      "77 C CA\n",
      "78 C CA\n",
      "79 C CA\n",
      "80 S S\n",
      "81 H HA\n",
      "82 C CT\n",
      "83 H HC\n",
      "84 H HC\n",
      "85 C CT\n",
      "86 H HC\n",
      "87 H HC\n",
      "88 C CT\n",
      "89 H HC\n",
      "90 H HC\n",
      "91 C CT\n",
      "92 H HC\n",
      "93 H HC\n",
      "94 C CT\n",
      "95 H HC\n",
      "96 H HC\n",
      "97 C CT\n",
      "98 H HC\n",
      "99 H HC\n",
      "100 H HC\n",
      "101 C CA\n",
      "102 C CA\n",
      "103 C CA\n",
      "104 C CA\n",
      "105 S S\n",
      "106 H HA\n",
      "107 C CT\n",
      "108 H HC\n",
      "109 H HC\n",
      "110 C CT\n",
      "111 H HC\n",
      "112 H HC\n",
      "113 C CT\n",
      "114 H HC\n",
      "115 H HC\n",
      "116 C CT\n",
      "117 H HC\n",
      "118 H HC\n",
      "119 C CT\n",
      "120 H HC\n",
      "121 H HC\n",
      "122 C CT\n",
      "123 H HC\n",
      "124 H HC\n",
      "125 H HC\n",
      "126 C CA\n",
      "127 C CA\n",
      "128 C CA\n",
      "129 C CA\n",
      "130 S S\n",
      "131 H HA\n",
      "132 C CT\n",
      "133 H HC\n",
      "134 H HC\n",
      "135 C CT\n",
      "136 H HC\n",
      "137 H HC\n",
      "138 C CT\n",
      "139 H HC\n",
      "140 H HC\n",
      "141 C CT\n",
      "142 H HC\n",
      "143 H HC\n",
      "144 C CT\n",
      "145 H HC\n",
      "146 H HC\n",
      "147 C CT\n",
      "148 H HC\n",
      "149 H HC\n",
      "150 H HC\n",
      "151 C CA\n",
      "152 C CA\n",
      "153 C CA\n",
      "154 C CA\n",
      "155 S S\n",
      "156 H HA\n",
      "157 C CT\n",
      "158 H HC\n",
      "159 H HC\n",
      "160 C CT\n",
      "161 H HC\n",
      "162 H HC\n",
      "163 C CT\n",
      "164 H HC\n",
      "165 H HC\n",
      "166 C CT\n",
      "167 H HC\n",
      "168 H HC\n",
      "169 C CT\n",
      "170 H HC\n",
      "171 H HC\n",
      "172 C CT\n",
      "173 H HC\n",
      "174 H HC\n",
      "175 H HC\n",
      "176 C CA\n",
      "177 C CA\n",
      "178 C CA\n",
      "179 C CA\n",
      "180 S S\n",
      "181 H HA\n",
      "182 C CT\n",
      "183 H HC\n",
      "184 H HC\n",
      "185 C CT\n",
      "186 H HC\n",
      "187 H HC\n",
      "188 C CT\n",
      "189 H HC\n",
      "190 H HC\n",
      "191 C CT\n",
      "192 H HC\n",
      "193 H HC\n",
      "194 C CT\n",
      "195 H HC\n",
      "196 H HC\n",
      "197 C CT\n",
      "198 H HC\n",
      "199 H HC\n",
      "200 H HC\n",
      "201 C CA\n",
      "202 C CA\n",
      "203 C CA\n",
      "204 C CA\n",
      "205 S S\n",
      "206 H HA\n",
      "207 C CT\n",
      "208 H HC\n",
      "209 H HC\n",
      "210 C CT\n",
      "211 H HC\n",
      "212 H HC\n",
      "213 C CT\n",
      "214 H HC\n",
      "215 H HC\n",
      "216 C CT\n",
      "217 H HC\n",
      "218 H HC\n",
      "219 C CT\n",
      "220 H HC\n",
      "221 H HC\n",
      "222 C CT\n",
      "223 H HC\n",
      "224 H HC\n",
      "225 H HC\n",
      "226 C CA\n",
      "227 C CA\n",
      "228 C CA\n",
      "229 C CA\n",
      "230 S S\n",
      "231 H HA\n",
      "232 H HA\n",
      "233 C CT\n",
      "234 H HC\n",
      "235 H HC\n",
      "236 C CT\n",
      "237 H HC\n",
      "238 H HC\n",
      "239 C CT\n",
      "240 H HC\n",
      "241 H HC\n",
      "242 C CT\n",
      "243 H HC\n",
      "244 H HC\n",
      "245 C CT\n",
      "246 H HC\n",
      "247 H HC\n",
      "248 C CT\n",
      "249 H HC\n",
      "250 H HC\n",
      "251 H HC\n"
     ]
    }
   ],
   "source": [
    "for p,pt in lmp_oligo.strucC.particles.iteritems(): # properties[\"charge\"] \n",
    "    print p,pt.properties[\"symbol\"],pt.properties[\"fftype\"]"
   ]
  },
  {
   "cell_type": "markdown",
   "metadata": {},
   "source": [
    "Read in templates"
   ]
  },
  {
   "cell_type": "code",
   "execution_count": 20,
   "metadata": {
    "collapsed": false
   },
   "outputs": [
    {
     "name": "stdout",
     "output_type": "stream",
     "text": [
      "> in cp_file  templates in lammps_nvt.in templates launch\n",
      "copying /Users/tkemper/Development/streamm_ext/streamm-tools/templates/lammps_nvt.in to /Users/tkemper/Development/streamm_ext/streamm-tools/examples/scratch/p3ht_n10_esp_nvt/lammps_nvt.in \n"
     ]
    }
   ],
   "source": [
    "file_type = 'templates'\n",
    "file_key = 'in'\n",
    "file_name = \"lammps_nvt.in\"\n",
    "from_dirkey = 'templates'\n",
    "to_dirkey = 'launch'\n",
    "lmp_oligo.cp_file(file_type,file_key,file_name,from_dirkey,to_dirkey)"
   ]
  },
  {
   "cell_type": "code",
   "execution_count": 21,
   "metadata": {
    "collapsed": false
   },
   "outputs": [
    {
     "name": "stdout",
     "output_type": "stream",
     "text": [
      "> in cp_file  templates run lammps_peregrine.pbs templates launch\n",
      "copying /Users/tkemper/Development/streamm_ext/streamm-tools/templates/lammps_peregrine.pbs to /Users/tkemper/Development/streamm_ext/streamm-tools/examples/scratch/p3ht_n10_esp_nvt/lammps_peregrine.pbs \n"
     ]
    }
   ],
   "source": [
    "file_type = 'templates'\n",
    "file_key = 'run'\n",
    "file_name = \"lammps_peregrine.pbs\"\n",
    "from_dirkey = 'templates'\n",
    "to_dirkey = 'launch'\n",
    "lmp_oligo.cp_file(file_type,file_key,file_name,from_dirkey,to_dirkey)"
   ]
  },
  {
   "cell_type": "code",
   "execution_count": 22,
   "metadata": {
    "collapsed": false
   },
   "outputs": [
    {
     "name": "stdout",
     "output_type": "stream",
     "text": [
      "/Users/tkemper/Development/streamm_ext/streamm-tools/examples/scratch/p3ht_n10_esp_nvt/\n"
     ]
    }
   ],
   "source": [
    "print lmp_oligo.dir['launch']"
   ]
  },
  {
   "cell_type": "code",
   "execution_count": 23,
   "metadata": {
    "collapsed": false
   },
   "outputs": [],
   "source": [
    "os.chdir(lmp_oligo.dir['launch'])"
   ]
  },
  {
   "cell_type": "code",
   "execution_count": 24,
   "metadata": {
    "collapsed": true
   },
   "outputs": [],
   "source": [
    "lmp_oligo.load_str('templates','run')"
   ]
  },
  {
   "cell_type": "code",
   "execution_count": 25,
   "metadata": {
    "collapsed": true
   },
   "outputs": [],
   "source": [
    "lmp_oligo.load_str('templates','in')"
   ]
  },
  {
   "cell_type": "code",
   "execution_count": 26,
   "metadata": {
    "collapsed": true
   },
   "outputs": [],
   "source": [
    "lmp_oligo.write_data()"
   ]
  },
  {
   "cell_type": "code",
   "execution_count": 27,
   "metadata": {
    "collapsed": false
   },
   "outputs": [],
   "source": [
    "lmp_oligo.replacewrite_prop('in','input','in','%s.in'%(lmp_oligo.tag))"
   ]
  },
  {
   "cell_type": "code",
   "execution_count": 28,
   "metadata": {
    "collapsed": true
   },
   "outputs": [],
   "source": [
    "lmp_oligo.properties['input_in'] = lmp_oligo.files['input']['in']"
   ]
  },
  {
   "cell_type": "code",
   "execution_count": 29,
   "metadata": {
    "collapsed": false
   },
   "outputs": [],
   "source": [
    "lmp_oligo.replacewrite_prop('run','scripts','run','%s.sh'%(lmp_oligo.tag))"
   ]
  },
  {
   "cell_type": "code",
   "execution_count": 30,
   "metadata": {
    "collapsed": false
   },
   "outputs": [],
   "source": [
    "file_type = 'output'\n",
    "file_key = 'log'\n",
    "file_name = \"%s.log\"%(lmp_oligo.tag)\n",
    "lmp_oligo.add_file(file_type,file_key,file_name)"
   ]
  },
  {
   "cell_type": "code",
   "execution_count": 31,
   "metadata": {
    "collapsed": false
   },
   "outputs": [
    {
     "name": "stdout",
     "output_type": "stream",
     "text": [
      "{'files': {u'templates': {u'run': u'lammps_peregrine.pbs', u'in': u'lammps_nvt.in'}, u'input': {u'data_file': u'p3ht_n10_esp_nvt.data', u'in': u'p3ht_n10_esp_nvt.in'}, u'scripts': {u'run': u'p3ht_n10_esp_nvt.sh'}, u'data': {}, u'output': {u'dcd_1': u'nvt1_dump.dcd', u'data_2': u'nvt1.data', u'data_1': u'min1.data', u'log': u'p3ht_n10_esp_nvt.log', u'data_3': u'min2.data'}}, 'meta': {u'date': u'2016-11-07T18:43:10.569342', u'status': u'finished', u'resource': 'peregrine', u'software': u'lammps'}, 'references': {}, 'units': {u'distance': u'angstroms', u'energy': u'kcal/mol', u'angle': u'radians', u'time': u'ns'}, 'data': {}, 'properties': {u'uncompress': u'tar -xzf ', u'scratch': u'/scratch/tkemper/p3ht_n10_esp_nvt/', u'compress': u'tar -czf ', u'ppn': 24, u'finish_str': u'Loop time of', u'allocation': u'orgopv', 'run_list': '', u'nproc': 24, u'input_in': u'p3ht_n10_esp_nvt.in', u'walltime': 4, u'compress_sufix': u'tgz', u'data_file': 'p3ht_n10_esp_nvt.data', u'feature': u'24core', u'queue': u'short', u'e-mail': u'travis.kemper@nrel.gov', u'exe_command': u'qsub ', u'run_cnt': 3, u'nodes': 1, u'pmem': 1500, u'comp_key': u'compressed'}, 'dir': {u'templates': u'/Users/tkemper/Development/streamm_ext/streamm-tools/templates', u'launch': u'/Users/tkemper/Development/streamm_ext/streamm-tools/examples/scratch/p3ht_n10_esp_nvt/', u'scratch': u'/scratch/tkemper/p3ht_n10_esp_nvt/', u'storage': u'/mss/users/tkemper/p3ht_n10_esp_nvt/', u'materials': u'/Users/tkemper/Development/streamm_ext/streamm-tools/examples/materials', u'scripts': u'/Users/tkemper/Development/streamm_ext/streamm-tools/examples/scripts', u'home': u'/Users/tkemper/Development/streamm_ext/streamm-tools/examples'}}\n"
     ]
    }
   ],
   "source": [
    "os.chdir(lmp_oligo.dir['home'])\n",
    "lmp_oligo.dump_json()\n",
    "os.chdir(lmp_oligo.dir['launch'])"
   ]
  },
  {
   "cell_type": "code",
   "execution_count": 32,
   "metadata": {
    "collapsed": false
   },
   "outputs": [
    {
     "name": "stdout",
     "output_type": "stream",
     "text": [
      " Resource type ssh \n"
     ]
    }
   ],
   "source": [
    "lmp_oligo.push()"
   ]
  },
  {
   "cell_type": "code",
   "execution_count": null,
   "metadata": {
    "collapsed": false
   },
   "outputs": [],
   "source": [
    "lmp_oligo.run()"
   ]
  },
  {
   "cell_type": "code",
   "execution_count": 33,
   "metadata": {
    "collapsed": false
   },
   "outputs": [
    {
     "name": "stdout",
     "output_type": "stream",
     "text": [
      "finished\n"
     ]
    }
   ],
   "source": [
    "lmp_oligo.check()\n",
    "print lmp_oligo.meta['status']"
   ]
  },
  {
   "cell_type": "code",
   "execution_count": 34,
   "metadata": {
    "collapsed": true
   },
   "outputs": [
    {
     "name": "stdout",
     "output_type": "stream",
     "text": [
      ">  using mdrun with len 3 \n",
      " Adding thermo keys from line: Step Temp PotEng TotEng Press Volume Lx Ly Lz E_bond E_angle E_dihed E_impro E_vdwl E_coul E_long E_tail \n",
      " \n",
      "> col  0 ['0', '0', '421.68205', '421.68205', '997.75315', '125000', '50', '50', '50', '134.61355', '101.85602', '0.50433176', '0', '157.50396', '236.0418', '-208.83762', '0']\n",
      "1 9823u  [0.0]\n",
      "> col  1 ['37', '0', '138.24459', '138.24459', '271.24523', '125000', '50', '50', '50', '4.9380881', '103.37387', '0.18871107', '0', '10.517586', '227.84926', '-208.62293', '0']\n",
      "2 9823u  [0.0, 37.0]\n",
      " Calc 0 finished \n",
      " Adding thermo keys from line: Step Temp PotEng TotEng Press Volume Lx Ly Lz E_bond E_angle E_dihed E_impro E_vdwl E_coul E_long E_tail \n",
      " \n",
      "> col  0 ['37', '0', '138.24459', '138.24459', '271.24523', '125000', '50', '50', '50', '4.9380881', '103.37387', '0.18871107', '0', '10.517586', '227.84926', '-208.62293', '0']\n",
      "1 9823u  [37.0]\n",
      "> col  1 ['1000', '20.536651', '123.29776', '138.66294', '-0.17752955', '125000', '50', '50', '50', '4.5007087', '108.71526', '0.26140689', '0', '-6.9640805', '225.44332', '-208.65885', '0']\n",
      "2 9823u  [37.0, 1000.0]\n",
      "> col  2 ['2000', '14.024029', '129.86755', '140.36009', '-203.88174', '125000', '50', '50', '50', '11.279202', '119.65928', '0.35640387', '0', '-16.500489', '223.75492', '-208.68177', '0']\n",
      "[37.0, 1000.0]\n",
      "3 9823u  [37.0, 1000.0, 2000.0]\n",
      "> col  3 ['3000', '32.355145', '118.80337', '143.01095', '39.932743', '125000', '50', '50', '50', '2.6660025', '110.60363', '0.30156982', '0', '-11.90927', '225.66983', '-208.52839', '0']\n",
      "4 9823u  [37.0, 1000.0, 2000.0, 3000.0]\n",
      "> col  4 ['4000', '28.657995', '125.11999', '146.56142', '108.42858', '125000', '50', '50', '50', '3.1107327', '116.73097', '3.370348', '0', '-13.928533', '224.2761', '-208.43963', '0']\n",
      "5 9823u  [37.0, 1000.0, 2000.0, 3000.0, 4000.0]\n",
      "> col  5 ['5000', '28.206984', '130.07603', '151.18002', '-169.11155', '125000', '50', '50', '50', '9.5983508', '125.80434', '8.088715', '0', '-26.191627', '221.33978', '-208.56353', '0']\n",
      "6 9823u  [37.0, 1000.0, 2000.0, 3000.0, 4000.0, 5000.0]\n",
      "> col  6 ['6000', '46.165624', '122.69659', '157.23694', '91.744473', '125000', '50', '50', '50', '2.808498', '118.70426', '11.734657', '0', '-25.469967', '223.26076', '-208.34162', '0']\n",
      "7 9823u  [37.0, 1000.0, 2000.0, 3000.0, 4000.0, 5000.0, 6000.0]\n",
      "> col  7 ['7000', '41.072107', '132.99637', '163.72583', '7.9593814', '125000', '50', '50', '50', '3.5988412', '119.10368', '19.908676', '0', '-24.396688', '223.20029', '-208.41843', '0']\n",
      "8 9823u  [37.0, 1000.0, 2000.0, 3000.0, 4000.0, 5000.0, 6000.0, 7000.0]\n",
      "> col  8 ['8000', '46.598277', '136.32325', '171.1873', '-8.5363959', '125000', '50', '50', '50', '4.3409699', '130.53668', '14.790306', '0', '-26.39631', '221.66782', '-208.61621', '0']\n",
      "9 9823u  [37.0, 1000.0, 2000.0, 3000.0, 4000.0, 5000.0, 6000.0, 7000.0, 8000.0]\n",
      "> col  9 ['9000', '60.498145', '135.57064', '180.83434', '-34.966738', '125000', '50', '50', '50', '5.5512563', '126.80445', '23.673643', '0', '-28.435954', '216.24064', '-208.26339', '0']\n",
      "10 9823u  [37.0, 1000.0, 2000.0, 3000.0, 4000.0, 5000.0, 6000.0, 7000.0, 8000.0, 9000.0]\n",
      "> col  10 ['10000', '59.763417', '147.62361', '192.3376', '50.201073', '125000', '50', '50', '50', '4.7643717', '130.12227', '30.612822', '0', '-21.403735', '211.87738', '-208.3495', '0']\n",
      "11 9823u  [37.0, 1000.0, 2000.0, 3000.0, 4000.0, 5000.0, 6000.0, 7000.0, 8000.0, 9000.0, 10000.0]\n",
      "> col  11 ['11000', '72.494568', '151.67453', '205.91376', '-20.217219', '125000', '50', '50', '50', '6.3227292', '130.07879', '39.39822', '0', '-25.523735', '209.7093', '-208.31077', '0']\n",
      "12 9823u  [37.0, 1000.0, 2000.0, 3000.0, 4000.0, 5000.0, 6000.0, 7000.0, 8000.0, 9000.0, 10000.0, 11000.0]\n",
      "> col  12 ['12000', '78.082449', '163.46063', '221.88061', '19.569027', '125000', '50', '50', '50', '7.0988028', '139.87362', '45.108812', '0', '-22.136385', '201.98573', '-208.46995', '0']\n",
      "13 9823u  [37.0, 1000.0, 2000.0, 3000.0, 4000.0, 5000.0, 6000.0, 7000.0, 8000.0, 9000.0, 10000.0, 11000.0, 12000.0]\n",
      "> col  13 ['13000', '96.555914', '168.05059', '240.29212', '-2.3413249', '125000', '50', '50', '50', '7.7253997', '138.86481', '50.049128', '0', '-25.143726', '205.21799', '-208.66301', '0']\n",
      "14 9823u  [37.0, 1000.0, 2000.0, 3000.0, 4000.0, 5000.0, 6000.0, 7000.0, 8000.0, 9000.0, 10000.0, 11000.0, 12000.0, 13000.0]\n",
      "> col  14 ['14000', '118.78031', '174.3659', '263.23535', '7.3266538', '125000', '50', '50', '50', '10.298776', '144.41818', '56.32665', '0', '-21.14483', '193.0982', '-208.63107', '0']\n",
      "15 9823u  [37.0, 1000.0, 2000.0, 3000.0, 4000.0, 5000.0, 6000.0, 7000.0, 8000.0, 9000.0, 10000.0, 11000.0, 12000.0, 13000.0, 14000.0]\n",
      "> col  15 ['15000', '134.83939', '187.56632', '288.4509', '-8.1019245', '125000', '50', '50', '50', '15.761328', '149.27971', '60.323329', '0', '-19.553146', '190.20117', '-208.44607', '0']\n",
      "16 9823u  [37.0, 1000.0, 2000.0, 3000.0, 4000.0, 5000.0, 6000.0, 7000.0, 8000.0, 9000.0, 10000.0, 11000.0, 12000.0, 13000.0, 14000.0, 15000.0]\n",
      "> col  16 ['16000', '144.4042', '208.41124', '316.45205', '-41.447713', '125000', '50', '50', '50', '18.873145', '162.78396', '71.458657', '0', '-14.273516', '178.06348', '-208.49449', '0']\n",
      "17 9823u  [37.0, 1000.0, 2000.0, 3000.0, 4000.0, 5000.0, 6000.0, 7000.0, 8000.0, 9000.0, 10000.0, 11000.0, 12000.0, 13000.0, 14000.0, 15000.0, 16000.0]\n",
      "> col  17 ['17000', '170.68738', '219.33657', '347.04202', '42.523941', '125000', '50', '50', '50', '18.516971', '170.72782', '68.280868', '0', '-13.858166', '184.30094', '-208.63187', '0']\n",
      "18 9823u  [37.0, 1000.0, 2000.0, 3000.0, 4000.0, 5000.0, 6000.0, 7000.0, 8000.0, 9000.0, 10000.0, 11000.0, 12000.0, 13000.0, 14000.0, 15000.0, 16000.0, 17000.0]\n",
      "> col  18 ['18000', '216.50596', '218.90128', '380.88743', '-39.216704', '125000', '50', '50', '50', '22.431339', '167.01533', '68.309782', '0', '-17.810164', '187.24777', '-208.29277', '0']\n",
      "19 9823u  [37.0, 1000.0, 2000.0, 3000.0, 4000.0, 5000.0, 6000.0, 7000.0, 8000.0, 9000.0, 10000.0, 11000.0, 12000.0, 13000.0, 14000.0, 15000.0, 16000.0, 17000.0, 18000.0]\n",
      "> col  19 ['19000', '226.77571', '247.37159', '417.0414', '-18.748914', '125000', '50', '50', '50', '33.070607', '177.25134', '79.502099', '0', '-17.379923', '183.692', '-208.76453', '0']\n",
      "20 9823u  [37.0, 1000.0, 2000.0, 3000.0, 4000.0, 5000.0, 6000.0, 7000.0, 8000.0, 9000.0, 10000.0, 11000.0, 12000.0, 13000.0, 14000.0, 15000.0, 16000.0, 17000.0, 18000.0, 19000.0]\n",
      "> col  20 ['20000', '250.86551', '268.11994', '455.81333', '63.404591', '125000', '50', '50', '50', '33.100035', '187.9847', '81.087018', '0', '-12.274445', '186.50544', '-208.28281', '0']\n",
      "21 9823u  [37.0, 1000.0, 2000.0, 3000.0, 4000.0, 5000.0, 6000.0, 7000.0, 8000.0, 9000.0, 10000.0, 11000.0, 12000.0, 13000.0, 14000.0, 15000.0, 16000.0, 17000.0, 18000.0, 19000.0, 20000.0]\n",
      "> col  21 ['20037', '232.39052', '283.35677', '457.22748', '56.509917', '125000', '50', '50', '50', '39.373547', '196.27312', '83.481117', '0', '-11.905729', '184.54923', '-208.41452', '0']\n",
      "22 9823u  [37.0, 1000.0, 2000.0, 3000.0, 4000.0, 5000.0, 6000.0, 7000.0, 8000.0, 9000.0, 10000.0, 11000.0, 12000.0, 13000.0, 14000.0, 15000.0, 16000.0, 17000.0, 18000.0, 19000.0, 20000.0, 20037.0]\n",
      " Calc 1 finished \n",
      " Adding thermo keys from line: Step Temp PotEng TotEng Press Volume Lx Ly Lz E_bond E_angle E_dihed E_impro E_vdwl E_coul E_long E_tail \n",
      " \n",
      "> col  0 ['20037', '232.39052', '283.35677', '457.22748', '56.509917', '125000', '50', '50', '50', '39.373547', '196.27312', '83.481117', '0', '-11.905729', '184.54923', '-208.41452', '0']\n",
      "1 9823u  [20037.0]\n",
      "> col  1 ['20076', '232.39052', '122.1916', '296.06232', '109.27288', '125000', '50', '50', '50', '2.5498205', '120.27879', '41.087286', '0', '-19.082219', '185.81032', '-208.4524', '0']\n",
      "2 9823u  [20037.0, 20076.0]\n",
      " Calc 2 finished \n",
      "finished\n"
     ]
    }
   ],
   "source": [
    "lmp_oligo.analysis()\n",
    "print lmp_oligo.meta['status']"
   ]
  },
  {
   "cell_type": "code",
   "execution_count": 35,
   "metadata": {
    "collapsed": false
   },
   "outputs": [
    {
     "name": "stdout",
     "output_type": "stream",
     "text": [
      "{u'dcd_1': u'nvt1_dump.dcd', u'data_2': u'nvt1.data', u'data_1': u'min1.data', u'log': u'p3ht_n10_esp_nvt.log', u'data_3': u'min2.data'}\n"
     ]
    }
   ],
   "source": [
    "print lmp_oligo.files['output']"
   ]
  },
  {
   "cell_type": "code",
   "execution_count": 36,
   "metadata": {
    "collapsed": false
   },
   "outputs": [
    {
     "name": "stdout",
     "output_type": "stream",
     "text": [
      "{'files': {u'templates': {u'run': u'lammps_peregrine.pbs', u'in': u'lammps_nvt.in'}, u'input': {u'data_file': u'p3ht_n10_esp_nvt.data', u'in': u'p3ht_n10_esp_nvt.in'}, u'scripts': {u'run': u'p3ht_n10_esp_nvt.sh'}, u'data': {}, u'output': {u'dcd_1': u'nvt1_dump.dcd', u'data_2': u'nvt1.data', u'data_1': u'min1.data', u'log': u'p3ht_n10_esp_nvt.log', u'data_3': u'min2.data'}}, 'meta': {u'date': u'2016-11-07T18:43:10.569342', u'status': 'finished', u'resource': 'peregrine', u'software': u'lammps'}, 'references': {}, 'units': {u'distance': u'angstroms', u'energy': u'kcal/mol', u'angle': u'radians', u'time': u'ns'}, 'data': {}, 'properties': {u'uncompress': u'tar -xzf ', u'scratch': u'/scratch/tkemper/p3ht_n10_esp_nvt/', u'compress': u'tar -czf ', u'ppn': 24, u'finish_str': u'Loop time of', u'allocation': u'orgopv', 'run_list': '', u'nproc': 24, u'input_in': u'p3ht_n10_esp_nvt.in', u'walltime': 4, u'compress_sufix': u'tgz', u'data_file': 'p3ht_n10_esp_nvt.data', u'feature': u'24core', u'queue': u'short', u'e-mail': u'travis.kemper@nrel.gov', u'exe_command': u'qsub ', u'run_cnt': 3, u'nodes': 1, u'pmem': 1500, u'comp_key': u'compressed'}, 'dir': {u'templates': u'/Users/tkemper/Development/streamm_ext/streamm-tools/templates', u'launch': u'/Users/tkemper/Development/streamm_ext/streamm-tools/examples/scratch/p3ht_n10_esp_nvt/', u'scratch': u'/scratch/tkemper/p3ht_n10_esp_nvt/', u'storage': u'/mss/users/tkemper/p3ht_n10_esp_nvt/', u'materials': u'/Users/tkemper/Development/streamm_ext/streamm-tools/examples/materials', u'scripts': u'/Users/tkemper/Development/streamm_ext/streamm-tools/examples/scripts', u'home': u'/Users/tkemper/Development/streamm_ext/streamm-tools/examples'}}\n"
     ]
    }
   ],
   "source": [
    "os.chdir(lmp_oligo.dir['home'])\n",
    "lmp_oligo.dump_json()\n",
    "os.chdir(lmp_oligo.dir['launch'])"
   ]
  },
  {
   "cell_type": "code",
   "execution_count": null,
   "metadata": {
    "collapsed": true
   },
   "outputs": [],
   "source": [
    "lmp_oligo.meta['status'] = 'finished'"
   ]
  },
  {
   "cell_type": "code",
   "execution_count": 37,
   "metadata": {
    "collapsed": false
   },
   "outputs": [
    {
     "name": "stdout",
     "output_type": "stream",
     "text": [
      "runnning store function in /Users/tkemper/Development/streamm_ext/streamm-tools/examples/scratch/p3ht_n10_esp_nvt \n",
      "Storing input files \n",
      " file_i  p3ht_n10_esp_nvt.data\n",
      " file_i  p3ht_n10_esp_nvt.in\n",
      "> compressed_file  p3ht_n10_esp_nvt_input.tgz\n",
      "Storing scripts files \n",
      " file_i  p3ht_n10_esp_nvt.sh\n",
      "> compressed_file  p3ht_n10_esp_nvt_scripts.tgz\n",
      "Storing output files \n",
      " file_i  nvt1_dump.dcd\n",
      " file_i  nvt1.data\n",
      " file_i  min1.data\n",
      " file_i  p3ht_n10_esp_nvt.log\n",
      " file_i  min2.data\n",
      "> compressed_file  p3ht_n10_esp_nvt_output.tgz\n",
      "No files of type data present\n"
     ]
    }
   ],
   "source": [
    "lmp_oligo.store()"
   ]
  },
  {
   "cell_type": "code",
   "execution_count": 38,
   "metadata": {
    "collapsed": false
   },
   "outputs": [
    {
     "name": "stdout",
     "output_type": "stream",
     "text": [
      "{u'log': u'p3ht_n10_esp_nvt.log', u'data_3': u'min2.data', u'data_2': u'nvt1.data', u'data_1': u'min1.data', u'compressed': u'p3ht_n10_esp_nvt_output.tgz', u'dcd_1': u'nvt1_dump.dcd'}\n"
     ]
    }
   ],
   "source": [
    "print lmp_oligo.files['output']"
   ]
  },
  {
   "cell_type": "code",
   "execution_count": 39,
   "metadata": {
    "collapsed": false
   },
   "outputs": [
    {
     "name": "stdout",
     "output_type": "stream",
     "text": [
      "output p3ht_n10_esp_nvt_output.tgz\n",
      "bash_command  scp tkemper@peregrine.hpc.nrel.gov:/scratch/tkemper/p3ht_n10_esp_nvt/p3ht_n10_esp_nvt_output.tgz /Users/tkemper/Development/streamm_ext/streamm-tools/examples/scratch/p3ht_n10_esp_nvt/ \n",
      "No commpressed files for file type data with key compressed \n"
     ]
    }
   ],
   "source": [
    "lmp_oligo.pull()"
   ]
  },
  {
   "cell_type": "code",
   "execution_count": 40,
   "metadata": {
    "collapsed": false
   },
   "outputs": [],
   "source": [
    "os.chdir(lmp_oligo.dir['launch'])"
   ]
  },
  {
   "cell_type": "code",
   "execution_count": 41,
   "metadata": {
    "collapsed": true
   },
   "outputs": [],
   "source": [
    "lmp_oligo.read_data(lmp_oligo.files['output']['data_3'])"
   ]
  },
  {
   "cell_type": "code",
   "execution_count": 42,
   "metadata": {
    "collapsed": false
   },
   "outputs": [],
   "source": [
    "lmp_oligo.strucC.write_cply()"
   ]
  },
  {
   "cell_type": "code",
   "execution_count": 43,
   "metadata": {
    "collapsed": true
   },
   "outputs": [],
   "source": [
    "lmp_oligo.strucC.group_prop('mol','mol')"
   ]
  },
  {
   "cell_type": "code",
   "execution_count": 44,
   "metadata": {
    "collapsed": true
   },
   "outputs": [],
   "source": [
    "lmp_oligo.strucC.groupsets['mol'].group_pbcs()"
   ]
  },
  {
   "cell_type": "code",
   "execution_count": 45,
   "metadata": {
    "collapsed": false
   },
   "outputs": [
    {
     "name": "stdout",
     "output_type": "stream",
     "text": [
      "p3ht_n10_esp\n"
     ]
    }
   ],
   "source": [
    "print lmp_oligo.strucC.tag "
   ]
  },
  {
   "cell_type": "code",
   "execution_count": 46,
   "metadata": {
    "collapsed": true
   },
   "outputs": [],
   "source": [
    "lmp_oligo.strucC.tag = \"%s_nvt\"%(lmp_oligo.strucC.tag )"
   ]
  },
  {
   "cell_type": "code",
   "execution_count": 47,
   "metadata": {
    "collapsed": true
   },
   "outputs": [],
   "source": [
    "os.chdir(lmp_oligo.dir['home'])"
   ]
  },
  {
   "cell_type": "code",
   "execution_count": 48,
   "metadata": {
    "collapsed": false
   },
   "outputs": [
    {
     "name": "stdout",
     "output_type": "stream",
     "text": [
      "{'files': {u'templates': {u'run': u'lammps_peregrine.pbs', u'in': u'lammps_nvt.in'}, u'input': {u'data_file': u'p3ht_n10_esp_nvt.data', u'compressed': u'p3ht_n10_esp_nvt_input.tgz', u'in': u'p3ht_n10_esp_nvt.in'}, u'scripts': {u'run': u'p3ht_n10_esp_nvt.sh', u'compressed': u'p3ht_n10_esp_nvt_scripts.tgz'}, u'data': {}, u'output': {u'log': u'p3ht_n10_esp_nvt.log', u'data_3': u'min2.data', u'data_2': u'nvt1.data', u'data_1': u'min1.data', u'compressed': u'p3ht_n10_esp_nvt_output.tgz', u'dcd_1': u'nvt1_dump.dcd'}}, 'meta': {u'date': u'2016-11-07T18:43:10.569342', u'status': 'stored', u'resource': 'peregrine', u'software': u'lammps'}, 'references': {}, 'units': {u'distance': u'angstroms', u'energy': u'kcal/mol', u'angle': u'radians', u'time': u'ns'}, 'data': {}, 'properties': {u'uncompress': u'tar -xzf ', u'scratch': u'/scratch/tkemper/p3ht_n10_esp_nvt/', u'compress': u'tar -czf ', u'ppn': 24, u'finish_str': u'Loop time of', u'allocation': u'orgopv', 'run_list': '', u'nproc': 24, u'input_in': u'p3ht_n10_esp_nvt.in', u'walltime': 4, u'compress_sufix': u'tgz', u'data_file': 'p3ht_n10_esp_nvt.data', u'feature': u'24core', u'queue': u'short', u'e-mail': u'travis.kemper@nrel.gov', u'exe_command': u'qsub ', u'run_cnt': 3, u'nodes': 1, u'pmem': 1500, u'comp_key': u'compressed'}, 'dir': {u'templates': u'/Users/tkemper/Development/streamm_ext/streamm-tools/templates', u'launch': u'/Users/tkemper/Development/streamm_ext/streamm-tools/examples/scratch/p3ht_n10_esp_nvt/', u'scratch': u'/scratch/tkemper/p3ht_n10_esp_nvt/', u'storage': u'/mss/users/tkemper/p3ht_n10_esp_nvt/', u'materials': u'/Users/tkemper/Development/streamm_ext/streamm-tools/examples/materials', u'scripts': u'/Users/tkemper/Development/streamm_ext/streamm-tools/examples/scripts', u'home': u'/Users/tkemper/Development/streamm_ext/streamm-tools/examples'}}\n"
     ]
    }
   ],
   "source": [
    "lmp_oligo.dump_json()"
   ]
  },
  {
   "cell_type": "code",
   "execution_count": 49,
   "metadata": {
    "collapsed": true
   },
   "outputs": [],
   "source": [
    "lmp_oligo.strucC.write_xyz()"
   ]
  },
  {
   "cell_type": "code",
   "execution_count": 50,
   "metadata": {
    "collapsed": true
   },
   "outputs": [],
   "source": [
    "lmp_oligo.strucC.write_cply()"
   ]
  },
  {
   "cell_type": "code",
   "execution_count": 51,
   "metadata": {
    "collapsed": false
   },
   "outputs": [],
   "source": [
    "p3ht_n10_nvt = copy.deepcopy(lmp_oligo.strucC)"
   ]
  },
  {
   "cell_type": "markdown",
   "metadata": {},
   "source": [
    "Replicate the oligomer into large simulation cell"
   ]
  },
  {
   "cell_type": "code",
   "execution_count": 64,
   "metadata": {
    "collapsed": true
   },
   "outputs": [],
   "source": [
    "xO = 20"
   ]
  },
  {
   "cell_type": "code",
   "execution_count": 65,
   "metadata": {
    "collapsed": false
   },
   "outputs": [],
   "source": [
    "p3ht_n10_esp_x = buildingblock.Container('p3ht_n10_x%d'%(xO))\n",
    "p3ht_n10_esp_x.read_cply()"
   ]
  },
  {
   "cell_type": "code",
   "execution_count": 66,
   "metadata": {
    "collapsed": true
   },
   "outputs": [],
   "source": [
    "p3ht_n10_esp_x.lat_cubic(150.0)"
   ]
  },
  {
   "cell_type": "code",
   "execution_count": 67,
   "metadata": {
    "collapsed": false
   },
   "outputs": [
    {
     "name": "stdout",
     "output_type": "stream",
     "text": [
      "[[ 150.    0.    0.]\n",
      " [   0.  150.    0.]\n",
      " [   0.    0.  150.]]\n"
     ]
    }
   ],
   "source": [
    "print p3ht_n10_esp_x.lat._matrix"
   ]
  },
  {
   "cell_type": "markdown",
   "metadata": {},
   "source": [
    "Set seed "
   ]
  },
  {
   "cell_type": "code",
   "execution_count": 56,
   "metadata": {
    "collapsed": true
   },
   "outputs": [],
   "source": [
    "s = 2984927"
   ]
  },
  {
   "cell_type": "code",
   "execution_count": null,
   "metadata": {
    "collapsed": false
   },
   "outputs": [],
   "source": [
    "p3ht_n10_esp_x = p3ht_n10_esp_x.add_struc(p3ht_n10_nvt,xO,s)"
   ]
  },
  {
   "cell_type": "code",
   "execution_count": 68,
   "metadata": {
    "collapsed": true
   },
   "outputs": [],
   "source": [
    "p3ht_n10_esp_x.tag = 'p3ht_n10_x%d'%(xO)"
   ]
  },
  {
   "cell_type": "code",
   "execution_count": 69,
   "metadata": {
    "collapsed": true
   },
   "outputs": [],
   "source": [
    "p3ht_n10_esp_x.read_cply()"
   ]
  },
  {
   "cell_type": "code",
   "execution_count": 70,
   "metadata": {
    "collapsed": false
   },
   "outputs": [],
   "source": [
    "p3ht_n10_esp_x.bonded_bonds()\n",
    "p3ht_n10_esp_x.bonded_angles()\n",
    "p3ht_n10_esp_x.bonded_dih()"
   ]
  },
  {
   "cell_type": "code",
   "execution_count": 71,
   "metadata": {
    "collapsed": true
   },
   "outputs": [],
   "source": [
    "p3ht_n10_esp_x.write_xyz()"
   ]
  },
  {
   "cell_type": "code",
   "execution_count": 72,
   "metadata": {
    "collapsed": true
   },
   "outputs": [],
   "source": [
    "p3ht_n10_esp_x.write_cply()"
   ]
  },
  {
   "cell_type": "code",
   "execution_count": 73,
   "metadata": {
    "collapsed": false
   },
   "outputs": [
    {
     "name": "stdout",
     "output_type": "stream",
     "text": [
      "10440 39200 112960\n"
     ]
    }
   ],
   "source": [
    "print p3ht_n10_esp_x.n_bonds,p3ht_n10_esp_x.n_angles,p3ht_n10_esp_x.n_dihedrals"
   ]
  },
  {
   "cell_type": "markdown",
   "metadata": {},
   "source": [
    "Create LAMMPS calculation to equilibrate bulk system"
   ]
  },
  {
   "cell_type": "code",
   "execution_count": 74,
   "metadata": {
    "collapsed": true
   },
   "outputs": [],
   "source": [
    "xO = 20"
   ]
  },
  {
   "cell_type": "code",
   "execution_count": 75,
   "metadata": {
    "collapsed": false
   },
   "outputs": [],
   "source": [
    "lmp_bulk = lammps.LAMMPS('p3ht_n10_esp_x%d'%(xO))"
   ]
  },
  {
   "cell_type": "code",
   "execution_count": 76,
   "metadata": {
    "collapsed": false
   },
   "outputs": [
    {
     "name": "stdout",
     "output_type": "stream",
     "text": [
      "Resource tag found peregrine \n",
      "Reading in resource json file res_peregrine.json \n"
     ]
    }
   ],
   "source": [
    "lmp_bulk.load_json()"
   ]
  },
  {
   "cell_type": "code",
   "execution_count": 77,
   "metadata": {
    "collapsed": false
   },
   "outputs": [],
   "source": [
    "lmp_bulk.set_resource(peregrine)"
   ]
  },
  {
   "cell_type": "code",
   "execution_count": 78,
   "metadata": {
    "collapsed": true
   },
   "outputs": [],
   "source": [
    "lmp_bulk.properties['scratch'] = lmp_bulk.dir['scratch']"
   ]
  },
  {
   "cell_type": "code",
   "execution_count": null,
   "metadata": {
    "collapsed": false
   },
   "outputs": [],
   "source": [
    "lmp_bulk.make_dir()"
   ]
  },
  {
   "cell_type": "code",
   "execution_count": null,
   "metadata": {
    "collapsed": true
   },
   "outputs": [],
   "source": [
    "lmp_bulk.strucC = buildingblock.Container()"
   ]
  },
  {
   "cell_type": "code",
   "execution_count": null,
   "metadata": {
    "collapsed": true
   },
   "outputs": [],
   "source": [
    "lmp_bulk.add_strucC(p3ht_n10_esp_x)"
   ]
  },
  {
   "cell_type": "code",
   "execution_count": null,
   "metadata": {
    "collapsed": false
   },
   "outputs": [],
   "source": [
    "print lmp_bulk.strucC.n_particles"
   ]
  },
  {
   "cell_type": "code",
   "execution_count": null,
   "metadata": {
    "collapsed": false
   },
   "outputs": [],
   "source": [
    "lmp_bulk.read_param(\"conj.param\")"
   ]
  },
  {
   "cell_type": "code",
   "execution_count": null,
   "metadata": {
    "collapsed": false
   },
   "outputs": [],
   "source": [
    "lmp_bulk.set_ffparam()"
   ]
  },
  {
   "cell_type": "code",
   "execution_count": null,
   "metadata": {
    "collapsed": false
   },
   "outputs": [],
   "source": [
    "file_type = 'templates'\n",
    "file_key = 'in'\n",
    "file_name = \"lammps_nvt.in\"\n",
    "from_dirkey = 'templates'\n",
    "to_dirkey = 'launch'\n",
    "lmp_bulk.cp_file(file_type,file_key,file_name,from_dirkey,to_dirkey)"
   ]
  },
  {
   "cell_type": "code",
   "execution_count": null,
   "metadata": {
    "collapsed": false
   },
   "outputs": [],
   "source": [
    "file_type = 'templates'\n",
    "file_key = 'run'\n",
    "file_name = \"lammps_peregrine.pbs\"\n",
    "from_dirkey = 'templates'\n",
    "to_dirkey = 'launch'\n",
    "lmp_bulk.cp_file(file_type,file_key,file_name,from_dirkey,to_dirkey)"
   ]
  },
  {
   "cell_type": "code",
   "execution_count": null,
   "metadata": {
    "collapsed": false
   },
   "outputs": [],
   "source": [
    "print lmp_bulk.dir['launch']"
   ]
  },
  {
   "cell_type": "code",
   "execution_count": null,
   "metadata": {
    "collapsed": false
   },
   "outputs": [],
   "source": [
    "os.chdir(lmp_bulk.dir['launch'])"
   ]
  },
  {
   "cell_type": "code",
   "execution_count": null,
   "metadata": {
    "collapsed": true
   },
   "outputs": [],
   "source": [
    "lmp_bulk.load_str('templates','run')"
   ]
  },
  {
   "cell_type": "code",
   "execution_count": null,
   "metadata": {
    "collapsed": true
   },
   "outputs": [],
   "source": [
    "lmp_bulk.load_str('templates','in')"
   ]
  },
  {
   "cell_type": "code",
   "execution_count": null,
   "metadata": {
    "collapsed": true
   },
   "outputs": [],
   "source": [
    "lmp_bulk.write_data()"
   ]
  },
  {
   "cell_type": "code",
   "execution_count": null,
   "metadata": {
    "collapsed": false
   },
   "outputs": [],
   "source": [
    "lmp_bulk.replacewrite_prop('in','input','in','%s.in'%(lmp_bulk.tag))"
   ]
  },
  {
   "cell_type": "code",
   "execution_count": null,
   "metadata": {
    "collapsed": true
   },
   "outputs": [],
   "source": [
    "lmp_bulk.properties['input_in'] = lmp_bulk.files['input']['in']"
   ]
  },
  {
   "cell_type": "code",
   "execution_count": null,
   "metadata": {
    "collapsed": false
   },
   "outputs": [],
   "source": [
    "lmp_bulk.replacewrite_prop('run','scripts','run','%s.sh'%(lmp_bulk.tag))"
   ]
  },
  {
   "cell_type": "code",
   "execution_count": null,
   "metadata": {
    "collapsed": false
   },
   "outputs": [],
   "source": [
    "file_type = 'output'\n",
    "file_key = 'log'\n",
    "file_name = \"%s.log\"%(lmp_bulk.tag)\n",
    "lmp_bulk.add_file(file_type,file_key,file_name)"
   ]
  },
  {
   "cell_type": "code",
   "execution_count": null,
   "metadata": {
    "collapsed": false
   },
   "outputs": [],
   "source": [
    "os.chdir(lmp_bulk.dir['home'])\n",
    "lmp_bulk.dump_json()\n",
    "os.chdir(lmp_bulk.dir['launch'])"
   ]
  },
  {
   "cell_type": "code",
   "execution_count": null,
   "metadata": {
    "collapsed": false
   },
   "outputs": [],
   "source": [
    "lmp_bulk.push()"
   ]
  },
  {
   "cell_type": "code",
   "execution_count": null,
   "metadata": {
    "collapsed": false
   },
   "outputs": [],
   "source": [
    "lmp_bulk.run()"
   ]
  },
  {
   "cell_type": "code",
   "execution_count": null,
   "metadata": {
    "collapsed": false
   },
   "outputs": [],
   "source": [
    "lmp_bulk.check()\n",
    "print lmp_bulk.meta['status']"
   ]
  },
  {
   "cell_type": "code",
   "execution_count": null,
   "metadata": {
    "collapsed": true
   },
   "outputs": [],
   "source": [
    "lmp_bulk.analysis()\n",
    "print lmp_bulk.meta['status']"
   ]
  },
  {
   "cell_type": "code",
   "execution_count": null,
   "metadata": {
    "collapsed": false
   },
   "outputs": [],
   "source": [
    "print lmp_bulk.files['output']"
   ]
  },
  {
   "cell_type": "code",
   "execution_count": null,
   "metadata": {
    "collapsed": false
   },
   "outputs": [],
   "source": [
    "print lmp_bulk.dir"
   ]
  },
  {
   "cell_type": "code",
   "execution_count": null,
   "metadata": {
    "collapsed": true
   },
   "outputs": [],
   "source": [
    "os.chdir(lmp_bulk.dir['home'])\n",
    "lmp_bulk.dump_json()\n",
    "os.chdir(lmp_bulk.dir['launch'])"
   ]
  },
  {
   "cell_type": "code",
   "execution_count": null,
   "metadata": {
    "collapsed": true
   },
   "outputs": [],
   "source": [
    "lmp_bulk.meta['status'] = 'finished'"
   ]
  },
  {
   "cell_type": "code",
   "execution_count": null,
   "metadata": {
    "collapsed": false
   },
   "outputs": [],
   "source": [
    "lmp_bulk.store()"
   ]
  },
  {
   "cell_type": "code",
   "execution_count": null,
   "metadata": {
    "collapsed": false
   },
   "outputs": [],
   "source": [
    "lmp_bulk.pull()"
   ]
  },
  {
   "cell_type": "code",
   "execution_count": null,
   "metadata": {
    "collapsed": false
   },
   "outputs": [],
   "source": [
    "os.chdir(lmp_bulk.dir['launch'])"
   ]
  },
  {
   "cell_type": "code",
   "execution_count": null,
   "metadata": {
    "collapsed": false
   },
   "outputs": [],
   "source": [
    "lmp_bulk.read_data_pos(lmp_bulk.files['output']['data_3'])"
   ]
  },
  {
   "cell_type": "code",
   "execution_count": null,
   "metadata": {
    "collapsed": true
   },
   "outputs": [],
   "source": [
    "pos_nvt = copy.deepcopy(lmp_bulk.strucC.positions)"
   ]
  },
  {
   "cell_type": "code",
   "execution_count": null,
   "metadata": {
    "collapsed": false
   },
   "outputs": [],
   "source": [
    "lmp_bulk.strucC.write_cply()"
   ]
  },
  {
   "cell_type": "code",
   "execution_count": null,
   "metadata": {
    "collapsed": false
   },
   "outputs": [],
   "source": [
    "lmp_bulk.strucC.write_xyz()"
   ]
  },
  {
   "cell_type": "code",
   "execution_count": null,
   "metadata": {
    "collapsed": true
   },
   "outputs": [],
   "source": [
    "lmp_bulk.strucC.group_prop('mol','mol')"
   ]
  },
  {
   "cell_type": "code",
   "execution_count": null,
   "metadata": {
    "collapsed": true
   },
   "outputs": [],
   "source": [
    "lmp_bulk.strucC.groupsets['mol'].group_pbcs()"
   ]
  },
  {
   "cell_type": "code",
   "execution_count": null,
   "metadata": {
    "collapsed": false
   },
   "outputs": [],
   "source": [
    "print lmp_bulk.tag "
   ]
  },
  {
   "cell_type": "code",
   "execution_count": null,
   "metadata": {
    "collapsed": true
   },
   "outputs": [],
   "source": [
    "lmp_bulk.strucC.tag = \"%s_nvt\"%(lmp_bulk.strucC.tag )"
   ]
  },
  {
   "cell_type": "markdown",
   "metadata": {},
   "source": [
    "Write new data file and copy it to scratch to be stored with output, \n",
    "since LAMMPS does not print dihedral angles for opls style "
   ]
  },
  {
   "cell_type": "code",
   "execution_count": null,
   "metadata": {
    "collapsed": true
   },
   "outputs": [],
   "source": [
    "data_file = '%s.data'%(lmp_bulk.tag)"
   ]
  },
  {
   "cell_type": "code",
   "execution_count": null,
   "metadata": {
    "collapsed": true
   },
   "outputs": [],
   "source": [
    "lmp_bulk.write_data(data_file)"
   ]
  },
  {
   "cell_type": "code",
   "execution_count": null,
   "metadata": {
    "collapsed": true
   },
   "outputs": [],
   "source": [
    "lmp_bulk.add_file('output','data_4',data_file)"
   ]
  },
  {
   "cell_type": "code",
   "execution_count": null,
   "metadata": {
    "collapsed": false
   },
   "outputs": [],
   "source": [
    "ssh_id = \"%s@%s\"%(lmp_bulk.resource.ssh['username'],lmp_bulk.resource.ssh['address'])\n",
    "from_pathfile = os.path.join(lmp_bulk.dir['launch'],data_file)\n",
    "bash_command = \"scp %s %s:%s\"%(from_pathfile,ssh_id,lmp_bulk.dir['scratch'])\n",
    "print bash_command\n",
    "os.system(bash_command)"
   ]
  },
  {
   "cell_type": "code",
   "execution_count": null,
   "metadata": {
    "collapsed": false
   },
   "outputs": [],
   "source": [
    "lmp_bulk.meta['status'] = 'finished'\n",
    "print lmp_bulk.meta['status']"
   ]
  },
  {
   "cell_type": "code",
   "execution_count": null,
   "metadata": {
    "collapsed": false
   },
   "outputs": [],
   "source": [
    "lmp_bulk.store()"
   ]
  },
  {
   "cell_type": "code",
   "execution_count": null,
   "metadata": {
    "collapsed": false
   },
   "outputs": [],
   "source": [
    "os.chdir(lmp_bulk.dir['home'])"
   ]
  },
  {
   "cell_type": "code",
   "execution_count": null,
   "metadata": {
    "collapsed": false
   },
   "outputs": [],
   "source": [
    "lmp_bulk.dump_json()"
   ]
  },
  {
   "cell_type": "code",
   "execution_count": null,
   "metadata": {
    "collapsed": true
   },
   "outputs": [],
   "source": [
    "lmp_bulk.strucC.write_xyz()"
   ]
  },
  {
   "cell_type": "code",
   "execution_count": null,
   "metadata": {
    "collapsed": true
   },
   "outputs": [],
   "source": [
    "lmp_bulk.strucC.write_cply()"
   ]
  },
  {
   "cell_type": "code",
   "execution_count": null,
   "metadata": {
    "collapsed": true
   },
   "outputs": [],
   "source": [
    "lmp_bulk.write_data()"
   ]
  },
  {
   "cell_type": "code",
   "execution_count": null,
   "metadata": {
    "collapsed": false
   },
   "outputs": [],
   "source": [
    "print lmp_bulk.tag"
   ]
  },
  {
   "cell_type": "markdown",
   "metadata": {},
   "source": [
    "Run Equilibration "
   ]
  },
  {
   "cell_type": "code",
   "execution_count": null,
   "metadata": {
    "collapsed": false
   },
   "outputs": [],
   "source": [
    "lmp_equ = lammps.LAMMPS('p3ht_n10_x20_equ')\n",
    "lmp_equ.load_json()"
   ]
  },
  {
   "cell_type": "code",
   "execution_count": null,
   "metadata": {
    "collapsed": false
   },
   "outputs": [],
   "source": [
    "lmp_equ.set_resource(peregrine)"
   ]
  },
  {
   "cell_type": "code",
   "execution_count": null,
   "metadata": {
    "collapsed": true
   },
   "outputs": [],
   "source": [
    "lmp_equ.properties['scratch'] = lmp_equ.dir['scratch']"
   ]
  },
  {
   "cell_type": "code",
   "execution_count": null,
   "metadata": {
    "collapsed": false
   },
   "outputs": [],
   "source": [
    "lmp_equ.make_dir()"
   ]
  },
  {
   "cell_type": "code",
   "execution_count": null,
   "metadata": {
    "collapsed": true
   },
   "outputs": [],
   "source": [
    "lmp_equ.add_refcalc(lmp_bulk)"
   ]
  },
  {
   "cell_type": "code",
   "execution_count": null,
   "metadata": {
    "collapsed": false
   },
   "outputs": [],
   "source": [
    "lmp_equ.properties['nodes'] = 4\n",
    "lmp_equ.properties['nproc'] = lmp_equ.properties['nodes']*lmp_equ.properties['ppn']\n",
    "print lmp_equ.properties"
   ]
  },
  {
   "cell_type": "code",
   "execution_count": null,
   "metadata": {
    "collapsed": false
   },
   "outputs": [],
   "source": [
    "lmp_equ.files['input']['data_file'] = lmp_bulk.files['output']['data_4']\n",
    "print lmp_equ.files['input']['data_file']"
   ]
  },
  {
   "cell_type": "code",
   "execution_count": null,
   "metadata": {
    "collapsed": true
   },
   "outputs": [],
   "source": [
    "lmp_equ.properties['data_file']  = lmp_equ.files['input']['data_file'] "
   ]
  },
  {
   "cell_type": "code",
   "execution_count": null,
   "metadata": {
    "collapsed": false
   },
   "outputs": [],
   "source": [
    "file_type = 'templates'\n",
    "file_key = 'in'\n",
    "file_name = \"lammps_equ1.in\"\n",
    "from_dirkey = 'templates'\n",
    "to_dirkey = 'launch'\n",
    "lmp_equ.cp_file(file_type,file_key,file_name,from_dirkey,to_dirkey)"
   ]
  },
  {
   "cell_type": "code",
   "execution_count": null,
   "metadata": {
    "collapsed": false
   },
   "outputs": [],
   "source": [
    "file_type = 'templates'\n",
    "file_key = 'run'\n",
    "file_name = \"lammps_peregrine.pbs\"\n",
    "from_dirkey = 'templates'\n",
    "to_dirkey = 'launch'\n",
    "lmp_equ.cp_file(file_type,file_key,file_name,from_dirkey,to_dirkey)"
   ]
  },
  {
   "cell_type": "code",
   "execution_count": null,
   "metadata": {
    "collapsed": false
   },
   "outputs": [],
   "source": [
    "print lmp_equ.dir['launch']"
   ]
  },
  {
   "cell_type": "code",
   "execution_count": null,
   "metadata": {
    "collapsed": false
   },
   "outputs": [],
   "source": [
    "os.chdir(lmp_equ.dir['launch'])"
   ]
  },
  {
   "cell_type": "code",
   "execution_count": null,
   "metadata": {
    "collapsed": false
   },
   "outputs": [],
   "source": [
    "lmp_equ.load_str('templates','run')"
   ]
  },
  {
   "cell_type": "code",
   "execution_count": null,
   "metadata": {
    "collapsed": false
   },
   "outputs": [],
   "source": [
    "lmp_equ.load_str('templates','in')"
   ]
  },
  {
   "cell_type": "code",
   "execution_count": null,
   "metadata": {
    "collapsed": false
   },
   "outputs": [],
   "source": [
    "lmp_equ.replacewrite_prop('in','input','in','%s.in'%(lmp_equ.tag))"
   ]
  },
  {
   "cell_type": "code",
   "execution_count": null,
   "metadata": {
    "collapsed": false
   },
   "outputs": [],
   "source": [
    "lmp_equ.properties['input_in'] = lmp_equ.files['input']['in']"
   ]
  },
  {
   "cell_type": "code",
   "execution_count": null,
   "metadata": {
    "collapsed": false
   },
   "outputs": [],
   "source": [
    "lmp_equ.replacewrite_prop('run','scripts','run','%s.pbs'%(lmp_equ.tag))"
   ]
  },
  {
   "cell_type": "code",
   "execution_count": null,
   "metadata": {
    "collapsed": false
   },
   "outputs": [],
   "source": [
    "file_type = 'output'\n",
    "file_key = 'log'\n",
    "file_name = \"%s.log\"%(lmp_equ.tag)\n",
    "lmp_equ.add_file(file_type,file_key,file_name)"
   ]
  },
  {
   "cell_type": "code",
   "execution_count": null,
   "metadata": {
    "collapsed": false
   },
   "outputs": [],
   "source": [
    "os.chdir(lmp_equ.dir['home'])\n",
    "lmp_equ.dump_json()\n",
    "os.chdir(lmp_equ.dir['launch'])"
   ]
  },
  {
   "cell_type": "code",
   "execution_count": null,
   "metadata": {
    "collapsed": true
   },
   "outputs": [],
   "source": [
    "ref_calc = lmp_equ.references['p3ht_n10_esp_x20']"
   ]
  },
  {
   "cell_type": "code",
   "execution_count": null,
   "metadata": {
    "collapsed": false
   },
   "outputs": [],
   "source": [
    "print ref_calc.files"
   ]
  },
  {
   "cell_type": "code",
   "execution_count": null,
   "metadata": {
    "collapsed": false
   },
   "outputs": [],
   "source": [
    "lmp_equ.push()"
   ]
  },
  {
   "cell_type": "code",
   "execution_count": null,
   "metadata": {
    "collapsed": false
   },
   "outputs": [],
   "source": [
    "lmp_equ.run()"
   ]
  },
  {
   "cell_type": "code",
   "execution_count": null,
   "metadata": {
    "collapsed": false
   },
   "outputs": [],
   "source": [
    "lmp_equ.check()\n",
    "print lmp_equ.meta['status']"
   ]
  },
  {
   "cell_type": "code",
   "execution_count": null,
   "metadata": {
    "collapsed": true
   },
   "outputs": [],
   "source": [
    "lmp_bulk.analysis()\n",
    "print lmp_bulk.meta['status']"
   ]
  },
  {
   "cell_type": "code",
   "execution_count": null,
   "metadata": {
    "collapsed": false
   },
   "outputs": [],
   "source": [
    "print lmp_bulk.files['output']"
   ]
  },
  {
   "cell_type": "code",
   "execution_count": null,
   "metadata": {
    "collapsed": true
   },
   "outputs": [],
   "source": [
    "os.chdir(lmp_bulk.dir['home'])\n",
    "lmp_bulk.dump_json()\n",
    "os.chdir(lmp_bulk.dir['launch'])"
   ]
  },
  {
   "cell_type": "code",
   "execution_count": null,
   "metadata": {
    "collapsed": true
   },
   "outputs": [],
   "source": [
    "lmp_bulk.meta['status'] = 'finished'"
   ]
  },
  {
   "cell_type": "code",
   "execution_count": null,
   "metadata": {
    "collapsed": false
   },
   "outputs": [],
   "source": [
    "lmp_bulk.store()"
   ]
  },
  {
   "cell_type": "code",
   "execution_count": null,
   "metadata": {
    "collapsed": false
   },
   "outputs": [],
   "source": [
    "lmp_bulk.pull()"
   ]
  },
  {
   "cell_type": "code",
   "execution_count": null,
   "metadata": {
    "collapsed": false
   },
   "outputs": [],
   "source": [
    "os.chdir(lmp_bulk.dir['launch'])"
   ]
  },
  {
   "cell_type": "code",
   "execution_count": null,
   "metadata": {
    "collapsed": true
   },
   "outputs": [],
   "source": [
    "lmp_bulk.read_data(lmp_bulk.files['output']['data_3'])"
   ]
  },
  {
   "cell_type": "code",
   "execution_count": null,
   "metadata": {
    "collapsed": false
   },
   "outputs": [],
   "source": [
    "lmp_bulk.strucC.write_cply()"
   ]
  },
  {
   "cell_type": "code",
   "execution_count": null,
   "metadata": {
    "collapsed": false
   },
   "outputs": [],
   "source": [
    "lmp_bulk.strucC.write_xyz()"
   ]
  },
  {
   "cell_type": "code",
   "execution_count": null,
   "metadata": {
    "collapsed": true
   },
   "outputs": [],
   "source": [
    "lmp_bulk.strucC.group_prop('mol','mol')"
   ]
  },
  {
   "cell_type": "code",
   "execution_count": null,
   "metadata": {
    "collapsed": true
   },
   "outputs": [],
   "source": [
    "lmp_bulk.strucC.groupsets['mol'].group_pbcs()"
   ]
  },
  {
   "cell_type": "code",
   "execution_count": null,
   "metadata": {
    "collapsed": false
   },
   "outputs": [],
   "source": [
    "print lmp_bulk.strucC.tag "
   ]
  },
  {
   "cell_type": "code",
   "execution_count": null,
   "metadata": {
    "collapsed": true
   },
   "outputs": [],
   "source": [
    "lmp_bulk.strucC.tag = \"%s_nvt\"%(lmp_bulk.strucC.tag )"
   ]
  },
  {
   "cell_type": "code",
   "execution_count": null,
   "metadata": {
    "collapsed": true
   },
   "outputs": [],
   "source": [
    "os.chdir(lmp_bulk.dir['home'])"
   ]
  },
  {
   "cell_type": "code",
   "execution_count": null,
   "metadata": {
    "collapsed": false
   },
   "outputs": [],
   "source": [
    "lmp_equ.dump_json()"
   ]
  },
  {
   "cell_type": "code",
   "execution_count": null,
   "metadata": {
    "collapsed": true
   },
   "outputs": [],
   "source": [
    "lmp_bulk.strucC.write_xyz()"
   ]
  },
  {
   "cell_type": "code",
   "execution_count": null,
   "metadata": {
    "collapsed": true
   },
   "outputs": [],
   "source": [
    "lmp_bulk.strucC.write_cply()"
   ]
  },
  {
   "cell_type": "markdown",
   "metadata": {},
   "source": [
    "Analyize bulk properties with streamm"
   ]
  },
  {
   "cell_type": "code",
   "execution_count": null,
   "metadata": {
    "collapsed": true
   },
   "outputs": [],
   "source": []
  }
 ],
 "metadata": {
  "kernelspec": {
   "display_name": "Python [Root]",
   "language": "python",
   "name": "Python [Root]"
  },
  "language_info": {
   "codemirror_mode": {
    "name": "ipython",
    "version": 2
   },
   "file_extension": ".py",
   "mimetype": "text/x-python",
   "name": "python",
   "nbconvert_exporter": "python",
   "pygments_lexer": "ipython2",
   "version": "2.7.12"
  }
 },
 "nbformat": 4,
 "nbformat_minor": 0
}
