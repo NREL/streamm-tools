{
 "cells": [
  {
   "cell_type": "markdown",
   "metadata": {},
   "source": [
    "Build P3HT bulk simulation "
   ]
  },
  {
   "cell_type": "code",
   "execution_count": 1,
   "metadata": {
    "collapsed": true
   },
   "outputs": [],
   "source": [
    "import os,sys, copy"
   ]
  },
  {
   "cell_type": "code",
   "execution_count": 2,
   "metadata": {
    "collapsed": true
   },
   "outputs": [],
   "source": [
    "from streamm import *"
   ]
  },
  {
   "cell_type": "code",
   "execution_count": 3,
   "metadata": {
    "collapsed": true
   },
   "outputs": [],
   "source": [
    "%load_ext autoreload\n",
    "%autoreload 2"
   ]
  },
  {
   "cell_type": "markdown",
   "metadata": {},
   "source": [
    "Load resources from previous example "
   ]
  },
  {
   "cell_type": "code",
   "execution_count": 10,
   "metadata": {
    "collapsed": false
   },
   "outputs": [
    {
     "name": "stdout",
     "output_type": "stream",
     "text": [
      "Reading in resource json file res_local.json \n"
     ]
    }
   ],
   "source": [
    "res_tag = 'local'  # Change this to remote to run the calculations remotely \n",
    "res_local = resource.Resource(res_tag)\n",
    "res_local.load_json()"
   ]
  },
  {
   "cell_type": "code",
   "execution_count": 11,
   "metadata": {
    "collapsed": false
   },
   "outputs": [
    {
     "name": "stdout",
     "output_type": "stream",
     "text": [
      "Reading in resource json file res_peregrine.json \n"
     ]
    }
   ],
   "source": [
    "peregrine = resource.Resource('peregrine')\n",
    "peregrine.load_json()"
   ]
  },
  {
   "cell_type": "markdown",
   "metadata": {},
   "source": [
    "Load oligomer from previous examples "
   ]
  },
  {
   "cell_type": "code",
   "execution_count": null,
   "metadata": {
    "collapsed": true
   },
   "outputs": [],
   "source": [
    "p3ht_n10_esp = buildingblock.Container('p3ht_n10_esp')"
   ]
  },
  {
   "cell_type": "code",
   "execution_count": null,
   "metadata": {
    "collapsed": true
   },
   "outputs": [],
   "source": [
    "p3ht_n10_esp.read_cply()"
   ]
  },
  {
   "cell_type": "code",
   "execution_count": null,
   "metadata": {
    "collapsed": true
   },
   "outputs": [],
   "source": [
    "p3ht_n10_esp.lat_cubic(50.0)"
   ]
  },
  {
   "cell_type": "code",
   "execution_count": null,
   "metadata": {
    "collapsed": false
   },
   "outputs": [],
   "source": [
    "p3ht_n10_esp.guess_oplsa()"
   ]
  },
  {
   "cell_type": "code",
   "execution_count": null,
   "metadata": {
    "collapsed": false
   },
   "outputs": [],
   "source": [
    "p3ht_n10_esp.bonded_bonds()\n",
    "p3ht_n10_esp.bonded_angles()\n",
    "p3ht_n10_esp.bonded_dih()"
   ]
  },
  {
   "cell_type": "markdown",
   "metadata": {},
   "source": [
    "Place the oligomer into a simulation and add parameters "
   ]
  },
  {
   "cell_type": "code",
   "execution_count": null,
   "metadata": {
    "collapsed": false
   },
   "outputs": [],
   "source": [
    "lmp_oligo = lammps.LAMMPS('p3ht_n10_esp_nvt')\n",
    "lmp_oligo.load_json()"
   ]
  },
  {
   "cell_type": "code",
   "execution_count": null,
   "metadata": {
    "collapsed": true
   },
   "outputs": [],
   "source": [
    "lmp_oligo.set_resource(peregrine)"
   ]
  },
  {
   "cell_type": "code",
   "execution_count": null,
   "metadata": {
    "collapsed": true
   },
   "outputs": [],
   "source": [
    "lmp_oligo.properties['scratch'] = lmp_oligo.dir['scratch']"
   ]
  },
  {
   "cell_type": "code",
   "execution_count": null,
   "metadata": {
    "collapsed": false
   },
   "outputs": [],
   "source": [
    "lmp_oligo.make_dir()"
   ]
  },
  {
   "cell_type": "code",
   "execution_count": null,
   "metadata": {
    "collapsed": false
   },
   "outputs": [],
   "source": [
    "lmp_oligo.add_strucC(p3ht_n10_esp)"
   ]
  },
  {
   "cell_type": "code",
   "execution_count": null,
   "metadata": {
    "collapsed": false
   },
   "outputs": [],
   "source": [
    "print lmp_oligo.strucC.lat._matrix"
   ]
  },
  {
   "cell_type": "code",
   "execution_count": null,
   "metadata": {
    "collapsed": false
   },
   "outputs": [],
   "source": [
    "lmp_oligo.read_param(\"conj.param\")"
   ]
  },
  {
   "cell_type": "code",
   "execution_count": null,
   "metadata": {
    "collapsed": false
   },
   "outputs": [],
   "source": [
    "lmp_oligo.set_ffparam()"
   ]
  },
  {
   "cell_type": "code",
   "execution_count": null,
   "metadata": {
    "collapsed": true
   },
   "outputs": [],
   "source": [
    "for p,pt in lmp_oligo.strucC.particles.iteritems(): # properties[\"charge\"] \n",
    "    print p,pt.properties[\"symbol\"],pt.properties[\"fftype\"]"
   ]
  },
  {
   "cell_type": "markdown",
   "metadata": {},
   "source": [
    "Read in templates"
   ]
  },
  {
   "cell_type": "code",
   "execution_count": null,
   "metadata": {
    "collapsed": false
   },
   "outputs": [],
   "source": [
    "file_type = 'templates'\n",
    "file_key = 'in'\n",
    "file_name = \"lammps_nvt.in\"\n",
    "from_dirkey = 'templates'\n",
    "to_dirkey = 'launch'\n",
    "lmp_oligo.cp_file(file_type,file_key,file_name,from_dirkey,to_dirkey)"
   ]
  },
  {
   "cell_type": "code",
   "execution_count": null,
   "metadata": {
    "collapsed": false
   },
   "outputs": [],
   "source": [
    "file_type = 'templates'\n",
    "file_key = 'run'\n",
    "file_name = \"lammps_peregrine.pbs\"\n",
    "from_dirkey = 'templates'\n",
    "to_dirkey = 'launch'\n",
    "lmp_oligo.cp_file(file_type,file_key,file_name,from_dirkey,to_dirkey)"
   ]
  },
  {
   "cell_type": "code",
   "execution_count": null,
   "metadata": {
    "collapsed": false
   },
   "outputs": [],
   "source": [
    "print lmp_oligo.dir['launch']"
   ]
  },
  {
   "cell_type": "code",
   "execution_count": null,
   "metadata": {
    "collapsed": false
   },
   "outputs": [],
   "source": [
    "os.chdir(lmp_oligo.dir['launch'])"
   ]
  },
  {
   "cell_type": "code",
   "execution_count": null,
   "metadata": {
    "collapsed": true
   },
   "outputs": [],
   "source": [
    "lmp_oligo.load_str('templates','run')"
   ]
  },
  {
   "cell_type": "code",
   "execution_count": null,
   "metadata": {
    "collapsed": true
   },
   "outputs": [],
   "source": [
    "lmp_oligo.load_str('templates','in')"
   ]
  },
  {
   "cell_type": "code",
   "execution_count": null,
   "metadata": {
    "collapsed": true
   },
   "outputs": [],
   "source": [
    "lmp_oligo.write_data()"
   ]
  },
  {
   "cell_type": "code",
   "execution_count": null,
   "metadata": {
    "collapsed": false
   },
   "outputs": [],
   "source": [
    "lmp_oligo.replacewrite_prop('in','input','in','%s.in'%(lmp_oligo.tag))"
   ]
  },
  {
   "cell_type": "code",
   "execution_count": null,
   "metadata": {
    "collapsed": true
   },
   "outputs": [],
   "source": [
    "lmp_oligo.properties['input_in'] = lmp_oligo.files['input']['in']"
   ]
  },
  {
   "cell_type": "code",
   "execution_count": null,
   "metadata": {
    "collapsed": false
   },
   "outputs": [],
   "source": [
    "lmp_oligo.replacewrite_prop('run','scripts','run','%s.sh'%(lmp_oligo.tag))"
   ]
  },
  {
   "cell_type": "code",
   "execution_count": null,
   "metadata": {
    "collapsed": false
   },
   "outputs": [],
   "source": [
    "file_type = 'output'\n",
    "file_key = 'log'\n",
    "file_name = \"%s.log\"%(lmp_oligo.tag)\n",
    "lmp_oligo.add_file(file_type,file_key,file_name)"
   ]
  },
  {
   "cell_type": "code",
   "execution_count": null,
   "metadata": {
    "collapsed": false
   },
   "outputs": [],
   "source": [
    "os.chdir(lmp_oligo.dir['home'])\n",
    "lmp_oligo.dump_json()\n",
    "os.chdir(lmp_oligo.dir['launch'])"
   ]
  },
  {
   "cell_type": "code",
   "execution_count": null,
   "metadata": {
    "collapsed": false
   },
   "outputs": [],
   "source": [
    "lmp_oligo.push()"
   ]
  },
  {
   "cell_type": "code",
   "execution_count": null,
   "metadata": {
    "collapsed": false
   },
   "outputs": [],
   "source": [
    "lmp_oligo.run()"
   ]
  },
  {
   "cell_type": "code",
   "execution_count": null,
   "metadata": {
    "collapsed": false
   },
   "outputs": [],
   "source": [
    "lmp_oligo.check()\n",
    "print lmp_oligo.meta['status']"
   ]
  },
  {
   "cell_type": "code",
   "execution_count": null,
   "metadata": {
    "collapsed": false
   },
   "outputs": [],
   "source": [
    "lmp_oligo.analysis()\n",
    "print lmp_oligo.meta['status']"
   ]
  },
  {
   "cell_type": "code",
   "execution_count": null,
   "metadata": {
    "collapsed": false
   },
   "outputs": [],
   "source": [
    "print lmp_oligo.files['output']"
   ]
  },
  {
   "cell_type": "code",
   "execution_count": null,
   "metadata": {
    "collapsed": false
   },
   "outputs": [],
   "source": [
    "os.chdir(lmp_oligo.dir['home'])\n",
    "lmp_oligo.dump_json()\n",
    "os.chdir(lmp_oligo.dir['launch'])"
   ]
  },
  {
   "cell_type": "code",
   "execution_count": null,
   "metadata": {
    "collapsed": true
   },
   "outputs": [],
   "source": [
    "lmp_oligo.meta['status'] = 'finished'"
   ]
  },
  {
   "cell_type": "code",
   "execution_count": null,
   "metadata": {
    "collapsed": false
   },
   "outputs": [],
   "source": [
    "lmp_oligo.store()"
   ]
  },
  {
   "cell_type": "code",
   "execution_count": null,
   "metadata": {
    "collapsed": false
   },
   "outputs": [],
   "source": [
    "print lmp_oligo.files['output']"
   ]
  },
  {
   "cell_type": "code",
   "execution_count": null,
   "metadata": {
    "collapsed": false
   },
   "outputs": [],
   "source": [
    "lmp_oligo.pull()"
   ]
  },
  {
   "cell_type": "code",
   "execution_count": null,
   "metadata": {
    "collapsed": false
   },
   "outputs": [],
   "source": [
    "os.chdir(lmp_oligo.dir['launch'])"
   ]
  },
  {
   "cell_type": "code",
   "execution_count": null,
   "metadata": {
    "collapsed": true
   },
   "outputs": [],
   "source": [
    "lmp_oligo.read_data(lmp_oligo.files['output']['data_3'])"
   ]
  },
  {
   "cell_type": "code",
   "execution_count": null,
   "metadata": {
    "collapsed": false
   },
   "outputs": [],
   "source": [
    "lmp_oligo.strucC.write_cply()"
   ]
  },
  {
   "cell_type": "code",
   "execution_count": null,
   "metadata": {
    "collapsed": true
   },
   "outputs": [],
   "source": [
    "lmp_oligo.strucC.group_prop('mol','mol')"
   ]
  },
  {
   "cell_type": "code",
   "execution_count": null,
   "metadata": {
    "collapsed": true
   },
   "outputs": [],
   "source": [
    "lmp_oligo.strucC.groupsets['mol'].group_pbcs()"
   ]
  },
  {
   "cell_type": "code",
   "execution_count": null,
   "metadata": {
    "collapsed": false
   },
   "outputs": [],
   "source": [
    "print lmp_oligo.strucC.tag "
   ]
  },
  {
   "cell_type": "code",
   "execution_count": null,
   "metadata": {
    "collapsed": true
   },
   "outputs": [],
   "source": [
    "lmp_oligo.strucC.tag = \"%s_nvt\"%(lmp_oligo.strucC.tag )"
   ]
  },
  {
   "cell_type": "code",
   "execution_count": null,
   "metadata": {
    "collapsed": true
   },
   "outputs": [],
   "source": [
    "os.chdir(lmp_oligo.dir['home'])"
   ]
  },
  {
   "cell_type": "code",
   "execution_count": null,
   "metadata": {
    "collapsed": false
   },
   "outputs": [],
   "source": [
    "lmp_oligo.dump_json()"
   ]
  },
  {
   "cell_type": "code",
   "execution_count": null,
   "metadata": {
    "collapsed": true
   },
   "outputs": [],
   "source": [
    "lmp_oligo.strucC.write_xyz()"
   ]
  },
  {
   "cell_type": "code",
   "execution_count": null,
   "metadata": {
    "collapsed": true
   },
   "outputs": [],
   "source": [
    "lmp_oligo.strucC.write_cply()"
   ]
  },
  {
   "cell_type": "code",
   "execution_count": null,
   "metadata": {
    "collapsed": false
   },
   "outputs": [],
   "source": [
    "p3ht_n10_nvt = copy.deepcopy(lmp_oligo.strucC)"
   ]
  },
  {
   "cell_type": "markdown",
   "metadata": {},
   "source": [
    "Replicate the oligomer into large simulation cell"
   ]
  },
  {
   "cell_type": "code",
   "execution_count": null,
   "metadata": {
    "collapsed": true
   },
   "outputs": [],
   "source": [
    "xO = 20"
   ]
  },
  {
   "cell_type": "code",
   "execution_count": null,
   "metadata": {
    "collapsed": false
   },
   "outputs": [],
   "source": [
    "p3ht_n10_esp_x = buildingblock.Container('p3ht_n10_x%d'%(xO))\n",
    "p3ht_n10_esp_x.read_cply()"
   ]
  },
  {
   "cell_type": "code",
   "execution_count": null,
   "metadata": {
    "collapsed": true
   },
   "outputs": [],
   "source": [
    "p3ht_n10_esp_x.lat_cubic(150.0)"
   ]
  },
  {
   "cell_type": "code",
   "execution_count": null,
   "metadata": {
    "collapsed": false
   },
   "outputs": [],
   "source": [
    "print p3ht_n10_esp_x.lat._matrix"
   ]
  },
  {
   "cell_type": "markdown",
   "metadata": {},
   "source": [
    "Set seed "
   ]
  },
  {
   "cell_type": "code",
   "execution_count": null,
   "metadata": {
    "collapsed": true
   },
   "outputs": [],
   "source": [
    "s = 2984927"
   ]
  },
  {
   "cell_type": "code",
   "execution_count": null,
   "metadata": {
    "collapsed": false
   },
   "outputs": [],
   "source": [
    "p3ht_n10_esp_x = p3ht_n10_esp_x.add_struc(p3ht_n10_nvt,xO,s)"
   ]
  },
  {
   "cell_type": "code",
   "execution_count": null,
   "metadata": {
    "collapsed": false
   },
   "outputs": [],
   "source": [
    "p3ht_n10_esp_x.bonded_bonds()\n",
    "p3ht_n10_esp_x.bonded_angles()\n",
    "p3ht_n10_esp_x.bonded_dih()"
   ]
  },
  {
   "cell_type": "code",
   "execution_count": null,
   "metadata": {
    "collapsed": true
   },
   "outputs": [],
   "source": [
    "p3ht_n10_esp_x.tag = 'p3ht_n10_x%d'%(xO)"
   ]
  },
  {
   "cell_type": "code",
   "execution_count": null,
   "metadata": {
    "collapsed": true
   },
   "outputs": [],
   "source": [
    "p3ht_n10_esp_x.write_xyz()"
   ]
  },
  {
   "cell_type": "code",
   "execution_count": null,
   "metadata": {
    "collapsed": true
   },
   "outputs": [],
   "source": [
    "p3ht_n10_esp_x.write_cply()"
   ]
  },
  {
   "cell_type": "code",
   "execution_count": null,
   "metadata": {
    "collapsed": false
   },
   "outputs": [],
   "source": [
    "print p3ht_n10_esp_x.n_bonds,p3ht_n10_esp_x.n_angles,p3ht_n10_esp_x.n_dihedrals"
   ]
  },
  {
   "cell_type": "markdown",
   "metadata": {},
   "source": [
    "Create LAMMPS calculation to equilibrate bulk system"
   ]
  },
  {
   "cell_type": "code",
   "execution_count": 5,
   "metadata": {
    "collapsed": true
   },
   "outputs": [],
   "source": [
    "xO = 20"
   ]
  },
  {
   "cell_type": "code",
   "execution_count": 6,
   "metadata": {
    "collapsed": false
   },
   "outputs": [],
   "source": [
    "lmp_bulk = lammps.LAMMPS('p3ht_n10_esp_x%d'%(xO))"
   ]
  },
  {
   "cell_type": "code",
   "execution_count": 7,
   "metadata": {
    "collapsed": false
   },
   "outputs": [
    {
     "name": "stdout",
     "output_type": "stream",
     "text": [
      "Resource tag found peregrine \n",
      "Reading in resource json file res_peregrine.json \n"
     ]
    }
   ],
   "source": [
    "lmp_bulk.load_json()"
   ]
  },
  {
   "cell_type": "code",
   "execution_count": null,
   "metadata": {
    "collapsed": false
   },
   "outputs": [],
   "source": [
    "lmp_bulk.set_resource(peregrine)"
   ]
  },
  {
   "cell_type": "code",
   "execution_count": null,
   "metadata": {
    "collapsed": true
   },
   "outputs": [],
   "source": [
    "lmp_bulk.properties['scratch'] = lmp_bulk.dir['scratch']"
   ]
  },
  {
   "cell_type": "code",
   "execution_count": null,
   "metadata": {
    "collapsed": false
   },
   "outputs": [],
   "source": [
    "lmp_bulk.make_dir()"
   ]
  },
  {
   "cell_type": "code",
   "execution_count": null,
   "metadata": {
    "collapsed": true
   },
   "outputs": [],
   "source": [
    "# lmp_bulk.strucC = buildingblock.Container()"
   ]
  },
  {
   "cell_type": "code",
   "execution_count": null,
   "metadata": {
    "collapsed": true
   },
   "outputs": [],
   "source": [
    "lmp_bulk.add_strucC(p3ht_n10_esp_x)"
   ]
  },
  {
   "cell_type": "code",
   "execution_count": null,
   "metadata": {
    "collapsed": false
   },
   "outputs": [],
   "source": [
    "lmp_bulk.read_param(\"conj.param\")"
   ]
  },
  {
   "cell_type": "code",
   "execution_count": null,
   "metadata": {
    "collapsed": false
   },
   "outputs": [],
   "source": [
    "lmp_bulk.set_ffparam()"
   ]
  },
  {
   "cell_type": "code",
   "execution_count": null,
   "metadata": {
    "collapsed": false
   },
   "outputs": [],
   "source": [
    "file_type = 'templates'\n",
    "file_key = 'in'\n",
    "file_name = \"lammps_nvt.in\"\n",
    "from_dirkey = 'templates'\n",
    "to_dirkey = 'launch'\n",
    "lmp_bulk.cp_file(file_type,file_key,file_name,from_dirkey,to_dirkey)"
   ]
  },
  {
   "cell_type": "code",
   "execution_count": null,
   "metadata": {
    "collapsed": false
   },
   "outputs": [],
   "source": [
    "file_type = 'templates'\n",
    "file_key = 'run'\n",
    "file_name = \"lammps_peregrine.pbs\"\n",
    "from_dirkey = 'templates'\n",
    "to_dirkey = 'launch'\n",
    "lmp_bulk.cp_file(file_type,file_key,file_name,from_dirkey,to_dirkey)"
   ]
  },
  {
   "cell_type": "code",
   "execution_count": null,
   "metadata": {
    "collapsed": false
   },
   "outputs": [],
   "source": [
    "print lmp_bulk.dir['launch']"
   ]
  },
  {
   "cell_type": "code",
   "execution_count": null,
   "metadata": {
    "collapsed": false
   },
   "outputs": [],
   "source": [
    "os.chdir(lmp_bulk.dir['launch'])"
   ]
  },
  {
   "cell_type": "code",
   "execution_count": null,
   "metadata": {
    "collapsed": true
   },
   "outputs": [],
   "source": [
    "lmp_bulk.load_str('templates','run')"
   ]
  },
  {
   "cell_type": "code",
   "execution_count": null,
   "metadata": {
    "collapsed": true
   },
   "outputs": [],
   "source": [
    "lmp_bulk.load_str('templates','in')"
   ]
  },
  {
   "cell_type": "code",
   "execution_count": null,
   "metadata": {
    "collapsed": true
   },
   "outputs": [],
   "source": [
    "lmp_bulk.write_data()"
   ]
  },
  {
   "cell_type": "code",
   "execution_count": null,
   "metadata": {
    "collapsed": false
   },
   "outputs": [],
   "source": [
    "lmp_bulk.replacewrite_prop('in','input','in','%s.in'%(lmp_bulk.tag))"
   ]
  },
  {
   "cell_type": "code",
   "execution_count": null,
   "metadata": {
    "collapsed": true
   },
   "outputs": [],
   "source": [
    "lmp_bulk.properties['input_in'] = lmp_bulk.files['input']['in']"
   ]
  },
  {
   "cell_type": "code",
   "execution_count": null,
   "metadata": {
    "collapsed": false
   },
   "outputs": [],
   "source": [
    "lmp_bulk.replacewrite_prop('run','scripts','run','%s.sh'%(lmp_bulk.tag))"
   ]
  },
  {
   "cell_type": "code",
   "execution_count": null,
   "metadata": {
    "collapsed": false
   },
   "outputs": [],
   "source": [
    "file_type = 'output'\n",
    "file_key = 'log'\n",
    "file_name = \"%s.log\"%(lmp_bulk.tag)\n",
    "lmp_bulk.add_file(file_type,file_key,file_name)"
   ]
  },
  {
   "cell_type": "code",
   "execution_count": null,
   "metadata": {
    "collapsed": false
   },
   "outputs": [],
   "source": [
    "os.chdir(lmp_bulk.dir['home'])\n",
    "lmp_bulk.dump_json()\n",
    "os.chdir(lmp_bulk.dir['launch'])"
   ]
  },
  {
   "cell_type": "code",
   "execution_count": null,
   "metadata": {
    "collapsed": false
   },
   "outputs": [],
   "source": [
    "lmp_bulk.push()"
   ]
  },
  {
   "cell_type": "code",
   "execution_count": null,
   "metadata": {
    "collapsed": false
   },
   "outputs": [],
   "source": [
    "lmp_bulk.run()"
   ]
  },
  {
   "cell_type": "code",
   "execution_count": null,
   "metadata": {
    "collapsed": false
   },
   "outputs": [],
   "source": [
    "lmp_bulk.check()\n",
    "print lmp_bulk.meta['status']"
   ]
  },
  {
   "cell_type": "code",
   "execution_count": null,
   "metadata": {
    "collapsed": true
   },
   "outputs": [],
   "source": [
    "lmp_bulk.analysis()\n",
    "print lmp_bulk.meta['status']"
   ]
  },
  {
   "cell_type": "code",
   "execution_count": null,
   "metadata": {
    "collapsed": false
   },
   "outputs": [],
   "source": [
    "print lmp_bulk.files['output']"
   ]
  },
  {
   "cell_type": "code",
   "execution_count": null,
   "metadata": {
    "collapsed": false
   },
   "outputs": [],
   "source": [
    "print lmp_bulk.dir"
   ]
  },
  {
   "cell_type": "code",
   "execution_count": null,
   "metadata": {
    "collapsed": true
   },
   "outputs": [],
   "source": [
    "os.chdir(lmp_bulk.dir['home'])\n",
    "lmp_bulk.dump_json()\n",
    "os.chdir(lmp_bulk.dir['launch'])"
   ]
  },
  {
   "cell_type": "code",
   "execution_count": null,
   "metadata": {
    "collapsed": true
   },
   "outputs": [],
   "source": [
    "lmp_bulk.meta['status'] = 'finished'"
   ]
  },
  {
   "cell_type": "code",
   "execution_count": null,
   "metadata": {
    "collapsed": false
   },
   "outputs": [],
   "source": [
    "lmp_bulk.store()"
   ]
  },
  {
   "cell_type": "code",
   "execution_count": null,
   "metadata": {
    "collapsed": false
   },
   "outputs": [],
   "source": [
    "lmp_bulk.pull()"
   ]
  },
  {
   "cell_type": "code",
   "execution_count": null,
   "metadata": {
    "collapsed": false
   },
   "outputs": [],
   "source": [
    "os.chdir(lmp_bulk.dir['launch'])"
   ]
  },
  {
   "cell_type": "code",
   "execution_count": null,
   "metadata": {
    "collapsed": true
   },
   "outputs": [],
   "source": [
    "lmp_bulk.read_data(lmp_bulk.files['output']['data_3'])"
   ]
  },
  {
   "cell_type": "code",
   "execution_count": null,
   "metadata": {
    "collapsed": false
   },
   "outputs": [],
   "source": [
    "lmp_bulk.strucC.write_cply()"
   ]
  },
  {
   "cell_type": "code",
   "execution_count": null,
   "metadata": {
    "collapsed": false
   },
   "outputs": [],
   "source": [
    "lmp_bulk.strucC.write_xyz()"
   ]
  },
  {
   "cell_type": "code",
   "execution_count": null,
   "metadata": {
    "collapsed": true
   },
   "outputs": [],
   "source": [
    "lmp_bulk.strucC.group_prop('mol','mol')"
   ]
  },
  {
   "cell_type": "code",
   "execution_count": null,
   "metadata": {
    "collapsed": true
   },
   "outputs": [],
   "source": [
    "lmp_bulk.strucC.groupsets['mol'].group_pbcs()"
   ]
  },
  {
   "cell_type": "code",
   "execution_count": null,
   "metadata": {
    "collapsed": false
   },
   "outputs": [],
   "source": [
    "print lmp_bulk.strucC.tag "
   ]
  },
  {
   "cell_type": "code",
   "execution_count": null,
   "metadata": {
    "collapsed": true
   },
   "outputs": [],
   "source": [
    "lmp_bulk.strucC.tag = \"%s_nvt\"%(lmp_bulk.strucC.tag )"
   ]
  },
  {
   "cell_type": "code",
   "execution_count": null,
   "metadata": {
    "collapsed": false
   },
   "outputs": [],
   "source": [
    "os.chdir(lmp_bulk.dir['home'])"
   ]
  },
  {
   "cell_type": "code",
   "execution_count": null,
   "metadata": {
    "collapsed": false
   },
   "outputs": [],
   "source": [
    "lmp_bulk.dump_json()"
   ]
  },
  {
   "cell_type": "code",
   "execution_count": null,
   "metadata": {
    "collapsed": true
   },
   "outputs": [],
   "source": [
    "lmp_bulk.strucC.write_xyz()"
   ]
  },
  {
   "cell_type": "code",
   "execution_count": null,
   "metadata": {
    "collapsed": true
   },
   "outputs": [],
   "source": [
    "lmp_bulk.strucC.write_cply()"
   ]
  },
  {
   "cell_type": "code",
   "execution_count": 40,
   "metadata": {
    "collapsed": false
   },
   "outputs": [
    {
     "name": "stdout",
     "output_type": "stream",
     "text": [
      "p3ht_n10_esp_x20\n"
     ]
    }
   ],
   "source": [
    "print lmp_bulk.tag"
   ]
  },
  {
   "cell_type": "markdown",
   "metadata": {},
   "source": [
    "Run Equilibration "
   ]
  },
  {
   "cell_type": "code",
   "execution_count": 8,
   "metadata": {
    "collapsed": false
   },
   "outputs": [],
   "source": [
    "lmp_equ = lammps.LAMMPS('p3ht_n10_x20_equ')"
   ]
  },
  {
   "cell_type": "code",
   "execution_count": 12,
   "metadata": {
    "collapsed": false
   },
   "outputs": [],
   "source": [
    "lmp_equ.set_resource(peregrine)"
   ]
  },
  {
   "cell_type": "code",
   "execution_count": 13,
   "metadata": {
    "collapsed": true
   },
   "outputs": [],
   "source": [
    "lmp_equ.properties['scratch'] = lmp_equ.dir['scratch']"
   ]
  },
  {
   "cell_type": "code",
   "execution_count": null,
   "metadata": {
    "collapsed": false
   },
   "outputs": [],
   "source": [
    "lmp_equ.make_dir()"
   ]
  },
  {
   "cell_type": "code",
   "execution_count": 14,
   "metadata": {
    "collapsed": true
   },
   "outputs": [],
   "source": [
    "lmp_equ.add_refcalc(lmp_bulk)"
   ]
  },
  {
   "cell_type": "code",
   "execution_count": null,
   "metadata": {
    "collapsed": true
   },
   "outputs": [],
   "source": []
  },
  {
   "cell_type": "code",
   "execution_count": 15,
   "metadata": {
    "collapsed": false
   },
   "outputs": [
    {
     "name": "stdout",
     "output_type": "stream",
     "text": [
      "p3ht_n10_esp_x20 p3ht_n10_esp_x20\n"
     ]
    }
   ],
   "source": [
    "for ref_key,ref_calc in lmp_equ.references.iteritems(): \n",
    "      print ref_key, ref_calc.tag\n",
    "            "
   ]
  },
  {
   "cell_type": "code",
   "execution_count": 16,
   "metadata": {
    "collapsed": false
   },
   "outputs": [],
   "source": [
    "lmp_equ.files['input']['data_file'] = lmp_bulk.files['output']['data_3']"
   ]
  },
  {
   "cell_type": "code",
   "execution_count": 33,
   "metadata": {
    "collapsed": true
   },
   "outputs": [],
   "source": [
    "lmp_equ.properties['data_file']  = lmp_equ.files['input']['data_file'] "
   ]
  },
  {
   "cell_type": "code",
   "execution_count": 34,
   "metadata": {
    "collapsed": false
   },
   "outputs": [
    {
     "name": "stdout",
     "output_type": "stream",
     "text": [
      "> in cp_file  templates in lammps_equ1.in templates launch\n",
      "copying /Users/tkemper/Development/streamm_ext/streamm-tools/templates/lammps_equ1.in to /Users/tkemper/Development/streamm_ext/streamm-tools/examples/scratch/p3ht_n10_x20_equ/lammps_equ1.in \n"
     ]
    }
   ],
   "source": [
    "file_type = 'templates'\n",
    "file_key = 'in'\n",
    "file_name = \"lammps_equ1.in\"\n",
    "from_dirkey = 'templates'\n",
    "to_dirkey = 'launch'\n",
    "lmp_equ.cp_file(file_type,file_key,file_name,from_dirkey,to_dirkey)"
   ]
  },
  {
   "cell_type": "code",
   "execution_count": 18,
   "metadata": {
    "collapsed": false
   },
   "outputs": [
    {
     "name": "stdout",
     "output_type": "stream",
     "text": [
      "> in cp_file  templates run lammps_peregrine.pbs templates launch\n",
      "copying /Users/tkemper/Development/streamm_ext/streamm-tools/templates/lammps_peregrine.pbs to /Users/tkemper/Development/streamm_ext/streamm-tools/examples/scratch/p3ht_n10_x20_equ/lammps_peregrine.pbs \n"
     ]
    }
   ],
   "source": [
    "file_type = 'templates'\n",
    "file_key = 'run'\n",
    "file_name = \"lammps_peregrine.pbs\"\n",
    "from_dirkey = 'templates'\n",
    "to_dirkey = 'launch'\n",
    "lmp_equ.cp_file(file_type,file_key,file_name,from_dirkey,to_dirkey)"
   ]
  },
  {
   "cell_type": "code",
   "execution_count": 19,
   "metadata": {
    "collapsed": false
   },
   "outputs": [
    {
     "name": "stdout",
     "output_type": "stream",
     "text": [
      "/Users/tkemper/Development/streamm_ext/streamm-tools/examples/scratch/p3ht_n10_x20_equ/\n"
     ]
    }
   ],
   "source": [
    "print lmp_equ.dir['launch']"
   ]
  },
  {
   "cell_type": "code",
   "execution_count": 20,
   "metadata": {
    "collapsed": false
   },
   "outputs": [],
   "source": [
    "os.chdir(lmp_equ.dir['launch'])"
   ]
  },
  {
   "cell_type": "code",
   "execution_count": 21,
   "metadata": {
    "collapsed": false
   },
   "outputs": [],
   "source": [
    "lmp_equ.load_str('templates','run')"
   ]
  },
  {
   "cell_type": "code",
   "execution_count": 35,
   "metadata": {
    "collapsed": false
   },
   "outputs": [],
   "source": [
    "lmp_equ.load_str('templates','in')"
   ]
  },
  {
   "cell_type": "code",
   "execution_count": 36,
   "metadata": {
    "collapsed": false
   },
   "outputs": [],
   "source": [
    "lmp_equ.replacewrite_prop('in','input','in','%s.in'%(lmp_equ.tag))"
   ]
  },
  {
   "cell_type": "code",
   "execution_count": 24,
   "metadata": {
    "collapsed": false
   },
   "outputs": [],
   "source": [
    "lmp_equ.properties['input_in'] = lmp_equ.files['input']['in']"
   ]
  },
  {
   "cell_type": "code",
   "execution_count": 25,
   "metadata": {
    "collapsed": false
   },
   "outputs": [],
   "source": [
    "lmp_equ.replacewrite_prop('run','scripts','run','%s.pbs'%(lmp_equ.tag))"
   ]
  },
  {
   "cell_type": "code",
   "execution_count": 26,
   "metadata": {
    "collapsed": false
   },
   "outputs": [],
   "source": [
    "file_type = 'output'\n",
    "file_key = 'log'\n",
    "file_name = \"%s.log\"%(lmp_equ.tag)\n",
    "lmp_equ.add_file(file_type,file_key,file_name)"
   ]
  },
  {
   "cell_type": "code",
   "execution_count": 27,
   "metadata": {
    "collapsed": false
   },
   "outputs": [
    {
     "name": "stdout",
     "output_type": "stream",
     "text": [
      "{'files': {'templates': {'run': 'lammps_peregrine.pbs', 'in': 'lammps_equ1.in'}, 'input': {'data_file': u'min2.data', 'in': 'p3ht_n10_x20_equ.in'}, 'output': {'log': 'p3ht_n10_x20_equ.log'}, 'data': {}, 'scripts': {'run': 'p3ht_n10_x20_equ.pbs'}}, 'meta': {'date': '2016-11-08T09:33:06.245923', 'status': 'written', 'resource': 'peregrine', 'software': 'lammps'}, 'references': {'p3ht_n10_esp_x20': 'p3ht_n10_esp_x20'}, 'units': {'distance': 'angstroms', 'energy': 'kcal/mol', 'angle': 'radians', 'time': 'ns'}, 'data': {}, 'properties': {'uncompress': 'tar -xzf ', u'scratch': u'/scratch/tkemper/p3ht_n10_x20_equ/', 'compress': 'tar -czf ', u'ppn': 24, 'finish_str': 'Loop time of', u'allocation': u'orgopv', 'run_list': '', u'nproc': 24, 'input_in': 'p3ht_n10_x20_equ.in', u'pmem': 1500, 'compress_sufix': 'tgz', u'feature': u'24core', u'queue': u'short', u'e-mail': u'travis.kemper@nrel.gov', 'comp_key': 'compressed', u'nodes': 1, u'walltime': 4, u'exe_command': u'qsub '}, 'dir': {u'templates': u'/Users/tkemper/Development/streamm_ext/streamm-tools/templates', u'launch': u'/Users/tkemper/Development/streamm_ext/streamm-tools/examples/scratch/p3ht_n10_x20_equ/', u'scratch': u'/scratch/tkemper/p3ht_n10_x20_equ/', u'storage': u'/mss/users/tkemper/p3ht_n10_x20_equ/', u'materials': u'/Users/tkemper/Development/streamm_ext/streamm-tools/examples/materials', u'scripts': u'/Users/tkemper/Development/streamm_ext/streamm-tools/examples/scripts', u'home': u'/Users/tkemper/Development/streamm_ext/streamm-tools/examples'}}\n"
     ]
    }
   ],
   "source": [
    "os.chdir(lmp_equ.dir['home'])\n",
    "lmp_equ.dump_json()\n",
    "os.chdir(lmp_equ.dir['launch'])"
   ]
  },
  {
   "cell_type": "code",
   "execution_count": 28,
   "metadata": {
    "collapsed": true
   },
   "outputs": [],
   "source": [
    "ref_calc = lmp_equ.references['p3ht_n10_esp_x20']"
   ]
  },
  {
   "cell_type": "code",
   "execution_count": 29,
   "metadata": {
    "collapsed": false
   },
   "outputs": [
    {
     "name": "stdout",
     "output_type": "stream",
     "text": [
      "{u'templates': {u'run': u'lammps_peregrine.pbs', u'in': u'lammps_nvt.in'}, u'input': {u'compressed': u'p3ht_n10_esp_x20_input.tgz', u'in': u'p3ht_n10_esp_x20.in'}, u'output': {u'log': u'p3ht_n10_esp_x20.log', u'data_3': u'min2.data', u'data_2': u'nvt1.data', u'data_1': u'min1.data', u'compressed': u'p3ht_n10_esp_x20_output.tgz', u'dcd_1': u'nvt1_dump.dcd'}, u'data': {}, u'scripts': {u'run': u'p3ht_n10_esp_x20.sh', u'compressed': u'p3ht_n10_esp_x20_scripts.tgz'}}\n"
     ]
    }
   ],
   "source": [
    "print ref_calc.files"
   ]
  },
  {
   "cell_type": "code",
   "execution_count": 38,
   "metadata": {
    "collapsed": false
   },
   "outputs": [
    {
     "name": "stdout",
     "output_type": "stream",
     "text": [
      " Resource type ssh \n",
      "runnning push function in /Users/tkemper/Development/streamm_ext/streamm-tools/examples/scratch/p3ht_n10_x20_equ \n",
      "Compressing and copying input files to scratch directory \n",
      " file_i  min2.data\n",
      " file_i  p3ht_n10_x20_equ.in\n",
      "> compressed_file  p3ht_n10_x20_equ_input.tgz\n",
      "Compressing and copying templates files to scratch directory \n",
      " file_i  lammps_peregrine.pbs\n",
      " file_i  lammps_equ1.in\n",
      "> compressed_file  p3ht_n10_x20_equ_templates.tgz\n",
      "Compressing and copying scripts files to scratch directory \n",
      " file_i  p3ht_n10_x20_equ.pbs\n",
      "> compressed_file  p3ht_n10_x20_equ_scripts.tgz\n",
      "Copying output of reference calculations p3ht_n10_esp_x20\n"
     ]
    }
   ],
   "source": [
    "lmp_equ.push()"
   ]
  },
  {
   "cell_type": "code",
   "execution_count": 39,
   "metadata": {
    "collapsed": false
   },
   "outputs": [
    {
     "name": "stdout",
     "output_type": "stream",
     "text": [
      "Calculation with status written \n",
      "Resource type ssh \n",
      "Executing run command ssh tkemper@peregrine.hpc.nrel.gov ' cd /scratch/tkemper/p3ht_n10_x20_equ/ ; qsub p3ht_n10_x20_equ.pbs '  \n"
     ]
    }
   ],
   "source": [
    "lmp_equ.run()"
   ]
  },
  {
   "cell_type": "code",
   "execution_count": 42,
   "metadata": {
    "collapsed": false
   },
   "outputs": [
    {
     "name": "stdout",
     "output_type": "stream",
     "text": [
      "written\n"
     ]
    }
   ],
   "source": [
    "lmp_equ.check()\n",
    "print lmp_equ.meta['status']"
   ]
  },
  {
   "cell_type": "code",
   "execution_count": null,
   "metadata": {
    "collapsed": true
   },
   "outputs": [],
   "source": [
    "lmp_bulk.analysis()\n",
    "print lmp_bulk.meta['status']"
   ]
  },
  {
   "cell_type": "code",
   "execution_count": null,
   "metadata": {
    "collapsed": false
   },
   "outputs": [],
   "source": [
    "print lmp_bulk.files['output']"
   ]
  },
  {
   "cell_type": "code",
   "execution_count": null,
   "metadata": {
    "collapsed": true
   },
   "outputs": [],
   "source": [
    "os.chdir(lmp_bulk.dir['home'])\n",
    "lmp_bulk.dump_json()\n",
    "os.chdir(lmp_bulk.dir['launch'])"
   ]
  },
  {
   "cell_type": "code",
   "execution_count": null,
   "metadata": {
    "collapsed": true
   },
   "outputs": [],
   "source": [
    "lmp_bulk.meta['status'] = 'finished'"
   ]
  },
  {
   "cell_type": "code",
   "execution_count": null,
   "metadata": {
    "collapsed": false
   },
   "outputs": [],
   "source": [
    "lmp_bulk.store()"
   ]
  },
  {
   "cell_type": "code",
   "execution_count": null,
   "metadata": {
    "collapsed": false
   },
   "outputs": [],
   "source": [
    "lmp_bulk.pull()"
   ]
  },
  {
   "cell_type": "code",
   "execution_count": null,
   "metadata": {
    "collapsed": false
   },
   "outputs": [],
   "source": [
    "os.chdir(lmp_bulk.dir['launch'])"
   ]
  },
  {
   "cell_type": "code",
   "execution_count": null,
   "metadata": {
    "collapsed": true
   },
   "outputs": [],
   "source": [
    "lmp_bulk.read_data(lmp_bulk.files['output']['data_3'])"
   ]
  },
  {
   "cell_type": "code",
   "execution_count": null,
   "metadata": {
    "collapsed": false
   },
   "outputs": [],
   "source": [
    "lmp_bulk.strucC.write_cply()"
   ]
  },
  {
   "cell_type": "code",
   "execution_count": null,
   "metadata": {
    "collapsed": false
   },
   "outputs": [],
   "source": [
    "lmp_bulk.strucC.write_xyz()"
   ]
  },
  {
   "cell_type": "code",
   "execution_count": null,
   "metadata": {
    "collapsed": true
   },
   "outputs": [],
   "source": [
    "lmp_bulk.strucC.group_prop('mol','mol')"
   ]
  },
  {
   "cell_type": "code",
   "execution_count": null,
   "metadata": {
    "collapsed": true
   },
   "outputs": [],
   "source": [
    "lmp_bulk.strucC.groupsets['mol'].group_pbcs()"
   ]
  },
  {
   "cell_type": "code",
   "execution_count": 43,
   "metadata": {
    "collapsed": false
   },
   "outputs": [
    {
     "name": "stdout",
     "output_type": "stream",
     "text": [
      "blank\n"
     ]
    }
   ],
   "source": [
    "print lmp_bulk.strucC.tag "
   ]
  },
  {
   "cell_type": "code",
   "execution_count": null,
   "metadata": {
    "collapsed": true
   },
   "outputs": [],
   "source": [
    "lmp_bulk.strucC.tag = \"%s_nvt\"%(lmp_bulk.strucC.tag )"
   ]
  },
  {
   "cell_type": "code",
   "execution_count": 50,
   "metadata": {
    "collapsed": true
   },
   "outputs": [],
   "source": [
    "os.chdir(lmp_bulk.dir['home'])"
   ]
  },
  {
   "cell_type": "code",
   "execution_count": null,
   "metadata": {
    "collapsed": true
   },
   "outputs": [],
   "source": [
    "lmp_bulk.dump_json()"
   ]
  },
  {
   "cell_type": "code",
   "execution_count": null,
   "metadata": {
    "collapsed": true
   },
   "outputs": [],
   "source": [
    "lmp_bulk.strucC.write_xyz()"
   ]
  },
  {
   "cell_type": "code",
   "execution_count": null,
   "metadata": {
    "collapsed": true
   },
   "outputs": [],
   "source": [
    "lmp_bulk.strucC.write_cply()"
   ]
  },
  {
   "cell_type": "markdown",
   "metadata": {},
   "source": [
    "Analyize bulk properties with streamm"
   ]
  },
  {
   "cell_type": "code",
   "execution_count": 44,
   "metadata": {
    "collapsed": false
   },
   "outputs": [
    {
     "name": "stdout",
     "output_type": "stream",
     "text": [
      "p3ht_n10_x20_equ\n"
     ]
    }
   ],
   "source": [
    "print lmp_equ.tag"
   ]
  },
  {
   "cell_type": "code",
   "execution_count": 52,
   "metadata": {
    "collapsed": true
   },
   "outputs": [],
   "source": [
    "equ_rdf = calculation.CalculationRes('%s_rdf1'%(lmp_equ.tag))"
   ]
  },
  {
   "cell_type": "code",
   "execution_count": 53,
   "metadata": {
    "collapsed": true
   },
   "outputs": [],
   "source": [
    "equ_rdf.set_resource(peregrine)"
   ]
  },
  {
   "cell_type": "code",
   "execution_count": 54,
   "metadata": {
    "collapsed": false
   },
   "outputs": [],
   "source": [
    "equ_rdf.add_refcalc(lmp_bulk)"
   ]
  },
  {
   "cell_type": "code",
   "execution_count": 55,
   "metadata": {
    "collapsed": false
   },
   "outputs": [
    {
     "data": {
      "text/plain": [
       "'/Users/tkemper/Development/streamm_ext/streamm-tools/examples'"
      ]
     },
     "execution_count": 55,
     "metadata": {},
     "output_type": "execute_result"
    }
   ],
   "source": [
    "os.getcwd()"
   ]
  },
  {
   "cell_type": "code",
   "execution_count": null,
   "metadata": {
    "collapsed": true
   },
   "outputs": [],
   "source": []
  }
 ],
 "metadata": {
  "kernelspec": {
   "display_name": "Python [Root]",
   "language": "python",
   "name": "Python [Root]"
  },
  "language_info": {
   "codemirror_mode": {
    "name": "ipython",
    "version": 2
   },
   "file_extension": ".py",
   "mimetype": "text/x-python",
   "name": "python",
   "nbconvert_exporter": "python",
   "pygments_lexer": "ipython2",
   "version": "2.7.12"
  }
 },
 "nbformat": 4,
 "nbformat_minor": 0
}
