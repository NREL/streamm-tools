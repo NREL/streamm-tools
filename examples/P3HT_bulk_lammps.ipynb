{
 "cells": [
  {
   "cell_type": "markdown",
   "metadata": {},
   "source": [
    "Build P3HT bulk simulation "
   ]
  },
  {
   "cell_type": "code",
   "execution_count": 3,
   "metadata": {
    "collapsed": true
   },
   "outputs": [],
   "source": [
    "import os,sys, copy, pickle"
   ]
  },
  {
   "cell_type": "code",
   "execution_count": 4,
   "metadata": {
    "collapsed": false
   },
   "outputs": [],
   "source": [
    "from streamm import *"
   ]
  },
  {
   "cell_type": "code",
   "execution_count": 5,
   "metadata": {
    "collapsed": false
   },
   "outputs": [],
   "source": [
    "%load_ext autoreload\n",
    "%autoreload 2"
   ]
  },
  {
   "cell_type": "markdown",
   "metadata": {},
   "source": [
    "Load resources from previous example "
   ]
  },
  {
   "cell_type": "code",
   "execution_count": 6,
   "metadata": {
    "collapsed": false
   },
   "outputs": [
    {
     "name": "stdout",
     "output_type": "stream",
     "text": [
      "Reading in resource json file res_local.json \n"
     ]
    }
   ],
   "source": [
    "res_tag = 'local'  # Change this to remote to run the calculations remotely \n",
    "res_local = resource.Resource(res_tag)\n",
    "res_local.load_json()"
   ]
  },
  {
   "cell_type": "code",
   "execution_count": 7,
   "metadata": {
    "collapsed": false
   },
   "outputs": [
    {
     "name": "stdout",
     "output_type": "stream",
     "text": [
      "Reading in resource json file res_peregrine.json \n"
     ]
    }
   ],
   "source": [
    "peregrine = resource.Resource('peregrine')\n",
    "peregrine.load_json()"
   ]
  },
  {
   "cell_type": "markdown",
   "metadata": {},
   "source": [
    "Load oligomer from previous examples "
   ]
  },
  {
   "cell_type": "code",
   "execution_count": null,
   "metadata": {
    "collapsed": true
   },
   "outputs": [],
   "source": [
    "p3ht_n10_esp = buildingblock.Container('p3ht_n10_esp')"
   ]
  },
  {
   "cell_type": "code",
   "execution_count": null,
   "metadata": {
    "collapsed": true
   },
   "outputs": [],
   "source": [
    "p3ht_n10_esp.read_cply()"
   ]
  },
  {
   "cell_type": "code",
   "execution_count": null,
   "metadata": {
    "collapsed": true
   },
   "outputs": [],
   "source": [
    "p3ht_n10_esp.lat_cubic(50.0)"
   ]
  },
  {
   "cell_type": "code",
   "execution_count": null,
   "metadata": {
    "collapsed": false
   },
   "outputs": [],
   "source": [
    "p3ht_n10_esp.guess_oplsa()"
   ]
  },
  {
   "cell_type": "code",
   "execution_count": null,
   "metadata": {
    "collapsed": false
   },
   "outputs": [],
   "source": [
    "p3ht_n10_esp.bonded_bonds()\n",
    "p3ht_n10_esp.bonded_angles()\n",
    "p3ht_n10_esp.bonded_dih()"
   ]
  },
  {
   "cell_type": "markdown",
   "metadata": {},
   "source": [
    "Place the oligomer into a simulation and add parameters "
   ]
  },
  {
   "cell_type": "code",
   "execution_count": null,
   "metadata": {
    "collapsed": false
   },
   "outputs": [],
   "source": [
    "lmp_oligo = lammps.LAMMPS('p3ht_n10_esp_nvt')\n",
    "lmp_oligo.load_json()"
   ]
  },
  {
   "cell_type": "code",
   "execution_count": null,
   "metadata": {
    "collapsed": true
   },
   "outputs": [],
   "source": [
    "lmp_oligo.set_resource(peregrine)"
   ]
  },
  {
   "cell_type": "code",
   "execution_count": null,
   "metadata": {
    "collapsed": true
   },
   "outputs": [],
   "source": [
    "lmp_oligo.properties['scratch'] = lmp_oligo.dir['scratch']"
   ]
  },
  {
   "cell_type": "code",
   "execution_count": null,
   "metadata": {
    "collapsed": false
   },
   "outputs": [],
   "source": [
    "lmp_oligo.make_dir()"
   ]
  },
  {
   "cell_type": "code",
   "execution_count": null,
   "metadata": {
    "collapsed": false
   },
   "outputs": [],
   "source": [
    "lmp_oligo.add_strucC(p3ht_n10_esp)"
   ]
  },
  {
   "cell_type": "code",
   "execution_count": null,
   "metadata": {
    "collapsed": false
   },
   "outputs": [],
   "source": [
    "print lmp_oligo.strucC.lat._matrix"
   ]
  },
  {
   "cell_type": "code",
   "execution_count": null,
   "metadata": {
    "collapsed": false
   },
   "outputs": [],
   "source": [
    "lmp_oligo.read_param(\"conj.param\")"
   ]
  },
  {
   "cell_type": "code",
   "execution_count": null,
   "metadata": {
    "collapsed": false
   },
   "outputs": [],
   "source": [
    "lmp_oligo.set_ffparam()"
   ]
  },
  {
   "cell_type": "code",
   "execution_count": null,
   "metadata": {
    "collapsed": true
   },
   "outputs": [],
   "source": [
    "for p,pt in lmp_oligo.strucC.particles.iteritems(): # properties[\"charge\"] \n",
    "    print p,pt.properties[\"symbol\"],pt.properties[\"fftype\"]"
   ]
  },
  {
   "cell_type": "markdown",
   "metadata": {},
   "source": [
    "Read in templates"
   ]
  },
  {
   "cell_type": "code",
   "execution_count": null,
   "metadata": {
    "collapsed": false
   },
   "outputs": [],
   "source": [
    "file_type = 'templates'\n",
    "file_key = 'in'\n",
    "file_name = \"lammps_nvt.in\"\n",
    "from_dirkey = 'templates'\n",
    "to_dirkey = 'launch'\n",
    "lmp_oligo.cp_file(file_type,file_key,file_name,from_dirkey,to_dirkey)"
   ]
  },
  {
   "cell_type": "code",
   "execution_count": null,
   "metadata": {
    "collapsed": false
   },
   "outputs": [],
   "source": [
    "file_type = 'templates'\n",
    "file_key = 'run'\n",
    "file_name = \"lammps_peregrine.pbs\"\n",
    "from_dirkey = 'templates'\n",
    "to_dirkey = 'launch'\n",
    "lmp_oligo.cp_file(file_type,file_key,file_name,from_dirkey,to_dirkey)"
   ]
  },
  {
   "cell_type": "code",
   "execution_count": null,
   "metadata": {
    "collapsed": false
   },
   "outputs": [],
   "source": [
    "print lmp_oligo.dir['launch']"
   ]
  },
  {
   "cell_type": "code",
   "execution_count": null,
   "metadata": {
    "collapsed": false
   },
   "outputs": [],
   "source": [
    "os.chdir(lmp_oligo.dir['launch'])"
   ]
  },
  {
   "cell_type": "code",
   "execution_count": null,
   "metadata": {
    "collapsed": true
   },
   "outputs": [],
   "source": [
    "lmp_oligo.load_str('templates','run')"
   ]
  },
  {
   "cell_type": "code",
   "execution_count": null,
   "metadata": {
    "collapsed": true
   },
   "outputs": [],
   "source": [
    "lmp_oligo.load_str('templates','in')"
   ]
  },
  {
   "cell_type": "code",
   "execution_count": null,
   "metadata": {
    "collapsed": true
   },
   "outputs": [],
   "source": [
    "lmp_oligo.write_data()"
   ]
  },
  {
   "cell_type": "code",
   "execution_count": null,
   "metadata": {
    "collapsed": false
   },
   "outputs": [],
   "source": [
    "lmp_oligo.replacewrite_prop('in','input','in','%s.in'%(lmp_oligo.tag))"
   ]
  },
  {
   "cell_type": "code",
   "execution_count": null,
   "metadata": {
    "collapsed": true
   },
   "outputs": [],
   "source": [
    "lmp_oligo.properties['input_in'] = lmp_oligo.files['input']['in']"
   ]
  },
  {
   "cell_type": "code",
   "execution_count": null,
   "metadata": {
    "collapsed": false
   },
   "outputs": [],
   "source": [
    "lmp_oligo.replacewrite_prop('run','scripts','run','%s.sh'%(lmp_oligo.tag))"
   ]
  },
  {
   "cell_type": "code",
   "execution_count": null,
   "metadata": {
    "collapsed": false
   },
   "outputs": [],
   "source": [
    "file_type = 'output'\n",
    "file_key = 'log'\n",
    "file_name = \"%s.log\"%(lmp_oligo.tag)\n",
    "lmp_oligo.add_file(file_type,file_key,file_name)"
   ]
  },
  {
   "cell_type": "code",
   "execution_count": null,
   "metadata": {
    "collapsed": false
   },
   "outputs": [],
   "source": [
    "os.chdir(lmp_oligo.dir['home'])\n",
    "lmp_oligo.dump_json()\n",
    "os.chdir(lmp_oligo.dir['launch'])"
   ]
  },
  {
   "cell_type": "code",
   "execution_count": null,
   "metadata": {
    "collapsed": false
   },
   "outputs": [],
   "source": [
    "lmp_oligo.push()"
   ]
  },
  {
   "cell_type": "code",
   "execution_count": null,
   "metadata": {
    "collapsed": false
   },
   "outputs": [],
   "source": [
    "lmp_oligo.run()"
   ]
  },
  {
   "cell_type": "code",
   "execution_count": null,
   "metadata": {
    "collapsed": false
   },
   "outputs": [],
   "source": [
    "lmp_oligo.check()\n",
    "print lmp_oligo.meta['status']"
   ]
  },
  {
   "cell_type": "code",
   "execution_count": null,
   "metadata": {
    "collapsed": false
   },
   "outputs": [],
   "source": [
    "lmp_oligo.analysis()\n",
    "print lmp_oligo.meta['status']"
   ]
  },
  {
   "cell_type": "code",
   "execution_count": null,
   "metadata": {
    "collapsed": false
   },
   "outputs": [],
   "source": [
    "print lmp_oligo.files['output']"
   ]
  },
  {
   "cell_type": "code",
   "execution_count": null,
   "metadata": {
    "collapsed": false
   },
   "outputs": [],
   "source": [
    "os.chdir(lmp_oligo.dir['home'])\n",
    "lmp_oligo.dump_json()\n",
    "os.chdir(lmp_oligo.dir['launch'])"
   ]
  },
  {
   "cell_type": "code",
   "execution_count": null,
   "metadata": {
    "collapsed": true
   },
   "outputs": [],
   "source": [
    "lmp_oligo.meta['status'] = 'finished'"
   ]
  },
  {
   "cell_type": "code",
   "execution_count": null,
   "metadata": {
    "collapsed": false
   },
   "outputs": [],
   "source": [
    "lmp_oligo.store()"
   ]
  },
  {
   "cell_type": "code",
   "execution_count": null,
   "metadata": {
    "collapsed": false
   },
   "outputs": [],
   "source": [
    "print lmp_oligo.files['output']"
   ]
  },
  {
   "cell_type": "code",
   "execution_count": null,
   "metadata": {
    "collapsed": false
   },
   "outputs": [],
   "source": [
    "lmp_oligo.pull()"
   ]
  },
  {
   "cell_type": "code",
   "execution_count": null,
   "metadata": {
    "collapsed": false
   },
   "outputs": [],
   "source": [
    "os.chdir(lmp_oligo.dir['launch'])"
   ]
  },
  {
   "cell_type": "code",
   "execution_count": null,
   "metadata": {
    "collapsed": true
   },
   "outputs": [],
   "source": [
    "lmp_oligo.read_data(lmp_oligo.files['output']['data_3'])"
   ]
  },
  {
   "cell_type": "code",
   "execution_count": null,
   "metadata": {
    "collapsed": false
   },
   "outputs": [],
   "source": [
    "lmp_oligo.strucC.write_cply()"
   ]
  },
  {
   "cell_type": "code",
   "execution_count": null,
   "metadata": {
    "collapsed": true
   },
   "outputs": [],
   "source": [
    "lmp_oligo.strucC.group_prop('mol','mol')"
   ]
  },
  {
   "cell_type": "code",
   "execution_count": null,
   "metadata": {
    "collapsed": true
   },
   "outputs": [],
   "source": [
    "lmp_oligo.strucC.groupsets['mol'].group_pbcs()"
   ]
  },
  {
   "cell_type": "code",
   "execution_count": null,
   "metadata": {
    "collapsed": false
   },
   "outputs": [],
   "source": [
    "print lmp_oligo.strucC.tag "
   ]
  },
  {
   "cell_type": "code",
   "execution_count": null,
   "metadata": {
    "collapsed": true
   },
   "outputs": [],
   "source": [
    "lmp_oligo.strucC.tag = \"%s_nvt\"%(lmp_oligo.strucC.tag )"
   ]
  },
  {
   "cell_type": "code",
   "execution_count": null,
   "metadata": {
    "collapsed": true
   },
   "outputs": [],
   "source": [
    "os.chdir(lmp_oligo.dir['home'])"
   ]
  },
  {
   "cell_type": "code",
   "execution_count": null,
   "metadata": {
    "collapsed": false
   },
   "outputs": [],
   "source": [
    "lmp_oligo.dump_json()"
   ]
  },
  {
   "cell_type": "code",
   "execution_count": null,
   "metadata": {
    "collapsed": true
   },
   "outputs": [],
   "source": [
    "lmp_oligo.strucC.write_xyz()"
   ]
  },
  {
   "cell_type": "code",
   "execution_count": null,
   "metadata": {
    "collapsed": true
   },
   "outputs": [],
   "source": [
    "lmp_oligo.strucC.write_cply()"
   ]
  },
  {
   "cell_type": "code",
   "execution_count": null,
   "metadata": {
    "collapsed": false
   },
   "outputs": [],
   "source": [
    "p3ht_n10_nvt = copy.deepcopy(lmp_oligo.strucC)"
   ]
  },
  {
   "cell_type": "markdown",
   "metadata": {},
   "source": [
    "Replicate the oligomer into large simulation cell"
   ]
  },
  {
   "cell_type": "code",
   "execution_count": null,
   "metadata": {
    "collapsed": true
   },
   "outputs": [],
   "source": [
    "xO = 20"
   ]
  },
  {
   "cell_type": "code",
   "execution_count": null,
   "metadata": {
    "collapsed": false
   },
   "outputs": [],
   "source": [
    "p3ht_n10_esp_x = buildingblock.Container('p3ht_n10_x%d'%(xO))\n",
    "p3ht_n10_esp_x.read_cply()"
   ]
  },
  {
   "cell_type": "code",
   "execution_count": null,
   "metadata": {
    "collapsed": true
   },
   "outputs": [],
   "source": [
    "p3ht_n10_esp_x.lat_cubic(150.0)"
   ]
  },
  {
   "cell_type": "code",
   "execution_count": null,
   "metadata": {
    "collapsed": false
   },
   "outputs": [],
   "source": [
    "print p3ht_n10_esp_x.lat._matrix"
   ]
  },
  {
   "cell_type": "markdown",
   "metadata": {},
   "source": [
    "Set seed "
   ]
  },
  {
   "cell_type": "code",
   "execution_count": null,
   "metadata": {
    "collapsed": true
   },
   "outputs": [],
   "source": [
    "s = 2984927"
   ]
  },
  {
   "cell_type": "code",
   "execution_count": null,
   "metadata": {
    "collapsed": false
   },
   "outputs": [],
   "source": [
    "p3ht_n10_esp_x = p3ht_n10_esp_x.add_struc(p3ht_n10_nvt,xO,s)"
   ]
  },
  {
   "cell_type": "code",
   "execution_count": null,
   "metadata": {
    "collapsed": false
   },
   "outputs": [],
   "source": [
    "p3ht_n10_esp_x.bonded_bonds()\n",
    "p3ht_n10_esp_x.bonded_angles()\n",
    "p3ht_n10_esp_x.bonded_dih()"
   ]
  },
  {
   "cell_type": "code",
   "execution_count": null,
   "metadata": {
    "collapsed": true
   },
   "outputs": [],
   "source": [
    "p3ht_n10_esp_x.tag = 'p3ht_n10_x%d'%(xO)"
   ]
  },
  {
   "cell_type": "code",
   "execution_count": null,
   "metadata": {
    "collapsed": true
   },
   "outputs": [],
   "source": [
    "p3ht_n10_esp_x.write_xyz()"
   ]
  },
  {
   "cell_type": "code",
   "execution_count": null,
   "metadata": {
    "collapsed": true
   },
   "outputs": [],
   "source": [
    "p3ht_n10_esp_x.write_cply()"
   ]
  },
  {
   "cell_type": "code",
   "execution_count": null,
   "metadata": {
    "collapsed": false
   },
   "outputs": [],
   "source": [
    "print p3ht_n10_esp_x.n_bonds,p3ht_n10_esp_x.n_angles,p3ht_n10_esp_x.n_dihedrals"
   ]
  },
  {
   "cell_type": "markdown",
   "metadata": {},
   "source": [
    "Create LAMMPS calculation to equilibrate bulk system"
   ]
  },
  {
   "cell_type": "code",
   "execution_count": 8,
   "metadata": {
    "collapsed": true
   },
   "outputs": [],
   "source": [
    "xO = 20"
   ]
  },
  {
   "cell_type": "code",
   "execution_count": 9,
   "metadata": {
    "collapsed": false
   },
   "outputs": [],
   "source": [
    "lmp_bulk = lammps.LAMMPS('p3ht_n10_esp_x%d'%(xO))"
   ]
  },
  {
   "cell_type": "code",
   "execution_count": 10,
   "metadata": {
    "collapsed": false
   },
   "outputs": [
    {
     "name": "stdout",
     "output_type": "stream",
     "text": [
      "Resource tag found peregrine \n",
      "Reading in resource json file res_peregrine.json \n"
     ]
    }
   ],
   "source": [
    "lmp_bulk.load_json()"
   ]
  },
  {
   "cell_type": "code",
   "execution_count": null,
   "metadata": {
    "collapsed": false
   },
   "outputs": [],
   "source": [
    "lmp_bulk.set_resource(peregrine)"
   ]
  },
  {
   "cell_type": "code",
   "execution_count": null,
   "metadata": {
    "collapsed": true
   },
   "outputs": [],
   "source": [
    "lmp_bulk.properties['scratch'] = lmp_bulk.dir['scratch']"
   ]
  },
  {
   "cell_type": "code",
   "execution_count": null,
   "metadata": {
    "collapsed": false
   },
   "outputs": [],
   "source": [
    "lmp_bulk.make_dir()"
   ]
  },
  {
   "cell_type": "code",
   "execution_count": null,
   "metadata": {
    "collapsed": true
   },
   "outputs": [],
   "source": [
    "lmp_bulk.strucC = buildingblock.Container()"
   ]
  },
  {
   "cell_type": "code",
   "execution_count": null,
   "metadata": {
    "collapsed": true
   },
   "outputs": [],
   "source": [
    "lmp_bulk.add_strucC(p3ht_n10_esp_x)"
   ]
  },
  {
   "cell_type": "code",
   "execution_count": null,
   "metadata": {
    "collapsed": false
   },
   "outputs": [],
   "source": [
    "print lmp_bulk.strucC.n_particles"
   ]
  },
  {
   "cell_type": "code",
   "execution_count": null,
   "metadata": {
    "collapsed": false
   },
   "outputs": [],
   "source": [
    "lmp_bulk.read_param(\"conj.param\")"
   ]
  },
  {
   "cell_type": "code",
   "execution_count": null,
   "metadata": {
    "collapsed": false
   },
   "outputs": [],
   "source": [
    "lmp_bulk.set_ffparam()"
   ]
  },
  {
   "cell_type": "code",
   "execution_count": null,
   "metadata": {
    "collapsed": false
   },
   "outputs": [],
   "source": [
    "file_type = 'templates'\n",
    "file_key = 'in'\n",
    "file_name = \"lammps_nvt.in\"\n",
    "from_dirkey = 'templates'\n",
    "to_dirkey = 'launch'\n",
    "lmp_bulk.cp_file(file_type,file_key,file_name,from_dirkey,to_dirkey)"
   ]
  },
  {
   "cell_type": "code",
   "execution_count": null,
   "metadata": {
    "collapsed": false
   },
   "outputs": [],
   "source": [
    "file_type = 'templates'\n",
    "file_key = 'run'\n",
    "file_name = \"lammps_peregrine.pbs\"\n",
    "from_dirkey = 'templates'\n",
    "to_dirkey = 'launch'\n",
    "lmp_bulk.cp_file(file_type,file_key,file_name,from_dirkey,to_dirkey)"
   ]
  },
  {
   "cell_type": "code",
   "execution_count": null,
   "metadata": {
    "collapsed": false
   },
   "outputs": [],
   "source": [
    "print lmp_bulk.dir['launch']"
   ]
  },
  {
   "cell_type": "code",
   "execution_count": null,
   "metadata": {
    "collapsed": false
   },
   "outputs": [],
   "source": [
    "os.chdir(lmp_bulk.dir['launch'])"
   ]
  },
  {
   "cell_type": "code",
   "execution_count": null,
   "metadata": {
    "collapsed": true
   },
   "outputs": [],
   "source": [
    "lmp_bulk.load_str('templates','run')"
   ]
  },
  {
   "cell_type": "code",
   "execution_count": null,
   "metadata": {
    "collapsed": true
   },
   "outputs": [],
   "source": [
    "lmp_bulk.load_str('templates','in')"
   ]
  },
  {
   "cell_type": "code",
   "execution_count": null,
   "metadata": {
    "collapsed": true
   },
   "outputs": [],
   "source": [
    "lmp_bulk.write_data()"
   ]
  },
  {
   "cell_type": "code",
   "execution_count": null,
   "metadata": {
    "collapsed": false
   },
   "outputs": [],
   "source": [
    "lmp_bulk.replacewrite_prop('in','input','in','%s.in'%(lmp_bulk.tag))"
   ]
  },
  {
   "cell_type": "code",
   "execution_count": null,
   "metadata": {
    "collapsed": true
   },
   "outputs": [],
   "source": [
    "lmp_bulk.properties['input_in'] = lmp_bulk.files['input']['in']"
   ]
  },
  {
   "cell_type": "code",
   "execution_count": null,
   "metadata": {
    "collapsed": false
   },
   "outputs": [],
   "source": [
    "lmp_bulk.replacewrite_prop('run','scripts','run','%s.sh'%(lmp_bulk.tag))"
   ]
  },
  {
   "cell_type": "code",
   "execution_count": null,
   "metadata": {
    "collapsed": false
   },
   "outputs": [],
   "source": [
    "file_type = 'output'\n",
    "file_key = 'log'\n",
    "file_name = \"%s.log\"%(lmp_bulk.tag)\n",
    "lmp_bulk.add_file(file_type,file_key,file_name)"
   ]
  },
  {
   "cell_type": "code",
   "execution_count": null,
   "metadata": {
    "collapsed": false
   },
   "outputs": [],
   "source": [
    "os.chdir(lmp_bulk.dir['home'])\n",
    "lmp_bulk.dump_json()\n",
    "os.chdir(lmp_bulk.dir['launch'])"
   ]
  },
  {
   "cell_type": "code",
   "execution_count": null,
   "metadata": {
    "collapsed": false
   },
   "outputs": [],
   "source": [
    "lmp_bulk.push()"
   ]
  },
  {
   "cell_type": "code",
   "execution_count": null,
   "metadata": {
    "collapsed": false
   },
   "outputs": [],
   "source": [
    "lmp_bulk.run()"
   ]
  },
  {
   "cell_type": "code",
   "execution_count": null,
   "metadata": {
    "collapsed": false
   },
   "outputs": [],
   "source": [
    "lmp_bulk.check()\n",
    "print lmp_bulk.meta['status']"
   ]
  },
  {
   "cell_type": "code",
   "execution_count": null,
   "metadata": {
    "collapsed": true
   },
   "outputs": [],
   "source": [
    "lmp_bulk.analysis()\n",
    "print lmp_bulk.meta['status']"
   ]
  },
  {
   "cell_type": "code",
   "execution_count": null,
   "metadata": {
    "collapsed": false
   },
   "outputs": [],
   "source": [
    "print lmp_bulk.files['output']"
   ]
  },
  {
   "cell_type": "code",
   "execution_count": null,
   "metadata": {
    "collapsed": false
   },
   "outputs": [],
   "source": [
    "print lmp_bulk.dir"
   ]
  },
  {
   "cell_type": "code",
   "execution_count": null,
   "metadata": {
    "collapsed": true
   },
   "outputs": [],
   "source": [
    "os.chdir(lmp_bulk.dir['home'])\n",
    "lmp_bulk.dump_json()\n",
    "os.chdir(lmp_bulk.dir['launch'])"
   ]
  },
  {
   "cell_type": "code",
   "execution_count": null,
   "metadata": {
    "collapsed": true
   },
   "outputs": [],
   "source": [
    "lmp_bulk.meta['status'] = 'finished'"
   ]
  },
  {
   "cell_type": "code",
   "execution_count": null,
   "metadata": {
    "collapsed": false
   },
   "outputs": [],
   "source": [
    "lmp_bulk.store()"
   ]
  },
  {
   "cell_type": "code",
   "execution_count": null,
   "metadata": {
    "collapsed": false
   },
   "outputs": [],
   "source": [
    "lmp_bulk.pull()"
   ]
  },
  {
   "cell_type": "code",
   "execution_count": null,
   "metadata": {
    "collapsed": false
   },
   "outputs": [],
   "source": [
    "os.chdir(lmp_bulk.dir['launch'])"
   ]
  },
  {
   "cell_type": "code",
   "execution_count": null,
   "metadata": {
    "collapsed": false
   },
   "outputs": [],
   "source": [
    "lmp_bulk.read_data_pos(lmp_bulk.files['output']['data_3'])"
   ]
  },
  {
   "cell_type": "code",
   "execution_count": null,
   "metadata": {
    "collapsed": true
   },
   "outputs": [],
   "source": [
    "pos_nvt = copy.deepcopy(lmp_bulk.strucC.positions)"
   ]
  },
  {
   "cell_type": "code",
   "execution_count": null,
   "metadata": {
    "collapsed": false
   },
   "outputs": [],
   "source": [
    "lmp_bulk.strucC.write_cply()"
   ]
  },
  {
   "cell_type": "code",
   "execution_count": null,
   "metadata": {
    "collapsed": false
   },
   "outputs": [],
   "source": [
    "lmp_bulk.strucC.write_xyz()"
   ]
  },
  {
   "cell_type": "code",
   "execution_count": null,
   "metadata": {
    "collapsed": true
   },
   "outputs": [],
   "source": [
    "lmp_bulk.strucC.group_prop('mol','mol')"
   ]
  },
  {
   "cell_type": "code",
   "execution_count": null,
   "metadata": {
    "collapsed": true
   },
   "outputs": [],
   "source": [
    "lmp_bulk.strucC.groupsets['mol'].group_pbcs()"
   ]
  },
  {
   "cell_type": "code",
   "execution_count": null,
   "metadata": {
    "collapsed": false
   },
   "outputs": [],
   "source": [
    "print lmp_bulk.tag "
   ]
  },
  {
   "cell_type": "code",
   "execution_count": null,
   "metadata": {
    "collapsed": true
   },
   "outputs": [],
   "source": [
    "lmp_bulk.strucC.tag = \"%s_nvt\"%(lmp_bulk.strucC.tag )"
   ]
  },
  {
   "cell_type": "markdown",
   "metadata": {},
   "source": [
    "Write new data file and copy it to scratch to be stored with output, \n",
    "since LAMMPS does not print dihedral angles for opls style "
   ]
  },
  {
   "cell_type": "code",
   "execution_count": null,
   "metadata": {
    "collapsed": true
   },
   "outputs": [],
   "source": [
    "data_file = '%s.data'%(lmp_bulk.tag)"
   ]
  },
  {
   "cell_type": "code",
   "execution_count": null,
   "metadata": {
    "collapsed": true
   },
   "outputs": [],
   "source": [
    "lmp_bulk.write_data(data_file)"
   ]
  },
  {
   "cell_type": "code",
   "execution_count": null,
   "metadata": {
    "collapsed": true
   },
   "outputs": [],
   "source": [
    "lmp_bulk.add_file('output','data_4',data_file)"
   ]
  },
  {
   "cell_type": "code",
   "execution_count": null,
   "metadata": {
    "collapsed": false
   },
   "outputs": [],
   "source": [
    "ssh_id = \"%s@%s\"%(lmp_bulk.resource.ssh['username'],lmp_bulk.resource.ssh['address'])\n",
    "from_pathfile = os.path.join(lmp_bulk.dir['launch'],data_file)\n",
    "bash_command = \"scp %s %s:%s\"%(from_pathfile,ssh_id,lmp_bulk.dir['scratch'])\n",
    "print bash_command\n",
    "os.system(bash_command)"
   ]
  },
  {
   "cell_type": "code",
   "execution_count": null,
   "metadata": {
    "collapsed": false
   },
   "outputs": [],
   "source": [
    "lmp_bulk.meta['status'] = 'finished'\n",
    "print lmp_bulk.meta['status']"
   ]
  },
  {
   "cell_type": "code",
   "execution_count": null,
   "metadata": {
    "collapsed": false
   },
   "outputs": [],
   "source": [
    "lmp_bulk.store()"
   ]
  },
  {
   "cell_type": "code",
   "execution_count": null,
   "metadata": {
    "collapsed": false
   },
   "outputs": [],
   "source": [
    "os.chdir(lmp_bulk.dir['home'])"
   ]
  },
  {
   "cell_type": "code",
   "execution_count": null,
   "metadata": {
    "collapsed": false
   },
   "outputs": [],
   "source": [
    "lmp_bulk.dump_json()"
   ]
  },
  {
   "cell_type": "code",
   "execution_count": null,
   "metadata": {
    "collapsed": true
   },
   "outputs": [],
   "source": [
    "lmp_bulk.strucC.write_xyz()"
   ]
  },
  {
   "cell_type": "code",
   "execution_count": null,
   "metadata": {
    "collapsed": true
   },
   "outputs": [],
   "source": [
    "lmp_bulk.strucC.write_cply()"
   ]
  },
  {
   "cell_type": "code",
   "execution_count": null,
   "metadata": {
    "collapsed": true
   },
   "outputs": [],
   "source": [
    "lmp_bulk.write_data()"
   ]
  },
  {
   "cell_type": "code",
   "execution_count": null,
   "metadata": {
    "collapsed": false
   },
   "outputs": [],
   "source": [
    "print lmp_bulk.tag"
   ]
  },
  {
   "cell_type": "markdown",
   "metadata": {},
   "source": [
    "Run Equilibration "
   ]
  },
  {
   "cell_type": "code",
   "execution_count": 13,
   "metadata": {
    "collapsed": false
   },
   "outputs": [],
   "source": [
    "lmp_equ = lammps.LAMMPS('p3ht_n10_x20_equ')"
   ]
  },
  {
   "cell_type": "code",
   "execution_count": 14,
   "metadata": {
    "collapsed": false
   },
   "outputs": [
    {
     "name": "stdout",
     "output_type": "stream",
     "text": [
      "Resource tag found peregrine \n",
      "Reading in resource json file res_peregrine.json \n",
      "No references found \n"
     ]
    }
   ],
   "source": [
    "lmp_equ.load_json()"
   ]
  },
  {
   "cell_type": "code",
   "execution_count": 33,
   "metadata": {
    "collapsed": false
   },
   "outputs": [],
   "source": [
    "lmp_equ.set_resource(peregrine)"
   ]
  },
  {
   "cell_type": "code",
   "execution_count": 34,
   "metadata": {
    "collapsed": true
   },
   "outputs": [],
   "source": [
    "lmp_equ.properties['scratch'] = lmp_equ.dir['scratch']"
   ]
  },
  {
   "cell_type": "code",
   "execution_count": 35,
   "metadata": {
    "collapsed": false
   },
   "outputs": [],
   "source": [
    "lmp_equ.make_dir()"
   ]
  },
  {
   "cell_type": "code",
   "execution_count": 36,
   "metadata": {
    "collapsed": true
   },
   "outputs": [],
   "source": [
    "lmp_equ.add_refcalc(lmp_bulk)"
   ]
  },
  {
   "cell_type": "code",
   "execution_count": 37,
   "metadata": {
    "collapsed": false
   },
   "outputs": [
    {
     "name": "stdout",
     "output_type": "stream",
     "text": [
      "{u'uncompress': u'tar -xzf ', u'scratch': u'/scratch/tkemper/p3ht_n10_x20_equ/', u'compress': u'tar -czf ', u'ppn': 24, u'finish_str': u'Loop time of', u'allocation': u'orgopv', u'run_list': u'', u'nproc': 96, u'input_in': u'p3ht_n10_x20_equ.in', u'walltime': 4, u'compress_sufix': u'tgz', u'data_file': u'p3ht_n10_esp_x20.data', u'feature': u'24core', u'queue': u'short', u'e-mail': u'travis.kemper@nrel.gov', u'exe_command': u'qsub ', u'nodes': 4, u'pmem': 1500, u'comp_key': u'compressed'}\n"
     ]
    }
   ],
   "source": [
    "lmp_equ.properties['nodes'] = 4\n",
    "lmp_equ.properties['nproc'] = lmp_equ.properties['nodes']*lmp_equ.properties['ppn']\n",
    "print lmp_equ.properties"
   ]
  },
  {
   "cell_type": "code",
   "execution_count": 38,
   "metadata": {
    "collapsed": false
   },
   "outputs": [
    {
     "name": "stdout",
     "output_type": "stream",
     "text": [
      "p3ht_n10_esp_x20.data\n"
     ]
    }
   ],
   "source": [
    "lmp_equ.files['input']['data_file'] = lmp_bulk.files['output']['data_4']\n",
    "print lmp_equ.files['input']['data_file']"
   ]
  },
  {
   "cell_type": "code",
   "execution_count": 39,
   "metadata": {
    "collapsed": true
   },
   "outputs": [],
   "source": [
    "lmp_equ.properties['data_file']  = lmp_equ.files['input']['data_file'] "
   ]
  },
  {
   "cell_type": "code",
   "execution_count": 40,
   "metadata": {
    "collapsed": false
   },
   "outputs": [
    {
     "name": "stdout",
     "output_type": "stream",
     "text": [
      "> in cp_file  templates in lammps_equ1.in templates launch\n",
      "copying /Users/tkemper/Development/streamm_ext/streamm-tools/templates/lammps_equ1.in to /Users/tkemper/Development/streamm_ext/streamm-tools/examples/scratch/p3ht_n10_x20_equ/lammps_equ1.in \n"
     ]
    }
   ],
   "source": [
    "file_type = 'templates'\n",
    "file_key = 'in'\n",
    "file_name = \"lammps_equ1.in\"\n",
    "from_dirkey = 'templates'\n",
    "to_dirkey = 'launch'\n",
    "lmp_equ.cp_file(file_type,file_key,file_name,from_dirkey,to_dirkey)"
   ]
  },
  {
   "cell_type": "code",
   "execution_count": 41,
   "metadata": {
    "collapsed": false
   },
   "outputs": [
    {
     "name": "stdout",
     "output_type": "stream",
     "text": [
      "> in cp_file  templates run lammps_peregrine.pbs templates launch\n",
      "copying /Users/tkemper/Development/streamm_ext/streamm-tools/templates/lammps_peregrine.pbs to /Users/tkemper/Development/streamm_ext/streamm-tools/examples/scratch/p3ht_n10_x20_equ/lammps_peregrine.pbs \n"
     ]
    }
   ],
   "source": [
    "file_type = 'templates'\n",
    "file_key = 'run'\n",
    "file_name = \"lammps_peregrine.pbs\"\n",
    "from_dirkey = 'templates'\n",
    "to_dirkey = 'launch'\n",
    "lmp_equ.cp_file(file_type,file_key,file_name,from_dirkey,to_dirkey)"
   ]
  },
  {
   "cell_type": "code",
   "execution_count": 42,
   "metadata": {
    "collapsed": false
   },
   "outputs": [
    {
     "name": "stdout",
     "output_type": "stream",
     "text": [
      "/Users/tkemper/Development/streamm_ext/streamm-tools/examples/scratch/p3ht_n10_x20_equ/\n"
     ]
    }
   ],
   "source": [
    "print lmp_equ.dir['launch']"
   ]
  },
  {
   "cell_type": "code",
   "execution_count": 43,
   "metadata": {
    "collapsed": false
   },
   "outputs": [],
   "source": [
    "os.chdir(lmp_equ.dir['launch'])"
   ]
  },
  {
   "cell_type": "code",
   "execution_count": 44,
   "metadata": {
    "collapsed": false
   },
   "outputs": [],
   "source": [
    "lmp_equ.load_str('templates','run')"
   ]
  },
  {
   "cell_type": "code",
   "execution_count": 45,
   "metadata": {
    "collapsed": false
   },
   "outputs": [],
   "source": [
    "lmp_equ.load_str('templates','in')"
   ]
  },
  {
   "cell_type": "code",
   "execution_count": 46,
   "metadata": {
    "collapsed": false
   },
   "outputs": [],
   "source": [
    "lmp_equ.replacewrite_prop('in','input','in','%s.in'%(lmp_equ.tag))"
   ]
  },
  {
   "cell_type": "code",
   "execution_count": 47,
   "metadata": {
    "collapsed": false
   },
   "outputs": [],
   "source": [
    "lmp_equ.properties['input_in'] = lmp_equ.files['input']['in']"
   ]
  },
  {
   "cell_type": "code",
   "execution_count": 48,
   "metadata": {
    "collapsed": false
   },
   "outputs": [],
   "source": [
    "lmp_equ.replacewrite_prop('run','scripts','run','%s.pbs'%(lmp_equ.tag))"
   ]
  },
  {
   "cell_type": "code",
   "execution_count": 49,
   "metadata": {
    "collapsed": false
   },
   "outputs": [],
   "source": [
    "file_type = 'output'\n",
    "file_key = 'log'\n",
    "file_name = \"%s.log\"%(lmp_equ.tag)\n",
    "lmp_equ.add_file(file_type,file_key,file_name)"
   ]
  },
  {
   "cell_type": "code",
   "execution_count": 50,
   "metadata": {
    "collapsed": false
   },
   "outputs": [
    {
     "name": "stdout",
     "output_type": "stream",
     "text": [
      "{'files': {u'templates': {u'run': u'lammps_peregrine.pbs', u'in': u'lammps_equ1.in'}, u'input': {u'data_file': u'p3ht_n10_esp_x20.data', u'in': u'p3ht_n10_x20_equ.in'}, u'scripts': {u'run': u'p3ht_n10_x20_equ.pbs'}, u'data': {}, u'output': {u'log': u'p3ht_n10_x20_equ.log'}}, 'meta': {u'date': u'2016-11-08T11:43:25.026199', u'status': u'written', u'resource': 'peregrine', u'software': u'lammps'}, 'references': {'p3ht_n10_esp_x20': 'p3ht_n10_esp_x20'}, 'units': {u'distance': u'angstroms', u'energy': u'kcal/mol', u'angle': u'radians', u'time': u'ns'}, 'data': {}, 'properties': {u'uncompress': u'tar -xzf ', u'scratch': u'/scratch/tkemper/p3ht_n10_x20_equ/', u'compress': u'tar -czf ', u'ppn': 24, u'finish_str': u'Loop time of', u'allocation': u'orgopv', u'run_list': '', u'nproc': 96, u'input_in': u'p3ht_n10_x20_equ.in', u'walltime': 4, u'compress_sufix': u'tgz', u'data_file': u'p3ht_n10_esp_x20.data', u'feature': u'24core', u'queue': u'short', u'e-mail': u'travis.kemper@nrel.gov', u'exe_command': u'qsub ', u'nodes': 4, u'pmem': 1500, u'comp_key': u'compressed'}, 'dir': {u'templates': u'/Users/tkemper/Development/streamm_ext/streamm-tools/templates', u'launch': u'/Users/tkemper/Development/streamm_ext/streamm-tools/examples/scratch/p3ht_n10_x20_equ/', u'scratch': u'/scratch/tkemper/p3ht_n10_x20_equ/', u'storage': u'/mss/users/tkemper/p3ht_n10_x20_equ/', u'materials': u'/Users/tkemper/Development/streamm_ext/streamm-tools/examples/materials', u'scripts': u'/Users/tkemper/Development/streamm_ext/streamm-tools/examples/scripts', u'home': u'/Users/tkemper/Development/streamm_ext/streamm-tools/examples'}}\n"
     ]
    }
   ],
   "source": [
    "os.chdir(lmp_equ.dir['home'])\n",
    "lmp_equ.dump_json()\n",
    "os.chdir(lmp_equ.dir['launch'])"
   ]
  },
  {
   "cell_type": "code",
   "execution_count": 51,
   "metadata": {
    "collapsed": true
   },
   "outputs": [],
   "source": [
    "ref_calc = lmp_equ.references['p3ht_n10_esp_x20']"
   ]
  },
  {
   "cell_type": "code",
   "execution_count": 52,
   "metadata": {
    "collapsed": false
   },
   "outputs": [
    {
     "name": "stdout",
     "output_type": "stream",
     "text": [
      "{u'templates': {u'run': u'lammps_peregrine.pbs', u'in': u'lammps_nvt.in'}, u'input': {u'data_file': u'p3ht_n10_esp_x20.data', u'compressed': u'p3ht_n10_esp_x20_input.tgz', u'in': u'p3ht_n10_esp_x20.in'}, u'scripts': {u'run': u'p3ht_n10_esp_x20.sh', u'compressed': u'p3ht_n10_esp_x20_scripts.tgz'}, u'data': {}, u'output': {u'log': u'p3ht_n10_esp_x20.log', u'data_3': u'min2.data', u'data_2': u'nvt1.data', u'data_1': u'min1.data', u'compressed': u'p3ht_n10_esp_x20_output.tgz', u'data_4': u'p3ht_n10_esp_x20.data', u'dcd_1': u'nvt1_dump.dcd'}}\n"
     ]
    }
   ],
   "source": [
    "print ref_calc.files"
   ]
  },
  {
   "cell_type": "code",
   "execution_count": 53,
   "metadata": {
    "collapsed": false
   },
   "outputs": [
    {
     "name": "stdout",
     "output_type": "stream",
     "text": [
      " Resource type ssh \n",
      "runnning push function in /Users/tkemper/Development/streamm_ext/streamm-tools/examples/scratch/p3ht_n10_x20_equ \n",
      "Compressing and copying input files to scratch directory \n",
      " file_i  p3ht_n10_esp_x20.data\n",
      " file_i  p3ht_n10_x20_equ.in\n",
      "> compressed_file  p3ht_n10_x20_equ_input.tgz\n",
      "Compressing and copying templates files to scratch directory \n",
      " file_i  lammps_peregrine.pbs\n",
      " file_i  lammps_equ1.in\n",
      "> compressed_file  p3ht_n10_x20_equ_templates.tgz\n",
      "Compressing and copying scripts files to scratch directory \n",
      " file_i  p3ht_n10_x20_equ.pbs\n",
      "> compressed_file  p3ht_n10_x20_equ_scripts.tgz\n",
      "Copying output of reference calculations p3ht_n10_esp_x20\n"
     ]
    }
   ],
   "source": [
    "lmp_equ.push()"
   ]
  },
  {
   "cell_type": "code",
   "execution_count": 54,
   "metadata": {
    "collapsed": false
   },
   "outputs": [
    {
     "name": "stdout",
     "output_type": "stream",
     "text": [
      "Calculation with status written \n",
      "Resource type ssh \n",
      "Executing run command ssh tkemper@peregrine.hpc.nrel.gov ' cd /scratch/tkemper/p3ht_n10_x20_equ/ ; qsub p3ht_n10_x20_equ.pbs '  \n"
     ]
    }
   ],
   "source": [
    "lmp_equ.run()"
   ]
  },
  {
   "cell_type": "code",
   "execution_count": null,
   "metadata": {
    "collapsed": false
   },
   "outputs": [],
   "source": [
    "lmp_equ.check()\n",
    "print lmp_equ.meta['status']"
   ]
  },
  {
   "cell_type": "code",
   "execution_count": null,
   "metadata": {
    "collapsed": true
   },
   "outputs": [],
   "source": [
    "lmp_bulk.analysis()\n",
    "print lmp_bulk.meta['status']"
   ]
  },
  {
   "cell_type": "code",
   "execution_count": null,
   "metadata": {
    "collapsed": false
   },
   "outputs": [],
   "source": [
    "print lmp_bulk.files['output']"
   ]
  },
  {
   "cell_type": "code",
   "execution_count": null,
   "metadata": {
    "collapsed": true
   },
   "outputs": [],
   "source": [
    "os.chdir(lmp_bulk.dir['home'])\n",
    "lmp_bulk.dump_json()\n",
    "os.chdir(lmp_bulk.dir['launch'])"
   ]
  },
  {
   "cell_type": "code",
   "execution_count": null,
   "metadata": {
    "collapsed": true
   },
   "outputs": [],
   "source": [
    "lmp_bulk.meta['status'] = 'finished'"
   ]
  },
  {
   "cell_type": "code",
   "execution_count": null,
   "metadata": {
    "collapsed": false
   },
   "outputs": [],
   "source": [
    "lmp_bulk.store()"
   ]
  },
  {
   "cell_type": "code",
   "execution_count": null,
   "metadata": {
    "collapsed": false
   },
   "outputs": [],
   "source": [
    "lmp_bulk.pull()"
   ]
  },
  {
   "cell_type": "code",
   "execution_count": null,
   "metadata": {
    "collapsed": false
   },
   "outputs": [],
   "source": [
    "os.chdir(lmp_bulk.dir['launch'])"
   ]
  },
  {
   "cell_type": "code",
   "execution_count": null,
   "metadata": {
    "collapsed": true
   },
   "outputs": [],
   "source": [
    "lmp_bulk.read_data(lmp_bulk.files['output']['data_3'])"
   ]
  },
  {
   "cell_type": "code",
   "execution_count": null,
   "metadata": {
    "collapsed": false
   },
   "outputs": [],
   "source": [
    "lmp_bulk.strucC.write_cply()"
   ]
  },
  {
   "cell_type": "code",
   "execution_count": null,
   "metadata": {
    "collapsed": false
   },
   "outputs": [],
   "source": [
    "lmp_bulk.strucC.write_xyz()"
   ]
  },
  {
   "cell_type": "code",
   "execution_count": null,
   "metadata": {
    "collapsed": true
   },
   "outputs": [],
   "source": [
    "lmp_bulk.strucC.group_prop('mol','mol')"
   ]
  },
  {
   "cell_type": "code",
   "execution_count": null,
   "metadata": {
    "collapsed": true
   },
   "outputs": [],
   "source": [
    "lmp_bulk.strucC.groupsets['mol'].group_pbcs()"
   ]
  },
  {
   "cell_type": "code",
   "execution_count": null,
   "metadata": {
    "collapsed": false
   },
   "outputs": [],
   "source": [
    "print lmp_bulk.strucC.tag "
   ]
  },
  {
   "cell_type": "code",
   "execution_count": null,
   "metadata": {
    "collapsed": true
   },
   "outputs": [],
   "source": [
    "lmp_bulk.strucC.tag = \"%s_nvt\"%(lmp_bulk.strucC.tag )"
   ]
  },
  {
   "cell_type": "code",
   "execution_count": null,
   "metadata": {
    "collapsed": true
   },
   "outputs": [],
   "source": [
    "os.chdir(lmp_bulk.dir['home'])"
   ]
  },
  {
   "cell_type": "code",
   "execution_count": null,
   "metadata": {
    "collapsed": false
   },
   "outputs": [],
   "source": [
    "lmp_equ.dump_json()"
   ]
  },
  {
   "cell_type": "code",
   "execution_count": null,
   "metadata": {
    "collapsed": true
   },
   "outputs": [],
   "source": [
    "lmp_bulk.strucC.write_xyz()"
   ]
  },
  {
   "cell_type": "code",
   "execution_count": null,
   "metadata": {
    "collapsed": true
   },
   "outputs": [],
   "source": [
    "lmp_bulk.strucC.write_cply()"
   ]
  },
  {
   "cell_type": "markdown",
   "metadata": {},
   "source": [
    "Analyize bulk properties with streamm"
   ]
  },
  {
   "cell_type": "code",
   "execution_count": 11,
   "metadata": {
    "collapsed": true
   },
   "outputs": [],
   "source": [
    "import pandas as pd"
   ]
  },
  {
   "cell_type": "code",
   "execution_count": 15,
   "metadata": {
    "collapsed": false
   },
   "outputs": [
    {
     "name": "stdout",
     "output_type": "stream",
     "text": [
      "p3ht_n10_x20_equ\n"
     ]
    }
   ],
   "source": [
    "print lmp_equ.tag"
   ]
  },
  {
   "cell_type": "code",
   "execution_count": 56,
   "metadata": {
    "collapsed": false
   },
   "outputs": [
    {
     "data": {
      "text/plain": [
       "'/Users/tkemper/Development/streamm_ext/streamm-tools/examples/scratch/p3ht_n10_x20_equ_rdf1'"
      ]
     },
     "execution_count": 56,
     "metadata": {},
     "output_type": "execute_result"
    }
   ],
   "source": [
    "os.getcwd()"
   ]
  },
  {
   "cell_type": "code",
   "execution_count": 17,
   "metadata": {
    "collapsed": true
   },
   "outputs": [],
   "source": [
    "equ_rdf = calculation.CalculationRes('%s_rdf1'%(lmp_equ.tag))"
   ]
  },
  {
   "cell_type": "code",
   "execution_count": 18,
   "metadata": {
    "collapsed": true
   },
   "outputs": [],
   "source": [
    "equ_rdf.set_resource(peregrine)"
   ]
  },
  {
   "cell_type": "code",
   "execution_count": 19,
   "metadata": {
    "collapsed": true
   },
   "outputs": [],
   "source": [
    "equ_rdf.properties['scratch'] = equ_rdf.dir['scratch']"
   ]
  },
  {
   "cell_type": "code",
   "execution_count": 20,
   "metadata": {
    "collapsed": false
   },
   "outputs": [],
   "source": [
    "equ_rdf.add_refcalc(lmp_bulk)"
   ]
  },
  {
   "cell_type": "code",
   "execution_count": 100,
   "metadata": {
    "collapsed": false
   },
   "outputs": [
    {
     "name": "stdout",
     "output_type": "stream",
     "text": [
      "{u'log': u'p3ht_n10_esp_x20.log', u'data_3': u'min2.data', u'data_2': u'nvt1.data', u'data_1': u'min1.data', u'compressed': u'p3ht_n10_esp_x20_output.tgz', u'data_4': u'p3ht_n10_esp_x20.data', u'dcd_1': u'nvt1_dump.dcd'}\n"
     ]
    }
   ],
   "source": [
    "print lmp_bulk.files['output']['dcd_1']"
   ]
  },
  {
   "cell_type": "code",
   "execution_count": 21,
   "metadata": {
    "collapsed": false
   },
   "outputs": [],
   "source": [
    "equ_rdf.make_dir()"
   ]
  },
  {
   "cell_type": "code",
   "execution_count": 55,
   "metadata": {
    "collapsed": true
   },
   "outputs": [],
   "source": [
    "os.chdir(equ_rdf.dir['launch'])"
   ]
  },
  {
   "cell_type": "code",
   "execution_count": 23,
   "metadata": {
    "collapsed": false
   },
   "outputs": [
    {
     "name": "stdout",
     "output_type": "stream",
     "text": [
      "> in cp_file  input cply p3ht_n10_x20_nvt.cply home launch\n",
      "copying /Users/tkemper/Development/streamm_ext/streamm-tools/examples/p3ht_n10_x20_nvt.cply to /Users/tkemper/Development/streamm_ext/streamm-tools/examples/scratch/p3ht_n10_x20_equ_rdf1/p3ht_n10_x20_nvt.cply \n"
     ]
    }
   ],
   "source": [
    "file_type = 'input'\n",
    "file_key = 'cply'\n",
    "file_name = \"p3ht_n10_x20_nvt.cply\"\n",
    "from_dirkey = 'home'\n",
    "to_dirkey = 'launch'\n",
    "equ_rdf.cp_file(file_type,file_key,file_name,from_dirkey,to_dirkey)"
   ]
  },
  {
   "cell_type": "code",
   "execution_count": 24,
   "metadata": {
    "collapsed": true
   },
   "outputs": [],
   "source": [
    "p3ht_n10_x20_nvt = buildingblock.Container('p3ht_n10_x20_nvt')"
   ]
  },
  {
   "cell_type": "code",
   "execution_count": 25,
   "metadata": {
    "collapsed": true
   },
   "outputs": [],
   "source": [
    "p3ht_n10_x20_nvt.read_cply()"
   ]
  },
  {
   "cell_type": "code",
   "execution_count": 26,
   "metadata": {
    "collapsed": true
   },
   "outputs": [],
   "source": [
    "p3ht_n10_x20_nvt.group_prop('residue','residue')"
   ]
  },
  {
   "cell_type": "code",
   "execution_count": null,
   "metadata": {
    "collapsed": true
   },
   "outputs": [],
   "source": []
  },
  {
   "cell_type": "code",
   "execution_count": 28,
   "metadata": {
    "collapsed": false
   },
   "outputs": [],
   "source": [
    "gromacs_i  = gromacs.GROMACS(p3ht_n10_x20_nvt.tag)"
   ]
  },
  {
   "cell_type": "code",
   "execution_count": 29,
   "metadata": {
    "collapsed": true
   },
   "outputs": [],
   "source": [
    "gromacs_i.add_strucC(p3ht_n10_x20_nvt)"
   ]
  },
  {
   "cell_type": "code",
   "execution_count": 32,
   "metadata": {
    "collapsed": true
   },
   "outputs": [],
   "source": [
    "gromacs_i.write_gro()"
   ]
  },
  {
   "cell_type": "code",
   "execution_count": null,
   "metadata": {
    "collapsed": true
   },
   "outputs": [],
   "source": []
  },
  {
   "cell_type": "markdown",
   "metadata": {},
   "source": [
    "Create pandas data frame of particle properties "
   ]
  },
  {
   "cell_type": "code",
   "execution_count": 61,
   "metadata": {
    "collapsed": true
   },
   "outputs": [],
   "source": [
    "p3ht_n10_x20_nvt.propcompile_particles()"
   ]
  },
  {
   "cell_type": "code",
   "execution_count": 62,
   "metadata": {
    "collapsed": true
   },
   "outputs": [],
   "source": [
    "part_df =  pd.DataFrame(p3ht_n10_x20_nvt.prop_particles)"
   ]
  },
  {
   "cell_type": "code",
   "execution_count": 63,
   "metadata": {
    "collapsed": true
   },
   "outputs": [],
   "source": [
    "syCA = part_df['fftype'] == 'CA'\n",
    "syS = part_df['fftype'] == 'S'"
   ]
  },
  {
   "cell_type": "code",
   "execution_count": 64,
   "metadata": {
    "collapsed": true
   },
   "outputs": [],
   "source": [
    "sub_i = part_df[ syCA | syS ]"
   ]
  },
  {
   "cell_type": "code",
   "execution_count": 65,
   "metadata": {
    "collapsed": true
   },
   "outputs": [],
   "source": [
    "struc_i = p3ht_n10_x20_nvt.getSubStructure(sub_i.index,'sel_SCA') "
   ]
  },
  {
   "cell_type": "code",
   "execution_count": 66,
   "metadata": {
    "collapsed": true
   },
   "outputs": [],
   "source": [
    "struc_i.write_xyz()"
   ]
  },
  {
   "cell_type": "code",
   "execution_count": 67,
   "metadata": {
    "collapsed": true
   },
   "outputs": [],
   "source": [
    "syCT = part_df['fftype'] == 'CT'"
   ]
  },
  {
   "cell_type": "code",
   "execution_count": 68,
   "metadata": {
    "collapsed": true
   },
   "outputs": [],
   "source": [
    "sub_j = part_df[ syCT ]"
   ]
  },
  {
   "cell_type": "code",
   "execution_count": 69,
   "metadata": {
    "collapsed": true
   },
   "outputs": [],
   "source": [
    "struc_j = p3ht_n10_x20_nvt.getSubStructure(sub_j.index,'sel_CT') "
   ]
  },
  {
   "cell_type": "code",
   "execution_count": 70,
   "metadata": {
    "collapsed": true
   },
   "outputs": [],
   "source": [
    "struc_j.write_xyz()"
   ]
  },
  {
   "cell_type": "markdown",
   "metadata": {},
   "source": [
    "Check that selections are what you expect and save lists "
   ]
  },
  {
   "cell_type": "code",
   "execution_count": 71,
   "metadata": {
    "collapsed": false
   },
   "outputs": [],
   "source": [
    "list_i = [str(pkey) for pkey in sub_i.index]"
   ]
  },
  {
   "cell_type": "code",
   "execution_count": 81,
   "metadata": {
    "collapsed": true
   },
   "outputs": [],
   "source": [
    "outfile = open('list_i','wb')\n",
    "outfile.write(\"\\n\".join(list_i))\n",
    "outfile.close()"
   ]
  },
  {
   "cell_type": "code",
   "execution_count": 73,
   "metadata": {
    "collapsed": true
   },
   "outputs": [],
   "source": [
    "equ_rdf.add_file('input','list_i','list_i')"
   ]
  },
  {
   "cell_type": "code",
   "execution_count": 74,
   "metadata": {
    "collapsed": false
   },
   "outputs": [],
   "source": [
    "list_j = [str(pkey) for pkey in sub_j.index]"
   ]
  },
  {
   "cell_type": "code",
   "execution_count": null,
   "metadata": {
    "collapsed": true
   },
   "outputs": [],
   "source": [
    "outfile = open('list_j','wb')\n",
    "outfile.write(\"\\n\".join(list_j))\n",
    "outfile.close()"
   ]
  },
  {
   "cell_type": "code",
   "execution_count": null,
   "metadata": {
    "collapsed": true
   },
   "outputs": [],
   "source": [
    "equ_rdf.add_file('input','list_j','list_j')"
   ]
  },
  {
   "cell_type": "code",
   "execution_count": 92,
   "metadata": {
    "collapsed": false
   },
   "outputs": [
    {
     "name": "stdout",
     "output_type": "stream",
     "text": [
      "p3ht_n10_x20_equ_rdf1 {u'queue': u'short', 'compress_sufix': 'tgz', 'uncompress': 'tar -xzf ', u'scratch': u'/scratch/tkemper/p3ht_n10_x20_equ_rdf1/', 'compress': 'tar -czf ', u'ppn': 24, u'feature': u'24core', u'allocation': u'orgopv', u'e-mail': u'travis.kemper@nrel.gov', 'comp_key': 'compressed', u'nproc': 24, u'nodes': 1, u'pmem': 1500, u'walltime': 4, u'exe_command': u'qsub '}\n"
     ]
    }
   ],
   "source": [
    "print equ_rdf.tag,equ_rdf.properties"
   ]
  },
  {
   "cell_type": "code",
   "execution_count": 88,
   "metadata": {
    "collapsed": false
   },
   "outputs": [
    {
     "name": "stdout",
     "output_type": "stream",
     "text": [
      "> in cp_file  templates run streamm_peregrine.pbs templates launch\n",
      "copying /Users/tkemper/Development/streamm_ext/streamm-tools/templates/streamm_peregrine.pbs to /Users/tkemper/Development/streamm_ext/streamm-tools/examples/scratch/p3ht_n10_x20_equ_rdf1/streamm_peregrine.pbs \n"
     ]
    }
   ],
   "source": [
    "file_type = 'templates'\n",
    "file_key = 'run'\n",
    "file_name = \"streamm_peregrine.pbs\"\n",
    "from_dirkey = 'templates'\n",
    "to_dirkey = 'launch'\n",
    "equ_rdf.cp_file(file_type,file_key,file_name,from_dirkey,to_dirkey)"
   ]
  },
  {
   "cell_type": "code",
   "execution_count": 95,
   "metadata": {
    "collapsed": false
   },
   "outputs": [
    {
     "name": "stdout",
     "output_type": "stream",
     "text": [
      "/Users/tkemper/Development/streamm_ext/streamm-tools/scripts\n"
     ]
    }
   ],
   "source": [
    "equ_rdf.dir['scripts'] = '/Users/tkemper/Development/streamm_ext/streamm-tools/scripts'\n",
    "print equ_rdf.dir['scripts']"
   ]
  },
  {
   "cell_type": "code",
   "execution_count": 96,
   "metadata": {
    "collapsed": false
   },
   "outputs": [
    {
     "name": "stdout",
     "output_type": "stream",
     "text": [
      "> in cp_file  scripts py_script rdf2.py scripts launch\n",
      "copying /Users/tkemper/Development/streamm_ext/streamm-tools/scripts/rdf2.py to /Users/tkemper/Development/streamm_ext/streamm-tools/examples/scratch/p3ht_n10_x20_equ_rdf1/rdf2.py \n"
     ]
    }
   ],
   "source": [
    "file_type = 'scripts'\n",
    "file_key = 'py_script'\n",
    "file_name = \"rdf2.py\"\n",
    "from_dirkey = 'scripts'\n",
    "to_dirkey = 'launch'\n",
    "equ_rdf.cp_file(file_type,file_key,file_name,from_dirkey,to_dirkey)"
   ]
  },
  {
   "cell_type": "code",
   "execution_count": 101,
   "metadata": {
    "collapsed": false
   },
   "outputs": [
    {
     "name": "stdout",
     "output_type": "stream",
     "text": [
      "python rdf2.py  p3ht_n10_x20_equ_rdf1 --list_i list_i --list_j list_i --dcd nvt1_dump.dcd \n"
     ]
    }
   ],
   "source": [
    "equ_rdf.properties['streamm_command'] ='python %s  %s --list_i list_i --list_j list_i --dcd %s '%(equ_rdf.files['scripts']['py_script'],equ_rdf.tag,lmp_bulk.files['output']['dcd_1'])\n",
    "print equ_rdf.properties['streamm_command']"
   ]
  },
  {
   "cell_type": "code",
   "execution_count": 103,
   "metadata": {
    "collapsed": false
   },
   "outputs": [],
   "source": [
    "equ_rdf.load_str('templates','run')"
   ]
  },
  {
   "cell_type": "code",
   "execution_count": 104,
   "metadata": {
    "collapsed": false
   },
   "outputs": [],
   "source": [
    "equ_rdf.replacewrite_prop('run','scripts','run','%s.pbs'%(equ_rdf.tag))"
   ]
  },
  {
   "cell_type": "code",
   "execution_count": 105,
   "metadata": {
    "collapsed": false
   },
   "outputs": [],
   "source": [
    "file_type = 'output'\n",
    "file_key = 'log'\n",
    "file_name = \"%s.log\"%(equ_rdf.tag)\n",
    "equ_rdf.add_file(file_type,file_key,file_name)"
   ]
  },
  {
   "cell_type": "code",
   "execution_count": null,
   "metadata": {
    "collapsed": false
   },
   "outputs": [
    {
     "name": "stdout",
     "output_type": "stream",
     "text": [
      " Resource type ssh \n",
      "runnning push function in /Users/tkemper/Development/streamm_ext/streamm-tools/examples/scratch/p3ht_n10_x20_equ_rdf1 \n",
      "Compressing and copying input files to scratch directory \n",
      " file_i  p3ht_n10_x20_nvt.cply\n",
      " file_i  list_i\n",
      "> compressed_file  p3ht_n10_x20_equ_rdf1_input.tgz\n",
      "Compressing and copying templates files to scratch directory \n",
      " file_i  streamm_peregrine.pbs\n",
      "> compressed_file  p3ht_n10_x20_equ_rdf1_templates.tgz\n",
      "Compressing and copying scripts files to scratch directory \n",
      " file_i  p3ht_n10_x20_equ_rdf1.pbs\n",
      " file_i  rdf2.py\n",
      "> compressed_file  p3ht_n10_x20_equ_rdf1_scripts.tgz\n",
      "Copying output of reference calculations p3ht_n10_esp_x20\n"
     ]
    }
   ],
   "source": [
    "equ_rdf.push()"
   ]
  },
  {
   "cell_type": "code",
   "execution_count": null,
   "metadata": {
    "collapsed": true
   },
   "outputs": [],
   "source": []
  },
  {
   "cell_type": "code",
   "execution_count": null,
   "metadata": {
    "collapsed": true
   },
   "outputs": [],
   "source": []
  },
  {
   "cell_type": "code",
   "execution_count": 82,
   "metadata": {
    "collapsed": true
   },
   "outputs": [],
   "source": [
    "lfile = open('list_i','rb')\n",
    "t_i = lfile.readlines()\n",
    "lfile.close()\n",
    "l_i = [int(pkey) for pkey in  t_i]"
   ]
  },
  {
   "cell_type": "code",
   "execution_count": 87,
   "metadata": {
    "collapsed": false
   },
   "outputs": [
    {
     "name": "stdout",
     "output_type": "stream",
     "text": [
      "[0, 1, 2, 3, 4, 26, 27, 28, 29, 30, 51, 52, 53, 54, 55, 76, 77, 78, 79, 80, 101, 102, 103, 104, 105, 126, 127, 128, 129, 130, 151, 152, 153, 154, 155, 176, 177, 178, 179, 180, 201, 202, 203, 204, 205, 226, 227, 228, 229, 230, 252, 253, 254, 255, 256, 278, 279, 280, 281, 282, 303, 304, 305, 306, 307, 328, 329, 330, 331, 332, 353, 354, 355, 356, 357, 378, 379, 380, 381, 382, 403, 404, 405, 406, 407, 428, 429, 430, 431, 432, 453, 454, 455, 456, 457, 478, 479, 480, 481, 482, 504, 505, 506, 507, 508, 530, 531, 532, 533, 534, 555, 556, 557, 558, 559, 580, 581, 582, 583, 584, 605, 606, 607, 608, 609, 630, 631, 632, 633, 634, 655, 656, 657, 658, 659, 680, 681, 682, 683, 684, 705, 706, 707, 708, 709, 730, 731, 732, 733, 734, 756, 757, 758, 759, 760, 782, 783, 784, 785, 786, 807, 808, 809, 810, 811, 832, 833, 834, 835, 836, 857, 858, 859, 860, 861, 882, 883, 884, 885, 886, 907, 908, 909, 910, 911, 932, 933, 934, 935, 936, 957, 958, 959, 960, 961, 982, 983, 984, 985, 986, 1008, 1009, 1010, 1011, 1012, 1034, 1035, 1036, 1037, 1038, 1059, 1060, 1061, 1062, 1063, 1084, 1085, 1086, 1087, 1088, 1109, 1110, 1111, 1112, 1113, 1134, 1135, 1136, 1137, 1138, 1159, 1160, 1161, 1162, 1163, 1184, 1185, 1186, 1187, 1188, 1209, 1210, 1211, 1212, 1213, 1234, 1235, 1236, 1237, 1238, 1260, 1261, 1262, 1263, 1264, 1286, 1287, 1288, 1289, 1290, 1311, 1312, 1313, 1314, 1315, 1336, 1337, 1338, 1339, 1340, 1361, 1362, 1363, 1364, 1365, 1386, 1387, 1388, 1389, 1390, 1411, 1412, 1413, 1414, 1415, 1436, 1437, 1438, 1439, 1440, 1461, 1462, 1463, 1464, 1465, 1486, 1487, 1488, 1489, 1490, 1512, 1513, 1514, 1515, 1516, 1538, 1539, 1540, 1541, 1542, 1563, 1564, 1565, 1566, 1567, 1588, 1589, 1590, 1591, 1592, 1613, 1614, 1615, 1616, 1617, 1638, 1639, 1640, 1641, 1642, 1663, 1664, 1665, 1666, 1667, 1688, 1689, 1690, 1691, 1692, 1713, 1714, 1715, 1716, 1717, 1738, 1739, 1740, 1741, 1742, 1764, 1765, 1766, 1767, 1768, 1790, 1791, 1792, 1793, 1794, 1815, 1816, 1817, 1818, 1819, 1840, 1841, 1842, 1843, 1844, 1865, 1866, 1867, 1868, 1869, 1890, 1891, 1892, 1893, 1894, 1915, 1916, 1917, 1918, 1919, 1940, 1941, 1942, 1943, 1944, 1965, 1966, 1967, 1968, 1969, 1990, 1991, 1992, 1993, 1994, 2016, 2017, 2018, 2019, 2020, 2042, 2043, 2044, 2045, 2046, 2067, 2068, 2069, 2070, 2071, 2092, 2093, 2094, 2095, 2096, 2117, 2118, 2119, 2120, 2121, 2142, 2143, 2144, 2145, 2146, 2167, 2168, 2169, 2170, 2171, 2192, 2193, 2194, 2195, 2196, 2217, 2218, 2219, 2220, 2221, 2242, 2243, 2244, 2245, 2246, 2268, 2269, 2270, 2271, 2272, 2294, 2295, 2296, 2297, 2298, 2319, 2320, 2321, 2322, 2323, 2344, 2345, 2346, 2347, 2348, 2369, 2370, 2371, 2372, 2373, 2394, 2395, 2396, 2397, 2398, 2419, 2420, 2421, 2422, 2423, 2444, 2445, 2446, 2447, 2448, 2469, 2470, 2471, 2472, 2473, 2494, 2495, 2496, 2497, 2498, 2520, 2521, 2522, 2523, 2524, 2546, 2547, 2548, 2549, 2550, 2571, 2572, 2573, 2574, 2575, 2596, 2597, 2598, 2599, 2600, 2621, 2622, 2623, 2624, 2625, 2646, 2647, 2648, 2649, 2650, 2671, 2672, 2673, 2674, 2675, 2696, 2697, 2698, 2699, 2700, 2721, 2722, 2723, 2724, 2725, 2746, 2747, 2748, 2749, 2750, 2772, 2773, 2774, 2775, 2776, 2798, 2799, 2800, 2801, 2802, 2823, 2824, 2825, 2826, 2827, 2848, 2849, 2850, 2851, 2852, 2873, 2874, 2875, 2876, 2877, 2898, 2899, 2900, 2901, 2902, 2923, 2924, 2925, 2926, 2927, 2948, 2949, 2950, 2951, 2952, 2973, 2974, 2975, 2976, 2977, 2998, 2999, 3000, 3001, 3002, 3024, 3025, 3026, 3027, 3028, 3050, 3051, 3052, 3053, 3054, 3075, 3076, 3077, 3078, 3079, 3100, 3101, 3102, 3103, 3104, 3125, 3126, 3127, 3128, 3129, 3150, 3151, 3152, 3153, 3154, 3175, 3176, 3177, 3178, 3179, 3200, 3201, 3202, 3203, 3204, 3225, 3226, 3227, 3228, 3229, 3250, 3251, 3252, 3253, 3254, 3276, 3277, 3278, 3279, 3280, 3302, 3303, 3304, 3305, 3306, 3327, 3328, 3329, 3330, 3331, 3352, 3353, 3354, 3355, 3356, 3377, 3378, 3379, 3380, 3381, 3402, 3403, 3404, 3405, 3406, 3427, 3428, 3429, 3430, 3431, 3452, 3453, 3454, 3455, 3456, 3477, 3478, 3479, 3480, 3481, 3502, 3503, 3504, 3505, 3506, 3528, 3529, 3530, 3531, 3532, 3554, 3555, 3556, 3557, 3558, 3579, 3580, 3581, 3582, 3583, 3604, 3605, 3606, 3607, 3608, 3629, 3630, 3631, 3632, 3633, 3654, 3655, 3656, 3657, 3658, 3679, 3680, 3681, 3682, 3683, 3704, 3705, 3706, 3707, 3708, 3729, 3730, 3731, 3732, 3733, 3754, 3755, 3756, 3757, 3758, 3780, 3781, 3782, 3783, 3784, 3806, 3807, 3808, 3809, 3810, 3831, 3832, 3833, 3834, 3835, 3856, 3857, 3858, 3859, 3860, 3881, 3882, 3883, 3884, 3885, 3906, 3907, 3908, 3909, 3910, 3931, 3932, 3933, 3934, 3935, 3956, 3957, 3958, 3959, 3960, 3981, 3982, 3983, 3984, 3985, 4006, 4007, 4008, 4009, 4010, 4032, 4033, 4034, 4035, 4036, 4058, 4059, 4060, 4061, 4062, 4083, 4084, 4085, 4086, 4087, 4108, 4109, 4110, 4111, 4112, 4133, 4134, 4135, 4136, 4137, 4158, 4159, 4160, 4161, 4162, 4183, 4184, 4185, 4186, 4187, 4208, 4209, 4210, 4211, 4212, 4233, 4234, 4235, 4236, 4237, 4258, 4259, 4260, 4261, 4262, 4284, 4285, 4286, 4287, 4288, 4310, 4311, 4312, 4313, 4314, 4335, 4336, 4337, 4338, 4339, 4360, 4361, 4362, 4363, 4364, 4385, 4386, 4387, 4388, 4389, 4410, 4411, 4412, 4413, 4414, 4435, 4436, 4437, 4438, 4439, 4460, 4461, 4462, 4463, 4464, 4485, 4486, 4487, 4488, 4489, 4510, 4511, 4512, 4513, 4514, 4536, 4537, 4538, 4539, 4540, 4562, 4563, 4564, 4565, 4566, 4587, 4588, 4589, 4590, 4591, 4612, 4613, 4614, 4615, 4616, 4637, 4638, 4639, 4640, 4641, 4662, 4663, 4664, 4665, 4666, 4687, 4688, 4689, 4690, 4691, 4712, 4713, 4714, 4715, 4716, 4737, 4738, 4739, 4740, 4741, 4762, 4763, 4764, 4765, 4766, 4788, 4789, 4790, 4791, 4792, 4814, 4815, 4816, 4817, 4818, 4839, 4840, 4841, 4842, 4843, 4864, 4865, 4866, 4867, 4868, 4889, 4890, 4891, 4892, 4893, 4914, 4915, 4916, 4917, 4918, 4939, 4940, 4941, 4942, 4943, 4964, 4965, 4966, 4967, 4968, 4989, 4990, 4991, 4992, 4993, 5014, 5015, 5016, 5017, 5018]\n"
     ]
    }
   ],
   "source": [
    "print l_i"
   ]
  },
  {
   "cell_type": "markdown",
   "metadata": {},
   "source": [
    "Find pairs "
   ]
  },
  {
   "cell_type": "code",
   "execution_count": null,
   "metadata": {
    "collapsed": true
   },
   "outputs": [],
   "source": [
    "pairs_ii = p3ht_n10_x20_nvt.find_pairs(sub_i.index,sub_i.index)"
   ]
  },
  {
   "cell_type": "code",
   "execution_count": null,
   "metadata": {
    "collapsed": false
   },
   "outputs": [],
   "source": [
    "pairs_ii_inter = p3ht_n10_x20_nvt.find_pairs(sub_i.index,sub_i.index,mol_inter=True)"
   ]
  },
  {
   "cell_type": "code",
   "execution_count": null,
   "metadata": {
    "collapsed": false
   },
   "outputs": [],
   "source": [
    "pairs_ii_intra = p3ht_n10_x20_nvt.find_pairs(sub_i.index,sub_i.index,mol_intra=True)"
   ]
  },
  {
   "cell_type": "code",
   "execution_count": null,
   "metadata": {
    "collapsed": true
   },
   "outputs": [],
   "source": []
  },
  {
   "cell_type": "code",
   "execution_count": null,
   "metadata": {
    "collapsed": false
   },
   "outputs": [],
   "source": [
    "print pairs_ii_intra"
   ]
  },
  {
   "cell_type": "code",
   "execution_count": null,
   "metadata": {
    "collapsed": true
   },
   "outputs": [],
   "source": []
  }
 ],
 "metadata": {
  "kernelspec": {
   "display_name": "Python [Root]",
   "language": "python",
   "name": "Python [Root]"
  },
  "language_info": {
   "codemirror_mode": {
    "name": "ipython",
    "version": 2
   },
   "file_extension": ".py",
   "mimetype": "text/x-python",
   "name": "python",
   "nbconvert_exporter": "python",
   "pygments_lexer": "ipython2",
   "version": "2.7.12"
  }
 },
 "nbformat": 4,
 "nbformat_minor": 0
}
