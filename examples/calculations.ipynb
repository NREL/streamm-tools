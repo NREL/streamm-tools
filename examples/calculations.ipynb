{
 "cells": [
  {
   "cell_type": "code",
   "execution_count": 1,
   "metadata": {},
   "outputs": [],
   "source": [
    "%load_ext autoreload\n",
    "%autoreload 2"
   ]
  },
  {
   "cell_type": "code",
   "execution_count": 2,
   "metadata": {
    "collapsed": true
   },
   "outputs": [],
   "source": [
    "from __future__ import division, unicode_literals"
   ]
  },
  {
   "cell_type": "code",
   "execution_count": 3,
   "metadata": {
    "collapsed": true
   },
   "outputs": [],
   "source": [
    "import os \n",
    "from pprint import pprint"
   ]
  },
  {
   "cell_type": "markdown",
   "metadata": {},
   "source": [
    "The aim of the streamm package is to design a project with numerous calculations locally then run them on local and remote resources and collect the output for analysis, thus facilitating high-throughput computational material design."
   ]
  },
  {
   "cell_type": "markdown",
   "metadata": {},
   "source": [
    "To accoplish this directory structures are contained in a resource. Resources, structures and forcefields are contained within a calculation. Sets of calculations are contained within a project"
   ]
  },
  {
   "cell_type": "markdown",
   "metadata": {},
   "source": [
    "So let's first create a resource object that we will use to set the directory locations of all the subsequent calculation objects "
   ]
  },
  {
   "cell_type": "code",
   "execution_count": 4,
   "metadata": {
    "collapsed": true
   },
   "outputs": [],
   "source": [
    "import streamm.calculations.resource as resource  "
   ]
  },
  {
   "cell_type": "code",
   "execution_count": 5,
   "metadata": {
    "collapsed": true
   },
   "outputs": [],
   "source": [
    "res_i = resource.Resource('local')"
   ]
  },
  {
   "cell_type": "markdown",
   "metadata": {},
   "source": [
    "This sets the current working directory as the root/home directory by default"
   ]
  },
  {
   "cell_type": "code",
   "execution_count": 6,
   "metadata": {},
   "outputs": [
    {
     "name": "stdout",
     "output_type": "stream",
     "text": [
      "{u'home': '/Users/tkemper/Development/streamm-tools/examples',\n",
      " u'launch': u'/Users/tkemper/Development/streamm-tools/examples/scratch',\n",
      " u'materials': u'/Users/tkemper/Development/streamm-tools/examples/materials',\n",
      " u'scratch': u'/Users/tkemper/Development/streamm-tools/examples/scratch',\n",
      " u'scripts': u'/Users/tkemper/Development/streamm-tools/examples/scripts',\n",
      " u'storage': u'/Users/tkemper/Development/streamm-tools/examples/storage',\n",
      " u'templates': u'/Users/tkemper/Development/streamm-tools/examples/templates'}\n"
     ]
    }
   ],
   "source": [
    "pprint(res_i.dir)"
   ]
  },
  {
   "cell_type": "markdown",
   "metadata": {},
   "source": [
    "Let's create a new home directory called 'example_proj'"
   ]
  },
  {
   "cell_type": "code",
   "execution_count": 7,
   "metadata": {
    "collapsed": true
   },
   "outputs": [],
   "source": [
    "EXAMPLE_DIR = res_i.dir['home']"
   ]
  },
  {
   "cell_type": "code",
   "execution_count": 8,
   "metadata": {
    "collapsed": true
   },
   "outputs": [],
   "source": [
    "new_root = os.path.join(EXAMPLE_DIR,'example_proj')"
   ]
  },
  {
   "cell_type": "code",
   "execution_count": 9,
   "metadata": {},
   "outputs": [],
   "source": [
    "res_i.set_home(new_root)"
   ]
  },
  {
   "cell_type": "code",
   "execution_count": 22,
   "metadata": {},
   "outputs": [
    {
     "name": "stdout",
     "output_type": "stream",
     "text": [
      "{u'home': u'/Users/tkemper/Development/streamm-tools/examples/example_proj',\n",
      " u'launch': u'/Users/tkemper/Development/streamm-tools/examples/example_proj/scratch',\n",
      " u'materials': '/Users/tkemper/Development/streamm-tools/examples',\n",
      " u'scratch': u'/Users/tkemper/Development/streamm-tools/examples/example_proj/scratch',\n",
      " u'scripts': u'/Users/tkemper/Development/streamm-tools/examples/example_proj/scripts',\n",
      " u'storage': u'/Users/tkemper/Development/streamm-tools/examples/example_proj/storage',\n",
      " u'templates': u'/Users/tkemper/Development/streamm-tools/examples/example_proj/templates'}\n"
     ]
    }
   ],
   "source": [
    "pprint(res_i.dir)"
   ]
  },
  {
   "cell_type": "markdown",
   "metadata": {},
   "source": [
    "However, we want to use structures from our previous structures and forcefields examples, so let's set the materials directory to examples/"
   ]
  },
  {
   "cell_type": "code",
   "execution_count": 11,
   "metadata": {
    "collapsed": true
   },
   "outputs": [],
   "source": [
    "res_i.dir['materials'] = EXAMPLE_DIR"
   ]
  },
  {
   "cell_type": "markdown",
   "metadata": {},
   "source": [
    "This also contains the properties dictionary, which can be used to write .pbs scripts on clusters"
   ]
  },
  {
   "cell_type": "code",
   "execution_count": 12,
   "metadata": {},
   "outputs": [
    {
     "name": "stdout",
     "output_type": "stream",
     "text": [
      "{u'allocation': u'',\n",
      " u'exe_command': u'./',\n",
      " u'feature': u'24core',\n",
      " u'nodes': 1,\n",
      " u'nproc': 1,\n",
      " u'pmem': 1500,\n",
      " u'ppn': 1,\n",
      " u'queue': u'batch',\n",
      " u'walltime': 24}\n"
     ]
    }
   ],
   "source": [
    "pprint(res_i.properties)"
   ]
  },
  {
   "cell_type": "markdown",
   "metadata": {},
   "source": [
    "By default the resource type is 'local'; however, setting type to 'ssh' will invoke an scp command when copying files"
   ]
  },
  {
   "cell_type": "markdown",
   "metadata": {},
   "source": [
    "Okay create the directories we need for our calculation"
   ]
  },
  {
   "cell_type": "code",
   "execution_count": 13,
   "metadata": {},
   "outputs": [],
   "source": [
    "res_i.make_dir()"
   ]
  },
  {
   "cell_type": "markdown",
   "metadata": {},
   "source": [
    "Now we should have a directory 'example_proj/' with materials, scratch,   scripts,   storage and   templates directories "
   ]
  },
  {
   "cell_type": "markdown",
   "metadata": {},
   "source": [
    "We can create a gaussian calculation"
   ]
  },
  {
   "cell_type": "code",
   "execution_count": 14,
   "metadata": {},
   "outputs": [],
   "source": [
    "import streamm.calculations.gaussian as gaussian  "
   ]
  },
  {
   "cell_type": "code",
   "execution_count": 15,
   "metadata": {
    "collapsed": true
   },
   "outputs": [],
   "source": [
    "calc_i = gaussian.Gaussian('methane_HF')"
   ]
  },
  {
   "cell_type": "markdown",
   "metadata": {},
   "source": [
    "Set the resource and all the directories "
   ]
  },
  {
   "cell_type": "code",
   "execution_count": 23,
   "metadata": {
    "collapsed": true
   },
   "outputs": [],
   "source": [
    "calc_i.set_resource(res_i)"
   ]
  },
  {
   "cell_type": "code",
   "execution_count": 28,
   "metadata": {},
   "outputs": [
    {
     "name": "stdout",
     "output_type": "stream",
     "text": [
      "{u'home': u'/Users/tkemper/Development/streamm-tools/examples/example_proj',\n",
      " u'launch': u'/Users/tkemper/Development/streamm-tools/examples/example_proj/scratch/methane_HF/',\n",
      " u'materials': '/Users/tkemper/Development/streamm-tools/examples',\n",
      " u'scratch': u'/Users/tkemper/Development/streamm-tools/examples/example_proj/scratch/methane_HF/',\n",
      " u'scripts': u'/Users/tkemper/Development/streamm-tools/examples/example_proj/scripts',\n",
      " u'storage': u'/Users/tkemper/Development/streamm-tools/examples/example_proj/storage/methane_HF/',\n",
      " u'templates': u'/Users/tkemper/Development/streamm-tools/examples/example_proj/templates'}\n"
     ]
    }
   ],
   "source": [
    "pprint(calc_i.dir)"
   ]
  },
  {
   "cell_type": "markdown",
   "metadata": {},
   "source": [
    "Make the calculation directories"
   ]
  },
  {
   "cell_type": "code",
   "execution_count": 25,
   "metadata": {
    "collapsed": true
   },
   "outputs": [],
   "source": [
    "calc_i.make_dir()"
   ]
  },
  {
   "cell_type": "markdown",
   "metadata": {},
   "source": [
    "Let's assign a structure to this calculation "
   ]
  },
  {
   "cell_type": "markdown",
   "metadata": {},
   "source": [
    "First copy the .xyz file from the materials directory to our scratch directory using the cp_file() function."
   ]
  },
  {
   "cell_type": "markdown",
   "metadata": {},
   "source": [
    "This takes an type and key to set the calc_i.files[type][key] dictionary "
   ]
  },
  {
   "cell_type": "code",
   "execution_count": 26,
   "metadata": {},
   "outputs": [],
   "source": [
    "file_type = 'input'\n",
    "file_key = 'xyz'\n",
    "file_name = \"methane.xyz\"\n",
    "from_dirkey = 'materials'\n",
    "to_dirkey = 'scratch'\n",
    "calc_i.cp_file(file_type,file_key,file_name,from_dirkey,to_dirkey)"
   ]
  },
  {
   "cell_type": "markdown",
   "metadata": {},
   "source": [
    "Generally the materials directory is thought to contain a repository of material files, and local versions in the scratch directory should be made in case modifications are necessary "
   ]
  },
  {
   "cell_type": "markdown",
   "metadata": {},
   "source": [
    "Change to the scratch directory "
   ]
  },
  {
   "cell_type": "code",
   "execution_count": 29,
   "metadata": {},
   "outputs": [
    {
     "name": "stdout",
     "output_type": "stream",
     "text": [
      "u'/Users/tkemper/Development/streamm-tools/examples/example_proj/scratch/methane_HF/'\n"
     ]
    }
   ],
   "source": [
    "pprint(calc_i.dir['scratch'])"
   ]
  },
  {
   "cell_type": "code",
   "execution_count": 30,
   "metadata": {},
   "outputs": [],
   "source": [
    "os.chdir(calc_i.dir['scratch'])"
   ]
  },
  {
   "cell_type": "markdown",
   "metadata": {},
   "source": [
    "Read in methane .xyz file from the structures example"
   ]
  },
  {
   "cell_type": "code",
   "execution_count": 32,
   "metadata": {
    "collapsed": true
   },
   "outputs": [],
   "source": [
    "calc_i.strucC.read_xyz('methane.xyz')"
   ]
  },
  {
   "cell_type": "code",
   "execution_count": 34,
   "metadata": {},
   "outputs": [
    {
     "name": "stdout",
     "output_type": "stream",
     "text": [
      "5\n"
     ]
    }
   ],
   "source": [
    "print calc_i.strucC.n_particles"
   ]
  },
  {
   "cell_type": "markdown",
   "metadata": {},
   "source": [
    "Now that we have a structure and parameters for each interaction we can create an input file for a simulation"
   ]
  },
  {
   "cell_type": "markdown",
   "metadata": {},
   "source": [
    "To write out input files we will use the templates provided in the streamm package"
   ]
  },
  {
   "cell_type": "markdown",
   "metadata": {},
   "source": [
    "Set the template dir dictionary entry to the location of templates directory "
   ]
  },
  {
   "cell_type": "code",
   "execution_count": 43,
   "metadata": {
    "collapsed": true
   },
   "outputs": [],
   "source": [
    "calc_i.dir['templates'] =  os.path.join(EXAMPLE_DIR,'..','templates','')"
   ]
  },
  {
   "cell_type": "code",
   "execution_count": 44,
   "metadata": {},
   "outputs": [
    {
     "name": "stdout",
     "output_type": "stream",
     "text": [
      "/Users/tkemper/Development/streamm-tools/examples/../templates/\n"
     ]
    }
   ],
   "source": [
    "print calc_i.dir['templates']"
   ]
  },
  {
   "cell_type": "markdown",
   "metadata": {},
   "source": [
    "Get the bash run script for gaussian. By setting the file_key to run, this will be the script that exicuted when the run() function is called"
   ]
  },
  {
   "cell_type": "code",
   "execution_count": 45,
   "metadata": {
    "collapsed": true
   },
   "outputs": [],
   "source": [
    "\n",
    "file_type = 'templates'\n",
    "file_key = 'run'\n",
    "file_name = \"gaussian.sh\"\n",
    "from_dirkey = 'templates'\n",
    "to_dirkey = 'scratch'\n",
    "calc_i.cp_file(file_type,file_key,file_name,from_dirkey,to_dirkey)\n"
   ]
  },
  {
   "cell_type": "markdown",
   "metadata": {},
   "source": [
    "Get the .com template"
   ]
  },
  {
   "cell_type": "code",
   "execution_count": 47,
   "metadata": {},
   "outputs": [],
   "source": [
    "\n",
    "file_type = 'templates'\n",
    "file_key = 'com'\n",
    "file_name = \"gaussian.com\"\n",
    "from_dirkey = 'templates'\n",
    "to_dirkey = 'scratch'\n",
    "calc_i.cp_file(file_type,file_key,file_name,from_dirkey,to_dirkey)\n"
   ]
  },
  {
   "cell_type": "markdown",
   "metadata": {},
   "source": [
    "Make sure we are in the scratch directory"
   ]
  },
  {
   "cell_type": "code",
   "execution_count": 49,
   "metadata": {},
   "outputs": [
    {
     "name": "stdout",
     "output_type": "stream",
     "text": [
      "'/Users/tkemper/Development/streamm-tools/examples/example_proj/scratch/methane_HF'\n"
     ]
    }
   ],
   "source": [
    "pprint(os.getcwd())"
   ]
  },
  {
   "cell_type": "markdown",
   "metadata": {},
   "source": [
    "Load the template files into memory "
   ]
  },
  {
   "cell_type": "code",
   "execution_count": 51,
   "metadata": {
    "collapsed": true
   },
   "outputs": [],
   "source": [
    "calc_i.load_str('templates','com')        \n",
    "calc_i.load_str('templates','run')"
   ]
  },
  {
   "cell_type": "markdown",
   "metadata": {},
   "source": [
    "Set the properties strings in the template files to have the values we want"
   ]
  },
  {
   "cell_type": "code",
   "execution_count": 52,
   "metadata": {
    "collapsed": true
   },
   "outputs": [],
   "source": [
    "calc_i.properties['commands'] = 'HF/3-21G SP'\n",
    "calc_i.properties['charge'] = 0\n",
    "calc_i.properties['spin_mult'] = 1\n",
    "calc_i.properties['coord'] = calc_i.strucC.write_coord()"
   ]
  },
  {
   "cell_type": "markdown",
   "metadata": {},
   "source": [
    "Replace the strings in the files['input']['com']"
   ]
  },
  {
   "cell_type": "code",
   "execution_count": 54,
   "metadata": {
    "collapsed": true
   },
   "outputs": [],
   "source": [
    "calc_i.replacewrite_prop('com','input','com','%s.com'%(calc_i.tag))"
   ]
  },
  {
   "cell_type": "markdown",
   "metadata": {},
   "source": [
    "Add the name of the .com file to the properties, and replace the strings in the files['input']['run']"
   ]
  },
  {
   "cell_type": "code",
   "execution_count": 55,
   "metadata": {
    "collapsed": true
   },
   "outputs": [],
   "source": [
    "calc_i.properties['input_com'] = calc_i.files['input']['com']\n",
    "calc_i.replacewrite_prop('run','scripts','run','%s.sh'%(calc_i.tag))"
   ]
  },
  {
   "cell_type": "markdown",
   "metadata": {},
   "source": [
    "Save a .json file in the home directory "
   ]
  },
  {
   "cell_type": "code",
   "execution_count": 57,
   "metadata": {
    "collapsed": true
   },
   "outputs": [],
   "source": [
    "os.chdir(calc_i.dir['home'])\n",
    "calc_i.dump_json()"
   ]
  },
  {
   "cell_type": "markdown",
   "metadata": {},
   "source": [
    "Go to scratch directory and see if there is a completed output file for the calculation"
   ]
  },
  {
   "cell_type": "code",
   "execution_count": 59,
   "metadata": {
    "collapsed": true
   },
   "outputs": [],
   "source": [
    "os.chdir(calc_i.dir['scratch'])\n",
    "calc_i.check()"
   ]
  },
  {
   "cell_type": "markdown",
   "metadata": {},
   "source": [
    "Check the status "
   ]
  },
  {
   "cell_type": "code",
   "execution_count": 64,
   "metadata": {},
   "outputs": [
    {
     "name": "stdout",
     "output_type": "stream",
     "text": [
      "u'Calculation:methane_HF has status:written'\n"
     ]
    }
   ],
   "source": [
    "pprint(\"Calculation:{} has status:{}\".format(calc_i.tag,calc_i.meta['status']))"
   ]
  },
  {
   "cell_type": "code",
   "execution_count": null,
   "metadata": {
    "collapsed": true
   },
   "outputs": [],
   "source": []
  },
  {
   "cell_type": "code",
   "execution_count": null,
   "metadata": {
    "collapsed": true
   },
   "outputs": [],
   "source": []
  },
  {
   "cell_type": "markdown",
   "metadata": {},
   "source": [
    "Set the forcefield particletypes "
   ]
  },
  {
   "cell_type": "code",
   "execution_count": null,
   "metadata": {
    "collapsed": true
   },
   "outputs": [],
   "source": [
    "\n",
    "for pkey,p in mol_i.particles.iteritems():\n",
    "    if( p.symbol == 'C' ):\n",
    "        p.ffkey = 'CT'\n",
    "    elif( p.symbol == 'H' ):\n",
    "        p.ffkey = 'HC'"
   ]
  },
  {
   "cell_type": "code",
   "execution_count": null,
   "metadata": {
    "collapsed": true
   },
   "outputs": [],
   "source": [
    "mol_i.bonded_nblist = mol_i.guess_nblist(0,radii_buffer=1.25)"
   ]
  },
  {
   "cell_type": "markdown",
   "metadata": {},
   "source": [
    "Find bonds and bond angles based on neighbor list "
   ]
  },
  {
   "cell_type": "code",
   "execution_count": null,
   "metadata": {
    "collapsed": true
   },
   "outputs": [],
   "source": [
    "mol_i.bonded_bonds()\n",
    "mol_i.bonded_angles()"
   ]
  },
  {
   "cell_type": "markdown",
   "metadata": {},
   "source": [
    "Copy the pickled forcefield parameter file to scratch and read it in"
   ]
  },
  {
   "cell_type": "code",
   "execution_count": 35,
   "metadata": {
    "collapsed": true
   },
   "outputs": [],
   "source": [
    "file_type = 'input'\n",
    "file_key = 'param'\n",
    "file_name = \"oplsaa.pkl\"\n",
    "from_dirkey = 'materials'\n",
    "to_dirkey = 'scratch'\n",
    "calc_i.cp_file(file_type,file_key,file_name,from_dirkey,to_dirkey)"
   ]
  },
  {
   "cell_type": "code",
   "execution_count": 36,
   "metadata": {
    "collapsed": true
   },
   "outputs": [],
   "source": [
    "import streamm.forcefields.container as container "
   ]
  },
  {
   "cell_type": "code",
   "execution_count": 37,
   "metadata": {
    "collapsed": true
   },
   "outputs": [],
   "source": [
    "calc_i.paramC = container.read_pickle('oplsaa')"
   ]
  },
  {
   "cell_type": "markdown",
   "metadata": {},
   "source": [
    "Use the set_ffparam() function to iterate through the structure container and set parameters based on ffkeys"
   ]
  },
  {
   "cell_type": "code",
   "execution_count": 38,
   "metadata": {
    "scrolled": true
   },
   "outputs": [
    {
     "ename": "TypeError",
     "evalue": " No particle parameters were found for atom type None ",
     "output_type": "error",
     "traceback": [
      "\u001b[0;31m---------------------------------------------------------------------------\u001b[0m",
      "\u001b[0;31mTypeError\u001b[0m                                 Traceback (most recent call last)",
      "\u001b[0;32m<ipython-input-38-af3809a8799e>\u001b[0m in \u001b[0;36m<module>\u001b[0;34m()\u001b[0m\n\u001b[0;32m----> 1\u001b[0;31m \u001b[0mcalc_i\u001b[0m\u001b[0;34m.\u001b[0m\u001b[0mset_ffparam\u001b[0m\u001b[0;34m(\u001b[0m\u001b[0;34m)\u001b[0m\u001b[0;34m\u001b[0m\u001b[0m\n\u001b[0m",
      "\u001b[0;32m/Users/tkemper/Development/streamm-tools/streamm/calculations/calculation.pyc\u001b[0m in \u001b[0;36mset_ffparam\u001b[0;34m(self)\u001b[0m\n\u001b[1;32m    552\u001b[0m                 \u001b[0;32mif\u001b[0m\u001b[0;34m(\u001b[0m \u001b[0mcnt_check\u001b[0m \u001b[0;34m<\u001b[0m \u001b[0;36m1\u001b[0m \u001b[0;34m)\u001b[0m\u001b[0;34m:\u001b[0m\u001b[0;34m\u001b[0m\u001b[0m\n\u001b[1;32m    553\u001b[0m                     \u001b[0mself\u001b[0m\u001b[0;34m.\u001b[0m\u001b[0mparamC\u001b[0m \u001b[0;34m=\u001b[0m \u001b[0mself\u001b[0m\u001b[0;34m.\u001b[0m\u001b[0mparamC_o\u001b[0m\u001b[0;34m\u001b[0m\u001b[0m\n\u001b[0;32m--> 554\u001b[0;31m                     \u001b[0;32mraise\u001b[0m \u001b[0mTypeError\u001b[0m\u001b[0;34m(\u001b[0m\u001b[0;34m\" No particle parameters were found for atom type %s \"\u001b[0m\u001b[0;34m%\u001b[0m\u001b[0mfftype_i\u001b[0m\u001b[0;34m)\u001b[0m\u001b[0;34m\u001b[0m\u001b[0m\n\u001b[0m\u001b[1;32m    555\u001b[0m \u001b[0;34m\u001b[0m\u001b[0m\n\u001b[1;32m    556\u001b[0m                 \u001b[0;32melif\u001b[0m\u001b[0;34m(\u001b[0m \u001b[0mcnt_check\u001b[0m \u001b[0;34m>\u001b[0m \u001b[0;36m1\u001b[0m \u001b[0;34m)\u001b[0m\u001b[0;34m:\u001b[0m\u001b[0;34m\u001b[0m\u001b[0m\n",
      "\u001b[0;31mTypeError\u001b[0m:  No particle parameters were found for atom type None "
     ]
    }
   ],
   "source": [
    "calc_i.set_ffparam()"
   ]
  },
  {
   "cell_type": "code",
   "execution_count": null,
   "metadata": {
    "collapsed": true
   },
   "outputs": [],
   "source": []
  },
  {
   "cell_type": "markdown",
   "metadata": {},
   "source": [
    "So let's first create a project"
   ]
  },
  {
   "cell_type": "code",
   "execution_count": null,
   "metadata": {
    "collapsed": true
   },
   "outputs": [],
   "source": [
    "import streamm.calculations.project as project  "
   ]
  },
  {
   "cell_type": "markdown",
   "metadata": {},
   "source": [
    "This object has dictionaries to help keep track of the components of a calculation such as structures, forcefields and files"
   ]
  },
  {
   "cell_type": "code",
   "execution_count": null,
   "metadata": {
    "collapsed": true
   },
   "outputs": [],
   "source": []
  },
  {
   "cell_type": "code",
   "execution_count": null,
   "metadata": {
    "collapsed": true
   },
   "outputs": [],
   "source": []
  },
  {
   "cell_type": "code",
   "execution_count": null,
   "metadata": {
    "collapsed": true
   },
   "outputs": [],
   "source": []
  },
  {
   "cell_type": "markdown",
   "metadata": {},
   "source": [
    "Read in the parameters we created in the forcefield example"
   ]
  },
  {
   "cell_type": "code",
   "execution_count": null,
   "metadata": {},
   "outputs": [],
   "source": [
    "print paramC"
   ]
  },
  {
   "cell_type": "markdown",
   "metadata": {},
   "source": [
    "Now we can set the particles, bonds and bond angles of the molecule to have parameters associated with the ffkey"
   ]
  },
  {
   "cell_type": "markdown",
   "metadata": {
    "collapsed": true
   },
   "source": [
    "Now we can combine the structure and the forcefield parameters using the Calculation object"
   ]
  },
  {
   "cell_type": "code",
   "execution_count": null,
   "metadata": {
    "collapsed": true
   },
   "outputs": [],
   "source": []
  },
  {
   "cell_type": "code",
   "execution_count": null,
   "metadata": {},
   "outputs": [],
   "source": [
    "calc_i = calculation.Calculation('methane_oplsaa')"
   ]
  },
  {
   "cell_type": "markdown",
   "metadata": {},
   "source": [
    "Set the structure container and forcefield container"
   ]
  },
  {
   "cell_type": "code",
   "execution_count": null,
   "metadata": {
    "collapsed": true
   },
   "outputs": [],
   "source": [
    "calc_i.strucC = mol_i\n",
    "calc_i.paramC = paramC"
   ]
  },
  {
   "cell_type": "code",
   "execution_count": null,
   "metadata": {
    "collapsed": true
   },
   "outputs": [],
   "source": []
  },
  {
   "cell_type": "code",
   "execution_count": null,
   "metadata": {
    "collapsed": true
   },
   "outputs": [],
   "source": []
  },
  {
   "cell_type": "code",
   "execution_count": null,
   "metadata": {
    "collapsed": true
   },
   "outputs": [],
   "source": []
  }
 ],
 "metadata": {
  "kernelspec": {
   "display_name": "Python 2",
   "language": "python",
   "name": "python2"
  },
  "language_info": {
   "codemirror_mode": {
    "name": "ipython",
    "version": 2
   },
   "file_extension": ".py",
   "mimetype": "text/x-python",
   "name": "python",
   "nbconvert_exporter": "python",
   "pygments_lexer": "ipython2",
   "version": "2.7.13"
  }
 },
 "nbformat": 4,
 "nbformat_minor": 2
}
