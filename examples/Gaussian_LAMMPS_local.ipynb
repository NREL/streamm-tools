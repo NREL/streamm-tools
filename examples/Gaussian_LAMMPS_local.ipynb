{
 "cells": [
  {
   "cell_type": "markdown",
   "metadata": {},
   "source": [
    "Create a thiophene structure and run Gaussian and LAMMPS"
   ]
  },
  {
   "cell_type": "markdown",
   "metadata": {},
   "source": [
    "Import some standard python modules"
   ]
  },
  {
   "cell_type": "code",
   "execution_count": 2,
   "metadata": {
    "collapsed": true
   },
   "outputs": [],
   "source": [
    "import os,sys"
   ]
  },
  {
   "cell_type": "markdown",
   "metadata": {},
   "source": [
    "This will use the resource creating in the resource.ipynb exmaple. This can be either a local  or remote  as long as the specified resource has "
   ]
  },
  {
   "cell_type": "code",
   "execution_count": 5,
   "metadata": {
    "collapsed": true
   },
   "outputs": [],
   "source": [
    "from streamm import resource"
   ]
  },
  {
   "cell_type": "code",
   "execution_count": 7,
   "metadata": {
    "collapsed": false
   },
   "outputs": [],
   "source": [
    "res_tag = 'local'  # Change this to remote to run the calculations remotely \n",
    "res_i = resource.Resource(res_tag)\n",
    "res_i.dump_json()"
   ]
  },
  {
   "cell_type": "code",
   "execution_count": 4,
   "metadata": {
    "collapsed": true
   },
   "outputs": [],
   "source": [
    "import buildingblock"
   ]
  },
  {
   "cell_type": "markdown",
   "metadata": {},
   "source": [
    "Build structure (this could be read in from a file)"
   ]
  },
  {
   "cell_type": "code",
   "execution_count": 5,
   "metadata": {
    "collapsed": false
   },
   "outputs": [],
   "source": [
    "bbTh = buildingblock.Container('thiophene')\n",
    "symbols = ['C','C','C','C','S','H','H','H','H']\n",
    "positions = [ ]\n",
    "positions.append([-1.55498576,-1.91131218,-0.00081000])\n",
    "positions.append([-0.17775976,-1.91131218,-0.00081000])\n",
    "positions.append([0.34761524,-0.57904218,-0.00081000])\n",
    "positions.append([-0.65884476,0.36101082,0.00000000])\n",
    "positions.append([-2.16948076,-0.35614618,-0.00000800])\n",
    "positions.append([-2.18966076,-2.79526518,-0.00132100])\n",
    "positions.append([0.45389024,-2.80145418,-0.00106400])\n",
    "positions.append([1.41682424,-0.35961818,-0.00138200])\n",
    "positions.append([-0.51943676,1.44024682,0.00064700])\n",
    "for i in range(len(symbols)):\n",
    "    pt_i = buildingblock.BBatom(symbols[i])\n",
    "    pos_i = positions[i]\n",
    "    bbTh.add_partpos(pt_i,pos_i)"
   ]
  },
  {
   "cell_type": "markdown",
   "metadata": {},
   "source": [
    "Write an xyz file that can be viewed in viewer, such as VMD or Avogadro"
   ]
  },
  {
   "cell_type": "code",
   "execution_count": 6,
   "metadata": {
    "collapsed": true
   },
   "outputs": [],
   "source": [
    "bbTh.write_xyz()"
   ]
  },
  {
   "cell_type": "markdown",
   "metadata": {},
   "source": [
    "Create a gaussian calculation "
   ]
  },
  {
   "cell_type": "code",
   "execution_count": 7,
   "metadata": {
    "collapsed": true
   },
   "outputs": [],
   "source": [
    "import gaussian"
   ]
  },
  {
   "cell_type": "code",
   "execution_count": 8,
   "metadata": {
    "collapsed": true
   },
   "outputs": [],
   "source": [
    "%load_ext autoreload\n",
    "%autoreload 2"
   ]
  },
  {
   "cell_type": "code",
   "execution_count": 9,
   "metadata": {
    "collapsed": false
   },
   "outputs": [],
   "source": [
    "gaus_i = gaussian.Gaussian('th_gaus')"
   ]
  },
  {
   "cell_type": "markdown",
   "metadata": {},
   "source": [
    "Add thiophene structure to calculation"
   ]
  },
  {
   "cell_type": "code",
   "execution_count": 10,
   "metadata": {
    "collapsed": false
   },
   "outputs": [],
   "source": [
    "gaus_i.set_strucC(bbTh)"
   ]
  },
  {
   "cell_type": "markdown",
   "metadata": {},
   "source": [
    "Set the resource. This gives the calculation information on the location of files and if files need to coppied to a remote computer"
   ]
  },
  {
   "cell_type": "code",
   "execution_count": 11,
   "metadata": {
    "collapsed": true
   },
   "outputs": [],
   "source": [
    "gaus_i.set_resource(res_i)"
   ]
  },
  {
   "cell_type": "markdown",
   "metadata": {},
   "source": [
    "Copy templates to scratch"
   ]
  },
  {
   "cell_type": "code",
   "execution_count": 12,
   "metadata": {
    "collapsed": false
   },
   "outputs": [
    {
     "name": "stdout",
     "output_type": "stream",
     "text": [
      "> in cp_file  templates run gaussian.sh templates scratch\n",
      "copying /Users/tkemper/Development/tools/examples/../templates/gaussian.sh to /Users/tkemper/Development/tools/examples/scratch/th_gaus/gaussian.sh \n"
     ]
    }
   ],
   "source": [
    "file_type = 'templates'\n",
    "file_key = 'run'\n",
    "file_name = \"gaussian.sh\"\n",
    "from_dirkey = 'templates'\n",
    "to_dirkey = 'scratch'\n",
    "gaus_i.cp_file(file_type,file_key,file_name,from_dirkey,to_dirkey)"
   ]
  },
  {
   "cell_type": "code",
   "execution_count": 13,
   "metadata": {
    "collapsed": false
   },
   "outputs": [
    {
     "name": "stdout",
     "output_type": "stream",
     "text": [
      "> in cp_file  templates com gaussian.com templates scratch\n",
      "copying /Users/tkemper/Development/tools/examples/../templates/gaussian.com to /Users/tkemper/Development/tools/examples/scratch/th_gaus/gaussian.com \n"
     ]
    }
   ],
   "source": [
    "file_type = 'templates'\n",
    "file_key = 'com'\n",
    "file_name = \"gaussian.com\"\n",
    "from_dirkey = 'templates'\n",
    "to_dirkey = 'scratch'\n",
    "gaus_i.cp_file(file_type,file_key,file_name,from_dirkey,to_dirkey)"
   ]
  },
  {
   "cell_type": "code",
   "execution_count": 14,
   "metadata": {
    "collapsed": false
   },
   "outputs": [
    {
     "name": "stdout",
     "output_type": "stream",
     "text": [
      "{'com': 'gaussian.com', 'run': 'gaussian.sh'}\n"
     ]
    }
   ],
   "source": [
    "print gaus_i.files[file_type]"
   ]
  },
  {
   "cell_type": "markdown",
   "metadata": {},
   "source": [
    "Change to scratch directory where files are "
   ]
  },
  {
   "cell_type": "code",
   "execution_count": 15,
   "metadata": {
    "collapsed": false
   },
   "outputs": [],
   "source": [
    "os.chdir(gaus_i.dir['scratch'])"
   ]
  },
  {
   "cell_type": "markdown",
   "metadata": {},
   "source": [
    "Load templates as strings"
   ]
  },
  {
   "cell_type": "code",
   "execution_count": 16,
   "metadata": {
    "collapsed": false
   },
   "outputs": [],
   "source": [
    "gaus_i.load_str('templates','com')"
   ]
  },
  {
   "cell_type": "code",
   "execution_count": 17,
   "metadata": {
    "collapsed": true
   },
   "outputs": [],
   "source": [
    "gaus_i.load_str('templates','run')"
   ]
  },
  {
   "cell_type": "code",
   "execution_count": 18,
   "metadata": {
    "collapsed": false
   },
   "outputs": [
    {
     "name": "stdout",
     "output_type": "stream",
     "text": [
      "{'run': '\\ng09 < <input_com> >&  <tag>.log\\n\\nformchk <tag>.chk\\n \\n\\n\\n\\n', 'com': '%chk=<tag>.chk\\n#P <commands> \\n\\n<tag> \\n\\n<charge> <spin_mult>\\n<coord>\\n\\n\\n'}\n"
     ]
    }
   ],
   "source": [
    "print gaus_i.str"
   ]
  },
  {
   "cell_type": "markdown",
   "metadata": {},
   "source": [
    "Set calculation properties specified in .com template"
   ]
  },
  {
   "cell_type": "code",
   "execution_count": 19,
   "metadata": {
    "collapsed": true
   },
   "outputs": [],
   "source": [
    "gaus_i.properties['commands'] = 'HF/3-21G SP'\n",
    "gaus_i.properties['charge'] = 0\n",
    "gaus_i.properties['spin_mult'] = 1\n",
    "gaus_i.properties['coord'] = gaus_i.strucC.write_coord()"
   ]
  },
  {
   "cell_type": "markdown",
   "metadata": {},
   "source": [
    "Write .com file and record it in calculation's input files"
   ]
  },
  {
   "cell_type": "code",
   "execution_count": 20,
   "metadata": {
    "collapsed": false
   },
   "outputs": [],
   "source": [
    "gaus_i.replacewrite_prop('com','input','com','%s.com'%(gaus_i.tag))"
   ]
  },
  {
   "cell_type": "markdown",
   "metadata": {},
   "source": [
    "Set calculation properties specified in .sh template"
   ]
  },
  {
   "cell_type": "code",
   "execution_count": 21,
   "metadata": {
    "collapsed": true
   },
   "outputs": [],
   "source": [
    "gaus_i.properties['input_com'] = gaus_i.files['input']['com']"
   ]
  },
  {
   "cell_type": "markdown",
   "metadata": {},
   "source": [
    "Write run script for running calculation"
   ]
  },
  {
   "cell_type": "code",
   "execution_count": 22,
   "metadata": {
    "collapsed": false
   },
   "outputs": [],
   "source": [
    "gaus_i.replacewrite_prop('run','scripts','run','%s.sh'%(gaus_i.tag))"
   ]
  },
  {
   "cell_type": "markdown",
   "metadata": {},
   "source": [
    "Add log file to output files"
   ]
  },
  {
   "cell_type": "code",
   "execution_count": 23,
   "metadata": {
    "collapsed": true
   },
   "outputs": [],
   "source": [
    "file_type = 'output'\n",
    "file_key = 'log'\n",
    "file_name = \"%s.log\"%(gaus_i.tag)\n",
    "gaus_i.add_file(file_type,file_key,file_name)"
   ]
  },
  {
   "cell_type": "code",
   "execution_count": 24,
   "metadata": {
    "collapsed": true
   },
   "outputs": [],
   "source": [
    "file_type = 'output'\n",
    "file_key = 'fchk'\n",
    "file_name = \"%s.fchk\"%(gaus_i.tag)\n",
    "gaus_i.add_file(file_type,file_key,file_name)"
   ]
  },
  {
   "cell_type": "markdown",
   "metadata": {},
   "source": [
    "Checkpoint calculation by outputing json file"
   ]
  },
  {
   "cell_type": "code",
   "execution_count": 25,
   "metadata": {
    "collapsed": true
   },
   "outputs": [],
   "source": [
    "os.chdir(gaus_i.dir['home'])\n",
    "gaus_i.dump_json()\n",
    "os.chdir(gaus_i.dir['scratch'])"
   ]
  },
  {
   "cell_type": "markdown",
   "metadata": {},
   "source": [
    "Run calculation"
   ]
  },
  {
   "cell_type": "code",
   "execution_count": null,
   "metadata": {
    "collapsed": false
   },
   "outputs": [],
   "source": [
    "gaus_i.run()"
   ]
  },
  {
   "cell_type": "markdown",
   "metadata": {},
   "source": [
    "Check the status of the calculation"
   ]
  },
  {
   "cell_type": "code",
   "execution_count": 26,
   "metadata": {
    "collapsed": false
   },
   "outputs": [
    {
     "name": "stdout",
     "output_type": "stream",
     "text": [
      "Running check in local directory /Users/tkemper/Development/tools/examples/scratch/th_gaus \n",
      "finished\n"
     ]
    }
   ],
   "source": [
    "gaus_i.check()\n",
    "print gaus_i.meta['status']"
   ]
  },
  {
   "cell_type": "markdown",
   "metadata": {},
   "source": [
    "Analyize output of calculation"
   ]
  },
  {
   "cell_type": "code",
   "execution_count": 27,
   "metadata": {
    "collapsed": false
   },
   "outputs": [],
   "source": [
    "gaus_i.analysis()"
   ]
  },
  {
   "cell_type": "markdown",
   "metadata": {},
   "source": [
    "Set charges of structure to mulliken charges from the calculation"
   ]
  },
  {
   "cell_type": "code",
   "execution_count": 28,
   "metadata": {
    "collapsed": false
   },
   "outputs": [
    {
     "name": "stdout",
     "output_type": "stream",
     "text": [
      "-0.71\n",
      "-0.2\n",
      "-0.2\n",
      "-0.71\n",
      "0.766\n",
      "0.28\n",
      "0.247\n",
      "0.247\n",
      "0.28\n"
     ]
    }
   ],
   "source": [
    "gaus_i.strucC.properties['charge'] = 0.0 \n",
    "for p,pt in gaus_i.strucC.particles.iteritems(): # properties[\"charge\"] \n",
    "    pt.properties[\"charge\"] = round(pt.properties[\"mulliken\"],3)\n",
    "    gaus_i.strucC.properties['charge']  += pt.properties[\"charge\"]\n",
    "    print pt.properties[\"charge\"]"
   ]
  },
  {
   "cell_type": "markdown",
   "metadata": {},
   "source": [
    "Check that rounding has not affected the total charge"
   ]
  },
  {
   "cell_type": "code",
   "execution_count": 29,
   "metadata": {
    "collapsed": false
   },
   "outputs": [
    {
     "name": "stdout",
     "output_type": "stream",
     "text": [
      "Total charge 0.000000 \n"
     ]
    }
   ],
   "source": [
    "print \"Total charge %f \"%(gaus_i.strucC.properties['charge'])"
   ]
  },
  {
   "cell_type": "markdown",
   "metadata": {},
   "source": [
    "Store output "
   ]
  },
  {
   "cell_type": "code",
   "execution_count": 30,
   "metadata": {
    "collapsed": false
   },
   "outputs": [
    {
     "name": "stdout",
     "output_type": "stream",
     "text": [
      "runnning store function in /Users/tkemper/Development/tools/examples/scratch/th_gaus \n",
      "Adding input file th_gaus.com with key com \n",
      "> in cp_file  input compressed th_gaus_input.tgz scratch storage\n",
      "copying /Users/tkemper/Development/tools/examples/scratch/th_gaus/th_gaus_input.tgz to /Users/tkemper/Development/tools/examples/storage/th_gaus/th_gaus_input.tgz \n",
      "Adding scripts file th_gaus.sh with key run \n",
      "> in cp_file  scripts compressed th_gaus_scripts.tgz scratch storage\n",
      "copying /Users/tkemper/Development/tools/examples/scratch/th_gaus/th_gaus_scripts.tgz to /Users/tkemper/Development/tools/examples/storage/th_gaus/th_gaus_scripts.tgz \n",
      "Adding output file th_gaus.log with key log \n",
      "Adding output file th_gaus.fchk with key fchk \n",
      "> in cp_file  output compressed th_gaus_output.tgz scratch storage\n",
      "copying /Users/tkemper/Development/tools/examples/scratch/th_gaus/th_gaus_output.tgz to /Users/tkemper/Development/tools/examples/storage/th_gaus/th_gaus_output.tgz \n",
      "No files of type data present\n"
     ]
    }
   ],
   "source": [
    "gaus_i.store()"
   ]
  },
  {
   "cell_type": "markdown",
   "metadata": {},
   "source": [
    "Check that that data can be pulled into the local scratch directory "
   ]
  },
  {
   "cell_type": "code",
   "execution_count": 31,
   "metadata": {
    "collapsed": false
   },
   "outputs": [
    {
     "name": "stdout",
     "output_type": "stream",
     "text": [
      "runnning pull function in /Users/tkemper/Development/tools/examples/scratch/th_gaus \n",
      "> in cp_file  output compressed th_gaus_output.tgz storage scratch\n",
      "copying /Users/tkemper/Development/tools/examples/storage/th_gaus/th_gaus_output.tgz to /Users/tkemper/Development/tools/examples/scratch/th_gaus/th_gaus_output.tgz \n"
     ]
    }
   ],
   "source": [
    "gaus_i.pull()"
   ]
  },
  {
   "cell_type": "markdown",
   "metadata": {},
   "source": [
    "Guassian calculation of thiophene is finished, return to home directory of calculation"
   ]
  },
  {
   "cell_type": "code",
   "execution_count": 32,
   "metadata": {
    "collapsed": true
   },
   "outputs": [],
   "source": [
    "os.chdir(gaus_i.dir['home'])"
   ]
  },
  {
   "cell_type": "code",
   "execution_count": 33,
   "metadata": {
    "collapsed": true
   },
   "outputs": [],
   "source": [
    "gaus_i.dump_json()"
   ]
  },
  {
   "cell_type": "markdown",
   "metadata": {},
   "source": [
    "Start lammps calculation"
   ]
  },
  {
   "cell_type": "code",
   "execution_count": 34,
   "metadata": {
    "collapsed": true
   },
   "outputs": [],
   "source": [
    "import lammps"
   ]
  },
  {
   "cell_type": "code",
   "execution_count": 35,
   "metadata": {
    "collapsed": false
   },
   "outputs": [
    {
     "name": "stdout",
     "output_type": "stream",
     "text": [
      "The autoreload extension is already loaded. To reload it, use:\n",
      "  %reload_ext autoreload\n"
     ]
    }
   ],
   "source": [
    "%load_ext autoreload\n",
    "%autoreload 2"
   ]
  },
  {
   "cell_type": "code",
   "execution_count": 36,
   "metadata": {
    "collapsed": false
   },
   "outputs": [],
   "source": [
    "lmp_i = lammps.LAMMPS('th_lmp')"
   ]
  },
  {
   "cell_type": "code",
   "execution_count": 37,
   "metadata": {
    "collapsed": true
   },
   "outputs": [],
   "source": [
    "lmp_i.set_resource(res_i)\n"
   ]
  },
  {
   "cell_type": "markdown",
   "metadata": {},
   "source": [
    "Convert the structure from the gaussian output to the lammmps calculation"
   ]
  },
  {
   "cell_type": "code",
   "execution_count": 38,
   "metadata": {
    "collapsed": false
   },
   "outputs": [],
   "source": [
    "lmp_i.convert_gaussian(gaus_i)"
   ]
  },
  {
   "cell_type": "markdown",
   "metadata": {},
   "source": [
    "Set box size"
   ]
  },
  {
   "cell_type": "code",
   "execution_count": 39,
   "metadata": {
    "collapsed": true
   },
   "outputs": [],
   "source": [
    "lmp_i.strucC.lat_cubic(25.0)"
   ]
  },
  {
   "cell_type": "markdown",
   "metadata": {},
   "source": [
    "Find nieghbors bassed on distances and covalent radii"
   ]
  },
  {
   "cell_type": "code",
   "execution_count": 40,
   "metadata": {
    "collapsed": false
   },
   "outputs": [],
   "source": [
    "lmp_i.strucC.bonded_nblist.guess_nblist(lmp_i.strucC.lat,lmp_i.strucC.particles,lmp_i.strucC.positions,\"cov_radii\",radii_buffer=1.25)"
   ]
  },
  {
   "cell_type": "markdown",
   "metadata": {},
   "source": [
    "Read in force-field parameters"
   ]
  },
  {
   "cell_type": "code",
   "execution_count": 41,
   "metadata": {
    "collapsed": false
   },
   "outputs": [],
   "source": [
    "lmp_i.read_param(\"conj.param\")"
   ]
  },
  {
   "cell_type": "markdown",
   "metadata": {},
   "source": [
    "Guess force-field atom types "
   ]
  },
  {
   "cell_type": "code",
   "execution_count": 42,
   "metadata": {
    "collapsed": false
   },
   "outputs": [],
   "source": [
    "lmp_i.strucC.guess_oplsa()"
   ]
  },
  {
   "cell_type": "markdown",
   "metadata": {},
   "source": [
    "Set bonded interactions"
   ]
  },
  {
   "cell_type": "code",
   "execution_count": 43,
   "metadata": {
    "collapsed": true
   },
   "outputs": [],
   "source": [
    "lmp_i.strucC.bonded_bonds()\n",
    "lmp_i.strucC.bonded_angles()\n",
    "lmp_i.strucC.bonded_dih()"
   ]
  },
  {
   "cell_type": "markdown",
   "metadata": {},
   "source": [
    "Clean up force-field parameters so only the parameters for the interactions in the molecule are included"
   ]
  },
  {
   "cell_type": "code",
   "execution_count": 44,
   "metadata": {
    "collapsed": false
   },
   "outputs": [],
   "source": [
    "lmp_i.set_ffparam()"
   ]
  },
  {
   "cell_type": "markdown",
   "metadata": {},
   "source": [
    "Read in templates"
   ]
  },
  {
   "cell_type": "code",
   "execution_count": 45,
   "metadata": {
    "collapsed": false
   },
   "outputs": [
    {
     "name": "stdout",
     "output_type": "stream",
     "text": [
      "> in cp_file  templates in lammps_sp.in templates scratch\n",
      "copying /Users/tkemper/Development/tools/examples/../templates/lammps_sp.in to /Users/tkemper/Development/tools/examples/scratch/th_lmp/lammps_sp.in \n"
     ]
    }
   ],
   "source": [
    "file_type = 'templates'\n",
    "file_key = 'in'\n",
    "file_name = \"lammps_sp.in\"\n",
    "from_dirkey = 'templates'\n",
    "to_dirkey = 'scratch'\n",
    "lmp_i.cp_file(file_type,file_key,file_name,from_dirkey,to_dirkey)"
   ]
  },
  {
   "cell_type": "code",
   "execution_count": 46,
   "metadata": {
    "collapsed": false
   },
   "outputs": [
    {
     "name": "stdout",
     "output_type": "stream",
     "text": [
      "> in cp_file  templates run lammps.sh templates scratch\n",
      "copying /Users/tkemper/Development/tools/examples/../templates/lammps.sh to /Users/tkemper/Development/tools/examples/scratch/th_lmp/lammps.sh \n"
     ]
    }
   ],
   "source": [
    "file_type = 'templates'\n",
    "file_key = 'run'\n",
    "file_name = \"lammps.sh\"\n",
    "from_dirkey = 'templates'\n",
    "to_dirkey = 'scratch'\n",
    "lmp_i.cp_file(file_type,file_key,file_name,from_dirkey,to_dirkey)"
   ]
  },
  {
   "cell_type": "code",
   "execution_count": 47,
   "metadata": {
    "collapsed": false
   },
   "outputs": [
    {
     "name": "stdout",
     "output_type": "stream",
     "text": [
      "{'run': 'lammps.sh', 'in': 'lammps_sp.in'}\n"
     ]
    }
   ],
   "source": [
    "print lmp_i.files[file_type]"
   ]
  },
  {
   "cell_type": "markdown",
   "metadata": {},
   "source": [
    "Write input files in scratch directory"
   ]
  },
  {
   "cell_type": "code",
   "execution_count": 48,
   "metadata": {
    "collapsed": false
   },
   "outputs": [],
   "source": [
    "os.chdir(lmp_i.dir['scratch'])"
   ]
  },
  {
   "cell_type": "code",
   "execution_count": 49,
   "metadata": {
    "collapsed": false
   },
   "outputs": [],
   "source": [
    "lmp_i.load_str('templates','run')"
   ]
  },
  {
   "cell_type": "code",
   "execution_count": 50,
   "metadata": {
    "collapsed": false
   },
   "outputs": [],
   "source": [
    "lmp_i.load_str('templates','in')"
   ]
  },
  {
   "cell_type": "code",
   "execution_count": 51,
   "metadata": {
    "collapsed": true
   },
   "outputs": [],
   "source": [
    "lmp_i.write_data()"
   ]
  },
  {
   "cell_type": "code",
   "execution_count": 52,
   "metadata": {
    "collapsed": false
   },
   "outputs": [],
   "source": [
    "lmp_i.replacewrite_prop('in','input','in','%s.in'%(lmp_i.tag))"
   ]
  },
  {
   "cell_type": "code",
   "execution_count": 53,
   "metadata": {
    "collapsed": false
   },
   "outputs": [],
   "source": [
    "lmp_i.properties['input_in'] = lmp_i.files['input']['in']"
   ]
  },
  {
   "cell_type": "code",
   "execution_count": 54,
   "metadata": {
    "collapsed": true
   },
   "outputs": [],
   "source": [
    "lmp_i.replacewrite_prop('run','scripts','run','%s.sh'%(lmp_i.tag))"
   ]
  },
  {
   "cell_type": "markdown",
   "metadata": {},
   "source": [
    "Add output log file to output files"
   ]
  },
  {
   "cell_type": "code",
   "execution_count": 55,
   "metadata": {
    "collapsed": true
   },
   "outputs": [],
   "source": [
    "file_type = 'output'\n",
    "file_key = 'log'\n",
    "file_name = \"%s.log\"%(lmp_i.tag)\n",
    "lmp_i.add_file(file_type,file_key,file_name)"
   ]
  },
  {
   "cell_type": "code",
   "execution_count": 56,
   "metadata": {
    "collapsed": true
   },
   "outputs": [],
   "source": [
    "os.chdir(lmp_i.dir['home'])\n",
    "lmp_i.dump_json()\n",
    "os.chdir(lmp_i.dir['scratch'])"
   ]
  },
  {
   "cell_type": "markdown",
   "metadata": {},
   "source": [
    "Run calculation"
   ]
  },
  {
   "cell_type": "code",
   "execution_count": null,
   "metadata": {
    "collapsed": false
   },
   "outputs": [],
   "source": [
    "lmp_i.run()"
   ]
  },
  {
   "cell_type": "code",
   "execution_count": 57,
   "metadata": {
    "collapsed": false
   },
   "outputs": [
    {
     "name": "stdout",
     "output_type": "stream",
     "text": [
      "Running check in local directory /Users/tkemper/Development/tools/examples/scratch/th_lmp \n",
      "finished\n"
     ]
    }
   ],
   "source": [
    "lmp_i.check()\n",
    "print lmp_i.meta['status']"
   ]
  },
  {
   "cell_type": "code",
   "execution_count": 93,
   "metadata": {
    "collapsed": false
   },
   "outputs": [
    {
     "name": "stdout",
     "output_type": "stream",
     "text": [
      "finished\n"
     ]
    }
   ],
   "source": [
    "lmp_i.analysis()\n",
    "print lmp_i.meta['status']"
   ]
  },
  {
   "cell_type": "code",
   "execution_count": 99,
   "metadata": {
    "collapsed": false
   },
   "outputs": [
    {
     "name": "stdout",
     "output_type": "stream",
     "text": [
      "1\n",
      "0.5 ['e_tail', 'e_dihed', 'temp', 'e_long', 'e_bond', 'e_coul', 'volume', 'step', 'e_impro', 'e_vdwl', 'e_angle', 'press', 'toteng', 'lz', 'poteng', 'lx', 'ly']\n",
      "[0.0, 1.0]\n",
      "[30.77175, 30.77175]\n",
      "[30.77175, 30.77175]\n"
     ]
    }
   ],
   "source": [
    "print lmp_i.properties['run_cnt']\n",
    "run_i = lmp_i.properties['run_list'][0]\n",
    "print run_i.properties['timestep'],run_i.timeseries.keys()\n",
    "print run_i.timeseries['step']\n",
    "print run_i.timeseries['toteng']\n",
    "print run_i.timeseries['poteng']"
   ]
  },
  {
   "cell_type": "code",
   "execution_count": null,
   "metadata": {
    "collapsed": true
   },
   "outputs": [],
   "source": []
  },
  {
   "cell_type": "code",
   "execution_count": null,
   "metadata": {
    "collapsed": true
   },
   "outputs": [],
   "source": []
  },
  {
   "cell_type": "code",
   "execution_count": null,
   "metadata": {
    "collapsed": true
   },
   "outputs": [],
   "source": [
    "import gromacs"
   ]
  },
  {
   "cell_type": "code",
   "execution_count": null,
   "metadata": {
    "collapsed": true
   },
   "outputs": [],
   "source": [
    "gro_i = gromacs.GROMACS(\"th\")"
   ]
  },
  {
   "cell_type": "code",
   "execution_count": null,
   "metadata": {
    "collapsed": true
   },
   "outputs": [],
   "source": [
    "gro_i.read_itp('conj.itp')"
   ]
  },
  {
   "cell_type": "code",
   "execution_count": null,
   "metadata": {
    "collapsed": false
   },
   "outputs": [],
   "source": [
    "lmp_i.convert_GROMACS(gro_i)"
   ]
  },
  {
   "cell_type": "code",
   "execution_count": null,
   "metadata": {
    "collapsed": true
   },
   "outputs": [],
   "source": [
    "lmp_i.write_data()"
   ]
  },
  {
   "cell_type": "code",
   "execution_count": null,
   "metadata": {
    "collapsed": false
   },
   "outputs": [],
   "source": [
    "lmp_i.write_param(\"t1.param\")"
   ]
  },
  {
   "cell_type": "code",
   "execution_count": null,
   "metadata": {
    "collapsed": false
   },
   "outputs": [],
   "source": [
    "del lmp_i"
   ]
  },
  {
   "cell_type": "code",
   "execution_count": null,
   "metadata": {
    "collapsed": true
   },
   "outputs": [],
   "source": []
  }
 ],
 "metadata": {
  "anaconda-cloud": {},
  "kernelspec": {
   "display_name": "Python [conda root]",
   "language": "python",
   "name": "conda-root-py"
  },
  "language_info": {
   "codemirror_mode": {
    "name": "ipython",
    "version": 2
   },
   "file_extension": ".py",
   "mimetype": "text/x-python",
   "name": "python",
   "nbconvert_exporter": "python",
   "pygments_lexer": "ipython2",
   "version": "2.7.12"
  }
 },
 "nbformat": 4,
 "nbformat_minor": 0
}
