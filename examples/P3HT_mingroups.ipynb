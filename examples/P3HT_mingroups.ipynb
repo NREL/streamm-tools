{
 "cells": [
  {
   "cell_type": "markdown",
   "metadata": {},
   "source": [
    "Minimize groups "
   ]
  },
  {
   "cell_type": "code",
   "execution_count": 1,
   "metadata": {
    "collapsed": true
   },
   "outputs": [],
   "source": [
    "import os,sys, copy, pickle"
   ]
  },
  {
   "cell_type": "code",
   "execution_count": 2,
   "metadata": {
    "collapsed": true
   },
   "outputs": [],
   "source": [
    "import pandas as pd"
   ]
  },
  {
   "cell_type": "code",
   "execution_count": 3,
   "metadata": {
    "collapsed": false
   },
   "outputs": [],
   "source": [
    "from streamm import *"
   ]
  },
  {
   "cell_type": "code",
   "execution_count": 4,
   "metadata": {
    "collapsed": true
   },
   "outputs": [],
   "source": [
    "%load_ext autoreload\n",
    "%autoreload 2"
   ]
  },
  {
   "cell_type": "code",
   "execution_count": 5,
   "metadata": {
    "collapsed": false
   },
   "outputs": [
    {
     "name": "stdout",
     "output_type": "stream",
     "text": [
      "Reading in resource json file res_local.json \n"
     ]
    }
   ],
   "source": [
    "res_tag = 'local'  # Change this to remote to run the calculations remotely \n",
    "res_local = resource.Resource(res_tag)\n",
    "res_local.load_json()"
   ]
  },
  {
   "cell_type": "code",
   "execution_count": 6,
   "metadata": {
    "collapsed": true
   },
   "outputs": [],
   "source": [
    "res_local.make_dir()"
   ]
  },
  {
   "cell_type": "code",
   "execution_count": 7,
   "metadata": {
    "collapsed": false
   },
   "outputs": [
    {
     "name": "stdout",
     "output_type": "stream",
     "text": [
      "Reading in resource json file res_peregrine.json \n"
     ]
    }
   ],
   "source": [
    "peregrine = resource.Resource('peregrine')\n",
    "peregrine.load_json()"
   ]
  },
  {
   "cell_type": "markdown",
   "metadata": {},
   "source": [
    "Find sub list of particle keys to be included in et calculation"
   ]
  },
  {
   "cell_type": "code",
   "execution_count": 8,
   "metadata": {
    "collapsed": false
   },
   "outputs": [
    {
     "data": {
      "text/plain": [
       "'/Users/tkemper/Development/streamm_ext/streamm-tools/examples'"
      ]
     },
     "execution_count": 8,
     "metadata": {},
     "output_type": "execute_result"
    }
   ],
   "source": [
    "os.getcwd()"
   ]
  },
  {
   "cell_type": "markdown",
   "metadata": {},
   "source": [
    "Load bulk simulation"
   ]
  },
  {
   "cell_type": "code",
   "execution_count": 9,
   "metadata": {
    "collapsed": false
   },
   "outputs": [
    {
     "name": "stdout",
     "output_type": "stream",
     "text": [
      "Resource tag found peregrine \n",
      "Reading in resource json file res_peregrine.json \n"
     ]
    }
   ],
   "source": [
    "xO = 20\n",
    "lmp_bulk = lammps.LAMMPS('p3ht_n10_esp_x%d'%(xO))\n",
    "lmp_bulk.load_json()"
   ]
  },
  {
   "cell_type": "code",
   "execution_count": 10,
   "metadata": {
    "collapsed": false
   },
   "outputs": [],
   "source": [
    "equ_gmin = calculation.CalculationRes('%s_gmin1'%(lmp_bulk.tag))"
   ]
  },
  {
   "cell_type": "code",
   "execution_count": 19,
   "metadata": {
    "collapsed": true
   },
   "outputs": [],
   "source": [
    "equ_gmin.set_resource(peregrine)"
   ]
  },
  {
   "cell_type": "code",
   "execution_count": 12,
   "metadata": {
    "collapsed": false
   },
   "outputs": [],
   "source": [
    "#equ_gmin.dir['launch'] = equ_gmin.dir['scratch']"
   ]
  },
  {
   "cell_type": "code",
   "execution_count": 13,
   "metadata": {
    "collapsed": true
   },
   "outputs": [],
   "source": [
    "equ_gmin.properties['scratch'] = equ_gmin.dir['scratch']"
   ]
  },
  {
   "cell_type": "code",
   "execution_count": 14,
   "metadata": {
    "collapsed": false
   },
   "outputs": [],
   "source": [
    "equ_gmin.add_refcalc(lmp_bulk)"
   ]
  },
  {
   "cell_type": "code",
   "execution_count": 29,
   "metadata": {
    "collapsed": false
   },
   "outputs": [
    {
     "name": "stdout",
     "output_type": "stream",
     "text": [
      "/Users/tkemper/Development/streamm_ext/streamm-tools/scripts\n"
     ]
    }
   ],
   "source": [
    "equ_gmin.dir['scripts'] = '/Users/tkemper/Development/streamm_ext/streamm-tools/scripts'\n",
    "print equ_gmin.dir['scripts']"
   ]
  },
  {
   "cell_type": "code",
   "execution_count": 30,
   "metadata": {
    "collapsed": false
   },
   "outputs": [
    {
     "name": "stdout",
     "output_type": "stream",
     "text": [
      "/Users/tkemper/Development/streamm_ext/streamm-tools/templates\n"
     ]
    }
   ],
   "source": [
    "equ_gmin.dir['templates'] = '/Users/tkemper/Development/streamm_ext/streamm-tools/templates'\n",
    "print equ_gmin.dir['templates']"
   ]
  },
  {
   "cell_type": "code",
   "execution_count": 17,
   "metadata": {
    "collapsed": false
   },
   "outputs": [
    {
     "name": "stdout",
     "output_type": "stream",
     "text": [
      "Making /scratch/tkemper/p3ht_n10_esp_x20_gmin1/ \n"
     ]
    }
   ],
   "source": [
    "equ_gmin.make_dir()"
   ]
  },
  {
   "cell_type": "code",
   "execution_count": 20,
   "metadata": {
    "collapsed": false
   },
   "outputs": [],
   "source": [
    "os.chdir(equ_gmin.dir['launch'])"
   ]
  },
  {
   "cell_type": "code",
   "execution_count": 21,
   "metadata": {
    "collapsed": false
   },
   "outputs": [
    {
     "name": "stdout",
     "output_type": "stream",
     "text": [
      "> in cp_file  input cply p3ht_n10_x20_nvt.cply home launch\n",
      "copying /Users/tkemper/Development/streamm_ext/streamm-tools/examples/p3ht_n10_x20_nvt.cply to /Users/tkemper/Development/streamm_ext/streamm-tools/examples/scratch/p3ht_n10_esp_x20_gmin1/p3ht_n10_x20_nvt.cply \n"
     ]
    }
   ],
   "source": [
    "file_type = 'input'\n",
    "file_key = 'cply'\n",
    "file_name = \"p3ht_n10_x20_nvt.cply\"\n",
    "from_dirkey = 'home'\n",
    "to_dirkey = 'launch'\n",
    "equ_gmin.cp_file(file_type,file_key,file_name,from_dirkey,to_dirkey)"
   ]
  },
  {
   "cell_type": "code",
   "execution_count": 41,
   "metadata": {
    "collapsed": false
   },
   "outputs": [
    {
     "name": "stdout",
     "output_type": "stream",
     "text": [
      "> in cp_file  templates run streamm_peregrine.pbs templates launch\n",
      "copying /Users/tkemper/Development/streamm_ext/streamm-tools/templates/streamm_peregrine.pbs to /Users/tkemper/Development/streamm_ext/streamm-tools/examples/scratch/p3ht_n10_esp_x20_gmin1/streamm_peregrine.pbs \n"
     ]
    }
   ],
   "source": [
    "file_type = 'templates'\n",
    "file_key = 'run'\n",
    "#file_name = \"streamm.sh\"\n",
    "file_name = \"streamm_peregrine.pbs\"\n",
    "from_dirkey = 'templates'\n",
    "to_dirkey = 'launch'\n",
    "equ_gmin.cp_file(file_type,file_key,file_name,from_dirkey,to_dirkey)"
   ]
  },
  {
   "cell_type": "code",
   "execution_count": 42,
   "metadata": {
    "collapsed": false
   },
   "outputs": [
    {
     "name": "stdout",
     "output_type": "stream",
     "text": [
      "> in cp_file  templates t_in lammps_min.in templates launch\n",
      "copying /Users/tkemper/Development/streamm_ext/streamm-tools/templates/lammps_min.in to /Users/tkemper/Development/streamm_ext/streamm-tools/examples/scratch/p3ht_n10_esp_x20_gmin1/lammps_min.in \n"
     ]
    }
   ],
   "source": [
    "file_type = 'templates'\n",
    "file_key = 't_in'\n",
    "file_name = \"lammps_min.in\"\n",
    "from_dirkey = 'templates'\n",
    "to_dirkey = 'launch'\n",
    "equ_gmin.cp_file(file_type,file_key,file_name,from_dirkey,to_dirkey)"
   ]
  },
  {
   "cell_type": "code",
   "execution_count": 43,
   "metadata": {
    "collapsed": false
   },
   "outputs": [
    {
     "name": "stdout",
     "output_type": "stream",
     "text": [
      "> in cp_file  input param conj.param home launch\n",
      "copying /Users/tkemper/Development/streamm_ext/streamm-tools/examples/conj.param to /Users/tkemper/Development/streamm_ext/streamm-tools/examples/scratch/p3ht_n10_esp_x20_gmin1/conj.param \n"
     ]
    }
   ],
   "source": [
    "file_type = 'input'\n",
    "file_key = 'param'\n",
    "file_name = \"conj.param\"\n",
    "from_dirkey = 'home'\n",
    "to_dirkey = 'launch'\n",
    "equ_gmin.cp_file(file_type,file_key,file_name,from_dirkey,to_dirkey)"
   ]
  },
  {
   "cell_type": "code",
   "execution_count": 44,
   "metadata": {
    "collapsed": false
   },
   "outputs": [
    {
     "name": "stdout",
     "output_type": "stream",
     "text": [
      "> in cp_file  templates t_run lammps_peregrine.sh templates launch\n",
      "copying /Users/tkemper/Development/streamm_ext/streamm-tools/templates/lammps_peregrine.sh to /Users/tkemper/Development/streamm_ext/streamm-tools/examples/scratch/p3ht_n10_esp_x20_gmin1/lammps_peregrine.sh \n"
     ]
    }
   ],
   "source": [
    "file_type = 'templates'\n",
    "file_key = 't_run'\n",
    "file_name = \"lammps_peregrine.sh\"\n",
    "#file_name = \"lammps.sh\"\n",
    "from_dirkey = 'templates'\n",
    "to_dirkey = 'launch'\n",
    "equ_gmin.cp_file(file_type,file_key,file_name,from_dirkey,to_dirkey)"
   ]
  },
  {
   "cell_type": "code",
   "execution_count": 45,
   "metadata": {
    "collapsed": false
   },
   "outputs": [
    {
     "name": "stdout",
     "output_type": "stream",
     "text": [
      "> in cp_file  input run_proj run_proj.py scripts launch\n",
      "copying /Users/tkemper/Development/streamm_ext/streamm-tools/scripts/run_proj.py to /Users/tkemper/Development/streamm_ext/streamm-tools/examples/scratch/p3ht_n10_esp_x20_gmin1/run_proj.py \n"
     ]
    }
   ],
   "source": [
    "file_type = 'input'\n",
    "file_key = 'run_proj'\n",
    "file_name = \"run_proj.py\"\n",
    "from_dirkey = 'scripts'\n",
    "to_dirkey = 'launch'\n",
    "equ_gmin.cp_file(file_type,file_key,file_name,from_dirkey,to_dirkey)"
   ]
  },
  {
   "cell_type": "code",
   "execution_count": 46,
   "metadata": {
    "collapsed": false
   },
   "outputs": [
    {
     "name": "stdout",
     "output_type": "stream",
     "text": [
      "> in cp_file  input py_script gmin1.py scripts launch\n",
      "copying /Users/tkemper/Development/streamm_ext/streamm-tools/scripts/gmin1.py to /Users/tkemper/Development/streamm_ext/streamm-tools/examples/scratch/p3ht_n10_esp_x20_gmin1/gmin1.py \n"
     ]
    }
   ],
   "source": [
    "file_type = 'input'\n",
    "file_key = 'py_script'\n",
    "file_name = \"gmin1.py\"\n",
    "from_dirkey = 'scripts'\n",
    "to_dirkey = 'launch'\n",
    "equ_gmin.cp_file(file_type,file_key,file_name,from_dirkey,to_dirkey)"
   ]
  },
  {
   "cell_type": "code",
   "execution_count": 47,
   "metadata": {
    "collapsed": true
   },
   "outputs": [],
   "source": [
    "equ_gmin.properties['finish_str'] ='Finished'"
   ]
  },
  {
   "cell_type": "code",
   "execution_count": 48,
   "metadata": {
    "collapsed": false
   },
   "outputs": [
    {
     "name": "stdout",
     "output_type": "stream",
     "text": [
      "python gmin1.py  p3ht_n10_esp_x20_gmin1 --cply p3ht_n10_x20_nvt.cply --t_in lammps_min.in --t_run lammps_peregrine.sh --proj_res peregrine --proj_run streamm_peregrine.pbs \n"
     ]
    }
   ],
   "source": [
    "equ_gmin.properties['streamm_command'] = 'python %s  %s --cply %s '%(equ_gmin.files['input']['py_script'],equ_gmin.tag,equ_gmin.files['input']['cply'])\n",
    "equ_gmin.properties['streamm_command'] += '--t_in %s --t_run %s '%(equ_gmin.files['templates']['t_in'],equ_gmin.files['templates']['t_run'])\n",
    "equ_gmin.properties['streamm_command'] += '--proj_res %s '%equ_gmin.resource.tag\n",
    "equ_gmin.properties['streamm_command'] += '--proj_run %s '%(equ_gmin.files['templates']['run'])\n",
    "\n",
    "\n",
    "print equ_gmin.properties['streamm_command']"
   ]
  },
  {
   "cell_type": "code",
   "execution_count": 49,
   "metadata": {
    "collapsed": true
   },
   "outputs": [],
   "source": [
    "equ_gmin.load_str('templates','run')"
   ]
  },
  {
   "cell_type": "code",
   "execution_count": 50,
   "metadata": {
    "collapsed": true
   },
   "outputs": [],
   "source": [
    "equ_gmin.replacewrite_prop('run','scripts','run','%s.pbs'%(equ_gmin.tag))"
   ]
  },
  {
   "cell_type": "code",
   "execution_count": 51,
   "metadata": {
    "collapsed": false
   },
   "outputs": [],
   "source": [
    "file_type = 'output'\n",
    "file_key = 'log'\n",
    "file_name = \"%s.log\"%(equ_gmin.tag)\n",
    "equ_gmin.add_file(file_type,file_key,file_name)"
   ]
  },
  {
   "cell_type": "code",
   "execution_count": 53,
   "metadata": {
    "collapsed": false
   },
   "outputs": [
    {
     "name": "stdout",
     "output_type": "stream",
     "text": [
      " Resource type ssh \n",
      "runnning push function in /Users/tkemper/Development/streamm_ext/streamm-tools/examples/scratch/p3ht_n10_esp_x20_gmin1 \n",
      "Compressing and copying input files to scratch directory \n",
      " file_i  p3ht_n10_x20_nvt.cply\n",
      " file_i  gmin1.py\n",
      " file_i  p3ht_n10_esp_x20_gmin1_input.tgz\n",
      " file_i  conj.param\n",
      " file_i  run_proj.py\n",
      "> compressed_file  p3ht_n10_esp_x20_gmin1_input.tgz\n",
      "Compressing and copying templates files to scratch directory \n",
      " file_i  lammps_min.in\n",
      " file_i  streamm_peregrine.pbs\n",
      " file_i  p3ht_n10_esp_x20_gmin1_templates.tgz\n",
      " file_i  lammps_peregrine.sh\n",
      "> compressed_file  p3ht_n10_esp_x20_gmin1_templates.tgz\n",
      "Compressing and copying scripts files to scratch directory \n",
      " file_i  p3ht_n10_esp_x20_gmin1.pbs\n",
      " file_i  p3ht_n10_esp_x20_gmin1_scripts.tgz\n",
      "> compressed_file  p3ht_n10_esp_x20_gmin1_scripts.tgz\n",
      "Copying output of reference calculations p3ht_n10_esp_x20\n"
     ]
    }
   ],
   "source": [
    "equ_gmin.push()"
   ]
  },
  {
   "cell_type": "code",
   "execution_count": 54,
   "metadata": {
    "collapsed": false
   },
   "outputs": [
    {
     "name": "stdout",
     "output_type": "stream",
     "text": [
      "Calculation with status written \n",
      "Resource type ssh \n",
      "Executing run command ssh tkemper@peregrine.hpc.nrel.gov ' cd /scratch/tkemper/p3ht_n10_esp_x20_gmin1/ ; qsub p3ht_n10_esp_x20_gmin1.pbs '  \n"
     ]
    }
   ],
   "source": [
    "equ_gmin.run()"
   ]
  },
  {
   "cell_type": "code",
   "execution_count": null,
   "metadata": {
    "collapsed": true
   },
   "outputs": [],
   "source": []
  },
  {
   "cell_type": "code",
   "execution_count": null,
   "metadata": {
    "collapsed": true
   },
   "outputs": [],
   "source": []
  },
  {
   "cell_type": "code",
   "execution_count": null,
   "metadata": {
    "collapsed": true
   },
   "outputs": [],
   "source": []
  },
  {
   "cell_type": "code",
   "execution_count": null,
   "metadata": {
    "collapsed": true
   },
   "outputs": [],
   "source": []
  },
  {
   "cell_type": "code",
   "execution_count": null,
   "metadata": {
    "collapsed": true
   },
   "outputs": [],
   "source": []
  },
  {
   "cell_type": "code",
   "execution_count": null,
   "metadata": {
    "collapsed": true
   },
   "outputs": [],
   "source": []
  },
  {
   "cell_type": "code",
   "execution_count": null,
   "metadata": {
    "collapsed": true
   },
   "outputs": [],
   "source": []
  },
  {
   "cell_type": "code",
   "execution_count": null,
   "metadata": {
    "collapsed": false
   },
   "outputs": [],
   "source": [
    "os.getcwd()"
   ]
  },
  {
   "cell_type": "code",
   "execution_count": null,
   "metadata": {
    "collapsed": true
   },
   "outputs": [],
   "source": [
    "os.chdir('/Users/tkemper/Development/streamm_ext/streamm-tools/examples/scratch/p3ht_n10_esp_x20_gmin1')"
   ]
  },
  {
   "cell_type": "code",
   "execution_count": null,
   "metadata": {
    "collapsed": true
   },
   "outputs": [],
   "source": [
    "calc_tag = 'p3ht_n10_esp_x20_gmin1'"
   ]
  },
  {
   "cell_type": "code",
   "execution_count": null,
   "metadata": {
    "collapsed": false
   },
   "outputs": [],
   "source": [
    "proj_i = project.Project(calc_tag)\n",
    "proj_i.load_json()"
   ]
  },
  {
   "cell_type": "code",
   "execution_count": null,
   "metadata": {
    "collapsed": false
   },
   "outputs": [],
   "source": [
    "print proj_i.calculations"
   ]
  },
  {
   "cell_type": "code",
   "execution_count": null,
   "metadata": {
    "collapsed": false
   },
   "outputs": [],
   "source": [
    "for calc_key,calc_i in proj_i.calculations.iteritems():\n",
    "    print calc_key,calc_i.tag"
   ]
  },
  {
   "cell_type": "code",
   "execution_count": null,
   "metadata": {
    "collapsed": false
   },
   "outputs": [],
   "source": [
    "proj_i.run()"
   ]
  },
  {
   "cell_type": "code",
   "execution_count": null,
   "metadata": {
    "collapsed": false
   },
   "outputs": [],
   "source": [
    "proj_i.check()"
   ]
  },
  {
   "cell_type": "code",
   "execution_count": null,
   "metadata": {
    "collapsed": true
   },
   "outputs": [],
   "source": []
  },
  {
   "cell_type": "code",
   "execution_count": null,
   "metadata": {
    "collapsed": true
   },
   "outputs": [],
   "source": [
    "list_th = [str(pkey) for pkey in sub_th.index]"
   ]
  },
  {
   "cell_type": "code",
   "execution_count": null,
   "metadata": {
    "collapsed": true
   },
   "outputs": [],
   "source": [
    "outfile = open('list_th','wb')\n",
    "outfile.write(\"\\n\".join(list_th))\n",
    "outfile.close()"
   ]
  },
  {
   "cell_type": "code",
   "execution_count": null,
   "metadata": {
    "collapsed": true
   },
   "outputs": [],
   "source": [
    "equ_et.add_file('input','list_i','list_th')"
   ]
  },
  {
   "cell_type": "code",
   "execution_count": null,
   "metadata": {
    "collapsed": true
   },
   "outputs": [],
   "source": [
    "equ_et.load_str('templates','run')"
   ]
  },
  {
   "cell_type": "code",
   "execution_count": null,
   "metadata": {
    "collapsed": true
   },
   "outputs": [],
   "source": [
    "equ_et.replacewrite_prop('run','scripts','run','%s.pbs'%(equ_et.tag))"
   ]
  },
  {
   "cell_type": "code",
   "execution_count": null,
   "metadata": {
    "collapsed": false
   },
   "outputs": [],
   "source": [
    "file_type = 'output'\n",
    "file_key = 'log'\n",
    "file_name = \"%s.log\"%(equ_et.tag)\n",
    "equ_et.add_file(file_type,file_key,file_name)"
   ]
  },
  {
   "cell_type": "code",
   "execution_count": null,
   "metadata": {
    "collapsed": true
   },
   "outputs": [],
   "source": []
  },
  {
   "cell_type": "code",
   "execution_count": null,
   "metadata": {
    "collapsed": true
   },
   "outputs": [],
   "source": [
    "os.chdir(equ_gmin.dir['home'])"
   ]
  },
  {
   "cell_type": "code",
   "execution_count": null,
   "metadata": {
    "collapsed": true
   },
   "outputs": [],
   "source": []
  }
 ],
 "metadata": {
  "anaconda-cloud": {},
  "kernelspec": {
   "display_name": "Python [Root]",
   "language": "python",
   "name": "Python [Root]"
  },
  "language_info": {
   "codemirror_mode": {
    "name": "ipython",
    "version": 2
   },
   "file_extension": ".py",
   "mimetype": "text/x-python",
   "name": "python",
   "nbconvert_exporter": "python",
   "pygments_lexer": "ipython2",
   "version": "2.7.12"
  }
 },
 "nbformat": 4,
 "nbformat_minor": 0
}
