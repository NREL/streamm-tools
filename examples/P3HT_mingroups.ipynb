{
 "cells": [
  {
   "cell_type": "markdown",
   "metadata": {},
   "source": [
    "Minimize groups "
   ]
  },
  {
   "cell_type": "code",
   "execution_count": 1,
   "metadata": {
    "collapsed": true
   },
   "outputs": [],
   "source": [
    "import os,sys, copy, pickle"
   ]
  },
  {
   "cell_type": "code",
   "execution_count": 2,
   "metadata": {
    "collapsed": true
   },
   "outputs": [],
   "source": [
    "import pandas as pd"
   ]
  },
  {
   "cell_type": "code",
   "execution_count": 3,
   "metadata": {
    "collapsed": false
   },
   "outputs": [],
   "source": [
    "from streamm import *"
   ]
  },
  {
   "cell_type": "code",
   "execution_count": 4,
   "metadata": {
    "collapsed": true
   },
   "outputs": [],
   "source": [
    "%load_ext autoreload\n",
    "%autoreload 2"
   ]
  },
  {
   "cell_type": "code",
   "execution_count": 5,
   "metadata": {
    "collapsed": false
   },
   "outputs": [
    {
     "name": "stdout",
     "output_type": "stream",
     "text": [
      "Reading in resource json file res_local.json \n"
     ]
    }
   ],
   "source": [
    "res_tag = 'local'  # Change this to remote to run the calculations remotely \n",
    "res_local = resource.Resource(res_tag)\n",
    "res_local.load_json()"
   ]
  },
  {
   "cell_type": "code",
   "execution_count": 6,
   "metadata": {
    "collapsed": false
   },
   "outputs": [
    {
     "name": "stdout",
     "output_type": "stream",
     "text": [
      "Reading in resource json file res_peregrine.json \n"
     ]
    }
   ],
   "source": [
    "peregrine = resource.Resource('peregrine')\n",
    "peregrine.load_json()"
   ]
  },
  {
   "cell_type": "markdown",
   "metadata": {},
   "source": [
    "Find sub list of particle keys to be included in et calculation"
   ]
  },
  {
   "cell_type": "code",
   "execution_count": 7,
   "metadata": {
    "collapsed": false
   },
   "outputs": [
    {
     "data": {
      "text/plain": [
       "'/Users/tkemper/Development/streamm_ext/streamm-tools/examples'"
      ]
     },
     "execution_count": 7,
     "metadata": {},
     "output_type": "execute_result"
    }
   ],
   "source": [
    "os.getcwd()"
   ]
  },
  {
   "cell_type": "markdown",
   "metadata": {},
   "source": [
    "Load bulk simulation"
   ]
  },
  {
   "cell_type": "code",
   "execution_count": null,
   "metadata": {
    "collapsed": false
   },
   "outputs": [],
   "source": [
    "xO = 20\n",
    "lmp_bulk = lammps.LAMMPS('p3ht_n10_esp_x%d'%(xO))\n",
    "lmp_bulk.load_json()"
   ]
  },
  {
   "cell_type": "code",
   "execution_count": null,
   "metadata": {
    "collapsed": false
   },
   "outputs": [],
   "source": [
    "equ_gmin = calculation.CalculationRes('%s_gmin1'%(lmp_bulk.tag))"
   ]
  },
  {
   "cell_type": "code",
   "execution_count": null,
   "metadata": {
    "collapsed": true
   },
   "outputs": [],
   "source": [
    "equ_gmin.set_resource(res_local)"
   ]
  },
  {
   "cell_type": "code",
   "execution_count": null,
   "metadata": {
    "collapsed": false
   },
   "outputs": [],
   "source": [
    "equ_gmin.dir['launch'] = equ_gmin.dir['scratch']"
   ]
  },
  {
   "cell_type": "code",
   "execution_count": null,
   "metadata": {
    "collapsed": true
   },
   "outputs": [],
   "source": [
    "equ_gmin.properties['scratch'] = equ_gmin.dir['scratch']"
   ]
  },
  {
   "cell_type": "code",
   "execution_count": null,
   "metadata": {
    "collapsed": false
   },
   "outputs": [],
   "source": [
    "equ_gmin.add_refcalc(lmp_bulk)"
   ]
  },
  {
   "cell_type": "code",
   "execution_count": null,
   "metadata": {
    "collapsed": false
   },
   "outputs": [],
   "source": [
    "equ_gmin.dir['scripts'] = '/Users/tkemper/Development/streamm_ext/streamm-tools/scripts'\n",
    "print equ_gmin.dir['scripts']"
   ]
  },
  {
   "cell_type": "code",
   "execution_count": null,
   "metadata": {
    "collapsed": false
   },
   "outputs": [],
   "source": [
    "equ_gmin.dir['templates'] = '/Users/tkemper/Development/streamm_ext/streamm-tools/templates'\n",
    "print equ_gmin.dir['templates']"
   ]
  },
  {
   "cell_type": "code",
   "execution_count": null,
   "metadata": {
    "collapsed": false
   },
   "outputs": [],
   "source": [
    "equ_gmin.make_dir()"
   ]
  },
  {
   "cell_type": "code",
   "execution_count": null,
   "metadata": {
    "collapsed": false
   },
   "outputs": [],
   "source": [
    "os.chdir(equ_gmin.dir['launch'])"
   ]
  },
  {
   "cell_type": "code",
   "execution_count": null,
   "metadata": {
    "collapsed": false
   },
   "outputs": [],
   "source": [
    "file_type = 'input'\n",
    "file_key = 'cply'\n",
    "file_name = \"p3ht_n10_x20_nvt.cply\"\n",
    "from_dirkey = 'home'\n",
    "to_dirkey = 'launch'\n",
    "equ_gmin.cp_file(file_type,file_key,file_name,from_dirkey,to_dirkey)"
   ]
  },
  {
   "cell_type": "code",
   "execution_count": null,
   "metadata": {
    "collapsed": false
   },
   "outputs": [],
   "source": [
    "file_type = 'templates'\n",
    "file_key = 'run'\n",
    "file_name = \"streamm.sh\"\n",
    "# file_name = \"streamm_peregrine.pbs\"\n",
    "from_dirkey = 'templates'\n",
    "to_dirkey = 'launch'\n",
    "equ_gmin.cp_file(file_type,file_key,file_name,from_dirkey,to_dirkey)"
   ]
  },
  {
   "cell_type": "code",
   "execution_count": null,
   "metadata": {
    "collapsed": false
   },
   "outputs": [],
   "source": [
    "file_type = 'templates'\n",
    "file_key = 't_in'\n",
    "file_name = \"lammps_min.in\"\n",
    "from_dirkey = 'templates'\n",
    "to_dirkey = 'launch'\n",
    "equ_gmin.cp_file(file_type,file_key,file_name,from_dirkey,to_dirkey)"
   ]
  },
  {
   "cell_type": "code",
   "execution_count": null,
   "metadata": {
    "collapsed": false
   },
   "outputs": [],
   "source": [
    "file_type = 'input'\n",
    "file_key = 'param'\n",
    "file_name = \"conj.param\"\n",
    "from_dirkey = 'home'\n",
    "to_dirkey = 'launch'\n",
    "equ_gmin.cp_file(file_type,file_key,file_name,from_dirkey,to_dirkey)"
   ]
  },
  {
   "cell_type": "code",
   "execution_count": null,
   "metadata": {
    "collapsed": false
   },
   "outputs": [],
   "source": [
    "file_type = 'templates'\n",
    "file_key = 't_run'\n",
    "#file_name = \"lammps_peregrine.sh\"\n",
    "file_name = \"lammps.sh\"\n",
    "from_dirkey = 'templates'\n",
    "to_dirkey = 'launch'\n",
    "equ_gmin.cp_file(file_type,file_key,file_name,from_dirkey,to_dirkey)"
   ]
  },
  {
   "cell_type": "code",
   "execution_count": null,
   "metadata": {
    "collapsed": false
   },
   "outputs": [],
   "source": [
    "file_type = 'input'\n",
    "file_key = 'run_proj'\n",
    "file_name = \"run_proj.py\"\n",
    "from_dirkey = 'scripts'\n",
    "to_dirkey = 'launch'\n",
    "equ_gmin.cp_file(file_type,file_key,file_name,from_dirkey,to_dirkey)"
   ]
  },
  {
   "cell_type": "code",
   "execution_count": null,
   "metadata": {
    "collapsed": false
   },
   "outputs": [],
   "source": [
    "file_type = 'input'\n",
    "file_key = 'py_script'\n",
    "file_name = \"gmin1.py\"\n",
    "from_dirkey = 'scripts'\n",
    "to_dirkey = 'launch'\n",
    "equ_gmin.cp_file(file_type,file_key,file_name,from_dirkey,to_dirkey)"
   ]
  },
  {
   "cell_type": "code",
   "execution_count": null,
   "metadata": {
    "collapsed": true
   },
   "outputs": [],
   "source": [
    "equ_gmin.properties['finish_str'] ='Finished'"
   ]
  },
  {
   "cell_type": "code",
   "execution_count": null,
   "metadata": {
    "collapsed": false
   },
   "outputs": [],
   "source": [
    "equ_gmin.properties['streamm_command'] ='python %s  %s --cply %s --t_in %s --t_run %s '%(equ_gmin.files['input']['py_script'],equ_gmin.tag,equ_gmin.files['input']['cply'],equ_gmin.files['templates']['t_in'],equ_gmin.files['templates']['t_run'])\n",
    "print equ_gmin.properties['streamm_command']"
   ]
  },
  {
   "cell_type": "code",
   "execution_count": null,
   "metadata": {
    "collapsed": true
   },
   "outputs": [],
   "source": [
    "equ_gmin.load_str('templates','run')"
   ]
  },
  {
   "cell_type": "code",
   "execution_count": null,
   "metadata": {
    "collapsed": true
   },
   "outputs": [],
   "source": [
    "equ_gmin.replacewrite_prop('run','scripts','run','%s.pbs'%(equ_gmin.tag))"
   ]
  },
  {
   "cell_type": "code",
   "execution_count": null,
   "metadata": {
    "collapsed": false
   },
   "outputs": [],
   "source": [
    "file_type = 'output'\n",
    "file_key = 'log'\n",
    "file_name = \"%s.log\"%(equ_gmin.tag)\n",
    "equ_gmin.add_file(file_type,file_key,file_name)"
   ]
  },
  {
   "cell_type": "code",
   "execution_count": null,
   "metadata": {
    "collapsed": false
   },
   "outputs": [],
   "source": [
    "equ_gmin.push()"
   ]
  },
  {
   "cell_type": "code",
   "execution_count": null,
   "metadata": {
    "collapsed": false
   },
   "outputs": [],
   "source": [
    "equ_gmin.run()"
   ]
  },
  {
   "cell_type": "code",
   "execution_count": 8,
   "metadata": {
    "collapsed": false
   },
   "outputs": [
    {
     "data": {
      "text/plain": [
       "'/Users/tkemper/Development/streamm_ext/streamm-tools/examples'"
      ]
     },
     "execution_count": 8,
     "metadata": {},
     "output_type": "execute_result"
    }
   ],
   "source": [
    "os.getcwd()"
   ]
  },
  {
   "cell_type": "code",
   "execution_count": 9,
   "metadata": {
    "collapsed": true
   },
   "outputs": [],
   "source": [
    "os.chdir('/Users/tkemper/Development/streamm_ext/streamm-tools/examples/scratch/p3ht_n10_esp_x20_gmin1')"
   ]
  },
  {
   "cell_type": "code",
   "execution_count": 10,
   "metadata": {
    "collapsed": true
   },
   "outputs": [],
   "source": [
    "calc_tag = 'p3ht_n10_esp_x20_gmin1'"
   ]
  },
  {
   "cell_type": "code",
   "execution_count": 11,
   "metadata": {
    "collapsed": false
   },
   "outputs": [
    {
     "name": "stdout",
     "output_type": "stream",
     "text": [
      "Resource tag found local \n",
      "Reading in resource json file res_local.json \n",
      "Resource tag found local \n",
      "Reading in resource json file res_local.json \n",
      "Resource tag found local \n",
      "Reading in resource json file res_local.json \n",
      "Resource tag found local \n",
      "Reading in resource json file res_local.json \n",
      "Resource tag found local \n",
      "Reading in resource json file res_local.json \n",
      "Resource tag found local \n",
      "Reading in resource json file res_local.json \n",
      "Resource tag found local \n",
      "Reading in resource json file res_local.json \n",
      "Resource tag found local \n",
      "Reading in resource json file res_local.json \n",
      "Resource tag found local \n",
      "Reading in resource json file res_local.json \n",
      "Resource tag found local \n",
      "Reading in resource json file res_local.json \n",
      "Resource tag found local \n",
      "Reading in resource json file res_local.json \n",
      "Resource tag found local \n",
      "Reading in resource json file res_local.json \n",
      "Resource tag found local \n",
      "Reading in resource json file res_local.json \n",
      "Resource tag found local \n",
      "Reading in resource json file res_local.json \n",
      "Resource tag found local \n",
      "Reading in resource json file res_local.json \n",
      "Resource tag found local \n",
      "Reading in resource json file res_local.json \n",
      "Resource tag found local \n",
      "Reading in resource json file res_local.json \n",
      "Resource tag found local \n",
      "Reading in resource json file res_local.json \n",
      "Resource tag found local \n",
      "Reading in resource json file res_local.json \n",
      "Resource tag found local \n",
      "Reading in resource json file res_local.json \n"
     ]
    }
   ],
   "source": [
    "proj_i = project.Project(calc_tag)\n",
    "proj_i.load_json()"
   ]
  },
  {
   "cell_type": "code",
   "execution_count": 12,
   "metadata": {
    "collapsed": false
   },
   "outputs": [
    {
     "name": "stdout",
     "output_type": "stream",
     "text": [
      "{'p3ht_n10_esp_x20_gmin1_node_1': <streamm.project.Project instance at 0x106994dd0>, 'p3ht_n10_esp_x20_gmin1_node_0': <streamm.project.Project instance at 0x106c15fc8>}\n"
     ]
    }
   ],
   "source": [
    "print proj_i.calculations"
   ]
  },
  {
   "cell_type": "code",
   "execution_count": 13,
   "metadata": {
    "collapsed": false
   },
   "outputs": [
    {
     "name": "stdout",
     "output_type": "stream",
     "text": [
      "p3ht_n10_esp_x20_gmin1_node_1 p3ht_n10_esp_x20_gmin1_node_1\n",
      "p3ht_n10_esp_x20_gmin1_node_0 p3ht_n10_esp_x20_gmin1_node_0\n"
     ]
    }
   ],
   "source": [
    "for calc_key,calc_i in proj_i.calculations.iteritems():\n",
    "    print calc_key,calc_i.tag"
   ]
  },
  {
   "cell_type": "code",
   "execution_count": 15,
   "metadata": {
    "collapsed": false
   },
   "outputs": [
    {
     "name": "stdout",
     "output_type": "stream",
     "text": [
      "/Users/tkemper/Development/streamm_ext/streamm-tools/examples/scratch/p3ht_n10_esp_x20_gmin1\n",
      "/Users/tkemper/Development/streamm_ext/streamm-tools/examples/scratch/p3ht_n10_esp_x20_gmin1/scratch/gmin_mol_19\n",
      "Calculation with status written \n",
      "Resource type local \n",
      "Executing run command ./gmin_mol_19.sh \n",
      "/Users/tkemper/Development/streamm_ext/streamm-tools/examples/scratch/p3ht_n10_esp_x20_gmin1/scratch/gmin_mol_18\n",
      "Calculation with status written \n",
      "Resource type local \n",
      "Executing run command ./gmin_mol_18.sh \n",
      "/Users/tkemper/Development/streamm_ext/streamm-tools/examples/scratch/p3ht_n10_esp_x20_gmin1/scratch/gmin_mol_13\n",
      "Calculation with status written \n",
      "Resource type local \n",
      "Executing run command ./gmin_mol_13.sh \n",
      "/Users/tkemper/Development/streamm_ext/streamm-tools/examples/scratch/p3ht_n10_esp_x20_gmin1/scratch/gmin_mol_12\n",
      "Calculation with status written \n",
      "Resource type local \n",
      "Executing run command ./gmin_mol_12.sh \n",
      "/Users/tkemper/Development/streamm_ext/streamm-tools/examples/scratch/p3ht_n10_esp_x20_gmin1/scratch/gmin_mol_11\n",
      "Calculation with status written \n",
      "Resource type local \n",
      "Executing run command ./gmin_mol_11.sh \n",
      "/Users/tkemper/Development/streamm_ext/streamm-tools/examples/scratch/p3ht_n10_esp_x20_gmin1/scratch/gmin_mol_10\n",
      "Calculation with status written \n",
      "Resource type local \n",
      "Executing run command ./gmin_mol_10.sh \n",
      "/Users/tkemper/Development/streamm_ext/streamm-tools/examples/scratch/p3ht_n10_esp_x20_gmin1/scratch/gmin_mol_17\n",
      "Calculation with status written \n",
      "Resource type local \n",
      "Executing run command ./gmin_mol_17.sh \n",
      "/Users/tkemper/Development/streamm_ext/streamm-tools/examples/scratch/p3ht_n10_esp_x20_gmin1/scratch/gmin_mol_16\n",
      "Calculation with status written \n",
      "Resource type local \n",
      "Executing run command ./gmin_mol_16.sh \n",
      "/Users/tkemper/Development/streamm_ext/streamm-tools/examples/scratch/p3ht_n10_esp_x20_gmin1/scratch/gmin_mol_15\n",
      "Calculation with status written \n",
      "Resource type local \n",
      "Executing run command ./gmin_mol_15.sh \n",
      "/Users/tkemper/Development/streamm_ext/streamm-tools/examples/scratch/p3ht_n10_esp_x20_gmin1/scratch/gmin_mol_14\n",
      "Calculation with status written \n",
      "Resource type local \n",
      "Executing run command ./gmin_mol_14.sh \n",
      "/Users/tkemper/Development/streamm_ext/streamm-tools/examples/scratch/p3ht_n10_esp_x20_gmin1\n",
      "/Users/tkemper/Development/streamm_ext/streamm-tools/examples/scratch/p3ht_n10_esp_x20_gmin1/scratch/gmin_mol_9\n",
      "Calculation with status finished \n",
      "/Users/tkemper/Development/streamm_ext/streamm-tools/examples/scratch/p3ht_n10_esp_x20_gmin1/scratch/gmin_mol_8\n",
      "Calculation with status finished \n",
      "/Users/tkemper/Development/streamm_ext/streamm-tools/examples/scratch/p3ht_n10_esp_x20_gmin1/scratch/gmin_mol_3\n",
      "Calculation with status finished \n",
      "/Users/tkemper/Development/streamm_ext/streamm-tools/examples/scratch/p3ht_n10_esp_x20_gmin1/scratch/gmin_mol_2\n",
      "Calculation with status finished \n",
      "/Users/tkemper/Development/streamm_ext/streamm-tools/examples/scratch/p3ht_n10_esp_x20_gmin1/scratch/gmin_mol_1\n",
      "Calculation with status finished \n",
      "/Users/tkemper/Development/streamm_ext/streamm-tools/examples/scratch/p3ht_n10_esp_x20_gmin1/scratch/gmin_mol_0\n",
      "Calculation with status finished \n",
      "/Users/tkemper/Development/streamm_ext/streamm-tools/examples/scratch/p3ht_n10_esp_x20_gmin1/scratch/gmin_mol_7\n",
      "Calculation with status finished \n",
      "/Users/tkemper/Development/streamm_ext/streamm-tools/examples/scratch/p3ht_n10_esp_x20_gmin1/scratch/gmin_mol_6\n",
      "Calculation with status finished \n",
      "/Users/tkemper/Development/streamm_ext/streamm-tools/examples/scratch/p3ht_n10_esp_x20_gmin1/scratch/gmin_mol_5\n",
      "Calculation with status finished \n",
      "/Users/tkemper/Development/streamm_ext/streamm-tools/examples/scratch/p3ht_n10_esp_x20_gmin1/scratch/gmin_mol_4\n",
      "Calculation with status finished \n"
     ]
    }
   ],
   "source": [
    "proj_i.run()"
   ]
  },
  {
   "cell_type": "code",
   "execution_count": 16,
   "metadata": {
    "collapsed": false
   },
   "outputs": [
    {
     "name": "stdout",
     "output_type": "stream",
     "text": [
      "Calculation gmin_mol_19 has status finished\n",
      "Calculation gmin_mol_18 has status finished\n",
      "Calculation gmin_mol_13 has status finished\n",
      "Calculation gmin_mol_12 has status finished\n",
      "Calculation gmin_mol_11 has status finished\n",
      "Calculation gmin_mol_10 has status finished\n",
      "Calculation gmin_mol_17 has status finished\n",
      "Calculation gmin_mol_16 has status finished\n",
      "Calculation gmin_mol_15 has status finished\n",
      "Calculation gmin_mol_14 has status finished\n",
      "Calculation p3ht_n10_esp_x20_gmin1_node_1 has status written\n",
      "Calculation gmin_mol_9 has status finished\n",
      "Calculation gmin_mol_8 has status finished\n",
      "Calculation gmin_mol_3 has status finished\n",
      "Calculation gmin_mol_2 has status finished\n",
      "Calculation gmin_mol_1 has status finished\n",
      "Calculation gmin_mol_0 has status finished\n",
      "Calculation gmin_mol_7 has status finished\n",
      "Calculation gmin_mol_6 has status finished\n",
      "Calculation gmin_mol_5 has status finished\n",
      "Calculation gmin_mol_4 has status finished\n",
      "Calculation p3ht_n10_esp_x20_gmin1_node_0 has status written\n"
     ]
    }
   ],
   "source": [
    "proj_i.check()"
   ]
  },
  {
   "cell_type": "code",
   "execution_count": null,
   "metadata": {
    "collapsed": true
   },
   "outputs": [],
   "source": []
  },
  {
   "cell_type": "code",
   "execution_count": null,
   "metadata": {
    "collapsed": true
   },
   "outputs": [],
   "source": [
    "list_th = [str(pkey) for pkey in sub_th.index]"
   ]
  },
  {
   "cell_type": "code",
   "execution_count": null,
   "metadata": {
    "collapsed": true
   },
   "outputs": [],
   "source": [
    "outfile = open('list_th','wb')\n",
    "outfile.write(\"\\n\".join(list_th))\n",
    "outfile.close()"
   ]
  },
  {
   "cell_type": "code",
   "execution_count": null,
   "metadata": {
    "collapsed": true
   },
   "outputs": [],
   "source": [
    "equ_et.add_file('input','list_i','list_th')"
   ]
  },
  {
   "cell_type": "code",
   "execution_count": null,
   "metadata": {
    "collapsed": true
   },
   "outputs": [],
   "source": [
    "equ_et.load_str('templates','run')"
   ]
  },
  {
   "cell_type": "code",
   "execution_count": null,
   "metadata": {
    "collapsed": true
   },
   "outputs": [],
   "source": [
    "equ_et.replacewrite_prop('run','scripts','run','%s.pbs'%(equ_et.tag))"
   ]
  },
  {
   "cell_type": "code",
   "execution_count": null,
   "metadata": {
    "collapsed": false
   },
   "outputs": [],
   "source": [
    "file_type = 'output'\n",
    "file_key = 'log'\n",
    "file_name = \"%s.log\"%(equ_et.tag)\n",
    "equ_et.add_file(file_type,file_key,file_name)"
   ]
  },
  {
   "cell_type": "code",
   "execution_count": null,
   "metadata": {
    "collapsed": true
   },
   "outputs": [],
   "source": []
  },
  {
   "cell_type": "code",
   "execution_count": null,
   "metadata": {
    "collapsed": true
   },
   "outputs": [],
   "source": [
    "os.chdir(equ_gmin.dir['home'])"
   ]
  },
  {
   "cell_type": "code",
   "execution_count": null,
   "metadata": {
    "collapsed": true
   },
   "outputs": [],
   "source": []
  }
 ],
 "metadata": {
  "anaconda-cloud": {},
  "kernelspec": {
   "display_name": "Python [Root]",
   "language": "python",
   "name": "Python [Root]"
  },
  "language_info": {
   "codemirror_mode": {
    "name": "ipython",
    "version": 2
   },
   "file_extension": ".py",
   "mimetype": "text/x-python",
   "name": "python",
   "nbconvert_exporter": "python",
   "pygments_lexer": "ipython2",
   "version": "2.7.12"
  }
 },
 "nbformat": 4,
 "nbformat_minor": 0
}
