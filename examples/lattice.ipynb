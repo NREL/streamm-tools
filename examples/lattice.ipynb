{
 "cells": [
  {
   "cell_type": "code",
   "execution_count": 56,
   "metadata": {},
   "outputs": [
    {
     "name": "stdout",
     "output_type": "stream",
     "text": [
      "The autoreload extension is already loaded. To reload it, use:\n",
      "  %reload_ext autoreload\n"
     ]
    }
   ],
   "source": [
    "%load_ext autoreload\n",
    "%autoreload 2"
   ]
  },
  {
   "cell_type": "code",
   "execution_count": 57,
   "metadata": {
    "collapsed": true
   },
   "outputs": [],
   "source": [
    "from pprint import pprint"
   ]
  },
  {
   "cell_type": "code",
   "execution_count": 58,
   "metadata": {
    "collapsed": true
   },
   "outputs": [],
   "source": [
    "import logging\n",
    "logging.basicConfig(filename='lattice_example.log',level=logging.DEBUG)"
   ]
  },
  {
   "cell_type": "markdown",
   "metadata": {},
   "source": [
    "The `lattice` object keeps track of the lattice used in `Structure` object"
   ]
  },
  {
   "cell_type": "code",
   "execution_count": 59,
   "metadata": {},
   "outputs": [],
   "source": [
    "import pymatgen_core.core.lattice as lattice"
   ]
  },
  {
   "cell_type": "code",
   "execution_count": 60,
   "metadata": {},
   "outputs": [],
   "source": [
    "lat = lattice.Lattice()"
   ]
  },
  {
   "cell_type": "code",
   "execution_count": 61,
   "metadata": {},
   "outputs": [
    {
     "name": "stdout",
     "output_type": "stream",
     "text": [
      "100.000000 0.000000 0.000000\n",
      "0.000000 100.000000 0.000000\n",
      "0.000000 0.000000 100.000000\n",
      "ang\n"
     ]
    }
   ],
   "source": [
    "print lat\n",
    "print lat.unit_conf['length']"
   ]
  },
  {
   "cell_type": "markdown",
   "metadata": {},
   "source": [
    "The default size of the lattice is 100.0 angstroms "
   ]
  },
  {
   "cell_type": "markdown",
   "metadata": {},
   "source": [
    "The lattice also has lattice constants"
   ]
  },
  {
   "cell_type": "code",
   "execution_count": 62,
   "metadata": {},
   "outputs": [
    {
     "name": "stdout",
     "output_type": "stream",
     "text": [
      "[ 100.  100.  100.   90.   90.   90.]\n",
      "ang\n"
     ]
    }
   ],
   "source": [
    "print lat.constants\n",
    "print lat.unit_conf['length']"
   ]
  },
  {
   "cell_type": "markdown",
   "metadata": {},
   "source": [
    "Which are returned as [a,b,c,alpha,beta,gamma]"
   ]
  },
  {
   "cell_type": "markdown",
   "metadata": {},
   "source": [
    "We can calculate the distance between two points in the lattice "
   ]
  },
  {
   "cell_type": "markdown",
   "metadata": {},
   "source": [
    "Let's turn on periodic boundary conditions"
   ]
  },
  {
   "cell_type": "code",
   "execution_count": 63,
   "metadata": {
    "collapsed": true
   },
   "outputs": [],
   "source": [
    "lat.pbcs = [True,True,True]"
   ]
  },
  {
   "cell_type": "code",
   "execution_count": 64,
   "metadata": {
    "collapsed": true
   },
   "outputs": [],
   "source": [
    "pos_i = [25.0,25.0,25.0]\n",
    "pos_j = [-50.0,25.0,25.0]"
   ]
  },
  {
   "cell_type": "code",
   "execution_count": 65,
   "metadata": {},
   "outputs": [
    {
     "name": "stdout",
     "output_type": "stream",
     "text": [
      "[ 25.   0.   0.]\n"
     ]
    }
   ],
   "source": [
    "dr_ij = lat.d_pos(pos_i,pos_j)\n",
    "print dr_ij"
   ]
  },
  {
   "cell_type": "markdown",
   "metadata": {},
   "source": [
    "If we want a tuple of the vector and the magnitude we can use "
   ]
  },
  {
   "cell_type": "code",
   "execution_count": 66,
   "metadata": {},
   "outputs": [
    {
     "name": "stdout",
     "output_type": "stream",
     "text": [
      "[ 25.   0.   0.] 25.0\n"
     ]
    }
   ],
   "source": [
    "dr_ij,mag_dr_ij =  lat.delta_pos(pos_i,pos_j)\n",
    "print dr_ij,mag_dr_ij"
   ]
  },
  {
   "cell_type": "markdown",
   "metadata": {},
   "source": [
    "We can also turn pbcs off and calculate the distance "
   ]
  },
  {
   "cell_type": "code",
   "execution_count": 67,
   "metadata": {
    "collapsed": true
   },
   "outputs": [],
   "source": [
    "lat.pbcs = [False,False,False]"
   ]
  },
  {
   "cell_type": "code",
   "execution_count": 68,
   "metadata": {},
   "outputs": [
    {
     "name": "stdout",
     "output_type": "stream",
     "text": [
      "(array([-75.,   0.,   0.]), 75.0)\n"
     ]
    }
   ],
   "source": [
    "print lat.delta_pos(pos_i,pos_j)"
   ]
  },
  {
   "cell_type": "markdown",
   "metadata": {},
   "source": [
    "The size of the lattice can be changed using the `matrix` or the `constants` `setter`"
   ]
  },
  {
   "cell_type": "code",
   "execution_count": 69,
   "metadata": {
    "collapsed": true
   },
   "outputs": [],
   "source": [
    "lat.matrix = [ 12,0,0,0,12,0,0,0,12 ]"
   ]
  },
  {
   "cell_type": "code",
   "execution_count": 70,
   "metadata": {},
   "outputs": [
    {
     "name": "stdout",
     "output_type": "stream",
     "text": [
      "[[ 12.   0.   0.]\n",
      " [  0.  12.   0.]\n",
      " [  0.   0.  12.]]\n",
      "[ 12.  12.  12.  90.  90.  90.]\n",
      "ang\n"
     ]
    }
   ],
   "source": [
    "print lat.matrix\n",
    "print lat.constants\n",
    "print lat.unit_conf['length']"
   ]
  },
  {
   "cell_type": "markdown",
   "metadata": {},
   "source": [
    "To set to a triclinic lattice"
   ]
  },
  {
   "cell_type": "code",
   "execution_count": 71,
   "metadata": {},
   "outputs": [],
   "source": [
    "lat.constants = [ 12,8,15,60.0,120.0,80.0 ]"
   ]
  },
  {
   "cell_type": "code",
   "execution_count": 72,
   "metadata": {},
   "outputs": [
    {
     "name": "stdout",
     "output_type": "stream",
     "text": [
      "[[ 10.39230485   0.          -6.        ]\n",
      " [  3.91349423   5.71704145   4.        ]\n",
      " [  0.           0.          15.        ]]\n",
      "[12.0, 8.0, 15.0, 60.0, 120.0, 80.0]\n",
      "ang\n"
     ]
    }
   ],
   "source": [
    "print lat.matrix\n",
    "print lat.constants\n",
    "print lat.unit_conf['length']"
   ]
  },
  {
   "cell_type": "markdown",
   "metadata": {},
   "source": [
    "Let's turn pbcs's back on and calculate the distance "
   ]
  },
  {
   "cell_type": "code",
   "execution_count": 73,
   "metadata": {
    "collapsed": true
   },
   "outputs": [],
   "source": [
    "lat.pbcs = [True,True,True]"
   ]
  },
  {
   "cell_type": "code",
   "execution_count": 74,
   "metadata": {},
   "outputs": [
    {
     "name": "stdout",
     "output_type": "stream",
     "text": [
      "[25.0, 25.0, 25.0] [-50.0, 25.0, 25.0]\n"
     ]
    }
   ],
   "source": [
    "print pos_i,pos_j"
   ]
  },
  {
   "cell_type": "code",
   "execution_count": 75,
   "metadata": {},
   "outputs": [
    {
     "name": "stdout",
     "output_type": "stream",
     "text": [
      "[-2.25386608  0.          3.        ] 3.75232092392\n"
     ]
    }
   ],
   "source": [
    "dr_ij,mag_dr_ij =  lat.delta_pos(pos_i,pos_j)\n",
    "print dr_ij,mag_dr_ij"
   ]
  },
  {
   "cell_type": "markdown",
   "metadata": {},
   "source": [
    "Change the units to `nm`"
   ]
  },
  {
   "cell_type": "code",
   "execution_count": 76,
   "metadata": {
    "collapsed": true
   },
   "outputs": [],
   "source": [
    "lat.update_units({'length':'nm'})"
   ]
  },
  {
   "cell_type": "code",
   "execution_count": 77,
   "metadata": {},
   "outputs": [
    {
     "name": "stdout",
     "output_type": "stream",
     "text": [
      "[[ 1.03923048  0.         -0.6       ]\n",
      " [ 0.39134942  0.57170414  0.4       ]\n",
      " [ 0.          0.          1.5       ]]\n",
      "[1.2, 0.79999999999999993, 1.4999999999999998, 60.0, 120.0, 80.0]\n",
      "nm\n"
     ]
    }
   ],
   "source": [
    "print lat.matrix\n",
    "print lat.constants\n",
    "print lat.unit_conf['length']"
   ]
  },
  {
   "cell_type": "markdown",
   "metadata": {},
   "source": [
    "If you need your angles in radians"
   ]
  },
  {
   "cell_type": "code",
   "execution_count": 78,
   "metadata": {
    "collapsed": true
   },
   "outputs": [],
   "source": [
    "lat.update_units({'angle':'radian'})"
   ]
  },
  {
   "cell_type": "code",
   "execution_count": 79,
   "metadata": {},
   "outputs": [
    {
     "name": "stdout",
     "output_type": "stream",
     "text": [
      "[[ 1.03923048  0.         -0.6       ]\n",
      " [ 0.39134942  0.57170414  0.4       ]\n",
      " [ 0.          0.          1.5       ]]\n",
      "[1.2, 0.79999999999999993, 1.4999999999999998, 1.0471975511965976, 2.0943951023931953, 1.3962634015954636]\n",
      "nm radian\n"
     ]
    }
   ],
   "source": [
    "print lat.matrix\n",
    "print lat.constants\n",
    "print lat.unit_conf['length'],lat.unit_conf['angle']"
   ]
  },
  {
   "cell_type": "code",
   "execution_count": 80,
   "metadata": {},
   "outputs": [],
   "source": [
    "lat.export_json('lat_ex')"
   ]
  },
  {
   "cell_type": "code",
   "execution_count": 81,
   "metadata": {
    "collapsed": true
   },
   "outputs": [],
   "source": [
    "del lat"
   ]
  },
  {
   "cell_type": "code",
   "execution_count": 82,
   "metadata": {},
   "outputs": [],
   "source": [
    "lat = lattice.Lattice()"
   ]
  },
  {
   "cell_type": "code",
   "execution_count": 84,
   "metadata": {},
   "outputs": [
    {
     "name": "stdout",
     "output_type": "stream",
     "text": [
      "Reading lat_ex_lat.json\n",
      "{u'pbcs': [True, True, True], u'matrix': [1.0392304845413265, 0.0, -0.5999999999999996, 0.39134942306831444, 0.5717041446973227, 0.4000000000000001, 0.0, 0.0, 1.4999999999999998], u'unit_conf': {u'force': u'GN', u'energy': u'Ha', u'resistance': u'ohm', u'intensity': u'cd', u'frequency': u'Hz', u'angle': u'radian', u'temperature': u'K', u'density': u'amu_nm^3', u'length': u'nm', u'current': u'A', u'capacitance': u'F', u'charge': u'e', u'memory': u'Kb', u'power': u'GW', u'harm_bond_coeff': u'kCalmolsqang', u'volume': u'nm^3', u'pressure': u'KPa', u'electric_dipole_moment': u'D', u'emf': u'V', u'magnetic_flux': u'Wb', u'conductance': u'S', u'amount': u'atom', u'mass': u'amu', u'time': u'ns'}}\n"
     ]
    }
   ],
   "source": [
    "lat.import_json('lat_ex')"
   ]
  },
  {
   "cell_type": "code",
   "execution_count": 87,
   "metadata": {},
   "outputs": [
    {
     "name": "stdout",
     "output_type": "stream",
     "text": [
      "[[ 1.03923048  0.         -0.6       ]\n",
      " [ 0.39134942  0.57170414  0.4       ]\n",
      " [ 0.          0.          1.5       ]]\n",
      "[   1.2    0.8    1.5   60.   120.    80. ]\n",
      "nm radian\n"
     ]
    }
   ],
   "source": [
    "print lat.matrix\n",
    "print lat.constants\n",
    "print lat.unit_conf['length'],lat.unit_conf['angle']"
   ]
  },
  {
   "cell_type": "markdown",
   "metadata": {},
   "source": [
    "Cool, aye! "
   ]
  }
 ],
 "metadata": {
  "anaconda-cloud": {},
  "kernelspec": {
   "display_name": "Python 2",
   "language": "python",
   "name": "python2"
  },
  "language_info": {
   "codemirror_mode": {
    "name": "ipython",
    "version": 2
   },
   "file_extension": ".py",
   "mimetype": "text/x-python",
   "name": "python",
   "nbconvert_exporter": "python",
   "pygments_lexer": "ipython2",
   "version": "2.7.13"
  }
 },
 "nbformat": 4,
 "nbformat_minor": 2
}
