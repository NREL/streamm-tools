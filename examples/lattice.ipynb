{
 "cells": [
  {
   "cell_type": "code",
   "execution_count": 1,
   "metadata": {
    "collapsed": true
   },
   "outputs": [],
   "source": [
    "%load_ext autoreload\n",
    "%autoreload 2"
   ]
  },
  {
   "cell_type": "code",
   "execution_count": 2,
   "metadata": {
    "collapsed": true
   },
   "outputs": [],
   "source": [
    "from pprint import pprint"
   ]
  },
  {
   "cell_type": "code",
   "execution_count": 3,
   "metadata": {
    "collapsed": true
   },
   "outputs": [],
   "source": [
    "import logging\n",
    "logging.basicConfig(filename='lattice_example.log',level=logging.DEBUG)"
   ]
  },
  {
   "cell_type": "markdown",
   "metadata": {},
   "source": [
    "The `lattice` object keeps track of the lattice used in `Structure` object"
   ]
  },
  {
   "cell_type": "code",
   "execution_count": 4,
   "metadata": {},
   "outputs": [],
   "source": [
    "import pymatgen_core.core.lattice as lattice"
   ]
  },
  {
   "cell_type": "code",
   "execution_count": 10,
   "metadata": {},
   "outputs": [
    {
     "name": "stdout",
     "output_type": "stream",
     "text": [
      "[ 100.  100.  100.   90.   90.   90.]\n"
     ]
    }
   ],
   "source": [
    "lat = lattice.Lattice()"
   ]
  },
  {
   "cell_type": "code",
   "execution_count": 11,
   "metadata": {},
   "outputs": [
    {
     "name": "stdout",
     "output_type": "stream",
     "text": [
      "100.000000 0.000000 0.000000\n",
      "0.000000 100.000000 0.000000\n",
      "0.000000 0.000000 100.000000\n",
      "ang\n"
     ]
    }
   ],
   "source": [
    "print lat\n",
    "print lat.unit_conf['length']"
   ]
  },
  {
   "cell_type": "markdown",
   "metadata": {},
   "source": [
    "The default size of the lattice is 100.0 angstroms "
   ]
  },
  {
   "cell_type": "markdown",
   "metadata": {},
   "source": [
    "The lattice also has lattice constants"
   ]
  },
  {
   "cell_type": "code",
   "execution_count": 13,
   "metadata": {},
   "outputs": [
    {
     "name": "stdout",
     "output_type": "stream",
     "text": [
      "[ 100.  100.  100.   90.   90.   90.]\n",
      "ang\n"
     ]
    }
   ],
   "source": [
    "print lat.constants\n",
    "print lat.unit_conf['length']"
   ]
  },
  {
   "cell_type": "markdown",
   "metadata": {},
   "source": [
    "Which are returned as [a,b,c,alpha,beta,gamma]"
   ]
  },
  {
   "cell_type": "markdown",
   "metadata": {},
   "source": [
    "The size of the lattice can be changed using the `matrix` or the `constants` `setter`"
   ]
  },
  {
   "cell_type": "code",
   "execution_count": 14,
   "metadata": {},
   "outputs": [
    {
     "name": "stdout",
     "output_type": "stream",
     "text": [
      "[ 12.  12.  12.  90.  90.  90.]\n"
     ]
    }
   ],
   "source": [
    "lat.matrix = [ 12,0,0,0,12,0,0,0,12 ]"
   ]
  },
  {
   "cell_type": "code",
   "execution_count": 15,
   "metadata": {},
   "outputs": [
    {
     "name": "stdout",
     "output_type": "stream",
     "text": [
      "[[ 12.   0.   0.]\n",
      " [  0.  12.   0.]\n",
      " [  0.   0.  12.]]\n",
      "[ 12.  12.  12.  90.  90.  90.]\n",
      "ang\n"
     ]
    }
   ],
   "source": [
    "print lat.matrix\n",
    "print lat.constants\n",
    "print lat.unit_conf['length']"
   ]
  },
  {
   "cell_type": "markdown",
   "metadata": {},
   "source": [
    "To set to a triclinic lattice"
   ]
  },
  {
   "cell_type": "code",
   "execution_count": 16,
   "metadata": {},
   "outputs": [],
   "source": [
    "lat.constants = [ 12,8,15,60.0,120.0,80.0 ]"
   ]
  },
  {
   "cell_type": "code",
   "execution_count": 17,
   "metadata": {},
   "outputs": [
    {
     "name": "stdout",
     "output_type": "stream",
     "text": [
      "[[ 10.39230485   0.          -6.        ]\n",
      " [  3.91349423   5.71704145   4.        ]\n",
      " [  0.           0.          15.        ]]\n",
      "[12.0, 8.0, 15.0, 60.0, 120.0, 80.0]\n",
      "ang\n"
     ]
    }
   ],
   "source": [
    "print lat.matrix\n",
    "print lat.constants\n",
    "print lat.unit_conf['length']"
   ]
  },
  {
   "cell_type": "markdown",
   "metadata": {},
   "source": [
    "Change the units to `nm`"
   ]
  },
  {
   "cell_type": "code",
   "execution_count": 18,
   "metadata": {},
   "outputs": [
    {
     "name": "stdout",
     "output_type": "stream",
     "text": [
      "{u'force': u'GN', u'energy': u'Ha', u'resistance': u'ohm', u'intensity': u'cd', u'frequency': u'Hz', u'angle': u'degree', u'temperature': u'K', u'density': u'amu_nm^3', u'amount': u'atom', u'current': u'A', u'capacitance': u'F', u'charge': u'e', u'memory': u'Kb', u'power': u'GW', u'harm_bond_coeff': u'kCalmolsqang', u'volume': u'nm^3', u'pressure': u'KPa', u'electric_dipole_moment': u'D', u'emf': u'V', u'magnetic_flux': u'Wb', u'conductance': u'S', u'length': u'ang', u'mass': u'amu', u'time': u'ns'}\n"
     ]
    }
   ],
   "source": [
    "print lat.unit_conf"
   ]
  },
  {
   "cell_type": "code",
   "execution_count": 19,
   "metadata": {
    "collapsed": true
   },
   "outputs": [],
   "source": [
    "lat.update_units({'length':'nm'})"
   ]
  },
  {
   "cell_type": "code",
   "execution_count": 20,
   "metadata": {},
   "outputs": [
    {
     "name": "stdout",
     "output_type": "stream",
     "text": [
      "[[ 1.03923048  0.         -0.6       ]\n",
      " [ 0.39134942  0.57170414  0.4       ]\n",
      " [ 0.          0.          1.5       ]]\n",
      "[1.2, 0.79999999999999993, 1.4999999999999998, 60.0, 120.0, 80.0]\n",
      "nm\n"
     ]
    }
   ],
   "source": [
    "print lat.matrix\n",
    "print lat.constants\n",
    "print lat.unit_conf['length']"
   ]
  }
 ],
 "metadata": {
  "kernelspec": {
   "display_name": "Python 2",
   "language": "python",
   "name": "python2"
  },
  "language_info": {
   "codemirror_mode": {
    "name": "ipython",
    "version": 2
   },
   "file_extension": ".py",
   "mimetype": "text/x-python",
   "name": "python",
   "nbconvert_exporter": "python",
   "pygments_lexer": "ipython2",
   "version": "2.7.13"
  }
 },
 "nbformat": 4,
 "nbformat_minor": 2
}
