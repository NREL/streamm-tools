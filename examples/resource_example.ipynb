{
 "cells": [
  {
   "cell_type": "markdown",
   "metadata": {},
   "source": [
    "# Setup resource reference files\n",
    "\n",
    "In this example, we will use the resource object to keep track of file locations"
   ]
  },
  {
   "cell_type": "code",
   "execution_count": 1,
   "metadata": {
    "collapsed": true
   },
   "outputs": [],
   "source": [
    "from pprint import pprint"
   ]
  },
  {
   "cell_type": "code",
   "execution_count": 2,
   "metadata": {
    "collapsed": true
   },
   "outputs": [],
   "source": [
    "import streamm\n",
    "import os "
   ]
  },
  {
   "cell_type": "code",
   "execution_count": 3,
   "metadata": {
    "collapsed": true
   },
   "outputs": [],
   "source": [
    "local = streamm.Resource('local')"
   ]
  },
  {
   "cell_type": "markdown",
   "metadata": {},
   "source": [
    "Set the `templates` directory "
   ]
  },
  {
   "cell_type": "code",
   "execution_count": 4,
   "metadata": {
    "collapsed": true
   },
   "outputs": [],
   "source": [
    "local.dir['templates'] =  os.path.join(local.dir['home'],'..','templates','')"
   ]
  },
  {
   "cell_type": "markdown",
   "metadata": {},
   "source": [
    "This reads in the current directory as the root directory for a project "
   ]
  },
  {
   "cell_type": "code",
   "execution_count": 5,
   "metadata": {},
   "outputs": [
    {
     "name": "stdout",
     "output_type": "stream",
     "text": [
      "{u'home': '/Users/tkemper/Repos/streamm-tools/examples',\n",
      " u'launch': u'/Users/tkemper/Repos/streamm-tools/examples/scratch',\n",
      " u'materials': u'/Users/tkemper/Repos/streamm-tools/examples/materials',\n",
      " u'scratch': u'/Users/tkemper/Repos/streamm-tools/examples/scratch',\n",
      " u'scripts': u'/Users/tkemper/Repos/streamm-tools/examples/scripts',\n",
      " u'storage': u'/Users/tkemper/Repos/streamm-tools/examples/storage',\n",
      " u'templates': '/Users/tkemper/Repos/streamm-tools/examples/../templates/'}\n"
     ]
    }
   ],
   "source": [
    "pprint(local.dir)"
   ]
  },
  {
   "cell_type": "markdown",
   "metadata": {},
   "source": [
    "These directories can be created using the make_dir() function"
   ]
  },
  {
   "cell_type": "code",
   "execution_count": 6,
   "metadata": {
    "collapsed": true
   },
   "outputs": [],
   "source": [
    "local.make_dir()"
   ]
  },
  {
   "cell_type": "markdown",
   "metadata": {},
   "source": [
    "Then the `Calculation` object can use the location of these directories and files within them to copy files to the correct locations "
   ]
  },
  {
   "cell_type": "code",
   "execution_count": 7,
   "metadata": {
    "collapsed": true
   },
   "outputs": [],
   "source": [
    "local_json = local.export_json()"
   ]
  },
  {
   "cell_type": "markdown",
   "metadata": {},
   "source": [
    "We can also setup a resource we can access using ssh calls"
   ]
  },
  {
   "cell_type": "code",
   "execution_count": 8,
   "metadata": {
    "collapsed": true
   },
   "outputs": [],
   "source": [
    "remote = streamm.Resource('remote')"
   ]
  },
  {
   "cell_type": "markdown",
   "metadata": {},
   "source": [
    "Set the type to `ssh`, this will trigger some if statements in the calculation object to scp calculation files to the external resource. "
   ]
  },
  {
   "cell_type": "code",
   "execution_count": 9,
   "metadata": {
    "collapsed": true
   },
   "outputs": [],
   "source": [
    "remote.meta['type'] = \"ssh\""
   ]
  },
  {
   "cell_type": "markdown",
   "metadata": {},
   "source": [
    "Enter your username and the address of the resource"
   ]
  },
  {
   "cell_type": "code",
   "execution_count": 10,
   "metadata": {
    "collapsed": true
   },
   "outputs": [],
   "source": [
    "remote.ssh['username'] = 'my_username'\n",
    "remote.ssh['address'] = 'system_address'"
   ]
  },
  {
   "cell_type": "markdown",
   "metadata": {},
   "source": [
    "Then add the direcotry structure to the `dir` dictionary of the resource "
   ]
  },
  {
   "cell_type": "code",
   "execution_count": 11,
   "metadata": {
    "collapsed": true
   },
   "outputs": [],
   "source": [
    "remote.dir['storage'] = '/storage/%s'%(remote.ssh['username'])\n",
    "remote.dir['scratch'] = '/scratch/%s'%(remote.ssh['username'])\n",
    "remote.dir['home'] = local.dir['home']\n",
    "remote.dir['launch'] = local.dir['launch']\n",
    "remote.dir['templates'] = local.dir['templates']"
   ]
  },
  {
   "cell_type": "markdown",
   "metadata": {},
   "source": [
    "If you are running on a remote resource you can decide whether to set the properties['exe_command'] to `qsub` to submit the calculation to a queuing  system or `./` to run the calculation on the same node the script is running on."
   ]
  },
  {
   "cell_type": "code",
   "execution_count": 12,
   "metadata": {
    "collapsed": true
   },
   "outputs": [],
   "source": [
    "remote.properties['exe_command'] = 'qsub '"
   ]
  },
  {
   "cell_type": "code",
   "execution_count": 13,
   "metadata": {
    "collapsed": true
   },
   "outputs": [],
   "source": [
    "ssh_json = remote.export_json()"
   ]
  },
  {
   "cell_type": "markdown",
   "metadata": {},
   "source": [
    "If you are running a streamm script on a remote resource you will want to set the type to `local`"
   ]
  },
  {
   "cell_type": "code",
   "execution_count": null,
   "metadata": {
    "collapsed": true
   },
   "outputs": [],
   "source": [
    "remote.meta['type'] = \"local\""
   ]
  },
  {
   "cell_type": "markdown",
   "metadata": {},
   "source": [
    "Also, you will want to set the launch directory to the scratch location"
   ]
  },
  {
   "cell_type": "code",
   "execution_count": null,
   "metadata": {
    "collapsed": true
   },
   "outputs": [],
   "source": [
    "remote.dir['launch'] = remote.dir['scratch']"
   ]
  },
  {
   "cell_type": "markdown",
   "metadata": {},
   "source": [
    "This for the other examples like `P3HT_ET` were input files are copied to the `launch` directory rather than the directly to the scratch directory in case the example is accessing a remote resource via `ssh`"
   ]
  },
  {
   "cell_type": "markdown",
   "metadata": {},
   "source": [
    "Meh, whatever."
   ]
  }
 ],
 "metadata": {
  "kernelspec": {
   "display_name": "opv",
   "language": "python",
   "name": "opv"
  },
  "language_info": {
   "codemirror_mode": {
    "name": "ipython",
    "version": 2
   },
   "file_extension": ".py",
   "mimetype": "text/x-python",
   "name": "python",
   "nbconvert_exporter": "python",
   "pygments_lexer": "ipython2",
   "version": "2.7.14"
  }
 },
 "nbformat": 4,
 "nbformat_minor": 2
}
