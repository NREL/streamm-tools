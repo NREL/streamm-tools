{
 "cells": [
  {
   "cell_type": "code",
   "execution_count": 1,
   "metadata": {
    "collapsed": true
   },
   "outputs": [],
   "source": [
    "import os \n",
    "from pprint import pprint"
   ]
  },
  {
   "cell_type": "code",
   "execution_count": 2,
   "metadata": {
    "collapsed": true
   },
   "outputs": [],
   "source": [
    "import numpy as np\n",
    "import decimal"
   ]
  },
  {
   "cell_type": "code",
   "execution_count": 3,
   "metadata": {
    "collapsed": true
   },
   "outputs": [],
   "source": [
    "from pathlib2 import Path\n",
    "import os"
   ]
  },
  {
   "cell_type": "code",
   "execution_count": 4,
   "metadata": {
    "collapsed": true
   },
   "outputs": [],
   "source": [
    "import streamm"
   ]
  },
  {
   "cell_type": "markdown",
   "metadata": {},
   "source": [
    "In this getting started example we will calculate the electronic properties of methane with NWChem and the structural properties with LAMMPS"
   ]
  },
  {
   "cell_type": "markdown",
   "metadata": {},
   "source": [
    "Now let's create project and resource to keep track of our work"
   ]
  },
  {
   "cell_type": "code",
   "execution_count": 5,
   "metadata": {
    "collapsed": true
   },
   "outputs": [],
   "source": [
    "Methane_example = streamm.Project('Methane_example')"
   ]
  },
  {
   "cell_type": "markdown",
   "metadata": {},
   "source": [
    "And a resource object to keep track of where our files are "
   ]
  },
  {
   "cell_type": "code",
   "execution_count": 6,
   "metadata": {
    "collapsed": true
   },
   "outputs": [],
   "source": [
    "need_files = ['local_res.json','remote_res.json']\n",
    "for f in need_files:\n",
    "    path = Path(f)\n",
    "    if not path.is_file():\n",
    "        print(\"Need to run resource_example.ipynb\")\n",
    "        os.system(\"jupyter nbconvert --to python  resource_example.ipynb\")\n",
    "        os.system(\"python resource_example.py\")"
   ]
  },
  {
   "cell_type": "markdown",
   "metadata": {},
   "source": [
    "Load resources from resources example "
   ]
  },
  {
   "cell_type": "code",
   "execution_count": 7,
   "metadata": {
    "collapsed": true
   },
   "outputs": [],
   "source": [
    "res_local = streamm.Resource('local')"
   ]
  },
  {
   "cell_type": "markdown",
   "metadata": {},
   "source": [
    "The calc resource can be changed to local or remote host resource "
   ]
  },
  {
   "cell_type": "code",
   "execution_count": 8,
   "metadata": {},
   "outputs": [],
   "source": [
    "res_calc = streamm.Resource('peregrine')"
   ]
  },
  {
   "cell_type": "code",
   "execution_count": 9,
   "metadata": {},
   "outputs": [],
   "source": [
    "res_local.import_json()\n",
    "res_calc.import_json()"
   ]
  },
  {
   "cell_type": "code",
   "execution_count": 10,
   "metadata": {},
   "outputs": [
    {
     "name": "stdout",
     "output_type": "stream",
     "text": [
      "{u'allocation': u'orgopv',\n",
      " u'e-mail': u'tkemper@nrel.gov',\n",
      " u'exe_command': u'qsub ',\n",
      " u'feature': u'24core',\n",
      " u'nodes': 1,\n",
      " u'nproc': 24,\n",
      " u'pmem': 1500,\n",
      " u'ppn': 24,\n",
      " u'queue': u'short',\n",
      " u'scratch': u'/scratch/tkemper',\n",
      " u'walltime': 4}\n"
     ]
    }
   ],
   "source": [
    "pprint(res_calc.properties)"
   ]
  },
  {
   "cell_type": "code",
   "execution_count": 11,
   "metadata": {
    "collapsed": true
   },
   "outputs": [],
   "source": [
    "Methane_example.set_resource(res_calc)"
   ]
  },
  {
   "cell_type": "code",
   "execution_count": 12,
   "metadata": {
    "collapsed": true
   },
   "outputs": [],
   "source": [
    "res_calc.make_dir()"
   ]
  },
  {
   "cell_type": "markdown",
   "metadata": {},
   "source": [
    "Create .xyz file using a molecular viewer, such as Avogadro (https://avogadro.cc/) or explicitly as in the structure.ipynb example."
   ]
  },
  {
   "cell_type": "code",
   "execution_count": 13,
   "metadata": {
    "collapsed": true
   },
   "outputs": [],
   "source": [
    "ME = streamm.Buildingblock('methane')"
   ]
  },
  {
   "cell_type": "code",
   "execution_count": 14,
   "metadata": {
    "collapsed": true
   },
   "outputs": [],
   "source": [
    "ME.read_xyz()"
   ]
  },
  {
   "cell_type": "code",
   "execution_count": 15,
   "metadata": {},
   "outputs": [
    {
     "name": "stdout",
     "output_type": "stream",
     "text": [
      " 5 \n",
      " methane \n",
      "     C       0.00000000       0.00000000       0.00000000 \n",
      "     H       0.69282032       0.69282032       0.69282032 \n",
      "     H      -0.69282032      -0.69282032       0.69282032 \n",
      "     H      -0.69282032       0.69282032      -0.69282032 \n",
      "     H       0.69282032      -0.69282032      -0.69282032 \n",
      "\n"
     ]
    }
   ],
   "source": [
    "print(ME.write_xyz_str())"
   ]
  },
  {
   "cell_type": "markdown",
   "metadata": {},
   "source": [
    "Looks good let's set up some calculations"
   ]
  },
  {
   "cell_type": "code",
   "execution_count": 16,
   "metadata": {
    "collapsed": true
   },
   "outputs": [],
   "source": [
    "calc_i = streamm.Gaussian('g_methane_HF')"
   ]
  },
  {
   "cell_type": "code",
   "execution_count": 17,
   "metadata": {
    "collapsed": true
   },
   "outputs": [],
   "source": [
    "Methane_example.add_calc(calc_i) # Add it to the project "
   ]
  },
  {
   "cell_type": "code",
   "execution_count": 18,
   "metadata": {
    "collapsed": true
   },
   "outputs": [],
   "source": [
    "calc_i.strucC = ME               # set the strucC to the structure container "
   ]
  },
  {
   "cell_type": "code",
   "execution_count": 19,
   "metadata": {},
   "outputs": [
    {
     "name": "stdout",
     "output_type": "stream",
     "text": [
      "g_methane_HF\n"
     ]
    }
   ],
   "source": [
    "print calc_i.tag"
   ]
  },
  {
   "cell_type": "markdown",
   "metadata": {},
   "source": [
    "Let's use the remote resource to run this calculation "
   ]
  },
  {
   "cell_type": "code",
   "execution_count": 20,
   "metadata": {
    "collapsed": true
   },
   "outputs": [],
   "source": [
    "calc_i.set_resource(res_calc)"
   ]
  },
  {
   "cell_type": "markdown",
   "metadata": {},
   "source": [
    "* home : directory is the root directory for the calculation/project\n",
    "* template : directory of template input and run files to be modified to run the calculation \n",
    "* materials : directory to store structure files (.xyz) \n",
    "* launch : directory to temporarily store files before they are copied to the remote resource \n",
    "* scratch : directory to run the calculation\n",
    "* storage : directory to store completed calculation data"
   ]
  },
  {
   "cell_type": "code",
   "execution_count": 21,
   "metadata": {},
   "outputs": [
    {
     "name": "stdout",
     "output_type": "stream",
     "text": [
      "{u'home': u'/Users/tkemper/Development/streamm-tools/examples',\n",
      " u'launch': u'/Users/tkemper/Development/streamm-tools/examples/scratch/g_methane_HF/',\n",
      " u'materials': u'/Users/tkemper/Development/streamm-tools/examples/materials',\n",
      " u'scratch': u'/scratch/tkemper/g_methane_HF/',\n",
      " u'scripts': u'/Users/tkemper/Development/streamm-tools/examples/scripts',\n",
      " u'storage': u'/mss/users/tkemper/g_methane_HF/',\n",
      " u'templates': u'/Users/tkemper/Development/streamm-tools/examples/../templates/'}\n"
     ]
    }
   ],
   "source": [
    "pprint(calc_i.dir)"
   ]
  },
  {
   "cell_type": "code",
   "execution_count": 22,
   "metadata": {
    "collapsed": true
   },
   "outputs": [],
   "source": [
    "calc_i.make_dir()"
   ]
  },
  {
   "cell_type": "code",
   "execution_count": 23,
   "metadata": {},
   "outputs": [
    {
     "name": "stdout",
     "output_type": "stream",
     "text": [
      "/Users/tkemper/Development/streamm-tools/examples/scratch/g_methane_HF/\n"
     ]
    }
   ],
   "source": [
    "print calc_i.dir['launch']"
   ]
  },
  {
   "cell_type": "code",
   "execution_count": 24,
   "metadata": {
    "collapsed": true
   },
   "outputs": [],
   "source": [
    "os.chdir(calc_i.dir['launch'])"
   ]
  },
  {
   "cell_type": "code",
   "execution_count": 25,
   "metadata": {
    "collapsed": true
   },
   "outputs": [],
   "source": [
    "file_type = 'templates'\n",
    "file_key = 'run'\n",
    "file_name = \"gaussian_remote.pbs\"\n",
    "from_dirkey = 'templates'\n",
    "to_dirkey = 'launch'\n",
    "calc_i.cp_file(file_type,file_key,file_name,from_dirkey,to_dirkey)"
   ]
  },
  {
   "cell_type": "code",
   "execution_count": 26,
   "metadata": {
    "collapsed": true
   },
   "outputs": [],
   "source": [
    "file_type = 'templates'\n",
    "file_key = 'com'\n",
    "file_name = \"gaussian.com\"\n",
    "from_dirkey = 'templates'\n",
    "to_dirkey = 'launch'\n",
    "calc_i.cp_file(file_type,file_key,file_name,from_dirkey,to_dirkey)"
   ]
  },
  {
   "cell_type": "code",
   "execution_count": 27,
   "metadata": {
    "collapsed": true
   },
   "outputs": [],
   "source": [
    "calc_i.load_str('templates','com')        \n",
    "calc_i.load_str('templates','run')"
   ]
  },
  {
   "cell_type": "code",
   "execution_count": 28,
   "metadata": {
    "collapsed": true
   },
   "outputs": [],
   "source": [
    "calc_i.properties['commands'] = 'HF/3-21G SP'\n",
    "calc_i.properties['charge'] = 0\n",
    "calc_i.properties['spin_mult'] = 1\n",
    "calc_i.properties['coord'] = calc_i.strucC.write_coord()"
   ]
  },
  {
   "cell_type": "code",
   "execution_count": 29,
   "metadata": {
    "collapsed": true
   },
   "outputs": [],
   "source": [
    "calc_i.replacewrite_prop('com','input','com','%s.com'%(calc_i.tag))"
   ]
  },
  {
   "cell_type": "code",
   "execution_count": 30,
   "metadata": {
    "collapsed": true
   },
   "outputs": [],
   "source": [
    "calc_i.properties['input_com'] = calc_i.files['input']['com']\n",
    "calc_i.replacewrite_prop('run','scripts','run','%s.pbs'%(calc_i.tag))"
   ]
  },
  {
   "cell_type": "code",
   "execution_count": 31,
   "metadata": {
    "collapsed": true
   },
   "outputs": [],
   "source": [
    "file_type = 'output'\n",
    "file_key = 'log'\n",
    "file_name = \"%s.log\"%(calc_i.tag)\n",
    "calc_i.add_file(file_type,file_key,file_name)"
   ]
  },
  {
   "cell_type": "code",
   "execution_count": 32,
   "metadata": {
    "collapsed": true
   },
   "outputs": [],
   "source": [
    "file_type = 'output'\n",
    "file_key = 'fchk'\n",
    "file_name = \"%s.fchk\"%(calc_i.tag)\n",
    "calc_i.add_file(file_type,file_key,file_name)"
   ]
  },
  {
   "cell_type": "markdown",
   "metadata": {},
   "source": [
    "Save details in .json files "
   ]
  },
  {
   "cell_type": "code",
   "execution_count": 33,
   "metadata": {},
   "outputs": [
    {
     "data": {
      "text/plain": [
       "{u'calculations': {'g_methane_HF': u'gaussian'},\n",
       " u'meta': {'date': '2017-11-15T17:01:08.993609',\n",
       "  'software': u'streamm_proj',\n",
       "  'status': 'written'},\n",
       " u'resources': ['peregrine']}"
      ]
     },
     "execution_count": 33,
     "metadata": {},
     "output_type": "execute_result"
    }
   ],
   "source": [
    "os.chdir(calc_i.dir['home'])\n",
    "Methane_example.export_json()"
   ]
  },
  {
   "cell_type": "code",
   "execution_count": 34,
   "metadata": {
    "collapsed": true
   },
   "outputs": [],
   "source": [
    "os.chdir(calc_i.dir['launch'])"
   ]
  },
  {
   "cell_type": "code",
   "execution_count": 35,
   "metadata": {
    "collapsed": true
   },
   "outputs": [],
   "source": [
    "calc_i.push()"
   ]
  },
  {
   "cell_type": "code",
   "execution_count": 36,
   "metadata": {
    "collapsed": true
   },
   "outputs": [],
   "source": [
    "calc_i.run()"
   ]
  },
  {
   "cell_type": "markdown",
   "metadata": {},
   "source": [
    "Cool. While that is in the queue let's setup some more jobs"
   ]
  },
  {
   "cell_type": "markdown",
   "metadata": {},
   "source": [
    "Let's also run a NWChem calculation"
   ]
  },
  {
   "cell_type": "code",
   "execution_count": 37,
   "metadata": {
    "collapsed": true
   },
   "outputs": [],
   "source": [
    "nwchem_i = streamm.NWChem('nw_methane_HF')"
   ]
  },
  {
   "cell_type": "code",
   "execution_count": 38,
   "metadata": {
    "collapsed": true
   },
   "outputs": [],
   "source": [
    "Methane_example.add_calc(nwchem_i)"
   ]
  },
  {
   "cell_type": "code",
   "execution_count": 39,
   "metadata": {
    "collapsed": true
   },
   "outputs": [],
   "source": [
    "nwchem_i.strucC = ME"
   ]
  },
  {
   "cell_type": "code",
   "execution_count": 40,
   "metadata": {},
   "outputs": [
    {
     "name": "stdout",
     "output_type": "stream",
     "text": [
      "nw_methane_HF\n"
     ]
    }
   ],
   "source": [
    "print nwchem_i.tag"
   ]
  },
  {
   "cell_type": "code",
   "execution_count": 41,
   "metadata": {
    "collapsed": true
   },
   "outputs": [],
   "source": [
    "nwchem_i.set_resource(res_calc)"
   ]
  },
  {
   "cell_type": "code",
   "execution_count": 42,
   "metadata": {},
   "outputs": [
    {
     "name": "stdout",
     "output_type": "stream",
     "text": [
      "u'/scratch/tkemper/nw_methane_HF/'\n"
     ]
    }
   ],
   "source": [
    "pprint(nwchem_i.properties['scratch'])"
   ]
  },
  {
   "cell_type": "code",
   "execution_count": 43,
   "metadata": {
    "collapsed": true
   },
   "outputs": [],
   "source": [
    "nwchem_i.make_dir()"
   ]
  },
  {
   "cell_type": "code",
   "execution_count": 44,
   "metadata": {
    "collapsed": true
   },
   "outputs": [],
   "source": [
    "os.chdir(nwchem_i.dir['launch'])"
   ]
  },
  {
   "cell_type": "code",
   "execution_count": 45,
   "metadata": {
    "collapsed": true
   },
   "outputs": [],
   "source": [
    "file_type = 'templates'\n",
    "file_key = 'run'\n",
    "file_name = \"nwchem_remote.pbs\"\n",
    "from_dirkey = 'templates'\n",
    "to_dirkey = 'launch'\n",
    "nwchem_i.cp_file(file_type,file_key,file_name,from_dirkey,to_dirkey)"
   ]
  },
  {
   "cell_type": "code",
   "execution_count": 46,
   "metadata": {
    "collapsed": true
   },
   "outputs": [],
   "source": [
    "file_type = 'templates'\n",
    "file_key = 'nw'\n",
    "file_name = \"nwchem.nw\"\n",
    "from_dirkey = 'templates'\n",
    "to_dirkey = 'launch'\n",
    "nwchem_i.cp_file(file_type,file_key,file_name,from_dirkey,to_dirkey)"
   ]
  },
  {
   "cell_type": "code",
   "execution_count": 47,
   "metadata": {
    "collapsed": true
   },
   "outputs": [],
   "source": [
    "nwchem_i.load_str('templates','nw')        \n",
    "nwchem_i.load_str('templates','run')"
   ]
  },
  {
   "cell_type": "code",
   "execution_count": 48,
   "metadata": {
    "collapsed": true
   },
   "outputs": [],
   "source": [
    "nwchem_i.properties['basis'] = '6-31g'\n",
    "nwchem_i.properties['method'] = 'UHF'\n",
    "nwchem_i.properties['charge'] = 0\n",
    "nwchem_i.properties['spin_mult'] = 1\n",
    "nwchem_i.properties['task'] = 'SCF '\n",
    "nwchem_i.properties['coord'] = nwchem_i.strucC.write_coord()"
   ]
  },
  {
   "cell_type": "code",
   "execution_count": 49,
   "metadata": {},
   "outputs": [
    {
     "name": "stdout",
     "output_type": "stream",
     "text": [
      "{u'allocation': u'orgopv',\n",
      " u'basis': '6-31g',\n",
      " u'charge': 0,\n",
      " 'comp_key': 'compressed',\n",
      " 'compress': 'tar -czf ',\n",
      " 'compress_sufix': 'tgz',\n",
      " 'coord': u'     C       0.00000000       0.00000000       0.00000000 \\n     H       0.69282032       0.69282032       0.69282032 \\n     H      -0.69282032      -0.69282032       0.69282032 \\n     H      -0.69282032       0.69282032      -0.69282032 \\n     H       0.69282032      -0.69282032      -0.69282032 \\n',\n",
      " u'e-mail': u'tkemper@nrel.gov',\n",
      " u'exe_command': u'qsub ',\n",
      " u'feature': u'24core',\n",
      " u'finish_str': u'Total times  cpu:',\n",
      " u'maxiter': 100,\n",
      " u'method': 'UHF',\n",
      " u'nodes': 1,\n",
      " u'nproc': 24,\n",
      " u'pmem': 1500,\n",
      " u'ppn': 24,\n",
      " u'queue': u'short',\n",
      " u'scratch': u'/scratch/tkemper/nw_methane_HF/',\n",
      " u'spin_mult': 1,\n",
      " u'task': 'SCF ',\n",
      " 'uncompress': 'tar -xzf ',\n",
      " u'walltime': 4}\n"
     ]
    }
   ],
   "source": [
    "pprint(nwchem_i.properties)"
   ]
  },
  {
   "cell_type": "code",
   "execution_count": 50,
   "metadata": {
    "collapsed": true
   },
   "outputs": [],
   "source": [
    "nwchem_i.replacewrite_prop('nw','input','nw','%s.nw'%(nwchem_i.tag))"
   ]
  },
  {
   "cell_type": "code",
   "execution_count": 51,
   "metadata": {
    "collapsed": true
   },
   "outputs": [],
   "source": [
    "nwchem_i.properties['input_nw'] = nwchem_i.files['input']['nw']\n",
    "nwchem_i.replacewrite_prop('run','scripts','run','%s.pbs'%(nwchem_i.tag))"
   ]
  },
  {
   "cell_type": "code",
   "execution_count": 52,
   "metadata": {
    "collapsed": true
   },
   "outputs": [],
   "source": [
    "file_type = 'output'\n",
    "file_key = 'log'\n",
    "file_name = \"%s.log\"%(nwchem_i.tag)\n",
    "nwchem_i.add_file(file_type,file_key,file_name)"
   ]
  },
  {
   "cell_type": "markdown",
   "metadata": {},
   "source": [
    "Save details in .json files "
   ]
  },
  {
   "cell_type": "code",
   "execution_count": 53,
   "metadata": {},
   "outputs": [
    {
     "data": {
      "text/plain": [
       "{u'calculations': {'g_methane_HF': u'gaussian', 'nw_methane_HF': u'nwchem'},\n",
       " u'meta': {'date': '2017-11-15T17:01:08.993609',\n",
       "  'software': u'streamm_proj',\n",
       "  'status': 'written'},\n",
       " u'resources': ['peregrine']}"
      ]
     },
     "execution_count": 53,
     "metadata": {},
     "output_type": "execute_result"
    }
   ],
   "source": [
    "os.chdir(nwchem_i.dir['home'])\n",
    "Methane_example.export_json()"
   ]
  },
  {
   "cell_type": "code",
   "execution_count": 54,
   "metadata": {
    "collapsed": true
   },
   "outputs": [],
   "source": [
    "os.chdir(nwchem_i.dir['launch'])"
   ]
  },
  {
   "cell_type": "code",
   "execution_count": 55,
   "metadata": {
    "collapsed": true
   },
   "outputs": [],
   "source": [
    "nwchem_i.push()"
   ]
  },
  {
   "cell_type": "code",
   "execution_count": 56,
   "metadata": {
    "collapsed": true
   },
   "outputs": [],
   "source": [
    "nwchem_i.run()"
   ]
  },
  {
   "cell_type": "markdown",
   "metadata": {},
   "source": [
    "Okay we have a couple calculations now, so let's check their status"
   ]
  },
  {
   "cell_type": "code",
   "execution_count": 58,
   "metadata": {},
   "outputs": [
    {
     "name": "stdout",
     "output_type": "stream",
     "text": [
      "Calculation g_methane_HF has status finished\n",
      "Calculation nw_methane_HF has status finished\n"
     ]
    }
   ],
   "source": [
    "Methane_example.check()"
   ]
  },
  {
   "cell_type": "markdown",
   "metadata": {},
   "source": [
    "Run the check() function until they show as finished"
   ]
  },
  {
   "cell_type": "code",
   "execution_count": 61,
   "metadata": {
    "collapsed": true
   },
   "outputs": [],
   "source": [
    "os.chdir(nwchem_i.dir['launch'])"
   ]
  },
  {
   "cell_type": "markdown",
   "metadata": {},
   "source": [
    "Store the calculation in compressed files"
   ]
  },
  {
   "cell_type": "code",
   "execution_count": 70,
   "metadata": {
    "collapsed": true
   },
   "outputs": [],
   "source": [
    "nwchem_i.store()"
   ]
  },
  {
   "cell_type": "markdown",
   "metadata": {},
   "source": [
    "Download the compressed output files "
   ]
  },
  {
   "cell_type": "code",
   "execution_count": 71,
   "metadata": {
    "collapsed": true
   },
   "outputs": [],
   "source": [
    "nwchem_i.pull()"
   ]
  },
  {
   "cell_type": "code",
   "execution_count": 72,
   "metadata": {},
   "outputs": [
    {
     "name": "stdout",
     "output_type": "stream",
     "text": [
      "Running analysis on  nw_methane_HF.log\n"
     ]
    }
   ],
   "source": [
    "nwchem_i.analysis()"
   ]
  },
  {
   "cell_type": "code",
   "execution_count": 73,
   "metadata": {},
   "outputs": [
    {
     "name": "stdout",
     "output_type": "stream",
     "text": [
      "[-0.9041047, -0.5161086, -0.5161086, -0.5161086, 0.2264494, 0.2911283, 0.2911283, 0.2911283, 0.7887659, 0.7887659, 0.7887659, 1.085928, 1.135132, 1.135132]\n"
     ]
    }
   ],
   "source": [
    "print nwchem_i.properties['alpha_energies']"
   ]
  },
  {
   "cell_type": "code",
   "execution_count": 74,
   "metadata": {},
   "outputs": [
    {
     "name": "stdout",
     "output_type": "stream",
     "text": [
      "4\n"
     ]
    }
   ],
   "source": [
    "print nwchem_i.properties['N_alpha_occ']"
   ]
  },
  {
   "cell_type": "code",
   "execution_count": 76,
   "metadata": {},
   "outputs": [
    {
     "data": {
      "text/plain": [
       "{u'calculations': {'g_methane_HF': u'gaussian', 'nw_methane_HF': u'nwchem'},\n",
       " u'meta': {'date': '2017-11-15T17:01:08.993609',\n",
       "  'software': u'streamm_proj',\n",
       "  'status': 'written'},\n",
       " u'resources': ['peregrine']}"
      ]
     },
     "execution_count": 76,
     "metadata": {},
     "output_type": "execute_result"
    }
   ],
   "source": [
    "os.chdir(nwchem_i.dir['home'])\n",
    "Methane_example.export_json()"
   ]
  },
  {
   "cell_type": "markdown",
   "metadata": {},
   "source": [
    "Neat!"
   ]
  },
  {
   "cell_type": "markdown",
   "metadata": {},
   "source": [
    "Now let's optimize the structure and calculate the ESP charges"
   ]
  },
  {
   "cell_type": "code",
   "execution_count": 77,
   "metadata": {
    "collapsed": true
   },
   "outputs": [],
   "source": [
    "nwchem_opt = streamm.NWChem('nw_methane_OPT')"
   ]
  },
  {
   "cell_type": "code",
   "execution_count": 78,
   "metadata": {
    "collapsed": true
   },
   "outputs": [],
   "source": [
    "Methane_example.add_calc(nwchem_opt)"
   ]
  },
  {
   "cell_type": "code",
   "execution_count": 79,
   "metadata": {
    "collapsed": true
   },
   "outputs": [],
   "source": [
    "nwchem_opt.strucC = ME"
   ]
  },
  {
   "cell_type": "code",
   "execution_count": 80,
   "metadata": {},
   "outputs": [
    {
     "name": "stdout",
     "output_type": "stream",
     "text": [
      "nw_methane_OPT\n"
     ]
    }
   ],
   "source": [
    "print nwchem_opt.tag"
   ]
  },
  {
   "cell_type": "code",
   "execution_count": 81,
   "metadata": {
    "collapsed": true
   },
   "outputs": [],
   "source": [
    "nwchem_opt.set_resource(res_calc)"
   ]
  },
  {
   "cell_type": "code",
   "execution_count": 84,
   "metadata": {
    "collapsed": true
   },
   "outputs": [],
   "source": [
    "nwchem_opt.make_dir()"
   ]
  },
  {
   "cell_type": "code",
   "execution_count": 85,
   "metadata": {},
   "outputs": [
    {
     "name": "stdout",
     "output_type": "stream",
     "text": [
      "/Users/tkemper/Development/streamm-tools/examples/scratch/nw_methane_OPT/\n"
     ]
    }
   ],
   "source": [
    "print nwchem_opt.dir['launch']"
   ]
  },
  {
   "cell_type": "code",
   "execution_count": 86,
   "metadata": {
    "collapsed": true
   },
   "outputs": [],
   "source": [
    "os.chdir(nwchem_opt.dir['launch'])"
   ]
  },
  {
   "cell_type": "code",
   "execution_count": 87,
   "metadata": {
    "collapsed": true
   },
   "outputs": [],
   "source": [
    "file_type = 'templates'\n",
    "file_key = 'run'\n",
    "file_name = \"nwchem_remote.pbs\"\n",
    "from_dirkey = 'templates'\n",
    "to_dirkey = 'launch'\n",
    "nwchem_opt.cp_file(file_type,file_key,file_name,from_dirkey,to_dirkey)"
   ]
  },
  {
   "cell_type": "code",
   "execution_count": 88,
   "metadata": {
    "collapsed": true
   },
   "outputs": [],
   "source": [
    "file_type = 'templates'\n",
    "file_key = 'nw'\n",
    "file_name = \"nwchem.nw\"\n",
    "from_dirkey = 'templates'\n",
    "to_dirkey = 'launch'\n",
    "nwchem_opt.cp_file(file_type,file_key,file_name,from_dirkey,to_dirkey)"
   ]
  },
  {
   "cell_type": "code",
   "execution_count": 89,
   "metadata": {
    "collapsed": true
   },
   "outputs": [],
   "source": [
    "nwchem_opt.load_str('templates','nw')        \n",
    "nwchem_opt.load_str('templates','run')"
   ]
  },
  {
   "cell_type": "code",
   "execution_count": 90,
   "metadata": {
    "collapsed": true
   },
   "outputs": [],
   "source": [
    "nwchem_opt.properties['basis'] = '6-31g'\n",
    "nwchem_opt.properties['method'] = 'UHF'\n",
    "nwchem_opt.properties['charge'] = 0\n",
    "nwchem_opt.properties['spin_mult'] = 1\n",
    "nwchem_opt.properties['task'] = 'SCF optimize'\n",
    "nwchem_opt.properties['coord'] = nwchem_opt.strucC.write_coord()"
   ]
  },
  {
   "cell_type": "code",
   "execution_count": 91,
   "metadata": {},
   "outputs": [
    {
     "name": "stdout",
     "output_type": "stream",
     "text": [
      "{u'allocation': u'orgopv',\n",
      " u'basis': '6-31g',\n",
      " u'charge': 0,\n",
      " 'comp_key': 'compressed',\n",
      " 'compress': 'tar -czf ',\n",
      " 'compress_sufix': 'tgz',\n",
      " 'coord': u'     C       0.00000000       0.00000000       0.00000000 \\n     H       0.69282032       0.69282032       0.69282032 \\n     H      -0.69282032      -0.69282032       0.69282032 \\n     H      -0.69282032       0.69282032      -0.69282032 \\n     H       0.69282032      -0.69282032      -0.69282032 \\n',\n",
      " u'e-mail': u'tkemper@nrel.gov',\n",
      " u'exe_command': u'qsub ',\n",
      " u'feature': u'24core',\n",
      " u'finish_str': u'Total times  cpu:',\n",
      " u'maxiter': 100,\n",
      " u'method': 'UHF',\n",
      " u'nodes': 1,\n",
      " u'nproc': 24,\n",
      " u'pmem': 1500,\n",
      " u'ppn': 24,\n",
      " u'queue': u'short',\n",
      " u'scratch': u'/scratch/tkemper/nw_methane_OPT/',\n",
      " u'spin_mult': 1,\n",
      " u'task': 'SCF optimize',\n",
      " 'uncompress': 'tar -xzf ',\n",
      " u'walltime': 4}\n"
     ]
    }
   ],
   "source": [
    "pprint(nwchem_opt.properties)"
   ]
  },
  {
   "cell_type": "code",
   "execution_count": 92,
   "metadata": {
    "collapsed": true
   },
   "outputs": [],
   "source": [
    "nwchem_opt.replacewrite_prop('nw','input','nw','%s.nw'%(nwchem_opt.tag))"
   ]
  },
  {
   "cell_type": "code",
   "execution_count": 93,
   "metadata": {
    "collapsed": true
   },
   "outputs": [],
   "source": [
    "nwchem_opt.properties['input_nw'] = nwchem_opt.files['input']['nw']\n",
    "nwchem_opt.replacewrite_prop('run','scripts','run','%s.pbs'%(nwchem_opt.tag))"
   ]
  },
  {
   "cell_type": "code",
   "execution_count": 94,
   "metadata": {
    "collapsed": true
   },
   "outputs": [],
   "source": [
    "file_type = 'output'\n",
    "file_key = 'log'\n",
    "file_name = \"%s.log\"%(nwchem_opt.tag)\n",
    "nwchem_opt.add_file(file_type,file_key,file_name)"
   ]
  },
  {
   "cell_type": "markdown",
   "metadata": {},
   "source": [
    "Save details in .json files "
   ]
  },
  {
   "cell_type": "code",
   "execution_count": 95,
   "metadata": {},
   "outputs": [
    {
     "data": {
      "text/plain": [
       "{u'calculations': {'g_methane_HF': u'gaussian',\n",
       "  'nw_methane_HF': u'nwchem',\n",
       "  'nw_methane_OPT': u'nwchem'},\n",
       " u'meta': {'date': '2017-11-15T17:01:08.993609',\n",
       "  'software': u'streamm_proj',\n",
       "  'status': 'written'},\n",
       " u'resources': ['peregrine']}"
      ]
     },
     "execution_count": 95,
     "metadata": {},
     "output_type": "execute_result"
    }
   ],
   "source": [
    "os.chdir(nwchem_opt.dir['home'])\n",
    "Methane_example.export_json()"
   ]
  },
  {
   "cell_type": "code",
   "execution_count": 96,
   "metadata": {
    "collapsed": true
   },
   "outputs": [],
   "source": [
    "os.chdir(nwchem_opt.dir['launch'])"
   ]
  },
  {
   "cell_type": "code",
   "execution_count": 97,
   "metadata": {
    "collapsed": true
   },
   "outputs": [],
   "source": [
    "nwchem_opt.push()"
   ]
  },
  {
   "cell_type": "code",
   "execution_count": 98,
   "metadata": {
    "collapsed": true
   },
   "outputs": [],
   "source": [
    "nwchem_opt.run()"
   ]
  },
  {
   "cell_type": "code",
   "execution_count": 99,
   "metadata": {
    "collapsed": true
   },
   "outputs": [],
   "source": [
    "nwchem_opt.check()"
   ]
  },
  {
   "cell_type": "code",
   "execution_count": 100,
   "metadata": {},
   "outputs": [
    {
     "name": "stdout",
     "output_type": "stream",
     "text": [
      "{'date': '2017-11-15T17:20:45.530701', 'status': 'written', 'resource': 'peregrine', 'software': u'nwchem'}\n"
     ]
    }
   ],
   "source": [
    "print nwchem_opt.meta"
   ]
  },
  {
   "cell_type": "code",
   "execution_count": 106,
   "metadata": {},
   "outputs": [
    {
     "name": "stdout",
     "output_type": "stream",
     "text": [
      "Calculation nw_methane_OPT has status finished\n",
      "Calculation g_methane_HF has status finished\n",
      "Calculation nw_methane_HF has status stored\n"
     ]
    }
   ],
   "source": [
    "Methane_example.check()"
   ]
  },
  {
   "cell_type": "markdown",
   "metadata": {},
   "source": [
    "Again wait until the calculations show finished "
   ]
  },
  {
   "cell_type": "code",
   "execution_count": 111,
   "metadata": {
    "collapsed": true
   },
   "outputs": [],
   "source": [
    "nwchem_opt.store()"
   ]
  },
  {
   "cell_type": "code",
   "execution_count": 112,
   "metadata": {},
   "outputs": [],
   "source": [
    "nwchem_opt.pull()"
   ]
  },
  {
   "cell_type": "code",
   "execution_count": 113,
   "metadata": {
    "scrolled": true
   },
   "outputs": [
    {
     "name": "stdout",
     "output_type": "stream",
     "text": [
      "Running analysis on  nw_methane_OPT.log\n"
     ]
    }
   ],
   "source": [
    "nwchem_opt.analysis()"
   ]
  },
  {
   "cell_type": "code",
   "execution_count": 114,
   "metadata": {},
   "outputs": [
    {
     "name": "stdout",
     "output_type": "stream",
     "text": [
      " 5 \n",
      " methane \n",
      "     C       0.00000000      -0.00000001      -0.00000001 \n",
      "     H       0.62474531       0.62474532       0.62474532 \n",
      "     H      -0.62474532      -0.62474531       0.62474533 \n",
      "     H      -0.62474533       0.62474533      -0.62474531 \n",
      "     H       0.62474533      -0.62474533      -0.62474532 \n",
      "\n"
     ]
    }
   ],
   "source": [
    "print nwchem_opt.strucC.write_xyz_str()"
   ]
  },
  {
   "cell_type": "code",
   "execution_count": 115,
   "metadata": {
    "collapsed": true
   },
   "outputs": [],
   "source": [
    "os.chdir(nwchem_opt.dir['materials'])"
   ]
  },
  {
   "cell_type": "code",
   "execution_count": 116,
   "metadata": {
    "collapsed": true
   },
   "outputs": [],
   "source": [
    "nwchem_opt.strucC.tag = '{}_{}'.format(nwchem_opt.strucC.tag,nwchem_opt.tag)"
   ]
  },
  {
   "cell_type": "code",
   "execution_count": 117,
   "metadata": {
    "collapsed": true
   },
   "outputs": [],
   "source": [
    "nwchem_opt.strucC.write_xyz()"
   ]
  },
  {
   "cell_type": "code",
   "execution_count": 118,
   "metadata": {
    "collapsed": true
   },
   "outputs": [],
   "source": [
    "nwchem_esp = streamm.NWChem('nw_methane_ESP')"
   ]
  },
  {
   "cell_type": "code",
   "execution_count": 119,
   "metadata": {
    "collapsed": true
   },
   "outputs": [],
   "source": [
    "ME_OPT = streamm.Buildingblock('methane_nw_methane_OPT')"
   ]
  },
  {
   "cell_type": "code",
   "execution_count": 120,
   "metadata": {
    "collapsed": true
   },
   "outputs": [],
   "source": [
    "ME_OPT.read_xyz()"
   ]
  },
  {
   "cell_type": "code",
   "execution_count": 121,
   "metadata": {},
   "outputs": [
    {
     "name": "stdout",
     "output_type": "stream",
     "text": [
      " 5 \n",
      " methane_nw_methane_OPT \n",
      "     C       0.00000000      -0.00000001      -0.00000001 \n",
      "     H       0.62474531       0.62474532       0.62474532 \n",
      "     H      -0.62474532      -0.62474531       0.62474533 \n",
      "     H      -0.62474533       0.62474533      -0.62474531 \n",
      "     H       0.62474533      -0.62474533      -0.62474532 \n",
      "\n"
     ]
    }
   ],
   "source": [
    "print(ME.write_xyz_str())"
   ]
  },
  {
   "cell_type": "code",
   "execution_count": 122,
   "metadata": {
    "collapsed": true
   },
   "outputs": [],
   "source": [
    "Methane_example.add_calc(nwchem_esp)"
   ]
  },
  {
   "cell_type": "code",
   "execution_count": 123,
   "metadata": {
    "collapsed": true
   },
   "outputs": [],
   "source": [
    "nwchem_esp.strucC = ME_OPT"
   ]
  },
  {
   "cell_type": "code",
   "execution_count": 124,
   "metadata": {},
   "outputs": [
    {
     "name": "stdout",
     "output_type": "stream",
     "text": [
      "nw_methane_ESP\n"
     ]
    }
   ],
   "source": [
    "print nwchem_esp.tag"
   ]
  },
  {
   "cell_type": "code",
   "execution_count": 125,
   "metadata": {
    "collapsed": true
   },
   "outputs": [],
   "source": [
    "nwchem_esp.set_resource(res_calc)"
   ]
  },
  {
   "cell_type": "code",
   "execution_count": 126,
   "metadata": {},
   "outputs": [
    {
     "name": "stdout",
     "output_type": "stream",
     "text": [
      "u'/scratch/tkemper/nw_methane_ESP/'\n"
     ]
    }
   ],
   "source": [
    "pprint(nwchem_esp.properties['scratch'])"
   ]
  },
  {
   "cell_type": "code",
   "execution_count": 127,
   "metadata": {
    "collapsed": true
   },
   "outputs": [],
   "source": [
    "nwchem_esp.make_dir()"
   ]
  },
  {
   "cell_type": "code",
   "execution_count": 128,
   "metadata": {},
   "outputs": [
    {
     "name": "stdout",
     "output_type": "stream",
     "text": [
      "/Users/tkemper/Development/streamm-tools/examples/scratch/nw_methane_ESP/\n"
     ]
    }
   ],
   "source": [
    "print nwchem_esp.dir['launch']"
   ]
  },
  {
   "cell_type": "code",
   "execution_count": 139,
   "metadata": {
    "collapsed": true
   },
   "outputs": [],
   "source": [
    "os.chdir(nwchem_esp.dir['launch'])"
   ]
  },
  {
   "cell_type": "code",
   "execution_count": 140,
   "metadata": {
    "collapsed": true
   },
   "outputs": [],
   "source": [
    "file_type = 'templates'\n",
    "file_key = 'run'\n",
    "file_name = \"nwchem_remote.pbs\"\n",
    "from_dirkey = 'templates'\n",
    "to_dirkey = 'launch'\n",
    "nwchem_esp.cp_file(file_type,file_key,file_name,from_dirkey,to_dirkey)"
   ]
  },
  {
   "cell_type": "code",
   "execution_count": 141,
   "metadata": {
    "collapsed": true
   },
   "outputs": [],
   "source": [
    "file_type = 'templates'\n",
    "file_key = 'nw'\n",
    "file_name = \"nwchem_esp.nw\"\n",
    "from_dirkey = 'templates'\n",
    "to_dirkey = 'launch'\n",
    "nwchem_esp.cp_file(file_type,file_key,file_name,from_dirkey,to_dirkey)"
   ]
  },
  {
   "cell_type": "code",
   "execution_count": 142,
   "metadata": {
    "collapsed": true
   },
   "outputs": [],
   "source": [
    "nwchem_esp.load_str('templates','nw')        \n",
    "nwchem_esp.load_str('templates','run')"
   ]
  },
  {
   "cell_type": "code",
   "execution_count": 143,
   "metadata": {
    "collapsed": true
   },
   "outputs": [],
   "source": [
    "nwchem_esp.properties['basis'] = '6-31g'\n",
    "nwchem_esp.properties['method'] = 'UHF'\n",
    "nwchem_esp.properties['charge'] = 0\n",
    "nwchem_esp.properties['spin_mult'] = 1\n",
    "nwchem_esp.properties['task'] = 'SCF '\n",
    "nwchem_esp.properties['coord'] = nwchem_esp.strucC.write_coord()"
   ]
  },
  {
   "cell_type": "code",
   "execution_count": 144,
   "metadata": {},
   "outputs": [
    {
     "name": "stdout",
     "output_type": "stream",
     "text": [
      "{u'allocation': u'orgopv',\n",
      " u'basis': '6-31g',\n",
      " u'charge': 0,\n",
      " 'comp_key': 'compressed',\n",
      " 'compress': 'tar -czf ',\n",
      " 'compress_sufix': 'tgz',\n",
      " 'coord': u'     C       0.00000000      -0.00000001      -0.00000001 \\n     H       0.62474531       0.62474532       0.62474532 \\n     H      -0.62474532      -0.62474531       0.62474533 \\n     H      -0.62474533       0.62474533      -0.62474531 \\n     H       0.62474533      -0.62474533      -0.62474532 \\n',\n",
      " u'e-mail': u'tkemper@nrel.gov',\n",
      " u'exe_command': u'qsub ',\n",
      " u'feature': u'24core',\n",
      " u'finish_str': u'Total times  cpu:',\n",
      " 'input_nw': 'nw_methane_ESP.nw',\n",
      " u'maxiter': 100,\n",
      " u'method': 'UHF',\n",
      " u'nodes': 1,\n",
      " u'nproc': 24,\n",
      " u'pmem': 1500,\n",
      " u'ppn': 24,\n",
      " u'queue': u'short',\n",
      " u'scratch': u'/scratch/tkemper/nw_methane_ESP/',\n",
      " u'spin_mult': 1,\n",
      " u'task': 'SCF ',\n",
      " 'uncompress': 'tar -xzf ',\n",
      " u'walltime': 4}\n"
     ]
    }
   ],
   "source": [
    "pprint(nwchem_esp.properties)"
   ]
  },
  {
   "cell_type": "code",
   "execution_count": 145,
   "metadata": {
    "collapsed": true
   },
   "outputs": [],
   "source": [
    "nwchem_esp.replacewrite_prop('nw','input','nw','%s.nw'%(nwchem_esp.tag))"
   ]
  },
  {
   "cell_type": "code",
   "execution_count": 146,
   "metadata": {
    "collapsed": true
   },
   "outputs": [],
   "source": [
    "nwchem_esp.properties['input_nw'] = nwchem_esp.files['input']['nw']\n",
    "nwchem_esp.replacewrite_prop('run','scripts','run','%s.pbs'%(nwchem_esp.tag))"
   ]
  },
  {
   "cell_type": "code",
   "execution_count": 147,
   "metadata": {
    "collapsed": true
   },
   "outputs": [],
   "source": [
    "file_type = 'output'\n",
    "file_key = 'log'\n",
    "file_name = \"%s.log\"%(nwchem_esp.tag)\n",
    "nwchem_esp.add_file(file_type,file_key,file_name)"
   ]
  },
  {
   "cell_type": "markdown",
   "metadata": {},
   "source": [
    "Save details in .json files "
   ]
  },
  {
   "cell_type": "code",
   "execution_count": 148,
   "metadata": {},
   "outputs": [
    {
     "data": {
      "text/plain": [
       "{u'calculations': {'g_methane_HF': u'gaussian',\n",
       "  'nw_methane_ESP': u'nwchem',\n",
       "  'nw_methane_HF': u'nwchem',\n",
       "  'nw_methane_OPT': u'nwchem'},\n",
       " u'meta': {'date': '2017-11-15T17:01:08.993609',\n",
       "  'software': u'streamm_proj',\n",
       "  'status': 'written'},\n",
       " u'resources': ['peregrine']}"
      ]
     },
     "execution_count": 148,
     "metadata": {},
     "output_type": "execute_result"
    }
   ],
   "source": [
    "os.chdir(nwchem_esp.dir['home'])\n",
    "Methane_example.export_json()"
   ]
  },
  {
   "cell_type": "code",
   "execution_count": 149,
   "metadata": {
    "collapsed": true
   },
   "outputs": [],
   "source": [
    "os.chdir(nwchem_esp.dir['launch'])"
   ]
  },
  {
   "cell_type": "code",
   "execution_count": 150,
   "metadata": {
    "collapsed": true
   },
   "outputs": [],
   "source": [
    "nwchem_esp.push()"
   ]
  },
  {
   "cell_type": "code",
   "execution_count": 151,
   "metadata": {
    "collapsed": true
   },
   "outputs": [],
   "source": [
    "nwchem_esp.run()"
   ]
  },
  {
   "cell_type": "code",
   "execution_count": 152,
   "metadata": {},
   "outputs": [
    {
     "name": "stdout",
     "output_type": "stream",
     "text": [
      "nw_methane_ESP {'log': 'nw_methane_ESP.log'}\n"
     ]
    }
   ],
   "source": [
    "print nwchem_esp.tag,nwchem_esp.files['output']"
   ]
  },
  {
   "cell_type": "code",
   "execution_count": 155,
   "metadata": {
    "collapsed": true
   },
   "outputs": [],
   "source": [
    "nwchem_esp.check()"
   ]
  },
  {
   "cell_type": "code",
   "execution_count": 156,
   "metadata": {},
   "outputs": [
    {
     "name": "stdout",
     "output_type": "stream",
     "text": [
      "{'date': '2017-11-15T17:24:28.884272', 'status': 'written', 'resource': 'peregrine', 'software': u'nwchem'}\n"
     ]
    }
   ],
   "source": [
    "print nwchem_esp.meta"
   ]
  },
  {
   "cell_type": "code",
   "execution_count": 160,
   "metadata": {},
   "outputs": [
    {
     "name": "stdout",
     "output_type": "stream",
     "text": [
      "Calculation nw_methane_OPT has status stored\n",
      "Calculation g_methane_HF has status stored\n",
      "Calculation nw_methane_HF has status stored\n",
      "Calculation nw_methane_ESP has status finished\n"
     ]
    }
   ],
   "source": [
    "Methane_example.check()"
   ]
  },
  {
   "cell_type": "code",
   "execution_count": 161,
   "metadata": {
    "collapsed": true
   },
   "outputs": [],
   "source": [
    "nwchem_esp.store()"
   ]
  },
  {
   "cell_type": "code",
   "execution_count": 162,
   "metadata": {
    "collapsed": true
   },
   "outputs": [],
   "source": [
    "nwchem_esp.pull()"
   ]
  },
  {
   "cell_type": "code",
   "execution_count": 163,
   "metadata": {
    "scrolled": true
   },
   "outputs": [
    {
     "name": "stdout",
     "output_type": "stream",
     "text": [
      "Running analysis on  nw_methane_ESP.log\n"
     ]
    }
   ],
   "source": [
    "nwchem_esp.analysis()"
   ]
  },
  {
   "cell_type": "code",
   "execution_count": 164,
   "metadata": {},
   "outputs": [
    {
     "name": "stdout",
     "output_type": "stream",
     "text": [
      "0 -0.315785\n",
      "1 0.074534\n",
      "2 0.080417\n",
      "3 0.080417\n",
      "4 0.080417\n"
     ]
    }
   ],
   "source": [
    "for pk,p in nwchem_esp.strucC.particles.iteritems():\n",
    "    print pk,p.charge"
   ]
  },
  {
   "cell_type": "markdown",
   "metadata": {},
   "source": [
    "Now we have an optimized molecular geometry and ESP charges"
   ]
  }
 ],
 "metadata": {
  "anaconda-cloud": {},
  "kernelspec": {
   "display_name": "Python 2",
   "language": "python",
   "name": "python2"
  },
  "language_info": {
   "codemirror_mode": {
    "name": "ipython",
    "version": 2
   },
   "file_extension": ".py",
   "mimetype": "text/x-python",
   "name": "python",
   "nbconvert_exporter": "python",
   "pygments_lexer": "ipython2",
   "version": "2.7.13"
  }
 },
 "nbformat": 4,
 "nbformat_minor": 2
}
