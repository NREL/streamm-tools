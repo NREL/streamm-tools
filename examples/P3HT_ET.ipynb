{
 "cells": [
  {
   "cell_type": "code",
   "execution_count": 1,
   "metadata": {
    "collapsed": true
   },
   "outputs": [],
   "source": [
    "%load_ext autoreload\n",
    "%autoreload 2\n",
    "%matplotlib inline"
   ]
  },
  {
   "cell_type": "code",
   "execution_count": 2,
   "metadata": {
    "collapsed": true
   },
   "outputs": [],
   "source": [
    "import os \n",
    "from pprint import pprint"
   ]
  },
  {
   "cell_type": "code",
   "execution_count": 3,
   "metadata": {
    "collapsed": true
   },
   "outputs": [],
   "source": [
    "import csv "
   ]
  },
  {
   "cell_type": "code",
   "execution_count": 4,
   "metadata": {
    "collapsed": true
   },
   "outputs": [],
   "source": [
    "import numpy as np\n",
    "import decimal\n",
    "import copy"
   ]
  },
  {
   "cell_type": "code",
   "execution_count": 5,
   "metadata": {
    "collapsed": true
   },
   "outputs": [],
   "source": [
    "import matplotlib\n",
    "import matplotlib.pyplot as plt"
   ]
  },
  {
   "cell_type": "code",
   "execution_count": 6,
   "metadata": {
    "collapsed": true
   },
   "outputs": [],
   "source": [
    "import time"
   ]
  },
  {
   "cell_type": "markdown",
   "metadata": {},
   "source": [
    "Set wait time to check if calculation has finished"
   ]
  },
  {
   "cell_type": "code",
   "execution_count": 7,
   "metadata": {
    "collapsed": true
   },
   "outputs": [],
   "source": [
    "status_refresh = 1"
   ]
  },
  {
   "cell_type": "code",
   "execution_count": 8,
   "metadata": {
    "collapsed": true
   },
   "outputs": [],
   "source": [
    "import streamm"
   ]
  },
  {
   "cell_type": "markdown",
   "metadata": {},
   "source": [
    "In this getting started example we will calculate the coupling between P3HT oligomers"
   ]
  },
  {
   "cell_type": "code",
   "execution_count": 9,
   "metadata": {
    "collapsed": true
   },
   "outputs": [],
   "source": [
    "import logging\n",
    "logging.basicConfig(filename='p3ht_et.log',level=logging.DEBUG)"
   ]
  },
  {
   "cell_type": "markdown",
   "metadata": {},
   "source": [
    "And a resource object to keep track of where our files are "
   ]
  },
  {
   "cell_type": "code",
   "execution_count": 10,
   "metadata": {
    "collapsed": true
   },
   "outputs": [],
   "source": [
    "res_local = streamm.Resource('local')"
   ]
  },
  {
   "cell_type": "markdown",
   "metadata": {},
   "source": [
    "Update relative location of templates directory "
   ]
  },
  {
   "cell_type": "code",
   "execution_count": 11,
   "metadata": {
    "collapsed": true
   },
   "outputs": [],
   "source": [
    "res_local.dir['templates'] =  os.path.join(res_local.dir['home'],'..','templates','')"
   ]
  },
  {
   "cell_type": "code",
   "execution_count": 12,
   "metadata": {
    "collapsed": true
   },
   "outputs": [],
   "source": [
    "res_local.make_dir()"
   ]
  },
  {
   "cell_type": "markdown",
   "metadata": {},
   "source": [
    "Now we need to set a remote resource we have ssh access to and run calculations "
   ]
  },
  {
   "cell_type": "code",
   "execution_count": 13,
   "metadata": {
    "collapsed": true
   },
   "outputs": [],
   "source": [
    "peregrine = streamm.Resource('peregrine')"
   ]
  },
  {
   "cell_type": "code",
   "execution_count": 14,
   "metadata": {
    "collapsed": true
   },
   "outputs": [],
   "source": [
    "peregrine.meta['type'] = \"ssh\"\n",
    "peregrine.ssh['username'] = \"tkemper\"    \n",
    "peregrine.ssh['address'] = \"peregrine.hpc.nrel.gov\"    \n",
    "peregrine.dir['storage'] = '/mss/users/%s'%(peregrine.ssh['username'])\n",
    "peregrine.dir['scratch'] = '/scratch/%s'%(peregrine.ssh['username'])\n",
    "peregrine.dir['home'] = res_local.dir['home']\n",
    "peregrine.dir['launch'] = res_local.dir['launch']\n",
    "peregrine.dir['templates'] = res_local.dir['templates']\n",
    "\n",
    "# Set default simulation specs\n",
    "peregrine.properties['allocation'] = 'orgopv'\n",
    "peregrine.properties['e-mail'] = 'travis.kemper@nrel.gov'\n",
    "peregrine.properties['scratch'] = peregrine.dir['scratch']\n",
    "peregrine.properties['allocation'] = 'orgopv'\n",
    "peregrine.properties['walltime'] = 4\n",
    "peregrine.properties['nodes'] = int(1)\n",
    "peregrine.properties['ppn'] = int(24)\n",
    "peregrine.properties['nproc'] = peregrine.properties['nodes']*peregrine.properties['ppn']\n",
    "peregrine.properties['queue'] = 'short'\n",
    "peregrine.properties['feature'] = '24core'\n",
    "peregrine.properties['exe_command'] = 'qsub '"
   ]
  },
  {
   "cell_type": "code",
   "execution_count": 15,
   "metadata": {},
   "outputs": [
    {
     "name": "stdout",
     "output_type": "stream",
     "text": [
      "{u'allocation': 'orgopv',\n",
      " 'e-mail': 'travis.kemper@nrel.gov',\n",
      " u'exe_command': 'qsub ',\n",
      " u'feature': '24core',\n",
      " u'nodes': 1,\n",
      " u'nproc': 24,\n",
      " u'pmem': 1500,\n",
      " u'ppn': 24,\n",
      " u'queue': 'short',\n",
      " 'scratch': '/scratch/tkemper',\n",
      " u'walltime': 4}\n"
     ]
    }
   ],
   "source": [
    "pprint(peregrine.properties)"
   ]
  },
  {
   "cell_type": "code",
   "execution_count": 16,
   "metadata": {
    "collapsed": true
   },
   "outputs": [],
   "source": [
    "peregrine.make_dir()"
   ]
  },
  {
   "cell_type": "markdown",
   "metadata": {},
   "source": [
    "Now let's create project and resource to keep track of our work"
   ]
  },
  {
   "cell_type": "code",
   "execution_count": 17,
   "metadata": {
    "collapsed": true
   },
   "outputs": [],
   "source": [
    "p3ht_et = streamm.Project('P3HT_ET')"
   ]
  },
  {
   "cell_type": "code",
   "execution_count": 18,
   "metadata": {
    "collapsed": true
   },
   "outputs": [],
   "source": [
    "p3ht_et.set_resource(res_local)"
   ]
  },
  {
   "cell_type": "markdown",
   "metadata": {},
   "source": [
    "Explicitely create a thiophene molecule"
   ]
  },
  {
   "cell_type": "code",
   "execution_count": 19,
   "metadata": {
    "collapsed": true
   },
   "outputs": [],
   "source": [
    "bbTh = streamm.Buildingblock('thiophene')\n",
    "symbols = ['C','C','C','C','S','H','H','H','H']\n",
    "positions = [ ]\n",
    "positions.append([-1.55498576,-1.91131218,-0.00081000])\n",
    "positions.append([-0.17775976,-1.91131218,-0.00081000])\n",
    "positions.append([0.34761524,-0.57904218,-0.00081000])\n",
    "positions.append([-0.65884476,0.36101082,0.00000000])\n",
    "positions.append([-2.16948076,-0.35614618,-0.00000800])\n",
    "positions.append([-2.18966076,-2.79526518,-0.00132100])\n",
    "positions.append([0.45389024,-2.80145418,-0.00106400])\n",
    "positions.append([1.41682424,-0.35961818,-0.00138200])\n",
    "positions.append([-0.51943676,1.44024682,0.00064700])\n",
    "for i in range(len(symbols)):\n",
    "    pt_i = streamm.Particle(symbol=symbols[i])\n",
    "    pos_i = positions[i]\n",
    "    bbTh.add_partpos(pt_i,pos_i)"
   ]
  },
  {
   "cell_type": "code",
   "execution_count": 20,
   "metadata": {
    "collapsed": true
   },
   "outputs": [],
   "source": [
    "bbTh.particles[5].rsite = 'termcap'\n",
    "bbTh.particles[6].rsite = 'funccap'\n",
    "bbTh.particles[8].rsite = 'termcap'"
   ]
  },
  {
   "cell_type": "markdown",
   "metadata": {},
   "source": [
    "Set some properties of the molecule to keep track of the parts"
   ]
  },
  {
   "cell_type": "code",
   "execution_count": 21,
   "metadata": {
    "collapsed": true
   },
   "outputs": [],
   "source": [
    "c_cnt =1\n",
    "h_cnt =1\n",
    "\n",
    "for pkey_i, particle_i  in bbTh.particles.iteritems():\n",
    "\n",
    "    if( particle_i.symbol == 'C' ):\n",
    "        particle_i.label = \"C%d\"%(c_cnt)\n",
    "        particle_i.resname = \"SCP2\"\n",
    "        particle_i.residue = 1\n",
    "\n",
    "        c_cnt +=1 \n",
    "    if( particle_i.symbol == 'S' ):\n",
    "        particle_i.resname = \"ThS\"\n",
    "        particle_i.residue = 2\n",
    "\n",
    "    if( particle_i.symbol == 'H' ):\n",
    "        particle_i.label = \"H%d\"%(h_cnt)\n",
    "        particle_i.resname = \"HA\"\n",
    "        particle_i.residue = 3\n",
    "\n",
    "        h_cnt +=1 \n"
   ]
  },
  {
   "cell_type": "markdown",
   "metadata": {},
   "source": [
    "Set the force-field type and guess some reasonable charges "
   ]
  },
  {
   "cell_type": "code",
   "execution_count": 22,
   "metadata": {
    "collapsed": true
   },
   "outputs": [],
   "source": [
    "for pkey_i, particle_i  in bbTh.particles.iteritems():\n",
    "    if( particle_i.symbol == 'C' ):\n",
    "        particle_i.paramkey = 'CA'\n",
    "        particle_i.charge = -0.025\n",
    "    if( particle_i.symbol == 'S' ):\n",
    "        particle_i.paramkey = 'S'\n",
    "        particle_i.charge = -0.3\n",
    "    if( particle_i.symbol == 'H' ):\n",
    "        particle_i.paramkey = 'HA'\n",
    "        particle_i.charge = 0.1"
   ]
  },
  {
   "cell_type": "markdown",
   "metadata": {},
   "source": [
    "Check molecule is neutral "
   ]
  },
  {
   "cell_type": "code",
   "execution_count": 23,
   "metadata": {},
   "outputs": [
    {
     "name": "stdout",
     "output_type": "stream",
     "text": [
      "-2.77555756156e-17\n"
     ]
    }
   ],
   "source": [
    "total_charge = 0.0\n",
    "for pkey_i, particle_i  in bbTh.particles.iteritems():\n",
    "    total_charge += particle_i.charge\n",
    "print total_charge"
   ]
  },
  {
   "cell_type": "markdown",
   "metadata": {},
   "source": [
    "Optimize structure with NWChem"
   ]
  },
  {
   "cell_type": "markdown",
   "metadata": {},
   "source": [
    "But let's put it in a function this time"
   ]
  },
  {
   "cell_type": "code",
   "execution_count": 24,
   "metadata": {
    "collapsed": true
   },
   "outputs": [],
   "source": [
    "def nw_opt(project_i,bb_i,res_i):\n",
    "    '''Optimize a streamm Buildingblock object with nwchem \n",
    "    \n",
    "    '''\n",
    "    calc_n =  len(project_i.calculations)     \n",
    "    nwchem_i = streamm.NWChem('nw_opt_{}_calc_{}'.format(bb_i.tag,calc_n))\n",
    "    print nwchem_i.tag \n",
    "    # Add thiophene structure \n",
    "    nwchem_i.strucC = copy.deepcopy(bb_i)\n",
    "    # Set calculation to run on external resource\n",
    "    nwchem_i.set_resource(res_i)\n",
    "    # Make the local directories \n",
    "    nwchem_i.make_dir()\n",
    "    #Change to the `launch` directory\n",
    "    os.chdir(nwchem_i.dir['launch'])\n",
    "    # Copy over templates\n",
    "    nwchem_i.cp_file('templates','run',\"nwchem_peregrine.pbs\",'templates','launch')\n",
    "    nwchem_i.cp_file('templates','nw',\"nwchem.nw\",'templates','launch')\n",
    "    # Read in templates files \n",
    "    nwchem_i.load_str('templates','nw')        \n",
    "    nwchem_i.load_str('templates','run')\n",
    "    # Set calculation properties \n",
    "    nwchem_i.properties['basis'] = '6-31g'\n",
    "    nwchem_i.properties['method'] = 'UHF'\n",
    "    nwchem_i.properties['charge'] = 0\n",
    "    nwchem_i.properties['spin_mult'] = 1\n",
    "    nwchem_i.properties['task'] = 'SCF optimize'\n",
    "    nwchem_i.properties['coord'] = nwchem_i.strucC.write_coord()\n",
    "    # \n",
    "    pprint(nwchem_i.properties)\n",
    "    # Replace <key> with properties value \n",
    "    nwchem_i.replacewrite_prop('nw','input','nw','%s.nw'%(nwchem_i.tag))\n",
    "    nwchem_i.properties['input_nw'] = nwchem_i.files['input']['nw']\n",
    "    nwchem_i.replacewrite_prop('run','scripts','run','%s.pbs'%(nwchem_i.tag))\n",
    "    #\n",
    "    nwchem_i.add_file('output','log',\"%s.log\"%(nwchem_i.tag))\n",
    "    # Save details in .json files \n",
    "    os.chdir(nwchem_i.dir['home'])\n",
    "    p3ht_et.export_json()\n",
    "    # \n",
    "    os.chdir(nwchem_i.dir['launch'])\n",
    "    # \n",
    "    nwchem_i.push()\n",
    "    # \n",
    "    nwchem_i.run()\n",
    "    # Add calculation to project\n",
    "    project_i.add_calc(nwchem_i,deepcopy = True)\n",
    "    # \n",
    "    return project_i "
   ]
  },
  {
   "cell_type": "code",
   "execution_count": 25,
   "metadata": {},
   "outputs": [
    {
     "name": "stdout",
     "output_type": "stream",
     "text": [
      "nw_opt_thiophene_calc_0\n",
      "{u'allocation': 'orgopv',\n",
      " u'basis': '6-31g',\n",
      " u'charge': 0,\n",
      " 'comp_key': 'compressed',\n",
      " 'compress': 'tar -czf ',\n",
      " 'compress_sufix': 'tgz',\n",
      " 'coord': u'     C      -1.55498576      -1.91131218      -0.00081000 \\n     C      -0.17775976      -1.91131218      -0.00081000 \\n     C       0.34761524      -0.57904218      -0.00081000 \\n     C      -0.65884476       0.36101082       0.00000000 \\n     S      -2.16948076      -0.35614618      -0.00000800 \\n     H      -2.18966076      -2.79526518      -0.00132100 \\n     H       0.45389024      -2.80145418      -0.00106400 \\n     H       1.41682424      -0.35961818      -0.00138200 \\n     H      -0.51943676       1.44024682       0.00064700 \\n',\n",
      " 'e-mail': 'travis.kemper@nrel.gov',\n",
      " u'exe_command': 'qsub ',\n",
      " u'feature': '24core',\n",
      " u'finish_str': u'Total times  cpu:',\n",
      " u'maxiter': 100,\n",
      " u'method': 'UHF',\n",
      " u'nodes': 1,\n",
      " u'nproc': 24,\n",
      " u'pmem': 1500,\n",
      " u'ppn': 24,\n",
      " u'queue': 'short',\n",
      " 'scratch': '/scratch/tkemper/nw_opt_thiophene_calc_0/',\n",
      " u'spin_mult': 1,\n",
      " u'task': 'SCF optimize',\n",
      " 'uncompress': 'tar -xzf ',\n",
      " u'walltime': 4}\n"
     ]
    }
   ],
   "source": [
    "p3ht_et = nw_opt(p3ht_et,bbTh,peregrine)"
   ]
  },
  {
   "cell_type": "code",
   "execution_count": 26,
   "metadata": {
    "collapsed": true
   },
   "outputs": [],
   "source": [
    "nwchem_i = p3ht_et.calculations['nw_opt_thiophene_calc_0']"
   ]
  },
  {
   "cell_type": "markdown",
   "metadata": {},
   "source": [
    "Check status unit finished"
   ]
  },
  {
   "cell_type": "code",
   "execution_count": 27,
   "metadata": {
    "collapsed": true
   },
   "outputs": [],
   "source": [
    "while( nwchem_i.meta['status'] != 'finished'):\n",
    "    nwchem_i.check()\n",
    "    time.sleep(status_refresh)    "
   ]
  },
  {
   "cell_type": "code",
   "execution_count": 28,
   "metadata": {},
   "outputs": [
    {
     "name": "stdout",
     "output_type": "stream",
     "text": [
      "finished\n"
     ]
    }
   ],
   "source": [
    "print nwchem_i.meta['status']"
   ]
  },
  {
   "cell_type": "code",
   "execution_count": 29,
   "metadata": {
    "collapsed": true
   },
   "outputs": [],
   "source": [
    "nwchem_i.analysis()"
   ]
  },
  {
   "cell_type": "markdown",
   "metadata": {},
   "source": [
    "Print energies "
   ]
  },
  {
   "cell_type": "code",
   "execution_count": 30,
   "metadata": {},
   "outputs": [
    {
     "name": "stdout",
     "output_type": "stream",
     "text": [
      "-551.190757873 Ha\n"
     ]
    }
   ],
   "source": [
    "print nwchem_i.properties['energy'],nwchem_i.unit_conf['energy']"
   ]
  },
  {
   "cell_type": "markdown",
   "metadata": {},
   "source": [
    "Check that the positions of the structure have been optimized "
   ]
  },
  {
   "cell_type": "code",
   "execution_count": 31,
   "metadata": {},
   "outputs": [
    {
     "name": "stdout",
     "output_type": "stream",
     "text": [
      "[[ -1.55498576e+00  -1.91131218e+00  -8.10000000e-04]\n",
      " [ -1.77759760e-01  -1.91131218e+00  -8.10000000e-04]\n",
      " [  3.47615240e-01  -5.79042180e-01  -8.10000000e-04]\n",
      " [ -6.58844760e-01   3.61010820e-01   0.00000000e+00]\n",
      " [ -2.16948076e+00  -3.56146180e-01  -8.00000000e-06]\n",
      " [ -2.18966076e+00  -2.79526518e+00  -1.32100000e-03]\n",
      " [  4.53890240e-01  -2.80145418e+00  -1.06400000e-03]\n",
      " [  1.41682424e+00  -3.59618180e-01  -1.38200000e-03]\n",
      " [ -5.19436760e-01   1.44024682e+00   6.47000000e-04]]\n"
     ]
    }
   ],
   "source": [
    "print bbTh.positions"
   ]
  },
  {
   "cell_type": "code",
   "execution_count": 32,
   "metadata": {},
   "outputs": [
    {
     "data": {
      "text/plain": [
       "u'ang'"
      ]
     },
     "execution_count": 32,
     "metadata": {},
     "output_type": "execute_result"
    }
   ],
   "source": [
    "bbTh.unit_conf['length']"
   ]
  },
  {
   "cell_type": "code",
   "execution_count": 33,
   "metadata": {},
   "outputs": [
    {
     "name": "stdout",
     "output_type": "stream",
     "text": [
      "[[ -1.52907004e+00  -1.96233843e+00  -1.23341000e-03]\n",
      " [ -1.87273370e-01  -1.91412987e+00  -1.73523000e-03]\n",
      " [  3.42609150e-01  -5.70398020e-01  -1.25113000e-03]\n",
      " [ -6.05157220e-01   3.80544790e-01  -3.32630000e-04]\n",
      " [ -2.25060124e+00  -3.24219650e-01  -2.63810000e-04]\n",
      " [ -2.16239570e+00  -2.82036259e+00  -8.80000000e-05]\n",
      " [  4.31314900e-01  -2.78795308e+00  -1.22182000e-03]\n",
      " [  1.39124929e+00  -3.53851760e-01  -4.46300000e-04]\n",
      " [ -4.82514600e-01   1.43981597e+00   1.01435000e-03]]\n"
     ]
    }
   ],
   "source": [
    "print nwchem_i.strucC.positions"
   ]
  },
  {
   "cell_type": "code",
   "execution_count": 34,
   "metadata": {},
   "outputs": [
    {
     "data": {
      "text/plain": [
       "u'ang'"
      ]
     },
     "execution_count": 34,
     "metadata": {},
     "output_type": "execute_result"
    }
   ],
   "source": [
    "nwchem_i.strucC.unit_conf['length']"
   ]
  },
  {
   "cell_type": "markdown",
   "metadata": {},
   "source": [
    "Update positions with optimized geometry "
   ]
  },
  {
   "cell_type": "code",
   "execution_count": 35,
   "metadata": {},
   "outputs": [
    {
     "name": "stdout",
     "output_type": "stream",
     "text": [
      "0 C [ -1.52907004e+00  -1.96233843e+00  -1.23341000e-03]\n",
      "1 C [ -1.87273370e-01  -1.91412987e+00  -1.73523000e-03]\n",
      "2 C [ 0.34260915 -0.57039802 -0.00125113]\n",
      "3 C [ -6.05157220e-01   3.80544790e-01  -3.32630000e-04]\n",
      "4 S [ -2.25060124e+00  -3.24219650e-01  -2.63810000e-04]\n",
      "5 H [ -2.16239570e+00  -2.82036259e+00  -8.80000000e-05]\n",
      "6 H [  4.31314900e-01  -2.78795308e+00  -1.22182000e-03]\n",
      "7 H [  1.39124929e+00  -3.53851760e-01  -4.46300000e-04]\n",
      "8 H [ -4.82514600e-01   1.43981597e+00   1.01435000e-03]\n"
     ]
    }
   ],
   "source": [
    "for pk,p in bbTh.particles.iteritems():\n",
    "    bbTh.positions[pk] = nwchem_i.strucC.positions[pk]\n",
    "    print pk,p.symbol,bbTh.positions[pk]"
   ]
  },
  {
   "cell_type": "markdown",
   "metadata": {},
   "source": [
    "Store the results in a tar ball in the storage directory "
   ]
  },
  {
   "cell_type": "code",
   "execution_count": 36,
   "metadata": {
    "collapsed": true
   },
   "outputs": [],
   "source": [
    "nwchem_i.store()"
   ]
  },
  {
   "cell_type": "markdown",
   "metadata": {},
   "source": [
    "Now let us calculate the ESP charges to use in our forcefield "
   ]
  },
  {
   "cell_type": "markdown",
   "metadata": {},
   "source": [
    "Again let's make it a function"
   ]
  },
  {
   "cell_type": "code",
   "execution_count": 37,
   "metadata": {
    "collapsed": true
   },
   "outputs": [],
   "source": [
    "def nw_esp(project_i,bb_i,res_i):\n",
    "    '''Calculate ESP charges of a streamm Buildingblock object with nwchem \n",
    "    \n",
    "    '''\n",
    "    calc_n =  len(project_i.calculations)     \n",
    "    nwchem_esp = streamm.NWChem('nw_esp_{}_calc_{}'.format(bb_i.tag,calc_n))\n",
    "    print(nwchem_esp.tag)\n",
    "    # Add thiophene structure with optimized coordinates from previous calculation\n",
    "    nwchem_esp.strucC = copy.deepcopy(bb_i)\n",
    "    # Set calculation to run on external resource\n",
    "    nwchem_esp.set_resource(res_i)\n",
    "    # Add calculation to project\n",
    "    project_i.add_calc(nwchem_esp)\n",
    "    # Make the local directories \n",
    "    nwchem_esp.make_dir()\n",
    "    # Change to the `launch` directory\n",
    "    os.chdir(nwchem_esp.dir['launch'])\n",
    "    #\n",
    "    nwchem_esp.cp_file('templates','run',\"nwchem_peregrine.pbs\",'templates','launch')\n",
    "    nwchem_esp.cp_file('templates','nw',\"nwchem_esp.nw\",'templates','launch')\n",
    "    #\n",
    "    nwchem_esp.load_str('templates','nw')        \n",
    "    nwchem_esp.load_str('templates','run')\n",
    "    # \n",
    "    nwchem_esp.properties['basis'] = '6-31g'\n",
    "    nwchem_esp.properties['method'] = 'UHF'\n",
    "    nwchem_esp.properties['charge'] = 0\n",
    "    nwchem_esp.properties['spin_mult'] = 1\n",
    "    nwchem_esp.properties['task'] = 'SCF'\n",
    "    nwchem_esp.properties['coord'] = nwchem_esp.strucC.write_coord()\n",
    "\n",
    "    pprint(nwchem_esp.properties)\n",
    "\n",
    "    nwchem_esp.replacewrite_prop('nw','input','nw','%s.nw'%(nwchem_esp.tag))\n",
    "\n",
    "    nwchem_esp.properties['input_nw'] = nwchem_esp.files['input']['nw']\n",
    "    nwchem_esp.replacewrite_prop('run','scripts','run','%s.pbs'%(nwchem_esp.tag))\n",
    "\n",
    "    nwchem_esp.add_file('output','log',\"%s.log\"%(nwchem_esp.tag))\n",
    "\n",
    "    # Save details in .json files \n",
    "\n",
    "    os.chdir(nwchem_esp.dir['home'])\n",
    "    nwchem_esp.export_json()\n",
    "\n",
    "    os.chdir(nwchem_esp.dir['launch'])\n",
    "    nwchem_esp.push()\n",
    "    nwchem_esp.run()\n",
    "    # Add calculation to project\n",
    "    project_i.add_calc(nwchem_esp,deepcopy = True)\n",
    "    # \n",
    "    return project_i \n",
    "    \n",
    "    "
   ]
  },
  {
   "cell_type": "code",
   "execution_count": 38,
   "metadata": {
    "scrolled": true
   },
   "outputs": [
    {
     "name": "stdout",
     "output_type": "stream",
     "text": [
      "nw_esp_thiophene_calc_1\n",
      "{u'allocation': 'orgopv',\n",
      " u'basis': '6-31g',\n",
      " u'charge': 0,\n",
      " 'comp_key': 'compressed',\n",
      " 'compress': 'tar -czf ',\n",
      " 'compress_sufix': 'tgz',\n",
      " 'coord': u'     C      -1.52907004      -1.96233843      -0.00123341 \\n     C      -0.18727337      -1.91412987      -0.00173523 \\n     C       0.34260915      -0.57039802      -0.00125113 \\n     C      -0.60515722       0.38054479      -0.00033263 \\n     S      -2.25060124      -0.32421965      -0.00026381 \\n     H      -2.16239570      -2.82036259      -0.00008800 \\n     H       0.43131490      -2.78795308      -0.00122182 \\n     H       1.39124929      -0.35385176      -0.00044630 \\n     H      -0.48251460       1.43981597       0.00101435 \\n',\n",
      " 'e-mail': 'travis.kemper@nrel.gov',\n",
      " u'exe_command': 'qsub ',\n",
      " u'feature': '24core',\n",
      " u'finish_str': u'Total times  cpu:',\n",
      " u'maxiter': 100,\n",
      " u'method': 'UHF',\n",
      " u'nodes': 1,\n",
      " u'nproc': 24,\n",
      " u'pmem': 1500,\n",
      " u'ppn': 24,\n",
      " u'queue': 'short',\n",
      " 'scratch': '/scratch/tkemper/nw_esp_thiophene_calc_1/',\n",
      " u'spin_mult': 1,\n",
      " u'task': 'SCF',\n",
      " 'uncompress': 'tar -xzf ',\n",
      " u'walltime': 4}\n"
     ]
    }
   ],
   "source": [
    "p3ht_et = nw_esp(p3ht_et,bbTh,peregrine)"
   ]
  },
  {
   "cell_type": "markdown",
   "metadata": {},
   "source": [
    "Check status until finished"
   ]
  },
  {
   "cell_type": "code",
   "execution_count": 39,
   "metadata": {
    "collapsed": true
   },
   "outputs": [],
   "source": [
    "nwchem_i = p3ht_et.calculations['nw_esp_thiophene_calc_1']"
   ]
  },
  {
   "cell_type": "code",
   "execution_count": 40,
   "metadata": {
    "collapsed": true
   },
   "outputs": [],
   "source": [
    "while( nwchem_i.meta['status'] != 'finished'):\n",
    "    nwchem_i.check()\n",
    "    time.sleep(status_refresh)    "
   ]
  },
  {
   "cell_type": "code",
   "execution_count": 41,
   "metadata": {},
   "outputs": [
    {
     "name": "stdout",
     "output_type": "stream",
     "text": [
      "Calculation nw_esp_thiophene_calc_1 has status finished\n",
      "Calculation nw_opt_thiophene_calc_0 has status stored\n"
     ]
    }
   ],
   "source": [
    "p3ht_et.check()"
   ]
  },
  {
   "cell_type": "code",
   "execution_count": 42,
   "metadata": {
    "collapsed": true
   },
   "outputs": [],
   "source": [
    "nwchem_i.analysis()"
   ]
  },
  {
   "cell_type": "code",
   "execution_count": 45,
   "metadata": {},
   "outputs": [
    {
     "name": "stdout",
     "output_type": "stream",
     "text": [
      "0 C -0.0857\n",
      "1 C -0.1369\n",
      "2 C -0.0858\n",
      "3 C -0.1088\n",
      "4 S -0.1178\n",
      "5 H 0.1538\n",
      "6 H 0.119\n",
      "7 H 0.1091\n",
      "8 H 0.153\n",
      "-0.0001\n"
     ]
    }
   ],
   "source": [
    "total_charge = 0.0 \n",
    "for pk,p in nwchem_i.strucC.particles.iteritems():\n",
    "    print pk,p.symbol,p.charge\n",
    "    total_charge += p.charge\n",
    "print total_charge"
   ]
  },
  {
   "cell_type": "markdown",
   "metadata": {},
   "source": [
    "Hum a little extra charge can cause problems with our MD simulation so let's round and set to neutral "
   ]
  },
  {
   "cell_type": "code",
   "execution_count": 50,
   "metadata": {},
   "outputs": [
    {
     "name": "stdout",
     "output_type": "stream",
     "text": [
      "-0.0001\n",
      "2.77555756156e-17\n"
     ]
    }
   ],
   "source": [
    "total_charge = 0.0 \n",
    "for pk,p in nwchem_i.strucC.particles.iteritems():\n",
    "    p.charge = round(p.charge,4)\n",
    "    total_charge += p.charge\n",
    "print total_charge\n",
    "for pk,p in nwchem_i.strucC.particles.iteritems():\n",
    "    p.charge += -1.0*total_charge/nwchem_i.strucC.n_particles \n",
    "nwchem_i.strucC.calc_charge()\n",
    "print nwchem_i.strucC.charge\n",
    "\n"
   ]
  },
  {
   "cell_type": "markdown",
   "metadata": {},
   "source": [
    "Update the charges of the Buildingblock"
   ]
  },
  {
   "cell_type": "code",
   "execution_count": 51,
   "metadata": {
    "collapsed": true
   },
   "outputs": [],
   "source": [
    "bbTh.tag += '_HFesp'"
   ]
  },
  {
   "cell_type": "code",
   "execution_count": 52,
   "metadata": {},
   "outputs": [
    {
     "name": "stdout",
     "output_type": "stream",
     "text": [
      "0 C -0.0856888888889\n",
      "1 C -0.136888888889\n",
      "2 C -0.0857888888889\n",
      "3 C -0.108788888889\n",
      "4 S -0.117788888889\n",
      "5 H 0.153811111111\n",
      "6 H 0.119011111111\n",
      "7 H 0.109111111111\n",
      "8 H 0.153011111111\n"
     ]
    }
   ],
   "source": [
    "for pk,p in bbTh.particles.iteritems():\n",
    "    p.charge = nwchem_i.strucC.particles[pk].charge\n",
    "    print pk,p.symbol,p.charge"
   ]
  },
  {
   "cell_type": "markdown",
   "metadata": {},
   "source": [
    "Store the results "
   ]
  },
  {
   "cell_type": "code",
   "execution_count": 53,
   "metadata": {
    "collapsed": true
   },
   "outputs": [],
   "source": [
    "nwchem_i.store()"
   ]
  },
  {
   "cell_type": "code",
   "execution_count": 54,
   "metadata": {
    "collapsed": true
   },
   "outputs": [],
   "source": [
    "bbTh.bonded_nblist = bbTh.guess_nblist(0,radii_buffer=1.35)"
   ]
  },
  {
   "cell_type": "code",
   "execution_count": 55,
   "metadata": {
    "collapsed": true
   },
   "outputs": [],
   "source": [
    "bbTh.bonded_bonds()\n",
    "bbTh.bonded_angles()\n",
    "bbTh.bonded_dih()"
   ]
  },
  {
   "cell_type": "markdown",
   "metadata": {},
   "source": [
    "Store a object of the Buildingblock"
   ]
  },
  {
   "cell_type": "code",
   "execution_count": 294,
   "metadata": {
    "collapsed": true
   },
   "outputs": [],
   "source": [
    "os.chdir(res_local.dir['materials']) \n",
    "th_json = bbTh.export_json()"
   ]
  },
  {
   "cell_type": "markdown",
   "metadata": {},
   "source": [
    "Let us optimize the structure with the oplsaa force-field to check the parameters "
   ]
  },
  {
   "cell_type": "code",
   "execution_count": 57,
   "metadata": {
    "collapsed": true
   },
   "outputs": [],
   "source": [
    "os.chdir(res_local.dir['home']) "
   ]
  },
  {
   "cell_type": "code",
   "execution_count": 58,
   "metadata": {
    "collapsed": true
   },
   "outputs": [],
   "source": [
    "from pathlib2 import Path"
   ]
  },
  {
   "cell_type": "code",
   "execution_count": 59,
   "metadata": {
    "collapsed": true
   },
   "outputs": [],
   "source": [
    "need_files = ['oplsaa_param.json']\n",
    "for f in need_files:\n",
    "    path = Path(f)\n",
    "    if not path.is_file():\n",
    "        print(\"Need to run forcefields.ipynb\")\n",
    "        os.system(\"jupyter nbconvert --to python  forcefields.ipynb\")\n",
    "        os.system(\"python forcefields.py\")"
   ]
  },
  {
   "cell_type": "code",
   "execution_count": 60,
   "metadata": {
    "collapsed": true
   },
   "outputs": [],
   "source": [
    "oplsaa = streamm.Parameters('oplsaa')"
   ]
  },
  {
   "cell_type": "code",
   "execution_count": 61,
   "metadata": {
    "collapsed": true
   },
   "outputs": [],
   "source": [
    "oplsaa.import_json(read_file=True)"
   ]
  },
  {
   "cell_type": "code",
   "execution_count": 62,
   "metadata": {},
   "outputs": [
    {
     "name": "stdout",
     "output_type": "stream",
     "text": [
      "\n",
      "    Parameters \n",
      "      LJ parameters 2 \n",
      "      Bond parameters 2 \n",
      "      Angle parameters 2 \n",
      "      Dihedral parameters 1 \n",
      "      Improper Dihedral parameters 0 \n",
      "\n"
     ]
    }
   ],
   "source": [
    "print oplsaa"
   ]
  },
  {
   "cell_type": "code",
   "execution_count": 63,
   "metadata": {},
   "outputs": [
    {
     "name": "stdout",
     "output_type": "stream",
     "text": [
      "kCalmol\n"
     ]
    }
   ],
   "source": [
    "print oplsaa.unit_conf['energy']"
   ]
  },
  {
   "cell_type": "markdown",
   "metadata": {},
   "source": [
    "We need to add the conjugated carbons, hydrogen and sulfur atom types "
   ]
  },
  {
   "cell_type": "code",
   "execution_count": 64,
   "metadata": {
    "collapsed": true
   },
   "outputs": [],
   "source": [
    "import streamm.forcefields.particletype as particletype"
   ]
  },
  {
   "cell_type": "code",
   "execution_count": 65,
   "metadata": {
    "collapsed": true
   },
   "outputs": [],
   "source": [
    "import pymatgen_core.core.periodic_table as periodic_table"
   ]
  },
  {
   "cell_type": "markdown",
   "metadata": {},
   "source": [
    "Set some parameters from J. Am. Chem. Soc., 1996, 118 (45), pp 11225–11236"
   ]
  },
  {
   "cell_type": "code",
   "execution_count": 66,
   "metadata": {
    "collapsed": true
   },
   "outputs": [],
   "source": [
    "CA = particletype.Particletype('CA')\n",
    "HA = particletype.Particletype('HA')"
   ]
  },
  {
   "cell_type": "code",
   "execution_count": 67,
   "metadata": {
    "collapsed": true
   },
   "outputs": [],
   "source": [
    "CA.update_units(oplsaa.unit_conf)\n",
    "HA.update_units(oplsaa.unit_conf)"
   ]
  },
  {
   "cell_type": "code",
   "execution_count": 68,
   "metadata": {
    "collapsed": true
   },
   "outputs": [],
   "source": [
    "CA.epsilon = 0.070 # kcal/mol\n",
    "CA.sigma = 3.55 # Angstroms "
   ]
  },
  {
   "cell_type": "code",
   "execution_count": 69,
   "metadata": {
    "collapsed": true
   },
   "outputs": [],
   "source": [
    "HA.epsilon = 0.030 # kcal/mol\n",
    "HA.sigma = 2.42 # Angstroms "
   ]
  },
  {
   "cell_type": "code",
   "execution_count": 70,
   "metadata": {
    "collapsed": true
   },
   "outputs": [],
   "source": [
    "CA.mass =  periodic_table.Element['C'].atomic_mass.real\n",
    "HA.mass =  periodic_table.Element['H'].atomic_mass.real"
   ]
  },
  {
   "cell_type": "code",
   "execution_count": 71,
   "metadata": {},
   "outputs": [
    {
     "name": "stdout",
     "output_type": "stream",
     "text": [
      " CA epsilon:0.07 sigma:3.55  HA epsilon:0.03 sigma:2.42\n"
     ]
    }
   ],
   "source": [
    "print CA,HA"
   ]
  },
  {
   "cell_type": "code",
   "execution_count": 72,
   "metadata": {
    "collapsed": true
   },
   "outputs": [],
   "source": [
    "S = particletype.Particletype('S')"
   ]
  },
  {
   "cell_type": "code",
   "execution_count": 73,
   "metadata": {
    "collapsed": true
   },
   "outputs": [],
   "source": [
    "S.update_units(oplsaa.unit_conf)"
   ]
  },
  {
   "cell_type": "markdown",
   "metadata": {},
   "source": [
    "Set some parameters from J. Am. Chem. Soc., 1996, 118 (45), pp 11225–11236"
   ]
  },
  {
   "cell_type": "code",
   "execution_count": 74,
   "metadata": {
    "collapsed": true
   },
   "outputs": [],
   "source": [
    "S.epsilon = 0.25 # kcal/mol\n",
    "S.sigma = 3.55 # Angstroms "
   ]
  },
  {
   "cell_type": "code",
   "execution_count": 75,
   "metadata": {
    "collapsed": true
   },
   "outputs": [],
   "source": [
    "S.mass =  periodic_table.Element['S'].atomic_mass.real"
   ]
  },
  {
   "cell_type": "markdown",
   "metadata": {},
   "source": [
    "Add to forcefield parameters container"
   ]
  },
  {
   "cell_type": "code",
   "execution_count": 76,
   "metadata": {
    "collapsed": true
   },
   "outputs": [],
   "source": [
    "oplsaa.add_particletype(CA)\n",
    "oplsaa.add_particletype(HA)\n",
    "oplsaa.add_particletype(S)"
   ]
  },
  {
   "cell_type": "markdown",
   "metadata": {},
   "source": [
    "Set the bond stretching parameters "
   ]
  },
  {
   "cell_type": "code",
   "execution_count": 77,
   "metadata": {
    "collapsed": true
   },
   "outputs": [],
   "source": [
    "import streamm.forcefields.bondtype as bondtype"
   ]
  },
  {
   "cell_type": "code",
   "execution_count": 78,
   "metadata": {
    "collapsed": true
   },
   "outputs": [],
   "source": [
    "bt_i = bondtype.Bondtype('CA','HA',unit_conf=oplsaa.unit_conf)\n",
    "bt_i.setharmonic(1.080,367.0)\n",
    "oplsaa.add_bondtype(bt_i)"
   ]
  },
  {
   "cell_type": "code",
   "execution_count": 79,
   "metadata": {
    "collapsed": true
   },
   "outputs": [],
   "source": [
    "bt_i = bondtype.Bondtype('CA','CA',unit_conf=oplsaa.unit_conf)\n",
    "bt_i.setharmonic(1.400,469.0)\n",
    "oplsaa.add_bondtype(bt_i)"
   ]
  },
  {
   "cell_type": "code",
   "execution_count": 80,
   "metadata": {
    "collapsed": true
   },
   "outputs": [],
   "source": [
    "bt_i = bondtype.Bondtype('S','CA',unit_conf=oplsaa.unit_conf)\n",
    "bt_i.setharmonic(1.71,250.0)\n",
    "oplsaa.add_bondtype(bt_i)"
   ]
  },
  {
   "cell_type": "code",
   "execution_count": 81,
   "metadata": {},
   "outputs": [
    {
     "name": "stdout",
     "output_type": "stream",
     "text": [
      "0  bond  CT - HC type harmonic \n",
      "  harmonic r_0 = 1.080000 K = 367.000000 lammps index 0  gromacs index 0  \n",
      "1  bond  CT - CT type harmonic \n",
      "  harmonic r_0 = 1.530000 K = 268.000000 lammps index 0  gromacs index 0  \n",
      "2  bond  CA - HA type harmonic \n",
      "  harmonic r_0 = 1.080000 K = 367.000000 lammps index 0  gromacs index 0  \n",
      "3  bond  CA - CA type harmonic \n",
      "  harmonic r_0 = 1.400000 K = 469.000000 lammps index 0  gromacs index 0  \n",
      "4  bond  S - CA type harmonic \n",
      "  harmonic r_0 = 1.710000 K = 250.000000 lammps index 0  gromacs index 0  \n"
     ]
    }
   ],
   "source": [
    "for btk,bt in oplsaa.bondtypes.iteritems():\n",
    "    print btk,bt"
   ]
  },
  {
   "cell_type": "code",
   "execution_count": 82,
   "metadata": {
    "collapsed": true
   },
   "outputs": [],
   "source": [
    "import streamm.forcefields.angletype as angletype"
   ]
  },
  {
   "cell_type": "code",
   "execution_count": 83,
   "metadata": {
    "collapsed": true
   },
   "outputs": [],
   "source": [
    "bat_i = angletype.Angletype('CA','CA','CA',unit_conf=oplsaa.unit_conf)\n",
    "bat_i.setharmonic(120.0,63.0)\n",
    "oplsaa.add_angletype(bat_i)"
   ]
  },
  {
   "cell_type": "code",
   "execution_count": 84,
   "metadata": {
    "collapsed": true
   },
   "outputs": [],
   "source": [
    "bat_i = angletype.Angletype('CA','CA','HA',unit_conf=oplsaa.unit_conf)\n",
    "bat_i.setharmonic(120.0,35.0)\n",
    "oplsaa.add_angletype(bat_i)"
   ]
  },
  {
   "cell_type": "code",
   "execution_count": 85,
   "metadata": {
    "collapsed": true
   },
   "outputs": [],
   "source": [
    "bat_i = angletype.Angletype('CA','S','CA',unit_conf=oplsaa.unit_conf)\n",
    "bat_i.setharmonic(92.2,70.0)\n",
    "oplsaa.add_angletype(bat_i)"
   ]
  },
  {
   "cell_type": "code",
   "execution_count": 86,
   "metadata": {
    "collapsed": true
   },
   "outputs": [],
   "source": [
    "bat_i = angletype.Angletype('S','CA','HA',unit_conf=oplsaa.unit_conf)\n",
    "bat_i.setharmonic(120.0,35.0)\n",
    "oplsaa.add_angletype(bat_i)"
   ]
  },
  {
   "cell_type": "code",
   "execution_count": 87,
   "metadata": {
    "collapsed": true
   },
   "outputs": [],
   "source": [
    "bat_i = angletype.Angletype('S','CA','CA',unit_conf=oplsaa.unit_conf)\n",
    "bat_i.setharmonic(111.0,70.0)\n",
    "oplsaa.add_angletype(bat_i)"
   ]
  },
  {
   "cell_type": "code",
   "execution_count": 88,
   "metadata": {},
   "outputs": [
    {
     "name": "stdout",
     "output_type": "stream",
     "text": [
      "0  angle  HC - CT - HC type harmonic \n",
      "  harmonic theta_0 = 110.700000 K = 37.500000 lammps index 0  gromacs index 0  \n",
      "1  angle  HC - CT - CT type harmonic \n",
      "  harmonic theta_0 = 110.700000 K = 37.500000 lammps index 0  gromacs index 0  \n",
      "2  angle  CA - CA - CA type harmonic \n",
      "  harmonic theta_0 = 120.000000 K = 63.000000 lammps index 0  gromacs index 0  \n",
      "3  angle  CA - CA - HA type harmonic \n",
      "  harmonic theta_0 = 120.000000 K = 35.000000 lammps index 0  gromacs index 0  \n",
      "4  angle  CA - S - CA type harmonic \n",
      "  harmonic theta_0 = 92.200000 K = 70.000000 lammps index 0  gromacs index 0  \n",
      "5  angle  S - CA - HA type harmonic \n",
      "  harmonic theta_0 = 120.000000 K = 35.000000 lammps index 0  gromacs index 0  \n",
      "6  angle  S - CA - CA type harmonic \n",
      "  harmonic theta_0 = 111.000000 K = 70.000000 lammps index 0  gromacs index 0  \n"
     ]
    }
   ],
   "source": [
    "for atk,at in oplsaa.angletypes.iteritems():\n",
    "    print atk,at"
   ]
  },
  {
   "cell_type": "markdown",
   "metadata": {},
   "source": [
    "Set some reasonable dihedral parameters"
   ]
  },
  {
   "cell_type": "code",
   "execution_count": 89,
   "metadata": {
    "collapsed": true
   },
   "outputs": [],
   "source": [
    "import streamm.forcefields.dihtype as dihtype"
   ]
  },
  {
   "cell_type": "code",
   "execution_count": 90,
   "metadata": {
    "collapsed": true
   },
   "outputs": [],
   "source": [
    "dih_i = dihtype.Dihtype('X','CA','CA','X',unit_conf=oplsaa.unit_conf)\n",
    "dih_i.type ='opls'\n",
    "dih_i.setopls(0.0,1.812532,0.0,0.0)\n",
    "oplsaa.add_dihtype(dih_i)"
   ]
  },
  {
   "cell_type": "code",
   "execution_count": 91,
   "metadata": {
    "collapsed": true
   },
   "outputs": [],
   "source": [
    "dih_i = dihtype.Dihtype('X','S','CA','X',unit_conf=oplsaa.unit_conf)\n",
    "dih_i.type ='opls'\n",
    "dih_i.setopls(0.0,2.416710,0.0,0.0)\n",
    "oplsaa.add_dihtype(dih_i)"
   ]
  },
  {
   "cell_type": "code",
   "execution_count": 92,
   "metadata": {
    "collapsed": true
   },
   "outputs": [],
   "source": [
    "dih_i = dihtype.Dihtype('S','CA','CA','HA',unit_conf=oplsaa.unit_conf)\n",
    "dih_i.type ='opls'\n",
    "dih_i.setopls(0.0,1.812532,0.0,0.0)\n",
    "oplsaa.add_dihtype(dih_i)"
   ]
  },
  {
   "cell_type": "code",
   "execution_count": 93,
   "metadata": {},
   "outputs": [
    {
     "name": "stdout",
     "output_type": "stream",
     "text": [
      "0  dihedral  HC - CT - CT - HC type opls \n",
      "  k1 = 0.000000 k2 = 0.000000 k3 = 0.300000 k4 = 0.000000 lammps index 0  gromcas index 0 \n",
      "1  dihedral  X - CA - CA - X type opls \n",
      "  k1 = 0.000000 k2 = 1.812532 k3 = 0.000000 k4 = 0.000000 lammps index 0  gromcas index 0 \n",
      "2  dihedral  X - S - CA - X type opls \n",
      "  k1 = 0.000000 k2 = 2.416710 k3 = 0.000000 k4 = 0.000000 lammps index 0  gromcas index 0 \n",
      "3  dihedral  S - CA - CA - HA type opls \n",
      "  k1 = 0.000000 k2 = 1.812532 k3 = 0.000000 k4 = 0.000000 lammps index 0  gromcas index 0 \n"
     ]
    }
   ],
   "source": [
    "for dk,d in oplsaa.dihtypes.iteritems():\n",
    "    print dk,d "
   ]
  },
  {
   "cell_type": "markdown",
   "metadata": {},
   "source": [
    "Let us make an MD simulation of just the monomer to check that our parameters are okay"
   ]
  },
  {
   "cell_type": "code",
   "execution_count": 94,
   "metadata": {
    "collapsed": true
   },
   "outputs": [],
   "source": [
    "def lmp_run(project_i,bb_i,param_i,res_i,md_type = 'min'):\n",
    "    # Create LAMMPS calculation object \n",
    "    calc_n =  len(project_i.calculations)     \n",
    "    lmp_i = streamm.LAMMPS('lmp_{}_{}_calc_{}'.format(md_type,bb_i.tag,calc_n))\n",
    "    # lmp_i = streamm.LAMMPS('lmp_{}_{}'.format(md_type,bb_i.tag))\n",
    "    # Set parameter container \n",
    "    lmp_i.paramC = param_i\n",
    "    lmp_i.set_strucC(bb_i)\n",
    "    # Set force-field parameters \n",
    "    lmp_i.set_ffparam()\n",
    "    # Set resource to local\n",
    "    lmp_i.set_resource(res_i)\n",
    "    # Make local directories\n",
    "    lmp_i.make_dir()\n",
    "    # Set pbc's to on\n",
    "    lmp_i.strucC.lat.pbcs = [True,True,True]\n",
    "    # Change to launch directory\n",
    "    os.chdir(lmp_i.dir['launch'])\n",
    "    # Copy over the templates from the template directory \n",
    "    lmp_i.cp_file('templates','in',\"lammps_{}.in\".format(md_type),'templates','launch')\n",
    "    lmp_i.cp_file('templates','run',\"lammps_peregrine.pbs\",'templates','launch')\n",
    "    # Change to scratch\n",
    "    os.chdir(lmp_i.dir['launch'])\n",
    "    # Read in template files and store them as strings in the `str` dictionary\n",
    "    lmp_i.load_str('templates','in')\n",
    "    lmp_i.load_str('templates','run')\n",
    "    # Write LAMMPS .data file\n",
    "    lmp_i.write_data()\n",
    "    # Replace keys in template string with properties \n",
    "    lmp_i.replacewrite_prop('in','input','in','%s.in'%(lmp_i.tag))\n",
    "    # Add the input file to the properties to be written into the run file\n",
    "    lmp_i.properties['input_in'] = lmp_i.files['input']['in']\n",
    "    lmp_i.replacewrite_prop('run','scripts','run','%s.pbs'%(lmp_i.tag))\n",
    "    # Save json file in root directory\n",
    "    os.chdir(lmp_i.dir['home'])\n",
    "    lmp_i.export_json()\n",
    "    # Run bash script or submit to cluster\n",
    "    lmp_i.add_file('output','log',\"%s.log\"%(lmp_i.tag))\n",
    "    # Save details in .json files \n",
    "    os.chdir(lmp_i.dir['home'])\n",
    "    lmp_i.export_json()\n",
    "    #\n",
    "    os.chdir(lmp_i.dir['launch'])\n",
    "    lmp_i.push()\n",
    "    lmp_i.run()\n",
    "    # Add calculation to project\n",
    "    project_i.add_calc(lmp_i,deepcopy = True)\n",
    "    # \n",
    "    return project_i     "
   ]
  },
  {
   "cell_type": "code",
   "execution_count": 95,
   "metadata": {},
   "outputs": [
    {
     "name": "stdout",
     "output_type": "stream",
     "text": [
      "['nw_esp_thiophene_calc_1', 'nw_opt_thiophene_calc_0']\n"
     ]
    }
   ],
   "source": [
    "print p3ht_et.calculations.keys()"
   ]
  },
  {
   "cell_type": "code",
   "execution_count": 96,
   "metadata": {
    "collapsed": true
   },
   "outputs": [],
   "source": [
    "p3ht_et = lmp_run(p3ht_et,bbTh,oplsaa,peregrine)"
   ]
  },
  {
   "cell_type": "code",
   "execution_count": 97,
   "metadata": {
    "collapsed": true
   },
   "outputs": [],
   "source": [
    "lmp_i = p3ht_et.calculations['lmp_min_thiophene_HFesp_calc_2']"
   ]
  },
  {
   "cell_type": "code",
   "execution_count": 98,
   "metadata": {
    "collapsed": true
   },
   "outputs": [],
   "source": [
    "while( lmp_i.meta['status'] != 'finished'):\n",
    "    lmp_i.check()\n",
    "    time.sleep(status_refresh)    "
   ]
  },
  {
   "cell_type": "code",
   "execution_count": 99,
   "metadata": {},
   "outputs": [
    {
     "name": "stdout",
     "output_type": "stream",
     "text": [
      "Calculation lmp_min_thiophene_HFesp_calc_2 has status finished\n",
      "Calculation nw_esp_thiophene_calc_1 has status stored\n",
      "Calculation nw_opt_thiophene_calc_0 has status stored\n"
     ]
    }
   ],
   "source": [
    "p3ht_et.check()"
   ]
  },
  {
   "cell_type": "code",
   "execution_count": 100,
   "metadata": {
    "collapsed": true
   },
   "outputs": [],
   "source": [
    "lmp_i.analysis()"
   ]
  },
  {
   "cell_type": "markdown",
   "metadata": {},
   "source": [
    "Energy decreased and nothing exploded so that's good"
   ]
  },
  {
   "cell_type": "code",
   "execution_count": 101,
   "metadata": {
    "collapsed": true
   },
   "outputs": [],
   "source": [
    "lmp_i.store()"
   ]
  },
  {
   "cell_type": "markdown",
   "metadata": {},
   "source": [
    "Read in data file positions"
   ]
  },
  {
   "cell_type": "code",
   "execution_count": 102,
   "metadata": {
    "collapsed": true
   },
   "outputs": [],
   "source": [
    "lmp_i.pull()"
   ]
  },
  {
   "cell_type": "markdown",
   "metadata": {},
   "source": [
    "Read in data file output and update positions"
   ]
  },
  {
   "cell_type": "code",
   "execution_count": 103,
   "metadata": {
    "collapsed": true
   },
   "outputs": [],
   "source": [
    "os.chdir(lmp_i.dir['launch'])"
   ]
  },
  {
   "cell_type": "code",
   "execution_count": 104,
   "metadata": {},
   "outputs": [
    {
     "name": "stdout",
     "output_type": "stream",
     "text": [
      "min1.data\n"
     ]
    }
   ],
   "source": [
    "datafn = lmp_i.files['output']['data_1']\n",
    "print datafn"
   ]
  },
  {
   "cell_type": "code",
   "execution_count": 105,
   "metadata": {
    "collapsed": true
   },
   "outputs": [],
   "source": [
    "lmp_i.read_data_pos(datafn)"
   ]
  },
  {
   "cell_type": "code",
   "execution_count": 106,
   "metadata": {},
   "outputs": [
    {
     "name": "stdout",
     "output_type": "stream",
     "text": [
      "[[ 100.    0.    0.]\n",
      " [   0.  100.    0.]\n",
      " [   0.    0.  100.]]\n"
     ]
    }
   ],
   "source": [
    "print lmp_i.strucC.lat.matrix"
   ]
  },
  {
   "cell_type": "code",
   "execution_count": 107,
   "metadata": {
    "collapsed": true
   },
   "outputs": [],
   "source": [
    "lmp_i.strucC.write_xyz()"
   ]
  },
  {
   "cell_type": "markdown",
   "metadata": {},
   "source": [
    "We will use the oplsaa optimized structure as the initial structure since we will be running MD "
   ]
  },
  {
   "cell_type": "code",
   "execution_count": 108,
   "metadata": {
    "collapsed": true
   },
   "outputs": [],
   "source": [
    "bbTh.tag += '_oplsaa'"
   ]
  },
  {
   "cell_type": "code",
   "execution_count": 109,
   "metadata": {},
   "outputs": [
    {
     "name": "stdout",
     "output_type": "stream",
     "text": [
      "0 C [ -1.56869882e+00  -1.93701954e+00  -7.62325076e-04]\n",
      "1 C [ -1.72797143e-01  -1.89183578e+00  -1.04768657e-03]\n",
      "2 C [ 0.33798733 -0.59682314 -0.00061482]\n",
      "3 C [ -6.51129286e-01   3.89222579e-01   4.19665980e-07]\n",
      "4 S [ -2.21161542e+00  -3.39334026e-01   2.79282830e-05]\n",
      "5 H [ -2.16042524e+00  -2.84174945e+00  -1.09445871e-03]\n",
      "6 H [  4.46226678e-01  -2.77690512e+00  -1.61473899e-03]\n",
      "7 H [  1.39451741e+00  -3.72775304e-01  -7.91565071e-04]\n",
      "8 H [ -4.65904499e-01   1.45432678e+00   3.39247040e-04]\n"
     ]
    }
   ],
   "source": [
    "for pk,p in bbTh.particles.iteritems():\n",
    "    bbTh.positions[pk] = lmp_i.strucC.positions[pk]\n",
    "    print pk,p.symbol,bbTh.positions[pk]"
   ]
  },
  {
   "cell_type": "markdown",
   "metadata": {},
   "source": [
    "Save the Buildingblock and force-field"
   ]
  },
  {
   "cell_type": "code",
   "execution_count": 291,
   "metadata": {
    "collapsed": true
   },
   "outputs": [],
   "source": [
    "os.chdir(res_local.dir['materials']) \n",
    "bbTh.write_xyz()\n",
    "th_json = bbTh.export_json() \n",
    "oplsaa_json = oplsaa.export_json()"
   ]
  },
  {
   "cell_type": "markdown",
   "metadata": {},
   "source": [
    "Okay now that we have a handle on thiophene let's follow the same procedure for hexane"
   ]
  },
  {
   "cell_type": "markdown",
   "metadata": {},
   "source": [
    "Build hexane"
   ]
  },
  {
   "cell_type": "code",
   "execution_count": 111,
   "metadata": {
    "collapsed": true
   },
   "outputs": [],
   "source": [
    "bbHex = streamm.Buildingblock('hexane')\n",
    "symbols = ['C','H','H','H','C','H','H','C','H','H','C','H','H','C','H','H','C','H','H','H']\n",
    "positions = [ ]\n",
    "positions.append([-6.410969,-0.381641,-0.000031])\n",
    "positions.append([-7.310084,0.245311,-0.000038])\n",
    "positions.append([-6.456117,-1.028799,0.884636])\n",
    "positions.append([-6.456111,-1.028812,-0.884689])\n",
    "positions.append([-5.135268,0.467175,-0.000033])\n",
    "positions.append([-5.135484,1.128782,0.877977])\n",
    "positions.append([-5.135479,1.128771,-0.87805])\n",
    "positions.append([-3.850566,-0.371258,-0.000024])\n",
    "positions.append([-3.85112,-1.033978,0.87841])\n",
    "positions.append([-3.851114,-1.033987,-0.878451])\n",
    "positions.append([-2.567451,0.469603,-0.000024])\n",
    "positions.append([-2.567784,1.132155,0.8784])\n",
    "positions.append([-2.567776,1.132146,-0.878455])\n",
    "positions.append([-1.283527,-0.370234,-0.000013])\n",
    "positions.append([-1.28337,-1.032804,0.87836])\n",
    "positions.append([-1.28336,-1.032812,-0.87838])\n",
    "positions.append([0.00482234,0.47342231,-0.00000898])\n",
    "positions.append([0.02595107,1.09220686,0.87266464])\n",
    "positions.append([0.85585781,-0.17514133,0.00194589])\n",
    "positions.append([0.02780957,1.08937798,-0.87463473])\n",
    "for i in range(len(symbols)):\n",
    "    pt_i = streamm.Particle(symbol=symbols[i])\n",
    "    pos_i = positions[i]\n",
    "    bbHex.add_partpos(pt_i,pos_i)"
   ]
  },
  {
   "cell_type": "code",
   "execution_count": 112,
   "metadata": {
    "collapsed": true
   },
   "outputs": [],
   "source": [
    "bbHex.particles[0].rsite = 'rg'\n",
    "bbHex.particles[1].rsite = 'rgcap'"
   ]
  },
  {
   "cell_type": "code",
   "execution_count": 113,
   "metadata": {
    "collapsed": true
   },
   "outputs": [],
   "source": [
    "c_cnt =1\n",
    "h_cnt =1\n",
    "for pkey_i, particle_i  in bbHex.particles.iteritems():\n",
    "            if( particle_i.symbol == 'C' ):\n",
    "                particle_i.label = \"C%d\"%(c_cnt)\n",
    "                particle_i.resname = \"SCP3\"\n",
    "                particle_i.residue = c_cnt\n",
    "                c_cnt +=1 \n",
    "            if( particle_i.symbol == 'H' ):\n",
    "                particle_i.label = \"H%d\"%(h_cnt)\n",
    "                particle_i.resname = \"HC\"\n",
    "                particle_i.residue = c_cnt -1 \n",
    "                h_cnt +=1 "
   ]
  },
  {
   "cell_type": "markdown",
   "metadata": {},
   "source": [
    "Set the parameter keys and some reasonable atomic charges "
   ]
  },
  {
   "cell_type": "code",
   "execution_count": 114,
   "metadata": {},
   "outputs": [
    {
     "name": "stdout",
     "output_type": "stream",
     "text": [
      "0 C -0.12\n",
      "1 H 0.06\n",
      "2 H 0.06\n",
      "3 H 0.06\n",
      "4 C -0.12\n",
      "5 H 0.06\n",
      "6 H 0.06\n",
      "7 C -0.12\n",
      "8 H 0.06\n",
      "9 H 0.06\n",
      "10 C -0.12\n",
      "11 H 0.06\n",
      "12 H 0.06\n",
      "13 C -0.12\n",
      "14 H 0.06\n",
      "15 H 0.06\n",
      "16 C -0.12\n",
      "17 H 0.06\n",
      "18 H 0.06\n",
      "19 H 0.06\n"
     ]
    }
   ],
   "source": [
    "for pkey_i, particle_i  in bbHex.particles.iteritems():\n",
    "            if( particle_i.symbol == 'C' ):\n",
    "                particle_i.paramkey = 'CT'\n",
    "                particle_i.charge = -0.12\n",
    "\n",
    "            if( particle_i.symbol == 'H' ):\n",
    "                particle_i.paramkey = 'HC'\n",
    "                particle_i.charge = 0.06\n",
    "            print pkey_i, particle_i.symbol,particle_i.charge"
   ]
  },
  {
   "cell_type": "code",
   "execution_count": 115,
   "metadata": {
    "collapsed": true
   },
   "outputs": [],
   "source": [
    "bbHex.particles[0].charge  = -0.18\n",
    "bbHex.particles[16].charge  = -0.18"
   ]
  },
  {
   "cell_type": "markdown",
   "metadata": {},
   "source": [
    "Check that the molecule is neutral "
   ]
  },
  {
   "cell_type": "code",
   "execution_count": 116,
   "metadata": {},
   "outputs": [
    {
     "name": "stdout",
     "output_type": "stream",
     "text": [
      "0.0\n"
     ]
    }
   ],
   "source": [
    "bbHex.calc_charge()\n",
    "print bbHex.charge\n"
   ]
  },
  {
   "cell_type": "markdown",
   "metadata": {},
   "source": [
    "Now let us optimze and calculate ESP charges for hexane"
   ]
  },
  {
   "cell_type": "markdown",
   "metadata": {},
   "source": [
    "Optimize structure with NWChem"
   ]
  },
  {
   "cell_type": "code",
   "execution_count": 117,
   "metadata": {},
   "outputs": [
    {
     "name": "stdout",
     "output_type": "stream",
     "text": [
      "['lmp_min_thiophene_HFesp_calc_2', 'nw_esp_thiophene_calc_1', 'nw_opt_thiophene_calc_0']\n"
     ]
    }
   ],
   "source": [
    "print p3ht_et.calculations.keys()"
   ]
  },
  {
   "cell_type": "code",
   "execution_count": 118,
   "metadata": {},
   "outputs": [
    {
     "name": "stdout",
     "output_type": "stream",
     "text": [
      "nw_opt_hexane_calc_3\n",
      "{u'allocation': 'orgopv',\n",
      " u'basis': '6-31g',\n",
      " u'charge': 0,\n",
      " 'comp_key': 'compressed',\n",
      " 'compress': 'tar -czf ',\n",
      " 'compress_sufix': 'tgz',\n",
      " 'coord': u'     C      -6.41096900      -0.38164100      -0.00003100 \\n     H      -7.31008400       0.24531100      -0.00003800 \\n     H      -6.45611700      -1.02879900       0.88463600 \\n     H      -6.45611100      -1.02881200      -0.88468900 \\n     C      -5.13526800       0.46717500      -0.00003300 \\n     H      -5.13548400       1.12878200       0.87797700 \\n     H      -5.13547900       1.12877100      -0.87805000 \\n     C      -3.85056600      -0.37125800      -0.00002400 \\n     H      -3.85112000      -1.03397800       0.87841000 \\n     H      -3.85111400      -1.03398700      -0.87845100 \\n     C      -2.56745100       0.46960300      -0.00002400 \\n     H      -2.56778400       1.13215500       0.87840000 \\n     H      -2.56777600       1.13214600      -0.87845500 \\n     C      -1.28352700      -0.37023400      -0.00001300 \\n     H      -1.28337000      -1.03280400       0.87836000 \\n     H      -1.28336000      -1.03281200      -0.87838000 \\n     C       0.00482234       0.47342231      -0.00000898 \\n     H       0.02595107       1.09220686       0.87266464 \\n     H       0.85585781      -0.17514133       0.00194589 \\n     H       0.02780957       1.08937798      -0.87463473 \\n',\n",
      " 'e-mail': 'travis.kemper@nrel.gov',\n",
      " u'exe_command': 'qsub ',\n",
      " u'feature': '24core',\n",
      " u'finish_str': u'Total times  cpu:',\n",
      " u'maxiter': 100,\n",
      " u'method': 'UHF',\n",
      " u'nodes': 1,\n",
      " u'nproc': 24,\n",
      " u'pmem': 1500,\n",
      " u'ppn': 24,\n",
      " u'queue': 'short',\n",
      " 'scratch': '/scratch/tkemper/nw_opt_hexane_calc_3/',\n",
      " u'spin_mult': 1,\n",
      " u'task': 'SCF optimize',\n",
      " 'uncompress': 'tar -xzf ',\n",
      " u'walltime': 4}\n"
     ]
    }
   ],
   "source": [
    "p3ht_et = nw_opt(p3ht_et,bbHex,peregrine)"
   ]
  },
  {
   "cell_type": "code",
   "execution_count": 119,
   "metadata": {
    "collapsed": true
   },
   "outputs": [],
   "source": [
    "nwchem_i = p3ht_et.calculations['nw_opt_hexane_calc_3']"
   ]
  },
  {
   "cell_type": "code",
   "execution_count": 120,
   "metadata": {},
   "outputs": [
    {
     "name": "stdout",
     "output_type": "stream",
     "text": [
      "Calculation nw_opt_hexane_calc_3 has status finished\n",
      "Calculation lmp_min_thiophene_HFesp_calc_2 has status stored\n",
      "Calculation nw_esp_thiophene_calc_1 has status stored\n",
      "Calculation nw_opt_thiophene_calc_0 has status stored\n"
     ]
    }
   ],
   "source": [
    "p3ht_et.check()"
   ]
  },
  {
   "cell_type": "code",
   "execution_count": 121,
   "metadata": {
    "collapsed": true
   },
   "outputs": [],
   "source": [
    "while( nwchem_i.meta['status'] != 'finished'):\n",
    "    nwchem_i.check()\n",
    "    time.sleep(status_refresh)"
   ]
  },
  {
   "cell_type": "markdown",
   "metadata": {},
   "source": [
    "Get the calculation from the project object "
   ]
  },
  {
   "cell_type": "code",
   "execution_count": 122,
   "metadata": {
    "collapsed": true
   },
   "outputs": [],
   "source": [
    "nwchem_i.analysis()"
   ]
  },
  {
   "cell_type": "markdown",
   "metadata": {},
   "source": [
    "Print energies "
   ]
  },
  {
   "cell_type": "code",
   "execution_count": 123,
   "metadata": {},
   "outputs": [
    {
     "name": "stdout",
     "output_type": "stream",
     "text": [
      "[-0.5549424, -0.5282407, -0.5218841, -0.4996812, -0.4774207, -0.4626707, -0.453462, -0.4506618, -0.4351213, 0.2272358]\n",
      "-235.271544412\n"
     ]
    }
   ],
   "source": [
    "print nwchem_i.properties['alpha_energies'][10:20]\n",
    "print nwchem_i.properties['energy']"
   ]
  },
  {
   "cell_type": "markdown",
   "metadata": {},
   "source": [
    "Check that the positions of the structure have been optimized "
   ]
  },
  {
   "cell_type": "code",
   "execution_count": 124,
   "metadata": {},
   "outputs": [
    {
     "name": "stdout",
     "output_type": "stream",
     "text": [
      "0 C [ -6.41096900e+00  -3.81641000e-01  -3.10000000e-05]\n",
      "1 H [ -7.31008400e+00   2.45311000e-01  -3.80000000e-05]\n",
      "2 H [-6.456117 -1.028799  0.884636]\n",
      "3 H [-6.456111 -1.028812 -0.884689]\n",
      "4 C [ -5.13526800e+00   4.67175000e-01  -3.30000000e-05]\n",
      "5 H [-5.135484  1.128782  0.877977]\n",
      "6 H [-5.135479  1.128771 -0.87805 ]\n",
      "7 C [ -3.85056600e+00  -3.71258000e-01  -2.40000000e-05]\n",
      "8 H [-3.85112  -1.033978  0.87841 ]\n",
      "9 H [-3.851114 -1.033987 -0.878451]\n",
      "10 C [ -2.56745100e+00   4.69603000e-01  -2.40000000e-05]\n",
      "11 H [-2.567784  1.132155  0.8784  ]\n",
      "12 H [-2.567776  1.132146 -0.878455]\n",
      "13 C [ -1.28352700e+00  -3.70234000e-01  -1.30000000e-05]\n",
      "14 H [-1.28337  -1.032804  0.87836 ]\n",
      "15 H [-1.28336  -1.032812 -0.87838 ]\n",
      "16 C [  4.82234000e-03   4.73422310e-01  -8.98000000e-06]\n",
      "17 H [ 0.02595107  1.09220686  0.87266464]\n",
      "18 H [ 0.85585781 -0.17514133  0.00194589]\n",
      "19 H [ 0.02780957  1.08937798 -0.87463473]\n"
     ]
    }
   ],
   "source": [
    "for pk,p in bbHex.particles.iteritems():\n",
    "    print pk,p.symbol,bbHex.positions[pk]"
   ]
  },
  {
   "cell_type": "code",
   "execution_count": 125,
   "metadata": {},
   "outputs": [
    {
     "name": "stdout",
     "output_type": "stream",
     "text": [
      "[[ -6.40760238e+00  -3.78973440e-01   6.27600000e-05]\n",
      " [ -7.29442788e+00   2.45331440e-01   6.75600000e-05]\n",
      " [ -6.45208289e+00  -1.01753690e+00   8.76542800e-01]\n",
      " [ -6.45214149e+00  -1.01747508e+00  -8.76488590e-01]\n",
      " [ -5.13193100e+00   4.68066030e-01  -7.69100000e-05]\n",
      " [ -5.13100792e+00   1.11962764e+00   8.70321800e-01]\n",
      " [ -5.13115615e+00   1.11985158e+00  -8.70246750e-01]\n",
      " [ -3.85237378e+00  -3.76654640e-01  -9.18700000e-05]\n",
      " [ -3.85441471e+00  -1.02908099e+00   8.70855140e-01]\n",
      " [ -3.85460209e+00  -1.02894435e+00  -8.71215810e-01]\n",
      " [ -2.57073915e+00   4.64411170e-01  -3.89630000e-04]\n",
      " [ -2.56870076e+00   1.11690406e+00   8.70574100e-01]\n",
      " [ -2.56854074e+00   1.11654737e+00  -8.71536310e-01]\n",
      " [ -1.29151749e+00  -3.80846300e-01   1.95250000e-04]\n",
      " [ -1.29305355e+00  -1.03240824e+00   8.70521240e-01]\n",
      " [ -1.29279455e+00  -1.03288769e+00  -8.69844870e-01]\n",
      " [ -1.52670000e-02   4.65406000e-01   4.89500000e-05]\n",
      " [  2.93781600e-02   1.10472229e+00   8.75952160e-01]\n",
      " [  8.71182390e-01  -1.59488810e-01   1.39176000e-03]\n",
      " [  3.06537800e-02   1.10291268e+00  -8.77080940e-01]]\n"
     ]
    }
   ],
   "source": [
    "print nwchem_i.strucC.positions"
   ]
  },
  {
   "cell_type": "markdown",
   "metadata": {},
   "source": [
    "Update positions in Buildingblock object"
   ]
  },
  {
   "cell_type": "code",
   "execution_count": 126,
   "metadata": {},
   "outputs": [
    {
     "name": "stdout",
     "output_type": "stream",
     "text": [
      "0 C [ -6.40760238e+00  -3.78973440e-01   6.27600000e-05]\n",
      "1 H [ -7.29442788e+00   2.45331440e-01   6.75600000e-05]\n",
      "2 H [-6.45208289 -1.0175369   0.8765428 ]\n",
      "3 H [-6.45214149 -1.01747508 -0.87648859]\n",
      "4 C [ -5.13193100e+00   4.68066030e-01  -7.69100000e-05]\n",
      "5 H [-5.13100792  1.11962764  0.8703218 ]\n",
      "6 H [-5.13115615  1.11985158 -0.87024675]\n",
      "7 C [ -3.85237378e+00  -3.76654640e-01  -9.18700000e-05]\n",
      "8 H [-3.85441471 -1.02908099  0.87085514]\n",
      "9 H [-3.85460209 -1.02894435 -0.87121581]\n",
      "10 C [ -2.57073915e+00   4.64411170e-01  -3.89630000e-04]\n",
      "11 H [-2.56870076  1.11690406  0.8705741 ]\n",
      "12 H [-2.56854074  1.11654737 -0.87153631]\n",
      "13 C [ -1.29151749e+00  -3.80846300e-01   1.95250000e-04]\n",
      "14 H [-1.29305355 -1.03240824  0.87052124]\n",
      "15 H [-1.29279455 -1.03288769 -0.86984487]\n",
      "16 C [ -1.52670000e-02   4.65406000e-01   4.89500000e-05]\n",
      "17 H [ 0.02937816  1.10472229  0.87595216]\n",
      "18 H [ 0.87118239 -0.15948881  0.00139176]\n",
      "19 H [ 0.03065378  1.10291268 -0.87708094]\n"
     ]
    }
   ],
   "source": [
    "for pk,p in bbHex.particles.iteritems():\n",
    "    bbHex.positions[pk] = nwchem_i.strucC.positions[pk]\n",
    "    print pk,p.symbol,bbHex.positions[pk]"
   ]
  },
  {
   "cell_type": "markdown",
   "metadata": {},
   "source": [
    "Store the results in a tar ball in the storage directory "
   ]
  },
  {
   "cell_type": "code",
   "execution_count": 127,
   "metadata": {
    "collapsed": true
   },
   "outputs": [],
   "source": [
    "nwchem_i.store()"
   ]
  },
  {
   "cell_type": "markdown",
   "metadata": {},
   "source": [
    "Now let us calculate the ESP charges to use in our forcefield "
   ]
  },
  {
   "cell_type": "code",
   "execution_count": 128,
   "metadata": {
    "scrolled": true
   },
   "outputs": [
    {
     "name": "stdout",
     "output_type": "stream",
     "text": [
      "nw_esp_hexane_calc_4\n",
      "{u'allocation': 'orgopv',\n",
      " u'basis': '6-31g',\n",
      " u'charge': 0,\n",
      " 'comp_key': 'compressed',\n",
      " 'compress': 'tar -czf ',\n",
      " 'compress_sufix': 'tgz',\n",
      " 'coord': u'     C      -6.40760238      -0.37897344       0.00006276 \\n     H      -7.29442788       0.24533144       0.00006756 \\n     H      -6.45208289      -1.01753690       0.87654280 \\n     H      -6.45214149      -1.01747508      -0.87648859 \\n     C      -5.13193100       0.46806603      -0.00007691 \\n     H      -5.13100792       1.11962764       0.87032180 \\n     H      -5.13115615       1.11985158      -0.87024675 \\n     C      -3.85237378      -0.37665464      -0.00009187 \\n     H      -3.85441471      -1.02908099       0.87085514 \\n     H      -3.85460209      -1.02894435      -0.87121581 \\n     C      -2.57073915       0.46441117      -0.00038963 \\n     H      -2.56870076       1.11690406       0.87057410 \\n     H      -2.56854074       1.11654737      -0.87153631 \\n     C      -1.29151749      -0.38084630       0.00019525 \\n     H      -1.29305355      -1.03240824       0.87052124 \\n     H      -1.29279455      -1.03288769      -0.86984487 \\n     C      -0.01526700       0.46540600       0.00004895 \\n     H       0.02937816       1.10472229       0.87595216 \\n     H       0.87118239      -0.15948881       0.00139176 \\n     H       0.03065378       1.10291268      -0.87708094 \\n',\n",
      " 'e-mail': 'travis.kemper@nrel.gov',\n",
      " u'exe_command': 'qsub ',\n",
      " u'feature': '24core',\n",
      " u'finish_str': u'Total times  cpu:',\n",
      " u'maxiter': 100,\n",
      " u'method': 'UHF',\n",
      " u'nodes': 1,\n",
      " u'nproc': 24,\n",
      " u'pmem': 1500,\n",
      " u'ppn': 24,\n",
      " u'queue': 'short',\n",
      " 'scratch': '/scratch/tkemper/nw_esp_hexane_calc_4/',\n",
      " u'spin_mult': 1,\n",
      " u'task': 'SCF',\n",
      " 'uncompress': 'tar -xzf ',\n",
      " u'walltime': 4}\n"
     ]
    }
   ],
   "source": [
    "p3ht_et = nw_esp(p3ht_et,bbHex,peregrine)"
   ]
  },
  {
   "cell_type": "markdown",
   "metadata": {},
   "source": [
    "Check status unit finished"
   ]
  },
  {
   "cell_type": "code",
   "execution_count": 129,
   "metadata": {},
   "outputs": [
    {
     "name": "stdout",
     "output_type": "stream",
     "text": [
      "Calculation nw_opt_hexane_calc_3 has status stored\n",
      "Calculation lmp_min_thiophene_HFesp_calc_2 has status stored\n",
      "Calculation nw_esp_thiophene_calc_1 has status stored\n",
      "Calculation nw_opt_thiophene_calc_0 has status stored\n",
      "Calculation nw_esp_hexane_calc_4 has status finished\n"
     ]
    }
   ],
   "source": [
    "p3ht_et.check()"
   ]
  },
  {
   "cell_type": "code",
   "execution_count": 130,
   "metadata": {
    "collapsed": true
   },
   "outputs": [],
   "source": [
    "nwchem_i = p3ht_et.calculations['nw_esp_hexane_calc_4']"
   ]
  },
  {
   "cell_type": "code",
   "execution_count": 131,
   "metadata": {
    "collapsed": true
   },
   "outputs": [],
   "source": [
    "while( nwchem_i.meta['status'] != 'finished'):\n",
    "    nwchem_i.check()\n",
    "    time.sleep(status_refresh)"
   ]
  },
  {
   "cell_type": "code",
   "execution_count": 132,
   "metadata": {
    "collapsed": true
   },
   "outputs": [],
   "source": [
    "nwchem_i.analysis()"
   ]
  },
  {
   "cell_type": "code",
   "execution_count": 133,
   "metadata": {},
   "outputs": [
    {
     "name": "stdout",
     "output_type": "stream",
     "text": [
      "0 C -0.105262\n",
      "1 H 0.014539\n",
      "2 H 0.012048\n",
      "3 H 0.013508\n",
      "4 C 0.19358\n",
      "5 H -0.055571\n",
      "6 H -0.050691\n",
      "7 C 0.02063\n",
      "8 H -0.02177\n",
      "9 H -0.023452\n",
      "10 C 0.038524\n",
      "11 H -0.031295\n",
      "12 H -0.028867\n",
      "13 C 0.205973\n",
      "14 H -0.055658\n",
      "15 H -0.059938\n",
      "16 C -0.09414\n",
      "17 H 0.006364\n",
      "18 H 0.00836\n",
      "19 H 0.013116\n"
     ]
    }
   ],
   "source": [
    "for pk,p in nwchem_i.strucC.particles.iteritems():\n",
    "    print pk,p.symbol,p.charge"
   ]
  },
  {
   "cell_type": "code",
   "execution_count": 134,
   "metadata": {},
   "outputs": [
    {
     "name": "stdout",
     "output_type": "stream",
     "text": [
      "-2.00000000003e-06\n"
     ]
    }
   ],
   "source": [
    "nwchem_i.strucC.calc_charge()\n",
    "print nwchem_i.strucC.charge"
   ]
  },
  {
   "cell_type": "markdown",
   "metadata": {},
   "source": [
    "Hum a little extra charge can cause problems with our MD simulation so let's round and set to neutral "
   ]
  },
  {
   "cell_type": "code",
   "execution_count": 135,
   "metadata": {},
   "outputs": [
    {
     "name": "stdout",
     "output_type": "stream",
     "text": [
      "-0.0002\n",
      "5.37764277553e-17\n"
     ]
    }
   ],
   "source": [
    "total_charge = 0.0 \n",
    "for pk,p in nwchem_i.strucC.particles.iteritems():\n",
    "    p.charge = round(p.charge,4)\n",
    "    total_charge += p.charge\n",
    "print total_charge\n",
    "for pk,p in nwchem_i.strucC.particles.iteritems():\n",
    "    p.charge += -1.0*total_charge/nwchem_i.strucC.n_particles \n",
    "nwchem_i.strucC.calc_charge()\n",
    "print nwchem_i.strucC.charge\n",
    "\n"
   ]
  },
  {
   "cell_type": "markdown",
   "metadata": {},
   "source": [
    "Print energies "
   ]
  },
  {
   "cell_type": "code",
   "execution_count": 136,
   "metadata": {},
   "outputs": [
    {
     "name": "stdout",
     "output_type": "stream",
     "text": [
      "-235.271544554 Ha\n"
     ]
    }
   ],
   "source": [
    "print nwchem_i.properties['energy'],nwchem_i.unit_conf['energy']"
   ]
  },
  {
   "cell_type": "markdown",
   "metadata": {},
   "source": [
    "Update the charges of the Buildingblock"
   ]
  },
  {
   "cell_type": "code",
   "execution_count": 137,
   "metadata": {
    "collapsed": true
   },
   "outputs": [],
   "source": [
    "for pk,p in bbHex.particles.iteritems():\n",
    "    p.charge = nwchem_i.strucC.particles[pk].charge"
   ]
  },
  {
   "cell_type": "code",
   "execution_count": 138,
   "metadata": {
    "collapsed": true
   },
   "outputs": [],
   "source": [
    "bbHex.tag += '_HFesp'"
   ]
  },
  {
   "cell_type": "markdown",
   "metadata": {},
   "source": [
    "Store the results "
   ]
  },
  {
   "cell_type": "code",
   "execution_count": 139,
   "metadata": {
    "collapsed": true
   },
   "outputs": [],
   "source": [
    "nwchem_i.store()"
   ]
  },
  {
   "cell_type": "markdown",
   "metadata": {},
   "source": [
    "First we need to identify the bonding within the Buildingblock"
   ]
  },
  {
   "cell_type": "code",
   "execution_count": 140,
   "metadata": {
    "collapsed": true
   },
   "outputs": [],
   "source": [
    "bbHex.bonded_nblist = bbHex.guess_nblist(0,radii_buffer=1.35)"
   ]
  },
  {
   "cell_type": "code",
   "execution_count": 141,
   "metadata": {
    "collapsed": true
   },
   "outputs": [],
   "source": [
    "bbHex.bonded_bonds()\n",
    "bbHex.bonded_angles()\n",
    "bbHex.bonded_dih()"
   ]
  },
  {
   "cell_type": "markdown",
   "metadata": {},
   "source": [
    "Add the need parameters the the oplsaa parameter container"
   ]
  },
  {
   "cell_type": "code",
   "execution_count": 142,
   "metadata": {
    "collapsed": true
   },
   "outputs": [],
   "source": [
    "bat_i = angletype.Angletype('CT','CT','CT',unit_conf=oplsaa.unit_conf)\n",
    "bat_i.setharmonic(109.50,40.0)\n",
    "oplsaa.add_angletype(bat_i)"
   ]
  },
  {
   "cell_type": "code",
   "execution_count": 143,
   "metadata": {
    "collapsed": true
   },
   "outputs": [],
   "source": [
    "bat_i = angletype.Angletype('CT','CT','CT',unit_conf=oplsaa.unit_conf)\n",
    "bat_i.setharmonic(109.50,40.0)\n",
    "oplsaa.add_angletype(bat_i)"
   ]
  },
  {
   "cell_type": "code",
   "execution_count": 144,
   "metadata": {
    "collapsed": true
   },
   "outputs": [],
   "source": [
    "bat_i = angletype.Angletype('CT','CT','HC',unit_conf=oplsaa.unit_conf)\n",
    "bat_i.setharmonic(109.50,50.0)\n",
    "oplsaa.add_angletype(bat_i)"
   ]
  },
  {
   "cell_type": "code",
   "execution_count": 145,
   "metadata": {
    "collapsed": true
   },
   "outputs": [],
   "source": [
    "dih_i = dihtype.Dihtype('CT','CT','CT','CT',unit_conf=oplsaa.unit_conf)\n",
    "dih_i.type ='opls'\n",
    "dih_i.setopls(0.433341,-0.016667,0.066668,0.0)\n",
    "oplsaa.add_dihtype(dih_i)"
   ]
  },
  {
   "cell_type": "code",
   "execution_count": 146,
   "metadata": {
    "collapsed": true
   },
   "outputs": [],
   "source": [
    "dih_i = dihtype.Dihtype('HC','CT','CT','CT',unit_conf=oplsaa.unit_conf)\n",
    "dih_i.type ='opls'\n",
    "dih_i.setopls(0.0,-0.0,0.1,0.0)\n",
    "oplsaa.add_dihtype(dih_i)"
   ]
  },
  {
   "cell_type": "code",
   "execution_count": 147,
   "metadata": {
    "collapsed": true
   },
   "outputs": [],
   "source": [
    "dih_i = dihtype.Dihtype('HC','CT','CT','HC',unit_conf=oplsaa.unit_conf)\n",
    "dih_i.type ='opls'\n",
    "dih_i.setopls(0.0,-0.0,0.1,0.0)\n",
    "oplsaa.add_dihtype(dih_i)"
   ]
  },
  {
   "cell_type": "markdown",
   "metadata": {},
   "source": [
    "Run a oplsaa minimization to get the minimized structure"
   ]
  },
  {
   "cell_type": "code",
   "execution_count": 148,
   "metadata": {
    "collapsed": true
   },
   "outputs": [],
   "source": [
    "p3ht_et = lmp_run(p3ht_et,bbHex,oplsaa,peregrine)"
   ]
  },
  {
   "cell_type": "code",
   "execution_count": 149,
   "metadata": {},
   "outputs": [
    {
     "name": "stdout",
     "output_type": "stream",
     "text": [
      "Calculation nw_opt_thiophene_calc_0 has status stored\n",
      "Calculation lmp_min_hexane_HFesp_calc_5 has status finished\n",
      "Calculation nw_opt_hexane_calc_3 has status stored\n",
      "Calculation nw_esp_hexane_calc_4 has status stored\n",
      "Calculation nw_esp_thiophene_calc_1 has status stored\n",
      "Calculation lmp_min_thiophene_HFesp_calc_2 has status stored\n"
     ]
    }
   ],
   "source": [
    "p3ht_et.check()"
   ]
  },
  {
   "cell_type": "code",
   "execution_count": 150,
   "metadata": {
    "collapsed": true
   },
   "outputs": [],
   "source": [
    "lmp_i = p3ht_et.calculations['lmp_min_hexane_HFesp_calc_5']"
   ]
  },
  {
   "cell_type": "code",
   "execution_count": 151,
   "metadata": {
    "collapsed": true
   },
   "outputs": [],
   "source": [
    "while( lmp_i.meta['status'] != 'finished'):\n",
    "    lmp_i.check()\n",
    "    time.sleep(status_refresh)"
   ]
  },
  {
   "cell_type": "code",
   "execution_count": 152,
   "metadata": {
    "collapsed": true
   },
   "outputs": [],
   "source": [
    "lmp_i.analysis()"
   ]
  },
  {
   "cell_type": "markdown",
   "metadata": {},
   "source": [
    "Energy decreased and nothing exploded so that's good"
   ]
  },
  {
   "cell_type": "code",
   "execution_count": 153,
   "metadata": {
    "collapsed": true
   },
   "outputs": [],
   "source": [
    "lmp_i.store()"
   ]
  },
  {
   "cell_type": "markdown",
   "metadata": {},
   "source": [
    "Read in data file positions"
   ]
  },
  {
   "cell_type": "code",
   "execution_count": 154,
   "metadata": {
    "collapsed": true
   },
   "outputs": [],
   "source": [
    "lmp_i.pull()"
   ]
  },
  {
   "cell_type": "markdown",
   "metadata": {},
   "source": [
    "Read in data file output and update positions"
   ]
  },
  {
   "cell_type": "code",
   "execution_count": 155,
   "metadata": {},
   "outputs": [
    {
     "name": "stdout",
     "output_type": "stream",
     "text": [
      "/Users/tkemper/Development/streamm-tools/examples/scratch/lmp_min_hexane_HFesp_calc_5/\n"
     ]
    }
   ],
   "source": [
    "print lmp_i.dir['launch']\n",
    "os.chdir(lmp_i.dir['launch'])"
   ]
  },
  {
   "cell_type": "code",
   "execution_count": 156,
   "metadata": {},
   "outputs": [
    {
     "name": "stdout",
     "output_type": "stream",
     "text": [
      "min1.data\n"
     ]
    }
   ],
   "source": [
    "datafn = lmp_i.files['output']['data_1']\n",
    "print datafn"
   ]
  },
  {
   "cell_type": "code",
   "execution_count": 157,
   "metadata": {
    "collapsed": true
   },
   "outputs": [],
   "source": [
    "lmp_i.read_data_pos(datafn)"
   ]
  },
  {
   "cell_type": "code",
   "execution_count": 158,
   "metadata": {},
   "outputs": [
    {
     "name": "stdout",
     "output_type": "stream",
     "text": [
      "[[ 100.    0.    0.]\n",
      " [   0.  100.    0.]\n",
      " [   0.    0.  100.]]\n"
     ]
    }
   ],
   "source": [
    "print lmp_i.strucC.lat.matrix"
   ]
  },
  {
   "cell_type": "code",
   "execution_count": 159,
   "metadata": {
    "collapsed": true
   },
   "outputs": [],
   "source": [
    "lmp_i.strucC.write_xyz()"
   ]
  },
  {
   "cell_type": "markdown",
   "metadata": {},
   "source": [
    "We will use the oplsaa optimized structure as the initial structure since we will be running MD "
   ]
  },
  {
   "cell_type": "code",
   "execution_count": 160,
   "metadata": {
    "collapsed": true
   },
   "outputs": [],
   "source": [
    "bbHex.tag += '_oplsaa'"
   ]
  },
  {
   "cell_type": "code",
   "execution_count": 161,
   "metadata": {},
   "outputs": [
    {
     "name": "stdout",
     "output_type": "stream",
     "text": [
      "0 C [ -6.34390975e+00  -3.82032191e-01  -7.30115248e-05]\n",
      "1 H [ -7.21400645e+00   2.57678705e-01  -2.74034254e-05]\n",
      "2 H [-6.34508723 -1.001544    0.88440987]\n",
      "3 H [-6.34503522 -1.001489   -0.88445663]\n",
      "4 C [ -5.08519841e+00   4.90489350e-01   1.28581641e-04]\n",
      "5 H [-5.08358443  1.10747881  0.88624897]\n",
      "6 H [-5.08356936  1.10771726 -0.88609911]\n",
      "7 C [ -3.83780780e+00  -3.96522794e-01  -2.23011151e-04]\n",
      "8 H [-3.840451   -1.01313214  0.88646776]\n",
      "9 H [-3.84082341 -1.01316345 -0.88654625]\n",
      "10 C [ -2.58493855e+00   4.84718355e-01  -2.49331959e-04]\n",
      "11 H [-2.58165439  1.1016114   0.88590823]\n",
      "12 H [-2.58156055  1.10087327 -0.88727599]\n",
      "13 C [ -1.33844531e+00  -4.03380644e-01   9.48300190e-05]\n",
      "14 H [-1.34091374 -1.02019563  0.88659889]\n",
      "15 H [-1.34055361 -1.02076593 -0.88573817]\n",
      "16 C [ -7.91000579e-02   4.68126560e-01   1.61022791e-04]\n",
      "17 H [-0.07785802  1.08828311  0.88405454]\n",
      "18 H [ 0.79052249 -0.17222781  0.00097209]\n",
      "19 H [-0.07716419  1.08695877 -0.88479488]\n"
     ]
    }
   ],
   "source": [
    "for pk,p in bbHex.particles.iteritems():\n",
    "    bbHex.positions[pk] = lmp_i.strucC.positions[pk]\n",
    "    print pk,p.symbol,bbHex.positions[pk]"
   ]
  },
  {
   "cell_type": "markdown",
   "metadata": {},
   "source": [
    "Save the Buildingblock and force-field"
   ]
  },
  {
   "cell_type": "code",
   "execution_count": 295,
   "metadata": {},
   "outputs": [],
   "source": [
    "os.chdir(res_local.dir['materials']) \n",
    "bbHex.write_xyz()\n",
    "bbhex_json = bbHex.export_json() \n",
    "oplsaa_json = oplsaa.export_json()"
   ]
  },
  {
   "cell_type": "code",
   "execution_count": 296,
   "metadata": {},
   "outputs": [
    {
     "name": "stdout",
     "output_type": "stream",
     "text": [
      "hexane_HFesp_oplsaa thiophene_HFesp_oplsaa\n"
     ]
    }
   ],
   "source": [
    "print bbHex.tag,bbTh.tag"
   ]
  },
  {
   "cell_type": "markdown",
   "metadata": {},
   "source": [
    "So let us make some P3HT oligomers "
   ]
  },
  {
   "cell_type": "code",
   "execution_count": 297,
   "metadata": {
    "collapsed": true
   },
   "outputs": [],
   "source": [
    "os.chdir(res_local.dir['materials']) "
   ]
  },
  {
   "cell_type": "code",
   "execution_count": 165,
   "metadata": {
    "collapsed": true
   },
   "outputs": [],
   "source": [
    "bbTh.find_rsites()\n",
    "bbHex.find_rsites()"
   ]
  },
  {
   "cell_type": "code",
   "execution_count": 166,
   "metadata": {},
   "outputs": [
    {
     "name": "stdout",
     "output_type": "stream",
     "text": [
      "rsite:termcap[ paticle:atom H1 (H) index:5 n_bonds:1] \n",
      "rsite:termcap[ paticle:atom H4 (H) index:8 n_bonds:1] \n",
      "rsite:funccap[ paticle:atom H2 (H) index:6 n_bonds:1] \n",
      "\n"
     ]
    }
   ],
   "source": [
    "print(bbTh.show_rsites())"
   ]
  },
  {
   "cell_type": "code",
   "execution_count": 167,
   "metadata": {},
   "outputs": [
    {
     "name": "stdout",
     "output_type": "stream",
     "text": [
      "rsite:rg[ paticle:atom C1 (C) index:0 n_bonds:4] \n",
      "rsite:rgcap[ paticle:atom H1 (H) index:1 n_bonds:1] \n",
      "\n"
     ]
    }
   ],
   "source": [
    "print(bbHex.show_rsites())"
   ]
  },
  {
   "cell_type": "code",
   "execution_count": 168,
   "metadata": {
    "collapsed": true
   },
   "outputs": [],
   "source": [
    "import streamm.structures.buildingblock as bb"
   ]
  },
  {
   "cell_type": "code",
   "execution_count": 169,
   "metadata": {
    "collapsed": true
   },
   "outputs": [],
   "source": [
    "ht = bb.attach(bbTh,bbHex,'funccap',0,'rgcap',0,tag='3-hexyl-thiophene')"
   ]
  },
  {
   "cell_type": "markdown",
   "metadata": {},
   "source": [
    "Update bond angles and dihedrals after Buildingblock join"
   ]
  },
  {
   "cell_type": "code",
   "execution_count": 170,
   "metadata": {
    "collapsed": true
   },
   "outputs": [],
   "source": [
    "ht.bonded_bonds()\n",
    "ht.bonded_angles()\n",
    "ht.bonded_dih()"
   ]
  },
  {
   "cell_type": "markdown",
   "metadata": {},
   "source": [
    "Check that the molecule looks good"
   ]
  },
  {
   "cell_type": "code",
   "execution_count": 171,
   "metadata": {
    "collapsed": true
   },
   "outputs": [],
   "source": [
    "ht.write_xyz()"
   ]
  },
  {
   "cell_type": "markdown",
   "metadata": {},
   "source": [
    "Check the charges of the removed hydrogens got summed onto the functionalized carbons correctly"
   ]
  },
  {
   "cell_type": "code",
   "execution_count": 172,
   "metadata": {},
   "outputs": [
    {
     "data": {
      "text/plain": [
       "8.153200337090993e-17"
      ]
     },
     "execution_count": 172,
     "metadata": {},
     "output_type": "execute_result"
    }
   ],
   "source": [
    "ht.calc_charge()\n",
    "ht.charge"
   ]
  },
  {
   "cell_type": "code",
   "execution_count": 173,
   "metadata": {},
   "outputs": [
    {
     "name": "stdout",
     "output_type": "stream",
     "text": [
      "rsite:termcap[ paticle:atom H1 (H) index:5 n_bonds:1] \n",
      "rsite:termcap[ paticle:atom H4 (H) index:7 n_bonds:1] \n",
      "rsite:rg[ paticle:atom C1 (C) index:8 n_bonds:4] \n",
      "\n"
     ]
    }
   ],
   "source": [
    "print(ht.show_rsites())"
   ]
  },
  {
   "cell_type": "markdown",
   "metadata": {},
   "source": [
    "Add inter thiophene hexane parameters"
   ]
  },
  {
   "cell_type": "code",
   "execution_count": 174,
   "metadata": {
    "collapsed": true
   },
   "outputs": [],
   "source": [
    "bt_i = bondtype.Bondtype('CT','CA',unit_conf=oplsaa.unit_conf)\n",
    "bt_i.setharmonic(1.51,317.0)\n",
    "oplsaa.add_bondtype(bt_i)"
   ]
  },
  {
   "cell_type": "markdown",
   "metadata": {},
   "source": [
    "Bond angle parameters "
   ]
  },
  {
   "cell_type": "code",
   "execution_count": 175,
   "metadata": {
    "collapsed": true
   },
   "outputs": [],
   "source": [
    "bat_i = angletype.Angletype('CA','CA','CT',unit_conf=oplsaa.unit_conf)\n",
    "bat_i.setharmonic(120.0,70.0)\n",
    "oplsaa.add_angletype(bat_i)\n",
    "\n",
    "\n",
    "bat_i = angletype.Angletype('HA','CA','CT',unit_conf=oplsaa.unit_conf)\n",
    "bat_i.setharmonic(120.0,35.0)\n",
    "oplsaa.add_angletype(bat_i)\n",
    "\n",
    "\n",
    "\n",
    "bat_i = angletype.Angletype('CA','CT','HC',unit_conf=oplsaa.unit_conf)\n",
    "bat_i.setharmonic(109.5,50.0)\n",
    "oplsaa.add_angletype(bat_i)\n",
    "\n",
    "bat_i = angletype.Angletype('CA','CT','CT',unit_conf=oplsaa.unit_conf)\n",
    "bat_i.setharmonic(114.0,63.0)\n",
    "oplsaa.add_angletype(bat_i)"
   ]
  },
  {
   "cell_type": "code",
   "execution_count": 176,
   "metadata": {},
   "outputs": [
    {
     "name": "stdout",
     "output_type": "stream",
     "text": [
      "0  angle  HC - CT - HC type harmonic \n",
      "  harmonic theta_0 = 110.700000 K = 37.500000 lammps index 0  gromacs index 0  \n",
      "1  angle  HC - CT - CT type harmonic \n",
      "  harmonic theta_0 = 110.700000 K = 37.500000 lammps index 0  gromacs index 0  \n",
      "2  angle  CA - CA - CA type harmonic \n",
      "  harmonic theta_0 = 120.000000 K = 63.000000 lammps index 0  gromacs index 0  \n",
      "3  angle  CA - CA - HA type harmonic \n",
      "  harmonic theta_0 = 120.000000 K = 35.000000 lammps index 0  gromacs index 0  \n",
      "4  angle  CA - S - CA type harmonic \n",
      "  harmonic theta_0 = 92.200000 K = 70.000000 lammps index 0  gromacs index 0  \n",
      "5  angle  S - CA - HA type harmonic \n",
      "  harmonic theta_0 = 120.000000 K = 35.000000 lammps index 0  gromacs index 0  \n",
      "6  angle  S - CA - CA type harmonic \n",
      "  harmonic theta_0 = 111.000000 K = 70.000000 lammps index 0  gromacs index 0  \n",
      "7  angle  CT - CT - CT type harmonic \n",
      "  harmonic theta_0 = 109.500000 K = 40.000000 lammps index 0  gromacs index 0  \n",
      "8  angle  CT - CT - CT type harmonic \n",
      "  harmonic theta_0 = 109.500000 K = 40.000000 lammps index 0  gromacs index 0  \n",
      "9  angle  CT - CT - HC type harmonic \n",
      "  harmonic theta_0 = 109.500000 K = 50.000000 lammps index 0  gromacs index 0  \n",
      "10  angle  CA - CA - CT type harmonic \n",
      "  harmonic theta_0 = 120.000000 K = 70.000000 lammps index 0  gromacs index 0  \n",
      "11  angle  HA - CA - CT type harmonic \n",
      "  harmonic theta_0 = 120.000000 K = 35.000000 lammps index 0  gromacs index 0  \n",
      "12  angle  CA - CT - HC type harmonic \n",
      "  harmonic theta_0 = 109.500000 K = 50.000000 lammps index 0  gromacs index 0  \n",
      "13  angle  CA - CT - CT type harmonic \n",
      "  harmonic theta_0 = 114.000000 K = 63.000000 lammps index 0  gromacs index 0  \n"
     ]
    }
   ],
   "source": [
    "for atk,at in oplsaa.angletypes.iteritems():\n",
    "    print atk,at"
   ]
  },
  {
   "cell_type": "markdown",
   "metadata": {},
   "source": [
    "Note: The inter-ring torsional is not consider as a seperate set of parameters for the simplicity of this example"
   ]
  },
  {
   "cell_type": "code",
   "execution_count": 177,
   "metadata": {
    "collapsed": true
   },
   "outputs": [],
   "source": [
    "dih_i = dihtype.Dihtype('HC','CT','CT','CA',unit_conf=oplsaa.unit_conf)\n",
    "dih_i.type ='opls'\n",
    "dih_i.setopls(0.0,-0.0,0.1,0.0)\n",
    "oplsaa.add_dihtype(dih_i)"
   ]
  },
  {
   "cell_type": "code",
   "execution_count": 178,
   "metadata": {
    "collapsed": true
   },
   "outputs": [],
   "source": [
    "dih_i = dihtype.Dihtype('CT','CT','CT','CA',unit_conf=oplsaa.unit_conf)\n",
    "dih_i.type ='opls'\n",
    "dih_i.setopls(0.433341,-0.016667,0.066668,0.0)\n",
    "oplsaa.add_dihtype(dih_i)"
   ]
  },
  {
   "cell_type": "code",
   "execution_count": 179,
   "metadata": {
    "collapsed": true
   },
   "outputs": [],
   "source": [
    "dih_i = dihtype.Dihtype('HC','CT','CA','CA',unit_conf=oplsaa.unit_conf)\n",
    "dih_i.type ='opls'\n",
    "dih_i.setopls(0.0,-0.0,0.1,0.0)\n",
    "oplsaa.add_dihtype(dih_i)"
   ]
  },
  {
   "cell_type": "code",
   "execution_count": 180,
   "metadata": {
    "collapsed": true
   },
   "outputs": [],
   "source": [
    "dih_i = dihtype.Dihtype('CT','CT','CA','CA',unit_conf=oplsaa.unit_conf)\n",
    "dih_i.type ='opls'\n",
    "dih_i.setopls(0.0,-0.0,0.0,0.0)\n",
    "oplsaa.add_dihtype(dih_i)"
   ]
  },
  {
   "cell_type": "code",
   "execution_count": 181,
   "metadata": {},
   "outputs": [
    {
     "name": "stdout",
     "output_type": "stream",
     "text": [
      "0  dihedral  HC - CT - CT - HC type opls \n",
      "  k1 = 0.000000 k2 = 0.000000 k3 = 0.300000 k4 = 0.000000 lammps index 0  gromcas index 0 \n",
      "1  dihedral  X - CA - CA - X type opls \n",
      "  k1 = 0.000000 k2 = 1.812532 k3 = 0.000000 k4 = 0.000000 lammps index 0  gromcas index 0 \n",
      "2  dihedral  X - S - CA - X type opls \n",
      "  k1 = 0.000000 k2 = 2.416710 k3 = 0.000000 k4 = 0.000000 lammps index 0  gromcas index 0 \n",
      "3  dihedral  S - CA - CA - HA type opls \n",
      "  k1 = 0.000000 k2 = 1.812532 k3 = 0.000000 k4 = 0.000000 lammps index 0  gromcas index 0 \n",
      "4  dihedral  CT - CT - CT - CT type opls \n",
      "  k1 = 0.433341 k2 = -0.016667 k3 = 0.066668 k4 = 0.000000 lammps index 0  gromcas index 0 \n",
      "5  dihedral  HC - CT - CT - CT type opls \n",
      "  k1 = 0.000000 k2 = -0.000000 k3 = 0.100000 k4 = 0.000000 lammps index 0  gromcas index 0 \n",
      "6  dihedral  HC - CT - CT - HC type opls \n",
      "  k1 = 0.000000 k2 = -0.000000 k3 = 0.100000 k4 = 0.000000 lammps index 0  gromcas index 0 \n",
      "7  dihedral  HC - CT - CT - CA type opls \n",
      "  k1 = 0.000000 k2 = -0.000000 k3 = 0.100000 k4 = 0.000000 lammps index 0  gromcas index 0 \n",
      "8  dihedral  CT - CT - CT - CA type opls \n",
      "  k1 = 0.433341 k2 = -0.016667 k3 = 0.066668 k4 = 0.000000 lammps index 0  gromcas index 0 \n",
      "9  dihedral  HC - CT - CA - CA type opls \n",
      "  k1 = 0.000000 k2 = -0.000000 k3 = 0.100000 k4 = 0.000000 lammps index 0  gromcas index 0 \n",
      "10  dihedral  CT - CT - CA - CA type opls \n",
      "  k1 = 0.000000 k2 = -0.000000 k3 = 0.000000 k4 = 0.000000 lammps index 0  gromcas index 0 \n"
     ]
    }
   ],
   "source": [
    "for dk,d in oplsaa.dihtypes.iteritems():\n",
    "    print dk,d "
   ]
  },
  {
   "cell_type": "markdown",
   "metadata": {},
   "source": [
    "Run a oplsaa minimization to get the minimized structure"
   ]
  },
  {
   "cell_type": "code",
   "execution_count": 182,
   "metadata": {
    "collapsed": true
   },
   "outputs": [],
   "source": [
    "p3ht_et = lmp_run(p3ht_et,ht,oplsaa,peregrine)"
   ]
  },
  {
   "cell_type": "code",
   "execution_count": 183,
   "metadata": {},
   "outputs": [
    {
     "name": "stdout",
     "output_type": "stream",
     "text": [
      "Calculation nw_opt_thiophene_calc_0 has status stored\n",
      "Calculation lmp_min_hexane_HFesp_calc_5 has status stored\n",
      "Calculation nw_opt_hexane_calc_3 has status stored\n",
      "Calculation nw_esp_hexane_calc_4 has status stored\n",
      "Calculation nw_esp_thiophene_calc_1 has status stored\n",
      "Calculation lmp_min_3-hexyl-thiophene_calc_6 has status finished\n",
      "Calculation lmp_min_thiophene_HFesp_calc_2 has status stored\n"
     ]
    }
   ],
   "source": [
    "p3ht_et.check()"
   ]
  },
  {
   "cell_type": "code",
   "execution_count": 184,
   "metadata": {
    "collapsed": true
   },
   "outputs": [],
   "source": [
    "lmp_i = p3ht_et.calculations['lmp_min_3-hexyl-thiophene_calc_6']"
   ]
  },
  {
   "cell_type": "code",
   "execution_count": 185,
   "metadata": {
    "collapsed": true
   },
   "outputs": [],
   "source": [
    "while( lmp_i.meta['status'] != 'finished'):\n",
    "    lmp_i.check()\n",
    "    time.sleep(status_refresh)"
   ]
  },
  {
   "cell_type": "code",
   "execution_count": 186,
   "metadata": {
    "collapsed": true
   },
   "outputs": [],
   "source": [
    "lmp_i.analysis()"
   ]
  },
  {
   "cell_type": "markdown",
   "metadata": {},
   "source": [
    "Energy decreased and nothing exploded so that's good"
   ]
  },
  {
   "cell_type": "code",
   "execution_count": 187,
   "metadata": {
    "collapsed": true
   },
   "outputs": [],
   "source": [
    "lmp_i.store()"
   ]
  },
  {
   "cell_type": "markdown",
   "metadata": {},
   "source": [
    "Read in data file positions"
   ]
  },
  {
   "cell_type": "code",
   "execution_count": 188,
   "metadata": {
    "collapsed": true
   },
   "outputs": [],
   "source": [
    "lmp_i.pull()"
   ]
  },
  {
   "cell_type": "markdown",
   "metadata": {},
   "source": [
    "Read in data file output and update positions"
   ]
  },
  {
   "cell_type": "code",
   "execution_count": 189,
   "metadata": {},
   "outputs": [
    {
     "name": "stdout",
     "output_type": "stream",
     "text": [
      "/Users/tkemper/Development/streamm-tools/examples/scratch/lmp_min_3-hexyl-thiophene_calc_6/\n"
     ]
    }
   ],
   "source": [
    "print lmp_i.dir['launch']\n",
    "os.chdir(lmp_i.dir['launch'])"
   ]
  },
  {
   "cell_type": "code",
   "execution_count": 190,
   "metadata": {},
   "outputs": [
    {
     "name": "stdout",
     "output_type": "stream",
     "text": [
      "min1.data\n"
     ]
    }
   ],
   "source": [
    "datafn = lmp_i.files['output']['data_1']\n",
    "print datafn"
   ]
  },
  {
   "cell_type": "code",
   "execution_count": 191,
   "metadata": {
    "collapsed": true
   },
   "outputs": [],
   "source": [
    "lmp_i.read_data_pos(datafn)"
   ]
  },
  {
   "cell_type": "code",
   "execution_count": 192,
   "metadata": {},
   "outputs": [
    {
     "name": "stdout",
     "output_type": "stream",
     "text": [
      "[[ 100.    0.    0.]\n",
      " [   0.  100.    0.]\n",
      " [   0.    0.  100.]]\n"
     ]
    }
   ],
   "source": [
    "print lmp_i.strucC.lat.matrix"
   ]
  },
  {
   "cell_type": "markdown",
   "metadata": {},
   "source": [
    "We will use the oplsaa optimized structure as the initial structure since we will be running MD "
   ]
  },
  {
   "cell_type": "code",
   "execution_count": 193,
   "metadata": {
    "collapsed": true
   },
   "outputs": [],
   "source": [
    "ht.tag += '_oplsaa'"
   ]
  },
  {
   "cell_type": "code",
   "execution_count": 194,
   "metadata": {},
   "outputs": [
    {
     "name": "stdout",
     "output_type": "stream",
     "text": [
      "0 C [  8.57583308e-01   1.19355752e+00  -4.37483076e-04]\n",
      "1 C [ 0.15233347 -0.0118223  -0.00025384]\n",
      "2 C [  9.74946839e-01  -1.13881795e+00   2.40923583e-05]\n",
      "3 C [  2.33415578e+00  -8.25616010e-01  -1.68646704e-04]\n",
      "4 S [  2.55179022e+00   8.83084770e-01  -1.38376318e-04]\n",
      "5 H [  4.09498504e-01   2.17728312e+00   2.72304499e-04]\n",
      "6 H [  6.24929992e-01  -2.16131545e+00   1.24481224e-03]\n",
      "7 H [  3.13298996e+00  -1.55384384e+00   7.55487480e-04]\n",
      "8 C [ -1.36304121e+00  -6.62153466e-02  -7.68012873e-05]\n",
      "9 H [-1.72454798  0.44565873  0.87997733]\n",
      "10 H [-1.72478097  0.44568889 -0.88002336]\n",
      "11 C [ -1.93086330e+00  -1.48749716e+00  -9.36774605e-05]\n",
      "12 H [-1.59017171 -2.00079062  0.8868236 ]\n",
      "13 H [-1.59045839 -2.00062563 -0.88721396]\n",
      "14 C [ -3.45777932e+00  -1.46837216e+00   6.44742707e-05]\n",
      "15 H [-3.81062529 -0.96664211  0.88876098]\n",
      "16 H [-3.81068808 -0.966101   -0.88830574]\n",
      "17 C [ -3.93890662e+00  -2.92294245e+00  -3.41996083e-04]\n",
      "18 H [-3.56834197 -3.41916698  0.88444618]\n",
      "19 H [-3.56907847 -3.4183459  -0.88590142]\n",
      "20 C [ -5.46662257e+00  -2.98136985e+00   3.53287953e-04]\n",
      "21 H [-5.84359036 -2.49570059  0.88813243]\n",
      "22 H [-5.84439187 -2.49534648 -0.88689013]\n",
      "23 C [ -5.90891005e+00  -4.44766939e+00   2.19983023e-04]\n",
      "24 H [-5.5223161  -4.93337636  0.88388323]\n",
      "25 H [ -6.98783584e+00  -4.48930502e+00   7.98370220e-04]\n",
      "26 H [-5.52323698 -4.93282544 -0.88414213]\n"
     ]
    }
   ],
   "source": [
    "for pk,p in ht.particles.iteritems():\n",
    "    ht.positions[pk] = lmp_i.strucC.positions[pk]\n",
    "    print pk,p.symbol,ht.positions[pk]"
   ]
  },
  {
   "cell_type": "markdown",
   "metadata": {},
   "source": [
    "Save the Buildingblock and force-field"
   ]
  },
  {
   "cell_type": "code",
   "execution_count": 298,
   "metadata": {},
   "outputs": [],
   "source": [
    "os.chdir(res_local.dir['materials']) \n",
    "ht.write_xyz()\n",
    "ht_json = ht.export_json() \n",
    "ht_json = oplsaa.export_json()"
   ]
  },
  {
   "cell_type": "markdown",
   "metadata": {},
   "source": [
    "Okay we have the monomer, so let's make a pentamer "
   ]
  },
  {
   "cell_type": "code",
   "execution_count": 299,
   "metadata": {
    "collapsed": true
   },
   "outputs": [],
   "source": [
    "penta_ht = copy.deepcopy(ht)"
   ]
  },
  {
   "cell_type": "code",
   "execution_count": 300,
   "metadata": {
    "collapsed": true
   },
   "outputs": [],
   "source": [
    "# We could use prepattach to change the tacticity \n",
    "# penta_ht = ht.prepattach('termcap',0,dir=-1,yangle=180.0)\n",
    "# See buildingblock example "
   ]
  },
  {
   "cell_type": "code",
   "execution_count": 301,
   "metadata": {
    "collapsed": true
   },
   "outputs": [],
   "source": [
    "for n in range(4):\n",
    "    penta_ht = bb.attach(penta_ht,ht,'termcap',1,'termcap',0,tag='penta_3-hexyl-thiophene')"
   ]
  },
  {
   "cell_type": "markdown",
   "metadata": {},
   "source": [
    "Check the charges of the removed hydrogens got summed onto the functionalized carbons correctly"
   ]
  },
  {
   "cell_type": "code",
   "execution_count": 302,
   "metadata": {},
   "outputs": [
    {
     "data": {
      "text/plain": [
       "5.811323644522304e-16"
      ]
     },
     "execution_count": 302,
     "metadata": {},
     "output_type": "execute_result"
    }
   ],
   "source": [
    "penta_ht.calc_charge()\n",
    "penta_ht.charge"
   ]
  },
  {
   "cell_type": "code",
   "execution_count": 303,
   "metadata": {
    "collapsed": true
   },
   "outputs": [],
   "source": [
    "penta_ht.write_xyz()"
   ]
  },
  {
   "cell_type": "markdown",
   "metadata": {},
   "source": [
    "Well it's cis, but we can run some high temperature MD to randomize that "
   ]
  },
  {
   "cell_type": "markdown",
   "metadata": {},
   "source": [
    "Update bond angles and dihedrals after Buildingblock join"
   ]
  },
  {
   "cell_type": "code",
   "execution_count": 201,
   "metadata": {
    "collapsed": true
   },
   "outputs": [],
   "source": [
    "penta_ht.bonded_bonds()\n",
    "penta_ht.bonded_angles()\n",
    "penta_ht.bonded_dih()"
   ]
  },
  {
   "cell_type": "code",
   "execution_count": 202,
   "metadata": {},
   "outputs": [
    {
     "name": "stdout",
     "output_type": "stream",
     "text": [
      " n_particles:127 \n",
      " n_bonds:131\n",
      " n_angles:245\n",
      " n_dihedrals:351\n",
      " n_impropers:0\n"
     ]
    }
   ],
   "source": [
    "print penta_ht.print_properties()"
   ]
  },
  {
   "cell_type": "markdown",
   "metadata": {},
   "source": [
    "Run a oplsaa minimization to get the minimized structure"
   ]
  },
  {
   "cell_type": "code",
   "execution_count": 203,
   "metadata": {
    "collapsed": true
   },
   "outputs": [],
   "source": [
    "p3ht_et = lmp_run(p3ht_et,penta_ht,oplsaa,peregrine)"
   ]
  },
  {
   "cell_type": "code",
   "execution_count": 204,
   "metadata": {},
   "outputs": [
    {
     "name": "stdout",
     "output_type": "stream",
     "text": [
      "Calculation nw_opt_thiophene_calc_0 has status stored\n",
      "Calculation lmp_min_hexane_HFesp_calc_5 has status stored\n",
      "Calculation nw_opt_hexane_calc_3 has status stored\n",
      "Calculation nw_esp_hexane_calc_4 has status stored\n",
      "Calculation nw_esp_thiophene_calc_1 has status stored\n",
      "Calculation lmp_min_3-hexyl-thiophene_calc_6 has status stored\n",
      "Calculation lmp_min_thiophene_HFesp_calc_2 has status stored\n",
      "Calculation lmp_min_penta_3-hexyl-thiophene_calc_7 has status finished\n"
     ]
    }
   ],
   "source": [
    "p3ht_et.check()"
   ]
  },
  {
   "cell_type": "code",
   "execution_count": 205,
   "metadata": {
    "collapsed": true
   },
   "outputs": [],
   "source": [
    "lmp_i = p3ht_et.calculations['lmp_min_penta_3-hexyl-thiophene_calc_7']"
   ]
  },
  {
   "cell_type": "code",
   "execution_count": 206,
   "metadata": {
    "collapsed": true
   },
   "outputs": [],
   "source": [
    "while( lmp_i.meta['status'] != 'finished'):\n",
    "    lmp_i.check()\n",
    "    time.sleep(status_refresh)"
   ]
  },
  {
   "cell_type": "code",
   "execution_count": 207,
   "metadata": {
    "collapsed": true
   },
   "outputs": [],
   "source": [
    "lmp_i.analysis()"
   ]
  },
  {
   "cell_type": "markdown",
   "metadata": {},
   "source": [
    "Energy decreased and nothing exploded so that's good"
   ]
  },
  {
   "cell_type": "code",
   "execution_count": 208,
   "metadata": {
    "collapsed": true
   },
   "outputs": [],
   "source": [
    "lmp_i.store()"
   ]
  },
  {
   "cell_type": "markdown",
   "metadata": {},
   "source": [
    "Read in data file positions"
   ]
  },
  {
   "cell_type": "code",
   "execution_count": 209,
   "metadata": {
    "collapsed": true
   },
   "outputs": [],
   "source": [
    "lmp_i.pull()"
   ]
  },
  {
   "cell_type": "markdown",
   "metadata": {},
   "source": [
    "Read in data file output and update positions"
   ]
  },
  {
   "cell_type": "code",
   "execution_count": 210,
   "metadata": {},
   "outputs": [
    {
     "name": "stdout",
     "output_type": "stream",
     "text": [
      "/Users/tkemper/Development/streamm-tools/examples/scratch/lmp_min_penta_3-hexyl-thiophene_calc_7/\n"
     ]
    }
   ],
   "source": [
    "print lmp_i.dir['launch']\n",
    "os.chdir(lmp_i.dir['launch'])"
   ]
  },
  {
   "cell_type": "code",
   "execution_count": 211,
   "metadata": {},
   "outputs": [
    {
     "name": "stdout",
     "output_type": "stream",
     "text": [
      "min1.data\n"
     ]
    }
   ],
   "source": [
    "datafn = lmp_i.files['output']['data_1']\n",
    "print datafn"
   ]
  },
  {
   "cell_type": "code",
   "execution_count": 212,
   "metadata": {
    "collapsed": true
   },
   "outputs": [],
   "source": [
    "lmp_i.read_data_pos(datafn)"
   ]
  },
  {
   "cell_type": "code",
   "execution_count": 213,
   "metadata": {
    "scrolled": true
   },
   "outputs": [
    {
     "name": "stdout",
     "output_type": "stream",
     "text": [
      "[[ 100.    0.    0.]\n",
      " [   0.  100.    0.]\n",
      " [   0.    0.  100.]]\n"
     ]
    }
   ],
   "source": [
    "print lmp_i.strucC.lat.matrix"
   ]
  },
  {
   "cell_type": "code",
   "execution_count": 214,
   "metadata": {
    "collapsed": true
   },
   "outputs": [],
   "source": [
    "lmp_i.strucC.write_xyz()"
   ]
  },
  {
   "cell_type": "markdown",
   "metadata": {},
   "source": [
    "We will use the oplsaa optimized structure as the initial structure since we will be running MD "
   ]
  },
  {
   "cell_type": "code",
   "execution_count": 215,
   "metadata": {
    "collapsed": true
   },
   "outputs": [],
   "source": [
    "penta_ht.tag += '_oplsaa'"
   ]
  },
  {
   "cell_type": "code",
   "execution_count": 216,
   "metadata": {},
   "outputs": [
    {
     "name": "stdout",
     "output_type": "stream",
     "text": [
      "0 C [ 8.76371046 -9.47845566  0.03195069]\n",
      "1 C [ 10.00660982  -8.83074701   0.03255696]\n",
      "2 C [ 9.88761878 -7.45315989  0.02362842]\n",
      "3 C [  8.57452978e+00  -6.98874941e+00   6.02213880e-03]\n",
      "4 S [ 7.4722466  -8.30748726  0.03019848]\n",
      "5 H [  8.62421312 -10.55018581   0.0390329 ]\n",
      "6 H [ 10.74903461  -6.8236843    0.03495902]\n",
      "7 C [ 11.37226621  -9.51127362   0.04294901]\n",
      "8 H [ 11.4423402  -10.12570451   0.92774605]\n",
      "9 H [ 11.45209526 -10.13234042  -0.83637362]\n",
      "10 C [ 12.55497331  -8.51250037   0.04556827]\n",
      "11 H [ 12.47606501  -7.89167893   0.92579917]\n",
      "12 H [ 12.48462222  -7.8971017   -0.83919396]\n",
      "13 C [ 13.95319507  -9.13469822   0.05411949]\n",
      "14 H [ 14.08010185  -9.72881106   0.94651941]\n",
      "15 H [ 14.08818432  -9.73482916  -0.83305373]\n",
      "16 C [ 14.9706018   -7.9797436    0.05485011]\n",
      "17 H [ 14.82122846  -7.37274974   0.93605812]\n",
      "18 H [ 14.82951636  -7.37904912  -0.83202494]\n",
      "19 C [ 16.40226709  -8.52357897   0.06356057]\n",
      "20 H [ 16.5489755   -9.11858322   0.95225689]\n",
      "21 H [ 16.55759883  -9.12414012  -0.8199158 ]\n",
      "22 C [ 17.41487471  -7.37201616   0.06483229]\n",
      "23 H [ 17.26746657  -6.76675769   0.94695131]\n",
      "24 H [ 18.41243699  -7.78591897   0.07021739]\n",
      "25 H [ 17.27498967  -6.77153771  -0.82176064]\n",
      "26 C [ 8.14217905 -5.64317471  0.03374152]\n",
      "27 C [ 8.94759121 -4.496531    0.02070143]\n",
      "28 C [ 8.20305575 -3.34213543  0.01449243]\n",
      "29 C [ 6.82287953 -3.51605321  0.01488818]\n",
      "30 S [ 6.44444345 -5.21427173  0.01359786]\n",
      "31 H [ 8.70605055 -2.40839314  0.02126536]\n",
      "32 C [ 10.46505669  -4.42421032   0.0278756 ]\n",
      "33 H [ 10.81883141  -4.91487492   0.92162002]\n",
      "34 H [ 10.82780646  -4.9187585   -0.86015259]\n",
      "35 C [ 11.0741038   -3.0182124    0.02773917]\n",
      "36 H [ 10.75505353  -2.48946278   0.91379042]\n",
      "37 H [ 10.76283794  -2.49283087  -0.86310934]\n",
      "38 C [ 12.59733912  -3.1116322    0.03467515]\n",
      "39 H [ 12.92121275  -3.62989098   0.92515217]\n",
      "40 H [ 12.92909269  -3.63308039  -0.85102023]\n",
      "41 C [ 13.16151792  -1.689097     0.03466162]\n",
      "42 H [ 12.82103203  -1.1709649    0.91941391]\n",
      "43 H [ 12.82907097  -1.17426146  -0.85506317]\n",
      "44 C [ 14.68908942  -1.76001411   0.04176323]\n",
      "45 H [ 15.01440491  -2.2802442    0.93053994]\n",
      "46 H [ 15.02247173  -2.28279027  -0.84252523]\n",
      "47 C [ 15.28283667  -0.34887794   0.04240336]\n",
      "48 H [ 14.94960177   0.17612039   0.9257521 ]\n",
      "49 H [ 16.36007918  -0.42722429   0.04658277]\n",
      "50 H [ 14.95627379   0.17404465  -0.8446511 ]\n",
      "51 C [ 5.86939977 -2.46082363  0.00820133]\n",
      "52 C [  6.14609713e+00  -1.08047837e+00   4.87014279e-03]\n",
      "53 C [  5.00994942e+00  -3.10943158e-01   7.92127364e-04]\n",
      "54 C [  3.81465700e+00  -1.01227731e+00  -6.78683910e-04]\n",
      "55 S [ 4.13636063 -2.72868631  0.00941423]\n",
      "56 H [ 5.09956753  0.74610066  0.01128691]\n",
      "57 C [ 7.49824068 -0.38890259  0.01256248]\n",
      "58 H [ 8.01823976 -0.68754901  0.91006166]\n",
      "59 H [ 8.02863737 -0.68876347 -0.87839871]\n",
      "60 C [ 7.49902354  1.14059063  0.01149825]\n",
      "61 H [ 7.00465822  1.50505749  0.8996673 ]\n",
      "62 H [ 7.01083407  1.50392038 -0.8805619 ]\n",
      "63 C [ 8.94534288  1.62353854  0.01646658]\n",
      "64 H [ 9.440632    1.26402686  0.90626465]\n",
      "65 H [ 9.4469483   1.26328254 -0.86946701]\n",
      "66 C [ 8.93919977  3.15121679  0.01585398]\n",
      "67 H [ 8.43294152  3.50613349  0.9017416 ]\n",
      "68 H [ 8.43907602  3.50533289 -0.87383371]\n",
      "69 C [ 10.38501323   3.64599391   0.02067753]\n",
      "70 H [ 10.88096034   3.28408626   0.90931415]\n",
      "71 H [ 10.88690508   3.28381605  -0.86451188]\n",
      "72 C [ 10.4048111    5.17545945   0.02047658]\n",
      "73 H [ 9.89859124  5.53505433  0.90428077]\n",
      "74 H [ 11.43204367   5.50858332   0.02295803]\n",
      "75 H [ 9.90293129  5.53470079 -0.86593382]\n",
      "76 C [ 2.52796414 -0.40797164  0.00686611]\n",
      "77 C [  2.22397529e+00   9.70982403e-01   3.61521351e-04]\n",
      "78 C [ 0.86993614  1.22486885 -0.00225723]\n",
      "79 C [ 0.08145873  0.08316055 -0.0029135 ]\n",
      "80 S [ 1.06621234 -1.35249087  0.0026213 ]\n",
      "81 H [  4.95767591e-01   2.22434390e+00   1.71154208e-03]\n",
      "82 C [ 3.1959819   2.13764047  0.00357665]\n",
      "83 H [ 3.79448367  2.06722341  0.89939526]\n",
      "84 H [ 3.80038841  2.06751199 -0.88831883]\n",
      "85 C [  2.60069569e+00   3.54500705e+00   1.96157232e-03]\n",
      "86 H [ 2.00588897  3.69175254  0.8913268 ]\n",
      "87 H [ 2.00990961  3.69164482 -0.89011985]\n",
      "88 C [ 3.76147232  4.53736456  0.00457297]\n",
      "89 H [ 4.35810472  4.39195838  0.89309737]\n",
      "90 H [ 4.36157013  4.39247171 -0.88169181]\n",
      "91 C [  3.18483420e+00   5.95050919e+00   3.90775545e-03]\n",
      "92 H [ 2.58386593  6.08912864  0.89058156]\n",
      "93 H [ 2.58730132  6.08959899 -0.88501743]\n",
      "94 C [  4.33424007e+00   6.95708584e+00   6.45485866e-03]\n",
      "95 H [ 4.93220358  6.81562237  0.89486156]\n",
      "96 H [ 4.93520364  6.81659804 -0.88008729]\n",
      "97 C [  3.75336720e+00   8.37155902e+00   6.22531907e-03]\n",
      "98 H [ 3.14704384  8.50219905  0.89045001]\n",
      "99 H [  4.56596682e+00   9.08254452e+00   7.08614074e-03]\n",
      "100 H [ 3.1486077   8.50248384 -0.87901858]\n",
      "101 C [-1.33052036  0.03677138  0.00293615]\n",
      "102 C [ -2.27607601e+00   1.08313432e+00   8.39056161e-04]\n",
      "103 C [ -3.58502252e+00   6.11238868e-01   2.21853197e-03]\n",
      "104 C [ -3.66668687e+00  -7.85209930e-01   2.98626331e-03]\n",
      "105 S [ -2.09283750e+00  -1.49854677e+00   1.74256823e-03]\n",
      "106 H [ -4.45746518e+00   1.24873472e+00   3.93746826e-03]\n",
      "107 H [-4.59382497 -1.34034501  0.00480319]\n",
      "108 C [ -1.91965904e+00   2.56307501e+00   9.81898995e-04]\n",
      "109 H [-1.33464471  2.74822197  0.88901275]\n",
      "110 H [-1.33414663  2.74842177 -0.88667404]\n",
      "111 C [ -3.02992884e+00   3.61780382e+00   7.08772910e-04]\n",
      "112 H [-3.63093547  3.51918581  0.89204629]\n",
      "113 H [-3.63020043  3.51949952 -0.89117434]\n",
      "114 C [ -2.31871247e+00   4.98525860e+00   1.15042370e-03]\n",
      "115 H [-1.70103258  5.06422927  0.88383263]\n",
      "116 H [-1.70059141  5.06446934 -0.88120128]\n",
      "117 C [ -3.32507420e+00   6.14031050e+00   1.08467863e-03]\n",
      "118 H [-3.93674377  6.07571292  0.8882644 ]\n",
      "119 H [-3.9360752   6.07610418 -0.88659218]\n",
      "120 C [ -2.58175408e+00   7.48282736e+00   1.71093096e-03]\n",
      "121 H [-1.96796516  7.55541586  0.88773119]\n",
      "122 H [-1.96816     7.5562925  -0.88438061]\n",
      "123 C [ -3.59664818e+00   8.63049774e+00   2.36801446e-03]\n",
      "124 H [-4.21111538  8.55786339  0.88759054]\n",
      "125 H [ -3.06461048e+00   9.57079386e+00   1.80892945e-03]\n",
      "126 H [-4.21252398  8.55754315 -0.88184019]\n"
     ]
    }
   ],
   "source": [
    "for pk,p in penta_ht.particles.iteritems():\n",
    "    penta_ht.positions[pk] = lmp_i.strucC.positions[pk]\n",
    "    print pk,p.symbol,penta_ht.positions[pk]"
   ]
  },
  {
   "cell_type": "markdown",
   "metadata": {},
   "source": [
    "Save the Buildingblock and force-field"
   ]
  },
  {
   "cell_type": "code",
   "execution_count": 217,
   "metadata": {
    "collapsed": true
   },
   "outputs": [],
   "source": [
    "oplsaa.tag += '_p3ht'"
   ]
  },
  {
   "cell_type": "code",
   "execution_count": 304,
   "metadata": {},
   "outputs": [],
   "source": [
    "os.chdir(res_local.dir['materials']) \n",
    "penta_ht.write_xyz()\n",
    "penta_ht_json = penta_ht.export_json() \n",
    "oplsaa_json = oplsaa.export_json()"
   ]
  },
  {
   "cell_type": "markdown",
   "metadata": {},
   "source": [
    "Cool let's run some MD"
   ]
  },
  {
   "cell_type": "code",
   "execution_count": 219,
   "metadata": {
    "collapsed": true
   },
   "outputs": [],
   "source": [
    "p3ht_et = lmp_run(p3ht_et,penta_ht,oplsaa,peregrine,md_type='nvt')"
   ]
  },
  {
   "cell_type": "code",
   "execution_count": 220,
   "metadata": {},
   "outputs": [
    {
     "name": "stdout",
     "output_type": "stream",
     "text": [
      "Calculation nw_opt_thiophene_calc_0 has status stored\n",
      "Calculation lmp_min_hexane_HFesp_calc_5 has status stored\n",
      "Calculation nw_opt_hexane_calc_3 has status stored\n",
      "Calculation nw_esp_hexane_calc_4 has status stored\n",
      "Calculation nw_esp_thiophene_calc_1 has status stored\n",
      "Calculation lmp_min_3-hexyl-thiophene_calc_6 has status stored\n",
      "Calculation lmp_min_thiophene_HFesp_calc_2 has status stored\n",
      "Calculation lmp_nvt_penta_3-hexyl-thiophene_oplsaa_calc_8 has status finished\n",
      "Calculation lmp_min_penta_3-hexyl-thiophene_calc_7 has status stored\n"
     ]
    }
   ],
   "source": [
    "p3ht_et.check()"
   ]
  },
  {
   "cell_type": "code",
   "execution_count": 221,
   "metadata": {
    "collapsed": true
   },
   "outputs": [],
   "source": [
    "lmp_i = p3ht_et.calculations['lmp_nvt_penta_3-hexyl-thiophene_oplsaa_calc_8']"
   ]
  },
  {
   "cell_type": "code",
   "execution_count": 222,
   "metadata": {
    "collapsed": true
   },
   "outputs": [],
   "source": [
    "while( lmp_i.meta['status'] != 'finished'):\n",
    "    lmp_i.check()\n",
    "    time.sleep(status_refresh)"
   ]
  },
  {
   "cell_type": "code",
   "execution_count": 223,
   "metadata": {
    "collapsed": true,
    "scrolled": true
   },
   "outputs": [],
   "source": [
    "lmp_i.analysis()"
   ]
  },
  {
   "cell_type": "code",
   "execution_count": 224,
   "metadata": {
    "collapsed": true
   },
   "outputs": [],
   "source": [
    "lmp_i.store()"
   ]
  },
  {
   "cell_type": "markdown",
   "metadata": {},
   "source": [
    "Read in data file positions"
   ]
  },
  {
   "cell_type": "code",
   "execution_count": 225,
   "metadata": {
    "collapsed": true
   },
   "outputs": [],
   "source": [
    "lmp_i.pull()"
   ]
  },
  {
   "cell_type": "markdown",
   "metadata": {},
   "source": [
    "Read in data file output and update positions"
   ]
  },
  {
   "cell_type": "code",
   "execution_count": 226,
   "metadata": {
    "collapsed": true
   },
   "outputs": [],
   "source": [
    "os.chdir(lmp_i.dir['launch'])"
   ]
  },
  {
   "cell_type": "code",
   "execution_count": 227,
   "metadata": {},
   "outputs": [
    {
     "name": "stdout",
     "output_type": "stream",
     "text": [
      "min2.data\n"
     ]
    }
   ],
   "source": [
    "datafn = lmp_i.files['output']['data_3']\n",
    "print datafn"
   ]
  },
  {
   "cell_type": "code",
   "execution_count": 228,
   "metadata": {
    "collapsed": true
   },
   "outputs": [],
   "source": [
    "lmp_i.read_data_pos(datafn)"
   ]
  },
  {
   "cell_type": "code",
   "execution_count": 229,
   "metadata": {
    "scrolled": true
   },
   "outputs": [
    {
     "name": "stdout",
     "output_type": "stream",
     "text": [
      "[[ 100.    0.    0.]\n",
      " [   0.  100.    0.]\n",
      " [   0.    0.  100.]]\n"
     ]
    }
   ],
   "source": [
    "print lmp_i.strucC.lat.matrix"
   ]
  },
  {
   "cell_type": "code",
   "execution_count": 230,
   "metadata": {
    "collapsed": true
   },
   "outputs": [],
   "source": [
    "lmp_i.strucC.write_xyz()"
   ]
  },
  {
   "cell_type": "markdown",
   "metadata": {
    "collapsed": true
   },
   "source": [
    "Awesome! We have a randomized pentamer, so let's save that as new Buildingblock"
   ]
  },
  {
   "cell_type": "code",
   "execution_count": 231,
   "metadata": {
    "collapsed": true
   },
   "outputs": [],
   "source": [
    "bbPHTh_1 = copy.deepcopy(lmp_i.strucC)"
   ]
  },
  {
   "cell_type": "code",
   "execution_count": 232,
   "metadata": {},
   "outputs": [
    {
     "name": "stdout",
     "output_type": "stream",
     "text": [
      " penta_3-hexyl-thiophene_oplsaa\n"
     ]
    }
   ],
   "source": [
    "print bbPHTh_1"
   ]
  },
  {
   "cell_type": "code",
   "execution_count": 233,
   "metadata": {},
   "outputs": [
    {
     "name": "stdout",
     "output_type": "stream",
     "text": [
      "127\n"
     ]
    }
   ],
   "source": [
    "print bbPHTh_1.n_particles"
   ]
  },
  {
   "cell_type": "code",
   "execution_count": 305,
   "metadata": {},
   "outputs": [],
   "source": [
    "os.chdir(res_local.dir['materials']) \n",
    "bbPHTh_1.write_xyz()\n",
    "bbPHTh_1_json = bbPHTh_1.export_json() "
   ]
  },
  {
   "cell_type": "markdown",
   "metadata": {},
   "source": [
    "Now let's replicate the oligomer 50 times to create a low density system"
   ]
  },
  {
   "cell_type": "markdown",
   "metadata": {},
   "source": [
    "Increase the box size"
   ]
  },
  {
   "cell_type": "code",
   "execution_count": 235,
   "metadata": {
    "collapsed": true
   },
   "outputs": [],
   "source": [
    "pHTh_x = streamm.Buildingblock()"
   ]
  },
  {
   "cell_type": "code",
   "execution_count": 236,
   "metadata": {
    "collapsed": true
   },
   "outputs": [],
   "source": [
    "pHTh_x.lat.matrix = [ 200.,0.,0., 0.,200.,0.,  0.,0.,200.]"
   ]
  },
  {
   "cell_type": "code",
   "execution_count": 237,
   "metadata": {
    "collapsed": true
   },
   "outputs": [],
   "source": [
    "pHTh_x.lat.pbcs = [False,False,False]"
   ]
  },
  {
   "cell_type": "code",
   "execution_count": 238,
   "metadata": {
    "collapsed": true
   },
   "outputs": [],
   "source": [
    "seed = 394572"
   ]
  },
  {
   "cell_type": "markdown",
   "metadata": {},
   "source": [
    "Randomly place oligomers into the simulation cell"
   ]
  },
  {
   "cell_type": "code",
   "execution_count": 239,
   "metadata": {},
   "outputs": [
    {
     "name": "stdout",
     "output_type": "stream",
     "text": [
      "No overlap found adding structure 0\n",
      "No overlap found adding structure 1\n",
      "No overlap found adding structure 2\n",
      "No overlap found adding structure 3\n",
      "No overlap found adding structure 4\n",
      "No overlap found adding structure 5\n",
      "No overlap found adding structure 6\n",
      "No overlap found adding structure 7\n",
      "No overlap found adding structure 8\n",
      "No overlap found adding structure 9\n",
      "No overlap found adding structure 10\n",
      "No overlap found adding structure 11\n",
      "No overlap found adding structure 12\n",
      "No overlap found adding structure 13\n",
      "No overlap found adding structure 14\n",
      "No overlap found adding structure 15\n",
      "No overlap found adding structure 16\n",
      "No overlap found adding structure 17\n",
      "No overlap found adding structure 18\n",
      "No overlap found adding structure 19\n",
      "No overlap found adding structure 20\n",
      "No overlap found adding structure 21\n",
      "No overlap found adding structure 22\n",
      "No overlap found adding structure 23\n",
      "No overlap found adding structure 24\n",
      "No overlap found adding structure 25\n",
      "No overlap found adding structure 26\n",
      "No overlap found adding structure 27\n",
      "No overlap found adding structure 28\n",
      "No overlap found adding structure 29\n",
      "No overlap found adding structure 30\n",
      "No overlap found adding structure 31\n",
      "No overlap found adding structure 32\n",
      "No overlap found adding structure 33\n",
      "No overlap found adding structure 34\n",
      "No overlap found adding structure 35\n",
      "No overlap found adding structure 36\n",
      "No overlap found adding structure 37\n",
      "No overlap found adding structure 38\n",
      "No overlap found adding structure 39\n",
      "No overlap found adding structure 40\n",
      "No overlap found adding structure 41\n",
      "No overlap found adding structure 42\n",
      "No overlap found adding structure 43\n",
      "No overlap found adding structure 44\n",
      "No overlap found adding structure 45\n",
      "No overlap found adding structure 46\n",
      "No overlap found adding structure 47\n",
      "No overlap found adding structure 48\n",
      "No overlap found adding structure 49\n"
     ]
    }
   ],
   "source": [
    "pHTh_x = streamm.add_struc(pHTh_x,bbPHTh_1,50,seed)"
   ]
  },
  {
   "cell_type": "code",
   "execution_count": 240,
   "metadata": {},
   "outputs": [
    {
     "name": "stdout",
     "output_type": "stream",
     "text": [
      "6350\n",
      "[[ 200.    0.    0.]\n",
      " [   0.  200.    0.]\n",
      " [   0.    0.  200.]]\n"
     ]
    }
   ],
   "source": [
    "print pHTh_x.n_particles\n",
    "print pHTh_x.lat.matrix"
   ]
  },
  {
   "cell_type": "code",
   "execution_count": 241,
   "metadata": {
    "collapsed": true
   },
   "outputs": [],
   "source": [
    "pHTh_x.lat.pbcs = [True,True,True]"
   ]
  },
  {
   "cell_type": "markdown",
   "metadata": {},
   "source": [
    "Check grouping "
   ]
  },
  {
   "cell_type": "code",
   "execution_count": 242,
   "metadata": {
    "collapsed": true
   },
   "outputs": [],
   "source": [
    "groupset_i = streamm.Groups('mol',pHTh_x)\n",
    "groupset_i.group_prop('mol','oligomers')"
   ]
  },
  {
   "cell_type": "code",
   "execution_count": 243,
   "metadata": {},
   "outputs": [
    {
     "name": "stdout",
     "output_type": "stream",
     "text": [
      "50\n"
     ]
    }
   ],
   "source": [
    "print len(groupset_i.groups)"
   ]
  },
  {
   "cell_type": "code",
   "execution_count": 244,
   "metadata": {},
   "outputs": [
    {
     "data": {
      "text/plain": [
       "[True, True, True]"
      ]
     },
     "execution_count": 244,
     "metadata": {},
     "output_type": "execute_result"
    }
   ],
   "source": [
    "groupset_i.strucC.lat.pbcs"
   ]
  },
  {
   "cell_type": "code",
   "execution_count": 245,
   "metadata": {
    "collapsed": true
   },
   "outputs": [],
   "source": [
    "pHTh_x.tag = 'p3HTx50'"
   ]
  },
  {
   "cell_type": "code",
   "execution_count": 306,
   "metadata": {},
   "outputs": [],
   "source": [
    "os.chdir(res_local.dir['materials']) \n",
    "pHTh_x.write_xyz()\n",
    "pHTh_json = pHTh_x.export_json() "
   ]
  },
  {
   "cell_type": "markdown",
   "metadata": {},
   "source": [
    "Run a heat cool cycle with NPT to create a solid phase representation of p3HT"
   ]
  },
  {
   "cell_type": "code",
   "execution_count": 307,
   "metadata": {
    "collapsed": true
   },
   "outputs": [],
   "source": [
    "p3ht_et = lmp_run(p3ht_et,pHTh_x,oplsaa,peregrine,md_type = 'equ0')"
   ]
  },
  {
   "cell_type": "code",
   "execution_count": 308,
   "metadata": {},
   "outputs": [
    {
     "name": "stdout",
     "output_type": "stream",
     "text": [
      "Calculation nw_opt_thiophene_calc_0 has status stored\n",
      "Calculation lmp_min_hexane_HFesp_calc_5 has status stored\n",
      "Calculation nw_opt_hexane_calc_3 has status stored\n",
      "Calculation nw_esp_hexane_calc_4 has status stored\n",
      "Calculation nw_esp_thiophene_calc_1 has status stored\n",
      "Calculation lmp_min_3-hexyl-thiophene_calc_6 has status stored\n",
      "Calculation lmp_min_thiophene_HFesp_calc_2 has status stored\n",
      "Calculation lmp_nvt_penta_3-hexyl-thiophene_oplsaa_calc_8 has status stored\n",
      "Calculation lmp_min_penta_3-hexyl-thiophene_calc_7 has status stored\n",
      "Calculation lmp_equ0_p3HTx50_calc_9 has status finished\n"
     ]
    }
   ],
   "source": [
    "p3ht_et.check()"
   ]
  },
  {
   "cell_type": "code",
   "execution_count": 309,
   "metadata": {
    "collapsed": true
   },
   "outputs": [],
   "source": [
    "lmp_i = p3ht_et.calculations['lmp_equ0_p3HTx50_calc_9']"
   ]
  },
  {
   "cell_type": "code",
   "execution_count": 310,
   "metadata": {},
   "outputs": [
    {
     "name": "stdout",
     "output_type": "stream",
     "text": [
      "lmp_equ0_p3HTx50_calc_9\n"
     ]
    }
   ],
   "source": [
    "print lmp_i.tag"
   ]
  },
  {
   "cell_type": "code",
   "execution_count": 311,
   "metadata": {
    "collapsed": true
   },
   "outputs": [],
   "source": [
    "while( lmp_i.meta['status'] != 'finished'):\n",
    "    lmp_i.check()\n",
    "    time.sleep(status_refresh)"
   ]
  },
  {
   "cell_type": "code",
   "execution_count": 312,
   "metadata": {
    "collapsed": true
   },
   "outputs": [],
   "source": [
    "lmp_i.analysis()"
   ]
  },
  {
   "cell_type": "code",
   "execution_count": 313,
   "metadata": {},
   "outputs": [
    {
     "name": "stdout",
     "output_type": "stream",
     "text": [
      "3\n"
     ]
    }
   ],
   "source": [
    "print lmp_i.properties['run_cnt']"
   ]
  },
  {
   "cell_type": "code",
   "execution_count": 314,
   "metadata": {
    "collapsed": true
   },
   "outputs": [],
   "source": [
    "run_i = lmp_i.run_list[0]"
   ]
  },
  {
   "cell_type": "markdown",
   "metadata": {},
   "source": [
    "Plot the time sereies data from the MD runs "
   ]
  },
  {
   "cell_type": "code",
   "execution_count": 315,
   "metadata": {
    "collapsed": true
   },
   "outputs": [],
   "source": [
    "def plot_mdrun(lmp_i):\n",
    "\n",
    "\n",
    "    fig, ax = plt.subplots(1,sharey=True)\n",
    "    ax2 = ax.twinx()\n",
    "\n",
    "    for run_i in lmp_i.run_list:\n",
    "\n",
    "        ax.plot(run_i.timeseries['step'],run_i.timeseries['volume'],'b.-')\n",
    "\n",
    "        ax2.plot(run_i.timeseries['step'],run_i.timeseries['temp'],'k.-')\n",
    "\n",
    "    ax.set_ylabel('volume', color='b')\n",
    "    ax2.set_ylabel('temp', color='k')\n",
    "    ax.set_xlabel('time (fs)', color='k')\n",
    "\n",
    "\n",
    "    fig.subplots_adjust(hspace=0.0)   \n",
    "    fig.set_size_inches(8.0, 12.0)\n",
    "\n",
    "    fig.savefig('{}.pdf'.format(lmp_i.tag),format='pdf')\n",
    "\n"
   ]
  },
  {
   "cell_type": "code",
   "execution_count": 316,
   "metadata": {},
   "outputs": [
    {
     "data": {
      "image/png": "[encoded data removed]",
      "text/plain": [
       "<matplotlib.figure.Figure at 0x149ff7710>"
      ]
     },
     "metadata": {},
     "output_type": "display_data"
    }
   ],
   "source": [
    "plot_mdrun(lmp_i)"
   ]
  },
  {
   "cell_type": "markdown",
   "metadata": {},
   "source": [
    "Cool the volume is decreasing "
   ]
  },
  {
   "cell_type": "code",
   "execution_count": 317,
   "metadata": {
    "collapsed": true
   },
   "outputs": [],
   "source": [
    "lmp_i.store()"
   ]
  },
  {
   "cell_type": "code",
   "execution_count": 318,
   "metadata": {
    "collapsed": true
   },
   "outputs": [],
   "source": [
    "lmp_i.pull()"
   ]
  },
  {
   "cell_type": "markdown",
   "metadata": {},
   "source": [
    "Read in data file output and update positions"
   ]
  },
  {
   "cell_type": "code",
   "execution_count": 319,
   "metadata": {
    "collapsed": true
   },
   "outputs": [],
   "source": [
    "os.chdir(lmp_i.dir['launch'])"
   ]
  },
  {
   "cell_type": "code",
   "execution_count": 320,
   "metadata": {},
   "outputs": [
    {
     "name": "stdout",
     "output_type": "stream",
     "text": [
      "equ0.data\n"
     ]
    }
   ],
   "source": [
    "datafn = lmp_i.files['output']['data_3']\n",
    "print datafn"
   ]
  },
  {
   "cell_type": "code",
   "execution_count": 321,
   "metadata": {
    "collapsed": true
   },
   "outputs": [],
   "source": [
    "lmp_i.read_data_pos(datafn)"
   ]
  },
  {
   "cell_type": "code",
   "execution_count": 322,
   "metadata": {
    "scrolled": true
   },
   "outputs": [
    {
     "name": "stdout",
     "output_type": "stream",
     "text": [
      "[[ 62.34228115   0.           0.        ]\n",
      " [  0.          62.34228115   0.        ]\n",
      " [  0.           0.          62.34228115]]\n"
     ]
    }
   ],
   "source": [
    "print lmp_i.strucC.lat.matrix"
   ]
  },
  {
   "cell_type": "code",
   "execution_count": 323,
   "metadata": {
    "collapsed": true
   },
   "outputs": [],
   "source": [
    "lmp_i.strucC.tag += '_equ0'"
   ]
  },
  {
   "cell_type": "code",
   "execution_count": 324,
   "metadata": {
    "collapsed": true
   },
   "outputs": [],
   "source": [
    "lmp_i.strucC.write_xyz()"
   ]
  },
  {
   "cell_type": "code",
   "execution_count": 325,
   "metadata": {
    "collapsed": true
   },
   "outputs": [],
   "source": [
    "lmp_i.strucC.calc_center_mass()"
   ]
  },
  {
   "cell_type": "code",
   "execution_count": 326,
   "metadata": {
    "collapsed": true
   },
   "outputs": [],
   "source": [
    "struc_i = lmp_i.strucC"
   ]
  },
  {
   "cell_type": "markdown",
   "metadata": {},
   "source": [
    "Let us create a new project to hold all the ET calculations we need to do for each pair of groups"
   ]
  },
  {
   "cell_type": "code",
   "execution_count": 327,
   "metadata": {
    "collapsed": true
   },
   "outputs": [],
   "source": [
    "mol_et_equ0 = streamm.Project('mol_et_equ0')"
   ]
  },
  {
   "cell_type": "code",
   "execution_count": 328,
   "metadata": {
    "collapsed": true
   },
   "outputs": [],
   "source": [
    "mol_et_equ0.set_resource(res_local)"
   ]
  },
  {
   "cell_type": "code",
   "execution_count": 329,
   "metadata": {
    "collapsed": true
   },
   "outputs": [],
   "source": [
    "os.chdir(mol_et_equ0.dir['materials'])"
   ]
  },
  {
   "cell_type": "code",
   "execution_count": 330,
   "metadata": {
    "collapsed": true
   },
   "outputs": [],
   "source": [
    "struc_json = struc_i.export_json()"
   ]
  },
  {
   "cell_type": "markdown",
   "metadata": {},
   "source": [
    "If we need to restart the project here all we have to do is load in the structure "
   ]
  },
  {
   "cell_type": "code",
   "execution_count": 331,
   "metadata": {
    "collapsed": true
   },
   "outputs": [],
   "source": [
    "# Restarting project here\n",
    "struc_i = streamm.Buildingblock('p3HTx50_equ0')\n",
    "struc_i.import_json()"
   ]
  },
  {
   "cell_type": "code",
   "execution_count": 332,
   "metadata": {
    "collapsed": true
   },
   "outputs": [],
   "source": [
    "struc_i.write_xyz('t1.xyz')"
   ]
  },
  {
   "cell_type": "markdown",
   "metadata": {},
   "source": [
    "Create groups out of the molecules"
   ]
  },
  {
   "cell_type": "code",
   "execution_count": 333,
   "metadata": {
    "collapsed": true
   },
   "outputs": [],
   "source": [
    "groupset_i = streamm.Groups('mol',struc_i)"
   ]
  },
  {
   "cell_type": "code",
   "execution_count": 334,
   "metadata": {
    "collapsed": true
   },
   "outputs": [],
   "source": [
    "groupset_i.group_prop('mol','oligomers')"
   ]
  },
  {
   "cell_type": "code",
   "execution_count": 335,
   "metadata": {},
   "outputs": [
    {
     "name": "stdout",
     "output_type": "stream",
     "text": [
      "50\n"
     ]
    }
   ],
   "source": [
    "print len(groupset_i.groups)"
   ]
  },
  {
   "cell_type": "code",
   "execution_count": 336,
   "metadata": {
    "collapsed": true
   },
   "outputs": [],
   "source": [
    "groupset_i.strucC.lat.pbcs = [True,True,True]"
   ]
  },
  {
   "cell_type": "code",
   "execution_count": 337,
   "metadata": {},
   "outputs": [
    {
     "name": "stdout",
     "output_type": "stream",
     "text": [
      "[True, True, True]\n"
     ]
    }
   ],
   "source": [
    "print groupset_i.strucC.lat.pbcs"
   ]
  },
  {
   "cell_type": "code",
   "execution_count": 338,
   "metadata": {},
   "outputs": [
    {
     "name": "stdout",
     "output_type": "stream",
     "text": [
      "[[ 62.34228115   0.           0.        ]\n",
      " [  0.          62.34228115   0.        ]\n",
      " [  0.           0.          62.34228115]]\n"
     ]
    }
   ],
   "source": [
    "print groupset_i.strucC.lat.matrix"
   ]
  },
  {
   "cell_type": "markdown",
   "metadata": {},
   "source": [
    "Apply periodic boundries to all the groups, so the molecules are not split across pbc's"
   ]
  },
  {
   "cell_type": "code",
   "execution_count": 339,
   "metadata": {
    "collapsed": true
   },
   "outputs": [],
   "source": [
    "groupset_i.group_pbcs()"
   ]
  },
  {
   "cell_type": "code",
   "execution_count": 340,
   "metadata": {
    "collapsed": true
   },
   "outputs": [],
   "source": [
    "groupset_i.strucC.write_xyz('groups.xyz')"
   ]
  },
  {
   "cell_type": "code",
   "execution_count": 341,
   "metadata": {
    "collapsed": true
   },
   "outputs": [],
   "source": [
    "groupset_i.calc_cent_mass()\n",
    "groupset_i.calc_radius()\n",
    "# groupset_i.calc_dl()"
   ]
  },
  {
   "cell_type": "code",
   "execution_count": 342,
   "metadata": {},
   "outputs": [
    {
     "name": "stdout",
     "output_type": "stream",
     "text": [
      "62.342281 0.000000 0.000000\n",
      "0.000000 62.342281 0.000000\n",
      "0.000000 0.000000 62.342281\n",
      "50\n",
      "50\n"
     ]
    }
   ],
   "source": [
    "print groupset_i.strucC.lat\n",
    "print len(groupset_i.cent_mass)\n",
    "print len(groupset_i.radius)"
   ]
  },
  {
   "cell_type": "markdown",
   "metadata": {},
   "source": [
    "Save the structure we are creating our pairs from "
   ]
  },
  {
   "cell_type": "code",
   "execution_count": 343,
   "metadata": {
    "collapsed": true
   },
   "outputs": [],
   "source": [
    "gmol_json = groupset_i.strucC.export_json()"
   ]
  },
  {
   "cell_type": "markdown",
   "metadata": {},
   "source": [
    "Create a neighbor list of groups "
   ]
  },
  {
   "cell_type": "code",
   "execution_count": 344,
   "metadata": {
    "collapsed": true
   },
   "outputs": [],
   "source": [
    "groupset_i.group_nblist.radii_nblist(groupset_i.strucC.lat,groupset_i.cent_mass,groupset_i.radius,radii_buffer=0.500)"
   ]
  },
  {
   "cell_type": "code",
   "execution_count": 345,
   "metadata": {},
   "outputs": [
    {
     "name": "stdout",
     "output_type": "stream",
     "text": [
      " NBlist of 50 particle with 142 connections\n"
     ]
    }
   ],
   "source": [
    "print groupset_i.group_nblist"
   ]
  },
  {
   "cell_type": "code",
   "execution_count": 346,
   "metadata": {
    "collapsed": true,
    "scrolled": true
   },
   "outputs": [],
   "source": [
    "g_nbs = []\n",
    "for gk_i,g_i in groupset_i.groups.iteritems():\n",
    "        n_nbs = groupset_i.group_nblist.calc_nnab(gk_i)\n",
    "        g_nbs.append(n_nbs)\n",
    "g_nbs = np.array(g_nbs)    "
   ]
  },
  {
   "cell_type": "code",
   "execution_count": 347,
   "metadata": {},
   "outputs": [
    {
     "name": "stdout",
     "output_type": "stream",
     "text": [
      "0 2.84 6\n"
     ]
    }
   ],
   "source": [
    "print g_nbs.min(),g_nbs.mean(),g_nbs.max()"
   ]
  },
  {
   "cell_type": "markdown",
   "metadata": {},
   "source": [
    "Loop over each group, shift the group to the center of the simulation cell and write an .xyz file that includes the neighbors of the group."
   ]
  },
  {
   "cell_type": "code",
   "execution_count": 348,
   "metadata": {},
   "outputs": [
    {
     "name": "stdout",
     "output_type": "stream",
     "text": [
      "0 6 889\n",
      "1 5 762\n",
      "2 3 508\n",
      "3 2 381\n",
      "4 2 381\n",
      "5 4 635\n",
      "6 2 381\n",
      "7 3 508\n",
      "8 2 381\n",
      "9 2 381\n",
      "10 4 635\n",
      "11 1 254\n",
      "12 4 635\n",
      "13 1 254\n",
      "14 6 889\n",
      "15 4 635\n",
      "16 2 381\n",
      "17 3 508\n",
      "18 2 381\n",
      "19 2 381\n",
      "20 1 254\n",
      "21 0 127\n",
      "22 3 508\n",
      "23 3 508\n",
      "24 4 635\n",
      "25 1 254\n",
      "26 3 508\n",
      "27 0 127\n",
      "28 2 381\n",
      "29 3 508\n",
      "30 1 254\n",
      "31 1 254\n",
      "32 3 508\n",
      "33 2 381\n",
      "34 4 635\n",
      "35 2 381\n",
      "36 5 762\n",
      "37 3 508\n",
      "38 3 508\n",
      "39 2 381\n",
      "40 3 508\n",
      "41 2 381\n",
      "42 2 381\n",
      "43 4 635\n",
      "44 5 762\n",
      "45 4 635\n",
      "46 5 762\n",
      "47 3 508\n",
      "48 3 508\n",
      "49 5 762\n"
     ]
    }
   ],
   "source": [
    "for gk_i,g_i in groupset_i.groups.iteritems():\n",
    "        list_i = copy.deepcopy(g_i.pkeys)\n",
    "        for g_j in groupset_i.group_nblist.getnbs(gk_i):\n",
    "            list_i += groupset_i.groups[g_j].pkeys\n",
    "        print gk_i,groupset_i.group_nblist.calc_nnab(gk_i),len(list_i)\n",
    "        groupset_i.strucC.shift_pos(-1.0*g_i.cent_mass)  # Place center of mass at origin\n",
    "        groupset_i.strucC.write_xyz_list(list_i,xyz_file='nn_{}.xyz'.format(gk_i))\n",
    "        groupset_i.strucC.shift_pos(g_i.cent_mass)  # Return center of mass \n",
    "        \n",
    "        del list_i"
   ]
  },
  {
   "cell_type": "markdown",
   "metadata": {},
   "source": [
    "The nearest neighbor cluster look good so let us calculate the electron transfer "
   ]
  },
  {
   "cell_type": "markdown",
   "metadata": {},
   "source": [
    "Firts create a list of unique pairs "
   ]
  },
  {
   "cell_type": "code",
   "execution_count": 349,
   "metadata": {
    "collapsed": true
   },
   "outputs": [],
   "source": [
    "g_pairs = []\n",
    "for gk_i,g_i in groupset_i.groups.iteritems():\n",
    "    for gk_j in groupset_i.group_nblist.getnbs(gk_i):\n",
    "        if( gk_j > gk_i ):\n",
    "            g_pairs.append([gk_i,gk_j])"
   ]
  },
  {
   "cell_type": "code",
   "execution_count": 350,
   "metadata": {},
   "outputs": [
    {
     "name": "stdout",
     "output_type": "stream",
     "text": [
      "71\n"
     ]
    }
   ],
   "source": [
    "print len(g_pairs)"
   ]
  },
  {
   "cell_type": "markdown",
   "metadata": {},
   "source": [
    "Save that in a local file "
   ]
  },
  {
   "cell_type": "code",
   "execution_count": 351,
   "metadata": {
    "collapsed": true
   },
   "outputs": [],
   "source": [
    "eout = open('g_pairs.csv','wb') \n",
    "ewriter = csv.writer(eout,delimiter=',')\n",
    "ewriter.writerow( [\"gk_i\",\"gk_j\"] )\n",
    "for plist in g_pairs:\n",
    "    ewriter.writerow( [plist[0],plist[1]] )\n",
    "eout.close()"
   ]
  },
  {
   "cell_type": "code",
   "execution_count": 359,
   "metadata": {
    "collapsed": true
   },
   "outputs": [],
   "source": [
    "def nw_et(project_i,res_i,groupset_i,gk_i,gk_j):\n",
    "\n",
    "    calc_n =  len(project_i.calculations)     \n",
    "    nwchem_et = streamm.NWChem('nw_et_{}_g{}_g{}'.format(project_i.tag,gk_i,gk_j))\n",
    "    print(nwchem_et.tag)\n",
    "\n",
    "    # Set calculation to run on external resource\n",
    "    nwchem_et.set_resource(res_i)\n",
    "\n",
    "    # Make the local directories \n",
    "    nwchem_et.make_dir()\n",
    "    # Change to the `launch` directory\n",
    "    os.chdir(nwchem_et.dir['launch'])\n",
    "\n",
    "    group_i = groupset_i.groups[gk_i]\n",
    "    group_j = groupset_i.groups[gk_j]    \n",
    "\n",
    "    nwchem_et.properties['coord_i'] = group_i.write_coord()\n",
    "    nwchem_et.properties['coord_j'] = group_j.write_coord()    \n",
    "    nwchem_et.properties['coord_ij'] = nwchem_et.properties['coord_i'] + nwchem_et.properties['coord_j'] \n",
    "    \n",
    "    \n",
    "\n",
    "    nwchem_et.cp_file('templates','run',\"nwchem_peregrine.pbs\",'templates','launch')\n",
    "    nwchem_et.cp_file('templates','nw',\"nwchem_et.nw\",'templates','launch')\n",
    "    #\n",
    "    nwchem_et.load_str('templates','nw')        \n",
    "    nwchem_et.load_str('templates','run')\n",
    "    # \n",
    "    nwchem_et.replacewrite_prop('nw','input','nw','%s.nw'%(nwchem_et.tag))\n",
    "\n",
    "    nwchem_et.properties['input_nw'] = nwchem_et.files['input']['nw']\n",
    "    nwchem_et.replacewrite_prop('run','scripts','run','%s.pbs'%(nwchem_et.tag))\n",
    "\n",
    "    nwchem_et.add_file('output','log',\"%s.log\"%(nwchem_et.tag))\n",
    "    # Save details in .json files \n",
    "    # \n",
    "    os.chdir(nwchem_et.dir['home'])\n",
    "    nwchem_et.export_json()\n",
    "    # \n",
    "    os.chdir(nwchem_et.dir['launch'])\n",
    "    nwchem_et.push()\n",
    "    nwchem_et.run()\n",
    "    ## Add calculation to project\n",
    "    project_i.add_calc(nwchem_et,deepcopy = True)\n",
    "\n",
    "    return project_i\n"
   ]
  },
  {
   "cell_type": "markdown",
   "metadata": {},
   "source": [
    "Loop over all the pairs and create NWChem ET input files"
   ]
  },
  {
   "cell_type": "code",
   "execution_count": 360,
   "metadata": {},
   "outputs": [
    {
     "name": "stdout",
     "output_type": "stream",
     "text": [
      "nw_et_mol_et_equ0_g0_g3\n",
      "nw_et_mol_et_equ0_g0_g14\n",
      "nw_et_mol_et_equ0_g0_g15\n",
      "nw_et_mol_et_equ0_g0_g19\n",
      "nw_et_mol_et_equ0_g0_g43\n",
      "nw_et_mol_et_equ0_g0_g49\n",
      "nw_et_mol_et_equ0_g1_g16\n",
      "nw_et_mol_et_equ0_g1_g17\n",
      "nw_et_mol_et_equ0_g1_g28\n",
      "nw_et_mol_et_equ0_g1_g33\n",
      "nw_et_mol_et_equ0_g1_g44\n",
      "nw_et_mol_et_equ0_g2_g31\n",
      "nw_et_mol_et_equ0_g2_g32\n",
      "nw_et_mol_et_equ0_g2_g47\n",
      "nw_et_mol_et_equ0_g3_g38\n",
      "nw_et_mol_et_equ0_g4_g12\n",
      "nw_et_mol_et_equ0_g4_g39\n",
      "nw_et_mol_et_equ0_g5_g24\n",
      "nw_et_mol_et_equ0_g5_g42\n",
      "nw_et_mol_et_equ0_g5_g44\n",
      "nw_et_mol_et_equ0_g5_g46\n",
      "nw_et_mol_et_equ0_g6_g35\n",
      "nw_et_mol_et_equ0_g6_g47\n",
      "nw_et_mol_et_equ0_g7_g11\n",
      "nw_et_mol_et_equ0_g7_g26\n",
      "nw_et_mol_et_equ0_g7_g40\n",
      "nw_et_mol_et_equ0_g8_g38\n",
      "nw_et_mol_et_equ0_g8_g46\n",
      "nw_et_mol_et_equ0_g9_g23\n",
      "nw_et_mol_et_equ0_g9_g34\n",
      "nw_et_mol_et_equ0_g10_g28\n",
      "nw_et_mol_et_equ0_g10_g36\n",
      "nw_et_mol_et_equ0_g10_g37\n",
      "nw_et_mol_et_equ0_g10_g49\n",
      "nw_et_mol_et_equ0_g12_g18\n",
      "nw_et_mol_et_equ0_g12_g22\n",
      "nw_et_mol_et_equ0_g12_g29\n",
      "nw_et_mol_et_equ0_g13_g26\n",
      "nw_et_mol_et_equ0_g14_g32\n",
      "nw_et_mol_et_equ0_g14_g36\n",
      "nw_et_mol_et_equ0_g14_g43\n",
      "nw_et_mol_et_equ0_g14_g45\n",
      "nw_et_mol_et_equ0_g14_g49\n",
      "nw_et_mol_et_equ0_g15_g29\n",
      "nw_et_mol_et_equ0_g15_g41\n",
      "nw_et_mol_et_equ0_g15_g48\n",
      "nw_et_mol_et_equ0_g16_g17\n",
      "nw_et_mol_et_equ0_g17_g33\n",
      "nw_et_mol_et_equ0_g18_g22\n",
      "nw_et_mol_et_equ0_g19_g43\n",
      "nw_et_mol_et_equ0_g20_g40\n",
      "nw_et_mol_et_equ0_g22_g29\n",
      "nw_et_mol_et_equ0_g23_g25\n",
      "nw_et_mol_et_equ0_g23_g34\n",
      "nw_et_mol_et_equ0_g24_g30\n",
      "nw_et_mol_et_equ0_g24_g42\n",
      "nw_et_mol_et_equ0_g24_g46\n",
      "nw_et_mol_et_equ0_g26_g40\n",
      "nw_et_mol_et_equ0_g32_g45\n",
      "nw_et_mol_et_equ0_g34_g44\n",
      "nw_et_mol_et_equ0_g34_g46\n",
      "nw_et_mol_et_equ0_g35_g47\n",
      "nw_et_mol_et_equ0_g36_g37\n",
      "nw_et_mol_et_equ0_g36_g45\n",
      "nw_et_mol_et_equ0_g36_g49\n",
      "nw_et_mol_et_equ0_g37_g49\n",
      "nw_et_mol_et_equ0_g38_g48\n",
      "nw_et_mol_et_equ0_g39_g41\n",
      "nw_et_mol_et_equ0_g43_g45\n",
      "nw_et_mol_et_equ0_g44_g46\n",
      "nw_et_mol_et_equ0_g44_g48\n"
     ]
    }
   ],
   "source": [
    "for plist in g_pairs:\n",
    "    gk_i = plist[0]\n",
    "    gk_j = plist[1]\n",
    "    mol_et_equ0 = nw_et(mol_et_equ0,peregrine,groupset_i,gk_i,gk_j)"
   ]
  },
  {
   "cell_type": "code",
   "execution_count": 358,
   "metadata": {
    "collapsed": true
   },
   "outputs": [],
   "source": [
    "    mol_et_equ0.check()"
   ]
  },
  {
   "cell_type": "code",
   "execution_count": null,
   "metadata": {
    "collapsed": true
   },
   "outputs": [],
   "source": []
  },
  {
   "cell_type": "markdown",
   "metadata": {},
   "source": [
    "Sweet as bro!"
   ]
  }
 ],
 "metadata": {
  "anaconda-cloud": {},
  "kernelspec": {
   "display_name": "Python 2",
   "language": "python",
   "name": "python2"
  },
  "language_info": {
   "codemirror_mode": {
    "name": "ipython",
    "version": 2
   },
   "file_extension": ".py",
   "mimetype": "text/x-python",
   "name": "python",
   "nbconvert_exporter": "python",
   "pygments_lexer": "ipython2",
   "version": "2.7.13"
  }
 },
 "nbformat": 4,
 "nbformat_minor": 2
}
