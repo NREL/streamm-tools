{
 "cells": [
  {
   "cell_type": "markdown",
   "metadata": {},
   "source": [
    "In this example we run through a simplified procedure to calculate the inter-molecular electronic coupling energies between penta-3-hexylthiophene"
   ]
  },
  {
   "cell_type": "markdown",
   "metadata": {},
   "source": [
    "Procedure:\n",
    "    * Generate models of thiophene and hexane based on based on quantum chemistry data from NWChem\n",
    "    * Use streamm to create a 3-hexylthiophene pentamer\n",
    "    * Replicate the pentamer into a periodic simulation cell\n",
    "    * Anneal the system with LAMMPS\n",
    "    * Calculate the inter-molecular electronic coupling using NWChem's electron transfer module "
   ]
  },
  {
   "cell_type": "code",
   "execution_count": 1,
   "metadata": {
    "collapsed": true
   },
   "outputs": [],
   "source": [
    "import os \n",
    "from pprint import pprint"
   ]
  },
  {
   "cell_type": "code",
   "execution_count": 2,
   "metadata": {
    "collapsed": true
   },
   "outputs": [],
   "source": [
    "from pathlib2 import Path\n",
    "import os"
   ]
  },
  {
   "cell_type": "code",
   "execution_count": 3,
   "metadata": {
    "collapsed": true
   },
   "outputs": [],
   "source": [
    "import csv "
   ]
  },
  {
   "cell_type": "code",
   "execution_count": 4,
   "metadata": {
    "collapsed": true
   },
   "outputs": [],
   "source": [
    "import numpy as np\n",
    "import decimal\n",
    "import copy"
   ]
  },
  {
   "cell_type": "code",
   "execution_count": null,
   "metadata": {
    "collapsed": true
   },
   "outputs": [],
   "source": [
    "import matplotlib\n",
    "import matplotlib.pyplot as plt"
   ]
  },
  {
   "cell_type": "code",
   "execution_count": null,
   "metadata": {
    "collapsed": true
   },
   "outputs": [],
   "source": [
    "%matplotlib inline"
   ]
  },
  {
   "cell_type": "code",
   "execution_count": 7,
   "metadata": {
    "collapsed": true
   },
   "outputs": [],
   "source": [
    "import time"
   ]
  },
  {
   "cell_type": "markdown",
   "metadata": {},
   "source": [
    "Set wait time to check if calculation has finished"
   ]
  },
  {
   "cell_type": "code",
   "execution_count": 8,
   "metadata": {
    "collapsed": true
   },
   "outputs": [],
   "source": [
    "status_refresh = 1"
   ]
  },
  {
   "cell_type": "code",
   "execution_count": 9,
   "metadata": {
    "collapsed": true
   },
   "outputs": [],
   "source": [
    "import streamm"
   ]
  },
  {
   "cell_type": "markdown",
   "metadata": {},
   "source": [
    "In this getting started example we will calculate the coupling between P3HT oligomers"
   ]
  },
  {
   "cell_type": "code",
   "execution_count": 10,
   "metadata": {
    "collapsed": true
   },
   "outputs": [],
   "source": [
    "import logging\n",
    "logging.basicConfig(filename='p3ht_et.log',level=logging.DEBUG)"
   ]
  },
  {
   "cell_type": "markdown",
   "metadata": {},
   "source": [
    "Load Resource objects from Resource example"
   ]
  },
  {
   "cell_type": "code",
   "execution_count": 11,
   "metadata": {
    "collapsed": true
   },
   "outputs": [],
   "source": [
    "need_files = ['local_res.json','remote_res.json']\n",
    "for f in need_files:\n",
    "    path = Path(f)\n",
    "    if not path.is_file():\n",
    "        print(\"Need to run resource_example.ipynb\")\n",
    "        os.system(\"jupyter nbconvert --to python  resource_example.ipynb\")\n",
    "        os.system(\"python resource_example.py\")"
   ]
  },
  {
   "cell_type": "code",
   "execution_count": 12,
   "metadata": {
    "collapsed": true
   },
   "outputs": [],
   "source": [
    "res_local = streamm.Resource('local')"
   ]
  },
  {
   "cell_type": "markdown",
   "metadata": {},
   "source": [
    "The calc resource can be changed to local or remote host resouce "
   ]
  },
  {
   "cell_type": "code",
   "execution_count": 13,
   "metadata": {
    "collapsed": true
   },
   "outputs": [],
   "source": [
    "res_calc = streamm.Resource('remote')"
   ]
  },
  {
   "cell_type": "code",
   "execution_count": 14,
   "metadata": {
    "collapsed": true
   },
   "outputs": [],
   "source": [
    "res_local.import_json()\n",
    "res_calc.import_json()"
   ]
  },
  {
   "cell_type": "markdown",
   "metadata": {},
   "source": [
    "Create needed directories "
   ]
  },
  {
   "cell_type": "code",
   "execution_count": 15,
   "metadata": {
    "collapsed": true
   },
   "outputs": [],
   "source": [
    "res_local.make_dir() \n",
    "res_calc.make_dir() "
   ]
  },
  {
   "cell_type": "markdown",
   "metadata": {},
   "source": [
    "Now let's create project and resource to keep track of our work"
   ]
  },
  {
   "cell_type": "code",
   "execution_count": 16,
   "metadata": {
    "collapsed": true
   },
   "outputs": [],
   "source": [
    "p3ht_et = streamm.Project('P3HT_ET')"
   ]
  },
  {
   "cell_type": "markdown",
   "metadata": {},
   "source": [
    "Set the directory structure for the project "
   ]
  },
  {
   "cell_type": "code",
   "execution_count": 17,
   "metadata": {
    "collapsed": true
   },
   "outputs": [],
   "source": [
    "p3ht_et.set_resource(res_local)"
   ]
  },
  {
   "cell_type": "markdown",
   "metadata": {},
   "source": [
    "Explicitely create a thiophene molecule"
   ]
  },
  {
   "cell_type": "code",
   "execution_count": 18,
   "metadata": {
    "collapsed": true
   },
   "outputs": [],
   "source": [
    "bbTh = streamm.Buildingblock('thiophene')\n",
    "symbols = ['C','C','C','C','S','H','H','H','H']\n",
    "positions = [ ]\n",
    "positions.append([-1.55498576,-1.91131218,-0.00081000])\n",
    "positions.append([-0.17775976,-1.91131218,-0.00081000])\n",
    "positions.append([0.34761524,-0.57904218,-0.00081000])\n",
    "positions.append([-0.65884476,0.36101082,0.00000000])\n",
    "positions.append([-2.16948076,-0.35614618,-0.00000800])\n",
    "positions.append([-2.18966076,-2.79526518,-0.00132100])\n",
    "positions.append([0.45389024,-2.80145418,-0.00106400])\n",
    "positions.append([1.41682424,-0.35961818,-0.00138200])\n",
    "positions.append([-0.51943676,1.44024682,0.00064700])\n",
    "for i in range(len(symbols)):\n",
    "    pt_i = streamm.Particle(symbol=symbols[i])\n",
    "    pos_i = positions[i]\n",
    "    bbTh.add_partpos(pt_i,pos_i)"
   ]
  },
  {
   "cell_type": "markdown",
   "metadata": {},
   "source": [
    "Set the names of the terminal sites to be joined later"
   ]
  },
  {
   "cell_type": "code",
   "execution_count": 19,
   "metadata": {
    "collapsed": true
   },
   "outputs": [],
   "source": [
    "bbTh.particles[5].rsite = 'termcap'\n",
    "bbTh.particles[6].rsite = 'funccap'\n",
    "bbTh.particles[8].rsite = 'termcap'"
   ]
  },
  {
   "cell_type": "markdown",
   "metadata": {},
   "source": [
    "Set some properties of the molecule to keep track of the parts"
   ]
  },
  {
   "cell_type": "code",
   "execution_count": 20,
   "metadata": {
    "collapsed": true
   },
   "outputs": [],
   "source": [
    "c_cnt =1\n",
    "h_cnt =1\n",
    "\n",
    "for pkey_i, particle_i  in bbTh.particles.iteritems():\n",
    "\n",
    "    if( particle_i.symbol == 'C' ):\n",
    "        particle_i.label = \"C%d\"%(c_cnt)\n",
    "        particle_i.resname = \"SCP2\"\n",
    "        particle_i.residue = 1\n",
    "\n",
    "        c_cnt +=1 \n",
    "    if( particle_i.symbol == 'S' ):\n",
    "        particle_i.resname = \"ThS\"\n",
    "        particle_i.residue = 2\n",
    "\n",
    "    if( particle_i.symbol == 'H' ):\n",
    "        particle_i.label = \"H%d\"%(h_cnt)\n",
    "        particle_i.resname = \"HA\"\n",
    "        particle_i.residue = 3\n",
    "\n",
    "        h_cnt +=1 \n"
   ]
  },
  {
   "cell_type": "markdown",
   "metadata": {},
   "source": [
    "Set the force-field type and guess some reasonable charges "
   ]
  },
  {
   "cell_type": "code",
   "execution_count": 21,
   "metadata": {
    "collapsed": true
   },
   "outputs": [],
   "source": [
    "for pkey_i, particle_i  in bbTh.particles.iteritems():\n",
    "    if( particle_i.symbol == 'C' ):\n",
    "        particle_i.paramkey = 'CA'\n",
    "        particle_i.charge = -0.025\n",
    "    if( particle_i.symbol == 'S' ):\n",
    "        particle_i.paramkey = 'S'\n",
    "        particle_i.charge = -0.3\n",
    "    if( particle_i.symbol == 'H' ):\n",
    "        particle_i.paramkey = 'HA'\n",
    "        particle_i.charge = 0.1"
   ]
  },
  {
   "cell_type": "markdown",
   "metadata": {},
   "source": [
    "Check molecule is neutral "
   ]
  },
  {
   "cell_type": "code",
   "execution_count": 22,
   "metadata": {},
   "outputs": [
    {
     "name": "stdout",
     "output_type": "stream",
     "text": [
      "-2.77555756156e-17\n"
     ]
    }
   ],
   "source": [
    "total_charge = 0.0\n",
    "for pkey_i, particle_i  in bbTh.particles.iteritems():\n",
    "    total_charge += particle_i.charge\n",
    "print total_charge"
   ]
  },
  {
   "cell_type": "markdown",
   "metadata": {},
   "source": [
    "Optimize structure with NWChem"
   ]
  },
  {
   "cell_type": "markdown",
   "metadata": {},
   "source": [
    "But let's put it in a function this time"
   ]
  },
  {
   "cell_type": "code",
   "execution_count": 23,
   "metadata": {
    "collapsed": true
   },
   "outputs": [],
   "source": [
    "def nw_opt(project_i,bb_i,res_i):\n",
    "    '''Optimize a streamm Buildingblock object with nwchem \n",
    "    \n",
    "    '''\n",
    "    calc_n =  len(project_i.calculations)     \n",
    "    nwchem_i = streamm.NWChem('nw_opt_{}_calc_{}'.format(bb_i.tag,calc_n))\n",
    "    print nwchem_i.tag \n",
    "    # Add thiophene structure \n",
    "    nwchem_i.strucC = copy.deepcopy(bb_i)\n",
    "    # Set calculation to run on external resource\n",
    "    nwchem_i.set_resource(res_i)\n",
    "    # Make the local directories \n",
    "    nwchem_i.make_dir()\n",
    "    #Change to the `launch` directory\n",
    "    os.chdir(nwchem_i.dir['launch'])\n",
    "    # Copy over templates\n",
    "    nwchem_i.cp_file('templates','run',\"nwchem_remote.pbs\",'templates','launch')\n",
    "    nwchem_i.cp_file('templates','nw',\"nwchem.nw\",'templates','launch')\n",
    "    # Read in templates files \n",
    "    nwchem_i.load_str('templates','nw')        \n",
    "    nwchem_i.load_str('templates','run')\n",
    "    # Set calculation properties \n",
    "    nwchem_i.properties['basis'] = '6-31g'\n",
    "    nwchem_i.properties['method'] = 'UHF'\n",
    "    nwchem_i.properties['charge'] = 0\n",
    "    nwchem_i.properties['spin_mult'] = 1\n",
    "    nwchem_i.properties['task'] = 'SCF optimize'\n",
    "    nwchem_i.properties['coord'] = nwchem_i.strucC.write_coord()\n",
    "    # \n",
    "    pprint(nwchem_i.properties)\n",
    "    # Replace <key> with properties value \n",
    "    nwchem_i.replacewrite_prop('nw','input','nw','%s.nw'%(nwchem_i.tag))\n",
    "    nwchem_i.properties['input_nw'] = nwchem_i.files['input']['nw']\n",
    "    nwchem_i.replacewrite_prop('run','scripts','run','%s.pbs'%(nwchem_i.tag))\n",
    "    #\n",
    "    nwchem_i.add_file('output','log',\"%s.log\"%(nwchem_i.tag))\n",
    "    # Save details in .json files \n",
    "    os.chdir(nwchem_i.dir['home'])\n",
    "    p3ht_et.export_json()\n",
    "    # \n",
    "    os.chdir(nwchem_i.dir['launch'])\n",
    "    # \n",
    "    nwchem_i.push()\n",
    "    # \n",
    "    nwchem_i.run()\n",
    "    # Add calculation to project\n",
    "    project_i.add_calc(nwchem_i,deepcopy = True)\n",
    "    # \n",
    "    return project_i "
   ]
  },
  {
   "cell_type": "code",
   "execution_count": 24,
   "metadata": {},
   "outputs": [
    {
     "name": "stdout",
     "output_type": "stream",
     "text": [
      "nw_opt_thiophene_calc_0\n",
      "{u'allocation': u'',\n",
      " u'basis': '6-31g',\n",
      " u'charge': 0,\n",
      " 'comp_key': 'compressed',\n",
      " 'compress': 'tar -czf ',\n",
      " 'compress_sufix': 'tgz',\n",
      " 'coord': u'     C      -1.55498576      -1.91131218      -0.00081000 \\n     C      -0.17775976      -1.91131218      -0.00081000 \\n     C       0.34761524      -0.57904218      -0.00081000 \\n     C      -0.65884476       0.36101082       0.00000000 \\n     S      -2.16948076      -0.35614618      -0.00000800 \\n     H      -2.18966076      -2.79526518      -0.00132100 \\n     H       0.45389024      -2.80145418      -0.00106400 \\n     H       1.41682424      -0.35961818      -0.00138200 \\n     H      -0.51943676       1.44024682       0.00064700 \\n',\n",
      " u'exe_command': u'./',\n",
      " u'feature': u'24core',\n",
      " u'finish_str': u'Total times  cpu:',\n",
      " u'maxiter': 100,\n",
      " u'method': 'UHF',\n",
      " u'nodes': 1,\n",
      " u'nproc': 1,\n",
      " u'pmem': 1500,\n",
      " u'ppn': 1,\n",
      " u'queue': u'batch',\n",
      " 'scratch': u'/scratch/my_username/nw_opt_thiophene_calc_0/',\n",
      " u'spin_mult': 1,\n",
      " u'task': 'SCF optimize',\n",
      " 'uncompress': 'tar -xzf ',\n",
      " u'walltime': 24}\n"
     ]
    }
   ],
   "source": [
    "p3ht_et = nw_opt(p3ht_et,bbTh,res_calc)"
   ]
  },
  {
   "cell_type": "code",
   "execution_count": 25,
   "metadata": {
    "collapsed": true
   },
   "outputs": [],
   "source": [
    "nwchem_i = p3ht_et.calculations['nw_opt_thiophene_calc_0']"
   ]
  },
  {
   "cell_type": "markdown",
   "metadata": {},
   "source": [
    "Check status unit finished"
   ]
  },
  {
   "cell_type": "code",
   "execution_count": 26,
   "metadata": {
    "collapsed": true
   },
   "outputs": [],
   "source": [
    "while( nwchem_i.meta['status'] != 'finished'):\n",
    "    nwchem_i.check()\n",
    "    time.sleep(status_refresh)    "
   ]
  },
  {
   "cell_type": "code",
   "execution_count": 27,
   "metadata": {},
   "outputs": [
    {
     "name": "stdout",
     "output_type": "stream",
     "text": [
      "finished\n"
     ]
    }
   ],
   "source": [
    "print nwchem_i.meta['status']"
   ]
  },
  {
   "cell_type": "code",
   "execution_count": null,
   "metadata": {
    "collapsed": true
   },
   "outputs": [],
   "source": [
    "os.chdir(nwchem_i.dir['launch'])"
   ]
  },
  {
   "cell_type": "code",
   "execution_count": 28,
   "metadata": {},
   "outputs": [
    {
     "name": "stdout",
     "output_type": "stream",
     "text": [
      "Running analysis on  nw_opt_thiophene_calc_0.log\n"
     ]
    }
   ],
   "source": [
    "nwchem_i.analysis()"
   ]
  },
  {
   "cell_type": "markdown",
   "metadata": {},
   "source": [
    "Print energies, just for fun"
   ]
  },
  {
   "cell_type": "code",
   "execution_count": 29,
   "metadata": {},
   "outputs": [
    {
     "name": "stdout",
     "output_type": "stream",
     "text": [
      "-551.190757873 Ha\n"
     ]
    }
   ],
   "source": [
    "print nwchem_i.properties['energy'],nwchem_i.unit_conf['energy']"
   ]
  },
  {
   "cell_type": "markdown",
   "metadata": {},
   "source": [
    "Check that the positions of the structure have been optimized "
   ]
  },
  {
   "cell_type": "code",
   "execution_count": 30,
   "metadata": {},
   "outputs": [
    {
     "name": "stdout",
     "output_type": "stream",
     "text": [
      "[[ -1.55498576e+00  -1.91131218e+00  -8.10000000e-04]\n",
      " [ -1.77759760e-01  -1.91131218e+00  -8.10000000e-04]\n",
      " [  3.47615240e-01  -5.79042180e-01  -8.10000000e-04]\n",
      " [ -6.58844760e-01   3.61010820e-01   0.00000000e+00]\n",
      " [ -2.16948076e+00  -3.56146180e-01  -8.00000000e-06]\n",
      " [ -2.18966076e+00  -2.79526518e+00  -1.32100000e-03]\n",
      " [  4.53890240e-01  -2.80145418e+00  -1.06400000e-03]\n",
      " [  1.41682424e+00  -3.59618180e-01  -1.38200000e-03]\n",
      " [ -5.19436760e-01   1.44024682e+00   6.47000000e-04]]\n"
     ]
    }
   ],
   "source": [
    "print bbTh.positions"
   ]
  },
  {
   "cell_type": "code",
   "execution_count": 31,
   "metadata": {},
   "outputs": [
    {
     "data": {
      "text/plain": [
       "u'ang'"
      ]
     },
     "execution_count": 31,
     "metadata": {},
     "output_type": "execute_result"
    }
   ],
   "source": [
    "bbTh.unit_conf['length']"
   ]
  },
  {
   "cell_type": "code",
   "execution_count": 32,
   "metadata": {},
   "outputs": [
    {
     "name": "stdout",
     "output_type": "stream",
     "text": [
      "[[ -1.52907004e+00  -1.96233843e+00  -1.23341000e-03]\n",
      " [ -1.87273370e-01  -1.91412987e+00  -1.73523000e-03]\n",
      " [  3.42609150e-01  -5.70398020e-01  -1.25113000e-03]\n",
      " [ -6.05157220e-01   3.80544790e-01  -3.32630000e-04]\n",
      " [ -2.25060124e+00  -3.24219650e-01  -2.63810000e-04]\n",
      " [ -2.16239570e+00  -2.82036259e+00  -8.80000000e-05]\n",
      " [  4.31314900e-01  -2.78795308e+00  -1.22182000e-03]\n",
      " [  1.39124929e+00  -3.53851760e-01  -4.46300000e-04]\n",
      " [ -4.82514600e-01   1.43981597e+00   1.01435000e-03]]\n"
     ]
    }
   ],
   "source": [
    "print nwchem_i.strucC.positions"
   ]
  },
  {
   "cell_type": "code",
   "execution_count": 33,
   "metadata": {},
   "outputs": [
    {
     "data": {
      "text/plain": [
       "u'ang'"
      ]
     },
     "execution_count": 33,
     "metadata": {},
     "output_type": "execute_result"
    }
   ],
   "source": [
    "nwchem_i.strucC.unit_conf['length']"
   ]
  },
  {
   "cell_type": "markdown",
   "metadata": {},
   "source": [
    "Update positions with optimized geometry "
   ]
  },
  {
   "cell_type": "code",
   "execution_count": 34,
   "metadata": {},
   "outputs": [
    {
     "name": "stdout",
     "output_type": "stream",
     "text": [
      "0 C [ -1.52907004e+00  -1.96233843e+00  -1.23341000e-03]\n",
      "1 C [ -1.87273370e-01  -1.91412987e+00  -1.73523000e-03]\n",
      "2 C [ 0.34260915 -0.57039802 -0.00125113]\n",
      "3 C [ -6.05157220e-01   3.80544790e-01  -3.32630000e-04]\n",
      "4 S [ -2.25060124e+00  -3.24219650e-01  -2.63810000e-04]\n",
      "5 H [ -2.16239570e+00  -2.82036259e+00  -8.80000000e-05]\n",
      "6 H [  4.31314900e-01  -2.78795308e+00  -1.22182000e-03]\n",
      "7 H [  1.39124929e+00  -3.53851760e-01  -4.46300000e-04]\n",
      "8 H [ -4.82514600e-01   1.43981597e+00   1.01435000e-03]\n"
     ]
    }
   ],
   "source": [
    "for pk,p in bbTh.particles.iteritems():\n",
    "    bbTh.positions[pk] = nwchem_i.strucC.positions[pk]\n",
    "    print pk,p.symbol,bbTh.positions[pk]"
   ]
  },
  {
   "cell_type": "markdown",
   "metadata": {},
   "source": [
    "Store the results in a tar ball in the storage directory "
   ]
  },
  {
   "cell_type": "code",
   "execution_count": 35,
   "metadata": {
    "collapsed": true
   },
   "outputs": [],
   "source": [
    "nwchem_i.store()"
   ]
  },
  {
   "cell_type": "markdown",
   "metadata": {},
   "source": [
    "Now let us calculate the ESP charges to use in our forcefield "
   ]
  },
  {
   "cell_type": "markdown",
   "metadata": {},
   "source": [
    "Again let's make it a function"
   ]
  },
  {
   "cell_type": "code",
   "execution_count": 36,
   "metadata": {
    "collapsed": true
   },
   "outputs": [],
   "source": [
    "def nw_esp(project_i,bb_i,res_i):\n",
    "    '''Calculate ESP charges of a streamm Buildingblock object with nwchem \n",
    "    \n",
    "    '''\n",
    "    calc_n =  len(project_i.calculations)     \n",
    "    nwchem_esp = streamm.NWChem('nw_esp_{}_calc_{}'.format(bb_i.tag,calc_n))\n",
    "    print(nwchem_esp.tag)\n",
    "    # Add thiophene structure with optimized coordinates from previous calculation\n",
    "    nwchem_esp.strucC = copy.deepcopy(bb_i)\n",
    "    # Set calculation to run on external resource\n",
    "    nwchem_esp.set_resource(res_i)\n",
    "    # Add calculation to project\n",
    "    project_i.add_calc(nwchem_esp)\n",
    "    # Make the local directories \n",
    "    nwchem_esp.make_dir()\n",
    "    # Change to the `launch` directory\n",
    "    os.chdir(nwchem_esp.dir['launch'])\n",
    "    #\n",
    "    nwchem_esp.cp_file('templates','run',\"nwchem_remote.pbs\",'templates','launch')\n",
    "    nwchem_esp.cp_file('templates','nw',\"nwchem_esp.nw\",'templates','launch')\n",
    "    #\n",
    "    nwchem_esp.load_str('templates','nw')        \n",
    "    nwchem_esp.load_str('templates','run')\n",
    "    # \n",
    "    nwchem_esp.properties['basis'] = '6-31g'\n",
    "    nwchem_esp.properties['method'] = 'UHF'\n",
    "    nwchem_esp.properties['charge'] = 0\n",
    "    nwchem_esp.properties['spin_mult'] = 1\n",
    "    nwchem_esp.properties['task'] = 'SCF'\n",
    "    nwchem_esp.properties['coord'] = nwchem_esp.strucC.write_coord()\n",
    "\n",
    "    pprint(nwchem_esp.properties)\n",
    "\n",
    "    nwchem_esp.replacewrite_prop('nw','input','nw','%s.nw'%(nwchem_esp.tag))\n",
    "\n",
    "    nwchem_esp.properties['input_nw'] = nwchem_esp.files['input']['nw']\n",
    "    nwchem_esp.replacewrite_prop('run','scripts','run','%s.pbs'%(nwchem_esp.tag))\n",
    "\n",
    "    nwchem_esp.add_file('output','log',\"%s.log\"%(nwchem_esp.tag))\n",
    "\n",
    "    # Save details in .json files \n",
    "\n",
    "    os.chdir(nwchem_esp.dir['home'])\n",
    "    nwchem_esp.export_json()\n",
    "\n",
    "    os.chdir(nwchem_esp.dir['launch'])\n",
    "    nwchem_esp.push()\n",
    "    nwchem_esp.run()\n",
    "    # Add calculation to project\n",
    "    project_i.add_calc(nwchem_esp,deepcopy = True)\n",
    "    # \n",
    "    return project_i \n",
    "    \n",
    "    "
   ]
  },
  {
   "cell_type": "code",
   "execution_count": 37,
   "metadata": {
    "scrolled": true
   },
   "outputs": [
    {
     "name": "stdout",
     "output_type": "stream",
     "text": [
      "nw_esp_thiophene_calc_1\n",
      "{u'allocation': u'',\n",
      " u'basis': '6-31g',\n",
      " u'charge': 0,\n",
      " 'comp_key': 'compressed',\n",
      " 'compress': 'tar -czf ',\n",
      " 'compress_sufix': 'tgz',\n",
      " 'coord': u'     C      -1.52907004      -1.96233843      -0.00123341 \\n     C      -0.18727337      -1.91412987      -0.00173523 \\n     C       0.34260915      -0.57039802      -0.00125113 \\n     C      -0.60515722       0.38054479      -0.00033263 \\n     S      -2.25060124      -0.32421965      -0.00026381 \\n     H      -2.16239570      -2.82036259      -0.00008800 \\n     H       0.43131490      -2.78795308      -0.00122182 \\n     H       1.39124929      -0.35385176      -0.00044630 \\n     H      -0.48251460       1.43981597       0.00101435 \\n',\n",
      " u'exe_command': u'./',\n",
      " u'feature': u'24core',\n",
      " u'finish_str': u'Total times  cpu:',\n",
      " u'maxiter': 100,\n",
      " u'method': 'UHF',\n",
      " u'nodes': 1,\n",
      " u'nproc': 1,\n",
      " u'pmem': 1500,\n",
      " u'ppn': 1,\n",
      " u'queue': u'batch',\n",
      " 'scratch': u'/scratch/my_username/nw_esp_thiophene_calc_1/',\n",
      " u'spin_mult': 1,\n",
      " u'task': 'SCF',\n",
      " 'uncompress': 'tar -xzf ',\n",
      " u'walltime': 24}\n"
     ]
    }
   ],
   "source": [
    "p3ht_et = nw_esp(p3ht_et,bbTh,res_calc)"
   ]
  },
  {
   "cell_type": "markdown",
   "metadata": {},
   "source": [
    "Check status until finished"
   ]
  },
  {
   "cell_type": "code",
   "execution_count": 40,
   "metadata": {},
   "outputs": [
    {
     "name": "stdout",
     "output_type": "stream",
     "text": [
      "Calculation nw_esp_thiophene_calc_1 has status finished\n",
      "Calculation nw_opt_thiophene_calc_0 has status stored\n"
     ]
    }
   ],
   "source": [
    "p3ht_et.check()"
   ]
  },
  {
   "cell_type": "code",
   "execution_count": 38,
   "metadata": {
    "collapsed": true
   },
   "outputs": [],
   "source": [
    "nwchem_i = p3ht_et.calculations['nw_esp_thiophene_calc_1']"
   ]
  },
  {
   "cell_type": "code",
   "execution_count": null,
   "metadata": {
    "collapsed": true
   },
   "outputs": [],
   "source": [
    "os.chdir(nwchem_i.dir['launch'])"
   ]
  },
  {
   "cell_type": "code",
   "execution_count": 39,
   "metadata": {
    "collapsed": true
   },
   "outputs": [],
   "source": [
    "while( nwchem_i.meta['status'] != 'finished'):\n",
    "    nwchem_i.check()\n",
    "    time.sleep(status_refresh)    "
   ]
  },
  {
   "cell_type": "markdown",
   "metadata": {},
   "source": [
    "Run analysis to get the ESP charges"
   ]
  },
  {
   "cell_type": "code",
   "execution_count": 41,
   "metadata": {},
   "outputs": [
    {
     "name": "stdout",
     "output_type": "stream",
     "text": [
      "Running analysis on  nw_esp_thiophene_calc_1.log\n"
     ]
    }
   ],
   "source": [
    "nwchem_i.analysis()"
   ]
  },
  {
   "cell_type": "markdown",
   "metadata": {},
   "source": [
    "Check the new charges "
   ]
  },
  {
   "cell_type": "code",
   "execution_count": 42,
   "metadata": {},
   "outputs": [
    {
     "name": "stdout",
     "output_type": "stream",
     "text": [
      "0.0\n"
     ]
    }
   ],
   "source": [
    "nwchem_i.strucC.calc_charge()\n",
    "print nwchem_i.strucC.charge"
   ]
  },
  {
   "cell_type": "markdown",
   "metadata": {},
   "source": [
    "A little extra charge can cause problems with our MD simulation so, if our total is not zero let's round and set to neutral "
   ]
  },
  {
   "cell_type": "code",
   "execution_count": 43,
   "metadata": {
    "collapsed": true
   },
   "outputs": [],
   "source": [
    "def charges_round_neutral(strucC,ndigits = 4  ):\n",
    "    total_charge = 0.0 \n",
    "    for pk,p in strucC.particles.iteritems():\n",
    "        p.charge = round(p.charge,ndigits)\n",
    "        total_charge += p.charge\n",
    "    #\n",
    "    print total_charge\n",
    "    #\n",
    "    for pk,p in strucC.particles.iteritems():\n",
    "        p.charge += -1.0*total_charge/strucC.n_particles \n",
    "    strucC.calc_charge()\n",
    "    #\n",
    "    print strucC.charge"
   ]
  },
  {
   "cell_type": "code",
   "execution_count": 44,
   "metadata": {
    "collapsed": true
   },
   "outputs": [],
   "source": [
    "if( abs(nwchem_i.strucC.charge) > 1.0e-16 ):\n",
    "    charges_round_neutral(nwchem_i.strucC)"
   ]
  },
  {
   "cell_type": "markdown",
   "metadata": {},
   "source": [
    "Update the charges of the Buildingblock"
   ]
  },
  {
   "cell_type": "code",
   "execution_count": 45,
   "metadata": {
    "collapsed": true
   },
   "outputs": [],
   "source": [
    "bbTh.tag += '_HFesp'"
   ]
  },
  {
   "cell_type": "code",
   "execution_count": 46,
   "metadata": {},
   "outputs": [
    {
     "name": "stdout",
     "output_type": "stream",
     "text": [
      "thiophene_HFesp\n"
     ]
    }
   ],
   "source": [
    "print bbTh.tag"
   ]
  },
  {
   "cell_type": "code",
   "execution_count": 47,
   "metadata": {},
   "outputs": [
    {
     "name": "stdout",
     "output_type": "stream",
     "text": [
      "0 C -0.085722\n",
      "1 C -0.136866\n",
      "2 C -0.085772\n",
      "3 C -0.108841\n",
      "4 S -0.11776\n",
      "5 H 0.153759\n",
      "6 H 0.119036\n",
      "7 H 0.109131\n",
      "8 H 0.153035\n"
     ]
    }
   ],
   "source": [
    "for pk,p in bbTh.particles.iteritems():\n",
    "    p.charge = nwchem_i.strucC.particles[pk].charge\n",
    "    print pk,p.symbol,p.charge"
   ]
  },
  {
   "cell_type": "markdown",
   "metadata": {},
   "source": [
    "Store the results "
   ]
  },
  {
   "cell_type": "code",
   "execution_count": 48,
   "metadata": {
    "collapsed": true
   },
   "outputs": [],
   "source": [
    "nwchem_i.store()"
   ]
  },
  {
   "cell_type": "markdown",
   "metadata": {},
   "source": [
    "Create the neighbor list and use it to set the bonds, bond angles and dihedrals for the force-field model"
   ]
  },
  {
   "cell_type": "code",
   "execution_count": 49,
   "metadata": {
    "collapsed": true
   },
   "outputs": [],
   "source": [
    "bbTh.bonded_nblist = bbTh.guess_nblist(0,radii_buffer=1.35)"
   ]
  },
  {
   "cell_type": "code",
   "execution_count": 50,
   "metadata": {
    "collapsed": true
   },
   "outputs": [],
   "source": [
    "bbTh.bonded_bonds()\n",
    "bbTh.bonded_angles()\n",
    "bbTh.bonded_dih()"
   ]
  },
  {
   "cell_type": "markdown",
   "metadata": {},
   "source": [
    "Store a object of the Buildingblock"
   ]
  },
  {
   "cell_type": "code",
   "execution_count": 51,
   "metadata": {
    "collapsed": true
   },
   "outputs": [],
   "source": [
    "os.chdir(res_local.dir['materials']) \n",
    "th_json = bbTh.export_json()"
   ]
  },
  {
   "cell_type": "markdown",
   "metadata": {},
   "source": [
    "Let us optimize the structure with the oplsaa force-field to check the parameters "
   ]
  },
  {
   "cell_type": "code",
   "execution_count": 52,
   "metadata": {
    "collapsed": true
   },
   "outputs": [],
   "source": [
    "os.chdir(res_local.dir['home']) "
   ]
  },
  {
   "cell_type": "code",
   "execution_count": 1,
   "metadata": {},
   "outputs": [
    {
     "ename": "NameError",
     "evalue": "name 'Path' is not defined",
     "output_type": "error",
     "traceback": [
      "\u001b[0;31m---------------------------------------------------------------------------\u001b[0m",
      "\u001b[0;31mNameError\u001b[0m                                 Traceback (most recent call last)",
      "\u001b[0;32m<ipython-input-1-2e4ee0445151>\u001b[0m in \u001b[0;36m<module>\u001b[0;34m()\u001b[0m\n\u001b[1;32m      1\u001b[0m \u001b[0mneed_files\u001b[0m \u001b[0;34m=\u001b[0m \u001b[0;34m[\u001b[0m\u001b[0;34m'oplsaa_param.json'\u001b[0m\u001b[0;34m]\u001b[0m\u001b[0;34m\u001b[0m\u001b[0m\n\u001b[1;32m      2\u001b[0m \u001b[0;32mfor\u001b[0m \u001b[0mf\u001b[0m \u001b[0;32min\u001b[0m \u001b[0mneed_files\u001b[0m\u001b[0;34m:\u001b[0m\u001b[0;34m\u001b[0m\u001b[0m\n\u001b[0;32m----> 3\u001b[0;31m     \u001b[0mpath\u001b[0m \u001b[0;34m=\u001b[0m \u001b[0mPath\u001b[0m\u001b[0;34m(\u001b[0m\u001b[0mf\u001b[0m\u001b[0;34m)\u001b[0m\u001b[0;34m\u001b[0m\u001b[0m\n\u001b[0m\u001b[1;32m      4\u001b[0m     \u001b[0;32mif\u001b[0m \u001b[0;32mnot\u001b[0m \u001b[0mpath\u001b[0m\u001b[0;34m.\u001b[0m\u001b[0mis_file\u001b[0m\u001b[0;34m(\u001b[0m\u001b[0;34m)\u001b[0m\u001b[0;34m:\u001b[0m\u001b[0;34m\u001b[0m\u001b[0m\n\u001b[1;32m      5\u001b[0m         \u001b[0;32mprint\u001b[0m\u001b[0;34m(\u001b[0m\u001b[0;34m\"Need to run forcefields_example.ipynb\"\u001b[0m\u001b[0;34m)\u001b[0m\u001b[0;34m\u001b[0m\u001b[0m\n",
      "\u001b[0;31mNameError\u001b[0m: name 'Path' is not defined"
     ]
    }
   ],
   "source": [
    "need_files = ['oplsaa_param.json']\n",
    "for f in need_files:\n",
    "    path = Path(f)\n",
    "    if not path.is_file():\n",
    "        print(\"Need to run forcefields_example.ipynb\")\n",
    "        os.system(\"jupyter nbconvert --to python  forcefields_example.ipynb\")\n",
    "        os.system(\"python forcefields_example.py\")"
   ]
  },
  {
   "cell_type": "code",
   "execution_count": 54,
   "metadata": {
    "collapsed": true
   },
   "outputs": [],
   "source": [
    "oplsaa = streamm.Parameters('oplsaa')"
   ]
  },
  {
   "cell_type": "code",
   "execution_count": 55,
   "metadata": {
    "collapsed": true
   },
   "outputs": [],
   "source": [
    "oplsaa.import_json(read_file=True)"
   ]
  },
  {
   "cell_type": "code",
   "execution_count": 56,
   "metadata": {},
   "outputs": [
    {
     "name": "stdout",
     "output_type": "stream",
     "text": [
      "\n",
      "    Parameters \n",
      "      LJ parameters 2 \n",
      "      Bond parameters 2 \n",
      "      Angle parameters 2 \n",
      "      Dihedral parameters 1 \n",
      "      Improper Dihedral parameters 0 \n",
      "\n"
     ]
    }
   ],
   "source": [
    "print oplsaa"
   ]
  },
  {
   "cell_type": "code",
   "execution_count": 57,
   "metadata": {},
   "outputs": [
    {
     "name": "stdout",
     "output_type": "stream",
     "text": [
      "kCalmol\n"
     ]
    }
   ],
   "source": [
    "print oplsaa.unit_conf['energy']"
   ]
  },
  {
   "cell_type": "markdown",
   "metadata": {},
   "source": [
    "We need to add the conjugated carbons, hydrogen and sulfur atom types "
   ]
  },
  {
   "cell_type": "code",
   "execution_count": 58,
   "metadata": {
    "collapsed": true
   },
   "outputs": [],
   "source": [
    "import streamm.forcefields.particletype as particletype"
   ]
  },
  {
   "cell_type": "code",
   "execution_count": 59,
   "metadata": {
    "collapsed": true
   },
   "outputs": [],
   "source": [
    "import pymatgen_core.core.periodic_table as periodic_table"
   ]
  },
  {
   "cell_type": "markdown",
   "metadata": {},
   "source": [
    "Set some parameters from J. Am. Chem. Soc., 1996, 118 (45), pp 11225–11236"
   ]
  },
  {
   "cell_type": "code",
   "execution_count": 60,
   "metadata": {
    "collapsed": true
   },
   "outputs": [],
   "source": [
    "CA = particletype.Particletype('CA')\n",
    "HA = particletype.Particletype('HA')"
   ]
  },
  {
   "cell_type": "code",
   "execution_count": 61,
   "metadata": {
    "collapsed": true
   },
   "outputs": [],
   "source": [
    "CA.update_units(oplsaa.unit_conf)\n",
    "HA.update_units(oplsaa.unit_conf)"
   ]
  },
  {
   "cell_type": "code",
   "execution_count": 62,
   "metadata": {
    "collapsed": true
   },
   "outputs": [],
   "source": [
    "CA.epsilon = 0.070 # kcal/mol\n",
    "CA.sigma = 3.55 # Angstroms "
   ]
  },
  {
   "cell_type": "code",
   "execution_count": 63,
   "metadata": {
    "collapsed": true
   },
   "outputs": [],
   "source": [
    "HA.epsilon = 0.030 # kcal/mol\n",
    "HA.sigma = 2.42 # Angstroms "
   ]
  },
  {
   "cell_type": "code",
   "execution_count": 64,
   "metadata": {
    "collapsed": true
   },
   "outputs": [],
   "source": [
    "CA.mass =  periodic_table.Element['C'].atomic_mass.real\n",
    "HA.mass =  periodic_table.Element['H'].atomic_mass.real"
   ]
  },
  {
   "cell_type": "code",
   "execution_count": 65,
   "metadata": {},
   "outputs": [
    {
     "name": "stdout",
     "output_type": "stream",
     "text": [
      " CA epsilon:0.07 sigma:3.55  HA epsilon:0.03 sigma:2.42\n"
     ]
    }
   ],
   "source": [
    "print CA,HA"
   ]
  },
  {
   "cell_type": "code",
   "execution_count": 66,
   "metadata": {
    "collapsed": true
   },
   "outputs": [],
   "source": [
    "S = particletype.Particletype('S')"
   ]
  },
  {
   "cell_type": "code",
   "execution_count": 67,
   "metadata": {
    "collapsed": true
   },
   "outputs": [],
   "source": [
    "S.update_units(oplsaa.unit_conf)"
   ]
  },
  {
   "cell_type": "markdown",
   "metadata": {},
   "source": [
    "Set some parameters from J. Am. Chem. Soc., 1996, 118 (45), pp 11225–11236"
   ]
  },
  {
   "cell_type": "code",
   "execution_count": 68,
   "metadata": {
    "collapsed": true
   },
   "outputs": [],
   "source": [
    "S.epsilon = 0.25 # kcal/mol\n",
    "S.sigma = 3.55 # Angstroms "
   ]
  },
  {
   "cell_type": "code",
   "execution_count": 69,
   "metadata": {
    "collapsed": true
   },
   "outputs": [],
   "source": [
    "S.mass =  periodic_table.Element['S'].atomic_mass.real"
   ]
  },
  {
   "cell_type": "markdown",
   "metadata": {},
   "source": [
    "Add to forcefield parameters container"
   ]
  },
  {
   "cell_type": "code",
   "execution_count": 70,
   "metadata": {
    "collapsed": true
   },
   "outputs": [],
   "source": [
    "oplsaa.add_particletype(CA)\n",
    "oplsaa.add_particletype(HA)\n",
    "oplsaa.add_particletype(S)"
   ]
  },
  {
   "cell_type": "markdown",
   "metadata": {},
   "source": [
    "Set the bond stretching parameters "
   ]
  },
  {
   "cell_type": "code",
   "execution_count": 71,
   "metadata": {
    "collapsed": true
   },
   "outputs": [],
   "source": [
    "import streamm.forcefields.bondtype as bondtype"
   ]
  },
  {
   "cell_type": "code",
   "execution_count": 72,
   "metadata": {
    "collapsed": true
   },
   "outputs": [],
   "source": [
    "bt_i = bondtype.Bondtype('CA','HA',unit_conf=oplsaa.unit_conf)\n",
    "bt_i.setharmonic(1.080,367.0)\n",
    "oplsaa.add_bondtype(bt_i)"
   ]
  },
  {
   "cell_type": "code",
   "execution_count": 73,
   "metadata": {
    "collapsed": true
   },
   "outputs": [],
   "source": [
    "bt_i = bondtype.Bondtype('CA','CA',unit_conf=oplsaa.unit_conf)\n",
    "bt_i.setharmonic(1.400,469.0)\n",
    "oplsaa.add_bondtype(bt_i)"
   ]
  },
  {
   "cell_type": "code",
   "execution_count": 74,
   "metadata": {
    "collapsed": true
   },
   "outputs": [],
   "source": [
    "bt_i = bondtype.Bondtype('S','CA',unit_conf=oplsaa.unit_conf)\n",
    "bt_i.setharmonic(1.71,250.0)\n",
    "oplsaa.add_bondtype(bt_i)"
   ]
  },
  {
   "cell_type": "code",
   "execution_count": 75,
   "metadata": {},
   "outputs": [
    {
     "name": "stdout",
     "output_type": "stream",
     "text": [
      "0  bond  CT - HC type harmonic \n",
      "  harmonic r_0 = 1.080000 K = 367.000000 lammps index 0  gromacs index 0  \n",
      "1  bond  CT - CT type harmonic \n",
      "  harmonic r_0 = 1.530000 K = 268.000000 lammps index 0  gromacs index 0  \n",
      "2  bond  CA - HA type harmonic \n",
      "  harmonic r_0 = 1.080000 K = 367.000000 lammps index 0  gromacs index 0  \n",
      "3  bond  CA - CA type harmonic \n",
      "  harmonic r_0 = 1.400000 K = 469.000000 lammps index 0  gromacs index 0  \n",
      "4  bond  S - CA type harmonic \n",
      "  harmonic r_0 = 1.710000 K = 250.000000 lammps index 0  gromacs index 0  \n"
     ]
    }
   ],
   "source": [
    "for btk,bt in oplsaa.bondtypes.iteritems():\n",
    "    print btk,bt"
   ]
  },
  {
   "cell_type": "code",
   "execution_count": 76,
   "metadata": {
    "collapsed": true
   },
   "outputs": [],
   "source": [
    "import streamm.forcefields.angletype as angletype"
   ]
  },
  {
   "cell_type": "code",
   "execution_count": 77,
   "metadata": {
    "collapsed": true
   },
   "outputs": [],
   "source": [
    "bat_i = angletype.Angletype('CA','CA','CA',unit_conf=oplsaa.unit_conf)\n",
    "bat_i.setharmonic(120.0,63.0)\n",
    "oplsaa.add_angletype(bat_i)"
   ]
  },
  {
   "cell_type": "code",
   "execution_count": 78,
   "metadata": {
    "collapsed": true
   },
   "outputs": [],
   "source": [
    "bat_i = angletype.Angletype('CA','CA','HA',unit_conf=oplsaa.unit_conf)\n",
    "bat_i.setharmonic(120.0,35.0)\n",
    "oplsaa.add_angletype(bat_i)"
   ]
  },
  {
   "cell_type": "code",
   "execution_count": 79,
   "metadata": {
    "collapsed": true
   },
   "outputs": [],
   "source": [
    "bat_i = angletype.Angletype('CA','S','CA',unit_conf=oplsaa.unit_conf)\n",
    "bat_i.setharmonic(92.2,70.0)\n",
    "oplsaa.add_angletype(bat_i)"
   ]
  },
  {
   "cell_type": "code",
   "execution_count": 80,
   "metadata": {
    "collapsed": true
   },
   "outputs": [],
   "source": [
    "bat_i = angletype.Angletype('S','CA','HA',unit_conf=oplsaa.unit_conf)\n",
    "bat_i.setharmonic(120.0,35.0)\n",
    "oplsaa.add_angletype(bat_i)"
   ]
  },
  {
   "cell_type": "code",
   "execution_count": 81,
   "metadata": {
    "collapsed": true
   },
   "outputs": [],
   "source": [
    "bat_i = angletype.Angletype('S','CA','CA',unit_conf=oplsaa.unit_conf)\n",
    "bat_i.setharmonic(111.0,70.0)\n",
    "oplsaa.add_angletype(bat_i)"
   ]
  },
  {
   "cell_type": "code",
   "execution_count": 82,
   "metadata": {},
   "outputs": [
    {
     "name": "stdout",
     "output_type": "stream",
     "text": [
      "0  angle  HC - CT - HC type harmonic \n",
      "  harmonic theta_0 = 110.700000 K = 37.500000 lammps index 0  gromacs index 0  \n",
      "1  angle  HC - CT - CT type harmonic \n",
      "  harmonic theta_0 = 110.700000 K = 37.500000 lammps index 0  gromacs index 0  \n",
      "2  angle  CA - CA - CA type harmonic \n",
      "  harmonic theta_0 = 120.000000 K = 63.000000 lammps index 0  gromacs index 0  \n",
      "3  angle  CA - CA - HA type harmonic \n",
      "  harmonic theta_0 = 120.000000 K = 35.000000 lammps index 0  gromacs index 0  \n",
      "4  angle  CA - S - CA type harmonic \n",
      "  harmonic theta_0 = 92.200000 K = 70.000000 lammps index 0  gromacs index 0  \n",
      "5  angle  S - CA - HA type harmonic \n",
      "  harmonic theta_0 = 120.000000 K = 35.000000 lammps index 0  gromacs index 0  \n",
      "6  angle  S - CA - CA type harmonic \n",
      "  harmonic theta_0 = 111.000000 K = 70.000000 lammps index 0  gromacs index 0  \n"
     ]
    }
   ],
   "source": [
    "for atk,at in oplsaa.angletypes.iteritems():\n",
    "    print atk,at"
   ]
  },
  {
   "cell_type": "markdown",
   "metadata": {},
   "source": [
    "Set some reasonable dihedral parameters"
   ]
  },
  {
   "cell_type": "code",
   "execution_count": 83,
   "metadata": {
    "collapsed": true
   },
   "outputs": [],
   "source": [
    "import streamm.forcefields.dihtype as dihtype"
   ]
  },
  {
   "cell_type": "code",
   "execution_count": 84,
   "metadata": {
    "collapsed": true
   },
   "outputs": [],
   "source": [
    "dih_i = dihtype.Dihtype('X','CA','CA','X',unit_conf=oplsaa.unit_conf)\n",
    "dih_i.type ='opls'\n",
    "dih_i.setopls(0.0,1.812532,0.0,0.0)\n",
    "oplsaa.add_dihtype(dih_i)"
   ]
  },
  {
   "cell_type": "code",
   "execution_count": 85,
   "metadata": {
    "collapsed": true
   },
   "outputs": [],
   "source": [
    "dih_i = dihtype.Dihtype('X','S','CA','X',unit_conf=oplsaa.unit_conf)\n",
    "dih_i.type ='opls'\n",
    "dih_i.setopls(0.0,2.416710,0.0,0.0)\n",
    "oplsaa.add_dihtype(dih_i)"
   ]
  },
  {
   "cell_type": "code",
   "execution_count": 86,
   "metadata": {
    "collapsed": true
   },
   "outputs": [],
   "source": [
    "dih_i = dihtype.Dihtype('S','CA','CA','HA',unit_conf=oplsaa.unit_conf)\n",
    "dih_i.type ='opls'\n",
    "dih_i.setopls(0.0,1.812532,0.0,0.0)\n",
    "oplsaa.add_dihtype(dih_i)"
   ]
  },
  {
   "cell_type": "code",
   "execution_count": 87,
   "metadata": {},
   "outputs": [
    {
     "name": "stdout",
     "output_type": "stream",
     "text": [
      "0  dihedral  HC - CT - CT - HC type opls \n",
      "  k1 = 0.000000 k2 = 0.000000 k3 = 0.300000 k4 = 0.000000 lammps index 0  gromcas index 0 \n",
      "1  dihedral  X - CA - CA - X type opls \n",
      "  k1 = 0.000000 k2 = 1.812532 k3 = 0.000000 k4 = 0.000000 lammps index 0  gromcas index 0 \n",
      "2  dihedral  X - S - CA - X type opls \n",
      "  k1 = 0.000000 k2 = 2.416710 k3 = 0.000000 k4 = 0.000000 lammps index 0  gromcas index 0 \n",
      "3  dihedral  S - CA - CA - HA type opls \n",
      "  k1 = 0.000000 k2 = 1.812532 k3 = 0.000000 k4 = 0.000000 lammps index 0  gromcas index 0 \n"
     ]
    }
   ],
   "source": [
    "for dk,d in oplsaa.dihtypes.iteritems():\n",
    "    print dk,d "
   ]
  },
  {
   "cell_type": "markdown",
   "metadata": {},
   "source": [
    "Let us make an MD simulation of just the monomer to check that our parameters are okay"
   ]
  },
  {
   "cell_type": "code",
   "execution_count": 88,
   "metadata": {
    "collapsed": true
   },
   "outputs": [],
   "source": [
    "def lmp_run(project_i,bb_i,param_i,res_i,md_type = 'min'):\n",
    "    # Create LAMMPS calculation object \n",
    "    calc_n =  len(project_i.calculations)     \n",
    "    lmp_i = streamm.LAMMPS('lmp_{}_{}_calc_{}'.format(md_type,bb_i.tag,calc_n))\n",
    "    # lmp_i = streamm.LAMMPS('lmp_{}_{}'.format(md_type,bb_i.tag))\n",
    "    # Set parameter container \n",
    "    lmp_i.paramC = param_i\n",
    "    lmp_i.set_strucC(bb_i)\n",
    "    # Set force-field parameters \n",
    "    lmp_i.set_ffparam()\n",
    "    # Set resource to local\n",
    "    lmp_i.set_resource(res_i)\n",
    "    # Make local directories\n",
    "    lmp_i.make_dir()\n",
    "    # Set pbc's to on\n",
    "    lmp_i.strucC.lat.pbcs = [True,True,True]\n",
    "    # Change to launch directory\n",
    "    os.chdir(lmp_i.dir['launch'])\n",
    "    # Copy over the templates from the template directory \n",
    "    lmp_i.cp_file('templates','in',\"lammps_{}.in\".format(md_type),'templates','launch')\n",
    "    lmp_i.cp_file('templates','run',\"lammps_remote.pbs\",'templates','launch')\n",
    "    # Change to scratch\n",
    "    os.chdir(lmp_i.dir['launch'])\n",
    "    # Read in template files and store them as strings in the `str` dictionary\n",
    "    lmp_i.load_str('templates','in')\n",
    "    lmp_i.load_str('templates','run')\n",
    "    # Write LAMMPS .data file\n",
    "    lmp_i.write_data()\n",
    "    # Replace keys in template string with properties \n",
    "    lmp_i.replacewrite_prop('in','input','in','%s.in'%(lmp_i.tag))\n",
    "    # Add the input file to the properties to be written into the run file\n",
    "    lmp_i.properties['input_in'] = lmp_i.files['input']['in']\n",
    "    lmp_i.replacewrite_prop('run','scripts','run','%s.pbs'%(lmp_i.tag))\n",
    "    # Save json file in root directory\n",
    "    os.chdir(lmp_i.dir['home'])\n",
    "    lmp_i.export_json()\n",
    "    # Run bash script or submit to cluster\n",
    "    lmp_i.add_file('output','log',\"%s.log\"%(lmp_i.tag))\n",
    "    # Save details in .json files \n",
    "    os.chdir(lmp_i.dir['home'])\n",
    "    project_i.export_json()\n",
    "    lmp_i.export_json()\n",
    "    #\n",
    "    os.chdir(lmp_i.dir['launch'])\n",
    "    lmp_i.push()\n",
    "    lmp_i.run()\n",
    "    # Add calculation to project\n",
    "    project_i.add_calc(lmp_i,deepcopy = True)\n",
    "    # \n",
    "    return project_i     "
   ]
  },
  {
   "cell_type": "code",
   "execution_count": 93,
   "metadata": {},
   "outputs": [
    {
     "name": "stdout",
     "output_type": "stream",
     "text": [
      "Calculation lmp_min_thiophene_HFesp_calc_2 has status finished\n",
      "Calculation nw_esp_thiophene_calc_1 has status stored\n",
      "Calculation nw_opt_thiophene_calc_0 has status stored\n"
     ]
    }
   ],
   "source": [
    "p3ht_et.check()"
   ]
  },
  {
   "cell_type": "code",
   "execution_count": 90,
   "metadata": {
    "collapsed": true
   },
   "outputs": [],
   "source": [
    "p3ht_et = lmp_run(p3ht_et,bbTh,oplsaa,res_calc)"
   ]
  },
  {
   "cell_type": "code",
   "execution_count": 91,
   "metadata": {
    "collapsed": true
   },
   "outputs": [],
   "source": [
    "lmp_i = p3ht_et.calculations['lmp_min_thiophene_HFesp_calc_2']"
   ]
  },
  {
   "cell_type": "code",
   "execution_count": null,
   "metadata": {
    "collapsed": true
   },
   "outputs": [],
   "source": [
    "os.chdir(lmp_i.dir['launch'])"
   ]
  },
  {
   "cell_type": "code",
   "execution_count": 92,
   "metadata": {
    "collapsed": true
   },
   "outputs": [],
   "source": [
    "while( lmp_i.meta['status'] != 'finished'):\n",
    "    lmp_i.check()\n",
    "    time.sleep(status_refresh)    "
   ]
  },
  {
   "cell_type": "markdown",
   "metadata": {},
   "source": [
    "Run analysis of .in and .log files "
   ]
  },
  {
   "cell_type": "code",
   "execution_count": 94,
   "metadata": {
    "collapsed": true
   },
   "outputs": [],
   "source": [
    "lmp_i.analysis()"
   ]
  },
  {
   "cell_type": "code",
   "execution_count": null,
   "metadata": {
    "collapsed": true
   },
   "outputs": [],
   "source": [
    "run_i= lmp_i.run_list[0]\n",
    "print run_i.timeseries['toteng']"
   ]
  },
  {
   "cell_type": "markdown",
   "metadata": {},
   "source": [
    "Energy decreased and nothing exploded so that's good"
   ]
  },
  {
   "cell_type": "code",
   "execution_count": 95,
   "metadata": {
    "collapsed": true
   },
   "outputs": [],
   "source": [
    "lmp_i.store()"
   ]
  },
  {
   "cell_type": "markdown",
   "metadata": {},
   "source": [
    "Read in data file positions"
   ]
  },
  {
   "cell_type": "code",
   "execution_count": 96,
   "metadata": {
    "collapsed": true
   },
   "outputs": [],
   "source": [
    "lmp_i.pull()"
   ]
  },
  {
   "cell_type": "markdown",
   "metadata": {},
   "source": [
    "Read in data file output and update positions"
   ]
  },
  {
   "cell_type": "code",
   "execution_count": 98,
   "metadata": {},
   "outputs": [
    {
     "name": "stdout",
     "output_type": "stream",
     "text": [
      "min1.data\n"
     ]
    }
   ],
   "source": [
    "datafn = lmp_i.files['output']['data_1']\n",
    "print datafn"
   ]
  },
  {
   "cell_type": "code",
   "execution_count": 99,
   "metadata": {
    "collapsed": true
   },
   "outputs": [],
   "source": [
    "lmp_i.read_data_pos(datafn)"
   ]
  },
  {
   "cell_type": "code",
   "execution_count": 100,
   "metadata": {},
   "outputs": [
    {
     "name": "stdout",
     "output_type": "stream",
     "text": [
      "[[ 100.    0.    0.]\n",
      " [   0.  100.    0.]\n",
      " [   0.    0.  100.]]\n"
     ]
    }
   ],
   "source": [
    "print lmp_i.strucC.lat.matrix"
   ]
  },
  {
   "cell_type": "code",
   "execution_count": 101,
   "metadata": {
    "collapsed": true
   },
   "outputs": [],
   "source": [
    "lmp_i.strucC.write_xyz()"
   ]
  },
  {
   "cell_type": "markdown",
   "metadata": {},
   "source": [
    "We will use the oplsaa optimized structure as the initial structure since we will be running MD "
   ]
  },
  {
   "cell_type": "code",
   "execution_count": 102,
   "metadata": {
    "collapsed": true
   },
   "outputs": [],
   "source": [
    "bbTh.tag += '_oplsaa'"
   ]
  },
  {
   "cell_type": "code",
   "execution_count": 103,
   "metadata": {},
   "outputs": [
    {
     "name": "stdout",
     "output_type": "stream",
     "text": [
      "0 C [ -1.56860051e+00  -1.93713428e+00  -1.24273494e-03]\n",
      "1 C [ -1.72701774e-01  -1.89176159e+00  -1.60495217e-03]\n",
      "2 C [ 0.33787841 -0.59671673 -0.00115104]\n",
      "3 C [ -6.51342222e-01   3.89236406e-01  -4.03568377e-04]\n",
      "4 S [ -2.21162218e+00  -3.39575235e-01  -2.15216886e-04]\n",
      "5 H [ -2.16015045e+00  -2.84188244e+00  -1.58459542e-04]\n",
      "6 H [  4.46480980e-01  -2.77679516e+00  -1.26658022e-03]\n",
      "7 H [  1.39443307e+00  -3.72550502e-01  -5.03989874e-04]\n",
      "8 H [ -4.66214329e-01   1.45428653e+00   9.88544989e-04]\n"
     ]
    }
   ],
   "source": [
    "for pk,p in bbTh.particles.iteritems():\n",
    "    bbTh.positions[pk] = lmp_i.strucC.positions[pk]\n",
    "    print pk,p.symbol,bbTh.positions[pk]"
   ]
  },
  {
   "cell_type": "markdown",
   "metadata": {},
   "source": [
    "Save the Buildingblock and force-field"
   ]
  },
  {
   "cell_type": "code",
   "execution_count": 104,
   "metadata": {
    "collapsed": true
   },
   "outputs": [],
   "source": [
    "os.chdir(res_local.dir['materials']) \n",
    "bbTh.write_xyz()\n",
    "th_json = bbTh.export_json() \n",
    "oplsaa_json = oplsaa.export_json()"
   ]
  },
  {
   "cell_type": "markdown",
   "metadata": {},
   "source": [
    "Okay now that we have a handle on thiophene let's follow the same procedure for hexane"
   ]
  },
  {
   "cell_type": "markdown",
   "metadata": {},
   "source": [
    "Build hexane"
   ]
  },
  {
   "cell_type": "code",
   "execution_count": 105,
   "metadata": {
    "collapsed": true
   },
   "outputs": [],
   "source": [
    "bbHex = streamm.Buildingblock('hexane')\n",
    "symbols = ['C','H','H','H','C','H','H','C','H','H','C','H','H','C','H','H','C','H','H','H']\n",
    "positions = [ ]\n",
    "positions.append([-6.410969,-0.381641,-0.000031])\n",
    "positions.append([-7.310084,0.245311,-0.000038])\n",
    "positions.append([-6.456117,-1.028799,0.884636])\n",
    "positions.append([-6.456111,-1.028812,-0.884689])\n",
    "positions.append([-5.135268,0.467175,-0.000033])\n",
    "positions.append([-5.135484,1.128782,0.877977])\n",
    "positions.append([-5.135479,1.128771,-0.87805])\n",
    "positions.append([-3.850566,-0.371258,-0.000024])\n",
    "positions.append([-3.85112,-1.033978,0.87841])\n",
    "positions.append([-3.851114,-1.033987,-0.878451])\n",
    "positions.append([-2.567451,0.469603,-0.000024])\n",
    "positions.append([-2.567784,1.132155,0.8784])\n",
    "positions.append([-2.567776,1.132146,-0.878455])\n",
    "positions.append([-1.283527,-0.370234,-0.000013])\n",
    "positions.append([-1.28337,-1.032804,0.87836])\n",
    "positions.append([-1.28336,-1.032812,-0.87838])\n",
    "positions.append([0.00482234,0.47342231,-0.00000898])\n",
    "positions.append([0.02595107,1.09220686,0.87266464])\n",
    "positions.append([0.85585781,-0.17514133,0.00194589])\n",
    "positions.append([0.02780957,1.08937798,-0.87463473])\n",
    "for i in range(len(symbols)):\n",
    "    pt_i = streamm.Particle(symbol=symbols[i])\n",
    "    pos_i = positions[i]\n",
    "    bbHex.add_partpos(pt_i,pos_i)"
   ]
  },
  {
   "cell_type": "code",
   "execution_count": 106,
   "metadata": {
    "collapsed": true
   },
   "outputs": [],
   "source": [
    "bbHex.particles[0].rsite = 'rg'\n",
    "bbHex.particles[1].rsite = 'rgcap'"
   ]
  },
  {
   "cell_type": "code",
   "execution_count": 107,
   "metadata": {
    "collapsed": true
   },
   "outputs": [],
   "source": [
    "c_cnt =1\n",
    "h_cnt =1\n",
    "for pkey_i, particle_i  in bbHex.particles.iteritems():\n",
    "            if( particle_i.symbol == 'C' ):\n",
    "                particle_i.label = \"C%d\"%(c_cnt)\n",
    "                particle_i.resname = \"SCP3\"\n",
    "                particle_i.residue = c_cnt\n",
    "                c_cnt +=1 \n",
    "            if( particle_i.symbol == 'H' ):\n",
    "                particle_i.label = \"H%d\"%(h_cnt)\n",
    "                particle_i.resname = \"HC\"\n",
    "                particle_i.residue = c_cnt -1 \n",
    "                h_cnt +=1 "
   ]
  },
  {
   "cell_type": "markdown",
   "metadata": {},
   "source": [
    "Set the parameter keys and some reasonable atomic charges "
   ]
  },
  {
   "cell_type": "code",
   "execution_count": 108,
   "metadata": {},
   "outputs": [
    {
     "name": "stdout",
     "output_type": "stream",
     "text": [
      "0 C -0.12\n",
      "1 H 0.06\n",
      "2 H 0.06\n",
      "3 H 0.06\n",
      "4 C -0.12\n",
      "5 H 0.06\n",
      "6 H 0.06\n",
      "7 C -0.12\n",
      "8 H 0.06\n",
      "9 H 0.06\n",
      "10 C -0.12\n",
      "11 H 0.06\n",
      "12 H 0.06\n",
      "13 C -0.12\n",
      "14 H 0.06\n",
      "15 H 0.06\n",
      "16 C -0.12\n",
      "17 H 0.06\n",
      "18 H 0.06\n",
      "19 H 0.06\n"
     ]
    }
   ],
   "source": [
    "for pkey_i, particle_i  in bbHex.particles.iteritems():\n",
    "            if( particle_i.symbol == 'C' ):\n",
    "                particle_i.paramkey = 'CT'\n",
    "                particle_i.charge = -0.12\n",
    "\n",
    "            if( particle_i.symbol == 'H' ):\n",
    "                particle_i.paramkey = 'HC'\n",
    "                particle_i.charge = 0.06\n",
    "            print pkey_i, particle_i.symbol,particle_i.charge"
   ]
  },
  {
   "cell_type": "code",
   "execution_count": 109,
   "metadata": {
    "collapsed": true
   },
   "outputs": [],
   "source": [
    "bbHex.particles[0].charge  = -0.18\n",
    "bbHex.particles[16].charge  = -0.18"
   ]
  },
  {
   "cell_type": "markdown",
   "metadata": {},
   "source": [
    "Check that the molecule is neutral "
   ]
  },
  {
   "cell_type": "code",
   "execution_count": 110,
   "metadata": {},
   "outputs": [
    {
     "name": "stdout",
     "output_type": "stream",
     "text": [
      "0.0\n"
     ]
    }
   ],
   "source": [
    "bbHex.calc_charge()\n",
    "print bbHex.charge\n"
   ]
  },
  {
   "cell_type": "markdown",
   "metadata": {},
   "source": [
    "Now let us optimze and calculate ESP charges for hexane"
   ]
  },
  {
   "cell_type": "markdown",
   "metadata": {},
   "source": [
    "Optimize structure with NWChem"
   ]
  },
  {
   "cell_type": "code",
   "execution_count": 111,
   "metadata": {},
   "outputs": [
    {
     "name": "stdout",
     "output_type": "stream",
     "text": [
      "['lmp_min_thiophene_HFesp_calc_2', 'nw_esp_thiophene_calc_1', 'nw_opt_thiophene_calc_0']\n"
     ]
    }
   ],
   "source": [
    "print p3ht_et.calculations.keys()"
   ]
  },
  {
   "cell_type": "code",
   "execution_count": 112,
   "metadata": {},
   "outputs": [
    {
     "name": "stdout",
     "output_type": "stream",
     "text": [
      "nw_opt_hexane_calc_3\n",
      "{u'allocation': u'',\n",
      " u'basis': '6-31g',\n",
      " u'charge': 0,\n",
      " 'comp_key': 'compressed',\n",
      " 'compress': 'tar -czf ',\n",
      " 'compress_sufix': 'tgz',\n",
      " 'coord': u'     C      -6.41096900      -0.38164100      -0.00003100 \\n     H      -7.31008400       0.24531100      -0.00003800 \\n     H      -6.45611700      -1.02879900       0.88463600 \\n     H      -6.45611100      -1.02881200      -0.88468900 \\n     C      -5.13526800       0.46717500      -0.00003300 \\n     H      -5.13548400       1.12878200       0.87797700 \\n     H      -5.13547900       1.12877100      -0.87805000 \\n     C      -3.85056600      -0.37125800      -0.00002400 \\n     H      -3.85112000      -1.03397800       0.87841000 \\n     H      -3.85111400      -1.03398700      -0.87845100 \\n     C      -2.56745100       0.46960300      -0.00002400 \\n     H      -2.56778400       1.13215500       0.87840000 \\n     H      -2.56777600       1.13214600      -0.87845500 \\n     C      -1.28352700      -0.37023400      -0.00001300 \\n     H      -1.28337000      -1.03280400       0.87836000 \\n     H      -1.28336000      -1.03281200      -0.87838000 \\n     C       0.00482234       0.47342231      -0.00000898 \\n     H       0.02595107       1.09220686       0.87266464 \\n     H       0.85585781      -0.17514133       0.00194589 \\n     H       0.02780957       1.08937798      -0.87463473 \\n',\n",
      " u'exe_command': u'./',\n",
      " u'feature': u'24core',\n",
      " u'finish_str': u'Total times  cpu:',\n",
      " u'maxiter': 100,\n",
      " u'method': 'UHF',\n",
      " u'nodes': 1,\n",
      " u'nproc': 1,\n",
      " u'pmem': 1500,\n",
      " u'ppn': 1,\n",
      " u'queue': u'batch',\n",
      " 'scratch': u'/scratch/my_username/nw_opt_hexane_calc_3/',\n",
      " u'spin_mult': 1,\n",
      " u'task': 'SCF optimize',\n",
      " 'uncompress': 'tar -xzf ',\n",
      " u'walltime': 24}\n"
     ]
    }
   ],
   "source": [
    "p3ht_et = nw_opt(p3ht_et,bbHex,res_calc)"
   ]
  },
  {
   "cell_type": "code",
   "execution_count": 114,
   "metadata": {},
   "outputs": [
    {
     "name": "stdout",
     "output_type": "stream",
     "text": [
      "Calculation nw_opt_hexane_calc_3 has status finished\n",
      "Calculation lmp_min_thiophene_HFesp_calc_2 has status stored\n",
      "Calculation nw_esp_thiophene_calc_1 has status stored\n",
      "Calculation nw_opt_thiophene_calc_0 has status stored\n"
     ]
    }
   ],
   "source": [
    "p3ht_et.check()"
   ]
  },
  {
   "cell_type": "code",
   "execution_count": 113,
   "metadata": {
    "collapsed": true
   },
   "outputs": [],
   "source": [
    "nwchem_i = p3ht_et.calculations['nw_opt_hexane_calc_3']"
   ]
  },
  {
   "cell_type": "code",
   "execution_count": null,
   "metadata": {
    "collapsed": true
   },
   "outputs": [],
   "source": [
    "os.chdir(nwchem_i.dir['launch'])"
   ]
  },
  {
   "cell_type": "code",
   "execution_count": 115,
   "metadata": {
    "collapsed": true
   },
   "outputs": [],
   "source": [
    "while( nwchem_i.meta['status'] != 'finished'):\n",
    "    nwchem_i.check()\n",
    "    time.sleep(status_refresh)"
   ]
  },
  {
   "cell_type": "markdown",
   "metadata": {},
   "source": [
    "Get the calculation from the project object "
   ]
  },
  {
   "cell_type": "code",
   "execution_count": 116,
   "metadata": {},
   "outputs": [
    {
     "name": "stdout",
     "output_type": "stream",
     "text": [
      "Running analysis on  nw_opt_hexane_calc_3.log\n"
     ]
    }
   ],
   "source": [
    "nwchem_i.analysis()"
   ]
  },
  {
   "cell_type": "markdown",
   "metadata": {},
   "source": [
    "Print energies "
   ]
  },
  {
   "cell_type": "code",
   "execution_count": 117,
   "metadata": {},
   "outputs": [
    {
     "name": "stdout",
     "output_type": "stream",
     "text": [
      "[-0.5549424, -0.5282407, -0.5218841, -0.4996812, -0.4774207, -0.4626707, -0.453462, -0.4506618, -0.4351213, 0.2272358]\n",
      "-235.271544412\n"
     ]
    }
   ],
   "source": [
    "print nwchem_i.properties['alpha_energies'][10:20]\n",
    "print nwchem_i.properties['energy']"
   ]
  },
  {
   "cell_type": "markdown",
   "metadata": {},
   "source": [
    "Check that the positions of the structure have been optimized "
   ]
  },
  {
   "cell_type": "code",
   "execution_count": 118,
   "metadata": {},
   "outputs": [
    {
     "name": "stdout",
     "output_type": "stream",
     "text": [
      "0 C [ -6.41096900e+00  -3.81641000e-01  -3.10000000e-05]\n",
      "1 H [ -7.31008400e+00   2.45311000e-01  -3.80000000e-05]\n",
      "2 H [-6.456117 -1.028799  0.884636]\n",
      "3 H [-6.456111 -1.028812 -0.884689]\n",
      "4 C [ -5.13526800e+00   4.67175000e-01  -3.30000000e-05]\n",
      "5 H [-5.135484  1.128782  0.877977]\n",
      "6 H [-5.135479  1.128771 -0.87805 ]\n",
      "7 C [ -3.85056600e+00  -3.71258000e-01  -2.40000000e-05]\n",
      "8 H [-3.85112  -1.033978  0.87841 ]\n",
      "9 H [-3.851114 -1.033987 -0.878451]\n",
      "10 C [ -2.56745100e+00   4.69603000e-01  -2.40000000e-05]\n",
      "11 H [-2.567784  1.132155  0.8784  ]\n",
      "12 H [-2.567776  1.132146 -0.878455]\n",
      "13 C [ -1.28352700e+00  -3.70234000e-01  -1.30000000e-05]\n",
      "14 H [-1.28337  -1.032804  0.87836 ]\n",
      "15 H [-1.28336  -1.032812 -0.87838 ]\n",
      "16 C [  4.82234000e-03   4.73422310e-01  -8.98000000e-06]\n",
      "17 H [ 0.02595107  1.09220686  0.87266464]\n",
      "18 H [ 0.85585781 -0.17514133  0.00194589]\n",
      "19 H [ 0.02780957  1.08937798 -0.87463473]\n"
     ]
    }
   ],
   "source": [
    "for pk,p in bbHex.particles.iteritems():\n",
    "    print pk,p.symbol,bbHex.positions[pk]"
   ]
  },
  {
   "cell_type": "code",
   "execution_count": 119,
   "metadata": {},
   "outputs": [
    {
     "name": "stdout",
     "output_type": "stream",
     "text": [
      "[[ -6.40760238e+00  -3.78973440e-01   6.27600000e-05]\n",
      " [ -7.29442788e+00   2.45331440e-01   6.75600000e-05]\n",
      " [ -6.45208289e+00  -1.01753690e+00   8.76542800e-01]\n",
      " [ -6.45214149e+00  -1.01747508e+00  -8.76488590e-01]\n",
      " [ -5.13193100e+00   4.68066030e-01  -7.69100000e-05]\n",
      " [ -5.13100792e+00   1.11962764e+00   8.70321800e-01]\n",
      " [ -5.13115615e+00   1.11985158e+00  -8.70246750e-01]\n",
      " [ -3.85237378e+00  -3.76654640e-01  -9.18700000e-05]\n",
      " [ -3.85441471e+00  -1.02908099e+00   8.70855140e-01]\n",
      " [ -3.85460209e+00  -1.02894435e+00  -8.71215810e-01]\n",
      " [ -2.57073915e+00   4.64411170e-01  -3.89630000e-04]\n",
      " [ -2.56870076e+00   1.11690406e+00   8.70574100e-01]\n",
      " [ -2.56854074e+00   1.11654737e+00  -8.71536310e-01]\n",
      " [ -1.29151749e+00  -3.80846300e-01   1.95250000e-04]\n",
      " [ -1.29305355e+00  -1.03240824e+00   8.70521240e-01]\n",
      " [ -1.29279455e+00  -1.03288769e+00  -8.69844870e-01]\n",
      " [ -1.52670000e-02   4.65406000e-01   4.89500000e-05]\n",
      " [  2.93781600e-02   1.10472229e+00   8.75952160e-01]\n",
      " [  8.71182390e-01  -1.59488810e-01   1.39176000e-03]\n",
      " [  3.06537800e-02   1.10291268e+00  -8.77080940e-01]]\n"
     ]
    }
   ],
   "source": [
    "print nwchem_i.strucC.positions"
   ]
  },
  {
   "cell_type": "markdown",
   "metadata": {},
   "source": [
    "Update positions in Buildingblock object"
   ]
  },
  {
   "cell_type": "code",
   "execution_count": 120,
   "metadata": {},
   "outputs": [
    {
     "name": "stdout",
     "output_type": "stream",
     "text": [
      "0 C [ -6.40760238e+00  -3.78973440e-01   6.27600000e-05]\n",
      "1 H [ -7.29442788e+00   2.45331440e-01   6.75600000e-05]\n",
      "2 H [-6.45208289 -1.0175369   0.8765428 ]\n",
      "3 H [-6.45214149 -1.01747508 -0.87648859]\n",
      "4 C [ -5.13193100e+00   4.68066030e-01  -7.69100000e-05]\n",
      "5 H [-5.13100792  1.11962764  0.8703218 ]\n",
      "6 H [-5.13115615  1.11985158 -0.87024675]\n",
      "7 C [ -3.85237378e+00  -3.76654640e-01  -9.18700000e-05]\n",
      "8 H [-3.85441471 -1.02908099  0.87085514]\n",
      "9 H [-3.85460209 -1.02894435 -0.87121581]\n",
      "10 C [ -2.57073915e+00   4.64411170e-01  -3.89630000e-04]\n",
      "11 H [-2.56870076  1.11690406  0.8705741 ]\n",
      "12 H [-2.56854074  1.11654737 -0.87153631]\n",
      "13 C [ -1.29151749e+00  -3.80846300e-01   1.95250000e-04]\n",
      "14 H [-1.29305355 -1.03240824  0.87052124]\n",
      "15 H [-1.29279455 -1.03288769 -0.86984487]\n",
      "16 C [ -1.52670000e-02   4.65406000e-01   4.89500000e-05]\n",
      "17 H [ 0.02937816  1.10472229  0.87595216]\n",
      "18 H [ 0.87118239 -0.15948881  0.00139176]\n",
      "19 H [ 0.03065378  1.10291268 -0.87708094]\n"
     ]
    }
   ],
   "source": [
    "for pk,p in bbHex.particles.iteritems():\n",
    "    bbHex.positions[pk] = nwchem_i.strucC.positions[pk]\n",
    "    print pk,p.symbol,bbHex.positions[pk]"
   ]
  },
  {
   "cell_type": "markdown",
   "metadata": {},
   "source": [
    "Store the results in a tar ball in the storage directory "
   ]
  },
  {
   "cell_type": "code",
   "execution_count": 121,
   "metadata": {
    "collapsed": true
   },
   "outputs": [],
   "source": [
    "nwchem_i.store()"
   ]
  },
  {
   "cell_type": "markdown",
   "metadata": {},
   "source": [
    "Now let us calculate the ESP charges to use in our forcefield "
   ]
  },
  {
   "cell_type": "code",
   "execution_count": 122,
   "metadata": {
    "scrolled": true
   },
   "outputs": [
    {
     "name": "stdout",
     "output_type": "stream",
     "text": [
      "nw_esp_hexane_calc_4\n",
      "{u'allocation': u'',\n",
      " u'basis': '6-31g',\n",
      " u'charge': 0,\n",
      " 'comp_key': 'compressed',\n",
      " 'compress': 'tar -czf ',\n",
      " 'compress_sufix': 'tgz',\n",
      " 'coord': u'     C      -6.40760238      -0.37897344       0.00006276 \\n     H      -7.29442788       0.24533144       0.00006756 \\n     H      -6.45208289      -1.01753690       0.87654280 \\n     H      -6.45214149      -1.01747508      -0.87648859 \\n     C      -5.13193100       0.46806603      -0.00007691 \\n     H      -5.13100792       1.11962764       0.87032180 \\n     H      -5.13115615       1.11985158      -0.87024675 \\n     C      -3.85237378      -0.37665464      -0.00009187 \\n     H      -3.85441471      -1.02908099       0.87085514 \\n     H      -3.85460209      -1.02894435      -0.87121581 \\n     C      -2.57073915       0.46441117      -0.00038963 \\n     H      -2.56870076       1.11690406       0.87057410 \\n     H      -2.56854074       1.11654737      -0.87153631 \\n     C      -1.29151749      -0.38084630       0.00019525 \\n     H      -1.29305355      -1.03240824       0.87052124 \\n     H      -1.29279455      -1.03288769      -0.86984487 \\n     C      -0.01526700       0.46540600       0.00004895 \\n     H       0.02937816       1.10472229       0.87595216 \\n     H       0.87118239      -0.15948881       0.00139176 \\n     H       0.03065378       1.10291268      -0.87708094 \\n',\n",
      " u'exe_command': u'./',\n",
      " u'feature': u'24core',\n",
      " u'finish_str': u'Total times  cpu:',\n",
      " u'maxiter': 100,\n",
      " u'method': 'UHF',\n",
      " u'nodes': 1,\n",
      " u'nproc': 1,\n",
      " u'pmem': 1500,\n",
      " u'ppn': 1,\n",
      " u'queue': u'batch',\n",
      " 'scratch': u'/scratch/my_username/nw_esp_hexane_calc_4/',\n",
      " u'spin_mult': 1,\n",
      " u'task': 'SCF',\n",
      " 'uncompress': 'tar -xzf ',\n",
      " u'walltime': 24}\n"
     ]
    }
   ],
   "source": [
    "p3ht_et = nw_esp(p3ht_et,bbHex,res_calc)"
   ]
  },
  {
   "cell_type": "markdown",
   "metadata": {},
   "source": [
    "Check status unit finished"
   ]
  },
  {
   "cell_type": "code",
   "execution_count": 123,
   "metadata": {},
   "outputs": [
    {
     "name": "stdout",
     "output_type": "stream",
     "text": [
      "Calculation nw_opt_hexane_calc_3 has status stored\n",
      "Calculation lmp_min_thiophene_HFesp_calc_2 has status stored\n",
      "Calculation nw_esp_thiophene_calc_1 has status stored\n",
      "Calculation nw_opt_thiophene_calc_0 has status stored\n",
      "Calculation nw_esp_hexane_calc_4 has status finished\n"
     ]
    }
   ],
   "source": [
    "p3ht_et.check()"
   ]
  },
  {
   "cell_type": "code",
   "execution_count": 124,
   "metadata": {
    "collapsed": true
   },
   "outputs": [],
   "source": [
    "nwchem_i = p3ht_et.calculations['nw_esp_hexane_calc_4']"
   ]
  },
  {
   "cell_type": "code",
   "execution_count": null,
   "metadata": {
    "collapsed": true
   },
   "outputs": [],
   "source": [
    "os.chdir(nwchem_i.dir['launch'])"
   ]
  },
  {
   "cell_type": "code",
   "execution_count": 125,
   "metadata": {
    "collapsed": true
   },
   "outputs": [],
   "source": [
    "while( nwchem_i.meta['status'] != 'finished'):\n",
    "    nwchem_i.check()\n",
    "    time.sleep(status_refresh)"
   ]
  },
  {
   "cell_type": "code",
   "execution_count": 126,
   "metadata": {},
   "outputs": [
    {
     "name": "stdout",
     "output_type": "stream",
     "text": [
      "Running analysis on  nw_esp_hexane_calc_4.log\n"
     ]
    }
   ],
   "source": [
    "nwchem_i.analysis()"
   ]
  },
  {
   "cell_type": "code",
   "execution_count": 128,
   "metadata": {},
   "outputs": [
    {
     "name": "stdout",
     "output_type": "stream",
     "text": [
      "-2.00000000003e-06\n"
     ]
    }
   ],
   "source": [
    "nwchem_i.strucC.calc_charge()\n",
    "print nwchem_i.strucC.charge"
   ]
  },
  {
   "cell_type": "markdown",
   "metadata": {},
   "source": [
    "Hum a little extra charge can cause problems with our MD simulation so let's round and set to neutral "
   ]
  },
  {
   "cell_type": "code",
   "execution_count": 129,
   "metadata": {},
   "outputs": [
    {
     "name": "stdout",
     "output_type": "stream",
     "text": [
      "-0.0002\n",
      "5.37764277553e-17\n"
     ]
    }
   ],
   "source": [
    "if( abs(nwchem_i.strucC.charge) > 1.0e-16 ):\n",
    "    charges_round_neutral(nwchem_i.strucC)"
   ]
  },
  {
   "cell_type": "code",
   "execution_count": 130,
   "metadata": {},
   "outputs": [
    {
     "name": "stdout",
     "output_type": "stream",
     "text": [
      "0 C -0.10529\n",
      "1 H 0.01451\n",
      "2 H 0.01201\n",
      "3 H 0.01351\n",
      "4 C 0.19361\n",
      "5 H -0.05559\n",
      "6 H -0.05069\n",
      "7 C 0.02061\n",
      "8 H -0.02179\n",
      "9 H -0.02349\n",
      "10 C 0.03851\n",
      "11 H -0.03129\n",
      "12 H -0.02889\n",
      "13 C 0.20601\n",
      "14 H -0.05569\n",
      "15 H -0.05989\n",
      "16 C -0.09409\n",
      "17 H 0.00641\n",
      "18 H 0.00841\n",
      "19 H 0.01311\n"
     ]
    }
   ],
   "source": [
    "for pk,p in nwchem_i.strucC.particles.iteritems():\n",
    "    print pk,p.symbol,p.charge"
   ]
  },
  {
   "cell_type": "markdown",
   "metadata": {},
   "source": [
    "Print energies "
   ]
  },
  {
   "cell_type": "code",
   "execution_count": 131,
   "metadata": {},
   "outputs": [
    {
     "name": "stdout",
     "output_type": "stream",
     "text": [
      "-235.271544554 Ha\n"
     ]
    }
   ],
   "source": [
    "print nwchem_i.properties['energy'],nwchem_i.unit_conf['energy']"
   ]
  },
  {
   "cell_type": "markdown",
   "metadata": {},
   "source": [
    "Update the charges of the Buildingblock"
   ]
  },
  {
   "cell_type": "code",
   "execution_count": 132,
   "metadata": {
    "collapsed": true
   },
   "outputs": [],
   "source": [
    "for pk,p in bbHex.particles.iteritems():\n",
    "    p.charge = nwchem_i.strucC.particles[pk].charge"
   ]
  },
  {
   "cell_type": "code",
   "execution_count": 133,
   "metadata": {
    "collapsed": true
   },
   "outputs": [],
   "source": [
    "bbHex.tag += '_HFesp'"
   ]
  },
  {
   "cell_type": "markdown",
   "metadata": {},
   "source": [
    "Store the results "
   ]
  },
  {
   "cell_type": "code",
   "execution_count": 134,
   "metadata": {
    "collapsed": true
   },
   "outputs": [],
   "source": [
    "nwchem_i.store()"
   ]
  },
  {
   "cell_type": "markdown",
   "metadata": {},
   "source": [
    "First we need to identify the bonding within the Buildingblock"
   ]
  },
  {
   "cell_type": "code",
   "execution_count": 135,
   "metadata": {
    "collapsed": true
   },
   "outputs": [],
   "source": [
    "bbHex.bonded_nblist = bbHex.guess_nblist(0,radii_buffer=1.35)"
   ]
  },
  {
   "cell_type": "code",
   "execution_count": 136,
   "metadata": {
    "collapsed": true
   },
   "outputs": [],
   "source": [
    "bbHex.bonded_bonds()\n",
    "bbHex.bonded_angles()\n",
    "bbHex.bonded_dih()"
   ]
  },
  {
   "cell_type": "markdown",
   "metadata": {},
   "source": [
    "Add the need parameters the the oplsaa parameter container"
   ]
  },
  {
   "cell_type": "code",
   "execution_count": 137,
   "metadata": {
    "collapsed": true
   },
   "outputs": [],
   "source": [
    "bat_i = angletype.Angletype('CT','CT','CT',unit_conf=oplsaa.unit_conf)\n",
    "bat_i.setharmonic(109.50,40.0)\n",
    "oplsaa.add_angletype(bat_i)"
   ]
  },
  {
   "cell_type": "code",
   "execution_count": 138,
   "metadata": {
    "collapsed": true
   },
   "outputs": [],
   "source": [
    "bat_i = angletype.Angletype('CT','CT','CT',unit_conf=oplsaa.unit_conf)\n",
    "bat_i.setharmonic(109.50,40.0)\n",
    "oplsaa.add_angletype(bat_i)"
   ]
  },
  {
   "cell_type": "code",
   "execution_count": 139,
   "metadata": {
    "collapsed": true
   },
   "outputs": [],
   "source": [
    "bat_i = angletype.Angletype('CT','CT','HC',unit_conf=oplsaa.unit_conf)\n",
    "bat_i.setharmonic(109.50,50.0)\n",
    "oplsaa.add_angletype(bat_i)"
   ]
  },
  {
   "cell_type": "code",
   "execution_count": 140,
   "metadata": {
    "collapsed": true
   },
   "outputs": [],
   "source": [
    "dih_i = dihtype.Dihtype('CT','CT','CT','CT',unit_conf=oplsaa.unit_conf)\n",
    "dih_i.type ='opls'\n",
    "dih_i.setopls(0.433341,-0.016667,0.066668,0.0)\n",
    "oplsaa.add_dihtype(dih_i)"
   ]
  },
  {
   "cell_type": "code",
   "execution_count": 141,
   "metadata": {
    "collapsed": true
   },
   "outputs": [],
   "source": [
    "dih_i = dihtype.Dihtype('HC','CT','CT','CT',unit_conf=oplsaa.unit_conf)\n",
    "dih_i.type ='opls'\n",
    "dih_i.setopls(0.0,-0.0,0.1,0.0)\n",
    "oplsaa.add_dihtype(dih_i)"
   ]
  },
  {
   "cell_type": "code",
   "execution_count": 142,
   "metadata": {
    "collapsed": true
   },
   "outputs": [],
   "source": [
    "dih_i = dihtype.Dihtype('HC','CT','CT','HC',unit_conf=oplsaa.unit_conf)\n",
    "dih_i.type ='opls'\n",
    "dih_i.setopls(0.0,-0.0,0.1,0.0)\n",
    "oplsaa.add_dihtype(dih_i)"
   ]
  },
  {
   "cell_type": "markdown",
   "metadata": {},
   "source": [
    "Run a oplsaa minimization to get the minimized structure"
   ]
  },
  {
   "cell_type": "code",
   "execution_count": 143,
   "metadata": {
    "collapsed": true
   },
   "outputs": [],
   "source": [
    "p3ht_et = lmp_run(p3ht_et,bbHex,oplsaa,res_calc)"
   ]
  },
  {
   "cell_type": "code",
   "execution_count": 144,
   "metadata": {},
   "outputs": [
    {
     "name": "stdout",
     "output_type": "stream",
     "text": [
      "Calculation nw_opt_thiophene_calc_0 has status stored\n",
      "Calculation lmp_min_hexane_HFesp_calc_5 has status finished\n",
      "Calculation nw_opt_hexane_calc_3 has status stored\n",
      "Calculation nw_esp_hexane_calc_4 has status stored\n",
      "Calculation nw_esp_thiophene_calc_1 has status stored\n",
      "Calculation lmp_min_thiophene_HFesp_calc_2 has status stored\n"
     ]
    }
   ],
   "source": [
    "p3ht_et.check()"
   ]
  },
  {
   "cell_type": "code",
   "execution_count": 145,
   "metadata": {
    "collapsed": true
   },
   "outputs": [],
   "source": [
    "lmp_i = p3ht_et.calculations['lmp_min_hexane_HFesp_calc_5']"
   ]
  },
  {
   "cell_type": "code",
   "execution_count": 150,
   "metadata": {},
   "outputs": [
    {
     "name": "stdout",
     "output_type": "stream",
     "text": [
      "/Users/tkemper/Development/streamm-tools/examples/scratch/lmp_min_hexane_HFesp_calc_5/\n"
     ]
    }
   ],
   "source": [
    "os.chdir(lmp_i.dir['launch'])"
   ]
  },
  {
   "cell_type": "code",
   "execution_count": 146,
   "metadata": {
    "collapsed": true
   },
   "outputs": [],
   "source": [
    "while( lmp_i.meta['status'] != 'finished'):\n",
    "    lmp_i.check()\n",
    "    time.sleep(status_refresh)"
   ]
  },
  {
   "cell_type": "code",
   "execution_count": 147,
   "metadata": {
    "collapsed": true
   },
   "outputs": [],
   "source": [
    "lmp_i.analysis()"
   ]
  },
  {
   "cell_type": "code",
   "execution_count": null,
   "metadata": {
    "collapsed": true
   },
   "outputs": [],
   "source": [
    "run_i= lmp_i.run_list[0]\n",
    "print run_i.timeseries['toteng']"
   ]
  },
  {
   "cell_type": "markdown",
   "metadata": {},
   "source": [
    "Energy decreased and nothing exploded so that's good"
   ]
  },
  {
   "cell_type": "code",
   "execution_count": 148,
   "metadata": {
    "collapsed": true
   },
   "outputs": [],
   "source": [
    "lmp_i.store()"
   ]
  },
  {
   "cell_type": "markdown",
   "metadata": {},
   "source": [
    "Read in data file positions"
   ]
  },
  {
   "cell_type": "code",
   "execution_count": 149,
   "metadata": {
    "collapsed": true
   },
   "outputs": [],
   "source": [
    "lmp_i.pull()"
   ]
  },
  {
   "cell_type": "markdown",
   "metadata": {},
   "source": [
    "Read in data file output and update positions"
   ]
  },
  {
   "cell_type": "code",
   "execution_count": 151,
   "metadata": {},
   "outputs": [
    {
     "name": "stdout",
     "output_type": "stream",
     "text": [
      "min1.data\n"
     ]
    }
   ],
   "source": [
    "datafn = lmp_i.files['output']['data_1']\n",
    "print datafn"
   ]
  },
  {
   "cell_type": "code",
   "execution_count": 152,
   "metadata": {
    "collapsed": true
   },
   "outputs": [],
   "source": [
    "lmp_i.read_data_pos(datafn)"
   ]
  },
  {
   "cell_type": "code",
   "execution_count": 153,
   "metadata": {},
   "outputs": [
    {
     "name": "stdout",
     "output_type": "stream",
     "text": [
      "[[ 100.    0.    0.]\n",
      " [   0.  100.    0.]\n",
      " [   0.    0.  100.]]\n"
     ]
    }
   ],
   "source": [
    "print lmp_i.strucC.lat.matrix"
   ]
  },
  {
   "cell_type": "code",
   "execution_count": 154,
   "metadata": {
    "collapsed": true
   },
   "outputs": [],
   "source": [
    "lmp_i.strucC.write_xyz()"
   ]
  },
  {
   "cell_type": "markdown",
   "metadata": {},
   "source": [
    "We will use the oplsaa optimized structure as the initial structure since we will be running MD "
   ]
  },
  {
   "cell_type": "code",
   "execution_count": 155,
   "metadata": {
    "collapsed": true
   },
   "outputs": [],
   "source": [
    "bbHex.tag += '_oplsaa'"
   ]
  },
  {
   "cell_type": "code",
   "execution_count": 156,
   "metadata": {},
   "outputs": [
    {
     "name": "stdout",
     "output_type": "stream",
     "text": [
      "0 C [ -6.34024506e+00  -3.82215526e-01  -1.36906990e-05]\n",
      "1 H [ -7.21004063e+00   2.57950718e-01  -5.00637320e-05]\n",
      "2 H [-6.33927652 -1.00138103  0.88487057]\n",
      "3 H [-6.33920013 -1.00133841 -0.885011  ]\n",
      "4 C [ -5.08391532e+00   4.92044513e-01  -3.73424482e-06]\n",
      "5 H [-5.08297954  1.1084471   0.88696959]\n",
      "6 H [-5.08295063  1.10865481 -0.88667252]\n",
      "7 C [ -3.83795671e+00  -3.96268324e-01  -2.52063522e-05]\n",
      "8 H [-3.84142065 -1.01235688  0.88697521]\n",
      "9 H [-3.84181248 -1.01248122 -0.88715498]\n",
      "10 C [ -2.58482027e+00   4.84419480e-01  -4.44719790e-04]\n",
      "11 H [-2.58073184  1.10088621  0.88651777]\n",
      "12 H [-2.58064162  1.10004623 -0.88778107]\n",
      "13 C [ -1.33971617e+00  -4.04921612e-01   2.49005117e-04]\n",
      "14 H [-1.34148924 -1.02109295  0.8872087 ]\n",
      "15 H [-1.34112797 -1.02174962 -0.8864212 ]\n",
      "16 C [ -8.27524221e-02   4.68336708e-01   8.12850274e-05]\n",
      "17 H [-0.08363555  1.08814104  0.88460429]\n",
      "18 H [ 0.78656483 -0.17247588  0.00092564]\n",
      "19 H [-0.08299207  1.08683864 -0.88526289]\n"
     ]
    }
   ],
   "source": [
    "for pk,p in bbHex.particles.iteritems():\n",
    "    bbHex.positions[pk] = lmp_i.strucC.positions[pk]\n",
    "    print pk,p.symbol,bbHex.positions[pk]"
   ]
  },
  {
   "cell_type": "markdown",
   "metadata": {},
   "source": [
    "Save the Buildingblock and force-field"
   ]
  },
  {
   "cell_type": "code",
   "execution_count": 157,
   "metadata": {
    "collapsed": true
   },
   "outputs": [],
   "source": [
    "os.chdir(res_local.dir['materials']) \n",
    "bbHex.write_xyz()\n",
    "bbhex_json = bbHex.export_json() \n",
    "oplsaa_json = oplsaa.export_json()"
   ]
  },
  {
   "cell_type": "code",
   "execution_count": 158,
   "metadata": {},
   "outputs": [
    {
     "name": "stdout",
     "output_type": "stream",
     "text": [
      "hexane_HFesp_oplsaa thiophene_HFesp_oplsaa\n"
     ]
    }
   ],
   "source": [
    "print bbHex.tag,bbTh.tag"
   ]
  },
  {
   "cell_type": "markdown",
   "metadata": {},
   "source": [
    "So let us make some P3HT oligomers "
   ]
  },
  {
   "cell_type": "code",
   "execution_count": 159,
   "metadata": {
    "collapsed": true
   },
   "outputs": [],
   "source": [
    "os.chdir(res_local.dir['materials']) "
   ]
  },
  {
   "cell_type": "code",
   "execution_count": 160,
   "metadata": {
    "collapsed": true
   },
   "outputs": [],
   "source": [
    "bbTh.find_rsites()\n",
    "bbHex.find_rsites()"
   ]
  },
  {
   "cell_type": "code",
   "execution_count": 161,
   "metadata": {},
   "outputs": [
    {
     "name": "stdout",
     "output_type": "stream",
     "text": [
      "rsite:termcap[ paticle:atom H1 (H) index:5 n_bonds:1] \n",
      "rsite:termcap[ paticle:atom H4 (H) index:8 n_bonds:1] \n",
      "rsite:funccap[ paticle:atom H2 (H) index:6 n_bonds:1] \n",
      "\n"
     ]
    }
   ],
   "source": [
    "print(bbTh.show_rsites())"
   ]
  },
  {
   "cell_type": "code",
   "execution_count": 162,
   "metadata": {},
   "outputs": [
    {
     "name": "stdout",
     "output_type": "stream",
     "text": [
      "rsite:rg[ paticle:atom C1 (C) index:0 n_bonds:4] \n",
      "rsite:rgcap[ paticle:atom H1 (H) index:1 n_bonds:1] \n",
      "\n"
     ]
    }
   ],
   "source": [
    "print(bbHex.show_rsites())"
   ]
  },
  {
   "cell_type": "code",
   "execution_count": 163,
   "metadata": {
    "collapsed": true
   },
   "outputs": [],
   "source": [
    "import streamm.structures.buildingblock as bb"
   ]
  },
  {
   "cell_type": "code",
   "execution_count": 164,
   "metadata": {
    "collapsed": true
   },
   "outputs": [],
   "source": [
    "ht = bb.attach(bbTh,bbHex,'funccap',0,'rgcap',0,tag='3-hexyl-thiophene')"
   ]
  },
  {
   "cell_type": "markdown",
   "metadata": {},
   "source": [
    "Update bond angles and dihedrals after Buildingblock join"
   ]
  },
  {
   "cell_type": "code",
   "execution_count": 165,
   "metadata": {
    "collapsed": true
   },
   "outputs": [],
   "source": [
    "ht.bonded_bonds()\n",
    "ht.bonded_angles()\n",
    "ht.bonded_dih()"
   ]
  },
  {
   "cell_type": "markdown",
   "metadata": {},
   "source": [
    "Check that the molecule looks good"
   ]
  },
  {
   "cell_type": "code",
   "execution_count": 166,
   "metadata": {
    "collapsed": true
   },
   "outputs": [],
   "source": [
    "ht.write_xyz()"
   ]
  },
  {
   "cell_type": "markdown",
   "metadata": {},
   "source": [
    "Check the charges of the removed hydrogens got summed onto the functionalized carbons correctly"
   ]
  },
  {
   "cell_type": "code",
   "execution_count": 167,
   "metadata": {},
   "outputs": [
    {
     "data": {
      "text/plain": [
       "5.377642775528102e-17"
      ]
     },
     "execution_count": 167,
     "metadata": {},
     "output_type": "execute_result"
    }
   ],
   "source": [
    "ht.calc_charge()\n",
    "ht.charge"
   ]
  },
  {
   "cell_type": "code",
   "execution_count": 168,
   "metadata": {},
   "outputs": [
    {
     "name": "stdout",
     "output_type": "stream",
     "text": [
      "rsite:termcap[ paticle:atom H1 (H) index:5 n_bonds:1] \n",
      "rsite:termcap[ paticle:atom H4 (H) index:7 n_bonds:1] \n",
      "rsite:rg[ paticle:atom C1 (C) index:8 n_bonds:4] \n",
      "\n"
     ]
    }
   ],
   "source": [
    "print(ht.show_rsites())"
   ]
  },
  {
   "cell_type": "markdown",
   "metadata": {},
   "source": [
    "Add inter thiophene hexane parameters"
   ]
  },
  {
   "cell_type": "code",
   "execution_count": 169,
   "metadata": {
    "collapsed": true
   },
   "outputs": [],
   "source": [
    "bt_i = bondtype.Bondtype('CT','CA',unit_conf=oplsaa.unit_conf)\n",
    "bt_i.setharmonic(1.51,317.0)\n",
    "oplsaa.add_bondtype(bt_i)"
   ]
  },
  {
   "cell_type": "markdown",
   "metadata": {},
   "source": [
    "Bond angle parameters "
   ]
  },
  {
   "cell_type": "code",
   "execution_count": 170,
   "metadata": {
    "collapsed": true
   },
   "outputs": [],
   "source": [
    "bat_i = angletype.Angletype('CA','CA','CT',unit_conf=oplsaa.unit_conf)\n",
    "bat_i.setharmonic(120.0,70.0)\n",
    "oplsaa.add_angletype(bat_i)\n",
    "\n",
    "\n",
    "bat_i = angletype.Angletype('HA','CA','CT',unit_conf=oplsaa.unit_conf)\n",
    "bat_i.setharmonic(120.0,35.0)\n",
    "oplsaa.add_angletype(bat_i)\n",
    "\n",
    "\n",
    "\n",
    "bat_i = angletype.Angletype('CA','CT','HC',unit_conf=oplsaa.unit_conf)\n",
    "bat_i.setharmonic(109.5,50.0)\n",
    "oplsaa.add_angletype(bat_i)\n",
    "\n",
    "bat_i = angletype.Angletype('CA','CT','CT',unit_conf=oplsaa.unit_conf)\n",
    "bat_i.setharmonic(114.0,63.0)\n",
    "oplsaa.add_angletype(bat_i)"
   ]
  },
  {
   "cell_type": "code",
   "execution_count": 171,
   "metadata": {},
   "outputs": [
    {
     "name": "stdout",
     "output_type": "stream",
     "text": [
      "0  angle  HC - CT - HC type harmonic \n",
      "  harmonic theta_0 = 110.700000 K = 37.500000 lammps index 0  gromacs index 0  \n",
      "1  angle  HC - CT - CT type harmonic \n",
      "  harmonic theta_0 = 110.700000 K = 37.500000 lammps index 0  gromacs index 0  \n",
      "2  angle  CA - CA - CA type harmonic \n",
      "  harmonic theta_0 = 120.000000 K = 63.000000 lammps index 0  gromacs index 0  \n",
      "3  angle  CA - CA - HA type harmonic \n",
      "  harmonic theta_0 = 120.000000 K = 35.000000 lammps index 0  gromacs index 0  \n",
      "4  angle  CA - S - CA type harmonic \n",
      "  harmonic theta_0 = 92.200000 K = 70.000000 lammps index 0  gromacs index 0  \n",
      "5  angle  S - CA - HA type harmonic \n",
      "  harmonic theta_0 = 120.000000 K = 35.000000 lammps index 0  gromacs index 0  \n",
      "6  angle  S - CA - CA type harmonic \n",
      "  harmonic theta_0 = 111.000000 K = 70.000000 lammps index 0  gromacs index 0  \n",
      "7  angle  CT - CT - CT type harmonic \n",
      "  harmonic theta_0 = 109.500000 K = 40.000000 lammps index 0  gromacs index 0  \n",
      "8  angle  CT - CT - CT type harmonic \n",
      "  harmonic theta_0 = 109.500000 K = 40.000000 lammps index 0  gromacs index 0  \n",
      "9  angle  CT - CT - HC type harmonic \n",
      "  harmonic theta_0 = 109.500000 K = 50.000000 lammps index 0  gromacs index 0  \n",
      "10  angle  CA - CA - CT type harmonic \n",
      "  harmonic theta_0 = 120.000000 K = 70.000000 lammps index 0  gromacs index 0  \n",
      "11  angle  HA - CA - CT type harmonic \n",
      "  harmonic theta_0 = 120.000000 K = 35.000000 lammps index 0  gromacs index 0  \n",
      "12  angle  CA - CT - HC type harmonic \n",
      "  harmonic theta_0 = 109.500000 K = 50.000000 lammps index 0  gromacs index 0  \n",
      "13  angle  CA - CT - CT type harmonic \n",
      "  harmonic theta_0 = 114.000000 K = 63.000000 lammps index 0  gromacs index 0  \n"
     ]
    }
   ],
   "source": [
    "for atk,at in oplsaa.angletypes.iteritems():\n",
    "    print atk,at"
   ]
  },
  {
   "cell_type": "markdown",
   "metadata": {},
   "source": [
    "Note: The inter-ring torsional is not consider as a seperate set of parameters for the simplicity of this example"
   ]
  },
  {
   "cell_type": "code",
   "execution_count": 172,
   "metadata": {
    "collapsed": true
   },
   "outputs": [],
   "source": [
    "dih_i = dihtype.Dihtype('HC','CT','CT','CA',unit_conf=oplsaa.unit_conf)\n",
    "dih_i.type ='opls'\n",
    "dih_i.setopls(0.0,-0.0,0.1,0.0)\n",
    "oplsaa.add_dihtype(dih_i)"
   ]
  },
  {
   "cell_type": "code",
   "execution_count": 173,
   "metadata": {
    "collapsed": true
   },
   "outputs": [],
   "source": [
    "dih_i = dihtype.Dihtype('CT','CT','CT','CA',unit_conf=oplsaa.unit_conf)\n",
    "dih_i.type ='opls'\n",
    "dih_i.setopls(0.433341,-0.016667,0.066668,0.0)\n",
    "oplsaa.add_dihtype(dih_i)"
   ]
  },
  {
   "cell_type": "code",
   "execution_count": 174,
   "metadata": {
    "collapsed": true
   },
   "outputs": [],
   "source": [
    "dih_i = dihtype.Dihtype('HC','CT','CA','CA',unit_conf=oplsaa.unit_conf)\n",
    "dih_i.type ='opls'\n",
    "dih_i.setopls(0.0,-0.0,0.1,0.0)\n",
    "oplsaa.add_dihtype(dih_i)"
   ]
  },
  {
   "cell_type": "code",
   "execution_count": 175,
   "metadata": {
    "collapsed": true
   },
   "outputs": [],
   "source": [
    "dih_i = dihtype.Dihtype('CT','CT','CA','CA',unit_conf=oplsaa.unit_conf)\n",
    "dih_i.type ='opls'\n",
    "dih_i.setopls(0.0,-0.0,0.0,0.0)\n",
    "oplsaa.add_dihtype(dih_i)"
   ]
  },
  {
   "cell_type": "code",
   "execution_count": 176,
   "metadata": {},
   "outputs": [
    {
     "name": "stdout",
     "output_type": "stream",
     "text": [
      "0  dihedral  HC - CT - CT - HC type opls \n",
      "  k1 = 0.000000 k2 = 0.000000 k3 = 0.300000 k4 = 0.000000 lammps index 0  gromcas index 0 \n",
      "1  dihedral  X - CA - CA - X type opls \n",
      "  k1 = 0.000000 k2 = 1.812532 k3 = 0.000000 k4 = 0.000000 lammps index 0  gromcas index 0 \n",
      "2  dihedral  X - S - CA - X type opls \n",
      "  k1 = 0.000000 k2 = 2.416710 k3 = 0.000000 k4 = 0.000000 lammps index 0  gromcas index 0 \n",
      "3  dihedral  S - CA - CA - HA type opls \n",
      "  k1 = 0.000000 k2 = 1.812532 k3 = 0.000000 k4 = 0.000000 lammps index 0  gromcas index 0 \n",
      "4  dihedral  CT - CT - CT - CT type opls \n",
      "  k1 = 0.433341 k2 = -0.016667 k3 = 0.066668 k4 = 0.000000 lammps index 0  gromcas index 0 \n",
      "5  dihedral  HC - CT - CT - CT type opls \n",
      "  k1 = 0.000000 k2 = -0.000000 k3 = 0.100000 k4 = 0.000000 lammps index 0  gromcas index 0 \n",
      "6  dihedral  HC - CT - CT - HC type opls \n",
      "  k1 = 0.000000 k2 = -0.000000 k3 = 0.100000 k4 = 0.000000 lammps index 0  gromcas index 0 \n",
      "7  dihedral  HC - CT - CT - CA type opls \n",
      "  k1 = 0.000000 k2 = -0.000000 k3 = 0.100000 k4 = 0.000000 lammps index 0  gromcas index 0 \n",
      "8  dihedral  CT - CT - CT - CA type opls \n",
      "  k1 = 0.433341 k2 = -0.016667 k3 = 0.066668 k4 = 0.000000 lammps index 0  gromcas index 0 \n",
      "9  dihedral  HC - CT - CA - CA type opls \n",
      "  k1 = 0.000000 k2 = -0.000000 k3 = 0.100000 k4 = 0.000000 lammps index 0  gromcas index 0 \n",
      "10  dihedral  CT - CT - CA - CA type opls \n",
      "  k1 = 0.000000 k2 = -0.000000 k3 = 0.000000 k4 = 0.000000 lammps index 0  gromcas index 0 \n"
     ]
    }
   ],
   "source": [
    "for dk,d in oplsaa.dihtypes.iteritems():\n",
    "    print dk,d "
   ]
  },
  {
   "cell_type": "markdown",
   "metadata": {},
   "source": [
    "Run a oplsaa minimization to get the minimized structure"
   ]
  },
  {
   "cell_type": "code",
   "execution_count": 177,
   "metadata": {
    "collapsed": true
   },
   "outputs": [],
   "source": [
    "p3ht_et = lmp_run(p3ht_et,ht,oplsaa,res_calc)"
   ]
  },
  {
   "cell_type": "code",
   "execution_count": 178,
   "metadata": {},
   "outputs": [
    {
     "name": "stdout",
     "output_type": "stream",
     "text": [
      "Calculation nw_opt_thiophene_calc_0 has status stored\n",
      "Calculation lmp_min_hexane_HFesp_calc_5 has status stored\n",
      "Calculation nw_opt_hexane_calc_3 has status stored\n",
      "Calculation nw_esp_hexane_calc_4 has status stored\n",
      "Calculation nw_esp_thiophene_calc_1 has status stored\n",
      "Calculation lmp_min_3-hexyl-thiophene_calc_6 has status finished\n",
      "Calculation lmp_min_thiophene_HFesp_calc_2 has status stored\n"
     ]
    }
   ],
   "source": [
    "p3ht_et.check()"
   ]
  },
  {
   "cell_type": "code",
   "execution_count": 179,
   "metadata": {
    "collapsed": true
   },
   "outputs": [],
   "source": [
    "lmp_i = p3ht_et.calculations['lmp_min_3-hexyl-thiophene_calc_6']"
   ]
  },
  {
   "cell_type": "code",
   "execution_count": null,
   "metadata": {
    "collapsed": true
   },
   "outputs": [],
   "source": [
    "os.chdir(lmp_i.dir['launch'])"
   ]
  },
  {
   "cell_type": "code",
   "execution_count": 180,
   "metadata": {
    "collapsed": true
   },
   "outputs": [],
   "source": [
    "while( lmp_i.meta['status'] != 'finished'):\n",
    "    lmp_i.check()\n",
    "    time.sleep(status_refresh)"
   ]
  },
  {
   "cell_type": "code",
   "execution_count": 181,
   "metadata": {
    "collapsed": true
   },
   "outputs": [],
   "source": [
    "lmp_i.analysis()"
   ]
  },
  {
   "cell_type": "code",
   "execution_count": null,
   "metadata": {
    "collapsed": true
   },
   "outputs": [],
   "source": [
    "run_i= lmp_i.run_list[0]\n",
    "print run_i.timeseries['toteng']"
   ]
  },
  {
   "cell_type": "markdown",
   "metadata": {},
   "source": [
    "Energy decreased and nothing exploded so that's good"
   ]
  },
  {
   "cell_type": "code",
   "execution_count": 182,
   "metadata": {
    "collapsed": true
   },
   "outputs": [],
   "source": [
    "lmp_i.store()"
   ]
  },
  {
   "cell_type": "markdown",
   "metadata": {},
   "source": [
    "Read in data file positions"
   ]
  },
  {
   "cell_type": "code",
   "execution_count": 183,
   "metadata": {
    "collapsed": true
   },
   "outputs": [],
   "source": [
    "lmp_i.pull()"
   ]
  },
  {
   "cell_type": "markdown",
   "metadata": {},
   "source": [
    "Read in data file output and update positions"
   ]
  },
  {
   "cell_type": "code",
   "execution_count": 185,
   "metadata": {},
   "outputs": [
    {
     "name": "stdout",
     "output_type": "stream",
     "text": [
      "min1.data\n"
     ]
    }
   ],
   "source": [
    "datafn = lmp_i.files['output']['data_1']\n",
    "print datafn"
   ]
  },
  {
   "cell_type": "code",
   "execution_count": 186,
   "metadata": {
    "collapsed": true
   },
   "outputs": [],
   "source": [
    "lmp_i.read_data_pos(datafn)"
   ]
  },
  {
   "cell_type": "code",
   "execution_count": 187,
   "metadata": {},
   "outputs": [
    {
     "name": "stdout",
     "output_type": "stream",
     "text": [
      "[[ 100.    0.    0.]\n",
      " [   0.  100.    0.]\n",
      " [   0.    0.  100.]]\n"
     ]
    }
   ],
   "source": [
    "print lmp_i.strucC.lat.matrix"
   ]
  },
  {
   "cell_type": "markdown",
   "metadata": {},
   "source": [
    "We will use the oplsaa optimized structure as the initial structure since we will be running MD "
   ]
  },
  {
   "cell_type": "code",
   "execution_count": 188,
   "metadata": {
    "collapsed": true
   },
   "outputs": [],
   "source": [
    "ht.tag += '_oplsaa'"
   ]
  },
  {
   "cell_type": "code",
   "execution_count": 189,
   "metadata": {},
   "outputs": [
    {
     "name": "stdout",
     "output_type": "stream",
     "text": [
      "0 C [  8.60530755e-01   1.19193676e+00  -4.18896381e-04]\n",
      "1 C [ 0.14330814 -0.00736467 -0.00018564]\n",
      "2 C [  9.53877104e-01  -1.14154805e+00  -6.32946172e-05]\n",
      "3 C [  2.31681355e+00  -8.43509138e-01  -3.98566621e-04]\n",
      "4 S [  2.55160893e+00   8.62782464e-01  -4.29653572e-04]\n",
      "5 H [  4.24083199e-01   2.18053594e+00   8.41180596e-05]\n",
      "6 H [  5.89745801e-01  -2.15875089e+00   1.01099108e-03]\n",
      "7 H [  3.10742215e+00  -1.58011438e+00   1.89221582e-04]\n",
      "8 C [ -1.37154265e+00  -5.19160898e-02  -1.10932426e-05]\n",
      "9 H [-1.73011722  0.46083864  0.88046981]\n",
      "10 H [-1.7303469   0.46083007 -0.8804088 ]\n",
      "11 C [ -1.93960323e+00  -1.47286272e+00   8.35356210e-06]\n",
      "12 H [-1.59852359 -1.98575688  0.88743274]\n",
      "13 H [-1.5987693  -1.9856589  -0.88756433]\n",
      "14 C [ -3.46488220e+00  -1.45705501e+00   1.26953423e-04]\n",
      "15 H [-3.82255299 -0.96015256  0.89009372]\n",
      "16 H [-3.82257679 -0.95964691 -0.889553  ]\n",
      "17 C [ -3.92813614e+00  -2.91464317e+00  -2.57865878e-04]\n",
      "18 H [-3.55625227 -3.40825355  0.88557985]\n",
      "19 H [-3.55702548 -3.40745522 -0.88686696]\n",
      "20 C [ -5.45353684e+00  -2.95922719e+00   4.77495338e-04]\n",
      "21 H [-5.82311965 -2.46828882  0.88818744]\n",
      "22 H [-5.82396248 -2.46796198 -0.8866986 ]\n",
      "23 C [ -5.91198832e+00  -4.41822619e+00   3.88826625e-04]\n",
      "24 H [-5.53099405 -4.90756878  0.8844164 ]\n",
      "25 H [ -6.99110656e+00  -4.44420227e+00   9.59512724e-04]\n",
      "26 H [-5.53189397 -4.90706652 -0.88429772]\n"
     ]
    }
   ],
   "source": [
    "for pk,p in ht.particles.iteritems():\n",
    "    ht.positions[pk] = lmp_i.strucC.positions[pk]\n",
    "    print pk,p.symbol,ht.positions[pk]"
   ]
  },
  {
   "cell_type": "markdown",
   "metadata": {},
   "source": [
    "Save the Buildingblock and force-field"
   ]
  },
  {
   "cell_type": "code",
   "execution_count": 190,
   "metadata": {
    "collapsed": true
   },
   "outputs": [],
   "source": [
    "os.chdir(res_local.dir['materials']) \n",
    "ht.write_xyz()\n",
    "ht_json = ht.export_json() \n",
    "ht_json = oplsaa.export_json()"
   ]
  },
  {
   "cell_type": "markdown",
   "metadata": {},
   "source": [
    "Okay we have the monomer, so let's make a pentamer "
   ]
  },
  {
   "cell_type": "code",
   "execution_count": 191,
   "metadata": {
    "collapsed": true
   },
   "outputs": [],
   "source": [
    "penta_ht = copy.deepcopy(ht)"
   ]
  },
  {
   "cell_type": "code",
   "execution_count": 192,
   "metadata": {
    "collapsed": true
   },
   "outputs": [],
   "source": [
    "# We could use prepattach to change the tacticity \n",
    "# penta_ht = ht.prepattach('termcap',0,dir=-1,yangle=180.0)\n",
    "# See buildingblock example "
   ]
  },
  {
   "cell_type": "code",
   "execution_count": 193,
   "metadata": {
    "collapsed": true
   },
   "outputs": [],
   "source": [
    "for n in range(4):\n",
    "    penta_ht = bb.attach(penta_ht,ht,'termcap',1,'termcap',0,tag='penta_3-hexyl-thiophene')"
   ]
  },
  {
   "cell_type": "markdown",
   "metadata": {},
   "source": [
    "Check the charges of the removed hydrogens got summed onto the functionalized carbons correctly"
   ]
  },
  {
   "cell_type": "code",
   "execution_count": 194,
   "metadata": {},
   "outputs": [
    {
     "data": {
      "text/plain": [
       "4.423544863740858e-16"
      ]
     },
     "execution_count": 194,
     "metadata": {},
     "output_type": "execute_result"
    }
   ],
   "source": [
    "penta_ht.calc_charge()\n",
    "penta_ht.charge"
   ]
  },
  {
   "cell_type": "code",
   "execution_count": 195,
   "metadata": {
    "collapsed": true
   },
   "outputs": [],
   "source": [
    "penta_ht.write_xyz()"
   ]
  },
  {
   "cell_type": "markdown",
   "metadata": {},
   "source": [
    "Well it's cis, but we can run some high temperature MD to randomize that "
   ]
  },
  {
   "cell_type": "markdown",
   "metadata": {},
   "source": [
    "Update bond angles and dihedrals after Buildingblock join"
   ]
  },
  {
   "cell_type": "code",
   "execution_count": 196,
   "metadata": {
    "collapsed": true
   },
   "outputs": [],
   "source": [
    "penta_ht.bonded_bonds()\n",
    "penta_ht.bonded_angles()\n",
    "penta_ht.bonded_dih()"
   ]
  },
  {
   "cell_type": "code",
   "execution_count": 197,
   "metadata": {},
   "outputs": [
    {
     "name": "stdout",
     "output_type": "stream",
     "text": [
      " n_particles:127 \n",
      " n_bonds:131\n",
      " n_angles:245\n",
      " n_dihedrals:351\n",
      " n_impropers:0\n"
     ]
    }
   ],
   "source": [
    "print penta_ht.print_properties()"
   ]
  },
  {
   "cell_type": "markdown",
   "metadata": {},
   "source": [
    "Run a oplsaa minimization to get the minimized structure"
   ]
  },
  {
   "cell_type": "code",
   "execution_count": 198,
   "metadata": {
    "collapsed": true
   },
   "outputs": [],
   "source": [
    "p3ht_et = lmp_run(p3ht_et,penta_ht,oplsaa,res_calc)"
   ]
  },
  {
   "cell_type": "code",
   "execution_count": 199,
   "metadata": {},
   "outputs": [
    {
     "name": "stdout",
     "output_type": "stream",
     "text": [
      "Calculation nw_opt_thiophene_calc_0 has status stored\n",
      "Calculation lmp_min_hexane_HFesp_calc_5 has status stored\n",
      "Calculation nw_opt_hexane_calc_3 has status stored\n",
      "Calculation nw_esp_hexane_calc_4 has status stored\n",
      "Calculation nw_esp_thiophene_calc_1 has status stored\n",
      "Calculation lmp_min_3-hexyl-thiophene_calc_6 has status stored\n",
      "Calculation lmp_min_thiophene_HFesp_calc_2 has status stored\n",
      "Calculation lmp_min_penta_3-hexyl-thiophene_calc_7 has status finished\n"
     ]
    }
   ],
   "source": [
    "p3ht_et.check()"
   ]
  },
  {
   "cell_type": "code",
   "execution_count": 200,
   "metadata": {
    "collapsed": true
   },
   "outputs": [],
   "source": [
    "lmp_i = p3ht_et.calculations['lmp_min_penta_3-hexyl-thiophene_calc_7']"
   ]
  },
  {
   "cell_type": "code",
   "execution_count": null,
   "metadata": {
    "collapsed": true
   },
   "outputs": [],
   "source": [
    "os.chdir(lmp_i.dir['launch'])"
   ]
  },
  {
   "cell_type": "code",
   "execution_count": 201,
   "metadata": {
    "collapsed": true
   },
   "outputs": [],
   "source": [
    "while( lmp_i.meta['status'] != 'finished'):\n",
    "    lmp_i.check()\n",
    "    time.sleep(status_refresh)"
   ]
  },
  {
   "cell_type": "code",
   "execution_count": 202,
   "metadata": {
    "collapsed": true
   },
   "outputs": [],
   "source": [
    "lmp_i.analysis()"
   ]
  },
  {
   "cell_type": "code",
   "execution_count": null,
   "metadata": {
    "collapsed": true
   },
   "outputs": [],
   "source": [
    "run_i= lmp_i.run_list[0]\n",
    "print run_i.timeseries['toteng']"
   ]
  },
  {
   "cell_type": "markdown",
   "metadata": {},
   "source": [
    "Energy decreased and nothing exploded so that's good"
   ]
  },
  {
   "cell_type": "code",
   "execution_count": 203,
   "metadata": {
    "collapsed": true
   },
   "outputs": [],
   "source": [
    "lmp_i.store()"
   ]
  },
  {
   "cell_type": "markdown",
   "metadata": {},
   "source": [
    "Read in data file positions"
   ]
  },
  {
   "cell_type": "code",
   "execution_count": 204,
   "metadata": {
    "collapsed": true
   },
   "outputs": [],
   "source": [
    "lmp_i.pull()"
   ]
  },
  {
   "cell_type": "markdown",
   "metadata": {},
   "source": [
    "Read in data file output and update positions"
   ]
  },
  {
   "cell_type": "code",
   "execution_count": 206,
   "metadata": {},
   "outputs": [
    {
     "name": "stdout",
     "output_type": "stream",
     "text": [
      "min1.data\n"
     ]
    }
   ],
   "source": [
    "datafn = lmp_i.files['output']['data_1']\n",
    "print datafn"
   ]
  },
  {
   "cell_type": "code",
   "execution_count": 207,
   "metadata": {
    "collapsed": true
   },
   "outputs": [],
   "source": [
    "lmp_i.read_data_pos(datafn)"
   ]
  },
  {
   "cell_type": "code",
   "execution_count": 208,
   "metadata": {
    "scrolled": true
   },
   "outputs": [
    {
     "name": "stdout",
     "output_type": "stream",
     "text": [
      "[[ 100.    0.    0.]\n",
      " [   0.  100.    0.]\n",
      " [   0.    0.  100.]]\n"
     ]
    }
   ],
   "source": [
    "print lmp_i.strucC.lat.matrix"
   ]
  },
  {
   "cell_type": "code",
   "execution_count": 209,
   "metadata": {
    "collapsed": true
   },
   "outputs": [],
   "source": [
    "lmp_i.strucC.write_xyz()"
   ]
  },
  {
   "cell_type": "markdown",
   "metadata": {},
   "source": [
    "We will use the oplsaa optimized structure as the initial structure since we will be running MD "
   ]
  },
  {
   "cell_type": "code",
   "execution_count": 210,
   "metadata": {
    "collapsed": true
   },
   "outputs": [],
   "source": [
    "penta_ht.tag += '_oplsaa'"
   ]
  },
  {
   "cell_type": "code",
   "execution_count": 211,
   "metadata": {},
   "outputs": [
    {
     "name": "stdout",
     "output_type": "stream",
     "text": [
      "0 C [ 8.8068713  -9.43312447  0.02955047]\n",
      "1 C [ 10.0246084   -8.73928163   0.03220918]\n",
      "2 C [ 9.85356803 -7.37406608  0.02776234]\n",
      "3 C [ 8.53134398 -6.95856212  0.02149566]\n",
      "4 S [ 7.47026366 -8.31046634  0.02200953]\n",
      "5 H [  8.71380052 -10.50959307   0.03259452]\n",
      "6 H [ 10.68718667  -6.71632516   0.03144863]\n",
      "7 C [ 11.42120978  -9.34372927   0.04008439]\n",
      "8 H [ 11.53211587  -9.95203162   0.92474282]\n",
      "9 H [ 11.53995928  -9.95683696  -0.8402295 ]\n",
      "10 C [ 12.54618948  -8.28256818   0.04213553]\n",
      "11 H [ 12.44923192  -7.66640322   0.92511875]\n",
      "12 H [ 12.45683497  -7.67107121  -0.84488751]\n",
      "13 C [ 13.93966665  -8.90258669   0.04968481]\n",
      "14 H [ 14.04993071  -9.50128872   0.94055172]\n",
      "15 H [ 14.05716449  -9.50636999  -0.83681908]\n",
      "16 C [ 14.99934366  -7.79036516   0.05083617]\n",
      "17 H [ 14.88490142  -7.17897565   0.93427585]\n",
      "18 H [ 14.89251379  -7.18452557  -0.83736911]\n",
      "19 C [ 16.3920777   -8.42458464   0.05887459]\n",
      "20 H [ 16.50400204  -9.02779882   0.94751954]\n",
      "21 H [ 16.51189597  -9.0328566   -0.82528066]\n",
      "22 C [ 17.45871274  -7.32649845   0.0604465 ]\n",
      "23 H [ 17.33607051  -6.71606565   0.94263059]\n",
      "24 H [ 18.43556569  -7.78698038   0.06597033]\n",
      "25 H [ 17.34367363  -6.72106383  -0.82618849]\n",
      "26 C [ 8.08453897 -5.62384039  0.01882812]\n",
      "27 C [ 8.88671594 -4.47398942  0.01906492]\n",
      "28 C [ 8.1351367  -3.33494937  0.01502833]\n",
      "29 C [ 6.76145649 -3.53062401  0.01179615]\n",
      "30 S [ 6.38473388 -5.22252999  0.01284423]\n",
      "31 H [ 8.63509032 -2.40350758  0.01838125]\n",
      "32 C [ 10.40297044  -4.36889708   0.02562523]\n",
      "33 H [ 10.77411802  -4.84542833   0.9204113 ]\n",
      "34 H [ 10.78193206  -4.84841554  -0.8642771 ]\n",
      "35 C [ 10.99018645  -2.96121691   0.02600346]\n",
      "36 H [ 10.67858221  -2.43556826   0.91703269]\n",
      "37 H [ 10.68555446  -2.43791174  -0.86881198]\n",
      "38 C [ 12.50381636  -3.10587921   0.0320733 ]\n",
      "39 H [ 12.80736088  -3.63429926   0.9234256 ]\n",
      "40 H [ 12.81404964  -3.63684142  -0.85545224]\n",
      "41 C [ 13.10069527  -1.7035511    0.03233635]\n",
      "42 H [ 12.77254824  -1.17837206   0.91694702]\n",
      "43 H [ 12.77970317  -1.18119566  -0.85656253]\n",
      "44 C [ 14.62266311  -1.79779609   0.03869952]\n",
      "45 H [ 14.95031365  -2.31326475   0.92941119]\n",
      "46 H [ 14.95756777  -2.31553471  -0.8479916 ]\n",
      "47 C [ 15.16792447  -0.37116781   0.03906247]\n",
      "48 H [ 14.80900843   0.13861138   0.92057364]\n",
      "49 H [ 16.24616321  -0.40492948   0.04335902]\n",
      "50 H [ 14.81593802   0.1363142   -0.84655326]\n",
      "51 C [ 5.80866386 -2.49004134  0.00842008]\n",
      "52 C [ 6.09092264 -1.11423188  0.00772502]\n",
      "53 C [  4.95473551e+00  -3.61829184e-01   4.94261867e-03]\n",
      "54 C [ 3.76512881 -1.07487102  0.00382294]\n",
      "55 S [ 4.0842233  -2.78371738  0.00547728]\n",
      "56 H [ 5.062103    0.68921437  0.00764754]\n",
      "57 C [ 7.44099073 -0.41255575  0.01220307]\n",
      "58 H [ 7.96634976 -0.70322637  0.90950136]\n",
      "59 H [ 7.97266837 -0.70417592 -0.88105897]\n",
      "60 C [ 7.45045184  1.11061142  0.01167848]\n",
      "61 H [ 6.96307441  1.47627544  0.90327981]\n",
      "62 H [ 6.96807457  1.47575688 -0.88285267]\n",
      "63 C [ 8.90925211  1.55370031  0.01562664]\n",
      "64 H [ 9.39615547  1.18346675  0.9057501 ]\n",
      "65 H [ 9.40095946  1.18275462 -0.87154774]\n",
      "66 C [ 8.92298932  3.07807102  0.01508792]\n",
      "67 H [ 8.41747014  3.43501635  0.89991735]\n",
      "68 H [ 8.42277428  3.4342394  -0.87306458]\n",
      "69 C [ 10.36077414   3.58871292   0.01924469]\n",
      "70 H [ 10.86620881   3.24448636   0.90949644]\n",
      "71 H [ 10.87140041   3.24422495  -0.8679418 ]\n",
      "72 C [ 10.30186314   5.11547851   0.01880973]\n",
      "73 H [ 9.7728115   5.44421853  0.90073592]\n",
      "74 H [ 11.30647801   5.50857279   0.02152407]\n",
      "75 H [ 9.77769877  5.44381136 -0.86617551]\n",
      "76 C [  2.48382364e+00  -4.77639454e-01   1.85457596e-03]\n",
      "77 C [  2.20905317e+00   9.01790502e-01   8.74254709e-04]\n",
      "78 C [  8.67928019e-01   1.17085107e+00  -1.24767506e-04]\n",
      "79 C [  5.57251177e-02   4.79801272e-02   4.30174967e-05]\n",
      "80 S [  1.00928925e+00  -1.40720728e+00   1.29119312e-03]\n",
      "81 H [  5.37505091e-01   2.17992526e+00   1.95384518e-03]\n",
      "82 C [ 3.19322745  2.05626986  0.00324046]\n",
      "83 H [ 3.78771467  1.98545483  0.90201422]\n",
      "84 H [ 3.79141116  1.98593658 -0.89312282]\n",
      "85 C [  2.62026505e+00   3.46210663e+00   2.70729829e-03]\n",
      "86 H [ 2.03282255  3.61092689  0.8962119 ]\n",
      "87 H [ 2.035216    3.61136989 -0.89229653]\n",
      "88 C [ 3.7963462   4.43004004  0.00451569]\n",
      "89 H [ 4.38949577  4.27905511  0.8945479 ]\n",
      "90 H [ 4.39179828  4.27925819 -0.88400643]\n",
      "91 C [  3.20688458e+00   5.83469254e+00   3.95250647e-03]\n",
      "92 H [ 2.60248436  5.96296619  0.88946193]\n",
      "93 H [ 2.60527939  5.96332065 -0.88340893]\n",
      "94 C [  4.32657735e+00   6.86926305e+00   6.00895165e-03]\n",
      "95 H [ 4.92731231  6.75155699  0.89569618]\n",
      "96 H [ 4.92980757  6.75233702 -0.88209516]\n",
      "97 C [  3.67060876e+00   8.24877681e+00   5.65996083e-03]\n",
      "98 H [ 3.05596484  8.342851    0.88834218]\n",
      "99 H [  4.43928347e+00   9.00554882e+00   6.91020086e-03]\n",
      "100 H [ 3.05824598  8.34339236 -0.87854332]\n",
      "101 C [ -1.35549221e+00   5.63545462e-02  -1.51599870e-04]\n",
      "102 C [ -2.23437253e+00   1.15528753e+00   4.39050313e-04]\n",
      "103 C [ -3.56875060e+00   7.70001044e-01   1.88474668e-03]\n",
      "104 C [ -3.73923902e+00  -6.17869991e-01   1.98046120e-03]\n",
      "105 S [ -2.21071466e+00  -1.43084717e+00   1.16842536e-03]\n",
      "106 H [ -4.39260028e+00   1.46762037e+00   3.89290965e-03]\n",
      "107 H [ -4.70314886e+00  -1.10571640e+00   3.72215113e-03]\n",
      "108 C [ -1.79455681e+00   2.60857218e+00   8.08519129e-04]\n",
      "109 H [-1.20863004  2.77138407  0.89336014]\n",
      "110 H [-1.20822282  2.77173526 -0.891424  ]\n",
      "111 C [ -2.84795782e+00   3.69804032e+00   9.64539178e-04]\n",
      "112 H [-3.44623992  3.6251206   0.89605691]\n",
      "113 H [-3.44650587  3.62530402 -0.89397067]\n",
      "114 C [ -2.08852766e+00   5.02761933e+00   9.22083851e-04]\n",
      "115 H [-1.47741074  5.10500923  0.88899053]\n",
      "116 H [-1.47780336  5.1049454  -0.88742079]\n",
      "117 C [ -3.14587794e+00   6.12323533e+00   1.16445180e-03]\n",
      "118 H [-3.7532089   6.01574429  0.88687621]\n",
      "119 H [-3.75313004  6.01609933 -0.88464836]\n",
      "120 C [ -2.50873017e+00   7.50932074e+00   1.57204030e-03]\n",
      "121 H [-1.90927812  7.63659066  0.89099824]\n",
      "122 H [-1.90967421  7.63726671 -0.88802836]\n",
      "123 C [ -3.65419640e+00   8.52166949e+00   2.18132379e-03]\n",
      "124 H [-4.25589789  8.36686561  0.88557666]\n",
      "125 H [ -3.24632890e+00   9.52043002e+00   2.28994285e-03]\n",
      "126 H [-4.25641071  8.36721372 -0.88092037]\n"
     ]
    }
   ],
   "source": [
    "for pk,p in penta_ht.particles.iteritems():\n",
    "    penta_ht.positions[pk] = lmp_i.strucC.positions[pk]\n",
    "    print pk,p.symbol,penta_ht.positions[pk]"
   ]
  },
  {
   "cell_type": "markdown",
   "metadata": {},
   "source": [
    "Save the Buildingblock and force-field"
   ]
  },
  {
   "cell_type": "code",
   "execution_count": 212,
   "metadata": {
    "collapsed": true
   },
   "outputs": [],
   "source": [
    "oplsaa.tag += '_p3ht'"
   ]
  },
  {
   "cell_type": "code",
   "execution_count": 213,
   "metadata": {
    "collapsed": true
   },
   "outputs": [],
   "source": [
    "os.chdir(res_local.dir['materials']) \n",
    "penta_ht.write_xyz()\n",
    "penta_ht_json = penta_ht.export_json() \n",
    "oplsaa_json = oplsaa.export_json()"
   ]
  },
  {
   "cell_type": "markdown",
   "metadata": {},
   "source": [
    "Cool let's run some MD"
   ]
  },
  {
   "cell_type": "code",
   "execution_count": 214,
   "metadata": {
    "collapsed": true
   },
   "outputs": [],
   "source": [
    "p3ht_et = lmp_run(p3ht_et,penta_ht,oplsaa,res_calc,md_type='nvt')"
   ]
  },
  {
   "cell_type": "code",
   "execution_count": 215,
   "metadata": {},
   "outputs": [
    {
     "name": "stdout",
     "output_type": "stream",
     "text": [
      "Calculation nw_opt_thiophene_calc_0 has status stored\n",
      "Calculation lmp_min_hexane_HFesp_calc_5 has status stored\n",
      "Calculation nw_opt_hexane_calc_3 has status stored\n",
      "Calculation nw_esp_hexane_calc_4 has status stored\n",
      "Calculation nw_esp_thiophene_calc_1 has status stored\n",
      "Calculation lmp_min_3-hexyl-thiophene_calc_6 has status stored\n",
      "Calculation lmp_min_thiophene_HFesp_calc_2 has status stored\n",
      "Calculation lmp_nvt_penta_3-hexyl-thiophene_oplsaa_calc_8 has status finished\n",
      "Calculation lmp_min_penta_3-hexyl-thiophene_calc_7 has status stored\n"
     ]
    }
   ],
   "source": [
    "p3ht_et.check()"
   ]
  },
  {
   "cell_type": "code",
   "execution_count": 216,
   "metadata": {
    "collapsed": true
   },
   "outputs": [],
   "source": [
    "lmp_i = p3ht_et.calculations['lmp_nvt_penta_3-hexyl-thiophene_oplsaa_calc_8']"
   ]
  },
  {
   "cell_type": "code",
   "execution_count": null,
   "metadata": {
    "collapsed": true
   },
   "outputs": [],
   "source": [
    "os.chdir(lmp_i.dir['launch'])"
   ]
  },
  {
   "cell_type": "code",
   "execution_count": 217,
   "metadata": {
    "collapsed": true
   },
   "outputs": [],
   "source": [
    "while( lmp_i.meta['status'] != 'finished'):\n",
    "    lmp_i.check()\n",
    "    time.sleep(status_refresh)"
   ]
  },
  {
   "cell_type": "code",
   "execution_count": 218,
   "metadata": {
    "collapsed": true,
    "scrolled": true
   },
   "outputs": [],
   "source": [
    "lmp_i.analysis()"
   ]
  },
  {
   "cell_type": "code",
   "execution_count": null,
   "metadata": {
    "collapsed": true
   },
   "outputs": [],
   "source": [
    "run_i= lmp_i.run_list[0]\n",
    "print run_i.timeseries['toteng']"
   ]
  },
  {
   "cell_type": "code",
   "execution_count": 219,
   "metadata": {
    "collapsed": true
   },
   "outputs": [],
   "source": [
    "lmp_i.store()"
   ]
  },
  {
   "cell_type": "markdown",
   "metadata": {},
   "source": [
    "Read in data file positions"
   ]
  },
  {
   "cell_type": "code",
   "execution_count": 220,
   "metadata": {
    "collapsed": true
   },
   "outputs": [],
   "source": [
    "lmp_i.pull()"
   ]
  },
  {
   "cell_type": "markdown",
   "metadata": {},
   "source": [
    "Read in data file output and update positions"
   ]
  },
  {
   "cell_type": "code",
   "execution_count": 222,
   "metadata": {},
   "outputs": [
    {
     "name": "stdout",
     "output_type": "stream",
     "text": [
      "min2.data\n"
     ]
    }
   ],
   "source": [
    "datafn = lmp_i.files['output']['data_3']\n",
    "print datafn"
   ]
  },
  {
   "cell_type": "code",
   "execution_count": 223,
   "metadata": {
    "collapsed": true
   },
   "outputs": [],
   "source": [
    "lmp_i.read_data_pos(datafn)"
   ]
  },
  {
   "cell_type": "code",
   "execution_count": 224,
   "metadata": {
    "scrolled": true
   },
   "outputs": [
    {
     "name": "stdout",
     "output_type": "stream",
     "text": [
      "[[ 100.    0.    0.]\n",
      " [   0.  100.    0.]\n",
      " [   0.    0.  100.]]\n"
     ]
    }
   ],
   "source": [
    "print lmp_i.strucC.lat.matrix"
   ]
  },
  {
   "cell_type": "code",
   "execution_count": 225,
   "metadata": {
    "collapsed": true
   },
   "outputs": [],
   "source": [
    "lmp_i.strucC.write_xyz()"
   ]
  },
  {
   "cell_type": "markdown",
   "metadata": {
    "collapsed": true
   },
   "source": [
    "Awesome! We have a randomized pentamer, so let's save that as new Buildingblock"
   ]
  },
  {
   "cell_type": "code",
   "execution_count": 226,
   "metadata": {
    "collapsed": true
   },
   "outputs": [],
   "source": [
    "bbPHTh_1 = copy.deepcopy(lmp_i.strucC)"
   ]
  },
  {
   "cell_type": "code",
   "execution_count": 227,
   "metadata": {},
   "outputs": [
    {
     "name": "stdout",
     "output_type": "stream",
     "text": [
      " penta_3-hexyl-thiophene_oplsaa\n"
     ]
    }
   ],
   "source": [
    "print bbPHTh_1"
   ]
  },
  {
   "cell_type": "code",
   "execution_count": 228,
   "metadata": {},
   "outputs": [
    {
     "name": "stdout",
     "output_type": "stream",
     "text": [
      "127\n"
     ]
    }
   ],
   "source": [
    "print bbPHTh_1.n_particles"
   ]
  },
  {
   "cell_type": "code",
   "execution_count": null,
   "metadata": {
    "collapsed": true
   },
   "outputs": [],
   "source": [
    "os.chdir(p3ht_et.dir['home'])\n",
    "p3ht_et.export_json()"
   ]
  },
  {
   "cell_type": "code",
   "execution_count": 229,
   "metadata": {
    "collapsed": true
   },
   "outputs": [],
   "source": [
    "os.chdir(res_local.dir['materials']) \n",
    "bbPHTh_1.write_xyz()\n",
    "bbPHTh_1_json = bbPHTh_1.export_json() "
   ]
  },
  {
   "cell_type": "markdown",
   "metadata": {},
   "source": [
    "Now let's replicate the oligomer 50 times to create a low density system"
   ]
  },
  {
   "cell_type": "markdown",
   "metadata": {},
   "source": [
    "Increase the box size"
   ]
  },
  {
   "cell_type": "code",
   "execution_count": 2,
   "metadata": {},
   "outputs": [
    {
     "ename": "NameError",
     "evalue": "name 'streamm' is not defined",
     "output_type": "error",
     "traceback": [
      "\u001b[0;31m---------------------------------------------------------------------------\u001b[0m",
      "\u001b[0;31mNameError\u001b[0m                                 Traceback (most recent call last)",
      "\u001b[0;32m<ipython-input-2-13f32ff33b37>\u001b[0m in \u001b[0;36m<module>\u001b[0;34m()\u001b[0m\n\u001b[0;32m----> 1\u001b[0;31m \u001b[0mpHTh_x\u001b[0m \u001b[0;34m=\u001b[0m \u001b[0mstreamm\u001b[0m\u001b[0;34m.\u001b[0m\u001b[0mBuildingblock\u001b[0m\u001b[0;34m(\u001b[0m\u001b[0;34m)\u001b[0m\u001b[0;34m\u001b[0m\u001b[0m\n\u001b[0m",
      "\u001b[0;31mNameError\u001b[0m: name 'streamm' is not defined"
     ]
    }
   ],
   "source": [
    "pHTh_x = streamm.Buildingblock()"
   ]
  },
  {
   "cell_type": "code",
   "execution_count": 240,
   "metadata": {
    "collapsed": true
   },
   "outputs": [],
   "source": [
    "pHTh_x.tag = 'p3HTx50'"
   ]
  },
  {
   "cell_type": "code",
   "execution_count": 231,
   "metadata": {
    "collapsed": true
   },
   "outputs": [],
   "source": [
    "def replicate(pHTh_x,bbPHTh_1,res_local):\n",
    "    '''Replciate structure '''\n",
    "    pHTh_x.lat.matrix = [ 200.,0.,0., 0.,200.,0.,  0.,0.,200.]\n",
    "\n",
    "    pHTh_x.lat.pbcs = [False,False,False]\n",
    "\n",
    "    seed = 394572\n",
    "\n",
    "    # Randomly place oligomers into the simulation cell\n",
    "\n",
    "    pHTh_x = streamm.add_struc(pHTh_x,bbPHTh_1,50,seed)\n",
    "\n",
    "    pHTh_x.lat.pbcs = [True,True,True]\n",
    "\n",
    "    os.chdir(res_local.dir['materials']) \n",
    "    pHTh_x.write_xyz()\n",
    "    pHTh_json = pHTh_x.export_json() \n",
    "    \n",
    "    return pHTh_x"
   ]
  },
  {
   "cell_type": "code",
   "execution_count": null,
   "metadata": {
    "collapsed": true
   },
   "outputs": [],
   "source": [
    "need_files = ['p3HTx50_struc.json'']\n",
    "for f in need_files:\n",
    "    path = Path(f)\n",
    "    if not path.is_file():\n",
    "        print(\"Need to run replicate\")\n",
    "        pHTh_x = replicate(pHTh_x,bbPHTh_1,res_local)\n",
    "        \n"
   ]
  },
  {
   "cell_type": "code",
   "execution_count": 235,
   "metadata": {},
   "outputs": [
    {
     "name": "stdout",
     "output_type": "stream",
     "text": [
      "6350\n",
      "[[ 200.    0.    0.]\n",
      " [   0.  200.    0.]\n",
      " [   0.    0.  200.]]\n"
     ]
    }
   ],
   "source": [
    "print pHTh_x.n_particles\n",
    "print pHTh_x.lat.matrix"
   ]
  },
  {
   "cell_type": "markdown",
   "metadata": {},
   "source": [
    "Check grouping "
   ]
  },
  {
   "cell_type": "code",
   "execution_count": 237,
   "metadata": {
    "collapsed": true
   },
   "outputs": [],
   "source": [
    "groupset_i = streamm.Groups('mol',pHTh_x)\n",
    "groupset_i.group_prop('mol','oligomers')"
   ]
  },
  {
   "cell_type": "code",
   "execution_count": 238,
   "metadata": {},
   "outputs": [
    {
     "name": "stdout",
     "output_type": "stream",
     "text": [
      "50\n"
     ]
    }
   ],
   "source": [
    "print len(groupset_i.groups)"
   ]
  },
  {
   "cell_type": "code",
   "execution_count": 239,
   "metadata": {},
   "outputs": [
    {
     "data": {
      "text/plain": [
       "[True, True, True]"
      ]
     },
     "execution_count": 239,
     "metadata": {},
     "output_type": "execute_result"
    }
   ],
   "source": [
    "groupset_i.strucC.lat.pbcs"
   ]
  },
  {
   "cell_type": "markdown",
   "metadata": {},
   "source": [
    "Run a heat cool cycle with NPT to create a solid phase representation of p3HT"
   ]
  },
  {
   "cell_type": "code",
   "execution_count": 242,
   "metadata": {
    "collapsed": true
   },
   "outputs": [],
   "source": [
    "p3ht_et = lmp_run(p3ht_et,pHTh_x,oplsaa,res_calc,md_type = 'equ0')"
   ]
  },
  {
   "cell_type": "code",
   "execution_count": 243,
   "metadata": {},
   "outputs": [
    {
     "name": "stdout",
     "output_type": "stream",
     "text": [
      "Calculation nw_opt_thiophene_calc_0 has status stored\n",
      "Calculation lmp_min_hexane_HFesp_calc_5 has status stored\n",
      "Calculation nw_opt_hexane_calc_3 has status stored\n",
      "Calculation nw_esp_hexane_calc_4 has status stored\n",
      "Calculation nw_esp_thiophene_calc_1 has status stored\n",
      "Calculation lmp_min_3-hexyl-thiophene_calc_6 has status stored\n",
      "Calculation lmp_min_thiophene_HFesp_calc_2 has status stored\n",
      "Calculation lmp_nvt_penta_3-hexyl-thiophene_oplsaa_calc_8 has status stored\n",
      "Calculation lmp_min_penta_3-hexyl-thiophene_calc_7 has status stored\n",
      "Calculation lmp_equ0_p3HTx50_calc_9 has status written\n"
     ]
    }
   ],
   "source": [
    "p3ht_et.check()"
   ]
  },
  {
   "cell_type": "code",
   "execution_count": 244,
   "metadata": {
    "collapsed": true
   },
   "outputs": [],
   "source": [
    "lmp_i = p3ht_et.calculations['lmp_equ0_p3HTx50_calc_9']"
   ]
  },
  {
   "cell_type": "code",
   "execution_count": 245,
   "metadata": {},
   "outputs": [
    {
     "name": "stdout",
     "output_type": "stream",
     "text": [
      "lmp_equ0_p3HTx50_calc_9\n"
     ]
    }
   ],
   "source": [
    "os.chdir(lmp_i.dir['launch'])"
   ]
  },
  {
   "cell_type": "code",
   "execution_count": 247,
   "metadata": {},
   "outputs": [
    {
     "ename": "KeyboardInterrupt",
     "evalue": "",
     "output_type": "error",
     "traceback": [
      "\u001b[0;31m---------------------------------------------------------------------------\u001b[0m",
      "\u001b[0;31mKeyboardInterrupt\u001b[0m                         Traceback (most recent call last)",
      "\u001b[0;32m<ipython-input-247-8b8d93e86700>\u001b[0m in \u001b[0;36m<module>\u001b[0;34m()\u001b[0m\n\u001b[1;32m      1\u001b[0m \u001b[0;32mwhile\u001b[0m\u001b[0;34m(\u001b[0m \u001b[0mlmp_i\u001b[0m\u001b[0;34m.\u001b[0m\u001b[0mmeta\u001b[0m\u001b[0;34m[\u001b[0m\u001b[0;34m'status'\u001b[0m\u001b[0;34m]\u001b[0m \u001b[0;34m!=\u001b[0m \u001b[0;34m'finished'\u001b[0m\u001b[0;34m)\u001b[0m\u001b[0;34m:\u001b[0m\u001b[0;34m\u001b[0m\u001b[0m\n\u001b[1;32m      2\u001b[0m     \u001b[0mlmp_i\u001b[0m\u001b[0;34m.\u001b[0m\u001b[0mcheck\u001b[0m\u001b[0;34m(\u001b[0m\u001b[0;34m)\u001b[0m\u001b[0;34m\u001b[0m\u001b[0m\n\u001b[0;32m----> 3\u001b[0;31m     \u001b[0mtime\u001b[0m\u001b[0;34m.\u001b[0m\u001b[0msleep\u001b[0m\u001b[0;34m(\u001b[0m\u001b[0mstatus_refresh\u001b[0m\u001b[0;34m)\u001b[0m\u001b[0;34m\u001b[0m\u001b[0m\n\u001b[0m",
      "\u001b[0;31mKeyboardInterrupt\u001b[0m: "
     ]
    }
   ],
   "source": [
    "while( lmp_i.meta['status'] != 'finished'):\n",
    "    lmp_i.check()\n",
    "    time.sleep(status_refresh)"
   ]
  },
  {
   "cell_type": "code",
   "execution_count": 257,
   "metadata": {
    "collapsed": true
   },
   "outputs": [],
   "source": [
    "lmp_i.analysis()"
   ]
  },
  {
   "cell_type": "code",
   "execution_count": 258,
   "metadata": {},
   "outputs": [
    {
     "name": "stdout",
     "output_type": "stream",
     "text": [
      "3\n"
     ]
    }
   ],
   "source": [
    "print lmp_i.properties['run_cnt']"
   ]
  },
  {
   "cell_type": "markdown",
   "metadata": {},
   "source": [
    "Plot the time sereies data from the MD runs "
   ]
  },
  {
   "cell_type": "code",
   "execution_count": 259,
   "metadata": {
    "collapsed": true
   },
   "outputs": [],
   "source": [
    "def plot_mdrun(lmp_i):\n",
    "\n",
    "\n",
    "    fig, ax = plt.subplots(1,sharey=True)\n",
    "    ax2 = ax.twinx()\n",
    "\n",
    "    for run_i in lmp_i.run_list:\n",
    "        ax.plot(run_i.timeseries['step'],run_i.timeseries['volume'],'b.-')\n",
    "        ax2.plot(run_i.timeseries['step'],run_i.timeseries['temp'],'k.-')\n",
    "\n",
    "    ax.set_ylabel('volume', color='b')\n",
    "    ax2.set_ylabel('temp', color='k')\n",
    "    ax.set_xlabel('time (fs)', color='k')\n",
    "\n",
    "\n",
    "    fig.subplots_adjust(hspace=0.0)   \n",
    "    fig.set_size_inches(8.0, 12.0)\n",
    "\n",
    "    fig.savefig('{}.pdf'.format(lmp_i.tag),format='pdf')\n",
    "\n"
   ]
  },
  {
   "cell_type": "code",
   "execution_count": 260,
   "metadata": {},
   "outputs": [
    {
     "name": "stdout",
     "output_type": "stream",
     "text": [
      "[]\n"
     ]
    },
    {
     "ename": "KeyError",
     "evalue": "'step'",
     "output_type": "error",
     "traceback": [
      "\u001b[0;31m---------------------------------------------------------------------------\u001b[0m",
      "\u001b[0;31mKeyError\u001b[0m                                  Traceback (most recent call last)",
      "\u001b[0;32m<ipython-input-260-678314b96ba4>\u001b[0m in \u001b[0;36m<module>\u001b[0;34m()\u001b[0m\n\u001b[0;32m----> 1\u001b[0;31m \u001b[0mplot_mdrun\u001b[0m\u001b[0;34m(\u001b[0m\u001b[0mlmp_i\u001b[0m\u001b[0;34m)\u001b[0m\u001b[0;34m\u001b[0m\u001b[0m\n\u001b[0m",
      "\u001b[0;32m<ipython-input-259-83059706ac40>\u001b[0m in \u001b[0;36mplot_mdrun\u001b[0;34m(lmp_i)\u001b[0m\n\u001b[1;32m      7\u001b[0m     \u001b[0;32mfor\u001b[0m \u001b[0mrun_i\u001b[0m \u001b[0;32min\u001b[0m \u001b[0mlmp_i\u001b[0m\u001b[0;34m.\u001b[0m\u001b[0mrun_list\u001b[0m\u001b[0;34m:\u001b[0m\u001b[0;34m\u001b[0m\u001b[0m\n\u001b[1;32m      8\u001b[0m         \u001b[0;32mprint\u001b[0m \u001b[0mrun_i\u001b[0m\u001b[0;34m.\u001b[0m\u001b[0mtimeseries\u001b[0m\u001b[0;34m.\u001b[0m\u001b[0mkeys\u001b[0m\u001b[0;34m(\u001b[0m\u001b[0;34m)\u001b[0m\u001b[0;34m\u001b[0m\u001b[0m\n\u001b[0;32m----> 9\u001b[0;31m         \u001b[0max\u001b[0m\u001b[0;34m.\u001b[0m\u001b[0mplot\u001b[0m\u001b[0;34m(\u001b[0m\u001b[0mrun_i\u001b[0m\u001b[0;34m.\u001b[0m\u001b[0mtimeseries\u001b[0m\u001b[0;34m[\u001b[0m\u001b[0;34m'step'\u001b[0m\u001b[0;34m]\u001b[0m\u001b[0;34m,\u001b[0m\u001b[0mrun_i\u001b[0m\u001b[0;34m.\u001b[0m\u001b[0mtimeseries\u001b[0m\u001b[0;34m[\u001b[0m\u001b[0;34m'volume'\u001b[0m\u001b[0;34m]\u001b[0m\u001b[0;34m,\u001b[0m\u001b[0;34m'b.-'\u001b[0m\u001b[0;34m)\u001b[0m\u001b[0;34m\u001b[0m\u001b[0m\n\u001b[0m\u001b[1;32m     10\u001b[0m         \u001b[0max2\u001b[0m\u001b[0;34m.\u001b[0m\u001b[0mplot\u001b[0m\u001b[0;34m(\u001b[0m\u001b[0mrun_i\u001b[0m\u001b[0;34m.\u001b[0m\u001b[0mtimeseries\u001b[0m\u001b[0;34m[\u001b[0m\u001b[0;34m'step'\u001b[0m\u001b[0;34m]\u001b[0m\u001b[0;34m,\u001b[0m\u001b[0mrun_i\u001b[0m\u001b[0;34m.\u001b[0m\u001b[0mtimeseries\u001b[0m\u001b[0;34m[\u001b[0m\u001b[0;34m'temp'\u001b[0m\u001b[0;34m]\u001b[0m\u001b[0;34m,\u001b[0m\u001b[0;34m'k.-'\u001b[0m\u001b[0;34m)\u001b[0m\u001b[0;34m\u001b[0m\u001b[0m\n\u001b[1;32m     11\u001b[0m \u001b[0;34m\u001b[0m\u001b[0m\n",
      "\u001b[0;31mKeyError\u001b[0m: 'step'"
     ]
    },
    {
     "data": {
      "image/png": "[encoded data removed]",
      "text/plain": [
       "<matplotlib.figure.Figure at 0x146f21350>"
      ]
     },
     "metadata": {},
     "output_type": "display_data"
    }
   ],
   "source": [
    "plot_mdrun(lmp_i)"
   ]
  },
  {
   "cell_type": "markdown",
   "metadata": {},
   "source": [
    "Cool the volume is decreasing "
   ]
  },
  {
   "cell_type": "code",
   "execution_count": 261,
   "metadata": {
    "collapsed": true
   },
   "outputs": [],
   "source": [
    "lmp_i.store()"
   ]
  },
  {
   "cell_type": "code",
   "execution_count": 262,
   "metadata": {
    "collapsed": true
   },
   "outputs": [],
   "source": [
    "lmp_i.pull()"
   ]
  },
  {
   "cell_type": "markdown",
   "metadata": {},
   "source": [
    "Read in data file output and update positions"
   ]
  },
  {
   "cell_type": "code",
   "execution_count": 264,
   "metadata": {},
   "outputs": [
    {
     "name": "stdout",
     "output_type": "stream",
     "text": [
      "equ0.data\n"
     ]
    }
   ],
   "source": [
    "datafn = lmp_i.files['output']['data_3']\n",
    "print datafn"
   ]
  },
  {
   "cell_type": "code",
   "execution_count": 265,
   "metadata": {
    "collapsed": true
   },
   "outputs": [],
   "source": [
    "lmp_i.read_data_pos(datafn)"
   ]
  },
  {
   "cell_type": "code",
   "execution_count": 266,
   "metadata": {
    "scrolled": true
   },
   "outputs": [
    {
     "name": "stdout",
     "output_type": "stream",
     "text": [
      "[[ 65.28540329   0.           0.        ]\n",
      " [  0.          65.28540329   0.        ]\n",
      " [  0.           0.          65.28540329]]\n"
     ]
    }
   ],
   "source": [
    "print lmp_i.strucC.lat.matrix"
   ]
  },
  {
   "cell_type": "code",
   "execution_count": 267,
   "metadata": {
    "collapsed": true
   },
   "outputs": [],
   "source": [
    "lmp_i.strucC.tag += '_equ0'"
   ]
  },
  {
   "cell_type": "code",
   "execution_count": 268,
   "metadata": {
    "collapsed": true
   },
   "outputs": [],
   "source": [
    "lmp_i.strucC.write_xyz()"
   ]
  },
  {
   "cell_type": "code",
   "execution_count": 269,
   "metadata": {
    "collapsed": true
   },
   "outputs": [],
   "source": [
    "lmp_i.strucC.calc_center_mass()"
   ]
  },
  {
   "cell_type": "code",
   "execution_count": 270,
   "metadata": {
    "collapsed": true
   },
   "outputs": [],
   "source": [
    "struc_i = lmp_i.strucC"
   ]
  },
  {
   "cell_type": "code",
   "execution_count": 271,
   "metadata": {
    "collapsed": true
   },
   "outputs": [],
   "source": [
    "struc_json = struc_i.export_json()"
   ]
  },
  {
   "cell_type": "markdown",
   "metadata": {},
   "source": [
    "Let us create a new project to hold all the ET calculations we need to do for each pair of groups"
   ]
  },
  {
   "cell_type": "code",
   "execution_count": 272,
   "metadata": {
    "collapsed": true
   },
   "outputs": [],
   "source": [
    "mol_et_equ0 = streamm.Project('mol_et_equ0')"
   ]
  },
  {
   "cell_type": "code",
   "execution_count": 273,
   "metadata": {
    "collapsed": true
   },
   "outputs": [],
   "source": [
    "mol_et_equ0.set_resource(res_local)"
   ]
  },
  {
   "cell_type": "code",
   "execution_count": 274,
   "metadata": {
    "collapsed": true
   },
   "outputs": [],
   "source": [
    "os.chdir(mol_et_equ0.dir['materials'])"
   ]
  },
  {
   "cell_type": "markdown",
   "metadata": {},
   "source": [
    "If we need to restart the project here all we have to do is load in the structure "
   ]
  },
  {
   "cell_type": "code",
   "execution_count": 275,
   "metadata": {},
   "outputs": [
    {
     "name": "stdout",
     "output_type": "stream",
     "text": [
      " p3HTx50_equ0\n"
     ]
    }
   ],
   "source": [
    "try:\n",
    "    print  struc_i\n",
    "except:\n",
    "    struc_i = streamm.Buildingblock('p3HTx50_equ0')\n",
    "    struc_i.import_json()"
   ]
  },
  {
   "cell_type": "code",
   "execution_count": 276,
   "metadata": {
    "collapsed": true
   },
   "outputs": [],
   "source": [
    "struc_i.write_xyz('t1.xyz')"
   ]
  },
  {
   "cell_type": "markdown",
   "metadata": {},
   "source": [
    "Create groups out of the molecules"
   ]
  },
  {
   "cell_type": "code",
   "execution_count": 277,
   "metadata": {
    "collapsed": true
   },
   "outputs": [],
   "source": [
    "groupset_i = streamm.Groups('mol',struc_i)"
   ]
  },
  {
   "cell_type": "code",
   "execution_count": 278,
   "metadata": {
    "collapsed": true
   },
   "outputs": [],
   "source": [
    "groupset_i.group_prop('mol','oligomers')"
   ]
  },
  {
   "cell_type": "code",
   "execution_count": 279,
   "metadata": {},
   "outputs": [
    {
     "name": "stdout",
     "output_type": "stream",
     "text": [
      "50\n"
     ]
    }
   ],
   "source": [
    "print len(groupset_i.groups)"
   ]
  },
  {
   "cell_type": "code",
   "execution_count": 280,
   "metadata": {
    "collapsed": true
   },
   "outputs": [],
   "source": [
    "groupset_i.strucC.lat.pbcs = [True,True,True]"
   ]
  },
  {
   "cell_type": "code",
   "execution_count": 281,
   "metadata": {},
   "outputs": [
    {
     "name": "stdout",
     "output_type": "stream",
     "text": [
      "[True, True, True]\n"
     ]
    }
   ],
   "source": [
    "print groupset_i.strucC.lat.pbcs"
   ]
  },
  {
   "cell_type": "code",
   "execution_count": 282,
   "metadata": {},
   "outputs": [
    {
     "name": "stdout",
     "output_type": "stream",
     "text": [
      "[[ 65.28540329   0.           0.        ]\n",
      " [  0.          65.28540329   0.        ]\n",
      " [  0.           0.          65.28540329]]\n"
     ]
    }
   ],
   "source": [
    "print groupset_i.strucC.lat.matrix"
   ]
  },
  {
   "cell_type": "markdown",
   "metadata": {},
   "source": [
    "Apply periodic boundries to all the groups, so the molecules are not split across pbc's"
   ]
  },
  {
   "cell_type": "code",
   "execution_count": 283,
   "metadata": {
    "collapsed": true
   },
   "outputs": [],
   "source": [
    "groupset_i.group_pbcs()"
   ]
  },
  {
   "cell_type": "code",
   "execution_count": 284,
   "metadata": {
    "collapsed": true
   },
   "outputs": [],
   "source": [
    "groupset_i.strucC.write_xyz('groups.xyz')"
   ]
  },
  {
   "cell_type": "code",
   "execution_count": 285,
   "metadata": {
    "collapsed": true
   },
   "outputs": [],
   "source": [
    "groupset_i.calc_cent_mass()\n",
    "groupset_i.calc_radius()\n",
    "# groupset_i.calc_dl()"
   ]
  },
  {
   "cell_type": "code",
   "execution_count": 286,
   "metadata": {},
   "outputs": [
    {
     "name": "stdout",
     "output_type": "stream",
     "text": [
      "65.285403 0.000000 0.000000\n",
      "0.000000 65.285403 0.000000\n",
      "0.000000 0.000000 65.285403\n",
      "50\n",
      "50\n"
     ]
    }
   ],
   "source": [
    "print groupset_i.strucC.lat\n",
    "print len(groupset_i.cent_mass)\n",
    "print len(groupset_i.radius)"
   ]
  },
  {
   "cell_type": "markdown",
   "metadata": {},
   "source": [
    "Save the structure we are creating our pairs from "
   ]
  },
  {
   "cell_type": "code",
   "execution_count": 287,
   "metadata": {
    "collapsed": true
   },
   "outputs": [],
   "source": [
    "gmol_json = groupset_i.strucC.export_json()"
   ]
  },
  {
   "cell_type": "markdown",
   "metadata": {},
   "source": [
    "Create a neighbor list of groups "
   ]
  },
  {
   "cell_type": "code",
   "execution_count": 288,
   "metadata": {
    "collapsed": true
   },
   "outputs": [],
   "source": [
    "groupset_i.group_nblist.radii_nblist(groupset_i.strucC.lat,groupset_i.cent_mass,groupset_i.radius,radii_buffer=0.500)"
   ]
  },
  {
   "cell_type": "code",
   "execution_count": 289,
   "metadata": {},
   "outputs": [
    {
     "name": "stdout",
     "output_type": "stream",
     "text": [
      " NBlist of 50 particle with 162 connections\n"
     ]
    }
   ],
   "source": [
    "print groupset_i.group_nblist"
   ]
  },
  {
   "cell_type": "code",
   "execution_count": 290,
   "metadata": {
    "collapsed": true,
    "scrolled": true
   },
   "outputs": [],
   "source": [
    "g_nbs = []\n",
    "for gk_i,g_i in groupset_i.groups.iteritems():\n",
    "        n_nbs = groupset_i.group_nblist.calc_nnab(gk_i)\n",
    "        g_nbs.append(n_nbs)\n",
    "g_nbs = np.array(g_nbs)    "
   ]
  },
  {
   "cell_type": "code",
   "execution_count": 291,
   "metadata": {},
   "outputs": [
    {
     "name": "stdout",
     "output_type": "stream",
     "text": [
      "0 3.24 7\n"
     ]
    }
   ],
   "source": [
    "print g_nbs.min(),g_nbs.mean(),g_nbs.max()"
   ]
  },
  {
   "cell_type": "markdown",
   "metadata": {},
   "source": [
    "Loop over each group, shift the group to the center of the simulation cell and write an .xyz file that includes the neighbors of the group."
   ]
  },
  {
   "cell_type": "code",
   "execution_count": 292,
   "metadata": {},
   "outputs": [
    {
     "name": "stdout",
     "output_type": "stream",
     "text": [
      "0 2 381\n",
      "1 4 635\n",
      "2 2 381\n",
      "3 1 254\n",
      "4 0 127\n",
      "5 5 762\n",
      "6 4 635\n",
      "7 2 381\n",
      "8 5 762\n",
      "9 3 508\n",
      "10 1 254\n",
      "11 4 635\n",
      "12 1 254\n",
      "13 2 381\n",
      "14 3 508\n",
      "15 3 508\n",
      "16 2 381\n",
      "17 0 127\n",
      "18 4 635\n",
      "19 2 381\n",
      "20 2 381\n",
      "21 4 635\n",
      "22 3 508\n",
      "23 3 508\n",
      "24 0 127\n",
      "25 6 889\n",
      "26 3 508\n",
      "27 2 381\n",
      "28 2 381\n",
      "29 5 762\n",
      "30 5 762\n",
      "31 7 1016\n",
      "32 6 889\n",
      "33 3 508\n",
      "34 6 889\n",
      "35 4 635\n",
      "36 4 635\n",
      "37 4 635\n",
      "38 5 762\n",
      "39 4 635\n",
      "40 1 254\n",
      "41 4 635\n",
      "42 5 762\n",
      "43 4 635\n",
      "44 2 381\n",
      "45 3 508\n",
      "46 1 254\n",
      "47 5 762\n",
      "48 4 635\n",
      "49 5 762\n"
     ]
    }
   ],
   "source": [
    "for gk_i,g_i in groupset_i.groups.iteritems():\n",
    "        list_i = copy.deepcopy(g_i.pkeys)\n",
    "        for g_j in groupset_i.group_nblist.getnbs(gk_i):\n",
    "            list_i += groupset_i.groups[g_j].pkeys\n",
    "        print gk_i,groupset_i.group_nblist.calc_nnab(gk_i),len(list_i)\n",
    "        groupset_i.strucC.shift_pos(-1.0*g_i.cent_mass)  # Place center of mass at origin\n",
    "        groupset_i.strucC.write_xyz_list(list_i,xyz_file='nn_{}.xyz'.format(gk_i))\n",
    "        groupset_i.strucC.shift_pos(g_i.cent_mass)  # Return center of mass \n",
    "        \n",
    "        list_i = []\n",
    "        "
   ]
  },
  {
   "cell_type": "markdown",
   "metadata": {},
   "source": [
    "The nearest neighbor cluster look good so let us calculate the electron transfer "
   ]
  },
  {
   "cell_type": "markdown",
   "metadata": {},
   "source": [
    "Firts create a list of unique pairs "
   ]
  },
  {
   "cell_type": "code",
   "execution_count": 293,
   "metadata": {
    "collapsed": true
   },
   "outputs": [],
   "source": [
    "et_pairs = {}\n",
    "et_pairs['i'] = []\n",
    "et_pairs['j'] = []\n",
    "for gk_i,g_i in groupset_i.groups.iteritems():\n",
    "    for gk_j in groupset_i.group_nblist.getnbs(gk_i):\n",
    "        if( gk_j > gk_i ):\n",
    "            et_pairs['i'].append(gk_i)\n",
    "            et_pairs['j'].append(gk_j)\n",
    "            \n",
    "            "
   ]
  },
  {
   "cell_type": "markdown",
   "metadata": {},
   "source": [
    "Convert the dictionary to a pandas Dataframe"
   ]
  },
  {
   "cell_type": "code",
   "execution_count": 295,
   "metadata": {
    "collapsed": true
   },
   "outputs": [],
   "source": [
    "import pandas as pd"
   ]
  },
  {
   "cell_type": "code",
   "execution_count": 296,
   "metadata": {
    "collapsed": true
   },
   "outputs": [],
   "source": [
    "et_df = pd.DataFrame(et_pairs)"
   ]
  },
  {
   "cell_type": "code",
   "execution_count": 297,
   "metadata": {},
   "outputs": [
    {
     "data": {
      "text/plain": [
       "Index([u'i', u'j'], dtype='object')"
      ]
     },
     "execution_count": 297,
     "metadata": {},
     "output_type": "execute_result"
    }
   ],
   "source": [
    "et_df.columns"
   ]
  },
  {
   "cell_type": "markdown",
   "metadata": {},
   "source": [
    "Save that in a local file "
   ]
  },
  {
   "cell_type": "code",
   "execution_count": 298,
   "metadata": {
    "collapsed": true
   },
   "outputs": [],
   "source": [
    "et_df.to_csv('et_pairs.csv',sep=',')"
   ]
  },
  {
   "cell_type": "code",
   "execution_count": 299,
   "metadata": {},
   "outputs": [
    {
     "name": "stdout",
     "output_type": "stream",
     "text": [
      "81\n"
     ]
    }
   ],
   "source": [
    "et_fn = 'et_pairs.csv'\n",
    "try:\n",
    "    print  len(et_df)\n",
    "except:\n",
    "    et_df = pd.read_csv(et_fn)"
   ]
  },
  {
   "cell_type": "code",
   "execution_count": 300,
   "metadata": {
    "collapsed": true
   },
   "outputs": [],
   "source": [
    "def nw_et(project_i,res_i,groupset_i,gk_i,gk_j,run_calc = True):\n",
    "\n",
    "    calc_n =  len(project_i.calculations)     \n",
    "    nwchem_et = streamm.NWChem('nw_et_{}_g{}_g{}'.format(project_i.tag,gk_i,gk_j))\n",
    "    print(nwchem_et.tag)\n",
    "\n",
    "    # Set calculation to run on external resource\n",
    "    nwchem_et.set_resource(res_i)\n",
    "\n",
    "    # Make the local directories \n",
    "    nwchem_et.make_dir()\n",
    "    # Change to the `launch` directory\n",
    "    os.chdir(nwchem_et.dir['launch'])\n",
    "\n",
    "    group_i = groupset_i.groups[gk_i]\n",
    "    group_j = groupset_i.groups[gk_j]    \n",
    "\n",
    "    nwchem_et.properties['coord_i'] = group_i.write_coord()\n",
    "    nwchem_et.properties['coord_j'] = group_j.write_coord()    \n",
    "    nwchem_et.properties['coord_ij'] = nwchem_et.properties['coord_i'] + nwchem_et.properties['coord_j'] \n",
    "    \n",
    "    \n",
    "\n",
    "    nwchem_et.cp_file('templates','run',\"nwchem_remote.pbs\",'templates','launch')\n",
    "    nwchem_et.cp_file('templates','nw',\"nwchem_et.nw\",'templates','launch')\n",
    "    #\n",
    "    nwchem_et.load_str('templates','nw')        \n",
    "    nwchem_et.load_str('templates','run')\n",
    "    # \n",
    "    nwchem_et.replacewrite_prop('nw','input','nw','%s.nw'%(nwchem_et.tag))\n",
    "\n",
    "    nwchem_et.properties['input_nw'] = nwchem_et.files['input']['nw']\n",
    "    nwchem_et.replacewrite_prop('run','scripts','run','%s.pbs'%(nwchem_et.tag))\n",
    "\n",
    "    nwchem_et.add_file('output','log',\"%s.log\"%(nwchem_et.tag))\n",
    "    # Save details in .json files \n",
    "    # \n",
    "    os.chdir(nwchem_et.dir['home'])\n",
    "    nwchem_et.export_json()\n",
    "    # \n",
    "    #\n",
    "    if( run_calc ):\n",
    "        os.chdir(nwchem_et.dir['launch'])\n",
    "        nwchem_et.push()\n",
    "        nwchem_et.run()\n",
    "        \n",
    "    return nwchem_et\n"
   ]
  },
  {
   "cell_type": "markdown",
   "metadata": {},
   "source": [
    "Loop over all the pairs and create NWChem ET input files"
   ]
  },
  {
   "cell_type": "code",
   "execution_count": 301,
   "metadata": {
    "collapsed": true
   },
   "outputs": [],
   "source": [
    "et_df['calc_id'] = None"
   ]
  },
  {
   "cell_type": "code",
   "execution_count": 304,
   "metadata": {},
   "outputs": [
    {
     "name": "stdout",
     "output_type": "stream",
     "text": [
      "nw_et_mol_et_equ0_g0_g42\n"
     ]
    },
    {
     "ename": "IOError",
     "evalue": "[Errno 2] No such file or directory: u'/Users/tkemper/Development/streamm-tools/examples/../templates/nwchem_ssh.pbs'",
     "output_type": "error",
     "traceback": [
      "\u001b[0;31m---------------------------------------------------------------------------\u001b[0m",
      "\u001b[0;31mIOError\u001b[0m                                   Traceback (most recent call last)",
      "\u001b[0;32m<ipython-input-304-cc5ae293ecea>\u001b[0m in \u001b[0;36m<module>\u001b[0;34m()\u001b[0m\n\u001b[1;32m      2\u001b[0m     \u001b[0mgk_i\u001b[0m \u001b[0;34m=\u001b[0m \u001b[0mpair_i\u001b[0m\u001b[0;34m[\u001b[0m\u001b[0;34m'i'\u001b[0m\u001b[0;34m]\u001b[0m\u001b[0;34m\u001b[0m\u001b[0m\n\u001b[1;32m      3\u001b[0m     \u001b[0mgk_j\u001b[0m \u001b[0;34m=\u001b[0m \u001b[0mpair_i\u001b[0m\u001b[0;34m[\u001b[0m\u001b[0;34m'j'\u001b[0m\u001b[0;34m]\u001b[0m\u001b[0;34m\u001b[0m\u001b[0m\n\u001b[0;32m----> 4\u001b[0;31m     \u001b[0mnwchem_et\u001b[0m \u001b[0;34m=\u001b[0m \u001b[0mnw_et\u001b[0m\u001b[0;34m(\u001b[0m\u001b[0mmol_et_equ0\u001b[0m\u001b[0;34m,\u001b[0m\u001b[0mres_calc\u001b[0m\u001b[0;34m,\u001b[0m\u001b[0mgroupset_i\u001b[0m\u001b[0;34m,\u001b[0m\u001b[0mgk_i\u001b[0m\u001b[0;34m,\u001b[0m\u001b[0mgk_j\u001b[0m\u001b[0;34m)\u001b[0m\u001b[0;34m\u001b[0m\u001b[0m\n\u001b[0m\u001b[1;32m      5\u001b[0m     \u001b[0met_df\u001b[0m\u001b[0;34m[\u001b[0m\u001b[0;34m'calc_id'\u001b[0m\u001b[0;34m]\u001b[0m \u001b[0;34m=\u001b[0m \u001b[0mnwchem_et\u001b[0m\u001b[0;34m.\u001b[0m\u001b[0mtag\u001b[0m\u001b[0;34m\u001b[0m\u001b[0m\n\u001b[1;32m      6\u001b[0m     \u001b[0;31m# Add calculation to project\u001b[0m\u001b[0;34m\u001b[0m\u001b[0;34m\u001b[0m\u001b[0m\n",
      "\u001b[0;32m<ipython-input-300-5b6d474175b8>\u001b[0m in \u001b[0;36mnw_et\u001b[0;34m(project_i, res_i, groupset_i, gk_i, gk_j, run_calc)\u001b[0m\n\u001b[1;32m     22\u001b[0m \u001b[0;34m\u001b[0m\u001b[0m\n\u001b[1;32m     23\u001b[0m \u001b[0;34m\u001b[0m\u001b[0m\n\u001b[0;32m---> 24\u001b[0;31m     \u001b[0mnwchem_et\u001b[0m\u001b[0;34m.\u001b[0m\u001b[0mcp_file\u001b[0m\u001b[0;34m(\u001b[0m\u001b[0;34m'templates'\u001b[0m\u001b[0;34m,\u001b[0m\u001b[0;34m'run'\u001b[0m\u001b[0;34m,\u001b[0m\u001b[0;34m\"nwchem_ssh.pbs\"\u001b[0m\u001b[0;34m,\u001b[0m\u001b[0;34m'templates'\u001b[0m\u001b[0;34m,\u001b[0m\u001b[0;34m'launch'\u001b[0m\u001b[0;34m)\u001b[0m\u001b[0;34m\u001b[0m\u001b[0m\n\u001b[0m\u001b[1;32m     25\u001b[0m     \u001b[0mnwchem_et\u001b[0m\u001b[0;34m.\u001b[0m\u001b[0mcp_file\u001b[0m\u001b[0;34m(\u001b[0m\u001b[0;34m'templates'\u001b[0m\u001b[0;34m,\u001b[0m\u001b[0;34m'nw'\u001b[0m\u001b[0;34m,\u001b[0m\u001b[0;34m\"nwchem_et.nw\"\u001b[0m\u001b[0;34m,\u001b[0m\u001b[0;34m'templates'\u001b[0m\u001b[0;34m,\u001b[0m\u001b[0;34m'launch'\u001b[0m\u001b[0;34m)\u001b[0m\u001b[0;34m\u001b[0m\u001b[0m\n\u001b[1;32m     26\u001b[0m     \u001b[0;31m#\u001b[0m\u001b[0;34m\u001b[0m\u001b[0;34m\u001b[0m\u001b[0m\n",
      "\u001b[0;32m/Users/tkemper/Development/streamm-tools/streamm/calculations/calculation.pyc\u001b[0m in \u001b[0;36mcp_file\u001b[0;34m(self, file_type, file_key, file_name, from_dirkey, to_dirkey)\u001b[0m\n\u001b[1;32m    717\u001b[0m             \u001b[0mto_pathfile\u001b[0m \u001b[0;34m=\u001b[0m \u001b[0mos\u001b[0m\u001b[0;34m.\u001b[0m\u001b[0mpath\u001b[0m\u001b[0;34m.\u001b[0m\u001b[0mjoin\u001b[0m\u001b[0;34m(\u001b[0m\u001b[0mtodir\u001b[0m\u001b[0;34m,\u001b[0m\u001b[0mfile_name\u001b[0m\u001b[0;34m)\u001b[0m\u001b[0;34m\u001b[0m\u001b[0m\n\u001b[1;32m    718\u001b[0m             \u001b[0mlogger\u001b[0m\u001b[0;34m.\u001b[0m\u001b[0minfo\u001b[0m\u001b[0;34m(\u001b[0m\u001b[0;34m\"copying %s to %s \"\u001b[0m\u001b[0;34m%\u001b[0m\u001b[0;34m(\u001b[0m\u001b[0mfrom_pathfile\u001b[0m\u001b[0;34m,\u001b[0m\u001b[0mto_pathfile\u001b[0m\u001b[0;34m)\u001b[0m\u001b[0;34m)\u001b[0m\u001b[0;34m\u001b[0m\u001b[0m\n\u001b[0;32m--> 719\u001b[0;31m             \u001b[0mshutil\u001b[0m\u001b[0;34m.\u001b[0m\u001b[0mcopyfile\u001b[0m\u001b[0;34m(\u001b[0m\u001b[0mfrom_pathfile\u001b[0m\u001b[0;34m,\u001b[0m\u001b[0mto_pathfile\u001b[0m\u001b[0;34m)\u001b[0m\u001b[0;34m\u001b[0m\u001b[0m\n\u001b[0m\u001b[1;32m    720\u001b[0m \u001b[0;34m\u001b[0m\u001b[0m\n\u001b[1;32m    721\u001b[0m         \u001b[0mself\u001b[0m\u001b[0;34m.\u001b[0m\u001b[0madd_file\u001b[0m\u001b[0;34m(\u001b[0m\u001b[0mfile_type\u001b[0m\u001b[0;34m,\u001b[0m\u001b[0mfile_key\u001b[0m\u001b[0;34m,\u001b[0m\u001b[0mfile_name\u001b[0m\u001b[0;34m)\u001b[0m\u001b[0;34m\u001b[0m\u001b[0m\n",
      "\u001b[0;32m/Users/tkemper/anaconda2/lib/python2.7/shutil.pyc\u001b[0m in \u001b[0;36mcopyfile\u001b[0;34m(src, dst)\u001b[0m\n\u001b[1;32m     80\u001b[0m                 \u001b[0;32mraise\u001b[0m \u001b[0mSpecialFileError\u001b[0m\u001b[0;34m(\u001b[0m\u001b[0;34m\"`%s` is a named pipe\"\u001b[0m \u001b[0;34m%\u001b[0m \u001b[0mfn\u001b[0m\u001b[0;34m)\u001b[0m\u001b[0;34m\u001b[0m\u001b[0m\n\u001b[1;32m     81\u001b[0m \u001b[0;34m\u001b[0m\u001b[0m\n\u001b[0;32m---> 82\u001b[0;31m     \u001b[0;32mwith\u001b[0m \u001b[0mopen\u001b[0m\u001b[0;34m(\u001b[0m\u001b[0msrc\u001b[0m\u001b[0;34m,\u001b[0m \u001b[0;34m'rb'\u001b[0m\u001b[0;34m)\u001b[0m \u001b[0;32mas\u001b[0m \u001b[0mfsrc\u001b[0m\u001b[0;34m:\u001b[0m\u001b[0;34m\u001b[0m\u001b[0m\n\u001b[0m\u001b[1;32m     83\u001b[0m         \u001b[0;32mwith\u001b[0m \u001b[0mopen\u001b[0m\u001b[0;34m(\u001b[0m\u001b[0mdst\u001b[0m\u001b[0;34m,\u001b[0m \u001b[0;34m'wb'\u001b[0m\u001b[0;34m)\u001b[0m \u001b[0;32mas\u001b[0m \u001b[0mfdst\u001b[0m\u001b[0;34m:\u001b[0m\u001b[0;34m\u001b[0m\u001b[0m\n\u001b[1;32m     84\u001b[0m             \u001b[0mcopyfileobj\u001b[0m\u001b[0;34m(\u001b[0m\u001b[0mfsrc\u001b[0m\u001b[0;34m,\u001b[0m \u001b[0mfdst\u001b[0m\u001b[0;34m)\u001b[0m\u001b[0;34m\u001b[0m\u001b[0m\n",
      "\u001b[0;31mIOError\u001b[0m: [Errno 2] No such file or directory: u'/Users/tkemper/Development/streamm-tools/examples/../templates/nwchem_ssh.pbs'"
     ]
    }
   ],
   "source": [
    "for k,pair_i in et_df.iterrows():\n",
    "    gk_i = pair_i['i']\n",
    "    gk_j = pair_i['j']\n",
    "    nwchem_et = nw_et(mol_et_equ0,res_calc,groupset_i,gk_i,gk_j)\n",
    "    et_df['calc_id'] = nwchem_et.tag \n",
    "    # Add calculation to project\n",
    "    mol_et_equ0.add_calc(nwchem_et,deepcopy = True)    "
   ]
  },
  {
   "cell_type": "code",
   "execution_count": null,
   "metadata": {
    "collapsed": true
   },
   "outputs": [],
   "source": [
    "et_df.head()"
   ]
  },
  {
   "cell_type": "code",
   "execution_count": null,
   "metadata": {
    "collapsed": true
   },
   "outputs": [],
   "source": [
    "os.chdir(mol_et_equ0.dir['home'])\n",
    "et_json = mol_et_equ0.export_json()"
   ]
  },
  {
   "cell_type": "markdown",
   "metadata": {},
   "source": [
    "Now we have to wait for all of these calculations to finish"
   ]
  },
  {
   "cell_type": "code",
   "execution_count": null,
   "metadata": {
    "collapsed": true
   },
   "outputs": [],
   "source": [
    "import sys "
   ]
  },
  {
   "cell_type": "code",
   "execution_count": null,
   "metadata": {
    "collapsed": true
   },
   "outputs": [],
   "source": [
    "calcsrunning = True \n",
    "while( calcsrunning ):\n",
    "    calcsrunning = False \n",
    "    n_running = 0 \n",
    "    for k,calc_i in mol_et_equ0.calculations.iteritems():\n",
    "        calc_i.check()\n",
    "        if( calc_i.meta['status'] == 'finished' ):\n",
    "            n_running += 1\n",
    "        else:\n",
    "            calcsrunning = True \n",
    "    sys.stdout.write(\"progress: {}/{} \\r\".format(n_running,len(mol_et_equ0.calculations)))\n",
    "    sys.stdout.flush()\n",
    "\n",
    "    time.sleep(status_refresh)"
   ]
  },
  {
   "cell_type": "markdown",
   "metadata": {},
   "source": [
    "Run analysis on the results "
   ]
  },
  {
   "cell_type": "code",
   "execution_count": null,
   "metadata": {
    "collapsed": true
   },
   "outputs": [],
   "source": [
    "et_df['S_ij'] = None\n",
    "et_df['S_ji'] = None\n",
    "et_df['V_ij'] = None\n",
    "et_df['V_ji'] = None"
   ]
  },
  {
   "cell_type": "code",
   "execution_count": null,
   "metadata": {
    "collapsed": true
   },
   "outputs": [],
   "source": [
    "for k,calc_i in mol_et_equ0.calculations.iteritems():\n",
    "    calc_i.meta['status'] = 'written'\n"
   ]
  },
  {
   "cell_type": "code",
   "execution_count": null,
   "metadata": {
    "collapsed": true
   },
   "outputs": [],
   "source": [
    "for k,calc_i in mol_et_equ0.calculations.iteritems():\n",
    "    calc_i.check()\n",
    "    if(  calc_i.meta['status'] == 'finished' ):\n",
    "\n",
    "        print calc_i.tag,calc_i.meta['status'] \n",
    "        os.chdir(calc_i.dir['launch'])\n",
    "\n",
    "        et_row = et_df.loc[ et_df['calc_id'] == calc_i.tag ]\n",
    "        et_index =  int(et_row.index[0])\n",
    "\n",
    "        calc_i.analysis()\n",
    "\n",
    "        if( len(calc_i.et_list) > 0  ):\n",
    "            et_df.loc[et_index,'S_ij'] = calc_i.et_list[0].S\n",
    "            et_df.loc[et_index,'V_ij'] = calc_i.et_list[0].V\n",
    "            et_df.loc[et_index,'S_ji'] = calc_i.et_list[1].S\n",
    "            et_df.loc[et_index,'V_ji'] = calc_i.et_list[1].V\n",
    "\n",
    "\n",
    "        calc_i.store()\n"
   ]
  },
  {
   "cell_type": "code",
   "execution_count": null,
   "metadata": {
    "collapsed": true
   },
   "outputs": [],
   "source": [
    "et_df"
   ]
  },
  {
   "cell_type": "code",
   "execution_count": null,
   "metadata": {
    "collapsed": true
   },
   "outputs": [],
   "source": [
    "et_c1 = et_df.replace([np.inf], np.nan)"
   ]
  },
  {
   "cell_type": "code",
   "execution_count": null,
   "metadata": {
    "collapsed": true
   },
   "outputs": [],
   "source": [
    "et_c1.dropna()"
   ]
  },
  {
   "cell_type": "code",
   "execution_count": null,
   "metadata": {
    "collapsed": true
   },
   "outputs": [],
   "source": [
    "print et_c1['V_ij'].min(),et_c1['V_ij'].mean(),et_c1['V_ij'].max()"
   ]
  },
  {
   "cell_type": "markdown",
   "metadata": {},
   "source": [
    "We can take a look at the histogram of magnitudes of V_ij"
   ]
  },
  {
   "cell_type": "code",
   "execution_count": null,
   "metadata": {
    "collapsed": true
   },
   "outputs": [],
   "source": [
    "et_c1['log_V_ij'] = np.log10(et_c1['V_ij'])"
   ]
  },
  {
   "cell_type": "code",
   "execution_count": null,
   "metadata": {
    "collapsed": true
   },
   "outputs": [],
   "source": [
    "et_c1['log_V_ij'].plot.hist(bins=30,alpha=1.0)"
   ]
  },
  {
   "cell_type": "markdown",
   "metadata": {},
   "source": [
    "Just calculated the inter-molecular electronic coupling between P3ht"
   ]
  },
  {
   "cell_type": "markdown",
   "metadata": {},
   "source": [
    "Boom!"
   ]
  },
  {
   "cell_type": "code",
   "execution_count": null,
   "metadata": {
    "collapsed": true
   },
   "outputs": [],
   "source": []
  }
 ],
 "metadata": {
  "anaconda-cloud": {},
  "kernelspec": {
   "display_name": "Python 2",
   "language": "python",
   "name": "python2"
  },
  "language_info": {
   "codemirror_mode": {
    "name": "ipython",
    "version": 2
   },
   "file_extension": ".py",
   "mimetype": "text/x-python",
   "name": "python",
   "nbconvert_exporter": "python",
   "pygments_lexer": "ipython2",
   "version": "2.7.13"
  }
 },
 "nbformat": 4,
 "nbformat_minor": 2
}
