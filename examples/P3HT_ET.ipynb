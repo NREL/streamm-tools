{
 "cells": [
  {
   "cell_type": "markdown",
   "metadata": {},
   "source": [
    "In this example we run through a simplified procedure to calculate the inter-molecular electronic coupling energies between penta-3-hexylthiophene"
   ]
  },
  {
   "cell_type": "markdown",
   "metadata": {},
   "source": [
    "Procedure:\n",
    "    * Generate models of thiophene and hexane based on based on quantum chemistry data from NWChem\n",
    "    * Use streamm to create a 3-hexylthiophene pentamer\n",
    "    * Replicate the pentamer into a periodic simulation cell\n",
    "    * Anneal the system with LAMMPS\n",
    "    * Calculate the inter-molecular electronic coupling using NWChem's electron transfer module "
   ]
  },
  {
   "cell_type": "code",
   "execution_count": 1,
   "metadata": {
    "collapsed": true
   },
   "outputs": [],
   "source": [
    "import os \n",
    "from pprint import pprint"
   ]
  },
  {
   "cell_type": "code",
   "execution_count": 2,
   "metadata": {
    "collapsed": true
   },
   "outputs": [],
   "source": [
    "from pathlib2 import Path\n",
    "import os"
   ]
  },
  {
   "cell_type": "code",
   "execution_count": 3,
   "metadata": {
    "collapsed": true
   },
   "outputs": [],
   "source": [
    "import csv "
   ]
  },
  {
   "cell_type": "code",
   "execution_count": 4,
   "metadata": {
    "collapsed": true
   },
   "outputs": [],
   "source": [
    "import numpy as np\n",
    "import decimal\n",
    "import copy"
   ]
  },
  {
   "cell_type": "code",
   "execution_count": 5,
   "metadata": {
    "collapsed": true
   },
   "outputs": [],
   "source": [
    "import matplotlib\n",
    "import matplotlib.pyplot as plt"
   ]
  },
  {
   "cell_type": "code",
   "execution_count": 6,
   "metadata": {
    "collapsed": true
   },
   "outputs": [],
   "source": [
    "%matplotlib inline"
   ]
  },
  {
   "cell_type": "code",
   "execution_count": 7,
   "metadata": {
    "collapsed": true
   },
   "outputs": [],
   "source": [
    "import time"
   ]
  },
  {
   "cell_type": "markdown",
   "metadata": {},
   "source": [
    "Set wait time to check if calculation has finished"
   ]
  },
  {
   "cell_type": "code",
   "execution_count": 8,
   "metadata": {
    "collapsed": true
   },
   "outputs": [],
   "source": [
    "status_refresh = 1"
   ]
  },
  {
   "cell_type": "code",
   "execution_count": 9,
   "metadata": {
    "collapsed": true
   },
   "outputs": [],
   "source": [
    "import streamm"
   ]
  },
  {
   "cell_type": "markdown",
   "metadata": {},
   "source": [
    "In this getting started example we will calculate the coupling between P3HT oligomers"
   ]
  },
  {
   "cell_type": "code",
   "execution_count": 10,
   "metadata": {
    "collapsed": true
   },
   "outputs": [],
   "source": [
    "import logging\n",
    "logging.basicConfig(filename='p3ht_et.log',level=logging.DEBUG)"
   ]
  },
  {
   "cell_type": "markdown",
   "metadata": {},
   "source": [
    "Load Resource objects from Resource example"
   ]
  },
  {
   "cell_type": "code",
   "execution_count": 11,
   "metadata": {
    "collapsed": true
   },
   "outputs": [],
   "source": [
    "need_files = ['local_res.json','remote_res.json']\n",
    "for f in need_files:\n",
    "    path = Path(f)\n",
    "    if not path.is_file():\n",
    "        print(\"Need to run resource_example.ipynb\")\n",
    "        os.system(\"jupyter nbconvert --to python  resource_example.ipynb\")\n",
    "        os.system(\"python resource_example.py\")"
   ]
  },
  {
   "cell_type": "code",
   "execution_count": 12,
   "metadata": {
    "collapsed": true
   },
   "outputs": [],
   "source": [
    "res_local = streamm.Resource('local')"
   ]
  },
  {
   "cell_type": "markdown",
   "metadata": {},
   "source": [
    "The calc resource can be changed to local or remote host resouce "
   ]
  },
  {
   "cell_type": "code",
   "execution_count": 13,
   "metadata": {
    "collapsed": true
   },
   "outputs": [],
   "source": [
    "res_calc = streamm.Resource('remote')"
   ]
  },
  {
   "cell_type": "code",
   "execution_count": 14,
   "metadata": {
    "collapsed": true
   },
   "outputs": [],
   "source": [
    "res_local.import_json()\n",
    "res_calc.import_json()"
   ]
  },
  {
   "cell_type": "markdown",
   "metadata": {},
   "source": [
    "Create needed directories "
   ]
  },
  {
   "cell_type": "code",
   "execution_count": 15,
   "metadata": {
    "collapsed": true
   },
   "outputs": [],
   "source": [
    "res_local.make_dir() \n",
    "res_calc.make_dir() "
   ]
  },
  {
   "cell_type": "markdown",
   "metadata": {},
   "source": [
    "Now let's create project and resource to keep track of our work"
   ]
  },
  {
   "cell_type": "code",
   "execution_count": 16,
   "metadata": {
    "collapsed": true
   },
   "outputs": [],
   "source": [
    "p3ht_et = streamm.Project('P3HT_ET')"
   ]
  },
  {
   "cell_type": "markdown",
   "metadata": {},
   "source": [
    "Set the directory structure for the project "
   ]
  },
  {
   "cell_type": "code",
   "execution_count": 17,
   "metadata": {
    "collapsed": true
   },
   "outputs": [],
   "source": [
    "p3ht_et.set_resource(res_local)"
   ]
  },
  {
   "cell_type": "markdown",
   "metadata": {},
   "source": [
    "Explicitly create a thiophene molecule"
   ]
  },
  {
   "cell_type": "code",
   "execution_count": 18,
   "metadata": {
    "collapsed": true
   },
   "outputs": [],
   "source": [
    "bbTh = streamm.Buildingblock('thiophene')\n",
    "symbols = ['C','C','C','C','S','H','H','H','H']\n",
    "positions = [ ]\n",
    "positions.append([-1.55498576,-1.91131218,-0.00081000])\n",
    "positions.append([-0.17775976,-1.91131218,-0.00081000])\n",
    "positions.append([0.34761524,-0.57904218,-0.00081000])\n",
    "positions.append([-0.65884476,0.36101082,0.00000000])\n",
    "positions.append([-2.16948076,-0.35614618,-0.00000800])\n",
    "positions.append([-2.18966076,-2.79526518,-0.00132100])\n",
    "positions.append([0.45389024,-2.80145418,-0.00106400])\n",
    "positions.append([1.41682424,-0.35961818,-0.00138200])\n",
    "positions.append([-0.51943676,1.44024682,0.00064700])\n",
    "for i in range(len(symbols)):\n",
    "    pt_i = streamm.Particle(symbol=symbols[i])\n",
    "    pos_i = positions[i]\n",
    "    bbTh.add_partpos(pt_i,pos_i)"
   ]
  },
  {
   "cell_type": "markdown",
   "metadata": {},
   "source": [
    "Set the names of the terminal sites to be joined later"
   ]
  },
  {
   "cell_type": "code",
   "execution_count": 19,
   "metadata": {
    "collapsed": true
   },
   "outputs": [],
   "source": [
    "bbTh.particles[5].rsite = 'termcap'\n",
    "bbTh.particles[6].rsite = 'funccap'\n",
    "bbTh.particles[8].rsite = 'termcap'"
   ]
  },
  {
   "cell_type": "markdown",
   "metadata": {},
   "source": [
    "Set some properties of the molecule to keep track of the parts"
   ]
  },
  {
   "cell_type": "code",
   "execution_count": 20,
   "metadata": {
    "collapsed": true
   },
   "outputs": [],
   "source": [
    "c_cnt =1\n",
    "h_cnt =1\n",
    "\n",
    "for pkey_i, particle_i  in bbTh.particles.iteritems():\n",
    "\n",
    "    if( particle_i.symbol == 'C' ):\n",
    "        particle_i.label = \"C%d\"%(c_cnt)\n",
    "        particle_i.resname = \"SCP2\"\n",
    "        particle_i.residue = 1\n",
    "\n",
    "        c_cnt +=1 \n",
    "    if( particle_i.symbol == 'S' ):\n",
    "        particle_i.resname = \"ThS\"\n",
    "        particle_i.residue = 2\n",
    "\n",
    "    if( particle_i.symbol == 'H' ):\n",
    "        particle_i.label = \"H%d\"%(h_cnt)\n",
    "        particle_i.resname = \"HA\"\n",
    "        particle_i.residue = 3\n",
    "\n",
    "        h_cnt +=1 \n"
   ]
  },
  {
   "cell_type": "markdown",
   "metadata": {},
   "source": [
    "Set the force-field type and guess some reasonable charges "
   ]
  },
  {
   "cell_type": "code",
   "execution_count": 21,
   "metadata": {
    "collapsed": true
   },
   "outputs": [],
   "source": [
    "for pkey_i, particle_i  in bbTh.particles.iteritems():\n",
    "    if( particle_i.symbol == 'C' ):\n",
    "        particle_i.paramkey = 'CA'\n",
    "        particle_i.charge = -0.025\n",
    "    if( particle_i.symbol == 'S' ):\n",
    "        particle_i.paramkey = 'S'\n",
    "        particle_i.charge = -0.3\n",
    "    if( particle_i.symbol == 'H' ):\n",
    "        particle_i.paramkey = 'HA'\n",
    "        particle_i.charge = 0.1"
   ]
  },
  {
   "cell_type": "markdown",
   "metadata": {},
   "source": [
    "Check molecule is neutral "
   ]
  },
  {
   "cell_type": "code",
   "execution_count": 22,
   "metadata": {
    "collapsed": false
   },
   "outputs": [
    {
     "name": "stdout",
     "output_type": "stream",
     "text": [
      "-2.77555756156e-17\n"
     ]
    }
   ],
   "source": [
    "total_charge = 0.0\n",
    "for pkey_i, particle_i  in bbTh.particles.iteritems():\n",
    "    total_charge += particle_i.charge\n",
    "print total_charge"
   ]
  },
  {
   "cell_type": "markdown",
   "metadata": {},
   "source": [
    "Optimize structure with NWChem"
   ]
  },
  {
   "cell_type": "markdown",
   "metadata": {},
   "source": [
    "But let's put it in a function this time"
   ]
  },
  {
   "cell_type": "code",
   "execution_count": 23,
   "metadata": {
    "collapsed": true
   },
   "outputs": [],
   "source": [
    "def nw_opt(project_i,bb_i,res_i):\n",
    "    '''Optimize a streamm Buildingblock object with nwchem \n",
    "    \n",
    "    '''\n",
    "    calc_n =  len(project_i.calculations)     \n",
    "    nwchem_i = streamm.NWChem('nw_opt_{}_calc_{}'.format(bb_i.tag,calc_n))\n",
    "    print nwchem_i.tag \n",
    "    # Add thiophene structure \n",
    "    nwchem_i.strucC = copy.deepcopy(bb_i)\n",
    "    # Set calculation to run on external resource\n",
    "    nwchem_i.set_resource(res_i)\n",
    "    # Make the local directories \n",
    "    nwchem_i.make_dir()\n",
    "    #Change to the `launch` directory\n",
    "    os.chdir(nwchem_i.dir['launch'])\n",
    "    # Copy over templates\n",
    "    nwchem_i.cp_file('templates','run',\"nwchem_remote.pbs\",'templates','launch')\n",
    "    nwchem_i.cp_file('templates','nw',\"nwchem.nw\",'templates','launch')\n",
    "    # Read in templates files \n",
    "    nwchem_i.load_str('templates','nw')        \n",
    "    nwchem_i.load_str('templates','run')\n",
    "    # Set calculation properties \n",
    "    nwchem_i.properties['basis'] = '6-31g'\n",
    "    nwchem_i.properties['method'] = 'UHF'\n",
    "    nwchem_i.properties['charge'] = 0\n",
    "    nwchem_i.properties['spin_mult'] = 1\n",
    "    nwchem_i.properties['task'] = 'SCF optimize'\n",
    "    nwchem_i.properties['coord'] = nwchem_i.strucC.write_coord()\n",
    "    # \n",
    "    pprint(nwchem_i.properties)\n",
    "    # Replace <key> with properties value \n",
    "    nwchem_i.replacewrite_prop('nw','input','nw','%s.nw'%(nwchem_i.tag))\n",
    "    nwchem_i.properties['input_nw'] = nwchem_i.files['input']['nw']\n",
    "    nwchem_i.replacewrite_prop('run','scripts','run','%s.pbs'%(nwchem_i.tag))\n",
    "    #\n",
    "    nwchem_i.add_file('output','log',\"%s.log\"%(nwchem_i.tag))\n",
    "    # Save details in .json files \n",
    "    os.chdir(nwchem_i.dir['home'])\n",
    "    p3ht_et.export_json()\n",
    "    # \n",
    "    os.chdir(nwchem_i.dir['launch'])\n",
    "    # \n",
    "    nwchem_i.push()\n",
    "    # \n",
    "    nwchem_i.run()\n",
    "    # Add calculation to project\n",
    "    project_i.add_calc(nwchem_i,deepcopy = True)\n",
    "    # \n",
    "    return project_i "
   ]
  },
  {
   "cell_type": "code",
   "execution_count": 24,
   "metadata": {
    "collapsed": false
   },
   "outputs": [
    {
     "name": "stdout",
     "output_type": "stream",
     "text": [
      "nw_opt_thiophene_calc_0\n",
      "{u'allocation': u'orgopv',\n",
      " u'basis': '6-31g',\n",
      " u'charge': 0,\n",
      " 'comp_key': 'compressed',\n",
      " 'compress': 'tar -czf ',\n",
      " 'compress_sufix': 'tgz',\n",
      " 'coord': u'     C      -1.55498576      -1.91131218      -0.00081000 \\n     C      -0.17775976      -1.91131218      -0.00081000 \\n     C       0.34761524      -0.57904218      -0.00081000 \\n     C      -0.65884476       0.36101082       0.00000000 \\n     S      -2.16948076      -0.35614618      -0.00000800 \\n     H      -2.18966076      -2.79526518      -0.00132100 \\n     H       0.45389024      -2.80145418      -0.00106400 \\n     H       1.41682424      -0.35961818      -0.00138200 \\n     H      -0.51943676       1.44024682       0.00064700 \\n',\n",
      " u'e-mail': u'tkemper@nrel.gov',\n",
      " u'exe_command': u'qsub ',\n",
      " u'feature': u'24core',\n",
      " u'finish_str': u'Total times  cpu:',\n",
      " u'maxiter': 100,\n",
      " u'method': 'UHF',\n",
      " u'nodes': 1,\n",
      " u'nproc': 24,\n",
      " u'pmem': 1500,\n",
      " u'ppn': 24,\n",
      " u'queue': u'short',\n",
      " u'scratch': u'/scratch/tkemper/nw_opt_thiophene_calc_0/',\n",
      " u'spin_mult': 1,\n",
      " u'task': 'SCF optimize',\n",
      " 'uncompress': 'tar -xzf ',\n",
      " u'walltime': 4}\n"
     ]
    }
   ],
   "source": [
    "p3ht_et = nw_opt(p3ht_et,bbTh,res_calc)"
   ]
  },
  {
   "cell_type": "code",
   "execution_count": 25,
   "metadata": {
    "collapsed": true
   },
   "outputs": [],
   "source": [
    "nwchem_i = p3ht_et.calculations['nw_opt_thiophene_calc_0']"
   ]
  },
  {
   "cell_type": "markdown",
   "metadata": {},
   "source": [
    "Check status unit finished"
   ]
  },
  {
   "cell_type": "code",
   "execution_count": 26,
   "metadata": {
    "collapsed": false
   },
   "outputs": [
    {
     "name": "stdout",
     "output_type": "stream",
     "text": [
      "finished\n"
     ]
    }
   ],
   "source": [
    "nwchem_i.check()\n",
    "print nwchem_i.meta['status'] "
   ]
  },
  {
   "cell_type": "code",
   "execution_count": 27,
   "metadata": {
    "collapsed": true
   },
   "outputs": [],
   "source": [
    "while( nwchem_i.meta['status'] != 'finished'):\n",
    "    nwchem_i.check()\n",
    "    time.sleep(status_refresh)    "
   ]
  },
  {
   "cell_type": "code",
   "execution_count": 28,
   "metadata": {
    "collapsed": false
   },
   "outputs": [
    {
     "name": "stdout",
     "output_type": "stream",
     "text": [
      "finished\n"
     ]
    }
   ],
   "source": [
    "print nwchem_i.meta['status']"
   ]
  },
  {
   "cell_type": "markdown",
   "metadata": {},
   "source": [
    "Store the results "
   ]
  },
  {
   "cell_type": "code",
   "execution_count": 29,
   "metadata": {
    "collapsed": true
   },
   "outputs": [],
   "source": [
    "nwchem_i.store()"
   ]
  },
  {
   "cell_type": "markdown",
   "metadata": {},
   "source": [
    "Download full log file for analysis"
   ]
  },
  {
   "cell_type": "code",
   "execution_count": 30,
   "metadata": {
    "collapsed": true
   },
   "outputs": [],
   "source": [
    "nwchem_i.pull()"
   ]
  },
  {
   "cell_type": "code",
   "execution_count": 31,
   "metadata": {
    "collapsed": true
   },
   "outputs": [],
   "source": [
    "os.chdir(nwchem_i.dir['launch'])"
   ]
  },
  {
   "cell_type": "code",
   "execution_count": 32,
   "metadata": {
    "collapsed": true
   },
   "outputs": [],
   "source": [
    "nwchem_i.analysis()"
   ]
  },
  {
   "cell_type": "markdown",
   "metadata": {},
   "source": [
    "Print energies, just for fun"
   ]
  },
  {
   "cell_type": "code",
   "execution_count": 33,
   "metadata": {
    "collapsed": false
   },
   "outputs": [
    {
     "name": "stdout",
     "output_type": "stream",
     "text": [
      "-551.190757406 Ha\n"
     ]
    }
   ],
   "source": [
    "print nwchem_i.properties['energy'],nwchem_i.unit_conf['energy']"
   ]
  },
  {
   "cell_type": "markdown",
   "metadata": {},
   "source": [
    "Check that the positions of the structure have been optimized "
   ]
  },
  {
   "cell_type": "code",
   "execution_count": 34,
   "metadata": {
    "collapsed": false
   },
   "outputs": [
    {
     "name": "stdout",
     "output_type": "stream",
     "text": [
      "[[ -1.55498576e+00  -1.91131218e+00  -8.10000000e-04]\n",
      " [ -1.77759760e-01  -1.91131218e+00  -8.10000000e-04]\n",
      " [  3.47615240e-01  -5.79042180e-01  -8.10000000e-04]\n",
      " [ -6.58844760e-01   3.61010820e-01   0.00000000e+00]\n",
      " [ -2.16948076e+00  -3.56146180e-01  -8.00000000e-06]\n",
      " [ -2.18966076e+00  -2.79526518e+00  -1.32100000e-03]\n",
      " [  4.53890240e-01  -2.80145418e+00  -1.06400000e-03]\n",
      " [  1.41682424e+00  -3.59618180e-01  -1.38200000e-03]\n",
      " [ -5.19436760e-01   1.44024682e+00   6.47000000e-04]]\n"
     ]
    }
   ],
   "source": [
    "print bbTh.positions"
   ]
  },
  {
   "cell_type": "code",
   "execution_count": 35,
   "metadata": {
    "collapsed": false
   },
   "outputs": [
    {
     "data": {
      "text/plain": [
       "u'ang'"
      ]
     },
     "execution_count": 35,
     "metadata": {},
     "output_type": "execute_result"
    }
   ],
   "source": [
    "bbTh.unit_conf['length']"
   ]
  },
  {
   "cell_type": "code",
   "execution_count": 36,
   "metadata": {
    "collapsed": false
   },
   "outputs": [
    {
     "name": "stdout",
     "output_type": "stream",
     "text": [
      "[[ -1.52905024e+00  -1.96222385e+00  -6.11050000e-04]\n",
      " [ -1.87311710e-01  -1.91419641e+00  -4.66760000e-04]\n",
      " [  3.42637680e-01  -5.70428160e-01   3.88200000e-05]\n",
      " [ -6.05117140e-01   3.80442720e-01   4.03810000e-04]\n",
      " [ -2.25044431e+00  -3.24165230e-01   1.68202000e-03]\n",
      " [ -2.16242498e+00  -2.82011122e+00  -2.84988000e-03]\n",
      " [  4.31099410e-01  -2.78806908e+00  -1.27520000e-03]\n",
      " [  1.39119019e+00  -3.53818160e-01  -6.53140000e-04]\n",
      " [ -4.82417750e-01   1.43967677e+00  -1.82662000e-03]]\n"
     ]
    }
   ],
   "source": [
    "print nwchem_i.strucC.positions"
   ]
  },
  {
   "cell_type": "code",
   "execution_count": 37,
   "metadata": {
    "collapsed": false
   },
   "outputs": [
    {
     "data": {
      "text/plain": [
       "u'ang'"
      ]
     },
     "execution_count": 37,
     "metadata": {},
     "output_type": "execute_result"
    }
   ],
   "source": [
    "nwchem_i.strucC.unit_conf['length']"
   ]
  },
  {
   "cell_type": "markdown",
   "metadata": {},
   "source": [
    "Update positions with optimized geometry "
   ]
  },
  {
   "cell_type": "code",
   "execution_count": 38,
   "metadata": {
    "collapsed": false
   },
   "outputs": [
    {
     "name": "stdout",
     "output_type": "stream",
     "text": [
      "0 C [ -1.52905024e+00  -1.96222385e+00  -6.11050000e-04]\n",
      "1 C [ -1.87311710e-01  -1.91419641e+00  -4.66760000e-04]\n",
      "2 C [  3.42637680e-01  -5.70428160e-01   3.88200000e-05]\n",
      "3 C [ -6.05117140e-01   3.80442720e-01   4.03810000e-04]\n",
      "4 S [ -2.25044431e+00  -3.24165230e-01   1.68202000e-03]\n",
      "5 H [-2.16242498 -2.82011122 -0.00284988]\n",
      "6 H [  4.31099410e-01  -2.78806908e+00  -1.27520000e-03]\n",
      "7 H [  1.39119019e+00  -3.53818160e-01  -6.53140000e-04]\n",
      "8 H [-0.48241775  1.43967677 -0.00182662]\n"
     ]
    }
   ],
   "source": [
    "for pk,p in bbTh.particles.iteritems():\n",
    "    bbTh.positions[pk] = nwchem_i.strucC.positions[pk]\n",
    "    print pk,p.symbol,bbTh.positions[pk]"
   ]
  },
  {
   "cell_type": "markdown",
   "metadata": {},
   "source": [
    "Store the results in a tar ball in the storage directory "
   ]
  },
  {
   "cell_type": "code",
   "execution_count": 39,
   "metadata": {
    "collapsed": true
   },
   "outputs": [],
   "source": [
    "nwchem_i.store()"
   ]
  },
  {
   "cell_type": "markdown",
   "metadata": {},
   "source": [
    "Now let us calculate the ESP charges to use in our forcefield "
   ]
  },
  {
   "cell_type": "markdown",
   "metadata": {},
   "source": [
    "Again let's make it a function"
   ]
  },
  {
   "cell_type": "code",
   "execution_count": 40,
   "metadata": {
    "collapsed": true
   },
   "outputs": [],
   "source": [
    "def nw_esp(project_i,bb_i,res_i):\n",
    "    '''Calculate ESP charges of a streamm Buildingblock object with nwchem \n",
    "    \n",
    "    '''\n",
    "    calc_n =  len(project_i.calculations)     \n",
    "    nwchem_esp = streamm.NWChem('nw_esp_{}_calc_{}'.format(bb_i.tag,calc_n))\n",
    "    print(nwchem_esp.tag)\n",
    "    # Add thiophene structure with optimized coordinates from previous calculation\n",
    "    nwchem_esp.strucC = copy.deepcopy(bb_i)\n",
    "    # Set calculation to run on external resource\n",
    "    nwchem_esp.set_resource(res_i)\n",
    "    # Add calculation to project\n",
    "    project_i.add_calc(nwchem_esp)\n",
    "    # Make the local directories \n",
    "    nwchem_esp.make_dir()\n",
    "    # Change to the `launch` directory\n",
    "    os.chdir(nwchem_esp.dir['launch'])\n",
    "    #\n",
    "    nwchem_esp.cp_file('templates','run',\"nwchem_remote.pbs\",'templates','launch')\n",
    "    nwchem_esp.cp_file('templates','nw',\"nwchem_esp.nw\",'templates','launch')\n",
    "    #\n",
    "    nwchem_esp.load_str('templates','nw')        \n",
    "    nwchem_esp.load_str('templates','run')\n",
    "    # \n",
    "    nwchem_esp.properties['basis'] = '6-31g'\n",
    "    nwchem_esp.properties['method'] = 'UHF'\n",
    "    nwchem_esp.properties['charge'] = 0\n",
    "    nwchem_esp.properties['spin_mult'] = 1\n",
    "    nwchem_esp.properties['task'] = 'SCF'\n",
    "    nwchem_esp.properties['coord'] = nwchem_esp.strucC.write_coord()\n",
    "\n",
    "    pprint(nwchem_esp.properties)\n",
    "\n",
    "    nwchem_esp.replacewrite_prop('nw','input','nw','%s.nw'%(nwchem_esp.tag))\n",
    "\n",
    "    nwchem_esp.properties['input_nw'] = nwchem_esp.files['input']['nw']\n",
    "    nwchem_esp.replacewrite_prop('run','scripts','run','%s.pbs'%(nwchem_esp.tag))\n",
    "\n",
    "    nwchem_esp.add_file('output','log',\"%s.log\"%(nwchem_esp.tag))\n",
    "\n",
    "    # Save details in .json files \n",
    "\n",
    "    os.chdir(nwchem_esp.dir['home'])\n",
    "    nwchem_esp.export_json()\n",
    "\n",
    "    os.chdir(nwchem_esp.dir['launch'])\n",
    "    nwchem_esp.push()\n",
    "    nwchem_esp.run()\n",
    "    # Add calculation to project\n",
    "    project_i.add_calc(nwchem_esp,deepcopy = True)\n",
    "    # \n",
    "    return project_i \n",
    "    \n",
    "    "
   ]
  },
  {
   "cell_type": "code",
   "execution_count": 41,
   "metadata": {
    "collapsed": false,
    "scrolled": true
   },
   "outputs": [
    {
     "name": "stdout",
     "output_type": "stream",
     "text": [
      "nw_esp_thiophene_calc_1\n",
      "{u'allocation': u'orgopv',\n",
      " u'basis': '6-31g',\n",
      " u'charge': 0,\n",
      " 'comp_key': 'compressed',\n",
      " 'compress': 'tar -czf ',\n",
      " 'compress_sufix': 'tgz',\n",
      " 'coord': u'     C      -1.52905024      -1.96222385      -0.00061105 \\n     C      -0.18731171      -1.91419641      -0.00046676 \\n     C       0.34263768      -0.57042816       0.00003882 \\n     C      -0.60511714       0.38044272       0.00040381 \\n     S      -2.25044431      -0.32416523       0.00168202 \\n     H      -2.16242498      -2.82011122      -0.00284988 \\n     H       0.43109941      -2.78806908      -0.00127520 \\n     H       1.39119019      -0.35381816      -0.00065314 \\n     H      -0.48241775       1.43967677      -0.00182662 \\n',\n",
      " u'e-mail': u'tkemper@nrel.gov',\n",
      " u'exe_command': u'qsub ',\n",
      " u'feature': u'24core',\n",
      " u'finish_str': u'Total times  cpu:',\n",
      " u'maxiter': 100,\n",
      " u'method': 'UHF',\n",
      " u'nodes': 1,\n",
      " u'nproc': 24,\n",
      " u'pmem': 1500,\n",
      " u'ppn': 24,\n",
      " u'queue': u'short',\n",
      " u'scratch': u'/scratch/tkemper/nw_esp_thiophene_calc_1/',\n",
      " u'spin_mult': 1,\n",
      " u'task': 'SCF',\n",
      " 'uncompress': 'tar -xzf ',\n",
      " u'walltime': 4}\n"
     ]
    }
   ],
   "source": [
    "p3ht_et = nw_esp(p3ht_et,bbTh,res_calc)"
   ]
  },
  {
   "cell_type": "markdown",
   "metadata": {},
   "source": [
    "Check status until finished"
   ]
  },
  {
   "cell_type": "code",
   "execution_count": 42,
   "metadata": {
    "collapsed": false
   },
   "outputs": [
    {
     "name": "stdout",
     "output_type": "stream",
     "text": [
      "Calculation nw_esp_thiophene_calc_1 has status finished\n",
      "Calculation nw_opt_thiophene_calc_0 has status stored\n"
     ]
    }
   ],
   "source": [
    "p3ht_et.check()"
   ]
  },
  {
   "cell_type": "code",
   "execution_count": 43,
   "metadata": {
    "collapsed": true
   },
   "outputs": [],
   "source": [
    "nwchem_i = p3ht_et.calculations['nw_esp_thiophene_calc_1']"
   ]
  },
  {
   "cell_type": "code",
   "execution_count": 44,
   "metadata": {
    "collapsed": true
   },
   "outputs": [],
   "source": [
    "os.chdir(nwchem_i.dir['launch'])"
   ]
  },
  {
   "cell_type": "code",
   "execution_count": 45,
   "metadata": {
    "collapsed": true
   },
   "outputs": [],
   "source": [
    "while( nwchem_i.meta['status'] != 'finished'):\n",
    "    nwchem_i.check()\n",
    "    time.sleep(status_refresh)    "
   ]
  },
  {
   "cell_type": "markdown",
   "metadata": {},
   "source": [
    "Store the results "
   ]
  },
  {
   "cell_type": "code",
   "execution_count": 46,
   "metadata": {
    "collapsed": true
   },
   "outputs": [],
   "source": [
    "nwchem_i.store()"
   ]
  },
  {
   "cell_type": "markdown",
   "metadata": {},
   "source": [
    "Download full log file for analysis"
   ]
  },
  {
   "cell_type": "code",
   "execution_count": 47,
   "metadata": {
    "collapsed": true
   },
   "outputs": [],
   "source": [
    "nwchem_i.pull()"
   ]
  },
  {
   "cell_type": "markdown",
   "metadata": {},
   "source": [
    "Run analysis to get the ESP charges"
   ]
  },
  {
   "cell_type": "code",
   "execution_count": 48,
   "metadata": {
    "collapsed": true
   },
   "outputs": [],
   "source": [
    "nwchem_i.analysis()"
   ]
  },
  {
   "cell_type": "markdown",
   "metadata": {},
   "source": [
    "Check the new charges "
   ]
  },
  {
   "cell_type": "code",
   "execution_count": 49,
   "metadata": {
    "collapsed": false,
    "scrolled": true
   },
   "outputs": [
    {
     "name": "stdout",
     "output_type": "stream",
     "text": [
      "C -0.086019\n",
      "C -0.136647\n",
      "C -0.085871\n",
      "C -0.108869\n",
      "S -0.117705\n",
      "H 0.153867\n",
      "H 0.118984\n",
      "H 0.109177\n",
      "H 0.153085\n"
     ]
    }
   ],
   "source": [
    "for pk,p in nwchem_i.strucC.particles.iteritems():\n",
    "    print p.symbol, p.charge"
   ]
  },
  {
   "cell_type": "code",
   "execution_count": 50,
   "metadata": {
    "collapsed": false
   },
   "outputs": [
    {
     "name": "stdout",
     "output_type": "stream",
     "text": [
      "2.00000000006e-06\n"
     ]
    }
   ],
   "source": [
    "nwchem_i.strucC.calc_charge()\n",
    "print nwchem_i.strucC.charge"
   ]
  },
  {
   "cell_type": "markdown",
   "metadata": {},
   "source": [
    "A little extra charge can cause problems with our MD simulation so, if our total is not zero let's round and set to neutral "
   ]
  },
  {
   "cell_type": "code",
   "execution_count": 51,
   "metadata": {
    "collapsed": true
   },
   "outputs": [],
   "source": [
    "def charges_round_neutral(strucC,ndigits = 2 ):\n",
    "    total_charge = 0.0 \n",
    "    for pk,p in strucC.particles.iteritems():\n",
    "        p.charge = round(p.charge,ndigits)\n",
    "        total_charge += p.charge\n",
    "    #\n",
    "    print total_charge\n",
    "    #\n",
    "    for pk,p in strucC.particles.iteritems():\n",
    "        p.charge += -1.0*total_charge/strucC.n_particles \n",
    "    strucC.calc_charge()\n",
    "    #\n",
    "    print strucC.charge"
   ]
  },
  {
   "cell_type": "code",
   "execution_count": 52,
   "metadata": {
    "collapsed": false
   },
   "outputs": [
    {
     "name": "stdout",
     "output_type": "stream",
     "text": [
      "-0.02\n",
      "8.32667268469e-17\n"
     ]
    }
   ],
   "source": [
    "if( abs(nwchem_i.strucC.charge) > 1.0e-16 ):\n",
    "    charges_round_neutral(nwchem_i.strucC)"
   ]
  },
  {
   "cell_type": "markdown",
   "metadata": {},
   "source": [
    "Update the charges of the Buildingblock"
   ]
  },
  {
   "cell_type": "code",
   "execution_count": 53,
   "metadata": {
    "collapsed": true
   },
   "outputs": [],
   "source": [
    "bbTh.tag += '_HFesp'"
   ]
  },
  {
   "cell_type": "code",
   "execution_count": 54,
   "metadata": {
    "collapsed": false
   },
   "outputs": [
    {
     "name": "stdout",
     "output_type": "stream",
     "text": [
      "thiophene_HFesp\n"
     ]
    }
   ],
   "source": [
    "print bbTh.tag"
   ]
  },
  {
   "cell_type": "code",
   "execution_count": 55,
   "metadata": {
    "collapsed": false
   },
   "outputs": [
    {
     "name": "stdout",
     "output_type": "stream",
     "text": [
      "0 C -0.0877777777778\n",
      "1 C -0.137777777778\n",
      "2 C -0.0877777777778\n",
      "3 C -0.107777777778\n",
      "4 S -0.117777777778\n",
      "5 H 0.152222222222\n",
      "6 H 0.122222222222\n",
      "7 H 0.112222222222\n",
      "8 H 0.152222222222\n"
     ]
    }
   ],
   "source": [
    "for pk,p in bbTh.particles.iteritems():\n",
    "    p.charge = nwchem_i.strucC.particles[pk].charge\n",
    "    print pk,p.symbol,p.charge"
   ]
  },
  {
   "cell_type": "markdown",
   "metadata": {},
   "source": [
    "Create the neighbor list and use it to set the bonds, bond angles and dihedrals for the force-field model"
   ]
  },
  {
   "cell_type": "code",
   "execution_count": 56,
   "metadata": {
    "collapsed": true
   },
   "outputs": [],
   "source": [
    "bbTh.bonded_nblist = bbTh.guess_nblist(0,radii_buffer=1.35)"
   ]
  },
  {
   "cell_type": "code",
   "execution_count": 57,
   "metadata": {
    "collapsed": true
   },
   "outputs": [],
   "source": [
    "bbTh.bonded_bonds()\n",
    "bbTh.bonded_angles()\n",
    "bbTh.bonded_dih()"
   ]
  },
  {
   "cell_type": "markdown",
   "metadata": {},
   "source": [
    "Store an object of the Buildingblock"
   ]
  },
  {
   "cell_type": "code",
   "execution_count": 58,
   "metadata": {
    "collapsed": true
   },
   "outputs": [],
   "source": [
    "os.chdir(res_local.dir['materials']) \n",
    "th_json = bbTh.export_json()"
   ]
  },
  {
   "cell_type": "markdown",
   "metadata": {},
   "source": [
    "Let us optimize the structure with the oplsaa force-field to check the parameters "
   ]
  },
  {
   "cell_type": "code",
   "execution_count": 59,
   "metadata": {
    "collapsed": true
   },
   "outputs": [],
   "source": [
    "os.chdir(res_local.dir['home']) "
   ]
  },
  {
   "cell_type": "code",
   "execution_count": 60,
   "metadata": {
    "collapsed": true
   },
   "outputs": [],
   "source": [
    "need_files = ['oplsaa_param.json']\n",
    "for f in need_files:\n",
    "    path = Path(f)\n",
    "    if not path.is_file():\n",
    "        print(\"Need to run forcefields_example.ipynb\")\n",
    "        os.system(\"jupyter nbconvert --to python  forcefields_example.ipynb\")\n",
    "        os.system(\"python forcefields_example.py\")"
   ]
  },
  {
   "cell_type": "code",
   "execution_count": 61,
   "metadata": {
    "collapsed": true
   },
   "outputs": [],
   "source": [
    "oplsaa = streamm.Parameters('oplsaa')"
   ]
  },
  {
   "cell_type": "code",
   "execution_count": 62,
   "metadata": {
    "collapsed": true
   },
   "outputs": [],
   "source": [
    "oplsaa.import_json(read_file=True)"
   ]
  },
  {
   "cell_type": "code",
   "execution_count": 63,
   "metadata": {
    "collapsed": false
   },
   "outputs": [
    {
     "name": "stdout",
     "output_type": "stream",
     "text": [
      "\n",
      "    Parameters \n",
      "      LJ parameters 2 \n",
      "      Bond parameters 2 \n",
      "      Angle parameters 2 \n",
      "      Dihedral parameters 1 \n",
      "      Improper Dihedral parameters 0 \n",
      "\n"
     ]
    }
   ],
   "source": [
    "print oplsaa"
   ]
  },
  {
   "cell_type": "code",
   "execution_count": 64,
   "metadata": {
    "collapsed": false
   },
   "outputs": [
    {
     "name": "stdout",
     "output_type": "stream",
     "text": [
      "kCalmol\n"
     ]
    }
   ],
   "source": [
    "print oplsaa.unit_conf['energy']"
   ]
  },
  {
   "cell_type": "markdown",
   "metadata": {},
   "source": [
    "We need to add the conjugated carbons, hydrogen and sulfur atom types "
   ]
  },
  {
   "cell_type": "code",
   "execution_count": 65,
   "metadata": {
    "collapsed": true
   },
   "outputs": [],
   "source": [
    "import streamm.forcefields.particletype as particletype"
   ]
  },
  {
   "cell_type": "code",
   "execution_count": 66,
   "metadata": {
    "collapsed": true
   },
   "outputs": [],
   "source": [
    "import pymatgen_core.core.periodic_table as periodic_table"
   ]
  },
  {
   "cell_type": "markdown",
   "metadata": {},
   "source": [
    "Set some parameters from J. Am. Chem. Soc., 1996, 118 (45), pp 11225–11236"
   ]
  },
  {
   "cell_type": "code",
   "execution_count": 67,
   "metadata": {
    "collapsed": true
   },
   "outputs": [],
   "source": [
    "CA = particletype.Particletype('CA')\n",
    "HA = particletype.Particletype('HA')"
   ]
  },
  {
   "cell_type": "code",
   "execution_count": 68,
   "metadata": {
    "collapsed": true
   },
   "outputs": [],
   "source": [
    "CA.update_units(oplsaa.unit_conf)\n",
    "HA.update_units(oplsaa.unit_conf)"
   ]
  },
  {
   "cell_type": "code",
   "execution_count": 69,
   "metadata": {
    "collapsed": true
   },
   "outputs": [],
   "source": [
    "CA.epsilon = 0.070 # kcal/mol\n",
    "CA.sigma = 3.55 # Angstroms "
   ]
  },
  {
   "cell_type": "code",
   "execution_count": 70,
   "metadata": {
    "collapsed": true
   },
   "outputs": [],
   "source": [
    "HA.epsilon = 0.030 # kcal/mol\n",
    "HA.sigma = 2.42 # Angstroms "
   ]
  },
  {
   "cell_type": "code",
   "execution_count": 71,
   "metadata": {
    "collapsed": true
   },
   "outputs": [],
   "source": [
    "CA.mass =  periodic_table.Element['C'].atomic_mass.real\n",
    "HA.mass =  periodic_table.Element['H'].atomic_mass.real"
   ]
  },
  {
   "cell_type": "code",
   "execution_count": 72,
   "metadata": {
    "collapsed": false
   },
   "outputs": [
    {
     "name": "stdout",
     "output_type": "stream",
     "text": [
      " CA epsilon:0.07 sigma:3.55  HA epsilon:0.03 sigma:2.42\n"
     ]
    }
   ],
   "source": [
    "print CA,HA"
   ]
  },
  {
   "cell_type": "code",
   "execution_count": 73,
   "metadata": {
    "collapsed": true
   },
   "outputs": [],
   "source": [
    "S = particletype.Particletype('S')"
   ]
  },
  {
   "cell_type": "code",
   "execution_count": 74,
   "metadata": {
    "collapsed": true
   },
   "outputs": [],
   "source": [
    "S.update_units(oplsaa.unit_conf)"
   ]
  },
  {
   "cell_type": "markdown",
   "metadata": {},
   "source": [
    "Set some parameters from J. Am. Chem. Soc., 1996, 118 (45), pp 11225–11236"
   ]
  },
  {
   "cell_type": "code",
   "execution_count": 75,
   "metadata": {
    "collapsed": true
   },
   "outputs": [],
   "source": [
    "S.epsilon = 0.25 # kcal/mol\n",
    "S.sigma = 3.55 # Angstroms "
   ]
  },
  {
   "cell_type": "code",
   "execution_count": 76,
   "metadata": {
    "collapsed": true
   },
   "outputs": [],
   "source": [
    "S.mass =  periodic_table.Element['S'].atomic_mass.real"
   ]
  },
  {
   "cell_type": "markdown",
   "metadata": {},
   "source": [
    "Add to forcefield parameters container"
   ]
  },
  {
   "cell_type": "code",
   "execution_count": 77,
   "metadata": {
    "collapsed": true
   },
   "outputs": [],
   "source": [
    "oplsaa.add_particletype(CA)\n",
    "oplsaa.add_particletype(HA)\n",
    "oplsaa.add_particletype(S)"
   ]
  },
  {
   "cell_type": "markdown",
   "metadata": {},
   "source": [
    "Set the bond stretching parameters "
   ]
  },
  {
   "cell_type": "code",
   "execution_count": 78,
   "metadata": {
    "collapsed": true
   },
   "outputs": [],
   "source": [
    "import streamm.forcefields.bondtype as bondtype"
   ]
  },
  {
   "cell_type": "code",
   "execution_count": 79,
   "metadata": {
    "collapsed": true
   },
   "outputs": [],
   "source": [
    "bt_i = bondtype.Bondtype('CA','HA',unit_conf=oplsaa.unit_conf)\n",
    "bt_i.setharmonic(1.080,367.0)\n",
    "oplsaa.add_bondtype(bt_i)"
   ]
  },
  {
   "cell_type": "code",
   "execution_count": 80,
   "metadata": {
    "collapsed": true
   },
   "outputs": [],
   "source": [
    "bt_i = bondtype.Bondtype('CA','CA',unit_conf=oplsaa.unit_conf)\n",
    "bt_i.setharmonic(1.400,469.0)\n",
    "oplsaa.add_bondtype(bt_i)"
   ]
  },
  {
   "cell_type": "code",
   "execution_count": 81,
   "metadata": {
    "collapsed": true
   },
   "outputs": [],
   "source": [
    "bt_i = bondtype.Bondtype('S','CA',unit_conf=oplsaa.unit_conf)\n",
    "bt_i.setharmonic(1.71,250.0)\n",
    "oplsaa.add_bondtype(bt_i)"
   ]
  },
  {
   "cell_type": "code",
   "execution_count": 82,
   "metadata": {
    "collapsed": false
   },
   "outputs": [
    {
     "name": "stdout",
     "output_type": "stream",
     "text": [
      "0  bond  CT - HC type harmonic \n",
      "  harmonic r_0 = 1.080000 K = 367.000000 lammps index 0  gromacs index 0  \n",
      "1  bond  CT - CT type harmonic \n",
      "  harmonic r_0 = 1.530000 K = 268.000000 lammps index 0  gromacs index 0  \n",
      "2  bond  CA - HA type harmonic \n",
      "  harmonic r_0 = 1.080000 K = 367.000000 lammps index 0  gromacs index 0  \n",
      "3  bond  CA - CA type harmonic \n",
      "  harmonic r_0 = 1.400000 K = 469.000000 lammps index 0  gromacs index 0  \n",
      "4  bond  S - CA type harmonic \n",
      "  harmonic r_0 = 1.710000 K = 250.000000 lammps index 0  gromacs index 0  \n"
     ]
    }
   ],
   "source": [
    "for btk,bt in oplsaa.bondtypes.iteritems():\n",
    "    print btk,bt"
   ]
  },
  {
   "cell_type": "code",
   "execution_count": 83,
   "metadata": {
    "collapsed": true
   },
   "outputs": [],
   "source": [
    "import streamm.forcefields.angletype as angletype"
   ]
  },
  {
   "cell_type": "code",
   "execution_count": 84,
   "metadata": {
    "collapsed": true
   },
   "outputs": [],
   "source": [
    "bat_i = angletype.Angletype('CA','CA','CA',unit_conf=oplsaa.unit_conf)\n",
    "bat_i.setharmonic(120.0,63.0)\n",
    "oplsaa.add_angletype(bat_i)"
   ]
  },
  {
   "cell_type": "code",
   "execution_count": 85,
   "metadata": {
    "collapsed": true
   },
   "outputs": [],
   "source": [
    "bat_i = angletype.Angletype('CA','CA','HA',unit_conf=oplsaa.unit_conf)\n",
    "bat_i.setharmonic(120.0,35.0)\n",
    "oplsaa.add_angletype(bat_i)"
   ]
  },
  {
   "cell_type": "code",
   "execution_count": 86,
   "metadata": {
    "collapsed": true
   },
   "outputs": [],
   "source": [
    "bat_i = angletype.Angletype('CA','S','CA',unit_conf=oplsaa.unit_conf)\n",
    "bat_i.setharmonic(92.2,70.0)\n",
    "oplsaa.add_angletype(bat_i)"
   ]
  },
  {
   "cell_type": "code",
   "execution_count": 87,
   "metadata": {
    "collapsed": true
   },
   "outputs": [],
   "source": [
    "bat_i = angletype.Angletype('S','CA','HA',unit_conf=oplsaa.unit_conf)\n",
    "bat_i.setharmonic(120.0,35.0)\n",
    "oplsaa.add_angletype(bat_i)"
   ]
  },
  {
   "cell_type": "code",
   "execution_count": 88,
   "metadata": {
    "collapsed": true
   },
   "outputs": [],
   "source": [
    "bat_i = angletype.Angletype('S','CA','CA',unit_conf=oplsaa.unit_conf)\n",
    "bat_i.setharmonic(111.0,70.0)\n",
    "oplsaa.add_angletype(bat_i)"
   ]
  },
  {
   "cell_type": "code",
   "execution_count": 89,
   "metadata": {
    "collapsed": false
   },
   "outputs": [
    {
     "name": "stdout",
     "output_type": "stream",
     "text": [
      "0  angle  HC - CT - HC type harmonic \n",
      "  harmonic theta_0 = 110.700000 K = 37.500000 lammps index 0  gromacs index 0  \n",
      "1  angle  HC - CT - CT type harmonic \n",
      "  harmonic theta_0 = 110.700000 K = 37.500000 lammps index 0  gromacs index 0  \n",
      "2  angle  CA - CA - CA type harmonic \n",
      "  harmonic theta_0 = 120.000000 K = 63.000000 lammps index 0  gromacs index 0  \n",
      "3  angle  CA - CA - HA type harmonic \n",
      "  harmonic theta_0 = 120.000000 K = 35.000000 lammps index 0  gromacs index 0  \n",
      "4  angle  CA - S - CA type harmonic \n",
      "  harmonic theta_0 = 92.200000 K = 70.000000 lammps index 0  gromacs index 0  \n",
      "5  angle  S - CA - HA type harmonic \n",
      "  harmonic theta_0 = 120.000000 K = 35.000000 lammps index 0  gromacs index 0  \n",
      "6  angle  S - CA - CA type harmonic \n",
      "  harmonic theta_0 = 111.000000 K = 70.000000 lammps index 0  gromacs index 0  \n"
     ]
    }
   ],
   "source": [
    "for atk,at in oplsaa.angletypes.iteritems():\n",
    "    print atk,at"
   ]
  },
  {
   "cell_type": "markdown",
   "metadata": {},
   "source": [
    "Set some reasonable dihedral parameters"
   ]
  },
  {
   "cell_type": "code",
   "execution_count": 90,
   "metadata": {
    "collapsed": true
   },
   "outputs": [],
   "source": [
    "import streamm.forcefields.dihtype as dihtype"
   ]
  },
  {
   "cell_type": "code",
   "execution_count": 91,
   "metadata": {
    "collapsed": true
   },
   "outputs": [],
   "source": [
    "dih_i = dihtype.Dihtype('X','CA','CA','X',unit_conf=oplsaa.unit_conf)\n",
    "dih_i.type ='opls'\n",
    "dih_i.setopls(0.0,1.812532,0.0,0.0)\n",
    "oplsaa.add_dihtype(dih_i)"
   ]
  },
  {
   "cell_type": "code",
   "execution_count": 92,
   "metadata": {
    "collapsed": true
   },
   "outputs": [],
   "source": [
    "dih_i = dihtype.Dihtype('X','S','CA','X',unit_conf=oplsaa.unit_conf)\n",
    "dih_i.type ='opls'\n",
    "dih_i.setopls(0.0,2.416710,0.0,0.0)\n",
    "oplsaa.add_dihtype(dih_i)"
   ]
  },
  {
   "cell_type": "code",
   "execution_count": 93,
   "metadata": {
    "collapsed": true
   },
   "outputs": [],
   "source": [
    "dih_i = dihtype.Dihtype('S','CA','CA','HA',unit_conf=oplsaa.unit_conf)\n",
    "dih_i.type ='opls'\n",
    "dih_i.setopls(0.0,1.812532,0.0,0.0)\n",
    "oplsaa.add_dihtype(dih_i)"
   ]
  },
  {
   "cell_type": "code",
   "execution_count": 94,
   "metadata": {
    "collapsed": false
   },
   "outputs": [
    {
     "name": "stdout",
     "output_type": "stream",
     "text": [
      "0  dihedral  HC - CT - CT - HC type opls \n",
      "  k1 = 0.000000 k2 = 0.000000 k3 = 0.300000 k4 = 0.000000 lammps index 0  gromcas index 0 \n",
      "1  dihedral  X - CA - CA - X type opls \n",
      "  k1 = 0.000000 k2 = 1.812532 k3 = 0.000000 k4 = 0.000000 lammps index 0  gromcas index 0 \n",
      "2  dihedral  X - S - CA - X type opls \n",
      "  k1 = 0.000000 k2 = 2.416710 k3 = 0.000000 k4 = 0.000000 lammps index 0  gromcas index 0 \n",
      "3  dihedral  S - CA - CA - HA type opls \n",
      "  k1 = 0.000000 k2 = 1.812532 k3 = 0.000000 k4 = 0.000000 lammps index 0  gromcas index 0 \n"
     ]
    }
   ],
   "source": [
    "for dk,d in oplsaa.dihtypes.iteritems():\n",
    "    print dk,d "
   ]
  },
  {
   "cell_type": "markdown",
   "metadata": {},
   "source": [
    "Let us make an MD simulation of just the monomer to check that our parameters are okay"
   ]
  },
  {
   "cell_type": "code",
   "execution_count": 95,
   "metadata": {
    "collapsed": true
   },
   "outputs": [],
   "source": [
    "def lmp_run(project_i,bb_i,param_i,res_i,md_type = 'min'):\n",
    "    # Create LAMMPS calculation object \n",
    "    calc_n =  len(project_i.calculations)     \n",
    "    lmp_i = streamm.LAMMPS('lmp_{}_{}_calc_{}'.format(md_type,bb_i.tag,calc_n))\n",
    "    # lmp_i = streamm.LAMMPS('lmp_{}_{}'.format(md_type,bb_i.tag))\n",
    "    # Set parameter container \n",
    "    lmp_i.paramC = param_i\n",
    "    lmp_i.set_strucC(bb_i)\n",
    "    # Set force-field parameters \n",
    "    lmp_i.set_ffparam()\n",
    "    # Set resource to local\n",
    "    lmp_i.set_resource(res_i)\n",
    "    # Make local directories\n",
    "    lmp_i.make_dir()\n",
    "    # Set pbc's to on\n",
    "    lmp_i.strucC.lat.pbcs = [True,True,True]\n",
    "    # Change to launch directory\n",
    "    os.chdir(lmp_i.dir['launch'])\n",
    "    # Copy over the templates from the template directory \n",
    "    lmp_i.cp_file('templates','in',\"lammps_{}.in\".format(md_type),'templates','launch')\n",
    "    lmp_i.cp_file('templates','run',\"lammps_remote.pbs\",'templates','launch')\n",
    "    # Change to scratch\n",
    "    os.chdir(lmp_i.dir['launch'])\n",
    "    # Read in template files and store them as strings in the `str` dictionary\n",
    "    lmp_i.load_str('templates','in')\n",
    "    lmp_i.load_str('templates','run')\n",
    "    # Write LAMMPS .data file\n",
    "    lmp_i.write_data()\n",
    "    # Replace keys in template string with properties \n",
    "    lmp_i.replacewrite_prop('in','input','in','%s.in'%(lmp_i.tag))\n",
    "    # Add the input file to the properties to be written into the run file\n",
    "    lmp_i.properties['input_in'] = lmp_i.files['input']['in']\n",
    "    lmp_i.replacewrite_prop('run','scripts','run','%s.pbs'%(lmp_i.tag))\n",
    "    # Save json file in root directory\n",
    "    os.chdir(lmp_i.dir['home'])\n",
    "    lmp_i.export_json()\n",
    "    # Run bash script or submit to cluster\n",
    "    lmp_i.add_file('output','log',\"%s.log\"%(lmp_i.tag))\n",
    "    # Save details in .json files \n",
    "    os.chdir(lmp_i.dir['home'])\n",
    "    project_i.export_json()\n",
    "    lmp_i.export_json()\n",
    "    #\n",
    "    os.chdir(lmp_i.dir['launch'])\n",
    "    lmp_i.push()\n",
    "    lmp_i.run()\n",
    "    # Add calculation to project\n",
    "    project_i.add_calc(lmp_i,deepcopy = True)\n",
    "    # \n",
    "    return project_i     "
   ]
  },
  {
   "cell_type": "code",
   "execution_count": 96,
   "metadata": {
    "collapsed": false
   },
   "outputs": [
    {
     "name": "stdout",
     "output_type": "stream",
     "text": [
      "Calculation nw_esp_thiophene_calc_1 has status stored\n",
      "Calculation nw_opt_thiophene_calc_0 has status stored\n"
     ]
    }
   ],
   "source": [
    "p3ht_et.check()"
   ]
  },
  {
   "cell_type": "code",
   "execution_count": 97,
   "metadata": {
    "collapsed": true
   },
   "outputs": [],
   "source": [
    "p3ht_et = lmp_run(p3ht_et,bbTh,oplsaa,res_calc)"
   ]
  },
  {
   "cell_type": "code",
   "execution_count": 98,
   "metadata": {
    "collapsed": true
   },
   "outputs": [],
   "source": [
    "lmp_i = p3ht_et.calculations['lmp_min_thiophene_HFesp_calc_2']"
   ]
  },
  {
   "cell_type": "code",
   "execution_count": 99,
   "metadata": {
    "collapsed": true
   },
   "outputs": [],
   "source": [
    "os.chdir(lmp_i.dir['launch'])"
   ]
  },
  {
   "cell_type": "code",
   "execution_count": 100,
   "metadata": {
    "collapsed": true
   },
   "outputs": [],
   "source": [
    "while( lmp_i.meta['status'] != 'finished'):\n",
    "    lmp_i.check()\n",
    "    time.sleep(status_refresh)    "
   ]
  },
  {
   "cell_type": "markdown",
   "metadata": {},
   "source": [
    "Run analysis of .in and .log files "
   ]
  },
  {
   "cell_type": "code",
   "execution_count": 101,
   "metadata": {
    "collapsed": true
   },
   "outputs": [],
   "source": [
    "lmp_i.analysis()"
   ]
  },
  {
   "cell_type": "code",
   "execution_count": 102,
   "metadata": {
    "collapsed": false
   },
   "outputs": [
    {
     "name": "stdout",
     "output_type": "stream",
     "text": [
      "[15.543773, 7.7375745]\n"
     ]
    }
   ],
   "source": [
    "run_i= lmp_i.run_list[0]\n",
    "print run_i.timeseries['toteng']"
   ]
  },
  {
   "cell_type": "markdown",
   "metadata": {},
   "source": [
    "Energy decreased and nothing exploded so that's good"
   ]
  },
  {
   "cell_type": "code",
   "execution_count": 103,
   "metadata": {
    "collapsed": true
   },
   "outputs": [],
   "source": [
    "lmp_i.store()"
   ]
  },
  {
   "cell_type": "markdown",
   "metadata": {},
   "source": [
    "Read in data file positions"
   ]
  },
  {
   "cell_type": "code",
   "execution_count": 104,
   "metadata": {
    "collapsed": true
   },
   "outputs": [],
   "source": [
    "lmp_i.pull()"
   ]
  },
  {
   "cell_type": "markdown",
   "metadata": {},
   "source": [
    "Read in data file output and update positions"
   ]
  },
  {
   "cell_type": "code",
   "execution_count": 105,
   "metadata": {
    "collapsed": false
   },
   "outputs": [
    {
     "name": "stdout",
     "output_type": "stream",
     "text": [
      "min1.data\n"
     ]
    }
   ],
   "source": [
    "datafn = lmp_i.files['output']['data_1']\n",
    "print datafn"
   ]
  },
  {
   "cell_type": "code",
   "execution_count": 106,
   "metadata": {
    "collapsed": true
   },
   "outputs": [],
   "source": [
    "lmp_i.read_data_pos(datafn)"
   ]
  },
  {
   "cell_type": "code",
   "execution_count": 107,
   "metadata": {
    "collapsed": false
   },
   "outputs": [
    {
     "name": "stdout",
     "output_type": "stream",
     "text": [
      "[[ 100.    0.    0.]\n",
      " [   0.  100.    0.]\n",
      " [   0.    0.  100.]]\n"
     ]
    }
   ],
   "source": [
    "print lmp_i.strucC.lat.matrix"
   ]
  },
  {
   "cell_type": "code",
   "execution_count": 108,
   "metadata": {
    "collapsed": true
   },
   "outputs": [],
   "source": [
    "lmp_i.strucC.write_xyz()"
   ]
  },
  {
   "cell_type": "markdown",
   "metadata": {},
   "source": [
    "We will use the oplsaa optimized structure as the initial structure since we will be running MD "
   ]
  },
  {
   "cell_type": "code",
   "execution_count": 109,
   "metadata": {
    "collapsed": true
   },
   "outputs": [],
   "source": [
    "bbTh.tag += '_oplsaa'"
   ]
  },
  {
   "cell_type": "code",
   "execution_count": 110,
   "metadata": {
    "collapsed": false
   },
   "outputs": [
    {
     "name": "stdout",
     "output_type": "stream",
     "text": [
      "0 C [ -1.56860038e+00  -1.93713397e+00  -1.24273622e-03]\n",
      "1 C [ -1.72701660e-01  -1.89176169e+00  -1.60495164e-03]\n",
      "2 C [ 0.33787844 -0.59671672 -0.00115104]\n",
      "3 C [ -6.51342119e-01   3.89236583e-01  -4.03568474e-04]\n",
      "4 S [ -2.21162214e+00  -3.39574867e-01  -2.15216875e-04]\n",
      "5 H [ -2.16015039e+00  -2.84188201e+00  -1.58458414e-04]\n",
      "6 H [  4.46480869e-01  -2.77679556e+00  -1.26658112e-03]\n",
      "7 H [  1.39443300e+00  -3.72550668e-01  -5.03989719e-04]\n",
      "8 H [ -4.66214626e-01   1.45428691e+00   9.88545095e-04]\n"
     ]
    }
   ],
   "source": [
    "for pk,p in bbTh.particles.iteritems():\n",
    "    bbTh.positions[pk] = lmp_i.strucC.positions[pk]\n",
    "    print pk,p.symbol,bbTh.positions[pk]"
   ]
  },
  {
   "cell_type": "markdown",
   "metadata": {},
   "source": [
    "Save the Buildingblock and force-field"
   ]
  },
  {
   "cell_type": "code",
   "execution_count": 111,
   "metadata": {
    "collapsed": true
   },
   "outputs": [],
   "source": [
    "os.chdir(res_local.dir['materials']) \n",
    "bbTh.write_xyz()\n",
    "th_json = bbTh.export_json() \n",
    "oplsaa_json = oplsaa.export_json()"
   ]
  },
  {
   "cell_type": "markdown",
   "metadata": {},
   "source": [
    "Okay now that we have a handle on thiophene let's follow the same procedure for hexane"
   ]
  },
  {
   "cell_type": "markdown",
   "metadata": {},
   "source": [
    "Build hexane"
   ]
  },
  {
   "cell_type": "code",
   "execution_count": 112,
   "metadata": {
    "collapsed": true
   },
   "outputs": [],
   "source": [
    "bbHex = streamm.Buildingblock('hexane')\n",
    "symbols = ['C','H','H','H','C','H','H','C','H','H','C','H','H','C','H','H','C','H','H','H']\n",
    "positions = [ ]\n",
    "positions.append([-6.410969,-0.381641,-0.000031])\n",
    "positions.append([-7.310084,0.245311,-0.000038])\n",
    "positions.append([-6.456117,-1.028799,0.884636])\n",
    "positions.append([-6.456111,-1.028812,-0.884689])\n",
    "positions.append([-5.135268,0.467175,-0.000033])\n",
    "positions.append([-5.135484,1.128782,0.877977])\n",
    "positions.append([-5.135479,1.128771,-0.87805])\n",
    "positions.append([-3.850566,-0.371258,-0.000024])\n",
    "positions.append([-3.85112,-1.033978,0.87841])\n",
    "positions.append([-3.851114,-1.033987,-0.878451])\n",
    "positions.append([-2.567451,0.469603,-0.000024])\n",
    "positions.append([-2.567784,1.132155,0.8784])\n",
    "positions.append([-2.567776,1.132146,-0.878455])\n",
    "positions.append([-1.283527,-0.370234,-0.000013])\n",
    "positions.append([-1.28337,-1.032804,0.87836])\n",
    "positions.append([-1.28336,-1.032812,-0.87838])\n",
    "positions.append([0.00482234,0.47342231,-0.00000898])\n",
    "positions.append([0.02595107,1.09220686,0.87266464])\n",
    "positions.append([0.85585781,-0.17514133,0.00194589])\n",
    "positions.append([0.02780957,1.08937798,-0.87463473])\n",
    "for i in range(len(symbols)):\n",
    "    pt_i = streamm.Particle(symbol=symbols[i])\n",
    "    pos_i = positions[i]\n",
    "    bbHex.add_partpos(pt_i,pos_i)"
   ]
  },
  {
   "cell_type": "code",
   "execution_count": 113,
   "metadata": {
    "collapsed": true
   },
   "outputs": [],
   "source": [
    "bbHex.particles[0].rsite = 'rg'\n",
    "bbHex.particles[1].rsite = 'rgcap'"
   ]
  },
  {
   "cell_type": "code",
   "execution_count": 114,
   "metadata": {
    "collapsed": true
   },
   "outputs": [],
   "source": [
    "c_cnt =1\n",
    "h_cnt =1\n",
    "for pkey_i, particle_i  in bbHex.particles.iteritems():\n",
    "            if( particle_i.symbol == 'C' ):\n",
    "                particle_i.label = \"C%d\"%(c_cnt)\n",
    "                particle_i.resname = \"SCP3\"\n",
    "                particle_i.residue = c_cnt\n",
    "                c_cnt +=1 \n",
    "            if( particle_i.symbol == 'H' ):\n",
    "                particle_i.label = \"H%d\"%(h_cnt)\n",
    "                particle_i.resname = \"HC\"\n",
    "                particle_i.residue = c_cnt -1 \n",
    "                h_cnt +=1 "
   ]
  },
  {
   "cell_type": "markdown",
   "metadata": {},
   "source": [
    "Set the parameter keys and some reasonable atomic charges "
   ]
  },
  {
   "cell_type": "code",
   "execution_count": 115,
   "metadata": {
    "collapsed": false
   },
   "outputs": [
    {
     "name": "stdout",
     "output_type": "stream",
     "text": [
      "0 C -0.12\n",
      "1 H 0.06\n",
      "2 H 0.06\n",
      "3 H 0.06\n",
      "4 C -0.12\n",
      "5 H 0.06\n",
      "6 H 0.06\n",
      "7 C -0.12\n",
      "8 H 0.06\n",
      "9 H 0.06\n",
      "10 C -0.12\n",
      "11 H 0.06\n",
      "12 H 0.06\n",
      "13 C -0.12\n",
      "14 H 0.06\n",
      "15 H 0.06\n",
      "16 C -0.12\n",
      "17 H 0.06\n",
      "18 H 0.06\n",
      "19 H 0.06\n"
     ]
    }
   ],
   "source": [
    "for pkey_i, particle_i  in bbHex.particles.iteritems():\n",
    "            if( particle_i.symbol == 'C' ):\n",
    "                particle_i.paramkey = 'CT'\n",
    "                particle_i.charge = -0.12\n",
    "\n",
    "            if( particle_i.symbol == 'H' ):\n",
    "                particle_i.paramkey = 'HC'\n",
    "                particle_i.charge = 0.06\n",
    "            print pkey_i, particle_i.symbol,particle_i.charge"
   ]
  },
  {
   "cell_type": "code",
   "execution_count": 116,
   "metadata": {
    "collapsed": true
   },
   "outputs": [],
   "source": [
    "bbHex.particles[0].charge  = -0.18\n",
    "bbHex.particles[16].charge  = -0.18"
   ]
  },
  {
   "cell_type": "markdown",
   "metadata": {},
   "source": [
    "Check that the molecule is neutral "
   ]
  },
  {
   "cell_type": "code",
   "execution_count": 117,
   "metadata": {
    "collapsed": false
   },
   "outputs": [
    {
     "name": "stdout",
     "output_type": "stream",
     "text": [
      "0.0\n"
     ]
    }
   ],
   "source": [
    "bbHex.calc_charge()\n",
    "print bbHex.charge\n"
   ]
  },
  {
   "cell_type": "markdown",
   "metadata": {},
   "source": [
    "Now let us optimize and calculate ESP charges for hexane"
   ]
  },
  {
   "cell_type": "markdown",
   "metadata": {},
   "source": [
    "Optimize structure with NWChem"
   ]
  },
  {
   "cell_type": "code",
   "execution_count": 118,
   "metadata": {
    "collapsed": false
   },
   "outputs": [
    {
     "name": "stdout",
     "output_type": "stream",
     "text": [
      "['lmp_min_thiophene_HFesp_calc_2', 'nw_esp_thiophene_calc_1', 'nw_opt_thiophene_calc_0']\n"
     ]
    }
   ],
   "source": [
    "print p3ht_et.calculations.keys()"
   ]
  },
  {
   "cell_type": "code",
   "execution_count": 119,
   "metadata": {
    "collapsed": false
   },
   "outputs": [
    {
     "name": "stdout",
     "output_type": "stream",
     "text": [
      "nw_opt_hexane_calc_3\n",
      "{u'allocation': u'orgopv',\n",
      " u'basis': '6-31g',\n",
      " u'charge': 0,\n",
      " 'comp_key': 'compressed',\n",
      " 'compress': 'tar -czf ',\n",
      " 'compress_sufix': 'tgz',\n",
      " 'coord': u'     C      -6.41096900      -0.38164100      -0.00003100 \\n     H      -7.31008400       0.24531100      -0.00003800 \\n     H      -6.45611700      -1.02879900       0.88463600 \\n     H      -6.45611100      -1.02881200      -0.88468900 \\n     C      -5.13526800       0.46717500      -0.00003300 \\n     H      -5.13548400       1.12878200       0.87797700 \\n     H      -5.13547900       1.12877100      -0.87805000 \\n     C      -3.85056600      -0.37125800      -0.00002400 \\n     H      -3.85112000      -1.03397800       0.87841000 \\n     H      -3.85111400      -1.03398700      -0.87845100 \\n     C      -2.56745100       0.46960300      -0.00002400 \\n     H      -2.56778400       1.13215500       0.87840000 \\n     H      -2.56777600       1.13214600      -0.87845500 \\n     C      -1.28352700      -0.37023400      -0.00001300 \\n     H      -1.28337000      -1.03280400       0.87836000 \\n     H      -1.28336000      -1.03281200      -0.87838000 \\n     C       0.00482234       0.47342231      -0.00000898 \\n     H       0.02595107       1.09220686       0.87266464 \\n     H       0.85585781      -0.17514133       0.00194589 \\n     H       0.02780957       1.08937798      -0.87463473 \\n',\n",
      " u'e-mail': u'tkemper@nrel.gov',\n",
      " u'exe_command': u'qsub ',\n",
      " u'feature': u'24core',\n",
      " u'finish_str': u'Total times  cpu:',\n",
      " u'maxiter': 100,\n",
      " u'method': 'UHF',\n",
      " u'nodes': 1,\n",
      " u'nproc': 24,\n",
      " u'pmem': 1500,\n",
      " u'ppn': 24,\n",
      " u'queue': u'short',\n",
      " u'scratch': u'/scratch/tkemper/nw_opt_hexane_calc_3/',\n",
      " u'spin_mult': 1,\n",
      " u'task': 'SCF optimize',\n",
      " 'uncompress': 'tar -xzf ',\n",
      " u'walltime': 4}\n"
     ]
    }
   ],
   "source": [
    "p3ht_et = nw_opt(p3ht_et,bbHex,res_calc)"
   ]
  },
  {
   "cell_type": "code",
   "execution_count": 120,
   "metadata": {
    "collapsed": false
   },
   "outputs": [
    {
     "name": "stdout",
     "output_type": "stream",
     "text": [
      "Calculation nw_opt_hexane_calc_3 has status finished\n",
      "Calculation lmp_min_thiophene_HFesp_calc_2 has status stored\n",
      "Calculation nw_esp_thiophene_calc_1 has status stored\n",
      "Calculation nw_opt_thiophene_calc_0 has status stored\n"
     ]
    }
   ],
   "source": [
    "p3ht_et.check()"
   ]
  },
  {
   "cell_type": "code",
   "execution_count": 121,
   "metadata": {
    "collapsed": true
   },
   "outputs": [],
   "source": [
    "nwchem_i = p3ht_et.calculations['nw_opt_hexane_calc_3']"
   ]
  },
  {
   "cell_type": "code",
   "execution_count": 122,
   "metadata": {
    "collapsed": true
   },
   "outputs": [],
   "source": [
    "os.chdir(nwchem_i.dir['launch'])"
   ]
  },
  {
   "cell_type": "code",
   "execution_count": 123,
   "metadata": {
    "collapsed": true
   },
   "outputs": [],
   "source": [
    "while( nwchem_i.meta['status'] != 'finished'):\n",
    "    nwchem_i.check()\n",
    "    time.sleep(status_refresh)"
   ]
  },
  {
   "cell_type": "markdown",
   "metadata": {},
   "source": [
    "Store the results "
   ]
  },
  {
   "cell_type": "code",
   "execution_count": 124,
   "metadata": {
    "collapsed": true
   },
   "outputs": [],
   "source": [
    "nwchem_i.store()"
   ]
  },
  {
   "cell_type": "markdown",
   "metadata": {},
   "source": [
    "Download full log file for analysis"
   ]
  },
  {
   "cell_type": "code",
   "execution_count": 125,
   "metadata": {
    "collapsed": true
   },
   "outputs": [],
   "source": [
    "nwchem_i.pull()"
   ]
  },
  {
   "cell_type": "markdown",
   "metadata": {},
   "source": [
    "Get the calculation from the project object "
   ]
  },
  {
   "cell_type": "code",
   "execution_count": 126,
   "metadata": {
    "collapsed": true
   },
   "outputs": [],
   "source": [
    "nwchem_i.analysis()"
   ]
  },
  {
   "cell_type": "markdown",
   "metadata": {},
   "source": [
    "Print energies "
   ]
  },
  {
   "cell_type": "code",
   "execution_count": 127,
   "metadata": {
    "collapsed": false
   },
   "outputs": [
    {
     "name": "stdout",
     "output_type": "stream",
     "text": [
      "[-0.5549424, -0.5282407, -0.5218841, -0.4996812, -0.4774207, -0.4626707, -0.453462, -0.4506618, -0.4351213, 0.2272358]\n",
      "-235.271544596\n"
     ]
    }
   ],
   "source": [
    "print nwchem_i.properties['alpha_energies'][10:20]\n",
    "print nwchem_i.properties['energy']"
   ]
  },
  {
   "cell_type": "markdown",
   "metadata": {},
   "source": [
    "Check that the positions of the structure have been optimized "
   ]
  },
  {
   "cell_type": "code",
   "execution_count": 128,
   "metadata": {
    "collapsed": false
   },
   "outputs": [
    {
     "name": "stdout",
     "output_type": "stream",
     "text": [
      "0 C [ -6.41096900e+00  -3.81641000e-01  -3.10000000e-05]\n",
      "1 H [ -7.31008400e+00   2.45311000e-01  -3.80000000e-05]\n",
      "2 H [-6.456117 -1.028799  0.884636]\n",
      "3 H [-6.456111 -1.028812 -0.884689]\n",
      "4 C [ -5.13526800e+00   4.67175000e-01  -3.30000000e-05]\n",
      "5 H [-5.135484  1.128782  0.877977]\n",
      "6 H [-5.135479  1.128771 -0.87805 ]\n",
      "7 C [ -3.85056600e+00  -3.71258000e-01  -2.40000000e-05]\n",
      "8 H [-3.85112  -1.033978  0.87841 ]\n",
      "9 H [-3.851114 -1.033987 -0.878451]\n",
      "10 C [ -2.56745100e+00   4.69603000e-01  -2.40000000e-05]\n",
      "11 H [-2.567784  1.132155  0.8784  ]\n",
      "12 H [-2.567776  1.132146 -0.878455]\n",
      "13 C [ -1.28352700e+00  -3.70234000e-01  -1.30000000e-05]\n",
      "14 H [-1.28337  -1.032804  0.87836 ]\n",
      "15 H [-1.28336  -1.032812 -0.87838 ]\n",
      "16 C [  4.82234000e-03   4.73422310e-01  -8.98000000e-06]\n",
      "17 H [ 0.02595107  1.09220686  0.87266464]\n",
      "18 H [ 0.85585781 -0.17514133  0.00194589]\n",
      "19 H [ 0.02780957  1.08937798 -0.87463473]\n"
     ]
    }
   ],
   "source": [
    "for pk,p in bbHex.particles.iteritems():\n",
    "    print pk,p.symbol,bbHex.positions[pk]"
   ]
  },
  {
   "cell_type": "code",
   "execution_count": 129,
   "metadata": {
    "collapsed": false
   },
   "outputs": [
    {
     "name": "stdout",
     "output_type": "stream",
     "text": [
      "[[ -6.40727096e+00  -3.79022800e-01   3.48200000e-05]\n",
      " [ -7.29437061e+00   2.44910680e-01   7.42400000e-05]\n",
      " [ -6.45166132e+00  -1.01740711e+00   8.76562180e-01]\n",
      " [ -6.45174258e+00  -1.01732205e+00  -8.76555670e-01]\n",
      " [ -5.13169157e+00   4.68167580e-01   1.40700000e-05]\n",
      " [ -5.13055152e+00   1.11968843e+00   8.70404110e-01]\n",
      " [ -5.13070047e+00   1.11990884e+00  -8.70210460e-01]\n",
      " [ -3.85233213e+00  -3.76683200e-01  -2.30580000e-04]\n",
      " [ -3.85428615e+00  -1.02883090e+00   8.70880960e-01]\n",
      " [ -3.85451311e+00  -1.02885462e+00  -8.71281400e-01]\n",
      " [ -2.57107059e+00   4.64329530e-01  -2.23200000e-04]\n",
      " [ -2.56902455e+00   1.11699819e+00   8.70459680e-01]\n",
      " [ -2.56884863e+00   1.11635486e+00  -8.71476170e-01]\n",
      " [ -1.29180043e+00  -3.80715820e-01   8.75000000e-06]\n",
      " [ -1.29320070e+00  -1.03207058e+00   8.70577760e-01]\n",
      " [ -1.29288445e+00  -1.03276930e+00  -8.69939160e-01]\n",
      " [ -1.54094200e-02   4.65275380e-01   1.41180000e-04]\n",
      " [  2.90437200e-02   1.10462404e+00   8.76019690e-01]\n",
      " [  8.70896720e-01  -1.59878970e-01   1.36176000e-03]\n",
      " [  3.02795500e-02   1.10278165e+00  -8.77060720e-01]]\n"
     ]
    }
   ],
   "source": [
    "print nwchem_i.strucC.positions"
   ]
  },
  {
   "cell_type": "markdown",
   "metadata": {},
   "source": [
    "Update positions in Buildingblock object"
   ]
  },
  {
   "cell_type": "code",
   "execution_count": 130,
   "metadata": {
    "collapsed": false
   },
   "outputs": [
    {
     "name": "stdout",
     "output_type": "stream",
     "text": [
      "0 C [ -6.40727096e+00  -3.79022800e-01   3.48200000e-05]\n",
      "1 H [ -7.29437061e+00   2.44910680e-01   7.42400000e-05]\n",
      "2 H [-6.45166132 -1.01740711  0.87656218]\n",
      "3 H [-6.45174258 -1.01732205 -0.87655567]\n",
      "4 C [ -5.13169157e+00   4.68167580e-01   1.40700000e-05]\n",
      "5 H [-5.13055152  1.11968843  0.87040411]\n",
      "6 H [-5.13070047  1.11990884 -0.87021046]\n",
      "7 C [ -3.85233213e+00  -3.76683200e-01  -2.30580000e-04]\n",
      "8 H [-3.85428615 -1.0288309   0.87088096]\n",
      "9 H [-3.85451311 -1.02885462 -0.8712814 ]\n",
      "10 C [ -2.57107059e+00   4.64329530e-01  -2.23200000e-04]\n",
      "11 H [-2.56902455  1.11699819  0.87045968]\n",
      "12 H [-2.56884863  1.11635486 -0.87147617]\n",
      "13 C [ -1.29180043e+00  -3.80715820e-01   8.75000000e-06]\n",
      "14 H [-1.2932007  -1.03207058  0.87057776]\n",
      "15 H [-1.29288445 -1.0327693  -0.86993916]\n",
      "16 C [ -1.54094200e-02   4.65275380e-01   1.41180000e-04]\n",
      "17 H [ 0.02904372  1.10462404  0.87601969]\n",
      "18 H [ 0.87089672 -0.15987897  0.00136176]\n",
      "19 H [ 0.03027955  1.10278165 -0.87706072]\n"
     ]
    }
   ],
   "source": [
    "for pk,p in bbHex.particles.iteritems():\n",
    "    bbHex.positions[pk] = nwchem_i.strucC.positions[pk]\n",
    "    print pk,p.symbol,bbHex.positions[pk]"
   ]
  },
  {
   "cell_type": "markdown",
   "metadata": {},
   "source": [
    "Store the results in a tar ball in the storage directory "
   ]
  },
  {
   "cell_type": "code",
   "execution_count": 131,
   "metadata": {
    "collapsed": true
   },
   "outputs": [],
   "source": [
    "nwchem_i.store()"
   ]
  },
  {
   "cell_type": "markdown",
   "metadata": {},
   "source": [
    "Now let us calculate the ESP charges to use in our forcefield "
   ]
  },
  {
   "cell_type": "code",
   "execution_count": 132,
   "metadata": {
    "collapsed": false,
    "scrolled": true
   },
   "outputs": [
    {
     "name": "stdout",
     "output_type": "stream",
     "text": [
      "nw_esp_hexane_calc_4\n",
      "{u'allocation': u'orgopv',\n",
      " u'basis': '6-31g',\n",
      " u'charge': 0,\n",
      " 'comp_key': 'compressed',\n",
      " 'compress': 'tar -czf ',\n",
      " 'compress_sufix': 'tgz',\n",
      " 'coord': u'     C      -6.40727096      -0.37902280       0.00003482 \\n     H      -7.29437061       0.24491068       0.00007424 \\n     H      -6.45166132      -1.01740711       0.87656218 \\n     H      -6.45174258      -1.01732205      -0.87655567 \\n     C      -5.13169157       0.46816758       0.00001407 \\n     H      -5.13055152       1.11968843       0.87040411 \\n     H      -5.13070047       1.11990884      -0.87021046 \\n     C      -3.85233213      -0.37668320      -0.00023058 \\n     H      -3.85428615      -1.02883090       0.87088096 \\n     H      -3.85451311      -1.02885462      -0.87128140 \\n     C      -2.57107059       0.46432953      -0.00022320 \\n     H      -2.56902455       1.11699819       0.87045968 \\n     H      -2.56884863       1.11635486      -0.87147617 \\n     C      -1.29180043      -0.38071582       0.00000875 \\n     H      -1.29320070      -1.03207058       0.87057776 \\n     H      -1.29288445      -1.03276930      -0.86993916 \\n     C      -0.01540942       0.46527538       0.00014118 \\n     H       0.02904372       1.10462404       0.87601969 \\n     H       0.87089672      -0.15987897       0.00136176 \\n     H       0.03027955       1.10278165      -0.87706072 \\n',\n",
      " u'e-mail': u'tkemper@nrel.gov',\n",
      " u'exe_command': u'qsub ',\n",
      " u'feature': u'24core',\n",
      " u'finish_str': u'Total times  cpu:',\n",
      " u'maxiter': 100,\n",
      " u'method': 'UHF',\n",
      " u'nodes': 1,\n",
      " u'nproc': 24,\n",
      " u'pmem': 1500,\n",
      " u'ppn': 24,\n",
      " u'queue': u'short',\n",
      " u'scratch': u'/scratch/tkemper/nw_esp_hexane_calc_4/',\n",
      " u'spin_mult': 1,\n",
      " u'task': 'SCF',\n",
      " 'uncompress': 'tar -xzf ',\n",
      " u'walltime': 4}\n"
     ]
    }
   ],
   "source": [
    "p3ht_et = nw_esp(p3ht_et,bbHex,res_calc)"
   ]
  },
  {
   "cell_type": "markdown",
   "metadata": {},
   "source": [
    "Check status unit finished"
   ]
  },
  {
   "cell_type": "code",
   "execution_count": 133,
   "metadata": {
    "collapsed": false
   },
   "outputs": [
    {
     "name": "stdout",
     "output_type": "stream",
     "text": [
      "Calculation nw_opt_hexane_calc_3 has status stored\n",
      "Calculation lmp_min_thiophene_HFesp_calc_2 has status stored\n",
      "Calculation nw_esp_thiophene_calc_1 has status stored\n",
      "Calculation nw_opt_thiophene_calc_0 has status stored\n",
      "Calculation nw_esp_hexane_calc_4 has status finished\n"
     ]
    }
   ],
   "source": [
    "p3ht_et.check()"
   ]
  },
  {
   "cell_type": "code",
   "execution_count": 134,
   "metadata": {
    "collapsed": true
   },
   "outputs": [],
   "source": [
    "nwchem_i = p3ht_et.calculations['nw_esp_hexane_calc_4']"
   ]
  },
  {
   "cell_type": "code",
   "execution_count": 135,
   "metadata": {
    "collapsed": true
   },
   "outputs": [],
   "source": [
    "os.chdir(nwchem_i.dir['launch'])"
   ]
  },
  {
   "cell_type": "code",
   "execution_count": 136,
   "metadata": {
    "collapsed": true
   },
   "outputs": [],
   "source": [
    "while( nwchem_i.meta['status'] != 'finished'):\n",
    "    nwchem_i.check()\n",
    "    time.sleep(status_refresh)"
   ]
  },
  {
   "cell_type": "markdown",
   "metadata": {},
   "source": [
    "Store the results "
   ]
  },
  {
   "cell_type": "code",
   "execution_count": 137,
   "metadata": {
    "collapsed": true
   },
   "outputs": [],
   "source": [
    "nwchem_i.store()"
   ]
  },
  {
   "cell_type": "markdown",
   "metadata": {},
   "source": [
    "Download full log file for analysis"
   ]
  },
  {
   "cell_type": "code",
   "execution_count": 138,
   "metadata": {
    "collapsed": true
   },
   "outputs": [],
   "source": [
    "nwchem_i.pull()"
   ]
  },
  {
   "cell_type": "markdown",
   "metadata": {},
   "source": [
    "Get the calculation from the project object "
   ]
  },
  {
   "cell_type": "code",
   "execution_count": 139,
   "metadata": {
    "collapsed": true
   },
   "outputs": [],
   "source": [
    "nwchem_i.analysis()"
   ]
  },
  {
   "cell_type": "markdown",
   "metadata": {},
   "source": [
    "Check the new charges "
   ]
  },
  {
   "cell_type": "code",
   "execution_count": 140,
   "metadata": {
    "collapsed": false,
    "scrolled": true
   },
   "outputs": [
    {
     "name": "stdout",
     "output_type": "stream",
     "text": [
      "C -0.105244\n",
      "H 0.014521\n",
      "H 0.012033\n",
      "H 0.013511\n",
      "C 0.193579\n",
      "H -0.055571\n",
      "H -0.050708\n",
      "C 0.020885\n",
      "H -0.021868\n",
      "H -0.023513\n",
      "C 0.038327\n",
      "H -0.031259\n",
      "H -0.02887\n",
      "C 0.206295\n",
      "H -0.055744\n",
      "H -0.059999\n",
      "C -0.094196\n",
      "H 0.006375\n",
      "H 0.008327\n",
      "H 0.013119\n"
     ]
    }
   ],
   "source": [
    "for pk,p in nwchem_i.strucC.particles.iteritems():\n",
    "    print p.symbol, p.charge"
   ]
  },
  {
   "cell_type": "code",
   "execution_count": 141,
   "metadata": {
    "collapsed": false
   },
   "outputs": [
    {
     "name": "stdout",
     "output_type": "stream",
     "text": [
      "-1.38777878078e-17\n"
     ]
    }
   ],
   "source": [
    "nwchem_i.strucC.calc_charge()\n",
    "print nwchem_i.strucC.charge"
   ]
  },
  {
   "cell_type": "markdown",
   "metadata": {},
   "source": [
    "Hum a little extra charge can cause problems with our MD simulation so let's round and set to neutral "
   ]
  },
  {
   "cell_type": "code",
   "execution_count": 142,
   "metadata": {
    "collapsed": true
   },
   "outputs": [],
   "source": [
    "if( abs(nwchem_i.strucC.charge) > 1.0e-16 ):\n",
    "    charges_round_neutral(nwchem_i.strucC)"
   ]
  },
  {
   "cell_type": "code",
   "execution_count": 143,
   "metadata": {
    "collapsed": false
   },
   "outputs": [
    {
     "name": "stdout",
     "output_type": "stream",
     "text": [
      "0 C -0.105244\n",
      "1 H 0.014521\n",
      "2 H 0.012033\n",
      "3 H 0.013511\n",
      "4 C 0.193579\n",
      "5 H -0.055571\n",
      "6 H -0.050708\n",
      "7 C 0.020885\n",
      "8 H -0.021868\n",
      "9 H -0.023513\n",
      "10 C 0.038327\n",
      "11 H -0.031259\n",
      "12 H -0.02887\n",
      "13 C 0.206295\n",
      "14 H -0.055744\n",
      "15 H -0.059999\n",
      "16 C -0.094196\n",
      "17 H 0.006375\n",
      "18 H 0.008327\n",
      "19 H 0.013119\n"
     ]
    }
   ],
   "source": [
    "for pk,p in nwchem_i.strucC.particles.iteritems():\n",
    "    print pk,p.symbol,p.charge"
   ]
  },
  {
   "cell_type": "markdown",
   "metadata": {},
   "source": [
    "Print energies "
   ]
  },
  {
   "cell_type": "code",
   "execution_count": 144,
   "metadata": {
    "collapsed": false
   },
   "outputs": [
    {
     "name": "stdout",
     "output_type": "stream",
     "text": [
      "-235.271544664 Ha\n"
     ]
    }
   ],
   "source": [
    "print nwchem_i.properties['energy'],nwchem_i.unit_conf['energy']"
   ]
  },
  {
   "cell_type": "markdown",
   "metadata": {},
   "source": [
    "Update the charges of the Buildingblock"
   ]
  },
  {
   "cell_type": "code",
   "execution_count": 145,
   "metadata": {
    "collapsed": true
   },
   "outputs": [],
   "source": [
    "for pk,p in bbHex.particles.iteritems():\n",
    "    p.charge = nwchem_i.strucC.particles[pk].charge"
   ]
  },
  {
   "cell_type": "code",
   "execution_count": 146,
   "metadata": {
    "collapsed": true
   },
   "outputs": [],
   "source": [
    "bbHex.tag += '_HFesp'"
   ]
  },
  {
   "cell_type": "markdown",
   "metadata": {},
   "source": [
    "First we need to identify the bonding within the Buildingblock"
   ]
  },
  {
   "cell_type": "code",
   "execution_count": 147,
   "metadata": {
    "collapsed": true
   },
   "outputs": [],
   "source": [
    "bbHex.bonded_nblist = bbHex.guess_nblist(0,radii_buffer=1.35)"
   ]
  },
  {
   "cell_type": "code",
   "execution_count": 148,
   "metadata": {
    "collapsed": true
   },
   "outputs": [],
   "source": [
    "bbHex.bonded_bonds()\n",
    "bbHex.bonded_angles()\n",
    "bbHex.bonded_dih()"
   ]
  },
  {
   "cell_type": "markdown",
   "metadata": {},
   "source": [
    "Add the need parameters the oplsaa parameter container"
   ]
  },
  {
   "cell_type": "code",
   "execution_count": 149,
   "metadata": {
    "collapsed": true
   },
   "outputs": [],
   "source": [
    "bat_i = angletype.Angletype('CT','CT','CT',unit_conf=oplsaa.unit_conf)\n",
    "bat_i.setharmonic(109.50,40.0)\n",
    "oplsaa.add_angletype(bat_i)"
   ]
  },
  {
   "cell_type": "code",
   "execution_count": 150,
   "metadata": {
    "collapsed": true
   },
   "outputs": [],
   "source": [
    "bat_i = angletype.Angletype('CT','CT','CT',unit_conf=oplsaa.unit_conf)\n",
    "bat_i.setharmonic(109.50,40.0)\n",
    "oplsaa.add_angletype(bat_i)"
   ]
  },
  {
   "cell_type": "code",
   "execution_count": 151,
   "metadata": {
    "collapsed": true
   },
   "outputs": [],
   "source": [
    "bat_i = angletype.Angletype('CT','CT','HC',unit_conf=oplsaa.unit_conf)\n",
    "bat_i.setharmonic(109.50,50.0)\n",
    "oplsaa.add_angletype(bat_i)"
   ]
  },
  {
   "cell_type": "code",
   "execution_count": 152,
   "metadata": {
    "collapsed": true
   },
   "outputs": [],
   "source": [
    "dih_i = dihtype.Dihtype('CT','CT','CT','CT',unit_conf=oplsaa.unit_conf)\n",
    "dih_i.type ='opls'\n",
    "dih_i.setopls(0.433341,-0.016667,0.066668,0.0)\n",
    "oplsaa.add_dihtype(dih_i)"
   ]
  },
  {
   "cell_type": "code",
   "execution_count": 153,
   "metadata": {
    "collapsed": true
   },
   "outputs": [],
   "source": [
    "dih_i = dihtype.Dihtype('HC','CT','CT','CT',unit_conf=oplsaa.unit_conf)\n",
    "dih_i.type ='opls'\n",
    "dih_i.setopls(0.0,-0.0,0.1,0.0)\n",
    "oplsaa.add_dihtype(dih_i)"
   ]
  },
  {
   "cell_type": "code",
   "execution_count": 154,
   "metadata": {
    "collapsed": true
   },
   "outputs": [],
   "source": [
    "dih_i = dihtype.Dihtype('HC','CT','CT','HC',unit_conf=oplsaa.unit_conf)\n",
    "dih_i.type ='opls'\n",
    "dih_i.setopls(0.0,-0.0,0.1,0.0)\n",
    "oplsaa.add_dihtype(dih_i)"
   ]
  },
  {
   "cell_type": "markdown",
   "metadata": {},
   "source": [
    "Run an oplsaa minimization to get the minimized structure"
   ]
  },
  {
   "cell_type": "code",
   "execution_count": 155,
   "metadata": {
    "collapsed": true
   },
   "outputs": [],
   "source": [
    "p3ht_et = lmp_run(p3ht_et,bbHex,oplsaa,res_calc)"
   ]
  },
  {
   "cell_type": "code",
   "execution_count": 156,
   "metadata": {
    "collapsed": false
   },
   "outputs": [
    {
     "name": "stdout",
     "output_type": "stream",
     "text": [
      "Calculation nw_opt_thiophene_calc_0 has status stored\n",
      "Calculation lmp_min_hexane_HFesp_calc_5 has status finished\n",
      "Calculation nw_opt_hexane_calc_3 has status stored\n",
      "Calculation nw_esp_hexane_calc_4 has status stored\n",
      "Calculation nw_esp_thiophene_calc_1 has status stored\n",
      "Calculation lmp_min_thiophene_HFesp_calc_2 has status stored\n"
     ]
    }
   ],
   "source": [
    "p3ht_et.check()"
   ]
  },
  {
   "cell_type": "code",
   "execution_count": 157,
   "metadata": {
    "collapsed": true
   },
   "outputs": [],
   "source": [
    "lmp_i = p3ht_et.calculations['lmp_min_hexane_HFesp_calc_5']"
   ]
  },
  {
   "cell_type": "code",
   "execution_count": 158,
   "metadata": {
    "collapsed": true
   },
   "outputs": [],
   "source": [
    "os.chdir(lmp_i.dir['launch'])"
   ]
  },
  {
   "cell_type": "code",
   "execution_count": 159,
   "metadata": {
    "collapsed": true
   },
   "outputs": [],
   "source": [
    "while( lmp_i.meta['status'] != 'finished'):\n",
    "    lmp_i.check()\n",
    "    time.sleep(status_refresh)"
   ]
  },
  {
   "cell_type": "code",
   "execution_count": 160,
   "metadata": {
    "collapsed": true
   },
   "outputs": [],
   "source": [
    "lmp_i.analysis()"
   ]
  },
  {
   "cell_type": "code",
   "execution_count": 161,
   "metadata": {
    "collapsed": false
   },
   "outputs": [
    {
     "name": "stdout",
     "output_type": "stream",
     "text": [
      "[0.31363118, -2.1660767]\n"
     ]
    }
   ],
   "source": [
    "run_i= lmp_i.run_list[0]\n",
    "print run_i.timeseries['toteng']"
   ]
  },
  {
   "cell_type": "markdown",
   "metadata": {},
   "source": [
    "Energy decreased and nothing exploded so that's good"
   ]
  },
  {
   "cell_type": "code",
   "execution_count": 162,
   "metadata": {
    "collapsed": true
   },
   "outputs": [],
   "source": [
    "lmp_i.store()"
   ]
  },
  {
   "cell_type": "markdown",
   "metadata": {},
   "source": [
    "Read in data file positions"
   ]
  },
  {
   "cell_type": "code",
   "execution_count": 163,
   "metadata": {
    "collapsed": true
   },
   "outputs": [],
   "source": [
    "lmp_i.pull()"
   ]
  },
  {
   "cell_type": "markdown",
   "metadata": {},
   "source": [
    "Read in data file output and update positions"
   ]
  },
  {
   "cell_type": "code",
   "execution_count": 164,
   "metadata": {
    "collapsed": false
   },
   "outputs": [
    {
     "name": "stdout",
     "output_type": "stream",
     "text": [
      "min1.data\n"
     ]
    }
   ],
   "source": [
    "datafn = lmp_i.files['output']['data_1']\n",
    "print datafn"
   ]
  },
  {
   "cell_type": "code",
   "execution_count": 165,
   "metadata": {
    "collapsed": true
   },
   "outputs": [],
   "source": [
    "lmp_i.read_data_pos(datafn)"
   ]
  },
  {
   "cell_type": "code",
   "execution_count": 166,
   "metadata": {
    "collapsed": false
   },
   "outputs": [
    {
     "name": "stdout",
     "output_type": "stream",
     "text": [
      "[[ 100.    0.    0.]\n",
      " [   0.  100.    0.]\n",
      " [   0.    0.  100.]]\n"
     ]
    }
   ],
   "source": [
    "print lmp_i.strucC.lat.matrix"
   ]
  },
  {
   "cell_type": "code",
   "execution_count": 167,
   "metadata": {
    "collapsed": true
   },
   "outputs": [],
   "source": [
    "lmp_i.strucC.write_xyz()"
   ]
  },
  {
   "cell_type": "markdown",
   "metadata": {},
   "source": [
    "We will use the oplsaa optimized structure as the initial structure since we will be running MD "
   ]
  },
  {
   "cell_type": "code",
   "execution_count": 168,
   "metadata": {
    "collapsed": true
   },
   "outputs": [],
   "source": [
    "bbHex.tag += '_oplsaa'"
   ]
  },
  {
   "cell_type": "code",
   "execution_count": 169,
   "metadata": {
    "collapsed": false
   },
   "outputs": [
    {
     "name": "stdout",
     "output_type": "stream",
     "text": [
      "0 C [ -6.35048976e+00  -3.82441649e-01   4.02483375e-06]\n",
      "1 H [ -7.21782804e+00   2.61419707e-01   4.31417075e-05]\n",
      "2 H [-6.35480324 -1.00136556  0.88480962]\n",
      "3 H [-6.35483631 -1.00128616 -0.88490865]\n",
      "4 C [ -5.08921877e+00   4.86696511e-01  -5.13481611e-06]\n",
      "5 H [-5.08823242  1.10334127  0.88646294]\n",
      "6 H [-5.0882262   1.10356485 -0.88622022]\n",
      "7 C [ -3.83818177e+00  -3.97123139e-01  -8.20304824e-05]\n",
      "8 H [-3.83922579 -1.01367729  0.88658047]\n",
      "9 H [-3.83945824 -1.01372425 -0.88683773]\n",
      "10 C [ -2.58432257e+00   4.85509465e-01  -3.74340520e-04]\n",
      "11 H [-2.58237359  1.10232352  0.88624689]\n",
      "12 H [-2.58221249  1.10158735 -0.88739449]\n",
      "13 C [ -1.33454697e+00  -3.99747214e-01   2.01008037e-04]\n",
      "14 H [-1.3363286  -1.01619843  0.8867047 ]\n",
      "15 H [-1.33604794 -1.01675404 -0.88601173]\n",
      "16 C [ -7.27357978e-02   4.68476122e-01   8.17122773e-05]\n",
      "17 H [-0.06863501  1.08819196  0.88438197]\n",
      "18 H [ 0.79420855 -0.1758906   0.00117216]\n",
      "19 H [-0.06764303  1.08658157 -0.8852923 ]\n"
     ]
    }
   ],
   "source": [
    "for pk,p in bbHex.particles.iteritems():\n",
    "    bbHex.positions[pk] = lmp_i.strucC.positions[pk]\n",
    "    print pk,p.symbol,bbHex.positions[pk]"
   ]
  },
  {
   "cell_type": "markdown",
   "metadata": {},
   "source": [
    "Save the Buildingblock and force-field"
   ]
  },
  {
   "cell_type": "code",
   "execution_count": 170,
   "metadata": {
    "collapsed": true
   },
   "outputs": [],
   "source": [
    "os.chdir(res_local.dir['materials']) \n",
    "bbHex.write_xyz()\n",
    "bbhex_json = bbHex.export_json() \n",
    "oplsaa_json = oplsaa.export_json()"
   ]
  },
  {
   "cell_type": "code",
   "execution_count": 171,
   "metadata": {
    "collapsed": false
   },
   "outputs": [
    {
     "name": "stdout",
     "output_type": "stream",
     "text": [
      "hexane_HFesp_oplsaa thiophene_HFesp_oplsaa\n"
     ]
    }
   ],
   "source": [
    "print bbHex.tag,bbTh.tag"
   ]
  },
  {
   "cell_type": "markdown",
   "metadata": {},
   "source": [
    "So let us make some P3HT oligomers "
   ]
  },
  {
   "cell_type": "code",
   "execution_count": 172,
   "metadata": {
    "collapsed": true
   },
   "outputs": [],
   "source": [
    "os.chdir(res_local.dir['materials']) "
   ]
  },
  {
   "cell_type": "code",
   "execution_count": 173,
   "metadata": {
    "collapsed": true
   },
   "outputs": [],
   "source": [
    "bbTh.find_rsites()\n",
    "bbHex.find_rsites()"
   ]
  },
  {
   "cell_type": "code",
   "execution_count": 174,
   "metadata": {
    "collapsed": false
   },
   "outputs": [
    {
     "name": "stdout",
     "output_type": "stream",
     "text": [
      "rsite:termcap[ paticle:atom H1 (H) index:5 n_bonds:1] \n",
      "rsite:termcap[ paticle:atom H4 (H) index:8 n_bonds:1] \n",
      "rsite:funccap[ paticle:atom H2 (H) index:6 n_bonds:1] \n",
      "\n"
     ]
    }
   ],
   "source": [
    "print(bbTh.show_rsites())"
   ]
  },
  {
   "cell_type": "code",
   "execution_count": 175,
   "metadata": {
    "collapsed": false
   },
   "outputs": [
    {
     "name": "stdout",
     "output_type": "stream",
     "text": [
      "rsite:rg[ paticle:atom C1 (C) index:0 n_bonds:4] \n",
      "rsite:rgcap[ paticle:atom H1 (H) index:1 n_bonds:1] \n",
      "\n"
     ]
    }
   ],
   "source": [
    "print(bbHex.show_rsites())"
   ]
  },
  {
   "cell_type": "code",
   "execution_count": 176,
   "metadata": {
    "collapsed": true
   },
   "outputs": [],
   "source": [
    "import streamm.structures.buildingblock as bb"
   ]
  },
  {
   "cell_type": "code",
   "execution_count": 177,
   "metadata": {
    "collapsed": true
   },
   "outputs": [],
   "source": [
    "ht = bb.attach(bbTh,bbHex,'funccap',0,'rgcap',0,tag='3-hexyl-thiophene')"
   ]
  },
  {
   "cell_type": "markdown",
   "metadata": {},
   "source": [
    "Update bond angles and dihedrals after Buildingblock join"
   ]
  },
  {
   "cell_type": "code",
   "execution_count": 178,
   "metadata": {
    "collapsed": true
   },
   "outputs": [],
   "source": [
    "ht.bonded_bonds()\n",
    "ht.bonded_angles()\n",
    "ht.bonded_dih()"
   ]
  },
  {
   "cell_type": "markdown",
   "metadata": {},
   "source": [
    "Check that the molecule looks good"
   ]
  },
  {
   "cell_type": "code",
   "execution_count": 179,
   "metadata": {
    "collapsed": true
   },
   "outputs": [],
   "source": [
    "ht.write_xyz()"
   ]
  },
  {
   "cell_type": "markdown",
   "metadata": {},
   "source": [
    "Check the charges of the removed hydrogens got summed onto the functionalized carbons correctly"
   ]
  },
  {
   "cell_type": "code",
   "execution_count": 180,
   "metadata": {
    "collapsed": false
   },
   "outputs": [
    {
     "data": {
      "text/plain": [
       "4.163336342344337e-17"
      ]
     },
     "execution_count": 180,
     "metadata": {},
     "output_type": "execute_result"
    }
   ],
   "source": [
    "ht.calc_charge()\n",
    "ht.charge"
   ]
  },
  {
   "cell_type": "code",
   "execution_count": 181,
   "metadata": {
    "collapsed": false
   },
   "outputs": [
    {
     "name": "stdout",
     "output_type": "stream",
     "text": [
      "rsite:termcap[ paticle:atom H1 (H) index:5 n_bonds:1] \n",
      "rsite:termcap[ paticle:atom H4 (H) index:7 n_bonds:1] \n",
      "rsite:rg[ paticle:atom C1 (C) index:8 n_bonds:4] \n",
      "\n"
     ]
    }
   ],
   "source": [
    "print(ht.show_rsites())"
   ]
  },
  {
   "cell_type": "markdown",
   "metadata": {},
   "source": [
    "Add inter thiophene hexane parameters"
   ]
  },
  {
   "cell_type": "code",
   "execution_count": 182,
   "metadata": {
    "collapsed": true
   },
   "outputs": [],
   "source": [
    "bt_i = bondtype.Bondtype('CT','CA',unit_conf=oplsaa.unit_conf)\n",
    "bt_i.setharmonic(1.51,317.0)\n",
    "oplsaa.add_bondtype(bt_i)"
   ]
  },
  {
   "cell_type": "markdown",
   "metadata": {},
   "source": [
    "Bond angle parameters "
   ]
  },
  {
   "cell_type": "code",
   "execution_count": 183,
   "metadata": {
    "collapsed": true
   },
   "outputs": [],
   "source": [
    "bat_i = angletype.Angletype('CA','CA','CT',unit_conf=oplsaa.unit_conf)\n",
    "bat_i.setharmonic(120.0,70.0)\n",
    "oplsaa.add_angletype(bat_i)\n",
    "\n",
    "\n",
    "bat_i = angletype.Angletype('HA','CA','CT',unit_conf=oplsaa.unit_conf)\n",
    "bat_i.setharmonic(120.0,35.0)\n",
    "oplsaa.add_angletype(bat_i)\n",
    "\n",
    "\n",
    "\n",
    "bat_i = angletype.Angletype('CA','CT','HC',unit_conf=oplsaa.unit_conf)\n",
    "bat_i.setharmonic(109.5,50.0)\n",
    "oplsaa.add_angletype(bat_i)\n",
    "\n",
    "bat_i = angletype.Angletype('CA','CT','CT',unit_conf=oplsaa.unit_conf)\n",
    "bat_i.setharmonic(114.0,63.0)\n",
    "oplsaa.add_angletype(bat_i)"
   ]
  },
  {
   "cell_type": "code",
   "execution_count": 184,
   "metadata": {
    "collapsed": false
   },
   "outputs": [
    {
     "name": "stdout",
     "output_type": "stream",
     "text": [
      "0  angle  HC - CT - HC type harmonic \n",
      "  harmonic theta_0 = 110.700000 K = 37.500000 lammps index 0  gromacs index 0  \n",
      "1  angle  HC - CT - CT type harmonic \n",
      "  harmonic theta_0 = 110.700000 K = 37.500000 lammps index 0  gromacs index 0  \n",
      "2  angle  CA - CA - CA type harmonic \n",
      "  harmonic theta_0 = 120.000000 K = 63.000000 lammps index 0  gromacs index 0  \n",
      "3  angle  CA - CA - HA type harmonic \n",
      "  harmonic theta_0 = 120.000000 K = 35.000000 lammps index 0  gromacs index 0  \n",
      "4  angle  CA - S - CA type harmonic \n",
      "  harmonic theta_0 = 92.200000 K = 70.000000 lammps index 0  gromacs index 0  \n",
      "5  angle  S - CA - HA type harmonic \n",
      "  harmonic theta_0 = 120.000000 K = 35.000000 lammps index 0  gromacs index 0  \n",
      "6  angle  S - CA - CA type harmonic \n",
      "  harmonic theta_0 = 111.000000 K = 70.000000 lammps index 0  gromacs index 0  \n",
      "7  angle  CT - CT - CT type harmonic \n",
      "  harmonic theta_0 = 109.500000 K = 40.000000 lammps index 0  gromacs index 0  \n",
      "8  angle  CT - CT - CT type harmonic \n",
      "  harmonic theta_0 = 109.500000 K = 40.000000 lammps index 0  gromacs index 0  \n",
      "9  angle  CT - CT - HC type harmonic \n",
      "  harmonic theta_0 = 109.500000 K = 50.000000 lammps index 0  gromacs index 0  \n",
      "10  angle  CA - CA - CT type harmonic \n",
      "  harmonic theta_0 = 120.000000 K = 70.000000 lammps index 0  gromacs index 0  \n",
      "11  angle  HA - CA - CT type harmonic \n",
      "  harmonic theta_0 = 120.000000 K = 35.000000 lammps index 0  gromacs index 0  \n",
      "12  angle  CA - CT - HC type harmonic \n",
      "  harmonic theta_0 = 109.500000 K = 50.000000 lammps index 0  gromacs index 0  \n",
      "13  angle  CA - CT - CT type harmonic \n",
      "  harmonic theta_0 = 114.000000 K = 63.000000 lammps index 0  gromacs index 0  \n"
     ]
    }
   ],
   "source": [
    "for atk,at in oplsaa.angletypes.iteritems():\n",
    "    print atk,at"
   ]
  },
  {
   "cell_type": "markdown",
   "metadata": {},
   "source": [
    "Note: The inter-ring torsional is not consider as a separate set of parameters for the simplicity of this example"
   ]
  },
  {
   "cell_type": "code",
   "execution_count": 185,
   "metadata": {
    "collapsed": true
   },
   "outputs": [],
   "source": [
    "dih_i = dihtype.Dihtype('HC','CT','CT','CA',unit_conf=oplsaa.unit_conf)\n",
    "dih_i.type ='opls'\n",
    "dih_i.setopls(0.0,-0.0,0.1,0.0)\n",
    "oplsaa.add_dihtype(dih_i)"
   ]
  },
  {
   "cell_type": "code",
   "execution_count": 186,
   "metadata": {
    "collapsed": true
   },
   "outputs": [],
   "source": [
    "dih_i = dihtype.Dihtype('CT','CT','CT','CA',unit_conf=oplsaa.unit_conf)\n",
    "dih_i.type ='opls'\n",
    "dih_i.setopls(0.433341,-0.016667,0.066668,0.0)\n",
    "oplsaa.add_dihtype(dih_i)"
   ]
  },
  {
   "cell_type": "code",
   "execution_count": 187,
   "metadata": {
    "collapsed": true
   },
   "outputs": [],
   "source": [
    "dih_i = dihtype.Dihtype('HC','CT','CA','CA',unit_conf=oplsaa.unit_conf)\n",
    "dih_i.type ='opls'\n",
    "dih_i.setopls(0.0,-0.0,0.1,0.0)\n",
    "oplsaa.add_dihtype(dih_i)"
   ]
  },
  {
   "cell_type": "code",
   "execution_count": 188,
   "metadata": {
    "collapsed": true
   },
   "outputs": [],
   "source": [
    "dih_i = dihtype.Dihtype('CT','CT','CA','CA',unit_conf=oplsaa.unit_conf)\n",
    "dih_i.type ='opls'\n",
    "dih_i.setopls(0.0,-0.0,0.0,0.0)\n",
    "oplsaa.add_dihtype(dih_i)"
   ]
  },
  {
   "cell_type": "code",
   "execution_count": 189,
   "metadata": {
    "collapsed": false
   },
   "outputs": [
    {
     "name": "stdout",
     "output_type": "stream",
     "text": [
      "0  dihedral  HC - CT - CT - HC type opls \n",
      "  k1 = 0.000000 k2 = 0.000000 k3 = 0.300000 k4 = 0.000000 lammps index 0  gromcas index 0 \n",
      "1  dihedral  X - CA - CA - X type opls \n",
      "  k1 = 0.000000 k2 = 1.812532 k3 = 0.000000 k4 = 0.000000 lammps index 0  gromcas index 0 \n",
      "2  dihedral  X - S - CA - X type opls \n",
      "  k1 = 0.000000 k2 = 2.416710 k3 = 0.000000 k4 = 0.000000 lammps index 0  gromcas index 0 \n",
      "3  dihedral  S - CA - CA - HA type opls \n",
      "  k1 = 0.000000 k2 = 1.812532 k3 = 0.000000 k4 = 0.000000 lammps index 0  gromcas index 0 \n",
      "4  dihedral  CT - CT - CT - CT type opls \n",
      "  k1 = 0.433341 k2 = -0.016667 k3 = 0.066668 k4 = 0.000000 lammps index 0  gromcas index 0 \n",
      "5  dihedral  HC - CT - CT - CT type opls \n",
      "  k1 = 0.000000 k2 = -0.000000 k3 = 0.100000 k4 = 0.000000 lammps index 0  gromcas index 0 \n",
      "6  dihedral  HC - CT - CT - HC type opls \n",
      "  k1 = 0.000000 k2 = -0.000000 k3 = 0.100000 k4 = 0.000000 lammps index 0  gromcas index 0 \n",
      "7  dihedral  HC - CT - CT - CA type opls \n",
      "  k1 = 0.000000 k2 = -0.000000 k3 = 0.100000 k4 = 0.000000 lammps index 0  gromcas index 0 \n",
      "8  dihedral  CT - CT - CT - CA type opls \n",
      "  k1 = 0.433341 k2 = -0.016667 k3 = 0.066668 k4 = 0.000000 lammps index 0  gromcas index 0 \n",
      "9  dihedral  HC - CT - CA - CA type opls \n",
      "  k1 = 0.000000 k2 = -0.000000 k3 = 0.100000 k4 = 0.000000 lammps index 0  gromcas index 0 \n",
      "10  dihedral  CT - CT - CA - CA type opls \n",
      "  k1 = 0.000000 k2 = -0.000000 k3 = 0.000000 k4 = 0.000000 lammps index 0  gromcas index 0 \n"
     ]
    }
   ],
   "source": [
    "for dk,d in oplsaa.dihtypes.iteritems():\n",
    "    print dk,d "
   ]
  },
  {
   "cell_type": "markdown",
   "metadata": {},
   "source": [
    "Run an oplsaa minimization to get the minimized structure"
   ]
  },
  {
   "cell_type": "code",
   "execution_count": 190,
   "metadata": {
    "collapsed": true
   },
   "outputs": [],
   "source": [
    "p3ht_et = lmp_run(p3ht_et,ht,oplsaa,res_calc)"
   ]
  },
  {
   "cell_type": "code",
   "execution_count": 191,
   "metadata": {
    "collapsed": false
   },
   "outputs": [
    {
     "name": "stdout",
     "output_type": "stream",
     "text": [
      "Calculation nw_opt_thiophene_calc_0 has status stored\n",
      "Calculation lmp_min_hexane_HFesp_calc_5 has status stored\n",
      "Calculation nw_opt_hexane_calc_3 has status stored\n",
      "Calculation nw_esp_hexane_calc_4 has status stored\n",
      "Calculation nw_esp_thiophene_calc_1 has status stored\n",
      "Calculation lmp_min_3-hexyl-thiophene_calc_6 has status finished\n",
      "Calculation lmp_min_thiophene_HFesp_calc_2 has status stored\n"
     ]
    }
   ],
   "source": [
    "p3ht_et.check()"
   ]
  },
  {
   "cell_type": "code",
   "execution_count": 192,
   "metadata": {
    "collapsed": true
   },
   "outputs": [],
   "source": [
    "lmp_i = p3ht_et.calculations['lmp_min_3-hexyl-thiophene_calc_6']"
   ]
  },
  {
   "cell_type": "code",
   "execution_count": 193,
   "metadata": {
    "collapsed": true
   },
   "outputs": [],
   "source": [
    "os.chdir(lmp_i.dir['launch'])"
   ]
  },
  {
   "cell_type": "code",
   "execution_count": 194,
   "metadata": {
    "collapsed": true
   },
   "outputs": [],
   "source": [
    "while( lmp_i.meta['status'] != 'finished'):\n",
    "    lmp_i.check()\n",
    "    time.sleep(status_refresh)"
   ]
  },
  {
   "cell_type": "code",
   "execution_count": 195,
   "metadata": {
    "collapsed": true
   },
   "outputs": [],
   "source": [
    "lmp_i.analysis()"
   ]
  },
  {
   "cell_type": "code",
   "execution_count": 196,
   "metadata": {
    "collapsed": false
   },
   "outputs": [
    {
     "name": "stdout",
     "output_type": "stream",
     "text": [
      "[21.641193, 7.4142365]\n"
     ]
    }
   ],
   "source": [
    "run_i= lmp_i.run_list[0]\n",
    "print run_i.timeseries['toteng']"
   ]
  },
  {
   "cell_type": "markdown",
   "metadata": {},
   "source": [
    "Energy decreased and nothing exploded so that's good"
   ]
  },
  {
   "cell_type": "code",
   "execution_count": 197,
   "metadata": {
    "collapsed": true
   },
   "outputs": [],
   "source": [
    "lmp_i.store()"
   ]
  },
  {
   "cell_type": "markdown",
   "metadata": {},
   "source": [
    "Read in data file positions"
   ]
  },
  {
   "cell_type": "code",
   "execution_count": 198,
   "metadata": {
    "collapsed": true
   },
   "outputs": [],
   "source": [
    "lmp_i.pull()"
   ]
  },
  {
   "cell_type": "markdown",
   "metadata": {},
   "source": [
    "Read in data file output and update positions"
   ]
  },
  {
   "cell_type": "code",
   "execution_count": 199,
   "metadata": {
    "collapsed": false
   },
   "outputs": [
    {
     "name": "stdout",
     "output_type": "stream",
     "text": [
      "min1.data\n"
     ]
    }
   ],
   "source": [
    "datafn = lmp_i.files['output']['data_1']\n",
    "print datafn"
   ]
  },
  {
   "cell_type": "code",
   "execution_count": 200,
   "metadata": {
    "collapsed": true
   },
   "outputs": [],
   "source": [
    "lmp_i.read_data_pos(datafn)"
   ]
  },
  {
   "cell_type": "code",
   "execution_count": 201,
   "metadata": {
    "collapsed": false
   },
   "outputs": [
    {
     "name": "stdout",
     "output_type": "stream",
     "text": [
      "[[ 100.    0.    0.]\n",
      " [   0.  100.    0.]\n",
      " [   0.    0.  100.]]\n"
     ]
    }
   ],
   "source": [
    "print lmp_i.strucC.lat.matrix"
   ]
  },
  {
   "cell_type": "markdown",
   "metadata": {},
   "source": [
    "We will use the oplsaa optimized structure as the initial structure since we will be running MD "
   ]
  },
  {
   "cell_type": "code",
   "execution_count": 202,
   "metadata": {
    "collapsed": true
   },
   "outputs": [],
   "source": [
    "ht.tag += '_oplsaa'"
   ]
  },
  {
   "cell_type": "code",
   "execution_count": 203,
   "metadata": {
    "collapsed": false
   },
   "outputs": [
    {
     "name": "stdout",
     "output_type": "stream",
     "text": [
      "0 C [  8.58370592e-01   1.19070471e+00  -5.28804768e-04]\n",
      "1 C [  1.40239117e-01  -7.00452375e-03  -1.10222324e-04]\n",
      "2 C [  9.47000345e-01  -1.14228366e+00  -3.01146622e-05]\n",
      "3 C [  2.31035453e+00  -8.47958093e-01  -5.72511231e-04]\n",
      "4 S [  2.54820509e+00   8.57941148e-01  -5.53636602e-04]\n",
      "5 H [  4.23475946e-01   2.17945621e+00   2.56365059e-05]\n",
      "6 H [  5.81335320e-01  -2.15847957e+00   1.66510611e-03]\n",
      "7 H [  3.09847213e+00  -1.58704244e+00   3.17623601e-04]\n",
      "8 C [ -1.37240779e+00  -4.91870618e-02  -3.14351461e-05]\n",
      "9 H [-1.73007996  0.46352867  0.87978503]\n",
      "10 H [-1.73012714  0.46373382 -0.87971024]\n",
      "11 C [ -1.94092528e+00  -1.46929147e+00  -2.38395321e-04]\n",
      "12 H [-1.60140899 -1.98442434  0.8858634 ]\n",
      "13 H [-1.60178525 -1.98398575 -0.88672554]\n",
      "14 C [ -3.46539204e+00  -1.45954947e+00  -2.12892073e-05]\n",
      "15 H [-3.82722062 -0.96572549  0.889898  ]\n",
      "16 H [-3.8274252  -0.96538471 -0.88966958]\n",
      "17 C [ -3.92038589e+00  -2.91914713e+00  -2.86128334e-04]\n",
      "18 H [-3.54855968 -3.41218649  0.8857171 ]\n",
      "19 H [-3.5492164  -3.41161563 -0.88688965]\n",
      "20 C [ -5.44494075e+00  -2.96276234e+00   3.02860353e-04]\n",
      "21 H [-5.81482214 -2.47201223  0.88764652]\n",
      "22 H [-5.81547674 -2.47166473 -0.88657923]\n",
      "23 C [ -5.90621381e+00  -4.42051223e+00   1.78831382e-04]\n",
      "24 H [-5.52564078 -4.91081232  0.88401194]\n",
      "25 H [ -6.98577456e+00  -4.44498633e+00   1.17673325e-03]\n",
      "26 H [-5.52727906 -4.91013854 -0.88473   ]\n"
     ]
    }
   ],
   "source": [
    "for pk,p in ht.particles.iteritems():\n",
    "    ht.positions[pk] = lmp_i.strucC.positions[pk]\n",
    "    print pk,p.symbol,ht.positions[pk]"
   ]
  },
  {
   "cell_type": "markdown",
   "metadata": {},
   "source": [
    "Save the Buildingblock and force-field"
   ]
  },
  {
   "cell_type": "code",
   "execution_count": 204,
   "metadata": {
    "collapsed": true
   },
   "outputs": [],
   "source": [
    "os.chdir(res_local.dir['materials']) \n",
    "ht.write_xyz()\n",
    "ht_json = ht.export_json() \n",
    "ht_json = oplsaa.export_json()"
   ]
  },
  {
   "cell_type": "markdown",
   "metadata": {},
   "source": [
    "Okay we have the monomer, so let's make a pentamer "
   ]
  },
  {
   "cell_type": "code",
   "execution_count": 205,
   "metadata": {
    "collapsed": true
   },
   "outputs": [],
   "source": [
    "penta_ht = copy.deepcopy(ht)"
   ]
  },
  {
   "cell_type": "code",
   "execution_count": 206,
   "metadata": {
    "collapsed": true
   },
   "outputs": [],
   "source": [
    "# We could use prepattach to change the tacticity \n",
    "# penta_ht = ht.prepattach('termcap',0,dir=-1,yangle=180.0)\n",
    "# See buildingblock example "
   ]
  },
  {
   "cell_type": "code",
   "execution_count": 207,
   "metadata": {
    "collapsed": true
   },
   "outputs": [],
   "source": [
    "for n in range(4):\n",
    "    penta_ht = bb.attach(penta_ht,ht,'termcap',1,'termcap',0,tag='penta_3-hexyl-thiophene')"
   ]
  },
  {
   "cell_type": "markdown",
   "metadata": {},
   "source": [
    "Check the charges of the removed hydrogens got summed onto the functionalized carbons correctly"
   ]
  },
  {
   "cell_type": "code",
   "execution_count": 208,
   "metadata": {
    "collapsed": false
   },
   "outputs": [
    {
     "data": {
      "text/plain": [
       "-1.3877787807814457e-17"
      ]
     },
     "execution_count": 208,
     "metadata": {},
     "output_type": "execute_result"
    }
   ],
   "source": [
    "penta_ht.calc_charge()\n",
    "penta_ht.charge"
   ]
  },
  {
   "cell_type": "code",
   "execution_count": 209,
   "metadata": {
    "collapsed": true
   },
   "outputs": [],
   "source": [
    "penta_ht.write_xyz()"
   ]
  },
  {
   "cell_type": "markdown",
   "metadata": {},
   "source": [
    "Well it's cis, but we can run some high temperature MD to randomize that "
   ]
  },
  {
   "cell_type": "markdown",
   "metadata": {},
   "source": [
    "Update bond angles and dihedrals after Buildingblock join"
   ]
  },
  {
   "cell_type": "code",
   "execution_count": 210,
   "metadata": {
    "collapsed": true
   },
   "outputs": [],
   "source": [
    "penta_ht.bonded_bonds()\n",
    "penta_ht.bonded_angles()\n",
    "penta_ht.bonded_dih()"
   ]
  },
  {
   "cell_type": "code",
   "execution_count": 211,
   "metadata": {
    "collapsed": false
   },
   "outputs": [
    {
     "name": "stdout",
     "output_type": "stream",
     "text": [
      " n_particles:127 \n",
      " n_bonds:131\n",
      " n_angles:245\n",
      " n_dihedrals:351\n",
      " n_impropers:0\n"
     ]
    }
   ],
   "source": [
    "print penta_ht.print_properties()"
   ]
  },
  {
   "cell_type": "markdown",
   "metadata": {},
   "source": [
    "Run an oplsaa minimization to get the minimized structure"
   ]
  },
  {
   "cell_type": "code",
   "execution_count": 212,
   "metadata": {
    "collapsed": true
   },
   "outputs": [],
   "source": [
    "p3ht_et = lmp_run(p3ht_et,penta_ht,oplsaa,res_calc)"
   ]
  },
  {
   "cell_type": "code",
   "execution_count": 213,
   "metadata": {
    "collapsed": false
   },
   "outputs": [
    {
     "name": "stdout",
     "output_type": "stream",
     "text": [
      "Calculation nw_opt_thiophene_calc_0 has status stored\n",
      "Calculation lmp_min_hexane_HFesp_calc_5 has status stored\n",
      "Calculation nw_opt_hexane_calc_3 has status stored\n",
      "Calculation nw_esp_hexane_calc_4 has status stored\n",
      "Calculation nw_esp_thiophene_calc_1 has status stored\n",
      "Calculation lmp_min_3-hexyl-thiophene_calc_6 has status stored\n",
      "Calculation lmp_min_thiophene_HFesp_calc_2 has status stored\n",
      "Calculation lmp_min_penta_3-hexyl-thiophene_calc_7 has status finished\n"
     ]
    }
   ],
   "source": [
    "p3ht_et.check()"
   ]
  },
  {
   "cell_type": "code",
   "execution_count": 214,
   "metadata": {
    "collapsed": true
   },
   "outputs": [],
   "source": [
    "lmp_i = p3ht_et.calculations['lmp_min_penta_3-hexyl-thiophene_calc_7']"
   ]
  },
  {
   "cell_type": "code",
   "execution_count": 215,
   "metadata": {
    "collapsed": true
   },
   "outputs": [],
   "source": [
    "os.chdir(lmp_i.dir['launch'])"
   ]
  },
  {
   "cell_type": "code",
   "execution_count": 216,
   "metadata": {
    "collapsed": true
   },
   "outputs": [],
   "source": [
    "while( lmp_i.meta['status'] != 'finished'):\n",
    "    lmp_i.check()\n",
    "    time.sleep(status_refresh)"
   ]
  },
  {
   "cell_type": "code",
   "execution_count": 217,
   "metadata": {
    "collapsed": true
   },
   "outputs": [],
   "source": [
    "lmp_i.analysis()"
   ]
  },
  {
   "cell_type": "code",
   "execution_count": 218,
   "metadata": {
    "collapsed": false
   },
   "outputs": [
    {
     "name": "stdout",
     "output_type": "stream",
     "text": [
      "[226.63649, 63.618098]\n"
     ]
    }
   ],
   "source": [
    "run_i= lmp_i.run_list[0]\n",
    "print run_i.timeseries['toteng']"
   ]
  },
  {
   "cell_type": "markdown",
   "metadata": {},
   "source": [
    "Energy decreased and nothing exploded so that's good"
   ]
  },
  {
   "cell_type": "code",
   "execution_count": 219,
   "metadata": {
    "collapsed": true
   },
   "outputs": [],
   "source": [
    "lmp_i.store()"
   ]
  },
  {
   "cell_type": "markdown",
   "metadata": {},
   "source": [
    "Read in data file positions"
   ]
  },
  {
   "cell_type": "code",
   "execution_count": 220,
   "metadata": {
    "collapsed": true
   },
   "outputs": [],
   "source": [
    "lmp_i.pull()"
   ]
  },
  {
   "cell_type": "markdown",
   "metadata": {},
   "source": [
    "Read in data file output and update positions"
   ]
  },
  {
   "cell_type": "code",
   "execution_count": 221,
   "metadata": {
    "collapsed": false
   },
   "outputs": [
    {
     "name": "stdout",
     "output_type": "stream",
     "text": [
      "min1.data\n"
     ]
    }
   ],
   "source": [
    "datafn = lmp_i.files['output']['data_1']\n",
    "print datafn"
   ]
  },
  {
   "cell_type": "code",
   "execution_count": 222,
   "metadata": {
    "collapsed": true
   },
   "outputs": [],
   "source": [
    "lmp_i.read_data_pos(datafn)"
   ]
  },
  {
   "cell_type": "code",
   "execution_count": 223,
   "metadata": {
    "collapsed": false,
    "scrolled": true
   },
   "outputs": [
    {
     "name": "stdout",
     "output_type": "stream",
     "text": [
      "[[ 100.    0.    0.]\n",
      " [   0.  100.    0.]\n",
      " [   0.    0.  100.]]\n"
     ]
    }
   ],
   "source": [
    "print lmp_i.strucC.lat.matrix"
   ]
  },
  {
   "cell_type": "code",
   "execution_count": 224,
   "metadata": {
    "collapsed": true
   },
   "outputs": [],
   "source": [
    "lmp_i.strucC.write_xyz()"
   ]
  },
  {
   "cell_type": "markdown",
   "metadata": {},
   "source": [
    "We will use the oplsaa optimized structure as the initial structure since we will be running MD "
   ]
  },
  {
   "cell_type": "code",
   "execution_count": 225,
   "metadata": {
    "collapsed": true
   },
   "outputs": [],
   "source": [
    "penta_ht.tag += '_oplsaa'"
   ]
  },
  {
   "cell_type": "code",
   "execution_count": 226,
   "metadata": {
    "collapsed": false
   },
   "outputs": [
    {
     "name": "stdout",
     "output_type": "stream",
     "text": [
      "0 C [ 8.79936297 -9.45921163  0.04660658]\n",
      "1 C [ 10.02836293  -8.7841408    0.04809453]\n",
      "2 C [ 9.8801658  -7.41057561  0.03559302]\n",
      "3 C [ 8.56191665 -6.97604863  0.01129198]\n",
      "4 S [ 7.4831215  -8.31454927  0.04366329]\n",
      "5 H [  8.68225654 -10.53408948   0.05530629]\n",
      "6 H [ 10.72336387  -6.75917884   0.05175777]\n",
      "7 C [ 11.41176336  -9.42088438   0.06194701]\n",
      "8 H [ 11.50111713 -10.02939718   0.94851398]\n",
      "9 H [ 11.51394322 -10.0385352   -0.81688206]\n",
      "10 C [ 12.56067504  -8.38423411   0.06470721]\n",
      "11 H [ 12.4669048   -7.76519209   0.9450303 ]\n",
      "12 H [ 12.47833765  -7.77308813  -0.82225337]\n",
      "13 C [ 13.96450425  -8.98549442   0.07641092]\n",
      "14 H [ 14.09104427  -9.57752552   0.97022566]\n",
      "15 H [ 14.1024947   -9.58539125  -0.81044165]\n",
      "16 C [ 14.98212618  -7.83213      0.0778272 ]\n",
      "17 H [ 14.83915376  -7.22418119   0.95991337]\n",
      "18 H [ 14.8503908   -7.23199135  -0.81133642]\n",
      "19 C [ 16.40103152  -8.40625312   0.089386  ]\n",
      "20 H [ 16.53288467  -9.00382248   0.97887674]\n",
      "21 H [ 16.54424489  -9.01127831  -0.79328586]\n",
      "22 C [ 17.4353803   -7.27602923   0.09124402]\n",
      "23 H [ 17.29643001  -6.6674154    0.97233665]\n",
      "24 H [ 18.424169    -7.71042438   0.09960327]\n",
      "25 H [ 17.30800624  -6.67509906  -0.7968434 ]\n",
      "26 C [ 8.11872296 -5.63568566  0.04864692]\n",
      "27 C [ 8.91722627 -4.48455507  0.02952505]\n",
      "28 C [ 8.16615173 -3.33886755  0.01737829]\n",
      "29 C [ 6.78981537 -3.52800464  0.01326508]\n",
      "30 S [ 6.41834933 -5.22676952  0.02281556]\n",
      "31 H [ 8.66097911 -2.40233289  0.03066734]\n",
      "32 C [ 10.43280902  -4.38859399   0.04035463]\n",
      "33 H [ 10.7925421   -4.87147708   0.9349902 ]\n",
      "34 H [ 10.80572858  -4.87767278  -0.84552511]\n",
      "35 C [ 11.0232968   -2.97785466   0.03952752]\n",
      "36 H [ 10.70263303  -2.45120754   0.92706738]\n",
      "37 H [ 10.71333187  -2.45638725  -0.85487463]\n",
      "38 C [ 12.54436991  -3.07903852   0.04896882]\n",
      "39 H [ 12.86538508  -3.59714701   0.94086765]\n",
      "40 H [ 12.8762085   -3.60101769  -0.83669221]\n",
      "41 C [ 13.10791266  -1.65890093   0.04924013]\n",
      "42 H [ 12.76750029  -1.13978236   0.93352503]\n",
      "43 H [ 12.7778692   -1.14358819  -0.84119291]\n",
      "44 C [ 14.63345537  -1.72992489   0.05833036]\n",
      "45 H [ 14.96153606  -2.24535494   0.94900893]\n",
      "46 H [ 14.97188826  -2.24892823  -0.82638753]\n",
      "47 C [ 15.19349829  -0.30756625   0.05872544]\n",
      "48 H [ 14.84197547   0.20798324   0.93996533]\n",
      "49 H [ 16.27153974  -0.35725959   0.06526244]\n",
      "50 H [ 14.85251643   0.20431467  -0.82877083]\n",
      "51 C [ 5.8380009  -2.47955878  0.01969652]\n",
      "52 C [ 6.11366005 -1.09824382  0.01014747]\n",
      "53 C [  4.97794193e+00  -3.37400860e-01   1.23311589e-03]\n",
      "54 C [  3.78591905e+00  -1.04588863e+00  -2.30546230e-03]\n",
      "55 S [ 4.10956593 -2.76037036  0.01295562]\n",
      "56 H [ 5.06923086  0.71823224  0.01529283]\n",
      "57 C [ 7.46111776 -0.3968374   0.01939414]\n",
      "58 H [ 7.98112339 -0.69123563  0.91693331]\n",
      "59 H [ 7.99393057 -0.69322737 -0.86993837]\n",
      "60 C [ 7.45889886  1.13050931  0.01735118]\n",
      "61 H [ 6.96511992  1.4943474   0.9067923 ]\n",
      "62 H [ 6.97362048  1.49218317 -0.87764998]\n",
      "63 C [ 8.90833745  1.60518668  0.0238252 ]\n",
      "64 H [ 9.40238852  1.2457008   0.91472362]\n",
      "65 H [ 9.4105958   1.24502874 -0.86219397]\n",
      "66 C [ 8.89870635  3.13154334  0.02314122]\n",
      "67 H [ 8.38934539  3.4840631   0.90814688]\n",
      "68 H [ 8.39690778  3.48326686 -0.86649975]\n",
      "69 C [ 10.33729132   3.64391476   0.02906593]\n",
      "70 H [ 10.83932238   3.29423855   0.91930999]\n",
      "71 H [ 10.84681278   3.29354913  -0.85664812]\n",
      "72 C [ 10.30661332   5.1721166    0.02833372]\n",
      "73 H [ 9.78455775  5.51241791  0.91016652]\n",
      "74 H [ 11.32016207   5.54270832   0.03259643]\n",
      "75 H [ 9.79223645  5.51171574 -0.85826778]\n",
      "76 C [ 2.50346759 -0.44235404  0.0111463 ]\n",
      "77 C [  2.21083264e+00   9.37749289e-01   1.58080475e-03]\n",
      "78 C [ 0.86230685  1.19962199 -0.00321525]\n",
      "79 C [ 0.06404394  0.06729011 -0.00585907]\n",
      "80 S [ 1.03520404 -1.37849334  0.00332645]\n",
      "81 H [ 0.5029368   2.20285307  0.00340859]\n",
      "82 C [ 3.18573804  2.0995767   0.00580672]\n",
      "83 H [ 3.78136966  2.02878612  0.9028248 ]\n",
      "84 H [ 3.78903262  2.02904843 -0.88612638]\n",
      "85 C [  2.59546358e+00   3.50423970e+00   3.45763826e-03]\n",
      "86 H [ 2.00246626  3.65262477  0.89429482]\n",
      "87 H [ 2.00785594  3.65224259 -0.89102964]\n",
      "88 C [ 3.76028129  4.48878218  0.00680853]\n",
      "89 H [ 4.35598502  4.34515453  0.89666091]\n",
      "90 H [ 4.36025038  4.34616261 -0.88033333]\n",
      "91 C [ 3.16669821  5.8927604   0.00614376]\n",
      "92 H [ 2.56268928  6.02139934  0.8923271 ]\n",
      "93 H [ 2.5664826   6.02212726 -0.88251877]\n",
      "94 C [ 4.29470451  6.92036192  0.00901101]\n",
      "95 H [ 4.89424016  6.79454811  0.898762  ]\n",
      "96 H [ 4.89792506  6.79536919 -0.87837009]\n",
      "97 C [ 3.66395886  8.31196892  0.00833862]\n",
      "98 H [ 3.05120952  8.41815508  0.89106398]\n",
      "99 H [ 4.44839352  9.05273285  0.01044037]\n",
      "100 H [ 3.05508607  8.419042   -0.87695619]\n",
      "101 C [-1.34945992  0.04715631  0.00522892]\n",
      "102 C [ -2.26563691e+00   1.11668243e+00   1.11691114e-03]\n",
      "103 C [ -3.58844654e+00   6.83912737e-01   2.28654640e-03]\n",
      "104 C [ -3.70880914e+00  -7.09742193e-01   2.96178908e-03]\n",
      "105 S [ -2.15362564e+00  -1.46684651e+00   9.97058727e-04]\n",
      "106 H [-4.43991816  1.3483703   0.00461938]\n",
      "107 H [ -4.65207521e+00  -1.23624353e+00   4.64421137e-03]\n",
      "108 C [ -1.87229864e+00   2.58505428e+00   1.22042816e-03]\n",
      "109 H [-1.28460882  2.7591265   0.88973801]\n",
      "110 H [-1.28328135  2.75924536 -0.8863981 ]\n",
      "111 C [ -2.95662893e+00   3.65566277e+00   3.89024007e-04]\n",
      "112 H [-3.55802171  3.56902792  0.89315411]\n",
      "113 H [-3.55661734  3.56923612 -0.89335408]\n",
      "114 C [ -2.22192529e+00   5.00589389e+00   1.00291233e-03]\n",
      "115 H [-1.60639711  5.08658215  0.88559712]\n",
      "116 H [-1.60637248  5.08731304 -0.88350324]\n",
      "117 C [ -3.25398749e+00   6.13074830e+00   1.39240937e-03]\n",
      "118 H [-3.86379024  6.04343783  0.88768398]\n",
      "119 H [-3.86387112  6.04395721 -0.88490669]\n",
      "120 C [ -2.56992457e+00   7.49928587e+00   1.78520897e-03]\n",
      "121 H [-1.96376839  7.6044819   0.88984819]\n",
      "122 H [-1.96419106  7.60513368 -0.88649854]\n",
      "123 C [ -3.66421466e+00   8.56854716e+00   2.44126473e-03]\n",
      "124 H [-4.27271825  8.44581737  0.88611179]\n",
      "125 H [ -3.20630053e+00   9.54598548e+00   2.84824923e-03]\n",
      "126 H [-4.27295649  8.44664045 -0.88117706]\n"
     ]
    }
   ],
   "source": [
    "for pk,p in penta_ht.particles.iteritems():\n",
    "    penta_ht.positions[pk] = lmp_i.strucC.positions[pk]\n",
    "    print pk,p.symbol,penta_ht.positions[pk]"
   ]
  },
  {
   "cell_type": "markdown",
   "metadata": {},
   "source": [
    "Save the Buildingblock and force-field"
   ]
  },
  {
   "cell_type": "code",
   "execution_count": 227,
   "metadata": {
    "collapsed": true
   },
   "outputs": [],
   "source": [
    "oplsaa.tag += '_p3ht'"
   ]
  },
  {
   "cell_type": "code",
   "execution_count": 228,
   "metadata": {
    "collapsed": true
   },
   "outputs": [],
   "source": [
    "os.chdir(res_local.dir['materials']) \n",
    "penta_ht.write_xyz()\n",
    "penta_ht_json = penta_ht.export_json() \n",
    "oplsaa_json = oplsaa.export_json()"
   ]
  },
  {
   "cell_type": "markdown",
   "metadata": {},
   "source": [
    "Cool let's run some MD"
   ]
  },
  {
   "cell_type": "code",
   "execution_count": 229,
   "metadata": {
    "collapsed": true
   },
   "outputs": [],
   "source": [
    "p3ht_et = lmp_run(p3ht_et,penta_ht,oplsaa,res_calc,md_type='nvt')"
   ]
  },
  {
   "cell_type": "code",
   "execution_count": 230,
   "metadata": {
    "collapsed": false
   },
   "outputs": [
    {
     "name": "stdout",
     "output_type": "stream",
     "text": [
      "Calculation nw_opt_thiophene_calc_0 has status stored\n",
      "Calculation lmp_min_hexane_HFesp_calc_5 has status stored\n",
      "Calculation nw_opt_hexane_calc_3 has status stored\n",
      "Calculation nw_esp_hexane_calc_4 has status stored\n",
      "Calculation nw_esp_thiophene_calc_1 has status stored\n",
      "Calculation lmp_min_3-hexyl-thiophene_calc_6 has status stored\n",
      "Calculation lmp_min_thiophene_HFesp_calc_2 has status stored\n",
      "Calculation lmp_nvt_penta_3-hexyl-thiophene_oplsaa_calc_8 has status finished\n",
      "Calculation lmp_min_penta_3-hexyl-thiophene_calc_7 has status stored\n"
     ]
    }
   ],
   "source": [
    "p3ht_et.check()"
   ]
  },
  {
   "cell_type": "code",
   "execution_count": 231,
   "metadata": {
    "collapsed": true
   },
   "outputs": [],
   "source": [
    "lmp_i = p3ht_et.calculations['lmp_nvt_penta_3-hexyl-thiophene_oplsaa_calc_8']"
   ]
  },
  {
   "cell_type": "code",
   "execution_count": 232,
   "metadata": {
    "collapsed": true
   },
   "outputs": [],
   "source": [
    "os.chdir(lmp_i.dir['launch'])"
   ]
  },
  {
   "cell_type": "code",
   "execution_count": 233,
   "metadata": {
    "collapsed": true
   },
   "outputs": [],
   "source": [
    "while( lmp_i.meta['status'] != 'finished'):\n",
    "    lmp_i.check()\n",
    "    time.sleep(status_refresh)"
   ]
  },
  {
   "cell_type": "code",
   "execution_count": 234,
   "metadata": {
    "collapsed": true,
    "scrolled": true
   },
   "outputs": [],
   "source": [
    "lmp_i.analysis()"
   ]
  },
  {
   "cell_type": "code",
   "execution_count": 235,
   "metadata": {
    "collapsed": false
   },
   "outputs": [
    {
     "name": "stdout",
     "output_type": "stream",
     "text": [
      "[64.241056, 64.214967]\n"
     ]
    }
   ],
   "source": [
    "run_i= lmp_i.run_list[0]\n",
    "print run_i.timeseries['toteng']"
   ]
  },
  {
   "cell_type": "code",
   "execution_count": 236,
   "metadata": {
    "collapsed": true
   },
   "outputs": [],
   "source": [
    "lmp_i.store()"
   ]
  },
  {
   "cell_type": "markdown",
   "metadata": {},
   "source": [
    "Read in data file positions"
   ]
  },
  {
   "cell_type": "code",
   "execution_count": 237,
   "metadata": {
    "collapsed": true
   },
   "outputs": [],
   "source": [
    "lmp_i.pull()"
   ]
  },
  {
   "cell_type": "markdown",
   "metadata": {},
   "source": [
    "Read in data file output and update positions"
   ]
  },
  {
   "cell_type": "code",
   "execution_count": 238,
   "metadata": {
    "collapsed": false
   },
   "outputs": [
    {
     "name": "stdout",
     "output_type": "stream",
     "text": [
      "min2.data\n"
     ]
    }
   ],
   "source": [
    "datafn = lmp_i.files['output']['data_3']\n",
    "print datafn"
   ]
  },
  {
   "cell_type": "code",
   "execution_count": 239,
   "metadata": {
    "collapsed": true
   },
   "outputs": [],
   "source": [
    "lmp_i.read_data_pos(datafn)"
   ]
  },
  {
   "cell_type": "code",
   "execution_count": 240,
   "metadata": {
    "collapsed": false,
    "scrolled": true
   },
   "outputs": [
    {
     "name": "stdout",
     "output_type": "stream",
     "text": [
      "[[ 100.    0.    0.]\n",
      " [   0.  100.    0.]\n",
      " [   0.    0.  100.]]\n"
     ]
    }
   ],
   "source": [
    "print lmp_i.strucC.lat.matrix"
   ]
  },
  {
   "cell_type": "code",
   "execution_count": 241,
   "metadata": {
    "collapsed": true
   },
   "outputs": [],
   "source": [
    "lmp_i.strucC.write_xyz()"
   ]
  },
  {
   "cell_type": "markdown",
   "metadata": {
    "collapsed": true
   },
   "source": [
    "Awesome! We have a randomized pentamer, so let's save that as new Buildingblock"
   ]
  },
  {
   "cell_type": "code",
   "execution_count": 242,
   "metadata": {
    "collapsed": true
   },
   "outputs": [],
   "source": [
    "bbPHTh_1 = copy.deepcopy(lmp_i.strucC)"
   ]
  },
  {
   "cell_type": "code",
   "execution_count": 243,
   "metadata": {
    "collapsed": false
   },
   "outputs": [
    {
     "name": "stdout",
     "output_type": "stream",
     "text": [
      " penta_3-hexyl-thiophene_oplsaa\n"
     ]
    }
   ],
   "source": [
    "print bbPHTh_1"
   ]
  },
  {
   "cell_type": "code",
   "execution_count": 244,
   "metadata": {
    "collapsed": false
   },
   "outputs": [
    {
     "name": "stdout",
     "output_type": "stream",
     "text": [
      "127\n"
     ]
    }
   ],
   "source": [
    "print bbPHTh_1.n_particles"
   ]
  },
  {
   "cell_type": "code",
   "execution_count": 245,
   "metadata": {
    "collapsed": false
   },
   "outputs": [
    {
     "data": {
      "text/plain": [
       "{u'calculations': {'lmp_min_3-hexyl-thiophene_calc_6': u'lammps',\n",
       "  'lmp_min_hexane_HFesp_calc_5': u'lammps',\n",
       "  'lmp_min_penta_3-hexyl-thiophene_calc_7': u'lammps',\n",
       "  'lmp_min_thiophene_HFesp_calc_2': u'lammps',\n",
       "  'lmp_nvt_penta_3-hexyl-thiophene_oplsaa_calc_8': u'lammps',\n",
       "  'nw_esp_hexane_calc_4': u'nwchem',\n",
       "  'nw_esp_thiophene_calc_1': u'nwchem',\n",
       "  'nw_opt_hexane_calc_3': u'nwchem',\n",
       "  'nw_opt_thiophene_calc_0': u'nwchem'},\n",
       " u'meta': {'date': '2017-11-16T09:32:33.686736',\n",
       "  'software': u'streamm_proj',\n",
       "  'status': 'written'},\n",
       " u'resources': ['local']}"
      ]
     },
     "execution_count": 245,
     "metadata": {},
     "output_type": "execute_result"
    }
   ],
   "source": [
    "os.chdir(p3ht_et.dir['home'])\n",
    "p3ht_et.export_json()"
   ]
  },
  {
   "cell_type": "code",
   "execution_count": 246,
   "metadata": {
    "collapsed": true
   },
   "outputs": [],
   "source": [
    "os.chdir(res_local.dir['materials']) \n",
    "bbPHTh_1.write_xyz()\n",
    "bbPHTh_1_json = bbPHTh_1.export_json() "
   ]
  },
  {
   "cell_type": "markdown",
   "metadata": {},
   "source": [
    "Now let's replicate the oligomer 50 times to create a low density system"
   ]
  },
  {
   "cell_type": "markdown",
   "metadata": {},
   "source": [
    "Increase the box size"
   ]
  },
  {
   "cell_type": "code",
   "execution_count": 247,
   "metadata": {
    "collapsed": true
   },
   "outputs": [],
   "source": [
    "pHTh_x = streamm.Buildingblock()"
   ]
  },
  {
   "cell_type": "code",
   "execution_count": 248,
   "metadata": {
    "collapsed": true
   },
   "outputs": [],
   "source": [
    "def replicate(pHTh_x,bbPHTh_1,res_local):\n",
    "    '''Replciate structure '''\n",
    "    pHTh_x.lat.matrix = [ 200.,0.,0., 0.,200.,0.,  0.,0.,200.]\n",
    "\n",
    "    pHTh_x.lat.pbcs = [False,False,False]\n",
    "\n",
    "    seed = 394572\n",
    "\n",
    "    # Randomly place oligomers into the simulation cell\n",
    "\n",
    "    pHTh_x = streamm.add_struc(pHTh_x,bbPHTh_1,50,seed)\n",
    "    pHTh_x.tag = 'p3HTx50'\n",
    "    pHTh_x.lat.pbcs = [True,True,True]\n",
    "\n",
    "    os.chdir(res_local.dir['materials']) \n",
    "    pHTh_x.write_xyz()\n",
    "    pHTh_json = pHTh_x.export_json() \n",
    "    \n",
    "    return pHTh_x"
   ]
  },
  {
   "cell_type": "code",
   "execution_count": 249,
   "metadata": {
    "collapsed": true
   },
   "outputs": [],
   "source": [
    "need_files = ['p3HTx50_struc.json']\n",
    "read_p3HTx50 = True \n",
    "for f in need_files:\n",
    "    path = Path(f)\n",
    "    if not path.is_file():\n",
    "        print(\"Need to run replicate\")\n",
    "        pHTh_x = replicate(pHTh_x,bbPHTh_1,res_local)\n",
    "        read_p3HTx50 = False"
   ]
  },
  {
   "cell_type": "code",
   "execution_count": 250,
   "metadata": {
    "collapsed": true
   },
   "outputs": [],
   "source": [
    "if( read_p3HTx50 ):\n",
    "    pHTh_x.tag = 'p3HTx50'\n",
    "    pHTh_x.import_json()\n",
    "    "
   ]
  },
  {
   "cell_type": "code",
   "execution_count": 251,
   "metadata": {
    "collapsed": false
   },
   "outputs": [
    {
     "name": "stdout",
     "output_type": "stream",
     "text": [
      "6350\n",
      "[[ 200.    0.    0.]\n",
      " [   0.  200.    0.]\n",
      " [   0.    0.  200.]]\n"
     ]
    }
   ],
   "source": [
    "print pHTh_x.n_particles\n",
    "print pHTh_x.lat.matrix"
   ]
  },
  {
   "cell_type": "markdown",
   "metadata": {},
   "source": [
    "Check grouping "
   ]
  },
  {
   "cell_type": "code",
   "execution_count": 252,
   "metadata": {
    "collapsed": true
   },
   "outputs": [],
   "source": [
    "groupset_i = streamm.Groups('mol',pHTh_x)\n",
    "groupset_i.group_prop('mol','oligomers')"
   ]
  },
  {
   "cell_type": "code",
   "execution_count": 253,
   "metadata": {
    "collapsed": false
   },
   "outputs": [
    {
     "name": "stdout",
     "output_type": "stream",
     "text": [
      "50\n"
     ]
    }
   ],
   "source": [
    "print len(groupset_i.groups)"
   ]
  },
  {
   "cell_type": "code",
   "execution_count": 254,
   "metadata": {
    "collapsed": false
   },
   "outputs": [
    {
     "data": {
      "text/plain": [
       "[True, True, True]"
      ]
     },
     "execution_count": 254,
     "metadata": {},
     "output_type": "execute_result"
    }
   ],
   "source": [
    "groupset_i.strucC.lat.pbcs"
   ]
  },
  {
   "cell_type": "markdown",
   "metadata": {},
   "source": [
    "Run a heat cool cycle with NPT to create a solid phase representation of p3HT"
   ]
  },
  {
   "cell_type": "code",
   "execution_count": 255,
   "metadata": {
    "collapsed": true
   },
   "outputs": [],
   "source": [
    "p3ht_et = lmp_run(p3ht_et,pHTh_x,oplsaa,res_calc,md_type = 'equ0')"
   ]
  },
  {
   "cell_type": "code",
   "execution_count": 256,
   "metadata": {
    "collapsed": false
   },
   "outputs": [
    {
     "name": "stdout",
     "output_type": "stream",
     "text": [
      "Calculation nw_opt_thiophene_calc_0 has status stored\n",
      "Calculation lmp_min_hexane_HFesp_calc_5 has status stored\n",
      "Calculation nw_opt_hexane_calc_3 has status stored\n",
      "Calculation nw_esp_hexane_calc_4 has status stored\n",
      "Calculation nw_esp_thiophene_calc_1 has status stored\n",
      "Calculation lmp_min_3-hexyl-thiophene_calc_6 has status stored\n",
      "Calculation lmp_min_thiophene_HFesp_calc_2 has status stored\n",
      "Calculation lmp_nvt_penta_3-hexyl-thiophene_oplsaa_calc_8 has status stored\n",
      "Calculation lmp_min_penta_3-hexyl-thiophene_calc_7 has status stored\n",
      "Calculation lmp_equ0_p3HTx50_calc_9 has status finished\n"
     ]
    }
   ],
   "source": [
    "p3ht_et.check()"
   ]
  },
  {
   "cell_type": "code",
   "execution_count": 257,
   "metadata": {
    "collapsed": true
   },
   "outputs": [],
   "source": [
    "lmp_i = p3ht_et.calculations['lmp_equ0_p3HTx50_calc_9']"
   ]
  },
  {
   "cell_type": "code",
   "execution_count": 258,
   "metadata": {
    "collapsed": true
   },
   "outputs": [],
   "source": [
    "os.chdir(lmp_i.dir['launch'])"
   ]
  },
  {
   "cell_type": "code",
   "execution_count": 259,
   "metadata": {
    "collapsed": true
   },
   "outputs": [],
   "source": [
    "while( lmp_i.meta['status'] != 'finished'):\n",
    "    lmp_i.check()\n",
    "    time.sleep(status_refresh)"
   ]
  },
  {
   "cell_type": "code",
   "execution_count": 260,
   "metadata": {
    "collapsed": true
   },
   "outputs": [],
   "source": [
    "lmp_i.analysis()"
   ]
  },
  {
   "cell_type": "markdown",
   "metadata": {},
   "source": [
    "Check how many runs there were in the output"
   ]
  },
  {
   "cell_type": "code",
   "execution_count": 261,
   "metadata": {
    "collapsed": false
   },
   "outputs": [
    {
     "name": "stdout",
     "output_type": "stream",
     "text": [
      "3\n"
     ]
    }
   ],
   "source": [
    "print lmp_i.properties['run_cnt']"
   ]
  },
  {
   "cell_type": "markdown",
   "metadata": {},
   "source": [
    "Plot the time series data from the MD runs "
   ]
  },
  {
   "cell_type": "code",
   "execution_count": 262,
   "metadata": {
    "collapsed": true
   },
   "outputs": [],
   "source": [
    "def plot_mdrun(lmp_i):\n",
    "\n",
    "\n",
    "    fig, ax = plt.subplots(1,sharey=True)\n",
    "    ax2 = ax.twinx()\n",
    "\n",
    "    for run_i in lmp_i.run_list:\n",
    "        ax.plot(run_i.timeseries['step'],run_i.timeseries['volume'],'b.-')\n",
    "        ax2.plot(run_i.timeseries['step'],run_i.timeseries['temp'],'k.-')\n",
    "\n",
    "    ax.set_ylabel('volume', color='b')\n",
    "    ax2.set_ylabel('temp', color='k')\n",
    "    ax.set_xlabel('time (fs)', color='k')\n",
    "\n",
    "\n",
    "    fig.subplots_adjust(hspace=0.0)   \n",
    "    fig.set_size_inches(8.0, 12.0)\n",
    "\n",
    "    fig.savefig('{}.pdf'.format(lmp_i.tag),format='pdf')\n",
    "\n"
   ]
  },
  {
   "cell_type": "code",
   "execution_count": 263,
   "metadata": {
    "collapsed": false
   },
   "outputs": [
    {
     "data": {
      "image/png": "[encoded data removed]",
      "text/plain": [
       "<matplotlib.figure.Figure at 0x13e761690>"
      ]
     },
     "metadata": {},
     "output_type": "display_data"
    }
   ],
   "source": [
    "plot_mdrun(lmp_i)"
   ]
  },
  {
   "cell_type": "markdown",
   "metadata": {},
   "source": [
    "Cool the volume is decreasing "
   ]
  },
  {
   "cell_type": "markdown",
   "metadata": {},
   "source": [
    "Note::\n",
    "        If you want to collapse the system entirely you will have to run a slower cooling cycle"
   ]
  },
  {
   "cell_type": "code",
   "execution_count": 264,
   "metadata": {
    "collapsed": true
   },
   "outputs": [],
   "source": [
    "lmp_i.store()"
   ]
  },
  {
   "cell_type": "code",
   "execution_count": 265,
   "metadata": {
    "collapsed": true
   },
   "outputs": [],
   "source": [
    "lmp_i.pull()"
   ]
  },
  {
   "cell_type": "markdown",
   "metadata": {},
   "source": [
    "Read in data file output and update positions"
   ]
  },
  {
   "cell_type": "code",
   "execution_count": 266,
   "metadata": {
    "collapsed": false
   },
   "outputs": [
    {
     "name": "stdout",
     "output_type": "stream",
     "text": [
      "equ0.data\n"
     ]
    }
   ],
   "source": [
    "datafn = lmp_i.files['output']['data_3']\n",
    "print datafn"
   ]
  },
  {
   "cell_type": "markdown",
   "metadata": {},
   "source": [
    "Update positions"
   ]
  },
  {
   "cell_type": "code",
   "execution_count": 267,
   "metadata": {
    "collapsed": true
   },
   "outputs": [],
   "source": [
    "lmp_i.read_data_pos(datafn)"
   ]
  },
  {
   "cell_type": "markdown",
   "metadata": {},
   "source": [
    "Check the size of the simulation cell"
   ]
  },
  {
   "cell_type": "code",
   "execution_count": 268,
   "metadata": {
    "collapsed": false,
    "scrolled": true
   },
   "outputs": [
    {
     "name": "stdout",
     "output_type": "stream",
     "text": [
      "[[ 60.25290351   0.           0.        ]\n",
      " [  0.          60.25290351   0.        ]\n",
      " [  0.           0.          60.25290351]]\n"
     ]
    }
   ],
   "source": [
    "print lmp_i.strucC.lat.matrix"
   ]
  },
  {
   "cell_type": "markdown",
   "metadata": {},
   "source": [
    "Update tag"
   ]
  },
  {
   "cell_type": "code",
   "execution_count": 269,
   "metadata": {
    "collapsed": true
   },
   "outputs": [],
   "source": [
    "lmp_i.strucC.tag += '_equ0'"
   ]
  },
  {
   "cell_type": "code",
   "execution_count": 270,
   "metadata": {
    "collapsed": true
   },
   "outputs": [],
   "source": [
    "lmp_i.strucC.write_xyz()"
   ]
  },
  {
   "cell_type": "markdown",
   "metadata": {},
   "source": [
    "We can use streamm to calculate some properties of the system"
   ]
  },
  {
   "cell_type": "code",
   "execution_count": 271,
   "metadata": {
    "collapsed": true
   },
   "outputs": [],
   "source": [
    "lmp_i.strucC.calc_mass()\n",
    "lmp_i.strucC.calc_volume()\n",
    "lmp_i.strucC.calc_center_mass()"
   ]
  },
  {
   "cell_type": "code",
   "execution_count": 272,
   "metadata": {
    "collapsed": false,
    "scrolled": true
   },
   "outputs": [
    {
     "name": "stdout",
     "output_type": "stream",
     "text": [
      "[ 1.879089    3.80707676 -1.2714102 ]\n"
     ]
    }
   ],
   "source": [
    "print lmp_i.strucC.center_mass"
   ]
  },
  {
   "cell_type": "code",
   "execution_count": 273,
   "metadata": {
    "collapsed": true
   },
   "outputs": [],
   "source": [
    "struc_i = lmp_i.strucC"
   ]
  },
  {
   "cell_type": "markdown",
   "metadata": {},
   "source": [
    "Save annealed structure "
   ]
  },
  {
   "cell_type": "code",
   "execution_count": 274,
   "metadata": {
    "collapsed": true
   },
   "outputs": [],
   "source": [
    "os.chdir(res_local.dir['materials'])\n",
    "struc_json = struc_i.export_json()"
   ]
  },
  {
   "cell_type": "markdown",
   "metadata": {},
   "source": [
    "Let us create a new project to hold all the ET calculations we need to do for each pair of groups"
   ]
  },
  {
   "cell_type": "code",
   "execution_count": 320,
   "metadata": {
    "collapsed": true
   },
   "outputs": [],
   "source": [
    "mol_et_equ0 = streamm.Project('mol_et_equ0')"
   ]
  },
  {
   "cell_type": "code",
   "execution_count": 321,
   "metadata": {
    "collapsed": true
   },
   "outputs": [],
   "source": [
    "mol_et_equ0.set_resource(res_local)"
   ]
  },
  {
   "cell_type": "code",
   "execution_count": 322,
   "metadata": {
    "collapsed": true
   },
   "outputs": [],
   "source": [
    "os.chdir(mol_et_equ0.dir['materials'])"
   ]
  },
  {
   "cell_type": "markdown",
   "metadata": {},
   "source": [
    "If we need to restart the project here all we have to do is load in the structure "
   ]
  },
  {
   "cell_type": "code",
   "execution_count": 323,
   "metadata": {
    "collapsed": false
   },
   "outputs": [
    {
     "name": "stdout",
     "output_type": "stream",
     "text": [
      "6350\n"
     ]
    }
   ],
   "source": [
    "try:\n",
    "    print  struc_i.n_particles\n",
    "except:\n",
    "    struc_i = streamm.Buildingblock('p3HTx50_equ0')\n",
    "    struc_i.import_json()"
   ]
  },
  {
   "cell_type": "markdown",
   "metadata": {},
   "source": [
    "Create groups out of the molecules"
   ]
  },
  {
   "cell_type": "code",
   "execution_count": 324,
   "metadata": {
    "collapsed": true
   },
   "outputs": [],
   "source": [
    "groupset_i = streamm.Groups('mol',struc_i)"
   ]
  },
  {
   "cell_type": "code",
   "execution_count": 325,
   "metadata": {
    "collapsed": true
   },
   "outputs": [],
   "source": [
    "groupset_i.group_prop('mol','oligomers')"
   ]
  },
  {
   "cell_type": "code",
   "execution_count": 326,
   "metadata": {
    "collapsed": false
   },
   "outputs": [
    {
     "name": "stdout",
     "output_type": "stream",
     "text": [
      "50\n"
     ]
    }
   ],
   "source": [
    "print len(groupset_i.groups)"
   ]
  },
  {
   "cell_type": "code",
   "execution_count": 327,
   "metadata": {
    "collapsed": true
   },
   "outputs": [],
   "source": [
    "groupset_i.strucC.lat.pbcs = [True,True,True]"
   ]
  },
  {
   "cell_type": "code",
   "execution_count": 328,
   "metadata": {
    "collapsed": false
   },
   "outputs": [
    {
     "name": "stdout",
     "output_type": "stream",
     "text": [
      "[True, True, True]\n"
     ]
    }
   ],
   "source": [
    "print groupset_i.strucC.lat.pbcs"
   ]
  },
  {
   "cell_type": "code",
   "execution_count": 329,
   "metadata": {
    "collapsed": false
   },
   "outputs": [
    {
     "name": "stdout",
     "output_type": "stream",
     "text": [
      "[[ 60.25290351   0.           0.        ]\n",
      " [  0.          60.25290351   0.        ]\n",
      " [  0.           0.          60.25290351]]\n"
     ]
    }
   ],
   "source": [
    "print groupset_i.strucC.lat.matrix"
   ]
  },
  {
   "cell_type": "markdown",
   "metadata": {},
   "source": [
    "Apply periodic boundaries to all the groups, so the molecules are not split across pbc's"
   ]
  },
  {
   "cell_type": "code",
   "execution_count": 330,
   "metadata": {
    "collapsed": true
   },
   "outputs": [],
   "source": [
    "groupset_i.group_pbcs()"
   ]
  },
  {
   "cell_type": "code",
   "execution_count": 331,
   "metadata": {
    "collapsed": true
   },
   "outputs": [],
   "source": [
    "lmp_i.strucC.calc_center_mass()"
   ]
  },
  {
   "cell_type": "code",
   "execution_count": 332,
   "metadata": {
    "collapsed": false,
    "scrolled": true
   },
   "outputs": [
    {
     "name": "stdout",
     "output_type": "stream",
     "text": [
      "[ 3.00867262  4.93687616 -2.68781403]\n"
     ]
    }
   ],
   "source": [
    "print lmp_i.strucC.center_mass"
   ]
  },
  {
   "cell_type": "markdown",
   "metadata": {},
   "source": [
    "Write out the new structure and check that all the molecules are whole "
   ]
  },
  {
   "cell_type": "code",
   "execution_count": 333,
   "metadata": {
    "collapsed": true
   },
   "outputs": [],
   "source": [
    "groupset_i.strucC.write_xyz('groups.xyz')"
   ]
  },
  {
   "cell_type": "markdown",
   "metadata": {},
   "source": [
    "Calculate some group properties to use to build a neighbor list "
   ]
  },
  {
   "cell_type": "code",
   "execution_count": 334,
   "metadata": {
    "collapsed": true
   },
   "outputs": [],
   "source": [
    "groupset_i.calc_cent_mass()\n",
    "groupset_i.calc_radius()\n",
    "# groupset_i.calc_dl()"
   ]
  },
  {
   "cell_type": "code",
   "execution_count": 335,
   "metadata": {
    "collapsed": false
   },
   "outputs": [
    {
     "name": "stdout",
     "output_type": "stream",
     "text": [
      "60.252904 0.000000 0.000000\n",
      "0.000000 60.252904 0.000000\n",
      "0.000000 0.000000 60.252904\n",
      "50\n",
      "50\n"
     ]
    }
   ],
   "source": [
    "print groupset_i.strucC.lat\n",
    "print len(groupset_i.cent_mass)\n",
    "print len(groupset_i.radius)"
   ]
  },
  {
   "cell_type": "markdown",
   "metadata": {},
   "source": [
    "Save the structure we are creating our pairs from "
   ]
  },
  {
   "cell_type": "code",
   "execution_count": 336,
   "metadata": {
    "collapsed": true
   },
   "outputs": [],
   "source": [
    "gmol_json = groupset_i.strucC.export_json()"
   ]
  },
  {
   "cell_type": "markdown",
   "metadata": {},
   "source": [
    "Create a neighbor list of groups "
   ]
  },
  {
   "cell_type": "code",
   "execution_count": 337,
   "metadata": {
    "collapsed": true
   },
   "outputs": [],
   "source": [
    "groupset_i.group_nblist.radii_nblist(groupset_i.strucC.lat,groupset_i.cent_mass,groupset_i.radius,radii_buffer=0.500)"
   ]
  },
  {
   "cell_type": "code",
   "execution_count": 338,
   "metadata": {
    "collapsed": false
   },
   "outputs": [
    {
     "name": "stdout",
     "output_type": "stream",
     "text": [
      " NBlist of 50 particles with 146 connections\n"
     ]
    }
   ],
   "source": [
    "print groupset_i.group_nblist"
   ]
  },
  {
   "cell_type": "code",
   "execution_count": 339,
   "metadata": {
    "collapsed": true,
    "scrolled": true
   },
   "outputs": [],
   "source": [
    "g_nbs = []\n",
    "for gk_i,g_i in groupset_i.groups.iteritems():\n",
    "        n_nbs = groupset_i.group_nblist.calc_nnab(gk_i)\n",
    "        g_nbs.append(n_nbs)\n",
    "g_nbs = np.array(g_nbs)    "
   ]
  },
  {
   "cell_type": "markdown",
   "metadata": {},
   "source": [
    "Check the min, average and max numbers of neighbors"
   ]
  },
  {
   "cell_type": "code",
   "execution_count": 340,
   "metadata": {
    "collapsed": false
   },
   "outputs": [
    {
     "name": "stdout",
     "output_type": "stream",
     "text": [
      "0 2.92 5\n"
     ]
    }
   ],
   "source": [
    "print g_nbs.min(),g_nbs.mean(),g_nbs.max()"
   ]
  },
  {
   "cell_type": "markdown",
   "metadata": {},
   "source": [
    "Loop over each group, shift the group to the center of the simulation cell and write an .xyz file that includes the neighbors of the group."
   ]
  },
  {
   "cell_type": "code",
   "execution_count": 341,
   "metadata": {
    "collapsed": false
   },
   "outputs": [
    {
     "name": "stdout",
     "output_type": "stream",
     "text": [
      "0 5 762\n",
      "1 4 635\n",
      "2 3 508\n",
      "3 3 508\n",
      "4 2 381\n",
      "5 4 635\n",
      "6 3 508\n",
      "7 4 635\n",
      "8 1 254\n",
      "9 2 381\n",
      "10 2 381\n",
      "11 4 635\n",
      "12 3 508\n",
      "13 1 254\n",
      "14 2 381\n",
      "15 2 381\n",
      "16 4 635\n",
      "17 4 635\n",
      "18 2 381\n",
      "19 2 381\n",
      "20 1 254\n",
      "21 1 254\n",
      "22 4 635\n",
      "23 4 635\n",
      "24 1 254\n",
      "25 3 508\n",
      "26 2 381\n",
      "27 4 635\n",
      "28 2 381\n",
      "29 4 635\n",
      "30 5 762\n",
      "31 3 508\n",
      "32 5 762\n",
      "33 3 508\n",
      "34 0 127\n",
      "35 2 381\n",
      "36 3 508\n",
      "37 3 508\n",
      "38 1 254\n",
      "39 4 635\n",
      "40 3 508\n",
      "41 3 508\n",
      "42 4 635\n",
      "43 2 381\n",
      "44 2 381\n",
      "45 4 635\n",
      "46 2 381\n",
      "47 5 762\n",
      "48 5 762\n",
      "49 4 635\n"
     ]
    }
   ],
   "source": [
    "for gk_i,g_i in groupset_i.groups.iteritems():\n",
    "        list_i = copy.deepcopy(g_i.pkeys)\n",
    "        for g_j in groupset_i.group_nblist.getnbs(gk_i):\n",
    "            list_i += groupset_i.groups[g_j].pkeys\n",
    "        print gk_i,groupset_i.group_nblist.calc_nnab(gk_i),len(list_i)\n",
    "        groupset_i.strucC.shift_pos(-1.0*g_i.cent_mass)  # Place center of mass at origin\n",
    "        groupset_i.strucC.write_xyz_list(list_i,xyz_file='nn_{}.xyz'.format(gk_i))\n",
    "        groupset_i.strucC.shift_pos(g_i.cent_mass)  # Return center of mass \n",
    "        \n",
    "        list_i = []\n",
    "        "
   ]
  },
  {
   "cell_type": "markdown",
   "metadata": {},
   "source": [
    "The nearest neighbor cluster look good so let us calculate the electron transfer "
   ]
  },
  {
   "cell_type": "markdown",
   "metadata": {},
   "source": [
    "First create a list of unique pairs "
   ]
  },
  {
   "cell_type": "code",
   "execution_count": 342,
   "metadata": {
    "collapsed": true
   },
   "outputs": [],
   "source": [
    "et_pairs = {}\n",
    "et_pairs['i'] = []\n",
    "et_pairs['j'] = []\n",
    "for gk_i,g_i in groupset_i.groups.iteritems():\n",
    "    for gk_j in groupset_i.group_nblist.getnbs(gk_i):\n",
    "        if( gk_j > gk_i ):\n",
    "            et_pairs['i'].append(gk_i)\n",
    "            et_pairs['j'].append(gk_j)\n",
    "            \n",
    "            "
   ]
  },
  {
   "cell_type": "markdown",
   "metadata": {},
   "source": [
    "Convert the dictionary to a pandas Dataframe"
   ]
  },
  {
   "cell_type": "code",
   "execution_count": 343,
   "metadata": {
    "collapsed": true
   },
   "outputs": [],
   "source": [
    "import pandas as pd"
   ]
  },
  {
   "cell_type": "code",
   "execution_count": 349,
   "metadata": {
    "collapsed": true
   },
   "outputs": [],
   "source": [
    "et_df = pd.DataFrame(et_pairs)"
   ]
  },
  {
   "cell_type": "code",
   "execution_count": 350,
   "metadata": {
    "collapsed": false
   },
   "outputs": [
    {
     "data": {
      "text/plain": [
       "Index([], dtype='object')"
      ]
     },
     "execution_count": 350,
     "metadata": {},
     "output_type": "execute_result"
    }
   ],
   "source": [
    "et_df.columns"
   ]
  },
  {
   "cell_type": "markdown",
   "metadata": {},
   "source": [
    "Save that in a local file "
   ]
  },
  {
   "cell_type": "code",
   "execution_count": 352,
   "metadata": {
    "collapsed": true
   },
   "outputs": [],
   "source": [
    "et_fn = 'et_pairs.csv'\n",
    "if( len(et_df) == 0 ):\n",
    "    et_df = pd.read_csv(et_fn)"
   ]
  },
  {
   "cell_type": "code",
   "execution_count": 353,
   "metadata": {
    "collapsed": false
   },
   "outputs": [
    {
     "name": "stdout",
     "output_type": "stream",
     "text": [
      "71\n"
     ]
    }
   ],
   "source": [
    "print  len(et_df)"
   ]
  },
  {
   "cell_type": "code",
   "execution_count": 354,
   "metadata": {
    "collapsed": true
   },
   "outputs": [],
   "source": [
    "et_df.to_csv('et_pairs.csv',sep=',')"
   ]
  },
  {
   "cell_type": "code",
   "execution_count": 355,
   "metadata": {
    "collapsed": true
   },
   "outputs": [],
   "source": [
    "def nw_et(project_i,res_i,groupset_i,gk_i,gk_j,run_calc = True):\n",
    "\n",
    "    calc_n =  len(project_i.calculations)     \n",
    "    nwchem_et = streamm.NWChem('nw_et_{}_g{}_g{}'.format(project_i.tag,gk_i,gk_j))\n",
    "\n",
    "    # Set calculation to run on external resource\n",
    "    nwchem_et.set_resource(res_i)\n",
    "\n",
    "    # Make the local directories \n",
    "    nwchem_et.make_dir()\n",
    "    # Change to the `launch` directory\n",
    "    os.chdir(nwchem_et.dir['launch'])\n",
    "\n",
    "    group_i = groupset_i.groups[gk_i]\n",
    "    group_j = groupset_i.groups[gk_j]    \n",
    "\n",
    "    nwchem_et.properties['coord_i'] = group_i.write_coord()\n",
    "    nwchem_et.properties['coord_j'] = group_j.write_coord()    \n",
    "    nwchem_et.properties['coord_ij'] = nwchem_et.properties['coord_i'] + nwchem_et.properties['coord_j'] \n",
    "    \n",
    "    \n",
    "\n",
    "    nwchem_et.cp_file('templates','run',\"nwchem_remote.pbs\",'templates','launch')\n",
    "    nwchem_et.cp_file('templates','nw',\"nwchem_et.nw\",'templates','launch')\n",
    "    #\n",
    "    nwchem_et.load_str('templates','nw')        \n",
    "    nwchem_et.load_str('templates','run')\n",
    "    # \n",
    "    nwchem_et.replacewrite_prop('nw','input','nw','%s.nw'%(nwchem_et.tag))\n",
    "\n",
    "    nwchem_et.properties['input_nw'] = nwchem_et.files['input']['nw']\n",
    "    nwchem_et.replacewrite_prop('run','scripts','run','%s.pbs'%(nwchem_et.tag))\n",
    "\n",
    "    nwchem_et.add_file('output','log',\"%s.log\"%(nwchem_et.tag))\n",
    "    # Save details in .json files \n",
    "    # \n",
    "    os.chdir(nwchem_et.dir['home'])\n",
    "    nwchem_et.export_json()\n",
    "    # \n",
    "    #\n",
    "    if( run_calc ):\n",
    "        os.chdir(nwchem_et.dir['launch'])\n",
    "        nwchem_et.push()\n",
    "        nwchem_et.run()\n",
    "        \n",
    "    return nwchem_et\n"
   ]
  },
  {
   "cell_type": "markdown",
   "metadata": {},
   "source": [
    "Loop over all the pairs and create NWChem ET input files"
   ]
  },
  {
   "cell_type": "code",
   "execution_count": 356,
   "metadata": {
    "collapsed": true
   },
   "outputs": [],
   "source": [
    "et_df['calc_id'] = None"
   ]
  },
  {
   "cell_type": "code",
   "execution_count": 377,
   "metadata": {
    "collapsed": true
   },
   "outputs": [],
   "source": [
    "for k,pair_i in et_df.iterrows():\n",
    "    gk_i = pair_i['i']\n",
    "    gk_j = pair_i['j']\n",
    "    nwchem_et = nw_et(mol_et_equ0,res_calc,groupset_i,gk_i,gk_j)\n",
    "    # Add calculation to project\n",
    "    mol_et_equ0.add_calc(nwchem_et,deepcopy = True)    \n",
    "    # Add the tag to the Dataframe \n",
    "    #\n",
    "    et_row = et_df.loc[ (et_df['i'] == gk_i ) & (et_df['j'] == gk_j)]\n",
    "    et_index =  int(et_row.index[0])\n",
    "    et_df.loc[et_index,'calc_id'] = nwchem_et.tag"
   ]
  },
  {
   "cell_type": "markdown",
   "metadata": {},
   "source": [
    "Check the first couple of entries in the Dataframe "
   ]
  },
  {
   "cell_type": "code",
   "execution_count": 378,
   "metadata": {
    "collapsed": false
   },
   "outputs": [
    {
     "data": {
      "text/html": [
       "<div>\n",
       "<style>\n",
       "    .dataframe thead tr:only-child th {\n",
       "        text-align: right;\n",
       "    }\n",
       "\n",
       "    .dataframe thead th {\n",
       "        text-align: left;\n",
       "    }\n",
       "\n",
       "    .dataframe tbody tr th {\n",
       "        vertical-align: top;\n",
       "    }\n",
       "</style>\n",
       "<table border=\"1\" class=\"dataframe\">\n",
       "  <thead>\n",
       "    <tr style=\"text-align: right;\">\n",
       "      <th></th>\n",
       "      <th>Unnamed: 0</th>\n",
       "      <th>i</th>\n",
       "      <th>j</th>\n",
       "      <th>calc_id</th>\n",
       "    </tr>\n",
       "  </thead>\n",
       "  <tbody>\n",
       "    <tr>\n",
       "      <th>0</th>\n",
       "      <td>0</td>\n",
       "      <td>0</td>\n",
       "      <td>3</td>\n",
       "      <td>nw_et_mol_et_equ0_g0_g3</td>\n",
       "    </tr>\n",
       "    <tr>\n",
       "      <th>1</th>\n",
       "      <td>1</td>\n",
       "      <td>0</td>\n",
       "      <td>14</td>\n",
       "      <td>nw_et_mol_et_equ0_g0_g14</td>\n",
       "    </tr>\n",
       "    <tr>\n",
       "      <th>2</th>\n",
       "      <td>2</td>\n",
       "      <td>0</td>\n",
       "      <td>15</td>\n",
       "      <td>nw_et_mol_et_equ0_g0_g15</td>\n",
       "    </tr>\n",
       "    <tr>\n",
       "      <th>3</th>\n",
       "      <td>3</td>\n",
       "      <td>0</td>\n",
       "      <td>19</td>\n",
       "      <td>nw_et_mol_et_equ0_g0_g19</td>\n",
       "    </tr>\n",
       "    <tr>\n",
       "      <th>4</th>\n",
       "      <td>4</td>\n",
       "      <td>0</td>\n",
       "      <td>43</td>\n",
       "      <td>nw_et_mol_et_equ0_g0_g43</td>\n",
       "    </tr>\n",
       "  </tbody>\n",
       "</table>\n",
       "</div>"
      ],
      "text/plain": [
       "   Unnamed: 0  i   j                   calc_id\n",
       "0           0  0   3   nw_et_mol_et_equ0_g0_g3\n",
       "1           1  0  14  nw_et_mol_et_equ0_g0_g14\n",
       "2           2  0  15  nw_et_mol_et_equ0_g0_g15\n",
       "3           3  0  19  nw_et_mol_et_equ0_g0_g19\n",
       "4           4  0  43  nw_et_mol_et_equ0_g0_g43"
      ]
     },
     "execution_count": 378,
     "metadata": {},
     "output_type": "execute_result"
    }
   ],
   "source": [
    "et_df.head()"
   ]
  },
  {
   "cell_type": "code",
   "execution_count": 379,
   "metadata": {
    "collapsed": true
   },
   "outputs": [],
   "source": [
    "os.chdir(mol_et_equ0.dir['home'])\n",
    "et_json = mol_et_equ0.export_json()"
   ]
  },
  {
   "cell_type": "markdown",
   "metadata": {},
   "source": [
    "Now we have to wait for all of these calculations to finish"
   ]
  },
  {
   "cell_type": "code",
   "execution_count": 380,
   "metadata": {
    "collapsed": true
   },
   "outputs": [],
   "source": [
    "import sys "
   ]
  },
  {
   "cell_type": "code",
   "execution_count": 386,
   "metadata": {
    "collapsed": false
   },
   "outputs": [
    {
     "name": "stdout",
     "output_type": "stream",
     "text": [
      "progress: 71/71 \r"
     ]
    }
   ],
   "source": [
    "calcsrunning = True \n",
    "while( calcsrunning ):\n",
    "    calcsrunning = False \n",
    "    n_running = 0 \n",
    "    for k,calc_i in mol_et_equ0.calculations.iteritems():\n",
    "        os.chdir(calc_i.dir['launch'])\n",
    "        calc_i.check()\n",
    "        if( calc_i.meta['status'] == 'finished' ):\n",
    "            n_running += 1\n",
    "        else:\n",
    "            calcsrunning = True \n",
    "    sys.stdout.write(\"progress: {}/{} \\r\".format(n_running,len(mol_et_equ0.calculations)))\n",
    "    sys.stdout.flush()\n",
    "    time.sleep(status_refresh)"
   ]
  },
  {
   "cell_type": "markdown",
   "metadata": {},
   "source": [
    "Run analysis on the results "
   ]
  },
  {
   "cell_type": "markdown",
   "metadata": {},
   "source": [
    "S_ij is the Reactants/Products overlap between group i and group j and V_ij is the Electron Transfer Coupling Energy between groups i and j. "
   ]
  },
  {
   "cell_type": "code",
   "execution_count": 387,
   "metadata": {
    "collapsed": true
   },
   "outputs": [],
   "source": [
    "et_df['S_ij'] = None\n",
    "et_df['S_ji'] = None\n",
    "et_df['V_ij'] = None\n",
    "et_df['V_ji'] = None"
   ]
  },
  {
   "cell_type": "code",
   "execution_count": 388,
   "metadata": {
    "collapsed": false
   },
   "outputs": [
    {
     "name": "stdout",
     "output_type": "stream",
     "text": [
      "nw_et_mol_et_equ0_g14_g45 finished\n",
      "nw_et_mol_et_equ0_g10_g49 finished\n",
      "nw_et_mol_et_equ0_g43_g45 finished\n",
      "nw_et_mol_et_equ0_g12_g18 finished\n",
      "nw_et_mol_et_equ0_g1_g44 finished\n",
      "nw_et_mol_et_equ0_g8_g38 finished\n",
      "nw_et_mol_et_equ0_g9_g23 finished\n",
      "nw_et_mol_et_equ0_g39_g41 finished\n",
      "nw_et_mol_et_equ0_g0_g15 finished\n",
      "nw_et_mol_et_equ0_g0_g14 finished\n",
      "nw_et_mol_et_equ0_g38_g48 finished\n",
      "nw_et_mol_et_equ0_g0_g19 finished\n",
      "nw_et_mol_et_equ0_g14_g49 finished\n",
      "nw_et_mol_et_equ0_g20_g40 finished\n",
      "nw_et_mol_et_equ0_g0_g49 finished\n",
      "nw_et_mol_et_equ0_g23_g25 finished\n",
      "nw_et_mol_et_equ0_g7_g11 finished\n",
      "nw_et_mol_et_equ0_g3_g38 finished\n",
      "nw_et_mol_et_equ0_g15_g48 finished\n",
      "nw_et_mol_et_equ0_g4_g39 finished\n",
      "nw_et_mol_et_equ0_g4_g12 finished\n",
      "nw_et_mol_et_equ0_g37_g49 finished\n",
      "nw_et_mol_et_equ0_g0_g43 finished\n",
      "nw_et_mol_et_equ0_g6_g35 finished\n",
      "nw_et_mol_et_equ0_g1_g28 finished\n",
      "nw_et_mol_et_equ0_g10_g37 finished\n",
      "nw_et_mol_et_equ0_g10_g36 finished\n",
      "nw_et_mol_et_equ0_g32_g45 finished\n",
      "nw_et_mol_et_equ0_g36_g45 finished\n",
      "nw_et_mol_et_equ0_g36_g49 finished\n",
      "nw_et_mol_et_equ0_g26_g40 finished\n",
      "nw_et_mol_et_equ0_g0_g3 finished\n",
      "nw_et_mol_et_equ0_g2_g47 finished\n",
      "nw_et_mol_et_equ0_g24_g30 finished\n",
      "nw_et_mol_et_equ0_g14_g43 finished\n",
      "nw_et_mol_et_equ0_g35_g47 finished\n",
      "nw_et_mol_et_equ0_g12_g29 finished\n",
      "nw_et_mol_et_equ0_g34_g44 finished\n",
      "nw_et_mol_et_equ0_g14_g36 finished\n",
      "nw_et_mol_et_equ0_g12_g22 finished\n",
      "nw_et_mol_et_equ0_g17_g33 finished\n",
      "nw_et_mol_et_equ0_g15_g29 finished\n",
      "nw_et_mol_et_equ0_g15_g41 finished\n",
      "nw_et_mol_et_equ0_g36_g37 finished\n",
      "nw_et_mol_et_equ0_g9_g34 finished\n",
      "nw_et_mol_et_equ0_g18_g22 finished\n",
      "nw_et_mol_et_equ0_g6_g47 finished\n",
      "nw_et_mol_et_equ0_g16_g17 finished\n",
      "nw_et_mol_et_equ0_g24_g46 finished\n",
      "nw_et_mol_et_equ0_g24_g42 finished\n",
      "nw_et_mol_et_equ0_g19_g43 finished\n",
      "nw_et_mol_et_equ0_g13_g26 finished\n",
      "nw_et_mol_et_equ0_g8_g46 finished\n",
      "nw_et_mol_et_equ0_g23_g34 finished\n",
      "nw_et_mol_et_equ0_g7_g26 finished\n",
      "nw_et_mol_et_equ0_g2_g32 finished\n",
      "nw_et_mol_et_equ0_g2_g31 finished\n",
      "nw_et_mol_et_equ0_g7_g40 finished\n",
      "nw_et_mol_et_equ0_g44_g48 finished\n",
      "nw_et_mol_et_equ0_g44_g46 finished\n",
      "nw_et_mol_et_equ0_g5_g42 finished\n",
      "nw_et_mol_et_equ0_g5_g44 finished\n",
      "nw_et_mol_et_equ0_g22_g29 finished\n",
      "nw_et_mol_et_equ0_g5_g46 finished\n",
      "nw_et_mol_et_equ0_g1_g16 finished\n",
      "nw_et_mol_et_equ0_g1_g17 finished\n",
      "nw_et_mol_et_equ0_g1_g33 finished\n",
      "nw_et_mol_et_equ0_g10_g28 finished\n",
      "nw_et_mol_et_equ0_g14_g32 finished\n",
      "nw_et_mol_et_equ0_g34_g46 finished\n",
      "nw_et_mol_et_equ0_g5_g24 finished\n"
     ]
    }
   ],
   "source": [
    "for k,calc_i in mol_et_equ0.calculations.iteritems():\n",
    "    if(  calc_i.meta['status'] == 'finished' ):\n",
    "\n",
    "        print calc_i.tag,calc_i.meta['status'] \n",
    "        os.chdir(calc_i.dir['launch'])\n",
    "\n",
    "        et_row = et_df.loc[ et_df['calc_id'] == calc_i.tag ]\n",
    "        \n",
    "        et_index =  int(et_row.index[0])\n",
    "        calc_i.store()\n",
    "        calc_i.pull()\n",
    "        calc_i.analysis()\n",
    "\n",
    "        if( len(calc_i.et_list) > 0  ):\n",
    "            et_df.loc[et_index,'S_ij'] = calc_i.et_list[0].S\n",
    "            et_df.loc[et_index,'V_ij'] = calc_i.et_list[0].V\n",
    "            et_df.loc[et_index,'S_ji'] = calc_i.et_list[1].S\n",
    "            et_df.loc[et_index,'V_ji'] = calc_i.et_list[1].V\n",
    "\n",
    "\n",
    "        calc_i.store()\n"
   ]
  },
  {
   "cell_type": "markdown",
   "metadata": {},
   "source": [
    "Check the values in the Dataframe"
   ]
  },
  {
   "cell_type": "code",
   "execution_count": 389,
   "metadata": {
    "collapsed": false
   },
   "outputs": [
    {
     "data": {
      "text/html": [
       "<div>\n",
       "<style>\n",
       "    .dataframe thead tr:only-child th {\n",
       "        text-align: right;\n",
       "    }\n",
       "\n",
       "    .dataframe thead th {\n",
       "        text-align: left;\n",
       "    }\n",
       "\n",
       "    .dataframe tbody tr th {\n",
       "        vertical-align: top;\n",
       "    }\n",
       "</style>\n",
       "<table border=\"1\" class=\"dataframe\">\n",
       "  <thead>\n",
       "    <tr style=\"text-align: right;\">\n",
       "      <th></th>\n",
       "      <th>Unnamed: 0</th>\n",
       "      <th>i</th>\n",
       "      <th>j</th>\n",
       "      <th>calc_id</th>\n",
       "      <th>S_ij</th>\n",
       "      <th>S_ji</th>\n",
       "      <th>V_ij</th>\n",
       "      <th>V_ji</th>\n",
       "    </tr>\n",
       "  </thead>\n",
       "  <tbody>\n",
       "    <tr>\n",
       "      <th>0</th>\n",
       "      <td>0</td>\n",
       "      <td>0</td>\n",
       "      <td>3</td>\n",
       "      <td>nw_et_mol_et_equ0_g0_g3</td>\n",
       "      <td>4.73e-06</td>\n",
       "      <td>4.73e-06</td>\n",
       "      <td>1.396e-07</td>\n",
       "      <td>1.396e-07</td>\n",
       "    </tr>\n",
       "    <tr>\n",
       "      <th>1</th>\n",
       "      <td>1</td>\n",
       "      <td>0</td>\n",
       "      <td>14</td>\n",
       "      <td>nw_et_mol_et_equ0_g0_g14</td>\n",
       "      <td>-1.09e-05</td>\n",
       "      <td>-1.09e-05</td>\n",
       "      <td>6.5729e-06</td>\n",
       "      <td>6.5729e-06</td>\n",
       "    </tr>\n",
       "    <tr>\n",
       "      <th>2</th>\n",
       "      <td>2</td>\n",
       "      <td>0</td>\n",
       "      <td>15</td>\n",
       "      <td>nw_et_mol_et_equ0_g0_g15</td>\n",
       "      <td>-8.07e-06</td>\n",
       "      <td>-8.07e-06</td>\n",
       "      <td>4.211e-06</td>\n",
       "      <td>4.211e-06</td>\n",
       "    </tr>\n",
       "    <tr>\n",
       "      <th>3</th>\n",
       "      <td>3</td>\n",
       "      <td>0</td>\n",
       "      <td>19</td>\n",
       "      <td>nw_et_mol_et_equ0_g0_g19</td>\n",
       "      <td>-3.32e-05</td>\n",
       "      <td>-3.32e-05</td>\n",
       "      <td>1.65649e-05</td>\n",
       "      <td>1.65649e-05</td>\n",
       "    </tr>\n",
       "    <tr>\n",
       "      <th>4</th>\n",
       "      <td>4</td>\n",
       "      <td>0</td>\n",
       "      <td>43</td>\n",
       "      <td>nw_et_mol_et_equ0_g0_g43</td>\n",
       "      <td>0</td>\n",
       "      <td>4.36e-19</td>\n",
       "      <td>inf</td>\n",
       "      <td>0.0310552</td>\n",
       "    </tr>\n",
       "    <tr>\n",
       "      <th>5</th>\n",
       "      <td>5</td>\n",
       "      <td>0</td>\n",
       "      <td>49</td>\n",
       "      <td>nw_et_mol_et_equ0_g0_g49</td>\n",
       "      <td>0</td>\n",
       "      <td>1.04e-18</td>\n",
       "      <td>NaN</td>\n",
       "      <td>0.0260748</td>\n",
       "    </tr>\n",
       "    <tr>\n",
       "      <th>6</th>\n",
       "      <td>6</td>\n",
       "      <td>1</td>\n",
       "      <td>16</td>\n",
       "      <td>nw_et_mol_et_equ0_g1_g16</td>\n",
       "      <td>-0.000259</td>\n",
       "      <td>-0.000259</td>\n",
       "      <td>0.000202278</td>\n",
       "      <td>0.000202278</td>\n",
       "    </tr>\n",
       "    <tr>\n",
       "      <th>7</th>\n",
       "      <td>7</td>\n",
       "      <td>1</td>\n",
       "      <td>17</td>\n",
       "      <td>nw_et_mol_et_equ0_g1_g17</td>\n",
       "      <td>0</td>\n",
       "      <td>1.2e-19</td>\n",
       "      <td>NaN</td>\n",
       "      <td>0.113202</td>\n",
       "    </tr>\n",
       "    <tr>\n",
       "      <th>8</th>\n",
       "      <td>8</td>\n",
       "      <td>1</td>\n",
       "      <td>28</td>\n",
       "      <td>nw_et_mol_et_equ0_g1_g28</td>\n",
       "      <td>0</td>\n",
       "      <td>-5.59e-20</td>\n",
       "      <td>inf</td>\n",
       "      <td>0</td>\n",
       "    </tr>\n",
       "    <tr>\n",
       "      <th>9</th>\n",
       "      <td>9</td>\n",
       "      <td>1</td>\n",
       "      <td>33</td>\n",
       "      <td>nw_et_mol_et_equ0_g1_g33</td>\n",
       "      <td>0</td>\n",
       "      <td>1.05e-19</td>\n",
       "      <td>NaN</td>\n",
       "      <td>0</td>\n",
       "    </tr>\n",
       "    <tr>\n",
       "      <th>10</th>\n",
       "      <td>10</td>\n",
       "      <td>1</td>\n",
       "      <td>44</td>\n",
       "      <td>nw_et_mol_et_equ0_g1_g44</td>\n",
       "      <td>-4.64e-07</td>\n",
       "      <td>-4.64e-07</td>\n",
       "      <td>2.598e-07</td>\n",
       "      <td>2.598e-07</td>\n",
       "    </tr>\n",
       "    <tr>\n",
       "      <th>11</th>\n",
       "      <td>11</td>\n",
       "      <td>2</td>\n",
       "      <td>31</td>\n",
       "      <td>nw_et_mol_et_equ0_g2_g31</td>\n",
       "      <td>4.43e-05</td>\n",
       "      <td>4.43e-05</td>\n",
       "      <td>9.7102e-06</td>\n",
       "      <td>9.7102e-06</td>\n",
       "    </tr>\n",
       "    <tr>\n",
       "      <th>12</th>\n",
       "      <td>12</td>\n",
       "      <td>2</td>\n",
       "      <td>32</td>\n",
       "      <td>nw_et_mol_et_equ0_g2_g32</td>\n",
       "      <td>-2.39e-05</td>\n",
       "      <td>-2.39e-05</td>\n",
       "      <td>1.55469e-05</td>\n",
       "      <td>1.55469e-05</td>\n",
       "    </tr>\n",
       "    <tr>\n",
       "      <th>13</th>\n",
       "      <td>13</td>\n",
       "      <td>2</td>\n",
       "      <td>47</td>\n",
       "      <td>nw_et_mol_et_equ0_g2_g47</td>\n",
       "      <td>9.57e-05</td>\n",
       "      <td>9.57e-05</td>\n",
       "      <td>4.7881e-05</td>\n",
       "      <td>4.7881e-05</td>\n",
       "    </tr>\n",
       "    <tr>\n",
       "      <th>14</th>\n",
       "      <td>14</td>\n",
       "      <td>3</td>\n",
       "      <td>38</td>\n",
       "      <td>nw_et_mol_et_equ0_g3_g38</td>\n",
       "      <td>0</td>\n",
       "      <td>-5.24e-20</td>\n",
       "      <td>inf</td>\n",
       "      <td>0.258692</td>\n",
       "    </tr>\n",
       "    <tr>\n",
       "      <th>15</th>\n",
       "      <td>15</td>\n",
       "      <td>4</td>\n",
       "      <td>12</td>\n",
       "      <td>nw_et_mol_et_equ0_g4_g12</td>\n",
       "      <td>-4.79e-05</td>\n",
       "      <td>-4.79e-05</td>\n",
       "      <td>3.43091e-05</td>\n",
       "      <td>3.43091e-05</td>\n",
       "    </tr>\n",
       "    <tr>\n",
       "      <th>16</th>\n",
       "      <td>16</td>\n",
       "      <td>4</td>\n",
       "      <td>39</td>\n",
       "      <td>nw_et_mol_et_equ0_g4_g39</td>\n",
       "      <td>0.000229</td>\n",
       "      <td>0.000229</td>\n",
       "      <td>0.00013026</td>\n",
       "      <td>0.00013026</td>\n",
       "    </tr>\n",
       "    <tr>\n",
       "      <th>17</th>\n",
       "      <td>17</td>\n",
       "      <td>5</td>\n",
       "      <td>24</td>\n",
       "      <td>nw_et_mol_et_equ0_g5_g24</td>\n",
       "      <td>0</td>\n",
       "      <td>6.05e-20</td>\n",
       "      <td>inf</td>\n",
       "      <td>0.447933</td>\n",
       "    </tr>\n",
       "    <tr>\n",
       "      <th>18</th>\n",
       "      <td>18</td>\n",
       "      <td>5</td>\n",
       "      <td>42</td>\n",
       "      <td>nw_et_mol_et_equ0_g5_g42</td>\n",
       "      <td>0</td>\n",
       "      <td>-5.31e-18</td>\n",
       "      <td>inf</td>\n",
       "      <td>0.00255317</td>\n",
       "    </tr>\n",
       "    <tr>\n",
       "      <th>19</th>\n",
       "      <td>19</td>\n",
       "      <td>5</td>\n",
       "      <td>44</td>\n",
       "      <td>nw_et_mol_et_equ0_g5_g44</td>\n",
       "      <td>-1.02e-05</td>\n",
       "      <td>-1.02e-05</td>\n",
       "      <td>4.4717e-06</td>\n",
       "      <td>4.4717e-06</td>\n",
       "    </tr>\n",
       "    <tr>\n",
       "      <th>20</th>\n",
       "      <td>20</td>\n",
       "      <td>5</td>\n",
       "      <td>46</td>\n",
       "      <td>nw_et_mol_et_equ0_g5_g46</td>\n",
       "      <td>-4.94e-05</td>\n",
       "      <td>-4.94e-05</td>\n",
       "      <td>1.90377e-05</td>\n",
       "      <td>1.90377e-05</td>\n",
       "    </tr>\n",
       "    <tr>\n",
       "      <th>21</th>\n",
       "      <td>21</td>\n",
       "      <td>6</td>\n",
       "      <td>35</td>\n",
       "      <td>nw_et_mol_et_equ0_g6_g35</td>\n",
       "      <td>0</td>\n",
       "      <td>-3.13e-20</td>\n",
       "      <td>inf</td>\n",
       "      <td>0.433407</td>\n",
       "    </tr>\n",
       "    <tr>\n",
       "      <th>22</th>\n",
       "      <td>22</td>\n",
       "      <td>6</td>\n",
       "      <td>47</td>\n",
       "      <td>nw_et_mol_et_equ0_g6_g47</td>\n",
       "      <td>0.00189</td>\n",
       "      <td>0.00189</td>\n",
       "      <td>0.000967122</td>\n",
       "      <td>0.000967122</td>\n",
       "    </tr>\n",
       "    <tr>\n",
       "      <th>23</th>\n",
       "      <td>23</td>\n",
       "      <td>7</td>\n",
       "      <td>11</td>\n",
       "      <td>nw_et_mol_et_equ0_g7_g11</td>\n",
       "      <td>0</td>\n",
       "      <td>-3.06e-20</td>\n",
       "      <td>NaN</td>\n",
       "      <td>1.32665</td>\n",
       "    </tr>\n",
       "    <tr>\n",
       "      <th>24</th>\n",
       "      <td>24</td>\n",
       "      <td>7</td>\n",
       "      <td>26</td>\n",
       "      <td>nw_et_mol_et_equ0_g7_g26</td>\n",
       "      <td>0</td>\n",
       "      <td>-4.29e-19</td>\n",
       "      <td>NaN</td>\n",
       "      <td>0</td>\n",
       "    </tr>\n",
       "    <tr>\n",
       "      <th>25</th>\n",
       "      <td>25</td>\n",
       "      <td>7</td>\n",
       "      <td>40</td>\n",
       "      <td>nw_et_mol_et_equ0_g7_g40</td>\n",
       "      <td>0</td>\n",
       "      <td>1.31e-19</td>\n",
       "      <td>inf</td>\n",
       "      <td>0.103136</td>\n",
       "    </tr>\n",
       "    <tr>\n",
       "      <th>26</th>\n",
       "      <td>26</td>\n",
       "      <td>8</td>\n",
       "      <td>38</td>\n",
       "      <td>nw_et_mol_et_equ0_g8_g38</td>\n",
       "      <td>-5.69e-06</td>\n",
       "      <td>-5.69e-06</td>\n",
       "      <td>2.6111e-06</td>\n",
       "      <td>2.6111e-06</td>\n",
       "    </tr>\n",
       "    <tr>\n",
       "      <th>27</th>\n",
       "      <td>27</td>\n",
       "      <td>8</td>\n",
       "      <td>46</td>\n",
       "      <td>nw_et_mol_et_equ0_g8_g46</td>\n",
       "      <td>4.41e-05</td>\n",
       "      <td>4.41e-05</td>\n",
       "      <td>1.59946e-05</td>\n",
       "      <td>1.59946e-05</td>\n",
       "    </tr>\n",
       "    <tr>\n",
       "      <th>28</th>\n",
       "      <td>28</td>\n",
       "      <td>9</td>\n",
       "      <td>23</td>\n",
       "      <td>nw_et_mol_et_equ0_g9_g23</td>\n",
       "      <td>-0.000983</td>\n",
       "      <td>-0.000983</td>\n",
       "      <td>0.000494183</td>\n",
       "      <td>0.000494183</td>\n",
       "    </tr>\n",
       "    <tr>\n",
       "      <th>29</th>\n",
       "      <td>29</td>\n",
       "      <td>9</td>\n",
       "      <td>34</td>\n",
       "      <td>nw_et_mol_et_equ0_g9_g34</td>\n",
       "      <td>1e-06</td>\n",
       "      <td>1e-06</td>\n",
       "      <td>8.349e-07</td>\n",
       "      <td>8.349e-07</td>\n",
       "    </tr>\n",
       "    <tr>\n",
       "      <th>...</th>\n",
       "      <td>...</td>\n",
       "      <td>...</td>\n",
       "      <td>...</td>\n",
       "      <td>...</td>\n",
       "      <td>...</td>\n",
       "      <td>...</td>\n",
       "      <td>...</td>\n",
       "      <td>...</td>\n",
       "    </tr>\n",
       "    <tr>\n",
       "      <th>41</th>\n",
       "      <td>41</td>\n",
       "      <td>14</td>\n",
       "      <td>45</td>\n",
       "      <td>nw_et_mol_et_equ0_g14_g45</td>\n",
       "      <td>-0.000222</td>\n",
       "      <td>-0.000222</td>\n",
       "      <td>0.000120298</td>\n",
       "      <td>0.000120298</td>\n",
       "    </tr>\n",
       "    <tr>\n",
       "      <th>42</th>\n",
       "      <td>42</td>\n",
       "      <td>14</td>\n",
       "      <td>49</td>\n",
       "      <td>nw_et_mol_et_equ0_g14_g49</td>\n",
       "      <td>-4.69e-06</td>\n",
       "      <td>-4.69e-06</td>\n",
       "      <td>3.1552e-06</td>\n",
       "      <td>3.1552e-06</td>\n",
       "    </tr>\n",
       "    <tr>\n",
       "      <th>43</th>\n",
       "      <td>43</td>\n",
       "      <td>15</td>\n",
       "      <td>29</td>\n",
       "      <td>nw_et_mol_et_equ0_g15_g29</td>\n",
       "      <td>-7.13e-05</td>\n",
       "      <td>-7.13e-05</td>\n",
       "      <td>4.08655e-05</td>\n",
       "      <td>4.08655e-05</td>\n",
       "    </tr>\n",
       "    <tr>\n",
       "      <th>44</th>\n",
       "      <td>44</td>\n",
       "      <td>15</td>\n",
       "      <td>41</td>\n",
       "      <td>nw_et_mol_et_equ0_g15_g41</td>\n",
       "      <td>0.000171</td>\n",
       "      <td>0.000171</td>\n",
       "      <td>0.000127369</td>\n",
       "      <td>0.000127369</td>\n",
       "    </tr>\n",
       "    <tr>\n",
       "      <th>45</th>\n",
       "      <td>45</td>\n",
       "      <td>15</td>\n",
       "      <td>48</td>\n",
       "      <td>nw_et_mol_et_equ0_g15_g48</td>\n",
       "      <td>8.21e-06</td>\n",
       "      <td>8.21e-06</td>\n",
       "      <td>6.44e-07</td>\n",
       "      <td>6.44e-07</td>\n",
       "    </tr>\n",
       "    <tr>\n",
       "      <th>46</th>\n",
       "      <td>46</td>\n",
       "      <td>16</td>\n",
       "      <td>17</td>\n",
       "      <td>nw_et_mol_et_equ0_g16_g17</td>\n",
       "      <td>0</td>\n",
       "      <td>1.61e-19</td>\n",
       "      <td>inf</td>\n",
       "      <td>0.168439</td>\n",
       "    </tr>\n",
       "    <tr>\n",
       "      <th>47</th>\n",
       "      <td>47</td>\n",
       "      <td>17</td>\n",
       "      <td>33</td>\n",
       "      <td>nw_et_mol_et_equ0_g17_g33</td>\n",
       "      <td>-0.000139</td>\n",
       "      <td>-0.000139</td>\n",
       "      <td>8.77301e-05</td>\n",
       "      <td>8.77301e-05</td>\n",
       "    </tr>\n",
       "    <tr>\n",
       "      <th>48</th>\n",
       "      <td>48</td>\n",
       "      <td>18</td>\n",
       "      <td>22</td>\n",
       "      <td>nw_et_mol_et_equ0_g18_g22</td>\n",
       "      <td>0.000345</td>\n",
       "      <td>0.000345</td>\n",
       "      <td>0.000182499</td>\n",
       "      <td>0.000182499</td>\n",
       "    </tr>\n",
       "    <tr>\n",
       "      <th>49</th>\n",
       "      <td>49</td>\n",
       "      <td>19</td>\n",
       "      <td>43</td>\n",
       "      <td>nw_et_mol_et_equ0_g19_g43</td>\n",
       "      <td>0</td>\n",
       "      <td>8.73e-19</td>\n",
       "      <td>NaN</td>\n",
       "      <td>0</td>\n",
       "    </tr>\n",
       "    <tr>\n",
       "      <th>50</th>\n",
       "      <td>50</td>\n",
       "      <td>20</td>\n",
       "      <td>40</td>\n",
       "      <td>nw_et_mol_et_equ0_g20_g40</td>\n",
       "      <td>4.68e-05</td>\n",
       "      <td>4.68e-05</td>\n",
       "      <td>2.93207e-05</td>\n",
       "      <td>2.93207e-05</td>\n",
       "    </tr>\n",
       "    <tr>\n",
       "      <th>51</th>\n",
       "      <td>51</td>\n",
       "      <td>22</td>\n",
       "      <td>29</td>\n",
       "      <td>nw_et_mol_et_equ0_g22_g29</td>\n",
       "      <td>-1.34e-05</td>\n",
       "      <td>-1.34e-05</td>\n",
       "      <td>6.6355e-06</td>\n",
       "      <td>6.6355e-06</td>\n",
       "    </tr>\n",
       "    <tr>\n",
       "      <th>52</th>\n",
       "      <td>52</td>\n",
       "      <td>23</td>\n",
       "      <td>25</td>\n",
       "      <td>nw_et_mol_et_equ0_g23_g25</td>\n",
       "      <td>0.000114</td>\n",
       "      <td>0.000114</td>\n",
       "      <td>5.903e-05</td>\n",
       "      <td>5.903e-05</td>\n",
       "    </tr>\n",
       "    <tr>\n",
       "      <th>53</th>\n",
       "      <td>53</td>\n",
       "      <td>23</td>\n",
       "      <td>34</td>\n",
       "      <td>nw_et_mol_et_equ0_g23_g34</td>\n",
       "      <td>-4.21e-06</td>\n",
       "      <td>-4.21e-06</td>\n",
       "      <td>4.9219e-06</td>\n",
       "      <td>4.9219e-06</td>\n",
       "    </tr>\n",
       "    <tr>\n",
       "      <th>54</th>\n",
       "      <td>54</td>\n",
       "      <td>24</td>\n",
       "      <td>30</td>\n",
       "      <td>nw_et_mol_et_equ0_g24_g30</td>\n",
       "      <td>0</td>\n",
       "      <td>-1.08e-18</td>\n",
       "      <td>inf</td>\n",
       "      <td>0.0250931</td>\n",
       "    </tr>\n",
       "    <tr>\n",
       "      <th>55</th>\n",
       "      <td>55</td>\n",
       "      <td>24</td>\n",
       "      <td>42</td>\n",
       "      <td>nw_et_mol_et_equ0_g24_g42</td>\n",
       "      <td>0.000246</td>\n",
       "      <td>0.000246</td>\n",
       "      <td>0.000130788</td>\n",
       "      <td>0.000130788</td>\n",
       "    </tr>\n",
       "    <tr>\n",
       "      <th>56</th>\n",
       "      <td>56</td>\n",
       "      <td>24</td>\n",
       "      <td>46</td>\n",
       "      <td>nw_et_mol_et_equ0_g24_g46</td>\n",
       "      <td>0</td>\n",
       "      <td>2.75e-20</td>\n",
       "      <td>inf</td>\n",
       "      <td>0.986066</td>\n",
       "    </tr>\n",
       "    <tr>\n",
       "      <th>57</th>\n",
       "      <td>57</td>\n",
       "      <td>26</td>\n",
       "      <td>40</td>\n",
       "      <td>nw_et_mol_et_equ0_g26_g40</td>\n",
       "      <td>-1.26e-05</td>\n",
       "      <td>-1.26e-05</td>\n",
       "      <td>2.8575e-06</td>\n",
       "      <td>2.8575e-06</td>\n",
       "    </tr>\n",
       "    <tr>\n",
       "      <th>58</th>\n",
       "      <td>58</td>\n",
       "      <td>32</td>\n",
       "      <td>45</td>\n",
       "      <td>nw_et_mol_et_equ0_g32_g45</td>\n",
       "      <td>-0.00114</td>\n",
       "      <td>-0.00114</td>\n",
       "      <td>0.000645352</td>\n",
       "      <td>0.000645352</td>\n",
       "    </tr>\n",
       "    <tr>\n",
       "      <th>59</th>\n",
       "      <td>59</td>\n",
       "      <td>34</td>\n",
       "      <td>44</td>\n",
       "      <td>nw_et_mol_et_equ0_g34_g44</td>\n",
       "      <td>-4.31e-07</td>\n",
       "      <td>-4.31e-07</td>\n",
       "      <td>8.281e-07</td>\n",
       "      <td>8.281e-07</td>\n",
       "    </tr>\n",
       "    <tr>\n",
       "      <th>60</th>\n",
       "      <td>60</td>\n",
       "      <td>34</td>\n",
       "      <td>46</td>\n",
       "      <td>nw_et_mol_et_equ0_g34_g46</td>\n",
       "      <td>-8.78e-07</td>\n",
       "      <td>-8.78e-07</td>\n",
       "      <td>3.162e-07</td>\n",
       "      <td>3.162e-07</td>\n",
       "    </tr>\n",
       "    <tr>\n",
       "      <th>61</th>\n",
       "      <td>61</td>\n",
       "      <td>35</td>\n",
       "      <td>47</td>\n",
       "      <td>nw_et_mol_et_equ0_g35_g47</td>\n",
       "      <td>0</td>\n",
       "      <td>3.29e-19</td>\n",
       "      <td>NaN</td>\n",
       "      <td>0.0412</td>\n",
       "    </tr>\n",
       "    <tr>\n",
       "      <th>62</th>\n",
       "      <td>62</td>\n",
       "      <td>36</td>\n",
       "      <td>37</td>\n",
       "      <td>nw_et_mol_et_equ0_g36_g37</td>\n",
       "      <td>-6.82e-06</td>\n",
       "      <td>-6.82e-06</td>\n",
       "      <td>3.3877e-06</td>\n",
       "      <td>3.3877e-06</td>\n",
       "    </tr>\n",
       "    <tr>\n",
       "      <th>63</th>\n",
       "      <td>63</td>\n",
       "      <td>36</td>\n",
       "      <td>45</td>\n",
       "      <td>nw_et_mol_et_equ0_g36_g45</td>\n",
       "      <td>-2.36e-05</td>\n",
       "      <td>-2.36e-05</td>\n",
       "      <td>1.33131e-05</td>\n",
       "      <td>1.33131e-05</td>\n",
       "    </tr>\n",
       "    <tr>\n",
       "      <th>64</th>\n",
       "      <td>64</td>\n",
       "      <td>36</td>\n",
       "      <td>49</td>\n",
       "      <td>nw_et_mol_et_equ0_g36_g49</td>\n",
       "      <td>-1.16e-05</td>\n",
       "      <td>-1.16e-05</td>\n",
       "      <td>8.4008e-06</td>\n",
       "      <td>8.4008e-06</td>\n",
       "    </tr>\n",
       "    <tr>\n",
       "      <th>65</th>\n",
       "      <td>65</td>\n",
       "      <td>37</td>\n",
       "      <td>49</td>\n",
       "      <td>nw_et_mol_et_equ0_g37_g49</td>\n",
       "      <td>2.48e-05</td>\n",
       "      <td>2.48e-05</td>\n",
       "      <td>3.10926e-05</td>\n",
       "      <td>3.10926e-05</td>\n",
       "    </tr>\n",
       "    <tr>\n",
       "      <th>66</th>\n",
       "      <td>66</td>\n",
       "      <td>38</td>\n",
       "      <td>48</td>\n",
       "      <td>nw_et_mol_et_equ0_g38_g48</td>\n",
       "      <td>0</td>\n",
       "      <td>-1.12e-17</td>\n",
       "      <td>inf</td>\n",
       "      <td>0.0024098</td>\n",
       "    </tr>\n",
       "    <tr>\n",
       "      <th>67</th>\n",
       "      <td>67</td>\n",
       "      <td>39</td>\n",
       "      <td>41</td>\n",
       "      <td>nw_et_mol_et_equ0_g39_g41</td>\n",
       "      <td>8.23e-06</td>\n",
       "      <td>8.23e-06</td>\n",
       "      <td>1.444e-06</td>\n",
       "      <td>1.444e-06</td>\n",
       "    </tr>\n",
       "    <tr>\n",
       "      <th>68</th>\n",
       "      <td>68</td>\n",
       "      <td>43</td>\n",
       "      <td>45</td>\n",
       "      <td>nw_et_mol_et_equ0_g43_g45</td>\n",
       "      <td>2.54e-08</td>\n",
       "      <td>2.54e-08</td>\n",
       "      <td>2.37e-08</td>\n",
       "      <td>2.37e-08</td>\n",
       "    </tr>\n",
       "    <tr>\n",
       "      <th>69</th>\n",
       "      <td>69</td>\n",
       "      <td>44</td>\n",
       "      <td>46</td>\n",
       "      <td>nw_et_mol_et_equ0_g44_g46</td>\n",
       "      <td>-2.8e-05</td>\n",
       "      <td>-2.8e-05</td>\n",
       "      <td>1.85593e-05</td>\n",
       "      <td>1.85593e-05</td>\n",
       "    </tr>\n",
       "    <tr>\n",
       "      <th>70</th>\n",
       "      <td>70</td>\n",
       "      <td>44</td>\n",
       "      <td>48</td>\n",
       "      <td>nw_et_mol_et_equ0_g44_g48</td>\n",
       "      <td>0</td>\n",
       "      <td>-3.93e-18</td>\n",
       "      <td>NaN</td>\n",
       "      <td>0.00688834</td>\n",
       "    </tr>\n",
       "  </tbody>\n",
       "</table>\n",
       "<p>71 rows × 8 columns</p>\n",
       "</div>"
      ],
      "text/plain": [
       "    Unnamed: 0   i   j                    calc_id      S_ij      S_ji  \\\n",
       "0            0   0   3    nw_et_mol_et_equ0_g0_g3  4.73e-06  4.73e-06   \n",
       "1            1   0  14   nw_et_mol_et_equ0_g0_g14 -1.09e-05 -1.09e-05   \n",
       "2            2   0  15   nw_et_mol_et_equ0_g0_g15 -8.07e-06 -8.07e-06   \n",
       "3            3   0  19   nw_et_mol_et_equ0_g0_g19 -3.32e-05 -3.32e-05   \n",
       "4            4   0  43   nw_et_mol_et_equ0_g0_g43         0  4.36e-19   \n",
       "5            5   0  49   nw_et_mol_et_equ0_g0_g49         0  1.04e-18   \n",
       "6            6   1  16   nw_et_mol_et_equ0_g1_g16 -0.000259 -0.000259   \n",
       "7            7   1  17   nw_et_mol_et_equ0_g1_g17         0   1.2e-19   \n",
       "8            8   1  28   nw_et_mol_et_equ0_g1_g28         0 -5.59e-20   \n",
       "9            9   1  33   nw_et_mol_et_equ0_g1_g33         0  1.05e-19   \n",
       "10          10   1  44   nw_et_mol_et_equ0_g1_g44 -4.64e-07 -4.64e-07   \n",
       "11          11   2  31   nw_et_mol_et_equ0_g2_g31  4.43e-05  4.43e-05   \n",
       "12          12   2  32   nw_et_mol_et_equ0_g2_g32 -2.39e-05 -2.39e-05   \n",
       "13          13   2  47   nw_et_mol_et_equ0_g2_g47  9.57e-05  9.57e-05   \n",
       "14          14   3  38   nw_et_mol_et_equ0_g3_g38         0 -5.24e-20   \n",
       "15          15   4  12   nw_et_mol_et_equ0_g4_g12 -4.79e-05 -4.79e-05   \n",
       "16          16   4  39   nw_et_mol_et_equ0_g4_g39  0.000229  0.000229   \n",
       "17          17   5  24   nw_et_mol_et_equ0_g5_g24         0  6.05e-20   \n",
       "18          18   5  42   nw_et_mol_et_equ0_g5_g42         0 -5.31e-18   \n",
       "19          19   5  44   nw_et_mol_et_equ0_g5_g44 -1.02e-05 -1.02e-05   \n",
       "20          20   5  46   nw_et_mol_et_equ0_g5_g46 -4.94e-05 -4.94e-05   \n",
       "21          21   6  35   nw_et_mol_et_equ0_g6_g35         0 -3.13e-20   \n",
       "22          22   6  47   nw_et_mol_et_equ0_g6_g47   0.00189   0.00189   \n",
       "23          23   7  11   nw_et_mol_et_equ0_g7_g11         0 -3.06e-20   \n",
       "24          24   7  26   nw_et_mol_et_equ0_g7_g26         0 -4.29e-19   \n",
       "25          25   7  40   nw_et_mol_et_equ0_g7_g40         0  1.31e-19   \n",
       "26          26   8  38   nw_et_mol_et_equ0_g8_g38 -5.69e-06 -5.69e-06   \n",
       "27          27   8  46   nw_et_mol_et_equ0_g8_g46  4.41e-05  4.41e-05   \n",
       "28          28   9  23   nw_et_mol_et_equ0_g9_g23 -0.000983 -0.000983   \n",
       "29          29   9  34   nw_et_mol_et_equ0_g9_g34     1e-06     1e-06   \n",
       "..         ...  ..  ..                        ...       ...       ...   \n",
       "41          41  14  45  nw_et_mol_et_equ0_g14_g45 -0.000222 -0.000222   \n",
       "42          42  14  49  nw_et_mol_et_equ0_g14_g49 -4.69e-06 -4.69e-06   \n",
       "43          43  15  29  nw_et_mol_et_equ0_g15_g29 -7.13e-05 -7.13e-05   \n",
       "44          44  15  41  nw_et_mol_et_equ0_g15_g41  0.000171  0.000171   \n",
       "45          45  15  48  nw_et_mol_et_equ0_g15_g48  8.21e-06  8.21e-06   \n",
       "46          46  16  17  nw_et_mol_et_equ0_g16_g17         0  1.61e-19   \n",
       "47          47  17  33  nw_et_mol_et_equ0_g17_g33 -0.000139 -0.000139   \n",
       "48          48  18  22  nw_et_mol_et_equ0_g18_g22  0.000345  0.000345   \n",
       "49          49  19  43  nw_et_mol_et_equ0_g19_g43         0  8.73e-19   \n",
       "50          50  20  40  nw_et_mol_et_equ0_g20_g40  4.68e-05  4.68e-05   \n",
       "51          51  22  29  nw_et_mol_et_equ0_g22_g29 -1.34e-05 -1.34e-05   \n",
       "52          52  23  25  nw_et_mol_et_equ0_g23_g25  0.000114  0.000114   \n",
       "53          53  23  34  nw_et_mol_et_equ0_g23_g34 -4.21e-06 -4.21e-06   \n",
       "54          54  24  30  nw_et_mol_et_equ0_g24_g30         0 -1.08e-18   \n",
       "55          55  24  42  nw_et_mol_et_equ0_g24_g42  0.000246  0.000246   \n",
       "56          56  24  46  nw_et_mol_et_equ0_g24_g46         0  2.75e-20   \n",
       "57          57  26  40  nw_et_mol_et_equ0_g26_g40 -1.26e-05 -1.26e-05   \n",
       "58          58  32  45  nw_et_mol_et_equ0_g32_g45  -0.00114  -0.00114   \n",
       "59          59  34  44  nw_et_mol_et_equ0_g34_g44 -4.31e-07 -4.31e-07   \n",
       "60          60  34  46  nw_et_mol_et_equ0_g34_g46 -8.78e-07 -8.78e-07   \n",
       "61          61  35  47  nw_et_mol_et_equ0_g35_g47         0  3.29e-19   \n",
       "62          62  36  37  nw_et_mol_et_equ0_g36_g37 -6.82e-06 -6.82e-06   \n",
       "63          63  36  45  nw_et_mol_et_equ0_g36_g45 -2.36e-05 -2.36e-05   \n",
       "64          64  36  49  nw_et_mol_et_equ0_g36_g49 -1.16e-05 -1.16e-05   \n",
       "65          65  37  49  nw_et_mol_et_equ0_g37_g49  2.48e-05  2.48e-05   \n",
       "66          66  38  48  nw_et_mol_et_equ0_g38_g48         0 -1.12e-17   \n",
       "67          67  39  41  nw_et_mol_et_equ0_g39_g41  8.23e-06  8.23e-06   \n",
       "68          68  43  45  nw_et_mol_et_equ0_g43_g45  2.54e-08  2.54e-08   \n",
       "69          69  44  46  nw_et_mol_et_equ0_g44_g46  -2.8e-05  -2.8e-05   \n",
       "70          70  44  48  nw_et_mol_et_equ0_g44_g48         0 -3.93e-18   \n",
       "\n",
       "           V_ij         V_ji  \n",
       "0     1.396e-07    1.396e-07  \n",
       "1    6.5729e-06   6.5729e-06  \n",
       "2     4.211e-06    4.211e-06  \n",
       "3   1.65649e-05  1.65649e-05  \n",
       "4           inf    0.0310552  \n",
       "5           NaN    0.0260748  \n",
       "6   0.000202278  0.000202278  \n",
       "7           NaN     0.113202  \n",
       "8           inf            0  \n",
       "9           NaN            0  \n",
       "10    2.598e-07    2.598e-07  \n",
       "11   9.7102e-06   9.7102e-06  \n",
       "12  1.55469e-05  1.55469e-05  \n",
       "13   4.7881e-05   4.7881e-05  \n",
       "14          inf     0.258692  \n",
       "15  3.43091e-05  3.43091e-05  \n",
       "16   0.00013026   0.00013026  \n",
       "17          inf     0.447933  \n",
       "18          inf   0.00255317  \n",
       "19   4.4717e-06   4.4717e-06  \n",
       "20  1.90377e-05  1.90377e-05  \n",
       "21          inf     0.433407  \n",
       "22  0.000967122  0.000967122  \n",
       "23          NaN      1.32665  \n",
       "24          NaN            0  \n",
       "25          inf     0.103136  \n",
       "26   2.6111e-06   2.6111e-06  \n",
       "27  1.59946e-05  1.59946e-05  \n",
       "28  0.000494183  0.000494183  \n",
       "29    8.349e-07    8.349e-07  \n",
       "..          ...          ...  \n",
       "41  0.000120298  0.000120298  \n",
       "42   3.1552e-06   3.1552e-06  \n",
       "43  4.08655e-05  4.08655e-05  \n",
       "44  0.000127369  0.000127369  \n",
       "45     6.44e-07     6.44e-07  \n",
       "46          inf     0.168439  \n",
       "47  8.77301e-05  8.77301e-05  \n",
       "48  0.000182499  0.000182499  \n",
       "49          NaN            0  \n",
       "50  2.93207e-05  2.93207e-05  \n",
       "51   6.6355e-06   6.6355e-06  \n",
       "52    5.903e-05    5.903e-05  \n",
       "53   4.9219e-06   4.9219e-06  \n",
       "54          inf    0.0250931  \n",
       "55  0.000130788  0.000130788  \n",
       "56          inf     0.986066  \n",
       "57   2.8575e-06   2.8575e-06  \n",
       "58  0.000645352  0.000645352  \n",
       "59    8.281e-07    8.281e-07  \n",
       "60    3.162e-07    3.162e-07  \n",
       "61          NaN       0.0412  \n",
       "62   3.3877e-06   3.3877e-06  \n",
       "63  1.33131e-05  1.33131e-05  \n",
       "64   8.4008e-06   8.4008e-06  \n",
       "65  3.10926e-05  3.10926e-05  \n",
       "66          inf    0.0024098  \n",
       "67    1.444e-06    1.444e-06  \n",
       "68     2.37e-08     2.37e-08  \n",
       "69  1.85593e-05  1.85593e-05  \n",
       "70          NaN   0.00688834  \n",
       "\n",
       "[71 rows x 8 columns]"
      ]
     },
     "execution_count": 389,
     "metadata": {},
     "output_type": "execute_result"
    }
   ],
   "source": [
    "et_df"
   ]
  },
  {
   "cell_type": "markdown",
   "metadata": {},
   "source": [
    "Remove `inf` and `NaN` values "
   ]
  },
  {
   "cell_type": "code",
   "execution_count": 390,
   "metadata": {
    "collapsed": true
   },
   "outputs": [],
   "source": [
    "et_c1 = et_df.replace([np.inf], np.nan)"
   ]
  },
  {
   "cell_type": "code",
   "execution_count": 391,
   "metadata": {
    "collapsed": false
   },
   "outputs": [
    {
     "data": {
      "text/html": [
       "<div>\n",
       "<style>\n",
       "    .dataframe thead tr:only-child th {\n",
       "        text-align: right;\n",
       "    }\n",
       "\n",
       "    .dataframe thead th {\n",
       "        text-align: left;\n",
       "    }\n",
       "\n",
       "    .dataframe tbody tr th {\n",
       "        vertical-align: top;\n",
       "    }\n",
       "</style>\n",
       "<table border=\"1\" class=\"dataframe\">\n",
       "  <thead>\n",
       "    <tr style=\"text-align: right;\">\n",
       "      <th></th>\n",
       "      <th>Unnamed: 0</th>\n",
       "      <th>i</th>\n",
       "      <th>j</th>\n",
       "      <th>calc_id</th>\n",
       "      <th>S_ij</th>\n",
       "      <th>S_ji</th>\n",
       "      <th>V_ij</th>\n",
       "      <th>V_ji</th>\n",
       "    </tr>\n",
       "  </thead>\n",
       "  <tbody>\n",
       "    <tr>\n",
       "      <th>0</th>\n",
       "      <td>0</td>\n",
       "      <td>0</td>\n",
       "      <td>3</td>\n",
       "      <td>nw_et_mol_et_equ0_g0_g3</td>\n",
       "      <td>4.730000e-06</td>\n",
       "      <td>4.730000e-06</td>\n",
       "      <td>1.396000e-07</td>\n",
       "      <td>1.396000e-07</td>\n",
       "    </tr>\n",
       "    <tr>\n",
       "      <th>1</th>\n",
       "      <td>1</td>\n",
       "      <td>0</td>\n",
       "      <td>14</td>\n",
       "      <td>nw_et_mol_et_equ0_g0_g14</td>\n",
       "      <td>-1.090000e-05</td>\n",
       "      <td>-1.090000e-05</td>\n",
       "      <td>6.572900e-06</td>\n",
       "      <td>6.572900e-06</td>\n",
       "    </tr>\n",
       "    <tr>\n",
       "      <th>2</th>\n",
       "      <td>2</td>\n",
       "      <td>0</td>\n",
       "      <td>15</td>\n",
       "      <td>nw_et_mol_et_equ0_g0_g15</td>\n",
       "      <td>-8.070000e-06</td>\n",
       "      <td>-8.070000e-06</td>\n",
       "      <td>4.211000e-06</td>\n",
       "      <td>4.211000e-06</td>\n",
       "    </tr>\n",
       "    <tr>\n",
       "      <th>3</th>\n",
       "      <td>3</td>\n",
       "      <td>0</td>\n",
       "      <td>19</td>\n",
       "      <td>nw_et_mol_et_equ0_g0_g19</td>\n",
       "      <td>-3.320000e-05</td>\n",
       "      <td>-3.320000e-05</td>\n",
       "      <td>1.656490e-05</td>\n",
       "      <td>1.656490e-05</td>\n",
       "    </tr>\n",
       "    <tr>\n",
       "      <th>6</th>\n",
       "      <td>6</td>\n",
       "      <td>1</td>\n",
       "      <td>16</td>\n",
       "      <td>nw_et_mol_et_equ0_g1_g16</td>\n",
       "      <td>-2.590000e-04</td>\n",
       "      <td>-2.590000e-04</td>\n",
       "      <td>2.022779e-04</td>\n",
       "      <td>2.022779e-04</td>\n",
       "    </tr>\n",
       "    <tr>\n",
       "      <th>10</th>\n",
       "      <td>10</td>\n",
       "      <td>1</td>\n",
       "      <td>44</td>\n",
       "      <td>nw_et_mol_et_equ0_g1_g44</td>\n",
       "      <td>-4.640000e-07</td>\n",
       "      <td>-4.640000e-07</td>\n",
       "      <td>2.598000e-07</td>\n",
       "      <td>2.598000e-07</td>\n",
       "    </tr>\n",
       "    <tr>\n",
       "      <th>11</th>\n",
       "      <td>11</td>\n",
       "      <td>2</td>\n",
       "      <td>31</td>\n",
       "      <td>nw_et_mol_et_equ0_g2_g31</td>\n",
       "      <td>4.430000e-05</td>\n",
       "      <td>4.430000e-05</td>\n",
       "      <td>9.710200e-06</td>\n",
       "      <td>9.710200e-06</td>\n",
       "    </tr>\n",
       "    <tr>\n",
       "      <th>12</th>\n",
       "      <td>12</td>\n",
       "      <td>2</td>\n",
       "      <td>32</td>\n",
       "      <td>nw_et_mol_et_equ0_g2_g32</td>\n",
       "      <td>-2.390000e-05</td>\n",
       "      <td>-2.390000e-05</td>\n",
       "      <td>1.554690e-05</td>\n",
       "      <td>1.554690e-05</td>\n",
       "    </tr>\n",
       "    <tr>\n",
       "      <th>13</th>\n",
       "      <td>13</td>\n",
       "      <td>2</td>\n",
       "      <td>47</td>\n",
       "      <td>nw_et_mol_et_equ0_g2_g47</td>\n",
       "      <td>9.570000e-05</td>\n",
       "      <td>9.570000e-05</td>\n",
       "      <td>4.788100e-05</td>\n",
       "      <td>4.788100e-05</td>\n",
       "    </tr>\n",
       "    <tr>\n",
       "      <th>15</th>\n",
       "      <td>15</td>\n",
       "      <td>4</td>\n",
       "      <td>12</td>\n",
       "      <td>nw_et_mol_et_equ0_g4_g12</td>\n",
       "      <td>-4.790000e-05</td>\n",
       "      <td>-4.790000e-05</td>\n",
       "      <td>3.430910e-05</td>\n",
       "      <td>3.430910e-05</td>\n",
       "    </tr>\n",
       "    <tr>\n",
       "      <th>16</th>\n",
       "      <td>16</td>\n",
       "      <td>4</td>\n",
       "      <td>39</td>\n",
       "      <td>nw_et_mol_et_equ0_g4_g39</td>\n",
       "      <td>2.290000e-04</td>\n",
       "      <td>2.290000e-04</td>\n",
       "      <td>1.302599e-04</td>\n",
       "      <td>1.302599e-04</td>\n",
       "    </tr>\n",
       "    <tr>\n",
       "      <th>19</th>\n",
       "      <td>19</td>\n",
       "      <td>5</td>\n",
       "      <td>44</td>\n",
       "      <td>nw_et_mol_et_equ0_g5_g44</td>\n",
       "      <td>-1.020000e-05</td>\n",
       "      <td>-1.020000e-05</td>\n",
       "      <td>4.471700e-06</td>\n",
       "      <td>4.471700e-06</td>\n",
       "    </tr>\n",
       "    <tr>\n",
       "      <th>20</th>\n",
       "      <td>20</td>\n",
       "      <td>5</td>\n",
       "      <td>46</td>\n",
       "      <td>nw_et_mol_et_equ0_g5_g46</td>\n",
       "      <td>-4.940000e-05</td>\n",
       "      <td>-4.940000e-05</td>\n",
       "      <td>1.903770e-05</td>\n",
       "      <td>1.903770e-05</td>\n",
       "    </tr>\n",
       "    <tr>\n",
       "      <th>22</th>\n",
       "      <td>22</td>\n",
       "      <td>6</td>\n",
       "      <td>47</td>\n",
       "      <td>nw_et_mol_et_equ0_g6_g47</td>\n",
       "      <td>1.890000e-03</td>\n",
       "      <td>1.890000e-03</td>\n",
       "      <td>9.671222e-04</td>\n",
       "      <td>9.671222e-04</td>\n",
       "    </tr>\n",
       "    <tr>\n",
       "      <th>26</th>\n",
       "      <td>26</td>\n",
       "      <td>8</td>\n",
       "      <td>38</td>\n",
       "      <td>nw_et_mol_et_equ0_g8_g38</td>\n",
       "      <td>-5.690000e-06</td>\n",
       "      <td>-5.690000e-06</td>\n",
       "      <td>2.611100e-06</td>\n",
       "      <td>2.611100e-06</td>\n",
       "    </tr>\n",
       "    <tr>\n",
       "      <th>27</th>\n",
       "      <td>27</td>\n",
       "      <td>8</td>\n",
       "      <td>46</td>\n",
       "      <td>nw_et_mol_et_equ0_g8_g46</td>\n",
       "      <td>4.410000e-05</td>\n",
       "      <td>4.410000e-05</td>\n",
       "      <td>1.599460e-05</td>\n",
       "      <td>1.599460e-05</td>\n",
       "    </tr>\n",
       "    <tr>\n",
       "      <th>28</th>\n",
       "      <td>28</td>\n",
       "      <td>9</td>\n",
       "      <td>23</td>\n",
       "      <td>nw_et_mol_et_equ0_g9_g23</td>\n",
       "      <td>-9.830000e-04</td>\n",
       "      <td>-9.830000e-04</td>\n",
       "      <td>4.941826e-04</td>\n",
       "      <td>4.941826e-04</td>\n",
       "    </tr>\n",
       "    <tr>\n",
       "      <th>29</th>\n",
       "      <td>29</td>\n",
       "      <td>9</td>\n",
       "      <td>34</td>\n",
       "      <td>nw_et_mol_et_equ0_g9_g34</td>\n",
       "      <td>1.000000e-06</td>\n",
       "      <td>1.000000e-06</td>\n",
       "      <td>8.349000e-07</td>\n",
       "      <td>8.349000e-07</td>\n",
       "    </tr>\n",
       "    <tr>\n",
       "      <th>30</th>\n",
       "      <td>30</td>\n",
       "      <td>10</td>\n",
       "      <td>28</td>\n",
       "      <td>nw_et_mol_et_equ0_g10_g28</td>\n",
       "      <td>4.260000e-05</td>\n",
       "      <td>4.260000e-05</td>\n",
       "      <td>2.889030e-05</td>\n",
       "      <td>2.889030e-05</td>\n",
       "    </tr>\n",
       "    <tr>\n",
       "      <th>31</th>\n",
       "      <td>31</td>\n",
       "      <td>10</td>\n",
       "      <td>36</td>\n",
       "      <td>nw_et_mol_et_equ0_g10_g36</td>\n",
       "      <td>1.150000e-05</td>\n",
       "      <td>1.150000e-05</td>\n",
       "      <td>5.387100e-06</td>\n",
       "      <td>5.387100e-06</td>\n",
       "    </tr>\n",
       "    <tr>\n",
       "      <th>32</th>\n",
       "      <td>32</td>\n",
       "      <td>10</td>\n",
       "      <td>37</td>\n",
       "      <td>nw_et_mol_et_equ0_g10_g37</td>\n",
       "      <td>-1.160000e-04</td>\n",
       "      <td>-1.160000e-04</td>\n",
       "      <td>7.977010e-05</td>\n",
       "      <td>7.977010e-05</td>\n",
       "    </tr>\n",
       "    <tr>\n",
       "      <th>33</th>\n",
       "      <td>33</td>\n",
       "      <td>10</td>\n",
       "      <td>49</td>\n",
       "      <td>nw_et_mol_et_equ0_g10_g49</td>\n",
       "      <td>1.330000e-05</td>\n",
       "      <td>1.330000e-05</td>\n",
       "      <td>6.326700e-06</td>\n",
       "      <td>6.326700e-06</td>\n",
       "    </tr>\n",
       "    <tr>\n",
       "      <th>34</th>\n",
       "      <td>34</td>\n",
       "      <td>12</td>\n",
       "      <td>18</td>\n",
       "      <td>nw_et_mol_et_equ0_g12_g18</td>\n",
       "      <td>-2.080000e-03</td>\n",
       "      <td>-2.080000e-03</td>\n",
       "      <td>1.063220e-03</td>\n",
       "      <td>1.063220e-03</td>\n",
       "    </tr>\n",
       "    <tr>\n",
       "      <th>35</th>\n",
       "      <td>35</td>\n",
       "      <td>12</td>\n",
       "      <td>22</td>\n",
       "      <td>nw_et_mol_et_equ0_g12_g22</td>\n",
       "      <td>-1.360000e-05</td>\n",
       "      <td>-1.360000e-05</td>\n",
       "      <td>6.071700e-06</td>\n",
       "      <td>6.071700e-06</td>\n",
       "    </tr>\n",
       "    <tr>\n",
       "      <th>36</th>\n",
       "      <td>36</td>\n",
       "      <td>12</td>\n",
       "      <td>29</td>\n",
       "      <td>nw_et_mol_et_equ0_g12_g29</td>\n",
       "      <td>-1.910000e-05</td>\n",
       "      <td>-1.910000e-05</td>\n",
       "      <td>1.113040e-05</td>\n",
       "      <td>1.113040e-05</td>\n",
       "    </tr>\n",
       "    <tr>\n",
       "      <th>37</th>\n",
       "      <td>37</td>\n",
       "      <td>13</td>\n",
       "      <td>26</td>\n",
       "      <td>nw_et_mol_et_equ0_g13_g26</td>\n",
       "      <td>1.230000e-04</td>\n",
       "      <td>1.230000e-04</td>\n",
       "      <td>3.251130e-05</td>\n",
       "      <td>3.251130e-05</td>\n",
       "    </tr>\n",
       "    <tr>\n",
       "      <th>38</th>\n",
       "      <td>38</td>\n",
       "      <td>14</td>\n",
       "      <td>32</td>\n",
       "      <td>nw_et_mol_et_equ0_g14_g32</td>\n",
       "      <td>-4.090000e-05</td>\n",
       "      <td>-4.090000e-05</td>\n",
       "      <td>1.578150e-05</td>\n",
       "      <td>1.578150e-05</td>\n",
       "    </tr>\n",
       "    <tr>\n",
       "      <th>39</th>\n",
       "      <td>39</td>\n",
       "      <td>14</td>\n",
       "      <td>36</td>\n",
       "      <td>nw_et_mol_et_equ0_g14_g36</td>\n",
       "      <td>-6.470000e-06</td>\n",
       "      <td>-6.470000e-06</td>\n",
       "      <td>4.217200e-06</td>\n",
       "      <td>4.217200e-06</td>\n",
       "    </tr>\n",
       "    <tr>\n",
       "      <th>40</th>\n",
       "      <td>40</td>\n",
       "      <td>14</td>\n",
       "      <td>43</td>\n",
       "      <td>nw_et_mol_et_equ0_g14_g43</td>\n",
       "      <td>2.500000e-04</td>\n",
       "      <td>2.500000e-04</td>\n",
       "      <td>1.334531e-04</td>\n",
       "      <td>1.334531e-04</td>\n",
       "    </tr>\n",
       "    <tr>\n",
       "      <th>41</th>\n",
       "      <td>41</td>\n",
       "      <td>14</td>\n",
       "      <td>45</td>\n",
       "      <td>nw_et_mol_et_equ0_g14_g45</td>\n",
       "      <td>-2.220000e-04</td>\n",
       "      <td>-2.220000e-04</td>\n",
       "      <td>1.202983e-04</td>\n",
       "      <td>1.202983e-04</td>\n",
       "    </tr>\n",
       "    <tr>\n",
       "      <th>42</th>\n",
       "      <td>42</td>\n",
       "      <td>14</td>\n",
       "      <td>49</td>\n",
       "      <td>nw_et_mol_et_equ0_g14_g49</td>\n",
       "      <td>-4.690000e-06</td>\n",
       "      <td>-4.690000e-06</td>\n",
       "      <td>3.155200e-06</td>\n",
       "      <td>3.155200e-06</td>\n",
       "    </tr>\n",
       "    <tr>\n",
       "      <th>43</th>\n",
       "      <td>43</td>\n",
       "      <td>15</td>\n",
       "      <td>29</td>\n",
       "      <td>nw_et_mol_et_equ0_g15_g29</td>\n",
       "      <td>-7.130000e-05</td>\n",
       "      <td>-7.130000e-05</td>\n",
       "      <td>4.086550e-05</td>\n",
       "      <td>4.086550e-05</td>\n",
       "    </tr>\n",
       "    <tr>\n",
       "      <th>44</th>\n",
       "      <td>44</td>\n",
       "      <td>15</td>\n",
       "      <td>41</td>\n",
       "      <td>nw_et_mol_et_equ0_g15_g41</td>\n",
       "      <td>1.710000e-04</td>\n",
       "      <td>1.710000e-04</td>\n",
       "      <td>1.273693e-04</td>\n",
       "      <td>1.273693e-04</td>\n",
       "    </tr>\n",
       "    <tr>\n",
       "      <th>45</th>\n",
       "      <td>45</td>\n",
       "      <td>15</td>\n",
       "      <td>48</td>\n",
       "      <td>nw_et_mol_et_equ0_g15_g48</td>\n",
       "      <td>8.210000e-06</td>\n",
       "      <td>8.210000e-06</td>\n",
       "      <td>6.440000e-07</td>\n",
       "      <td>6.440000e-07</td>\n",
       "    </tr>\n",
       "    <tr>\n",
       "      <th>47</th>\n",
       "      <td>47</td>\n",
       "      <td>17</td>\n",
       "      <td>33</td>\n",
       "      <td>nw_et_mol_et_equ0_g17_g33</td>\n",
       "      <td>-1.390000e-04</td>\n",
       "      <td>-1.390000e-04</td>\n",
       "      <td>8.773010e-05</td>\n",
       "      <td>8.773010e-05</td>\n",
       "    </tr>\n",
       "    <tr>\n",
       "      <th>48</th>\n",
       "      <td>48</td>\n",
       "      <td>18</td>\n",
       "      <td>22</td>\n",
       "      <td>nw_et_mol_et_equ0_g18_g22</td>\n",
       "      <td>3.450000e-04</td>\n",
       "      <td>3.450000e-04</td>\n",
       "      <td>1.824987e-04</td>\n",
       "      <td>1.824987e-04</td>\n",
       "    </tr>\n",
       "    <tr>\n",
       "      <th>50</th>\n",
       "      <td>50</td>\n",
       "      <td>20</td>\n",
       "      <td>40</td>\n",
       "      <td>nw_et_mol_et_equ0_g20_g40</td>\n",
       "      <td>4.680000e-05</td>\n",
       "      <td>4.680000e-05</td>\n",
       "      <td>2.932070e-05</td>\n",
       "      <td>2.932070e-05</td>\n",
       "    </tr>\n",
       "    <tr>\n",
       "      <th>51</th>\n",
       "      <td>51</td>\n",
       "      <td>22</td>\n",
       "      <td>29</td>\n",
       "      <td>nw_et_mol_et_equ0_g22_g29</td>\n",
       "      <td>-1.340000e-05</td>\n",
       "      <td>-1.340000e-05</td>\n",
       "      <td>6.635500e-06</td>\n",
       "      <td>6.635500e-06</td>\n",
       "    </tr>\n",
       "    <tr>\n",
       "      <th>52</th>\n",
       "      <td>52</td>\n",
       "      <td>23</td>\n",
       "      <td>25</td>\n",
       "      <td>nw_et_mol_et_equ0_g23_g25</td>\n",
       "      <td>1.140000e-04</td>\n",
       "      <td>1.140000e-04</td>\n",
       "      <td>5.903000e-05</td>\n",
       "      <td>5.903000e-05</td>\n",
       "    </tr>\n",
       "    <tr>\n",
       "      <th>53</th>\n",
       "      <td>53</td>\n",
       "      <td>23</td>\n",
       "      <td>34</td>\n",
       "      <td>nw_et_mol_et_equ0_g23_g34</td>\n",
       "      <td>-4.210000e-06</td>\n",
       "      <td>-4.210000e-06</td>\n",
       "      <td>4.921900e-06</td>\n",
       "      <td>4.921900e-06</td>\n",
       "    </tr>\n",
       "    <tr>\n",
       "      <th>55</th>\n",
       "      <td>55</td>\n",
       "      <td>24</td>\n",
       "      <td>42</td>\n",
       "      <td>nw_et_mol_et_equ0_g24_g42</td>\n",
       "      <td>2.460000e-04</td>\n",
       "      <td>2.460000e-04</td>\n",
       "      <td>1.307875e-04</td>\n",
       "      <td>1.307875e-04</td>\n",
       "    </tr>\n",
       "    <tr>\n",
       "      <th>57</th>\n",
       "      <td>57</td>\n",
       "      <td>26</td>\n",
       "      <td>40</td>\n",
       "      <td>nw_et_mol_et_equ0_g26_g40</td>\n",
       "      <td>-1.260000e-05</td>\n",
       "      <td>-1.260000e-05</td>\n",
       "      <td>2.857500e-06</td>\n",
       "      <td>2.857500e-06</td>\n",
       "    </tr>\n",
       "    <tr>\n",
       "      <th>58</th>\n",
       "      <td>58</td>\n",
       "      <td>32</td>\n",
       "      <td>45</td>\n",
       "      <td>nw_et_mol_et_equ0_g32_g45</td>\n",
       "      <td>-1.140000e-03</td>\n",
       "      <td>-1.140000e-03</td>\n",
       "      <td>6.453516e-04</td>\n",
       "      <td>6.453516e-04</td>\n",
       "    </tr>\n",
       "    <tr>\n",
       "      <th>59</th>\n",
       "      <td>59</td>\n",
       "      <td>34</td>\n",
       "      <td>44</td>\n",
       "      <td>nw_et_mol_et_equ0_g34_g44</td>\n",
       "      <td>-4.310000e-07</td>\n",
       "      <td>-4.310000e-07</td>\n",
       "      <td>8.281000e-07</td>\n",
       "      <td>8.281000e-07</td>\n",
       "    </tr>\n",
       "    <tr>\n",
       "      <th>60</th>\n",
       "      <td>60</td>\n",
       "      <td>34</td>\n",
       "      <td>46</td>\n",
       "      <td>nw_et_mol_et_equ0_g34_g46</td>\n",
       "      <td>-8.780000e-07</td>\n",
       "      <td>-8.780000e-07</td>\n",
       "      <td>3.162000e-07</td>\n",
       "      <td>3.162000e-07</td>\n",
       "    </tr>\n",
       "    <tr>\n",
       "      <th>62</th>\n",
       "      <td>62</td>\n",
       "      <td>36</td>\n",
       "      <td>37</td>\n",
       "      <td>nw_et_mol_et_equ0_g36_g37</td>\n",
       "      <td>-6.820000e-06</td>\n",
       "      <td>-6.820000e-06</td>\n",
       "      <td>3.387700e-06</td>\n",
       "      <td>3.387700e-06</td>\n",
       "    </tr>\n",
       "    <tr>\n",
       "      <th>63</th>\n",
       "      <td>63</td>\n",
       "      <td>36</td>\n",
       "      <td>45</td>\n",
       "      <td>nw_et_mol_et_equ0_g36_g45</td>\n",
       "      <td>-2.360000e-05</td>\n",
       "      <td>-2.360000e-05</td>\n",
       "      <td>1.331310e-05</td>\n",
       "      <td>1.331310e-05</td>\n",
       "    </tr>\n",
       "    <tr>\n",
       "      <th>64</th>\n",
       "      <td>64</td>\n",
       "      <td>36</td>\n",
       "      <td>49</td>\n",
       "      <td>nw_et_mol_et_equ0_g36_g49</td>\n",
       "      <td>-1.160000e-05</td>\n",
       "      <td>-1.160000e-05</td>\n",
       "      <td>8.400800e-06</td>\n",
       "      <td>8.400800e-06</td>\n",
       "    </tr>\n",
       "    <tr>\n",
       "      <th>65</th>\n",
       "      <td>65</td>\n",
       "      <td>37</td>\n",
       "      <td>49</td>\n",
       "      <td>nw_et_mol_et_equ0_g37_g49</td>\n",
       "      <td>2.480000e-05</td>\n",
       "      <td>2.480000e-05</td>\n",
       "      <td>3.109260e-05</td>\n",
       "      <td>3.109260e-05</td>\n",
       "    </tr>\n",
       "    <tr>\n",
       "      <th>67</th>\n",
       "      <td>67</td>\n",
       "      <td>39</td>\n",
       "      <td>41</td>\n",
       "      <td>nw_et_mol_et_equ0_g39_g41</td>\n",
       "      <td>8.230000e-06</td>\n",
       "      <td>8.230000e-06</td>\n",
       "      <td>1.444000e-06</td>\n",
       "      <td>1.444000e-06</td>\n",
       "    </tr>\n",
       "    <tr>\n",
       "      <th>68</th>\n",
       "      <td>68</td>\n",
       "      <td>43</td>\n",
       "      <td>45</td>\n",
       "      <td>nw_et_mol_et_equ0_g43_g45</td>\n",
       "      <td>2.540000e-08</td>\n",
       "      <td>2.540000e-08</td>\n",
       "      <td>2.370000e-08</td>\n",
       "      <td>2.370000e-08</td>\n",
       "    </tr>\n",
       "    <tr>\n",
       "      <th>69</th>\n",
       "      <td>69</td>\n",
       "      <td>44</td>\n",
       "      <td>46</td>\n",
       "      <td>nw_et_mol_et_equ0_g44_g46</td>\n",
       "      <td>-2.800000e-05</td>\n",
       "      <td>-2.800000e-05</td>\n",
       "      <td>1.855930e-05</td>\n",
       "      <td>1.855930e-05</td>\n",
       "    </tr>\n",
       "  </tbody>\n",
       "</table>\n",
       "</div>"
      ],
      "text/plain": [
       "    Unnamed: 0   i   j                    calc_id          S_ij          S_ji  \\\n",
       "0            0   0   3    nw_et_mol_et_equ0_g0_g3  4.730000e-06  4.730000e-06   \n",
       "1            1   0  14   nw_et_mol_et_equ0_g0_g14 -1.090000e-05 -1.090000e-05   \n",
       "2            2   0  15   nw_et_mol_et_equ0_g0_g15 -8.070000e-06 -8.070000e-06   \n",
       "3            3   0  19   nw_et_mol_et_equ0_g0_g19 -3.320000e-05 -3.320000e-05   \n",
       "6            6   1  16   nw_et_mol_et_equ0_g1_g16 -2.590000e-04 -2.590000e-04   \n",
       "10          10   1  44   nw_et_mol_et_equ0_g1_g44 -4.640000e-07 -4.640000e-07   \n",
       "11          11   2  31   nw_et_mol_et_equ0_g2_g31  4.430000e-05  4.430000e-05   \n",
       "12          12   2  32   nw_et_mol_et_equ0_g2_g32 -2.390000e-05 -2.390000e-05   \n",
       "13          13   2  47   nw_et_mol_et_equ0_g2_g47  9.570000e-05  9.570000e-05   \n",
       "15          15   4  12   nw_et_mol_et_equ0_g4_g12 -4.790000e-05 -4.790000e-05   \n",
       "16          16   4  39   nw_et_mol_et_equ0_g4_g39  2.290000e-04  2.290000e-04   \n",
       "19          19   5  44   nw_et_mol_et_equ0_g5_g44 -1.020000e-05 -1.020000e-05   \n",
       "20          20   5  46   nw_et_mol_et_equ0_g5_g46 -4.940000e-05 -4.940000e-05   \n",
       "22          22   6  47   nw_et_mol_et_equ0_g6_g47  1.890000e-03  1.890000e-03   \n",
       "26          26   8  38   nw_et_mol_et_equ0_g8_g38 -5.690000e-06 -5.690000e-06   \n",
       "27          27   8  46   nw_et_mol_et_equ0_g8_g46  4.410000e-05  4.410000e-05   \n",
       "28          28   9  23   nw_et_mol_et_equ0_g9_g23 -9.830000e-04 -9.830000e-04   \n",
       "29          29   9  34   nw_et_mol_et_equ0_g9_g34  1.000000e-06  1.000000e-06   \n",
       "30          30  10  28  nw_et_mol_et_equ0_g10_g28  4.260000e-05  4.260000e-05   \n",
       "31          31  10  36  nw_et_mol_et_equ0_g10_g36  1.150000e-05  1.150000e-05   \n",
       "32          32  10  37  nw_et_mol_et_equ0_g10_g37 -1.160000e-04 -1.160000e-04   \n",
       "33          33  10  49  nw_et_mol_et_equ0_g10_g49  1.330000e-05  1.330000e-05   \n",
       "34          34  12  18  nw_et_mol_et_equ0_g12_g18 -2.080000e-03 -2.080000e-03   \n",
       "35          35  12  22  nw_et_mol_et_equ0_g12_g22 -1.360000e-05 -1.360000e-05   \n",
       "36          36  12  29  nw_et_mol_et_equ0_g12_g29 -1.910000e-05 -1.910000e-05   \n",
       "37          37  13  26  nw_et_mol_et_equ0_g13_g26  1.230000e-04  1.230000e-04   \n",
       "38          38  14  32  nw_et_mol_et_equ0_g14_g32 -4.090000e-05 -4.090000e-05   \n",
       "39          39  14  36  nw_et_mol_et_equ0_g14_g36 -6.470000e-06 -6.470000e-06   \n",
       "40          40  14  43  nw_et_mol_et_equ0_g14_g43  2.500000e-04  2.500000e-04   \n",
       "41          41  14  45  nw_et_mol_et_equ0_g14_g45 -2.220000e-04 -2.220000e-04   \n",
       "42          42  14  49  nw_et_mol_et_equ0_g14_g49 -4.690000e-06 -4.690000e-06   \n",
       "43          43  15  29  nw_et_mol_et_equ0_g15_g29 -7.130000e-05 -7.130000e-05   \n",
       "44          44  15  41  nw_et_mol_et_equ0_g15_g41  1.710000e-04  1.710000e-04   \n",
       "45          45  15  48  nw_et_mol_et_equ0_g15_g48  8.210000e-06  8.210000e-06   \n",
       "47          47  17  33  nw_et_mol_et_equ0_g17_g33 -1.390000e-04 -1.390000e-04   \n",
       "48          48  18  22  nw_et_mol_et_equ0_g18_g22  3.450000e-04  3.450000e-04   \n",
       "50          50  20  40  nw_et_mol_et_equ0_g20_g40  4.680000e-05  4.680000e-05   \n",
       "51          51  22  29  nw_et_mol_et_equ0_g22_g29 -1.340000e-05 -1.340000e-05   \n",
       "52          52  23  25  nw_et_mol_et_equ0_g23_g25  1.140000e-04  1.140000e-04   \n",
       "53          53  23  34  nw_et_mol_et_equ0_g23_g34 -4.210000e-06 -4.210000e-06   \n",
       "55          55  24  42  nw_et_mol_et_equ0_g24_g42  2.460000e-04  2.460000e-04   \n",
       "57          57  26  40  nw_et_mol_et_equ0_g26_g40 -1.260000e-05 -1.260000e-05   \n",
       "58          58  32  45  nw_et_mol_et_equ0_g32_g45 -1.140000e-03 -1.140000e-03   \n",
       "59          59  34  44  nw_et_mol_et_equ0_g34_g44 -4.310000e-07 -4.310000e-07   \n",
       "60          60  34  46  nw_et_mol_et_equ0_g34_g46 -8.780000e-07 -8.780000e-07   \n",
       "62          62  36  37  nw_et_mol_et_equ0_g36_g37 -6.820000e-06 -6.820000e-06   \n",
       "63          63  36  45  nw_et_mol_et_equ0_g36_g45 -2.360000e-05 -2.360000e-05   \n",
       "64          64  36  49  nw_et_mol_et_equ0_g36_g49 -1.160000e-05 -1.160000e-05   \n",
       "65          65  37  49  nw_et_mol_et_equ0_g37_g49  2.480000e-05  2.480000e-05   \n",
       "67          67  39  41  nw_et_mol_et_equ0_g39_g41  8.230000e-06  8.230000e-06   \n",
       "68          68  43  45  nw_et_mol_et_equ0_g43_g45  2.540000e-08  2.540000e-08   \n",
       "69          69  44  46  nw_et_mol_et_equ0_g44_g46 -2.800000e-05 -2.800000e-05   \n",
       "\n",
       "            V_ij          V_ji  \n",
       "0   1.396000e-07  1.396000e-07  \n",
       "1   6.572900e-06  6.572900e-06  \n",
       "2   4.211000e-06  4.211000e-06  \n",
       "3   1.656490e-05  1.656490e-05  \n",
       "6   2.022779e-04  2.022779e-04  \n",
       "10  2.598000e-07  2.598000e-07  \n",
       "11  9.710200e-06  9.710200e-06  \n",
       "12  1.554690e-05  1.554690e-05  \n",
       "13  4.788100e-05  4.788100e-05  \n",
       "15  3.430910e-05  3.430910e-05  \n",
       "16  1.302599e-04  1.302599e-04  \n",
       "19  4.471700e-06  4.471700e-06  \n",
       "20  1.903770e-05  1.903770e-05  \n",
       "22  9.671222e-04  9.671222e-04  \n",
       "26  2.611100e-06  2.611100e-06  \n",
       "27  1.599460e-05  1.599460e-05  \n",
       "28  4.941826e-04  4.941826e-04  \n",
       "29  8.349000e-07  8.349000e-07  \n",
       "30  2.889030e-05  2.889030e-05  \n",
       "31  5.387100e-06  5.387100e-06  \n",
       "32  7.977010e-05  7.977010e-05  \n",
       "33  6.326700e-06  6.326700e-06  \n",
       "34  1.063220e-03  1.063220e-03  \n",
       "35  6.071700e-06  6.071700e-06  \n",
       "36  1.113040e-05  1.113040e-05  \n",
       "37  3.251130e-05  3.251130e-05  \n",
       "38  1.578150e-05  1.578150e-05  \n",
       "39  4.217200e-06  4.217200e-06  \n",
       "40  1.334531e-04  1.334531e-04  \n",
       "41  1.202983e-04  1.202983e-04  \n",
       "42  3.155200e-06  3.155200e-06  \n",
       "43  4.086550e-05  4.086550e-05  \n",
       "44  1.273693e-04  1.273693e-04  \n",
       "45  6.440000e-07  6.440000e-07  \n",
       "47  8.773010e-05  8.773010e-05  \n",
       "48  1.824987e-04  1.824987e-04  \n",
       "50  2.932070e-05  2.932070e-05  \n",
       "51  6.635500e-06  6.635500e-06  \n",
       "52  5.903000e-05  5.903000e-05  \n",
       "53  4.921900e-06  4.921900e-06  \n",
       "55  1.307875e-04  1.307875e-04  \n",
       "57  2.857500e-06  2.857500e-06  \n",
       "58  6.453516e-04  6.453516e-04  \n",
       "59  8.281000e-07  8.281000e-07  \n",
       "60  3.162000e-07  3.162000e-07  \n",
       "62  3.387700e-06  3.387700e-06  \n",
       "63  1.331310e-05  1.331310e-05  \n",
       "64  8.400800e-06  8.400800e-06  \n",
       "65  3.109260e-05  3.109260e-05  \n",
       "67  1.444000e-06  1.444000e-06  \n",
       "68  2.370000e-08  2.370000e-08  \n",
       "69  1.855930e-05  1.855930e-05  "
      ]
     },
     "execution_count": 391,
     "metadata": {},
     "output_type": "execute_result"
    }
   ],
   "source": [
    "et_c1.dropna()"
   ]
  },
  {
   "cell_type": "code",
   "execution_count": 392,
   "metadata": {
    "collapsed": false
   },
   "outputs": [
    {
     "name": "stdout",
     "output_type": "stream",
     "text": [
      "2.37e-08 9.37995884615e-05 0.0010632199\n"
     ]
    }
   ],
   "source": [
    "print et_c1['V_ij'].min(),et_c1['V_ij'].mean(),et_c1['V_ij'].max()"
   ]
  },
  {
   "cell_type": "markdown",
   "metadata": {},
   "source": [
    "We can take a look at the histogram of magnitudes of V_ij"
   ]
  },
  {
   "cell_type": "code",
   "execution_count": 393,
   "metadata": {
    "collapsed": true
   },
   "outputs": [],
   "source": [
    "et_c1['log_V_ij'] = np.log10(et_c1['V_ij'])"
   ]
  },
  {
   "cell_type": "code",
   "execution_count": 394,
   "metadata": {
    "collapsed": false
   },
   "outputs": [
    {
     "data": {
      "text/plain": [
       "<matplotlib.axes._subplots.AxesSubplot at 0x1344a2850>"
      ]
     },
     "execution_count": 394,
     "metadata": {},
     "output_type": "execute_result"
    },
    {
     "data": {
      "image/png": "[encoded data removed]",
      "text/plain": [
       "<matplotlib.figure.Figure at 0x133831f10>"
      ]
     },
     "metadata": {},
     "output_type": "display_data"
    }
   ],
   "source": [
    "et_c1['log_V_ij'].plot.hist(bins=30,alpha=1.0)"
   ]
  },
  {
   "cell_type": "markdown",
   "metadata": {},
   "source": [
    "Just calculated the inter-molecular electronic coupling between P3ht"
   ]
  },
  {
   "cell_type": "markdown",
   "metadata": {},
   "source": [
    "Boom!"
   ]
  },
  {
   "cell_type": "markdown",
   "metadata": {
    "collapsed": true
   },
   "source": [
    "There is a stripped down python version of this example (P3HT_ET.py) that will run the calculations on external resource "
   ]
  }
 ],
 "metadata": {
  "anaconda-cloud": {},
  "kernelspec": {
   "display_name": "Python [default]",
   "language": "python",
   "name": "python2"
  },
  "language_info": {
   "codemirror_mode": {
    "name": "ipython",
    "version": 2
   },
   "file_extension": ".py",
   "mimetype": "text/x-python",
   "name": "python",
   "nbconvert_exporter": "python",
   "pygments_lexer": "ipython2",
   "version": "2.7.9"
  }
 },
 "nbformat": 4,
 "nbformat_minor": 2
}
