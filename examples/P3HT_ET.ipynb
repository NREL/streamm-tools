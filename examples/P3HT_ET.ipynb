{
 "cells": [
  {
   "cell_type": "code",
   "execution_count": null,
   "metadata": {
    "collapsed": true
   },
   "outputs": [],
   "source": [
    "%load_ext autoreload\n",
    "%autoreload 2"
   ]
  },
  {
   "cell_type": "code",
   "execution_count": null,
   "metadata": {
    "collapsed": true
   },
   "outputs": [],
   "source": [
    "import os \n",
    "from pprint import pprint"
   ]
  },
  {
   "cell_type": "code",
   "execution_count": null,
   "metadata": {
    "collapsed": true
   },
   "outputs": [],
   "source": [
    "import numpy as np\n",
    "import decimal\n",
    "import copy"
   ]
  },
  {
   "cell_type": "code",
   "execution_count": null,
   "metadata": {
    "collapsed": true
   },
   "outputs": [],
   "source": [
    "import streamm"
   ]
  },
  {
   "cell_type": "markdown",
   "metadata": {},
   "source": [
    "In this getting started example we will calculate the coupling between P3HT oligomers"
   ]
  },
  {
   "cell_type": "markdown",
   "metadata": {},
   "source": [
    "Now let's create project and resource to keep track of our work"
   ]
  },
  {
   "cell_type": "code",
   "execution_count": null,
   "metadata": {
    "collapsed": true
   },
   "outputs": [],
   "source": [
    "p3ht_et = streamm.Project('P3HT_ET')"
   ]
  },
  {
   "cell_type": "markdown",
   "metadata": {},
   "source": [
    "And a resource object to keep track of where our files are "
   ]
  },
  {
   "cell_type": "code",
   "execution_count": null,
   "metadata": {
    "collapsed": true
   },
   "outputs": [],
   "source": [
    "res_local = streamm.Resource('local')"
   ]
  },
  {
   "cell_type": "markdown",
   "metadata": {},
   "source": [
    "Update relative location of templates directory "
   ]
  },
  {
   "cell_type": "code",
   "execution_count": null,
   "metadata": {
    "collapsed": true
   },
   "outputs": [],
   "source": [
    "res_local.dir['templates'] =  os.path.join(res_local.dir['home'],'..','templates','')"
   ]
  },
  {
   "cell_type": "code",
   "execution_count": null,
   "metadata": {
    "collapsed": true
   },
   "outputs": [],
   "source": [
    "res_local.make_dir()"
   ]
  },
  {
   "cell_type": "code",
   "execution_count": null,
   "metadata": {
    "collapsed": true
   },
   "outputs": [],
   "source": [
    "p3ht_et.set_resource(res_local)"
   ]
  },
  {
   "cell_type": "markdown",
   "metadata": {},
   "source": [
    "Now we need to set a remote resource we have ssh access to and run calculations "
   ]
  },
  {
   "cell_type": "code",
   "execution_count": null,
   "metadata": {
    "collapsed": true
   },
   "outputs": [],
   "source": [
    "peregrine = streamm.Resource('peregrine')"
   ]
  },
  {
   "cell_type": "code",
   "execution_count": null,
   "metadata": {
    "collapsed": true
   },
   "outputs": [],
   "source": [
    "peregrine.meta['type'] = \"ssh\"\n",
    "peregrine.ssh['username'] = \"tkemper\"    \n",
    "peregrine.ssh['address'] = \"peregrine.hpc.nrel.gov\"    \n",
    "peregrine.dir['storage'] = '/mss/users/%s'%(peregrine.ssh['username'])\n",
    "peregrine.dir['scratch'] = '/scratch/%s'%(peregrine.ssh['username'])\n",
    "peregrine.dir['home'] = res_local.dir['home']\n",
    "peregrine.dir['launch'] = res_local.dir['launch']\n",
    "peregrine.dir['templates'] = res_local.dir['templates']\n",
    "\n",
    "# Set default simulation specs\n",
    "peregrine.properties['allocation'] = 'orgopv'\n",
    "peregrine.properties['e-mail'] = 'travis.kemper@nrel.gov'\n",
    "peregrine.properties['scratch'] = peregrine.dir['scratch']\n",
    "peregrine.properties['allocation'] = 'orgopv'\n",
    "peregrine.properties['walltime'] = 4\n",
    "peregrine.properties['nodes'] = int(1)\n",
    "peregrine.properties['ppn'] = int(24)\n",
    "peregrine.properties['nproc'] = peregrine.properties['nodes']*peregrine.properties['ppn']\n",
    "peregrine.properties['queue'] = 'short'\n",
    "peregrine.properties['feature'] = '24core'\n",
    "peregrine.properties['exe_command'] = 'qsub '"
   ]
  },
  {
   "cell_type": "code",
   "execution_count": null,
   "metadata": {},
   "outputs": [],
   "source": [
    "pprint(peregrine.properties)"
   ]
  },
  {
   "cell_type": "code",
   "execution_count": null,
   "metadata": {
    "collapsed": true
   },
   "outputs": [],
   "source": [
    "peregrine.make_dir()"
   ]
  },
  {
   "cell_type": "markdown",
   "metadata": {},
   "source": [
    "Explicitely create a thiophene molecule"
   ]
  },
  {
   "cell_type": "code",
   "execution_count": null,
   "metadata": {
    "collapsed": true
   },
   "outputs": [],
   "source": [
    "bbTh = streamm.Buildingblock('thiophene')\n",
    "symbols = ['C','C','C','C','S','H','H','H','H']\n",
    "positions = [ ]\n",
    "positions.append([-1.55498576,-1.91131218,-0.00081000])\n",
    "positions.append([-0.17775976,-1.91131218,-0.00081000])\n",
    "positions.append([0.34761524,-0.57904218,-0.00081000])\n",
    "positions.append([-0.65884476,0.36101082,0.00000000])\n",
    "positions.append([-2.16948076,-0.35614618,-0.00000800])\n",
    "positions.append([-2.18966076,-2.79526518,-0.00132100])\n",
    "positions.append([0.45389024,-2.80145418,-0.00106400])\n",
    "positions.append([1.41682424,-0.35961818,-0.00138200])\n",
    "positions.append([-0.51943676,1.44024682,0.00064700])\n",
    "for i in range(len(symbols)):\n",
    "    pt_i = streamm.Particle(symbol=symbols[i])\n",
    "    pos_i = positions[i]\n",
    "    bbTh.add_partpos(pt_i,pos_i)"
   ]
  },
  {
   "cell_type": "code",
   "execution_count": null,
   "metadata": {
    "collapsed": true
   },
   "outputs": [],
   "source": [
    "bbTh.particles[5].rsite = 'termcap'\n",
    "bbTh.particles[6].rsite = 'funccap'\n",
    "bbTh.particles[8].rsite = 'termcap'"
   ]
  },
  {
   "cell_type": "markdown",
   "metadata": {},
   "source": [
    "Set some properties of the molecule to keep track of the parts"
   ]
  },
  {
   "cell_type": "code",
   "execution_count": null,
   "metadata": {
    "collapsed": true
   },
   "outputs": [],
   "source": [
    "c_cnt =1\n",
    "h_cnt =1\n",
    "\n",
    "for pkey_i, particle_i  in bbTh.particles.iteritems():\n",
    "            if( particle_i.symbol == 'C' ):\n",
    "                particle_i.label = \"C%d\"%(c_cnt)\n",
    "\n",
    "                particle_i.resname = \"SCP2\"\n",
    "                particle_i.residue = 1\n",
    "                particle_i.charge = -0.025\n",
    "\n",
    "                c_cnt +=1 \n",
    "            if( particle_i.symbol == 'S' ):\n",
    "                particle_i.resname = \"ThS\"\n",
    "                particle_i.residue = 2\n",
    "                particle_i.charge = -0.3\n",
    "\n",
    "            if( particle_i.symbol == 'H' ):\n",
    "                particle_i.label = \"H%d\"%(h_cnt)\n",
    "\n",
    "                particle_i.resname = \"HA\"\n",
    "                particle_i.residue = 3\n",
    "                particle_i.charge = 0.1\n",
    "\n",
    "                h_cnt +=1 \n",
    "                "
   ]
  },
  {
   "cell_type": "markdown",
   "metadata": {},
   "source": [
    "Set the force-field type and guess some reasonable charges "
   ]
  },
  {
   "cell_type": "code",
   "execution_count": null,
   "metadata": {
    "collapsed": true
   },
   "outputs": [],
   "source": [
    "for pkey_i, particle_i  in bbTh.particles.iteritems():\n",
    "            if( particle_i.symbol == 'C' ):\n",
    "                particle_i.paramkey = 'CA'\n",
    "                particle_i.charge = -0.025\n",
    "            if( particle_i.symbol == 'S' ):\n",
    "                particle_i.paramkey = 'S'\n",
    "                particle_i.charge = -0.3\n",
    "            if( particle_i.symbol == 'H' ):\n",
    "                particle_i.paramkey = 'HA'\n",
    "                particle_i.charge = 0.1"
   ]
  },
  {
   "cell_type": "markdown",
   "metadata": {},
   "source": [
    "Optimize structure with NWChem"
   ]
  },
  {
   "cell_type": "code",
   "execution_count": null,
   "metadata": {
    "collapsed": true
   },
   "outputs": [],
   "source": [
    "nwchem_i = streamm.NWChem('nw_opt_{}'.format(bbTh.tag))"
   ]
  },
  {
   "cell_type": "markdown",
   "metadata": {},
   "source": [
    "Add thiophene structure "
   ]
  },
  {
   "cell_type": "code",
   "execution_count": null,
   "metadata": {},
   "outputs": [],
   "source": [
    "nwchem_i.strucC = copy.deepcopy(bbTh)"
   ]
  },
  {
   "cell_type": "markdown",
   "metadata": {},
   "source": [
    "Set calculation to run on external resource"
   ]
  },
  {
   "cell_type": "code",
   "execution_count": null,
   "metadata": {
    "collapsed": true
   },
   "outputs": [],
   "source": [
    "nwchem_i.set_resource(peregrine)"
   ]
  },
  {
   "cell_type": "markdown",
   "metadata": {},
   "source": [
    "Add calculation to project"
   ]
  },
  {
   "cell_type": "code",
   "execution_count": null,
   "metadata": {
    "collapsed": true
   },
   "outputs": [],
   "source": [
    "p3ht_et.add_calc(nwchem_i)"
   ]
  },
  {
   "cell_type": "markdown",
   "metadata": {},
   "source": [
    "Make the local directories "
   ]
  },
  {
   "cell_type": "code",
   "execution_count": null,
   "metadata": {
    "collapsed": true
   },
   "outputs": [],
   "source": [
    "nwchem_i.make_dir()"
   ]
  },
  {
   "cell_type": "markdown",
   "metadata": {},
   "source": [
    "Change to the `launch` directory"
   ]
  },
  {
   "cell_type": "code",
   "execution_count": null,
   "metadata": {},
   "outputs": [],
   "source": [
    "print nwchem_i.dir['launch']"
   ]
  },
  {
   "cell_type": "code",
   "execution_count": null,
   "metadata": {
    "collapsed": true
   },
   "outputs": [],
   "source": [
    "os.chdir(nwchem_i.dir['launch'])"
   ]
  },
  {
   "cell_type": "code",
   "execution_count": null,
   "metadata": {
    "collapsed": true
   },
   "outputs": [],
   "source": [
    "file_type = 'templates'\n",
    "file_key = 'run'\n",
    "file_name = \"nwchem_peregrine.pbs\"\n",
    "from_dirkey = 'templates'\n",
    "to_dirkey = 'launch'\n",
    "nwchem_i.cp_file(file_type,file_key,file_name,from_dirkey,to_dirkey)"
   ]
  },
  {
   "cell_type": "code",
   "execution_count": null,
   "metadata": {
    "collapsed": true
   },
   "outputs": [],
   "source": [
    "file_type = 'templates'\n",
    "file_key = 'nw'\n",
    "file_name = \"nwchem.nw\"\n",
    "from_dirkey = 'templates'\n",
    "to_dirkey = 'launch'\n",
    "nwchem_i.cp_file(file_type,file_key,file_name,from_dirkey,to_dirkey)"
   ]
  },
  {
   "cell_type": "code",
   "execution_count": null,
   "metadata": {
    "collapsed": true
   },
   "outputs": [],
   "source": [
    "nwchem_i.load_str('templates','nw')        \n",
    "nwchem_i.load_str('templates','run')"
   ]
  },
  {
   "cell_type": "code",
   "execution_count": null,
   "metadata": {},
   "outputs": [],
   "source": [
    "nwchem_i.properties['basis'] = '6-31g'\n",
    "nwchem_i.properties['method'] = 'UHF'\n",
    "nwchem_i.properties['charge'] = 0\n",
    "nwchem_i.properties['spin_mult'] = 1\n",
    "nwchem_i.properties['task'] = 'SCF optimize'\n",
    "nwchem_i.properties['coord'] = nwchem_i.strucC.write_coord()"
   ]
  },
  {
   "cell_type": "code",
   "execution_count": null,
   "metadata": {},
   "outputs": [],
   "source": [
    "pprint(nwchem_i.properties)"
   ]
  },
  {
   "cell_type": "code",
   "execution_count": null,
   "metadata": {
    "collapsed": true
   },
   "outputs": [],
   "source": [
    "nwchem_i.replacewrite_prop('nw','input','nw','%s.nw'%(nwchem_i.tag))"
   ]
  },
  {
   "cell_type": "code",
   "execution_count": null,
   "metadata": {},
   "outputs": [],
   "source": [
    "nwchem_i.properties['input_nw'] = nwchem_i.files['input']['nw']\n",
    "nwchem_i.replacewrite_prop('run','scripts','run','%s.pbs'%(nwchem_i.tag))"
   ]
  },
  {
   "cell_type": "code",
   "execution_count": null,
   "metadata": {
    "collapsed": true
   },
   "outputs": [],
   "source": [
    "file_type = 'output'\n",
    "file_key = 'log'\n",
    "file_name = \"%s.log\"%(nwchem_i.tag)\n",
    "nwchem_i.add_file(file_type,file_key,file_name)"
   ]
  },
  {
   "cell_type": "markdown",
   "metadata": {},
   "source": [
    "Save details in .json files "
   ]
  },
  {
   "cell_type": "code",
   "execution_count": null,
   "metadata": {
    "collapsed": true
   },
   "outputs": [],
   "source": [
    "os.chdir(nwchem_i.dir['home'])\n",
    "p3ht_et.dump_json()"
   ]
  },
  {
   "cell_type": "code",
   "execution_count": null,
   "metadata": {
    "collapsed": true
   },
   "outputs": [],
   "source": [
    "os.chdir(nwchem_i.dir['launch'])"
   ]
  },
  {
   "cell_type": "code",
   "execution_count": null,
   "metadata": {
    "collapsed": true
   },
   "outputs": [],
   "source": [
    "nwchem_i.push()"
   ]
  },
  {
   "cell_type": "code",
   "execution_count": null,
   "metadata": {
    "collapsed": true
   },
   "outputs": [],
   "source": [
    "nwchem_i.run()"
   ]
  },
  {
   "cell_type": "markdown",
   "metadata": {},
   "source": [
    "Check status unit finished"
   ]
  },
  {
   "cell_type": "code",
   "execution_count": null,
   "metadata": {},
   "outputs": [],
   "source": [
    "nwchem_i.check()\n",
    "print nwchem_i.meta['status']"
   ]
  },
  {
   "cell_type": "code",
   "execution_count": null,
   "metadata": {},
   "outputs": [],
   "source": [
    "nwchem_i.analysis()"
   ]
  },
  {
   "cell_type": "markdown",
   "metadata": {},
   "source": [
    "Print energies "
   ]
  },
  {
   "cell_type": "code",
   "execution_count": null,
   "metadata": {},
   "outputs": [],
   "source": [
    "print nwchem_i.properties['alpha_energies'][10:20]\n",
    "print nwchem_i.properties['energy']"
   ]
  },
  {
   "cell_type": "markdown",
   "metadata": {},
   "source": [
    "Check that the positions of the structure have been optimized "
   ]
  },
  {
   "cell_type": "code",
   "execution_count": null,
   "metadata": {},
   "outputs": [],
   "source": [
    "for pk,p in bbTh.particles.iteritems():\n",
    "    print pk,p.symbol,bbTh.positions[pk]"
   ]
  },
  {
   "cell_type": "code",
   "execution_count": null,
   "metadata": {},
   "outputs": [],
   "source": [
    "print nwchem_i.strucC.positions"
   ]
  },
  {
   "cell_type": "markdown",
   "metadata": {},
   "source": [
    "Store the results in a tar ball in the storage directory "
   ]
  },
  {
   "cell_type": "code",
   "execution_count": null,
   "metadata": {
    "collapsed": true
   },
   "outputs": [],
   "source": [
    "nwchem_i.store()"
   ]
  },
  {
   "cell_type": "markdown",
   "metadata": {},
   "source": [
    "Now let us calculate the ESP charges to use in our forcefield "
   ]
  },
  {
   "cell_type": "code",
   "execution_count": null,
   "metadata": {
    "collapsed": true
   },
   "outputs": [],
   "source": [
    "nwchem_esp = streamm.NWChem('nw_esp_{}'.format(bbTh.tag))"
   ]
  },
  {
   "cell_type": "markdown",
   "metadata": {},
   "source": [
    "Add thiophene structure with optimized coordinates from previous calculation"
   ]
  },
  {
   "cell_type": "code",
   "execution_count": null,
   "metadata": {
    "collapsed": true
   },
   "outputs": [],
   "source": [
    "nwchem_esp.strucC = copy.deepcopy(nwchem_i.strucC)"
   ]
  },
  {
   "cell_type": "markdown",
   "metadata": {},
   "source": [
    "Set calculation to run on external resource"
   ]
  },
  {
   "cell_type": "code",
   "execution_count": null,
   "metadata": {
    "collapsed": true
   },
   "outputs": [],
   "source": [
    "nwchem_esp.set_resource(peregrine)"
   ]
  },
  {
   "cell_type": "markdown",
   "metadata": {},
   "source": [
    "Add calculation to project"
   ]
  },
  {
   "cell_type": "code",
   "execution_count": null,
   "metadata": {
    "collapsed": true
   },
   "outputs": [],
   "source": [
    "p3ht_et.add_calc(nwchem_esp)"
   ]
  },
  {
   "cell_type": "markdown",
   "metadata": {},
   "source": [
    "Make the local directories "
   ]
  },
  {
   "cell_type": "code",
   "execution_count": null,
   "metadata": {
    "collapsed": true
   },
   "outputs": [],
   "source": [
    "nwchem_esp.make_dir()"
   ]
  },
  {
   "cell_type": "markdown",
   "metadata": {},
   "source": [
    "Change to the `launch` directory"
   ]
  },
  {
   "cell_type": "code",
   "execution_count": null,
   "metadata": {},
   "outputs": [],
   "source": [
    "print nwchem_esp.dir['launch']"
   ]
  },
  {
   "cell_type": "code",
   "execution_count": null,
   "metadata": {
    "collapsed": true
   },
   "outputs": [],
   "source": [
    "os.chdir(nwchem_esp.dir['launch'])"
   ]
  },
  {
   "cell_type": "code",
   "execution_count": null,
   "metadata": {
    "collapsed": true
   },
   "outputs": [],
   "source": [
    "file_type = 'templates'\n",
    "file_key = 'run'\n",
    "file_name = \"nwchem_peregrine.pbs\"\n",
    "from_dirkey = 'templates'\n",
    "to_dirkey = 'launch'\n",
    "nwchem_esp.cp_file(file_type,file_key,file_name,from_dirkey,to_dirkey)"
   ]
  },
  {
   "cell_type": "code",
   "execution_count": null,
   "metadata": {
    "collapsed": true
   },
   "outputs": [],
   "source": [
    "file_type = 'templates'\n",
    "file_key = 'nw'\n",
    "file_name = \"nwchem.nw\"\n",
    "from_dirkey = 'templates'\n",
    "to_dirkey = 'launch'\n",
    "nwchem_esp.cp_file(file_type,file_key,file_name,from_dirkey,to_dirkey)"
   ]
  },
  {
   "cell_type": "code",
   "execution_count": null,
   "metadata": {
    "collapsed": true
   },
   "outputs": [],
   "source": [
    "nwchem_esp.load_str('templates','nw')        \n",
    "nwchem_esp.load_str('templates','run')"
   ]
  },
  {
   "cell_type": "code",
   "execution_count": null,
   "metadata": {
    "collapsed": true
   },
   "outputs": [],
   "source": [
    "nwchem_esp.properties['basis'] = '6-31g'\n",
    "nwchem_esp.properties['method'] = 'UHF'\n",
    "nwchem_esp.properties['charge'] = 0\n",
    "nwchem_esp.properties['spin_mult'] = 1\n",
    "nwchem_esp.properties['task'] = 'esp'\n",
    "nwchem_esp.properties['coord'] = nwchem_esp.strucC.write_coord()"
   ]
  },
  {
   "cell_type": "code",
   "execution_count": null,
   "metadata": {},
   "outputs": [],
   "source": [
    "pprint(nwchem_esp.properties)"
   ]
  },
  {
   "cell_type": "code",
   "execution_count": null,
   "metadata": {
    "collapsed": true
   },
   "outputs": [],
   "source": [
    "nwchem_esp.replacewrite_prop('nw','input','nw','%s.nw'%(nwchem_esp.tag))"
   ]
  },
  {
   "cell_type": "code",
   "execution_count": null,
   "metadata": {
    "collapsed": true
   },
   "outputs": [],
   "source": [
    "nwchem_esp.properties['input_nw'] = nwchem_esp.files['input']['nw']\n",
    "nwchem_esp.replacewrite_prop('run','scripts','run','%s.pbs'%(nwchem_esp.tag))"
   ]
  },
  {
   "cell_type": "code",
   "execution_count": null,
   "metadata": {
    "collapsed": true
   },
   "outputs": [],
   "source": [
    "file_type = 'output'\n",
    "file_key = 'log'\n",
    "file_name = \"%s.log\"%(nwchem_esp.tag)\n",
    "nwchem_esp.add_file(file_type,file_key,file_name)"
   ]
  },
  {
   "cell_type": "markdown",
   "metadata": {},
   "source": [
    "Save details in .json files "
   ]
  },
  {
   "cell_type": "code",
   "execution_count": null,
   "metadata": {
    "collapsed": true
   },
   "outputs": [],
   "source": [
    "os.chdir(nwchem_esp.dir['home'])\n",
    "p3ht_et.dump_json()"
   ]
  },
  {
   "cell_type": "code",
   "execution_count": null,
   "metadata": {
    "collapsed": true
   },
   "outputs": [],
   "source": [
    "os.chdir(nwchem_esp.dir['launch'])"
   ]
  },
  {
   "cell_type": "code",
   "execution_count": null,
   "metadata": {
    "collapsed": true
   },
   "outputs": [],
   "source": [
    "nwchem_esp.push()"
   ]
  },
  {
   "cell_type": "code",
   "execution_count": null,
   "metadata": {
    "collapsed": true
   },
   "outputs": [],
   "source": [
    "nwchem_esp.run()"
   ]
  },
  {
   "cell_type": "markdown",
   "metadata": {},
   "source": [
    "Check status unit finished"
   ]
  },
  {
   "cell_type": "code",
   "execution_count": null,
   "metadata": {},
   "outputs": [],
   "source": [
    "nwchem_esp.check()\n",
    "print nwchem_esp.meta['status']"
   ]
  },
  {
   "cell_type": "code",
   "execution_count": null,
   "metadata": {
    "collapsed": true
   },
   "outputs": [],
   "source": [
    "nwchem_esp.analysis()"
   ]
  },
  {
   "cell_type": "markdown",
   "metadata": {},
   "source": [
    "Print energies "
   ]
  },
  {
   "cell_type": "code",
   "execution_count": null,
   "metadata": {},
   "outputs": [],
   "source": [
    "print nwchem_esp.properties['alpha_energies'][10:20]\n",
    "print nwchem_esp.properties['energy']"
   ]
  },
  {
   "cell_type": "markdown",
   "metadata": {},
   "source": [
    "Check that the positions of the structure have been optimized "
   ]
  },
  {
   "cell_type": "code",
   "execution_count": null,
   "metadata": {},
   "outputs": [],
   "source": [
    "for pk,p in nwchem_esp.strucC.particles.iteritems():\n",
    "    print pk,p.symbol,p.charge"
   ]
  },
  {
   "cell_type": "markdown",
   "metadata": {},
   "source": [
    "Store the results in a tar ball in the storage directory "
   ]
  },
  {
   "cell_type": "code",
   "execution_count": null,
   "metadata": {
    "collapsed": true
   },
   "outputs": [],
   "source": [
    "nwchem_esp.store()"
   ]
  },
  {
   "cell_type": "code",
   "execution_count": null,
   "metadata": {
    "collapsed": true
   },
   "outputs": [],
   "source": [
    "nwchem_esp.pull()"
   ]
  },
  {
   "cell_type": "code",
   "execution_count": null,
   "metadata": {},
   "outputs": [],
   "source": [
    "p3ht_et.check()"
   ]
  },
  {
   "cell_type": "markdown",
   "metadata": {},
   "source": [
    "Build hexane"
   ]
  },
  {
   "cell_type": "code",
   "execution_count": null,
   "metadata": {
    "collapsed": true
   },
   "outputs": [],
   "source": [
    "bbHex = streamm.Buildingblock('hexane')\n",
    "symbols = ['C','H','H','H','C','H','H','C','H','H','C','H','H','C','H','H','C','H','H','H']\n",
    "positions = [ ]\n",
    "positions.append([-6.410969,-0.381641,-0.000031])\n",
    "positions.append([-7.310084,0.245311,-0.000038])\n",
    "positions.append([-6.456117,-1.028799,0.884636])\n",
    "positions.append([-6.456111,-1.028812,-0.884689])\n",
    "positions.append([-5.135268,0.467175,-0.000033])\n",
    "positions.append([-5.135484,1.128782,0.877977])\n",
    "positions.append([-5.135479,1.128771,-0.87805])\n",
    "positions.append([-3.850566,-0.371258,-0.000024])\n",
    "positions.append([-3.85112,-1.033978,0.87841])\n",
    "positions.append([-3.851114,-1.033987,-0.878451])\n",
    "positions.append([-2.567451,0.469603,-0.000024])\n",
    "positions.append([-2.567784,1.132155,0.8784])\n",
    "positions.append([-2.567776,1.132146,-0.878455])\n",
    "positions.append([-1.283527,-0.370234,-0.000013])\n",
    "positions.append([-1.28337,-1.032804,0.87836])\n",
    "positions.append([-1.28336,-1.032812,-0.87838])\n",
    "positions.append([0.00482234,0.47342231,-0.00000898])\n",
    "positions.append([0.02595107,1.09220686,0.87266464])\n",
    "positions.append([0.85585781,-0.17514133,0.00194589])\n",
    "positions.append([0.02780957,1.08937798,-0.87463473])\n",
    "for i in range(len(symbols)):\n",
    "    pt_i = streamm.Particle(symbol=symbols[i])\n",
    "    pos_i = positions[i]\n",
    "    bbHex.add_partpos(pt_i,pos_i)"
   ]
  },
  {
   "cell_type": "code",
   "execution_count": null,
   "metadata": {
    "collapsed": true
   },
   "outputs": [],
   "source": [
    "bbHex.particles[0].rsite = 'rg'\n",
    "bbHex.particles[1].rsite = 'rgcap'"
   ]
  },
  {
   "cell_type": "code",
   "execution_count": null,
   "metadata": {
    "collapsed": true
   },
   "outputs": [],
   "source": [
    "c_cnt =1\n",
    "h_cnt =1\n",
    "for pkey_i, particle_i  in bbHex.particles.iteritems():\n",
    "            if( particle_i.symbol == 'C' ):\n",
    "                particle_i.label = \"C%d\"%(c_cnt)\n",
    "                particle_i.resname = \"SCP3\"\n",
    "                particle_i.residue = c_cnt\n",
    "                c_cnt +=1 \n",
    "            if( particle_i.symbol == 'H' ):\n",
    "                particle_i.label = \"H%d\"%(h_cnt)\n",
    "                particle_i.resname = \"HC\"\n",
    "                particle_i.residue = c_cnt -1 \n",
    "                h_cnt +=1 "
   ]
  },
  {
   "cell_type": "markdown",
   "metadata": {},
   "source": [
    "Set the parameter keys and some reasonable atomic charges "
   ]
  },
  {
   "cell_type": "code",
   "execution_count": null,
   "metadata": {},
   "outputs": [],
   "source": [
    "for pkey_i, particle_i  in bbHex.particles.iteritems():\n",
    "            if( particle_i.symbol == 'C' ):\n",
    "                particle_i.paramkey = 'CT'\n",
    "                particle_i.charge = -0.12\n",
    "\n",
    "            if( particle_i.symbol == 'H' ):\n",
    "                particle_i.paramkey = 'HC'\n",
    "                particle_i.charge = 0.06\n",
    "            print pkey_i, particle_i.symbol,particle_i.charge"
   ]
  },
  {
   "cell_type": "code",
   "execution_count": null,
   "metadata": {
    "collapsed": true
   },
   "outputs": [],
   "source": [
    "bbHex.particles[0].charge  = -0.18\n",
    "bbHex.particles[16].charge  = -0.18"
   ]
  },
  {
   "cell_type": "code",
   "execution_count": null,
   "metadata": {
    "collapsed": true
   },
   "outputs": [],
   "source": [
    "total_charge = 0.0\n",
    "for pkey_i, particle_i  in bbHex.particles.iteritems():\n",
    "            total_charge += particle_i.charge "
   ]
  },
  {
   "cell_type": "markdown",
   "metadata": {},
   "source": [
    "Check that the molecule is neutral "
   ]
  },
  {
   "cell_type": "code",
   "execution_count": null,
   "metadata": {},
   "outputs": [],
   "source": [
    "print total_charge"
   ]
  },
  {
   "cell_type": "markdown",
   "metadata": {},
   "source": [
    "Now let us optimze and calculate ESP charges for hexane"
   ]
  },
  {
   "cell_type": "markdown",
   "metadata": {},
   "source": [
    "Optimize structure with NWChem"
   ]
  },
  {
   "cell_type": "markdown",
   "metadata": {},
   "source": [
    "But let's put it in a function this time"
   ]
  },
  {
   "cell_type": "code",
   "execution_count": null,
   "metadata": {
    "collapsed": true
   },
   "outputs": [],
   "source": [
    "def nw_opt(project_i,bb_i):\n",
    "    '''Optimize a streamm Buildingblock object with nwchem \n",
    "    \n",
    "    '''\n",
    "    nwchem_i = streamm.NWChem('nw_opt_{}'.format(bb_i.tag))\n",
    "    print nwchem_i.tag \n",
    "    # Add thiophene structure \n",
    "    nwchem_i.strucC = copy.deepcopy(bb_i)\n",
    "    # Set calculation to run on external resource\n",
    "    nwchem_i.set_resource(peregrine)\n",
    "    # Make the local directories \n",
    "    nwchem_i.make_dir()\n",
    "    #Change to the `launch` directory\n",
    "    os.chdir(nwchem_i.dir['launch'])\n",
    "    # Copy over templates\n",
    "    nwchem_i.cp_file('templates','run',\"nwchem_peregrine.pbs\",'templates','launch')\n",
    "    nwchem_i.cp_file('templates','nw',\"nwchem.nw\",'templates','launch')\n",
    "    # Read in templates files \n",
    "    nwchem_i.load_str('templates','nw')        \n",
    "    nwchem_i.load_str('templates','run')\n",
    "    # Set calculation properties \n",
    "    nwchem_i.properties['basis'] = '6-31g'\n",
    "    nwchem_i.properties['method'] = 'UHF'\n",
    "    nwchem_i.properties['charge'] = 0\n",
    "    nwchem_i.properties['spin_mult'] = 1\n",
    "    nwchem_i.properties['task'] = 'SCF optimize'\n",
    "    nwchem_i.properties['coord'] = nwchem_i.strucC.write_coord()\n",
    "    # \n",
    "    pprint(nwchem_i.properties)\n",
    "    # Replace <key> with properties value \n",
    "    nwchem_i.replacewrite_prop('nw','input','nw','%s.nw'%(nwchem_i.tag))\n",
    "    nwchem_i.properties['input_nw'] = nwchem_i.files['input']['nw']\n",
    "    nwchem_i.replacewrite_prop('run','scripts','run','%s.pbs'%(nwchem_i.tag))\n",
    "    #\n",
    "    nwchem_i.add_file('output','log',\"%s.log\"%(nwchem_i.tag))\n",
    "    # Save details in .json files \n",
    "    os.chdir(nwchem_i.dir['home'])\n",
    "    p3ht_et.dump_json()\n",
    "    # \n",
    "    os.chdir(nwchem_i.dir['launch'])\n",
    "    # \n",
    "    nwchem_i.push()\n",
    "    # \n",
    "    nwchem_i.run()\n",
    "    # Add calculation to project\n",
    "    project_i.add_calc(nwchem_i,deepcopy = True)\n",
    "    # \n",
    "    return project_i "
   ]
  },
  {
   "cell_type": "code",
   "execution_count": null,
   "metadata": {},
   "outputs": [],
   "source": [
    "p3ht_et = nw_opt(p3ht_et,bbHex)"
   ]
  },
  {
   "cell_type": "code",
   "execution_count": null,
   "metadata": {},
   "outputs": [],
   "source": [
    "p3ht_et.check()"
   ]
  },
  {
   "cell_type": "markdown",
   "metadata": {},
   "source": [
    "Get the calculation from the project object "
   ]
  },
  {
   "cell_type": "code",
   "execution_count": null,
   "metadata": {},
   "outputs": [],
   "source": [
    "del p3ht_et.calculations['nw_opt_hexane']"
   ]
  },
  {
   "cell_type": "code",
   "execution_count": null,
   "metadata": {
    "collapsed": true
   },
   "outputs": [],
   "source": [
    "nw_hex_opt = p3ht_et.calculations['nw_opt_hexane']"
   ]
  },
  {
   "cell_type": "code",
   "execution_count": null,
   "metadata": {
    "collapsed": true
   },
   "outputs": [],
   "source": [
    "nw_hex_opt.analysis()"
   ]
  },
  {
   "cell_type": "markdown",
   "metadata": {},
   "source": [
    "Print energies "
   ]
  },
  {
   "cell_type": "code",
   "execution_count": null,
   "metadata": {},
   "outputs": [],
   "source": [
    "print nw_hex_opt.properties['alpha_energies'][10:20]\n",
    "print nw_hex_opt.properties['energy']"
   ]
  },
  {
   "cell_type": "markdown",
   "metadata": {},
   "source": [
    "Check that the positions of the structure have been optimized "
   ]
  },
  {
   "cell_type": "code",
   "execution_count": null,
   "metadata": {},
   "outputs": [],
   "source": [
    "for pk,p in bbHex.particles.iteritems():\n",
    "    print pk,p.symbol,bbHex.positions[pk]"
   ]
  },
  {
   "cell_type": "code",
   "execution_count": null,
   "metadata": {},
   "outputs": [],
   "source": [
    "print nw_hex_opt.strucC.positions"
   ]
  },
  {
   "cell_type": "markdown",
   "metadata": {},
   "source": [
    "Store the results in a tar ball in the storage directory "
   ]
  },
  {
   "cell_type": "code",
   "execution_count": null,
   "metadata": {
    "collapsed": true
   },
   "outputs": [],
   "source": [
    "nwchem_i.store()"
   ]
  },
  {
   "cell_type": "markdown",
   "metadata": {},
   "source": [
    "Now let us calculate the ESP charges to use in our forcefield "
   ]
  },
  {
   "cell_type": "code",
   "execution_count": null,
   "metadata": {
    "collapsed": true
   },
   "outputs": [],
   "source": [
    "nwchem_esp = streamm.NWChem('nw_esp_{}'.format(bbTh.tag))"
   ]
  },
  {
   "cell_type": "markdown",
   "metadata": {},
   "source": [
    "Add thiophene structure with optimized coordinates from previous calculation"
   ]
  },
  {
   "cell_type": "code",
   "execution_count": null,
   "metadata": {
    "collapsed": true
   },
   "outputs": [],
   "source": [
    "nwchem_esp.strucC = copy.deepcopy(nwchem_i.strucC)"
   ]
  },
  {
   "cell_type": "markdown",
   "metadata": {},
   "source": [
    "Set calculation to run on external resource"
   ]
  },
  {
   "cell_type": "code",
   "execution_count": null,
   "metadata": {
    "collapsed": true
   },
   "outputs": [],
   "source": [
    "nwchem_esp.set_resource(peregrine)"
   ]
  },
  {
   "cell_type": "markdown",
   "metadata": {},
   "source": [
    "Add calculation to project"
   ]
  },
  {
   "cell_type": "code",
   "execution_count": null,
   "metadata": {
    "collapsed": true
   },
   "outputs": [],
   "source": [
    "p3ht_et.add_calc(nwchem_esp)"
   ]
  },
  {
   "cell_type": "markdown",
   "metadata": {},
   "source": [
    "Make the local directories "
   ]
  },
  {
   "cell_type": "code",
   "execution_count": null,
   "metadata": {
    "collapsed": true
   },
   "outputs": [],
   "source": [
    "nwchem_esp.make_dir()"
   ]
  },
  {
   "cell_type": "markdown",
   "metadata": {},
   "source": [
    "Change to the `launch` directory"
   ]
  },
  {
   "cell_type": "code",
   "execution_count": null,
   "metadata": {},
   "outputs": [],
   "source": [
    "print nwchem_esp.dir['launch']"
   ]
  },
  {
   "cell_type": "code",
   "execution_count": null,
   "metadata": {
    "collapsed": true
   },
   "outputs": [],
   "source": [
    "os.chdir(nwchem_esp.dir['launch'])"
   ]
  },
  {
   "cell_type": "code",
   "execution_count": null,
   "metadata": {
    "collapsed": true
   },
   "outputs": [],
   "source": [
    "file_type = 'templates'\n",
    "file_key = 'run'\n",
    "file_name = \"nwchem_peregrine.pbs\"\n",
    "from_dirkey = 'templates'\n",
    "to_dirkey = 'launch'\n",
    "nwchem_esp.cp_file(file_type,file_key,file_name,from_dirkey,to_dirkey)"
   ]
  },
  {
   "cell_type": "code",
   "execution_count": null,
   "metadata": {
    "collapsed": true
   },
   "outputs": [],
   "source": [
    "file_type = 'templates'\n",
    "file_key = 'nw'\n",
    "file_name = \"nwchem.nw\"\n",
    "from_dirkey = 'templates'\n",
    "to_dirkey = 'launch'\n",
    "nwchem_esp.cp_file(file_type,file_key,file_name,from_dirkey,to_dirkey)"
   ]
  },
  {
   "cell_type": "code",
   "execution_count": null,
   "metadata": {
    "collapsed": true
   },
   "outputs": [],
   "source": [
    "nwchem_esp.load_str('templates','nw')        \n",
    "nwchem_esp.load_str('templates','run')"
   ]
  },
  {
   "cell_type": "code",
   "execution_count": null,
   "metadata": {
    "collapsed": true
   },
   "outputs": [],
   "source": [
    "nwchem_esp.properties['basis'] = '6-31g'\n",
    "nwchem_esp.properties['method'] = 'UHF'\n",
    "nwchem_esp.properties['charge'] = 0\n",
    "nwchem_esp.properties['spin_mult'] = 1\n",
    "nwchem_esp.properties['task'] = 'esp'\n",
    "nwchem_esp.properties['coord'] = nwchem_esp.strucC.write_coord()"
   ]
  },
  {
   "cell_type": "code",
   "execution_count": null,
   "metadata": {},
   "outputs": [],
   "source": [
    "pprint(nwchem_esp.properties)"
   ]
  },
  {
   "cell_type": "code",
   "execution_count": null,
   "metadata": {
    "collapsed": true
   },
   "outputs": [],
   "source": [
    "nwchem_esp.replacewrite_prop('nw','input','nw','%s.nw'%(nwchem_esp.tag))"
   ]
  },
  {
   "cell_type": "code",
   "execution_count": null,
   "metadata": {
    "collapsed": true
   },
   "outputs": [],
   "source": [
    "nwchem_esp.properties['input_nw'] = nwchem_esp.files['input']['nw']\n",
    "nwchem_esp.replacewrite_prop('run','scripts','run','%s.pbs'%(nwchem_esp.tag))"
   ]
  },
  {
   "cell_type": "code",
   "execution_count": null,
   "metadata": {
    "collapsed": true
   },
   "outputs": [],
   "source": [
    "file_type = 'output'\n",
    "file_key = 'log'\n",
    "file_name = \"%s.log\"%(nwchem_esp.tag)\n",
    "nwchem_esp.add_file(file_type,file_key,file_name)"
   ]
  },
  {
   "cell_type": "markdown",
   "metadata": {},
   "source": [
    "Save details in .json files "
   ]
  },
  {
   "cell_type": "code",
   "execution_count": null,
   "metadata": {
    "collapsed": true
   },
   "outputs": [],
   "source": [
    "os.chdir(nwchem_esp.dir['home'])\n",
    "p3ht_et.dump_json()"
   ]
  },
  {
   "cell_type": "code",
   "execution_count": null,
   "metadata": {
    "collapsed": true
   },
   "outputs": [],
   "source": [
    "os.chdir(nwchem_esp.dir['launch'])"
   ]
  },
  {
   "cell_type": "code",
   "execution_count": null,
   "metadata": {
    "collapsed": true
   },
   "outputs": [],
   "source": [
    "nwchem_esp.push()"
   ]
  },
  {
   "cell_type": "code",
   "execution_count": null,
   "metadata": {
    "collapsed": true
   },
   "outputs": [],
   "source": [
    "nwchem_esp.run()"
   ]
  },
  {
   "cell_type": "markdown",
   "metadata": {},
   "source": [
    "Check status unit finished"
   ]
  },
  {
   "cell_type": "code",
   "execution_count": null,
   "metadata": {},
   "outputs": [],
   "source": [
    "nwchem_esp.check()\n",
    "print nwchem_esp.meta['status']"
   ]
  },
  {
   "cell_type": "code",
   "execution_count": null,
   "metadata": {
    "collapsed": true
   },
   "outputs": [],
   "source": [
    "nwchem_esp.analysis()"
   ]
  },
  {
   "cell_type": "markdown",
   "metadata": {},
   "source": [
    "Print energies "
   ]
  },
  {
   "cell_type": "code",
   "execution_count": null,
   "metadata": {},
   "outputs": [],
   "source": [
    "print nwchem_esp.properties['alpha_energies'][10:20]\n",
    "print nwchem_esp.properties['energy']"
   ]
  },
  {
   "cell_type": "markdown",
   "metadata": {},
   "source": [
    "Check that the positions of the structure have been optimized "
   ]
  },
  {
   "cell_type": "code",
   "execution_count": null,
   "metadata": {},
   "outputs": [],
   "source": [
    "for pk,p in nwchem_esp.strucC.particles.iteritems():\n",
    "    print pk,p.symbol,p.charge"
   ]
  },
  {
   "cell_type": "markdown",
   "metadata": {},
   "source": [
    "Store the results in a tar ball in the storage directory "
   ]
  },
  {
   "cell_type": "code",
   "execution_count": null,
   "metadata": {
    "collapsed": true
   },
   "outputs": [],
   "source": [
    "nwchem_esp.store()"
   ]
  },
  {
   "cell_type": "code",
   "execution_count": null,
   "metadata": {
    "collapsed": true
   },
   "outputs": [],
   "source": [
    "nwchem_esp.pull()"
   ]
  },
  {
   "cell_type": "code",
   "execution_count": null,
   "metadata": {},
   "outputs": [],
   "source": [
    "p3ht_et.check()"
   ]
  },
  {
   "cell_type": "code",
   "execution_count": null,
   "metadata": {
    "collapsed": true
   },
   "outputs": [],
   "source": []
  },
  {
   "cell_type": "code",
   "execution_count": null,
   "metadata": {
    "collapsed": true
   },
   "outputs": [],
   "source": []
  },
  {
   "cell_type": "code",
   "execution_count": null,
   "metadata": {
    "collapsed": true
   },
   "outputs": [],
   "source": []
  },
  {
   "cell_type": "markdown",
   "metadata": {},
   "source": [
    "Looks good let's set up some calculations"
   ]
  },
  {
   "cell_type": "code",
   "execution_count": null,
   "metadata": {
    "collapsed": true
   },
   "outputs": [],
   "source": [
    "calc_i = streamm.Gaussian('g_methane_HF')"
   ]
  },
  {
   "cell_type": "code",
   "execution_count": null,
   "metadata": {
    "collapsed": true
   },
   "outputs": [],
   "source": [
    "Methane_example.add_calc(calc_i) # Add it to the project "
   ]
  },
  {
   "cell_type": "code",
   "execution_count": null,
   "metadata": {
    "collapsed": true
   },
   "outputs": [],
   "source": [
    "calc_i.strucC = ME               # set the strucC to the structure container "
   ]
  },
  {
   "cell_type": "code",
   "execution_count": null,
   "metadata": {
    "collapsed": true
   },
   "outputs": [],
   "source": [
    "print calc_i.tag"
   ]
  },
  {
   "cell_type": "markdown",
   "metadata": {},
   "source": [
    "Let's use the remote resource to run this calculation "
   ]
  },
  {
   "cell_type": "code",
   "execution_count": null,
   "metadata": {
    "collapsed": true
   },
   "outputs": [],
   "source": [
    "calc_i.set_resource(peregrine)"
   ]
  },
  {
   "cell_type": "markdown",
   "metadata": {},
   "source": [
    "* home : directory is the root directory for the calculation/project\n",
    "* template : directory of template input and run files to be modified to run the calculation \n",
    "* materials : directory to store structure files (.xyz) \n",
    "* launch : directory to temporarly store files before they are copied to the remote resouce \n",
    "* scratch : directory to run the calculation\n",
    "* storage : directory to store completed calculation data"
   ]
  },
  {
   "cell_type": "code",
   "execution_count": null,
   "metadata": {
    "collapsed": true
   },
   "outputs": [],
   "source": [
    "pprint(calc_i.dir)"
   ]
  },
  {
   "cell_type": "code",
   "execution_count": null,
   "metadata": {
    "collapsed": true
   },
   "outputs": [],
   "source": [
    "calc_i.make_dir()"
   ]
  },
  {
   "cell_type": "code",
   "execution_count": null,
   "metadata": {
    "collapsed": true
   },
   "outputs": [],
   "source": [
    "print calc_i.dir['launch']"
   ]
  },
  {
   "cell_type": "code",
   "execution_count": null,
   "metadata": {
    "collapsed": true
   },
   "outputs": [],
   "source": [
    "os.chdir(calc_i.dir['launch'])"
   ]
  },
  {
   "cell_type": "code",
   "execution_count": null,
   "metadata": {
    "collapsed": true
   },
   "outputs": [],
   "source": [
    "file_type = 'templates'\n",
    "file_key = 'run'\n",
    "file_name = \"gaussian_peregrine2.pbs\"\n",
    "from_dirkey = 'templates'\n",
    "to_dirkey = 'launch'\n",
    "calc_i.cp_file(file_type,file_key,file_name,from_dirkey,to_dirkey)"
   ]
  },
  {
   "cell_type": "code",
   "execution_count": null,
   "metadata": {
    "collapsed": true
   },
   "outputs": [],
   "source": [
    "file_type = 'templates'\n",
    "file_key = 'com'\n",
    "file_name = \"gaussian.com\"\n",
    "from_dirkey = 'templates'\n",
    "to_dirkey = 'launch'\n",
    "calc_i.cp_file(file_type,file_key,file_name,from_dirkey,to_dirkey)"
   ]
  },
  {
   "cell_type": "code",
   "execution_count": null,
   "metadata": {
    "collapsed": true
   },
   "outputs": [],
   "source": [
    "calc_i.load_str('templates','com')        \n",
    "calc_i.load_str('templates','run')"
   ]
  },
  {
   "cell_type": "code",
   "execution_count": null,
   "metadata": {
    "collapsed": true
   },
   "outputs": [],
   "source": [
    "calc_i.properties['commands'] = 'HF/3-21G SP'\n",
    "calc_i.properties['charge'] = 0\n",
    "calc_i.properties['spin_mult'] = 1\n",
    "calc_i.properties['coord'] = calc_i.strucC.write_coord()"
   ]
  },
  {
   "cell_type": "code",
   "execution_count": null,
   "metadata": {
    "collapsed": true
   },
   "outputs": [],
   "source": [
    "calc_i.replacewrite_prop('com','input','com','%s.com'%(calc_i.tag))"
   ]
  },
  {
   "cell_type": "code",
   "execution_count": null,
   "metadata": {
    "collapsed": true
   },
   "outputs": [],
   "source": [
    "calc_i.properties['input_com'] = calc_i.files['input']['com']\n",
    "calc_i.replacewrite_prop('run','scripts','run','%s.pbs'%(calc_i.tag))"
   ]
  },
  {
   "cell_type": "code",
   "execution_count": null,
   "metadata": {
    "collapsed": true
   },
   "outputs": [],
   "source": [
    "file_type = 'output'\n",
    "file_key = 'log'\n",
    "file_name = \"%s.log\"%(calc_i.tag)\n",
    "calc_i.add_file(file_type,file_key,file_name)"
   ]
  },
  {
   "cell_type": "code",
   "execution_count": null,
   "metadata": {
    "collapsed": true
   },
   "outputs": [],
   "source": [
    "file_type = 'output'\n",
    "file_key = 'fchk'\n",
    "file_name = \"%s.fchk\"%(calc_i.tag)\n",
    "calc_i.add_file(file_type,file_key,file_name)"
   ]
  },
  {
   "cell_type": "markdown",
   "metadata": {},
   "source": [
    "Save details in .json files "
   ]
  },
  {
   "cell_type": "code",
   "execution_count": null,
   "metadata": {
    "collapsed": true
   },
   "outputs": [],
   "source": [
    "os.chdir(calc_i.dir['home'])\n",
    "Methane_example.dump_json()"
   ]
  },
  {
   "cell_type": "code",
   "execution_count": null,
   "metadata": {
    "collapsed": true
   },
   "outputs": [],
   "source": [
    "os.chdir(calc_i.dir['launch'])"
   ]
  },
  {
   "cell_type": "code",
   "execution_count": null,
   "metadata": {
    "collapsed": true
   },
   "outputs": [],
   "source": [
    "calc_i.push()"
   ]
  },
  {
   "cell_type": "code",
   "execution_count": null,
   "metadata": {
    "collapsed": true
   },
   "outputs": [],
   "source": [
    "calc_i.run()"
   ]
  },
  {
   "cell_type": "markdown",
   "metadata": {},
   "source": [
    "Cool. While that is in the queue let's setup some more jobs"
   ]
  },
  {
   "cell_type": "markdown",
   "metadata": {},
   "source": [
    "Let's also run a NWChem calculation"
   ]
  },
  {
   "cell_type": "code",
   "execution_count": null,
   "metadata": {
    "collapsed": true
   },
   "outputs": [],
   "source": [
    "nwchem_i = streamm.NWChem('nw_methane_HF')"
   ]
  },
  {
   "cell_type": "code",
   "execution_count": null,
   "metadata": {
    "collapsed": true
   },
   "outputs": [],
   "source": [
    "Methane_example.add_calc(nwchem_i)"
   ]
  },
  {
   "cell_type": "code",
   "execution_count": null,
   "metadata": {
    "collapsed": true
   },
   "outputs": [],
   "source": [
    "nwchem_i.strucC = ME"
   ]
  },
  {
   "cell_type": "code",
   "execution_count": null,
   "metadata": {
    "collapsed": true
   },
   "outputs": [],
   "source": [
    "print nwchem_i.tag"
   ]
  },
  {
   "cell_type": "code",
   "execution_count": null,
   "metadata": {
    "collapsed": true
   },
   "outputs": [],
   "source": [
    "nwchem_i.set_resource(peregrine)"
   ]
  },
  {
   "cell_type": "code",
   "execution_count": null,
   "metadata": {
    "collapsed": true
   },
   "outputs": [],
   "source": [
    "pprint(nwchem_i.properties['scratch'])"
   ]
  },
  {
   "cell_type": "code",
   "execution_count": null,
   "metadata": {
    "collapsed": true
   },
   "outputs": [],
   "source": [
    "nwchem_i.make_dir()"
   ]
  },
  {
   "cell_type": "code",
   "execution_count": null,
   "metadata": {
    "collapsed": true
   },
   "outputs": [],
   "source": [
    "print nwchem_i.dir['launch']"
   ]
  },
  {
   "cell_type": "code",
   "execution_count": null,
   "metadata": {
    "collapsed": true
   },
   "outputs": [],
   "source": [
    "os.chdir(nwchem_i.dir['launch'])"
   ]
  },
  {
   "cell_type": "code",
   "execution_count": null,
   "metadata": {
    "collapsed": true
   },
   "outputs": [],
   "source": [
    "file_type = 'templates'\n",
    "file_key = 'run'\n",
    "file_name = \"nwchem_peregrine.pbs\"\n",
    "from_dirkey = 'templates'\n",
    "to_dirkey = 'launch'\n",
    "nwchem_i.cp_file(file_type,file_key,file_name,from_dirkey,to_dirkey)"
   ]
  },
  {
   "cell_type": "code",
   "execution_count": null,
   "metadata": {
    "collapsed": true
   },
   "outputs": [],
   "source": [
    "file_type = 'templates'\n",
    "file_key = 'nw'\n",
    "file_name = \"nwchem.nw\"\n",
    "from_dirkey = 'templates'\n",
    "to_dirkey = 'launch'\n",
    "nwchem_i.cp_file(file_type,file_key,file_name,from_dirkey,to_dirkey)"
   ]
  },
  {
   "cell_type": "code",
   "execution_count": null,
   "metadata": {
    "collapsed": true
   },
   "outputs": [],
   "source": [
    "nwchem_i.load_str('templates','nw')        \n",
    "nwchem_i.load_str('templates','run')"
   ]
  },
  {
   "cell_type": "code",
   "execution_count": null,
   "metadata": {
    "collapsed": true
   },
   "outputs": [],
   "source": [
    "nwchem_i.properties['basis'] = '6-31g'\n",
    "nwchem_i.properties['method'] = 'UHF'\n",
    "nwchem_i.properties['charge'] = 0\n",
    "nwchem_i.properties['spin_mult'] = 1\n",
    "nwchem_opt.properties['task'] = 'SCF '\n",
    "nwchem_i.properties['coord'] = nwchem_i.strucC.write_coord()"
   ]
  },
  {
   "cell_type": "code",
   "execution_count": null,
   "metadata": {
    "collapsed": true
   },
   "outputs": [],
   "source": [
    "pprint(nwchem_i.properties)"
   ]
  },
  {
   "cell_type": "code",
   "execution_count": null,
   "metadata": {
    "collapsed": true
   },
   "outputs": [],
   "source": [
    "nwchem_i.replacewrite_prop('nw','input','nw','%s.nw'%(nwchem_i.tag))"
   ]
  },
  {
   "cell_type": "code",
   "execution_count": null,
   "metadata": {
    "collapsed": true
   },
   "outputs": [],
   "source": [
    "nwchem_i.properties['input_nw'] = nwchem_i.files['input']['nw']\n",
    "nwchem_i.replacewrite_prop('run','scripts','run','%s.pbs'%(nwchem_i.tag))"
   ]
  },
  {
   "cell_type": "code",
   "execution_count": null,
   "metadata": {
    "collapsed": true
   },
   "outputs": [],
   "source": [
    "file_type = 'output'\n",
    "file_key = 'log'\n",
    "file_name = \"%s.log\"%(nwchem_i.tag)\n",
    "nwchem_i.add_file(file_type,file_key,file_name)"
   ]
  },
  {
   "cell_type": "markdown",
   "metadata": {},
   "source": [
    "Save details in .json files "
   ]
  },
  {
   "cell_type": "code",
   "execution_count": null,
   "metadata": {
    "collapsed": true
   },
   "outputs": [],
   "source": [
    "os.chdir(nwchem_i.dir['home'])\n",
    "Methane_example.dump_json()"
   ]
  },
  {
   "cell_type": "code",
   "execution_count": null,
   "metadata": {
    "collapsed": true
   },
   "outputs": [],
   "source": [
    "os.chdir(nwchem_i.dir['launch'])"
   ]
  },
  {
   "cell_type": "code",
   "execution_count": null,
   "metadata": {
    "collapsed": true
   },
   "outputs": [],
   "source": [
    "nwchem_i.push()"
   ]
  },
  {
   "cell_type": "code",
   "execution_count": null,
   "metadata": {
    "collapsed": true
   },
   "outputs": [],
   "source": [
    "nwchem_i.run()"
   ]
  },
  {
   "cell_type": "markdown",
   "metadata": {},
   "source": [
    "Okay we have a couple "
   ]
  },
  {
   "cell_type": "code",
   "execution_count": null,
   "metadata": {
    "collapsed": true
   },
   "outputs": [],
   "source": [
    "Methane_example.check()"
   ]
  },
  {
   "cell_type": "code",
   "execution_count": null,
   "metadata": {
    "collapsed": true
   },
   "outputs": [],
   "source": [
    "nwchem_i.analysis()"
   ]
  },
  {
   "cell_type": "code",
   "execution_count": null,
   "metadata": {
    "collapsed": true
   },
   "outputs": [],
   "source": [
    "print nwchem_i.properties['alpha_energies']"
   ]
  },
  {
   "cell_type": "code",
   "execution_count": null,
   "metadata": {
    "collapsed": true
   },
   "outputs": [],
   "source": [
    "print nwchem_i.properties['N_alpha_occ']"
   ]
  },
  {
   "cell_type": "code",
   "execution_count": null,
   "metadata": {
    "collapsed": true
   },
   "outputs": [],
   "source": [
    "Methane_example.store()"
   ]
  },
  {
   "cell_type": "code",
   "execution_count": null,
   "metadata": {
    "collapsed": true
   },
   "outputs": [],
   "source": [
    "Methane_example.pull()"
   ]
  },
  {
   "cell_type": "code",
   "execution_count": null,
   "metadata": {
    "collapsed": true
   },
   "outputs": [],
   "source": [
    "os.chdir(nwchem_i.dir['home'])\n",
    "Methane_example.dump_json()"
   ]
  },
  {
   "cell_type": "markdown",
   "metadata": {},
   "source": [
    "Neat!"
   ]
  },
  {
   "cell_type": "markdown",
   "metadata": {},
   "source": [
    "Now let's optimize the structure and calculate the ESP charges"
   ]
  },
  {
   "cell_type": "code",
   "execution_count": null,
   "metadata": {
    "collapsed": true
   },
   "outputs": [],
   "source": [
    "nwchem_opt = streamm.NWChem('nw_methane_OPT')"
   ]
  },
  {
   "cell_type": "code",
   "execution_count": null,
   "metadata": {
    "collapsed": true
   },
   "outputs": [],
   "source": [
    "Methane_example.add_calc(nwchem_opt)"
   ]
  },
  {
   "cell_type": "code",
   "execution_count": null,
   "metadata": {
    "collapsed": true
   },
   "outputs": [],
   "source": [
    "nwchem_opt.strucC = ME"
   ]
  },
  {
   "cell_type": "code",
   "execution_count": null,
   "metadata": {
    "collapsed": true
   },
   "outputs": [],
   "source": [
    "print nwchem_opt.tag"
   ]
  },
  {
   "cell_type": "code",
   "execution_count": null,
   "metadata": {
    "collapsed": true
   },
   "outputs": [],
   "source": [
    "nwchem_opt.set_resource(peregrine)"
   ]
  },
  {
   "cell_type": "code",
   "execution_count": null,
   "metadata": {
    "collapsed": true
   },
   "outputs": [],
   "source": [
    "pprint(nwchem_opt.properties['scratch'])"
   ]
  },
  {
   "cell_type": "code",
   "execution_count": null,
   "metadata": {
    "collapsed": true
   },
   "outputs": [],
   "source": [
    "nwchem_opt.make_dir()"
   ]
  },
  {
   "cell_type": "code",
   "execution_count": null,
   "metadata": {
    "collapsed": true
   },
   "outputs": [],
   "source": [
    "print nwchem_opt.dir['launch']"
   ]
  },
  {
   "cell_type": "code",
   "execution_count": null,
   "metadata": {
    "collapsed": true
   },
   "outputs": [],
   "source": [
    "os.chdir(nwchem_opt.dir['launch'])"
   ]
  },
  {
   "cell_type": "code",
   "execution_count": null,
   "metadata": {
    "collapsed": true
   },
   "outputs": [],
   "source": [
    "file_type = 'templates'\n",
    "file_key = 'run'\n",
    "file_name = \"nwchem_peregrine.pbs\"\n",
    "from_dirkey = 'templates'\n",
    "to_dirkey = 'launch'\n",
    "nwchem_opt.cp_file(file_type,file_key,file_name,from_dirkey,to_dirkey)"
   ]
  },
  {
   "cell_type": "code",
   "execution_count": null,
   "metadata": {
    "collapsed": true
   },
   "outputs": [],
   "source": [
    "file_type = 'templates'\n",
    "file_key = 'nw'\n",
    "file_name = \"nwchem.nw\"\n",
    "from_dirkey = 'templates'\n",
    "to_dirkey = 'launch'\n",
    "nwchem_opt.cp_file(file_type,file_key,file_name,from_dirkey,to_dirkey)"
   ]
  },
  {
   "cell_type": "code",
   "execution_count": null,
   "metadata": {
    "collapsed": true
   },
   "outputs": [],
   "source": [
    "nwchem_opt.load_str('templates','nw')        \n",
    "nwchem_opt.load_str('templates','run')"
   ]
  },
  {
   "cell_type": "code",
   "execution_count": null,
   "metadata": {
    "collapsed": true
   },
   "outputs": [],
   "source": [
    "nwchem_opt.properties['basis'] = '6-31g'\n",
    "nwchem_opt.properties['method'] = 'UHF'\n",
    "nwchem_opt.properties['charge'] = 0\n",
    "nwchem_opt.properties['spin_mult'] = 1\n",
    "nwchem_opt.properties['task'] = 'SCF optimize'\n",
    "nwchem_opt.properties['coord'] = nwchem_opt.strucC.write_coord()"
   ]
  },
  {
   "cell_type": "code",
   "execution_count": null,
   "metadata": {
    "collapsed": true
   },
   "outputs": [],
   "source": [
    "pprint(nwchem_opt.properties)"
   ]
  },
  {
   "cell_type": "code",
   "execution_count": null,
   "metadata": {
    "collapsed": true
   },
   "outputs": [],
   "source": [
    "nwchem_opt.replacewrite_prop('nw','input','nw','%s.nw'%(nwchem_opt.tag))"
   ]
  },
  {
   "cell_type": "code",
   "execution_count": null,
   "metadata": {
    "collapsed": true
   },
   "outputs": [],
   "source": [
    "nwchem_opt.properties['input_nw'] = nwchem_opt.files['input']['nw']\n",
    "nwchem_opt.replacewrite_prop('run','scripts','run','%s.pbs'%(nwchem_opt.tag))"
   ]
  },
  {
   "cell_type": "code",
   "execution_count": null,
   "metadata": {
    "collapsed": true
   },
   "outputs": [],
   "source": [
    "file_type = 'output'\n",
    "file_key = 'log'\n",
    "file_name = \"%s.log\"%(nwchem_opt.tag)\n",
    "nwchem_opt.add_file(file_type,file_key,file_name)"
   ]
  },
  {
   "cell_type": "markdown",
   "metadata": {},
   "source": [
    "Save details in .json files "
   ]
  },
  {
   "cell_type": "code",
   "execution_count": null,
   "metadata": {
    "collapsed": true
   },
   "outputs": [],
   "source": [
    "os.chdir(nwchem_opt.dir['home'])\n",
    "Methane_example.dump_json()"
   ]
  },
  {
   "cell_type": "code",
   "execution_count": null,
   "metadata": {
    "collapsed": true
   },
   "outputs": [],
   "source": [
    "os.chdir(nwchem_opt.dir['launch'])"
   ]
  },
  {
   "cell_type": "code",
   "execution_count": null,
   "metadata": {
    "collapsed": true
   },
   "outputs": [],
   "source": [
    "nwchem_opt.push()"
   ]
  },
  {
   "cell_type": "code",
   "execution_count": null,
   "metadata": {
    "collapsed": true
   },
   "outputs": [],
   "source": [
    "nwchem_opt.run()"
   ]
  },
  {
   "cell_type": "code",
   "execution_count": null,
   "metadata": {
    "collapsed": true
   },
   "outputs": [],
   "source": [
    "nwchem_opt.check()"
   ]
  },
  {
   "cell_type": "code",
   "execution_count": null,
   "metadata": {
    "collapsed": true
   },
   "outputs": [],
   "source": [
    "print nwchem_opt.meta"
   ]
  },
  {
   "cell_type": "code",
   "execution_count": null,
   "metadata": {
    "collapsed": true
   },
   "outputs": [],
   "source": [
    "Methane_example.check()"
   ]
  },
  {
   "cell_type": "code",
   "execution_count": null,
   "metadata": {
    "collapsed": true
   },
   "outputs": [],
   "source": [
    "Methane_example.store()"
   ]
  },
  {
   "cell_type": "code",
   "execution_count": null,
   "metadata": {
    "collapsed": true
   },
   "outputs": [],
   "source": [
    "Methane_example.pull()"
   ]
  },
  {
   "cell_type": "code",
   "execution_count": null,
   "metadata": {
    "collapsed": true,
    "scrolled": true
   },
   "outputs": [],
   "source": [
    "nwchem_opt.analysis()"
   ]
  },
  {
   "cell_type": "code",
   "execution_count": null,
   "metadata": {
    "collapsed": true
   },
   "outputs": [],
   "source": [
    "print nwchem_opt.strucC.write_xyz_str()"
   ]
  },
  {
   "cell_type": "code",
   "execution_count": null,
   "metadata": {
    "collapsed": true
   },
   "outputs": [],
   "source": [
    "os.chdir(nwchem_opt.dir['materials'])"
   ]
  },
  {
   "cell_type": "code",
   "execution_count": null,
   "metadata": {
    "collapsed": true
   },
   "outputs": [],
   "source": [
    "nwchem_opt.strucC.tag = '{}_{}'.format(nwchem_opt.strucC.tag,nwchem_opt.tag)"
   ]
  },
  {
   "cell_type": "code",
   "execution_count": null,
   "metadata": {
    "collapsed": true
   },
   "outputs": [],
   "source": [
    "nwchem_opt.strucC.write_xyz()"
   ]
  },
  {
   "cell_type": "code",
   "execution_count": null,
   "metadata": {
    "collapsed": true
   },
   "outputs": [],
   "source": [
    "nwchem_esp = streamm.NWChem('nw_methane_ESP')"
   ]
  },
  {
   "cell_type": "code",
   "execution_count": null,
   "metadata": {
    "collapsed": true
   },
   "outputs": [],
   "source": [
    "ME_OPT = streamm.Buildingblock('methane_nw_methane_OPT')"
   ]
  },
  {
   "cell_type": "code",
   "execution_count": null,
   "metadata": {
    "collapsed": true
   },
   "outputs": [],
   "source": [
    "ME_OPT.read_xyz()"
   ]
  },
  {
   "cell_type": "code",
   "execution_count": null,
   "metadata": {
    "collapsed": true
   },
   "outputs": [],
   "source": [
    "print(ME.write_xyz_str())"
   ]
  },
  {
   "cell_type": "code",
   "execution_count": null,
   "metadata": {
    "collapsed": true
   },
   "outputs": [],
   "source": [
    "Methane_example.add_calc(nwchem_esp)"
   ]
  },
  {
   "cell_type": "code",
   "execution_count": null,
   "metadata": {
    "collapsed": true
   },
   "outputs": [],
   "source": [
    "nwchem_esp.strucC = ME_OPT"
   ]
  },
  {
   "cell_type": "code",
   "execution_count": null,
   "metadata": {
    "collapsed": true
   },
   "outputs": [],
   "source": [
    "print nwchem_esp.tag"
   ]
  },
  {
   "cell_type": "code",
   "execution_count": null,
   "metadata": {
    "collapsed": true
   },
   "outputs": [],
   "source": [
    "nwchem_esp.set_resource(peregrine)"
   ]
  },
  {
   "cell_type": "code",
   "execution_count": null,
   "metadata": {
    "collapsed": true
   },
   "outputs": [],
   "source": [
    "pprint(nwchem_esp.properties['scratch'])"
   ]
  },
  {
   "cell_type": "code",
   "execution_count": null,
   "metadata": {
    "collapsed": true
   },
   "outputs": [],
   "source": [
    "nwchem_esp.make_dir()"
   ]
  },
  {
   "cell_type": "code",
   "execution_count": null,
   "metadata": {
    "collapsed": true
   },
   "outputs": [],
   "source": [
    "print nwchem_esp.dir['launch']"
   ]
  },
  {
   "cell_type": "code",
   "execution_count": null,
   "metadata": {
    "collapsed": true
   },
   "outputs": [],
   "source": [
    "os.chdir(nwchem_esp.dir['launch'])"
   ]
  },
  {
   "cell_type": "code",
   "execution_count": null,
   "metadata": {
    "collapsed": true
   },
   "outputs": [],
   "source": [
    "file_type = 'templates'\n",
    "file_key = 'run'\n",
    "file_name = \"nwchem_peregrine.pbs\"\n",
    "from_dirkey = 'templates'\n",
    "to_dirkey = 'launch'\n",
    "nwchem_esp.cp_file(file_type,file_key,file_name,from_dirkey,to_dirkey)"
   ]
  },
  {
   "cell_type": "code",
   "execution_count": null,
   "metadata": {
    "collapsed": true
   },
   "outputs": [],
   "source": [
    "file_type = 'templates'\n",
    "file_key = 'nw'\n",
    "file_name = \"nwchem.nw\"\n",
    "from_dirkey = 'templates'\n",
    "to_dirkey = 'launch'\n",
    "nwchem_esp.cp_file(file_type,file_key,file_name,from_dirkey,to_dirkey)"
   ]
  },
  {
   "cell_type": "code",
   "execution_count": null,
   "metadata": {
    "collapsed": true
   },
   "outputs": [],
   "source": [
    "nwchem_esp.load_str('templates','nw')        \n",
    "nwchem_esp.load_str('templates','run')"
   ]
  },
  {
   "cell_type": "code",
   "execution_count": null,
   "metadata": {
    "collapsed": true
   },
   "outputs": [],
   "source": [
    "nwchem_esp.properties['basis'] = '6-31g'\n",
    "nwchem_esp.properties['method'] = 'UHF'\n",
    "nwchem_esp.properties['charge'] = 0\n",
    "nwchem_esp.properties['spin_mult'] = 1\n",
    "nwchem_esp.properties['task'] = 'esp'\n",
    "nwchem_esp.properties['coord'] = nwchem_esp.strucC.write_coord()"
   ]
  },
  {
   "cell_type": "code",
   "execution_count": null,
   "metadata": {
    "collapsed": true
   },
   "outputs": [],
   "source": [
    "pprint(nwchem_esp.properties)"
   ]
  },
  {
   "cell_type": "code",
   "execution_count": null,
   "metadata": {
    "collapsed": true
   },
   "outputs": [],
   "source": [
    "nwchem_esp.replacewrite_prop('nw','input','nw','%s.nw'%(nwchem_esp.tag))"
   ]
  },
  {
   "cell_type": "code",
   "execution_count": null,
   "metadata": {
    "collapsed": true
   },
   "outputs": [],
   "source": [
    "nwchem_esp.properties['input_nw'] = nwchem_esp.files['input']['nw']\n",
    "nwchem_esp.replacewrite_prop('run','scripts','run','%s.pbs'%(nwchem_esp.tag))"
   ]
  },
  {
   "cell_type": "code",
   "execution_count": null,
   "metadata": {
    "collapsed": true
   },
   "outputs": [],
   "source": [
    "file_type = 'output'\n",
    "file_key = 'log'\n",
    "file_name = \"%s.log\"%(nwchem_esp.tag)\n",
    "nwchem_esp.add_file(file_type,file_key,file_name)"
   ]
  },
  {
   "cell_type": "markdown",
   "metadata": {},
   "source": [
    "Save details in .json files "
   ]
  },
  {
   "cell_type": "code",
   "execution_count": null,
   "metadata": {
    "collapsed": true
   },
   "outputs": [],
   "source": [
    "os.chdir(nwchem_esp.dir['home'])\n",
    "Methane_example.dump_json()"
   ]
  },
  {
   "cell_type": "code",
   "execution_count": null,
   "metadata": {
    "collapsed": true
   },
   "outputs": [],
   "source": [
    "os.chdir(nwchem_esp.dir['launch'])"
   ]
  },
  {
   "cell_type": "code",
   "execution_count": null,
   "metadata": {
    "collapsed": true
   },
   "outputs": [],
   "source": [
    "nwchem_esp.push()"
   ]
  },
  {
   "cell_type": "code",
   "execution_count": null,
   "metadata": {
    "collapsed": true
   },
   "outputs": [],
   "source": [
    "nwchem_esp.run()"
   ]
  },
  {
   "cell_type": "code",
   "execution_count": null,
   "metadata": {
    "collapsed": true
   },
   "outputs": [],
   "source": [
    "print nwchem_esp.tag,nwchem_esp.files['output']"
   ]
  },
  {
   "cell_type": "code",
   "execution_count": null,
   "metadata": {
    "collapsed": true
   },
   "outputs": [],
   "source": [
    "nwchem_esp.check()"
   ]
  },
  {
   "cell_type": "code",
   "execution_count": null,
   "metadata": {
    "collapsed": true
   },
   "outputs": [],
   "source": [
    "print nwchem_esp.meta"
   ]
  },
  {
   "cell_type": "code",
   "execution_count": null,
   "metadata": {
    "collapsed": true
   },
   "outputs": [],
   "source": [
    "Methane_example.check()"
   ]
  },
  {
   "cell_type": "code",
   "execution_count": null,
   "metadata": {
    "collapsed": true
   },
   "outputs": [],
   "source": [
    "Methane_example.store()"
   ]
  },
  {
   "cell_type": "code",
   "execution_count": null,
   "metadata": {
    "collapsed": true
   },
   "outputs": [],
   "source": [
    "Methane_example.pull()"
   ]
  },
  {
   "cell_type": "code",
   "execution_count": null,
   "metadata": {
    "collapsed": true,
    "scrolled": true
   },
   "outputs": [],
   "source": [
    "nwchem_opt.analysis()"
   ]
  },
  {
   "cell_type": "markdown",
   "metadata": {},
   "source": [
    "Now we have an optimized molecular geometery and ESP charges"
   ]
  },
  {
   "cell_type": "code",
   "execution_count": null,
   "metadata": {
    "collapsed": true
   },
   "outputs": [],
   "source": []
  }
 ],
 "metadata": {
  "anaconda-cloud": {},
  "kernelspec": {
   "display_name": "Python 2",
   "language": "python",
   "name": "python2"
  },
  "language_info": {
   "codemirror_mode": {
    "name": "ipython",
    "version": 2
   },
   "file_extension": ".py",
   "mimetype": "text/x-python",
   "name": "python",
   "nbconvert_exporter": "python",
   "pygments_lexer": "ipython2",
   "version": "2.7.13"
  }
 },
 "nbformat": 4,
 "nbformat_minor": 2
}
