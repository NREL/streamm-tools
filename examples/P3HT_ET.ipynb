{
 "cells": [
  {
   "cell_type": "code",
   "execution_count": 1,
   "metadata": {
    "collapsed": true
   },
   "outputs": [],
   "source": [
    "%load_ext autoreload\n",
    "%autoreload 2"
   ]
  },
  {
   "cell_type": "code",
   "execution_count": 2,
   "metadata": {
    "collapsed": true
   },
   "outputs": [],
   "source": [
    "import os \n",
    "from pprint import pprint"
   ]
  },
  {
   "cell_type": "code",
   "execution_count": 3,
   "metadata": {
    "collapsed": true
   },
   "outputs": [],
   "source": [
    "import numpy as np\n",
    "import decimal\n",
    "import copy"
   ]
  },
  {
   "cell_type": "code",
   "execution_count": 4,
   "metadata": {
    "collapsed": true
   },
   "outputs": [],
   "source": [
    "import time"
   ]
  },
  {
   "cell_type": "code",
   "execution_count": 5,
   "metadata": {
    "collapsed": true
   },
   "outputs": [],
   "source": [
    "import streamm"
   ]
  },
  {
   "cell_type": "markdown",
   "metadata": {},
   "source": [
    "In this getting started example we will calculate the coupling between P3HT oligomers"
   ]
  },
  {
   "cell_type": "code",
   "execution_count": 6,
   "metadata": {
    "collapsed": true
   },
   "outputs": [],
   "source": [
    "import logging\n",
    "logging.basicConfig(filename='p3ht_et.log',level=logging.DEBUG)"
   ]
  },
  {
   "cell_type": "markdown",
   "metadata": {},
   "source": [
    "Now let's create project and resource to keep track of our work"
   ]
  },
  {
   "cell_type": "code",
   "execution_count": 7,
   "metadata": {
    "collapsed": true
   },
   "outputs": [],
   "source": [
    "p3ht_et = streamm.Project('P3HT_ET')"
   ]
  },
  {
   "cell_type": "markdown",
   "metadata": {},
   "source": [
    "And a resource object to keep track of where our files are "
   ]
  },
  {
   "cell_type": "code",
   "execution_count": 8,
   "metadata": {
    "collapsed": true
   },
   "outputs": [],
   "source": [
    "res_local = streamm.Resource('local')"
   ]
  },
  {
   "cell_type": "markdown",
   "metadata": {},
   "source": [
    "Update relative location of templates directory "
   ]
  },
  {
   "cell_type": "code",
   "execution_count": 9,
   "metadata": {
    "collapsed": true
   },
   "outputs": [],
   "source": [
    "res_local.dir['templates'] =  os.path.join(res_local.dir['home'],'..','templates','')"
   ]
  },
  {
   "cell_type": "code",
   "execution_count": 10,
   "metadata": {
    "collapsed": true
   },
   "outputs": [],
   "source": [
    "res_local.make_dir()"
   ]
  },
  {
   "cell_type": "code",
   "execution_count": 11,
   "metadata": {
    "collapsed": true
   },
   "outputs": [],
   "source": [
    "p3ht_et.set_resource(res_local)"
   ]
  },
  {
   "cell_type": "markdown",
   "metadata": {},
   "source": [
    "Now we need to set a remote resource we have ssh access to and run calculations "
   ]
  },
  {
   "cell_type": "code",
   "execution_count": 12,
   "metadata": {
    "collapsed": true
   },
   "outputs": [],
   "source": [
    "peregrine = streamm.Resource('peregrine')"
   ]
  },
  {
   "cell_type": "code",
   "execution_count": 13,
   "metadata": {
    "collapsed": true
   },
   "outputs": [],
   "source": [
    "peregrine.meta['type'] = \"ssh\"\n",
    "peregrine.ssh['username'] = \"tkemper\"    \n",
    "peregrine.ssh['address'] = \"peregrine.hpc.nrel.gov\"    \n",
    "peregrine.dir['storage'] = '/mss/users/%s'%(peregrine.ssh['username'])\n",
    "peregrine.dir['scratch'] = '/scratch/%s'%(peregrine.ssh['username'])\n",
    "peregrine.dir['home'] = res_local.dir['home']\n",
    "peregrine.dir['launch'] = res_local.dir['launch']\n",
    "peregrine.dir['templates'] = res_local.dir['templates']\n",
    "\n",
    "# Set default simulation specs\n",
    "peregrine.properties['allocation'] = 'orgopv'\n",
    "peregrine.properties['e-mail'] = 'travis.kemper@nrel.gov'\n",
    "peregrine.properties['scratch'] = peregrine.dir['scratch']\n",
    "peregrine.properties['allocation'] = 'orgopv'\n",
    "peregrine.properties['walltime'] = 4\n",
    "peregrine.properties['nodes'] = int(1)\n",
    "peregrine.properties['ppn'] = int(24)\n",
    "peregrine.properties['nproc'] = peregrine.properties['nodes']*peregrine.properties['ppn']\n",
    "peregrine.properties['queue'] = 'short'\n",
    "peregrine.properties['feature'] = '24core'\n",
    "peregrine.properties['exe_command'] = 'qsub '"
   ]
  },
  {
   "cell_type": "code",
   "execution_count": 14,
   "metadata": {},
   "outputs": [
    {
     "name": "stdout",
     "output_type": "stream",
     "text": [
      "{u'allocation': 'orgopv',\n",
      " 'e-mail': 'travis.kemper@nrel.gov',\n",
      " u'exe_command': 'qsub ',\n",
      " u'feature': '24core',\n",
      " u'nodes': 1,\n",
      " u'nproc': 24,\n",
      " u'pmem': 1500,\n",
      " u'ppn': 24,\n",
      " u'queue': 'short',\n",
      " 'scratch': '/scratch/tkemper',\n",
      " u'walltime': 4}\n"
     ]
    }
   ],
   "source": [
    "pprint(peregrine.properties)"
   ]
  },
  {
   "cell_type": "code",
   "execution_count": 15,
   "metadata": {
    "collapsed": true
   },
   "outputs": [],
   "source": [
    "peregrine.make_dir()"
   ]
  },
  {
   "cell_type": "markdown",
   "metadata": {},
   "source": [
    "Explicitely create a thiophene molecule"
   ]
  },
  {
   "cell_type": "code",
   "execution_count": 16,
   "metadata": {
    "collapsed": true
   },
   "outputs": [],
   "source": [
    "bbTh = streamm.Buildingblock('thiophene')\n",
    "symbols = ['C','C','C','C','S','H','H','H','H']\n",
    "positions = [ ]\n",
    "positions.append([-1.55498576,-1.91131218,-0.00081000])\n",
    "positions.append([-0.17775976,-1.91131218,-0.00081000])\n",
    "positions.append([0.34761524,-0.57904218,-0.00081000])\n",
    "positions.append([-0.65884476,0.36101082,0.00000000])\n",
    "positions.append([-2.16948076,-0.35614618,-0.00000800])\n",
    "positions.append([-2.18966076,-2.79526518,-0.00132100])\n",
    "positions.append([0.45389024,-2.80145418,-0.00106400])\n",
    "positions.append([1.41682424,-0.35961818,-0.00138200])\n",
    "positions.append([-0.51943676,1.44024682,0.00064700])\n",
    "for i in range(len(symbols)):\n",
    "    pt_i = streamm.Particle(symbol=symbols[i])\n",
    "    pos_i = positions[i]\n",
    "    bbTh.add_partpos(pt_i,pos_i)"
   ]
  },
  {
   "cell_type": "code",
   "execution_count": 17,
   "metadata": {
    "collapsed": true
   },
   "outputs": [],
   "source": [
    "bbTh.particles[5].rsite = 'termcap'\n",
    "bbTh.particles[6].rsite = 'funccap'\n",
    "bbTh.particles[8].rsite = 'termcap'"
   ]
  },
  {
   "cell_type": "markdown",
   "metadata": {},
   "source": [
    "Set some properties of the molecule to keep track of the parts"
   ]
  },
  {
   "cell_type": "code",
   "execution_count": 18,
   "metadata": {
    "collapsed": true
   },
   "outputs": [],
   "source": [
    "c_cnt =1\n",
    "h_cnt =1\n",
    "\n",
    "for pkey_i, particle_i  in bbTh.particles.iteritems():\n",
    "\n",
    "    if( particle_i.symbol == 'C' ):\n",
    "        particle_i.label = \"C%d\"%(c_cnt)\n",
    "        particle_i.resname = \"SCP2\"\n",
    "        particle_i.residue = 1\n",
    "\n",
    "        c_cnt +=1 \n",
    "    if( particle_i.symbol == 'S' ):\n",
    "        particle_i.resname = \"ThS\"\n",
    "        particle_i.residue = 2\n",
    "\n",
    "    if( particle_i.symbol == 'H' ):\n",
    "        particle_i.label = \"H%d\"%(h_cnt)\n",
    "        particle_i.resname = \"HA\"\n",
    "        particle_i.residue = 3\n",
    "\n",
    "        h_cnt +=1 \n"
   ]
  },
  {
   "cell_type": "markdown",
   "metadata": {},
   "source": [
    "Set the force-field type and guess some reasonable charges "
   ]
  },
  {
   "cell_type": "code",
   "execution_count": 19,
   "metadata": {
    "collapsed": true
   },
   "outputs": [],
   "source": [
    "for pkey_i, particle_i  in bbTh.particles.iteritems():\n",
    "    if( particle_i.symbol == 'C' ):\n",
    "        particle_i.paramkey = 'CA'\n",
    "        particle_i.charge = -0.025\n",
    "    if( particle_i.symbol == 'S' ):\n",
    "        particle_i.paramkey = 'S'\n",
    "        particle_i.charge = -0.3\n",
    "    if( particle_i.symbol == 'H' ):\n",
    "        particle_i.paramkey = 'HA'\n",
    "        particle_i.charge = 0.1"
   ]
  },
  {
   "cell_type": "markdown",
   "metadata": {},
   "source": [
    "Check molecule is neutral "
   ]
  },
  {
   "cell_type": "code",
   "execution_count": 20,
   "metadata": {},
   "outputs": [
    {
     "name": "stdout",
     "output_type": "stream",
     "text": [
      "-2.77555756156e-17\n"
     ]
    }
   ],
   "source": [
    "total_charge = 0.0\n",
    "for pkey_i, particle_i  in bbTh.particles.iteritems():\n",
    "    total_charge += particle_i.charge\n",
    "print total_charge"
   ]
  },
  {
   "cell_type": "markdown",
   "metadata": {},
   "source": [
    "Optimize structure with NWChem"
   ]
  },
  {
   "cell_type": "markdown",
   "metadata": {},
   "source": [
    "But let's put it in a function this time"
   ]
  },
  {
   "cell_type": "code",
   "execution_count": 21,
   "metadata": {
    "collapsed": true
   },
   "outputs": [],
   "source": [
    "def nw_opt(project_i,bb_i,res_i):\n",
    "    '''Optimize a streamm Buildingblock object with nwchem \n",
    "    \n",
    "    '''\n",
    "    nwchem_i = streamm.NWChem('nw_opt_{}'.format(bb_i.tag))\n",
    "    print nwchem_i.tag \n",
    "    # Add thiophene structure \n",
    "    nwchem_i.strucC = copy.deepcopy(bb_i)\n",
    "    # Set calculation to run on external resource\n",
    "    nwchem_i.set_resource(res_i)\n",
    "    # Make the local directories \n",
    "    nwchem_i.make_dir()\n",
    "    #Change to the `launch` directory\n",
    "    os.chdir(nwchem_i.dir['launch'])\n",
    "    # Copy over templates\n",
    "    nwchem_i.cp_file('templates','run',\"nwchem_peregrine.pbs\",'templates','launch')\n",
    "    nwchem_i.cp_file('templates','nw',\"nwchem.nw\",'templates','launch')\n",
    "    # Read in templates files \n",
    "    nwchem_i.load_str('templates','nw')        \n",
    "    nwchem_i.load_str('templates','run')\n",
    "    # Set calculation properties \n",
    "    nwchem_i.properties['basis'] = '6-31g'\n",
    "    nwchem_i.properties['method'] = 'UHF'\n",
    "    nwchem_i.properties['charge'] = 0\n",
    "    nwchem_i.properties['spin_mult'] = 1\n",
    "    nwchem_i.properties['task'] = 'SCF optimize'\n",
    "    nwchem_i.properties['coord'] = nwchem_i.strucC.write_coord()\n",
    "    # \n",
    "    pprint(nwchem_i.properties)\n",
    "    # Replace <key> with properties value \n",
    "    nwchem_i.replacewrite_prop('nw','input','nw','%s.nw'%(nwchem_i.tag))\n",
    "    nwchem_i.properties['input_nw'] = nwchem_i.files['input']['nw']\n",
    "    nwchem_i.replacewrite_prop('run','scripts','run','%s.pbs'%(nwchem_i.tag))\n",
    "    #\n",
    "    nwchem_i.add_file('output','log',\"%s.log\"%(nwchem_i.tag))\n",
    "    # Save details in .json files \n",
    "    os.chdir(nwchem_i.dir['home'])\n",
    "    p3ht_et.dump_json()\n",
    "    # \n",
    "    os.chdir(nwchem_i.dir['launch'])\n",
    "    # \n",
    "    nwchem_i.push()\n",
    "    # \n",
    "    nwchem_i.run()\n",
    "    # Add calculation to project\n",
    "    project_i.add_calc(nwchem_i,deepcopy = True)\n",
    "    # \n",
    "    return project_i "
   ]
  },
  {
   "cell_type": "code",
   "execution_count": 22,
   "metadata": {},
   "outputs": [
    {
     "name": "stdout",
     "output_type": "stream",
     "text": [
      "nw_opt_thiophene\n",
      "{u'allocation': 'orgopv',\n",
      " u'basis': '6-31g',\n",
      " u'charge': 0,\n",
      " 'comp_key': 'compressed',\n",
      " 'compress': 'tar -czf ',\n",
      " 'compress_sufix': 'tgz',\n",
      " 'coord': u'     C      -1.55498576      -1.91131218      -0.00081000 \\n     C      -0.17775976      -1.91131218      -0.00081000 \\n     C       0.34761524      -0.57904218      -0.00081000 \\n     C      -0.65884476       0.36101082       0.00000000 \\n     S      -2.16948076      -0.35614618      -0.00000800 \\n     H      -2.18966076      -2.79526518      -0.00132100 \\n     H       0.45389024      -2.80145418      -0.00106400 \\n     H       1.41682424      -0.35961818      -0.00138200 \\n     H      -0.51943676       1.44024682       0.00064700 \\n',\n",
      " 'e-mail': 'travis.kemper@nrel.gov',\n",
      " u'exe_command': 'qsub ',\n",
      " u'feature': '24core',\n",
      " u'finish_str': u'Total times  cpu:',\n",
      " u'maxiter': 100,\n",
      " u'method': 'UHF',\n",
      " u'nodes': 1,\n",
      " u'nproc': 24,\n",
      " u'pmem': 1500,\n",
      " u'ppn': 24,\n",
      " u'queue': 'short',\n",
      " 'scratch': u'/scratch/tkemper/nw_opt_thiophene/',\n",
      " u'spin_mult': 1,\n",
      " u'task': 'SCF optimize',\n",
      " 'uncompress': 'tar -xzf ',\n",
      " u'walltime': 4}\n"
     ]
    }
   ],
   "source": [
    "p3ht_et = nw_opt(p3ht_et,bbTh,peregrine)"
   ]
  },
  {
   "cell_type": "code",
   "execution_count": 23,
   "metadata": {
    "collapsed": true
   },
   "outputs": [],
   "source": [
    "nwchem_i = p3ht_et.calculations['nw_opt_thiophene']"
   ]
  },
  {
   "cell_type": "markdown",
   "metadata": {},
   "source": [
    "Check status unit finished"
   ]
  },
  {
   "cell_type": "code",
   "execution_count": 24,
   "metadata": {
    "collapsed": true
   },
   "outputs": [],
   "source": [
    "while( nwchem_i.meta['status'] != 'finished'):\n",
    "    nwchem_i.check()\n",
    "    time.sleep(30)    "
   ]
  },
  {
   "cell_type": "code",
   "execution_count": 25,
   "metadata": {},
   "outputs": [
    {
     "name": "stdout",
     "output_type": "stream",
     "text": [
      "finished\n"
     ]
    }
   ],
   "source": [
    "print nwchem_i.meta['status']"
   ]
  },
  {
   "cell_type": "code",
   "execution_count": 26,
   "metadata": {
    "collapsed": true
   },
   "outputs": [],
   "source": [
    "nwchem_i.analysis()"
   ]
  },
  {
   "cell_type": "markdown",
   "metadata": {},
   "source": [
    "Print energies "
   ]
  },
  {
   "cell_type": "code",
   "execution_count": 27,
   "metadata": {},
   "outputs": [
    {
     "name": "stdout",
     "output_type": "stream",
     "text": [
      "[-0.4732391, -0.3475018, -0.3290008, 0.1318747, 0.2130991, 0.2315597, 0.2416684, 0.269473, 0.2970013, 0.3198832]\n",
      "-551.190758148\n"
     ]
    }
   ],
   "source": [
    "print nwchem_i.properties['alpha_energies'][10:20]\n",
    "print nwchem_i.properties['energy']"
   ]
  },
  {
   "cell_type": "markdown",
   "metadata": {},
   "source": [
    "Check that the positions of the structure have been optimized "
   ]
  },
  {
   "cell_type": "code",
   "execution_count": 28,
   "metadata": {},
   "outputs": [
    {
     "name": "stdout",
     "output_type": "stream",
     "text": [
      "[[ -1.55498576e+00  -1.91131218e+00  -8.10000000e-04]\n",
      " [ -1.77759760e-01  -1.91131218e+00  -8.10000000e-04]\n",
      " [  3.47615240e-01  -5.79042180e-01  -8.10000000e-04]\n",
      " [ -6.58844760e-01   3.61010820e-01   0.00000000e+00]\n",
      " [ -2.16948076e+00  -3.56146180e-01  -8.00000000e-06]\n",
      " [ -2.18966076e+00  -2.79526518e+00  -1.32100000e-03]\n",
      " [  4.53890240e-01  -2.80145418e+00  -1.06400000e-03]\n",
      " [  1.41682424e+00  -3.59618180e-01  -1.38200000e-03]\n",
      " [ -5.19436760e-01   1.44024682e+00   6.47000000e-04]]\n"
     ]
    }
   ],
   "source": [
    "print bbTh.positions"
   ]
  },
  {
   "cell_type": "code",
   "execution_count": 29,
   "metadata": {},
   "outputs": [
    {
     "name": "stdout",
     "output_type": "stream",
     "text": [
      "[[ -1.52897866e+00  -1.96228345e+00  -7.78590000e-04]\n",
      " [ -1.87334460e-01  -1.91419800e+00  -1.08279000e-03]\n",
      " [  3.42602010e-01  -5.70378860e-01  -6.54980000e-04]\n",
      " [ -6.05104320e-01   3.80506620e-01  -6.80400000e-05]\n",
      " [ -2.25062134e+00  -3.24145110e-01   2.59500000e-05]\n",
      " [ -2.16229521e+00  -2.82020795e+00  -9.93390000e-04]\n",
      " [  4.31149380e-01  -2.78813162e+00  -1.61256000e-03]\n",
      " [  1.39112457e+00  -3.53828660e-01  -7.51640000e-04]\n",
      " [ -4.82380800e-01   1.43977439e+00   3.58040000e-04]]\n"
     ]
    }
   ],
   "source": [
    "print nwchem_i.strucC.positions"
   ]
  },
  {
   "cell_type": "markdown",
   "metadata": {},
   "source": [
    "Update positions with optimized geometry "
   ]
  },
  {
   "cell_type": "code",
   "execution_count": 30,
   "metadata": {},
   "outputs": [
    {
     "name": "stdout",
     "output_type": "stream",
     "text": [
      "0 C [ -1.52897866e+00  -1.96228345e+00  -7.78590000e-04]\n",
      "1 C [ -1.87334460e-01  -1.91419800e+00  -1.08279000e-03]\n",
      "2 C [ 0.34260201 -0.57037886 -0.00065498]\n",
      "3 C [ -6.05104320e-01   3.80506620e-01  -6.80400000e-05]\n",
      "4 S [ -2.25062134e+00  -3.24145110e-01   2.59500000e-05]\n",
      "5 H [ -2.16229521e+00  -2.82020795e+00  -9.93390000e-04]\n",
      "6 H [  4.31149380e-01  -2.78813162e+00  -1.61256000e-03]\n",
      "7 H [  1.39112457e+00  -3.53828660e-01  -7.51640000e-04]\n",
      "8 H [ -4.82380800e-01   1.43977439e+00   3.58040000e-04]\n"
     ]
    }
   ],
   "source": [
    "for pk,p in bbTh.particles.iteritems():\n",
    "    bbTh.positions[pk] = nwchem_i.strucC.positions[pk]\n",
    "    print pk,p.symbol,bbTh.positions[pk]"
   ]
  },
  {
   "cell_type": "markdown",
   "metadata": {},
   "source": [
    "Store the results in a tar ball in the storage directory "
   ]
  },
  {
   "cell_type": "code",
   "execution_count": 31,
   "metadata": {
    "collapsed": true
   },
   "outputs": [],
   "source": [
    "nwchem_i.store()"
   ]
  },
  {
   "cell_type": "markdown",
   "metadata": {},
   "source": [
    "Now let us calculate the ESP charges to use in our forcefield "
   ]
  },
  {
   "cell_type": "markdown",
   "metadata": {},
   "source": [
    "Again let's make it a function"
   ]
  },
  {
   "cell_type": "code",
   "execution_count": 32,
   "metadata": {
    "collapsed": true
   },
   "outputs": [],
   "source": [
    "def nw_esp(project_i,bb_i,res_i):\n",
    "    '''Calculate ESP charges of a streamm Buildingblock object with nwchem \n",
    "    \n",
    "    '''\n",
    "    nwchem_esp = streamm.NWChem('nw_esp_{}'.format(bb_i.tag))\n",
    "    print(nwchem_esp.tag)\n",
    "    # Add thiophene structure with optimized coordinates from previous calculation\n",
    "    nwchem_esp.strucC = copy.deepcopy(bb_i)\n",
    "    # Set calculation to run on external resource\n",
    "    nwchem_esp.set_resource(res_i)\n",
    "    # Add calculation to project\n",
    "    project_i.add_calc(nwchem_esp)\n",
    "    # Make the local directories \n",
    "    nwchem_esp.make_dir()\n",
    "    # Change to the `launch` directory\n",
    "    os.chdir(nwchem_esp.dir['launch'])\n",
    "    #\n",
    "    nwchem_esp.cp_file('templates','run',\"nwchem_peregrine.pbs\",'templates','launch')\n",
    "    nwchem_esp.cp_file('templates','nw',\"nwchem_esp.nw\",'templates','launch')\n",
    "    #\n",
    "    nwchem_esp.load_str('templates','nw')        \n",
    "    nwchem_esp.load_str('templates','run')\n",
    "    # \n",
    "    nwchem_esp.properties['basis'] = '6-31g'\n",
    "    nwchem_esp.properties['method'] = 'UHF'\n",
    "    nwchem_esp.properties['charge'] = 0\n",
    "    nwchem_esp.properties['spin_mult'] = 1\n",
    "    nwchem_esp.properties['task'] = 'SCF'\n",
    "    nwchem_esp.properties['coord'] = nwchem_esp.strucC.write_coord()\n",
    "\n",
    "    pprint(nwchem_esp.properties)\n",
    "\n",
    "    nwchem_esp.replacewrite_prop('nw','input','nw','%s.nw'%(nwchem_esp.tag))\n",
    "\n",
    "    nwchem_esp.properties['input_nw'] = nwchem_esp.files['input']['nw']\n",
    "    nwchem_esp.replacewrite_prop('run','scripts','run','%s.pbs'%(nwchem_esp.tag))\n",
    "\n",
    "    nwchem_esp.add_file('output','log',\"%s.log\"%(nwchem_esp.tag))\n",
    "\n",
    "    # Save details in .json files \n",
    "\n",
    "    os.chdir(nwchem_esp.dir['home'])\n",
    "    project_i.dump_json()\n",
    "\n",
    "    os.chdir(nwchem_esp.dir['launch'])\n",
    "    nwchem_esp.push()\n",
    "    nwchem_esp.run()\n",
    "    # Add calculation to project\n",
    "    project_i.add_calc(nwchem_esp,deepcopy = True)\n",
    "    # \n",
    "    return project_i \n",
    "    \n",
    "    "
   ]
  },
  {
   "cell_type": "code",
   "execution_count": 33,
   "metadata": {
    "scrolled": true
   },
   "outputs": [
    {
     "name": "stdout",
     "output_type": "stream",
     "text": [
      "nw_esp_thiophene\n",
      "{u'allocation': 'orgopv',\n",
      " u'basis': '6-31g',\n",
      " u'charge': 0,\n",
      " 'comp_key': 'compressed',\n",
      " 'compress': 'tar -czf ',\n",
      " 'compress_sufix': 'tgz',\n",
      " 'coord': u'     C      -1.52897866      -1.96228345      -0.00077859 \\n     C      -0.18733446      -1.91419800      -0.00108279 \\n     C       0.34260201      -0.57037886      -0.00065498 \\n     C      -0.60510432       0.38050662      -0.00006804 \\n     S      -2.25062134      -0.32414511       0.00002595 \\n     H      -2.16229521      -2.82020795      -0.00099339 \\n     H       0.43114938      -2.78813162      -0.00161256 \\n     H       1.39112457      -0.35382866      -0.00075164 \\n     H      -0.48238080       1.43977439       0.00035804 \\n',\n",
      " 'e-mail': 'travis.kemper@nrel.gov',\n",
      " u'exe_command': 'qsub ',\n",
      " u'feature': '24core',\n",
      " u'finish_str': u'Total times  cpu:',\n",
      " u'maxiter': 100,\n",
      " u'method': 'UHF',\n",
      " u'nodes': 1,\n",
      " u'nproc': 24,\n",
      " u'pmem': 1500,\n",
      " u'ppn': 24,\n",
      " u'queue': 'short',\n",
      " 'scratch': u'/scratch/tkemper/nw_esp_thiophene/',\n",
      " u'spin_mult': 1,\n",
      " u'task': 'SCF',\n",
      " 'uncompress': 'tar -xzf ',\n",
      " u'walltime': 4}\n"
     ]
    }
   ],
   "source": [
    "p3ht_et = nw_esp(p3ht_et,bbTh,peregrine)"
   ]
  },
  {
   "cell_type": "markdown",
   "metadata": {},
   "source": [
    "Check status until finished"
   ]
  },
  {
   "cell_type": "code",
   "execution_count": 34,
   "metadata": {
    "collapsed": true
   },
   "outputs": [],
   "source": [
    "nwchem_i = p3ht_et.calculations['nw_esp_thiophene']"
   ]
  },
  {
   "cell_type": "code",
   "execution_count": 35,
   "metadata": {
    "collapsed": true
   },
   "outputs": [],
   "source": [
    "while( nwchem_i.meta['status'] != 'finished'):\n",
    "    nwchem_i.check()\n",
    "    time.sleep(30)    "
   ]
  },
  {
   "cell_type": "code",
   "execution_count": 36,
   "metadata": {},
   "outputs": [
    {
     "name": "stdout",
     "output_type": "stream",
     "text": [
      "Calculation nw_opt_thiophene has status stored\n",
      "Calculation nw_esp_thiophene has status finished\n"
     ]
    }
   ],
   "source": [
    "p3ht_et.check()"
   ]
  },
  {
   "cell_type": "code",
   "execution_count": 37,
   "metadata": {
    "collapsed": true
   },
   "outputs": [],
   "source": [
    "nwchem_i.analysis()"
   ]
  },
  {
   "cell_type": "code",
   "execution_count": 38,
   "metadata": {},
   "outputs": [
    {
     "name": "stdout",
     "output_type": "stream",
     "text": [
      "0 C -0.025\n",
      "1 C -0.025\n",
      "2 C -0.025\n",
      "3 C -0.025\n",
      "4 S -0.3\n",
      "5 H 0.1\n",
      "6 H 0.1\n",
      "7 H 0.1\n",
      "8 H 0.1\n",
      "-2.77555756156e-17\n"
     ]
    }
   ],
   "source": [
    "total_charge = 0.0 \n",
    "for pk,p in nwchem_i.strucC.particles.iteritems():\n",
    "    print pk,p.symbol,p.charge\n",
    "    total_charge += p.charge\n",
    "print total_charge"
   ]
  },
  {
   "cell_type": "markdown",
   "metadata": {},
   "source": [
    "Update the charges of the Buildingblock"
   ]
  },
  {
   "cell_type": "code",
   "execution_count": 39,
   "metadata": {
    "collapsed": true
   },
   "outputs": [],
   "source": [
    "bbTh.tag += '_HFesp'"
   ]
  },
  {
   "cell_type": "code",
   "execution_count": 40,
   "metadata": {},
   "outputs": [
    {
     "name": "stdout",
     "output_type": "stream",
     "text": [
      "0 C -0.025\n",
      "1 C -0.025\n",
      "2 C -0.025\n",
      "3 C -0.025\n",
      "4 S -0.3\n",
      "5 H 0.1\n",
      "6 H 0.1\n",
      "7 H 0.1\n",
      "8 H 0.1\n"
     ]
    }
   ],
   "source": [
    "for pk,p in bbTh.particles.iteritems():\n",
    "    p.charge = nwchem_i.strucC.particles[pk].charge\n",
    "    print pk,p.symbol,p.charge"
   ]
  },
  {
   "cell_type": "markdown",
   "metadata": {},
   "source": [
    "Store the results "
   ]
  },
  {
   "cell_type": "code",
   "execution_count": 41,
   "metadata": {
    "collapsed": true
   },
   "outputs": [],
   "source": [
    "nwchem_i.store()"
   ]
  },
  {
   "cell_type": "code",
   "execution_count": 42,
   "metadata": {
    "collapsed": true
   },
   "outputs": [],
   "source": [
    "bbTh.bonded_nblist = bbTh.guess_nblist(0,radii_buffer=1.35)"
   ]
  },
  {
   "cell_type": "code",
   "execution_count": 43,
   "metadata": {
    "collapsed": true
   },
   "outputs": [],
   "source": [
    "bbTh.bonded_bonds()\n",
    "bbTh.bonded_angles()\n",
    "bbTh.bonded_dih()"
   ]
  },
  {
   "cell_type": "markdown",
   "metadata": {},
   "source": [
    "Store a pickled object of the Buildingblock"
   ]
  },
  {
   "cell_type": "code",
   "execution_count": 44,
   "metadata": {},
   "outputs": [],
   "source": [
    "os.chdir(res_local.dir['materials']) \n",
    "bbTh.dump_pickle()"
   ]
  },
  {
   "cell_type": "markdown",
   "metadata": {},
   "source": [
    "Let us optimize the structure with the oplsaa force-field to check the parameters "
   ]
  },
  {
   "cell_type": "code",
   "execution_count": 100,
   "metadata": {
    "collapsed": true
   },
   "outputs": [],
   "source": [
    "os.chdir(res_local.dir['home']) "
   ]
  },
  {
   "cell_type": "code",
   "execution_count": 101,
   "metadata": {
    "collapsed": true
   },
   "outputs": [],
   "source": [
    "from pathlib2 import Path"
   ]
  },
  {
   "cell_type": "code",
   "execution_count": 102,
   "metadata": {},
   "outputs": [
    {
     "name": "stdout",
     "output_type": "stream",
     "text": [
      "Need to run forcefields.ipynb\n"
     ]
    }
   ],
   "source": [
    "need_files = ['oplsaa.pkl']\n",
    "for f in need_files:\n",
    "    path = Path(f)\n",
    "    if not path.is_file():\n",
    "        print(\"Need to run forcefields.ipynb\")\n",
    "        os.system(\"jupyter nbconvert --to python  forcefields.ipynb\")\n",
    "        os.system(\"python forcefields.py\")"
   ]
  },
  {
   "cell_type": "code",
   "execution_count": 103,
   "metadata": {
    "collapsed": true
   },
   "outputs": [],
   "source": [
    "oplsaa = streamm.forcefields.parameters.read_pickle('oplsaa')"
   ]
  },
  {
   "cell_type": "code",
   "execution_count": 105,
   "metadata": {},
   "outputs": [
    {
     "name": "stdout",
     "output_type": "stream",
     "text": [
      "\n",
      "    Parameters \n",
      "      LJ parameters 2 \n",
      "      Bond parameters 2 \n",
      "      Angle parameters 2 \n",
      "      Dihedral parameters 1 \n",
      "      Improper Dihedral parameters 0 \n",
      "\n"
     ]
    }
   ],
   "source": [
    "print oplsaa"
   ]
  },
  {
   "cell_type": "code",
   "execution_count": 104,
   "metadata": {},
   "outputs": [
    {
     "name": "stdout",
     "output_type": "stream",
     "text": [
      "kCalmol\n"
     ]
    }
   ],
   "source": [
    "print oplsaa.unit_conf['energy']"
   ]
  },
  {
   "cell_type": "markdown",
   "metadata": {},
   "source": [
    "We need to add the conjugated carbons, hydrogen and sulfur atom types "
   ]
  },
  {
   "cell_type": "code",
   "execution_count": 106,
   "metadata": {
    "collapsed": true
   },
   "outputs": [],
   "source": [
    "import streamm.forcefields.particletype as particletype"
   ]
  },
  {
   "cell_type": "code",
   "execution_count": 107,
   "metadata": {
    "collapsed": true
   },
   "outputs": [],
   "source": [
    "import pymatgen_core.core.periodic_table as periodic_table"
   ]
  },
  {
   "cell_type": "markdown",
   "metadata": {},
   "source": [
    "Set some parameters from J. Am. Chem. Soc., 1996, 118 (45), pp 11225–11236"
   ]
  },
  {
   "cell_type": "code",
   "execution_count": 108,
   "metadata": {
    "collapsed": true
   },
   "outputs": [],
   "source": [
    "CA = particletype.Particletype('CA')\n",
    "HA = particletype.Particletype('HA')"
   ]
  },
  {
   "cell_type": "code",
   "execution_count": 109,
   "metadata": {
    "collapsed": true
   },
   "outputs": [],
   "source": [
    "CA.update_units(oplsaa.unit_conf)\n",
    "HA.update_units(oplsaa.unit_conf)"
   ]
  },
  {
   "cell_type": "code",
   "execution_count": 110,
   "metadata": {
    "collapsed": true
   },
   "outputs": [],
   "source": [
    "CA.epsilon = 0.070 # kcal/mol\n",
    "CA.sigma = 3.55 # Angstroms "
   ]
  },
  {
   "cell_type": "code",
   "execution_count": 111,
   "metadata": {
    "collapsed": true
   },
   "outputs": [],
   "source": [
    "HA.epsilon = 0.030 # kcal/mol\n",
    "HA.sigma = 2.42 # Angstroms "
   ]
  },
  {
   "cell_type": "code",
   "execution_count": 112,
   "metadata": {
    "collapsed": true
   },
   "outputs": [],
   "source": [
    "CA.mass =  periodic_table.Element['C'].atomic_mass.real\n",
    "HA.mass =  periodic_table.Element['H'].atomic_mass.real"
   ]
  },
  {
   "cell_type": "code",
   "execution_count": 113,
   "metadata": {},
   "outputs": [
    {
     "name": "stdout",
     "output_type": "stream",
     "text": [
      " CA epsilon:0.07 sigma:3.55  HA epsilon:0.03 sigma:2.42\n"
     ]
    }
   ],
   "source": [
    "print CA,HA"
   ]
  },
  {
   "cell_type": "code",
   "execution_count": 114,
   "metadata": {
    "collapsed": true
   },
   "outputs": [],
   "source": [
    "S = particletype.Particletype('S')"
   ]
  },
  {
   "cell_type": "code",
   "execution_count": 115,
   "metadata": {
    "collapsed": true
   },
   "outputs": [],
   "source": [
    "S.update_units(oplsaa.unit_conf)"
   ]
  },
  {
   "cell_type": "markdown",
   "metadata": {},
   "source": [
    "Set some parameters from J. Am. Chem. Soc., 1996, 118 (45), pp 11225–11236"
   ]
  },
  {
   "cell_type": "code",
   "execution_count": 116,
   "metadata": {
    "collapsed": true
   },
   "outputs": [],
   "source": [
    "S.epsilon = 0.25 # kcal/mol\n",
    "S.sigma = 3.55 # Angstroms "
   ]
  },
  {
   "cell_type": "code",
   "execution_count": 117,
   "metadata": {
    "collapsed": true
   },
   "outputs": [],
   "source": [
    "S.mass =  periodic_table.Element['S'].atomic_mass.real"
   ]
  },
  {
   "cell_type": "markdown",
   "metadata": {},
   "source": [
    "Add to forcefield parameters container"
   ]
  },
  {
   "cell_type": "code",
   "execution_count": 118,
   "metadata": {
    "collapsed": true
   },
   "outputs": [],
   "source": [
    "oplsaa.add_particletype(CA)\n",
    "oplsaa.add_particletype(HA)\n",
    "oplsaa.add_particletype(S)"
   ]
  },
  {
   "cell_type": "markdown",
   "metadata": {},
   "source": [
    "Set the bond stretching parameters "
   ]
  },
  {
   "cell_type": "code",
   "execution_count": 119,
   "metadata": {
    "collapsed": true
   },
   "outputs": [],
   "source": [
    "import streamm.forcefields.bondtype as bondtype"
   ]
  },
  {
   "cell_type": "code",
   "execution_count": 120,
   "metadata": {
    "collapsed": true
   },
   "outputs": [],
   "source": [
    "bt_i = bondtype.Bondtype('CA','HA',unit_conf=oplsaa.unit_conf)\n",
    "bt_i.setharmonic(1.080,367.0)\n",
    "oplsaa.add_bondtype(bt_i)"
   ]
  },
  {
   "cell_type": "code",
   "execution_count": 121,
   "metadata": {
    "collapsed": true
   },
   "outputs": [],
   "source": [
    "bt_i = bondtype.Bondtype('CA','CA',unit_conf=oplsaa.unit_conf)\n",
    "bt_i.setharmonic(1.400,469.0)\n",
    "oplsaa.add_bondtype(bt_i)"
   ]
  },
  {
   "cell_type": "code",
   "execution_count": 122,
   "metadata": {
    "collapsed": true
   },
   "outputs": [],
   "source": [
    "bt_i = bondtype.Bondtype('S','CA',unit_conf=oplsaa.unit_conf)\n",
    "bt_i.setharmonic(1.71,250.0)\n",
    "oplsaa.add_bondtype(bt_i)"
   ]
  },
  {
   "cell_type": "code",
   "execution_count": 123,
   "metadata": {},
   "outputs": [
    {
     "name": "stdout",
     "output_type": "stream",
     "text": [
      "0  bond  CT - HC type harmonic \n",
      "  harmonic r_0 = 1.080000 K = 367.000000 lammps index 0  gromacs index 0  \n",
      "1  bond  CT - CT type harmonic \n",
      "  harmonic r_0 = 1.530000 K = 268.000000 lammps index 0  gromacs index 0  \n",
      "2  bond  CA - HA type harmonic \n",
      "  harmonic r_0 = 1.080000 K = 367.000000 lammps index 0  gromacs index 0  \n",
      "3  bond  CA - CA type harmonic \n",
      "  harmonic r_0 = 1.400000 K = 469.000000 lammps index 0  gromacs index 0  \n",
      "4  bond  S - CA type harmonic \n",
      "  harmonic r_0 = 1.710000 K = 250.000000 lammps index 0  gromacs index 0  \n"
     ]
    }
   ],
   "source": [
    "for btk,bt in oplsaa.bondtypes.iteritems():\n",
    "    print btk,bt"
   ]
  },
  {
   "cell_type": "code",
   "execution_count": 124,
   "metadata": {
    "collapsed": true
   },
   "outputs": [],
   "source": [
    "import streamm.forcefields.angletype as angletype"
   ]
  },
  {
   "cell_type": "code",
   "execution_count": 125,
   "metadata": {
    "collapsed": true
   },
   "outputs": [],
   "source": [
    "bat_i = angletype.Angletype('CA','CA','CA',unit_conf=oplsaa.unit_conf)\n",
    "bat_i.setharmonic(120.0,63.0)\n",
    "oplsaa.add_angletype(bat_i)"
   ]
  },
  {
   "cell_type": "code",
   "execution_count": 126,
   "metadata": {
    "collapsed": true
   },
   "outputs": [],
   "source": [
    "bat_i = angletype.Angletype('CA','CA','HA',unit_conf=oplsaa.unit_conf)\n",
    "bat_i.setharmonic(120.0,35.0)\n",
    "oplsaa.add_angletype(bat_i)"
   ]
  },
  {
   "cell_type": "code",
   "execution_count": 127,
   "metadata": {
    "collapsed": true
   },
   "outputs": [],
   "source": [
    "bat_i = angletype.Angletype('CA','S','CA',unit_conf=oplsaa.unit_conf)\n",
    "bat_i.setharmonic(92.2,70.0)\n",
    "oplsaa.add_angletype(bat_i)"
   ]
  },
  {
   "cell_type": "code",
   "execution_count": 128,
   "metadata": {
    "collapsed": true
   },
   "outputs": [],
   "source": [
    "bat_i = angletype.Angletype('S','CA','HA',unit_conf=oplsaa.unit_conf)\n",
    "bat_i.setharmonic(120.0,35.0)\n",
    "oplsaa.add_angletype(bat_i)"
   ]
  },
  {
   "cell_type": "code",
   "execution_count": 129,
   "metadata": {
    "collapsed": true
   },
   "outputs": [],
   "source": [
    "bat_i = angletype.Angletype('S','CA','CA',unit_conf=oplsaa.unit_conf)\n",
    "bat_i.setharmonic(111.0,70.0)\n",
    "oplsaa.add_angletype(bat_i)"
   ]
  },
  {
   "cell_type": "code",
   "execution_count": 130,
   "metadata": {},
   "outputs": [
    {
     "name": "stdout",
     "output_type": "stream",
     "text": [
      "0  angle  HC - CT - HC type harmonic \n",
      "  harmonic theta_0 = 110.700000 K = 37.500000 lammps index 0  gromacs index 0  \n",
      "1  angle  HC - CT - CT type harmonic \n",
      "  harmonic theta_0 = 110.700000 K = 37.500000 lammps index 0  gromacs index 0  \n",
      "2  angle  CA - CA - CA type harmonic \n",
      "  harmonic theta_0 = 120.000000 K = 63.000000 lammps index 0  gromacs index 0  \n",
      "3  angle  CA - CA - HA type harmonic \n",
      "  harmonic theta_0 = 120.000000 K = 35.000000 lammps index 0  gromacs index 0  \n",
      "4  angle  CA - S - CA type harmonic \n",
      "  harmonic theta_0 = 92.200000 K = 70.000000 lammps index 0  gromacs index 0  \n",
      "5  angle  S - CA - HA type harmonic \n",
      "  harmonic theta_0 = 120.000000 K = 35.000000 lammps index 0  gromacs index 0  \n",
      "6  angle  S - CA - CA type harmonic \n",
      "  harmonic theta_0 = 111.000000 K = 70.000000 lammps index 0  gromacs index 0  \n"
     ]
    }
   ],
   "source": [
    "for atk,at in oplsaa.angletypes.iteritems():\n",
    "    print atk,at"
   ]
  },
  {
   "cell_type": "markdown",
   "metadata": {},
   "source": [
    "Set some reasonable dihedral parameters"
   ]
  },
  {
   "cell_type": "code",
   "execution_count": 131,
   "metadata": {
    "collapsed": true
   },
   "outputs": [],
   "source": [
    "import streamm.forcefields.dihtype as dihtype"
   ]
  },
  {
   "cell_type": "code",
   "execution_count": 132,
   "metadata": {
    "collapsed": true
   },
   "outputs": [],
   "source": [
    "# oplsaa.dihtypes = {}"
   ]
  },
  {
   "cell_type": "code",
   "execution_count": 133,
   "metadata": {
    "collapsed": true
   },
   "outputs": [],
   "source": [
    "dih_i = dihtype.Dihtype('X','CA','CA','X',unit_conf=oplsaa.unit_conf)\n",
    "dih_i.type ='opls'\n",
    "dih_i.setopls(0.0,1.812532,0.0,0.0)\n",
    "oplsaa.add_dihtype(dih_i)"
   ]
  },
  {
   "cell_type": "code",
   "execution_count": 134,
   "metadata": {
    "collapsed": true
   },
   "outputs": [],
   "source": [
    "dih_i = dihtype.Dihtype('X','S','CA','X',unit_conf=oplsaa.unit_conf)\n",
    "dih_i.type ='opls'\n",
    "dih_i.setopls(0.0,2.416710,0.0,0.0)\n",
    "oplsaa.add_dihtype(dih_i)"
   ]
  },
  {
   "cell_type": "code",
   "execution_count": 135,
   "metadata": {
    "collapsed": true
   },
   "outputs": [],
   "source": [
    "dih_i = dihtype.Dihtype('S','CA','CA','HA',unit_conf=oplsaa.unit_conf)\n",
    "dih_i.type ='opls'\n",
    "dih_i.setopls(0.0,1.812532,0.0,0.0)\n",
    "oplsaa.add_dihtype(dih_i)"
   ]
  },
  {
   "cell_type": "code",
   "execution_count": 136,
   "metadata": {},
   "outputs": [
    {
     "name": "stdout",
     "output_type": "stream",
     "text": [
      "0  dihedral  HC - CT - CT - HC type opls \n",
      "  k1 = 0.000000 k2 = 0.000000 k3 = 0.300000 k4 = 0.000000 lammps index 0  gromcas index 0 \n",
      "1  dihedral  X - CA - CA - X type opls \n",
      "  k1 = 0.000000 k2 = 1.812532 k3 = 0.000000 k4 = 0.000000 lammps index 0  gromcas index 0 \n",
      "2  dihedral  X - S - CA - X type opls \n",
      "  k1 = 0.000000 k2 = 2.416710 k3 = 0.000000 k4 = 0.000000 lammps index 0  gromcas index 0 \n",
      "3  dihedral  S - CA - CA - HA type opls \n",
      "  k1 = 0.000000 k2 = 1.812532 k3 = 0.000000 k4 = 0.000000 lammps index 0  gromcas index 0 \n"
     ]
    }
   ],
   "source": [
    "for dk,d in oplsaa.dihtypes.iteritems():\n",
    "    print dk,d "
   ]
  },
  {
   "cell_type": "markdown",
   "metadata": {},
   "source": [
    "Let us make an MD simulation of just the monomer to check that our parameters are okay"
   ]
  },
  {
   "cell_type": "code",
   "execution_count": 367,
   "metadata": {},
   "outputs": [
    {
     "name": "stdout",
     "output_type": "stream",
     "text": [
      "192\n"
     ]
    }
   ],
   "source": [
    "print peregrine.properties['nproc']"
   ]
  },
  {
   "cell_type": "code",
   "execution_count": 368,
   "metadata": {},
   "outputs": [
    {
     "name": "stdout",
     "output_type": "stream",
     "text": [
      "12\n"
     ]
    }
   ],
   "source": [
    "print len(p3ht_et.calculations)"
   ]
  },
  {
   "cell_type": "code",
   "execution_count": 369,
   "metadata": {
    "collapsed": true
   },
   "outputs": [],
   "source": [
    "def lmp_run(project_i,bb_i,param_i,res_i,md_type = 'min'):\n",
    "    calc_n =  len(project_i.calculations)     \n",
    "    # Create LAMMPS calculation object \n",
    "    lmp_i = streamm.LAMMPS('lmp_{}_{}_calc_{}'.format(md_type,bb_i.tag,calc_n))\n",
    "    # Set parameter container \n",
    "    lmp_i.paramC = param_i\n",
    "    lmp_i.set_strucC(bb_i)\n",
    "    # Set force-field parameters \n",
    "    lmp_i.set_ffparam()\n",
    "    # Set resource to local\n",
    "    lmp_i.set_resource(res_i)\n",
    "    # Make local directories\n",
    "    lmp_i.make_dir()\n",
    "    # Set pbc's to on\n",
    "    lmp_i.strucC.lat.pbcs = [True,True,True]\n",
    "    # Change to launch directory\n",
    "    os.chdir(lmp_i.dir['launch'])\n",
    "    # Copy over the templates from the template directory \n",
    "    lmp_i.cp_file('templates','in',\"lammps_{}.in\".format(md_type),'templates','launch')\n",
    "    lmp_i.cp_file('templates','run',\"lammps_peregrine.pbs\",'templates','launch')\n",
    "    # Change to scratch\n",
    "    os.chdir(lmp_i.dir['launch'])\n",
    "    # Read in template files and store them as strings in the `str` dictionary\n",
    "    lmp_i.load_str('templates','in')\n",
    "    lmp_i.load_str('templates','run')\n",
    "    # Write LAMMPS .data file\n",
    "    lmp_i.write_data()\n",
    "    # Replace keys in template string with properties \n",
    "    lmp_i.replacewrite_prop('in','input','in','%s.in'%(lmp_i.tag))\n",
    "    # Add the input file to the properties to be written into the run file\n",
    "    lmp_i.properties['input_in'] = lmp_i.files['input']['in']\n",
    "    lmp_i.replacewrite_prop('run','scripts','run','%s.pbs'%(lmp_i.tag))\n",
    "    # Save json file in root directory\n",
    "    os.chdir(lmp_i.dir['home'])\n",
    "    lmp_i.dump_json()\n",
    "    # Run bash script or submit to cluster\n",
    "    lmp_i.add_file('output','log',\"%s.log\"%(lmp_i.tag))\n",
    "    # Save details in .json files \n",
    "    os.chdir(lmp_i.dir['home'])\n",
    "    project_i.dump_json()\n",
    "    #\n",
    "    os.chdir(lmp_i.dir['launch'])\n",
    "    lmp_i.push()\n",
    "    lmp_i.run()\n",
    "    # Add calculation to project\n",
    "    project_i.add_calc(lmp_i,deepcopy = True)\n",
    "    # \n",
    "    return project_i     "
   ]
  },
  {
   "cell_type": "code",
   "execution_count": 138,
   "metadata": {
    "collapsed": true
   },
   "outputs": [],
   "source": [
    "p3ht_et = lmp_run(p3ht_et,bbTh,oplsaa,peregrine)"
   ]
  },
  {
   "cell_type": "code",
   "execution_count": 141,
   "metadata": {},
   "outputs": [
    {
     "name": "stdout",
     "output_type": "stream",
     "text": [
      "Calculation nw_opt_thiophene has status stored\n",
      "Calculation nw_esp_thiophene has status stored\n",
      "Calculation lmp_min_thiophene_HFesp has status finished\n"
     ]
    }
   ],
   "source": [
    "p3ht_et.check()"
   ]
  },
  {
   "cell_type": "code",
   "execution_count": 150,
   "metadata": {},
   "outputs": [],
   "source": [
    "lmp_i = p3ht_et.calculations['lmp_min_thiophene_HFesp']"
   ]
  },
  {
   "cell_type": "code",
   "execution_count": null,
   "metadata": {
    "collapsed": true
   },
   "outputs": [],
   "source": [
    "while( lmp_i.meta['status'] != 'finished'):\n",
    "    lmp_i.check()\n",
    "    time.sleep(30)"
   ]
  },
  {
   "cell_type": "code",
   "execution_count": 151,
   "metadata": {},
   "outputs": [
    {
     "name": "stdout",
     "output_type": "stream",
     "text": [
      ">  using mdrun with len 1 \n",
      " Adding thermo keys from line: Step Temp PotEng TotEng Press Volume Lx Ly Lz E_bond E_angle E_dihed E_impro E_vdwl E_coul E_long E_tail \n",
      " \n",
      "> col  0 ['0', '0', '13.428697', '13.428697', '-0.46933067', '1000000', '100', '100', '100', '7.4350667', '3.7504985', '5.3979259e-08', '0', '-0.0096916688', '4.3386592', '-2.0858362', '0']\n",
      "1 9823u  [0.0]\n",
      "> col  1 ['8', '0', '5.607597', '5.607597', '0.027893444', '1000000', '100', '100', '100', '0.11529057', '3.2551753', '3.1584433e-08', '0', '-0.0095616836', '4.3330284', '-2.0863357', '0']\n",
      "2 9823u  [0.0, 8.0]\n",
      " Calc 0 finished \n"
     ]
    }
   ],
   "source": [
    "lmp_i.analysis()"
   ]
  },
  {
   "cell_type": "markdown",
   "metadata": {},
   "source": [
    "Energy decreased and nothing exploded so that's good"
   ]
  },
  {
   "cell_type": "code",
   "execution_count": 152,
   "metadata": {
    "collapsed": true
   },
   "outputs": [],
   "source": [
    "lmp_i.store()"
   ]
  },
  {
   "cell_type": "markdown",
   "metadata": {},
   "source": [
    "Read in data file positions"
   ]
  },
  {
   "cell_type": "code",
   "execution_count": 153,
   "metadata": {
    "collapsed": true
   },
   "outputs": [],
   "source": [
    "lmp_i.pull()"
   ]
  },
  {
   "cell_type": "markdown",
   "metadata": {},
   "source": [
    "Read in data file output and update positions"
   ]
  },
  {
   "cell_type": "code",
   "execution_count": 154,
   "metadata": {},
   "outputs": [],
   "source": [
    "os.chdir(lmp_i.dir['launch'])"
   ]
  },
  {
   "cell_type": "code",
   "execution_count": 155,
   "metadata": {},
   "outputs": [
    {
     "name": "stdout",
     "output_type": "stream",
     "text": [
      "min1.data\n"
     ]
    }
   ],
   "source": [
    "datafn = lmp_i.files['output']['data_1']\n",
    "print datafn"
   ]
  },
  {
   "cell_type": "code",
   "execution_count": 157,
   "metadata": {},
   "outputs": [],
   "source": [
    "lmp_i.read_data_pos(datafn)"
   ]
  },
  {
   "cell_type": "code",
   "execution_count": 158,
   "metadata": {},
   "outputs": [
    {
     "name": "stdout",
     "output_type": "stream",
     "text": [
      "[[ 100.    0.    0.]\n",
      " [   0.  100.    0.]\n",
      " [   0.    0.  100.]]\n"
     ]
    }
   ],
   "source": [
    "print lmp_i.strucC.lat.matrix"
   ]
  },
  {
   "cell_type": "code",
   "execution_count": 159,
   "metadata": {
    "collapsed": true
   },
   "outputs": [],
   "source": [
    "lmp_i.strucC.write_xyz()"
   ]
  },
  {
   "cell_type": "markdown",
   "metadata": {},
   "source": [
    "We will use the oplsaa optimized structure as the initial structure since we will be running MD "
   ]
  },
  {
   "cell_type": "code",
   "execution_count": 160,
   "metadata": {
    "collapsed": true
   },
   "outputs": [],
   "source": [
    "bbTh.tag += '_oplsaa'"
   ]
  },
  {
   "cell_type": "code",
   "execution_count": 161,
   "metadata": {},
   "outputs": [
    {
     "name": "stdout",
     "output_type": "stream",
     "text": [
      "0 C [ -1.56811519e+00  -1.93637672e+00  -7.65954086e-04]\n",
      "1 C [ -1.72605712e-01  -1.89182626e+00  -1.07762453e-03]\n",
      "2 C [ 0.33809134 -0.59678406 -0.00066163]\n",
      "3 C [ -6.51388922e-01   3.88285026e-01  -5.07119165e-05]\n",
      "4 S [ -2.21210590e+00  -3.39334615e-01   1.29367266e-05]\n",
      "5 H [ -2.15974655e+00  -2.84091416e+00  -1.00326260e-03]\n",
      "6 H [  4.46294553e-01  -2.77631869e+00  -1.60458697e-03]\n",
      "7 H [  1.39411858e+00  -3.72797638e-01  -7.68173062e-04]\n",
      "8 H [ -4.66380194e-01   1.45317412e+00   3.60004847e-04]\n"
     ]
    }
   ],
   "source": [
    "for pk,p in bbTh.particles.iteritems():\n",
    "    bbTh.positions[pk] = lmp_i.strucC.positions[pk]\n",
    "    print pk,p.symbol,bbTh.positions[pk]"
   ]
  },
  {
   "cell_type": "markdown",
   "metadata": {},
   "source": [
    "Save the Buildingblock and force-field"
   ]
  },
  {
   "cell_type": "code",
   "execution_count": 162,
   "metadata": {
    "collapsed": true
   },
   "outputs": [],
   "source": [
    "os.chdir(res_local.dir['materials']) \n",
    "bbTh.write_xyz()\n",
    "bbTh.dump_pickle() \n",
    "oplsaa.dump_pickle()"
   ]
  },
  {
   "cell_type": "markdown",
   "metadata": {},
   "source": [
    "Okay now that we have a handle on thiophene let's follow the same procedure for hexane"
   ]
  },
  {
   "cell_type": "markdown",
   "metadata": {},
   "source": [
    "Build hexane"
   ]
  },
  {
   "cell_type": "code",
   "execution_count": 163,
   "metadata": {},
   "outputs": [],
   "source": [
    "bbHex = streamm.Buildingblock('hexane')\n",
    "symbols = ['C','H','H','H','C','H','H','C','H','H','C','H','H','C','H','H','C','H','H','H']\n",
    "positions = [ ]\n",
    "positions.append([-6.410969,-0.381641,-0.000031])\n",
    "positions.append([-7.310084,0.245311,-0.000038])\n",
    "positions.append([-6.456117,-1.028799,0.884636])\n",
    "positions.append([-6.456111,-1.028812,-0.884689])\n",
    "positions.append([-5.135268,0.467175,-0.000033])\n",
    "positions.append([-5.135484,1.128782,0.877977])\n",
    "positions.append([-5.135479,1.128771,-0.87805])\n",
    "positions.append([-3.850566,-0.371258,-0.000024])\n",
    "positions.append([-3.85112,-1.033978,0.87841])\n",
    "positions.append([-3.851114,-1.033987,-0.878451])\n",
    "positions.append([-2.567451,0.469603,-0.000024])\n",
    "positions.append([-2.567784,1.132155,0.8784])\n",
    "positions.append([-2.567776,1.132146,-0.878455])\n",
    "positions.append([-1.283527,-0.370234,-0.000013])\n",
    "positions.append([-1.28337,-1.032804,0.87836])\n",
    "positions.append([-1.28336,-1.032812,-0.87838])\n",
    "positions.append([0.00482234,0.47342231,-0.00000898])\n",
    "positions.append([0.02595107,1.09220686,0.87266464])\n",
    "positions.append([0.85585781,-0.17514133,0.00194589])\n",
    "positions.append([0.02780957,1.08937798,-0.87463473])\n",
    "for i in range(len(symbols)):\n",
    "    pt_i = streamm.Particle(symbol=symbols[i])\n",
    "    pos_i = positions[i]\n",
    "    bbHex.add_partpos(pt_i,pos_i)"
   ]
  },
  {
   "cell_type": "code",
   "execution_count": 164,
   "metadata": {
    "collapsed": true
   },
   "outputs": [],
   "source": [
    "bbHex.particles[0].rsite = 'rg'\n",
    "bbHex.particles[1].rsite = 'rgcap'"
   ]
  },
  {
   "cell_type": "code",
   "execution_count": 165,
   "metadata": {
    "collapsed": true
   },
   "outputs": [],
   "source": [
    "c_cnt =1\n",
    "h_cnt =1\n",
    "for pkey_i, particle_i  in bbHex.particles.iteritems():\n",
    "            if( particle_i.symbol == 'C' ):\n",
    "                particle_i.label = \"C%d\"%(c_cnt)\n",
    "                particle_i.resname = \"SCP3\"\n",
    "                particle_i.residue = c_cnt\n",
    "                c_cnt +=1 \n",
    "            if( particle_i.symbol == 'H' ):\n",
    "                particle_i.label = \"H%d\"%(h_cnt)\n",
    "                particle_i.resname = \"HC\"\n",
    "                particle_i.residue = c_cnt -1 \n",
    "                h_cnt +=1 "
   ]
  },
  {
   "cell_type": "markdown",
   "metadata": {},
   "source": [
    "Set the parameter keys and some reasonable atomic charges "
   ]
  },
  {
   "cell_type": "code",
   "execution_count": 166,
   "metadata": {},
   "outputs": [
    {
     "name": "stdout",
     "output_type": "stream",
     "text": [
      "0 C -0.12\n",
      "1 H 0.06\n",
      "2 H 0.06\n",
      "3 H 0.06\n",
      "4 C -0.12\n",
      "5 H 0.06\n",
      "6 H 0.06\n",
      "7 C -0.12\n",
      "8 H 0.06\n",
      "9 H 0.06\n",
      "10 C -0.12\n",
      "11 H 0.06\n",
      "12 H 0.06\n",
      "13 C -0.12\n",
      "14 H 0.06\n",
      "15 H 0.06\n",
      "16 C -0.12\n",
      "17 H 0.06\n",
      "18 H 0.06\n",
      "19 H 0.06\n"
     ]
    }
   ],
   "source": [
    "for pkey_i, particle_i  in bbHex.particles.iteritems():\n",
    "            if( particle_i.symbol == 'C' ):\n",
    "                particle_i.paramkey = 'CT'\n",
    "                particle_i.charge = -0.12\n",
    "\n",
    "            if( particle_i.symbol == 'H' ):\n",
    "                particle_i.paramkey = 'HC'\n",
    "                particle_i.charge = 0.06\n",
    "            print pkey_i, particle_i.symbol,particle_i.charge"
   ]
  },
  {
   "cell_type": "code",
   "execution_count": 167,
   "metadata": {
    "collapsed": true
   },
   "outputs": [],
   "source": [
    "bbHex.particles[0].charge  = -0.18\n",
    "bbHex.particles[16].charge  = -0.18"
   ]
  },
  {
   "cell_type": "markdown",
   "metadata": {},
   "source": [
    "Check that the molecule is neutral "
   ]
  },
  {
   "cell_type": "code",
   "execution_count": 168,
   "metadata": {},
   "outputs": [
    {
     "name": "stdout",
     "output_type": "stream",
     "text": [
      "0.0\n"
     ]
    }
   ],
   "source": [
    "bbHex.calc_charge()\n",
    "print bbHex.charge\n"
   ]
  },
  {
   "cell_type": "markdown",
   "metadata": {},
   "source": [
    "Now let us optimze and calculate ESP charges for hexane"
   ]
  },
  {
   "cell_type": "markdown",
   "metadata": {},
   "source": [
    "Optimize structure with NWChem"
   ]
  },
  {
   "cell_type": "code",
   "execution_count": 169,
   "metadata": {},
   "outputs": [
    {
     "name": "stdout",
     "output_type": "stream",
     "text": [
      "nw_opt_hexane\n",
      "{u'allocation': 'orgopv',\n",
      " u'basis': '6-31g',\n",
      " u'charge': 0,\n",
      " 'comp_key': 'compressed',\n",
      " 'compress': 'tar -czf ',\n",
      " 'compress_sufix': 'tgz',\n",
      " 'coord': u'     C      -6.41096900      -0.38164100      -0.00003100 \\n     H      -7.31008400       0.24531100      -0.00003800 \\n     H      -6.45611700      -1.02879900       0.88463600 \\n     H      -6.45611100      -1.02881200      -0.88468900 \\n     C      -5.13526800       0.46717500      -0.00003300 \\n     H      -5.13548400       1.12878200       0.87797700 \\n     H      -5.13547900       1.12877100      -0.87805000 \\n     C      -3.85056600      -0.37125800      -0.00002400 \\n     H      -3.85112000      -1.03397800       0.87841000 \\n     H      -3.85111400      -1.03398700      -0.87845100 \\n     C      -2.56745100       0.46960300      -0.00002400 \\n     H      -2.56778400       1.13215500       0.87840000 \\n     H      -2.56777600       1.13214600      -0.87845500 \\n     C      -1.28352700      -0.37023400      -0.00001300 \\n     H      -1.28337000      -1.03280400       0.87836000 \\n     H      -1.28336000      -1.03281200      -0.87838000 \\n     C       0.00482234       0.47342231      -0.00000898 \\n     H       0.02595107       1.09220686       0.87266464 \\n     H       0.85585781      -0.17514133       0.00194589 \\n     H       0.02780957       1.08937798      -0.87463473 \\n',\n",
      " 'e-mail': 'travis.kemper@nrel.gov',\n",
      " u'exe_command': 'qsub ',\n",
      " u'feature': '24core',\n",
      " u'finish_str': u'Total times  cpu:',\n",
      " u'maxiter': 100,\n",
      " u'method': 'UHF',\n",
      " u'nodes': 1,\n",
      " u'nproc': 24,\n",
      " u'pmem': 1500,\n",
      " u'ppn': 24,\n",
      " u'queue': 'short',\n",
      " 'scratch': u'/scratch/tkemper/nw_opt_hexane/',\n",
      " u'spin_mult': 1,\n",
      " u'task': 'SCF optimize',\n",
      " 'uncompress': 'tar -xzf ',\n",
      " u'walltime': 4}\n"
     ]
    }
   ],
   "source": [
    "p3ht_et = nw_opt(p3ht_et,bbHex,peregrine)"
   ]
  },
  {
   "cell_type": "code",
   "execution_count": 170,
   "metadata": {
    "collapsed": true
   },
   "outputs": [],
   "source": [
    "nwchem_i = p3ht_et.calculations['nw_opt_hexane']"
   ]
  },
  {
   "cell_type": "code",
   "execution_count": 171,
   "metadata": {},
   "outputs": [
    {
     "name": "stdout",
     "output_type": "stream",
     "text": [
      "Calculation nw_opt_thiophene has status stored\n",
      "Calculation nw_opt_hexane has status finished\n",
      "Calculation nw_esp_thiophene has status stored\n",
      "Calculation lmp_min_thiophene_HFesp has status stored\n"
     ]
    }
   ],
   "source": [
    "p3ht_et.check()"
   ]
  },
  {
   "cell_type": "code",
   "execution_count": null,
   "metadata": {
    "collapsed": true
   },
   "outputs": [],
   "source": [
    "while( nwchem_i.meta['status'] != 'finished'):\n",
    "    nwchem_i.check()\n",
    "    time.sleep(30)"
   ]
  },
  {
   "cell_type": "markdown",
   "metadata": {},
   "source": [
    "Get the calculation from the project object "
   ]
  },
  {
   "cell_type": "code",
   "execution_count": 172,
   "metadata": {
    "collapsed": true
   },
   "outputs": [],
   "source": [
    "nwchem_i.analysis()"
   ]
  },
  {
   "cell_type": "markdown",
   "metadata": {},
   "source": [
    "Print energies "
   ]
  },
  {
   "cell_type": "code",
   "execution_count": 173,
   "metadata": {},
   "outputs": [
    {
     "name": "stdout",
     "output_type": "stream",
     "text": [
      "[]\n",
      "-235.269664311\n"
     ]
    }
   ],
   "source": [
    "print nwchem_i.properties['alpha_energies'][10:20]\n",
    "print nwchem_i.properties['energy']"
   ]
  },
  {
   "cell_type": "markdown",
   "metadata": {},
   "source": [
    "Check that the positions of the structure have been optimized "
   ]
  },
  {
   "cell_type": "code",
   "execution_count": 174,
   "metadata": {},
   "outputs": [
    {
     "name": "stdout",
     "output_type": "stream",
     "text": [
      "0 C [ -6.41096900e+00  -3.81641000e-01  -3.10000000e-05]\n",
      "1 H [ -7.31008400e+00   2.45311000e-01  -3.80000000e-05]\n",
      "2 H [-6.456117 -1.028799  0.884636]\n",
      "3 H [-6.456111 -1.028812 -0.884689]\n",
      "4 C [ -5.13526800e+00   4.67175000e-01  -3.30000000e-05]\n",
      "5 H [-5.135484  1.128782  0.877977]\n",
      "6 H [-5.135479  1.128771 -0.87805 ]\n",
      "7 C [ -3.85056600e+00  -3.71258000e-01  -2.40000000e-05]\n",
      "8 H [-3.85112  -1.033978  0.87841 ]\n",
      "9 H [-3.851114 -1.033987 -0.878451]\n",
      "10 C [ -2.56745100e+00   4.69603000e-01  -2.40000000e-05]\n",
      "11 H [-2.567784  1.132155  0.8784  ]\n",
      "12 H [-2.567776  1.132146 -0.878455]\n",
      "13 C [ -1.28352700e+00  -3.70234000e-01  -1.30000000e-05]\n",
      "14 H [-1.28337  -1.032804  0.87836 ]\n",
      "15 H [-1.28336  -1.032812 -0.87838 ]\n",
      "16 C [  4.82234000e-03   4.73422310e-01  -8.98000000e-06]\n",
      "17 H [ 0.02595107  1.09220686  0.87266464]\n",
      "18 H [ 0.85585781 -0.17514133  0.00194589]\n",
      "19 H [ 0.02780957  1.08937798 -0.87463473]\n"
     ]
    }
   ],
   "source": [
    "for pk,p in bbHex.particles.iteritems():\n",
    "    print pk,p.symbol,bbHex.positions[pk]"
   ]
  },
  {
   "cell_type": "code",
   "execution_count": 175,
   "metadata": {},
   "outputs": [
    {
     "name": "stdout",
     "output_type": "stream",
     "text": [
      "[[ -6.41096900e+00  -3.81641000e-01  -3.10000000e-05]\n",
      " [ -7.31008400e+00   2.45311000e-01  -3.80000000e-05]\n",
      " [ -6.45611700e+00  -1.02879900e+00   8.84636000e-01]\n",
      " [ -6.45611100e+00  -1.02881200e+00  -8.84689000e-01]\n",
      " [ -5.13526800e+00   4.67175000e-01  -3.30000000e-05]\n",
      " [ -5.13548400e+00   1.12878200e+00   8.77977000e-01]\n",
      " [ -5.13547900e+00   1.12877100e+00  -8.78050000e-01]\n",
      " [ -3.85056600e+00  -3.71258000e-01  -2.40000000e-05]\n",
      " [ -3.85112000e+00  -1.03397800e+00   8.78410000e-01]\n",
      " [ -3.85111400e+00  -1.03398700e+00  -8.78451000e-01]\n",
      " [ -2.56745100e+00   4.69603000e-01  -2.40000000e-05]\n",
      " [ -2.56778400e+00   1.13215500e+00   8.78400000e-01]\n",
      " [ -2.56777600e+00   1.13214600e+00  -8.78455000e-01]\n",
      " [ -1.28352700e+00  -3.70234000e-01  -1.30000000e-05]\n",
      " [ -1.28337000e+00  -1.03280400e+00   8.78360000e-01]\n",
      " [ -1.28336000e+00  -1.03281200e+00  -8.78380000e-01]\n",
      " [  4.82234000e-03   4.73422310e-01  -8.98000000e-06]\n",
      " [  2.59510700e-02   1.09220686e+00   8.72664640e-01]\n",
      " [  8.55857810e-01  -1.75141330e-01   1.94589000e-03]\n",
      " [  2.78095700e-02   1.08937798e+00  -8.74634730e-01]]\n"
     ]
    }
   ],
   "source": [
    "print nwchem_i.strucC.positions"
   ]
  },
  {
   "cell_type": "markdown",
   "metadata": {},
   "source": [
    "Update positions in Buildingblock object"
   ]
  },
  {
   "cell_type": "code",
   "execution_count": 176,
   "metadata": {},
   "outputs": [
    {
     "name": "stdout",
     "output_type": "stream",
     "text": [
      "0 C [ -6.41096900e+00  -3.81641000e-01  -3.10000000e-05]\n",
      "1 H [ -7.31008400e+00   2.45311000e-01  -3.80000000e-05]\n",
      "2 H [-6.456117 -1.028799  0.884636]\n",
      "3 H [-6.456111 -1.028812 -0.884689]\n",
      "4 C [ -5.13526800e+00   4.67175000e-01  -3.30000000e-05]\n",
      "5 H [-5.135484  1.128782  0.877977]\n",
      "6 H [-5.135479  1.128771 -0.87805 ]\n",
      "7 C [ -3.85056600e+00  -3.71258000e-01  -2.40000000e-05]\n",
      "8 H [-3.85112  -1.033978  0.87841 ]\n",
      "9 H [-3.851114 -1.033987 -0.878451]\n",
      "10 C [ -2.56745100e+00   4.69603000e-01  -2.40000000e-05]\n",
      "11 H [-2.567784  1.132155  0.8784  ]\n",
      "12 H [-2.567776  1.132146 -0.878455]\n",
      "13 C [ -1.28352700e+00  -3.70234000e-01  -1.30000000e-05]\n",
      "14 H [-1.28337  -1.032804  0.87836 ]\n",
      "15 H [-1.28336  -1.032812 -0.87838 ]\n",
      "16 C [  4.82234000e-03   4.73422310e-01  -8.98000000e-06]\n",
      "17 H [ 0.02595107  1.09220686  0.87266464]\n",
      "18 H [ 0.85585781 -0.17514133  0.00194589]\n",
      "19 H [ 0.02780957  1.08937798 -0.87463473]\n"
     ]
    }
   ],
   "source": [
    "for pk,p in bbHex.particles.iteritems():\n",
    "    bbHex.positions[pk] = nwchem_i.strucC.positions[pk]\n",
    "    print pk,p.symbol,bbHex.positions[pk]"
   ]
  },
  {
   "cell_type": "markdown",
   "metadata": {},
   "source": [
    "Store the results in a tar ball in the storage directory "
   ]
  },
  {
   "cell_type": "code",
   "execution_count": 177,
   "metadata": {
    "collapsed": true
   },
   "outputs": [],
   "source": [
    "nwchem_i.store()"
   ]
  },
  {
   "cell_type": "markdown",
   "metadata": {},
   "source": [
    "Now let us calculate the ESP charges to use in our forcefield "
   ]
  },
  {
   "cell_type": "code",
   "execution_count": 178,
   "metadata": {
    "scrolled": true
   },
   "outputs": [
    {
     "name": "stdout",
     "output_type": "stream",
     "text": [
      "nw_esp_hexane\n",
      "{u'allocation': 'orgopv',\n",
      " u'basis': '6-31g',\n",
      " u'charge': 0,\n",
      " 'comp_key': 'compressed',\n",
      " 'compress': 'tar -czf ',\n",
      " 'compress_sufix': 'tgz',\n",
      " 'coord': u'     C      -6.41096900      -0.38164100      -0.00003100 \\n     H      -7.31008400       0.24531100      -0.00003800 \\n     H      -6.45611700      -1.02879900       0.88463600 \\n     H      -6.45611100      -1.02881200      -0.88468900 \\n     C      -5.13526800       0.46717500      -0.00003300 \\n     H      -5.13548400       1.12878200       0.87797700 \\n     H      -5.13547900       1.12877100      -0.87805000 \\n     C      -3.85056600      -0.37125800      -0.00002400 \\n     H      -3.85112000      -1.03397800       0.87841000 \\n     H      -3.85111400      -1.03398700      -0.87845100 \\n     C      -2.56745100       0.46960300      -0.00002400 \\n     H      -2.56778400       1.13215500       0.87840000 \\n     H      -2.56777600       1.13214600      -0.87845500 \\n     C      -1.28352700      -0.37023400      -0.00001300 \\n     H      -1.28337000      -1.03280400       0.87836000 \\n     H      -1.28336000      -1.03281200      -0.87838000 \\n     C       0.00482234       0.47342231      -0.00000898 \\n     H       0.02595107       1.09220686       0.87266464 \\n     H       0.85585781      -0.17514133       0.00194589 \\n     H       0.02780957       1.08937798      -0.87463473 \\n',\n",
      " 'e-mail': 'travis.kemper@nrel.gov',\n",
      " u'exe_command': 'qsub ',\n",
      " u'feature': '24core',\n",
      " u'finish_str': u'Total times  cpu:',\n",
      " u'maxiter': 100,\n",
      " u'method': 'UHF',\n",
      " u'nodes': 1,\n",
      " u'nproc': 24,\n",
      " u'pmem': 1500,\n",
      " u'ppn': 24,\n",
      " u'queue': 'short',\n",
      " 'scratch': u'/scratch/tkemper/nw_esp_hexane/',\n",
      " u'spin_mult': 1,\n",
      " u'task': 'SCF',\n",
      " 'uncompress': 'tar -xzf ',\n",
      " u'walltime': 4}\n"
     ]
    }
   ],
   "source": [
    "p3ht_et = nw_esp(p3ht_et,bbHex,peregrine)"
   ]
  },
  {
   "cell_type": "markdown",
   "metadata": {},
   "source": [
    "Check status unit finished"
   ]
  },
  {
   "cell_type": "code",
   "execution_count": 181,
   "metadata": {},
   "outputs": [
    {
     "name": "stdout",
     "output_type": "stream",
     "text": [
      "Calculation nw_opt_thiophene has status stored\n",
      "Calculation nw_opt_hexane has status stored\n",
      "Calculation nw_esp_thiophene has status stored\n",
      "Calculation lmp_min_thiophene_HFesp has status stored\n",
      "Calculation nw_esp_hexane has status finished\n"
     ]
    }
   ],
   "source": [
    "p3ht_et.check()"
   ]
  },
  {
   "cell_type": "code",
   "execution_count": 179,
   "metadata": {
    "collapsed": true
   },
   "outputs": [],
   "source": [
    "nwchem_i = p3ht_et.calculations['nw_esp_hexane']"
   ]
  },
  {
   "cell_type": "code",
   "execution_count": 180,
   "metadata": {
    "collapsed": true
   },
   "outputs": [],
   "source": [
    "while( nwchem_i.meta['status'] != 'finished'):\n",
    "    nwchem_i.check()\n",
    "    time.sleep(30)"
   ]
  },
  {
   "cell_type": "code",
   "execution_count": 182,
   "metadata": {
    "collapsed": true
   },
   "outputs": [],
   "source": [
    "nwchem_i.analysis()"
   ]
  },
  {
   "cell_type": "code",
   "execution_count": 183,
   "metadata": {},
   "outputs": [
    {
     "name": "stdout",
     "output_type": "stream",
     "text": [
      "0 C -0.105262\n",
      "1 H 0.014539\n",
      "2 H 0.012048\n",
      "3 H 0.013508\n",
      "4 C 0.19358\n",
      "5 H -0.055571\n",
      "6 H -0.050691\n",
      "7 C 0.02063\n",
      "8 H -0.02177\n",
      "9 H -0.023452\n",
      "10 C 0.038524\n",
      "11 H -0.031295\n",
      "12 H -0.028867\n",
      "13 C 0.205973\n",
      "14 H -0.055658\n",
      "15 H -0.059938\n",
      "16 C -0.09414\n",
      "17 H 0.006364\n",
      "18 H 0.00836\n",
      "19 H 0.013116\n"
     ]
    }
   ],
   "source": [
    "for pk,p in nwchem_i.strucC.particles.iteritems():\n",
    "    print pk,p.symbol,p.charge"
   ]
  },
  {
   "cell_type": "code",
   "execution_count": 184,
   "metadata": {},
   "outputs": [
    {
     "name": "stdout",
     "output_type": "stream",
     "text": [
      "-2.00000000003e-06\n"
     ]
    }
   ],
   "source": [
    "nwchem_i.strucC.calc_charge()\n",
    "print nwchem_i.strucC.charge"
   ]
  },
  {
   "cell_type": "markdown",
   "metadata": {},
   "source": [
    "Print energies "
   ]
  },
  {
   "cell_type": "code",
   "execution_count": 185,
   "metadata": {},
   "outputs": [
    {
     "name": "stdout",
     "output_type": "stream",
     "text": [
      "[-0.5549626, -0.5258815, -0.5254663, -0.5002771, -0.4784797, -0.4652444, -0.4549941, -0.4542301, -0.4337884, 0.2280542]\n",
      "-235.271544554\n"
     ]
    }
   ],
   "source": [
    "print nwchem_i.properties['alpha_energies'][10:20]\n",
    "print nwchem_i.properties['energy']"
   ]
  },
  {
   "cell_type": "markdown",
   "metadata": {},
   "source": [
    "Update the charges of the Buildingblock"
   ]
  },
  {
   "cell_type": "code",
   "execution_count": 186,
   "metadata": {
    "collapsed": true
   },
   "outputs": [],
   "source": [
    "for pk,p in bbHex.particles.iteritems():\n",
    "    p.charge = nwchem_i.strucC.particles[pk].charge"
   ]
  },
  {
   "cell_type": "code",
   "execution_count": 187,
   "metadata": {
    "collapsed": true
   },
   "outputs": [],
   "source": [
    "bbHex.tag += '_HFesp'"
   ]
  },
  {
   "cell_type": "markdown",
   "metadata": {},
   "source": [
    "Store the results "
   ]
  },
  {
   "cell_type": "code",
   "execution_count": 188,
   "metadata": {
    "collapsed": true
   },
   "outputs": [],
   "source": [
    "nwchem_i.store()"
   ]
  },
  {
   "cell_type": "markdown",
   "metadata": {},
   "source": [
    "First we need to identify the bonding within the Buildingblock"
   ]
  },
  {
   "cell_type": "code",
   "execution_count": 189,
   "metadata": {
    "collapsed": true
   },
   "outputs": [],
   "source": [
    "bbHex.bonded_nblist = bbHex.guess_nblist(0,radii_buffer=1.35)"
   ]
  },
  {
   "cell_type": "code",
   "execution_count": 190,
   "metadata": {
    "collapsed": true
   },
   "outputs": [],
   "source": [
    "bbHex.bonded_bonds()\n",
    "bbHex.bonded_angles()\n",
    "bbHex.bonded_dih()"
   ]
  },
  {
   "cell_type": "markdown",
   "metadata": {},
   "source": [
    "Add the need parameters the the oplsaa parameter container"
   ]
  },
  {
   "cell_type": "code",
   "execution_count": 191,
   "metadata": {
    "collapsed": true
   },
   "outputs": [],
   "source": [
    "bat_i = angletype.Angletype('CT','CT','CT',unit_conf=oplsaa.unit_conf)\n",
    "bat_i.setharmonic(109.50,40.0)\n",
    "oplsaa.add_angletype(bat_i)"
   ]
  },
  {
   "cell_type": "code",
   "execution_count": 192,
   "metadata": {
    "collapsed": true
   },
   "outputs": [],
   "source": [
    "bat_i = angletype.Angletype('CT','CT','CT',unit_conf=oplsaa.unit_conf)\n",
    "bat_i.setharmonic(109.50,40.0)\n",
    "oplsaa.add_angletype(bat_i)"
   ]
  },
  {
   "cell_type": "code",
   "execution_count": 193,
   "metadata": {
    "collapsed": true
   },
   "outputs": [],
   "source": [
    "bat_i = angletype.Angletype('CT','CT','HC',unit_conf=oplsaa.unit_conf)\n",
    "bat_i.setharmonic(109.50,50.0)\n",
    "oplsaa.add_angletype(bat_i)"
   ]
  },
  {
   "cell_type": "code",
   "execution_count": 194,
   "metadata": {
    "collapsed": true
   },
   "outputs": [],
   "source": [
    "dih_i = dihtype.Dihtype('CT','CT','CT','CT',unit_conf=oplsaa.unit_conf)\n",
    "dih_i.type ='opls'\n",
    "dih_i.setopls(0.433341,-0.016667,0.066668,0.0)\n",
    "oplsaa.add_dihtype(dih_i)"
   ]
  },
  {
   "cell_type": "code",
   "execution_count": 195,
   "metadata": {
    "collapsed": true
   },
   "outputs": [],
   "source": [
    "dih_i = dihtype.Dihtype('HC','CT','CT','CT',unit_conf=oplsaa.unit_conf)\n",
    "dih_i.type ='opls'\n",
    "dih_i.setopls(0.0,-0.0,0.1,0.0)\n",
    "oplsaa.add_dihtype(dih_i)"
   ]
  },
  {
   "cell_type": "code",
   "execution_count": 196,
   "metadata": {
    "collapsed": true
   },
   "outputs": [],
   "source": [
    "dih_i = dihtype.Dihtype('HC','CT','CT','HC',unit_conf=oplsaa.unit_conf)\n",
    "dih_i.type ='opls'\n",
    "dih_i.setopls(0.0,-0.0,0.1,0.0)\n",
    "oplsaa.add_dihtype(dih_i)"
   ]
  },
  {
   "cell_type": "markdown",
   "metadata": {},
   "source": [
    "Run a oplsaa minimization to get the minimized structure"
   ]
  },
  {
   "cell_type": "code",
   "execution_count": 197,
   "metadata": {
    "collapsed": true
   },
   "outputs": [],
   "source": [
    "p3ht_et = lmp_run(p3ht_et,bbHex,oplsaa,peregrine)"
   ]
  },
  {
   "cell_type": "code",
   "execution_count": 198,
   "metadata": {},
   "outputs": [
    {
     "name": "stdout",
     "output_type": "stream",
     "text": [
      "Calculation lmp_min_hexane_HFesp has status finished\n",
      "Calculation nw_esp_thiophene has status stored\n",
      "Calculation nw_opt_thiophene has status stored\n",
      "Calculation nw_opt_hexane has status stored\n",
      "Calculation nw_esp_hexane has status stored\n",
      "Calculation lmp_min_thiophene_HFesp has status stored\n"
     ]
    }
   ],
   "source": [
    "p3ht_et.check()"
   ]
  },
  {
   "cell_type": "code",
   "execution_count": 199,
   "metadata": {},
   "outputs": [],
   "source": [
    "lmp_i = p3ht_et.calculations['lmp_min_hexane_HFesp']"
   ]
  },
  {
   "cell_type": "code",
   "execution_count": null,
   "metadata": {
    "collapsed": true
   },
   "outputs": [],
   "source": [
    "while( lmp_i.meta['status'] != 'finished'):\n",
    "    lmp_i.check()\n",
    "    time.sleep(30)"
   ]
  },
  {
   "cell_type": "code",
   "execution_count": 200,
   "metadata": {},
   "outputs": [
    {
     "name": "stdout",
     "output_type": "stream",
     "text": [
      ">  using mdrun with len 1 \n",
      " Adding thermo keys from line: Step Temp PotEng TotEng Press Volume Lx Ly Lz E_bond E_angle E_dihed E_impro E_vdwl E_coul E_long E_tail \n",
      " \n",
      "> col  0 ['0', '0', '0.41190105', '0.41190105', '-1.9261181', '1000000', '100', '100', '100', '0.23947518', '2.3669071', '0.013163119', '0', '-0.77470675', '-0.33289267', '-1.100045', '0']\n",
      "1 9823u  [0.0]\n",
      "> col  1 ['25', '0', '-2.0815576', '-2.0815576', '-0.086547071', '1000000', '100', '100', '100', '0.0033958522', '0.09254902', '0.0004568671', '0', '-0.7104337', '-0.36748046', '-1.1000452', '0']\n",
      "2 9823u  [0.0, 25.0]\n",
      " Calc 0 finished \n"
     ]
    }
   ],
   "source": [
    "lmp_i.analysis()"
   ]
  },
  {
   "cell_type": "markdown",
   "metadata": {},
   "source": [
    "Energy decreased and nothing exploded so that's good"
   ]
  },
  {
   "cell_type": "code",
   "execution_count": 201,
   "metadata": {
    "collapsed": true
   },
   "outputs": [],
   "source": [
    "lmp_i.store()"
   ]
  },
  {
   "cell_type": "markdown",
   "metadata": {},
   "source": [
    "Read in data file positions"
   ]
  },
  {
   "cell_type": "code",
   "execution_count": 202,
   "metadata": {
    "collapsed": true
   },
   "outputs": [],
   "source": [
    "lmp_i.pull()"
   ]
  },
  {
   "cell_type": "markdown",
   "metadata": {},
   "source": [
    "Read in data file output and update positions"
   ]
  },
  {
   "cell_type": "code",
   "execution_count": 203,
   "metadata": {},
   "outputs": [
    {
     "name": "stdout",
     "output_type": "stream",
     "text": [
      "/Users/tkemper/Development/streamm-tools/examples/scratch/lmp_min_hexane_HFesp/\n"
     ]
    }
   ],
   "source": [
    "print lmp_i.dir['launch']\n",
    "os.chdir(lmp_i.dir['launch'])"
   ]
  },
  {
   "cell_type": "code",
   "execution_count": 204,
   "metadata": {},
   "outputs": [
    {
     "name": "stdout",
     "output_type": "stream",
     "text": [
      "min1.data\n"
     ]
    }
   ],
   "source": [
    "datafn = lmp_i.files['output']['data_1']\n",
    "print datafn"
   ]
  },
  {
   "cell_type": "code",
   "execution_count": 205,
   "metadata": {},
   "outputs": [],
   "source": [
    "lmp_i.read_data_pos(datafn)"
   ]
  },
  {
   "cell_type": "code",
   "execution_count": 206,
   "metadata": {},
   "outputs": [
    {
     "name": "stdout",
     "output_type": "stream",
     "text": [
      "[[ 100.    0.    0.]\n",
      " [   0.  100.    0.]\n",
      " [   0.    0.  100.]]\n"
     ]
    }
   ],
   "source": [
    "print lmp_i.strucC.lat.matrix"
   ]
  },
  {
   "cell_type": "code",
   "execution_count": 207,
   "metadata": {
    "collapsed": true
   },
   "outputs": [],
   "source": [
    "lmp_i.strucC.write_xyz()"
   ]
  },
  {
   "cell_type": "markdown",
   "metadata": {},
   "source": [
    "We will use the oplsaa optimized structure as the initial structure since we will be running MD "
   ]
  },
  {
   "cell_type": "code",
   "execution_count": 208,
   "metadata": {
    "collapsed": true
   },
   "outputs": [],
   "source": [
    "bbHex.tag += '_oplsaa'"
   ]
  },
  {
   "cell_type": "code",
   "execution_count": 209,
   "metadata": {},
   "outputs": [
    {
     "name": "stdout",
     "output_type": "stream",
     "text": [
      "0 C [ -6.34240754e+00  -3.82353585e-01  -5.56491659e-07]\n",
      "1 H [ -7.21207849e+00   2.58183552e-01  -3.32854988e-05]\n",
      "2 H [-6.34312573 -1.00185774  0.88439752]\n",
      "3 H [-6.34304993 -1.0017695  -0.88457973]\n",
      "4 C [ -5.08525165e+00   4.91604666e-01  -1.24122190e-05]\n",
      "5 H [-5.08405992  1.1087691   0.88616587]\n",
      "6 H [-5.0840334   1.10900211 -0.8857965 ]\n",
      "7 C [ -3.83819213e+00  -3.96808889e-01   1.26732542e-05]\n",
      "8 H [-3.84049807 -1.01380236  0.88612113]\n",
      "9 H [-3.8409079  -1.01393792 -0.88631785]\n",
      "10 C [ -2.58459006e+00   4.85037505e-01  -5.11126034e-04]\n",
      "11 H [-2.58160377  1.10245847  0.88563837]\n",
      "12 H [-2.58150702  1.10154017 -0.88697352]\n",
      "13 C [ -1.33843138e+00  -4.04483016e-01   2.90122406e-04]\n",
      "14 H [-1.34047321 -1.02142597  0.88636879]\n",
      "15 H [-1.34008918 -1.02209928 -0.88559241]\n",
      "16 C [ -8.05783703e-02   4.68424646e-01   6.94717265e-05]\n",
      "17 H [-0.07976047  1.08855879  0.88419035]\n",
      "18 H [ 0.78861022 -0.17281355  0.00093658]\n",
      "19 H [-0.07911102  1.0872558  -0.88481048]\n"
     ]
    }
   ],
   "source": [
    "for pk,p in bbHex.particles.iteritems():\n",
    "    bbHex.positions[pk] = lmp_i.strucC.positions[pk]\n",
    "    print pk,p.symbol,bbHex.positions[pk]"
   ]
  },
  {
   "cell_type": "markdown",
   "metadata": {},
   "source": [
    "Save the Buildingblock and force-field"
   ]
  },
  {
   "cell_type": "code",
   "execution_count": 210,
   "metadata": {
    "collapsed": true
   },
   "outputs": [],
   "source": [
    "os.chdir(res_local.dir['materials']) \n",
    "bbHex.write_xyz()\n",
    "bbHex.dump_pickle() \n",
    "oplsaa.dump_pickle()"
   ]
  },
  {
   "cell_type": "code",
   "execution_count": 211,
   "metadata": {},
   "outputs": [
    {
     "name": "stdout",
     "output_type": "stream",
     "text": [
      "hexane_HFesp_oplsaa thiophene_HFesp_oplsaa\n"
     ]
    }
   ],
   "source": [
    "print bbHex.tag,bbTh.tag"
   ]
  },
  {
   "cell_type": "markdown",
   "metadata": {},
   "source": [
    "So let us make some P3HT oligomers "
   ]
  },
  {
   "cell_type": "code",
   "execution_count": 212,
   "metadata": {
    "collapsed": true
   },
   "outputs": [],
   "source": [
    "os.chdir(res_local.dir['materials']) "
   ]
  },
  {
   "cell_type": "code",
   "execution_count": 213,
   "metadata": {
    "collapsed": true
   },
   "outputs": [],
   "source": [
    "bbTh.find_rsites()\n",
    "bbHex.find_rsites()"
   ]
  },
  {
   "cell_type": "code",
   "execution_count": 214,
   "metadata": {},
   "outputs": [
    {
     "name": "stdout",
     "output_type": "stream",
     "text": [
      "rsite:termcap[ paticle:atom[5] H1 (H) index:5 n_bonds:1] \n",
      "rsite:termcap[ paticle:atom[8] H4 (H) index:8 n_bonds:1] \n",
      "rsite:funccap[ paticle:atom[6] H2 (H) index:6 n_bonds:1] \n",
      "\n"
     ]
    }
   ],
   "source": [
    "print(bbTh.show_rsites())"
   ]
  },
  {
   "cell_type": "code",
   "execution_count": 215,
   "metadata": {},
   "outputs": [
    {
     "name": "stdout",
     "output_type": "stream",
     "text": [
      "rsite:rg[ paticle:atom[0] C1 (C) index:0 n_bonds:4] \n",
      "rsite:rgcap[ paticle:atom[1] H1 (H) index:1 n_bonds:1] \n",
      "\n"
     ]
    }
   ],
   "source": [
    "print(bbHex.show_rsites())"
   ]
  },
  {
   "cell_type": "code",
   "execution_count": 216,
   "metadata": {
    "collapsed": true
   },
   "outputs": [],
   "source": [
    "import streamm.structures.buildingblock as bb"
   ]
  },
  {
   "cell_type": "code",
   "execution_count": 217,
   "metadata": {
    "collapsed": true
   },
   "outputs": [],
   "source": [
    "ht = bb.attach(bbTh,bbHex,'funccap',0,'rgcap',0,tag='3-hexyl-thiophene')"
   ]
  },
  {
   "cell_type": "markdown",
   "metadata": {},
   "source": [
    "Update bond angles and dihedrals after Buildingblock join"
   ]
  },
  {
   "cell_type": "code",
   "execution_count": 218,
   "metadata": {
    "collapsed": true
   },
   "outputs": [],
   "source": [
    "ht.bonded_bonds()\n",
    "ht.bonded_angles()\n",
    "ht.bonded_dih()"
   ]
  },
  {
   "cell_type": "markdown",
   "metadata": {},
   "source": [
    "Check that the molecule looks good"
   ]
  },
  {
   "cell_type": "code",
   "execution_count": 219,
   "metadata": {
    "collapsed": true
   },
   "outputs": [],
   "source": [
    "ht.write_xyz()"
   ]
  },
  {
   "cell_type": "markdown",
   "metadata": {},
   "source": [
    "Check the charges of the removed hydrogens got summed onto the functionalized carbons correctly"
   ]
  },
  {
   "cell_type": "code",
   "execution_count": 220,
   "metadata": {},
   "outputs": [
    {
     "data": {
      "text/plain": [
       "-1.999999999977714e-06"
      ]
     },
     "execution_count": 220,
     "metadata": {},
     "output_type": "execute_result"
    }
   ],
   "source": [
    "ht.calc_charge()\n",
    "ht.charge"
   ]
  },
  {
   "cell_type": "code",
   "execution_count": 221,
   "metadata": {},
   "outputs": [
    {
     "name": "stdout",
     "output_type": "stream",
     "text": [
      "rsite:termcap[ paticle:atom[5] H1 (H) index:5 n_bonds:1] \n",
      "rsite:termcap[ paticle:atom[7] H4 (H) index:7 n_bonds:1] \n",
      "rsite:rg[ paticle:atom[8] C1 (C) index:8 n_bonds:4] \n",
      "\n"
     ]
    }
   ],
   "source": [
    "print(ht.show_rsites())"
   ]
  },
  {
   "cell_type": "markdown",
   "metadata": {},
   "source": [
    "Add inter thiophene hexane parameters"
   ]
  },
  {
   "cell_type": "code",
   "execution_count": 222,
   "metadata": {
    "collapsed": true
   },
   "outputs": [],
   "source": [
    "bt_i = bondtype.Bondtype('CT','CA',unit_conf=oplsaa.unit_conf)\n",
    "bt_i.setharmonic(1.51,317.0)\n",
    "oplsaa.add_bondtype(bt_i)"
   ]
  },
  {
   "cell_type": "markdown",
   "metadata": {},
   "source": [
    "Bond angle parameters "
   ]
  },
  {
   "cell_type": "code",
   "execution_count": 223,
   "metadata": {
    "collapsed": true
   },
   "outputs": [],
   "source": [
    "bat_i = angletype.Angletype('CA','CA','CT',unit_conf=oplsaa.unit_conf)\n",
    "bat_i.setharmonic(120.0,70.0)\n",
    "oplsaa.add_angletype(bat_i)\n",
    "\n",
    "\n",
    "bat_i = angletype.Angletype('HA','CA','CT',unit_conf=oplsaa.unit_conf)\n",
    "bat_i.setharmonic(120.0,35.0)\n",
    "oplsaa.add_angletype(bat_i)\n",
    "\n",
    "\n",
    "\n",
    "bat_i = angletype.Angletype('CA','CT','HC',unit_conf=oplsaa.unit_conf)\n",
    "bat_i.setharmonic(109.5,50.0)\n",
    "oplsaa.add_angletype(bat_i)\n",
    "\n",
    "bat_i = angletype.Angletype('CA','CT','CT',unit_conf=oplsaa.unit_conf)\n",
    "bat_i.setharmonic(114.0,63.0)\n",
    "oplsaa.add_angletype(bat_i)"
   ]
  },
  {
   "cell_type": "code",
   "execution_count": 224,
   "metadata": {},
   "outputs": [
    {
     "name": "stdout",
     "output_type": "stream",
     "text": [
      "0  angle  HC - CT - HC type harmonic \n",
      "  harmonic theta_0 = 110.700000 K = 37.500000 lammps index 0  gromacs index 0  \n",
      "1  angle  HC - CT - CT type harmonic \n",
      "  harmonic theta_0 = 110.700000 K = 37.500000 lammps index 0  gromacs index 0  \n",
      "2  angle  CA - CA - CA type harmonic \n",
      "  harmonic theta_0 = 120.000000 K = 63.000000 lammps index 0  gromacs index 0  \n",
      "3  angle  CA - CA - HA type harmonic \n",
      "  harmonic theta_0 = 120.000000 K = 35.000000 lammps index 0  gromacs index 0  \n",
      "4  angle  CA - S - CA type harmonic \n",
      "  harmonic theta_0 = 92.200000 K = 70.000000 lammps index 0  gromacs index 0  \n",
      "5  angle  S - CA - HA type harmonic \n",
      "  harmonic theta_0 = 120.000000 K = 35.000000 lammps index 0  gromacs index 0  \n",
      "6  angle  S - CA - CA type harmonic \n",
      "  harmonic theta_0 = 111.000000 K = 70.000000 lammps index 0  gromacs index 0  \n",
      "7  angle  CT - CT - CT type harmonic \n",
      "  harmonic theta_0 = 109.500000 K = 40.000000 lammps index 0  gromacs index 0  \n",
      "8  angle  CT - CT - CT type harmonic \n",
      "  harmonic theta_0 = 109.500000 K = 40.000000 lammps index 0  gromacs index 0  \n",
      "9  angle  CT - CT - HC type harmonic \n",
      "  harmonic theta_0 = 109.500000 K = 50.000000 lammps index 0  gromacs index 0  \n",
      "10  angle  CA - CA - CT type harmonic \n",
      "  harmonic theta_0 = 120.000000 K = 70.000000 lammps index 0  gromacs index 0  \n",
      "11  angle  HA - CA - CT type harmonic \n",
      "  harmonic theta_0 = 120.000000 K = 35.000000 lammps index 0  gromacs index 0  \n",
      "12  angle  CA - CT - HC type harmonic \n",
      "  harmonic theta_0 = 109.500000 K = 50.000000 lammps index 0  gromacs index 0  \n",
      "13  angle  CA - CT - CT type harmonic \n",
      "  harmonic theta_0 = 114.000000 K = 63.000000 lammps index 0  gromacs index 0  \n"
     ]
    }
   ],
   "source": [
    "for atk,at in oplsaa.angletypes.iteritems():\n",
    "    print atk,at"
   ]
  },
  {
   "cell_type": "markdown",
   "metadata": {},
   "source": [
    "Note: The inter-ring torsional is not consider as a seperate set of parameters for the simplicity of this example"
   ]
  },
  {
   "cell_type": "code",
   "execution_count": 225,
   "metadata": {
    "collapsed": true
   },
   "outputs": [],
   "source": [
    "dih_i = dihtype.Dihtype('HC','CT','CT','CA',unit_conf=oplsaa.unit_conf)\n",
    "dih_i.type ='opls'\n",
    "dih_i.setopls(0.0,-0.0,0.1,0.0)\n",
    "oplsaa.add_dihtype(dih_i)"
   ]
  },
  {
   "cell_type": "code",
   "execution_count": 226,
   "metadata": {
    "collapsed": true
   },
   "outputs": [],
   "source": [
    "dih_i = dihtype.Dihtype('CT','CT','CT','CA',unit_conf=oplsaa.unit_conf)\n",
    "dih_i.type ='opls'\n",
    "dih_i.setopls(0.433341,-0.016667,0.066668,0.0)\n",
    "oplsaa.add_dihtype(dih_i)"
   ]
  },
  {
   "cell_type": "code",
   "execution_count": 227,
   "metadata": {
    "collapsed": true
   },
   "outputs": [],
   "source": [
    "dih_i = dihtype.Dihtype('HC','CT','CA','CA',unit_conf=oplsaa.unit_conf)\n",
    "dih_i.type ='opls'\n",
    "dih_i.setopls(0.0,-0.0,0.1,0.0)\n",
    "oplsaa.add_dihtype(dih_i)"
   ]
  },
  {
   "cell_type": "code",
   "execution_count": 228,
   "metadata": {
    "collapsed": true
   },
   "outputs": [],
   "source": [
    "dih_i = dihtype.Dihtype('CT','CT','CA','CA',unit_conf=oplsaa.unit_conf)\n",
    "dih_i.type ='opls'\n",
    "dih_i.setopls(0.0,-0.0,0.0,0.0)\n",
    "oplsaa.add_dihtype(dih_i)"
   ]
  },
  {
   "cell_type": "code",
   "execution_count": 229,
   "metadata": {},
   "outputs": [
    {
     "name": "stdout",
     "output_type": "stream",
     "text": [
      "0  dihedral  HC - CT - CT - HC type opls \n",
      "  k1 = 0.000000 k2 = 0.000000 k3 = 0.300000 k4 = 0.000000 lammps index 0  gromcas index 0 \n",
      "1  dihedral  X - CA - CA - X type opls \n",
      "  k1 = 0.000000 k2 = 1.812532 k3 = 0.000000 k4 = 0.000000 lammps index 0  gromcas index 0 \n",
      "2  dihedral  X - S - CA - X type opls \n",
      "  k1 = 0.000000 k2 = 2.416710 k3 = 0.000000 k4 = 0.000000 lammps index 0  gromcas index 0 \n",
      "3  dihedral  S - CA - CA - HA type opls \n",
      "  k1 = 0.000000 k2 = 1.812532 k3 = 0.000000 k4 = 0.000000 lammps index 0  gromcas index 0 \n",
      "4  dihedral  CT - CT - CT - CT type opls \n",
      "  k1 = 0.433341 k2 = -0.016667 k3 = 0.066668 k4 = 0.000000 lammps index 0  gromcas index 0 \n",
      "5  dihedral  HC - CT - CT - CT type opls \n",
      "  k1 = 0.000000 k2 = -0.000000 k3 = 0.100000 k4 = 0.000000 lammps index 0  gromcas index 0 \n",
      "6  dihedral  HC - CT - CT - HC type opls \n",
      "  k1 = 0.000000 k2 = -0.000000 k3 = 0.100000 k4 = 0.000000 lammps index 0  gromcas index 0 \n",
      "7  dihedral  HC - CT - CT - CA type opls \n",
      "  k1 = 0.000000 k2 = -0.000000 k3 = 0.100000 k4 = 0.000000 lammps index 0  gromcas index 0 \n",
      "8  dihedral  CT - CT - CT - CA type opls \n",
      "  k1 = 0.433341 k2 = -0.016667 k3 = 0.066668 k4 = 0.000000 lammps index 0  gromcas index 0 \n",
      "9  dihedral  HC - CT - CA - CA type opls \n",
      "  k1 = 0.000000 k2 = -0.000000 k3 = 0.100000 k4 = 0.000000 lammps index 0  gromcas index 0 \n",
      "10  dihedral  CT - CT - CA - CA type opls \n",
      "  k1 = 0.000000 k2 = -0.000000 k3 = 0.000000 k4 = 0.000000 lammps index 0  gromcas index 0 \n"
     ]
    }
   ],
   "source": [
    "for dk,d in oplsaa.dihtypes.iteritems():\n",
    "    print dk,d "
   ]
  },
  {
   "cell_type": "markdown",
   "metadata": {},
   "source": [
    "Run a oplsaa minimization to get the minimized structure"
   ]
  },
  {
   "cell_type": "code",
   "execution_count": 230,
   "metadata": {},
   "outputs": [],
   "source": [
    "p3ht_et = lmp_run(p3ht_et,ht,oplsaa,peregrine)"
   ]
  },
  {
   "cell_type": "code",
   "execution_count": 231,
   "metadata": {},
   "outputs": [
    {
     "name": "stdout",
     "output_type": "stream",
     "text": [
      "Calculation lmp_min_hexane_HFesp has status stored\n",
      "Calculation nw_esp_thiophene has status stored\n",
      "Calculation nw_opt_thiophene has status stored\n",
      "Calculation lmp_min_3-hexyl-thiophene has status finished\n",
      "Calculation nw_opt_hexane has status stored\n",
      "Calculation nw_esp_hexane has status stored\n",
      "Calculation lmp_min_thiophene_HFesp has status stored\n"
     ]
    }
   ],
   "source": [
    "p3ht_et.check()"
   ]
  },
  {
   "cell_type": "code",
   "execution_count": 232,
   "metadata": {
    "collapsed": true
   },
   "outputs": [],
   "source": [
    "lmp_i = p3ht_et.calculations['lmp_min_3-hexyl-thiophene']"
   ]
  },
  {
   "cell_type": "code",
   "execution_count": null,
   "metadata": {
    "collapsed": true
   },
   "outputs": [],
   "source": [
    "while( lmp_i.meta['status'] != 'finished'):\n",
    "    lmp_i.check()\n",
    "    time.sleep(30)"
   ]
  },
  {
   "cell_type": "code",
   "execution_count": 233,
   "metadata": {},
   "outputs": [
    {
     "name": "stdout",
     "output_type": "stream",
     "text": [
      ">  using mdrun with len 1 \n",
      " Adding thermo keys from line: Step Temp PotEng TotEng Press Volume Lx Ly Lz E_bond E_angle E_dihed E_impro E_vdwl E_coul E_long E_tail \n",
      " \n",
      "> col  0 ['0', '0', '23.580158', '23.580158', '6.3834374', '1000000', '100', '100', '100', '10.948137', '4.1580737', '0.0004523371', '0', '3.7401026', '7.5074743', '-2.7740824', '0']\n",
      "1 9823u  [0.0]\n",
      "> col  1 ['35', '0', '6.61811', '6.61811', '0.088287602', '1000000', '100', '100', '100', '0.098322403', '3.1945748', '0.0010631524', '0', '-1.2093818', '7.307451', '-2.7739196', '0']\n",
      "2 9823u  [0.0, 35.0]\n",
      " Calc 0 finished \n"
     ]
    }
   ],
   "source": [
    "lmp_i.analysis()"
   ]
  },
  {
   "cell_type": "markdown",
   "metadata": {},
   "source": [
    "Energy decreased and nothing exploded so that's good"
   ]
  },
  {
   "cell_type": "code",
   "execution_count": 234,
   "metadata": {
    "collapsed": true
   },
   "outputs": [],
   "source": [
    "lmp_i.store()"
   ]
  },
  {
   "cell_type": "markdown",
   "metadata": {},
   "source": [
    "Read in data file positions"
   ]
  },
  {
   "cell_type": "code",
   "execution_count": 235,
   "metadata": {
    "collapsed": true
   },
   "outputs": [],
   "source": [
    "lmp_i.pull()"
   ]
  },
  {
   "cell_type": "markdown",
   "metadata": {},
   "source": [
    "Read in data file output and update positions"
   ]
  },
  {
   "cell_type": "code",
   "execution_count": 236,
   "metadata": {},
   "outputs": [
    {
     "name": "stdout",
     "output_type": "stream",
     "text": [
      "/Users/tkemper/Development/streamm-tools/examples/scratch/lmp_min_3-hexyl-thiophene/\n"
     ]
    }
   ],
   "source": [
    "print lmp_i.dir['launch']\n",
    "os.chdir(lmp_i.dir['launch'])"
   ]
  },
  {
   "cell_type": "code",
   "execution_count": 237,
   "metadata": {},
   "outputs": [
    {
     "name": "stdout",
     "output_type": "stream",
     "text": [
      "min1.data\n"
     ]
    }
   ],
   "source": [
    "datafn = lmp_i.files['output']['data_1']\n",
    "print datafn"
   ]
  },
  {
   "cell_type": "code",
   "execution_count": 238,
   "metadata": {},
   "outputs": [],
   "source": [
    "lmp_i.read_data_pos(datafn)"
   ]
  },
  {
   "cell_type": "code",
   "execution_count": 239,
   "metadata": {},
   "outputs": [
    {
     "name": "stdout",
     "output_type": "stream",
     "text": [
      "[[ 100.    0.    0.]\n",
      " [   0.  100.    0.]\n",
      " [   0.    0.  100.]]\n"
     ]
    }
   ],
   "source": [
    "print lmp_i.strucC.lat.matrix"
   ]
  },
  {
   "cell_type": "markdown",
   "metadata": {},
   "source": [
    "We will use the oplsaa optimized structure as the initial structure since we will be running MD "
   ]
  },
  {
   "cell_type": "code",
   "execution_count": 241,
   "metadata": {
    "collapsed": true
   },
   "outputs": [],
   "source": [
    "ht.tag += '_oplsaa'"
   ]
  },
  {
   "cell_type": "code",
   "execution_count": 242,
   "metadata": {},
   "outputs": [
    {
     "name": "stdout",
     "output_type": "stream",
     "text": [
      "0 C [  8.19506486e-01   1.10111983e+00  -6.86476607e-04]\n",
      "1 C [ 0.13609175 -0.12016286 -0.00023107]\n",
      "2 C [  1.00347430e+00  -1.21177477e+00  -1.20154076e-04]\n",
      "3 C [  2.35396842e+00  -8.64526955e-01  -2.45335666e-04]\n",
      "4 S [  2.52295837e+00   8.45769468e-01  -1.03410286e-05]\n",
      "5 H [  3.50495491e-01   2.07469182e+00   2.87510191e-04]\n",
      "6 H [  6.73288023e-01  -2.24006710e+00   1.25399957e-03]\n",
      "7 H [  3.17179666e+00  -1.57145729e+00   1.04534620e-03]\n",
      "8 C [ -1.37450557e+00  -1.68170109e-02  -4.32546771e-04]\n",
      "9 H [-1.70780472  0.49995342  0.88735419]\n",
      "10 H [-1.70863118  0.50000973 -0.88787442]\n",
      "11 C [ -1.93124005e+00  -1.44428553e+00  -2.73010843e-04]\n",
      "12 H [-1.58522339 -1.95539447  0.8861431 ]\n",
      "13 H [-1.58556737 -1.95539379 -0.88682515]\n",
      "14 C [ -3.45891385e+00  -1.44292112e+00  -5.71158329e-05]\n",
      "15 H [-3.81835261 -0.94584429  0.88890749]\n",
      "16 H [-3.81849807 -0.94513283 -0.88855736]\n",
      "17 C [ -3.92879673e+00  -2.90059160e+00  -5.75947378e-04]\n",
      "18 H [-3.55631034 -3.39457241  0.884721  ]\n",
      "19 H [-3.55708709 -3.3935905  -0.88676136]\n",
      "20 C [ -5.45592950e+00  -2.95746125e+00   1.35037240e-04]\n",
      "21 H [-5.83182772 -2.47056509  0.88755569]\n",
      "22 H [-5.8326496  -2.47018865 -0.88671842]\n",
      "23 C [ -5.90616383e+00  -4.42083370e+00  -1.80228109e-06]\n",
      "24 H [-5.52301794 -4.90895875  0.88423932]\n",
      "25 H [ -6.98580177e+00  -4.45550363e+00   2.54648260e-04]\n",
      "26 H [-5.52340716 -4.90855967 -0.88463082]\n"
     ]
    }
   ],
   "source": [
    "for pk,p in ht.particles.iteritems():\n",
    "    ht.positions[pk] = lmp_i.strucC.positions[pk]\n",
    "    print pk,p.symbol,ht.positions[pk]"
   ]
  },
  {
   "cell_type": "markdown",
   "metadata": {},
   "source": [
    "Save the Buildingblock and force-field"
   ]
  },
  {
   "cell_type": "code",
   "execution_count": 243,
   "metadata": {
    "collapsed": true
   },
   "outputs": [],
   "source": [
    "os.chdir(res_local.dir['materials']) \n",
    "ht.write_xyz()\n",
    "ht.dump_pickle() \n",
    "oplsaa.dump_pickle()"
   ]
  },
  {
   "cell_type": "markdown",
   "metadata": {},
   "source": [
    "Okay we have the monomer, so let's make a pentamer "
   ]
  },
  {
   "cell_type": "code",
   "execution_count": 244,
   "metadata": {
    "collapsed": true
   },
   "outputs": [],
   "source": [
    "penta_ht = copy.deepcopy(ht)"
   ]
  },
  {
   "cell_type": "code",
   "execution_count": 245,
   "metadata": {
    "collapsed": true
   },
   "outputs": [],
   "source": [
    "# penta_ht = ht.prepattach('termcap',0,dir=-1,yangle=90.0)"
   ]
  },
  {
   "cell_type": "code",
   "execution_count": 246,
   "metadata": {
    "collapsed": true
   },
   "outputs": [],
   "source": [
    "for n in range(4):\n",
    "    penta_ht = bb.attach(penta_ht,ht,'termcap',1,'termcap',0,tag='penta_3-hexyl-thiophene')"
   ]
  },
  {
   "cell_type": "markdown",
   "metadata": {},
   "source": [
    "Check the charges of the removed hydrogens got summed onto the functionalized carbons correctly"
   ]
  },
  {
   "cell_type": "code",
   "execution_count": 247,
   "metadata": {},
   "outputs": [
    {
     "data": {
      "text/plain": [
       "-9.99999999976367e-06"
      ]
     },
     "execution_count": 247,
     "metadata": {},
     "output_type": "execute_result"
    }
   ],
   "source": [
    "penta_ht.calc_charge()\n",
    "penta_ht.charge"
   ]
  },
  {
   "cell_type": "code",
   "execution_count": 248,
   "metadata": {
    "collapsed": true
   },
   "outputs": [],
   "source": [
    "penta_ht.write_xyz()"
   ]
  },
  {
   "cell_type": "markdown",
   "metadata": {},
   "source": [
    "Well it's cis, but we can run some high temperature MD to randomize that "
   ]
  },
  {
   "cell_type": "markdown",
   "metadata": {},
   "source": [
    "Update bond angles and dihedrals after Buildingblock join"
   ]
  },
  {
   "cell_type": "code",
   "execution_count": 249,
   "metadata": {
    "collapsed": true
   },
   "outputs": [],
   "source": [
    "penta_ht.bonded_bonds()\n",
    "penta_ht.bonded_angles()\n",
    "penta_ht.bonded_dih()"
   ]
  },
  {
   "cell_type": "code",
   "execution_count": 250,
   "metadata": {},
   "outputs": [
    {
     "name": "stdout",
     "output_type": "stream",
     "text": [
      " n_particles:127 \n",
      " n_bonds:131\n",
      " n_angles:245\n",
      " n_dihedrals:351\n",
      " n_impropers:0\n"
     ]
    }
   ],
   "source": [
    "print penta_ht.print_properties()"
   ]
  },
  {
   "cell_type": "markdown",
   "metadata": {},
   "source": [
    "Run a oplsaa minimization to get the minimized structure"
   ]
  },
  {
   "cell_type": "code",
   "execution_count": 251,
   "metadata": {},
   "outputs": [],
   "source": [
    "p3ht_et = lmp_run(p3ht_et,penta_ht,oplsaa,peregrine)"
   ]
  },
  {
   "cell_type": "code",
   "execution_count": 252,
   "metadata": {},
   "outputs": [
    {
     "name": "stdout",
     "output_type": "stream",
     "text": [
      "Calculation lmp_min_penta_3-hexyl-thiophene has status finished\n",
      "Calculation lmp_min_hexane_HFesp has status stored\n",
      "Calculation nw_esp_thiophene has status stored\n",
      "Calculation nw_opt_thiophene has status stored\n",
      "Calculation lmp_min_3-hexyl-thiophene has status stored\n",
      "Calculation nw_opt_hexane has status stored\n",
      "Calculation nw_esp_hexane has status stored\n",
      "Calculation lmp_min_thiophene_HFesp has status stored\n"
     ]
    }
   ],
   "source": [
    "p3ht_et.check()"
   ]
  },
  {
   "cell_type": "code",
   "execution_count": 253,
   "metadata": {
    "collapsed": true
   },
   "outputs": [],
   "source": [
    "lmp_i = p3ht_et.calculations['lmp_min_penta_3-hexyl-thiophene']"
   ]
  },
  {
   "cell_type": "code",
   "execution_count": 254,
   "metadata": {
    "collapsed": true
   },
   "outputs": [],
   "source": [
    "while( lmp_i.meta['status'] != 'finished'):\n",
    "    lmp_i.check()\n",
    "    # time.sleep(30)"
   ]
  },
  {
   "cell_type": "code",
   "execution_count": 255,
   "metadata": {},
   "outputs": [
    {
     "name": "stdout",
     "output_type": "stream",
     "text": [
      ">  using mdrun with len 1 \n",
      " Adding thermo keys from line: Step Temp PotEng TotEng Press Volume Lx Ly Lz E_bond E_angle E_dihed E_impro E_vdwl E_coul E_long E_tail \n",
      " \n",
      "> col  0 ['0', '0', '669.25223', '669.25223', '179.23982', '1000000', '100', '100', '100', '7.2430833', '70.753731', '1.005452', '0', '591.08212', '12.390297', '-13.222452', '0']\n",
      "1 9823u  [0.0]\n",
      "> col  1 ['49', '0', '62.281426', '62.281426', '4.0178179', '1000000', '100', '100', '100', '5.1515074', '51.799809', '1.0411164', '0', '4.3197426', '13.193588', '-13.224337', '0']\n",
      "2 9823u  [0.0, 49.0]\n",
      " Calc 0 finished \n"
     ]
    }
   ],
   "source": [
    "lmp_i.analysis()"
   ]
  },
  {
   "cell_type": "markdown",
   "metadata": {},
   "source": [
    "Energy decreased and nothing exploded so that's good"
   ]
  },
  {
   "cell_type": "code",
   "execution_count": 256,
   "metadata": {
    "collapsed": true
   },
   "outputs": [],
   "source": [
    "lmp_i.store()"
   ]
  },
  {
   "cell_type": "markdown",
   "metadata": {},
   "source": [
    "Read in data file positions"
   ]
  },
  {
   "cell_type": "code",
   "execution_count": 257,
   "metadata": {
    "collapsed": true
   },
   "outputs": [],
   "source": [
    "lmp_i.pull()"
   ]
  },
  {
   "cell_type": "markdown",
   "metadata": {},
   "source": [
    "Read in data file output and update positions"
   ]
  },
  {
   "cell_type": "code",
   "execution_count": 258,
   "metadata": {},
   "outputs": [
    {
     "name": "stdout",
     "output_type": "stream",
     "text": [
      "/Users/tkemper/Development/streamm-tools/examples/scratch/lmp_min_penta_3-hexyl-thiophene/\n"
     ]
    }
   ],
   "source": [
    "print lmp_i.dir['launch']\n",
    "os.chdir(lmp_i.dir['launch'])"
   ]
  },
  {
   "cell_type": "code",
   "execution_count": 259,
   "metadata": {},
   "outputs": [
    {
     "name": "stdout",
     "output_type": "stream",
     "text": [
      "min1.data\n"
     ]
    }
   ],
   "source": [
    "datafn = lmp_i.files['output']['data_1']\n",
    "print datafn"
   ]
  },
  {
   "cell_type": "code",
   "execution_count": 260,
   "metadata": {},
   "outputs": [],
   "source": [
    "lmp_i.read_data_pos(datafn)"
   ]
  },
  {
   "cell_type": "code",
   "execution_count": 261,
   "metadata": {
    "scrolled": true
   },
   "outputs": [
    {
     "name": "stdout",
     "output_type": "stream",
     "text": [
      "[[ 100.    0.    0.]\n",
      " [   0.  100.    0.]\n",
      " [   0.    0.  100.]]\n"
     ]
    }
   ],
   "source": [
    "print lmp_i.strucC.lat.matrix"
   ]
  },
  {
   "cell_type": "code",
   "execution_count": 262,
   "metadata": {
    "collapsed": true
   },
   "outputs": [],
   "source": [
    "lmp_i.strucC.write_xyz()"
   ]
  },
  {
   "cell_type": "markdown",
   "metadata": {},
   "source": [
    "We will use the oplsaa optimized structure as the initial structure since we will be running MD "
   ]
  },
  {
   "cell_type": "code",
   "execution_count": 263,
   "metadata": {
    "collapsed": true
   },
   "outputs": [],
   "source": [
    "penta_ht.tag += '_oplsaa'"
   ]
  },
  {
   "cell_type": "code",
   "execution_count": 264,
   "metadata": {},
   "outputs": [
    {
     "name": "stdout",
     "output_type": "stream",
     "text": [
      "0 C [ 8.62838291 -9.6148025   0.04147399]\n",
      "1 C [ 9.87907038 -8.98326809  0.04300988]\n",
      "2 C [ 9.78264727 -7.60620294  0.0327691 ]\n",
      "3 C [ 8.4789618  -7.12412685  0.01405436]\n",
      "4 S [ 7.3525195  -8.42517723  0.03645673]\n",
      "5 H [  8.47112608 -10.6835391    0.04846445]\n",
      "6 H [ 10.64848382  -6.98441127   0.04207178]\n",
      "7 C [ 11.23395722  -9.67657399   0.0552893 ]\n",
      "8 H [ 11.29854166 -10.29153458   0.94250627]\n",
      "9 H [ 11.31025638 -10.29932489  -0.82554873]\n",
      "10 C [ 12.42562524  -8.68781111   0.05865442]\n",
      "11 H [ 12.35666551  -8.06769229   0.93993885]\n",
      "12 H [ 12.36759717  -8.07477944  -0.82835803]\n",
      "13 C [ 13.80369793  -9.34751239   0.06959028]\n",
      "14 H [ 13.90703396  -9.94453685   0.96238491]\n",
      "15 H [ 13.91735878  -9.95216696  -0.81680095]\n",
      "16 C [ 14.86270025  -8.23344551   0.07096294]\n",
      "17 H [ 14.74205778  -7.62010683   0.95261903]\n",
      "18 H [ 14.75233548  -7.62782282  -0.81735204]\n",
      "19 C [ 16.26111663  -8.85472014   0.08184265]\n",
      "20 H [ 16.37286821  -9.45680317   0.97116133]\n",
      "21 H [ 16.3835382   -9.46370136  -0.80135214]\n",
      "22 C [ 17.33445514  -7.76057348   0.08399848]\n",
      "23 H [ 17.21759461  -7.14852808   0.96613468]\n",
      "24 H [ 18.30781343  -8.22940285   0.09094341]\n",
      "25 H [ 17.22723963  -7.15463032  -0.8035517 ]\n",
      "26 C [ 8.07463018 -5.77224465  0.03833236]\n",
      "27 C [ 8.90235478 -4.64104423  0.0271268 ]\n",
      "28 C [ 8.17944523 -3.47629151  0.02056812]\n",
      "29 C [ 6.79800556 -3.63192847  0.02143765]\n",
      "30 S [ 6.38314137 -5.31918415  0.01687305]\n",
      "31 H [ 8.69696473 -2.55102492  0.0228765 ]\n",
      "32 C [ 10.42034218  -4.59368903   0.03563789]\n",
      "33 H [ 10.76556452  -5.08947063   0.93108226]\n",
      "34 H [ 10.77609667  -5.0933495   -0.85354538]\n",
      "35 C [ 11.05448865  -3.20053925   0.03621601]\n",
      "36 H [ 10.74975845  -2.66577052   0.92306471]\n",
      "37 H [ 10.75983089  -2.66949425  -0.85627699]\n",
      "38 C [ 12.57191805  -3.34792363   0.04501841]\n",
      "39 H [ 12.8757699   -3.87662671   0.935976  ]\n",
      "40 H [ 12.88557218  -3.88059143  -0.84017295]\n",
      "41 C [ 13.19116262  -1.9506455    0.04533988]\n",
      "42 H [ 12.87288411  -1.41788001   0.92998737]\n",
      "43 H [ 12.8826486   -1.42191941  -0.84517213]\n",
      "44 C [ 14.71362342  -2.08576707   0.0540794 ]\n",
      "45 H [ 15.0177721   -2.61738034   0.94356824]\n",
      "46 H [ 15.02761183  -2.62050699  -0.83010188]\n",
      "47 C [ 15.34920909  -0.69456623   0.05511026]\n",
      "48 H [ 15.02830668  -0.16141783   0.93739746]\n",
      "49 H [ 16.42306319  -0.8035608    0.06046502]\n",
      "50 H [ 15.03682495  -0.16407993  -0.83182061]\n",
      "51 C [ 5.86274626 -2.56739831  0.00867023]\n",
      "52 C [ 6.16109396 -1.19251029  0.0076826 ]\n",
      "53 C [  5.03531727e+00  -4.13316482e-01   3.57936161e-03]\n",
      "54 C [  3.83232052e+00  -1.10458373e+00   2.76725971e-03]\n",
      "55 S [ 4.12921644 -2.82292091  0.01080806]\n",
      "56 H [ 5.1430663   0.64118568  0.0099162 ]\n",
      "57 C [ 7.52355549 -0.52177961  0.01595032]\n",
      "58 H [ 8.03857476 -0.83019767  0.91413433]\n",
      "59 H [ 8.04929563 -0.83073065 -0.87578013]\n",
      "60 C [ 7.55646698  1.00667238  0.01559496]\n",
      "61 H [ 7.07170723  1.38177746  0.90429311]\n",
      "62 H [ 7.0793031   1.38123047 -0.87743154]\n",
      "63 C [ 9.01935172  1.43739089  0.02174344]\n",
      "64 H [ 9.50029786  1.05990705  0.91167084]\n",
      "65 H [ 9.50791951  1.05891392 -0.863602  ]\n",
      "66 C [ 9.07177984  2.96175851  0.02113145]\n",
      "67 H [ 8.57976869  3.33637117  0.90643834]\n",
      "68 H [ 8.58705482  3.33527465 -0.86864504]\n",
      "69 C [ 10.53332243   3.40422118   0.02690383]\n",
      "70 H [ 11.01823832   3.02945599   0.91599607]\n",
      "71 H [ 11.02529017   3.02906871  -0.85814431]\n",
      "72 C [ 10.59107108   4.932685     0.02675535]\n",
      "73 H [ 10.0912744    5.30353502   0.91021455]\n",
      "74 H [ 11.62585287   5.24389054   0.02994405]\n",
      "75 H [ 10.09683217   5.30308296  -0.86000856]\n",
      "76 C [ 2.55291437 -0.49161232  0.00569299]\n",
      "77 C [  2.26887307e+00   8.89247578e-01   3.23912450e-04]\n",
      "78 C [ 0.92169801  1.15939376 -0.00175582]\n",
      "79 C [ 0.11720802  0.02809462  0.00025742]\n",
      "80 S [ 1.0807741  -1.42159899  0.00290445]\n",
      "81 H [  5.70633545e-01   2.16602947e+00  -1.54304473e-05]\n",
      "82 C [ 3.25981471  2.03692765  0.00397749]\n",
      "83 H [ 3.85682733  1.95487093  0.90059688]\n",
      "84 H [ 3.86252687  1.95589199 -0.88893362]\n",
      "85 C [  2.69656366e+00   3.45406071e+00   3.07683350e-03]\n",
      "86 H [ 2.10804186  3.615765    0.8935559 ]\n",
      "87 H [ 2.1121667   3.61644034 -0.88999859]\n",
      "88 C [ 3.89181824  4.40232921  0.00616712]\n",
      "89 H [ 4.48212627  4.23607093  0.8953491 ]\n",
      "90 H [ 4.48612466  4.23660828 -0.88045605]\n",
      "91 C [  3.36173991e+00   5.83054840e+00   5.43662847e-03]\n",
      "92 H [ 2.76557822  5.98799273  0.89182696]\n",
      "93 H [ 2.76942457  5.98839112 -0.88345742]\n",
      "94 C [ 4.54080599  6.7994704   0.0082666 ]\n",
      "95 H [ 5.13407746  6.64329887  0.89692525]\n",
      "96 H [ 5.13741482  6.64431907 -0.87833707]\n",
      "97 C [  3.99069719e+00   8.22555476e+00   8.01703271e-03]\n",
      "98 H [ 3.38595728  8.36759477  0.89212261]\n",
      "99 H [ 4.81710533  8.92100364  0.00911132]\n",
      "100 H [ 3.38793792  8.36797368 -0.87737426]\n",
      "101 C [ -1.29462745e+00   3.58023696e-03  -2.50220553e-04]\n",
      "102 C [ -2.21363202e+00   1.07107459e+00   2.28231425e-04]\n",
      "103 C [ -3.53466280e+00   6.33086998e-01   2.53491219e-03]\n",
      "104 C [ -3.65082903e+00  -7.61609169e-01   3.47378733e-03]\n",
      "105 S [-2.0952277  -1.51489942  0.00281975]\n",
      "106 H [-4.38994986  1.2958035   0.0048432 ]\n",
      "107 H [-4.59179702 -1.29090824  0.00630651]\n",
      "108 C [ -1.81550867e+00   2.53791629e+00   7.27147098e-04]\n",
      "109 H [-1.22749236  2.70322196  0.88969262]\n",
      "110 H [-1.22757349  2.7038169  -0.88816998]\n",
      "111 C [ -2.88743636e+00   3.62242962e+00   1.03469665e-03]\n",
      "112 H [-3.48951286  3.54774188  0.89339853]\n",
      "113 H [-3.48962819  3.54818398 -0.89129535]\n",
      "114 C [ -2.11811330e+00   4.95338608e+00   1.22823365e-03]\n",
      "115 H [-1.50026851  5.01393321  0.8858605 ]\n",
      "116 H [-1.50027657  5.01404443 -0.88341191]\n",
      "117 C [ -3.09806499e+00   6.12452783e+00   1.33057727e-03]\n",
      "118 H [-3.71008552  6.06792097  0.88876892]\n",
      "119 H [-3.70980086  6.06818076 -0.88632283]\n",
      "120 C [ -2.33876669e+00   7.45562983e+00   1.71268771e-03]\n",
      "121 H [-1.72553422  7.52498284  0.88862722]\n",
      "122 H [-1.72616663  7.52578967 -0.88557933]\n",
      "123 C [ -3.36136164e+00   8.59409093e+00   2.56301003e-03]\n",
      "124 H [-3.97500471  8.51243434  0.88721632]\n",
      "125 H [ -2.83942916e+00   9.53891564e+00   1.87829462e-03]\n",
      "126 H [-3.9767632   8.51207887 -0.8808302 ]\n"
     ]
    }
   ],
   "source": [
    "for pk,p in penta_ht.particles.iteritems():\n",
    "    penta_ht.positions[pk] = lmp_i.strucC.positions[pk]\n",
    "    print pk,p.symbol,penta_ht.positions[pk]"
   ]
  },
  {
   "cell_type": "markdown",
   "metadata": {},
   "source": [
    "Save the Buildingblock and force-field"
   ]
  },
  {
   "cell_type": "code",
   "execution_count": 266,
   "metadata": {
    "collapsed": true
   },
   "outputs": [],
   "source": [
    "os.chdir(res_local.dir['materials']) \n",
    "penta_ht.write_xyz()\n",
    "penta_ht.dump_pickle() \n",
    "oplsaa.dump_pickle()"
   ]
  },
  {
   "cell_type": "markdown",
   "metadata": {},
   "source": [
    "Cool let's run some MD"
   ]
  },
  {
   "cell_type": "code",
   "execution_count": 267,
   "metadata": {
    "collapsed": true
   },
   "outputs": [],
   "source": [
    "p3ht_et = lmp_run(p3ht_et,penta_ht,oplsaa,peregrine,md_type='nvt')"
   ]
  },
  {
   "cell_type": "code",
   "execution_count": 268,
   "metadata": {},
   "outputs": [
    {
     "name": "stdout",
     "output_type": "stream",
     "text": [
      "Calculation lmp_min_penta_3-hexyl-thiophene has status stored\n",
      "Calculation lmp_min_hexane_HFesp has status stored\n",
      "Calculation nw_esp_thiophene has status stored\n",
      "Calculation nw_opt_thiophene has status stored\n",
      "Calculation lmp_min_3-hexyl-thiophene has status stored\n",
      "Calculation nw_opt_hexane has status stored\n",
      "Calculation lmp_nvt_penta_3-hexyl-thiophene_oplsaa has status finished\n",
      "Calculation nw_esp_hexane has status stored\n",
      "Calculation lmp_min_thiophene_HFesp has status stored\n"
     ]
    }
   ],
   "source": [
    "p3ht_et.check()"
   ]
  },
  {
   "cell_type": "code",
   "execution_count": 269,
   "metadata": {
    "collapsed": true
   },
   "outputs": [],
   "source": [
    "lmp_i = p3ht_et.calculations['lmp_nvt_penta_3-hexyl-thiophene_oplsaa']"
   ]
  },
  {
   "cell_type": "code",
   "execution_count": null,
   "metadata": {
    "collapsed": true
   },
   "outputs": [],
   "source": [
    "while( lmp_i.meta['status'] != 'finished'):\n",
    "    lmp_i.check()\n",
    "    time.sleep(30)"
   ]
  },
  {
   "cell_type": "code",
   "execution_count": 270,
   "metadata": {
    "scrolled": true
   },
   "outputs": [
    {
     "name": "stdout",
     "output_type": "stream",
     "text": [
      ">  using mdrun with len 3 \n",
      " Adding thermo keys from line: Step Temp PotEng TotEng Press Volume Lx Ly Lz E_bond E_angle E_dihed E_impro E_vdwl E_coul E_long E_tail \n",
      " \n",
      "> col  0 ['0', '0', '62.281429', '62.281429', '4.0178077', '1000000', '100', '100', '100', '5.1515497', '51.799764', '1.0411168', '0', '4.3197491', '13.193586', '-13.224337', '0']\n",
      "1 9823u  [0.0]\n",
      "> col  1 ['1', '0', '62.243681', '62.243681', '4.0684785', '1000000', '100', '100', '100', '4.9851394', '51.92281', '1.0418979', '0', '4.3269484', '13.191294', '-13.224409', '0']\n",
      "2 9823u  [0.0, 1.0]\n",
      " Calc 0 finished \n",
      " Adding thermo keys from line: Step Temp PotEng TotEng Press Volume Lx Ly Lz E_bond E_angle E_dihed E_impro E_vdwl E_coul E_long E_tail \n",
      " \n",
      "> col  0 ['1', '0', '62.243681', '62.243681', '4.0684785', '1000000', '100', '100', '100', '4.9851394', '51.92281', '1.0418979', '0', '4.3269484', '13.191294', '-13.224409', '0']\n",
      "1 9823u  [1.0]\n",
      "> col  1 ['1000', '63.32593', '35.72754', '59.511623', '-0.48065001', '1000000', '100', '100', '100', '0.64695034', '29.918045', '18.617528', '0', '-12.867111', '12.666375', '-13.254247', '0']\n",
      "2 9823u  [1.0, 1000.0]\n",
      "> col  2 ['2000', '46.737403', '36.645678', '54.199408', '-0.6987981', '1000000', '100', '100', '100', '0.49875431', '23.653316', '28.380004', '0', '-14.620794', '12.006833', '-13.272436', '0']\n",
      "[1.0, 1000.0]\n",
      "3 9823u  [1.0, 1000.0, 2000.0]\n",
      "> col  3 ['3000', '40.254022', '36.591824', '51.710512', '1.172939', '1000000', '100', '100', '100', '0.54579382', '18.136477', '35.778076', '0', '-16.422396', '11.836868', '-13.282994', '0']\n",
      "4 9823u  [1.0, 1000.0, 2000.0, 3000.0]\n",
      "> col  4 ['4000', '35.488942', '38.530321', '51.859331', '2.2875091', '1000000', '100', '100', '100', '0.62125772', '19.193903', '37.834616', '0', '-17.005945', '11.170607', '-13.284118', '0']\n",
      "5 9823u  [1.0, 1000.0, 2000.0, 3000.0, 4000.0]\n",
      "> col  5 ['5000', '36.391795', '41.014803', '54.682909', '-5.0601639', '1000000', '100', '100', '100', '1.4508524', '20.253424', '42.213277', '0', '-19.603203', '9.9858553', '-13.285402', '0']\n",
      "6 9823u  [1.0, 1000.0, 2000.0, 3000.0, 4000.0, 5000.0]\n",
      "> col  6 ['6000', '50.871434', '39.951307', '59.057706', '-1.9796198', '1000000', '100', '100', '100', '1.8146493', '22.32993', '41.86573', '0', '-20.609286', '7.8321023', '-13.281818', '0']\n",
      "7 9823u  [1.0, 1000.0, 2000.0, 3000.0, 4000.0, 5000.0, 6000.0]\n",
      "> col  7 ['7000', '67.747055', '39.350187', '64.794766', '2.1168396', '1000000', '100', '100', '100', '1.5427987', '25.631446', '39.21022', '0', '-19.8333', '6.083349', '-13.284327', '0']\n",
      "8 9823u  [1.0, 1000.0, 2000.0, 3000.0, 4000.0, 5000.0, 6000.0, 7000.0]\n",
      "> col  8 ['8000', '66.443753', '46.196961', '71.152043', '3.0641591', '1000000', '100', '100', '100', '2.1359879', '26.680864', '40.415457', '0', '-17.450998', '7.7056049', '-13.289956', '0']\n",
      "9 9823u  [1.0, 1000.0, 2000.0, 3000.0, 4000.0, 5000.0, 6000.0, 7000.0, 8000.0]\n",
      "> col  9 ['9000', '77.576199', '49.481422', '78.617651', '3.1136188', '1000000', '100', '100', '100', '1.8412477', '25.69949', '43.100196', '0', '-15.318268', '7.4421568', '-13.283401', '0']\n",
      "10 9823u  [1.0, 1000.0, 2000.0, 3000.0, 4000.0, 5000.0, 6000.0, 7000.0, 8000.0, 9000.0]\n",
      "> col  10 ['10000', '107.46758', '46.615336', '86.978233', '2.4094446', '1000000', '100', '100', '100', '2.4354721', '29.538053', '38.812387', '0', '-17.540704', '6.6532563', '-13.283128', '0']\n",
      "11 9823u  [1.0, 1000.0, 2000.0, 3000.0, 4000.0, 5000.0, 6000.0, 7000.0, 8000.0, 9000.0, 10000.0]\n",
      "> col  11 ['11000', '99.235319', '59.001374', '96.27238', '-0.09239349', '1000000', '100', '100', '100', '3.4190208', '42.447003', '37.320975', '0', '-16.33415', '5.4407736', '-13.292248', '0']\n",
      "12 9823u  [1.0, 1000.0, 2000.0, 3000.0, 4000.0, 5000.0, 6000.0, 7000.0, 8000.0, 9000.0, 10000.0, 11000.0]\n",
      "> col  12 ['12000', '123.89823', '61.29474', '107.82869', '-0.53118311', '1000000', '100', '100', '100', '5.2484874', '42.353167', '40.04907', '0', '-20.549223', '7.4658116', '-13.272572', '0']\n",
      "13 9823u  [1.0, 1000.0, 2000.0, 3000.0, 4000.0, 5000.0, 6000.0, 7000.0, 8000.0, 9000.0, 10000.0, 11000.0, 12000.0]\n",
      "> col  13 ['13000', '129.71794', '71.514552', '120.23428', '-0.91620437', '1000000', '100', '100', '100', '8.9677422', '46.735331', '40.010594', '0', '-17.49969', '6.5914121', '-13.290837', '0']\n",
      "14 9823u  [1.0, 1000.0, 2000.0, 3000.0, 4000.0, 5000.0, 6000.0, 7000.0, 8000.0, 9000.0, 10000.0, 11000.0, 12000.0, 13000.0]\n",
      "> col  14 ['14000', '173.83665', '68.381482', '133.67141', '-5.4177844', '1000000', '100', '100', '100', '7.4167658', '44.109931', '35.327558', '0', '-12.817748', '7.634937', '-13.289961', '0']\n",
      "15 9823u  [1.0, 1000.0, 2000.0, 3000.0, 4000.0, 5000.0, 6000.0, 7000.0, 8000.0, 9000.0, 10000.0, 11000.0, 12000.0, 13000.0, 14000.0]\n",
      "> col  15 ['15000', '177.70837', '81.400769', '148.14484', '0.69611701', '1000000', '100', '100', '100', '6.8857938', '36.38603', '57.265614', '0', '-13.138623', '7.2864675', '-13.284514', '0']\n",
      "16 9823u  [1.0, 1000.0, 2000.0, 3000.0, 4000.0, 5000.0, 6000.0, 7000.0, 8000.0, 9000.0, 10000.0, 11000.0, 12000.0, 13000.0, 14000.0, 15000.0]\n",
      "> col  16 ['16000', '178.96814', '96.6746', '163.89182', '2.7918344', '1000000', '100', '100', '100', '11.811776', '59.423936', '47.078459', '0', '-16.303288', '7.9521909', '-13.288476', '0']\n",
      "17 9823u  [1.0, 1000.0, 2000.0, 3000.0, 4000.0, 5000.0, 6000.0, 7000.0, 8000.0, 9000.0, 10000.0, 11000.0, 12000.0, 13000.0, 14000.0, 15000.0, 16000.0]\n",
      "> col  17 ['17000', '203.39912', '104.48644', '180.8795', '-8.700996', '1000000', '100', '100', '100', '15.956937', '52.343476', '57.750888', '0', '-15.473394', '7.1997764', '-13.291246', '0']\n",
      "18 9823u  [1.0, 1000.0, 2000.0, 3000.0, 4000.0, 5000.0, 6000.0, 7000.0, 8000.0, 9000.0, 10000.0, 11000.0, 12000.0, 13000.0, 14000.0, 15000.0, 16000.0, 17000.0]\n",
      "> col  18 ['18000', '246.48748', '106.23792', '198.81419', '-4.2972616', '1000000', '100', '100', '100', '16.777734', '67.642929', '39.467641', '0', '-13.689136', '9.3233547', '-13.284607', '0']\n",
      "19 9823u  [1.0, 1000.0, 2000.0, 3000.0, 4000.0, 5000.0, 6000.0, 7000.0, 8000.0, 9000.0, 10000.0, 11000.0, 12000.0, 13000.0, 14000.0, 15000.0, 16000.0, 17000.0, 18000.0]\n",
      "> col  19 ['19000', '273.37846', '113.97432', '216.65037', '7.8956734', '1000000', '100', '100', '100', '19.291541', '71.158775', '42.541956', '0', '-16.539287', '10.806324', '-13.284983', '0']\n",
      "20 9823u  [1.0, 1000.0, 2000.0, 3000.0, 4000.0, 5000.0, 6000.0, 7000.0, 8000.0, 9000.0, 10000.0, 11000.0, 12000.0, 13000.0, 14000.0, 15000.0, 16000.0, 17000.0, 18000.0, 19000.0]\n",
      "> col  20 ['20000', '296.79409', '120.99235', '232.46288', '6.3208452', '1000000', '100', '100', '100', '20.991604', '73.494728', '46.315113', '0', '-15.544624', '9.0242174', '-13.288691', '0']\n",
      "21 9823u  [1.0, 1000.0, 2000.0, 3000.0, 4000.0, 5000.0, 6000.0, 7000.0, 8000.0, 9000.0, 10000.0, 11000.0, 12000.0, 13000.0, 14000.0, 15000.0, 16000.0, 17000.0, 18000.0, 19000.0, 20000.0]\n",
      "> col  21 ['20001', '297.30418', '120.81168', '232.4738', '6.2871086', '1000000', '100', '100', '100', '20.971195', '73.735279', '46.362745', '0', '-15.996183', '9.0274002', '-13.288756', '0']\n",
      "22 9823u  [1.0, 1000.0, 2000.0, 3000.0, 4000.0, 5000.0, 6000.0, 7000.0, 8000.0, 9000.0, 10000.0, 11000.0, 12000.0, 13000.0, 14000.0, 15000.0, 16000.0, 17000.0, 18000.0, 19000.0, 20000.0, 20001.0]\n",
      " Calc 1 finished \n",
      " Adding thermo keys from line: Step Temp PotEng TotEng Press Volume Lx Ly Lz E_bond E_angle E_dihed E_impro E_vdwl E_coul E_long E_tail \n",
      " \n",
      "> col  0 ['20001', '297.30418', '120.81168', '232.4738', '6.2871086', '1000000', '100', '100', '100', '20.971195', '73.735279', '46.362745', '0', '-15.996183', '9.0274002', '-13.288756', '0']\n",
      "1 9823u  [20001.0]\n",
      "> col  1 ['20058', '297.30418', '34.33546', '145.99758', '4.6151084', '1000000', '100', '100', '100', '0.69529939', '20.337142', '38.079923', '0', '-20.343932', '8.8569448', '-13.289917', '0']\n",
      "2 9823u  [20001.0, 20058.0]\n",
      " Calc 2 finished \n"
     ]
    }
   ],
   "source": [
    "lmp_i.analysis()"
   ]
  },
  {
   "cell_type": "code",
   "execution_count": null,
   "metadata": {
    "collapsed": true
   },
   "outputs": [],
   "source": []
  },
  {
   "cell_type": "code",
   "execution_count": 271,
   "metadata": {
    "collapsed": true
   },
   "outputs": [],
   "source": [
    "lmp_i.store()"
   ]
  },
  {
   "cell_type": "markdown",
   "metadata": {},
   "source": [
    "Read in data file positions"
   ]
  },
  {
   "cell_type": "code",
   "execution_count": 272,
   "metadata": {
    "collapsed": true
   },
   "outputs": [],
   "source": [
    "lmp_i.pull()"
   ]
  },
  {
   "cell_type": "markdown",
   "metadata": {},
   "source": [
    "Read in data file output and update positions"
   ]
  },
  {
   "cell_type": "code",
   "execution_count": 273,
   "metadata": {},
   "outputs": [
    {
     "name": "stdout",
     "output_type": "stream",
     "text": [
      "/Users/tkemper/Development/streamm-tools/examples/scratch/lmp_nvt_penta_3-hexyl-thiophene_oplsaa/\n"
     ]
    }
   ],
   "source": [
    "print lmp_i.dir['launch']\n",
    "os.chdir(lmp_i.dir['launch'])"
   ]
  },
  {
   "cell_type": "code",
   "execution_count": 276,
   "metadata": {},
   "outputs": [
    {
     "name": "stdout",
     "output_type": "stream",
     "text": [
      "min2.data\n"
     ]
    }
   ],
   "source": [
    "datafn = lmp_i.files['output']['data_3']\n",
    "print datafn"
   ]
  },
  {
   "cell_type": "code",
   "execution_count": 277,
   "metadata": {
    "collapsed": true
   },
   "outputs": [],
   "source": [
    "lmp_i.read_data_pos(datafn)"
   ]
  },
  {
   "cell_type": "code",
   "execution_count": 278,
   "metadata": {
    "scrolled": true
   },
   "outputs": [
    {
     "name": "stdout",
     "output_type": "stream",
     "text": [
      "[[ 100.    0.    0.]\n",
      " [   0.  100.    0.]\n",
      " [   0.    0.  100.]]\n"
     ]
    }
   ],
   "source": [
    "print lmp_i.strucC.lat.matrix"
   ]
  },
  {
   "cell_type": "code",
   "execution_count": 279,
   "metadata": {
    "collapsed": true
   },
   "outputs": [],
   "source": [
    "lmp_i.strucC.write_xyz()"
   ]
  },
  {
   "cell_type": "markdown",
   "metadata": {
    "collapsed": true
   },
   "source": [
    "Awesome! We have a randomized pentamer, so let's save that as new Buildingblock"
   ]
  },
  {
   "cell_type": "code",
   "execution_count": 280,
   "metadata": {
    "collapsed": true
   },
   "outputs": [],
   "source": [
    "bbPHTh_1 = copy.deepcopy(lmp_i.strucC)"
   ]
  },
  {
   "cell_type": "code",
   "execution_count": 284,
   "metadata": {},
   "outputs": [
    {
     "name": "stdout",
     "output_type": "stream",
     "text": [
      " penta_3-hexyl-thiophene_oplsaa\n"
     ]
    }
   ],
   "source": [
    "print bbPHTh_1"
   ]
  },
  {
   "cell_type": "code",
   "execution_count": 314,
   "metadata": {},
   "outputs": [
    {
     "name": "stdout",
     "output_type": "stream",
     "text": [
      "127\n"
     ]
    }
   ],
   "source": [
    "print bbPHTh_1.n_particles"
   ]
  },
  {
   "cell_type": "markdown",
   "metadata": {},
   "source": [
    "Now let's replicate the oligomer 50 times to create a low density system"
   ]
  },
  {
   "cell_type": "code",
   "execution_count": 317,
   "metadata": {
    "collapsed": true
   },
   "outputs": [],
   "source": [
    "seed = 394572"
   ]
  },
  {
   "cell_type": "code",
   "execution_count": 318,
   "metadata": {},
   "outputs": [
    {
     "name": "stdout",
     "output_type": "stream",
     "text": [
      "No overlap found adding structure 0\n",
      "No overlap found adding structure 1\n",
      "No overlap found adding structure 2\n",
      "No overlap found adding structure 3\n",
      "No overlap found adding structure 4\n",
      "No overlap found adding structure 5\n",
      "No overlap found adding structure 6\n",
      "No overlap found adding structure 7\n",
      "No overlap found adding structure 8\n",
      "No overlap found adding structure 9\n",
      "No overlap found adding structure 10\n",
      "No overlap found adding structure 11\n",
      "No overlap found adding structure 12\n",
      "No overlap found adding structure 13\n",
      "No overlap found adding structure 14\n",
      "No overlap found adding structure 15\n",
      "No overlap found adding structure 16\n",
      "No overlap found adding structure 17\n",
      "No overlap found adding structure 18\n",
      "No overlap found adding structure 19\n",
      "No overlap found adding structure 20\n",
      "No overlap found adding structure 21\n",
      "No overlap found adding structure 22\n",
      "No overlap found adding structure 23\n",
      "No overlap found adding structure 24\n",
      "No overlap found adding structure 25\n",
      "No overlap found adding structure 26\n",
      "No overlap found adding structure 27\n",
      "No overlap found adding structure 28\n",
      "No overlap found adding structure 29\n",
      "No overlap found adding structure 30\n",
      "No overlap found adding structure 31\n",
      "No overlap found adding structure 32\n",
      "No overlap found adding structure 33\n",
      "No overlap found adding structure 34\n",
      "No overlap found adding structure 35\n",
      "No overlap found adding structure 36\n",
      "No overlap found adding structure 37\n",
      "No overlap found adding structure 38\n",
      "No overlap found adding structure 39\n",
      "No overlap found adding structure 40\n",
      "No overlap found adding structure 41\n",
      "No overlap found adding structure 42\n",
      "No overlap found adding structure 43\n",
      "No overlap found adding structure 44\n",
      "No overlap found adding structure 45\n",
      "No overlap found adding structure 46\n",
      "No overlap found adding structure 47\n",
      "No overlap found adding structure 48\n"
     ]
    }
   ],
   "source": [
    "pHTh_x = copy.deepcopy(bbPHTh_1)\n",
    "pHTh_x = streamm.add_struc(pHTh_x,bbPHTh_1,49,seed)"
   ]
  },
  {
   "cell_type": "markdown",
   "metadata": {},
   "source": [
    "Increase the box size"
   ]
  },
  {
   "cell_type": "code",
   "execution_count": 319,
   "metadata": {},
   "outputs": [],
   "source": [
    "pHTh_x.lat.matrix = [ 200.,0.,0., 0.,200.,0.,  0.,0.,200.]"
   ]
  },
  {
   "cell_type": "code",
   "execution_count": 322,
   "metadata": {},
   "outputs": [
    {
     "name": "stdout",
     "output_type": "stream",
     "text": [
      "[[ 200.    0.    0.]\n",
      " [   0.  200.    0.]\n",
      " [   0.    0.  200.]]\n"
     ]
    }
   ],
   "source": [
    "print pHTh_x.lat.matrix"
   ]
  },
  {
   "cell_type": "markdown",
   "metadata": {},
   "source": [
    "Randomly place oligomers into the simulation cell"
   ]
  },
  {
   "cell_type": "code",
   "execution_count": 320,
   "metadata": {},
   "outputs": [],
   "source": [
    "pHTh_x.tag = 'p3HTx50'"
   ]
  },
  {
   "cell_type": "code",
   "execution_count": 321,
   "metadata": {},
   "outputs": [],
   "source": [
    "os.chdir(res_local.dir['materials']) \n",
    "pHTh_x.write_xyz()\n",
    "# lmp_i.strucC.dump_pickle() "
   ]
  },
  {
   "cell_type": "markdown",
   "metadata": {},
   "source": [
    "Run a heat cool cycle with NPT to create a solid phase representation of p3HT"
   ]
  },
  {
   "cell_type": "code",
   "execution_count": 325,
   "metadata": {
    "collapsed": true
   },
   "outputs": [],
   "source": [
    "p3ht_et = lmp_run(p3ht_et,pHTh_x,oplsaa,peregrine,md_type = 'equ0')"
   ]
  },
  {
   "cell_type": "code",
   "execution_count": 338,
   "metadata": {},
   "outputs": [
    {
     "name": "stdout",
     "output_type": "stream",
     "text": [
      "Calculation lmp_min_penta_3-hexyl-thiophene has status stored\n",
      "Calculation lmp_min_hexane_HFesp has status stored\n",
      "Calculation nw_esp_thiophene has status stored\n",
      "Calculation nw_opt_thiophene has status stored\n",
      "Calculation lmp_equ0_p3HTx50 has status finished\n",
      "Calculation lmp_min_3-hexyl-thiophene has status stored\n",
      "Calculation nw_opt_hexane has status stored\n",
      "Calculation lmp_equ1_p3HTx50 has status stored\n",
      "Calculation lmp_nvt_penta_3-hexyl-thiophene_oplsaa has status stored\n",
      "Calculation nw_esp_hexane has status stored\n",
      "Calculation lmp_min_thiophene_HFesp has status stored\n"
     ]
    }
   ],
   "source": [
    "p3ht_et.check()"
   ]
  },
  {
   "cell_type": "code",
   "execution_count": 339,
   "metadata": {
    "collapsed": true
   },
   "outputs": [],
   "source": [
    "lmp_i = p3ht_et.calculations['lmp_equ0_p3HTx50']"
   ]
  },
  {
   "cell_type": "code",
   "execution_count": 340,
   "metadata": {},
   "outputs": [
    {
     "name": "stdout",
     "output_type": "stream",
     "text": [
      ">  using mdrun with len 3 \n",
      " Adding thermo keys from line: Step Temp PotEng TotEng Press Volume Lx Ly Lz E_bond E_angle E_dihed E_impro E_vdwl E_coul E_long E_tail \n",
      " \n",
      "> col  0 ['0', '0', '877.02859', '877.02859', '-2.6925996', '8000000', '200', '200', '200', '31.479356', '1242.1515', '1733.6988', '0', '-680.37254', '-265.07061', '-1184.858', '0']\n",
      "1 9823u  [0.0]\n",
      "> col  1 ['1000', '12.115252', '657.28449', '886.56761', '-3.0257293', '7188102.5', '192.99146', '192.99146', '192.99146', '34.064197', '1162.8705', '1706.4011', '0', '-732.05457', '-324.43684', '-1189.5599', '0']\n",
      "2 9823u  [0.0, 1000.0]\n",
      "> col  2 ['2000', '17.292782', '573.85713', '901.12585', '5.3028331', '6452781.5', '186.17255', '186.17255', '186.17255', '29.158838', '1140.9248', '1698.0417', '0', '-775.27359', '-329.84463', '-1189.15', '0']\n",
      "[0.0, 1000.0]\n",
      "3 9823u  [0.0, 1000.0, 2000.0]\n",
      "> col  3 ['3000', '18.259997', '567.66256', '913.23598', '1.3762115', '5705518.3', '178.68923', '178.68923', '178.68923', '32.250001', '995.66287', '1957.5426', '0', '-899.49485', '-330.02018', '-1188.2779', '0']\n",
      "4 9823u  [0.0, 1000.0, 2000.0, 3000.0]\n",
      "> col  4 ['4000', '26.79634', '449.78335', '956.90845', '6.0152756', '5649655.6', '178.10413', '178.10413', '178.10413', '48.320875', '1124.3793', '1998.4796', '0', '-1155.3549', '-376.30727', '-1189.7343', '0']\n",
      "5 9823u  [0.0, 1000.0, 2000.0, 3000.0, 4000.0]\n",
      "> col  5 ['5000', '28.565463', '440.04127', '980.64731', '-2.9208028', '6242457.8', '184.12745', '184.12745', '184.12745', '44.053276', '1275.2294', '1725.8192', '0', '-1098.1284', '-317.49671', '-1189.4355', '0']\n",
      "6 9823u  [0.0, 1000.0, 2000.0, 3000.0, 4000.0, 5000.0]\n",
      "> col  6 ['6000', '28.791726', '491.64803', '1036.5361', '2.1263671', '5804466.6', '179.71629', '179.71629', '179.71629', '48.262633', '1374.4701', '1701.332', '0', '-1111.6184', '-329.03974', '-1191.7585', '0']\n",
      "7 9823u  [0.0, 1000.0, 2000.0, 3000.0, 4000.0, 5000.0, 6000.0]\n",
      "> col  7 ['7000', '32.205713', '501.67638', '1111.1748', '-9.2139162', '5227290.4', '173.55037', '173.55037', '173.55037', '63.904411', '1345.9185', '1727.5334', '0', '-1083.5547', '-360.37193', '-1191.7534', '0']\n",
      "8 9823u  [0.0, 1000.0, 2000.0, 3000.0, 4000.0, 5000.0, 6000.0, 7000.0]\n",
      "> col  8 ['8000', '33.762857', '573.84144', '1212.809', '-1.5110194', '4890633.4', '169.74163', '169.74163', '169.74163', '64.485669', '1364.8259', '1830.2276', '0', '-1133.8855', '-359.88461', '-1191.9277', '0']\n",
      "9 9823u  [0.0, 1000.0, 2000.0, 3000.0, 4000.0, 5000.0, 6000.0, 7000.0, 8000.0]\n",
      "> col  9 ['9000', '39.873631', '571.00165', '1325.6166', '-3.892862', '4451837.5', '164.50525', '164.50525', '164.50525', '84.555561', '1397.1142', '1847.9878', '0', '-1195.0651', '-371.69196', '-1191.8988', '0']\n",
      "10 9823u  [0.0, 1000.0, 2000.0, 3000.0, 4000.0, 5000.0, 6000.0, 7000.0, 8000.0, 9000.0]\n",
      "> col  10 ['10000', '44.875991', '617.83589', '1467.1213', '-0.71519827', '4144536.9', '160.62951', '160.62951', '160.62951', '96.54301', '1445.4286', '1864.8587', '0', '-1217.859', '-378.77208', '-1192.3633', '0']\n",
      "11 9823u  [0.0, 1000.0, 2000.0, 3000.0, 4000.0, 5000.0, 6000.0, 7000.0, 8000.0, 9000.0, 10000.0]\n",
      "> col  11 ['11000', '50.220239', '676.0396', '1626.4658', '-0.58717304', '3834251.2', '156.51652', '156.51652', '156.51652', '105.39864', '1423.3661', '1931.4125', '0', '-1216.4979', '-375.95361', '-1191.6862', '0']\n",
      "12 9823u  [0.0, 1000.0, 2000.0, 3000.0, 4000.0, 5000.0, 6000.0, 7000.0, 8000.0, 9000.0, 10000.0, 11000.0]\n",
      "> col  12 ['12000', '53.332346', '793.33407', '1802.6574', '0.41008335', '3560859.6', '152.70442', '152.70442', '152.70442', '120.65829', '1538.787', '1896.6715', '0', '-1200.7605', '-370.79406', '-1191.2282', '0']\n",
      "13 9823u  [0.0, 1000.0, 2000.0, 3000.0, 4000.0, 5000.0, 6000.0, 7000.0, 8000.0, 9000.0, 10000.0, 11000.0, 12000.0]\n",
      "> col  13 ['13000', '60.337856', '857.04956', '1998.9533', '-1.930898', '3261300.1', '148.29628', '148.29628', '148.29628', '145.54223', '1517.7736', '1906.127', '0', '-1156.1868', '-364.91509', '-1191.2915', '0']\n",
      "14 9823u  [0.0, 1000.0, 2000.0, 3000.0, 4000.0, 5000.0, 6000.0, 7000.0, 8000.0, 9000.0, 10000.0, 11000.0, 12000.0, 13000.0]\n",
      "> col  14 ['14000', '64.59808', '991.31208', '2213.8413', '-5.3302686', '2959342.1', '143.57045', '143.57045', '143.57045', '169.26673', '1592.144', '1919.0764', '0', '-1137.7727', '-360.29928', '-1191.1031', '0']\n",
      "15 9823u  [0.0, 1000.0, 2000.0, 3000.0, 4000.0, 5000.0, 6000.0, 7000.0, 8000.0, 9000.0, 10000.0, 11000.0, 12000.0, 13000.0, 14000.0]\n",
      "> col  15 ['15000', '71.545591', '1101.5996', '2455.6116', '-6.6194254', '2700959.7', '139.26416', '139.26416', '139.26416', '182.30409', '1677.2292', '1933.187', '0', '-1134.6371', '-364.96426', '-1191.5193', '0']\n",
      "16 9823u  [0.0, 1000.0, 2000.0, 3000.0, 4000.0, 5000.0, 6000.0, 7000.0, 8000.0, 9000.0, 10000.0, 11000.0, 12000.0, 13000.0, 14000.0, 15000.0]\n",
      "> col  16 ['16000', '78.555799', '1240.4361', '2727.1173', '8.2075428', '2459021.4', '134.97524', '134.97524', '134.97524', '210.46072', '1764.7257', '1971.9326', '0', '-1141.1889', '-373.77872', '-1191.7154', '0']\n",
      "17 9823u  [0.0, 1000.0, 2000.0, 3000.0, 4000.0, 5000.0, 6000.0, 7000.0, 8000.0, 9000.0, 10000.0, 11000.0, 12000.0, 13000.0, 14000.0, 15000.0, 16000.0]\n",
      "> col  17 ['17000', '88.765441', '1347.4145', '3027.3149', '3.7270424', '2229030.2', '130.62871', '130.62871', '130.62871', '233.54092', '1741.8035', '2090.0901', '0', '-1140.9011', '-385.6332', '-1191.4857', '0']\n",
      "18 9823u  [0.0, 1000.0, 2000.0, 3000.0, 4000.0, 5000.0, 6000.0, 7000.0, 8000.0, 9000.0, 10000.0, 11000.0, 12000.0, 13000.0, 14000.0, 15000.0, 16000.0, 17000.0]\n",
      "> col  18 ['18000', '99.507608', '1490.8813', '3374.079', '10.20947', '2099770.4', '128.05325', '128.05325', '128.05325', '262.40672', '1868.1528', '2101.4909', '0', '-1150.7946', '-396.57158', '-1193.803', '0']\n",
      "19 9823u  [0.0, 1000.0, 2000.0, 3000.0, 4000.0, 5000.0, 6000.0, 7000.0, 8000.0, 9000.0, 10000.0, 11000.0, 12000.0, 13000.0, 14000.0, 15000.0, 16000.0, 17000.0, 18000.0]\n",
      "> col  19 ['19000', '110.30059', '1666.7955', '3754.252', '5.2345613', '1946691.2', '124.8626', '124.8626', '124.8626', '311.14012', '1954.3129', '2102.0292', '0', '-1125.2303', '-382.33744', '-1193.119', '0']\n",
      "20 9823u  [0.0, 1000.0, 2000.0, 3000.0, 4000.0, 5000.0, 6000.0, 7000.0, 8000.0, 9000.0, 10000.0, 11000.0, 12000.0, 13000.0, 14000.0, 15000.0, 16000.0, 17000.0, 18000.0, 19000.0]\n",
      "> col  20 ['20000', '122.74985', '1852.4943', '4175.5553', '-19.564571', '1747916', '120.45926', '120.45926', '120.45926', '349.14763', '2045.6997', '2178.3132', '0', '-1116.1019', '-410.09889', '-1194.4654', '0']\n",
      "21 9823u  [0.0, 1000.0, 2000.0, 3000.0, 4000.0, 5000.0, 6000.0, 7000.0, 8000.0, 9000.0, 10000.0, 11000.0, 12000.0, 13000.0, 14000.0, 15000.0, 16000.0, 17000.0, 18000.0, 19000.0, 20000.0]\n",
      "> col  21 ['21000', '133.26791', '2127.4917', '4649.6086', '-33.99322', '1589562.4', '116.70582', '116.70582', '116.70582', '424.33958', '2187.1109', '2192.8833', '0', '-1083.6378', '-398.81413', '-1194.3901', '0']\n",
      "22 9823u  [0.0, 1000.0, 2000.0, 3000.0, 4000.0, 5000.0, 6000.0, 7000.0, 8000.0, 9000.0, 10000.0, 11000.0, 12000.0, 13000.0, 14000.0, 15000.0, 16000.0, 17000.0, 18000.0, 19000.0, 20000.0, 21000.0]\n",
      "> col  22 ['22000', '147.69849', '2369.1452', '5164.3632', '-0.76504862', '1411917.4', '112.18542', '112.18542', '112.18542', '481.67701', '2288.2385', '2282.7842', '0', '-1088.132', '-400.04553', '-1195.377', '0']\n",
      "23 9823u  [0.0, 1000.0, 2000.0, 3000.0, 4000.0, 5000.0, 6000.0, 7000.0, 8000.0, 9000.0, 10000.0, 11000.0, 12000.0, 13000.0, 14000.0, 15000.0, 16000.0, 17000.0, 18000.0, 19000.0, 20000.0, 21000.0, 22000.0]\n",
      "> col  23 ['23000', '162.52873', '2663.7877', '5739.6705', '-11.164963', '1294097.3', '108.97385', '108.97385', '108.97385', '603.18875', '2465.9829', '2299.0717', '0', '-1106.7526', '-402.1133', '-1195.5897', '0']\n",
      "24 9823u  [0.0, 1000.0, 2000.0, 3000.0, 4000.0, 5000.0, 6000.0, 7000.0, 8000.0, 9000.0, 10000.0, 11000.0, 12000.0, 13000.0, 14000.0, 15000.0, 16000.0, 17000.0, 18000.0, 19000.0, 20000.0, 21000.0, 22000.0, 23000.0]\n",
      "> col  24 ['24000', '183.68232', '2904.1787', '6380.3965', '-23.255286', '1202709.9', '106.34579', '106.34579', '106.34579', '672.86953', '2579.6322', '2306.7098', '0', '-1061.6512', '-398.18293', '-1195.1987', '0']\n",
      "25 9823u  [0.0, 1000.0, 2000.0, 3000.0, 4000.0, 5000.0, 6000.0, 7000.0, 8000.0, 9000.0, 10000.0, 11000.0, 12000.0, 13000.0, 14000.0, 15000.0, 16000.0, 17000.0, 18000.0, 19000.0, 20000.0, 21000.0, 22000.0, 23000.0, 24000.0]\n",
      "> col  25 ['25000', '201.03944', '3280.2186', '7084.9228', '23.237664', '1092221', '102.9841', '102.9841', '102.9841', '773.60527', '2792.5465', '2388.961', '0', '-1096.4303', '-382.58243', '-1195.8815', '0']\n",
      "26 9823u  [0.0, 1000.0, 2000.0, 3000.0, 4000.0, 5000.0, 6000.0, 7000.0, 8000.0, 9000.0, 10000.0, 11000.0, 12000.0, 13000.0, 14000.0, 15000.0, 16000.0, 17000.0, 18000.0, 19000.0, 20000.0, 21000.0, 22000.0, 23000.0, 24000.0, 25000.0]\n",
      "> col  26 ['26000', '224.56308', '3611.4804', '7861.3733', '-59.10898', '1017518.1', '100.58056', '100.58056', '100.58056', '900.39219', '2943.1485', '2408.6904', '0', '-1046.1219', '-398.4877', '-1196.1411', '0']\n",
      "27 9823u  [0.0, 1000.0, 2000.0, 3000.0, 4000.0, 5000.0, 6000.0, 7000.0, 8000.0, 9000.0, 10000.0, 11000.0, 12000.0, 13000.0, 14000.0, 15000.0, 16000.0, 17000.0, 18000.0, 19000.0, 20000.0, 21000.0, 22000.0, 23000.0, 24000.0, 25000.0, 26000.0]\n",
      "> col  27 ['27000', '245.75099', '4059.3461', '8710.2236', '45.076807', '945258.9', '98.14095', '98.14095', '98.14095', '1071.4717', '3187.1905', '2378.4408', '0', '-985.54462', '-395.57673', '-1196.6356', '0']\n",
      "28 9823u  [0.0, 1000.0, 2000.0, 3000.0, 4000.0, 5000.0, 6000.0, 7000.0, 8000.0, 9000.0, 10000.0, 11000.0, 12000.0, 13000.0, 14000.0, 15000.0, 16000.0, 17000.0, 18000.0, 19000.0, 20000.0, 21000.0, 22000.0, 23000.0, 24000.0, 25000.0, 26000.0, 27000.0]\n",
      "> col  28 ['28000', '267.46947', '4573.3631', '9635.2664', '-14.260539', '873973.31', '95.609135', '95.609135', '95.609135', '1243.4671', '3452.7334', '2461.8176', '0', '-986.04371', '-400.4094', '-1198.2019', '0']\n",
      "29 9823u  [0.0, 1000.0, 2000.0, 3000.0, 4000.0, 5000.0, 6000.0, 7000.0, 8000.0, 9000.0, 10000.0, 11000.0, 12000.0, 13000.0, 14000.0, 15000.0, 16000.0, 17000.0, 18000.0, 19000.0, 20000.0, 21000.0, 22000.0, 23000.0, 24000.0, 25000.0, 26000.0, 27000.0, 28000.0]\n",
      "> col  29 ['29000', '298.98271', '4985.1605', '10643.457', '45.123076', '808534.59', '93.160727', '93.160727', '93.160727', '1373.9078', '3716.0384', '2477.4037', '0', '-976.50508', '-407.72945', '-1197.955', '0']\n",
      "30 9823u  [0.0, 1000.0, 2000.0, 3000.0, 4000.0, 5000.0, 6000.0, 7000.0, 8000.0, 9000.0, 10000.0, 11000.0, 12000.0, 13000.0, 14000.0, 15000.0, 16000.0, 17000.0, 18000.0, 19000.0, 20000.0, 21000.0, 22000.0, 23000.0, 24000.0, 25000.0, 26000.0, 27000.0, 28000.0, 29000.0]\n",
      "> col  30 ['30000', '327.7957', '5536.2608', '11739.848', '6.7053502', '753861.81', '91.011704', '91.011704', '91.011704', '1668.0408', '3905.6302', '2528.6094', '0', '-972.23292', '-396.68232', '-1197.1045', '0']\n",
      "31 9823u  [0.0, 1000.0, 2000.0, 3000.0, 4000.0, 5000.0, 6000.0, 7000.0, 8000.0, 9000.0, 10000.0, 11000.0, 12000.0, 13000.0, 14000.0, 15000.0, 16000.0, 17000.0, 18000.0, 19000.0, 20000.0, 21000.0, 22000.0, 23000.0, 24000.0, 25000.0, 26000.0, 27000.0, 28000.0, 29000.0, 30000.0]\n",
      "> col  31 ['31000', '360.39196', '6095.8718', '12916.348', '21.102205', '681818.46', '88.014911', '88.014911', '88.014911', '1820.6876', '4266.1875', '2582.608', '0', '-984.29121', '-393.08935', '-1196.2307', '0']\n",
      "32 9823u  [0.0, 1000.0, 2000.0, 3000.0, 4000.0, 5000.0, 6000.0, 7000.0, 8000.0, 9000.0, 10000.0, 11000.0, 12000.0, 13000.0, 14000.0, 15000.0, 16000.0, 17000.0, 18000.0, 19000.0, 20000.0, 21000.0, 22000.0, 23000.0, 24000.0, 25000.0, 26000.0, 27000.0, 28000.0, 29000.0, 30000.0, 31000.0]\n",
      "> col  32 ['32000', '394.7831', '6700.2658', '14171.6', '20.701268', '619271.99', '85.236802', '85.236802', '85.236802', '2169.262', '4538.48', '2581.2245', '0', '-992.42277', '-400.09372', '-1196.1843', '0']\n",
      "33 9823u  [0.0, 1000.0, 2000.0, 3000.0, 4000.0, 5000.0, 6000.0, 7000.0, 8000.0, 9000.0, 10000.0, 11000.0, 12000.0, 13000.0, 14000.0, 15000.0, 16000.0, 17000.0, 18000.0, 19000.0, 20000.0, 21000.0, 22000.0, 23000.0, 24000.0, 25000.0, 26000.0, 27000.0, 28000.0, 29000.0, 30000.0, 31000.0, 32000.0]\n",
      "> col  33 ['33000', '438.3456', '7224.8243', '15520.586', '-35.85077', '584339.96', '83.603', '83.603', '83.603', '2342.4169', '4866.0109', '2608.2574', '0', '-990.5152', '-405.79849', '-1195.5472', '0']\n",
      "34 9823u  [0.0, 1000.0, 2000.0, 3000.0, 4000.0, 5000.0, 6000.0, 7000.0, 8000.0, 9000.0, 10000.0, 11000.0, 12000.0, 13000.0, 14000.0, 15000.0, 16000.0, 17000.0, 18000.0, 19000.0, 20000.0, 21000.0, 22000.0, 23000.0, 24000.0, 25000.0, 26000.0, 27000.0, 28000.0, 29000.0, 30000.0, 31000.0, 32000.0, 33000.0]\n",
      "> col  34 ['34000', '469.46746', '8064.0665', '16948.815', '-185.19767', '558004.84', '82.327701', '82.327701', '82.327701', '2645.6002', '5360.9336', '2612.6418', '0', '-972.8639', '-385.0706', '-1197.1746', '0']\n",
      "35 9823u  [0.0, 1000.0, 2000.0, 3000.0, 4000.0, 5000.0, 6000.0, 7000.0, 8000.0, 9000.0, 10000.0, 11000.0, 12000.0, 13000.0, 14000.0, 15000.0, 16000.0, 17000.0, 18000.0, 19000.0, 20000.0, 21000.0, 22000.0, 23000.0, 24000.0, 25000.0, 26000.0, 27000.0, 28000.0, 29000.0, 30000.0, 31000.0, 32000.0, 33000.0, 34000.0]\n",
      "> col  35 ['35000', '510.98237', '8781.1119', '18451.537', '88.474538', '543483.59', '81.607263', '81.607263', '81.607263', '2965.4579', '5625.3894', '2736.2022', '0', '-933.71728', '-414.2107', '-1198.0096', '0']\n",
      "36 9823u  [0.0, 1000.0, 2000.0, 3000.0, 4000.0, 5000.0, 6000.0, 7000.0, 8000.0, 9000.0, 10000.0, 11000.0, 12000.0, 13000.0, 14000.0, 15000.0, 16000.0, 17000.0, 18000.0, 19000.0, 20000.0, 21000.0, 22000.0, 23000.0, 24000.0, 25000.0, 26000.0, 27000.0, 28000.0, 29000.0, 30000.0, 31000.0, 32000.0, 33000.0, 34000.0, 35000.0]\n",
      "> col  36 ['36000', '554.74722', '9514.5407', '20013.222', '127.45146', '538554.15', '81.359785', '81.359785', '81.359785', '3237.5228', '6079.8098', '2658.0647', '0', '-866.87699', '-396.59784', '-1197.3818', '0']\n",
      "37 9823u  [0.0, 1000.0, 2000.0, 3000.0, 4000.0, 5000.0, 6000.0, 7000.0, 8000.0, 9000.0, 10000.0, 11000.0, 12000.0, 13000.0, 14000.0, 15000.0, 16000.0, 17000.0, 18000.0, 19000.0, 20000.0, 21000.0, 22000.0, 23000.0, 24000.0, 25000.0, 26000.0, 27000.0, 28000.0, 29000.0, 30000.0, 31000.0, 32000.0, 33000.0, 34000.0, 35000.0, 36000.0]\n",
      "> col  37 ['37000', '601.66818', '10229.107', '21615.775', '16.868457', '510364.46', '79.914725', '79.914725', '79.914725', '3488.5642', '6482.119', '2690.036', '0', '-845.31912', '-388.07412', '-1198.2191', '0']\n",
      "38 9823u  [0.0, 1000.0, 2000.0, 3000.0, 4000.0, 5000.0, 6000.0, 7000.0, 8000.0, 9000.0, 10000.0, 11000.0, 12000.0, 13000.0, 14000.0, 15000.0, 16000.0, 17000.0, 18000.0, 19000.0, 20000.0, 21000.0, 22000.0, 23000.0, 24000.0, 25000.0, 26000.0, 27000.0, 28000.0, 29000.0, 30000.0, 31000.0, 32000.0, 33000.0, 34000.0, 35000.0, 36000.0, 37000.0]\n",
      "> col  38 ['38000', '640.44109', '11120.06', '23240.512', '241.01045', '472501.79', '77.88751', '77.88751', '77.88751', '3845.3881', '6953.2471', '2752.9092', '0', '-847.68268', '-386.07729', '-1197.724', '0']\n",
      "39 9823u  [0.0, 1000.0, 2000.0, 3000.0, 4000.0, 5000.0, 6000.0, 7000.0, 8000.0, 9000.0, 10000.0, 11000.0, 12000.0, 13000.0, 14000.0, 15000.0, 16000.0, 17000.0, 18000.0, 19000.0, 20000.0, 21000.0, 22000.0, 23000.0, 24000.0, 25000.0, 26000.0, 27000.0, 28000.0, 29000.0, 30000.0, 31000.0, 32000.0, 33000.0, 34000.0, 35000.0, 36000.0, 37000.0, 38000.0]\n",
      "> col  39 ['39000', '691.05738', '11794.405', '24872.779', '204.9569', '447028.1', '76.461874', '76.461874', '76.461874', '4189.8182', '7288.0868', '2770.5135', '0', '-878.8137', '-379.83123', '-1195.3683', '0']\n",
      "40 9823u  [0.0, 1000.0, 2000.0, 3000.0, 4000.0, 5000.0, 6000.0, 7000.0, 8000.0, 9000.0, 10000.0, 11000.0, 12000.0, 13000.0, 14000.0, 15000.0, 16000.0, 17000.0, 18000.0, 19000.0, 20000.0, 21000.0, 22000.0, 23000.0, 24000.0, 25000.0, 26000.0, 27000.0, 28000.0, 29000.0, 30000.0, 31000.0, 32000.0, 33000.0, 34000.0, 35000.0, 36000.0, 37000.0, 38000.0, 39000.0]\n",
      "> col  40 ['40000', '734.46097', '12591.503', '26491.297', '-53.258008', '425391.01', '75.20778', '75.20778', '75.20778', '4529.4742', '7632.0625', '2830.2778', '0', '-817.18539', '-386.33434', '-1196.7915', '0']\n",
      "41 9823u  [0.0, 1000.0, 2000.0, 3000.0, 4000.0, 5000.0, 6000.0, 7000.0, 8000.0, 9000.0, 10000.0, 11000.0, 12000.0, 13000.0, 14000.0, 15000.0, 16000.0, 17000.0, 18000.0, 19000.0, 20000.0, 21000.0, 22000.0, 23000.0, 24000.0, 25000.0, 26000.0, 27000.0, 28000.0, 29000.0, 30000.0, 31000.0, 32000.0, 33000.0, 34000.0, 35000.0, 36000.0, 37000.0, 38000.0, 39000.0, 40000.0]\n",
      "> col  41 ['41000', '776.36855', '13349.538', '28042.439', '111.85101', '403908.52', '73.919838', '73.919838', '73.919838', '4775.7035', '8278.5027', '2704.5199', '0', '-852.48951', '-361.09927', '-1195.5991', '0']\n",
      "42 9823u  [0.0, 1000.0, 2000.0, 3000.0, 4000.0, 5000.0, 6000.0, 7000.0, 8000.0, 9000.0, 10000.0, 11000.0, 12000.0, 13000.0, 14000.0, 15000.0, 16000.0, 17000.0, 18000.0, 19000.0, 20000.0, 21000.0, 22000.0, 23000.0, 24000.0, 25000.0, 26000.0, 27000.0, 28000.0, 29000.0, 30000.0, 31000.0, 32000.0, 33000.0, 34000.0, 35000.0, 36000.0, 37000.0, 38000.0, 39000.0, 40000.0, 41000.0]\n",
      "> col  42 ['42000', '814.9763', '14079.016', '29502.575', '-50.339297', '394273.24', '73.327312', '73.327312', '73.327312', '5169.1964', '8523.1708', '2773.3344', '0', '-827.17179', '-363.71811', '-1195.7962', '0']\n",
      "43 9823u  [0.0, 1000.0, 2000.0, 3000.0, 4000.0, 5000.0, 6000.0, 7000.0, 8000.0, 9000.0, 10000.0, 11000.0, 12000.0, 13000.0, 14000.0, 15000.0, 16000.0, 17000.0, 18000.0, 19000.0, 20000.0, 21000.0, 22000.0, 23000.0, 24000.0, 25000.0, 26000.0, 27000.0, 28000.0, 29000.0, 30000.0, 31000.0, 32000.0, 33000.0, 34000.0, 35000.0, 36000.0, 37000.0, 38000.0, 39000.0, 40000.0, 41000.0, 42000.0]\n",
      "> col  43 ['43000', '858.76089', '14581.114', '30833.304', '-251.97515', '395396.55', '73.396884', '73.396884', '73.396884', '5390.6324', '8701.7047', '2793.909', '0', '-748.07268', '-362.62207', '-1194.437', '0']\n",
      "44 9823u  [0.0, 1000.0, 2000.0, 3000.0, 4000.0, 5000.0, 6000.0, 7000.0, 8000.0, 9000.0, 10000.0, 11000.0, 12000.0, 13000.0, 14000.0, 15000.0, 16000.0, 17000.0, 18000.0, 19000.0, 20000.0, 21000.0, 22000.0, 23000.0, 24000.0, 25000.0, 26000.0, 27000.0, 28000.0, 29000.0, 30000.0, 31000.0, 32000.0, 33000.0, 34000.0, 35000.0, 36000.0, 37000.0, 38000.0, 39000.0, 40000.0, 41000.0, 42000.0, 43000.0]\n",
      "> col  44 ['44000', '887.14014', '15238.883', '32028.155', '-1.8437191', '407225.13', '74.121612', '74.121612', '74.121612', '5443.6001', '9203.7649', '2832.5477', '0', '-691.64171', '-355.45002', '-1193.938', '0']\n",
      "45 9823u  [0.0, 1000.0, 2000.0, 3000.0, 4000.0, 5000.0, 6000.0, 7000.0, 8000.0, 9000.0, 10000.0, 11000.0, 12000.0, 13000.0, 14000.0, 15000.0, 16000.0, 17000.0, 18000.0, 19000.0, 20000.0, 21000.0, 22000.0, 23000.0, 24000.0, 25000.0, 26000.0, 27000.0, 28000.0, 29000.0, 30000.0, 31000.0, 32000.0, 33000.0, 34000.0, 35000.0, 36000.0, 37000.0, 38000.0, 39000.0, 40000.0, 41000.0, 42000.0, 43000.0, 44000.0]\n",
      "> col  45 ['45000', '921.4244', '15655.528', '33093.635', '-11.115948', '393457.98', '73.276737', '73.276737', '73.276737', '5667.5509', '9416.0946', '2880.3331', '0', '-742.97292', '-369.08148', '-1196.3962', '0']\n",
      "46 9823u  [0.0, 1000.0, 2000.0, 3000.0, 4000.0, 5000.0, 6000.0, 7000.0, 8000.0, 9000.0, 10000.0, 11000.0, 12000.0, 13000.0, 14000.0, 15000.0, 16000.0, 17000.0, 18000.0, 19000.0, 20000.0, 21000.0, 22000.0, 23000.0, 24000.0, 25000.0, 26000.0, 27000.0, 28000.0, 29000.0, 30000.0, 31000.0, 32000.0, 33000.0, 34000.0, 35000.0, 36000.0, 37000.0, 38000.0, 39000.0, 40000.0, 41000.0, 42000.0, 43000.0, 44000.0, 45000.0]\n",
      "> col  46 ['46000', '937.47681', '16232.189', '33974.091', '107.16434', '393489.2', '73.278675', '73.278675', '73.278675', '6067.8977', '9577.0652', '2891.3209', '0', '-750.80582', '-357.27375', '-1196.015', '0']\n",
      "47 9823u  [0.0, 1000.0, 2000.0, 3000.0, 4000.0, 5000.0, 6000.0, 7000.0, 8000.0, 9000.0, 10000.0, 11000.0, 12000.0, 13000.0, 14000.0, 15000.0, 16000.0, 17000.0, 18000.0, 19000.0, 20000.0, 21000.0, 22000.0, 23000.0, 24000.0, 25000.0, 26000.0, 27000.0, 28000.0, 29000.0, 30000.0, 31000.0, 32000.0, 33000.0, 34000.0, 35000.0, 36000.0, 37000.0, 38000.0, 39000.0, 40000.0, 41000.0, 42000.0, 43000.0, 44000.0, 45000.0, 46000.0]\n",
      "> col  47 ['47000', '939.52391', '16908.871', '34689.514', '-810.9144', '405880.92', '74.039966', '74.039966', '74.039966', '6480.7811', '9850.3806', '2891.1641', '0', '-792.44443', '-327.88022', '-1193.1304', '0']\n",
      "48 9823u  [0.0, 1000.0, 2000.0, 3000.0, 4000.0, 5000.0, 6000.0, 7000.0, 8000.0, 9000.0, 10000.0, 11000.0, 12000.0, 13000.0, 14000.0, 15000.0, 16000.0, 17000.0, 18000.0, 19000.0, 20000.0, 21000.0, 22000.0, 23000.0, 24000.0, 25000.0, 26000.0, 27000.0, 28000.0, 29000.0, 30000.0, 31000.0, 32000.0, 33000.0, 34000.0, 35000.0, 36000.0, 37000.0, 38000.0, 39000.0, 40000.0, 41000.0, 42000.0, 43000.0, 44000.0, 45000.0, 46000.0, 47000.0]\n",
      "> col  48 ['48000', '978.23617', '16732.149', '35245.428', '-141.70619', '434310.94', '75.72982', '75.72982', '75.72982', '6209.4233', '9855.8957', '2896.1007', '0', '-700.49785', '-333.82468', '-1194.948', '0']\n",
      "49 9823u  [0.0, 1000.0, 2000.0, 3000.0, 4000.0, 5000.0, 6000.0, 7000.0, 8000.0, 9000.0, 10000.0, 11000.0, 12000.0, 13000.0, 14000.0, 15000.0, 16000.0, 17000.0, 18000.0, 19000.0, 20000.0, 21000.0, 22000.0, 23000.0, 24000.0, 25000.0, 26000.0, 27000.0, 28000.0, 29000.0, 30000.0, 31000.0, 32000.0, 33000.0, 34000.0, 35000.0, 36000.0, 37000.0, 38000.0, 39000.0, 40000.0, 41000.0, 42000.0, 43000.0, 44000.0, 45000.0, 46000.0, 47000.0, 48000.0]\n",
      "> col  49 ['49000', '986.59241', '17075.778', '35747.2', '36.79002', '461072.38', '77.254367', '77.254367', '77.254367', '6443.8618', '9957.3907', '2884.5277', '0', '-685.39264', '-330.31507', '-1194.2942', '0']\n",
      "50 9823u  [0.0, 1000.0, 2000.0, 3000.0, 4000.0, 5000.0, 6000.0, 7000.0, 8000.0, 9000.0, 10000.0, 11000.0, 12000.0, 13000.0, 14000.0, 15000.0, 16000.0, 17000.0, 18000.0, 19000.0, 20000.0, 21000.0, 22000.0, 23000.0, 24000.0, 25000.0, 26000.0, 27000.0, 28000.0, 29000.0, 30000.0, 31000.0, 32000.0, 33000.0, 34000.0, 35000.0, 36000.0, 37000.0, 38000.0, 39000.0, 40000.0, 41000.0, 42000.0, 43000.0, 44000.0, 45000.0, 46000.0, 47000.0, 48000.0, 49000.0]\n",
      "> col  50 ['50000', '983.9559', '17637.388', '36258.914', '-87.609637', '503667.74', '79.563653', '79.563653', '79.563653', '6577.4033', '10396.967', '2854.5198', '0', '-645.31653', '-351.10288', '-1195.0832', '0']\n",
      "51 9823u  [0.0, 1000.0, 2000.0, 3000.0, 4000.0, 5000.0, 6000.0, 7000.0, 8000.0, 9000.0, 10000.0, 11000.0, 12000.0, 13000.0, 14000.0, 15000.0, 16000.0, 17000.0, 18000.0, 19000.0, 20000.0, 21000.0, 22000.0, 23000.0, 24000.0, 25000.0, 26000.0, 27000.0, 28000.0, 29000.0, 30000.0, 31000.0, 32000.0, 33000.0, 34000.0, 35000.0, 36000.0, 37000.0, 38000.0, 39000.0, 40000.0, 41000.0, 42000.0, 43000.0, 44000.0, 45000.0, 46000.0, 47000.0, 48000.0, 49000.0, 50000.0]\n",
      " Calc 0 finished \n",
      " Adding thermo keys from line: Step Temp PotEng TotEng Press Volume Lx Ly Lz E_bond E_angle E_dihed E_impro E_vdwl E_coul E_long E_tail \n",
      " \n",
      "> col  0 ['50000', '983.9559', '17638.56', '36260.086', '-87.061557', '503667.74', '79.563653', '79.563653', '79.563653', '6577.4033', '10396.967', '2854.5198', '0', '-645.31653', '-48.006099', '-1497.0077', '0']\n",
      "1 9823u  [50000.0]\n",
      "> col  1 ['51000', '992.08435', '17503.376', '36278.734', '30.088145', '503768.51', '79.568958', '79.568958', '79.568958', '6481.8058', '10297.068', '2909.0041', '0', '-637.34134', '-47.240599', '-1499.9192', '0']\n",
      "2 9823u  [50000.0, 51000.0]\n",
      "> col  2 ['52000', '994.43199', '17417.471', '36237.258', '-65.660297', '505901.56', '79.681104', '79.681104', '79.681104', '6446.7916', '10269.244', '2947.0323', '0', '-676.83288', '-67.224211', '-1501.5403', '0']\n",
      "[50000.0, 51000.0]\n",
      "3 9823u  [50000.0, 51000.0, 52000.0]\n",
      "> col  3 ['53000', '983.13111', '17326.918', '35932.834', '-75.005362', '509362.04', '79.86237', '79.86237', '79.86237', '6282.5509', '10362.133', '2893.5816', '0', '-650.5496', '-60.33748', '-1500.4612', '0']\n",
      "4 9823u  [50000.0, 51000.0, 52000.0, 53000.0]\n",
      "> col  4 ['54000', '976.23676', '17109.268', '35584.708', '-191.45544', '515485.45', '80.181123', '80.181123', '80.181123', '6214.6133', '10205.959', '2903.5968', '0', '-655.42676', '-62.750927', '-1496.7227', '0']\n",
      "5 9823u  [50000.0, 51000.0, 52000.0, 53000.0, 54000.0]\n",
      "> col  5 ['55000', '959.54702', '17161.579', '35321.162', '-243.09383', '524396.91', '80.64053', '80.64053', '80.64053', '6390.4788', '10072.92', '2883.0386', '0', '-608.54147', '-75.354329', '-1500.9632', '0']\n",
      "6 9823u  [50000.0, 51000.0, 52000.0, 53000.0, 54000.0, 55000.0]\n",
      "> col  6 ['56000', '941.45675', '17129.267', '34946.49', '-61.627855', '532668.03', '81.062292', '81.062292', '81.062292', '6437.4101', '9972.8597', '2894.9667', '0', '-607.97244', '-67.867483', '-1500.1293', '0']\n",
      "7 9823u  [50000.0, 51000.0, 52000.0, 53000.0, 54000.0, 55000.0, 56000.0]\n",
      "> col  7 ['57000', '936.99313', '16802.5', '34535.248', '-200.78476', '540979.91', '81.481756', '81.481756', '81.481756', '6089.2956', '10106.376', '2852.2526', '0', '-697.32586', '-51.866686', '-1496.2314', '0']\n",
      "8 9823u  [50000.0, 51000.0, 52000.0, 53000.0, 54000.0, 55000.0, 56000.0, 57000.0]\n",
      "> col  8 ['58000', '929.27803', '16517.829', '34104.567', '57.299999', '544273.62', '81.646786', '81.646786', '81.646786', '5980.716', '9841.7557', '2935.498', '0', '-679.58965', '-61.791583', '-1498.7598', '0']\n",
      "9 9823u  [50000.0, 51000.0, 52000.0, 53000.0, 54000.0, 55000.0, 56000.0, 57000.0, 58000.0]\n",
      "> col  9 ['59000', '913.48252', '16363.059', '33650.865', '-219.91154', '542711.75', '81.568613', '81.568613', '81.568613', '6042.3199', '9681.8884', '2910.2635', '0', '-724.20304', '-47.184034', '-1500.0258', '0']\n",
      "10 9823u  [50000.0, 51000.0, 52000.0, 53000.0, 54000.0, 55000.0, 56000.0, 57000.0, 58000.0, 59000.0]\n",
      "> col  10 ['60000', '902.33382', '16093.257', '33170.072', '46.560323', '539078.65', '81.386189', '81.386189', '81.386189', '5915.1416', '9634.615', '2810.0994', '0', '-708.57064', '-59.01816', '-1499.0102', '0']\n",
      "11 9823u  [50000.0, 51000.0, 52000.0, 53000.0, 54000.0, 55000.0, 56000.0, 57000.0, 58000.0, 59000.0, 60000.0]\n",
      "> col  11 ['61000', '883.18242', '15964.148', '32678.52', '246.27406', '531516.73', '81.003848', '81.003848', '81.003848', '5874.0522', '9489.3988', '2870.9721', '0', '-703.60344', '-67.996516', '-1498.6747', '0']\n",
      "12 9823u  [50000.0, 51000.0, 52000.0, 53000.0, 54000.0, 55000.0, 56000.0, 57000.0, 58000.0, 59000.0, 60000.0, 61000.0]\n",
      "> col  12 ['62000', '880.54679', '15509.767', '32174.259', '-74.681138', '523391.5', '80.588961', '80.588961', '80.588961', '5825.2165', '9078.5946', '2856.4714', '0', '-680.90784', '-70.392473', '-1499.2152', '0']\n",
      "13 9823u  [50000.0, 51000.0, 52000.0, 53000.0, 54000.0, 55000.0, 56000.0, 57000.0, 58000.0, 59000.0, 60000.0, 61000.0, 62000.0]\n",
      "> col  13 ['63000', '863.04593', '15315.637', '31648.922', '4.7804533', '515786.72', '80.196741', '80.196741', '80.196741', '5531.1654', '9260.2206', '2826.2878', '0', '-736.96797', '-65.781389', '-1499.2878', '0']\n",
      "14 9823u  [50000.0, 51000.0, 52000.0, 53000.0, 54000.0, 55000.0, 56000.0, 57000.0, 58000.0, 59000.0, 60000.0, 61000.0, 62000.0, 63000.0]\n",
      "> col  14 ['64000', '838.72128', '15252.774', '31125.711', '-12.811812', '510409.58', '79.91708', '79.91708', '79.91708', '5612.9132', '9066.7636', '2841.9236', '0', '-693.12199', '-77.838405', '-1497.8659', '0']\n",
      "15 9823u  [50000.0, 51000.0, 52000.0, 53000.0, 54000.0, 55000.0, 56000.0, 57000.0, 58000.0, 59000.0, 60000.0, 61000.0, 62000.0, 63000.0, 64000.0]\n",
      "> col  15 ['65000', '827.97891', '14924.22', '30593.856', '100.79423', '505981.77', '79.685314', '79.685314', '79.685314', '5510.6843', '8926.1794', '2838.7111', '0', '-777.19366', '-74.581455', '-1499.5797', '0']\n",
      "16 9823u  [50000.0, 51000.0, 52000.0, 53000.0, 54000.0, 55000.0, 56000.0, 57000.0, 58000.0, 59000.0, 60000.0, 61000.0, 62000.0, 63000.0, 64000.0, 65000.0]\n",
      "> col  16 ['66000', '815.9115', '14607.571', '30048.829', '-25.88681', '498843.58', '79.308815', '79.308815', '79.308815', '5409.7917', '8820.9509', '2773.16', '0', '-827.50106', '-70.098144', '-1498.7325', '0']\n",
      "17 9823u  [50000.0, 51000.0, 52000.0, 53000.0, 54000.0, 55000.0, 56000.0, 57000.0, 58000.0, 59000.0, 60000.0, 61000.0, 62000.0, 63000.0, 64000.0, 65000.0, 66000.0]\n",
      "> col  17 ['67000', '803.86592', '14283.77', '29497.063', '135.14778', '490656.19', '78.872528', '78.872528', '78.872528', '5199.1592', '8723.8363', '2761.0874', '0', '-821.47706', '-79.211598', '-1499.6243', '0']\n",
      "18 9823u  [50000.0, 51000.0, 52000.0, 53000.0, 54000.0, 55000.0, 56000.0, 57000.0, 58000.0, 59000.0, 60000.0, 61000.0, 62000.0, 63000.0, 64000.0, 65000.0, 66000.0, 67000.0]\n",
      "> col  18 ['68000', '795.65961', '13888.406', '28946.394', '231.00354', '485519.55', '78.596325', '78.596325', '78.596325', '5079.8194', '8467.5708', '2754.383', '0', '-845.50813', '-68.914618', '-1498.9443', '0']\n",
      "19 9823u  [50000.0, 51000.0, 52000.0, 53000.0, 54000.0, 55000.0, 56000.0, 57000.0, 58000.0, 59000.0, 60000.0, 61000.0, 62000.0, 63000.0, 64000.0, 65000.0, 66000.0, 67000.0, 68000.0]\n",
      "> col  19 ['69000', '778.35483', '13673.762', '28404.254', '54.733441', '481487.91', '78.378172', '78.378172', '78.378172', '4986.7696', '8417.5655', '2759.0346', '0', '-900.24957', '-87.589157', '-1501.769', '0']\n",
      "20 9823u  [50000.0, 51000.0, 52000.0, 53000.0, 54000.0, 55000.0, 56000.0, 57000.0, 58000.0, 59000.0, 60000.0, 61000.0, 62000.0, 63000.0, 64000.0, 65000.0, 66000.0, 67000.0, 68000.0, 69000.0]\n",
      "> col  20 ['70000', '760.02675', '13474.413', '27858.043', '-175.69315', '478066.88', '78.192102', '78.192102', '78.192102', '4985.8806', '8173.7874', '2784.8942', '0', '-889.08717', '-80.717306', '-1500.3443', '0']\n",
      "21 9823u  [50000.0, 51000.0, 52000.0, 53000.0, 54000.0, 55000.0, 56000.0, 57000.0, 58000.0, 59000.0, 60000.0, 61000.0, 62000.0, 63000.0, 64000.0, 65000.0, 66000.0, 67000.0, 68000.0, 69000.0, 70000.0]\n",
      "> col  21 ['71000', '742.77344', '13262.535', '27319.644', '73.872995', '473499.79', '77.942308', '77.942308', '77.942308', '4919.1617', '8039.6237', '2805.2143', '0', '-914.5043', '-84.489027', '-1502.4708', '0']\n",
      "22 9823u  [50000.0, 51000.0, 52000.0, 53000.0, 54000.0, 55000.0, 56000.0, 57000.0, 58000.0, 59000.0, 60000.0, 61000.0, 62000.0, 63000.0, 64000.0, 65000.0, 66000.0, 67000.0, 68000.0, 69000.0, 70000.0, 71000.0]\n",
      "> col  22 ['72000', '734.52093', '12889.992', '26790.92', '-43.633623', '470182.3', '77.759852', '77.759852', '77.759852', '4736.1567', '7821.4459', '2811.573', '0', '-887.86388', '-90.533382', '-1500.7863', '0']\n",
      "23 9823u  [50000.0, 51000.0, 52000.0, 53000.0, 54000.0, 55000.0, 56000.0, 57000.0, 58000.0, 59000.0, 60000.0, 61000.0, 62000.0, 63000.0, 64000.0, 65000.0, 66000.0, 67000.0, 68000.0, 69000.0, 70000.0, 71000.0, 72000.0]\n",
      "> col  23 ['73000', '711.90192', '12787.082', '26259.942', '-141.66952', '462529.29', '77.335651', '77.335651', '77.335651', '4750.5013', '7729.6313', '2745.3857', '0', '-869.77161', '-70.407055', '-1498.2577', '0']\n",
      "24 9823u  [50000.0, 51000.0, 52000.0, 53000.0, 54000.0, 55000.0, 56000.0, 57000.0, 58000.0, 59000.0, 60000.0, 61000.0, 62000.0, 63000.0, 64000.0, 65000.0, 66000.0, 67000.0, 68000.0, 69000.0, 70000.0, 71000.0, 72000.0, 73000.0]\n",
      "> col  24 ['74000', '703.23683', '12425.431', '25734.302', '126.67274', '455918.29', '76.965425', '76.965425', '76.965425', '4673.1239', '7603.3602', '2666.9913', '0', '-943.10664', '-75.481831', '-1499.4564', '0']\n",
      "25 9823u  [50000.0, 51000.0, 52000.0, 53000.0, 54000.0, 55000.0, 56000.0, 57000.0, 58000.0, 59000.0, 60000.0, 61000.0, 62000.0, 63000.0, 64000.0, 65000.0, 66000.0, 67000.0, 68000.0, 69000.0, 70000.0, 71000.0, 72000.0, 73000.0, 74000.0]\n",
      "> col  25 ['75000', '693.20467', '12085.778', '25204.789', '115.58266', '449903.77', '76.625481', '76.625481', '76.625481', '4536.1454', '7461.7922', '2601.6816', '0', '-934.46787', '-78.435379', '-1500.9384', '0']\n",
      "26 9823u  [50000.0, 51000.0, 52000.0, 53000.0, 54000.0, 55000.0, 56000.0, 57000.0, 58000.0, 59000.0, 60000.0, 61000.0, 62000.0, 63000.0, 64000.0, 65000.0, 66000.0, 67000.0, 68000.0, 69000.0, 70000.0, 71000.0, 72000.0, 73000.0, 74000.0, 75000.0]\n",
      "> col  26 ['76000', '669.31832', '12007.318', '24674.277', '22.14486', '442006.36', '76.174481', '76.174481', '76.174481', '4354.7834', '7506.1401', '2681.7492', '0', '-933.53966', '-99.399018', '-1502.4158', '0']\n",
      "27 9823u  [50000.0, 51000.0, 52000.0, 53000.0, 54000.0, 55000.0, 56000.0, 57000.0, 58000.0, 59000.0, 60000.0, 61000.0, 62000.0, 63000.0, 64000.0, 65000.0, 66000.0, 67000.0, 68000.0, 69000.0, 70000.0, 71000.0, 72000.0, 73000.0, 74000.0, 75000.0, 76000.0]\n",
      "> col  27 ['77000', '667.34261', '11510.585', '24140.153', '298.29878', '433593.47', '75.688095', '75.688095', '75.688095', '4205.9941', '7258.2695', '2662.7553', '0', '-1019.6475', '-95.460005', '-1501.3262', '0']\n",
      "28 9823u  [50000.0, 51000.0, 52000.0, 53000.0, 54000.0, 55000.0, 56000.0, 57000.0, 58000.0, 59000.0, 60000.0, 61000.0, 62000.0, 63000.0, 64000.0, 65000.0, 66000.0, 67000.0, 68000.0, 69000.0, 70000.0, 71000.0, 72000.0, 73000.0, 74000.0, 75000.0, 76000.0, 77000.0]\n",
      "> col  28 ['78000', '652.49264', '11257.782', '23606.312', '88.767469', '428736.11', '75.4044', '75.4044', '75.4044', '4212.0659', '7125.1775', '2633.9175', '0', '-1121.5656', '-88.783057', '-1503.0302', '0']\n",
      "29 9823u  [50000.0, 51000.0, 52000.0, 53000.0, 54000.0, 55000.0, 56000.0, 57000.0, 58000.0, 59000.0, 60000.0, 61000.0, 62000.0, 63000.0, 64000.0, 65000.0, 66000.0, 67000.0, 68000.0, 69000.0, 70000.0, 71000.0, 72000.0, 73000.0, 74000.0, 75000.0, 76000.0, 77000.0, 78000.0]\n",
      "> col  29 ['79000', '640.83526', '10947.014', '23074.926', '-66.643156', '425856.59', '75.235208', '75.235208', '75.235208', '4105.3902', '6951.6247', '2609.4443', '0', '-1155.5864', '-62.267009', '-1501.592', '0']\n",
      "30 9823u  [50000.0, 51000.0, 52000.0, 53000.0, 54000.0, 55000.0, 56000.0, 57000.0, 58000.0, 59000.0, 60000.0, 61000.0, 62000.0, 63000.0, 64000.0, 65000.0, 66000.0, 67000.0, 68000.0, 69000.0, 70000.0, 71000.0, 72000.0, 73000.0, 74000.0, 75000.0, 76000.0, 77000.0, 78000.0, 79000.0]\n",
      "> col  30 ['80000', '628.42151', '10652.833', '22545.812', '-147.17378', '421012.41', '74.948848', '74.948848', '74.948848', '4148.1359', '6683.5178', '2549.2786', '0', '-1118.0712', '-108.76188', '-1501.2662', '0']\n",
      "31 9823u  [50000.0, 51000.0, 52000.0, 53000.0, 54000.0, 55000.0, 56000.0, 57000.0, 58000.0, 59000.0, 60000.0, 61000.0, 62000.0, 63000.0, 64000.0, 65000.0, 66000.0, 67000.0, 68000.0, 69000.0, 70000.0, 71000.0, 72000.0, 73000.0, 74000.0, 75000.0, 76000.0, 77000.0, 78000.0, 79000.0, 80000.0]\n",
      "> col  31 ['81000', '605.09663', '10562.318', '22013.87', '87.500903', '415136.33', '74.598526', '74.598526', '74.598526', '4013.334', '6746.5414', '2547.5267', '0', '-1135.6217', '-107.11983', '-1502.3426', '0']\n",
      "32 9823u  [50000.0, 51000.0, 52000.0, 53000.0, 54000.0, 55000.0, 56000.0, 57000.0, 58000.0, 59000.0, 60000.0, 61000.0, 62000.0, 63000.0, 64000.0, 65000.0, 66000.0, 67000.0, 68000.0, 69000.0, 70000.0, 71000.0, 72000.0, 73000.0, 74000.0, 75000.0, 76000.0, 77000.0, 78000.0, 79000.0, 80000.0, 81000.0]\n",
      "> col  32 ['82000', '598.84212', '10153.225', '21486.41', '-67.212513', '409195.28', '74.240953', '74.240953', '74.240953', '3827.0801', '6608.0264', '2516.5195', '0', '-1204.1124', '-97.056088', '-1497.2325', '0']\n",
      "33 9823u  [50000.0, 51000.0, 52000.0, 53000.0, 54000.0, 55000.0, 56000.0, 57000.0, 58000.0, 59000.0, 60000.0, 61000.0, 62000.0, 63000.0, 64000.0, 65000.0, 66000.0, 67000.0, 68000.0, 69000.0, 70000.0, 71000.0, 72000.0, 73000.0, 74000.0, 75000.0, 76000.0, 77000.0, 78000.0, 79000.0, 80000.0, 81000.0, 82000.0]\n",
      "> col  33 ['83000', '587.59896', '9833.5775', '20953.984', '-61.360984', '404075.45', '73.93002', '73.93002', '73.93002', '3785.4397', '6417.8823', '2502.4645', '0', '-1257.7033', '-112.3663', '-1502.1394', '0']\n",
      "34 9823u  [50000.0, 51000.0, 52000.0, 53000.0, 54000.0, 55000.0, 56000.0, 57000.0, 58000.0, 59000.0, 60000.0, 61000.0, 62000.0, 63000.0, 64000.0, 65000.0, 66000.0, 67000.0, 68000.0, 69000.0, 70000.0, 71000.0, 72000.0, 73000.0, 74000.0, 75000.0, 76000.0, 77000.0, 78000.0, 79000.0, 80000.0, 81000.0, 82000.0, 83000.0]\n",
      "> col  34 ['84000', '568.08716', '9673.8358', '20424.978', '-32.055142', '398140.73', '73.566293', '73.566293', '73.566293', '3697.2806', '6320.0057', '2542.7659', '0', '-1284.7319', '-98.284902', '-1503.1996', '0']\n",
      "35 9823u  [50000.0, 51000.0, 52000.0, 53000.0, 54000.0, 55000.0, 56000.0, 57000.0, 58000.0, 59000.0, 60000.0, 61000.0, 62000.0, 63000.0, 64000.0, 65000.0, 66000.0, 67000.0, 68000.0, 69000.0, 70000.0, 71000.0, 72000.0, 73000.0, 74000.0, 75000.0, 76000.0, 77000.0, 78000.0, 79000.0, 80000.0, 81000.0, 82000.0, 83000.0, 84000.0]\n",
      "> col  35 ['85000', '557.56738', '9345.3621', '19897.416', '37.29105', '392235.95', '73.200795', '73.200795', '73.200795', '3657.8823', '6176.1481', '2473.8923', '0', '-1343.6085', '-115.99253', '-1502.9596', '0']\n",
      "36 9823u  [50000.0, 51000.0, 52000.0, 53000.0, 54000.0, 55000.0, 56000.0, 57000.0, 58000.0, 59000.0, 60000.0, 61000.0, 62000.0, 63000.0, 64000.0, 65000.0, 66000.0, 67000.0, 68000.0, 69000.0, 70000.0, 71000.0, 72000.0, 73000.0, 74000.0, 75000.0, 76000.0, 77000.0, 78000.0, 79000.0, 80000.0, 81000.0, 82000.0, 83000.0, 84000.0, 85000.0]\n",
      "> col  36 ['86000', '543.40018', '9085.8429', '19369.78', '265.75559', '387766.2', '72.921678', '72.921678', '72.921678', '3539.2024', '6051.279', '2512.5921', '0', '-1384.9858', '-129.07919', '-1503.1656', '0']\n",
      "37 9823u  [50000.0, 51000.0, 52000.0, 53000.0, 54000.0, 55000.0, 56000.0, 57000.0, 58000.0, 59000.0, 60000.0, 61000.0, 62000.0, 63000.0, 64000.0, 65000.0, 66000.0, 67000.0, 68000.0, 69000.0, 70000.0, 71000.0, 72000.0, 73000.0, 74000.0, 75000.0, 76000.0, 77000.0, 78000.0, 79000.0, 80000.0, 81000.0, 82000.0, 83000.0, 84000.0, 85000.0, 86000.0]\n",
      "> col  37 ['87000', '531.75832', '8775.3077', '18838.921', '276.47346', '383992.41', '72.684345', '72.684345', '72.684345', '3484.0965', '5880.1684', '2420.3798', '0', '-1386.642', '-116.94272', '-1505.7523', '0']\n",
      "38 9823u  [50000.0, 51000.0, 52000.0, 53000.0, 54000.0, 55000.0, 56000.0, 57000.0, 58000.0, 59000.0, 60000.0, 61000.0, 62000.0, 63000.0, 64000.0, 65000.0, 66000.0, 67000.0, 68000.0, 69000.0, 70000.0, 71000.0, 72000.0, 73000.0, 74000.0, 75000.0, 76000.0, 77000.0, 78000.0, 79000.0, 80000.0, 81000.0, 82000.0, 83000.0, 84000.0, 85000.0, 86000.0, 87000.0]\n",
      "> col  38 ['88000', '514.51454', '8575.7961', '18313.068', '-275.3984', '379675.47', '72.410939', '72.410939', '72.410939', '3427.1596', '5813.5146', '2398.9352', '0', '-1440.0377', '-121.72902', '-1502.0467', '0']\n",
      "39 9823u  [50000.0, 51000.0, 52000.0, 53000.0, 54000.0, 55000.0, 56000.0, 57000.0, 58000.0, 59000.0, 60000.0, 61000.0, 62000.0, 63000.0, 64000.0, 65000.0, 66000.0, 67000.0, 68000.0, 69000.0, 70000.0, 71000.0, 72000.0, 73000.0, 74000.0, 75000.0, 76000.0, 77000.0, 78000.0, 79000.0, 80000.0, 81000.0, 82000.0, 83000.0, 84000.0, 85000.0, 86000.0, 87000.0, 88000.0]\n",
      "> col  39 ['89000', '497.78509', '8365.19', '17785.854', '-27.599373', '375060.93', '72.116384', '72.116384', '72.116384', '3285.6772', '5812.305', '2424.8188', '0', '-1518.9869', '-132.37127', '-1506.2528', '0']\n",
      "40 9823u  [50000.0, 51000.0, 52000.0, 53000.0, 54000.0, 55000.0, 56000.0, 57000.0, 58000.0, 59000.0, 60000.0, 61000.0, 62000.0, 63000.0, 64000.0, 65000.0, 66000.0, 67000.0, 68000.0, 69000.0, 70000.0, 71000.0, 72000.0, 73000.0, 74000.0, 75000.0, 76000.0, 77000.0, 78000.0, 79000.0, 80000.0, 81000.0, 82000.0, 83000.0, 84000.0, 85000.0, 86000.0, 87000.0, 88000.0, 89000.0]\n",
      "> col  40 ['90000', '488.62901', '8002.1427', '17249.526', '-40.039613', '370654.64', '71.832858', '71.832858', '71.832858', '3228.2267', '5587.225', '2390.978', '0', '-1566.2722', '-135.3208', '-1502.694', '0']\n",
      "41 9823u  [50000.0, 51000.0, 52000.0, 53000.0, 54000.0, 55000.0, 56000.0, 57000.0, 58000.0, 59000.0, 60000.0, 61000.0, 62000.0, 63000.0, 64000.0, 65000.0, 66000.0, 67000.0, 68000.0, 69000.0, 70000.0, 71000.0, 72000.0, 73000.0, 74000.0, 75000.0, 76000.0, 77000.0, 78000.0, 79000.0, 80000.0, 81000.0, 82000.0, 83000.0, 84000.0, 85000.0, 86000.0, 87000.0, 88000.0, 89000.0, 90000.0]\n",
      "> col  41 ['91000', '472.51871', '7771.1565', '16713.65', '0.16461128', '366982.62', '71.594858', '71.594858', '71.594858', '3122.1568', '5427.6742', '2427.0858', '0', '-1573.9963', '-128.2067', '-1503.5573', '0']\n",
      "42 9823u  [50000.0, 51000.0, 52000.0, 53000.0, 54000.0, 55000.0, 56000.0, 57000.0, 58000.0, 59000.0, 60000.0, 61000.0, 62000.0, 63000.0, 64000.0, 65000.0, 66000.0, 67000.0, 68000.0, 69000.0, 70000.0, 71000.0, 72000.0, 73000.0, 74000.0, 75000.0, 76000.0, 77000.0, 78000.0, 79000.0, 80000.0, 81000.0, 82000.0, 83000.0, 84000.0, 85000.0, 86000.0, 87000.0, 88000.0, 89000.0, 90000.0, 91000.0]\n",
      "> col  42 ['92000', '458.38631', '7509.9975', '16185.033', '-253.19858', '361717.79', '71.250835', '71.250835', '71.250835', '3005.5878', '5378.4313', '2361.7592', '0', '-1591.456', '-139.32562', '-1504.9992', '0']\n",
      "43 9823u  [50000.0, 51000.0, 52000.0, 53000.0, 54000.0, 55000.0, 56000.0, 57000.0, 58000.0, 59000.0, 60000.0, 61000.0, 62000.0, 63000.0, 64000.0, 65000.0, 66000.0, 67000.0, 68000.0, 69000.0, 70000.0, 71000.0, 72000.0, 73000.0, 74000.0, 75000.0, 76000.0, 77000.0, 78000.0, 79000.0, 80000.0, 81000.0, 82000.0, 83000.0, 84000.0, 85000.0, 86000.0, 87000.0, 88000.0, 89000.0, 90000.0, 91000.0, 92000.0]\n",
      "> col  43 ['93000', '447.57594', '7185.9789', '15656.426', '70.645699', '355511.06', '70.840949', '70.840949', '70.840949', '3028.7791', '5119.629', '2365.4344', '0', '-1664.2488', '-159.84479', '-1503.7701', '0']\n",
      "44 9823u  [50000.0, 51000.0, 52000.0, 53000.0, 54000.0, 55000.0, 56000.0, 57000.0, 58000.0, 59000.0, 60000.0, 61000.0, 62000.0, 63000.0, 64000.0, 65000.0, 66000.0, 67000.0, 68000.0, 69000.0, 70000.0, 71000.0, 72000.0, 73000.0, 74000.0, 75000.0, 76000.0, 77000.0, 78000.0, 79000.0, 80000.0, 81000.0, 82000.0, 83000.0, 84000.0, 85000.0, 86000.0, 87000.0, 88000.0, 89000.0, 90000.0, 91000.0, 92000.0, 93000.0]\n",
      "> col  44 ['94000', '437.50527', '6843.4687', '15123.327', '84.659932', '351302.65', '70.56031', '70.56031', '70.56031', '2799.5025', '5097.447', '2331.6998', '0', '-1731.3609', '-148.98888', '-1504.8309', '0']\n",
      "45 9823u  [50000.0, 51000.0, 52000.0, 53000.0, 54000.0, 55000.0, 56000.0, 57000.0, 58000.0, 59000.0, 60000.0, 61000.0, 62000.0, 63000.0, 64000.0, 65000.0, 66000.0, 67000.0, 68000.0, 69000.0, 70000.0, 71000.0, 72000.0, 73000.0, 74000.0, 75000.0, 76000.0, 77000.0, 78000.0, 79000.0, 80000.0, 81000.0, 82000.0, 83000.0, 84000.0, 85000.0, 86000.0, 87000.0, 88000.0, 89000.0, 90000.0, 91000.0, 92000.0, 93000.0, 94000.0]\n",
      "> col  45 ['95000', '422.96098', '6588.5394', '14593.145', '55.863616', '345601.16', '70.176504', '70.176504', '70.176504', '2689.8284', '5021.6712', '2313.3905', '0', '-1769.7495', '-159.67372', '-1506.9274', '0']\n",
      "46 9823u  [50000.0, 51000.0, 52000.0, 53000.0, 54000.0, 55000.0, 56000.0, 57000.0, 58000.0, 59000.0, 60000.0, 61000.0, 62000.0, 63000.0, 64000.0, 65000.0, 66000.0, 67000.0, 68000.0, 69000.0, 70000.0, 71000.0, 72000.0, 73000.0, 74000.0, 75000.0, 76000.0, 77000.0, 78000.0, 79000.0, 80000.0, 81000.0, 82000.0, 83000.0, 84000.0, 85000.0, 86000.0, 87000.0, 88000.0, 89000.0, 90000.0, 91000.0, 92000.0, 93000.0, 94000.0, 95000.0]\n",
      "> col  46 ['96000', '408.37501', '6332.0882', '14060.652', '411.11975', '340324.73', '69.817533', '69.817533', '69.817533', '2624.3449', '4871.8315', '2348.892', '0', '-1838.8188', '-167.77422', '-1506.3872', '0']\n",
      "47 9823u  [50000.0, 51000.0, 52000.0, 53000.0, 54000.0, 55000.0, 56000.0, 57000.0, 58000.0, 59000.0, 60000.0, 61000.0, 62000.0, 63000.0, 64000.0, 65000.0, 66000.0, 67000.0, 68000.0, 69000.0, 70000.0, 71000.0, 72000.0, 73000.0, 74000.0, 75000.0, 76000.0, 77000.0, 78000.0, 79000.0, 80000.0, 81000.0, 82000.0, 83000.0, 84000.0, 85000.0, 86000.0, 87000.0, 88000.0, 89000.0, 90000.0, 91000.0, 92000.0, 93000.0, 94000.0, 95000.0, 96000.0]\n",
      "> col  47 ['97000', '389.72343', '6155.2586', '13530.838', '-366.50226', '336832.03', '69.57787', '69.57787', '69.57787', '2636.3985', '4825.8249', '2268.8726', '0', '-1896.4209', '-172.55949', '-1506.857', '0']\n",
      "48 9823u  [50000.0, 51000.0, 52000.0, 53000.0, 54000.0, 55000.0, 56000.0, 57000.0, 58000.0, 59000.0, 60000.0, 61000.0, 62000.0, 63000.0, 64000.0, 65000.0, 66000.0, 67000.0, 68000.0, 69000.0, 70000.0, 71000.0, 72000.0, 73000.0, 74000.0, 75000.0, 76000.0, 77000.0, 78000.0, 79000.0, 80000.0, 81000.0, 82000.0, 83000.0, 84000.0, 85000.0, 86000.0, 87000.0, 88000.0, 89000.0, 90000.0, 91000.0, 92000.0, 93000.0, 94000.0, 95000.0, 96000.0, 97000.0]\n",
      "> col  48 ['98000', '381.25718', '5780.7018', '12996.056', '101.03698', '332800.69', '69.299176', '69.299176', '69.299176', '2524.8797', '4598.9667', '2303.3385', '0', '-1966.5558', '-172.89807', '-1507.0292', '0']\n",
      "49 9823u  [50000.0, 51000.0, 52000.0, 53000.0, 54000.0, 55000.0, 56000.0, 57000.0, 58000.0, 59000.0, 60000.0, 61000.0, 62000.0, 63000.0, 64000.0, 65000.0, 66000.0, 67000.0, 68000.0, 69000.0, 70000.0, 71000.0, 72000.0, 73000.0, 74000.0, 75000.0, 76000.0, 77000.0, 78000.0, 79000.0, 80000.0, 81000.0, 82000.0, 83000.0, 84000.0, 85000.0, 86000.0, 87000.0, 88000.0, 89000.0, 90000.0, 91000.0, 92000.0, 93000.0, 94000.0, 95000.0, 96000.0, 97000.0, 98000.0]\n",
      "> col  49 ['99000', '374.79267', '5371.7836', '12464.796', '-26.759834', '328254.7', '68.982191', '68.982191', '68.982191', '2341.8985', '4460.4399', '2263.492', '0', '-2026.9905', '-161.53212', '-1505.5242', '0']\n",
      "50 9823u  [50000.0, 51000.0, 52000.0, 53000.0, 54000.0, 55000.0, 56000.0, 57000.0, 58000.0, 59000.0, 60000.0, 61000.0, 62000.0, 63000.0, 64000.0, 65000.0, 66000.0, 67000.0, 68000.0, 69000.0, 70000.0, 71000.0, 72000.0, 73000.0, 74000.0, 75000.0, 76000.0, 77000.0, 78000.0, 79000.0, 80000.0, 81000.0, 82000.0, 83000.0, 84000.0, 85000.0, 86000.0, 87000.0, 88000.0, 89000.0, 90000.0, 91000.0, 92000.0, 93000.0, 94000.0, 95000.0, 96000.0, 97000.0, 98000.0, 99000.0]\n",
      "> col  50 ['100000', '355.04844', '5211.5685', '11930.918', '-190.80422', '323271.27', '68.631323', '68.631323', '68.631323', '2374.148', '4329.3291', '2280.2399', '0', '-2083.6929', '-182.14739', '-1506.3082', '0']\n",
      "51 9823u  [50000.0, 51000.0, 52000.0, 53000.0, 54000.0, 55000.0, 56000.0, 57000.0, 58000.0, 59000.0, 60000.0, 61000.0, 62000.0, 63000.0, 64000.0, 65000.0, 66000.0, 67000.0, 68000.0, 69000.0, 70000.0, 71000.0, 72000.0, 73000.0, 74000.0, 75000.0, 76000.0, 77000.0, 78000.0, 79000.0, 80000.0, 81000.0, 82000.0, 83000.0, 84000.0, 85000.0, 86000.0, 87000.0, 88000.0, 89000.0, 90000.0, 91000.0, 92000.0, 93000.0, 94000.0, 95000.0, 96000.0, 97000.0, 98000.0, 99000.0, 100000.0]\n",
      " Calc 1 finished \n",
      " Adding thermo keys from line: Step Temp PotEng TotEng Press Volume Lx Ly Lz E_bond E_angle E_dihed E_impro E_vdwl E_coul E_long E_tail \n",
      " \n",
      "> col  0 ['100000', '355.04844', '5211.3634', '11930.713', '-190.79947', '323271.27', '68.631323', '68.631323', '68.631323', '2374.148', '4329.3291', '2280.2399', '0', '-2083.6929', '-85.452708', '-1603.208', '0']\n",
      "1 9823u  [100000.0]\n",
      "> col  1 ['100070', '355.04844', '-1002.1658', '5717.1837', '650.4004', '323271.27', '68.631323', '68.631323', '68.631323', '31.64267', '1053.2893', '1971.2014', '0', '-2362.7786', '-91.711129', '-1603.8095', '0']\n",
      "2 9823u  [100000.0, 100070.0]\n",
      " Calc 2 finished \n"
     ]
    }
   ],
   "source": [
    "lmp_i.analysis()"
   ]
  },
  {
   "cell_type": "code",
   "execution_count": 347,
   "metadata": {},
   "outputs": [
    {
     "name": "stdout",
     "output_type": "stream",
     "text": [
      "6\n"
     ]
    }
   ],
   "source": [
    "print len(lmp_i.properties['run_list'])"
   ]
  },
  {
   "cell_type": "code",
   "execution_count": 345,
   "metadata": {
    "collapsed": true
   },
   "outputs": [],
   "source": [
    "lmp_i.store()"
   ]
  },
  {
   "cell_type": "code",
   "execution_count": 346,
   "metadata": {
    "collapsed": true
   },
   "outputs": [],
   "source": [
    "lmp_i.pull()"
   ]
  },
  {
   "cell_type": "markdown",
   "metadata": {},
   "source": [
    "Read in data file output and update positions"
   ]
  },
  {
   "cell_type": "code",
   "execution_count": 348,
   "metadata": {},
   "outputs": [
    {
     "name": "stdout",
     "output_type": "stream",
     "text": [
      "/Users/tkemper/Development/streamm-tools/examples/scratch/lmp_equ0_p3HTx50/\n"
     ]
    }
   ],
   "source": [
    "print lmp_i.dir['launch']\n",
    "os.chdir(lmp_i.dir['launch'])"
   ]
  },
  {
   "cell_type": "code",
   "execution_count": 349,
   "metadata": {},
   "outputs": [
    {
     "name": "stdout",
     "output_type": "stream",
     "text": [
      "equ0.data\n"
     ]
    }
   ],
   "source": [
    "datafn = lmp_i.files['output']['data_3']\n",
    "print datafn"
   ]
  },
  {
   "cell_type": "code",
   "execution_count": 350,
   "metadata": {
    "collapsed": true
   },
   "outputs": [],
   "source": [
    "lmp_i.read_data_pos(datafn)"
   ]
  },
  {
   "cell_type": "code",
   "execution_count": 351,
   "metadata": {
    "scrolled": true
   },
   "outputs": [
    {
     "name": "stdout",
     "output_type": "stream",
     "text": [
      "[[ 68.63132313   0.           0.        ]\n",
      " [  0.          68.63132313   0.        ]\n",
      " [  0.           0.          68.63132313]]\n"
     ]
    }
   ],
   "source": [
    "print lmp_i.strucC.lat.matrix"
   ]
  },
  {
   "cell_type": "code",
   "execution_count": 352,
   "metadata": {
    "collapsed": true
   },
   "outputs": [],
   "source": [
    "lmp_i.strucC.write_xyz()"
   ]
  },
  {
   "cell_type": "code",
   "execution_count": 354,
   "metadata": {},
   "outputs": [],
   "source": [
    "lmp_i.strucC.tag += '_equ0'"
   ]
  },
  {
   "cell_type": "code",
   "execution_count": 355,
   "metadata": {
    "collapsed": true
   },
   "outputs": [],
   "source": [
    "os.chdir(res_local.dir['materials']) \n",
    "lmp_i.strucC.write_xyz()"
   ]
  },
  {
   "cell_type": "markdown",
   "metadata": {},
   "source": [
    "Cool looks like we got the box size down a bit, but we will need to run some more to get a solid system"
   ]
  },
  {
   "cell_type": "markdown",
   "metadata": {},
   "source": [
    "Let's change some of our run parameters for this longer run"
   ]
  },
  {
   "cell_type": "code",
   "execution_count": 364,
   "metadata": {},
   "outputs": [
    {
     "name": "stdout",
     "output_type": "stream",
     "text": [
      "[u'queue', 'scratch', u'ppn', u'feature', u'allocation', 'e-mail', u'exe_command', u'nproc', u'nodes', u'walltime', u'pmem']\n"
     ]
    }
   ],
   "source": [
    "print peregrine.properties.keys()"
   ]
  },
  {
   "cell_type": "code",
   "execution_count": 370,
   "metadata": {},
   "outputs": [],
   "source": [
    "peregrine.properties['queue'] = 'batch'\n",
    "peregrine.properties['nodes'] =  8\n",
    "peregrine.properties['ppn'] =  24\n",
    "peregrine.properties['nproc'] =  8*24\n",
    "peregrine.properties['walltime'] =  48"
   ]
  },
  {
   "cell_type": "code",
   "execution_count": 372,
   "metadata": {
    "collapsed": true
   },
   "outputs": [],
   "source": [
    "p3ht_et = lmp_run(p3ht_et,lmp_i.strucC,oplsaa,peregrine,md_type = 'equ1')"
   ]
  },
  {
   "cell_type": "code",
   "execution_count": 359,
   "metadata": {},
   "outputs": [
    {
     "name": "stdout",
     "output_type": "stream",
     "text": [
      "Calculation lmp_min_penta_3-hexyl-thiophene has status stored\n",
      "Calculation lmp_min_hexane_HFesp has status stored\n",
      "Calculation nw_esp_thiophene has status stored\n",
      "Calculation lmp_equ1_p3HTx50_equ0 has status written\n",
      "Calculation nw_opt_thiophene has status stored\n",
      "Calculation lmp_equ0_p3HTx50 has status stored\n",
      "Calculation lmp_min_3-hexyl-thiophene has status stored\n",
      "Calculation nw_opt_hexane has status stored\n",
      "Calculation lmp_equ1_p3HTx50 has status stored\n",
      "Calculation lmp_nvt_penta_3-hexyl-thiophene_oplsaa has status stored\n",
      "Calculation nw_esp_hexane has status stored\n",
      "Calculation lmp_min_thiophene_HFesp has status stored\n"
     ]
    }
   ],
   "source": [
    "p3ht_et.check()"
   ]
  },
  {
   "cell_type": "code",
   "execution_count": 358,
   "metadata": {
    "collapsed": true
   },
   "outputs": [],
   "source": [
    "lmp_i = p3ht_et.calculations['lmp_equ1_p3HTx50_equ0'] "
   ]
  },
  {
   "cell_type": "code",
   "execution_count": 340,
   "metadata": {},
   "outputs": [
    {
     "name": "stdout",
     "output_type": "stream",
     "text": [
      ">  using mdrun with len 3 \n",
      " Adding thermo keys from line: Step Temp PotEng TotEng Press Volume Lx Ly Lz E_bond E_angle E_dihed E_impro E_vdwl E_coul E_long E_tail \n",
      " \n",
      "> col  0 ['0', '0', '877.02859', '877.02859', '-2.6925996', '8000000', '200', '200', '200', '31.479356', '1242.1515', '1733.6988', '0', '-680.37254', '-265.07061', '-1184.858', '0']\n",
      "1 9823u  [0.0]\n",
      "> col  1 ['1000', '12.115252', '657.28449', '886.56761', '-3.0257293', '7188102.5', '192.99146', '192.99146', '192.99146', '34.064197', '1162.8705', '1706.4011', '0', '-732.05457', '-324.43684', '-1189.5599', '0']\n",
      "2 9823u  [0.0, 1000.0]\n",
      "> col  2 ['2000', '17.292782', '573.85713', '901.12585', '5.3028331', '6452781.5', '186.17255', '186.17255', '186.17255', '29.158838', '1140.9248', '1698.0417', '0', '-775.27359', '-329.84463', '-1189.15', '0']\n",
      "[0.0, 1000.0]\n",
      "3 9823u  [0.0, 1000.0, 2000.0]\n",
      "> col  3 ['3000', '18.259997', '567.66256', '913.23598', '1.3762115', '5705518.3', '178.68923', '178.68923', '178.68923', '32.250001', '995.66287', '1957.5426', '0', '-899.49485', '-330.02018', '-1188.2779', '0']\n",
      "4 9823u  [0.0, 1000.0, 2000.0, 3000.0]\n",
      "> col  4 ['4000', '26.79634', '449.78335', '956.90845', '6.0152756', '5649655.6', '178.10413', '178.10413', '178.10413', '48.320875', '1124.3793', '1998.4796', '0', '-1155.3549', '-376.30727', '-1189.7343', '0']\n",
      "5 9823u  [0.0, 1000.0, 2000.0, 3000.0, 4000.0]\n",
      "> col  5 ['5000', '28.565463', '440.04127', '980.64731', '-2.9208028', '6242457.8', '184.12745', '184.12745', '184.12745', '44.053276', '1275.2294', '1725.8192', '0', '-1098.1284', '-317.49671', '-1189.4355', '0']\n",
      "6 9823u  [0.0, 1000.0, 2000.0, 3000.0, 4000.0, 5000.0]\n",
      "> col  6 ['6000', '28.791726', '491.64803', '1036.5361', '2.1263671', '5804466.6', '179.71629', '179.71629', '179.71629', '48.262633', '1374.4701', '1701.332', '0', '-1111.6184', '-329.03974', '-1191.7585', '0']\n",
      "7 9823u  [0.0, 1000.0, 2000.0, 3000.0, 4000.0, 5000.0, 6000.0]\n",
      "> col  7 ['7000', '32.205713', '501.67638', '1111.1748', '-9.2139162', '5227290.4', '173.55037', '173.55037', '173.55037', '63.904411', '1345.9185', '1727.5334', '0', '-1083.5547', '-360.37193', '-1191.7534', '0']\n",
      "8 9823u  [0.0, 1000.0, 2000.0, 3000.0, 4000.0, 5000.0, 6000.0, 7000.0]\n",
      "> col  8 ['8000', '33.762857', '573.84144', '1212.809', '-1.5110194', '4890633.4', '169.74163', '169.74163', '169.74163', '64.485669', '1364.8259', '1830.2276', '0', '-1133.8855', '-359.88461', '-1191.9277', '0']\n",
      "9 9823u  [0.0, 1000.0, 2000.0, 3000.0, 4000.0, 5000.0, 6000.0, 7000.0, 8000.0]\n",
      "> col  9 ['9000', '39.873631', '571.00165', '1325.6166', '-3.892862', '4451837.5', '164.50525', '164.50525', '164.50525', '84.555561', '1397.1142', '1847.9878', '0', '-1195.0651', '-371.69196', '-1191.8988', '0']\n",
      "10 9823u  [0.0, 1000.0, 2000.0, 3000.0, 4000.0, 5000.0, 6000.0, 7000.0, 8000.0, 9000.0]\n",
      "> col  10 ['10000', '44.875991', '617.83589', '1467.1213', '-0.71519827', '4144536.9', '160.62951', '160.62951', '160.62951', '96.54301', '1445.4286', '1864.8587', '0', '-1217.859', '-378.77208', '-1192.3633', '0']\n",
      "11 9823u  [0.0, 1000.0, 2000.0, 3000.0, 4000.0, 5000.0, 6000.0, 7000.0, 8000.0, 9000.0, 10000.0]\n",
      "> col  11 ['11000', '50.220239', '676.0396', '1626.4658', '-0.58717304', '3834251.2', '156.51652', '156.51652', '156.51652', '105.39864', '1423.3661', '1931.4125', '0', '-1216.4979', '-375.95361', '-1191.6862', '0']\n",
      "12 9823u  [0.0, 1000.0, 2000.0, 3000.0, 4000.0, 5000.0, 6000.0, 7000.0, 8000.0, 9000.0, 10000.0, 11000.0]\n",
      "> col  12 ['12000', '53.332346', '793.33407', '1802.6574', '0.41008335', '3560859.6', '152.70442', '152.70442', '152.70442', '120.65829', '1538.787', '1896.6715', '0', '-1200.7605', '-370.79406', '-1191.2282', '0']\n",
      "13 9823u  [0.0, 1000.0, 2000.0, 3000.0, 4000.0, 5000.0, 6000.0, 7000.0, 8000.0, 9000.0, 10000.0, 11000.0, 12000.0]\n",
      "> col  13 ['13000', '60.337856', '857.04956', '1998.9533', '-1.930898', '3261300.1', '148.29628', '148.29628', '148.29628', '145.54223', '1517.7736', '1906.127', '0', '-1156.1868', '-364.91509', '-1191.2915', '0']\n",
      "14 9823u  [0.0, 1000.0, 2000.0, 3000.0, 4000.0, 5000.0, 6000.0, 7000.0, 8000.0, 9000.0, 10000.0, 11000.0, 12000.0, 13000.0]\n",
      "> col  14 ['14000', '64.59808', '991.31208', '2213.8413', '-5.3302686', '2959342.1', '143.57045', '143.57045', '143.57045', '169.26673', '1592.144', '1919.0764', '0', '-1137.7727', '-360.29928', '-1191.1031', '0']\n",
      "15 9823u  [0.0, 1000.0, 2000.0, 3000.0, 4000.0, 5000.0, 6000.0, 7000.0, 8000.0, 9000.0, 10000.0, 11000.0, 12000.0, 13000.0, 14000.0]\n",
      "> col  15 ['15000', '71.545591', '1101.5996', '2455.6116', '-6.6194254', '2700959.7', '139.26416', '139.26416', '139.26416', '182.30409', '1677.2292', '1933.187', '0', '-1134.6371', '-364.96426', '-1191.5193', '0']\n",
      "16 9823u  [0.0, 1000.0, 2000.0, 3000.0, 4000.0, 5000.0, 6000.0, 7000.0, 8000.0, 9000.0, 10000.0, 11000.0, 12000.0, 13000.0, 14000.0, 15000.0]\n",
      "> col  16 ['16000', '78.555799', '1240.4361', '2727.1173', '8.2075428', '2459021.4', '134.97524', '134.97524', '134.97524', '210.46072', '1764.7257', '1971.9326', '0', '-1141.1889', '-373.77872', '-1191.7154', '0']\n",
      "17 9823u  [0.0, 1000.0, 2000.0, 3000.0, 4000.0, 5000.0, 6000.0, 7000.0, 8000.0, 9000.0, 10000.0, 11000.0, 12000.0, 13000.0, 14000.0, 15000.0, 16000.0]\n",
      "> col  17 ['17000', '88.765441', '1347.4145', '3027.3149', '3.7270424', '2229030.2', '130.62871', '130.62871', '130.62871', '233.54092', '1741.8035', '2090.0901', '0', '-1140.9011', '-385.6332', '-1191.4857', '0']\n",
      "18 9823u  [0.0, 1000.0, 2000.0, 3000.0, 4000.0, 5000.0, 6000.0, 7000.0, 8000.0, 9000.0, 10000.0, 11000.0, 12000.0, 13000.0, 14000.0, 15000.0, 16000.0, 17000.0]\n",
      "> col  18 ['18000', '99.507608', '1490.8813', '3374.079', '10.20947', '2099770.4', '128.05325', '128.05325', '128.05325', '262.40672', '1868.1528', '2101.4909', '0', '-1150.7946', '-396.57158', '-1193.803', '0']\n",
      "19 9823u  [0.0, 1000.0, 2000.0, 3000.0, 4000.0, 5000.0, 6000.0, 7000.0, 8000.0, 9000.0, 10000.0, 11000.0, 12000.0, 13000.0, 14000.0, 15000.0, 16000.0, 17000.0, 18000.0]\n",
      "> col  19 ['19000', '110.30059', '1666.7955', '3754.252', '5.2345613', '1946691.2', '124.8626', '124.8626', '124.8626', '311.14012', '1954.3129', '2102.0292', '0', '-1125.2303', '-382.33744', '-1193.119', '0']\n",
      "20 9823u  [0.0, 1000.0, 2000.0, 3000.0, 4000.0, 5000.0, 6000.0, 7000.0, 8000.0, 9000.0, 10000.0, 11000.0, 12000.0, 13000.0, 14000.0, 15000.0, 16000.0, 17000.0, 18000.0, 19000.0]\n",
      "> col  20 ['20000', '122.74985', '1852.4943', '4175.5553', '-19.564571', '1747916', '120.45926', '120.45926', '120.45926', '349.14763', '2045.6997', '2178.3132', '0', '-1116.1019', '-410.09889', '-1194.4654', '0']\n",
      "21 9823u  [0.0, 1000.0, 2000.0, 3000.0, 4000.0, 5000.0, 6000.0, 7000.0, 8000.0, 9000.0, 10000.0, 11000.0, 12000.0, 13000.0, 14000.0, 15000.0, 16000.0, 17000.0, 18000.0, 19000.0, 20000.0]\n",
      "> col  21 ['21000', '133.26791', '2127.4917', '4649.6086', '-33.99322', '1589562.4', '116.70582', '116.70582', '116.70582', '424.33958', '2187.1109', '2192.8833', '0', '-1083.6378', '-398.81413', '-1194.3901', '0']\n",
      "22 9823u  [0.0, 1000.0, 2000.0, 3000.0, 4000.0, 5000.0, 6000.0, 7000.0, 8000.0, 9000.0, 10000.0, 11000.0, 12000.0, 13000.0, 14000.0, 15000.0, 16000.0, 17000.0, 18000.0, 19000.0, 20000.0, 21000.0]\n",
      "> col  22 ['22000', '147.69849', '2369.1452', '5164.3632', '-0.76504862', '1411917.4', '112.18542', '112.18542', '112.18542', '481.67701', '2288.2385', '2282.7842', '0', '-1088.132', '-400.04553', '-1195.377', '0']\n",
      "23 9823u  [0.0, 1000.0, 2000.0, 3000.0, 4000.0, 5000.0, 6000.0, 7000.0, 8000.0, 9000.0, 10000.0, 11000.0, 12000.0, 13000.0, 14000.0, 15000.0, 16000.0, 17000.0, 18000.0, 19000.0, 20000.0, 21000.0, 22000.0]\n",
      "> col  23 ['23000', '162.52873', '2663.7877', '5739.6705', '-11.164963', '1294097.3', '108.97385', '108.97385', '108.97385', '603.18875', '2465.9829', '2299.0717', '0', '-1106.7526', '-402.1133', '-1195.5897', '0']\n",
      "24 9823u  [0.0, 1000.0, 2000.0, 3000.0, 4000.0, 5000.0, 6000.0, 7000.0, 8000.0, 9000.0, 10000.0, 11000.0, 12000.0, 13000.0, 14000.0, 15000.0, 16000.0, 17000.0, 18000.0, 19000.0, 20000.0, 21000.0, 22000.0, 23000.0]\n",
      "> col  24 ['24000', '183.68232', '2904.1787', '6380.3965', '-23.255286', '1202709.9', '106.34579', '106.34579', '106.34579', '672.86953', '2579.6322', '2306.7098', '0', '-1061.6512', '-398.18293', '-1195.1987', '0']\n",
      "25 9823u  [0.0, 1000.0, 2000.0, 3000.0, 4000.0, 5000.0, 6000.0, 7000.0, 8000.0, 9000.0, 10000.0, 11000.0, 12000.0, 13000.0, 14000.0, 15000.0, 16000.0, 17000.0, 18000.0, 19000.0, 20000.0, 21000.0, 22000.0, 23000.0, 24000.0]\n",
      "> col  25 ['25000', '201.03944', '3280.2186', '7084.9228', '23.237664', '1092221', '102.9841', '102.9841', '102.9841', '773.60527', '2792.5465', '2388.961', '0', '-1096.4303', '-382.58243', '-1195.8815', '0']\n",
      "26 9823u  [0.0, 1000.0, 2000.0, 3000.0, 4000.0, 5000.0, 6000.0, 7000.0, 8000.0, 9000.0, 10000.0, 11000.0, 12000.0, 13000.0, 14000.0, 15000.0, 16000.0, 17000.0, 18000.0, 19000.0, 20000.0, 21000.0, 22000.0, 23000.0, 24000.0, 25000.0]\n",
      "> col  26 ['26000', '224.56308', '3611.4804', '7861.3733', '-59.10898', '1017518.1', '100.58056', '100.58056', '100.58056', '900.39219', '2943.1485', '2408.6904', '0', '-1046.1219', '-398.4877', '-1196.1411', '0']\n",
      "27 9823u  [0.0, 1000.0, 2000.0, 3000.0, 4000.0, 5000.0, 6000.0, 7000.0, 8000.0, 9000.0, 10000.0, 11000.0, 12000.0, 13000.0, 14000.0, 15000.0, 16000.0, 17000.0, 18000.0, 19000.0, 20000.0, 21000.0, 22000.0, 23000.0, 24000.0, 25000.0, 26000.0]\n",
      "> col  27 ['27000', '245.75099', '4059.3461', '8710.2236', '45.076807', '945258.9', '98.14095', '98.14095', '98.14095', '1071.4717', '3187.1905', '2378.4408', '0', '-985.54462', '-395.57673', '-1196.6356', '0']\n",
      "28 9823u  [0.0, 1000.0, 2000.0, 3000.0, 4000.0, 5000.0, 6000.0, 7000.0, 8000.0, 9000.0, 10000.0, 11000.0, 12000.0, 13000.0, 14000.0, 15000.0, 16000.0, 17000.0, 18000.0, 19000.0, 20000.0, 21000.0, 22000.0, 23000.0, 24000.0, 25000.0, 26000.0, 27000.0]\n",
      "> col  28 ['28000', '267.46947', '4573.3631', '9635.2664', '-14.260539', '873973.31', '95.609135', '95.609135', '95.609135', '1243.4671', '3452.7334', '2461.8176', '0', '-986.04371', '-400.4094', '-1198.2019', '0']\n",
      "29 9823u  [0.0, 1000.0, 2000.0, 3000.0, 4000.0, 5000.0, 6000.0, 7000.0, 8000.0, 9000.0, 10000.0, 11000.0, 12000.0, 13000.0, 14000.0, 15000.0, 16000.0, 17000.0, 18000.0, 19000.0, 20000.0, 21000.0, 22000.0, 23000.0, 24000.0, 25000.0, 26000.0, 27000.0, 28000.0]\n",
      "> col  29 ['29000', '298.98271', '4985.1605', '10643.457', '45.123076', '808534.59', '93.160727', '93.160727', '93.160727', '1373.9078', '3716.0384', '2477.4037', '0', '-976.50508', '-407.72945', '-1197.955', '0']\n",
      "30 9823u  [0.0, 1000.0, 2000.0, 3000.0, 4000.0, 5000.0, 6000.0, 7000.0, 8000.0, 9000.0, 10000.0, 11000.0, 12000.0, 13000.0, 14000.0, 15000.0, 16000.0, 17000.0, 18000.0, 19000.0, 20000.0, 21000.0, 22000.0, 23000.0, 24000.0, 25000.0, 26000.0, 27000.0, 28000.0, 29000.0]\n",
      "> col  30 ['30000', '327.7957', '5536.2608', '11739.848', '6.7053502', '753861.81', '91.011704', '91.011704', '91.011704', '1668.0408', '3905.6302', '2528.6094', '0', '-972.23292', '-396.68232', '-1197.1045', '0']\n",
      "31 9823u  [0.0, 1000.0, 2000.0, 3000.0, 4000.0, 5000.0, 6000.0, 7000.0, 8000.0, 9000.0, 10000.0, 11000.0, 12000.0, 13000.0, 14000.0, 15000.0, 16000.0, 17000.0, 18000.0, 19000.0, 20000.0, 21000.0, 22000.0, 23000.0, 24000.0, 25000.0, 26000.0, 27000.0, 28000.0, 29000.0, 30000.0]\n",
      "> col  31 ['31000', '360.39196', '6095.8718', '12916.348', '21.102205', '681818.46', '88.014911', '88.014911', '88.014911', '1820.6876', '4266.1875', '2582.608', '0', '-984.29121', '-393.08935', '-1196.2307', '0']\n",
      "32 9823u  [0.0, 1000.0, 2000.0, 3000.0, 4000.0, 5000.0, 6000.0, 7000.0, 8000.0, 9000.0, 10000.0, 11000.0, 12000.0, 13000.0, 14000.0, 15000.0, 16000.0, 17000.0, 18000.0, 19000.0, 20000.0, 21000.0, 22000.0, 23000.0, 24000.0, 25000.0, 26000.0, 27000.0, 28000.0, 29000.0, 30000.0, 31000.0]\n",
      "> col  32 ['32000', '394.7831', '6700.2658', '14171.6', '20.701268', '619271.99', '85.236802', '85.236802', '85.236802', '2169.262', '4538.48', '2581.2245', '0', '-992.42277', '-400.09372', '-1196.1843', '0']\n",
      "33 9823u  [0.0, 1000.0, 2000.0, 3000.0, 4000.0, 5000.0, 6000.0, 7000.0, 8000.0, 9000.0, 10000.0, 11000.0, 12000.0, 13000.0, 14000.0, 15000.0, 16000.0, 17000.0, 18000.0, 19000.0, 20000.0, 21000.0, 22000.0, 23000.0, 24000.0, 25000.0, 26000.0, 27000.0, 28000.0, 29000.0, 30000.0, 31000.0, 32000.0]\n",
      "> col  33 ['33000', '438.3456', '7224.8243', '15520.586', '-35.85077', '584339.96', '83.603', '83.603', '83.603', '2342.4169', '4866.0109', '2608.2574', '0', '-990.5152', '-405.79849', '-1195.5472', '0']\n",
      "34 9823u  [0.0, 1000.0, 2000.0, 3000.0, 4000.0, 5000.0, 6000.0, 7000.0, 8000.0, 9000.0, 10000.0, 11000.0, 12000.0, 13000.0, 14000.0, 15000.0, 16000.0, 17000.0, 18000.0, 19000.0, 20000.0, 21000.0, 22000.0, 23000.0, 24000.0, 25000.0, 26000.0, 27000.0, 28000.0, 29000.0, 30000.0, 31000.0, 32000.0, 33000.0]\n",
      "> col  34 ['34000', '469.46746', '8064.0665', '16948.815', '-185.19767', '558004.84', '82.327701', '82.327701', '82.327701', '2645.6002', '5360.9336', '2612.6418', '0', '-972.8639', '-385.0706', '-1197.1746', '0']\n",
      "35 9823u  [0.0, 1000.0, 2000.0, 3000.0, 4000.0, 5000.0, 6000.0, 7000.0, 8000.0, 9000.0, 10000.0, 11000.0, 12000.0, 13000.0, 14000.0, 15000.0, 16000.0, 17000.0, 18000.0, 19000.0, 20000.0, 21000.0, 22000.0, 23000.0, 24000.0, 25000.0, 26000.0, 27000.0, 28000.0, 29000.0, 30000.0, 31000.0, 32000.0, 33000.0, 34000.0]\n",
      "> col  35 ['35000', '510.98237', '8781.1119', '18451.537', '88.474538', '543483.59', '81.607263', '81.607263', '81.607263', '2965.4579', '5625.3894', '2736.2022', '0', '-933.71728', '-414.2107', '-1198.0096', '0']\n",
      "36 9823u  [0.0, 1000.0, 2000.0, 3000.0, 4000.0, 5000.0, 6000.0, 7000.0, 8000.0, 9000.0, 10000.0, 11000.0, 12000.0, 13000.0, 14000.0, 15000.0, 16000.0, 17000.0, 18000.0, 19000.0, 20000.0, 21000.0, 22000.0, 23000.0, 24000.0, 25000.0, 26000.0, 27000.0, 28000.0, 29000.0, 30000.0, 31000.0, 32000.0, 33000.0, 34000.0, 35000.0]\n",
      "> col  36 ['36000', '554.74722', '9514.5407', '20013.222', '127.45146', '538554.15', '81.359785', '81.359785', '81.359785', '3237.5228', '6079.8098', '2658.0647', '0', '-866.87699', '-396.59784', '-1197.3818', '0']\n",
      "37 9823u  [0.0, 1000.0, 2000.0, 3000.0, 4000.0, 5000.0, 6000.0, 7000.0, 8000.0, 9000.0, 10000.0, 11000.0, 12000.0, 13000.0, 14000.0, 15000.0, 16000.0, 17000.0, 18000.0, 19000.0, 20000.0, 21000.0, 22000.0, 23000.0, 24000.0, 25000.0, 26000.0, 27000.0, 28000.0, 29000.0, 30000.0, 31000.0, 32000.0, 33000.0, 34000.0, 35000.0, 36000.0]\n",
      "> col  37 ['37000', '601.66818', '10229.107', '21615.775', '16.868457', '510364.46', '79.914725', '79.914725', '79.914725', '3488.5642', '6482.119', '2690.036', '0', '-845.31912', '-388.07412', '-1198.2191', '0']\n",
      "38 9823u  [0.0, 1000.0, 2000.0, 3000.0, 4000.0, 5000.0, 6000.0, 7000.0, 8000.0, 9000.0, 10000.0, 11000.0, 12000.0, 13000.0, 14000.0, 15000.0, 16000.0, 17000.0, 18000.0, 19000.0, 20000.0, 21000.0, 22000.0, 23000.0, 24000.0, 25000.0, 26000.0, 27000.0, 28000.0, 29000.0, 30000.0, 31000.0, 32000.0, 33000.0, 34000.0, 35000.0, 36000.0, 37000.0]\n",
      "> col  38 ['38000', '640.44109', '11120.06', '23240.512', '241.01045', '472501.79', '77.88751', '77.88751', '77.88751', '3845.3881', '6953.2471', '2752.9092', '0', '-847.68268', '-386.07729', '-1197.724', '0']\n",
      "39 9823u  [0.0, 1000.0, 2000.0, 3000.0, 4000.0, 5000.0, 6000.0, 7000.0, 8000.0, 9000.0, 10000.0, 11000.0, 12000.0, 13000.0, 14000.0, 15000.0, 16000.0, 17000.0, 18000.0, 19000.0, 20000.0, 21000.0, 22000.0, 23000.0, 24000.0, 25000.0, 26000.0, 27000.0, 28000.0, 29000.0, 30000.0, 31000.0, 32000.0, 33000.0, 34000.0, 35000.0, 36000.0, 37000.0, 38000.0]\n",
      "> col  39 ['39000', '691.05738', '11794.405', '24872.779', '204.9569', '447028.1', '76.461874', '76.461874', '76.461874', '4189.8182', '7288.0868', '2770.5135', '0', '-878.8137', '-379.83123', '-1195.3683', '0']\n",
      "40 9823u  [0.0, 1000.0, 2000.0, 3000.0, 4000.0, 5000.0, 6000.0, 7000.0, 8000.0, 9000.0, 10000.0, 11000.0, 12000.0, 13000.0, 14000.0, 15000.0, 16000.0, 17000.0, 18000.0, 19000.0, 20000.0, 21000.0, 22000.0, 23000.0, 24000.0, 25000.0, 26000.0, 27000.0, 28000.0, 29000.0, 30000.0, 31000.0, 32000.0, 33000.0, 34000.0, 35000.0, 36000.0, 37000.0, 38000.0, 39000.0]\n",
      "> col  40 ['40000', '734.46097', '12591.503', '26491.297', '-53.258008', '425391.01', '75.20778', '75.20778', '75.20778', '4529.4742', '7632.0625', '2830.2778', '0', '-817.18539', '-386.33434', '-1196.7915', '0']\n",
      "41 9823u  [0.0, 1000.0, 2000.0, 3000.0, 4000.0, 5000.0, 6000.0, 7000.0, 8000.0, 9000.0, 10000.0, 11000.0, 12000.0, 13000.0, 14000.0, 15000.0, 16000.0, 17000.0, 18000.0, 19000.0, 20000.0, 21000.0, 22000.0, 23000.0, 24000.0, 25000.0, 26000.0, 27000.0, 28000.0, 29000.0, 30000.0, 31000.0, 32000.0, 33000.0, 34000.0, 35000.0, 36000.0, 37000.0, 38000.0, 39000.0, 40000.0]\n",
      "> col  41 ['41000', '776.36855', '13349.538', '28042.439', '111.85101', '403908.52', '73.919838', '73.919838', '73.919838', '4775.7035', '8278.5027', '2704.5199', '0', '-852.48951', '-361.09927', '-1195.5991', '0']\n",
      "42 9823u  [0.0, 1000.0, 2000.0, 3000.0, 4000.0, 5000.0, 6000.0, 7000.0, 8000.0, 9000.0, 10000.0, 11000.0, 12000.0, 13000.0, 14000.0, 15000.0, 16000.0, 17000.0, 18000.0, 19000.0, 20000.0, 21000.0, 22000.0, 23000.0, 24000.0, 25000.0, 26000.0, 27000.0, 28000.0, 29000.0, 30000.0, 31000.0, 32000.0, 33000.0, 34000.0, 35000.0, 36000.0, 37000.0, 38000.0, 39000.0, 40000.0, 41000.0]\n",
      "> col  42 ['42000', '814.9763', '14079.016', '29502.575', '-50.339297', '394273.24', '73.327312', '73.327312', '73.327312', '5169.1964', '8523.1708', '2773.3344', '0', '-827.17179', '-363.71811', '-1195.7962', '0']\n",
      "43 9823u  [0.0, 1000.0, 2000.0, 3000.0, 4000.0, 5000.0, 6000.0, 7000.0, 8000.0, 9000.0, 10000.0, 11000.0, 12000.0, 13000.0, 14000.0, 15000.0, 16000.0, 17000.0, 18000.0, 19000.0, 20000.0, 21000.0, 22000.0, 23000.0, 24000.0, 25000.0, 26000.0, 27000.0, 28000.0, 29000.0, 30000.0, 31000.0, 32000.0, 33000.0, 34000.0, 35000.0, 36000.0, 37000.0, 38000.0, 39000.0, 40000.0, 41000.0, 42000.0]\n",
      "> col  43 ['43000', '858.76089', '14581.114', '30833.304', '-251.97515', '395396.55', '73.396884', '73.396884', '73.396884', '5390.6324', '8701.7047', '2793.909', '0', '-748.07268', '-362.62207', '-1194.437', '0']\n",
      "44 9823u  [0.0, 1000.0, 2000.0, 3000.0, 4000.0, 5000.0, 6000.0, 7000.0, 8000.0, 9000.0, 10000.0, 11000.0, 12000.0, 13000.0, 14000.0, 15000.0, 16000.0, 17000.0, 18000.0, 19000.0, 20000.0, 21000.0, 22000.0, 23000.0, 24000.0, 25000.0, 26000.0, 27000.0, 28000.0, 29000.0, 30000.0, 31000.0, 32000.0, 33000.0, 34000.0, 35000.0, 36000.0, 37000.0, 38000.0, 39000.0, 40000.0, 41000.0, 42000.0, 43000.0]\n",
      "> col  44 ['44000', '887.14014', '15238.883', '32028.155', '-1.8437191', '407225.13', '74.121612', '74.121612', '74.121612', '5443.6001', '9203.7649', '2832.5477', '0', '-691.64171', '-355.45002', '-1193.938', '0']\n",
      "45 9823u  [0.0, 1000.0, 2000.0, 3000.0, 4000.0, 5000.0, 6000.0, 7000.0, 8000.0, 9000.0, 10000.0, 11000.0, 12000.0, 13000.0, 14000.0, 15000.0, 16000.0, 17000.0, 18000.0, 19000.0, 20000.0, 21000.0, 22000.0, 23000.0, 24000.0, 25000.0, 26000.0, 27000.0, 28000.0, 29000.0, 30000.0, 31000.0, 32000.0, 33000.0, 34000.0, 35000.0, 36000.0, 37000.0, 38000.0, 39000.0, 40000.0, 41000.0, 42000.0, 43000.0, 44000.0]\n",
      "> col  45 ['45000', '921.4244', '15655.528', '33093.635', '-11.115948', '393457.98', '73.276737', '73.276737', '73.276737', '5667.5509', '9416.0946', '2880.3331', '0', '-742.97292', '-369.08148', '-1196.3962', '0']\n",
      "46 9823u  [0.0, 1000.0, 2000.0, 3000.0, 4000.0, 5000.0, 6000.0, 7000.0, 8000.0, 9000.0, 10000.0, 11000.0, 12000.0, 13000.0, 14000.0, 15000.0, 16000.0, 17000.0, 18000.0, 19000.0, 20000.0, 21000.0, 22000.0, 23000.0, 24000.0, 25000.0, 26000.0, 27000.0, 28000.0, 29000.0, 30000.0, 31000.0, 32000.0, 33000.0, 34000.0, 35000.0, 36000.0, 37000.0, 38000.0, 39000.0, 40000.0, 41000.0, 42000.0, 43000.0, 44000.0, 45000.0]\n",
      "> col  46 ['46000', '937.47681', '16232.189', '33974.091', '107.16434', '393489.2', '73.278675', '73.278675', '73.278675', '6067.8977', '9577.0652', '2891.3209', '0', '-750.80582', '-357.27375', '-1196.015', '0']\n",
      "47 9823u  [0.0, 1000.0, 2000.0, 3000.0, 4000.0, 5000.0, 6000.0, 7000.0, 8000.0, 9000.0, 10000.0, 11000.0, 12000.0, 13000.0, 14000.0, 15000.0, 16000.0, 17000.0, 18000.0, 19000.0, 20000.0, 21000.0, 22000.0, 23000.0, 24000.0, 25000.0, 26000.0, 27000.0, 28000.0, 29000.0, 30000.0, 31000.0, 32000.0, 33000.0, 34000.0, 35000.0, 36000.0, 37000.0, 38000.0, 39000.0, 40000.0, 41000.0, 42000.0, 43000.0, 44000.0, 45000.0, 46000.0]\n",
      "> col  47 ['47000', '939.52391', '16908.871', '34689.514', '-810.9144', '405880.92', '74.039966', '74.039966', '74.039966', '6480.7811', '9850.3806', '2891.1641', '0', '-792.44443', '-327.88022', '-1193.1304', '0']\n",
      "48 9823u  [0.0, 1000.0, 2000.0, 3000.0, 4000.0, 5000.0, 6000.0, 7000.0, 8000.0, 9000.0, 10000.0, 11000.0, 12000.0, 13000.0, 14000.0, 15000.0, 16000.0, 17000.0, 18000.0, 19000.0, 20000.0, 21000.0, 22000.0, 23000.0, 24000.0, 25000.0, 26000.0, 27000.0, 28000.0, 29000.0, 30000.0, 31000.0, 32000.0, 33000.0, 34000.0, 35000.0, 36000.0, 37000.0, 38000.0, 39000.0, 40000.0, 41000.0, 42000.0, 43000.0, 44000.0, 45000.0, 46000.0, 47000.0]\n",
      "> col  48 ['48000', '978.23617', '16732.149', '35245.428', '-141.70619', '434310.94', '75.72982', '75.72982', '75.72982', '6209.4233', '9855.8957', '2896.1007', '0', '-700.49785', '-333.82468', '-1194.948', '0']\n",
      "49 9823u  [0.0, 1000.0, 2000.0, 3000.0, 4000.0, 5000.0, 6000.0, 7000.0, 8000.0, 9000.0, 10000.0, 11000.0, 12000.0, 13000.0, 14000.0, 15000.0, 16000.0, 17000.0, 18000.0, 19000.0, 20000.0, 21000.0, 22000.0, 23000.0, 24000.0, 25000.0, 26000.0, 27000.0, 28000.0, 29000.0, 30000.0, 31000.0, 32000.0, 33000.0, 34000.0, 35000.0, 36000.0, 37000.0, 38000.0, 39000.0, 40000.0, 41000.0, 42000.0, 43000.0, 44000.0, 45000.0, 46000.0, 47000.0, 48000.0]\n",
      "> col  49 ['49000', '986.59241', '17075.778', '35747.2', '36.79002', '461072.38', '77.254367', '77.254367', '77.254367', '6443.8618', '9957.3907', '2884.5277', '0', '-685.39264', '-330.31507', '-1194.2942', '0']\n",
      "50 9823u  [0.0, 1000.0, 2000.0, 3000.0, 4000.0, 5000.0, 6000.0, 7000.0, 8000.0, 9000.0, 10000.0, 11000.0, 12000.0, 13000.0, 14000.0, 15000.0, 16000.0, 17000.0, 18000.0, 19000.0, 20000.0, 21000.0, 22000.0, 23000.0, 24000.0, 25000.0, 26000.0, 27000.0, 28000.0, 29000.0, 30000.0, 31000.0, 32000.0, 33000.0, 34000.0, 35000.0, 36000.0, 37000.0, 38000.0, 39000.0, 40000.0, 41000.0, 42000.0, 43000.0, 44000.0, 45000.0, 46000.0, 47000.0, 48000.0, 49000.0]\n",
      "> col  50 ['50000', '983.9559', '17637.388', '36258.914', '-87.609637', '503667.74', '79.563653', '79.563653', '79.563653', '6577.4033', '10396.967', '2854.5198', '0', '-645.31653', '-351.10288', '-1195.0832', '0']\n",
      "51 9823u  [0.0, 1000.0, 2000.0, 3000.0, 4000.0, 5000.0, 6000.0, 7000.0, 8000.0, 9000.0, 10000.0, 11000.0, 12000.0, 13000.0, 14000.0, 15000.0, 16000.0, 17000.0, 18000.0, 19000.0, 20000.0, 21000.0, 22000.0, 23000.0, 24000.0, 25000.0, 26000.0, 27000.0, 28000.0, 29000.0, 30000.0, 31000.0, 32000.0, 33000.0, 34000.0, 35000.0, 36000.0, 37000.0, 38000.0, 39000.0, 40000.0, 41000.0, 42000.0, 43000.0, 44000.0, 45000.0, 46000.0, 47000.0, 48000.0, 49000.0, 50000.0]\n",
      " Calc 0 finished \n",
      " Adding thermo keys from line: Step Temp PotEng TotEng Press Volume Lx Ly Lz E_bond E_angle E_dihed E_impro E_vdwl E_coul E_long E_tail \n",
      " \n",
      "> col  0 ['50000', '983.9559', '17638.56', '36260.086', '-87.061557', '503667.74', '79.563653', '79.563653', '79.563653', '6577.4033', '10396.967', '2854.5198', '0', '-645.31653', '-48.006099', '-1497.0077', '0']\n",
      "1 9823u  [50000.0]\n",
      "> col  1 ['51000', '992.08435', '17503.376', '36278.734', '30.088145', '503768.51', '79.568958', '79.568958', '79.568958', '6481.8058', '10297.068', '2909.0041', '0', '-637.34134', '-47.240599', '-1499.9192', '0']\n",
      "2 9823u  [50000.0, 51000.0]\n",
      "> col  2 ['52000', '994.43199', '17417.471', '36237.258', '-65.660297', '505901.56', '79.681104', '79.681104', '79.681104', '6446.7916', '10269.244', '2947.0323', '0', '-676.83288', '-67.224211', '-1501.5403', '0']\n",
      "[50000.0, 51000.0]\n",
      "3 9823u  [50000.0, 51000.0, 52000.0]\n",
      "> col  3 ['53000', '983.13111', '17326.918', '35932.834', '-75.005362', '509362.04', '79.86237', '79.86237', '79.86237', '6282.5509', '10362.133', '2893.5816', '0', '-650.5496', '-60.33748', '-1500.4612', '0']\n",
      "4 9823u  [50000.0, 51000.0, 52000.0, 53000.0]\n",
      "> col  4 ['54000', '976.23676', '17109.268', '35584.708', '-191.45544', '515485.45', '80.181123', '80.181123', '80.181123', '6214.6133', '10205.959', '2903.5968', '0', '-655.42676', '-62.750927', '-1496.7227', '0']\n",
      "5 9823u  [50000.0, 51000.0, 52000.0, 53000.0, 54000.0]\n",
      "> col  5 ['55000', '959.54702', '17161.579', '35321.162', '-243.09383', '524396.91', '80.64053', '80.64053', '80.64053', '6390.4788', '10072.92', '2883.0386', '0', '-608.54147', '-75.354329', '-1500.9632', '0']\n",
      "6 9823u  [50000.0, 51000.0, 52000.0, 53000.0, 54000.0, 55000.0]\n",
      "> col  6 ['56000', '941.45675', '17129.267', '34946.49', '-61.627855', '532668.03', '81.062292', '81.062292', '81.062292', '6437.4101', '9972.8597', '2894.9667', '0', '-607.97244', '-67.867483', '-1500.1293', '0']\n",
      "7 9823u  [50000.0, 51000.0, 52000.0, 53000.0, 54000.0, 55000.0, 56000.0]\n",
      "> col  7 ['57000', '936.99313', '16802.5', '34535.248', '-200.78476', '540979.91', '81.481756', '81.481756', '81.481756', '6089.2956', '10106.376', '2852.2526', '0', '-697.32586', '-51.866686', '-1496.2314', '0']\n",
      "8 9823u  [50000.0, 51000.0, 52000.0, 53000.0, 54000.0, 55000.0, 56000.0, 57000.0]\n",
      "> col  8 ['58000', '929.27803', '16517.829', '34104.567', '57.299999', '544273.62', '81.646786', '81.646786', '81.646786', '5980.716', '9841.7557', '2935.498', '0', '-679.58965', '-61.791583', '-1498.7598', '0']\n",
      "9 9823u  [50000.0, 51000.0, 52000.0, 53000.0, 54000.0, 55000.0, 56000.0, 57000.0, 58000.0]\n",
      "> col  9 ['59000', '913.48252', '16363.059', '33650.865', '-219.91154', '542711.75', '81.568613', '81.568613', '81.568613', '6042.3199', '9681.8884', '2910.2635', '0', '-724.20304', '-47.184034', '-1500.0258', '0']\n",
      "10 9823u  [50000.0, 51000.0, 52000.0, 53000.0, 54000.0, 55000.0, 56000.0, 57000.0, 58000.0, 59000.0]\n",
      "> col  10 ['60000', '902.33382', '16093.257', '33170.072', '46.560323', '539078.65', '81.386189', '81.386189', '81.386189', '5915.1416', '9634.615', '2810.0994', '0', '-708.57064', '-59.01816', '-1499.0102', '0']\n",
      "11 9823u  [50000.0, 51000.0, 52000.0, 53000.0, 54000.0, 55000.0, 56000.0, 57000.0, 58000.0, 59000.0, 60000.0]\n",
      "> col  11 ['61000', '883.18242', '15964.148', '32678.52', '246.27406', '531516.73', '81.003848', '81.003848', '81.003848', '5874.0522', '9489.3988', '2870.9721', '0', '-703.60344', '-67.996516', '-1498.6747', '0']\n",
      "12 9823u  [50000.0, 51000.0, 52000.0, 53000.0, 54000.0, 55000.0, 56000.0, 57000.0, 58000.0, 59000.0, 60000.0, 61000.0]\n",
      "> col  12 ['62000', '880.54679', '15509.767', '32174.259', '-74.681138', '523391.5', '80.588961', '80.588961', '80.588961', '5825.2165', '9078.5946', '2856.4714', '0', '-680.90784', '-70.392473', '-1499.2152', '0']\n",
      "13 9823u  [50000.0, 51000.0, 52000.0, 53000.0, 54000.0, 55000.0, 56000.0, 57000.0, 58000.0, 59000.0, 60000.0, 61000.0, 62000.0]\n",
      "> col  13 ['63000', '863.04593', '15315.637', '31648.922', '4.7804533', '515786.72', '80.196741', '80.196741', '80.196741', '5531.1654', '9260.2206', '2826.2878', '0', '-736.96797', '-65.781389', '-1499.2878', '0']\n",
      "14 9823u  [50000.0, 51000.0, 52000.0, 53000.0, 54000.0, 55000.0, 56000.0, 57000.0, 58000.0, 59000.0, 60000.0, 61000.0, 62000.0, 63000.0]\n",
      "> col  14 ['64000', '838.72128', '15252.774', '31125.711', '-12.811812', '510409.58', '79.91708', '79.91708', '79.91708', '5612.9132', '9066.7636', '2841.9236', '0', '-693.12199', '-77.838405', '-1497.8659', '0']\n",
      "15 9823u  [50000.0, 51000.0, 52000.0, 53000.0, 54000.0, 55000.0, 56000.0, 57000.0, 58000.0, 59000.0, 60000.0, 61000.0, 62000.0, 63000.0, 64000.0]\n",
      "> col  15 ['65000', '827.97891', '14924.22', '30593.856', '100.79423', '505981.77', '79.685314', '79.685314', '79.685314', '5510.6843', '8926.1794', '2838.7111', '0', '-777.19366', '-74.581455', '-1499.5797', '0']\n",
      "16 9823u  [50000.0, 51000.0, 52000.0, 53000.0, 54000.0, 55000.0, 56000.0, 57000.0, 58000.0, 59000.0, 60000.0, 61000.0, 62000.0, 63000.0, 64000.0, 65000.0]\n",
      "> col  16 ['66000', '815.9115', '14607.571', '30048.829', '-25.88681', '498843.58', '79.308815', '79.308815', '79.308815', '5409.7917', '8820.9509', '2773.16', '0', '-827.50106', '-70.098144', '-1498.7325', '0']\n",
      "17 9823u  [50000.0, 51000.0, 52000.0, 53000.0, 54000.0, 55000.0, 56000.0, 57000.0, 58000.0, 59000.0, 60000.0, 61000.0, 62000.0, 63000.0, 64000.0, 65000.0, 66000.0]\n",
      "> col  17 ['67000', '803.86592', '14283.77', '29497.063', '135.14778', '490656.19', '78.872528', '78.872528', '78.872528', '5199.1592', '8723.8363', '2761.0874', '0', '-821.47706', '-79.211598', '-1499.6243', '0']\n",
      "18 9823u  [50000.0, 51000.0, 52000.0, 53000.0, 54000.0, 55000.0, 56000.0, 57000.0, 58000.0, 59000.0, 60000.0, 61000.0, 62000.0, 63000.0, 64000.0, 65000.0, 66000.0, 67000.0]\n",
      "> col  18 ['68000', '795.65961', '13888.406', '28946.394', '231.00354', '485519.55', '78.596325', '78.596325', '78.596325', '5079.8194', '8467.5708', '2754.383', '0', '-845.50813', '-68.914618', '-1498.9443', '0']\n",
      "19 9823u  [50000.0, 51000.0, 52000.0, 53000.0, 54000.0, 55000.0, 56000.0, 57000.0, 58000.0, 59000.0, 60000.0, 61000.0, 62000.0, 63000.0, 64000.0, 65000.0, 66000.0, 67000.0, 68000.0]\n",
      "> col  19 ['69000', '778.35483', '13673.762', '28404.254', '54.733441', '481487.91', '78.378172', '78.378172', '78.378172', '4986.7696', '8417.5655', '2759.0346', '0', '-900.24957', '-87.589157', '-1501.769', '0']\n",
      "20 9823u  [50000.0, 51000.0, 52000.0, 53000.0, 54000.0, 55000.0, 56000.0, 57000.0, 58000.0, 59000.0, 60000.0, 61000.0, 62000.0, 63000.0, 64000.0, 65000.0, 66000.0, 67000.0, 68000.0, 69000.0]\n",
      "> col  20 ['70000', '760.02675', '13474.413', '27858.043', '-175.69315', '478066.88', '78.192102', '78.192102', '78.192102', '4985.8806', '8173.7874', '2784.8942', '0', '-889.08717', '-80.717306', '-1500.3443', '0']\n",
      "21 9823u  [50000.0, 51000.0, 52000.0, 53000.0, 54000.0, 55000.0, 56000.0, 57000.0, 58000.0, 59000.0, 60000.0, 61000.0, 62000.0, 63000.0, 64000.0, 65000.0, 66000.0, 67000.0, 68000.0, 69000.0, 70000.0]\n",
      "> col  21 ['71000', '742.77344', '13262.535', '27319.644', '73.872995', '473499.79', '77.942308', '77.942308', '77.942308', '4919.1617', '8039.6237', '2805.2143', '0', '-914.5043', '-84.489027', '-1502.4708', '0']\n",
      "22 9823u  [50000.0, 51000.0, 52000.0, 53000.0, 54000.0, 55000.0, 56000.0, 57000.0, 58000.0, 59000.0, 60000.0, 61000.0, 62000.0, 63000.0, 64000.0, 65000.0, 66000.0, 67000.0, 68000.0, 69000.0, 70000.0, 71000.0]\n",
      "> col  22 ['72000', '734.52093', '12889.992', '26790.92', '-43.633623', '470182.3', '77.759852', '77.759852', '77.759852', '4736.1567', '7821.4459', '2811.573', '0', '-887.86388', '-90.533382', '-1500.7863', '0']\n",
      "23 9823u  [50000.0, 51000.0, 52000.0, 53000.0, 54000.0, 55000.0, 56000.0, 57000.0, 58000.0, 59000.0, 60000.0, 61000.0, 62000.0, 63000.0, 64000.0, 65000.0, 66000.0, 67000.0, 68000.0, 69000.0, 70000.0, 71000.0, 72000.0]\n",
      "> col  23 ['73000', '711.90192', '12787.082', '26259.942', '-141.66952', '462529.29', '77.335651', '77.335651', '77.335651', '4750.5013', '7729.6313', '2745.3857', '0', '-869.77161', '-70.407055', '-1498.2577', '0']\n",
      "24 9823u  [50000.0, 51000.0, 52000.0, 53000.0, 54000.0, 55000.0, 56000.0, 57000.0, 58000.0, 59000.0, 60000.0, 61000.0, 62000.0, 63000.0, 64000.0, 65000.0, 66000.0, 67000.0, 68000.0, 69000.0, 70000.0, 71000.0, 72000.0, 73000.0]\n",
      "> col  24 ['74000', '703.23683', '12425.431', '25734.302', '126.67274', '455918.29', '76.965425', '76.965425', '76.965425', '4673.1239', '7603.3602', '2666.9913', '0', '-943.10664', '-75.481831', '-1499.4564', '0']\n",
      "25 9823u  [50000.0, 51000.0, 52000.0, 53000.0, 54000.0, 55000.0, 56000.0, 57000.0, 58000.0, 59000.0, 60000.0, 61000.0, 62000.0, 63000.0, 64000.0, 65000.0, 66000.0, 67000.0, 68000.0, 69000.0, 70000.0, 71000.0, 72000.0, 73000.0, 74000.0]\n",
      "> col  25 ['75000', '693.20467', '12085.778', '25204.789', '115.58266', '449903.77', '76.625481', '76.625481', '76.625481', '4536.1454', '7461.7922', '2601.6816', '0', '-934.46787', '-78.435379', '-1500.9384', '0']\n",
      "26 9823u  [50000.0, 51000.0, 52000.0, 53000.0, 54000.0, 55000.0, 56000.0, 57000.0, 58000.0, 59000.0, 60000.0, 61000.0, 62000.0, 63000.0, 64000.0, 65000.0, 66000.0, 67000.0, 68000.0, 69000.0, 70000.0, 71000.0, 72000.0, 73000.0, 74000.0, 75000.0]\n",
      "> col  26 ['76000', '669.31832', '12007.318', '24674.277', '22.14486', '442006.36', '76.174481', '76.174481', '76.174481', '4354.7834', '7506.1401', '2681.7492', '0', '-933.53966', '-99.399018', '-1502.4158', '0']\n",
      "27 9823u  [50000.0, 51000.0, 52000.0, 53000.0, 54000.0, 55000.0, 56000.0, 57000.0, 58000.0, 59000.0, 60000.0, 61000.0, 62000.0, 63000.0, 64000.0, 65000.0, 66000.0, 67000.0, 68000.0, 69000.0, 70000.0, 71000.0, 72000.0, 73000.0, 74000.0, 75000.0, 76000.0]\n",
      "> col  27 ['77000', '667.34261', '11510.585', '24140.153', '298.29878', '433593.47', '75.688095', '75.688095', '75.688095', '4205.9941', '7258.2695', '2662.7553', '0', '-1019.6475', '-95.460005', '-1501.3262', '0']\n",
      "28 9823u  [50000.0, 51000.0, 52000.0, 53000.0, 54000.0, 55000.0, 56000.0, 57000.0, 58000.0, 59000.0, 60000.0, 61000.0, 62000.0, 63000.0, 64000.0, 65000.0, 66000.0, 67000.0, 68000.0, 69000.0, 70000.0, 71000.0, 72000.0, 73000.0, 74000.0, 75000.0, 76000.0, 77000.0]\n",
      "> col  28 ['78000', '652.49264', '11257.782', '23606.312', '88.767469', '428736.11', '75.4044', '75.4044', '75.4044', '4212.0659', '7125.1775', '2633.9175', '0', '-1121.5656', '-88.783057', '-1503.0302', '0']\n",
      "29 9823u  [50000.0, 51000.0, 52000.0, 53000.0, 54000.0, 55000.0, 56000.0, 57000.0, 58000.0, 59000.0, 60000.0, 61000.0, 62000.0, 63000.0, 64000.0, 65000.0, 66000.0, 67000.0, 68000.0, 69000.0, 70000.0, 71000.0, 72000.0, 73000.0, 74000.0, 75000.0, 76000.0, 77000.0, 78000.0]\n",
      "> col  29 ['79000', '640.83526', '10947.014', '23074.926', '-66.643156', '425856.59', '75.235208', '75.235208', '75.235208', '4105.3902', '6951.6247', '2609.4443', '0', '-1155.5864', '-62.267009', '-1501.592', '0']\n",
      "30 9823u  [50000.0, 51000.0, 52000.0, 53000.0, 54000.0, 55000.0, 56000.0, 57000.0, 58000.0, 59000.0, 60000.0, 61000.0, 62000.0, 63000.0, 64000.0, 65000.0, 66000.0, 67000.0, 68000.0, 69000.0, 70000.0, 71000.0, 72000.0, 73000.0, 74000.0, 75000.0, 76000.0, 77000.0, 78000.0, 79000.0]\n",
      "> col  30 ['80000', '628.42151', '10652.833', '22545.812', '-147.17378', '421012.41', '74.948848', '74.948848', '74.948848', '4148.1359', '6683.5178', '2549.2786', '0', '-1118.0712', '-108.76188', '-1501.2662', '0']\n",
      "31 9823u  [50000.0, 51000.0, 52000.0, 53000.0, 54000.0, 55000.0, 56000.0, 57000.0, 58000.0, 59000.0, 60000.0, 61000.0, 62000.0, 63000.0, 64000.0, 65000.0, 66000.0, 67000.0, 68000.0, 69000.0, 70000.0, 71000.0, 72000.0, 73000.0, 74000.0, 75000.0, 76000.0, 77000.0, 78000.0, 79000.0, 80000.0]\n",
      "> col  31 ['81000', '605.09663', '10562.318', '22013.87', '87.500903', '415136.33', '74.598526', '74.598526', '74.598526', '4013.334', '6746.5414', '2547.5267', '0', '-1135.6217', '-107.11983', '-1502.3426', '0']\n",
      "32 9823u  [50000.0, 51000.0, 52000.0, 53000.0, 54000.0, 55000.0, 56000.0, 57000.0, 58000.0, 59000.0, 60000.0, 61000.0, 62000.0, 63000.0, 64000.0, 65000.0, 66000.0, 67000.0, 68000.0, 69000.0, 70000.0, 71000.0, 72000.0, 73000.0, 74000.0, 75000.0, 76000.0, 77000.0, 78000.0, 79000.0, 80000.0, 81000.0]\n",
      "> col  32 ['82000', '598.84212', '10153.225', '21486.41', '-67.212513', '409195.28', '74.240953', '74.240953', '74.240953', '3827.0801', '6608.0264', '2516.5195', '0', '-1204.1124', '-97.056088', '-1497.2325', '0']\n",
      "33 9823u  [50000.0, 51000.0, 52000.0, 53000.0, 54000.0, 55000.0, 56000.0, 57000.0, 58000.0, 59000.0, 60000.0, 61000.0, 62000.0, 63000.0, 64000.0, 65000.0, 66000.0, 67000.0, 68000.0, 69000.0, 70000.0, 71000.0, 72000.0, 73000.0, 74000.0, 75000.0, 76000.0, 77000.0, 78000.0, 79000.0, 80000.0, 81000.0, 82000.0]\n",
      "> col  33 ['83000', '587.59896', '9833.5775', '20953.984', '-61.360984', '404075.45', '73.93002', '73.93002', '73.93002', '3785.4397', '6417.8823', '2502.4645', '0', '-1257.7033', '-112.3663', '-1502.1394', '0']\n",
      "34 9823u  [50000.0, 51000.0, 52000.0, 53000.0, 54000.0, 55000.0, 56000.0, 57000.0, 58000.0, 59000.0, 60000.0, 61000.0, 62000.0, 63000.0, 64000.0, 65000.0, 66000.0, 67000.0, 68000.0, 69000.0, 70000.0, 71000.0, 72000.0, 73000.0, 74000.0, 75000.0, 76000.0, 77000.0, 78000.0, 79000.0, 80000.0, 81000.0, 82000.0, 83000.0]\n",
      "> col  34 ['84000', '568.08716', '9673.8358', '20424.978', '-32.055142', '398140.73', '73.566293', '73.566293', '73.566293', '3697.2806', '6320.0057', '2542.7659', '0', '-1284.7319', '-98.284902', '-1503.1996', '0']\n",
      "35 9823u  [50000.0, 51000.0, 52000.0, 53000.0, 54000.0, 55000.0, 56000.0, 57000.0, 58000.0, 59000.0, 60000.0, 61000.0, 62000.0, 63000.0, 64000.0, 65000.0, 66000.0, 67000.0, 68000.0, 69000.0, 70000.0, 71000.0, 72000.0, 73000.0, 74000.0, 75000.0, 76000.0, 77000.0, 78000.0, 79000.0, 80000.0, 81000.0, 82000.0, 83000.0, 84000.0]\n",
      "> col  35 ['85000', '557.56738', '9345.3621', '19897.416', '37.29105', '392235.95', '73.200795', '73.200795', '73.200795', '3657.8823', '6176.1481', '2473.8923', '0', '-1343.6085', '-115.99253', '-1502.9596', '0']\n",
      "36 9823u  [50000.0, 51000.0, 52000.0, 53000.0, 54000.0, 55000.0, 56000.0, 57000.0, 58000.0, 59000.0, 60000.0, 61000.0, 62000.0, 63000.0, 64000.0, 65000.0, 66000.0, 67000.0, 68000.0, 69000.0, 70000.0, 71000.0, 72000.0, 73000.0, 74000.0, 75000.0, 76000.0, 77000.0, 78000.0, 79000.0, 80000.0, 81000.0, 82000.0, 83000.0, 84000.0, 85000.0]\n",
      "> col  36 ['86000', '543.40018', '9085.8429', '19369.78', '265.75559', '387766.2', '72.921678', '72.921678', '72.921678', '3539.2024', '6051.279', '2512.5921', '0', '-1384.9858', '-129.07919', '-1503.1656', '0']\n",
      "37 9823u  [50000.0, 51000.0, 52000.0, 53000.0, 54000.0, 55000.0, 56000.0, 57000.0, 58000.0, 59000.0, 60000.0, 61000.0, 62000.0, 63000.0, 64000.0, 65000.0, 66000.0, 67000.0, 68000.0, 69000.0, 70000.0, 71000.0, 72000.0, 73000.0, 74000.0, 75000.0, 76000.0, 77000.0, 78000.0, 79000.0, 80000.0, 81000.0, 82000.0, 83000.0, 84000.0, 85000.0, 86000.0]\n",
      "> col  37 ['87000', '531.75832', '8775.3077', '18838.921', '276.47346', '383992.41', '72.684345', '72.684345', '72.684345', '3484.0965', '5880.1684', '2420.3798', '0', '-1386.642', '-116.94272', '-1505.7523', '0']\n",
      "38 9823u  [50000.0, 51000.0, 52000.0, 53000.0, 54000.0, 55000.0, 56000.0, 57000.0, 58000.0, 59000.0, 60000.0, 61000.0, 62000.0, 63000.0, 64000.0, 65000.0, 66000.0, 67000.0, 68000.0, 69000.0, 70000.0, 71000.0, 72000.0, 73000.0, 74000.0, 75000.0, 76000.0, 77000.0, 78000.0, 79000.0, 80000.0, 81000.0, 82000.0, 83000.0, 84000.0, 85000.0, 86000.0, 87000.0]\n",
      "> col  38 ['88000', '514.51454', '8575.7961', '18313.068', '-275.3984', '379675.47', '72.410939', '72.410939', '72.410939', '3427.1596', '5813.5146', '2398.9352', '0', '-1440.0377', '-121.72902', '-1502.0467', '0']\n",
      "39 9823u  [50000.0, 51000.0, 52000.0, 53000.0, 54000.0, 55000.0, 56000.0, 57000.0, 58000.0, 59000.0, 60000.0, 61000.0, 62000.0, 63000.0, 64000.0, 65000.0, 66000.0, 67000.0, 68000.0, 69000.0, 70000.0, 71000.0, 72000.0, 73000.0, 74000.0, 75000.0, 76000.0, 77000.0, 78000.0, 79000.0, 80000.0, 81000.0, 82000.0, 83000.0, 84000.0, 85000.0, 86000.0, 87000.0, 88000.0]\n",
      "> col  39 ['89000', '497.78509', '8365.19', '17785.854', '-27.599373', '375060.93', '72.116384', '72.116384', '72.116384', '3285.6772', '5812.305', '2424.8188', '0', '-1518.9869', '-132.37127', '-1506.2528', '0']\n",
      "40 9823u  [50000.0, 51000.0, 52000.0, 53000.0, 54000.0, 55000.0, 56000.0, 57000.0, 58000.0, 59000.0, 60000.0, 61000.0, 62000.0, 63000.0, 64000.0, 65000.0, 66000.0, 67000.0, 68000.0, 69000.0, 70000.0, 71000.0, 72000.0, 73000.0, 74000.0, 75000.0, 76000.0, 77000.0, 78000.0, 79000.0, 80000.0, 81000.0, 82000.0, 83000.0, 84000.0, 85000.0, 86000.0, 87000.0, 88000.0, 89000.0]\n",
      "> col  40 ['90000', '488.62901', '8002.1427', '17249.526', '-40.039613', '370654.64', '71.832858', '71.832858', '71.832858', '3228.2267', '5587.225', '2390.978', '0', '-1566.2722', '-135.3208', '-1502.694', '0']\n",
      "41 9823u  [50000.0, 51000.0, 52000.0, 53000.0, 54000.0, 55000.0, 56000.0, 57000.0, 58000.0, 59000.0, 60000.0, 61000.0, 62000.0, 63000.0, 64000.0, 65000.0, 66000.0, 67000.0, 68000.0, 69000.0, 70000.0, 71000.0, 72000.0, 73000.0, 74000.0, 75000.0, 76000.0, 77000.0, 78000.0, 79000.0, 80000.0, 81000.0, 82000.0, 83000.0, 84000.0, 85000.0, 86000.0, 87000.0, 88000.0, 89000.0, 90000.0]\n",
      "> col  41 ['91000', '472.51871', '7771.1565', '16713.65', '0.16461128', '366982.62', '71.594858', '71.594858', '71.594858', '3122.1568', '5427.6742', '2427.0858', '0', '-1573.9963', '-128.2067', '-1503.5573', '0']\n",
      "42 9823u  [50000.0, 51000.0, 52000.0, 53000.0, 54000.0, 55000.0, 56000.0, 57000.0, 58000.0, 59000.0, 60000.0, 61000.0, 62000.0, 63000.0, 64000.0, 65000.0, 66000.0, 67000.0, 68000.0, 69000.0, 70000.0, 71000.0, 72000.0, 73000.0, 74000.0, 75000.0, 76000.0, 77000.0, 78000.0, 79000.0, 80000.0, 81000.0, 82000.0, 83000.0, 84000.0, 85000.0, 86000.0, 87000.0, 88000.0, 89000.0, 90000.0, 91000.0]\n",
      "> col  42 ['92000', '458.38631', '7509.9975', '16185.033', '-253.19858', '361717.79', '71.250835', '71.250835', '71.250835', '3005.5878', '5378.4313', '2361.7592', '0', '-1591.456', '-139.32562', '-1504.9992', '0']\n",
      "43 9823u  [50000.0, 51000.0, 52000.0, 53000.0, 54000.0, 55000.0, 56000.0, 57000.0, 58000.0, 59000.0, 60000.0, 61000.0, 62000.0, 63000.0, 64000.0, 65000.0, 66000.0, 67000.0, 68000.0, 69000.0, 70000.0, 71000.0, 72000.0, 73000.0, 74000.0, 75000.0, 76000.0, 77000.0, 78000.0, 79000.0, 80000.0, 81000.0, 82000.0, 83000.0, 84000.0, 85000.0, 86000.0, 87000.0, 88000.0, 89000.0, 90000.0, 91000.0, 92000.0]\n",
      "> col  43 ['93000', '447.57594', '7185.9789', '15656.426', '70.645699', '355511.06', '70.840949', '70.840949', '70.840949', '3028.7791', '5119.629', '2365.4344', '0', '-1664.2488', '-159.84479', '-1503.7701', '0']\n",
      "44 9823u  [50000.0, 51000.0, 52000.0, 53000.0, 54000.0, 55000.0, 56000.0, 57000.0, 58000.0, 59000.0, 60000.0, 61000.0, 62000.0, 63000.0, 64000.0, 65000.0, 66000.0, 67000.0, 68000.0, 69000.0, 70000.0, 71000.0, 72000.0, 73000.0, 74000.0, 75000.0, 76000.0, 77000.0, 78000.0, 79000.0, 80000.0, 81000.0, 82000.0, 83000.0, 84000.0, 85000.0, 86000.0, 87000.0, 88000.0, 89000.0, 90000.0, 91000.0, 92000.0, 93000.0]\n",
      "> col  44 ['94000', '437.50527', '6843.4687', '15123.327', '84.659932', '351302.65', '70.56031', '70.56031', '70.56031', '2799.5025', '5097.447', '2331.6998', '0', '-1731.3609', '-148.98888', '-1504.8309', '0']\n",
      "45 9823u  [50000.0, 51000.0, 52000.0, 53000.0, 54000.0, 55000.0, 56000.0, 57000.0, 58000.0, 59000.0, 60000.0, 61000.0, 62000.0, 63000.0, 64000.0, 65000.0, 66000.0, 67000.0, 68000.0, 69000.0, 70000.0, 71000.0, 72000.0, 73000.0, 74000.0, 75000.0, 76000.0, 77000.0, 78000.0, 79000.0, 80000.0, 81000.0, 82000.0, 83000.0, 84000.0, 85000.0, 86000.0, 87000.0, 88000.0, 89000.0, 90000.0, 91000.0, 92000.0, 93000.0, 94000.0]\n",
      "> col  45 ['95000', '422.96098', '6588.5394', '14593.145', '55.863616', '345601.16', '70.176504', '70.176504', '70.176504', '2689.8284', '5021.6712', '2313.3905', '0', '-1769.7495', '-159.67372', '-1506.9274', '0']\n",
      "46 9823u  [50000.0, 51000.0, 52000.0, 53000.0, 54000.0, 55000.0, 56000.0, 57000.0, 58000.0, 59000.0, 60000.0, 61000.0, 62000.0, 63000.0, 64000.0, 65000.0, 66000.0, 67000.0, 68000.0, 69000.0, 70000.0, 71000.0, 72000.0, 73000.0, 74000.0, 75000.0, 76000.0, 77000.0, 78000.0, 79000.0, 80000.0, 81000.0, 82000.0, 83000.0, 84000.0, 85000.0, 86000.0, 87000.0, 88000.0, 89000.0, 90000.0, 91000.0, 92000.0, 93000.0, 94000.0, 95000.0]\n",
      "> col  46 ['96000', '408.37501', '6332.0882', '14060.652', '411.11975', '340324.73', '69.817533', '69.817533', '69.817533', '2624.3449', '4871.8315', '2348.892', '0', '-1838.8188', '-167.77422', '-1506.3872', '0']\n",
      "47 9823u  [50000.0, 51000.0, 52000.0, 53000.0, 54000.0, 55000.0, 56000.0, 57000.0, 58000.0, 59000.0, 60000.0, 61000.0, 62000.0, 63000.0, 64000.0, 65000.0, 66000.0, 67000.0, 68000.0, 69000.0, 70000.0, 71000.0, 72000.0, 73000.0, 74000.0, 75000.0, 76000.0, 77000.0, 78000.0, 79000.0, 80000.0, 81000.0, 82000.0, 83000.0, 84000.0, 85000.0, 86000.0, 87000.0, 88000.0, 89000.0, 90000.0, 91000.0, 92000.0, 93000.0, 94000.0, 95000.0, 96000.0]\n",
      "> col  47 ['97000', '389.72343', '6155.2586', '13530.838', '-366.50226', '336832.03', '69.57787', '69.57787', '69.57787', '2636.3985', '4825.8249', '2268.8726', '0', '-1896.4209', '-172.55949', '-1506.857', '0']\n",
      "48 9823u  [50000.0, 51000.0, 52000.0, 53000.0, 54000.0, 55000.0, 56000.0, 57000.0, 58000.0, 59000.0, 60000.0, 61000.0, 62000.0, 63000.0, 64000.0, 65000.0, 66000.0, 67000.0, 68000.0, 69000.0, 70000.0, 71000.0, 72000.0, 73000.0, 74000.0, 75000.0, 76000.0, 77000.0, 78000.0, 79000.0, 80000.0, 81000.0, 82000.0, 83000.0, 84000.0, 85000.0, 86000.0, 87000.0, 88000.0, 89000.0, 90000.0, 91000.0, 92000.0, 93000.0, 94000.0, 95000.0, 96000.0, 97000.0]\n",
      "> col  48 ['98000', '381.25718', '5780.7018', '12996.056', '101.03698', '332800.69', '69.299176', '69.299176', '69.299176', '2524.8797', '4598.9667', '2303.3385', '0', '-1966.5558', '-172.89807', '-1507.0292', '0']\n",
      "49 9823u  [50000.0, 51000.0, 52000.0, 53000.0, 54000.0, 55000.0, 56000.0, 57000.0, 58000.0, 59000.0, 60000.0, 61000.0, 62000.0, 63000.0, 64000.0, 65000.0, 66000.0, 67000.0, 68000.0, 69000.0, 70000.0, 71000.0, 72000.0, 73000.0, 74000.0, 75000.0, 76000.0, 77000.0, 78000.0, 79000.0, 80000.0, 81000.0, 82000.0, 83000.0, 84000.0, 85000.0, 86000.0, 87000.0, 88000.0, 89000.0, 90000.0, 91000.0, 92000.0, 93000.0, 94000.0, 95000.0, 96000.0, 97000.0, 98000.0]\n",
      "> col  49 ['99000', '374.79267', '5371.7836', '12464.796', '-26.759834', '328254.7', '68.982191', '68.982191', '68.982191', '2341.8985', '4460.4399', '2263.492', '0', '-2026.9905', '-161.53212', '-1505.5242', '0']\n",
      "50 9823u  [50000.0, 51000.0, 52000.0, 53000.0, 54000.0, 55000.0, 56000.0, 57000.0, 58000.0, 59000.0, 60000.0, 61000.0, 62000.0, 63000.0, 64000.0, 65000.0, 66000.0, 67000.0, 68000.0, 69000.0, 70000.0, 71000.0, 72000.0, 73000.0, 74000.0, 75000.0, 76000.0, 77000.0, 78000.0, 79000.0, 80000.0, 81000.0, 82000.0, 83000.0, 84000.0, 85000.0, 86000.0, 87000.0, 88000.0, 89000.0, 90000.0, 91000.0, 92000.0, 93000.0, 94000.0, 95000.0, 96000.0, 97000.0, 98000.0, 99000.0]\n",
      "> col  50 ['100000', '355.04844', '5211.5685', '11930.918', '-190.80422', '323271.27', '68.631323', '68.631323', '68.631323', '2374.148', '4329.3291', '2280.2399', '0', '-2083.6929', '-182.14739', '-1506.3082', '0']\n",
      "51 9823u  [50000.0, 51000.0, 52000.0, 53000.0, 54000.0, 55000.0, 56000.0, 57000.0, 58000.0, 59000.0, 60000.0, 61000.0, 62000.0, 63000.0, 64000.0, 65000.0, 66000.0, 67000.0, 68000.0, 69000.0, 70000.0, 71000.0, 72000.0, 73000.0, 74000.0, 75000.0, 76000.0, 77000.0, 78000.0, 79000.0, 80000.0, 81000.0, 82000.0, 83000.0, 84000.0, 85000.0, 86000.0, 87000.0, 88000.0, 89000.0, 90000.0, 91000.0, 92000.0, 93000.0, 94000.0, 95000.0, 96000.0, 97000.0, 98000.0, 99000.0, 100000.0]\n",
      " Calc 1 finished \n",
      " Adding thermo keys from line: Step Temp PotEng TotEng Press Volume Lx Ly Lz E_bond E_angle E_dihed E_impro E_vdwl E_coul E_long E_tail \n",
      " \n",
      "> col  0 ['100000', '355.04844', '5211.3634', '11930.713', '-190.79947', '323271.27', '68.631323', '68.631323', '68.631323', '2374.148', '4329.3291', '2280.2399', '0', '-2083.6929', '-85.452708', '-1603.208', '0']\n",
      "1 9823u  [100000.0]\n",
      "> col  1 ['100070', '355.04844', '-1002.1658', '5717.1837', '650.4004', '323271.27', '68.631323', '68.631323', '68.631323', '31.64267', '1053.2893', '1971.2014', '0', '-2362.7786', '-91.711129', '-1603.8095', '0']\n",
      "2 9823u  [100000.0, 100070.0]\n",
      " Calc 2 finished \n"
     ]
    }
   ],
   "source": [
    "lmp_i.analysis()"
   ]
  },
  {
   "cell_type": "code",
   "execution_count": 347,
   "metadata": {},
   "outputs": [
    {
     "name": "stdout",
     "output_type": "stream",
     "text": [
      "6\n"
     ]
    }
   ],
   "source": [
    "print len(lmp_i.properties['run_list'])"
   ]
  },
  {
   "cell_type": "code",
   "execution_count": 345,
   "metadata": {
    "collapsed": true
   },
   "outputs": [],
   "source": [
    "lmp_i.store()"
   ]
  },
  {
   "cell_type": "code",
   "execution_count": 346,
   "metadata": {
    "collapsed": true
   },
   "outputs": [],
   "source": [
    "lmp_i.pull()"
   ]
  },
  {
   "cell_type": "markdown",
   "metadata": {},
   "source": [
    "Read in data file output and update positions"
   ]
  },
  {
   "cell_type": "code",
   "execution_count": 348,
   "metadata": {},
   "outputs": [
    {
     "name": "stdout",
     "output_type": "stream",
     "text": [
      "/Users/tkemper/Development/streamm-tools/examples/scratch/lmp_equ0_p3HTx50/\n"
     ]
    }
   ],
   "source": [
    "print lmp_i.dir['launch']\n",
    "os.chdir(lmp_i.dir['launch'])"
   ]
  },
  {
   "cell_type": "code",
   "execution_count": 349,
   "metadata": {},
   "outputs": [
    {
     "name": "stdout",
     "output_type": "stream",
     "text": [
      "equ0.data\n"
     ]
    }
   ],
   "source": [
    "datafn = lmp_i.files['output']['data_3']\n",
    "print datafn"
   ]
  },
  {
   "cell_type": "code",
   "execution_count": 350,
   "metadata": {
    "collapsed": true
   },
   "outputs": [],
   "source": [
    "lmp_i.read_data_pos(datafn)"
   ]
  },
  {
   "cell_type": "code",
   "execution_count": 351,
   "metadata": {
    "scrolled": true
   },
   "outputs": [
    {
     "name": "stdout",
     "output_type": "stream",
     "text": [
      "[[ 68.63132313   0.           0.        ]\n",
      " [  0.          68.63132313   0.        ]\n",
      " [  0.           0.          68.63132313]]\n"
     ]
    }
   ],
   "source": [
    "print lmp_i.strucC.lat.matrix"
   ]
  },
  {
   "cell_type": "code",
   "execution_count": 352,
   "metadata": {
    "collapsed": true
   },
   "outputs": [],
   "source": [
    "lmp_i.strucC.write_xyz()"
   ]
  },
  {
   "cell_type": "code",
   "execution_count": null,
   "metadata": {
    "collapsed": true
   },
   "outputs": [],
   "source": []
  },
  {
   "cell_type": "code",
   "execution_count": null,
   "metadata": {
    "collapsed": true
   },
   "outputs": [],
   "source": []
  },
  {
   "cell_type": "markdown",
   "metadata": {},
   "source": [
    "Sweet as bro!"
   ]
  }
 ],
 "metadata": {
  "anaconda-cloud": {},
  "kernelspec": {
   "display_name": "Python 2",
   "language": "python",
   "name": "python2"
  },
  "language_info": {
   "codemirror_mode": {
    "name": "ipython",
    "version": 2
   },
   "file_extension": ".py",
   "mimetype": "text/x-python",
   "name": "python",
   "nbconvert_exporter": "python",
   "pygments_lexer": "ipython2",
   "version": "2.7.13"
  }
 },
 "nbformat": 4,
 "nbformat_minor": 2
}
