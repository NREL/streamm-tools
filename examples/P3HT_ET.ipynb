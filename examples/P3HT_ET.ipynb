{
 "cells": [
  {
   "cell_type": "code",
   "execution_count": 1,
   "metadata": {
    "collapsed": true
   },
   "outputs": [],
   "source": [
    "%load_ext autoreload\n",
    "%autoreload 2"
   ]
  },
  {
   "cell_type": "code",
   "execution_count": 2,
   "metadata": {
    "collapsed": true
   },
   "outputs": [],
   "source": [
    "import os \n",
    "from pprint import pprint"
   ]
  },
  {
   "cell_type": "code",
   "execution_count": 3,
   "metadata": {
    "collapsed": true
   },
   "outputs": [],
   "source": [
    "import numpy as np\n",
    "import decimal\n",
    "import copy"
   ]
  },
  {
   "cell_type": "code",
   "execution_count": 4,
   "metadata": {
    "collapsed": true
   },
   "outputs": [],
   "source": [
    "import time"
   ]
  },
  {
   "cell_type": "code",
   "execution_count": 5,
   "metadata": {
    "collapsed": true
   },
   "outputs": [],
   "source": [
    "import streamm"
   ]
  },
  {
   "cell_type": "markdown",
   "metadata": {},
   "source": [
    "In this getting started example we will calculate the coupling between P3HT oligomers"
   ]
  },
  {
   "cell_type": "code",
   "execution_count": 6,
   "metadata": {
    "collapsed": true
   },
   "outputs": [],
   "source": [
    "import logging\n",
    "logging.basicConfig(filename='p3ht_et.log',level=logging.DEBUG)"
   ]
  },
  {
   "cell_type": "markdown",
   "metadata": {},
   "source": [
    "Now let's create project and resource to keep track of our work"
   ]
  },
  {
   "cell_type": "code",
   "execution_count": 7,
   "metadata": {
    "collapsed": true
   },
   "outputs": [],
   "source": [
    "p3ht_et = streamm.Project('P3HT_ET')"
   ]
  },
  {
   "cell_type": "code",
   "execution_count": null,
   "metadata": {},
   "outputs": [],
   "source": [
    "p3ht_et.load_json()"
   ]
  },
  {
   "cell_type": "code",
   "execution_count": 8,
   "metadata": {},
   "outputs": [],
   "source": [
    "for calc_i in p3ht_et.calculations.iteritems():\n",
    "    print calc_i"
   ]
  },
  {
   "cell_type": "markdown",
   "metadata": {},
   "source": [
    "And a resource object to keep track of where our files are "
   ]
  },
  {
   "cell_type": "code",
   "execution_count": 9,
   "metadata": {
    "collapsed": true
   },
   "outputs": [],
   "source": [
    "res_local = streamm.Resource('local')"
   ]
  },
  {
   "cell_type": "markdown",
   "metadata": {},
   "source": [
    "Update relative location of templates directory "
   ]
  },
  {
   "cell_type": "code",
   "execution_count": 10,
   "metadata": {
    "collapsed": true
   },
   "outputs": [],
   "source": [
    "res_local.dir['templates'] =  os.path.join(res_local.dir['home'],'..','templates','')"
   ]
  },
  {
   "cell_type": "code",
   "execution_count": 11,
   "metadata": {
    "collapsed": true
   },
   "outputs": [],
   "source": [
    "res_local.make_dir()"
   ]
  },
  {
   "cell_type": "code",
   "execution_count": 12,
   "metadata": {
    "collapsed": true
   },
   "outputs": [],
   "source": [
    "p3ht_et.set_resource(res_local)"
   ]
  },
  {
   "cell_type": "markdown",
   "metadata": {},
   "source": [
    "Now we need to set a remote resource we have ssh access to and run calculations "
   ]
  },
  {
   "cell_type": "code",
   "execution_count": 13,
   "metadata": {
    "collapsed": true
   },
   "outputs": [],
   "source": [
    "peregrine = streamm.Resource('peregrine')"
   ]
  },
  {
   "cell_type": "code",
   "execution_count": 14,
   "metadata": {
    "collapsed": true
   },
   "outputs": [],
   "source": [
    "peregrine.meta['type'] = \"ssh\"\n",
    "peregrine.ssh['username'] = \"tkemper\"    \n",
    "peregrine.ssh['address'] = \"peregrine.hpc.nrel.gov\"    \n",
    "peregrine.dir['storage'] = '/mss/users/%s'%(peregrine.ssh['username'])\n",
    "peregrine.dir['scratch'] = '/scratch/%s'%(peregrine.ssh['username'])\n",
    "peregrine.dir['home'] = res_local.dir['home']\n",
    "peregrine.dir['launch'] = res_local.dir['launch']\n",
    "peregrine.dir['templates'] = res_local.dir['templates']\n",
    "\n",
    "# Set default simulation specs\n",
    "peregrine.properties['allocation'] = 'orgopv'\n",
    "peregrine.properties['e-mail'] = 'travis.kemper@nrel.gov'\n",
    "peregrine.properties['scratch'] = peregrine.dir['scratch']\n",
    "peregrine.properties['allocation'] = 'orgopv'\n",
    "peregrine.properties['walltime'] = 4\n",
    "peregrine.properties['nodes'] = int(1)\n",
    "peregrine.properties['ppn'] = int(24)\n",
    "peregrine.properties['nproc'] = peregrine.properties['nodes']*peregrine.properties['ppn']\n",
    "peregrine.properties['queue'] = 'short'\n",
    "peregrine.properties['feature'] = '24core'\n",
    "peregrine.properties['exe_command'] = 'qsub '"
   ]
  },
  {
   "cell_type": "code",
   "execution_count": 15,
   "metadata": {},
   "outputs": [
    {
     "name": "stdout",
     "output_type": "stream",
     "text": [
      "{u'allocation': 'orgopv',\n",
      " 'e-mail': 'travis.kemper@nrel.gov',\n",
      " u'exe_command': 'qsub ',\n",
      " u'feature': '24core',\n",
      " u'nodes': 1,\n",
      " u'nproc': 24,\n",
      " u'pmem': 1500,\n",
      " u'ppn': 24,\n",
      " u'queue': 'short',\n",
      " 'scratch': '/scratch/tkemper',\n",
      " u'walltime': 4}\n"
     ]
    }
   ],
   "source": [
    "pprint(peregrine.properties)"
   ]
  },
  {
   "cell_type": "code",
   "execution_count": 16,
   "metadata": {
    "collapsed": true
   },
   "outputs": [],
   "source": [
    "peregrine.make_dir()"
   ]
  },
  {
   "cell_type": "markdown",
   "metadata": {},
   "source": [
    "Explicitely create a thiophene molecule"
   ]
  },
  {
   "cell_type": "code",
   "execution_count": 17,
   "metadata": {
    "collapsed": true
   },
   "outputs": [],
   "source": [
    "bbTh = streamm.Buildingblock('thiophene')\n",
    "symbols = ['C','C','C','C','S','H','H','H','H']\n",
    "positions = [ ]\n",
    "positions.append([-1.55498576,-1.91131218,-0.00081000])\n",
    "positions.append([-0.17775976,-1.91131218,-0.00081000])\n",
    "positions.append([0.34761524,-0.57904218,-0.00081000])\n",
    "positions.append([-0.65884476,0.36101082,0.00000000])\n",
    "positions.append([-2.16948076,-0.35614618,-0.00000800])\n",
    "positions.append([-2.18966076,-2.79526518,-0.00132100])\n",
    "positions.append([0.45389024,-2.80145418,-0.00106400])\n",
    "positions.append([1.41682424,-0.35961818,-0.00138200])\n",
    "positions.append([-0.51943676,1.44024682,0.00064700])\n",
    "for i in range(len(symbols)):\n",
    "    pt_i = streamm.Particle(symbol=symbols[i])\n",
    "    pos_i = positions[i]\n",
    "    bbTh.add_partpos(pt_i,pos_i)"
   ]
  },
  {
   "cell_type": "code",
   "execution_count": 18,
   "metadata": {
    "collapsed": true
   },
   "outputs": [],
   "source": [
    "bbTh.particles[5].rsite = 'termcap'\n",
    "bbTh.particles[6].rsite = 'funccap'\n",
    "bbTh.particles[8].rsite = 'termcap'"
   ]
  },
  {
   "cell_type": "markdown",
   "metadata": {},
   "source": [
    "Set some properties of the molecule to keep track of the parts"
   ]
  },
  {
   "cell_type": "code",
   "execution_count": 19,
   "metadata": {
    "collapsed": true
   },
   "outputs": [],
   "source": [
    "c_cnt =1\n",
    "h_cnt =1\n",
    "\n",
    "for pkey_i, particle_i  in bbTh.particles.iteritems():\n",
    "\n",
    "    if( particle_i.symbol == 'C' ):\n",
    "        particle_i.label = \"C%d\"%(c_cnt)\n",
    "        particle_i.resname = \"SCP2\"\n",
    "        particle_i.residue = 1\n",
    "\n",
    "        c_cnt +=1 \n",
    "    if( particle_i.symbol == 'S' ):\n",
    "        particle_i.resname = \"ThS\"\n",
    "        particle_i.residue = 2\n",
    "\n",
    "    if( particle_i.symbol == 'H' ):\n",
    "        particle_i.label = \"H%d\"%(h_cnt)\n",
    "        particle_i.resname = \"HA\"\n",
    "        particle_i.residue = 3\n",
    "\n",
    "        h_cnt +=1 \n"
   ]
  },
  {
   "cell_type": "markdown",
   "metadata": {},
   "source": [
    "Set the force-field type and guess some reasonable charges "
   ]
  },
  {
   "cell_type": "code",
   "execution_count": 20,
   "metadata": {
    "collapsed": true
   },
   "outputs": [],
   "source": [
    "for pkey_i, particle_i  in bbTh.particles.iteritems():\n",
    "    if( particle_i.symbol == 'C' ):\n",
    "        particle_i.paramkey = 'CA'\n",
    "        particle_i.charge = -0.025\n",
    "    if( particle_i.symbol == 'S' ):\n",
    "        particle_i.paramkey = 'S'\n",
    "        particle_i.charge = -0.3\n",
    "    if( particle_i.symbol == 'H' ):\n",
    "        particle_i.paramkey = 'HA'\n",
    "        particle_i.charge = 0.1"
   ]
  },
  {
   "cell_type": "markdown",
   "metadata": {},
   "source": [
    "Check molecule is neutral "
   ]
  },
  {
   "cell_type": "code",
   "execution_count": 21,
   "metadata": {},
   "outputs": [
    {
     "name": "stdout",
     "output_type": "stream",
     "text": [
      "-2.77555756156e-17\n"
     ]
    }
   ],
   "source": [
    "total_charge = 0.0\n",
    "for pkey_i, particle_i  in bbTh.particles.iteritems():\n",
    "    total_charge += particle_i.charge\n",
    "print total_charge"
   ]
  },
  {
   "cell_type": "markdown",
   "metadata": {},
   "source": [
    "Optimize structure with NWChem"
   ]
  },
  {
   "cell_type": "markdown",
   "metadata": {},
   "source": [
    "But let's put it in a function this time"
   ]
  },
  {
   "cell_type": "code",
   "execution_count": 22,
   "metadata": {
    "collapsed": true
   },
   "outputs": [],
   "source": [
    "def nw_opt(project_i,bb_i,res_i):\n",
    "    '''Optimize a streamm Buildingblock object with nwchem \n",
    "    \n",
    "    '''\n",
    "    nwchem_i = streamm.NWChem('nw_opt_{}'.format(bb_i.tag))\n",
    "    print nwchem_i.tag \n",
    "    # Add thiophene structure \n",
    "    nwchem_i.strucC = copy.deepcopy(bb_i)\n",
    "    # Set calculation to run on external resource\n",
    "    nwchem_i.set_resource(res_i)\n",
    "    # Make the local directories \n",
    "    nwchem_i.make_dir()\n",
    "    #Change to the `launch` directory\n",
    "    os.chdir(nwchem_i.dir['launch'])\n",
    "    # Copy over templates\n",
    "    nwchem_i.cp_file('templates','run',\"nwchem_peregrine.pbs\",'templates','launch')\n",
    "    nwchem_i.cp_file('templates','nw',\"nwchem.nw\",'templates','launch')\n",
    "    # Read in templates files \n",
    "    nwchem_i.load_str('templates','nw')        \n",
    "    nwchem_i.load_str('templates','run')\n",
    "    # Set calculation properties \n",
    "    nwchem_i.properties['basis'] = '6-31g'\n",
    "    nwchem_i.properties['method'] = 'UHF'\n",
    "    nwchem_i.properties['charge'] = 0\n",
    "    nwchem_i.properties['spin_mult'] = 1\n",
    "    nwchem_i.properties['task'] = 'SCF optimize'\n",
    "    nwchem_i.properties['coord'] = nwchem_i.strucC.write_coord()\n",
    "    # \n",
    "    pprint(nwchem_i.properties)\n",
    "    # Replace <key> with properties value \n",
    "    nwchem_i.replacewrite_prop('nw','input','nw','%s.nw'%(nwchem_i.tag))\n",
    "    nwchem_i.properties['input_nw'] = nwchem_i.files['input']['nw']\n",
    "    nwchem_i.replacewrite_prop('run','scripts','run','%s.pbs'%(nwchem_i.tag))\n",
    "    #\n",
    "    nwchem_i.add_file('output','log',\"%s.log\"%(nwchem_i.tag))\n",
    "    # Save details in .json files \n",
    "    os.chdir(nwchem_i.dir['home'])\n",
    "    p3ht_et.dump_json()\n",
    "    # \n",
    "    os.chdir(nwchem_i.dir['launch'])\n",
    "    # \n",
    "    nwchem_i.push()\n",
    "    # \n",
    "    nwchem_i.run()\n",
    "    # Add calculation to project\n",
    "    project_i.add_calc(nwchem_i,deepcopy = True)\n",
    "    # \n",
    "    return project_i "
   ]
  },
  {
   "cell_type": "code",
   "execution_count": 23,
   "metadata": {},
   "outputs": [
    {
     "name": "stdout",
     "output_type": "stream",
     "text": [
      "nw_opt_thiophene\n",
      "{u'allocation': 'orgopv',\n",
      " u'basis': '6-31g',\n",
      " u'charge': 0,\n",
      " 'comp_key': 'compressed',\n",
      " 'compress': 'tar -czf ',\n",
      " 'compress_sufix': 'tgz',\n",
      " 'coord': u'     C      -1.55498576      -1.91131218      -0.00081000 \\n     C      -0.17775976      -1.91131218      -0.00081000 \\n     C       0.34761524      -0.57904218      -0.00081000 \\n     C      -0.65884476       0.36101082       0.00000000 \\n     S      -2.16948076      -0.35614618      -0.00000800 \\n     H      -2.18966076      -2.79526518      -0.00132100 \\n     H       0.45389024      -2.80145418      -0.00106400 \\n     H       1.41682424      -0.35961818      -0.00138200 \\n     H      -0.51943676       1.44024682       0.00064700 \\n',\n",
      " 'e-mail': 'travis.kemper@nrel.gov',\n",
      " u'exe_command': 'qsub ',\n",
      " u'feature': '24core',\n",
      " u'finish_str': u'Total times  cpu:',\n",
      " u'maxiter': 100,\n",
      " u'method': 'UHF',\n",
      " u'nodes': 1,\n",
      " u'nproc': 24,\n",
      " u'pmem': 1500,\n",
      " u'ppn': 24,\n",
      " u'queue': 'short',\n",
      " 'scratch': u'/scratch/tkemper/nw_opt_thiophene/',\n",
      " u'spin_mult': 1,\n",
      " u'task': 'SCF optimize',\n",
      " 'uncompress': 'tar -xzf ',\n",
      " u'walltime': 4}\n"
     ]
    }
   ],
   "source": [
    "p3ht_et = nw_opt(p3ht_et,bbTh,peregrine)"
   ]
  },
  {
   "cell_type": "code",
   "execution_count": 24,
   "metadata": {
    "collapsed": true
   },
   "outputs": [],
   "source": [
    "nwchem_i = p3ht_et.calculations['nw_opt_thiophene']"
   ]
  },
  {
   "cell_type": "markdown",
   "metadata": {},
   "source": [
    "Check status unit finished"
   ]
  },
  {
   "cell_type": "code",
   "execution_count": 25,
   "metadata": {
    "collapsed": true
   },
   "outputs": [],
   "source": [
    "while( nwchem_i.meta['status'] != 'finished'):\n",
    "    nwchem_i.check()\n",
    "    time.sleep(30)    "
   ]
  },
  {
   "cell_type": "code",
   "execution_count": 26,
   "metadata": {},
   "outputs": [
    {
     "name": "stdout",
     "output_type": "stream",
     "text": [
      "finished\n"
     ]
    }
   ],
   "source": [
    "print nwchem_i.meta['status']"
   ]
  },
  {
   "cell_type": "code",
   "execution_count": 27,
   "metadata": {
    "collapsed": true
   },
   "outputs": [],
   "source": [
    "nwchem_i.analysis()"
   ]
  },
  {
   "cell_type": "markdown",
   "metadata": {},
   "source": [
    "Print energies "
   ]
  },
  {
   "cell_type": "code",
   "execution_count": 28,
   "metadata": {},
   "outputs": [
    {
     "name": "stdout",
     "output_type": "stream",
     "text": [
      "[-0.4732391, -0.3475018, -0.3290008, 0.1318747, 0.2130991, 0.2315597, 0.2416684, 0.269473, 0.2970013, 0.3198832]\n",
      "-551.190758152\n"
     ]
    }
   ],
   "source": [
    "print nwchem_i.properties['alpha_energies'][10:20]\n",
    "print nwchem_i.properties['energy']"
   ]
  },
  {
   "cell_type": "markdown",
   "metadata": {},
   "source": [
    "Check that the positions of the structure have been optimized "
   ]
  },
  {
   "cell_type": "code",
   "execution_count": 29,
   "metadata": {},
   "outputs": [
    {
     "name": "stdout",
     "output_type": "stream",
     "text": [
      "[[ -1.55498576e+00  -1.91131218e+00  -8.10000000e-04]\n",
      " [ -1.77759760e-01  -1.91131218e+00  -8.10000000e-04]\n",
      " [  3.47615240e-01  -5.79042180e-01  -8.10000000e-04]\n",
      " [ -6.58844760e-01   3.61010820e-01   0.00000000e+00]\n",
      " [ -2.16948076e+00  -3.56146180e-01  -8.00000000e-06]\n",
      " [ -2.18966076e+00  -2.79526518e+00  -1.32100000e-03]\n",
      " [  4.53890240e-01  -2.80145418e+00  -1.06400000e-03]\n",
      " [  1.41682424e+00  -3.59618180e-01  -1.38200000e-03]\n",
      " [ -5.19436760e-01   1.44024682e+00   6.47000000e-04]]\n"
     ]
    }
   ],
   "source": [
    "print bbTh.positions"
   ]
  },
  {
   "cell_type": "code",
   "execution_count": 30,
   "metadata": {},
   "outputs": [
    {
     "name": "stdout",
     "output_type": "stream",
     "text": [
      "[[ -1.52896594e+00  -1.96224658e+00  -8.41020000e-04]\n",
      " [ -1.87314430e-01  -1.91419453e+00  -1.07971000e-03]\n",
      " [  3.42605840e-01  -5.70379860e-01  -6.18150000e-04]\n",
      " [ -6.05148070e-01   3.80472790e-01  -2.75500000e-05]\n",
      " [ -2.25056863e+00  -3.24184850e-01  -7.66000000e-06]\n",
      " [ -2.16226428e+00  -2.82016344e+00  -1.05054000e-03]\n",
      " [  4.31144530e-01  -2.78814792e+00  -1.58608000e-03]\n",
      " [  1.39111272e+00  -3.53785840e-01  -7.31500000e-04]\n",
      " [ -4.82440580e-01   1.43973761e+00   3.84210000e-04]]\n"
     ]
    }
   ],
   "source": [
    "print nwchem_i.strucC.positions"
   ]
  },
  {
   "cell_type": "markdown",
   "metadata": {},
   "source": [
    "Update positions with optimized geometry "
   ]
  },
  {
   "cell_type": "code",
   "execution_count": 31,
   "metadata": {},
   "outputs": [
    {
     "name": "stdout",
     "output_type": "stream",
     "text": [
      "0 C [ -1.52896594e+00  -1.96224658e+00  -8.41020000e-04]\n",
      "1 C [ -1.87314430e-01  -1.91419453e+00  -1.07971000e-03]\n",
      "2 C [ 0.34260584 -0.57037986 -0.00061815]\n",
      "3 C [ -6.05148070e-01   3.80472790e-01  -2.75500000e-05]\n",
      "4 S [ -2.25056863e+00  -3.24184850e-01  -7.66000000e-06]\n",
      "5 H [ -2.16226428e+00  -2.82016344e+00  -1.05054000e-03]\n",
      "6 H [  4.31144530e-01  -2.78814792e+00  -1.58608000e-03]\n",
      "7 H [  1.39111272e+00  -3.53785840e-01  -7.31500000e-04]\n",
      "8 H [ -4.82440580e-01   1.43973761e+00   3.84210000e-04]\n"
     ]
    }
   ],
   "source": [
    "for pk,p in bbTh.particles.iteritems():\n",
    "    bbTh.positions[pk] = nwchem_i.strucC.positions[pk]\n",
    "    print pk,p.symbol,bbTh.positions[pk]"
   ]
  },
  {
   "cell_type": "markdown",
   "metadata": {},
   "source": [
    "Store the results in a tar ball in the storage directory "
   ]
  },
  {
   "cell_type": "code",
   "execution_count": 32,
   "metadata": {
    "collapsed": true
   },
   "outputs": [],
   "source": [
    "nwchem_i.store()"
   ]
  },
  {
   "cell_type": "markdown",
   "metadata": {},
   "source": [
    "Now let us calculate the ESP charges to use in our forcefield "
   ]
  },
  {
   "cell_type": "markdown",
   "metadata": {},
   "source": [
    "Again let's make it a function"
   ]
  },
  {
   "cell_type": "code",
   "execution_count": 33,
   "metadata": {
    "collapsed": true
   },
   "outputs": [],
   "source": [
    "def nw_esp(project_i,bb_i,res_i):\n",
    "    '''Calculate ESP charges of a streamm Buildingblock object with nwchem \n",
    "    \n",
    "    '''\n",
    "    nwchem_esp = streamm.NWChem('nw_esp_{}'.format(bb_i.tag))\n",
    "    print(nwchem_esp.tag)\n",
    "    # Add thiophene structure with optimized coordinates from previous calculation\n",
    "    nwchem_esp.strucC = copy.deepcopy(bb_i)\n",
    "    # Set calculation to run on external resource\n",
    "    nwchem_esp.set_resource(res_i)\n",
    "    # Add calculation to project\n",
    "    project_i.add_calc(nwchem_esp)\n",
    "    # Make the local directories \n",
    "    nwchem_esp.make_dir()\n",
    "    # Change to the `launch` directory\n",
    "    os.chdir(nwchem_esp.dir['launch'])\n",
    "    #\n",
    "    nwchem_esp.cp_file('templates','run',\"nwchem_peregrine.pbs\",'templates','launch')\n",
    "    nwchem_esp.cp_file('templates','nw',\"nwchem_esp.nw\",'templates','launch')\n",
    "    #\n",
    "    nwchem_esp.load_str('templates','nw')        \n",
    "    nwchem_esp.load_str('templates','run')\n",
    "    # \n",
    "    nwchem_esp.properties['basis'] = '6-31g'\n",
    "    nwchem_esp.properties['method'] = 'UHF'\n",
    "    nwchem_esp.properties['charge'] = 0\n",
    "    nwchem_esp.properties['spin_mult'] = 1\n",
    "    nwchem_esp.properties['task'] = 'SCF'\n",
    "    nwchem_esp.properties['coord'] = nwchem_esp.strucC.write_coord()\n",
    "\n",
    "    pprint(nwchem_esp.properties)\n",
    "\n",
    "    nwchem_esp.replacewrite_prop('nw','input','nw','%s.nw'%(nwchem_esp.tag))\n",
    "\n",
    "    nwchem_esp.properties['input_nw'] = nwchem_esp.files['input']['nw']\n",
    "    nwchem_esp.replacewrite_prop('run','scripts','run','%s.pbs'%(nwchem_esp.tag))\n",
    "\n",
    "    nwchem_esp.add_file('output','log',\"%s.log\"%(nwchem_esp.tag))\n",
    "\n",
    "    # Save details in .json files \n",
    "\n",
    "    os.chdir(nwchem_esp.dir['home'])\n",
    "    project_i.dump_json()\n",
    "\n",
    "    os.chdir(nwchem_esp.dir['launch'])\n",
    "    nwchem_esp.push()\n",
    "    nwchem_esp.run()\n",
    "    # Add calculation to project\n",
    "    project_i.add_calc(nwchem_esp,deepcopy = True)\n",
    "    # \n",
    "    return project_i \n",
    "    \n",
    "    "
   ]
  },
  {
   "cell_type": "code",
   "execution_count": 34,
   "metadata": {
    "scrolled": true
   },
   "outputs": [
    {
     "name": "stdout",
     "output_type": "stream",
     "text": [
      "nw_esp_thiophene\n",
      "{u'allocation': 'orgopv',\n",
      " u'basis': '6-31g',\n",
      " u'charge': 0,\n",
      " 'comp_key': 'compressed',\n",
      " 'compress': 'tar -czf ',\n",
      " 'compress_sufix': 'tgz',\n",
      " 'coord': u'     C      -1.52896594      -1.96224658      -0.00084102 \\n     C      -0.18731443      -1.91419453      -0.00107971 \\n     C       0.34260584      -0.57037986      -0.00061815 \\n     C      -0.60514807       0.38047279      -0.00002755 \\n     S      -2.25056863      -0.32418485      -0.00000766 \\n     H      -2.16226428      -2.82016344      -0.00105054 \\n     H       0.43114453      -2.78814792      -0.00158608 \\n     H       1.39111272      -0.35378584      -0.00073150 \\n     H      -0.48244058       1.43973761       0.00038421 \\n',\n",
      " 'e-mail': 'travis.kemper@nrel.gov',\n",
      " u'exe_command': 'qsub ',\n",
      " u'feature': '24core',\n",
      " u'finish_str': u'Total times  cpu:',\n",
      " u'maxiter': 100,\n",
      " u'method': 'UHF',\n",
      " u'nodes': 1,\n",
      " u'nproc': 24,\n",
      " u'pmem': 1500,\n",
      " u'ppn': 24,\n",
      " u'queue': 'short',\n",
      " 'scratch': u'/scratch/tkemper/nw_esp_thiophene/',\n",
      " u'spin_mult': 1,\n",
      " u'task': 'SCF',\n",
      " 'uncompress': 'tar -xzf ',\n",
      " u'walltime': 4}\n"
     ]
    }
   ],
   "source": [
    "p3ht_et = nw_esp(p3ht_et,bbTh,peregrine)"
   ]
  },
  {
   "cell_type": "markdown",
   "metadata": {},
   "source": [
    "Check status until finished"
   ]
  },
  {
   "cell_type": "code",
   "execution_count": 35,
   "metadata": {
    "collapsed": true
   },
   "outputs": [],
   "source": [
    "nwchem_i = p3ht_et.calculations['nw_esp_thiophene']"
   ]
  },
  {
   "cell_type": "code",
   "execution_count": 36,
   "metadata": {
    "collapsed": true
   },
   "outputs": [],
   "source": [
    "while( nwchem_i.meta['status'] != 'finished'):\n",
    "    nwchem_i.check()\n",
    "    time.sleep(1)    "
   ]
  },
  {
   "cell_type": "code",
   "execution_count": 37,
   "metadata": {},
   "outputs": [
    {
     "name": "stdout",
     "output_type": "stream",
     "text": [
      "Calculation nw_opt_thiophene has status stored\n",
      "Calculation nw_esp_thiophene has status finished\n"
     ]
    }
   ],
   "source": [
    "p3ht_et.check()"
   ]
  },
  {
   "cell_type": "code",
   "execution_count": 38,
   "metadata": {
    "collapsed": true
   },
   "outputs": [],
   "source": [
    "nwchem_i.analysis()"
   ]
  },
  {
   "cell_type": "code",
   "execution_count": 39,
   "metadata": {},
   "outputs": [
    {
     "name": "stdout",
     "output_type": "stream",
     "text": [
      "0 C -0.085835\n",
      "1 C -0.136737\n",
      "2 C -0.08583\n",
      "3 C -0.108845\n",
      "4 S -0.117786\n",
      "5 H 0.153802\n",
      "6 H 0.11901\n",
      "7 H 0.109154\n",
      "8 H 0.153066\n",
      "-1.00000000008e-06\n"
     ]
    }
   ],
   "source": [
    "total_charge = 0.0 \n",
    "for pk,p in nwchem_i.strucC.particles.iteritems():\n",
    "    print pk,p.symbol,p.charge\n",
    "    total_charge += p.charge\n",
    "print total_charge"
   ]
  },
  {
   "cell_type": "markdown",
   "metadata": {},
   "source": [
    "Update the charges of the Buildingblock"
   ]
  },
  {
   "cell_type": "code",
   "execution_count": 40,
   "metadata": {
    "collapsed": true
   },
   "outputs": [],
   "source": [
    "bbTh.tag += '_HFesp'"
   ]
  },
  {
   "cell_type": "code",
   "execution_count": 41,
   "metadata": {},
   "outputs": [
    {
     "name": "stdout",
     "output_type": "stream",
     "text": [
      "0 C -0.085835\n",
      "1 C -0.136737\n",
      "2 C -0.08583\n",
      "3 C -0.108845\n",
      "4 S -0.117786\n",
      "5 H 0.153802\n",
      "6 H 0.11901\n",
      "7 H 0.109154\n",
      "8 H 0.153066\n"
     ]
    }
   ],
   "source": [
    "for pk,p in bbTh.particles.iteritems():\n",
    "    p.charge = nwchem_i.strucC.particles[pk].charge\n",
    "    print pk,p.symbol,p.charge"
   ]
  },
  {
   "cell_type": "markdown",
   "metadata": {},
   "source": [
    "Store the results "
   ]
  },
  {
   "cell_type": "code",
   "execution_count": 42,
   "metadata": {
    "collapsed": true
   },
   "outputs": [],
   "source": [
    "nwchem_i.store()"
   ]
  },
  {
   "cell_type": "code",
   "execution_count": 43,
   "metadata": {
    "collapsed": true
   },
   "outputs": [],
   "source": [
    "bbTh.bonded_nblist = bbTh.guess_nblist(0,radii_buffer=1.35)"
   ]
  },
  {
   "cell_type": "code",
   "execution_count": 44,
   "metadata": {
    "collapsed": true
   },
   "outputs": [],
   "source": [
    "bbTh.bonded_bonds()\n",
    "bbTh.bonded_angles()\n",
    "bbTh.bonded_dih()"
   ]
  },
  {
   "cell_type": "markdown",
   "metadata": {},
   "source": [
    "Store a pickled object of the Buildingblock"
   ]
  },
  {
   "cell_type": "code",
   "execution_count": 45,
   "metadata": {},
   "outputs": [],
   "source": [
    "os.chdir(res_local.dir['materials']) \n",
    "bbTh.dump_pickle()"
   ]
  },
  {
   "cell_type": "markdown",
   "metadata": {},
   "source": [
    "Let us optimize the structure with the oplsaa force-field to check the parameters "
   ]
  },
  {
   "cell_type": "code",
   "execution_count": 46,
   "metadata": {
    "collapsed": true
   },
   "outputs": [],
   "source": [
    "os.chdir(res_local.dir['home']) "
   ]
  },
  {
   "cell_type": "code",
   "execution_count": 47,
   "metadata": {
    "collapsed": true
   },
   "outputs": [],
   "source": [
    "from pathlib2 import Path"
   ]
  },
  {
   "cell_type": "code",
   "execution_count": 48,
   "metadata": {},
   "outputs": [],
   "source": [
    "need_files = ['oplsaa.pkl']\n",
    "for f in need_files:\n",
    "    path = Path(f)\n",
    "    if not path.is_file():\n",
    "        print(\"Need to run forcefields.ipynb\")\n",
    "        os.system(\"jupyter nbconvert --to python  forcefields.ipynb\")\n",
    "        os.system(\"python forcefields.py\")"
   ]
  },
  {
   "cell_type": "code",
   "execution_count": 49,
   "metadata": {
    "collapsed": true
   },
   "outputs": [],
   "source": [
    "oplsaa = streamm.forcefields.parameters.read_pickle('oplsaa')"
   ]
  },
  {
   "cell_type": "code",
   "execution_count": 50,
   "metadata": {},
   "outputs": [
    {
     "name": "stdout",
     "output_type": "stream",
     "text": [
      "\n",
      "    Parameters \n",
      "      LJ parameters 2 \n",
      "      Bond parameters 2 \n",
      "      Angle parameters 2 \n",
      "      Dihedral parameters 1 \n",
      "      Improper Dihedral parameters 0 \n",
      "\n"
     ]
    }
   ],
   "source": [
    "print oplsaa"
   ]
  },
  {
   "cell_type": "code",
   "execution_count": 51,
   "metadata": {},
   "outputs": [
    {
     "name": "stdout",
     "output_type": "stream",
     "text": [
      "kCalmol\n"
     ]
    }
   ],
   "source": [
    "print oplsaa.unit_conf['energy']"
   ]
  },
  {
   "cell_type": "markdown",
   "metadata": {},
   "source": [
    "We need to add the conjugated carbons, hydrogen and sulfur atom types "
   ]
  },
  {
   "cell_type": "code",
   "execution_count": 52,
   "metadata": {
    "collapsed": true
   },
   "outputs": [],
   "source": [
    "import streamm.forcefields.particletype as particletype"
   ]
  },
  {
   "cell_type": "code",
   "execution_count": 53,
   "metadata": {
    "collapsed": true
   },
   "outputs": [],
   "source": [
    "import pymatgen_core.core.periodic_table as periodic_table"
   ]
  },
  {
   "cell_type": "markdown",
   "metadata": {},
   "source": [
    "Set some parameters from J. Am. Chem. Soc., 1996, 118 (45), pp 11225–11236"
   ]
  },
  {
   "cell_type": "code",
   "execution_count": 54,
   "metadata": {
    "collapsed": true
   },
   "outputs": [],
   "source": [
    "CA = particletype.Particletype('CA')\n",
    "HA = particletype.Particletype('HA')"
   ]
  },
  {
   "cell_type": "code",
   "execution_count": 55,
   "metadata": {
    "collapsed": true
   },
   "outputs": [],
   "source": [
    "CA.update_units(oplsaa.unit_conf)\n",
    "HA.update_units(oplsaa.unit_conf)"
   ]
  },
  {
   "cell_type": "code",
   "execution_count": 56,
   "metadata": {
    "collapsed": true
   },
   "outputs": [],
   "source": [
    "CA.epsilon = 0.070 # kcal/mol\n",
    "CA.sigma = 3.55 # Angstroms "
   ]
  },
  {
   "cell_type": "code",
   "execution_count": 57,
   "metadata": {
    "collapsed": true
   },
   "outputs": [],
   "source": [
    "HA.epsilon = 0.030 # kcal/mol\n",
    "HA.sigma = 2.42 # Angstroms "
   ]
  },
  {
   "cell_type": "code",
   "execution_count": 58,
   "metadata": {
    "collapsed": true
   },
   "outputs": [],
   "source": [
    "CA.mass =  periodic_table.Element['C'].atomic_mass.real\n",
    "HA.mass =  periodic_table.Element['H'].atomic_mass.real"
   ]
  },
  {
   "cell_type": "code",
   "execution_count": 59,
   "metadata": {},
   "outputs": [
    {
     "name": "stdout",
     "output_type": "stream",
     "text": [
      " CA epsilon:0.07 sigma:3.55  HA epsilon:0.03 sigma:2.42\n"
     ]
    }
   ],
   "source": [
    "print CA,HA"
   ]
  },
  {
   "cell_type": "code",
   "execution_count": 60,
   "metadata": {
    "collapsed": true
   },
   "outputs": [],
   "source": [
    "S = particletype.Particletype('S')"
   ]
  },
  {
   "cell_type": "code",
   "execution_count": 61,
   "metadata": {
    "collapsed": true
   },
   "outputs": [],
   "source": [
    "S.update_units(oplsaa.unit_conf)"
   ]
  },
  {
   "cell_type": "markdown",
   "metadata": {},
   "source": [
    "Set some parameters from J. Am. Chem. Soc., 1996, 118 (45), pp 11225–11236"
   ]
  },
  {
   "cell_type": "code",
   "execution_count": 62,
   "metadata": {
    "collapsed": true
   },
   "outputs": [],
   "source": [
    "S.epsilon = 0.25 # kcal/mol\n",
    "S.sigma = 3.55 # Angstroms "
   ]
  },
  {
   "cell_type": "code",
   "execution_count": 63,
   "metadata": {
    "collapsed": true
   },
   "outputs": [],
   "source": [
    "S.mass =  periodic_table.Element['S'].atomic_mass.real"
   ]
  },
  {
   "cell_type": "markdown",
   "metadata": {},
   "source": [
    "Add to forcefield parameters container"
   ]
  },
  {
   "cell_type": "code",
   "execution_count": 64,
   "metadata": {
    "collapsed": true
   },
   "outputs": [],
   "source": [
    "oplsaa.add_particletype(CA)\n",
    "oplsaa.add_particletype(HA)\n",
    "oplsaa.add_particletype(S)"
   ]
  },
  {
   "cell_type": "markdown",
   "metadata": {},
   "source": [
    "Set the bond stretching parameters "
   ]
  },
  {
   "cell_type": "code",
   "execution_count": 65,
   "metadata": {
    "collapsed": true
   },
   "outputs": [],
   "source": [
    "import streamm.forcefields.bondtype as bondtype"
   ]
  },
  {
   "cell_type": "code",
   "execution_count": 66,
   "metadata": {
    "collapsed": true
   },
   "outputs": [],
   "source": [
    "bt_i = bondtype.Bondtype('CA','HA',unit_conf=oplsaa.unit_conf)\n",
    "bt_i.setharmonic(1.080,367.0)\n",
    "oplsaa.add_bondtype(bt_i)"
   ]
  },
  {
   "cell_type": "code",
   "execution_count": 67,
   "metadata": {
    "collapsed": true
   },
   "outputs": [],
   "source": [
    "bt_i = bondtype.Bondtype('CA','CA',unit_conf=oplsaa.unit_conf)\n",
    "bt_i.setharmonic(1.400,469.0)\n",
    "oplsaa.add_bondtype(bt_i)"
   ]
  },
  {
   "cell_type": "code",
   "execution_count": 68,
   "metadata": {
    "collapsed": true
   },
   "outputs": [],
   "source": [
    "bt_i = bondtype.Bondtype('S','CA',unit_conf=oplsaa.unit_conf)\n",
    "bt_i.setharmonic(1.71,250.0)\n",
    "oplsaa.add_bondtype(bt_i)"
   ]
  },
  {
   "cell_type": "code",
   "execution_count": 69,
   "metadata": {},
   "outputs": [
    {
     "name": "stdout",
     "output_type": "stream",
     "text": [
      "0  bond  CT - HC type harmonic \n",
      "  harmonic r_0 = 1.080000 K = 367.000000 lammps index 0  gromacs index 0  \n",
      "1  bond  CT - CT type harmonic \n",
      "  harmonic r_0 = 1.530000 K = 268.000000 lammps index 0  gromacs index 0  \n",
      "2  bond  CA - HA type harmonic \n",
      "  harmonic r_0 = 1.080000 K = 367.000000 lammps index 0  gromacs index 0  \n",
      "3  bond  CA - CA type harmonic \n",
      "  harmonic r_0 = 1.400000 K = 469.000000 lammps index 0  gromacs index 0  \n",
      "4  bond  S - CA type harmonic \n",
      "  harmonic r_0 = 1.710000 K = 250.000000 lammps index 0  gromacs index 0  \n"
     ]
    }
   ],
   "source": [
    "for btk,bt in oplsaa.bondtypes.iteritems():\n",
    "    print btk,bt"
   ]
  },
  {
   "cell_type": "code",
   "execution_count": 70,
   "metadata": {
    "collapsed": true
   },
   "outputs": [],
   "source": [
    "import streamm.forcefields.angletype as angletype"
   ]
  },
  {
   "cell_type": "code",
   "execution_count": 71,
   "metadata": {
    "collapsed": true
   },
   "outputs": [],
   "source": [
    "bat_i = angletype.Angletype('CA','CA','CA',unit_conf=oplsaa.unit_conf)\n",
    "bat_i.setharmonic(120.0,63.0)\n",
    "oplsaa.add_angletype(bat_i)"
   ]
  },
  {
   "cell_type": "code",
   "execution_count": 72,
   "metadata": {
    "collapsed": true
   },
   "outputs": [],
   "source": [
    "bat_i = angletype.Angletype('CA','CA','HA',unit_conf=oplsaa.unit_conf)\n",
    "bat_i.setharmonic(120.0,35.0)\n",
    "oplsaa.add_angletype(bat_i)"
   ]
  },
  {
   "cell_type": "code",
   "execution_count": 73,
   "metadata": {
    "collapsed": true
   },
   "outputs": [],
   "source": [
    "bat_i = angletype.Angletype('CA','S','CA',unit_conf=oplsaa.unit_conf)\n",
    "bat_i.setharmonic(92.2,70.0)\n",
    "oplsaa.add_angletype(bat_i)"
   ]
  },
  {
   "cell_type": "code",
   "execution_count": 74,
   "metadata": {
    "collapsed": true
   },
   "outputs": [],
   "source": [
    "bat_i = angletype.Angletype('S','CA','HA',unit_conf=oplsaa.unit_conf)\n",
    "bat_i.setharmonic(120.0,35.0)\n",
    "oplsaa.add_angletype(bat_i)"
   ]
  },
  {
   "cell_type": "code",
   "execution_count": 75,
   "metadata": {
    "collapsed": true
   },
   "outputs": [],
   "source": [
    "bat_i = angletype.Angletype('S','CA','CA',unit_conf=oplsaa.unit_conf)\n",
    "bat_i.setharmonic(111.0,70.0)\n",
    "oplsaa.add_angletype(bat_i)"
   ]
  },
  {
   "cell_type": "code",
   "execution_count": 76,
   "metadata": {},
   "outputs": [
    {
     "name": "stdout",
     "output_type": "stream",
     "text": [
      "0  angle  HC - CT - HC type harmonic \n",
      "  harmonic theta_0 = 110.700000 K = 37.500000 lammps index 0  gromacs index 0  \n",
      "1  angle  HC - CT - CT type harmonic \n",
      "  harmonic theta_0 = 110.700000 K = 37.500000 lammps index 0  gromacs index 0  \n",
      "2  angle  CA - CA - CA type harmonic \n",
      "  harmonic theta_0 = 120.000000 K = 63.000000 lammps index 0  gromacs index 0  \n",
      "3  angle  CA - CA - HA type harmonic \n",
      "  harmonic theta_0 = 120.000000 K = 35.000000 lammps index 0  gromacs index 0  \n",
      "4  angle  CA - S - CA type harmonic \n",
      "  harmonic theta_0 = 92.200000 K = 70.000000 lammps index 0  gromacs index 0  \n",
      "5  angle  S - CA - HA type harmonic \n",
      "  harmonic theta_0 = 120.000000 K = 35.000000 lammps index 0  gromacs index 0  \n",
      "6  angle  S - CA - CA type harmonic \n",
      "  harmonic theta_0 = 111.000000 K = 70.000000 lammps index 0  gromacs index 0  \n"
     ]
    }
   ],
   "source": [
    "for atk,at in oplsaa.angletypes.iteritems():\n",
    "    print atk,at"
   ]
  },
  {
   "cell_type": "markdown",
   "metadata": {},
   "source": [
    "Set some reasonable dihedral parameters"
   ]
  },
  {
   "cell_type": "code",
   "execution_count": 77,
   "metadata": {
    "collapsed": true
   },
   "outputs": [],
   "source": [
    "import streamm.forcefields.dihtype as dihtype"
   ]
  },
  {
   "cell_type": "code",
   "execution_count": 79,
   "metadata": {
    "collapsed": true
   },
   "outputs": [],
   "source": [
    "dih_i = dihtype.Dihtype('X','CA','CA','X',unit_conf=oplsaa.unit_conf)\n",
    "dih_i.type ='opls'\n",
    "dih_i.setopls(0.0,1.812532,0.0,0.0)\n",
    "oplsaa.add_dihtype(dih_i)"
   ]
  },
  {
   "cell_type": "code",
   "execution_count": 80,
   "metadata": {
    "collapsed": true
   },
   "outputs": [],
   "source": [
    "dih_i = dihtype.Dihtype('X','S','CA','X',unit_conf=oplsaa.unit_conf)\n",
    "dih_i.type ='opls'\n",
    "dih_i.setopls(0.0,2.416710,0.0,0.0)\n",
    "oplsaa.add_dihtype(dih_i)"
   ]
  },
  {
   "cell_type": "code",
   "execution_count": 81,
   "metadata": {
    "collapsed": true
   },
   "outputs": [],
   "source": [
    "dih_i = dihtype.Dihtype('S','CA','CA','HA',unit_conf=oplsaa.unit_conf)\n",
    "dih_i.type ='opls'\n",
    "dih_i.setopls(0.0,1.812532,0.0,0.0)\n",
    "oplsaa.add_dihtype(dih_i)"
   ]
  },
  {
   "cell_type": "code",
   "execution_count": 82,
   "metadata": {},
   "outputs": [
    {
     "name": "stdout",
     "output_type": "stream",
     "text": [
      "0  dihedral  HC - CT - CT - HC type opls \n",
      "  k1 = 0.000000 k2 = 0.000000 k3 = 0.300000 k4 = 0.000000 lammps index 0  gromcas index 0 \n",
      "1  dihedral  X - CA - CA - X type opls \n",
      "  k1 = 0.000000 k2 = 1.812532 k3 = 0.000000 k4 = 0.000000 lammps index 0  gromcas index 0 \n",
      "2  dihedral  X - S - CA - X type opls \n",
      "  k1 = 0.000000 k2 = 2.416710 k3 = 0.000000 k4 = 0.000000 lammps index 0  gromcas index 0 \n",
      "3  dihedral  S - CA - CA - HA type opls \n",
      "  k1 = 0.000000 k2 = 1.812532 k3 = 0.000000 k4 = 0.000000 lammps index 0  gromcas index 0 \n"
     ]
    }
   ],
   "source": [
    "for dk,d in oplsaa.dihtypes.iteritems():\n",
    "    print dk,d "
   ]
  },
  {
   "cell_type": "markdown",
   "metadata": {},
   "source": [
    "Let us make an MD simulation of just the monomer to check that our parameters are okay"
   ]
  },
  {
   "cell_type": "code",
   "execution_count": 360,
   "metadata": {
    "collapsed": true
   },
   "outputs": [],
   "source": [
    "def lmp_run(project_i,bb_i,param_i,res_i,md_type = 'min'):\n",
    "    # Create LAMMPS calculation object \n",
    "    calc_n =  len(project_i.calculations)     \n",
    "    lmp_i = streamm.LAMMPS('lmp_{}_{}_calc_{}'.format(md_type,bb_i.tag,calc_n))\n",
    "    # lmp_i = streamm.LAMMPS('lmp_{}_{}'.format(md_type,bb_i.tag))\n",
    "    # Set parameter container \n",
    "    lmp_i.paramC = param_i\n",
    "    lmp_i.set_strucC(bb_i)\n",
    "    # Set force-field parameters \n",
    "    lmp_i.set_ffparam()\n",
    "    # Set resource to local\n",
    "    lmp_i.set_resource(res_i)\n",
    "    # Make local directories\n",
    "    lmp_i.make_dir()\n",
    "    # Set pbc's to on\n",
    "    lmp_i.strucC.lat.pbcs = [True,True,True]\n",
    "    # Change to launch directory\n",
    "    os.chdir(lmp_i.dir['launch'])\n",
    "    # Copy over the templates from the template directory \n",
    "    lmp_i.cp_file('templates','in',\"lammps_{}.in\".format(md_type),'templates','launch')\n",
    "    lmp_i.cp_file('templates','run',\"lammps_peregrine.pbs\",'templates','launch')\n",
    "    # Change to scratch\n",
    "    os.chdir(lmp_i.dir['launch'])\n",
    "    # Read in template files and store them as strings in the `str` dictionary\n",
    "    lmp_i.load_str('templates','in')\n",
    "    lmp_i.load_str('templates','run')\n",
    "    # Write LAMMPS .data file\n",
    "    lmp_i.write_data()\n",
    "    # Replace keys in template string with properties \n",
    "    lmp_i.replacewrite_prop('in','input','in','%s.in'%(lmp_i.tag))\n",
    "    # Add the input file to the properties to be written into the run file\n",
    "    lmp_i.properties['input_in'] = lmp_i.files['input']['in']\n",
    "    lmp_i.replacewrite_prop('run','scripts','run','%s.pbs'%(lmp_i.tag))\n",
    "    # Save json file in root directory\n",
    "    os.chdir(lmp_i.dir['home'])\n",
    "    lmp_i.dump_json()\n",
    "    # Run bash script or submit to cluster\n",
    "    lmp_i.add_file('output','log',\"%s.log\"%(lmp_i.tag))\n",
    "    # Save details in .json files \n",
    "    os.chdir(lmp_i.dir['home'])\n",
    "    project_i.dump_json()\n",
    "    #\n",
    "    os.chdir(lmp_i.dir['launch'])\n",
    "    lmp_i.push()\n",
    "    lmp_i.run()\n",
    "    # Add calculation to project\n",
    "    project_i.add_calc(lmp_i,deepcopy = True)\n",
    "    # \n",
    "    return project_i     "
   ]
  },
  {
   "cell_type": "code",
   "execution_count": 88,
   "metadata": {
    "collapsed": true
   },
   "outputs": [],
   "source": [
    "p3ht_et = lmp_run(p3ht_et,bbTh,oplsaa,peregrine)"
   ]
  },
  {
   "cell_type": "code",
   "execution_count": 91,
   "metadata": {},
   "outputs": [
    {
     "name": "stdout",
     "output_type": "stream",
     "text": [
      "Calculation nw_opt_thiophene has status stored\n",
      "Calculation nw_esp_thiophene has status stored\n",
      "Calculation lmp_min_thiophene_HFesp has status finished\n"
     ]
    }
   ],
   "source": [
    "p3ht_et.check()"
   ]
  },
  {
   "cell_type": "code",
   "execution_count": 92,
   "metadata": {},
   "outputs": [],
   "source": [
    "lmp_i = p3ht_et.calculations['lmp_min_thiophene_HFesp']"
   ]
  },
  {
   "cell_type": "code",
   "execution_count": 93,
   "metadata": {
    "collapsed": true
   },
   "outputs": [],
   "source": [
    "while( lmp_i.meta['status'] != 'finished'):\n",
    "    lmp_i.check()\n",
    "    time.sleep(30)"
   ]
  },
  {
   "cell_type": "code",
   "execution_count": 94,
   "metadata": {},
   "outputs": [
    {
     "name": "stdout",
     "output_type": "stream",
     "text": [
      ">  using mdrun with len 1 \n",
      " Adding thermo keys from line: Step Temp PotEng TotEng Press Volume Lx Ly Lz E_bond E_angle E_dihed E_impro E_vdwl E_coul E_long E_tail \n",
      " \n",
      "> col  0 ['0', '0', '15.561458', '15.561458', '-0.41725388', '1000000', '100', '100', '100', '7.427194', '3.7509599', '1.3385131e-08', '0', '-0.0096922366', '6.4990527', '-2.106056', '0']\n",
      "1 9823u  [0.0]\n",
      "> col  1 ['8', '0', '7.7390897', '7.7390897', '0.014795405', '1000000', '100', '100', '100', '0.1159939', '3.2559828', '6.2855569e-09', '0', '-0.0095402802', '6.4823882', '-2.1057349', '0']\n",
      "2 9823u  [0.0, 8.0]\n",
      " Calc 0 finished \n"
     ]
    }
   ],
   "source": [
    "lmp_i.analysis()"
   ]
  },
  {
   "cell_type": "markdown",
   "metadata": {},
   "source": [
    "Energy decreased and nothing exploded so that's good"
   ]
  },
  {
   "cell_type": "code",
   "execution_count": 95,
   "metadata": {
    "collapsed": true
   },
   "outputs": [],
   "source": [
    "lmp_i.store()"
   ]
  },
  {
   "cell_type": "markdown",
   "metadata": {},
   "source": [
    "Read in data file positions"
   ]
  },
  {
   "cell_type": "code",
   "execution_count": 96,
   "metadata": {
    "collapsed": true
   },
   "outputs": [],
   "source": [
    "lmp_i.pull()"
   ]
  },
  {
   "cell_type": "markdown",
   "metadata": {},
   "source": [
    "Read in data file output and update positions"
   ]
  },
  {
   "cell_type": "code",
   "execution_count": 97,
   "metadata": {},
   "outputs": [],
   "source": [
    "os.chdir(lmp_i.dir['launch'])"
   ]
  },
  {
   "cell_type": "code",
   "execution_count": 98,
   "metadata": {},
   "outputs": [
    {
     "name": "stdout",
     "output_type": "stream",
     "text": [
      "min1.data\n"
     ]
    }
   ],
   "source": [
    "datafn = lmp_i.files['output']['data_1']\n",
    "print datafn"
   ]
  },
  {
   "cell_type": "code",
   "execution_count": 99,
   "metadata": {},
   "outputs": [],
   "source": [
    "lmp_i.read_data_pos(datafn)"
   ]
  },
  {
   "cell_type": "code",
   "execution_count": 100,
   "metadata": {},
   "outputs": [
    {
     "name": "stdout",
     "output_type": "stream",
     "text": [
      "[[ 100.    0.    0.]\n",
      " [   0.  100.    0.]\n",
      " [   0.    0.  100.]]\n"
     ]
    }
   ],
   "source": [
    "print lmp_i.strucC.lat.matrix"
   ]
  },
  {
   "cell_type": "code",
   "execution_count": 101,
   "metadata": {
    "collapsed": true
   },
   "outputs": [],
   "source": [
    "lmp_i.strucC.write_xyz()"
   ]
  },
  {
   "cell_type": "markdown",
   "metadata": {},
   "source": [
    "We will use the oplsaa optimized structure as the initial structure since we will be running MD "
   ]
  },
  {
   "cell_type": "code",
   "execution_count": 102,
   "metadata": {
    "collapsed": true
   },
   "outputs": [],
   "source": [
    "bbTh.tag += '_oplsaa'"
   ]
  },
  {
   "cell_type": "code",
   "execution_count": 103,
   "metadata": {},
   "outputs": [
    {
     "name": "stdout",
     "output_type": "stream",
     "text": [
      "0 C [ -1.56850658e+00  -1.93711133e+00  -8.19780646e-04]\n",
      "1 C [ -1.72695359e-01  -1.89185129e+00  -1.07611882e-03]\n",
      "2 C [ 0.33799391 -0.59669555 -0.00062813]\n",
      "3 C [ -6.51208941e-01   3.89138825e-01  -1.66663637e-05]\n",
      "4 S [ -2.21175941e+00  -3.39473358e-01  -2.07718715e-05]\n",
      "5 H [ -2.16027375e+00  -2.84199163e+00  -1.06348227e-03]\n",
      "6 H [  4.46381156e-01  -2.77669572e+00  -1.58093342e-03]\n",
      "7 H [  1.39436421e+00  -3.72631413e-01  -7.41830240e-04]\n",
      "8 H [ -4.66133235e-01   1.45441847e+00   3.87708894e-04]\n"
     ]
    }
   ],
   "source": [
    "for pk,p in bbTh.particles.iteritems():\n",
    "    bbTh.positions[pk] = lmp_i.strucC.positions[pk]\n",
    "    print pk,p.symbol,bbTh.positions[pk]"
   ]
  },
  {
   "cell_type": "markdown",
   "metadata": {},
   "source": [
    "Save the Buildingblock and force-field"
   ]
  },
  {
   "cell_type": "code",
   "execution_count": 104,
   "metadata": {
    "collapsed": true
   },
   "outputs": [],
   "source": [
    "os.chdir(res_local.dir['materials']) \n",
    "bbTh.write_xyz()\n",
    "bbTh.dump_pickle() \n",
    "oplsaa.dump_pickle()"
   ]
  },
  {
   "cell_type": "markdown",
   "metadata": {},
   "source": [
    "Okay now that we have a handle on thiophene let's follow the same procedure for hexane"
   ]
  },
  {
   "cell_type": "markdown",
   "metadata": {},
   "source": [
    "Build hexane"
   ]
  },
  {
   "cell_type": "code",
   "execution_count": 105,
   "metadata": {},
   "outputs": [],
   "source": [
    "bbHex = streamm.Buildingblock('hexane')\n",
    "symbols = ['C','H','H','H','C','H','H','C','H','H','C','H','H','C','H','H','C','H','H','H']\n",
    "positions = [ ]\n",
    "positions.append([-6.410969,-0.381641,-0.000031])\n",
    "positions.append([-7.310084,0.245311,-0.000038])\n",
    "positions.append([-6.456117,-1.028799,0.884636])\n",
    "positions.append([-6.456111,-1.028812,-0.884689])\n",
    "positions.append([-5.135268,0.467175,-0.000033])\n",
    "positions.append([-5.135484,1.128782,0.877977])\n",
    "positions.append([-5.135479,1.128771,-0.87805])\n",
    "positions.append([-3.850566,-0.371258,-0.000024])\n",
    "positions.append([-3.85112,-1.033978,0.87841])\n",
    "positions.append([-3.851114,-1.033987,-0.878451])\n",
    "positions.append([-2.567451,0.469603,-0.000024])\n",
    "positions.append([-2.567784,1.132155,0.8784])\n",
    "positions.append([-2.567776,1.132146,-0.878455])\n",
    "positions.append([-1.283527,-0.370234,-0.000013])\n",
    "positions.append([-1.28337,-1.032804,0.87836])\n",
    "positions.append([-1.28336,-1.032812,-0.87838])\n",
    "positions.append([0.00482234,0.47342231,-0.00000898])\n",
    "positions.append([0.02595107,1.09220686,0.87266464])\n",
    "positions.append([0.85585781,-0.17514133,0.00194589])\n",
    "positions.append([0.02780957,1.08937798,-0.87463473])\n",
    "for i in range(len(symbols)):\n",
    "    pt_i = streamm.Particle(symbol=symbols[i])\n",
    "    pos_i = positions[i]\n",
    "    bbHex.add_partpos(pt_i,pos_i)"
   ]
  },
  {
   "cell_type": "code",
   "execution_count": 106,
   "metadata": {
    "collapsed": true
   },
   "outputs": [],
   "source": [
    "bbHex.particles[0].rsite = 'rg'\n",
    "bbHex.particles[1].rsite = 'rgcap'"
   ]
  },
  {
   "cell_type": "code",
   "execution_count": 107,
   "metadata": {
    "collapsed": true
   },
   "outputs": [],
   "source": [
    "c_cnt =1\n",
    "h_cnt =1\n",
    "for pkey_i, particle_i  in bbHex.particles.iteritems():\n",
    "            if( particle_i.symbol == 'C' ):\n",
    "                particle_i.label = \"C%d\"%(c_cnt)\n",
    "                particle_i.resname = \"SCP3\"\n",
    "                particle_i.residue = c_cnt\n",
    "                c_cnt +=1 \n",
    "            if( particle_i.symbol == 'H' ):\n",
    "                particle_i.label = \"H%d\"%(h_cnt)\n",
    "                particle_i.resname = \"HC\"\n",
    "                particle_i.residue = c_cnt -1 \n",
    "                h_cnt +=1 "
   ]
  },
  {
   "cell_type": "markdown",
   "metadata": {},
   "source": [
    "Set the parameter keys and some reasonable atomic charges "
   ]
  },
  {
   "cell_type": "code",
   "execution_count": 108,
   "metadata": {},
   "outputs": [
    {
     "name": "stdout",
     "output_type": "stream",
     "text": [
      "0 C -0.12\n",
      "1 H 0.06\n",
      "2 H 0.06\n",
      "3 H 0.06\n",
      "4 C -0.12\n",
      "5 H 0.06\n",
      "6 H 0.06\n",
      "7 C -0.12\n",
      "8 H 0.06\n",
      "9 H 0.06\n",
      "10 C -0.12\n",
      "11 H 0.06\n",
      "12 H 0.06\n",
      "13 C -0.12\n",
      "14 H 0.06\n",
      "15 H 0.06\n",
      "16 C -0.12\n",
      "17 H 0.06\n",
      "18 H 0.06\n",
      "19 H 0.06\n"
     ]
    }
   ],
   "source": [
    "for pkey_i, particle_i  in bbHex.particles.iteritems():\n",
    "            if( particle_i.symbol == 'C' ):\n",
    "                particle_i.paramkey = 'CT'\n",
    "                particle_i.charge = -0.12\n",
    "\n",
    "            if( particle_i.symbol == 'H' ):\n",
    "                particle_i.paramkey = 'HC'\n",
    "                particle_i.charge = 0.06\n",
    "            print pkey_i, particle_i.symbol,particle_i.charge"
   ]
  },
  {
   "cell_type": "code",
   "execution_count": 109,
   "metadata": {
    "collapsed": true
   },
   "outputs": [],
   "source": [
    "bbHex.particles[0].charge  = -0.18\n",
    "bbHex.particles[16].charge  = -0.18"
   ]
  },
  {
   "cell_type": "markdown",
   "metadata": {},
   "source": [
    "Check that the molecule is neutral "
   ]
  },
  {
   "cell_type": "code",
   "execution_count": 110,
   "metadata": {},
   "outputs": [
    {
     "name": "stdout",
     "output_type": "stream",
     "text": [
      "0.0\n"
     ]
    }
   ],
   "source": [
    "bbHex.calc_charge()\n",
    "print bbHex.charge\n"
   ]
  },
  {
   "cell_type": "markdown",
   "metadata": {},
   "source": [
    "Now let us optimze and calculate ESP charges for hexane"
   ]
  },
  {
   "cell_type": "markdown",
   "metadata": {},
   "source": [
    "Optimize structure with NWChem"
   ]
  },
  {
   "cell_type": "code",
   "execution_count": 111,
   "metadata": {},
   "outputs": [
    {
     "name": "stdout",
     "output_type": "stream",
     "text": [
      "nw_opt_hexane\n",
      "{u'allocation': 'orgopv',\n",
      " u'basis': '6-31g',\n",
      " u'charge': 0,\n",
      " 'comp_key': 'compressed',\n",
      " 'compress': 'tar -czf ',\n",
      " 'compress_sufix': 'tgz',\n",
      " 'coord': u'     C      -6.41096900      -0.38164100      -0.00003100 \\n     H      -7.31008400       0.24531100      -0.00003800 \\n     H      -6.45611700      -1.02879900       0.88463600 \\n     H      -6.45611100      -1.02881200      -0.88468900 \\n     C      -5.13526800       0.46717500      -0.00003300 \\n     H      -5.13548400       1.12878200       0.87797700 \\n     H      -5.13547900       1.12877100      -0.87805000 \\n     C      -3.85056600      -0.37125800      -0.00002400 \\n     H      -3.85112000      -1.03397800       0.87841000 \\n     H      -3.85111400      -1.03398700      -0.87845100 \\n     C      -2.56745100       0.46960300      -0.00002400 \\n     H      -2.56778400       1.13215500       0.87840000 \\n     H      -2.56777600       1.13214600      -0.87845500 \\n     C      -1.28352700      -0.37023400      -0.00001300 \\n     H      -1.28337000      -1.03280400       0.87836000 \\n     H      -1.28336000      -1.03281200      -0.87838000 \\n     C       0.00482234       0.47342231      -0.00000898 \\n     H       0.02595107       1.09220686       0.87266464 \\n     H       0.85585781      -0.17514133       0.00194589 \\n     H       0.02780957       1.08937798      -0.87463473 \\n',\n",
      " 'e-mail': 'travis.kemper@nrel.gov',\n",
      " u'exe_command': 'qsub ',\n",
      " u'feature': '24core',\n",
      " u'finish_str': u'Total times  cpu:',\n",
      " u'maxiter': 100,\n",
      " u'method': 'UHF',\n",
      " u'nodes': 1,\n",
      " u'nproc': 24,\n",
      " u'pmem': 1500,\n",
      " u'ppn': 24,\n",
      " u'queue': 'short',\n",
      " 'scratch': u'/scratch/tkemper/nw_opt_hexane/',\n",
      " u'spin_mult': 1,\n",
      " u'task': 'SCF optimize',\n",
      " 'uncompress': 'tar -xzf ',\n",
      " u'walltime': 4}\n"
     ]
    }
   ],
   "source": [
    "p3ht_et = nw_opt(p3ht_et,bbHex,peregrine)"
   ]
  },
  {
   "cell_type": "code",
   "execution_count": 112,
   "metadata": {
    "collapsed": true
   },
   "outputs": [],
   "source": [
    "nwchem_i = p3ht_et.calculations['nw_opt_hexane']"
   ]
  },
  {
   "cell_type": "code",
   "execution_count": 113,
   "metadata": {},
   "outputs": [
    {
     "name": "stdout",
     "output_type": "stream",
     "text": [
      "Calculation nw_opt_thiophene has status stored\n",
      "Calculation nw_opt_hexane has status finished\n",
      "Calculation nw_esp_thiophene has status stored\n",
      "Calculation lmp_min_thiophene_HFesp has status stored\n"
     ]
    }
   ],
   "source": [
    "p3ht_et.check()"
   ]
  },
  {
   "cell_type": "code",
   "execution_count": 114,
   "metadata": {
    "collapsed": true
   },
   "outputs": [],
   "source": [
    "while( nwchem_i.meta['status'] != 'finished'):\n",
    "    nwchem_i.check()\n",
    "    time.sleep(30)"
   ]
  },
  {
   "cell_type": "markdown",
   "metadata": {},
   "source": [
    "Get the calculation from the project object "
   ]
  },
  {
   "cell_type": "code",
   "execution_count": 115,
   "metadata": {
    "collapsed": true
   },
   "outputs": [],
   "source": [
    "nwchem_i.analysis()"
   ]
  },
  {
   "cell_type": "markdown",
   "metadata": {},
   "source": [
    "Print energies "
   ]
  },
  {
   "cell_type": "code",
   "execution_count": 116,
   "metadata": {},
   "outputs": [
    {
     "name": "stdout",
     "output_type": "stream",
     "text": [
      "[-0.5549424, -0.5282407, -0.5218841, -0.4996812, -0.4774207, -0.4626707, -0.453462, -0.4506618, -0.4351213, 0.2272358]\n",
      "-235.271544533\n"
     ]
    }
   ],
   "source": [
    "print nwchem_i.properties['alpha_energies'][10:20]\n",
    "print nwchem_i.properties['energy']"
   ]
  },
  {
   "cell_type": "markdown",
   "metadata": {},
   "source": [
    "Check that the positions of the structure have been optimized "
   ]
  },
  {
   "cell_type": "code",
   "execution_count": 117,
   "metadata": {},
   "outputs": [
    {
     "name": "stdout",
     "output_type": "stream",
     "text": [
      "0 C [ -6.41096900e+00  -3.81641000e-01  -3.10000000e-05]\n",
      "1 H [ -7.31008400e+00   2.45311000e-01  -3.80000000e-05]\n",
      "2 H [-6.456117 -1.028799  0.884636]\n",
      "3 H [-6.456111 -1.028812 -0.884689]\n",
      "4 C [ -5.13526800e+00   4.67175000e-01  -3.30000000e-05]\n",
      "5 H [-5.135484  1.128782  0.877977]\n",
      "6 H [-5.135479  1.128771 -0.87805 ]\n",
      "7 C [ -3.85056600e+00  -3.71258000e-01  -2.40000000e-05]\n",
      "8 H [-3.85112  -1.033978  0.87841 ]\n",
      "9 H [-3.851114 -1.033987 -0.878451]\n",
      "10 C [ -2.56745100e+00   4.69603000e-01  -2.40000000e-05]\n",
      "11 H [-2.567784  1.132155  0.8784  ]\n",
      "12 H [-2.567776  1.132146 -0.878455]\n",
      "13 C [ -1.28352700e+00  -3.70234000e-01  -1.30000000e-05]\n",
      "14 H [-1.28337  -1.032804  0.87836 ]\n",
      "15 H [-1.28336  -1.032812 -0.87838 ]\n",
      "16 C [  4.82234000e-03   4.73422310e-01  -8.98000000e-06]\n",
      "17 H [ 0.02595107  1.09220686  0.87266464]\n",
      "18 H [ 0.85585781 -0.17514133  0.00194589]\n",
      "19 H [ 0.02780957  1.08937798 -0.87463473]\n"
     ]
    }
   ],
   "source": [
    "for pk,p in bbHex.particles.iteritems():\n",
    "    print pk,p.symbol,bbHex.positions[pk]"
   ]
  },
  {
   "cell_type": "code",
   "execution_count": 118,
   "metadata": {},
   "outputs": [
    {
     "name": "stdout",
     "output_type": "stream",
     "text": [
      "[[ -6.40750762e+00  -3.78941310e-01   8.30000000e-05]\n",
      " [ -7.29448449e+00   2.45127750e-01   5.62800000e-05]\n",
      " [ -6.45193908e+00  -1.01758154e+00   8.76500040e-01]\n",
      " [ -6.45197460e+00  -1.01745854e+00  -8.76478090e-01]\n",
      " [ -5.13182505e+00   4.68119640e-01  -6.50000000e-05]\n",
      " [ -5.13091402e+00   1.11971673e+00   8.70324080e-01]\n",
      " [ -5.13105703e+00   1.11999962e+00  -8.70174540e-01]\n",
      " [ -3.85231426e+00  -3.76547740e-01  -1.51500000e-04]\n",
      " [ -3.85429686e+00  -1.02900998e+00   8.70741900e-01]\n",
      " [ -3.85450793e+00  -1.02893523e+00  -8.71125770e-01]\n",
      " [ -2.57086437e+00   4.64412850e-01  -2.81100000e-04]\n",
      " [ -2.56884445e+00   1.11696110e+00   8.70553460e-01]\n",
      " [ -2.56867366e+00   1.11643763e+00  -8.71531770e-01]\n",
      " [ -1.29162753e+00  -3.80799080e-01   7.62400000e-05]\n",
      " [ -1.29298825e+00  -1.03220376e+00   8.70585790e-01]\n",
      " [ -1.29272517e+00  -1.03283169e+00  -8.69927870e-01]\n",
      " [ -1.53392500e-02   4.65289770e-01   9.87000000e-05]\n",
      " [  2.92311200e-02   1.10464997e+00   8.75968970e-01]\n",
      " [  8.71006270e-01  -1.59696220e-01   1.39597000e-03]\n",
      " [  3.05070100e-02   1.10277385e+00  -8.77086970e-01]]\n"
     ]
    }
   ],
   "source": [
    "print nwchem_i.strucC.positions"
   ]
  },
  {
   "cell_type": "markdown",
   "metadata": {},
   "source": [
    "Update positions in Buildingblock object"
   ]
  },
  {
   "cell_type": "code",
   "execution_count": 119,
   "metadata": {},
   "outputs": [
    {
     "name": "stdout",
     "output_type": "stream",
     "text": [
      "0 C [ -6.40750762e+00  -3.78941310e-01   8.30000000e-05]\n",
      "1 H [ -7.29448449e+00   2.45127750e-01   5.62800000e-05]\n",
      "2 H [-6.45193908 -1.01758154  0.87650004]\n",
      "3 H [-6.4519746  -1.01745854 -0.87647809]\n",
      "4 C [ -5.13182505e+00   4.68119640e-01  -6.50000000e-05]\n",
      "5 H [-5.13091402  1.11971673  0.87032408]\n",
      "6 H [-5.13105703  1.11999962 -0.87017454]\n",
      "7 C [ -3.85231426e+00  -3.76547740e-01  -1.51500000e-04]\n",
      "8 H [-3.85429686 -1.02900998  0.8707419 ]\n",
      "9 H [-3.85450793 -1.02893523 -0.87112577]\n",
      "10 C [ -2.57086437e+00   4.64412850e-01  -2.81100000e-04]\n",
      "11 H [-2.56884445  1.1169611   0.87055346]\n",
      "12 H [-2.56867366  1.11643763 -0.87153177]\n",
      "13 C [ -1.29162753e+00  -3.80799080e-01   7.62400000e-05]\n",
      "14 H [-1.29298825 -1.03220376  0.87058579]\n",
      "15 H [-1.29272517 -1.03283169 -0.86992787]\n",
      "16 C [ -1.53392500e-02   4.65289770e-01   9.87000000e-05]\n",
      "17 H [ 0.02923112  1.10464997  0.87596897]\n",
      "18 H [ 0.87100627 -0.15969622  0.00139597]\n",
      "19 H [ 0.03050701  1.10277385 -0.87708697]\n"
     ]
    }
   ],
   "source": [
    "for pk,p in bbHex.particles.iteritems():\n",
    "    bbHex.positions[pk] = nwchem_i.strucC.positions[pk]\n",
    "    print pk,p.symbol,bbHex.positions[pk]"
   ]
  },
  {
   "cell_type": "markdown",
   "metadata": {},
   "source": [
    "Store the results in a tar ball in the storage directory "
   ]
  },
  {
   "cell_type": "code",
   "execution_count": 120,
   "metadata": {
    "collapsed": true
   },
   "outputs": [],
   "source": [
    "nwchem_i.store()"
   ]
  },
  {
   "cell_type": "markdown",
   "metadata": {},
   "source": [
    "Now let us calculate the ESP charges to use in our forcefield "
   ]
  },
  {
   "cell_type": "code",
   "execution_count": 121,
   "metadata": {
    "scrolled": true
   },
   "outputs": [
    {
     "name": "stdout",
     "output_type": "stream",
     "text": [
      "nw_esp_hexane\n",
      "{u'allocation': 'orgopv',\n",
      " u'basis': '6-31g',\n",
      " u'charge': 0,\n",
      " 'comp_key': 'compressed',\n",
      " 'compress': 'tar -czf ',\n",
      " 'compress_sufix': 'tgz',\n",
      " 'coord': u'     C      -6.40750762      -0.37894131       0.00008300 \\n     H      -7.29448449       0.24512775       0.00005628 \\n     H      -6.45193908      -1.01758154       0.87650004 \\n     H      -6.45197460      -1.01745854      -0.87647809 \\n     C      -5.13182505       0.46811964      -0.00006500 \\n     H      -5.13091402       1.11971673       0.87032408 \\n     H      -5.13105703       1.11999962      -0.87017454 \\n     C      -3.85231426      -0.37654774      -0.00015150 \\n     H      -3.85429686      -1.02900998       0.87074190 \\n     H      -3.85450793      -1.02893523      -0.87112577 \\n     C      -2.57086437       0.46441285      -0.00028110 \\n     H      -2.56884445       1.11696110       0.87055346 \\n     H      -2.56867366       1.11643763      -0.87153177 \\n     C      -1.29162753      -0.38079908       0.00007624 \\n     H      -1.29298825      -1.03220376       0.87058579 \\n     H      -1.29272517      -1.03283169      -0.86992787 \\n     C      -0.01533925       0.46528977       0.00009870 \\n     H       0.02923112       1.10464997       0.87596897 \\n     H       0.87100627      -0.15969622       0.00139597 \\n     H       0.03050701       1.10277385      -0.87708697 \\n',\n",
      " 'e-mail': 'travis.kemper@nrel.gov',\n",
      " u'exe_command': 'qsub ',\n",
      " u'feature': '24core',\n",
      " u'finish_str': u'Total times  cpu:',\n",
      " u'maxiter': 100,\n",
      " u'method': 'UHF',\n",
      " u'nodes': 1,\n",
      " u'nproc': 24,\n",
      " u'pmem': 1500,\n",
      " u'ppn': 24,\n",
      " u'queue': 'short',\n",
      " 'scratch': u'/scratch/tkemper/nw_esp_hexane/',\n",
      " u'spin_mult': 1,\n",
      " u'task': 'SCF',\n",
      " 'uncompress': 'tar -xzf ',\n",
      " u'walltime': 4}\n"
     ]
    }
   ],
   "source": [
    "p3ht_et = nw_esp(p3ht_et,bbHex,peregrine)"
   ]
  },
  {
   "cell_type": "markdown",
   "metadata": {},
   "source": [
    "Check status unit finished"
   ]
  },
  {
   "cell_type": "code",
   "execution_count": 122,
   "metadata": {},
   "outputs": [
    {
     "name": "stdout",
     "output_type": "stream",
     "text": [
      "Calculation nw_esp_thiophene has status stored\n",
      "Calculation nw_opt_thiophene has status stored\n",
      "Calculation nw_opt_hexane has status stored\n",
      "Calculation nw_esp_hexane has status finished\n",
      "Calculation lmp_min_thiophene_HFesp has status stored\n"
     ]
    }
   ],
   "source": [
    "p3ht_et.check()"
   ]
  },
  {
   "cell_type": "code",
   "execution_count": 123,
   "metadata": {
    "collapsed": true
   },
   "outputs": [],
   "source": [
    "nwchem_i = p3ht_et.calculations['nw_esp_hexane']"
   ]
  },
  {
   "cell_type": "code",
   "execution_count": 124,
   "metadata": {
    "collapsed": true
   },
   "outputs": [],
   "source": [
    "while( nwchem_i.meta['status'] != 'finished'):\n",
    "    nwchem_i.check()\n",
    "    time.sleep(30)"
   ]
  },
  {
   "cell_type": "code",
   "execution_count": 125,
   "metadata": {
    "collapsed": true
   },
   "outputs": [],
   "source": [
    "nwchem_i.analysis()"
   ]
  },
  {
   "cell_type": "code",
   "execution_count": 126,
   "metadata": {},
   "outputs": [
    {
     "name": "stdout",
     "output_type": "stream",
     "text": [
      "0 C -0.137406\n",
      "1 H 0.022481\n",
      "2 H 0.019202\n",
      "3 H 0.021423\n",
      "4 C 0.214364\n",
      "5 H -0.058309\n",
      "6 H -0.057191\n",
      "7 C 0.026594\n",
      "8 H -0.024478\n",
      "9 H -0.025364\n",
      "10 C 0.015872\n",
      "11 H -0.026019\n",
      "12 H -0.023734\n",
      "13 C 0.217804\n",
      "14 H -0.058497\n",
      "15 H -0.0634\n",
      "16 C -0.078465\n",
      "17 H 0.002322\n",
      "18 H 0.004172\n",
      "19 H 0.008631\n"
     ]
    }
   ],
   "source": [
    "for pk,p in nwchem_i.strucC.particles.iteritems():\n",
    "    print pk,p.symbol,p.charge"
   ]
  },
  {
   "cell_type": "code",
   "execution_count": 127,
   "metadata": {},
   "outputs": [
    {
     "name": "stdout",
     "output_type": "stream",
     "text": [
      "2e-06\n"
     ]
    }
   ],
   "source": [
    "nwchem_i.strucC.calc_charge()\n",
    "print nwchem_i.strucC.charge"
   ]
  },
  {
   "cell_type": "markdown",
   "metadata": {},
   "source": [
    "Print energies "
   ]
  },
  {
   "cell_type": "code",
   "execution_count": 128,
   "metadata": {},
   "outputs": [
    {
     "name": "stdout",
     "output_type": "stream",
     "text": [
      "[-0.5549424, -0.5282407, -0.5218841, -0.4996812, -0.4774207, -0.4626707, -0.453462, -0.4506618, -0.4351213, 0.2272358]\n",
      "-235.269664311\n"
     ]
    }
   ],
   "source": [
    "print nwchem_i.properties['alpha_energies'][10:20]\n",
    "print nwchem_i.properties['energy']"
   ]
  },
  {
   "cell_type": "markdown",
   "metadata": {},
   "source": [
    "Update the charges of the Buildingblock"
   ]
  },
  {
   "cell_type": "code",
   "execution_count": 129,
   "metadata": {
    "collapsed": true
   },
   "outputs": [],
   "source": [
    "for pk,p in bbHex.particles.iteritems():\n",
    "    p.charge = nwchem_i.strucC.particles[pk].charge"
   ]
  },
  {
   "cell_type": "code",
   "execution_count": 130,
   "metadata": {
    "collapsed": true
   },
   "outputs": [],
   "source": [
    "bbHex.tag += '_HFesp'"
   ]
  },
  {
   "cell_type": "markdown",
   "metadata": {},
   "source": [
    "Store the results "
   ]
  },
  {
   "cell_type": "code",
   "execution_count": 131,
   "metadata": {
    "collapsed": true
   },
   "outputs": [],
   "source": [
    "nwchem_i.store()"
   ]
  },
  {
   "cell_type": "markdown",
   "metadata": {},
   "source": [
    "First we need to identify the bonding within the Buildingblock"
   ]
  },
  {
   "cell_type": "code",
   "execution_count": 132,
   "metadata": {
    "collapsed": true
   },
   "outputs": [],
   "source": [
    "bbHex.bonded_nblist = bbHex.guess_nblist(0,radii_buffer=1.35)"
   ]
  },
  {
   "cell_type": "code",
   "execution_count": 133,
   "metadata": {
    "collapsed": true
   },
   "outputs": [],
   "source": [
    "bbHex.bonded_bonds()\n",
    "bbHex.bonded_angles()\n",
    "bbHex.bonded_dih()"
   ]
  },
  {
   "cell_type": "markdown",
   "metadata": {},
   "source": [
    "Add the need parameters the the oplsaa parameter container"
   ]
  },
  {
   "cell_type": "code",
   "execution_count": 134,
   "metadata": {
    "collapsed": true
   },
   "outputs": [],
   "source": [
    "bat_i = angletype.Angletype('CT','CT','CT',unit_conf=oplsaa.unit_conf)\n",
    "bat_i.setharmonic(109.50,40.0)\n",
    "oplsaa.add_angletype(bat_i)"
   ]
  },
  {
   "cell_type": "code",
   "execution_count": 135,
   "metadata": {
    "collapsed": true
   },
   "outputs": [],
   "source": [
    "bat_i = angletype.Angletype('CT','CT','CT',unit_conf=oplsaa.unit_conf)\n",
    "bat_i.setharmonic(109.50,40.0)\n",
    "oplsaa.add_angletype(bat_i)"
   ]
  },
  {
   "cell_type": "code",
   "execution_count": 136,
   "metadata": {
    "collapsed": true
   },
   "outputs": [],
   "source": [
    "bat_i = angletype.Angletype('CT','CT','HC',unit_conf=oplsaa.unit_conf)\n",
    "bat_i.setharmonic(109.50,50.0)\n",
    "oplsaa.add_angletype(bat_i)"
   ]
  },
  {
   "cell_type": "code",
   "execution_count": 137,
   "metadata": {
    "collapsed": true
   },
   "outputs": [],
   "source": [
    "dih_i = dihtype.Dihtype('CT','CT','CT','CT',unit_conf=oplsaa.unit_conf)\n",
    "dih_i.type ='opls'\n",
    "dih_i.setopls(0.433341,-0.016667,0.066668,0.0)\n",
    "oplsaa.add_dihtype(dih_i)"
   ]
  },
  {
   "cell_type": "code",
   "execution_count": 138,
   "metadata": {
    "collapsed": true
   },
   "outputs": [],
   "source": [
    "dih_i = dihtype.Dihtype('HC','CT','CT','CT',unit_conf=oplsaa.unit_conf)\n",
    "dih_i.type ='opls'\n",
    "dih_i.setopls(0.0,-0.0,0.1,0.0)\n",
    "oplsaa.add_dihtype(dih_i)"
   ]
  },
  {
   "cell_type": "code",
   "execution_count": 139,
   "metadata": {
    "collapsed": true
   },
   "outputs": [],
   "source": [
    "dih_i = dihtype.Dihtype('HC','CT','CT','HC',unit_conf=oplsaa.unit_conf)\n",
    "dih_i.type ='opls'\n",
    "dih_i.setopls(0.0,-0.0,0.1,0.0)\n",
    "oplsaa.add_dihtype(dih_i)"
   ]
  },
  {
   "cell_type": "markdown",
   "metadata": {},
   "source": [
    "Run a oplsaa minimization to get the minimized structure"
   ]
  },
  {
   "cell_type": "code",
   "execution_count": 140,
   "metadata": {
    "collapsed": true
   },
   "outputs": [],
   "source": [
    "p3ht_et = lmp_run(p3ht_et,bbHex,oplsaa,peregrine)"
   ]
  },
  {
   "cell_type": "code",
   "execution_count": 141,
   "metadata": {},
   "outputs": [
    {
     "name": "stdout",
     "output_type": "stream",
     "text": [
      "Calculation lmp_min_hexane_HFesp has status finished\n",
      "Calculation nw_esp_thiophene has status stored\n",
      "Calculation nw_opt_thiophene has status stored\n",
      "Calculation nw_opt_hexane has status stored\n",
      "Calculation nw_esp_hexane has status stored\n",
      "Calculation lmp_min_thiophene_HFesp has status stored\n"
     ]
    }
   ],
   "source": [
    "p3ht_et.check()"
   ]
  },
  {
   "cell_type": "code",
   "execution_count": 142,
   "metadata": {},
   "outputs": [],
   "source": [
    "lmp_i = p3ht_et.calculations['lmp_min_hexane_HFesp']"
   ]
  },
  {
   "cell_type": "code",
   "execution_count": 143,
   "metadata": {
    "collapsed": true
   },
   "outputs": [],
   "source": [
    "while( lmp_i.meta['status'] != 'finished'):\n",
    "    lmp_i.check()\n",
    "    time.sleep(30)"
   ]
  },
  {
   "cell_type": "code",
   "execution_count": 144,
   "metadata": {},
   "outputs": [
    {
     "name": "stdout",
     "output_type": "stream",
     "text": [
      ">  using mdrun with len 1 \n",
      " Adding thermo keys from line: Step Temp PotEng TotEng Press Volume Lx Ly Lz E_bond E_angle E_dihed E_impro E_vdwl E_coul E_long E_tail \n",
      " \n",
      "> col  0 ['0', '0', '1.8044261', '1.8044261', '-3.8472074', '1000000', '100', '100', '100', '1.6434081', '2.3469716', '0.016475279', '0', '-0.77165073', '-0.33073368', '-1.1000445', '0']\n",
      "1 9823u  [0.0]\n",
      "> col  1 ['21', '0', '-2.0833504', '-2.0833504', '-0.023536923', '1000000', '100', '100', '100', '0.00081443131', '0.092428186', '0.00060974914', '0', '-0.70793952', '-0.36921807', '-1.1000452', '0']\n",
      "2 9823u  [0.0, 21.0]\n",
      " Calc 0 finished \n"
     ]
    }
   ],
   "source": [
    "lmp_i.analysis()"
   ]
  },
  {
   "cell_type": "markdown",
   "metadata": {},
   "source": [
    "Energy decreased and nothing exploded so that's good"
   ]
  },
  {
   "cell_type": "code",
   "execution_count": 145,
   "metadata": {
    "collapsed": true
   },
   "outputs": [],
   "source": [
    "lmp_i.store()"
   ]
  },
  {
   "cell_type": "markdown",
   "metadata": {},
   "source": [
    "Read in data file positions"
   ]
  },
  {
   "cell_type": "code",
   "execution_count": 146,
   "metadata": {
    "collapsed": true
   },
   "outputs": [],
   "source": [
    "lmp_i.pull()"
   ]
  },
  {
   "cell_type": "markdown",
   "metadata": {},
   "source": [
    "Read in data file output and update positions"
   ]
  },
  {
   "cell_type": "code",
   "execution_count": 147,
   "metadata": {},
   "outputs": [
    {
     "name": "stdout",
     "output_type": "stream",
     "text": [
      "/Users/tkemper/Development/streamm-tools/examples/scratch/lmp_min_hexane_HFesp/\n"
     ]
    }
   ],
   "source": [
    "print lmp_i.dir['launch']\n",
    "os.chdir(lmp_i.dir['launch'])"
   ]
  },
  {
   "cell_type": "code",
   "execution_count": 148,
   "metadata": {},
   "outputs": [
    {
     "name": "stdout",
     "output_type": "stream",
     "text": [
      "min1.data\n"
     ]
    }
   ],
   "source": [
    "datafn = lmp_i.files['output']['data_1']\n",
    "print datafn"
   ]
  },
  {
   "cell_type": "code",
   "execution_count": 149,
   "metadata": {},
   "outputs": [],
   "source": [
    "lmp_i.read_data_pos(datafn)"
   ]
  },
  {
   "cell_type": "code",
   "execution_count": 150,
   "metadata": {},
   "outputs": [
    {
     "name": "stdout",
     "output_type": "stream",
     "text": [
      "[[ 100.    0.    0.]\n",
      " [   0.  100.    0.]\n",
      " [   0.    0.  100.]]\n"
     ]
    }
   ],
   "source": [
    "print lmp_i.strucC.lat.matrix"
   ]
  },
  {
   "cell_type": "code",
   "execution_count": 151,
   "metadata": {
    "collapsed": true
   },
   "outputs": [],
   "source": [
    "lmp_i.strucC.write_xyz()"
   ]
  },
  {
   "cell_type": "markdown",
   "metadata": {},
   "source": [
    "We will use the oplsaa optimized structure as the initial structure since we will be running MD "
   ]
  },
  {
   "cell_type": "code",
   "execution_count": 152,
   "metadata": {
    "collapsed": true
   },
   "outputs": [],
   "source": [
    "bbHex.tag += '_oplsaa'"
   ]
  },
  {
   "cell_type": "code",
   "execution_count": 153,
   "metadata": {},
   "outputs": [
    {
     "name": "stdout",
     "output_type": "stream",
     "text": [
      "0 C [ -6.33961563e+00  -3.84029758e-01  -9.36793194e-05]\n",
      "1 H [ -7.21071535e+00   2.53958563e-01  -1.57245799e-04]\n",
      "2 H [-6.3389859  -1.00317432  0.88481323]\n",
      "3 H [-6.33884095 -1.00318683 -0.88498142]\n",
      "4 C [ -5.08510118e+00   4.92841405e-01   3.16202424e-05]\n",
      "5 H [-5.08483461  1.10882065  0.88720349]\n",
      "6 H [-5.08469358  1.10892424 -0.8870928 ]\n",
      "7 C [ -3.83775272e+00  -3.93385015e-01   1.18893697e-05]\n",
      "8 H [-3.84057429 -1.01005518  0.88659882]\n",
      "9 H [-3.84079499 -1.01017367 -0.88646771]\n",
      "10 C [ -2.58473126e+00   4.86784575e-01  -1.50193858e-04]\n",
      "11 H [-2.58053383  1.10271007  0.88688689]\n",
      "12 H [-2.5805873   1.10234784 -0.88746998]\n",
      "13 C [ -1.34080647e+00  -4.04021085e-01   7.44527472e-05]\n",
      "14 H [-1.34377695 -1.02044777  0.88687466]\n",
      "15 H [-1.34362069 -1.02070799 -0.88652601]\n",
      "16 C [ -8.15788080e-02   4.66727818e-01   2.43589768e-05]\n",
      "17 H [-0.08044529  1.08688446  0.88413738]\n",
      "18 H [ 0.78610897 -0.1761435   0.00138534]\n",
      "19 H [-0.07925816  1.0848095  -0.88554109]\n"
     ]
    }
   ],
   "source": [
    "for pk,p in bbHex.particles.iteritems():\n",
    "    bbHex.positions[pk] = lmp_i.strucC.positions[pk]\n",
    "    print pk,p.symbol,bbHex.positions[pk]"
   ]
  },
  {
   "cell_type": "markdown",
   "metadata": {},
   "source": [
    "Save the Buildingblock and force-field"
   ]
  },
  {
   "cell_type": "code",
   "execution_count": 154,
   "metadata": {
    "collapsed": true
   },
   "outputs": [],
   "source": [
    "os.chdir(res_local.dir['materials']) \n",
    "bbHex.write_xyz()\n",
    "bbHex.dump_pickle() \n",
    "oplsaa.dump_pickle()"
   ]
  },
  {
   "cell_type": "code",
   "execution_count": 155,
   "metadata": {},
   "outputs": [
    {
     "name": "stdout",
     "output_type": "stream",
     "text": [
      "hexane_HFesp_oplsaa thiophene_HFesp_oplsaa\n"
     ]
    }
   ],
   "source": [
    "print bbHex.tag,bbTh.tag"
   ]
  },
  {
   "cell_type": "markdown",
   "metadata": {},
   "source": [
    "So let us make some P3HT oligomers "
   ]
  },
  {
   "cell_type": "code",
   "execution_count": 156,
   "metadata": {
    "collapsed": true
   },
   "outputs": [],
   "source": [
    "os.chdir(res_local.dir['materials']) "
   ]
  },
  {
   "cell_type": "code",
   "execution_count": 157,
   "metadata": {
    "collapsed": true
   },
   "outputs": [],
   "source": [
    "bbTh.find_rsites()\n",
    "bbHex.find_rsites()"
   ]
  },
  {
   "cell_type": "code",
   "execution_count": 158,
   "metadata": {},
   "outputs": [
    {
     "name": "stdout",
     "output_type": "stream",
     "text": [
      "rsite:termcap[ paticle:atom[5] H1 (H) index:5 n_bonds:1] \n",
      "rsite:termcap[ paticle:atom[8] H4 (H) index:8 n_bonds:1] \n",
      "rsite:funccap[ paticle:atom[6] H2 (H) index:6 n_bonds:1] \n",
      "\n"
     ]
    }
   ],
   "source": [
    "print(bbTh.show_rsites())"
   ]
  },
  {
   "cell_type": "code",
   "execution_count": 159,
   "metadata": {},
   "outputs": [
    {
     "name": "stdout",
     "output_type": "stream",
     "text": [
      "rsite:rg[ paticle:atom[0] C1 (C) index:0 n_bonds:4] \n",
      "rsite:rgcap[ paticle:atom[1] H1 (H) index:1 n_bonds:1] \n",
      "\n"
     ]
    }
   ],
   "source": [
    "print(bbHex.show_rsites())"
   ]
  },
  {
   "cell_type": "code",
   "execution_count": 160,
   "metadata": {
    "collapsed": true
   },
   "outputs": [],
   "source": [
    "import streamm.structures.buildingblock as bb"
   ]
  },
  {
   "cell_type": "code",
   "execution_count": 161,
   "metadata": {
    "collapsed": true
   },
   "outputs": [],
   "source": [
    "ht = bb.attach(bbTh,bbHex,'funccap',0,'rgcap',0,tag='3-hexyl-thiophene')"
   ]
  },
  {
   "cell_type": "markdown",
   "metadata": {},
   "source": [
    "Update bond angles and dihedrals after Buildingblock join"
   ]
  },
  {
   "cell_type": "code",
   "execution_count": 162,
   "metadata": {
    "collapsed": true
   },
   "outputs": [],
   "source": [
    "ht.bonded_bonds()\n",
    "ht.bonded_angles()\n",
    "ht.bonded_dih()"
   ]
  },
  {
   "cell_type": "markdown",
   "metadata": {},
   "source": [
    "Check that the molecule looks good"
   ]
  },
  {
   "cell_type": "code",
   "execution_count": 163,
   "metadata": {
    "collapsed": true
   },
   "outputs": [],
   "source": [
    "ht.write_xyz()"
   ]
  },
  {
   "cell_type": "markdown",
   "metadata": {},
   "source": [
    "Check the charges of the removed hydrogens got summed onto the functionalized carbons correctly"
   ]
  },
  {
   "cell_type": "code",
   "execution_count": 164,
   "metadata": {},
   "outputs": [
    {
     "data": {
      "text/plain": [
       "1.0000000000287557e-06"
      ]
     },
     "execution_count": 164,
     "metadata": {},
     "output_type": "execute_result"
    }
   ],
   "source": [
    "ht.calc_charge()\n",
    "ht.charge"
   ]
  },
  {
   "cell_type": "code",
   "execution_count": 165,
   "metadata": {},
   "outputs": [
    {
     "name": "stdout",
     "output_type": "stream",
     "text": [
      "rsite:termcap[ paticle:atom[5] H1 (H) index:5 n_bonds:1] \n",
      "rsite:termcap[ paticle:atom[7] H4 (H) index:7 n_bonds:1] \n",
      "rsite:rg[ paticle:atom[8] C1 (C) index:8 n_bonds:4] \n",
      "\n"
     ]
    }
   ],
   "source": [
    "print(ht.show_rsites())"
   ]
  },
  {
   "cell_type": "markdown",
   "metadata": {},
   "source": [
    "Add inter thiophene hexane parameters"
   ]
  },
  {
   "cell_type": "code",
   "execution_count": 166,
   "metadata": {
    "collapsed": true
   },
   "outputs": [],
   "source": [
    "bt_i = bondtype.Bondtype('CT','CA',unit_conf=oplsaa.unit_conf)\n",
    "bt_i.setharmonic(1.51,317.0)\n",
    "oplsaa.add_bondtype(bt_i)"
   ]
  },
  {
   "cell_type": "markdown",
   "metadata": {},
   "source": [
    "Bond angle parameters "
   ]
  },
  {
   "cell_type": "code",
   "execution_count": 167,
   "metadata": {
    "collapsed": true
   },
   "outputs": [],
   "source": [
    "bat_i = angletype.Angletype('CA','CA','CT',unit_conf=oplsaa.unit_conf)\n",
    "bat_i.setharmonic(120.0,70.0)\n",
    "oplsaa.add_angletype(bat_i)\n",
    "\n",
    "\n",
    "bat_i = angletype.Angletype('HA','CA','CT',unit_conf=oplsaa.unit_conf)\n",
    "bat_i.setharmonic(120.0,35.0)\n",
    "oplsaa.add_angletype(bat_i)\n",
    "\n",
    "\n",
    "\n",
    "bat_i = angletype.Angletype('CA','CT','HC',unit_conf=oplsaa.unit_conf)\n",
    "bat_i.setharmonic(109.5,50.0)\n",
    "oplsaa.add_angletype(bat_i)\n",
    "\n",
    "bat_i = angletype.Angletype('CA','CT','CT',unit_conf=oplsaa.unit_conf)\n",
    "bat_i.setharmonic(114.0,63.0)\n",
    "oplsaa.add_angletype(bat_i)"
   ]
  },
  {
   "cell_type": "code",
   "execution_count": 168,
   "metadata": {},
   "outputs": [
    {
     "name": "stdout",
     "output_type": "stream",
     "text": [
      "0  angle  HC - CT - HC type harmonic \n",
      "  harmonic theta_0 = 110.700000 K = 37.500000 lammps index 0  gromacs index 0  \n",
      "1  angle  HC - CT - CT type harmonic \n",
      "  harmonic theta_0 = 110.700000 K = 37.500000 lammps index 0  gromacs index 0  \n",
      "2  angle  CA - CA - CA type harmonic \n",
      "  harmonic theta_0 = 120.000000 K = 63.000000 lammps index 0  gromacs index 0  \n",
      "3  angle  CA - CA - HA type harmonic \n",
      "  harmonic theta_0 = 120.000000 K = 35.000000 lammps index 0  gromacs index 0  \n",
      "4  angle  CA - S - CA type harmonic \n",
      "  harmonic theta_0 = 92.200000 K = 70.000000 lammps index 0  gromacs index 0  \n",
      "5  angle  S - CA - HA type harmonic \n",
      "  harmonic theta_0 = 120.000000 K = 35.000000 lammps index 0  gromacs index 0  \n",
      "6  angle  S - CA - CA type harmonic \n",
      "  harmonic theta_0 = 111.000000 K = 70.000000 lammps index 0  gromacs index 0  \n",
      "7  angle  CT - CT - CT type harmonic \n",
      "  harmonic theta_0 = 109.500000 K = 40.000000 lammps index 0  gromacs index 0  \n",
      "8  angle  CT - CT - CT type harmonic \n",
      "  harmonic theta_0 = 109.500000 K = 40.000000 lammps index 0  gromacs index 0  \n",
      "9  angle  CT - CT - HC type harmonic \n",
      "  harmonic theta_0 = 109.500000 K = 50.000000 lammps index 0  gromacs index 0  \n",
      "10  angle  CA - CA - CT type harmonic \n",
      "  harmonic theta_0 = 120.000000 K = 70.000000 lammps index 0  gromacs index 0  \n",
      "11  angle  HA - CA - CT type harmonic \n",
      "  harmonic theta_0 = 120.000000 K = 35.000000 lammps index 0  gromacs index 0  \n",
      "12  angle  CA - CT - HC type harmonic \n",
      "  harmonic theta_0 = 109.500000 K = 50.000000 lammps index 0  gromacs index 0  \n",
      "13  angle  CA - CT - CT type harmonic \n",
      "  harmonic theta_0 = 114.000000 K = 63.000000 lammps index 0  gromacs index 0  \n"
     ]
    }
   ],
   "source": [
    "for atk,at in oplsaa.angletypes.iteritems():\n",
    "    print atk,at"
   ]
  },
  {
   "cell_type": "markdown",
   "metadata": {},
   "source": [
    "Note: The inter-ring torsional is not consider as a seperate set of parameters for the simplicity of this example"
   ]
  },
  {
   "cell_type": "code",
   "execution_count": 169,
   "metadata": {
    "collapsed": true
   },
   "outputs": [],
   "source": [
    "dih_i = dihtype.Dihtype('HC','CT','CT','CA',unit_conf=oplsaa.unit_conf)\n",
    "dih_i.type ='opls'\n",
    "dih_i.setopls(0.0,-0.0,0.1,0.0)\n",
    "oplsaa.add_dihtype(dih_i)"
   ]
  },
  {
   "cell_type": "code",
   "execution_count": 170,
   "metadata": {
    "collapsed": true
   },
   "outputs": [],
   "source": [
    "dih_i = dihtype.Dihtype('CT','CT','CT','CA',unit_conf=oplsaa.unit_conf)\n",
    "dih_i.type ='opls'\n",
    "dih_i.setopls(0.433341,-0.016667,0.066668,0.0)\n",
    "oplsaa.add_dihtype(dih_i)"
   ]
  },
  {
   "cell_type": "code",
   "execution_count": 171,
   "metadata": {
    "collapsed": true
   },
   "outputs": [],
   "source": [
    "dih_i = dihtype.Dihtype('HC','CT','CA','CA',unit_conf=oplsaa.unit_conf)\n",
    "dih_i.type ='opls'\n",
    "dih_i.setopls(0.0,-0.0,0.1,0.0)\n",
    "oplsaa.add_dihtype(dih_i)"
   ]
  },
  {
   "cell_type": "code",
   "execution_count": 172,
   "metadata": {
    "collapsed": true
   },
   "outputs": [],
   "source": [
    "dih_i = dihtype.Dihtype('CT','CT','CA','CA',unit_conf=oplsaa.unit_conf)\n",
    "dih_i.type ='opls'\n",
    "dih_i.setopls(0.0,-0.0,0.0,0.0)\n",
    "oplsaa.add_dihtype(dih_i)"
   ]
  },
  {
   "cell_type": "code",
   "execution_count": 173,
   "metadata": {},
   "outputs": [
    {
     "name": "stdout",
     "output_type": "stream",
     "text": [
      "0  dihedral  HC - CT - CT - HC type opls \n",
      "  k1 = 0.000000 k2 = 0.000000 k3 = 0.300000 k4 = 0.000000 lammps index 0  gromcas index 0 \n",
      "1  dihedral  X - CA - CA - X type opls \n",
      "  k1 = 0.000000 k2 = 1.812532 k3 = 0.000000 k4 = 0.000000 lammps index 0  gromcas index 0 \n",
      "2  dihedral  X - S - CA - X type opls \n",
      "  k1 = 0.000000 k2 = 2.416710 k3 = 0.000000 k4 = 0.000000 lammps index 0  gromcas index 0 \n",
      "3  dihedral  S - CA - CA - HA type opls \n",
      "  k1 = 0.000000 k2 = 1.812532 k3 = 0.000000 k4 = 0.000000 lammps index 0  gromcas index 0 \n",
      "4  dihedral  CT - CT - CT - CT type opls \n",
      "  k1 = 0.433341 k2 = -0.016667 k3 = 0.066668 k4 = 0.000000 lammps index 0  gromcas index 0 \n",
      "5  dihedral  HC - CT - CT - CT type opls \n",
      "  k1 = 0.000000 k2 = -0.000000 k3 = 0.100000 k4 = 0.000000 lammps index 0  gromcas index 0 \n",
      "6  dihedral  HC - CT - CT - HC type opls \n",
      "  k1 = 0.000000 k2 = -0.000000 k3 = 0.100000 k4 = 0.000000 lammps index 0  gromcas index 0 \n",
      "7  dihedral  HC - CT - CT - CA type opls \n",
      "  k1 = 0.000000 k2 = -0.000000 k3 = 0.100000 k4 = 0.000000 lammps index 0  gromcas index 0 \n",
      "8  dihedral  CT - CT - CT - CA type opls \n",
      "  k1 = 0.433341 k2 = -0.016667 k3 = 0.066668 k4 = 0.000000 lammps index 0  gromcas index 0 \n",
      "9  dihedral  HC - CT - CA - CA type opls \n",
      "  k1 = 0.000000 k2 = -0.000000 k3 = 0.100000 k4 = 0.000000 lammps index 0  gromcas index 0 \n",
      "10  dihedral  CT - CT - CA - CA type opls \n",
      "  k1 = 0.000000 k2 = -0.000000 k3 = 0.000000 k4 = 0.000000 lammps index 0  gromcas index 0 \n"
     ]
    }
   ],
   "source": [
    "for dk,d in oplsaa.dihtypes.iteritems():\n",
    "    print dk,d "
   ]
  },
  {
   "cell_type": "markdown",
   "metadata": {},
   "source": [
    "Run a oplsaa minimization to get the minimized structure"
   ]
  },
  {
   "cell_type": "code",
   "execution_count": 174,
   "metadata": {},
   "outputs": [],
   "source": [
    "p3ht_et = lmp_run(p3ht_et,ht,oplsaa,peregrine)"
   ]
  },
  {
   "cell_type": "code",
   "execution_count": 175,
   "metadata": {},
   "outputs": [
    {
     "name": "stdout",
     "output_type": "stream",
     "text": [
      "Calculation lmp_min_hexane_HFesp has status stored\n",
      "Calculation nw_esp_thiophene has status stored\n",
      "Calculation nw_opt_thiophene has status stored\n",
      "Calculation lmp_min_3-hexyl-thiophene has status finished\n",
      "Calculation nw_opt_hexane has status stored\n",
      "Calculation nw_esp_hexane has status stored\n",
      "Calculation lmp_min_thiophene_HFesp has status stored\n"
     ]
    }
   ],
   "source": [
    "p3ht_et.check()"
   ]
  },
  {
   "cell_type": "code",
   "execution_count": 176,
   "metadata": {
    "collapsed": true
   },
   "outputs": [],
   "source": [
    "lmp_i = p3ht_et.calculations['lmp_min_3-hexyl-thiophene']"
   ]
  },
  {
   "cell_type": "code",
   "execution_count": 177,
   "metadata": {
    "collapsed": true
   },
   "outputs": [],
   "source": [
    "while( lmp_i.meta['status'] != 'finished'):\n",
    "    lmp_i.check()\n",
    "    time.sleep(30)"
   ]
  },
  {
   "cell_type": "code",
   "execution_count": 178,
   "metadata": {},
   "outputs": [
    {
     "name": "stdout",
     "output_type": "stream",
     "text": [
      ">  using mdrun with len 1 \n",
      " Adding thermo keys from line: Step Temp PotEng TotEng Press Volume Lx Ly Lz E_bond E_angle E_dihed E_impro E_vdwl E_coul E_long E_tail \n",
      " \n",
      "> col  0 ['0', '0', '17.669672', '17.669672', '5.0067583', '1000000', '100', '100', '100', '9.2798999', '4.0795543', '0.2004569', '0', '3.9199582', '4.0309903', '-3.8411879', '0']\n",
      "1 9823u  [0.0]\n",
      "> col  1 ['40', '0', '3.2007734', '3.2007734', '0.056779263', '1000000', '100', '100', '100', '0.11718128', '3.817369', '0.2012284', '0', '-1.0368994', '3.9431515', '-3.8412574', '0']\n",
      "2 9823u  [0.0, 40.0]\n",
      " Calc 0 finished \n"
     ]
    }
   ],
   "source": [
    "lmp_i.analysis()"
   ]
  },
  {
   "cell_type": "markdown",
   "metadata": {},
   "source": [
    "Energy decreased and nothing exploded so that's good"
   ]
  },
  {
   "cell_type": "code",
   "execution_count": 179,
   "metadata": {
    "collapsed": true
   },
   "outputs": [],
   "source": [
    "lmp_i.store()"
   ]
  },
  {
   "cell_type": "markdown",
   "metadata": {},
   "source": [
    "Read in data file positions"
   ]
  },
  {
   "cell_type": "code",
   "execution_count": 180,
   "metadata": {
    "collapsed": true
   },
   "outputs": [],
   "source": [
    "lmp_i.pull()"
   ]
  },
  {
   "cell_type": "markdown",
   "metadata": {},
   "source": [
    "Read in data file output and update positions"
   ]
  },
  {
   "cell_type": "code",
   "execution_count": 181,
   "metadata": {},
   "outputs": [
    {
     "name": "stdout",
     "output_type": "stream",
     "text": [
      "/Users/tkemper/Development/streamm-tools/examples/scratch/lmp_min_3-hexyl-thiophene/\n"
     ]
    }
   ],
   "source": [
    "print lmp_i.dir['launch']\n",
    "os.chdir(lmp_i.dir['launch'])"
   ]
  },
  {
   "cell_type": "code",
   "execution_count": 182,
   "metadata": {},
   "outputs": [
    {
     "name": "stdout",
     "output_type": "stream",
     "text": [
      "min1.data\n"
     ]
    }
   ],
   "source": [
    "datafn = lmp_i.files['output']['data_1']\n",
    "print datafn"
   ]
  },
  {
   "cell_type": "code",
   "execution_count": 183,
   "metadata": {},
   "outputs": [],
   "source": [
    "lmp_i.read_data_pos(datafn)"
   ]
  },
  {
   "cell_type": "code",
   "execution_count": 184,
   "metadata": {},
   "outputs": [
    {
     "name": "stdout",
     "output_type": "stream",
     "text": [
      "[[ 100.    0.    0.]\n",
      " [   0.  100.    0.]\n",
      " [   0.    0.  100.]]\n"
     ]
    }
   ],
   "source": [
    "print lmp_i.strucC.lat.matrix"
   ]
  },
  {
   "cell_type": "markdown",
   "metadata": {},
   "source": [
    "We will use the oplsaa optimized structure as the initial structure since we will be running MD "
   ]
  },
  {
   "cell_type": "code",
   "execution_count": 185,
   "metadata": {
    "collapsed": true
   },
   "outputs": [],
   "source": [
    "ht.tag += '_oplsaa'"
   ]
  },
  {
   "cell_type": "code",
   "execution_count": 186,
   "metadata": {},
   "outputs": [
    {
     "name": "stdout",
     "output_type": "stream",
     "text": [
      "0 C [  8.58048162e-01   1.19759922e+00  -4.66199566e-04]\n",
      "1 C [  1.58736805e-01  -1.04982118e-02   4.48532201e-05]\n",
      "2 C [  9.83351177e-01  -1.13386943e+00   3.84933024e-04]\n",
      "3 C [  2.34225412e+00  -8.15739017e-01  -1.04435985e-04]\n",
      "4 S [  2.55281533e+00   8.93645479e-01  -7.08861269e-04]\n",
      "5 H [  4.04840904e-01   2.17869190e+00  -1.90251636e-04]\n",
      "6 H [  6.31923774e-01  -2.15497892e+00   1.53278224e-03]\n",
      "7 H [  3.14301927e+00  -1.54111998e+00   4.08232590e-04]\n",
      "8 C [ -1.35416551e+00  -6.89107784e-02  -2.58426132e-05]\n",
      "9 H [-1.71311056  0.44324111  0.88055473]\n",
      "10 H [-1.7130175   0.44343992 -0.88053217]\n",
      "11 C [ -1.92577298e+00  -1.48984644e+00  -2.66735285e-04]\n",
      "12 H [-1.58807227 -2.00592385  0.88596858]\n",
      "13 H [-1.58844312 -2.00546317 -0.88690959]\n",
      "14 C [ -3.45424227e+00  -1.46004955e+00  -3.69951628e-05]\n",
      "15 H [-3.80406141 -0.95695071  0.88903719]\n",
      "16 H [-3.80417703 -0.95615338 -0.88861633]\n",
      "17 C [ -3.94828042e+00  -2.91001442e+00  -6.25299521e-04]\n",
      "18 H [-3.58065558 -3.40824383  0.88419559]\n",
      "19 H [-3.58148746 -3.40716878 -0.88639953]\n",
      "20 C [ -5.47730708e+00  -2.95914520e+00   1.33656942e-04]\n",
      "21 H [-5.85268084 -2.47205474  0.88785315]\n",
      "22 H [-5.85352602 -2.47167713 -0.88701733]\n",
      "23 C [ -5.92523559e+00  -4.42359820e+00   3.82912563e-06]\n",
      "24 H [-5.54008297 -4.91032939  0.884167  ]\n",
      "25 H [ -7.00447275e+00  -4.46156792e+00   2.79143051e-04]\n",
      "26 H [-5.54051116 -4.90995361 -0.88454711]\n"
     ]
    }
   ],
   "source": [
    "for pk,p in ht.particles.iteritems():\n",
    "    ht.positions[pk] = lmp_i.strucC.positions[pk]\n",
    "    print pk,p.symbol,ht.positions[pk]"
   ]
  },
  {
   "cell_type": "markdown",
   "metadata": {},
   "source": [
    "Save the Buildingblock and force-field"
   ]
  },
  {
   "cell_type": "code",
   "execution_count": 188,
   "metadata": {},
   "outputs": [],
   "source": [
    "os.chdir(res_local.dir['materials']) \n",
    "ht.write_xyz()\n",
    "# ht.dump_pickle() \n",
    "oplsaa.dump_pickle()"
   ]
  },
  {
   "cell_type": "markdown",
   "metadata": {},
   "source": [
    "Okay we have the monomer, so let's make a pentamer "
   ]
  },
  {
   "cell_type": "code",
   "execution_count": 189,
   "metadata": {
    "collapsed": true
   },
   "outputs": [],
   "source": [
    "penta_ht = copy.deepcopy(ht)"
   ]
  },
  {
   "cell_type": "code",
   "execution_count": 190,
   "metadata": {
    "collapsed": true
   },
   "outputs": [],
   "source": [
    "# We could use prepattach to change the tacticity \n",
    "# penta_ht = ht.prepattach('termcap',0,dir=-1,yangle=180.0)\n",
    "# See buildingblock example "
   ]
  },
  {
   "cell_type": "code",
   "execution_count": 191,
   "metadata": {
    "collapsed": true
   },
   "outputs": [],
   "source": [
    "for n in range(4):\n",
    "    penta_ht = bb.attach(penta_ht,ht,'termcap',1,'termcap',0,tag='penta_3-hexyl-thiophene')"
   ]
  },
  {
   "cell_type": "markdown",
   "metadata": {},
   "source": [
    "Check the charges of the removed hydrogens got summed onto the functionalized carbons correctly"
   ]
  },
  {
   "cell_type": "code",
   "execution_count": 192,
   "metadata": {},
   "outputs": [
    {
     "data": {
      "text/plain": [
       "5.000000000088267e-06"
      ]
     },
     "execution_count": 192,
     "metadata": {},
     "output_type": "execute_result"
    }
   ],
   "source": [
    "penta_ht.calc_charge()\n",
    "penta_ht.charge"
   ]
  },
  {
   "cell_type": "code",
   "execution_count": 193,
   "metadata": {
    "collapsed": true
   },
   "outputs": [],
   "source": [
    "penta_ht.write_xyz()"
   ]
  },
  {
   "cell_type": "markdown",
   "metadata": {},
   "source": [
    "Well it's cis, but we can run some high temperature MD to randomize that "
   ]
  },
  {
   "cell_type": "markdown",
   "metadata": {},
   "source": [
    "Update bond angles and dihedrals after Buildingblock join"
   ]
  },
  {
   "cell_type": "code",
   "execution_count": 194,
   "metadata": {
    "collapsed": true
   },
   "outputs": [],
   "source": [
    "penta_ht.bonded_bonds()\n",
    "penta_ht.bonded_angles()\n",
    "penta_ht.bonded_dih()"
   ]
  },
  {
   "cell_type": "code",
   "execution_count": 195,
   "metadata": {},
   "outputs": [
    {
     "name": "stdout",
     "output_type": "stream",
     "text": [
      " n_particles:127 \n",
      " n_bonds:131\n",
      " n_angles:245\n",
      " n_dihedrals:351\n",
      " n_impropers:0\n"
     ]
    }
   ],
   "source": [
    "print penta_ht.print_properties()"
   ]
  },
  {
   "cell_type": "markdown",
   "metadata": {},
   "source": [
    "Run a oplsaa minimization to get the minimized structure"
   ]
  },
  {
   "cell_type": "code",
   "execution_count": 196,
   "metadata": {},
   "outputs": [],
   "source": [
    "p3ht_et = lmp_run(p3ht_et,penta_ht,oplsaa,peregrine)"
   ]
  },
  {
   "cell_type": "code",
   "execution_count": 197,
   "metadata": {},
   "outputs": [
    {
     "name": "stdout",
     "output_type": "stream",
     "text": [
      "Calculation lmp_min_penta_3-hexyl-thiophene has status finished\n",
      "Calculation lmp_min_hexane_HFesp has status stored\n",
      "Calculation nw_esp_thiophene has status stored\n",
      "Calculation nw_opt_thiophene has status stored\n",
      "Calculation lmp_min_3-hexyl-thiophene has status stored\n",
      "Calculation nw_opt_hexane has status stored\n",
      "Calculation nw_esp_hexane has status stored\n",
      "Calculation lmp_min_thiophene_HFesp has status stored\n"
     ]
    }
   ],
   "source": [
    "p3ht_et.check()"
   ]
  },
  {
   "cell_type": "code",
   "execution_count": 198,
   "metadata": {
    "collapsed": true
   },
   "outputs": [],
   "source": [
    "lmp_i = p3ht_et.calculations['lmp_min_penta_3-hexyl-thiophene']"
   ]
  },
  {
   "cell_type": "code",
   "execution_count": 199,
   "metadata": {
    "collapsed": true
   },
   "outputs": [],
   "source": [
    "while( lmp_i.meta['status'] != 'finished'):\n",
    "    lmp_i.check()\n",
    "    # time.sleep(30)"
   ]
  },
  {
   "cell_type": "code",
   "execution_count": 200,
   "metadata": {},
   "outputs": [
    {
     "name": "stdout",
     "output_type": "stream",
     "text": [
      ">  using mdrun with len 1 \n",
      " Adding thermo keys from line: Step Temp PotEng TotEng Press Volume Lx Ly Lz E_bond E_angle E_dihed E_impro E_vdwl E_coul E_long E_tail \n",
      " \n",
      "> col  0 ['0', '0', '649.70993', '649.70993', '178.80465', '1000000', '100', '100', '100', '7.2430833', '70.753731', '1.005452', '0', '591.08212', '-0.85047028', '-19.523986', '0']\n",
      "1 9823u  [0.0]\n",
      "> col  1 ['57', '0', '40.195287', '40.195287', '0.34049393', '1000000', '100', '100', '100', '4.7530385', '51.325989', '1.2630256', '0', '2.7610706', '-0.36602943', '-19.541807', '0']\n",
      "2 9823u  [0.0, 57.0]\n",
      " Calc 0 finished \n"
     ]
    }
   ],
   "source": [
    "lmp_i.analysis()"
   ]
  },
  {
   "cell_type": "markdown",
   "metadata": {},
   "source": [
    "Energy decreased and nothing exploded so that's good"
   ]
  },
  {
   "cell_type": "code",
   "execution_count": 201,
   "metadata": {
    "collapsed": true
   },
   "outputs": [],
   "source": [
    "lmp_i.store()"
   ]
  },
  {
   "cell_type": "markdown",
   "metadata": {},
   "source": [
    "Read in data file positions"
   ]
  },
  {
   "cell_type": "code",
   "execution_count": 202,
   "metadata": {
    "collapsed": true
   },
   "outputs": [],
   "source": [
    "lmp_i.pull()"
   ]
  },
  {
   "cell_type": "markdown",
   "metadata": {},
   "source": [
    "Read in data file output and update positions"
   ]
  },
  {
   "cell_type": "code",
   "execution_count": 203,
   "metadata": {},
   "outputs": [
    {
     "name": "stdout",
     "output_type": "stream",
     "text": [
      "/Users/tkemper/Development/streamm-tools/examples/scratch/lmp_min_penta_3-hexyl-thiophene/\n"
     ]
    }
   ],
   "source": [
    "print lmp_i.dir['launch']\n",
    "os.chdir(lmp_i.dir['launch'])"
   ]
  },
  {
   "cell_type": "code",
   "execution_count": 204,
   "metadata": {},
   "outputs": [
    {
     "name": "stdout",
     "output_type": "stream",
     "text": [
      "min1.data\n"
     ]
    }
   ],
   "source": [
    "datafn = lmp_i.files['output']['data_1']\n",
    "print datafn"
   ]
  },
  {
   "cell_type": "code",
   "execution_count": 205,
   "metadata": {},
   "outputs": [],
   "source": [
    "lmp_i.read_data_pos(datafn)"
   ]
  },
  {
   "cell_type": "code",
   "execution_count": 206,
   "metadata": {
    "scrolled": true
   },
   "outputs": [
    {
     "name": "stdout",
     "output_type": "stream",
     "text": [
      "[[ 100.    0.    0.]\n",
      " [   0.  100.    0.]\n",
      " [   0.    0.  100.]]\n"
     ]
    }
   ],
   "source": [
    "print lmp_i.strucC.lat.matrix"
   ]
  },
  {
   "cell_type": "code",
   "execution_count": 207,
   "metadata": {
    "collapsed": true
   },
   "outputs": [],
   "source": [
    "lmp_i.strucC.write_xyz()"
   ]
  },
  {
   "cell_type": "markdown",
   "metadata": {},
   "source": [
    "We will use the oplsaa optimized structure as the initial structure since we will be running MD "
   ]
  },
  {
   "cell_type": "code",
   "execution_count": 208,
   "metadata": {
    "collapsed": true
   },
   "outputs": [],
   "source": [
    "penta_ht.tag += '_oplsaa'"
   ]
  },
  {
   "cell_type": "code",
   "execution_count": 209,
   "metadata": {},
   "outputs": [
    {
     "name": "stdout",
     "output_type": "stream",
     "text": [
      "0 C [ 8.60701554 -9.6342391   0.04155157]\n",
      "1 C [ 9.86991209 -9.02476536  0.04237027]\n",
      "2 C [ 9.79530077 -7.64059185  0.02544289]\n",
      "3 C [ 8.49593923 -7.13945888 -0.01422216]\n",
      "4 S [ 7.35296582 -8.42562285  0.04312514]\n",
      "5 H [  8.43500214 -10.70060291   0.05258714]\n",
      "6 H [ 10.6727193   -7.02943853   0.04262117]\n",
      "7 C [ 11.20965724  -9.75576487   0.0557007 ]\n",
      "8 H [ 11.2620709  -10.37111599   0.94244169]\n",
      "9 H [ 11.27385376 -10.37981509  -0.82415526]\n",
      "10 C [ 12.41656212  -8.78975382   0.05865254]\n",
      "11 H [ 12.35253973  -8.16650273   0.93857207]\n",
      "12 H [ 12.36362924  -8.17489616  -0.82788695]\n",
      "13 C [ 13.79858108  -9.44519672   0.07006756]\n",
      "14 H [ 13.91009774 -10.04182267   0.96223813]\n",
      "15 H [ 13.92068631 -10.04997043  -0.81521355]\n",
      "16 C [ 14.84696111  -8.3185939    0.07112998]\n",
      "17 H [ 14.71330615  -7.70619083   0.95066248]\n",
      "18 H [ 14.72361554  -7.71420684  -0.81543285]\n",
      "19 C [ 16.26473771  -8.89691634   0.08205431]\n",
      "20 H [ 16.39623321  -9.49437665   0.97136489]\n",
      "21 H [ 16.40698338  -9.50133961  -0.80087239]\n",
      "22 C [ 17.30202214  -7.76712908   0.08385567]\n",
      "23 H [ 17.16582896  -7.15841624   0.96540542]\n",
      "24 H [ 18.29128919  -8.20162217   0.09088361]\n",
      "25 H [ 17.17562002  -7.16468475  -0.80343222]\n",
      "26 C [ 8.10189707 -5.78315658  0.0566398 ]\n",
      "27 C [ 8.9332955  -4.6524415   0.03360249]\n",
      "28 C [ 8.21331314 -3.47794974  0.03193272]\n",
      "29 C [ 6.82948679 -3.62559487  0.04726152]\n",
      "30 S [ 6.41711602 -5.3173424   0.00647368]\n",
      "31 H [ 8.72985691 -2.54883818  0.01980347]\n",
      "32 C [ 10.45482757  -4.62087658   0.03659615]\n",
      "33 H [ 10.80223069  -5.12144656   0.92839561]\n",
      "34 H [ 10.80809087  -5.12453146  -0.85130199]\n",
      "35 C [ 11.08991901  -3.22543908   0.03627394]\n",
      "36 H [ 10.78139412  -2.68953034   0.92146692]\n",
      "37 H [ 10.79156464  -2.69430257  -0.85530976]\n",
      "38 C [ 12.61062875  -3.34459721   0.04523432]\n",
      "39 H [ 12.92221451  -3.86962722   0.93510648]\n",
      "40 H [ 12.93224855  -3.87403081  -0.83844774]\n",
      "41 C [ 13.21959712  -1.93966092   0.04530172]\n",
      "42 H [ 12.89858822  -1.40767009   0.92846494]\n",
      "43 H [ 12.90853853  -1.41195177  -0.84397489]\n",
      "44 C [ 14.74368088  -2.0637904    0.05420582]\n",
      "45 H [ 15.05069564  -2.5943719    0.94300435]\n",
      "46 H [ 15.0607094   -2.59760635  -0.82912575]\n",
      "47 C [ 15.38376493  -0.67317033   0.05525997]\n",
      "48 H [ 15.06569321  -0.13818853   0.93808227]\n",
      "49 H [ 16.45822069  -0.78566094   0.06073475]\n",
      "50 H [ 15.07440037  -0.14090883  -0.83228207]\n",
      "51 C [ 5.89519572 -2.55426753 -0.01223497]\n",
      "52 C [  6.18953162e+00  -1.17555944e+00   2.63941519e-03]\n",
      "53 C [  5.06198474e+00  -3.88180260e-01   4.62044852e-03]\n",
      "54 C [  3.85868698e+00  -1.07753660e+00   3.22690549e-03]\n",
      "55 S [ 4.16195022 -2.79918182  0.01421315]\n",
      "56 H [ 5.15841919  0.67035112  0.01282441]\n",
      "57 C [ 7.55565026 -0.50928082  0.01377449]\n",
      "58 H [ 8.07188687 -0.81757477  0.91138595]\n",
      "59 H [ 8.08505868 -0.81729839 -0.8760824 ]\n",
      "60 C [ 7.57543758  1.02057919  0.01432551]\n",
      "61 H [ 7.08665096  1.39265357  0.902501  ]\n",
      "62 H [ 7.09469736  1.39290604 -0.87809714]\n",
      "63 C [ 9.02994632  1.47748206  0.02138178]\n",
      "64 H [ 9.51600602  1.10532634  0.91024602]\n",
      "65 H [ 9.52474826  1.10436978 -0.86222091]\n",
      "66 C [ 9.07662899  3.00496611  0.02086813]\n",
      "67 H [ 8.58485558  3.3807581   0.90551114]\n",
      "68 H [ 8.59244068  3.37979142 -0.86835611]\n",
      "69 C [ 10.54069314   3.44315137   0.02691462]\n",
      "70 H [ 11.02196736   3.06199826   0.9151037 ]\n",
      "71 H [ 11.02930916   3.06159358  -0.85708392]\n",
      "72 C [ 10.62270074   4.97066381   0.02686532]\n",
      "73 H [ 10.13039205   5.34981445   0.91034465]\n",
      "74 H [ 11.66254034   5.26297878   0.03018976]\n",
      "75 H [ 10.13614316   5.34940102  -0.85996573]\n",
      "76 C [ 2.57720292 -0.46136674  0.00696541]\n",
      "77 C [  2.27916661e+00   9.20599603e-01   2.97439479e-04]\n",
      "78 C [  9.25143728e-01   1.18526912e+00  -6.58471091e-04]\n",
      "79 C [ 0.13406876  0.04547212  0.00488753]\n",
      "80 S [ 1.11249122 -1.39518474  0.00299039]\n",
      "81 H [  5.51675665e-01   2.18771408e+00  -1.23208523e-03]\n",
      "82 C [ 3.26470451  2.0748791   0.0035723 ]\n",
      "83 H [ 3.86426797  1.99795314  0.8982924 ]\n",
      "84 H [ 3.87049919  1.99829501 -0.88701303]\n",
      "85 C [  2.68266103e+00   3.48723766e+00   2.26167550e-03]\n",
      "86 H [ 2.09076135  3.64220109  0.89196703]\n",
      "87 H [ 2.09575581  3.64284439 -0.89063819]\n",
      "88 C [ 3.86139025  4.45759001  0.00595851]\n",
      "89 H [ 4.45443107  4.29622733  0.89351627]\n",
      "90 H [ 4.45921942  4.29691122 -0.87850497]\n",
      "91 C [  3.33605806e+00   5.89120209e+00   5.18816242e-03]\n",
      "92 H [ 2.74141334  6.05617086  0.89095758]\n",
      "93 H [ 2.74554663  6.05663641 -0.88325896]\n",
      "94 C [ 4.52722634  6.84873755  0.00825962]\n",
      "95 H [ 5.11912471  6.68113092  0.89575301]\n",
      "96 H [ 5.12271483  6.6822147  -0.87703612]\n",
      "97 C [  4.01395643e+00   8.28936109e+00   8.08047151e-03]\n",
      "98 H [ 3.41436236  8.44805006  0.89241105]\n",
      "99 H [ 4.85907592  8.96190971  0.00923606]\n",
      "100 H [ 3.41638228  8.44850395 -0.87753066]\n",
      "101 C [-1.27729954 -0.00274006 -0.0043183 ]\n",
      "102 C [ -2.22690973e+00   1.03949002e+00  -4.36534483e-04]\n",
      "103 C [ -3.53448286e+00   5.61152115e-01   2.87641025e-03]\n",
      "104 C [-3.60958049 -0.83667751  0.00384095]\n",
      "105 S [-2.03150216 -1.54000492  0.00386203]\n",
      "106 H [-4.40899505  1.19450829  0.00565158]\n",
      "107 H [-4.53176573 -1.39916677  0.00769267]\n",
      "108 C [ -1.87115631e+00   2.51971124e+00   3.72799421e-04]\n",
      "109 H [-1.28255271  2.70320783  0.8860835 ]\n",
      "110 H [-1.28286846  2.70400578 -0.88535216]\n",
      "111 C [ -2.97676808e+00   3.58106911e+00   8.55674568e-04]\n",
      "112 H [-3.57781115  3.49107666  0.89281551]\n",
      "113 H [-3.57781245  3.49186074 -0.89118965]\n",
      "114 C [ -2.24085150e+00   4.93524046e+00   1.34627584e-03]\n",
      "115 H [-1.62081484  4.99700793  0.88354777]\n",
      "116 H [-1.62029941  4.99720612 -0.88048554]\n",
      "117 C [ -3.20413076e+00   6.12765379e+00   1.23583153e-03]\n",
      "118 H [-3.81799242  6.09165774  0.88835108]\n",
      "119 H [-3.81737585  6.09190293 -0.88632567]\n",
      "120 C [ -2.39822298e+00   7.43443126e+00   1.74179778e-03]\n",
      "121 H [-1.77988243  7.47642944  0.88622296]\n",
      "122 H [-1.78031619  7.47729733 -0.88300553]\n",
      "123 C [ -3.35024857e+00   8.63501942e+00   2.55100901e-03]\n",
      "124 H [-3.96693136  8.59554104  0.88821406]\n",
      "125 H [ -2.76973164e+00   9.54619972e+00   1.69039668e-03]\n",
      "126 H [-3.96893426  8.59508769 -0.88168816]\n"
     ]
    }
   ],
   "source": [
    "for pk,p in penta_ht.particles.iteritems():\n",
    "    penta_ht.positions[pk] = lmp_i.strucC.positions[pk]\n",
    "    print pk,p.symbol,penta_ht.positions[pk]"
   ]
  },
  {
   "cell_type": "markdown",
   "metadata": {},
   "source": [
    "Save the Buildingblock and force-field"
   ]
  },
  {
   "cell_type": "code",
   "execution_count": 211,
   "metadata": {},
   "outputs": [],
   "source": [
    "os.chdir(res_local.dir['materials']) \n",
    "penta_ht.write_xyz()\n",
    "# penta_ht.dump_pickle() \n",
    "oplsaa.dump_pickle()"
   ]
  },
  {
   "cell_type": "markdown",
   "metadata": {},
   "source": [
    "Cool let's run some MD"
   ]
  },
  {
   "cell_type": "code",
   "execution_count": 212,
   "metadata": {
    "collapsed": true
   },
   "outputs": [],
   "source": [
    "p3ht_et = lmp_run(p3ht_et,penta_ht,oplsaa,peregrine,md_type='nvt')"
   ]
  },
  {
   "cell_type": "code",
   "execution_count": 213,
   "metadata": {},
   "outputs": [
    {
     "name": "stdout",
     "output_type": "stream",
     "text": [
      "Calculation lmp_min_penta_3-hexyl-thiophene has status stored\n",
      "Calculation lmp_min_hexane_HFesp has status stored\n",
      "Calculation nw_esp_thiophene has status stored\n",
      "Calculation nw_opt_thiophene has status stored\n",
      "Calculation lmp_min_3-hexyl-thiophene has status stored\n",
      "Calculation nw_opt_hexane has status stored\n",
      "Calculation lmp_nvt_penta_3-hexyl-thiophene_oplsaa has status finished\n",
      "Calculation nw_esp_hexane has status stored\n",
      "Calculation lmp_min_thiophene_HFesp has status stored\n"
     ]
    }
   ],
   "source": [
    "p3ht_et.check()"
   ]
  },
  {
   "cell_type": "code",
   "execution_count": 214,
   "metadata": {
    "collapsed": true
   },
   "outputs": [],
   "source": [
    "lmp_i = p3ht_et.calculations['lmp_nvt_penta_3-hexyl-thiophene_oplsaa']"
   ]
  },
  {
   "cell_type": "code",
   "execution_count": 215,
   "metadata": {
    "collapsed": true
   },
   "outputs": [],
   "source": [
    "while( lmp_i.meta['status'] != 'finished'):\n",
    "    lmp_i.check()\n",
    "    time.sleep(30)"
   ]
  },
  {
   "cell_type": "code",
   "execution_count": 216,
   "metadata": {
    "scrolled": true
   },
   "outputs": [
    {
     "name": "stdout",
     "output_type": "stream",
     "text": [
      ">  using mdrun with len 3 \n",
      " Adding thermo keys from line: Step Temp PotEng TotEng Press Volume Lx Ly Lz E_bond E_angle E_dihed E_impro E_vdwl E_coul E_long E_tail \n",
      " \n",
      "> col  0 ['0', '0', '42.487137', '42.487137', '3.5704457', '1000000', '100', '100', '100', '5.1515497', '51.799764', '1.0411168', '0', '4.3197491', '-0.29279225', '-19.532251', '0']\n",
      "1 9823u  [0.0]\n",
      "> col  1 ['2', '0', '42.411113', '42.411113', '3.828215', '1000000', '100', '100', '100', '4.8244485', '52.072538', '1.0439018', '0', '4.3092073', '-0.30522041', '-19.533762', '0']\n",
      "2 9823u  [0.0, 2.0]\n",
      " Calc 0 finished \n",
      " Adding thermo keys from line: Step Temp PotEng TotEng Press Volume Lx Ly Lz E_bond E_angle E_dihed E_impro E_vdwl E_coul E_long E_tail \n",
      " \n",
      "> col  0 ['2', '0', '42.411113', '42.411113', '3.828215', '1000000', '100', '100', '100', '4.8244485', '52.072538', '1.0439018', '0', '4.3092073', '-0.30522041', '-19.533762', '0']\n",
      "1 9823u  [2.0]\n",
      "> col  1 ['1000', '64.287602', '15.465918', '39.611189', '-0.66028517', '1000000', '100', '100', '100', '0.59453345', '30.052673', '19.335224', '0', '-13.151011', '-1.6308705', '-19.734631', '0']\n",
      "2 9823u  [2.0, 1000.0]\n",
      "> col  2 ['2000', '48.300063', '15.958439', '34.099077', '-0.84473371', '1000000', '100', '100', '100', '0.60725361', '21.162686', '31.335877', '0', '-14.629522', '-2.6122575', '-19.905598', '0']\n",
      "[2.0, 1000.0]\n",
      "3 9823u  [2.0, 1000.0, 2000.0]\n",
      "> col  3 ['3000', '40.368223', '16.252859', '31.414439', '-1.104283', '1000000', '100', '100', '100', '0.76986731', '20.055325', '36.838336', '0', '-15.960868', '-5.3827247', '-20.067077', '0']\n",
      "4 9823u  [2.0, 1000.0, 2000.0, 3000.0]\n",
      "> col  4 ['4000', '53.095725', '10.678671', '30.620474', '0.31108686', '1000000', '100', '100', '100', '0.75439764', '20.116294', '36.344885', '0', '-17.914911', '-8.4823711', '-20.139623', '0']\n",
      "5 9823u  [2.0, 1000.0, 2000.0, 3000.0, 4000.0]\n",
      "> col  5 ['5000', '42.463327', '15.76121', '31.709674', '0.76564097', '1000000', '100', '100', '100', '0.9003456', '24.543382', '39.510853', '0', '-18.887623', '-10.124389', '-20.181358', '0']\n",
      "6 9823u  [2.0, 1000.0, 2000.0, 3000.0, 4000.0, 5000.0]\n",
      "> col  6 ['6000', '63.959444', '11.921422', '35.943443', '-1.7535201', '1000000', '100', '100', '100', '1.3677044', '26.427613', '36.406114', '0', '-20.731637', '-11.35935', '-20.189022', '0']\n",
      "7 9823u  [2.0, 1000.0, 2000.0, 3000.0, 4000.0, 5000.0, 6000.0]\n",
      "> col  7 ['7000', '70.86116', '14.733974', '41.348155', '1.6108538', '1000000', '100', '100', '100', '1.8641947', '23.675376', '43.367882', '0', '-21.108515', '-12.894758', '-20.170205', '0']\n",
      "8 9823u  [2.0, 1000.0, 2000.0, 3000.0, 4000.0, 5000.0, 6000.0, 7000.0]\n",
      "> col  8 ['8000', '73.650169', '20.217407', '47.87909', '-4.1236983', '1000000', '100', '100', '100', '2.6238704', '30.018344', '40.118914', '0', '-19.036442', '-13.306013', '-20.201267', '0']\n",
      "9 9823u  [2.0, 1000.0, 2000.0, 3000.0, 4000.0, 5000.0, 6000.0, 7000.0, 8000.0]\n",
      "> col  9 ['9000', '68.484782', '29.263733', '54.985389', '5.1750003', '1000000', '100', '100', '100', '2.388552', '29.362929', '40.899871', '0', '-11.716154', '-11.499093', '-20.172372', '0']\n",
      "10 9823u  [2.0, 1000.0, 2000.0, 3000.0, 4000.0, 5000.0, 6000.0, 7000.0, 8000.0, 9000.0]\n",
      "> col  10 ['10000', '91.589394', '28.390323', '62.789657', '-2.8189603', '1000000', '100', '100', '100', '2.8105572', '32.966395', '39.829106', '0', '-15.04519', '-11.972451', '-20.198095', '0']\n",
      "11 9823u  [2.0, 1000.0, 2000.0, 3000.0, 4000.0, 5000.0, 6000.0, 7000.0, 8000.0, 9000.0, 10000.0]\n",
      "> col  11 ['11000', '109.60577', '31.077821', '72.243782', '-5.1471745', '1000000', '100', '100', '100', '5.2896345', '37.16064', '35.747281', '0', '-14.538607', '-12.413634', '-20.167494', '0']\n",
      "12 9823u  [2.0, 1000.0, 2000.0, 3000.0, 4000.0, 5000.0, 6000.0, 7000.0, 8000.0, 9000.0, 10000.0, 11000.0]\n",
      "> col  12 ['12000', '125.69646', '35.649594', '82.858929', '5.3181459', '1000000', '100', '100', '100', '5.1318469', '39.935357', '42.187618', '0', '-17.159111', '-14.264084', '-20.182032', '0']\n",
      "13 9823u  [2.0, 1000.0, 2000.0, 3000.0, 4000.0, 5000.0, 6000.0, 7000.0, 8000.0, 9000.0, 10000.0, 11000.0, 12000.0]\n",
      "> col  13 ['13000', '132.78347', '44.875716', '94.746807', '-5.1112858', '1000000', '100', '100', '100', '7.7482085', '35.572145', '52.021578', '0', '-18.2011', '-12.092653', '-20.172462', '0']\n",
      "14 9823u  [2.0, 1000.0, 2000.0, 3000.0, 4000.0, 5000.0, 6000.0, 7000.0, 8000.0, 9000.0, 10000.0, 11000.0, 12000.0, 13000.0]\n",
      "> col  14 ['14000', '170.74833', '44.097763', '108.22778', '2.0068686', '1000000', '100', '100', '100', '8.905764', '42.311159', '49.244852', '0', '-21.74467', '-14.445713', '-20.173629', '0']\n",
      "15 9823u  [2.0, 1000.0, 2000.0, 3000.0, 4000.0, 5000.0, 6000.0, 7000.0, 8000.0, 9000.0, 10000.0, 11000.0, 12000.0, 13000.0, 14000.0]\n",
      "> col  15 ['15000', '187.94082', '51.707984', '122.29519', '-1.5733619', '1000000', '100', '100', '100', '10.907859', '40.102162', '49.023313', '0', '-15.289969', '-12.83148', '-20.2039', '0']\n",
      "16 9823u  [2.0, 1000.0, 2000.0, 3000.0, 4000.0, 5000.0, 6000.0, 7000.0, 8000.0, 9000.0, 10000.0, 11000.0, 12000.0, 13000.0, 14000.0, 15000.0]\n",
      "> col  16 ['16000', '189.41026', '66.243922', '137.38302', '0.79417241', '1000000', '100', '100', '100', '8.3422596', '49.683285', '56.566542', '0', '-15.177598', '-13.012905', '-20.157662', '0']\n",
      "17 9823u  [2.0, 1000.0, 2000.0, 3000.0, 4000.0, 5000.0, 6000.0, 7000.0, 8000.0, 9000.0, 10000.0, 11000.0, 12000.0, 13000.0, 14000.0, 15000.0, 16000.0]\n",
      "> col  17 ['17000', '205.32674', '76.226699', '153.34374', '-3.5503425', '1000000', '100', '100', '100', '10.352549', '58.870786', '52.194892', '0', '-13.992131', '-11.052744', '-20.146653', '0']\n",
      "18 9823u  [2.0, 1000.0, 2000.0, 3000.0, 4000.0, 5000.0, 6000.0, 7000.0, 8000.0, 9000.0, 10000.0, 11000.0, 12000.0, 13000.0, 14000.0, 15000.0, 16000.0, 17000.0]\n",
      "> col  18 ['18000', '260.37984', '72.429595', '170.22359', '8.2407737', '1000000', '100', '100', '100', '18.268096', '53.7472', '43.506647', '0', '-14.155803', '-8.9330583', '-20.003485', '0']\n",
      "19 9823u  [2.0, 1000.0, 2000.0, 3000.0, 4000.0, 5000.0, 6000.0, 7000.0, 8000.0, 9000.0, 10000.0, 11000.0, 12000.0, 13000.0, 14000.0, 15000.0, 16000.0, 17000.0, 18000.0]\n",
      "> col  19 ['19000', '255.56028', '91.110202', '187.09406', '1.1997634', '1000000', '100', '100', '100', '19.409056', '58.385178', '52.210808', '0', '-8.3507259', '-10.45679', '-20.087324', '0']\n",
      "20 9823u  [2.0, 1000.0, 2000.0, 3000.0, 4000.0, 5000.0, 6000.0, 7000.0, 8000.0, 9000.0, 10000.0, 11000.0, 12000.0, 13000.0, 14000.0, 15000.0, 16000.0, 17000.0, 18000.0, 19000.0]\n",
      "> col  20 ['20000', '258.90212', '107.39797', '204.63696', '-3.6817232', '1000000', '100', '100', '100', '26.311492', '75.570457', '43.33355', '0', '-10.033483', '-7.8712385', '-19.912812', '0']\n",
      "21 9823u  [2.0, 1000.0, 2000.0, 3000.0, 4000.0, 5000.0, 6000.0, 7000.0, 8000.0, 9000.0, 10000.0, 11000.0, 12000.0, 13000.0, 14000.0, 15000.0, 16000.0, 17000.0, 18000.0, 19000.0, 20000.0]\n",
      "> col  21 ['20002', '262.73604', '106.02891', '204.70786', '-2.5005161', '1000000', '100', '100', '100', '28.344425', '73.005434', '42.828575', '0', '-10.413277', '-7.8217374', '-19.91451', '0']\n",
      "22 9823u  [2.0, 1000.0, 2000.0, 3000.0, 4000.0, 5000.0, 6000.0, 7000.0, 8000.0, 9000.0, 10000.0, 11000.0, 12000.0, 13000.0, 14000.0, 15000.0, 16000.0, 17000.0, 18000.0, 19000.0, 20000.0, 20002.0]\n",
      " Calc 1 finished \n",
      " Adding thermo keys from line: Step Temp PotEng TotEng Press Volume Lx Ly Lz E_bond E_angle E_dihed E_impro E_vdwl E_coul E_long E_tail \n",
      " \n",
      "> col  0 ['20002', '262.73604', '106.02891', '204.70786', '-2.5005161', '1000000', '100', '100', '100', '28.344425', '73.005434', '42.828575', '0', '-10.413277', '-7.8217374', '-19.91451', '0']\n",
      "1 9823u  [20002.0]\n",
      "> col  1 ['20103', '262.73604', '17.518877', '116.19782', '4.0723102', '1000000', '100', '100', '100', '0.62958665', '24.843031', '34.673977', '0', '-13.606452', '-9.0496714', '-19.971595', '0']\n",
      "2 9823u  [20002.0, 20103.0]\n",
      " Calc 2 finished \n"
     ]
    }
   ],
   "source": [
    "lmp_i.analysis()"
   ]
  },
  {
   "cell_type": "code",
   "execution_count": 217,
   "metadata": {
    "collapsed": true
   },
   "outputs": [],
   "source": [
    "lmp_i.store()"
   ]
  },
  {
   "cell_type": "markdown",
   "metadata": {},
   "source": [
    "Read in data file positions"
   ]
  },
  {
   "cell_type": "code",
   "execution_count": 218,
   "metadata": {
    "collapsed": true
   },
   "outputs": [],
   "source": [
    "lmp_i.pull()"
   ]
  },
  {
   "cell_type": "markdown",
   "metadata": {},
   "source": [
    "Read in data file output and update positions"
   ]
  },
  {
   "cell_type": "code",
   "execution_count": 219,
   "metadata": {},
   "outputs": [
    {
     "name": "stdout",
     "output_type": "stream",
     "text": [
      "/Users/tkemper/Development/streamm-tools/examples/scratch/lmp_nvt_penta_3-hexyl-thiophene_oplsaa/\n"
     ]
    }
   ],
   "source": [
    "print lmp_i.dir['launch']\n",
    "os.chdir(lmp_i.dir['launch'])"
   ]
  },
  {
   "cell_type": "code",
   "execution_count": 220,
   "metadata": {},
   "outputs": [
    {
     "name": "stdout",
     "output_type": "stream",
     "text": [
      "min2.data\n"
     ]
    }
   ],
   "source": [
    "datafn = lmp_i.files['output']['data_3']\n",
    "print datafn"
   ]
  },
  {
   "cell_type": "code",
   "execution_count": 221,
   "metadata": {
    "collapsed": true
   },
   "outputs": [],
   "source": [
    "lmp_i.read_data_pos(datafn)"
   ]
  },
  {
   "cell_type": "code",
   "execution_count": 222,
   "metadata": {
    "scrolled": true
   },
   "outputs": [
    {
     "name": "stdout",
     "output_type": "stream",
     "text": [
      "[[ 100.    0.    0.]\n",
      " [   0.  100.    0.]\n",
      " [   0.    0.  100.]]\n"
     ]
    }
   ],
   "source": [
    "print lmp_i.strucC.lat.matrix"
   ]
  },
  {
   "cell_type": "code",
   "execution_count": 223,
   "metadata": {
    "collapsed": true
   },
   "outputs": [],
   "source": [
    "lmp_i.strucC.write_xyz()"
   ]
  },
  {
   "cell_type": "markdown",
   "metadata": {
    "collapsed": true
   },
   "source": [
    "Awesome! We have a randomized pentamer, so let's save that as new Buildingblock"
   ]
  },
  {
   "cell_type": "code",
   "execution_count": 224,
   "metadata": {
    "collapsed": true
   },
   "outputs": [],
   "source": [
    "bbPHTh_1 = copy.deepcopy(lmp_i.strucC)"
   ]
  },
  {
   "cell_type": "code",
   "execution_count": 225,
   "metadata": {},
   "outputs": [
    {
     "name": "stdout",
     "output_type": "stream",
     "text": [
      " penta_3-hexyl-thiophene_oplsaa\n"
     ]
    }
   ],
   "source": [
    "print bbPHTh_1"
   ]
  },
  {
   "cell_type": "code",
   "execution_count": 226,
   "metadata": {},
   "outputs": [
    {
     "name": "stdout",
     "output_type": "stream",
     "text": [
      "127\n"
     ]
    }
   ],
   "source": [
    "print bbPHTh_1.n_particles"
   ]
  },
  {
   "cell_type": "markdown",
   "metadata": {},
   "source": [
    "Now let's replicate the oligomer 50 times to create a low density system"
   ]
  },
  {
   "cell_type": "markdown",
   "metadata": {},
   "source": [
    "Increase the box size"
   ]
  },
  {
   "cell_type": "code",
   "execution_count": 355,
   "metadata": {
    "collapsed": true
   },
   "outputs": [],
   "source": [
    "pHTh_x = streamm.Buildingblock()"
   ]
  },
  {
   "cell_type": "code",
   "execution_count": 356,
   "metadata": {},
   "outputs": [],
   "source": [
    "pHTh_x.lat.matrix = [ 200.,0.,0., 0.,200.,0.,  0.,0.,200.]"
   ]
  },
  {
   "cell_type": "code",
   "execution_count": 357,
   "metadata": {},
   "outputs": [],
   "source": [
    "pHTh_x.lat.pbcs = [False,False,False]"
   ]
  },
  {
   "cell_type": "code",
   "execution_count": 358,
   "metadata": {
    "collapsed": true
   },
   "outputs": [],
   "source": [
    "seed = 394572"
   ]
  },
  {
   "cell_type": "markdown",
   "metadata": {},
   "source": [
    "Randomly place oligomers into the simulation cell"
   ]
  },
  {
   "cell_type": "code",
   "execution_count": 359,
   "metadata": {},
   "outputs": [
    {
     "name": "stdout",
     "output_type": "stream",
     "text": [
      "No overlap found adding structure 0\n",
      "No overlap found adding structure 1\n",
      "No overlap found adding structure 2\n",
      "No overlap found adding structure 3\n",
      "No overlap found adding structure 4\n",
      "No overlap found adding structure 5\n",
      "No overlap found adding structure 6\n",
      "No overlap found adding structure 7\n",
      "No overlap found adding structure 8\n",
      "No overlap found adding structure 9\n",
      "No overlap found adding structure 10\n",
      "No overlap found adding structure 11\n",
      "No overlap found adding structure 12\n",
      "No overlap found adding structure 13\n",
      "No overlap found adding structure 14\n",
      "No overlap found adding structure 15\n",
      "No overlap found adding structure 16\n",
      "No overlap found adding structure 17\n",
      "No overlap found adding structure 18\n",
      "No overlap found adding structure 19\n",
      "No overlap found adding structure 20\n",
      "No overlap found adding structure 21\n",
      "No overlap found adding structure 22\n",
      "No overlap found adding structure 23\n",
      "No overlap found adding structure 24\n",
      "No overlap found adding structure 25\n",
      "No overlap found adding structure 26\n",
      "No overlap found adding structure 27\n",
      "No overlap found adding structure 28\n",
      "No overlap found adding structure 29\n",
      "No overlap found adding structure 30\n",
      "No overlap found adding structure 31\n",
      "No overlap found adding structure 32\n",
      "No overlap found adding structure 33\n",
      "No overlap found adding structure 34\n",
      "No overlap found adding structure 35\n",
      "No overlap found adding structure 36\n",
      "No overlap found adding structure 37\n",
      "No overlap found adding structure 38\n",
      "No overlap found adding structure 39\n",
      "No overlap found adding structure 40\n",
      "No overlap found adding structure 41\n",
      "No overlap found adding structure 42\n",
      "No overlap found adding structure 43\n",
      "No overlap found adding structure 44\n",
      "No overlap found adding structure 45\n",
      "No overlap found adding structure 46\n",
      "No overlap found adding structure 47\n",
      "No overlap found adding structure 48\n",
      "No overlap found adding structure 49\n"
     ]
    }
   ],
   "source": [
    "pHTh_x = streamm.add_struc(pHTh_x,bbPHTh_1,50,seed)"
   ]
  },
  {
   "cell_type": "code",
   "execution_count": 361,
   "metadata": {},
   "outputs": [
    {
     "name": "stdout",
     "output_type": "stream",
     "text": [
      "[[ 200.    0.    0.]\n",
      " [   0.  200.    0.]\n",
      " [   0.    0.  200.]]\n"
     ]
    }
   ],
   "source": [
    "print pHTh_x.lat.matrix"
   ]
  },
  {
   "cell_type": "code",
   "execution_count": 362,
   "metadata": {
    "collapsed": true
   },
   "outputs": [],
   "source": [
    "pHTh_x.lat.pbcs = [True,True,True]"
   ]
  },
  {
   "cell_type": "markdown",
   "metadata": {},
   "source": [
    "Check grouping "
   ]
  },
  {
   "cell_type": "code",
   "execution_count": 363,
   "metadata": {
    "collapsed": true
   },
   "outputs": [],
   "source": [
    "groupset_i = streamm.Groups('mol',pHTh_x)\n",
    "groupset_i.group_prop('mol','oligomers')"
   ]
  },
  {
   "cell_type": "code",
   "execution_count": 364,
   "metadata": {},
   "outputs": [
    {
     "name": "stdout",
     "output_type": "stream",
     "text": [
      "50\n"
     ]
    }
   ],
   "source": [
    "print len(groupset_i.groups)"
   ]
  },
  {
   "cell_type": "code",
   "execution_count": 365,
   "metadata": {},
   "outputs": [
    {
     "data": {
      "text/plain": [
       "[True, True, True]"
      ]
     },
     "execution_count": 365,
     "metadata": {},
     "output_type": "execute_result"
    }
   ],
   "source": [
    "groupset_i.strucC.lat.pbcs"
   ]
  },
  {
   "cell_type": "code",
   "execution_count": 368,
   "metadata": {},
   "outputs": [],
   "source": [
    "pHTh_x.tag = 'p3HTx50'"
   ]
  },
  {
   "cell_type": "code",
   "execution_count": 369,
   "metadata": {},
   "outputs": [],
   "source": [
    "os.chdir(res_local.dir['materials']) \n",
    "pHTh_x.write_xyz()\n",
    "# lmp_i.strucC.dump_pickle() "
   ]
  },
  {
   "cell_type": "markdown",
   "metadata": {},
   "source": [
    "Run a heat cool cycle with NPT to create a solid phase representation of p3HT"
   ]
  },
  {
   "cell_type": "code",
   "execution_count": 367,
   "metadata": {
    "collapsed": true
   },
   "outputs": [],
   "source": [
    "p3ht_et = lmp_run(p3ht_et,pHTh_x,oplsaa,peregrine,md_type = 'equ0')"
   ]
  },
  {
   "cell_type": "code",
   "execution_count": 370,
   "metadata": {},
   "outputs": [
    {
     "name": "stdout",
     "output_type": "stream",
     "text": [
      "Calculation lmp_min_penta_3-hexyl-thiophene has status stored\n",
      "Calculation lmp_min_hexane_HFesp has status stored\n",
      "Calculation nw_esp_thiophene has status stored\n",
      "Calculation lmp_equ0_blank_calc_10 has status written\n",
      "Calculation nw_opt_thiophene has status stored\n",
      "Calculation lmp_equ0_p3HTx50 has status stored\n",
      "Calculation lmp_min_3-hexyl-thiophene has status stored\n",
      "Calculation nw_opt_hexane has status stored\n",
      "Calculation lmp_nvt_penta_3-hexyl-thiophene_oplsaa has status stored\n",
      "Calculation nw_esp_hexane has status stored\n",
      "Calculation lmp_min_thiophene_HFesp has status stored\n"
     ]
    }
   ],
   "source": [
    "p3ht_et.check()"
   ]
  },
  {
   "cell_type": "code",
   "execution_count": 371,
   "metadata": {},
   "outputs": [],
   "source": [
    "lmp_i = p3ht_et.calculations['lmp_equ0_blank_calc_10']"
   ]
  },
  {
   "cell_type": "code",
   "execution_count": 372,
   "metadata": {},
   "outputs": [
    {
     "name": "stdout",
     "output_type": "stream",
     "text": [
      "lmp_equ0_blank_calc_10\n"
     ]
    }
   ],
   "source": [
    "print lmp_i.tag"
   ]
  },
  {
   "cell_type": "code",
   "execution_count": 373,
   "metadata": {
    "collapsed": true
   },
   "outputs": [],
   "source": [
    "while( lmp_i.meta['status'] != 'finished'):\n",
    "    lmp_i.check()\n",
    "    time.sleep(30)"
   ]
  },
  {
   "cell_type": "code",
   "execution_count": 401,
   "metadata": {},
   "outputs": [],
   "source": [
    "lmp_i.analysis()"
   ]
  },
  {
   "cell_type": "code",
   "execution_count": 402,
   "metadata": {},
   "outputs": [
    {
     "name": "stdout",
     "output_type": "stream",
     "text": [
      "3\n"
     ]
    }
   ],
   "source": [
    "print lmp_i.properties['run_cnt']"
   ]
  },
  {
   "cell_type": "code",
   "execution_count": 271,
   "metadata": {
    "collapsed": true
   },
   "outputs": [],
   "source": [
    "%matplotlib inline\n",
    "import matplotlib\n",
    "import matplotlib.pyplot as plt"
   ]
  },
  {
   "cell_type": "code",
   "execution_count": 416,
   "metadata": {
    "collapsed": true
   },
   "outputs": [],
   "source": [
    "run_i = lmp_i.properties['run_list'][0]"
   ]
  },
  {
   "cell_type": "code",
   "execution_count": 424,
   "metadata": {},
   "outputs": [
    {
     "data": {
      "image/png": "[encoded data removed]",
      "text/plain": [
       "<matplotlib.figure.Figure at 0x1d8bdf5d0>"
      ]
     },
     "metadata": {},
     "output_type": "display_data"
    }
   ],
   "source": [
    "\n",
    "fig, ax = plt.subplots(1,sharey=True)\n",
    "ax2 = ax.twinx()\n",
    "\n",
    "for run_i in lmp_i.properties['run_list']:\n",
    "\n",
    "    ax.plot(run_i.timeseries['step'],run_i.timeseries['volume'],'b.-')\n",
    "\n",
    "    ax2.plot(run_i.timeseries['step'],run_i.timeseries['temp'],'k.-')\n",
    "    \n",
    "ax.set_ylabel('volume', color='b')\n",
    "ax2.set_ylabel('temp', color='k')\n",
    "ax.set_xlabel('time (fs)', color='k')\n",
    "\n",
    "\n",
    "fig.subplots_adjust(hspace=0.0)   \n",
    "fig.set_size_inches(8.0, 12.0)\n",
    "\n",
    "fig.savefig('{}.pdf'.format(lmp_i.tag),format='pdf')\n",
    "\n"
   ]
  },
  {
   "cell_type": "markdown",
   "metadata": {},
   "source": [
    "Cool the volume is decreasing "
   ]
  },
  {
   "cell_type": "code",
   "execution_count": 425,
   "metadata": {
    "collapsed": true
   },
   "outputs": [],
   "source": [
    "lmp_i.store()"
   ]
  },
  {
   "cell_type": "code",
   "execution_count": 426,
   "metadata": {
    "collapsed": true
   },
   "outputs": [],
   "source": [
    "lmp_i.pull()"
   ]
  },
  {
   "cell_type": "markdown",
   "metadata": {},
   "source": [
    "Read in data file output and update positions"
   ]
  },
  {
   "cell_type": "code",
   "execution_count": 428,
   "metadata": {},
   "outputs": [],
   "source": [
    "os.chdir(lmp_i.dir['launch'])"
   ]
  },
  {
   "cell_type": "code",
   "execution_count": 429,
   "metadata": {},
   "outputs": [
    {
     "name": "stdout",
     "output_type": "stream",
     "text": [
      "equ0.data\n"
     ]
    }
   ],
   "source": [
    "datafn = lmp_i.files['output']['data_3']\n",
    "print datafn"
   ]
  },
  {
   "cell_type": "code",
   "execution_count": 509,
   "metadata": {
    "collapsed": true
   },
   "outputs": [],
   "source": [
    "lmp_i.read_data_pos(datafn)"
   ]
  },
  {
   "cell_type": "code",
   "execution_count": 510,
   "metadata": {
    "scrolled": true
   },
   "outputs": [
    {
     "name": "stdout",
     "output_type": "stream",
     "text": [
      "[[ 64.6368559   0.          0.       ]\n",
      " [  0.         64.6368559   0.       ]\n",
      " [  0.          0.         64.6368559]]\n"
     ]
    }
   ],
   "source": [
    "print lmp_i.strucC.lat.matrix"
   ]
  },
  {
   "cell_type": "code",
   "execution_count": 432,
   "metadata": {},
   "outputs": [],
   "source": [
    "lmp_i.strucC.tag += '_equ0'"
   ]
  },
  {
   "cell_type": "code",
   "execution_count": 433,
   "metadata": {
    "collapsed": true
   },
   "outputs": [],
   "source": [
    "lmp_i.strucC.write_xyz()"
   ]
  },
  {
   "cell_type": "code",
   "execution_count": 434,
   "metadata": {
    "collapsed": true
   },
   "outputs": [],
   "source": [
    "lmp_i.strucC.calc_center_mass()"
   ]
  },
  {
   "cell_type": "markdown",
   "metadata": {},
   "source": [
    "Create groups out of the molecules"
   ]
  },
  {
   "cell_type": "code",
   "execution_count": 436,
   "metadata": {
    "collapsed": true
   },
   "outputs": [],
   "source": [
    "groupset_i = streamm.Groups('mol',lmp_i.strucC)\n",
    "groupset_i.group_prop('mol','oligomers')"
   ]
  },
  {
   "cell_type": "code",
   "execution_count": 437,
   "metadata": {},
   "outputs": [
    {
     "name": "stdout",
     "output_type": "stream",
     "text": [
      "50\n"
     ]
    }
   ],
   "source": [
    "print len(groupset_i.groups)"
   ]
  },
  {
   "cell_type": "code",
   "execution_count": 460,
   "metadata": {},
   "outputs": [
    {
     "name": "stdout",
     "output_type": "stream",
     "text": [
      "[True, True, True]\n"
     ]
    }
   ],
   "source": [
    "print groupset_i.strucC.lat.pbcs"
   ]
  },
  {
   "cell_type": "code",
   "execution_count": 494,
   "metadata": {},
   "outputs": [
    {
     "name": "stdout",
     "output_type": "stream",
     "text": [
      "[[ 64.6368559   0.          0.       ]\n",
      " [  0.         64.6368559   0.       ]\n",
      " [  0.          0.         64.6368559]]\n"
     ]
    }
   ],
   "source": [
    "print groupset_i.strucC.lat.matrix"
   ]
  },
  {
   "cell_type": "markdown",
   "metadata": {},
   "source": [
    "Apply periodic boundries to all the groups, so the molecules are not split across pbc's"
   ]
  },
  {
   "cell_type": "code",
   "execution_count": 512,
   "metadata": {},
   "outputs": [],
   "source": [
    "groupset_i.group_pbcs()"
   ]
  },
  {
   "cell_type": "code",
   "execution_count": 513,
   "metadata": {
    "collapsed": true
   },
   "outputs": [],
   "source": [
    "groupset_i.strucC.write_xyz('g_pbcs.xyz')"
   ]
  },
  {
   "cell_type": "code",
   "execution_count": null,
   "metadata": {
    "collapsed": true
   },
   "outputs": [],
   "source": [
    "groupset_i.calc_cent_mass()\n",
    "groupset_i.calc_radius()\n",
    "# groupset_i.calc_dl()"
   ]
  },
  {
   "cell_type": "markdown",
   "metadata": {},
   "source": [
    "Create a neighbor list of groups "
   ]
  },
  {
   "cell_type": "code",
   "execution_count": 541,
   "metadata": {},
   "outputs": [
    {
     "name": "stdout",
     "output_type": "stream",
     "text": [
      "\n"
     ]
    }
   ],
   "source": [
    "groupset_i.group_nblist.radii_nblist(groupset_i.strucC.lat,groupset_i.cent_mass,groupset_i.radius,radii_buffer=1.00)"
   ]
  },
  {
   "cell_type": "code",
   "execution_count": 542,
   "metadata": {},
   "outputs": [
    {
     "name": "stdout",
     "output_type": "stream",
     "text": [
      "<streamm.structures.group.Group object at 0x1ce9de050>"
     ]
    },
    {
     "ename": "KeyError",
     "evalue": "u' Neighbor list not set '",
     "output_type": "error",
     "traceback": [
      "\u001b[0;31m---------------------------------------------------------------------------\u001b[0m",
      "\u001b[0;31mKeyError\u001b[0m                                  Traceback (most recent call last)",
      "\u001b[0;32m<ipython-input-542-e7bec96c79f0>\u001b[0m in \u001b[0;36m<module>\u001b[0;34m()\u001b[0m\n\u001b[1;32m      1\u001b[0m \u001b[0;32mfor\u001b[0m \u001b[0mgk_i\u001b[0m\u001b[0;34m,\u001b[0m\u001b[0mg_i\u001b[0m \u001b[0;32min\u001b[0m \u001b[0mgroupset_i\u001b[0m\u001b[0;34m.\u001b[0m\u001b[0mgroups\u001b[0m\u001b[0;34m.\u001b[0m\u001b[0miteritems\u001b[0m\u001b[0;34m(\u001b[0m\u001b[0;34m)\u001b[0m\u001b[0;34m:\u001b[0m\u001b[0;34m\u001b[0m\u001b[0m\n\u001b[0;32m----> 2\u001b[0;31m         \u001b[0;32mprint\u001b[0m \u001b[0mg_i\u001b[0m\u001b[0;34m,\u001b[0m \u001b[0mgroupset_i\u001b[0m\u001b[0;34m.\u001b[0m\u001b[0mgroup_nblist\u001b[0m\u001b[0;34m.\u001b[0m\u001b[0mcalc_nnab\u001b[0m\u001b[0;34m(\u001b[0m\u001b[0mg_i\u001b[0m\u001b[0;34m)\u001b[0m\u001b[0;34m\u001b[0m\u001b[0m\n\u001b[0m\u001b[1;32m      3\u001b[0m \u001b[0;34m\u001b[0m\u001b[0m\n",
      "\u001b[0;32m/Users/tkemper/Development/streamm-tools/streamm/structures/nblist.pyc\u001b[0m in \u001b[0;36mcalc_nnab\u001b[0;34m(self, key_i)\u001b[0m\n\u001b[1;32m     88\u001b[0m             \u001b[0;32mreturn\u001b[0m \u001b[0mself\u001b[0m\u001b[0;34m.\u001b[0m\u001b[0mindex\u001b[0m\u001b[0;34m[\u001b[0m\u001b[0mkey_i\u001b[0m\u001b[0;34m+\u001b[0m\u001b[0;36m1\u001b[0m\u001b[0;34m]\u001b[0m \u001b[0;34m-\u001b[0m \u001b[0mself\u001b[0m\u001b[0;34m.\u001b[0m\u001b[0mindex\u001b[0m\u001b[0;34m[\u001b[0m\u001b[0mkey_i\u001b[0m\u001b[0;34m]\u001b[0m\u001b[0;34m\u001b[0m\u001b[0m\n\u001b[1;32m     89\u001b[0m         \u001b[0;32mexcept\u001b[0m\u001b[0;34m:\u001b[0m\u001b[0;34m\u001b[0m\u001b[0m\n\u001b[0;32m---> 90\u001b[0;31m             \u001b[0;32mraise\u001b[0m \u001b[0mKeyError\u001b[0m\u001b[0;34m(\u001b[0m\u001b[0;34m\" Neighbor list not set \"\u001b[0m\u001b[0;34m)\u001b[0m\u001b[0;34m\u001b[0m\u001b[0m\n\u001b[0m\u001b[1;32m     91\u001b[0m             \u001b[0;32mreturn\u001b[0m \u001b[0;34m[\u001b[0m\u001b[0;34m]\u001b[0m\u001b[0;34m\u001b[0m\u001b[0m\n\u001b[1;32m     92\u001b[0m \u001b[0;34m\u001b[0m\u001b[0m\n",
      "\u001b[0;31mKeyError\u001b[0m: u' Neighbor list not set '"
     ]
    }
   ],
   "source": [
    "for gk_i,g_i in groupset_i.groups.iteritems():\n",
    "        print g_i, groupset_i.group_nblist.calc_nnab(g_i)\n",
    "\n"
   ]
  },
  {
   "cell_type": "markdown",
   "metadata": {},
   "source": [
    "Loop over each group, shift the group to the center of the simulation cell and write an .xyz file that includes the neighbors of the group."
   ]
  },
  {
   "cell_type": "code",
   "execution_count": 538,
   "metadata": {
    "collapsed": true
   },
   "outputs": [
    {
     "ename": "KeyboardInterrupt",
     "evalue": "",
     "output_type": "error",
     "traceback": [
      "\u001b[0;31m---------------------------------------------------------------------------\u001b[0m",
      "\u001b[0;31mKeyboardInterrupt\u001b[0m                         Traceback (most recent call last)",
      "\u001b[0;32m<ipython-input-538-20181a2732b5>\u001b[0m in \u001b[0;36m<module>\u001b[0;34m()\u001b[0m\n\u001b[1;32m      4\u001b[0m             \u001b[0mlist_i\u001b[0m \u001b[0;34m+=\u001b[0m \u001b[0mgroupset_i\u001b[0m\u001b[0;34m.\u001b[0m\u001b[0mgroups\u001b[0m\u001b[0;34m[\u001b[0m\u001b[0mg_j\u001b[0m\u001b[0;34m]\u001b[0m\u001b[0;34m.\u001b[0m\u001b[0mpkeys\u001b[0m\u001b[0;34m\u001b[0m\u001b[0m\n\u001b[1;32m      5\u001b[0m         \u001b[0mgroupset_i\u001b[0m\u001b[0;34m.\u001b[0m\u001b[0mstrucC\u001b[0m\u001b[0;34m.\u001b[0m\u001b[0mshift_pos\u001b[0m\u001b[0;34m(\u001b[0m\u001b[0;34m-\u001b[0m\u001b[0;36m1.0\u001b[0m\u001b[0;34m*\u001b[0m\u001b[0mg_i\u001b[0m\u001b[0;34m.\u001b[0m\u001b[0mcent_mass\u001b[0m\u001b[0;34m)\u001b[0m  \u001b[0;31m# Place center of mass at origin\u001b[0m\u001b[0;34m\u001b[0m\u001b[0m\n\u001b[0;32m----> 6\u001b[0;31m         \u001b[0mgroupset_i\u001b[0m\u001b[0;34m.\u001b[0m\u001b[0mstrucC\u001b[0m\u001b[0;34m.\u001b[0m\u001b[0mwrite_xyz_list\u001b[0m\u001b[0;34m(\u001b[0m\u001b[0mlist_i\u001b[0m\u001b[0;34m,\u001b[0m\u001b[0mxyz_file\u001b[0m\u001b[0;34m=\u001b[0m\u001b[0;34m'nn_{}.xyz'\u001b[0m\u001b[0;34m.\u001b[0m\u001b[0mformat\u001b[0m\u001b[0;34m(\u001b[0m\u001b[0mg_i\u001b[0m\u001b[0;34m.\u001b[0m\u001b[0mtag\u001b[0m\u001b[0;34m)\u001b[0m\u001b[0;34m)\u001b[0m\u001b[0;34m\u001b[0m\u001b[0m\n\u001b[0m\u001b[1;32m      7\u001b[0m         \u001b[0mgroupset_i\u001b[0m\u001b[0;34m.\u001b[0m\u001b[0mstrucC\u001b[0m\u001b[0;34m.\u001b[0m\u001b[0mshift_pos\u001b[0m\u001b[0;34m(\u001b[0m\u001b[0mg_i\u001b[0m\u001b[0;34m.\u001b[0m\u001b[0mcent_mass\u001b[0m\u001b[0;34m)\u001b[0m  \u001b[0;31m# Return center of mass\u001b[0m\u001b[0;34m\u001b[0m\u001b[0m\n",
      "\u001b[0;32m/Users/tkemper/Development/streamm-tools/streamm/structures/structure.py\u001b[0m in \u001b[0;36mwrite_xyz_list\u001b[0;34m(self, list_i, xyz_file)\u001b[0m\n\u001b[1;32m    575\u001b[0m         \u001b[0;32mfor\u001b[0m \u001b[0mpkey_i\u001b[0m  \u001b[0;32min\u001b[0m \u001b[0mlist_i\u001b[0m\u001b[0;34m:\u001b[0m\u001b[0;34m\u001b[0m\u001b[0m\n\u001b[1;32m    576\u001b[0m             \u001b[0mparticle_i\u001b[0m \u001b[0;34m=\u001b[0m \u001b[0mself\u001b[0m\u001b[0;34m.\u001b[0m\u001b[0mparticles\u001b[0m\u001b[0;34m[\u001b[0m\u001b[0mpkey_i\u001b[0m\u001b[0;34m]\u001b[0m\u001b[0;34m\u001b[0m\u001b[0m\n\u001b[0;32m--> 577\u001b[0;31m             \u001b[0mpos_i\u001b[0m \u001b[0;34m=\u001b[0m \u001b[0mself\u001b[0m\u001b[0;34m.\u001b[0m\u001b[0mpositions\u001b[0m\u001b[0;34m[\u001b[0m\u001b[0mpkey_i\u001b[0m\u001b[0;34m]\u001b[0m\u001b[0;34m\u001b[0m\u001b[0m\n\u001b[0m\u001b[1;32m    578\u001b[0m             \u001b[0mF\u001b[0m\u001b[0;34m.\u001b[0m\u001b[0mwrite\u001b[0m\u001b[0;34m(\u001b[0m\u001b[0;34m\" %5s %16.8f %16.8f %16.8f \\n\"\u001b[0m\u001b[0;34m%\u001b[0m\u001b[0;34m(\u001b[0m\u001b[0mparticle_i\u001b[0m\u001b[0;34m.\u001b[0m\u001b[0msymbol\u001b[0m\u001b[0;34m,\u001b[0m\u001b[0mpos_i\u001b[0m\u001b[0;34m[\u001b[0m\u001b[0;36m0\u001b[0m\u001b[0;34m]\u001b[0m\u001b[0;34m,\u001b[0m\u001b[0mpos_i\u001b[0m\u001b[0;34m[\u001b[0m\u001b[0;36m1\u001b[0m\u001b[0;34m]\u001b[0m\u001b[0;34m,\u001b[0m\u001b[0mpos_i\u001b[0m\u001b[0;34m[\u001b[0m\u001b[0;36m2\u001b[0m\u001b[0;34m]\u001b[0m \u001b[0;34m)\u001b[0m\u001b[0;34m)\u001b[0m\u001b[0;34m\u001b[0m\u001b[0m\n\u001b[1;32m    579\u001b[0m         \u001b[0mF\u001b[0m\u001b[0;34m.\u001b[0m\u001b[0mclose\u001b[0m\u001b[0;34m(\u001b[0m\u001b[0;34m)\u001b[0m\u001b[0;34m\u001b[0m\u001b[0m\n",
      "\u001b[0;31mKeyboardInterrupt\u001b[0m: "
     ]
    }
   ],
   "source": [
    "for gk_i,g_i in groupset_i.groups.iteritems():\n",
    "        list_i = groupset_i.groups[gk_i].pkeys\n",
    "        for g_j in groupset_i.group_nblist.getnbs(gk_i):\n",
    "            list_i += groupset_i.groups[g_j].pkeys\n",
    "        groupset_i.strucC.shift_pos(-1.0*g_i.cent_mass)  # Place center of mass at origin\n",
    "        groupset_i.strucC.write_xyz_list(list_i,xyz_file='nn_{}.xyz'.format(g_i.tag))\n",
    "        groupset_i.strucC.shift_pos(g_i.cent_mass)  # Return center of mass "
   ]
  },
  {
   "cell_type": "code",
   "execution_count": null,
   "metadata": {
    "collapsed": true
   },
   "outputs": [],
   "source": [
    "The nearest neighbor cluster look good so let us calculate the electron transfer "
   ]
  },
  {
   "cell_type": "code",
   "execution_count": null,
   "metadata": {
    "collapsed": true
   },
   "outputs": [],
   "source": [
    "for gk_i,g_i in groupset_i.groups.iteritems():\n",
    "    for g_j in groupset_i.group_nblist.getnbs(gk_i):\n",
    "        if( g_j > g_i ):\n",
    "            \n",
    "\n",
    "    \n"
   ]
  },
  {
   "cell_type": "code",
   "execution_count": null,
   "metadata": {
    "collapsed": true
   },
   "outputs": [],
   "source": []
  },
  {
   "cell_type": "code",
   "execution_count": null,
   "metadata": {
    "collapsed": true
   },
   "outputs": [],
   "source": []
  },
  {
   "cell_type": "code",
   "execution_count": null,
   "metadata": {
    "collapsed": true
   },
   "outputs": [],
   "source": []
  },
  {
   "cell_type": "code",
   "execution_count": null,
   "metadata": {
    "collapsed": true
   },
   "outputs": [],
   "source": []
  },
  {
   "cell_type": "markdown",
   "metadata": {},
   "source": [
    "Cool looks like we got the box size down a bit, but we will need to run some more to get a solid system"
   ]
  },
  {
   "cell_type": "markdown",
   "metadata": {},
   "source": [
    "Let's change some of our run parameters for this longer run"
   ]
  },
  {
   "cell_type": "code",
   "execution_count": null,
   "metadata": {},
   "outputs": [],
   "source": [
    "print peregrine.properties.keys()"
   ]
  },
  {
   "cell_type": "code",
   "execution_count": null,
   "metadata": {},
   "outputs": [],
   "source": [
    "peregrine.properties['queue'] = 'batch'\n",
    "peregrine.properties['nodes'] =  8\n",
    "peregrine.properties['ppn'] =  24\n",
    "peregrine.properties['nproc'] =  8*24\n",
    "peregrine.properties['walltime'] =  48"
   ]
  },
  {
   "cell_type": "code",
   "execution_count": null,
   "metadata": {
    "collapsed": true
   },
   "outputs": [],
   "source": [
    "p3ht_et = lmp_run(p3ht_et,lmp_i.strucC,oplsaa,peregrine,md_type = 'equ1')"
   ]
  },
  {
   "cell_type": "code",
   "execution_count": null,
   "metadata": {},
   "outputs": [],
   "source": [
    "p3ht_et.check()"
   ]
  },
  {
   "cell_type": "code",
   "execution_count": null,
   "metadata": {
    "collapsed": true
   },
   "outputs": [],
   "source": [
    "lmp_i = p3ht_et.calculations['lmp_equ1_p3HTx50_equ0'] "
   ]
  },
  {
   "cell_type": "code",
   "execution_count": null,
   "metadata": {},
   "outputs": [],
   "source": [
    "lmp_i.analysis()"
   ]
  },
  {
   "cell_type": "code",
   "execution_count": null,
   "metadata": {},
   "outputs": [],
   "source": [
    "print len(lmp_i.properties['run_list'])"
   ]
  },
  {
   "cell_type": "code",
   "execution_count": null,
   "metadata": {
    "collapsed": true
   },
   "outputs": [],
   "source": [
    "lmp_i.store()"
   ]
  },
  {
   "cell_type": "code",
   "execution_count": null,
   "metadata": {
    "collapsed": true
   },
   "outputs": [],
   "source": [
    "lmp_i.pull()"
   ]
  },
  {
   "cell_type": "markdown",
   "metadata": {},
   "source": [
    "Read in data file output and update positions"
   ]
  },
  {
   "cell_type": "code",
   "execution_count": null,
   "metadata": {},
   "outputs": [],
   "source": [
    "print lmp_i.dir['launch']\n",
    "os.chdir(lmp_i.dir['launch'])"
   ]
  },
  {
   "cell_type": "code",
   "execution_count": null,
   "metadata": {},
   "outputs": [],
   "source": [
    "datafn = lmp_i.files['output']['data_3']\n",
    "print datafn"
   ]
  },
  {
   "cell_type": "code",
   "execution_count": null,
   "metadata": {
    "collapsed": true
   },
   "outputs": [],
   "source": [
    "lmp_i.read_data_pos(datafn)"
   ]
  },
  {
   "cell_type": "code",
   "execution_count": null,
   "metadata": {
    "scrolled": true
   },
   "outputs": [],
   "source": [
    "print lmp_i.strucC.lat.matrix"
   ]
  },
  {
   "cell_type": "code",
   "execution_count": null,
   "metadata": {
    "collapsed": true
   },
   "outputs": [],
   "source": [
    "lmp_i.strucC.write_xyz()"
   ]
  },
  {
   "cell_type": "code",
   "execution_count": null,
   "metadata": {
    "collapsed": true
   },
   "outputs": [],
   "source": []
  },
  {
   "cell_type": "code",
   "execution_count": null,
   "metadata": {
    "collapsed": true
   },
   "outputs": [],
   "source": []
  },
  {
   "cell_type": "markdown",
   "metadata": {},
   "source": [
    "Sweet as bro!"
   ]
  }
 ],
 "metadata": {
  "anaconda-cloud": {},
  "kernelspec": {
   "display_name": "Python 2",
   "language": "python",
   "name": "python2"
  },
  "language_info": {
   "codemirror_mode": {
    "name": "ipython",
    "version": 2
   },
   "file_extension": ".py",
   "mimetype": "text/x-python",
   "name": "python",
   "nbconvert_exporter": "python",
   "pygments_lexer": "ipython2",
   "version": "2.7.13"
  }
 },
 "nbformat": 4,
 "nbformat_minor": 2
}
