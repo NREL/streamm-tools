{
 "cells": [
  {
   "cell_type": "code",
   "execution_count": 1,
   "metadata": {
    "collapsed": true
   },
   "outputs": [],
   "source": [
    "%load_ext autoreload\n",
    "%autoreload 2"
   ]
  },
  {
   "cell_type": "code",
   "execution_count": 2,
   "metadata": {
    "collapsed": true
   },
   "outputs": [],
   "source": [
    "import os \n",
    "from pprint import pprint"
   ]
  },
  {
   "cell_type": "code",
   "execution_count": 3,
   "metadata": {
    "collapsed": true
   },
   "outputs": [],
   "source": [
    "import numpy as np\n",
    "import decimal\n",
    "import copy"
   ]
  },
  {
   "cell_type": "code",
   "execution_count": 4,
   "metadata": {
    "collapsed": true
   },
   "outputs": [],
   "source": [
    "import time"
   ]
  },
  {
   "cell_type": "code",
   "execution_count": 5,
   "metadata": {
    "collapsed": true
   },
   "outputs": [],
   "source": [
    "import streamm"
   ]
  },
  {
   "cell_type": "markdown",
   "metadata": {},
   "source": [
    "In this getting started example we will calculate the coupling between P3HT oligomers"
   ]
  },
  {
   "cell_type": "code",
   "execution_count": 6,
   "metadata": {
    "collapsed": true
   },
   "outputs": [],
   "source": [
    "import logging\n",
    "logging.basicConfig(filename='p3ht_et.log',level=logging.DEBUG)"
   ]
  },
  {
   "cell_type": "markdown",
   "metadata": {},
   "source": [
    "Now let's create project and resource to keep track of our work"
   ]
  },
  {
   "cell_type": "code",
   "execution_count": 7,
   "metadata": {
    "collapsed": true
   },
   "outputs": [],
   "source": [
    "p3ht_et = streamm.Project('P3HT_ET')"
   ]
  },
  {
   "cell_type": "markdown",
   "metadata": {},
   "source": [
    "And a resource object to keep track of where our files are "
   ]
  },
  {
   "cell_type": "code",
   "execution_count": 8,
   "metadata": {
    "collapsed": true
   },
   "outputs": [],
   "source": [
    "res_local = streamm.Resource('local')"
   ]
  },
  {
   "cell_type": "markdown",
   "metadata": {},
   "source": [
    "Update relative location of templates directory "
   ]
  },
  {
   "cell_type": "code",
   "execution_count": 9,
   "metadata": {
    "collapsed": true
   },
   "outputs": [],
   "source": [
    "res_local.dir['templates'] =  os.path.join(res_local.dir['home'],'..','templates','')"
   ]
  },
  {
   "cell_type": "code",
   "execution_count": 10,
   "metadata": {
    "collapsed": true
   },
   "outputs": [],
   "source": [
    "res_local.make_dir()"
   ]
  },
  {
   "cell_type": "code",
   "execution_count": 11,
   "metadata": {
    "collapsed": true
   },
   "outputs": [],
   "source": [
    "p3ht_et.set_resource(res_local)"
   ]
  },
  {
   "cell_type": "markdown",
   "metadata": {},
   "source": [
    "Now we need to set a remote resource we have ssh access to and run calculations "
   ]
  },
  {
   "cell_type": "code",
   "execution_count": 12,
   "metadata": {
    "collapsed": true
   },
   "outputs": [],
   "source": [
    "peregrine = streamm.Resource('peregrine')"
   ]
  },
  {
   "cell_type": "code",
   "execution_count": 13,
   "metadata": {
    "collapsed": true
   },
   "outputs": [],
   "source": [
    "peregrine.meta['type'] = \"ssh\"\n",
    "peregrine.ssh['username'] = \"tkemper\"    \n",
    "peregrine.ssh['address'] = \"peregrine.hpc.nrel.gov\"    \n",
    "peregrine.dir['storage'] = '/mss/users/%s'%(peregrine.ssh['username'])\n",
    "peregrine.dir['scratch'] = '/scratch/%s'%(peregrine.ssh['username'])\n",
    "peregrine.dir['home'] = res_local.dir['home']\n",
    "peregrine.dir['launch'] = res_local.dir['launch']\n",
    "peregrine.dir['templates'] = res_local.dir['templates']\n",
    "\n",
    "# Set default simulation specs\n",
    "peregrine.properties['allocation'] = 'orgopv'\n",
    "peregrine.properties['e-mail'] = 'travis.kemper@nrel.gov'\n",
    "peregrine.properties['scratch'] = peregrine.dir['scratch']\n",
    "peregrine.properties['allocation'] = 'orgopv'\n",
    "peregrine.properties['walltime'] = 4\n",
    "peregrine.properties['nodes'] = int(1)\n",
    "peregrine.properties['ppn'] = int(24)\n",
    "peregrine.properties['nproc'] = peregrine.properties['nodes']*peregrine.properties['ppn']\n",
    "peregrine.properties['queue'] = 'short'\n",
    "peregrine.properties['feature'] = '24core'\n",
    "peregrine.properties['exe_command'] = 'qsub '"
   ]
  },
  {
   "cell_type": "code",
   "execution_count": 14,
   "metadata": {},
   "outputs": [
    {
     "name": "stdout",
     "output_type": "stream",
     "text": [
      "{u'allocation': 'orgopv',\n",
      " 'e-mail': 'travis.kemper@nrel.gov',\n",
      " u'exe_command': 'qsub ',\n",
      " u'feature': '24core',\n",
      " u'nodes': 1,\n",
      " u'nproc': 24,\n",
      " u'pmem': 1500,\n",
      " u'ppn': 24,\n",
      " u'queue': 'short',\n",
      " 'scratch': '/scratch/tkemper',\n",
      " u'walltime': 4}\n"
     ]
    }
   ],
   "source": [
    "pprint(peregrine.properties)"
   ]
  },
  {
   "cell_type": "code",
   "execution_count": 15,
   "metadata": {
    "collapsed": true
   },
   "outputs": [],
   "source": [
    "peregrine.make_dir()"
   ]
  },
  {
   "cell_type": "markdown",
   "metadata": {},
   "source": [
    "Explicitely create a thiophene molecule"
   ]
  },
  {
   "cell_type": "code",
   "execution_count": 16,
   "metadata": {
    "collapsed": true
   },
   "outputs": [],
   "source": [
    "bbTh = streamm.Buildingblock('thiophene')\n",
    "symbols = ['C','C','C','C','S','H','H','H','H']\n",
    "positions = [ ]\n",
    "positions.append([-1.55498576,-1.91131218,-0.00081000])\n",
    "positions.append([-0.17775976,-1.91131218,-0.00081000])\n",
    "positions.append([0.34761524,-0.57904218,-0.00081000])\n",
    "positions.append([-0.65884476,0.36101082,0.00000000])\n",
    "positions.append([-2.16948076,-0.35614618,-0.00000800])\n",
    "positions.append([-2.18966076,-2.79526518,-0.00132100])\n",
    "positions.append([0.45389024,-2.80145418,-0.00106400])\n",
    "positions.append([1.41682424,-0.35961818,-0.00138200])\n",
    "positions.append([-0.51943676,1.44024682,0.00064700])\n",
    "for i in range(len(symbols)):\n",
    "    pt_i = streamm.Particle(symbol=symbols[i])\n",
    "    pos_i = positions[i]\n",
    "    bbTh.add_partpos(pt_i,pos_i)"
   ]
  },
  {
   "cell_type": "code",
   "execution_count": 17,
   "metadata": {
    "collapsed": true
   },
   "outputs": [],
   "source": [
    "bbTh.particles[5].rsite = 'termcap'\n",
    "bbTh.particles[6].rsite = 'funccap'\n",
    "bbTh.particles[8].rsite = 'termcap'"
   ]
  },
  {
   "cell_type": "markdown",
   "metadata": {},
   "source": [
    "Set some properties of the molecule to keep track of the parts"
   ]
  },
  {
   "cell_type": "code",
   "execution_count": 18,
   "metadata": {
    "collapsed": true
   },
   "outputs": [],
   "source": [
    "c_cnt =1\n",
    "h_cnt =1\n",
    "\n",
    "for pkey_i, particle_i  in bbTh.particles.iteritems():\n",
    "\n",
    "    if( particle_i.symbol == 'C' ):\n",
    "        particle_i.label = \"C%d\"%(c_cnt)\n",
    "        particle_i.resname = \"SCP2\"\n",
    "        particle_i.residue = 1\n",
    "\n",
    "        c_cnt +=1 \n",
    "    if( particle_i.symbol == 'S' ):\n",
    "        particle_i.resname = \"ThS\"\n",
    "        particle_i.residue = 2\n",
    "\n",
    "    if( particle_i.symbol == 'H' ):\n",
    "        particle_i.label = \"H%d\"%(h_cnt)\n",
    "        particle_i.resname = \"HA\"\n",
    "        particle_i.residue = 3\n",
    "\n",
    "        h_cnt +=1 \n"
   ]
  },
  {
   "cell_type": "markdown",
   "metadata": {},
   "source": [
    "Set the force-field type and guess some reasonable charges "
   ]
  },
  {
   "cell_type": "code",
   "execution_count": 19,
   "metadata": {
    "collapsed": true
   },
   "outputs": [],
   "source": [
    "for pkey_i, particle_i  in bbTh.particles.iteritems():\n",
    "    if( particle_i.symbol == 'C' ):\n",
    "        particle_i.paramkey = 'CA'\n",
    "        particle_i.charge = -0.025\n",
    "    if( particle_i.symbol == 'S' ):\n",
    "        particle_i.paramkey = 'S'\n",
    "        particle_i.charge = -0.3\n",
    "    if( particle_i.symbol == 'H' ):\n",
    "        particle_i.paramkey = 'HA'\n",
    "        particle_i.charge = 0.1"
   ]
  },
  {
   "cell_type": "markdown",
   "metadata": {},
   "source": [
    "Check molecule is neutral "
   ]
  },
  {
   "cell_type": "code",
   "execution_count": 20,
   "metadata": {},
   "outputs": [
    {
     "name": "stdout",
     "output_type": "stream",
     "text": [
      "-2.77555756156e-17\n"
     ]
    }
   ],
   "source": [
    "total_charge = 0.0\n",
    "for pkey_i, particle_i  in bbTh.particles.iteritems():\n",
    "    total_charge += particle_i.charge\n",
    "print total_charge"
   ]
  },
  {
   "cell_type": "markdown",
   "metadata": {},
   "source": [
    "Optimize structure with NWChem"
   ]
  },
  {
   "cell_type": "markdown",
   "metadata": {},
   "source": [
    "But let's put it in a function this time"
   ]
  },
  {
   "cell_type": "code",
   "execution_count": 21,
   "metadata": {
    "collapsed": true
   },
   "outputs": [],
   "source": [
    "def nw_opt(project_i,bb_i,res_i):\n",
    "    '''Optimize a streamm Buildingblock object with nwchem \n",
    "    \n",
    "    '''\n",
    "    nwchem_i = streamm.NWChem('nw_opt_{}'.format(bb_i.tag))\n",
    "    print nwchem_i.tag \n",
    "    # Add thiophene structure \n",
    "    nwchem_i.strucC = copy.deepcopy(bb_i)\n",
    "    # Set calculation to run on external resource\n",
    "    nwchem_i.set_resource(res_i)\n",
    "    # Make the local directories \n",
    "    nwchem_i.make_dir()\n",
    "    #Change to the `launch` directory\n",
    "    os.chdir(nwchem_i.dir['launch'])\n",
    "    # Copy over templates\n",
    "    nwchem_i.cp_file('templates','run',\"nwchem_peregrine.pbs\",'templates','launch')\n",
    "    nwchem_i.cp_file('templates','nw',\"nwchem.nw\",'templates','launch')\n",
    "    # Read in templates files \n",
    "    nwchem_i.load_str('templates','nw')        \n",
    "    nwchem_i.load_str('templates','run')\n",
    "    # Set calculation properties \n",
    "    nwchem_i.properties['basis'] = '6-31g'\n",
    "    nwchem_i.properties['method'] = 'UHF'\n",
    "    nwchem_i.properties['charge'] = 0\n",
    "    nwchem_i.properties['spin_mult'] = 1\n",
    "    nwchem_i.properties['task'] = 'SCF optimize'\n",
    "    nwchem_i.properties['coord'] = nwchem_i.strucC.write_coord()\n",
    "    # \n",
    "    pprint(nwchem_i.properties)\n",
    "    # Replace <key> with properties value \n",
    "    nwchem_i.replacewrite_prop('nw','input','nw','%s.nw'%(nwchem_i.tag))\n",
    "    nwchem_i.properties['input_nw'] = nwchem_i.files['input']['nw']\n",
    "    nwchem_i.replacewrite_prop('run','scripts','run','%s.pbs'%(nwchem_i.tag))\n",
    "    #\n",
    "    nwchem_i.add_file('output','log',\"%s.log\"%(nwchem_i.tag))\n",
    "    # Save details in .json files \n",
    "    os.chdir(nwchem_i.dir['home'])\n",
    "    p3ht_et.dump_json()\n",
    "    # \n",
    "    os.chdir(nwchem_i.dir['launch'])\n",
    "    # \n",
    "    nwchem_i.push()\n",
    "    # \n",
    "    nwchem_i.run()\n",
    "    # Add calculation to project\n",
    "    project_i.add_calc(nwchem_i,deepcopy = True)\n",
    "    # \n",
    "    return project_i "
   ]
  },
  {
   "cell_type": "code",
   "execution_count": 22,
   "metadata": {},
   "outputs": [
    {
     "name": "stdout",
     "output_type": "stream",
     "text": [
      "nw_opt_thiophene\n",
      "{u'allocation': 'orgopv',\n",
      " u'basis': '6-31g',\n",
      " u'charge': 0,\n",
      " 'comp_key': 'compressed',\n",
      " 'compress': 'tar -czf ',\n",
      " 'compress_sufix': 'tgz',\n",
      " 'coord': u'     C      -1.55498576      -1.91131218      -0.00081000 \\n     C      -0.17775976      -1.91131218      -0.00081000 \\n     C       0.34761524      -0.57904218      -0.00081000 \\n     C      -0.65884476       0.36101082       0.00000000 \\n     S      -2.16948076      -0.35614618      -0.00000800 \\n     H      -2.18966076      -2.79526518      -0.00132100 \\n     H       0.45389024      -2.80145418      -0.00106400 \\n     H       1.41682424      -0.35961818      -0.00138200 \\n     H      -0.51943676       1.44024682       0.00064700 \\n',\n",
      " 'e-mail': 'travis.kemper@nrel.gov',\n",
      " u'exe_command': 'qsub ',\n",
      " u'feature': '24core',\n",
      " u'finish_str': u'Total times  cpu:',\n",
      " u'maxiter': 100,\n",
      " u'method': 'UHF',\n",
      " u'nodes': 1,\n",
      " u'nproc': 24,\n",
      " u'pmem': 1500,\n",
      " u'ppn': 24,\n",
      " u'queue': 'short',\n",
      " 'scratch': u'/scratch/tkemper/nw_opt_thiophene/',\n",
      " u'spin_mult': 1,\n",
      " u'task': 'SCF optimize',\n",
      " 'uncompress': 'tar -xzf ',\n",
      " u'walltime': 4}\n"
     ]
    }
   ],
   "source": [
    "p3ht_et = nw_opt(p3ht_et,bbTh,peregrine)"
   ]
  },
  {
   "cell_type": "code",
   "execution_count": null,
   "metadata": {
    "collapsed": true
   },
   "outputs": [],
   "source": [
    "nwchem_i = p3ht_et.calculations['nw_opt_thiophene']"
   ]
  },
  {
   "cell_type": "markdown",
   "metadata": {},
   "source": [
    "Check status unit finished"
   ]
  },
  {
   "cell_type": "code",
   "execution_count": null,
   "metadata": {
    "collapsed": true
   },
   "outputs": [],
   "source": [
    "while( nwchem_i.meta['status'] != 'finished'):\n",
    "    nwchem_i.check()\n",
    "    time.sleep(30)    "
   ]
  },
  {
   "cell_type": "code",
   "execution_count": null,
   "metadata": {},
   "outputs": [],
   "source": [
    "print nwchem_i.meta['status']"
   ]
  },
  {
   "cell_type": "code",
   "execution_count": null,
   "metadata": {
    "collapsed": true
   },
   "outputs": [],
   "source": [
    "nwchem_i.analysis()"
   ]
  },
  {
   "cell_type": "markdown",
   "metadata": {},
   "source": [
    "Print energies "
   ]
  },
  {
   "cell_type": "code",
   "execution_count": null,
   "metadata": {},
   "outputs": [],
   "source": [
    "print nwchem_i.properties['alpha_energies'][10:20]\n",
    "print nwchem_i.properties['energy']"
   ]
  },
  {
   "cell_type": "markdown",
   "metadata": {},
   "source": [
    "Check that the positions of the structure have been optimized "
   ]
  },
  {
   "cell_type": "code",
   "execution_count": null,
   "metadata": {},
   "outputs": [],
   "source": [
    "print bbTh.positions"
   ]
  },
  {
   "cell_type": "code",
   "execution_count": null,
   "metadata": {},
   "outputs": [],
   "source": [
    "print nwchem_i.strucC.positions"
   ]
  },
  {
   "cell_type": "markdown",
   "metadata": {},
   "source": [
    "Update positions with optimized geometry "
   ]
  },
  {
   "cell_type": "code",
   "execution_count": null,
   "metadata": {},
   "outputs": [],
   "source": [
    "for pk,p in bbTh.particles.iteritems():\n",
    "    bbTh.positions[pk] = nwchem_i.strucC.positions[pk]\n",
    "    print pk,p.symbol,bbTh.positions[pk]"
   ]
  },
  {
   "cell_type": "markdown",
   "metadata": {},
   "source": [
    "Store the results in a tar ball in the storage directory "
   ]
  },
  {
   "cell_type": "code",
   "execution_count": null,
   "metadata": {
    "collapsed": true
   },
   "outputs": [],
   "source": [
    "nwchem_i.store()"
   ]
  },
  {
   "cell_type": "markdown",
   "metadata": {},
   "source": [
    "Now let us calculate the ESP charges to use in our forcefield "
   ]
  },
  {
   "cell_type": "markdown",
   "metadata": {},
   "source": [
    "Again let's make it a function"
   ]
  },
  {
   "cell_type": "code",
   "execution_count": null,
   "metadata": {
    "collapsed": true
   },
   "outputs": [],
   "source": [
    "def nw_esp(project_i,bb_i,res_i):\n",
    "    '''Calculate ESP charges of a streamm Buildingblock object with nwchem \n",
    "    \n",
    "    '''\n",
    "    nwchem_esp = streamm.NWChem('nw_esp_{}'.format(bb_i.tag))\n",
    "    print(nwchem_esp.tag)\n",
    "    # Add thiophene structure with optimized coordinates from previous calculation\n",
    "    nwchem_esp.strucC = copy.deepcopy(bb_i)\n",
    "    # Set calculation to run on external resource\n",
    "    nwchem_esp.set_resource(res_i)\n",
    "    # Add calculation to project\n",
    "    project_i.add_calc(nwchem_esp)\n",
    "    # Make the local directories \n",
    "    nwchem_esp.make_dir()\n",
    "    # Change to the `launch` directory\n",
    "    os.chdir(nwchem_esp.dir['launch'])\n",
    "    #\n",
    "    nwchem_esp.cp_file('templates','run',\"nwchem_peregrine.pbs\",'templates','launch')\n",
    "    nwchem_esp.cp_file('templates','nw',\"nwchem_esp.nw\",'templates','launch')\n",
    "    #\n",
    "    nwchem_esp.load_str('templates','nw')        \n",
    "    nwchem_esp.load_str('templates','run')\n",
    "    # \n",
    "    nwchem_esp.properties['basis'] = '6-31g'\n",
    "    nwchem_esp.properties['method'] = 'UHF'\n",
    "    nwchem_esp.properties['charge'] = 0\n",
    "    nwchem_esp.properties['spin_mult'] = 1\n",
    "    nwchem_esp.properties['task'] = 'SCF'\n",
    "    nwchem_esp.properties['coord'] = nwchem_esp.strucC.write_coord()\n",
    "\n",
    "    pprint(nwchem_esp.properties)\n",
    "\n",
    "    nwchem_esp.replacewrite_prop('nw','input','nw','%s.nw'%(nwchem_esp.tag))\n",
    "\n",
    "    nwchem_esp.properties['input_nw'] = nwchem_esp.files['input']['nw']\n",
    "    nwchem_esp.replacewrite_prop('run','scripts','run','%s.pbs'%(nwchem_esp.tag))\n",
    "\n",
    "    nwchem_esp.add_file('output','log',\"%s.log\"%(nwchem_esp.tag))\n",
    "\n",
    "    # Save details in .json files \n",
    "\n",
    "    os.chdir(nwchem_esp.dir['home'])\n",
    "    project_i.dump_json()\n",
    "\n",
    "    os.chdir(nwchem_esp.dir['launch'])\n",
    "    nwchem_esp.push()\n",
    "    nwchem_esp.run()\n",
    "    # Add calculation to project\n",
    "    project_i.add_calc(nwchem_esp,deepcopy = True)\n",
    "    # \n",
    "    return project_i \n",
    "    \n",
    "    "
   ]
  },
  {
   "cell_type": "code",
   "execution_count": null,
   "metadata": {
    "scrolled": true
   },
   "outputs": [],
   "source": [
    "p3ht_et = nw_esp(p3ht_et,bbTh,peregrine)"
   ]
  },
  {
   "cell_type": "markdown",
   "metadata": {},
   "source": [
    "Check status until finished"
   ]
  },
  {
   "cell_type": "code",
   "execution_count": null,
   "metadata": {
    "collapsed": true
   },
   "outputs": [],
   "source": [
    "nwchem_i = p3ht_et.calculations['nw_esp_thiophene']"
   ]
  },
  {
   "cell_type": "code",
   "execution_count": null,
   "metadata": {
    "collapsed": true
   },
   "outputs": [],
   "source": [
    "while( nwchem_i.meta['status'] != 'finished'):\n",
    "    nwchem_i.check()\n",
    "    time.sleep(30)    "
   ]
  },
  {
   "cell_type": "code",
   "execution_count": null,
   "metadata": {},
   "outputs": [],
   "source": [
    "p3ht_et.check()"
   ]
  },
  {
   "cell_type": "code",
   "execution_count": null,
   "metadata": {
    "collapsed": true
   },
   "outputs": [],
   "source": [
    "nwchem_i.analysis()"
   ]
  },
  {
   "cell_type": "code",
   "execution_count": null,
   "metadata": {},
   "outputs": [],
   "source": [
    "total_charge = 0.0 \n",
    "for pk,p in nwchem_i.strucC.particles.iteritems():\n",
    "    print pk,p.symbol,p.charge\n",
    "    total_charge += p.charge\n",
    "print total_charge"
   ]
  },
  {
   "cell_type": "markdown",
   "metadata": {},
   "source": [
    "Update the charges of the Buildingblock"
   ]
  },
  {
   "cell_type": "code",
   "execution_count": null,
   "metadata": {
    "collapsed": true
   },
   "outputs": [],
   "source": [
    "bbTh.tag += '_HFesp'"
   ]
  },
  {
   "cell_type": "code",
   "execution_count": null,
   "metadata": {},
   "outputs": [],
   "source": [
    "for pk,p in bbTh.particles.iteritems():\n",
    "    p.charge = nwchem_i.strucC.particles[pk].charge\n",
    "    print pk,p.symbol,p.charge"
   ]
  },
  {
   "cell_type": "markdown",
   "metadata": {},
   "source": [
    "Store the results "
   ]
  },
  {
   "cell_type": "code",
   "execution_count": null,
   "metadata": {
    "collapsed": true
   },
   "outputs": [],
   "source": [
    "nwchem_i.store()"
   ]
  },
  {
   "cell_type": "code",
   "execution_count": null,
   "metadata": {
    "collapsed": true
   },
   "outputs": [],
   "source": [
    "bbTh.bonded_nblist = bbTh.guess_nblist(0,radii_buffer=1.35)"
   ]
  },
  {
   "cell_type": "code",
   "execution_count": null,
   "metadata": {
    "collapsed": true
   },
   "outputs": [],
   "source": [
    "bbTh.bonded_bonds()\n",
    "bbTh.bonded_angles()\n",
    "bbTh.bonded_dih()"
   ]
  },
  {
   "cell_type": "markdown",
   "metadata": {},
   "source": [
    "Store a pickled object of the Buildingblock"
   ]
  },
  {
   "cell_type": "code",
   "execution_count": null,
   "metadata": {},
   "outputs": [],
   "source": [
    "os.chdir(res_local.dir['materials']) \n",
    "bbTh.dump_pickle()"
   ]
  },
  {
   "cell_type": "markdown",
   "metadata": {},
   "source": [
    "Let us optimize the structure with the oplsaa force-field to check the parameters "
   ]
  },
  {
   "cell_type": "code",
   "execution_count": null,
   "metadata": {
    "collapsed": true
   },
   "outputs": [],
   "source": [
    "os.chdir(res_local.dir['home']) "
   ]
  },
  {
   "cell_type": "code",
   "execution_count": null,
   "metadata": {
    "collapsed": true
   },
   "outputs": [],
   "source": [
    "from pathlib2 import Path"
   ]
  },
  {
   "cell_type": "code",
   "execution_count": null,
   "metadata": {
    "collapsed": true
   },
   "outputs": [],
   "source": [
    "need_files = ['oplsaa.pkl']\n",
    "for f in need_files:\n",
    "    path = Path(f)\n",
    "    if not path.is_file():\n",
    "        print(\"Need to run forcefields.ipynb\")\n",
    "        os.system(\"jupyter nbconvert --to python  forcefields.ipynb\")\n",
    "        os.system(\"python forcefields.py\")"
   ]
  },
  {
   "cell_type": "code",
   "execution_count": null,
   "metadata": {
    "collapsed": true
   },
   "outputs": [],
   "source": [
    "oplsaa = streamm.forcefields.parameters.read_pickle('oplsaa')"
   ]
  },
  {
   "cell_type": "code",
   "execution_count": null,
   "metadata": {},
   "outputs": [],
   "source": [
    "print oplsaa.unit_conf['energy']"
   ]
  },
  {
   "cell_type": "markdown",
   "metadata": {},
   "source": [
    "We need to add the conjugated carbons, hydrogen and sulfur atom types "
   ]
  },
  {
   "cell_type": "code",
   "execution_count": null,
   "metadata": {
    "collapsed": true
   },
   "outputs": [],
   "source": [
    "import streamm.forcefields.particletype as particletype"
   ]
  },
  {
   "cell_type": "code",
   "execution_count": null,
   "metadata": {
    "collapsed": true
   },
   "outputs": [],
   "source": [
    "import pymatgen_core.core.periodic_table as periodic_table"
   ]
  },
  {
   "cell_type": "markdown",
   "metadata": {},
   "source": [
    "Set some parameters from J. Am. Chem. Soc., 1996, 118 (45), pp 11225–11236"
   ]
  },
  {
   "cell_type": "code",
   "execution_count": null,
   "metadata": {
    "collapsed": true
   },
   "outputs": [],
   "source": [
    "CA = particletype.Particletype('CA')\n",
    "HA = particletype.Particletype('HA')"
   ]
  },
  {
   "cell_type": "code",
   "execution_count": null,
   "metadata": {
    "collapsed": true
   },
   "outputs": [],
   "source": [
    "CA.update_units(oplsaa.unit_conf)\n",
    "HA.update_units(oplsaa.unit_conf)"
   ]
  },
  {
   "cell_type": "code",
   "execution_count": null,
   "metadata": {
    "collapsed": true
   },
   "outputs": [],
   "source": [
    "CA.epsilon = 0.070 # kcal/mol\n",
    "CA.sigma = 3.55 # Angstroms "
   ]
  },
  {
   "cell_type": "code",
   "execution_count": null,
   "metadata": {
    "collapsed": true
   },
   "outputs": [],
   "source": [
    "HA.epsilon = 0.030 # kcal/mol\n",
    "HA.sigma = 2.42 # Angstroms "
   ]
  },
  {
   "cell_type": "code",
   "execution_count": null,
   "metadata": {
    "collapsed": true
   },
   "outputs": [],
   "source": [
    "CA.mass =  periodic_table.Element['C'].atomic_mass.real\n",
    "HA.mass =  periodic_table.Element['H'].atomic_mass.real"
   ]
  },
  {
   "cell_type": "code",
   "execution_count": null,
   "metadata": {},
   "outputs": [],
   "source": [
    "print CA,HA"
   ]
  },
  {
   "cell_type": "code",
   "execution_count": null,
   "metadata": {
    "collapsed": true
   },
   "outputs": [],
   "source": [
    "S = particletype.Particletype('S')"
   ]
  },
  {
   "cell_type": "code",
   "execution_count": null,
   "metadata": {
    "collapsed": true
   },
   "outputs": [],
   "source": [
    "S.update_units(oplsaa.unit_conf)"
   ]
  },
  {
   "cell_type": "markdown",
   "metadata": {},
   "source": [
    "Set some parameters from J. Am. Chem. Soc., 1996, 118 (45), pp 11225–11236"
   ]
  },
  {
   "cell_type": "code",
   "execution_count": null,
   "metadata": {
    "collapsed": true
   },
   "outputs": [],
   "source": [
    "S.epsilon = 0.25 # kcal/mol\n",
    "S.sigma = 3.55 # Angstroms "
   ]
  },
  {
   "cell_type": "code",
   "execution_count": null,
   "metadata": {
    "collapsed": true
   },
   "outputs": [],
   "source": [
    "S.mass =  periodic_table.Element['S'].atomic_mass.real"
   ]
  },
  {
   "cell_type": "markdown",
   "metadata": {},
   "source": [
    "Add to forcefield parameters container"
   ]
  },
  {
   "cell_type": "code",
   "execution_count": null,
   "metadata": {
    "collapsed": true
   },
   "outputs": [],
   "source": [
    "oplsaa.add_particletype(CA)\n",
    "oplsaa.add_particletype(HA)\n",
    "oplsaa.add_particletype(S)"
   ]
  },
  {
   "cell_type": "markdown",
   "metadata": {},
   "source": [
    "Set the bond stretching parameters "
   ]
  },
  {
   "cell_type": "code",
   "execution_count": null,
   "metadata": {
    "collapsed": true
   },
   "outputs": [],
   "source": [
    "import streamm.forcefields.bondtype as bondtype"
   ]
  },
  {
   "cell_type": "code",
   "execution_count": null,
   "metadata": {
    "collapsed": true
   },
   "outputs": [],
   "source": [
    "bt_i = bondtype.Bondtype('CA','HA',unit_conf=oplsaa.unit_conf)\n",
    "bt_i.setharmonic(1.080,367.0)\n",
    "oplsaa.add_bondtype(bt_i)"
   ]
  },
  {
   "cell_type": "code",
   "execution_count": null,
   "metadata": {
    "collapsed": true
   },
   "outputs": [],
   "source": [
    "bt_i = bondtype.Bondtype('CA','CA',unit_conf=oplsaa.unit_conf)\n",
    "bt_i.setharmonic(1.400,469.0)\n",
    "oplsaa.add_bondtype(bt_i)"
   ]
  },
  {
   "cell_type": "code",
   "execution_count": null,
   "metadata": {
    "collapsed": true
   },
   "outputs": [],
   "source": [
    "bt_i = bondtype.Bondtype('S','CA',unit_conf=oplsaa.unit_conf)\n",
    "bt_i.setharmonic(1.71,250.0)\n",
    "oplsaa.add_bondtype(bt_i)"
   ]
  },
  {
   "cell_type": "code",
   "execution_count": null,
   "metadata": {},
   "outputs": [],
   "source": [
    "for btk,bt in oplsaa.bondtypes.iteritems():\n",
    "    print btk,bt"
   ]
  },
  {
   "cell_type": "code",
   "execution_count": null,
   "metadata": {
    "collapsed": true
   },
   "outputs": [],
   "source": [
    "import streamm.forcefields.angletype as angletype"
   ]
  },
  {
   "cell_type": "code",
   "execution_count": null,
   "metadata": {
    "collapsed": true
   },
   "outputs": [],
   "source": [
    "bat_i = angletype.Angletype('CA','CA','CA',unit_conf=oplsaa.unit_conf)\n",
    "bat_i.setharmonic(120.0,63.0)\n",
    "oplsaa.add_angletype(bat_i)"
   ]
  },
  {
   "cell_type": "code",
   "execution_count": null,
   "metadata": {
    "collapsed": true
   },
   "outputs": [],
   "source": [
    "bat_i = angletype.Angletype('CA','CA','HA',unit_conf=oplsaa.unit_conf)\n",
    "bat_i.setharmonic(120.0,35.0)\n",
    "oplsaa.add_angletype(bat_i)"
   ]
  },
  {
   "cell_type": "code",
   "execution_count": null,
   "metadata": {
    "collapsed": true
   },
   "outputs": [],
   "source": [
    "bat_i = angletype.Angletype('CA','S','CA',unit_conf=oplsaa.unit_conf)\n",
    "bat_i.setharmonic(92.2,70.0)\n",
    "oplsaa.add_angletype(bat_i)"
   ]
  },
  {
   "cell_type": "code",
   "execution_count": null,
   "metadata": {
    "collapsed": true
   },
   "outputs": [],
   "source": [
    "bat_i = angletype.Angletype('S','CA','HA',unit_conf=oplsaa.unit_conf)\n",
    "bat_i.setharmonic(120.0,35.0)\n",
    "oplsaa.add_angletype(bat_i)"
   ]
  },
  {
   "cell_type": "code",
   "execution_count": null,
   "metadata": {
    "collapsed": true
   },
   "outputs": [],
   "source": [
    "bat_i = angletype.Angletype('S','CA','CA',unit_conf=oplsaa.unit_conf)\n",
    "bat_i.setharmonic(111.0,70.0)\n",
    "oplsaa.add_angletype(bat_i)"
   ]
  },
  {
   "cell_type": "code",
   "execution_count": null,
   "metadata": {},
   "outputs": [],
   "source": [
    "for atk,at in oplsaa.angletypes.iteritems():\n",
    "    print atk,at"
   ]
  },
  {
   "cell_type": "markdown",
   "metadata": {},
   "source": [
    "Set some reasonable dihedral parameters"
   ]
  },
  {
   "cell_type": "code",
   "execution_count": null,
   "metadata": {
    "collapsed": true
   },
   "outputs": [],
   "source": [
    "import streamm.forcefields.dihtype as dihtype"
   ]
  },
  {
   "cell_type": "code",
   "execution_count": null,
   "metadata": {
    "collapsed": true
   },
   "outputs": [],
   "source": [
    "# oplsaa.dihtypes = {}"
   ]
  },
  {
   "cell_type": "code",
   "execution_count": null,
   "metadata": {
    "collapsed": true
   },
   "outputs": [],
   "source": [
    "dih_i = dihtype.Dihtype('X','CA','CA','X',unit_conf=oplsaa.unit_conf)\n",
    "dih_i.type ='opls'\n",
    "dih_i.setopls(0.0,1.812532,0.0,0.0)\n",
    "oplsaa.add_dihtype(dih_i)"
   ]
  },
  {
   "cell_type": "code",
   "execution_count": null,
   "metadata": {
    "collapsed": true
   },
   "outputs": [],
   "source": [
    "dih_i = dihtype.Dihtype('X','S','CA','X',unit_conf=oplsaa.unit_conf)\n",
    "dih_i.type ='opls'\n",
    "dih_i.setopls(0.0,2.416710,0.0,0.0)\n",
    "oplsaa.add_dihtype(dih_i)"
   ]
  },
  {
   "cell_type": "code",
   "execution_count": null,
   "metadata": {
    "collapsed": true
   },
   "outputs": [],
   "source": [
    "dih_i = dihtype.Dihtype('S','CA','CA','HA',unit_conf=oplsaa.unit_conf)\n",
    "dih_i.type ='opls'\n",
    "dih_i.setopls(0.0,1.812532,0.0,0.0)\n",
    "oplsaa.add_dihtype(dih_i)"
   ]
  },
  {
   "cell_type": "code",
   "execution_count": null,
   "metadata": {},
   "outputs": [],
   "source": [
    "for dk,d in oplsaa.dihtypes.iteritems():\n",
    "    print dk,d "
   ]
  },
  {
   "cell_type": "markdown",
   "metadata": {},
   "source": [
    "Let us make an MD simulation of just the monomer to check that our parameters are okay"
   ]
  },
  {
   "cell_type": "code",
   "execution_count": null,
   "metadata": {
    "collapsed": true
   },
   "outputs": [],
   "source": [
    "def lmp_run(project_i,bb_i,param_i,res_i,md_type = 'min'):\n",
    "    # Create LAMMPS calculation object \n",
    "    lmp_i = streamm.LAMMPS('lmp_{}_{}'.format(md_type,bb_i.tag))\n",
    "    # Set parameter container \n",
    "    lmp_i.paramC = param_i\n",
    "    lmp_i.set_strucC(bb_i)\n",
    "    # Set force-field parameters \n",
    "    lmp_i.set_ffparam()\n",
    "    # Set resource to local\n",
    "    lmp_i.set_resource(res_i)\n",
    "    # Make local directories\n",
    "    lmp_i.make_dir()\n",
    "    # Set pbc's to on\n",
    "    lmp_i.strucC.lat.pbcs = [True,True,True]\n",
    "    # Change to launch directory\n",
    "    os.chdir(lmp_i.dir['launch'])\n",
    "    # Copy over the templates from the template directory \n",
    "    lmp_i.cp_file('templates','in',\"lammps_{}.in\".format(md_type),'templates','launch')\n",
    "    lmp_i.cp_file('templates','run',\"lammps_peregrine.pbs\",'templates','launch')\n",
    "    # Change to scratch\n",
    "    os.chdir(lmp_i.dir['launch'])\n",
    "    # Read in template files and store them as strings in the `str` dictionary\n",
    "    lmp_i.load_str('templates','in')\n",
    "    lmp_i.load_str('templates','run')\n",
    "    # Write LAMMPS .data file\n",
    "    lmp_i.write_data()\n",
    "    # Replace keys in template string with properties \n",
    "    lmp_i.replacewrite_prop('in','input','in','%s.in'%(lmp_i.tag))\n",
    "    # Add the input file to the properties to be written into the run file\n",
    "    lmp_i.properties['input_in'] = lmp_i.files['input']['in']\n",
    "    lmp_i.replacewrite_prop('run','scripts','run','%s.pbs'%(lmp_i.tag))\n",
    "    # Save json file in root directory\n",
    "    os.chdir(lmp_i.dir['home'])\n",
    "    lmp_i.dump_json()\n",
    "    # Run bash script or submit to cluster\n",
    "    lmp_i.add_file('output','log',\"%s.log\"%(lmp_i.tag))\n",
    "    # Save details in .json files \n",
    "    os.chdir(lmp_i.dir['home'])\n",
    "    project_i.dump_json()\n",
    "    #\n",
    "    os.chdir(lmp_i.dir['launch'])\n",
    "    lmp_i.push()\n",
    "    lmp_i.run()\n",
    "    # Add calculation to project\n",
    "    project_i.add_calc(lmp_i,deepcopy = True)\n",
    "    # \n",
    "    return project_i     "
   ]
  },
  {
   "cell_type": "code",
   "execution_count": null,
   "metadata": {
    "collapsed": true
   },
   "outputs": [],
   "source": [
    "p3ht_et = lmp_run(p3ht_et,bbTh,oplsaa,peregrine)"
   ]
  },
  {
   "cell_type": "code",
   "execution_count": null,
   "metadata": {
    "collapsed": true
   },
   "outputs": [],
   "source": [
    "lmp_i = p3ht_et.calculations['lmp_min_thiophene']"
   ]
  },
  {
   "cell_type": "code",
   "execution_count": null,
   "metadata": {
    "collapsed": true
   },
   "outputs": [],
   "source": [
    "while( lmp_i.meta['status'] != 'finished'):\n",
    "    lmp_i.check()\n",
    "    time.sleep(30)"
   ]
  },
  {
   "cell_type": "code",
   "execution_count": null,
   "metadata": {},
   "outputs": [],
   "source": [
    "lmp_i.analysis()"
   ]
  },
  {
   "cell_type": "markdown",
   "metadata": {},
   "source": [
    "Energy decreased and nothing exploded so that's good"
   ]
  },
  {
   "cell_type": "code",
   "execution_count": null,
   "metadata": {
    "collapsed": true
   },
   "outputs": [],
   "source": [
    "lmp_i.store()"
   ]
  },
  {
   "cell_type": "markdown",
   "metadata": {},
   "source": [
    "Read in data file positions"
   ]
  },
  {
   "cell_type": "code",
   "execution_count": null,
   "metadata": {
    "collapsed": true
   },
   "outputs": [],
   "source": [
    "lmp_i.pull()"
   ]
  },
  {
   "cell_type": "markdown",
   "metadata": {},
   "source": [
    "Read in data file output and update positions"
   ]
  },
  {
   "cell_type": "code",
   "execution_count": null,
   "metadata": {},
   "outputs": [],
   "source": [
    "print lmp_i.dir['launch']\n",
    "os.chdir(lmp_i.dir['launch'])"
   ]
  },
  {
   "cell_type": "code",
   "execution_count": null,
   "metadata": {},
   "outputs": [],
   "source": [
    "datafn = lmp_i.files['output']['data_1']\n",
    "print datafn"
   ]
  },
  {
   "cell_type": "code",
   "execution_count": null,
   "metadata": {},
   "outputs": [],
   "source": [
    "lmp_i.read_data_pos(datafn)"
   ]
  },
  {
   "cell_type": "code",
   "execution_count": null,
   "metadata": {},
   "outputs": [],
   "source": [
    "print lmp_i.strucC.lat.matrix"
   ]
  },
  {
   "cell_type": "code",
   "execution_count": null,
   "metadata": {
    "collapsed": true
   },
   "outputs": [],
   "source": [
    "lmp_i.strucC.write_xyz()"
   ]
  },
  {
   "cell_type": "markdown",
   "metadata": {},
   "source": [
    "We will use the oplsaa optimized structure as the initial structure since we will be running MD "
   ]
  },
  {
   "cell_type": "code",
   "execution_count": null,
   "metadata": {
    "collapsed": true
   },
   "outputs": [],
   "source": [
    "bbTh.tag += '_oplsaa'"
   ]
  },
  {
   "cell_type": "code",
   "execution_count": null,
   "metadata": {},
   "outputs": [],
   "source": [
    "for pk,p in bbTh.particles.iteritems():\n",
    "    bbTh.positions[pk] = lmp_i.strucC.positions[pk]\n",
    "    print pk,p.symbol,bbTh.positions[pk]"
   ]
  },
  {
   "cell_type": "markdown",
   "metadata": {},
   "source": [
    "Save the Buildingblock and force-field"
   ]
  },
  {
   "cell_type": "code",
   "execution_count": null,
   "metadata": {
    "collapsed": true
   },
   "outputs": [],
   "source": [
    "os.chdir(res_local.dir['materials']) \n",
    "bbTh.write_xyz()\n",
    "# bbTh.dump_pickle() # Not working for \n",
    "oplsaa.dump_pickle()"
   ]
  },
  {
   "cell_type": "markdown",
   "metadata": {},
   "source": [
    "Okay now that we have a handle on thiophene let's follow the same procedure for hexane"
   ]
  },
  {
   "cell_type": "markdown",
   "metadata": {},
   "source": [
    "Build hexane"
   ]
  },
  {
   "cell_type": "code",
   "execution_count": null,
   "metadata": {},
   "outputs": [],
   "source": [
    "bbHex = streamm.Buildingblock('hexane')\n",
    "symbols = ['C','H','H','H','C','H','H','C','H','H','C','H','H','C','H','H','C','H','H','H']\n",
    "positions = [ ]\n",
    "positions.append([-6.410969,-0.381641,-0.000031])\n",
    "positions.append([-7.310084,0.245311,-0.000038])\n",
    "positions.append([-6.456117,-1.028799,0.884636])\n",
    "positions.append([-6.456111,-1.028812,-0.884689])\n",
    "positions.append([-5.135268,0.467175,-0.000033])\n",
    "positions.append([-5.135484,1.128782,0.877977])\n",
    "positions.append([-5.135479,1.128771,-0.87805])\n",
    "positions.append([-3.850566,-0.371258,-0.000024])\n",
    "positions.append([-3.85112,-1.033978,0.87841])\n",
    "positions.append([-3.851114,-1.033987,-0.878451])\n",
    "positions.append([-2.567451,0.469603,-0.000024])\n",
    "positions.append([-2.567784,1.132155,0.8784])\n",
    "positions.append([-2.567776,1.132146,-0.878455])\n",
    "positions.append([-1.283527,-0.370234,-0.000013])\n",
    "positions.append([-1.28337,-1.032804,0.87836])\n",
    "positions.append([-1.28336,-1.032812,-0.87838])\n",
    "positions.append([0.00482234,0.47342231,-0.00000898])\n",
    "positions.append([0.02595107,1.09220686,0.87266464])\n",
    "positions.append([0.85585781,-0.17514133,0.00194589])\n",
    "positions.append([0.02780957,1.08937798,-0.87463473])\n",
    "for i in range(len(symbols)):\n",
    "    pt_i = streamm.Particle(symbol=symbols[i])\n",
    "    pos_i = positions[i]\n",
    "    bbHex.add_partpos(pt_i,pos_i)"
   ]
  },
  {
   "cell_type": "code",
   "execution_count": null,
   "metadata": {
    "collapsed": true
   },
   "outputs": [],
   "source": [
    "bbHex.particles[0].rsite = 'rg'\n",
    "bbHex.particles[1].rsite = 'rgcap'"
   ]
  },
  {
   "cell_type": "code",
   "execution_count": null,
   "metadata": {
    "collapsed": true
   },
   "outputs": [],
   "source": [
    "c_cnt =1\n",
    "h_cnt =1\n",
    "for pkey_i, particle_i  in bbHex.particles.iteritems():\n",
    "            if( particle_i.symbol == 'C' ):\n",
    "                particle_i.label = \"C%d\"%(c_cnt)\n",
    "                particle_i.resname = \"SCP3\"\n",
    "                particle_i.residue = c_cnt\n",
    "                c_cnt +=1 \n",
    "            if( particle_i.symbol == 'H' ):\n",
    "                particle_i.label = \"H%d\"%(h_cnt)\n",
    "                particle_i.resname = \"HC\"\n",
    "                particle_i.residue = c_cnt -1 \n",
    "                h_cnt +=1 "
   ]
  },
  {
   "cell_type": "markdown",
   "metadata": {},
   "source": [
    "Set the parameter keys and some reasonable atomic charges "
   ]
  },
  {
   "cell_type": "code",
   "execution_count": null,
   "metadata": {},
   "outputs": [],
   "source": [
    "for pkey_i, particle_i  in bbHex.particles.iteritems():\n",
    "            if( particle_i.symbol == 'C' ):\n",
    "                particle_i.paramkey = 'CT'\n",
    "                particle_i.charge = -0.12\n",
    "\n",
    "            if( particle_i.symbol == 'H' ):\n",
    "                particle_i.paramkey = 'HC'\n",
    "                particle_i.charge = 0.06\n",
    "            print pkey_i, particle_i.symbol,particle_i.charge"
   ]
  },
  {
   "cell_type": "code",
   "execution_count": null,
   "metadata": {
    "collapsed": true
   },
   "outputs": [],
   "source": [
    "bbHex.particles[0].charge  = -0.18\n",
    "bbHex.particles[16].charge  = -0.18"
   ]
  },
  {
   "cell_type": "markdown",
   "metadata": {},
   "source": [
    "Check that the molecule is neutral "
   ]
  },
  {
   "cell_type": "code",
   "execution_count": null,
   "metadata": {},
   "outputs": [],
   "source": [
    "bbHex.calc_charge()\n",
    "print bbHex.charge\n"
   ]
  },
  {
   "cell_type": "markdown",
   "metadata": {},
   "source": [
    "Now let us optimze and calculate ESP charges for hexane"
   ]
  },
  {
   "cell_type": "markdown",
   "metadata": {},
   "source": [
    "Optimize structure with NWChem"
   ]
  },
  {
   "cell_type": "code",
   "execution_count": null,
   "metadata": {},
   "outputs": [],
   "source": [
    "p3ht_et = nw_opt(p3ht_et,bbHex,peregrine)"
   ]
  },
  {
   "cell_type": "code",
   "execution_count": null,
   "metadata": {
    "collapsed": true
   },
   "outputs": [],
   "source": [
    "nwchem_i = p3ht_et.calculations['nw_opt_hexane']"
   ]
  },
  {
   "cell_type": "code",
   "execution_count": null,
   "metadata": {
    "collapsed": true
   },
   "outputs": [],
   "source": [
    "while( nwchem_i.meta['status'] != 'finished'):\n",
    "    nwchem_i.check()\n",
    "    time.sleep(30)"
   ]
  },
  {
   "cell_type": "code",
   "execution_count": null,
   "metadata": {},
   "outputs": [],
   "source": [
    "p3ht_et.check()"
   ]
  },
  {
   "cell_type": "markdown",
   "metadata": {},
   "source": [
    "Get the calculation from the project object "
   ]
  },
  {
   "cell_type": "code",
   "execution_count": null,
   "metadata": {
    "collapsed": true
   },
   "outputs": [],
   "source": [
    "nwchem_i.analysis()"
   ]
  },
  {
   "cell_type": "markdown",
   "metadata": {},
   "source": [
    "Print energies "
   ]
  },
  {
   "cell_type": "code",
   "execution_count": null,
   "metadata": {},
   "outputs": [],
   "source": [
    "print nwchem_i.properties['alpha_energies'][10:20]\n",
    "print nwchem_i.properties['energy']"
   ]
  },
  {
   "cell_type": "markdown",
   "metadata": {},
   "source": [
    "Check that the positions of the structure have been optimized "
   ]
  },
  {
   "cell_type": "code",
   "execution_count": null,
   "metadata": {},
   "outputs": [],
   "source": [
    "for pk,p in bbHex.particles.iteritems():\n",
    "    print pk,p.symbol,bbHex.positions[pk]"
   ]
  },
  {
   "cell_type": "code",
   "execution_count": null,
   "metadata": {},
   "outputs": [],
   "source": [
    "print nwchem_i.strucC.positions"
   ]
  },
  {
   "cell_type": "markdown",
   "metadata": {},
   "source": [
    "Update positions in Buildingblock object"
   ]
  },
  {
   "cell_type": "code",
   "execution_count": null,
   "metadata": {},
   "outputs": [],
   "source": [
    "for pk,p in bbHex.particles.iteritems():\n",
    "    bbHex.positions[pk] = nwchem_i.strucC.positions[pk]\n",
    "    print pk,p.symbol,bbHex.positions[pk]"
   ]
  },
  {
   "cell_type": "markdown",
   "metadata": {},
   "source": [
    "Store the results in a tar ball in the storage directory "
   ]
  },
  {
   "cell_type": "code",
   "execution_count": null,
   "metadata": {
    "collapsed": true
   },
   "outputs": [],
   "source": [
    "nwchem_i.store()"
   ]
  },
  {
   "cell_type": "markdown",
   "metadata": {},
   "source": [
    "Now let us calculate the ESP charges to use in our forcefield "
   ]
  },
  {
   "cell_type": "code",
   "execution_count": null,
   "metadata": {
    "scrolled": true
   },
   "outputs": [],
   "source": [
    "p3ht_et = nw_esp(p3ht_et,bbHex,peregrine)"
   ]
  },
  {
   "cell_type": "markdown",
   "metadata": {},
   "source": [
    "Check status unit finished"
   ]
  },
  {
   "cell_type": "code",
   "execution_count": null,
   "metadata": {
    "collapsed": true
   },
   "outputs": [],
   "source": [
    "nwchem_i = p3ht_et.calculations['nw_esp_hexane']"
   ]
  },
  {
   "cell_type": "code",
   "execution_count": null,
   "metadata": {
    "collapsed": true
   },
   "outputs": [],
   "source": [
    "while( nwchem_i.meta['status'] != 'finished'):\n",
    "    nwchem_i.check()\n",
    "    time.sleep(30)"
   ]
  },
  {
   "cell_type": "code",
   "execution_count": null,
   "metadata": {},
   "outputs": [],
   "source": [
    "p3ht_et.check()"
   ]
  },
  {
   "cell_type": "code",
   "execution_count": null,
   "metadata": {
    "collapsed": true
   },
   "outputs": [],
   "source": [
    "nwchem_i.analysis()"
   ]
  },
  {
   "cell_type": "code",
   "execution_count": null,
   "metadata": {},
   "outputs": [],
   "source": [
    "for pk,p in nwchem_i.strucC.particles.iteritems():\n",
    "    print pk,p.symbol,p.charge"
   ]
  },
  {
   "cell_type": "code",
   "execution_count": null,
   "metadata": {},
   "outputs": [],
   "source": [
    "nwchem_i.strucC.calc_charge()\n",
    "print nwchem_i.strucC.charge"
   ]
  },
  {
   "cell_type": "markdown",
   "metadata": {},
   "source": [
    "Print energies "
   ]
  },
  {
   "cell_type": "code",
   "execution_count": null,
   "metadata": {},
   "outputs": [],
   "source": [
    "print nwchem_i.properties['alpha_energies'][10:20]\n",
    "print nwchem_i.properties['energy']"
   ]
  },
  {
   "cell_type": "markdown",
   "metadata": {},
   "source": [
    "Update the charges of the Buildingblock"
   ]
  },
  {
   "cell_type": "code",
   "execution_count": null,
   "metadata": {
    "collapsed": true
   },
   "outputs": [],
   "source": [
    "for pk,p in bbHex.particles.iteritems():\n",
    "    p.charge = nwchem_i.strucC.particles[pk].charge"
   ]
  },
  {
   "cell_type": "code",
   "execution_count": null,
   "metadata": {
    "collapsed": true
   },
   "outputs": [],
   "source": [
    "bbHex.tag += '_HFesp'"
   ]
  },
  {
   "cell_type": "markdown",
   "metadata": {},
   "source": [
    "Store the results "
   ]
  },
  {
   "cell_type": "code",
   "execution_count": null,
   "metadata": {
    "collapsed": true
   },
   "outputs": [],
   "source": [
    "nwchem_i.store()"
   ]
  },
  {
   "cell_type": "markdown",
   "metadata": {},
   "source": [
    "First we need to identify the bonding within the Buildingblock"
   ]
  },
  {
   "cell_type": "code",
   "execution_count": null,
   "metadata": {
    "collapsed": true
   },
   "outputs": [],
   "source": [
    "bbHex.bonded_nblist = bbHex.guess_nblist(0,radii_buffer=1.35)"
   ]
  },
  {
   "cell_type": "code",
   "execution_count": null,
   "metadata": {
    "collapsed": true
   },
   "outputs": [],
   "source": [
    "bbHex.bonded_bonds()\n",
    "bbHex.bonded_angles()\n",
    "bbHex.bonded_dih()"
   ]
  },
  {
   "cell_type": "markdown",
   "metadata": {},
   "source": [
    "Add the need parameters the the oplsaa parameter container"
   ]
  },
  {
   "cell_type": "code",
   "execution_count": null,
   "metadata": {
    "collapsed": true
   },
   "outputs": [],
   "source": [
    "bat_i = angletype.Angletype('CT','CT','CT',unit_conf=oplsaa.unit_conf)\n",
    "bat_i.setharmonic(109.50,40.0)\n",
    "oplsaa.add_angletype(bat_i)"
   ]
  },
  {
   "cell_type": "code",
   "execution_count": null,
   "metadata": {
    "collapsed": true
   },
   "outputs": [],
   "source": [
    "bat_i = angletype.Angletype('CT','CT','CT',unit_conf=oplsaa.unit_conf)\n",
    "bat_i.setharmonic(109.50,40.0)\n",
    "oplsaa.add_angletype(bat_i)"
   ]
  },
  {
   "cell_type": "code",
   "execution_count": null,
   "metadata": {
    "collapsed": true
   },
   "outputs": [],
   "source": [
    "bat_i = angletype.Angletype('CT','CT','HC',unit_conf=oplsaa.unit_conf)\n",
    "bat_i.setharmonic(109.50,50.0)\n",
    "oplsaa.add_angletype(bat_i)"
   ]
  },
  {
   "cell_type": "code",
   "execution_count": null,
   "metadata": {
    "collapsed": true
   },
   "outputs": [],
   "source": [
    "dih_i = dihtype.Dihtype('CT','CT','CT','CT',unit_conf=oplsaa.unit_conf)\n",
    "dih_i.type ='opls'\n",
    "dih_i.setopls(0.433341,-0.016667,0.066668,0.0)\n",
    "oplsaa.add_dihtype(dih_i)"
   ]
  },
  {
   "cell_type": "code",
   "execution_count": null,
   "metadata": {
    "collapsed": true
   },
   "outputs": [],
   "source": [
    "dih_i = dihtype.Dihtype('HC','CT','CT','CT',unit_conf=oplsaa.unit_conf)\n",
    "dih_i.type ='opls'\n",
    "dih_i.setopls(0.0,-0.0,0.1,0.0)\n",
    "oplsaa.add_dihtype(dih_i)"
   ]
  },
  {
   "cell_type": "code",
   "execution_count": null,
   "metadata": {
    "collapsed": true
   },
   "outputs": [],
   "source": [
    "dih_i = dihtype.Dihtype('HC','CT','CT','HC',unit_conf=oplsaa.unit_conf)\n",
    "dih_i.type ='opls'\n",
    "dih_i.setopls(0.0,-0.0,0.1,0.0)\n",
    "oplsaa.add_dihtype(dih_i)"
   ]
  },
  {
   "cell_type": "markdown",
   "metadata": {},
   "source": [
    "Run a oplsaa minimization to get the minimized structure"
   ]
  },
  {
   "cell_type": "code",
   "execution_count": null,
   "metadata": {
    "collapsed": true
   },
   "outputs": [],
   "source": [
    "p3ht_et = lmp_run(p3ht_et,bbHex,oplsaa,peregrine)"
   ]
  },
  {
   "cell_type": "code",
   "execution_count": null,
   "metadata": {},
   "outputs": [],
   "source": [
    "p3ht_et.check()"
   ]
  },
  {
   "cell_type": "code",
   "execution_count": null,
   "metadata": {},
   "outputs": [],
   "source": [
    "lmp_i = p3ht_et.calculations['lmp_min_hexane_HFesp']"
   ]
  },
  {
   "cell_type": "code",
   "execution_count": null,
   "metadata": {
    "collapsed": true
   },
   "outputs": [],
   "source": [
    "while( lmp_i.meta['status'] != 'finished'):\n",
    "    lmp_i.check()\n",
    "    time.sleep(30)"
   ]
  },
  {
   "cell_type": "code",
   "execution_count": null,
   "metadata": {},
   "outputs": [],
   "source": [
    "lmp_i.analysis()"
   ]
  },
  {
   "cell_type": "markdown",
   "metadata": {},
   "source": [
    "Energy decreased and nothing exploded so that's good"
   ]
  },
  {
   "cell_type": "code",
   "execution_count": null,
   "metadata": {
    "collapsed": true
   },
   "outputs": [],
   "source": [
    "lmp_i.store()"
   ]
  },
  {
   "cell_type": "markdown",
   "metadata": {},
   "source": [
    "Read in data file positions"
   ]
  },
  {
   "cell_type": "code",
   "execution_count": null,
   "metadata": {
    "collapsed": true
   },
   "outputs": [],
   "source": [
    "lmp_i.pull()"
   ]
  },
  {
   "cell_type": "markdown",
   "metadata": {},
   "source": [
    "Read in data file output and update positions"
   ]
  },
  {
   "cell_type": "code",
   "execution_count": null,
   "metadata": {},
   "outputs": [],
   "source": [
    "print lmp_i.dir['launch']\n",
    "os.chdir(lmp_i.dir['launch'])"
   ]
  },
  {
   "cell_type": "code",
   "execution_count": null,
   "metadata": {},
   "outputs": [],
   "source": [
    "datafn = lmp_i.files['output']['data_1']\n",
    "print datafn"
   ]
  },
  {
   "cell_type": "code",
   "execution_count": null,
   "metadata": {},
   "outputs": [],
   "source": [
    "lmp_i.read_data_pos(datafn)"
   ]
  },
  {
   "cell_type": "code",
   "execution_count": null,
   "metadata": {},
   "outputs": [],
   "source": [
    "print lmp_i.strucC.lat.matrix"
   ]
  },
  {
   "cell_type": "code",
   "execution_count": null,
   "metadata": {
    "collapsed": true
   },
   "outputs": [],
   "source": [
    "lmp_i.strucC.write_xyz()"
   ]
  },
  {
   "cell_type": "markdown",
   "metadata": {},
   "source": [
    "We will use the oplsaa optimized structure as the initial structure since we will be running MD "
   ]
  },
  {
   "cell_type": "code",
   "execution_count": null,
   "metadata": {
    "collapsed": true
   },
   "outputs": [],
   "source": [
    "bbHex.tag += '_oplsaa'"
   ]
  },
  {
   "cell_type": "code",
   "execution_count": null,
   "metadata": {},
   "outputs": [],
   "source": [
    "for pk,p in bbHex.particles.iteritems():\n",
    "    bbHex.positions[pk] = lmp_i.strucC.positions[pk]\n",
    "    print pk,p.symbol,bbHex.positions[pk]"
   ]
  },
  {
   "cell_type": "markdown",
   "metadata": {},
   "source": [
    "Save the Buildingblock and force-field"
   ]
  },
  {
   "cell_type": "code",
   "execution_count": null,
   "metadata": {
    "collapsed": true
   },
   "outputs": [],
   "source": [
    "os.chdir(res_local.dir['materials']) \n",
    "bbHex.write_xyz()\n",
    "# bbTh.dump_pickle() # Not working for \n",
    "oplsaa.dump_pickle()"
   ]
  },
  {
   "cell_type": "code",
   "execution_count": null,
   "metadata": {},
   "outputs": [],
   "source": [
    "print bbHex.tag,bbTh.tag"
   ]
  },
  {
   "cell_type": "markdown",
   "metadata": {},
   "source": [
    "So let us make some P3HT oligomers "
   ]
  },
  {
   "cell_type": "code",
   "execution_count": null,
   "metadata": {
    "collapsed": true
   },
   "outputs": [],
   "source": [
    "os.chdir(res_local.dir['materials']) "
   ]
  },
  {
   "cell_type": "code",
   "execution_count": null,
   "metadata": {
    "collapsed": true
   },
   "outputs": [],
   "source": [
    "bbTh.find_rsites()\n",
    "bbHex.find_rsites()"
   ]
  },
  {
   "cell_type": "code",
   "execution_count": null,
   "metadata": {},
   "outputs": [],
   "source": [
    "print(bbTh.show_rsites())"
   ]
  },
  {
   "cell_type": "code",
   "execution_count": null,
   "metadata": {},
   "outputs": [],
   "source": [
    "print(bbHex.show_rsites())"
   ]
  },
  {
   "cell_type": "code",
   "execution_count": null,
   "metadata": {
    "collapsed": true
   },
   "outputs": [],
   "source": [
    "import streamm.structures.buildingblock as bb"
   ]
  },
  {
   "cell_type": "code",
   "execution_count": null,
   "metadata": {
    "collapsed": true
   },
   "outputs": [],
   "source": [
    "ht = bb.attach(bbTh,bbHex,'funccap',0,'rgcap',0,tag='3-hexyl-thiophene')"
   ]
  },
  {
   "cell_type": "markdown",
   "metadata": {},
   "source": [
    "Update bond angles and dihedrals after Buildingblock join"
   ]
  },
  {
   "cell_type": "code",
   "execution_count": null,
   "metadata": {
    "collapsed": true
   },
   "outputs": [],
   "source": [
    "ht.bonded_bonds()\n",
    "ht.bonded_angles()\n",
    "ht.bonded_dih()"
   ]
  },
  {
   "cell_type": "markdown",
   "metadata": {},
   "source": [
    "Check that the molecule looks good"
   ]
  },
  {
   "cell_type": "code",
   "execution_count": null,
   "metadata": {
    "collapsed": true
   },
   "outputs": [],
   "source": [
    "ht.write_xyz()"
   ]
  },
  {
   "cell_type": "markdown",
   "metadata": {},
   "source": [
    "Check the charges of the removed hydrogens got summed onto the functionalized carbons correctly"
   ]
  },
  {
   "cell_type": "code",
   "execution_count": null,
   "metadata": {},
   "outputs": [],
   "source": [
    "ht.calc_charge()\n",
    "ht.charge"
   ]
  },
  {
   "cell_type": "code",
   "execution_count": null,
   "metadata": {},
   "outputs": [],
   "source": [
    "print(ht.show_rsites())"
   ]
  },
  {
   "cell_type": "markdown",
   "metadata": {},
   "source": [
    "Add inter thiophene hexane parameters"
   ]
  },
  {
   "cell_type": "code",
   "execution_count": null,
   "metadata": {
    "collapsed": true
   },
   "outputs": [],
   "source": [
    "bt_i = bondtype.Bondtype('CT','CA',unit_conf=oplsaa.unit_conf)\n",
    "bt_i.setharmonic(1.51,317.0)\n",
    "oplsaa.add_bondtype(bt_i)"
   ]
  },
  {
   "cell_type": "markdown",
   "metadata": {},
   "source": [
    "Bond angle parameters "
   ]
  },
  {
   "cell_type": "code",
   "execution_count": null,
   "metadata": {
    "collapsed": true
   },
   "outputs": [],
   "source": [
    "bat_i = angletype.Angletype('CA','CA','CT',unit_conf=oplsaa.unit_conf)\n",
    "bat_i.setharmonic(120.0,70.0)\n",
    "oplsaa.add_angletype(bat_i)\n",
    "\n",
    "\n",
    "bat_i = angletype.Angletype('HA','CA','CT',unit_conf=oplsaa.unit_conf)\n",
    "bat_i.setharmonic(120.0,35.0)\n",
    "oplsaa.add_angletype(bat_i)\n",
    "\n",
    "\n",
    "\n",
    "bat_i = angletype.Angletype('CA','CT','HC',unit_conf=oplsaa.unit_conf)\n",
    "bat_i.setharmonic(109.5,50.0)\n",
    "oplsaa.add_angletype(bat_i)\n",
    "\n",
    "bat_i = angletype.Angletype('CA','CT','CT',unit_conf=oplsaa.unit_conf)\n",
    "bat_i.setharmonic(114.0,63.0)\n",
    "oplsaa.add_angletype(bat_i)"
   ]
  },
  {
   "cell_type": "code",
   "execution_count": null,
   "metadata": {},
   "outputs": [],
   "source": [
    "for atk,at in oplsaa.angletypes.iteritems():\n",
    "    print atk,at"
   ]
  },
  {
   "cell_type": "markdown",
   "metadata": {},
   "source": [
    "Note: The inter-ring torsional is not consider as a seperate set of parameters for the simplicity of this example"
   ]
  },
  {
   "cell_type": "code",
   "execution_count": null,
   "metadata": {
    "collapsed": true
   },
   "outputs": [],
   "source": [
    "dih_i = dihtype.Dihtype('HC','CT','CT','CA',unit_conf=oplsaa.unit_conf)\n",
    "dih_i.type ='opls'\n",
    "dih_i.setopls(0.0,-0.0,0.1,0.0)\n",
    "oplsaa.add_dihtype(dih_i)"
   ]
  },
  {
   "cell_type": "code",
   "execution_count": null,
   "metadata": {
    "collapsed": true
   },
   "outputs": [],
   "source": [
    "dih_i = dihtype.Dihtype('CT','CT','CT','CA',unit_conf=oplsaa.unit_conf)\n",
    "dih_i.type ='opls'\n",
    "dih_i.setopls(0.433341,-0.016667,0.066668,0.0)\n",
    "oplsaa.add_dihtype(dih_i)"
   ]
  },
  {
   "cell_type": "code",
   "execution_count": null,
   "metadata": {
    "collapsed": true
   },
   "outputs": [],
   "source": [
    "dih_i = dihtype.Dihtype('HC','CT','CA','CA',unit_conf=oplsaa.unit_conf)\n",
    "dih_i.type ='opls'\n",
    "dih_i.setopls(0.0,-0.0,0.1,0.0)\n",
    "oplsaa.add_dihtype(dih_i)"
   ]
  },
  {
   "cell_type": "code",
   "execution_count": null,
   "metadata": {
    "collapsed": true
   },
   "outputs": [],
   "source": [
    "dih_i = dihtype.Dihtype('CT','CT','CA','CA',unit_conf=oplsaa.unit_conf)\n",
    "dih_i.type ='opls'\n",
    "dih_i.setopls(0.0,-0.0,0.0,0.0)\n",
    "oplsaa.add_dihtype(dih_i)"
   ]
  },
  {
   "cell_type": "code",
   "execution_count": null,
   "metadata": {},
   "outputs": [],
   "source": [
    "for dk,d in oplsaa.dihtypes.iteritems():\n",
    "    print dk,d "
   ]
  },
  {
   "cell_type": "markdown",
   "metadata": {},
   "source": [
    "Run a oplsaa minimization to get the minimized structure"
   ]
  },
  {
   "cell_type": "code",
   "execution_count": null,
   "metadata": {},
   "outputs": [],
   "source": [
    "p3ht_et = lmp_run(p3ht_et,ht,oplsaa,peregrine)"
   ]
  },
  {
   "cell_type": "code",
   "execution_count": null,
   "metadata": {},
   "outputs": [],
   "source": [
    "p3ht_et.check()"
   ]
  },
  {
   "cell_type": "code",
   "execution_count": null,
   "metadata": {
    "collapsed": true
   },
   "outputs": [],
   "source": [
    "lmp_i = p3ht_et.calculations['lmp_min_3-hexyl-thiophene']"
   ]
  },
  {
   "cell_type": "code",
   "execution_count": null,
   "metadata": {
    "collapsed": true
   },
   "outputs": [],
   "source": [
    "while( lmp_i.meta['status'] != 'finished'):\n",
    "    lmp_i.check()\n",
    "    time.sleep(30)"
   ]
  },
  {
   "cell_type": "code",
   "execution_count": null,
   "metadata": {},
   "outputs": [],
   "source": [
    "lmp_i.analysis()"
   ]
  },
  {
   "cell_type": "markdown",
   "metadata": {},
   "source": [
    "Energy decreased and nothing exploded so that's good"
   ]
  },
  {
   "cell_type": "code",
   "execution_count": null,
   "metadata": {
    "collapsed": true
   },
   "outputs": [],
   "source": [
    "lmp_i.store()"
   ]
  },
  {
   "cell_type": "markdown",
   "metadata": {},
   "source": [
    "Read in data file positions"
   ]
  },
  {
   "cell_type": "code",
   "execution_count": null,
   "metadata": {
    "collapsed": true
   },
   "outputs": [],
   "source": [
    "lmp_i.pull()"
   ]
  },
  {
   "cell_type": "markdown",
   "metadata": {},
   "source": [
    "Read in data file output and update positions"
   ]
  },
  {
   "cell_type": "code",
   "execution_count": null,
   "metadata": {},
   "outputs": [],
   "source": [
    "print lmp_i.dir['launch']\n",
    "os.chdir(lmp_i.dir['launch'])"
   ]
  },
  {
   "cell_type": "code",
   "execution_count": null,
   "metadata": {},
   "outputs": [],
   "source": [
    "datafn = lmp_i.files['output']['data_1']\n",
    "print datafn"
   ]
  },
  {
   "cell_type": "code",
   "execution_count": null,
   "metadata": {},
   "outputs": [],
   "source": [
    "lmp_i.read_data_pos(datafn)"
   ]
  },
  {
   "cell_type": "code",
   "execution_count": null,
   "metadata": {},
   "outputs": [],
   "source": [
    "print lmp_i.strucC.lat.matrix"
   ]
  },
  {
   "cell_type": "code",
   "execution_count": null,
   "metadata": {
    "collapsed": true
   },
   "outputs": [],
   "source": [
    "lmp_i.strucC.write_xyz()"
   ]
  },
  {
   "cell_type": "markdown",
   "metadata": {},
   "source": [
    "We will use the oplsaa optimized structure as the initial structure since we will be running MD "
   ]
  },
  {
   "cell_type": "code",
   "execution_count": null,
   "metadata": {
    "collapsed": true
   },
   "outputs": [],
   "source": [
    "ht.tag += '_oplsaa'"
   ]
  },
  {
   "cell_type": "code",
   "execution_count": null,
   "metadata": {},
   "outputs": [],
   "source": [
    "for pk,p in ht.particles.iteritems():\n",
    "    ht.positions[pk] = lmp_i.strucC.positions[pk]\n",
    "    print pk,p.symbol,ht.positions[pk]"
   ]
  },
  {
   "cell_type": "markdown",
   "metadata": {},
   "source": [
    "Save the Buildingblock and force-field"
   ]
  },
  {
   "cell_type": "code",
   "execution_count": null,
   "metadata": {
    "collapsed": true
   },
   "outputs": [],
   "source": [
    "os.chdir(res_local.dir['materials']) \n",
    "ht.write_xyz()\n",
    "# bbTh.dump_pickle() # Not working for \n",
    "oplsaa.dump_pickle()"
   ]
  },
  {
   "cell_type": "markdown",
   "metadata": {},
   "source": [
    "Okay we have the monomer, so let's make a pentamer "
   ]
  },
  {
   "cell_type": "code",
   "execution_count": null,
   "metadata": {
    "collapsed": true
   },
   "outputs": [],
   "source": [
    "penta_ht = copy.deepcopy(ht)"
   ]
  },
  {
   "cell_type": "code",
   "execution_count": null,
   "metadata": {
    "collapsed": true
   },
   "outputs": [],
   "source": [
    "# penta_ht = ht.prepattach('termcap',0,dir=-1,yangle=90.0)"
   ]
  },
  {
   "cell_type": "code",
   "execution_count": null,
   "metadata": {
    "collapsed": true
   },
   "outputs": [],
   "source": [
    "for n in range(4):\n",
    "    penta_ht = bb.attach(penta_ht,ht,'termcap',1,'termcap',0,tag='penta_3-hexyl-thiophene')"
   ]
  },
  {
   "cell_type": "markdown",
   "metadata": {},
   "source": [
    "Check the charges of the removed hydrogens got summed onto the functionalized carbons correctly"
   ]
  },
  {
   "cell_type": "code",
   "execution_count": null,
   "metadata": {},
   "outputs": [],
   "source": [
    "penta_ht.calc_charge()\n",
    "penta_ht.charge"
   ]
  },
  {
   "cell_type": "code",
   "execution_count": null,
   "metadata": {
    "collapsed": true
   },
   "outputs": [],
   "source": [
    "penta_ht.write_xyz()"
   ]
  },
  {
   "cell_type": "markdown",
   "metadata": {},
   "source": [
    "Well it's cis, but we can run some high temperature MD to randomize that "
   ]
  },
  {
   "cell_type": "markdown",
   "metadata": {},
   "source": [
    "Update bond angles and dihedrals after Buildingblock join"
   ]
  },
  {
   "cell_type": "code",
   "execution_count": null,
   "metadata": {
    "collapsed": true
   },
   "outputs": [],
   "source": [
    "penta_ht.bonded_bonds()\n",
    "penta_ht.bonded_angles()\n",
    "penta_ht.bonded_dih()"
   ]
  },
  {
   "cell_type": "code",
   "execution_count": null,
   "metadata": {},
   "outputs": [],
   "source": [
    "print penta_ht.print_properties()"
   ]
  },
  {
   "cell_type": "markdown",
   "metadata": {},
   "source": [
    "Run a oplsaa minimization to get the minimized structure"
   ]
  },
  {
   "cell_type": "code",
   "execution_count": null,
   "metadata": {},
   "outputs": [],
   "source": [
    "p3ht_et = lmp_run(p3ht_et,penta_ht,oplsaa,peregrine)"
   ]
  },
  {
   "cell_type": "code",
   "execution_count": null,
   "metadata": {},
   "outputs": [],
   "source": [
    "p3ht_et.check()"
   ]
  },
  {
   "cell_type": "code",
   "execution_count": null,
   "metadata": {
    "collapsed": true
   },
   "outputs": [],
   "source": [
    "lmp_i = p3ht_et.calculations['lmp_min_penta_3-hexyl-thiophene']"
   ]
  },
  {
   "cell_type": "code",
   "execution_count": null,
   "metadata": {
    "collapsed": true
   },
   "outputs": [],
   "source": [
    "while( lmp_i.meta['status'] != 'finished'):\n",
    "    lmp_i.check()\n",
    "    # time.sleep(30)"
   ]
  },
  {
   "cell_type": "code",
   "execution_count": null,
   "metadata": {},
   "outputs": [],
   "source": [
    "lmp_i.analysis()"
   ]
  },
  {
   "cell_type": "markdown",
   "metadata": {},
   "source": [
    "Energy decreased and nothing exploded so that's good"
   ]
  },
  {
   "cell_type": "code",
   "execution_count": null,
   "metadata": {
    "collapsed": true
   },
   "outputs": [],
   "source": [
    "lmp_i.store()"
   ]
  },
  {
   "cell_type": "markdown",
   "metadata": {},
   "source": [
    "Read in data file positions"
   ]
  },
  {
   "cell_type": "code",
   "execution_count": null,
   "metadata": {
    "collapsed": true
   },
   "outputs": [],
   "source": [
    "lmp_i.pull()"
   ]
  },
  {
   "cell_type": "markdown",
   "metadata": {},
   "source": [
    "Read in data file output and update positions"
   ]
  },
  {
   "cell_type": "code",
   "execution_count": null,
   "metadata": {},
   "outputs": [],
   "source": [
    "print lmp_i.dir['launch']\n",
    "os.chdir(lmp_i.dir['launch'])"
   ]
  },
  {
   "cell_type": "code",
   "execution_count": null,
   "metadata": {},
   "outputs": [],
   "source": [
    "datafn = lmp_i.files['output']['data_1']\n",
    "print datafn"
   ]
  },
  {
   "cell_type": "code",
   "execution_count": null,
   "metadata": {},
   "outputs": [],
   "source": [
    "lmp_i.read_data_pos(datafn)"
   ]
  },
  {
   "cell_type": "code",
   "execution_count": null,
   "metadata": {},
   "outputs": [],
   "source": [
    "print lmp_i.strucC.lat.matrix"
   ]
  },
  {
   "cell_type": "code",
   "execution_count": null,
   "metadata": {
    "collapsed": true
   },
   "outputs": [],
   "source": [
    "lmp_i.strucC.write_xyz()"
   ]
  },
  {
   "cell_type": "markdown",
   "metadata": {},
   "source": [
    "We will use the oplsaa optimized structure as the initial structure since we will be running MD "
   ]
  },
  {
   "cell_type": "code",
   "execution_count": null,
   "metadata": {
    "collapsed": true
   },
   "outputs": [],
   "source": [
    "penta_ht.tag += '_oplsaa'"
   ]
  },
  {
   "cell_type": "code",
   "execution_count": null,
   "metadata": {},
   "outputs": [],
   "source": [
    "for pk,p in penta_ht.particles.iteritems():\n",
    "    penta_ht.positions[pk] = lmp_i.strucC.positions[pk]\n",
    "    print pk,p.symbol,penta_ht.positions[pk]"
   ]
  },
  {
   "cell_type": "markdown",
   "metadata": {},
   "source": [
    "Save the Buildingblock and force-field"
   ]
  },
  {
   "cell_type": "code",
   "execution_count": null,
   "metadata": {
    "collapsed": true
   },
   "outputs": [],
   "source": [
    "os.chdir(res_local.dir['materials']) \n",
    "penta_ht.write_xyz()\n",
    "# bbTh.dump_pickle() # Not working for \n",
    "oplsaa.dump_pickle()"
   ]
  },
  {
   "cell_type": "markdown",
   "metadata": {},
   "source": [
    "Cool let's run some MD"
   ]
  },
  {
   "cell_type": "code",
   "execution_count": null,
   "metadata": {
    "collapsed": true
   },
   "outputs": [],
   "source": [
    "p3ht_et = lmp_run(p3ht_et,penta_ht,oplsaa,peregrine,md_type='nvt')"
   ]
  },
  {
   "cell_type": "code",
   "execution_count": null,
   "metadata": {},
   "outputs": [],
   "source": [
    "p3ht_et.check()"
   ]
  },
  {
   "cell_type": "code",
   "execution_count": null,
   "metadata": {
    "collapsed": true
   },
   "outputs": [],
   "source": [
    "lmp_i = p3ht_et.calculations['lmp_min_3-hexyl-thiophene']"
   ]
  },
  {
   "cell_type": "code",
   "execution_count": null,
   "metadata": {
    "collapsed": true
   },
   "outputs": [],
   "source": [
    "while( lmp_i.meta['status'] != 'finished'):\n",
    "    lmp_i.check()\n",
    "    time.sleep(30)"
   ]
  },
  {
   "cell_type": "code",
   "execution_count": null,
   "metadata": {
    "collapsed": true
   },
   "outputs": [],
   "source": [
    "lmp_i.analysis()"
   ]
  },
  {
   "cell_type": "code",
   "execution_count": null,
   "metadata": {
    "collapsed": true
   },
   "outputs": [],
   "source": []
  },
  {
   "cell_type": "code",
   "execution_count": null,
   "metadata": {
    "collapsed": true
   },
   "outputs": [],
   "source": []
  },
  {
   "cell_type": "code",
   "execution_count": null,
   "metadata": {
    "collapsed": true
   },
   "outputs": [],
   "source": []
  },
  {
   "cell_type": "markdown",
   "metadata": {},
   "source": [
    "Sweet as bro!"
   ]
  }
 ],
 "metadata": {
  "anaconda-cloud": {},
  "kernelspec": {
   "display_name": "Python 2",
   "language": "python",
   "name": "python2"
  },
  "language_info": {
   "codemirror_mode": {
    "name": "ipython",
    "version": 2
   },
   "file_extension": ".py",
   "mimetype": "text/x-python",
   "name": "python",
   "nbconvert_exporter": "python",
   "pygments_lexer": "ipython2",
   "version": "2.7.13"
  }
 },
 "nbformat": 4,
 "nbformat_minor": 2
}
