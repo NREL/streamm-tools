{
 "cells": [
  {
   "cell_type": "markdown",
   "metadata": {},
   "source": [
    "In this example we will create alkyl chains of various lengths, run quantum chemical analysis on each and then replicate them into a simulation cell for an MD simulation"
   ]
  },
  {
   "cell_type": "code",
   "execution_count": 1,
   "metadata": {
    "collapsed": true
   },
   "outputs": [],
   "source": [
    "import os \n",
    "from pprint import pprint"
   ]
  },
  {
   "cell_type": "markdown",
   "metadata": {},
   "source": [
    "Check that output from other examples has been generated "
   ]
  },
  {
   "cell_type": "code",
   "execution_count": 2,
   "metadata": {
    "collapsed": true
   },
   "outputs": [],
   "source": [
    "from pathlib2 import Path"
   ]
  },
  {
   "cell_type": "code",
   "execution_count": 3,
   "metadata": {
    "collapsed": true
   },
   "outputs": [],
   "source": [
    "need_files = ['methane.xyz']\n",
    "for f in need_files:\n",
    "    path = Path(f)\n",
    "    if not path.is_file():\n",
    "        print(\"Need to run structures_example.ipynb\")\n",
    "        os.system(\"jupyter nbconvert --to python  structures_example.ipynb\")\n",
    "        os.system(\"python structures_example.py\")"
   ]
  },
  {
   "cell_type": "code",
   "execution_count": 4,
   "metadata": {
    "collapsed": true
   },
   "outputs": [],
   "source": [
    "need_files = ['ethane.xyz']\n",
    "for f in need_files:\n",
    "    path = Path(f)\n",
    "    if not path.is_file():\n",
    "        print(\"Need to run buildingblocks_example.ipynb\")\n",
    "        os.system(\"jupyter nbconvert --to python  buildingblocks_example.ipynb\")\n",
    "        os.system(\"python buildingblocks_example.py\")"
   ]
  },
  {
   "cell_type": "code",
   "execution_count": 5,
   "metadata": {
    "collapsed": true
   },
   "outputs": [],
   "source": [
    "need_files = ['oplsaa_param.json']\n",
    "for f in need_files:\n",
    "    path = Path(f)\n",
    "    if not path.is_file():\n",
    "        print(\"Need to run forcefields_example.ipynb\")\n",
    "        os.system(\"jupyter nbconvert --to python  forcefields_example.ipynb\")\n",
    "        os.system(\"python forcefields_example.py\")"
   ]
  },
  {
   "cell_type": "code",
   "execution_count": 6,
   "metadata": {
    "collapsed": true
   },
   "outputs": [],
   "source": [
    "import streamm"
   ]
  },
  {
   "cell_type": "markdown",
   "metadata": {},
   "source": [
    "Now let's create project and resource to keep track of our work"
   ]
  },
  {
   "cell_type": "code",
   "execution_count": 7,
   "metadata": {
    "collapsed": true
   },
   "outputs": [],
   "source": [
    "alkyl_example = streamm.Project('alkyl_example')\n",
    "res_local = streamm.Resource('local')"
   ]
  },
  {
   "cell_type": "markdown",
   "metadata": {},
   "source": [
    "Update relative location of templates directory "
   ]
  },
  {
   "cell_type": "code",
   "execution_count": 8,
   "metadata": {
    "collapsed": true
   },
   "outputs": [],
   "source": [
    "res_local.dir['templates'] =  os.path.join(res_local.dir['home'],'..','templates','')"
   ]
  },
  {
   "cell_type": "markdown",
   "metadata": {},
   "source": [
    "Make sure this is the location of the templates directory that comes with the streamm git repository  https://github.com/NREL/streamm-tools"
   ]
  },
  {
   "cell_type": "code",
   "execution_count": 9,
   "metadata": {
    "collapsed": false
   },
   "outputs": [
    {
     "name": "stdout",
     "output_type": "stream",
     "text": [
      "/Users/tkemper/Development/streamm-tools/examples/../templates/\n"
     ]
    }
   ],
   "source": [
    "print res_local.dir['templates']"
   ]
  },
  {
   "cell_type": "markdown",
   "metadata": {},
   "source": [
    "Create the local directories that will store our files "
   ]
  },
  {
   "cell_type": "code",
   "execution_count": 10,
   "metadata": {
    "collapsed": true
   },
   "outputs": [],
   "source": [
    "res_local.make_dir()"
   ]
  },
  {
   "cell_type": "markdown",
   "metadata": {},
   "source": [
    "Tell the project about our directories "
   ]
  },
  {
   "cell_type": "code",
   "execution_count": 11,
   "metadata": {
    "collapsed": true
   },
   "outputs": [],
   "source": [
    "alkyl_example.set_resource(res_local)"
   ]
  },
  {
   "cell_type": "markdown",
   "metadata": {},
   "source": [
    "Read in the methane.xyz file created in the structure_example.ipynb example "
   ]
  },
  {
   "cell_type": "code",
   "execution_count": 12,
   "metadata": {
    "collapsed": true
   },
   "outputs": [],
   "source": [
    "methane = streamm.Buildingblock('methane')"
   ]
  },
  {
   "cell_type": "code",
   "execution_count": 13,
   "metadata": {
    "collapsed": true
   },
   "outputs": [],
   "source": [
    "methane.read_xyz()"
   ]
  },
  {
   "cell_type": "markdown",
   "metadata": {},
   "source": [
    "Create the neighbor list "
   ]
  },
  {
   "cell_type": "code",
   "execution_count": 14,
   "metadata": {
    "collapsed": true
   },
   "outputs": [],
   "source": [
    "methane.bonded_nblist = methane.guess_nblist(0,radii_buffer=1.25)"
   ]
  },
  {
   "cell_type": "markdown",
   "metadata": {},
   "source": [
    "and the bonded interactions"
   ]
  },
  {
   "cell_type": "code",
   "execution_count": 15,
   "metadata": {
    "collapsed": true
   },
   "outputs": [],
   "source": [
    "methane.bonded_bonds()\n",
    "methane.bonded_angles()\n",
    "methane.bonded_dih()"
   ]
  },
  {
   "cell_type": "code",
   "execution_count": 16,
   "metadata": {
    "collapsed": false
   },
   "outputs": [
    {
     "name": "stdout",
     "output_type": "stream",
     "text": [
      "5\n"
     ]
    }
   ],
   "source": [
    "print methane.n_particles"
   ]
  },
  {
   "cell_type": "code",
   "execution_count": 17,
   "metadata": {
    "collapsed": false
   },
   "outputs": [
    {
     "name": "stdout",
     "output_type": "stream",
     "text": [
      " n_particles:5 \n",
      " n_bonds:4\n",
      " n_angles:6\n",
      " n_dihedrals:0\n",
      " n_impropers:0\n"
     ]
    }
   ],
   "source": [
    "print methane.print_properties()"
   ]
  },
  {
   "cell_type": "markdown",
   "metadata": {},
   "source": [
    "Set the `paramkeys` so we can identify force field parameters later on"
   ]
  },
  {
   "cell_type": "code",
   "execution_count": 18,
   "metadata": {
    "collapsed": true
   },
   "outputs": [],
   "source": [
    "for pkey,p in methane.particles.iteritems():\n",
    "    if( p.symbol == 'C' ):\n",
    "        p.paramkey = 'CT'\n",
    "    elif( p.symbol == 'H' ):\n",
    "        p.paramkey = 'HC'"
   ]
  },
  {
   "cell_type": "code",
   "execution_count": 19,
   "metadata": {
    "collapsed": true
   },
   "outputs": [],
   "source": [
    "for pk,p in methane.particles.iteritems():\n",
    "    p.residue = 1\n",
    "    p.resname = 'METH'"
   ]
  },
  {
   "cell_type": "markdown",
   "metadata": {},
   "source": [
    "Set some `rsites` to be able to join molecules together "
   ]
  },
  {
   "cell_type": "code",
   "execution_count": 20,
   "metadata": {
    "collapsed": true
   },
   "outputs": [],
   "source": [
    "methane.particles[1].rsite = 'RH'\n",
    "methane.particles[2].rsite = 'RH'"
   ]
  },
  {
   "cell_type": "code",
   "execution_count": 21,
   "metadata": {
    "collapsed": true
   },
   "outputs": [],
   "source": [
    "methane.find_rsites()"
   ]
  },
  {
   "cell_type": "code",
   "execution_count": 22,
   "metadata": {
    "collapsed": false
   },
   "outputs": [
    {
     "name": "stdout",
     "output_type": "stream",
     "text": [
      "rsite:RH[ paticle:atom H (H) index:1 n_bonds:1] \n",
      "rsite:RH[ paticle:atom H (H) index:2 n_bonds:1] \n",
      "\n"
     ]
    }
   ],
   "source": [
    "print methane.show_rsites()"
   ]
  },
  {
   "cell_type": "markdown",
   "metadata": {},
   "source": [
    "Read in ethane.xyz from the buildinblock_example.ipynb example "
   ]
  },
  {
   "cell_type": "code",
   "execution_count": 23,
   "metadata": {
    "collapsed": true
   },
   "outputs": [],
   "source": [
    "ethane = streamm.Buildingblock('ethane')"
   ]
  },
  {
   "cell_type": "code",
   "execution_count": 24,
   "metadata": {
    "collapsed": true
   },
   "outputs": [],
   "source": [
    "ethane.read_xyz()"
   ]
  },
  {
   "cell_type": "markdown",
   "metadata": {},
   "source": [
    "Guess bonded neighbor list based on `bonded_radii`"
   ]
  },
  {
   "cell_type": "code",
   "execution_count": 25,
   "metadata": {
    "collapsed": true
   },
   "outputs": [],
   "source": [
    "ethane.bonded_nblist = ethane.guess_nblist(0,radii_buffer=1.25)"
   ]
  },
  {
   "cell_type": "code",
   "execution_count": 26,
   "metadata": {
    "collapsed": true
   },
   "outputs": [],
   "source": [
    "ethane.bonded_bonds()\n",
    "ethane.bonded_angles()\n",
    "ethane.bonded_dih()"
   ]
  },
  {
   "cell_type": "code",
   "execution_count": 27,
   "metadata": {
    "collapsed": false
   },
   "outputs": [
    {
     "name": "stdout",
     "output_type": "stream",
     "text": [
      " n_particles:8 \n",
      " n_bonds:7\n",
      " n_angles:12\n",
      " n_dihedrals:9\n",
      " n_impropers:0\n"
     ]
    }
   ],
   "source": [
    "print ethane.print_properties()"
   ]
  },
  {
   "cell_type": "markdown",
   "metadata": {},
   "source": [
    "Set the `paramkey`'s  as described in the force field example"
   ]
  },
  {
   "cell_type": "code",
   "execution_count": 28,
   "metadata": {
    "collapsed": true
   },
   "outputs": [],
   "source": [
    "for pkey,p in ethane.particles.iteritems():\n",
    "    if( p.symbol == 'C' ):\n",
    "        p.paramkey = 'CT'\n",
    "    elif( p.symbol == 'H' ):\n",
    "        p.paramkey = 'HC'"
   ]
  },
  {
   "cell_type": "markdown",
   "metadata": {},
   "source": [
    "Set the `resname` of each particle to `ETH` "
   ]
  },
  {
   "cell_type": "code",
   "execution_count": 29,
   "metadata": {
    "collapsed": true
   },
   "outputs": [],
   "source": [
    "for pk,p in ethane.particles.iteritems():\n",
    "    p.residue = 1\n",
    "    p.resname = 'ETH'"
   ]
  },
  {
   "cell_type": "markdown",
   "metadata": {},
   "source": [
    "Set `rsite`'s to hydrogens to be replaced during join"
   ]
  },
  {
   "cell_type": "code",
   "execution_count": 30,
   "metadata": {
    "collapsed": true
   },
   "outputs": [],
   "source": [
    "ethane.particles[1].rsite = 'RH'\n",
    "ethane.particles[5].rsite = 'RH'"
   ]
  },
  {
   "cell_type": "markdown",
   "metadata": {},
   "source": [
    "Run `find_rsites()` to populate `func` list"
   ]
  },
  {
   "cell_type": "code",
   "execution_count": 31,
   "metadata": {
    "collapsed": true
   },
   "outputs": [],
   "source": [
    "ethane.find_rsites()"
   ]
  },
  {
   "cell_type": "code",
   "execution_count": 32,
   "metadata": {
    "collapsed": false
   },
   "outputs": [
    {
     "name": "stdout",
     "output_type": "stream",
     "text": [
      "rsite:RH[ paticle:atom H (H) index:1 n_bonds:1] \n",
      "rsite:RH[ paticle:atom H (H) index:5 n_bonds:1] \n",
      "\n"
     ]
    }
   ],
   "source": [
    "print ethane.show_rsites()"
   ]
  },
  {
   "cell_type": "code",
   "execution_count": 33,
   "metadata": {
    "collapsed": true
   },
   "outputs": [],
   "source": [
    "import copy"
   ]
  },
  {
   "cell_type": "markdown",
   "metadata": {},
   "source": [
    "Create octane from ethane "
   ]
  },
  {
   "cell_type": "markdown",
   "metadata": {},
   "source": [
    "Copy ethane to a new Buildingblock octane "
   ]
  },
  {
   "cell_type": "code",
   "execution_count": 34,
   "metadata": {
    "collapsed": true
   },
   "outputs": [],
   "source": [
    "octane = copy.deepcopy(ethane)"
   ]
  },
  {
   "cell_type": "code",
   "execution_count": 35,
   "metadata": {
    "collapsed": true
   },
   "outputs": [],
   "source": [
    "from streamm.structures.buildingblock import attach"
   ]
  },
  {
   "cell_type": "markdown",
   "metadata": {},
   "source": [
    "Then attach 3 more ethanes to make an octane "
   ]
  },
  {
   "cell_type": "code",
   "execution_count": 36,
   "metadata": {
    "collapsed": true
   },
   "outputs": [],
   "source": [
    "for i in range(3):\n",
    "    octane = attach(octane,ethane,'RH',1,'RH',0)"
   ]
  },
  {
   "cell_type": "markdown",
   "metadata": {},
   "source": [
    "Update the tag"
   ]
  },
  {
   "cell_type": "code",
   "execution_count": 37,
   "metadata": {
    "collapsed": true
   },
   "outputs": [],
   "source": [
    "octane.tag = 'octane'"
   ]
  },
  {
   "cell_type": "markdown",
   "metadata": {},
   "source": [
    "Rename the residue and resname for octane"
   ]
  },
  {
   "cell_type": "code",
   "execution_count": 38,
   "metadata": {
    "collapsed": true
   },
   "outputs": [],
   "source": [
    "for pk,p in octane.particles.iteritems():\n",
    "    p.residue = 2\n",
    "    p.resname = \"OCT\"\n",
    " "
   ]
  },
  {
   "cell_type": "code",
   "execution_count": 39,
   "metadata": {
    "collapsed": true
   },
   "outputs": [],
   "source": [
    "octane.write_xyz()"
   ]
  },
  {
   "cell_type": "markdown",
   "metadata": {},
   "source": [
    "Print new `rsite`'s "
   ]
  },
  {
   "cell_type": "code",
   "execution_count": 40,
   "metadata": {
    "collapsed": false
   },
   "outputs": [
    {
     "name": "stdout",
     "output_type": "stream",
     "text": [
      "rsite:RH[ paticle:atom H (H) index:1 n_bonds:1] \n",
      "rsite:RH[ paticle:atom H (H) index:23 n_bonds:1] \n",
      "\n"
     ]
    }
   ],
   "source": [
    "print octane.show_rsites()"
   ]
  },
  {
   "cell_type": "markdown",
   "metadata": {},
   "source": [
    "Find the 4th carbon to attach an ethane "
   ]
  },
  {
   "cell_type": "code",
   "execution_count": 41,
   "metadata": {
    "collapsed": false
   },
   "outputs": [
    {
     "name": "stdout",
     "output_type": "stream",
     "text": [
      "H\n"
     ]
    }
   ],
   "source": [
    "print octane.particles[14].symbol"
   ]
  },
  {
   "cell_type": "code",
   "execution_count": 42,
   "metadata": {
    "collapsed": true
   },
   "outputs": [],
   "source": [
    "octane.particles[14].rsite = 'R2'"
   ]
  },
  {
   "cell_type": "code",
   "execution_count": 43,
   "metadata": {
    "collapsed": true
   },
   "outputs": [],
   "source": [
    "octane.find_rsites()"
   ]
  },
  {
   "cell_type": "markdown",
   "metadata": {},
   "source": [
    "Attach the ethane to the fourth carbon to make 4-ethyloctane"
   ]
  },
  {
   "cell_type": "code",
   "execution_count": 44,
   "metadata": {
    "collapsed": true
   },
   "outputs": [],
   "source": [
    "ethyl_octane = attach(octane,ethane,'R2',0,'RH',0)"
   ]
  },
  {
   "cell_type": "code",
   "execution_count": 45,
   "metadata": {
    "collapsed": true
   },
   "outputs": [],
   "source": [
    "ethyl_octane.tag = '4-ethyloctane'"
   ]
  },
  {
   "cell_type": "code",
   "execution_count": 46,
   "metadata": {
    "collapsed": true
   },
   "outputs": [],
   "source": [
    "ethyl_octane.write_xyz()"
   ]
  },
  {
   "cell_type": "markdown",
   "metadata": {},
   "source": [
    "Read in oplsaa parameters from forcefield example "
   ]
  },
  {
   "cell_type": "code",
   "execution_count": 47,
   "metadata": {
    "collapsed": true
   },
   "outputs": [],
   "source": [
    "oplsaa = streamm.forcefields.parameters.Parameters('oplsaa')"
   ]
  },
  {
   "cell_type": "code",
   "execution_count": 48,
   "metadata": {
    "collapsed": true
   },
   "outputs": [],
   "source": [
    "oplsaa.import_json()"
   ]
  },
  {
   "cell_type": "code",
   "execution_count": 49,
   "metadata": {
    "collapsed": false
   },
   "outputs": [
    {
     "name": "stdout",
     "output_type": "stream",
     "text": [
      "\n",
      "    Parameters \n",
      "      LJ parameters 2 \n",
      "      Bond parameters 2 \n",
      "      Angle parameters 2 \n",
      "      Dihedral parameters 1 \n",
      "      Improper Dihedral parameters 0 \n",
      "\n"
     ]
    }
   ],
   "source": [
    "print oplsaa"
   ]
  },
  {
   "cell_type": "code",
   "execution_count": 50,
   "metadata": {
    "collapsed": false
   },
   "outputs": [
    {
     "name": "stdout",
     "output_type": "stream",
     "text": [
      "CT\n",
      "HC\n"
     ]
    }
   ],
   "source": [
    "for pk,ptypes in oplsaa.particletypes.iteritems():\n",
    "    print ptypes.fftype1"
   ]
  },
  {
   "cell_type": "markdown",
   "metadata": {},
   "source": [
    "Create NWChem Calculation object "
   ]
  },
  {
   "cell_type": "code",
   "execution_count": 51,
   "metadata": {
    "collapsed": true
   },
   "outputs": [],
   "source": [
    "nwchem_i = streamm.NWChem('nw_ethane_HF')"
   ]
  },
  {
   "cell_type": "markdown",
   "metadata": {},
   "source": [
    "Add calculation to project"
   ]
  },
  {
   "cell_type": "code",
   "execution_count": 52,
   "metadata": {
    "collapsed": true
   },
   "outputs": [],
   "source": [
    "alkyl_example.add_calc(nwchem_i)"
   ]
  },
  {
   "cell_type": "markdown",
   "metadata": {},
   "source": [
    "Set the structure of the calculation to ethane"
   ]
  },
  {
   "cell_type": "code",
   "execution_count": 53,
   "metadata": {
    "collapsed": true
   },
   "outputs": [],
   "source": [
    "nwchem_i.strucC = ethane"
   ]
  },
  {
   "cell_type": "markdown",
   "metadata": {},
   "source": [
    "Set the resource to be local"
   ]
  },
  {
   "cell_type": "code",
   "execution_count": 54,
   "metadata": {
    "collapsed": true
   },
   "outputs": [],
   "source": [
    "nwchem_i.set_resource(res_local)"
   ]
  },
  {
   "cell_type": "markdown",
   "metadata": {},
   "source": [
    "Make the local directories "
   ]
  },
  {
   "cell_type": "code",
   "execution_count": 55,
   "metadata": {
    "collapsed": true
   },
   "outputs": [],
   "source": [
    "nwchem_i.make_dir()"
   ]
  },
  {
   "cell_type": "markdown",
   "metadata": {},
   "source": [
    "Change to the `scratch` directory"
   ]
  },
  {
   "cell_type": "code",
   "execution_count": 56,
   "metadata": {
    "collapsed": true
   },
   "outputs": [],
   "source": [
    "os.chdir(nwchem_i.dir['scratch'])"
   ]
  },
  {
   "cell_type": "markdown",
   "metadata": {},
   "source": [
    "Copy the template files to the scratch directory "
   ]
  },
  {
   "cell_type": "code",
   "execution_count": 57,
   "metadata": {
    "collapsed": true
   },
   "outputs": [],
   "source": [
    "file_type = 'templates'\n",
    "file_key = 'run'\n",
    "file_name = \"nwchem.sh\"\n",
    "from_dirkey = 'templates'\n",
    "to_dirkey = 'scratch'\n",
    "nwchem_i.cp_file(file_type,file_key,file_name,from_dirkey,to_dirkey)"
   ]
  },
  {
   "cell_type": "code",
   "execution_count": 58,
   "metadata": {
    "collapsed": true
   },
   "outputs": [],
   "source": [
    "file_type = 'templates'\n",
    "file_key = 'nw'\n",
    "file_name = \"nwchem.nw\"\n",
    "from_dirkey = 'templates'\n",
    "to_dirkey = 'scratch'\n",
    "nwchem_i.cp_file(file_type,file_key,file_name,from_dirkey,to_dirkey)"
   ]
  },
  {
   "cell_type": "markdown",
   "metadata": {},
   "source": [
    "Read in the template files and add them to the `str` dictionary"
   ]
  },
  {
   "cell_type": "code",
   "execution_count": 59,
   "metadata": {
    "collapsed": true
   },
   "outputs": [],
   "source": [
    "nwchem_i.load_str('templates','nw')        \n",
    "nwchem_i.load_str('templates','run')"
   ]
  },
  {
   "cell_type": "markdown",
   "metadata": {},
   "source": [
    "Set the properties dictionary to desired calculation details"
   ]
  },
  {
   "cell_type": "code",
   "execution_count": 60,
   "metadata": {
    "collapsed": true
   },
   "outputs": [],
   "source": [
    "nwchem_i.properties['basis'] = '6-31g'\n",
    "nwchem_i.properties['method'] = 'UHF'\n",
    "nwchem_i.properties['charge'] = 0\n",
    "nwchem_i.properties['spin_mult'] = 1\n",
    "nwchem_i.properties['task'] = 'SCF '\n",
    "nwchem_i.properties['coord'] = nwchem_i.strucC.write_coord()"
   ]
  },
  {
   "cell_type": "code",
   "execution_count": 61,
   "metadata": {
    "collapsed": false
   },
   "outputs": [
    {
     "name": "stdout",
     "output_type": "stream",
     "text": [
      "{u'allocation': u'',\n",
      " u'basis': '6-31g',\n",
      " u'charge': 0,\n",
      " 'comp_key': 'compressed',\n",
      " 'compress': 'tar -czf ',\n",
      " 'compress_sufix': 'tgz',\n",
      " 'coord': u'     C       1.34000000      -0.00000000       0.00000000 \\n     H       1.74000000      -0.00000000      -1.13137084 \\n     H       1.74000000       0.97979589       0.56568542 \\n     H       1.74000000      -0.97979589       0.56568542 \\n     C       0.00000000       0.00000000       0.00000000 \\n     H      -0.40000000       0.00000000       1.13137084 \\n     H      -0.40000000      -0.97979589      -0.56568542 \\n     H      -0.40000000       0.97979589      -0.56568542 \\n',\n",
      " u'exe_command': u'./',\n",
      " u'feature': u'24core',\n",
      " u'finish_str': u'Total times  cpu:',\n",
      " u'maxiter': 100,\n",
      " u'method': 'UHF',\n",
      " u'nodes': 1,\n",
      " u'nproc': 1,\n",
      " u'pmem': 1500,\n",
      " u'ppn': 1,\n",
      " u'queue': u'batch',\n",
      " 'scratch': u'/Users/tkemper/Development/streamm-tools/examples/scratch/nw_ethane_HF/',\n",
      " u'spin_mult': 1,\n",
      " u'task': 'SCF ',\n",
      " 'uncompress': 'tar -xzf ',\n",
      " u'walltime': 24}\n"
     ]
    }
   ],
   "source": [
    "pprint(nwchem_i.properties)"
   ]
  },
  {
   "cell_type": "markdown",
   "metadata": {},
   "source": [
    "Replace the keys in the template strings and write the input files "
   ]
  },
  {
   "cell_type": "code",
   "execution_count": 62,
   "metadata": {
    "collapsed": true
   },
   "outputs": [],
   "source": [
    "nwchem_i.replacewrite_prop('nw','input','nw','%s.nw'%(nwchem_i.tag))"
   ]
  },
  {
   "cell_type": "markdown",
   "metadata": {},
   "source": [
    "Add the input file to the properties to be written into the run file"
   ]
  },
  {
   "cell_type": "code",
   "execution_count": 63,
   "metadata": {
    "collapsed": true
   },
   "outputs": [],
   "source": [
    "nwchem_i.properties['input_nw'] = nwchem_i.files['input']['nw']\n",
    "nwchem_i.replacewrite_prop('run','scripts','run','%s.sh'%(nwchem_i.tag))"
   ]
  },
  {
   "cell_type": "markdown",
   "metadata": {},
   "source": [
    "Add the log file to the files dictionary "
   ]
  },
  {
   "cell_type": "code",
   "execution_count": 64,
   "metadata": {
    "collapsed": true
   },
   "outputs": [],
   "source": [
    "file_type = 'output'\n",
    "file_key = 'log'\n",
    "file_name = \"%s.log\"%(nwchem_i.tag)\n",
    "nwchem_i.add_file(file_type,file_key,file_name)"
   ]
  },
  {
   "cell_type": "markdown",
   "metadata": {},
   "source": [
    "Change back to the root directory and write a json file"
   ]
  },
  {
   "cell_type": "code",
   "execution_count": 65,
   "metadata": {
    "collapsed": false
   },
   "outputs": [
    {
     "data": {
      "text/plain": [
       "{u'calculations': {'nw_ethane_HF': u'nwchem'},\n",
       " u'meta': {'date': '2017-11-15T17:22:59.842206',\n",
       "  'software': u'streamm_proj',\n",
       "  'status': 'written'},\n",
       " u'resources': ['local']}"
      ]
     },
     "execution_count": 65,
     "metadata": {},
     "output_type": "execute_result"
    }
   ],
   "source": [
    "os.chdir(nwchem_i.dir['home'])\n",
    "alkyl_example.export_json()"
   ]
  },
  {
   "cell_type": "markdown",
   "metadata": {},
   "source": [
    "Change back to scratch"
   ]
  },
  {
   "cell_type": "code",
   "execution_count": 66,
   "metadata": {
    "collapsed": true
   },
   "outputs": [],
   "source": [
    "os.chdir(nwchem_i.dir['scratch'])"
   ]
  },
  {
   "cell_type": "markdown",
   "metadata": {},
   "source": [
    "Run the bash script for the calculation or submit the job to the cluster"
   ]
  },
  {
   "cell_type": "code",
   "execution_count": 67,
   "metadata": {
    "collapsed": true
   },
   "outputs": [],
   "source": [
    "nwchem_i.run()"
   ]
  },
  {
   "cell_type": "markdown",
   "metadata": {},
   "source": [
    "Check the status of all the calculations in the project"
   ]
  },
  {
   "cell_type": "code",
   "execution_count": 68,
   "metadata": {
    "collapsed": false
   },
   "outputs": [
    {
     "name": "stdout",
     "output_type": "stream",
     "text": [
      "Calculation nw_ethane_HF has status running\n"
     ]
    }
   ],
   "source": [
    "alkyl_example.check()"
   ]
  },
  {
   "cell_type": "markdown",
   "metadata": {},
   "source": [
    "Run the analysis"
   ]
  },
  {
   "cell_type": "code",
   "execution_count": 69,
   "metadata": {
    "collapsed": false
   },
   "outputs": [
    {
     "name": "stdout",
     "output_type": "stream",
     "text": [
      "File nw_ethane_HF.log not found \n"
     ]
    }
   ],
   "source": [
    "nwchem_i.analysis()"
   ]
  },
  {
   "cell_type": "markdown",
   "metadata": {},
   "source": [
    "Tar and zip the results and copy them to a storage location"
   ]
  },
  {
   "cell_type": "code",
   "execution_count": 70,
   "metadata": {
    "collapsed": true
   },
   "outputs": [],
   "source": [
    "nwchem_i.store()"
   ]
  },
  {
   "cell_type": "markdown",
   "metadata": {},
   "source": [
    "Save json in home directory"
   ]
  },
  {
   "cell_type": "code",
   "execution_count": 71,
   "metadata": {
    "collapsed": false
   },
   "outputs": [
    {
     "data": {
      "text/plain": [
       "{u'calculations': {'nw_ethane_HF': u'nwchem'},\n",
       " u'meta': {'date': '2017-11-15T17:22:59.842206',\n",
       "  'software': u'streamm_proj',\n",
       "  'status': 'written'},\n",
       " u'resources': ['local']}"
      ]
     },
     "execution_count": 71,
     "metadata": {},
     "output_type": "execute_result"
    }
   ],
   "source": [
    "os.chdir(nwchem_i.dir['home'])\n",
    "alkyl_example.export_json()"
   ]
  },
  {
   "cell_type": "markdown",
   "metadata": {},
   "source": [
    "Create a Gaussian Calculation object "
   ]
  },
  {
   "cell_type": "code",
   "execution_count": 72,
   "metadata": {
    "collapsed": true
   },
   "outputs": [],
   "source": [
    "gaussian_i = streamm.Gaussian('gaus_ethane_HF')"
   ]
  },
  {
   "cell_type": "markdown",
   "metadata": {},
   "source": [
    "Add the calculation to the project"
   ]
  },
  {
   "cell_type": "code",
   "execution_count": 73,
   "metadata": {
    "collapsed": true
   },
   "outputs": [],
   "source": [
    "alkyl_example.add_calc(gaussian_i)"
   ]
  },
  {
   "cell_type": "markdown",
   "metadata": {},
   "source": [
    "Set the structure of the calculation to ethane"
   ]
  },
  {
   "cell_type": "code",
   "execution_count": 74,
   "metadata": {
    "collapsed": true
   },
   "outputs": [],
   "source": [
    "gaussian_i.strucC = ethane"
   ]
  },
  {
   "cell_type": "markdown",
   "metadata": {},
   "source": [
    "Set the resource to be local"
   ]
  },
  {
   "cell_type": "code",
   "execution_count": 75,
   "metadata": {
    "collapsed": true
   },
   "outputs": [],
   "source": [
    "gaussian_i.set_resource(res_local)"
   ]
  },
  {
   "cell_type": "markdown",
   "metadata": {},
   "source": [
    "Make the local directories "
   ]
  },
  {
   "cell_type": "code",
   "execution_count": 76,
   "metadata": {
    "collapsed": true
   },
   "outputs": [],
   "source": [
    "gaussian_i.make_dir()"
   ]
  },
  {
   "cell_type": "markdown",
   "metadata": {},
   "source": [
    "Copy the template files to the scratch directory "
   ]
  },
  {
   "cell_type": "code",
   "execution_count": 77,
   "metadata": {
    "collapsed": true
   },
   "outputs": [],
   "source": [
    "os.chdir(gaussian_i.dir['scratch'])"
   ]
  },
  {
   "cell_type": "markdown",
   "metadata": {},
   "source": [
    "Copy the template files to the scratch directory "
   ]
  },
  {
   "cell_type": "code",
   "execution_count": 78,
   "metadata": {
    "collapsed": true
   },
   "outputs": [],
   "source": [
    "file_type = 'templates'\n",
    "file_key = 'run'\n",
    "file_name = \"gaussian.sh\"\n",
    "from_dirkey = 'templates'\n",
    "to_dirkey = 'scratch'\n",
    "gaussian_i.cp_file(file_type,file_key,file_name,from_dirkey,to_dirkey)"
   ]
  },
  {
   "cell_type": "code",
   "execution_count": 79,
   "metadata": {
    "collapsed": true
   },
   "outputs": [],
   "source": [
    "file_type = 'templates'\n",
    "file_key = 'com'\n",
    "file_name = \"gaussian.com\"\n",
    "from_dirkey = 'templates'\n",
    "to_dirkey = 'scratch'\n",
    "gaussian_i.cp_file(file_type,file_key,file_name,from_dirkey,to_dirkey)"
   ]
  },
  {
   "cell_type": "markdown",
   "metadata": {},
   "source": [
    "Read in the template files and add them to the `str` dictionary"
   ]
  },
  {
   "cell_type": "code",
   "execution_count": 80,
   "metadata": {
    "collapsed": true
   },
   "outputs": [],
   "source": [
    "gaussian_i.load_str('templates','com')        \n",
    "gaussian_i.load_str('templates','run')"
   ]
  },
  {
   "cell_type": "markdown",
   "metadata": {},
   "source": [
    "Set the properties dictionary to desired calculation details"
   ]
  },
  {
   "cell_type": "code",
   "execution_count": 81,
   "metadata": {
    "collapsed": true
   },
   "outputs": [],
   "source": [
    "gaussian_i.properties['commands'] = 'HF/3-21G SP'\n",
    "gaussian_i.properties['method'] = 'UHF'\n",
    "gaussian_i.properties['charge'] = 0\n",
    "gaussian_i.properties['spin_mult'] = 1\n",
    "gaussian_i.properties['coord'] = gaussian_i.strucC.write_coord()"
   ]
  },
  {
   "cell_type": "code",
   "execution_count": 82,
   "metadata": {
    "collapsed": false
   },
   "outputs": [
    {
     "name": "stdout",
     "output_type": "stream",
     "text": [
      "{u'allocation': u'',\n",
      " 'charge': 0,\n",
      " 'commands': 'HF/3-21G SP',\n",
      " 'comp_key': 'compressed',\n",
      " 'compress': 'tar -czf ',\n",
      " 'compress_sufix': 'tgz',\n",
      " 'coord': u'     C       1.34000000      -0.00000000       0.00000000 \\n     H       1.74000000      -0.00000000      -1.13137084 \\n     H       1.74000000       0.97979589       0.56568542 \\n     H       1.74000000      -0.97979589       0.56568542 \\n     C       0.00000000       0.00000000       0.00000000 \\n     H      -0.40000000       0.00000000       1.13137084 \\n     H      -0.40000000      -0.97979589      -0.56568542 \\n     H      -0.40000000       0.97979589      -0.56568542 \\n',\n",
      " u'exe_command': u'./',\n",
      " u'feature': u'24core',\n",
      " u'finish_str': u'Normal termination of Gaussian',\n",
      " 'method': 'UHF',\n",
      " u'nodes': 1,\n",
      " u'nproc': 1,\n",
      " u'pmem': 1500,\n",
      " u'ppn': 1,\n",
      " u'queue': u'batch',\n",
      " 'scratch': u'/Users/tkemper/Development/streamm-tools/examples/scratch/gaus_ethane_HF/',\n",
      " 'spin_mult': 1,\n",
      " 'uncompress': 'tar -xzf ',\n",
      " u'walltime': 24}\n"
     ]
    }
   ],
   "source": [
    "pprint(gaussian_i.properties)"
   ]
  },
  {
   "cell_type": "markdown",
   "metadata": {},
   "source": [
    "Replace the keys in the template strings and write the input files "
   ]
  },
  {
   "cell_type": "code",
   "execution_count": 83,
   "metadata": {
    "collapsed": true
   },
   "outputs": [],
   "source": [
    "gaussian_i.replacewrite_prop('com','input','com','%s.com'%(gaussian_i.tag))"
   ]
  },
  {
   "cell_type": "markdown",
   "metadata": {},
   "source": [
    "Add the input file to the properties to be written into the run file"
   ]
  },
  {
   "cell_type": "code",
   "execution_count": 84,
   "metadata": {
    "collapsed": true
   },
   "outputs": [],
   "source": [
    "gaussian_i.properties['input_com'] = gaussian_i.files['input']['com']\n",
    "gaussian_i.replacewrite_prop('run','scripts','run','%s.sh'%(gaussian_i.tag))"
   ]
  },
  {
   "cell_type": "markdown",
   "metadata": {},
   "source": [
    "Add the log file to the files dictionary "
   ]
  },
  {
   "cell_type": "code",
   "execution_count": 85,
   "metadata": {
    "collapsed": true
   },
   "outputs": [],
   "source": [
    "file_type = 'output'\n",
    "file_key = 'log'\n",
    "file_name = \"%s.log\"%(gaussian_i.tag)\n",
    "gaussian_i.add_file(file_type,file_key,file_name)"
   ]
  },
  {
   "cell_type": "markdown",
   "metadata": {},
   "source": [
    "Change back to the root directory and write a json file"
   ]
  },
  {
   "cell_type": "code",
   "execution_count": 86,
   "metadata": {
    "collapsed": false
   },
   "outputs": [
    {
     "data": {
      "text/plain": [
       "{u'calculations': {'gaus_ethane_HF': u'gaussian', 'nw_ethane_HF': u'nwchem'},\n",
       " u'meta': {'date': '2017-11-15T17:22:59.842206',\n",
       "  'software': u'streamm_proj',\n",
       "  'status': 'written'},\n",
       " u'resources': ['local']}"
      ]
     },
     "execution_count": 86,
     "metadata": {},
     "output_type": "execute_result"
    }
   ],
   "source": [
    "os.chdir(gaussian_i.dir['home'])\n",
    "alkyl_example.export_json()"
   ]
  },
  {
   "cell_type": "markdown",
   "metadata": {},
   "source": [
    "Change back to scratch"
   ]
  },
  {
   "cell_type": "code",
   "execution_count": 87,
   "metadata": {
    "collapsed": true
   },
   "outputs": [],
   "source": [
    "os.chdir(gaussian_i.dir['scratch'])"
   ]
  },
  {
   "cell_type": "markdown",
   "metadata": {},
   "source": [
    "Run the bash script for the calculation or submit the job to the cluster"
   ]
  },
  {
   "cell_type": "code",
   "execution_count": 88,
   "metadata": {
    "collapsed": true
   },
   "outputs": [],
   "source": [
    "gaussian_i.run()"
   ]
  },
  {
   "cell_type": "markdown",
   "metadata": {},
   "source": [
    "Check the status of all the calculations in the project"
   ]
  },
  {
   "cell_type": "code",
   "execution_count": 89,
   "metadata": {
    "collapsed": false
   },
   "outputs": [
    {
     "name": "stdout",
     "output_type": "stream",
     "text": [
      "Calculation nw_ethane_HF has status running\n",
      "Calculation gaus_ethane_HF has status running\n"
     ]
    }
   ],
   "source": [
    "alkyl_example.check()"
   ]
  },
  {
   "cell_type": "markdown",
   "metadata": {},
   "source": [
    "Run the analysis"
   ]
  },
  {
   "cell_type": "code",
   "execution_count": 90,
   "metadata": {
    "collapsed": false
   },
   "outputs": [
    {
     "data": {
      "text/plain": [
       "{u'calculations': {'gaus_ethane_HF': u'gaussian', 'nw_ethane_HF': u'nwchem'},\n",
       " u'meta': {'date': '2017-11-15T17:22:59.842206',\n",
       "  'software': u'streamm_proj',\n",
       "  'status': 'written'},\n",
       " u'resources': ['local']}"
      ]
     },
     "execution_count": 90,
     "metadata": {},
     "output_type": "execute_result"
    }
   ],
   "source": [
    "os.chdir(alkyl_example.dir['home'])\n",
    "alkyl_example.export_json()"
   ]
  },
  {
   "cell_type": "markdown",
   "metadata": {},
   "source": [
    "Create a LAMMPS Calculation object "
   ]
  },
  {
   "cell_type": "code",
   "execution_count": 91,
   "metadata": {
    "collapsed": true
   },
   "outputs": [],
   "source": [
    "lmp_alkyl = streamm.LAMMPS('lmp_alkyl')"
   ]
  },
  {
   "cell_type": "markdown",
   "metadata": {},
   "source": [
    "Turn periodic boundaries on in all three directions"
   ]
  },
  {
   "cell_type": "code",
   "execution_count": 92,
   "metadata": {
    "collapsed": true
   },
   "outputs": [],
   "source": [
    "lmp_alkyl.strucC.lat.pbcs = [True,True,True]"
   ]
  },
  {
   "cell_type": "markdown",
   "metadata": {},
   "source": [
    "Run the `add_struc()` function to create 10 randomly placed 4-ethyloctane molecules"
   ]
  },
  {
   "cell_type": "code",
   "execution_count": 93,
   "metadata": {
    "collapsed": false
   },
   "outputs": [
    {
     "name": "stdout",
     "output_type": "stream",
     "text": [
      "No overlap found adding structure 0\n",
      "No overlap found adding structure 1\n",
      "No overlap found adding structure 2\n",
      "No overlap found adding structure 3\n",
      "No overlap found adding structure 4\n",
      "No overlap found adding structure 5\n",
      "No overlap found adding structure 6\n",
      "No overlap found adding structure 7\n",
      "No overlap found adding structure 8\n",
      "No overlap found adding structure 9\n"
     ]
    }
   ],
   "source": [
    "seed = 92734\n",
    "lmp_alkyl.strucC = streamm.add_struc(lmp_alkyl.strucC,ethyl_octane,10,seed)"
   ]
  },
  {
   "cell_type": "markdown",
   "metadata": {},
   "source": [
    "The `add_struc()` function randomly places each molecule in a space defined by the lattice of the lmp_alkyl.strucC, then randomly rotates it. "
   ]
  },
  {
   "cell_type": "markdown",
   "metadata": {},
   "source": [
    "Then the function checks to make sure it does not overlap any other particles that are already in the lmp_alkyl.strucC. "
   ]
  },
  {
   "cell_type": "markdown",
   "metadata": {},
   "source": [
    "If an overlap is found a new position and rotation is chosen until the max placements are exceeded, then the entire system is cleared, and the placement starts again. If the maximum restarts are exceeded, then the size of the lattice is increased, until all the molecules have been added."
   ]
  },
  {
   "cell_type": "markdown",
   "metadata": {},
   "source": [
    "Check the lattice to see if it expanded "
   ]
  },
  {
   "cell_type": "code",
   "execution_count": 94,
   "metadata": {
    "collapsed": false
   },
   "outputs": [
    {
     "name": "stdout",
     "output_type": "stream",
     "text": [
      "100.000000 0.000000 0.000000\n",
      "0.000000 100.000000 0.000000\n",
      "0.000000 0.000000 100.000000\n"
     ]
    }
   ],
   "source": [
    "print lmp_alkyl.strucC.lat"
   ]
  },
  {
   "cell_type": "markdown",
   "metadata": {},
   "source": [
    "Find the maximum molecule index "
   ]
  },
  {
   "cell_type": "code",
   "execution_count": 95,
   "metadata": {
    "collapsed": false
   },
   "outputs": [
    {
     "name": "stdout",
     "output_type": "stream",
     "text": [
      "9\n"
     ]
    }
   ],
   "source": [
    "print lmp_alkyl.strucC.n_molecules()"
   ]
  },
  {
   "cell_type": "code",
   "execution_count": 96,
   "metadata": {
    "collapsed": false
   },
   "outputs": [
    {
     "name": "stdout",
     "output_type": "stream",
     "text": [
      "4-ethyloctane\n"
     ]
    }
   ],
   "source": [
    "print ethyl_octane.tag"
   ]
  },
  {
   "cell_type": "markdown",
   "metadata": {},
   "source": [
    "Update the structure tag"
   ]
  },
  {
   "cell_type": "code",
   "execution_count": 97,
   "metadata": {
    "collapsed": true
   },
   "outputs": [],
   "source": [
    "lmp_alkyl.strucC.tag = ethyl_octane.tag + '_x10'"
   ]
  },
  {
   "cell_type": "markdown",
   "metadata": {},
   "source": [
    "Write the structure to an xyz file"
   ]
  },
  {
   "cell_type": "code",
   "execution_count": 98,
   "metadata": {
    "collapsed": true
   },
   "outputs": [],
   "source": [
    "lmp_alkyl.strucC.write_xyz()"
   ]
  },
  {
   "cell_type": "markdown",
   "metadata": {},
   "source": [
    "Add 10 ethanes to the structure container"
   ]
  },
  {
   "cell_type": "code",
   "execution_count": 99,
   "metadata": {
    "collapsed": false
   },
   "outputs": [
    {
     "name": "stdout",
     "output_type": "stream",
     "text": [
      "No overlap found adding structure 0\n",
      "No overlap found adding structure 1\n",
      "No overlap found adding structure 2\n",
      "No overlap found adding structure 3\n",
      "No overlap found adding structure 4\n",
      "No overlap found adding structure 5\n",
      "No overlap found adding structure 6\n",
      "No overlap found adding structure 7\n",
      "No overlap found adding structure 8\n",
      "No overlap found adding structure 9\n"
     ]
    }
   ],
   "source": [
    "seed = 283674\n",
    "lmp_alkyl.strucC = streamm.add_struc(lmp_alkyl.strucC,ethane,10,seed)"
   ]
  },
  {
   "cell_type": "code",
   "execution_count": 100,
   "metadata": {
    "collapsed": false
   },
   "outputs": [
    {
     "name": "stdout",
     "output_type": "stream",
     "text": [
      "19\n"
     ]
    }
   ],
   "source": [
    "print lmp_alkyl.strucC.n_molecules()"
   ]
  },
  {
   "cell_type": "markdown",
   "metadata": {},
   "source": [
    "Update tag"
   ]
  },
  {
   "cell_type": "code",
   "execution_count": 101,
   "metadata": {
    "collapsed": true
   },
   "outputs": [],
   "source": [
    "lmp_alkyl.strucC.tag += '_ethane_x10'"
   ]
  },
  {
   "cell_type": "markdown",
   "metadata": {},
   "source": [
    "Add 50 methane to structure container using the `add_struc_grid()`, which places solvent on grid "
   ]
  },
  {
   "cell_type": "code",
   "execution_count": 102,
   "metadata": {
    "collapsed": true
   },
   "outputs": [],
   "source": [
    "lmp_alkyl.strucC = streamm.add_struc_grid(lmp_alkyl.strucC,methane,50)"
   ]
  },
  {
   "cell_type": "markdown",
   "metadata": {},
   "source": [
    "Check to see if the lattice was expanded "
   ]
  },
  {
   "cell_type": "code",
   "execution_count": 103,
   "metadata": {
    "collapsed": false
   },
   "outputs": [
    {
     "name": "stdout",
     "output_type": "stream",
     "text": [
      "100.000000 0.000000 0.000000\n",
      "0.000000 100.000000 0.000000\n",
      "0.000000 0.000000 100.000000\n"
     ]
    }
   ],
   "source": [
    "print lmp_alkyl.strucC.lat"
   ]
  },
  {
   "cell_type": "markdown",
   "metadata": {},
   "source": [
    "Update tag"
   ]
  },
  {
   "cell_type": "code",
   "execution_count": 104,
   "metadata": {
    "collapsed": true
   },
   "outputs": [],
   "source": [
    "lmp_alkyl.strucC.tag += '_methane_x50'"
   ]
  },
  {
   "cell_type": "code",
   "execution_count": 105,
   "metadata": {
    "collapsed": true
   },
   "outputs": [],
   "source": [
    "lmp_alkyl.strucC.write_xyz()"
   ]
  },
  {
   "cell_type": "markdown",
   "metadata": {},
   "source": [
    "Print all the particles in the structure container "
   ]
  },
  {
   "cell_type": "code",
   "execution_count": 106,
   "metadata": {
    "collapsed": false
   },
   "outputs": [
    {
     "name": "stdout",
     "output_type": "stream",
     "text": [
      "atom C (C) CT 0 2 OCT\n",
      "atom H (H) HC 0 2 OCT\n",
      "atom H (H) HC 0 2 OCT\n",
      "atom H (H) HC 0 2 OCT\n",
      "atom C (C) CT 0 2 OCT\n",
      "atom H (H) HC 0 2 OCT\n",
      "atom H (H) HC 0 2 OCT\n",
      "atom C (C) CT 0 2 OCT\n",
      "atom H (H) HC 0 2 OCT\n",
      "atom H (H) HC 0 2 OCT\n",
      "atom C (C) CT 0 2 OCT\n",
      "atom H (H) HC 0 2 OCT\n",
      "atom H (H) HC 0 2 OCT\n",
      "atom C (C) CT 0 2 OCT\n",
      "atom H (H) HC 0 2 OCT\n",
      "atom C (C) CT 0 2 OCT\n",
      "atom H (H) HC 0 2 OCT\n",
      "atom H (H) HC 0 2 OCT\n",
      "atom C (C) CT 0 2 OCT\n",
      "atom H (H) HC 0 2 OCT\n",
      "atom H (H) HC 0 2 OCT\n",
      "atom C (C) CT 0 2 OCT\n",
      "atom H (H) HC 0 2 OCT\n",
      "atom H (H) HC 0 2 OCT\n",
      "atom H (H) HC 0 2 OCT\n",
      "atom C (C) CT 0 1 ETH\n",
      "atom H (H) HC 0 1 ETH\n",
      "atom H (H) HC 0 1 ETH\n",
      "atom C (C) CT 0 1 ETH\n",
      "atom H (H) HC 0 1 ETH\n",
      "atom H (H) HC 0 1 ETH\n",
      "atom H (H) HC 0 1 ETH\n",
      "atom C (C) CT 1 2 OCT\n",
      "atom H (H) HC 1 2 OCT\n",
      "atom H (H) HC 1 2 OCT\n",
      "atom H (H) HC 1 2 OCT\n",
      "atom C (C) CT 1 2 OCT\n",
      "atom H (H) HC 1 2 OCT\n",
      "atom H (H) HC 1 2 OCT\n",
      "atom C (C) CT 1 2 OCT\n",
      "atom H (H) HC 1 2 OCT\n",
      "atom H (H) HC 1 2 OCT\n",
      "atom C (C) CT 1 2 OCT\n",
      "atom H (H) HC 1 2 OCT\n",
      "atom H (H) HC 1 2 OCT\n",
      "atom C (C) CT 1 2 OCT\n",
      "atom H (H) HC 1 2 OCT\n",
      "atom C (C) CT 1 2 OCT\n",
      "atom H (H) HC 1 2 OCT\n",
      "atom H (H) HC 1 2 OCT\n",
      "atom C (C) CT 1 2 OCT\n",
      "atom H (H) HC 1 2 OCT\n",
      "atom H (H) HC 1 2 OCT\n",
      "atom C (C) CT 1 2 OCT\n",
      "atom H (H) HC 1 2 OCT\n",
      "atom H (H) HC 1 2 OCT\n",
      "atom H (H) HC 1 2 OCT\n",
      "atom C (C) CT 1 1 ETH\n",
      "atom H (H) HC 1 1 ETH\n",
      "atom H (H) HC 1 1 ETH\n",
      "atom C (C) CT 1 1 ETH\n",
      "atom H (H) HC 1 1 ETH\n",
      "atom H (H) HC 1 1 ETH\n",
      "atom H (H) HC 1 1 ETH\n",
      "atom C (C) CT 2 2 OCT\n",
      "atom H (H) HC 2 2 OCT\n",
      "atom H (H) HC 2 2 OCT\n",
      "atom H (H) HC 2 2 OCT\n",
      "atom C (C) CT 2 2 OCT\n",
      "atom H (H) HC 2 2 OCT\n",
      "atom H (H) HC 2 2 OCT\n",
      "atom C (C) CT 2 2 OCT\n",
      "atom H (H) HC 2 2 OCT\n",
      "atom H (H) HC 2 2 OCT\n",
      "atom C (C) CT 2 2 OCT\n",
      "atom H (H) HC 2 2 OCT\n",
      "atom H (H) HC 2 2 OCT\n",
      "atom C (C) CT 2 2 OCT\n",
      "atom H (H) HC 2 2 OCT\n",
      "atom C (C) CT 2 2 OCT\n",
      "atom H (H) HC 2 2 OCT\n",
      "atom H (H) HC 2 2 OCT\n",
      "atom C (C) CT 2 2 OCT\n",
      "atom H (H) HC 2 2 OCT\n",
      "atom H (H) HC 2 2 OCT\n",
      "atom C (C) CT 2 2 OCT\n",
      "atom H (H) HC 2 2 OCT\n",
      "atom H (H) HC 2 2 OCT\n",
      "atom H (H) HC 2 2 OCT\n",
      "atom C (C) CT 2 1 ETH\n",
      "atom H (H) HC 2 1 ETH\n",
      "atom H (H) HC 2 1 ETH\n",
      "atom C (C) CT 2 1 ETH\n",
      "atom H (H) HC 2 1 ETH\n",
      "atom H (H) HC 2 1 ETH\n",
      "atom H (H) HC 2 1 ETH\n",
      "atom C (C) CT 3 2 OCT\n",
      "atom H (H) HC 3 2 OCT\n",
      "atom H (H) HC 3 2 OCT\n",
      "atom H (H) HC 3 2 OCT\n",
      "atom C (C) CT 3 2 OCT\n",
      "atom H (H) HC 3 2 OCT\n",
      "atom H (H) HC 3 2 OCT\n",
      "atom C (C) CT 3 2 OCT\n",
      "atom H (H) HC 3 2 OCT\n",
      "atom H (H) HC 3 2 OCT\n",
      "atom C (C) CT 3 2 OCT\n",
      "atom H (H) HC 3 2 OCT\n",
      "atom H (H) HC 3 2 OCT\n",
      "atom C (C) CT 3 2 OCT\n",
      "atom H (H) HC 3 2 OCT\n",
      "atom C (C) CT 3 2 OCT\n",
      "atom H (H) HC 3 2 OCT\n",
      "atom H (H) HC 3 2 OCT\n",
      "atom C (C) CT 3 2 OCT\n",
      "atom H (H) HC 3 2 OCT\n",
      "atom H (H) HC 3 2 OCT\n",
      "atom C (C) CT 3 2 OCT\n",
      "atom H (H) HC 3 2 OCT\n",
      "atom H (H) HC 3 2 OCT\n",
      "atom H (H) HC 3 2 OCT\n",
      "atom C (C) CT 3 1 ETH\n",
      "atom H (H) HC 3 1 ETH\n",
      "atom H (H) HC 3 1 ETH\n",
      "atom C (C) CT 3 1 ETH\n",
      "atom H (H) HC 3 1 ETH\n",
      "atom H (H) HC 3 1 ETH\n",
      "atom H (H) HC 3 1 ETH\n",
      "atom C (C) CT 4 2 OCT\n",
      "atom H (H) HC 4 2 OCT\n",
      "atom H (H) HC 4 2 OCT\n",
      "atom H (H) HC 4 2 OCT\n",
      "atom C (C) CT 4 2 OCT\n",
      "atom H (H) HC 4 2 OCT\n",
      "atom H (H) HC 4 2 OCT\n",
      "atom C (C) CT 4 2 OCT\n",
      "atom H (H) HC 4 2 OCT\n",
      "atom H (H) HC 4 2 OCT\n",
      "atom C (C) CT 4 2 OCT\n",
      "atom H (H) HC 4 2 OCT\n",
      "atom H (H) HC 4 2 OCT\n",
      "atom C (C) CT 4 2 OCT\n",
      "atom H (H) HC 4 2 OCT\n",
      "atom C (C) CT 4 2 OCT\n",
      "atom H (H) HC 4 2 OCT\n",
      "atom H (H) HC 4 2 OCT\n",
      "atom C (C) CT 4 2 OCT\n",
      "atom H (H) HC 4 2 OCT\n",
      "atom H (H) HC 4 2 OCT\n",
      "atom C (C) CT 4 2 OCT\n",
      "atom H (H) HC 4 2 OCT\n",
      "atom H (H) HC 4 2 OCT\n",
      "atom H (H) HC 4 2 OCT\n",
      "atom C (C) CT 4 1 ETH\n",
      "atom H (H) HC 4 1 ETH\n",
      "atom H (H) HC 4 1 ETH\n",
      "atom C (C) CT 4 1 ETH\n",
      "atom H (H) HC 4 1 ETH\n",
      "atom H (H) HC 4 1 ETH\n",
      "atom H (H) HC 4 1 ETH\n",
      "atom C (C) CT 5 2 OCT\n",
      "atom H (H) HC 5 2 OCT\n",
      "atom H (H) HC 5 2 OCT\n",
      "atom H (H) HC 5 2 OCT\n",
      "atom C (C) CT 5 2 OCT\n",
      "atom H (H) HC 5 2 OCT\n",
      "atom H (H) HC 5 2 OCT\n",
      "atom C (C) CT 5 2 OCT\n",
      "atom H (H) HC 5 2 OCT\n",
      "atom H (H) HC 5 2 OCT\n",
      "atom C (C) CT 5 2 OCT\n",
      "atom H (H) HC 5 2 OCT\n",
      "atom H (H) HC 5 2 OCT\n",
      "atom C (C) CT 5 2 OCT\n",
      "atom H (H) HC 5 2 OCT\n",
      "atom C (C) CT 5 2 OCT\n",
      "atom H (H) HC 5 2 OCT\n",
      "atom H (H) HC 5 2 OCT\n",
      "atom C (C) CT 5 2 OCT\n",
      "atom H (H) HC 5 2 OCT\n",
      "atom H (H) HC 5 2 OCT\n",
      "atom C (C) CT 5 2 OCT\n",
      "atom H (H) HC 5 2 OCT\n",
      "atom H (H) HC 5 2 OCT\n",
      "atom H (H) HC 5 2 OCT\n",
      "atom C (C) CT 5 1 ETH\n",
      "atom H (H) HC 5 1 ETH\n",
      "atom H (H) HC 5 1 ETH\n",
      "atom C (C) CT 5 1 ETH\n",
      "atom H (H) HC 5 1 ETH\n",
      "atom H (H) HC 5 1 ETH\n",
      "atom H (H) HC 5 1 ETH\n",
      "atom C (C) CT 6 2 OCT\n",
      "atom H (H) HC 6 2 OCT\n",
      "atom H (H) HC 6 2 OCT\n",
      "atom H (H) HC 6 2 OCT\n",
      "atom C (C) CT 6 2 OCT\n",
      "atom H (H) HC 6 2 OCT\n",
      "atom H (H) HC 6 2 OCT\n",
      "atom C (C) CT 6 2 OCT\n",
      "atom H (H) HC 6 2 OCT\n",
      "atom H (H) HC 6 2 OCT\n",
      "atom C (C) CT 6 2 OCT\n",
      "atom H (H) HC 6 2 OCT\n",
      "atom H (H) HC 6 2 OCT\n",
      "atom C (C) CT 6 2 OCT\n",
      "atom H (H) HC 6 2 OCT\n",
      "atom C (C) CT 6 2 OCT\n",
      "atom H (H) HC 6 2 OCT\n",
      "atom H (H) HC 6 2 OCT\n",
      "atom C (C) CT 6 2 OCT\n",
      "atom H (H) HC 6 2 OCT\n",
      "atom H (H) HC 6 2 OCT\n",
      "atom C (C) CT 6 2 OCT\n",
      "atom H (H) HC 6 2 OCT\n",
      "atom H (H) HC 6 2 OCT\n",
      "atom H (H) HC 6 2 OCT\n",
      "atom C (C) CT 6 1 ETH\n",
      "atom H (H) HC 6 1 ETH\n",
      "atom H (H) HC 6 1 ETH\n",
      "atom C (C) CT 6 1 ETH\n",
      "atom H (H) HC 6 1 ETH\n",
      "atom H (H) HC 6 1 ETH\n",
      "atom H (H) HC 6 1 ETH\n",
      "atom C (C) CT 7 2 OCT\n",
      "atom H (H) HC 7 2 OCT\n",
      "atom H (H) HC 7 2 OCT\n",
      "atom H (H) HC 7 2 OCT\n",
      "atom C (C) CT 7 2 OCT\n",
      "atom H (H) HC 7 2 OCT\n",
      "atom H (H) HC 7 2 OCT\n",
      "atom C (C) CT 7 2 OCT\n",
      "atom H (H) HC 7 2 OCT\n",
      "atom H (H) HC 7 2 OCT\n",
      "atom C (C) CT 7 2 OCT\n",
      "atom H (H) HC 7 2 OCT\n",
      "atom H (H) HC 7 2 OCT\n",
      "atom C (C) CT 7 2 OCT\n",
      "atom H (H) HC 7 2 OCT\n",
      "atom C (C) CT 7 2 OCT\n",
      "atom H (H) HC 7 2 OCT\n",
      "atom H (H) HC 7 2 OCT\n",
      "atom C (C) CT 7 2 OCT\n",
      "atom H (H) HC 7 2 OCT\n",
      "atom H (H) HC 7 2 OCT\n",
      "atom C (C) CT 7 2 OCT\n",
      "atom H (H) HC 7 2 OCT\n",
      "atom H (H) HC 7 2 OCT\n",
      "atom H (H) HC 7 2 OCT\n",
      "atom C (C) CT 7 1 ETH\n",
      "atom H (H) HC 7 1 ETH\n",
      "atom H (H) HC 7 1 ETH\n",
      "atom C (C) CT 7 1 ETH\n",
      "atom H (H) HC 7 1 ETH\n",
      "atom H (H) HC 7 1 ETH\n",
      "atom H (H) HC 7 1 ETH\n",
      "atom C (C) CT 8 2 OCT\n",
      "atom H (H) HC 8 2 OCT\n",
      "atom H (H) HC 8 2 OCT\n",
      "atom H (H) HC 8 2 OCT\n",
      "atom C (C) CT 8 2 OCT\n",
      "atom H (H) HC 8 2 OCT\n",
      "atom H (H) HC 8 2 OCT\n",
      "atom C (C) CT 8 2 OCT\n",
      "atom H (H) HC 8 2 OCT\n",
      "atom H (H) HC 8 2 OCT\n",
      "atom C (C) CT 8 2 OCT\n",
      "atom H (H) HC 8 2 OCT\n",
      "atom H (H) HC 8 2 OCT\n",
      "atom C (C) CT 8 2 OCT\n",
      "atom H (H) HC 8 2 OCT\n",
      "atom C (C) CT 8 2 OCT\n",
      "atom H (H) HC 8 2 OCT\n",
      "atom H (H) HC 8 2 OCT\n",
      "atom C (C) CT 8 2 OCT\n",
      "atom H (H) HC 8 2 OCT\n",
      "atom H (H) HC 8 2 OCT\n",
      "atom C (C) CT 8 2 OCT\n",
      "atom H (H) HC 8 2 OCT\n",
      "atom H (H) HC 8 2 OCT\n",
      "atom H (H) HC 8 2 OCT\n",
      "atom C (C) CT 8 1 ETH\n",
      "atom H (H) HC 8 1 ETH\n",
      "atom H (H) HC 8 1 ETH\n",
      "atom C (C) CT 8 1 ETH\n",
      "atom H (H) HC 8 1 ETH\n",
      "atom H (H) HC 8 1 ETH\n",
      "atom H (H) HC 8 1 ETH\n",
      "atom C (C) CT 9 2 OCT\n",
      "atom H (H) HC 9 2 OCT\n",
      "atom H (H) HC 9 2 OCT\n",
      "atom H (H) HC 9 2 OCT\n",
      "atom C (C) CT 9 2 OCT\n",
      "atom H (H) HC 9 2 OCT\n",
      "atom H (H) HC 9 2 OCT\n",
      "atom C (C) CT 9 2 OCT\n",
      "atom H (H) HC 9 2 OCT\n",
      "atom H (H) HC 9 2 OCT\n",
      "atom C (C) CT 9 2 OCT\n",
      "atom H (H) HC 9 2 OCT\n",
      "atom H (H) HC 9 2 OCT\n",
      "atom C (C) CT 9 2 OCT\n",
      "atom H (H) HC 9 2 OCT\n",
      "atom C (C) CT 9 2 OCT\n",
      "atom H (H) HC 9 2 OCT\n",
      "atom H (H) HC 9 2 OCT\n",
      "atom C (C) CT 9 2 OCT\n",
      "atom H (H) HC 9 2 OCT\n",
      "atom H (H) HC 9 2 OCT\n",
      "atom C (C) CT 9 2 OCT\n",
      "atom H (H) HC 9 2 OCT\n",
      "atom H (H) HC 9 2 OCT\n",
      "atom H (H) HC 9 2 OCT\n",
      "atom C (C) CT 9 1 ETH\n",
      "atom H (H) HC 9 1 ETH\n",
      "atom H (H) HC 9 1 ETH\n",
      "atom C (C) CT 9 1 ETH\n",
      "atom H (H) HC 9 1 ETH\n",
      "atom H (H) HC 9 1 ETH\n",
      "atom H (H) HC 9 1 ETH\n",
      "atom C (C) CT 10 1 ETH\n",
      "atom H (H) HC 10 1 ETH\n",
      "atom H (H) HC 10 1 ETH\n",
      "atom H (H) HC 10 1 ETH\n",
      "atom C (C) CT 10 1 ETH\n",
      "atom H (H) HC 10 1 ETH\n",
      "atom H (H) HC 10 1 ETH\n",
      "atom H (H) HC 10 1 ETH\n",
      "atom C (C) CT 11 1 ETH\n",
      "atom H (H) HC 11 1 ETH\n",
      "atom H (H) HC 11 1 ETH\n",
      "atom H (H) HC 11 1 ETH\n",
      "atom C (C) CT 11 1 ETH\n",
      "atom H (H) HC 11 1 ETH\n",
      "atom H (H) HC 11 1 ETH\n",
      "atom H (H) HC 11 1 ETH\n",
      "atom C (C) CT 12 1 ETH\n",
      "atom H (H) HC 12 1 ETH\n",
      "atom H (H) HC 12 1 ETH\n",
      "atom H (H) HC 12 1 ETH\n",
      "atom C (C) CT 12 1 ETH\n",
      "atom H (H) HC 12 1 ETH\n",
      "atom H (H) HC 12 1 ETH\n",
      "atom H (H) HC 12 1 ETH\n",
      "atom C (C) CT 13 1 ETH\n",
      "atom H (H) HC 13 1 ETH\n",
      "atom H (H) HC 13 1 ETH\n",
      "atom H (H) HC 13 1 ETH\n",
      "atom C (C) CT 13 1 ETH\n",
      "atom H (H) HC 13 1 ETH\n",
      "atom H (H) HC 13 1 ETH\n",
      "atom H (H) HC 13 1 ETH\n",
      "atom C (C) CT 14 1 ETH\n",
      "atom H (H) HC 14 1 ETH\n",
      "atom H (H) HC 14 1 ETH\n",
      "atom H (H) HC 14 1 ETH\n",
      "atom C (C) CT 14 1 ETH\n",
      "atom H (H) HC 14 1 ETH\n",
      "atom H (H) HC 14 1 ETH\n",
      "atom H (H) HC 14 1 ETH\n",
      "atom C (C) CT 15 1 ETH\n",
      "atom H (H) HC 15 1 ETH\n",
      "atom H (H) HC 15 1 ETH\n",
      "atom H (H) HC 15 1 ETH\n",
      "atom C (C) CT 15 1 ETH\n",
      "atom H (H) HC 15 1 ETH\n",
      "atom H (H) HC 15 1 ETH\n",
      "atom H (H) HC 15 1 ETH\n",
      "atom C (C) CT 16 1 ETH\n",
      "atom H (H) HC 16 1 ETH\n",
      "atom H (H) HC 16 1 ETH\n",
      "atom H (H) HC 16 1 ETH\n",
      "atom C (C) CT 16 1 ETH\n",
      "atom H (H) HC 16 1 ETH\n",
      "atom H (H) HC 16 1 ETH\n",
      "atom H (H) HC 16 1 ETH\n",
      "atom C (C) CT 17 1 ETH\n",
      "atom H (H) HC 17 1 ETH\n",
      "atom H (H) HC 17 1 ETH\n",
      "atom H (H) HC 17 1 ETH\n",
      "atom C (C) CT 17 1 ETH\n",
      "atom H (H) HC 17 1 ETH\n",
      "atom H (H) HC 17 1 ETH\n",
      "atom H (H) HC 17 1 ETH\n",
      "atom C (C) CT 18 1 ETH\n",
      "atom H (H) HC 18 1 ETH\n",
      "atom H (H) HC 18 1 ETH\n",
      "atom H (H) HC 18 1 ETH\n",
      "atom C (C) CT 18 1 ETH\n",
      "atom H (H) HC 18 1 ETH\n",
      "atom H (H) HC 18 1 ETH\n",
      "atom H (H) HC 18 1 ETH\n",
      "atom C (C) CT 19 1 ETH\n",
      "atom H (H) HC 19 1 ETH\n",
      "atom H (H) HC 19 1 ETH\n",
      "atom H (H) HC 19 1 ETH\n",
      "atom C (C) CT 19 1 ETH\n",
      "atom H (H) HC 19 1 ETH\n",
      "atom H (H) HC 19 1 ETH\n",
      "atom H (H) HC 19 1 ETH\n",
      "atom C (C) CT 20 1 METH\n",
      "atom H (H) HC 20 1 METH\n",
      "atom H (H) HC 20 1 METH\n",
      "atom H (H) HC 20 1 METH\n",
      "atom H (H) HC 20 1 METH\n",
      "atom C (C) CT 21 1 METH\n",
      "atom H (H) HC 21 1 METH\n",
      "atom H (H) HC 21 1 METH\n",
      "atom H (H) HC 21 1 METH\n",
      "atom H (H) HC 21 1 METH\n",
      "atom C (C) CT 22 1 METH\n",
      "atom H (H) HC 22 1 METH\n",
      "atom H (H) HC 22 1 METH\n",
      "atom H (H) HC 22 1 METH\n",
      "atom H (H) HC 22 1 METH\n",
      "atom C (C) CT 23 1 METH\n",
      "atom H (H) HC 23 1 METH\n",
      "atom H (H) HC 23 1 METH\n",
      "atom H (H) HC 23 1 METH\n",
      "atom H (H) HC 23 1 METH\n",
      "atom C (C) CT 24 1 METH\n",
      "atom H (H) HC 24 1 METH\n",
      "atom H (H) HC 24 1 METH\n",
      "atom H (H) HC 24 1 METH\n",
      "atom H (H) HC 24 1 METH\n",
      "atom C (C) CT 25 1 METH\n",
      "atom H (H) HC 25 1 METH\n",
      "atom H (H) HC 25 1 METH\n",
      "atom H (H) HC 25 1 METH\n",
      "atom H (H) HC 25 1 METH\n",
      "atom C (C) CT 26 1 METH\n",
      "atom H (H) HC 26 1 METH\n",
      "atom H (H) HC 26 1 METH\n",
      "atom H (H) HC 26 1 METH\n",
      "atom H (H) HC 26 1 METH\n",
      "atom C (C) CT 27 1 METH\n",
      "atom H (H) HC 27 1 METH\n",
      "atom H (H) HC 27 1 METH\n",
      "atom H (H) HC 27 1 METH\n",
      "atom H (H) HC 27 1 METH\n",
      "atom C (C) CT 28 1 METH\n",
      "atom H (H) HC 28 1 METH\n",
      "atom H (H) HC 28 1 METH\n",
      "atom H (H) HC 28 1 METH\n",
      "atom H (H) HC 28 1 METH\n",
      "atom C (C) CT 29 1 METH\n",
      "atom H (H) HC 29 1 METH\n",
      "atom H (H) HC 29 1 METH\n",
      "atom H (H) HC 29 1 METH\n",
      "atom H (H) HC 29 1 METH\n",
      "atom C (C) CT 30 1 METH\n",
      "atom H (H) HC 30 1 METH\n",
      "atom H (H) HC 30 1 METH\n",
      "atom H (H) HC 30 1 METH\n",
      "atom H (H) HC 30 1 METH\n",
      "atom C (C) CT 31 1 METH\n",
      "atom H (H) HC 31 1 METH\n",
      "atom H (H) HC 31 1 METH\n",
      "atom H (H) HC 31 1 METH\n",
      "atom H (H) HC 31 1 METH\n",
      "atom C (C) CT 32 1 METH\n",
      "atom H (H) HC 32 1 METH\n",
      "atom H (H) HC 32 1 METH\n",
      "atom H (H) HC 32 1 METH\n",
      "atom H (H) HC 32 1 METH\n",
      "atom C (C) CT 33 1 METH\n",
      "atom H (H) HC 33 1 METH\n",
      "atom H (H) HC 33 1 METH\n",
      "atom H (H) HC 33 1 METH\n",
      "atom H (H) HC 33 1 METH\n",
      "atom C (C) CT 34 1 METH\n",
      "atom H (H) HC 34 1 METH\n",
      "atom H (H) HC 34 1 METH\n",
      "atom H (H) HC 34 1 METH\n",
      "atom H (H) HC 34 1 METH\n",
      "atom C (C) CT 35 1 METH\n",
      "atom H (H) HC 35 1 METH\n",
      "atom H (H) HC 35 1 METH\n",
      "atom H (H) HC 35 1 METH\n",
      "atom H (H) HC 35 1 METH\n",
      "atom C (C) CT 36 1 METH\n",
      "atom H (H) HC 36 1 METH\n",
      "atom H (H) HC 36 1 METH\n",
      "atom H (H) HC 36 1 METH\n",
      "atom H (H) HC 36 1 METH\n",
      "atom C (C) CT 37 1 METH\n",
      "atom H (H) HC 37 1 METH\n",
      "atom H (H) HC 37 1 METH\n",
      "atom H (H) HC 37 1 METH\n",
      "atom H (H) HC 37 1 METH\n",
      "atom C (C) CT 38 1 METH\n",
      "atom H (H) HC 38 1 METH\n",
      "atom H (H) HC 38 1 METH\n",
      "atom H (H) HC 38 1 METH\n",
      "atom H (H) HC 38 1 METH\n",
      "atom C (C) CT 39 1 METH\n",
      "atom H (H) HC 39 1 METH\n",
      "atom H (H) HC 39 1 METH\n",
      "atom H (H) HC 39 1 METH\n",
      "atom H (H) HC 39 1 METH\n",
      "atom C (C) CT 40 1 METH\n",
      "atom H (H) HC 40 1 METH\n",
      "atom H (H) HC 40 1 METH\n",
      "atom H (H) HC 40 1 METH\n",
      "atom H (H) HC 40 1 METH\n",
      "atom C (C) CT 41 1 METH\n",
      "atom H (H) HC 41 1 METH\n",
      "atom H (H) HC 41 1 METH\n",
      "atom H (H) HC 41 1 METH\n",
      "atom H (H) HC 41 1 METH\n",
      "atom C (C) CT 42 1 METH\n",
      "atom H (H) HC 42 1 METH\n",
      "atom H (H) HC 42 1 METH\n",
      "atom H (H) HC 42 1 METH\n",
      "atom H (H) HC 42 1 METH\n",
      "atom C (C) CT 43 1 METH\n",
      "atom H (H) HC 43 1 METH\n",
      "atom H (H) HC 43 1 METH\n",
      "atom H (H) HC 43 1 METH\n",
      "atom H (H) HC 43 1 METH\n",
      "atom C (C) CT 44 1 METH\n",
      "atom H (H) HC 44 1 METH\n",
      "atom H (H) HC 44 1 METH\n",
      "atom H (H) HC 44 1 METH\n",
      "atom H (H) HC 44 1 METH\n",
      "atom C (C) CT 45 1 METH\n",
      "atom H (H) HC 45 1 METH\n",
      "atom H (H) HC 45 1 METH\n",
      "atom H (H) HC 45 1 METH\n",
      "atom H (H) HC 45 1 METH\n",
      "atom C (C) CT 46 1 METH\n",
      "atom H (H) HC 46 1 METH\n",
      "atom H (H) HC 46 1 METH\n",
      "atom H (H) HC 46 1 METH\n",
      "atom H (H) HC 46 1 METH\n",
      "atom C (C) CT 47 1 METH\n",
      "atom H (H) HC 47 1 METH\n",
      "atom H (H) HC 47 1 METH\n",
      "atom H (H) HC 47 1 METH\n",
      "atom H (H) HC 47 1 METH\n",
      "atom C (C) CT 48 1 METH\n",
      "atom H (H) HC 48 1 METH\n",
      "atom H (H) HC 48 1 METH\n",
      "atom H (H) HC 48 1 METH\n",
      "atom H (H) HC 48 1 METH\n",
      "atom C (C) CT 49 1 METH\n",
      "atom H (H) HC 49 1 METH\n",
      "atom H (H) HC 49 1 METH\n",
      "atom H (H) HC 49 1 METH\n",
      "atom H (H) HC 49 1 METH\n",
      "atom C (C) CT 50 1 METH\n",
      "atom H (H) HC 50 1 METH\n",
      "atom H (H) HC 50 1 METH\n",
      "atom H (H) HC 50 1 METH\n",
      "atom H (H) HC 50 1 METH\n",
      "atom C (C) CT 51 1 METH\n",
      "atom H (H) HC 51 1 METH\n",
      "atom H (H) HC 51 1 METH\n",
      "atom H (H) HC 51 1 METH\n",
      "atom H (H) HC 51 1 METH\n",
      "atom C (C) CT 52 1 METH\n",
      "atom H (H) HC 52 1 METH\n",
      "atom H (H) HC 52 1 METH\n",
      "atom H (H) HC 52 1 METH\n",
      "atom H (H) HC 52 1 METH\n",
      "atom C (C) CT 53 1 METH\n",
      "atom H (H) HC 53 1 METH\n",
      "atom H (H) HC 53 1 METH\n",
      "atom H (H) HC 53 1 METH\n",
      "atom H (H) HC 53 1 METH\n",
      "atom C (C) CT 54 1 METH\n",
      "atom H (H) HC 54 1 METH\n",
      "atom H (H) HC 54 1 METH\n",
      "atom H (H) HC 54 1 METH\n",
      "atom H (H) HC 54 1 METH\n",
      "atom C (C) CT 55 1 METH\n",
      "atom H (H) HC 55 1 METH\n",
      "atom H (H) HC 55 1 METH\n",
      "atom H (H) HC 55 1 METH\n",
      "atom H (H) HC 55 1 METH\n",
      "atom C (C) CT 56 1 METH\n",
      "atom H (H) HC 56 1 METH\n",
      "atom H (H) HC 56 1 METH\n",
      "atom H (H) HC 56 1 METH\n",
      "atom H (H) HC 56 1 METH\n",
      "atom C (C) CT 57 1 METH\n",
      "atom H (H) HC 57 1 METH\n",
      "atom H (H) HC 57 1 METH\n",
      "atom H (H) HC 57 1 METH\n",
      "atom H (H) HC 57 1 METH\n",
      "atom C (C) CT 58 1 METH\n",
      "atom H (H) HC 58 1 METH\n",
      "atom H (H) HC 58 1 METH\n",
      "atom H (H) HC 58 1 METH\n",
      "atom H (H) HC 58 1 METH\n",
      "atom C (C) CT 59 1 METH\n",
      "atom H (H) HC 59 1 METH\n",
      "atom H (H) HC 59 1 METH\n",
      "atom H (H) HC 59 1 METH\n",
      "atom H (H) HC 59 1 METH\n",
      "atom C (C) CT 60 1 METH\n",
      "atom H (H) HC 60 1 METH\n",
      "atom H (H) HC 60 1 METH\n",
      "atom H (H) HC 60 1 METH\n",
      "atom H (H) HC 60 1 METH\n",
      "atom C (C) CT 61 1 METH\n",
      "atom H (H) HC 61 1 METH\n",
      "atom H (H) HC 61 1 METH\n",
      "atom H (H) HC 61 1 METH\n",
      "atom H (H) HC 61 1 METH\n",
      "atom C (C) CT 62 1 METH\n",
      "atom H (H) HC 62 1 METH\n",
      "atom H (H) HC 62 1 METH\n",
      "atom H (H) HC 62 1 METH\n",
      "atom H (H) HC 62 1 METH\n",
      "atom C (C) CT 63 1 METH\n",
      "atom H (H) HC 63 1 METH\n",
      "atom H (H) HC 63 1 METH\n",
      "atom H (H) HC 63 1 METH\n",
      "atom H (H) HC 63 1 METH\n",
      "atom C (C) CT 64 1 METH\n",
      "atom H (H) HC 64 1 METH\n",
      "atom H (H) HC 64 1 METH\n",
      "atom H (H) HC 64 1 METH\n",
      "atom H (H) HC 64 1 METH\n",
      "atom C (C) CT 65 1 METH\n",
      "atom H (H) HC 65 1 METH\n",
      "atom H (H) HC 65 1 METH\n",
      "atom H (H) HC 65 1 METH\n",
      "atom H (H) HC 65 1 METH\n",
      "atom C (C) CT 66 1 METH\n",
      "atom H (H) HC 66 1 METH\n",
      "atom H (H) HC 66 1 METH\n",
      "atom H (H) HC 66 1 METH\n",
      "atom H (H) HC 66 1 METH\n",
      "atom C (C) CT 67 1 METH\n",
      "atom H (H) HC 67 1 METH\n",
      "atom H (H) HC 67 1 METH\n",
      "atom H (H) HC 67 1 METH\n",
      "atom H (H) HC 67 1 METH\n",
      "atom C (C) CT 68 1 METH\n",
      "atom H (H) HC 68 1 METH\n",
      "atom H (H) HC 68 1 METH\n",
      "atom H (H) HC 68 1 METH\n",
      "atom H (H) HC 68 1 METH\n",
      "atom C (C) CT 69 1 METH\n",
      "atom H (H) HC 69 1 METH\n",
      "atom H (H) HC 69 1 METH\n",
      "atom H (H) HC 69 1 METH\n",
      "atom H (H) HC 69 1 METH\n"
     ]
    }
   ],
   "source": [
    "for pk,p in lmp_alkyl.strucC.particles.iteritems():\n",
    "    print p,p.paramkey,p.mol,p.residue,p.resname"
   ]
  },
  {
   "cell_type": "markdown",
   "metadata": {},
   "source": [
    "Set ff parameters for all the bonds, bond angles and dihedrals in the structure container"
   ]
  },
  {
   "cell_type": "code",
   "execution_count": 107,
   "metadata": {
    "collapsed": true
   },
   "outputs": [],
   "source": [
    "lmp_alkyl.paramC = oplsaa"
   ]
  },
  {
   "cell_type": "code",
   "execution_count": 108,
   "metadata": {
    "collapsed": true
   },
   "outputs": [],
   "source": [
    "lmp_alkyl.set_ffparam()"
   ]
  },
  {
   "cell_type": "markdown",
   "metadata": {},
   "source": [
    "Add template files to calculations"
   ]
  },
  {
   "cell_type": "code",
   "execution_count": 109,
   "metadata": {
    "collapsed": true
   },
   "outputs": [],
   "source": [
    "file_type = 'templates'\n",
    "file_key = 'in'\n",
    "file_name = \"lammps_spneut.in\"\n",
    "from_dirkey = 'templates'\n",
    "to_dirkey = 'scratch'\n",
    "lmp_alkyl.cp_file(file_type,file_key,file_name,from_dirkey,to_dirkey)"
   ]
  },
  {
   "cell_type": "code",
   "execution_count": 110,
   "metadata": {
    "collapsed": false
   },
   "outputs": [
    {
     "name": "stdout",
     "output_type": "stream",
     "text": [
      "'Calculation:lmp_alkyl has status:written'\n"
     ]
    }
   ],
   "source": [
    "pprint(\"Calculation:{} has status:{}\".format(lmp_alkyl.tag,lmp_alkyl.meta['status']))"
   ]
  },
  {
   "cell_type": "markdown",
   "metadata": {},
   "source": [
    "Calculate the center mass of structure"
   ]
  },
  {
   "cell_type": "code",
   "execution_count": 111,
   "metadata": {
    "collapsed": true
   },
   "outputs": [],
   "source": [
    "lmp_alkyl.strucC.calc_center_mass()"
   ]
  },
  {
   "cell_type": "markdown",
   "metadata": {},
   "source": [
    "Create groups out of the molecules"
   ]
  },
  {
   "cell_type": "code",
   "execution_count": 112,
   "metadata": {
    "collapsed": true
   },
   "outputs": [],
   "source": [
    "groupset_i = streamm.Groups('mol',lmp_alkyl.strucC)\n",
    "groupset_i.group_prop('mol','group_mol')"
   ]
  },
  {
   "cell_type": "markdown",
   "metadata": {},
   "source": [
    "Caculate the ceneter of mass, radius and asphericity of each group"
   ]
  },
  {
   "cell_type": "code",
   "execution_count": 113,
   "metadata": {
    "collapsed": true
   },
   "outputs": [],
   "source": [
    "groupset_i.calc_cent_mass()\n",
    "groupset_i.calc_radius_asphericity()\n",
    "groupset_i.calc_dl()"
   ]
  },
  {
   "cell_type": "markdown",
   "metadata": {},
   "source": [
    "Write the center of mass of each group to an .xyz file for visualization "
   ]
  },
  {
   "cell_type": "code",
   "execution_count": 114,
   "metadata": {
    "collapsed": true
   },
   "outputs": [],
   "source": [
    "groupset_i.write_cm_xyz()"
   ]
  },
  {
   "cell_type": "code",
   "execution_count": 115,
   "metadata": {
    "collapsed": true
   },
   "outputs": [],
   "source": [
    "import numpy as np"
   ]
  },
  {
   "cell_type": "code",
   "execution_count": 116,
   "metadata": {
    "collapsed": false
   },
   "outputs": [
    {
     "name": "stdout",
     "output_type": "stream",
     "text": [
      "1.79932546227 ang\n"
     ]
    }
   ],
   "source": [
    "print np.mean(groupset_i.radius),groupset_i.strucC.unit_conf['length']"
   ]
  },
  {
   "cell_type": "code",
   "execution_count": 117,
   "metadata": {
    "collapsed": false
   },
   "outputs": [
    {
     "name": "stdout",
     "output_type": "stream",
     "text": [
      "[True, True, True]\n"
     ]
    }
   ],
   "source": [
    "print groupset_i.strucC.lat.pbcs"
   ]
  },
  {
   "cell_type": "markdown",
   "metadata": {},
   "source": [
    "Create a neighbor list of groups "
   ]
  },
  {
   "cell_type": "code",
   "execution_count": 118,
   "metadata": {
    "collapsed": true
   },
   "outputs": [],
   "source": [
    "groupset_i.group_nblist.radii_nblist(groupset_i.strucC.lat,groupset_i.cent_mass,groupset_i.radius,radii_buffer=5.25)"
   ]
  },
  {
   "cell_type": "markdown",
   "metadata": {},
   "source": [
    "Apply periodic boundaries to all the groups, so the molecules are not split across pbc's"
   ]
  },
  {
   "cell_type": "code",
   "execution_count": 119,
   "metadata": {
    "collapsed": true
   },
   "outputs": [],
   "source": [
    "groupset_i.group_pbcs()"
   ]
  },
  {
   "cell_type": "markdown",
   "metadata": {},
   "source": [
    "Loop over each group, shift the group to the center of the simulation cell and write an .xyz file that includes the neighbors of the group."
   ]
  },
  {
   "cell_type": "code",
   "execution_count": 120,
   "metadata": {
    "collapsed": false
   },
   "outputs": [
    {
     "name": "stdout",
     "output_type": "stream",
     "text": [
      "group_mol_0 16 0\n",
      "[ 76.653846  10.30594    0.623454]\n",
      "group_mol_1 13 1\n",
      "[ 73.198925  53.63841   74.637648]\n",
      "group_mol_2 17 2\n",
      "[  6.854253  86.197885  25.639487]\n",
      "group_mol_3 14 3\n",
      "[  4.771635  68.191421  89.863634]\n",
      "group_mol_4 17 4\n",
      "[ 25.9855    36.503382  59.348536]\n",
      "group_mol_5 15 5\n",
      "[ 98.939799  17.188399  88.616208]\n",
      "group_mol_6 13 6\n",
      "[ 34.513904   5.223367  49.861893]\n",
      "group_mol_7 9 7\n",
      "[ 66.215706  71.928804  48.970751]\n",
      "group_mol_8 14 8\n",
      "[ 98.116022  81.682274   1.600691]\n",
      "group_mol_9 13 9\n",
      "[ 36.312087  57.242611  93.212946]\n"
     ]
    }
   ],
   "source": [
    "for gk_i,g_i in groupset_i.groups.iteritems():\n",
    "    if( len(g_i.pkeys) == 32 ):\n",
    "        print g_i.tag,groupset_i.group_nblist.calc_nnab(gk_i),g_i.mol \n",
    "        print g_i.cent_mass\n",
    "        list_i = []\n",
    "        for g_j in groupset_i.group_nblist.getnbs(gk_i):\n",
    "            list_i += groupset_i.groups[g_j].pkeys\n",
    "        groupset_i.strucC.shift_pos(-1.0*g_i.cent_mass)  # Place center of mass at origin\n",
    "        groupset_i.strucC.write_xyz_list(list_i,xyz_file='{}_blob.xyz'.format(g_i.tag))\n",
    "        groupset_i.strucC.shift_pos(g_i.cent_mass)  # Return center of mass \n",
    "        "
   ]
  },
  {
   "cell_type": "markdown",
   "metadata": {},
   "source": [
    "Fancy aye! "
   ]
  }
 ],
 "metadata": {
  "anaconda-cloud": {},
  "kernelspec": {
   "display_name": "Python [default]",
   "language": "python",
   "name": "python2"
  },
  "language_info": {
   "codemirror_mode": {
    "name": "ipython",
    "version": 2
   },
   "file_extension": ".py",
   "mimetype": "text/x-python",
   "name": "python",
   "nbconvert_exporter": "python",
   "pygments_lexer": "ipython2",
   "version": "2.7.9"
  }
 },
 "nbformat": 4,
 "nbformat_minor": 2
}
