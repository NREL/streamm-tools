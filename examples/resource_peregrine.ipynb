{
 "cells": [
  {
   "cell_type": "markdown",
   "metadata": {},
   "source": [
    "This is to setup NREL's peregrine system as a resource "
   ]
  },
  {
   "cell_type": "code",
   "execution_count": null,
   "metadata": {
    "collapsed": true
   },
   "outputs": [],
   "source": [
    "import streamm\n",
    "from pprint import pprint"
   ]
  },
  {
   "cell_type": "markdown",
   "metadata": {},
   "source": [
    "Import the ssh resource from the resource example"
   ]
  },
  {
   "cell_type": "code",
   "execution_count": null,
   "metadata": {
    "collapsed": true
   },
   "outputs": [],
   "source": [
    "peregrine = streamm.Resource('remote')"
   ]
  },
  {
   "cell_type": "code",
   "execution_count": null,
   "metadata": {
    "collapsed": true
   },
   "outputs": [],
   "source": [
    "peregrine.import_json()"
   ]
  },
  {
   "cell_type": "code",
   "execution_count": null,
   "metadata": {
    "collapsed": true
   },
   "outputs": [],
   "source": [
    "peregrine.tag = 'peregrine'"
   ]
  },
  {
   "cell_type": "code",
   "execution_count": null,
   "metadata": {
    "collapsed": true
   },
   "outputs": [],
   "source": [
    "peregrine.ssh['username'] = 'my_username'"
   ]
  },
  {
   "cell_type": "code",
   "execution_count": null,
   "metadata": {
    "collapsed": true
   },
   "outputs": [],
   "source": [
    "peregrine.ssh['address'] = \"peregrine.hpc.nrel.gov\"    \n",
    "peregrine.dir['storage'] = '/mss/users/%s'%(peregrine.ssh['username'])\n",
    "peregrine.dir['scratch'] = '/scratch/%s'%(peregrine.ssh['username'])\n",
    "peregrine.dir['home'] = peregrine.dir['home']\n",
    "peregrine.dir['launch'] = peregrine.dir['launch']\n",
    "peregrine.dir['templates'] = peregrine.dir['templates']"
   ]
  },
  {
   "cell_type": "code",
   "execution_count": null,
   "metadata": {
    "collapsed": true
   },
   "outputs": [],
   "source": [
    "# Set default simulation specs\n",
    "peregrine.properties['allocation'] = 'orgopv'\n",
    "peregrine.properties['e-mail'] = '%s@nrel.gov'%(peregrine.ssh['username'])\n",
    "peregrine.properties['scratch'] = peregrine.dir['scratch']\n",
    "peregrine.properties['allocation'] = 'orgopv'\n",
    "peregrine.properties['walltime'] = 4\n",
    "peregrine.properties['nodes'] = int(1)\n",
    "peregrine.properties['ppn'] = int(24)\n",
    "peregrine.properties['nproc'] = peregrine.properties['nodes']*peregrine.properties['ppn']\n",
    "peregrine.properties['queue'] = 'short'\n",
    "peregrine.properties['feature'] = '24core'\n",
    "peregrine.properties['exe_command'] = 'qsub '"
   ]
  },
  {
   "cell_type": "code",
   "execution_count": null,
   "metadata": {},
   "outputs": [],
   "source": [
    "pprint(peregrine.properties)"
   ]
  },
  {
   "cell_type": "code",
   "execution_count": null,
   "metadata": {
    "collapsed": true
   },
   "outputs": [],
   "source": [
    "peregrine_json = peregrine.export_json()"
   ]
  }
 ],
 "metadata": {
  "kernelspec": {
   "display_name": "Python 2",
   "language": "python",
   "name": "python2"
  },
  "language_info": {
   "codemirror_mode": {
    "name": "ipython",
    "version": 2
   },
   "file_extension": ".py",
   "mimetype": "text/x-python",
   "name": "python",
   "nbconvert_exporter": "python",
   "pygments_lexer": "ipython2",
   "version": "2.7.13"
  }
 },
 "nbformat": 4,
 "nbformat_minor": 2
}
