{
 "cells": [
  {
   "cell_type": "markdown",
   "metadata": {},
   "source": [
    "Run electronic structure calulations of P3HT repeat unit with gaussian to esp charges then build oligomer with esp charges of repeat unit"
   ]
  },
  {
   "cell_type": "code",
   "execution_count": 1,
   "metadata": {
    "collapsed": true
   },
   "outputs": [],
   "source": [
    "import os,sys"
   ]
  },
  {
   "cell_type": "code",
   "execution_count": 2,
   "metadata": {
    "collapsed": true
   },
   "outputs": [],
   "source": [
    "from streamm import *"
   ]
  },
  {
   "cell_type": "code",
   "execution_count": 3,
   "metadata": {
    "collapsed": true
   },
   "outputs": [],
   "source": [
    "%load_ext autoreload\n",
    "%autoreload 2"
   ]
  },
  {
   "cell_type": "code",
   "execution_count": 4,
   "metadata": {},
   "outputs": [
    {
     "name": "stdout",
     "output_type": "stream",
     "text": [
      "Reading in resource json file res_local.json \n"
     ]
    },
    {
     "name": "stderr",
     "output_type": "stream",
     "text": [
      "No handlers could be found for logger \"streamm.resource\"\n"
     ]
    }
   ],
   "source": [
    "res_tag = 'local'  # Change this to remote to run the calculations remotely \n",
    "res_local = resource.Resource(res_tag)\n",
    "res_local.load_json()"
   ]
  },
  {
   "cell_type": "code",
   "execution_count": 5,
   "metadata": {},
   "outputs": [
    {
     "name": "stdout",
     "output_type": "stream",
     "text": [
      "Reading in resource json file res_peregrine.json \n"
     ]
    }
   ],
   "source": [
    "peregrine = resource.Resource('peregrine')\n",
    "peregrine.load_json()"
   ]
  },
  {
   "cell_type": "markdown",
   "metadata": {},
   "source": [
    "Setup a Gaussian calculation of a single p3ht monomer built in the P3HT_build example"
   ]
  },
  {
   "cell_type": "code",
   "execution_count": 6,
   "metadata": {
    "collapsed": true
   },
   "outputs": [],
   "source": [
    "p3ht_n1 = buildingblock.Container('thiophene_hexane')\n",
    "p3ht_n1.read_cply()"
   ]
  },
  {
   "cell_type": "code",
   "execution_count": 7,
   "metadata": {},
   "outputs": [
    {
     "name": "stdout",
     "output_type": "stream",
     "text": [
      "27\n"
     ]
    }
   ],
   "source": [
    "print p3ht_n1.n_particles"
   ]
  },
  {
   "cell_type": "code",
   "execution_count": 9,
   "metadata": {
    "collapsed": true
   },
   "outputs": [],
   "source": [
    "gaus_i = gaussian.Gaussian('p3ht_n1_gaus')"
   ]
  },
  {
   "cell_type": "code",
   "execution_count": 11,
   "metadata": {},
   "outputs": [
    {
     "name": "stdout",
     "output_type": "stream",
     "text": [
      " File not found calc_p3ht_n1_gaus.json in /Users/tkemper/Development/streamm-tools/examples \n"
     ]
    }
   ],
   "source": [
    "gaus_i.load_json()"
   ]
  },
  {
   "cell_type": "code",
   "execution_count": 12,
   "metadata": {
    "collapsed": true
   },
   "outputs": [],
   "source": [
    "gaus_i.set_strucC(p3ht_n1)"
   ]
  },
  {
   "cell_type": "code",
   "execution_count": 13,
   "metadata": {
    "collapsed": true
   },
   "outputs": [],
   "source": [
    "gaus_i.set_resource(peregrine)"
   ]
  },
  {
   "cell_type": "code",
   "execution_count": null,
   "metadata": {},
   "outputs": [],
   "source": [
    "gaus_i.make_dir()"
   ]
  },
  {
   "cell_type": "code",
   "execution_count": null,
   "metadata": {},
   "outputs": [],
   "source": [
    "file_type = 'templates'\n",
    "file_key = 'run'\n",
    "file_name = \"gaussian_peregrine.pbs\"\n",
    "from_dirkey = 'templates'\n",
    "to_dirkey = 'launch'\n",
    "gaus_i.cp_file(file_type,file_key,file_name,from_dirkey,to_dirkey)"
   ]
  },
  {
   "cell_type": "code",
   "execution_count": null,
   "metadata": {},
   "outputs": [],
   "source": [
    "file_type = 'templates'\n",
    "file_key = 'com'\n",
    "file_name = \"gaussian.com\"\n",
    "from_dirkey = 'templates'\n",
    "to_dirkey = 'launch'\n",
    "gaus_i.cp_file(file_type,file_key,file_name,from_dirkey,to_dirkey)"
   ]
  },
  {
   "cell_type": "code",
   "execution_count": null,
   "metadata": {
    "collapsed": true
   },
   "outputs": [],
   "source": [
    "os.chdir(gaus_i.dir['launch'])"
   ]
  },
  {
   "cell_type": "code",
   "execution_count": null,
   "metadata": {
    "collapsed": true
   },
   "outputs": [],
   "source": [
    "gaus_i.load_str('templates','com')\n",
    "gaus_i.load_str('templates','run')"
   ]
  },
  {
   "cell_type": "code",
   "execution_count": null,
   "metadata": {},
   "outputs": [],
   "source": [
    "gaus_i.properties['commands'] = 'HF/3-21G SP Pop=MK nosym'\n",
    "gaus_i.properties['charge'] = 0\n",
    "gaus_i.properties['spin_mult'] = 1\n",
    "gaus_i.properties['coord'] = gaus_i.strucC.write_coord()"
   ]
  },
  {
   "cell_type": "code",
   "execution_count": null,
   "metadata": {
    "collapsed": true
   },
   "outputs": [],
   "source": [
    "gaus_i.replacewrite_prop('com','input','com','%s.com'%(gaus_i.tag))"
   ]
  },
  {
   "cell_type": "code",
   "execution_count": null,
   "metadata": {
    "collapsed": true
   },
   "outputs": [],
   "source": [
    "gaus_i.properties['input_com'] = gaus_i.files['input']['com']"
   ]
  },
  {
   "cell_type": "code",
   "execution_count": null,
   "metadata": {
    "collapsed": true
   },
   "outputs": [],
   "source": [
    "gaus_i.properties['scratch_dir'] = gaus_i.dir['scratch']"
   ]
  },
  {
   "cell_type": "code",
   "execution_count": null,
   "metadata": {
    "collapsed": true
   },
   "outputs": [],
   "source": [
    "gaus_i.replacewrite_prop('run','scripts','run','%s.sh'%(gaus_i.tag))"
   ]
  },
  {
   "cell_type": "code",
   "execution_count": null,
   "metadata": {
    "collapsed": true
   },
   "outputs": [],
   "source": [
    "file_type = 'output'\n",
    "file_key = 'log'\n",
    "file_name = \"%s.log\"%(gaus_i.tag)\n",
    "gaus_i.add_file(file_type,file_key,file_name)\n",
    "\n",
    "file_type = 'output'\n",
    "file_key = 'fchk'\n",
    "file_name = \"%s.fchk\"%(gaus_i.tag)\n",
    "gaus_i.add_file(file_type,file_key,file_name)"
   ]
  },
  {
   "cell_type": "code",
   "execution_count": null,
   "metadata": {},
   "outputs": [],
   "source": [
    "print gaus_i.dir['home'] "
   ]
  },
  {
   "cell_type": "code",
   "execution_count": null,
   "metadata": {
    "collapsed": true
   },
   "outputs": [],
   "source": [
    "os.chdir(gaus_i.dir['home'])\n",
    "gaus_i.dump_json()\n",
    "os.chdir(gaus_i.dir['launch'])"
   ]
  },
  {
   "cell_type": "code",
   "execution_count": null,
   "metadata": {
    "collapsed": true
   },
   "outputs": [],
   "source": [
    "gaus_i.meta['status'] = 'written'"
   ]
  },
  {
   "cell_type": "code",
   "execution_count": null,
   "metadata": {},
   "outputs": [],
   "source": [
    "gaus_i.push()"
   ]
  },
  {
   "cell_type": "code",
   "execution_count": null,
   "metadata": {},
   "outputs": [],
   "source": [
    "gaus_i.run()"
   ]
  },
  {
   "cell_type": "code",
   "execution_count": null,
   "metadata": {},
   "outputs": [],
   "source": [
    "gaus_i.check()\n",
    "print gaus_i.meta['status']"
   ]
  },
  {
   "cell_type": "code",
   "execution_count": null,
   "metadata": {
    "collapsed": true
   },
   "outputs": [],
   "source": [
    "gaus_i.analysis()"
   ]
  },
  {
   "cell_type": "markdown",
   "metadata": {},
   "source": [
    "Set charges to ESP charges from fchk analysis"
   ]
  },
  {
   "cell_type": "code",
   "execution_count": null,
   "metadata": {},
   "outputs": [],
   "source": [
    "gaus_i.strucC.properties['charge'] = 0.0 \n",
    "for p,pt in gaus_i.strucC.particles.iteritems(): # properties[\"charge\"] \n",
    "    pt.properties[\"charge\"] = round(pt.properties[\"esp\"],3)\n",
    "    gaus_i.strucC.properties['charge']  += pt.properties[\"charge\"]\n",
    "    print p,pt.properties[\"symbol\"],pt.properties[\"charge\"]"
   ]
  },
  {
   "cell_type": "code",
   "execution_count": null,
   "metadata": {},
   "outputs": [],
   "source": [
    "gaus_i.strucC.calc_charge()\n",
    "print gaus_i.strucC.charge"
   ]
  },
  {
   "cell_type": "markdown",
   "metadata": {},
   "source": [
    "Clean up charges from rounding"
   ]
  },
  {
   "cell_type": "code",
   "execution_count": null,
   "metadata": {
    "collapsed": true
   },
   "outputs": [],
   "source": [
    "gaus_i.strucC.particles[23].properties[\"charge\"] += 0.001\n",
    "gaus_i.strucC.particles[20].properties[\"charge\"] += 0.001\n",
    "gaus_i.strucC.particles[17].properties[\"charge\"] += 0.001"
   ]
  },
  {
   "cell_type": "code",
   "execution_count": null,
   "metadata": {
    "collapsed": true
   },
   "outputs": [],
   "source": [
    "os.chdir(gaus_i.dir['home'])\n",
    "gaus_i.dump_json()\n"
   ]
  },
  {
   "cell_type": "code",
   "execution_count": null,
   "metadata": {},
   "outputs": [],
   "source": [
    "print gaus_i.strucC.tag"
   ]
  },
  {
   "cell_type": "code",
   "execution_count": null,
   "metadata": {},
   "outputs": [],
   "source": [
    "p3ht_n1_esp = buildingblock.Container('thiophene_hexane_esp')"
   ]
  },
  {
   "cell_type": "markdown",
   "metadata": {},
   "source": [
    "Convert to Bohr to angstroms "
   ]
  },
  {
   "cell_type": "code",
   "execution_count": null,
   "metadata": {},
   "outputs": [],
   "source": [
    "p3ht_n1_esp.convert_gaussian(gaus_i)"
   ]
  },
  {
   "cell_type": "code",
   "execution_count": null,
   "metadata": {},
   "outputs": [],
   "source": [
    "p3ht_n1_esp.write_xyz()"
   ]
  },
  {
   "cell_type": "code",
   "execution_count": null,
   "metadata": {
    "collapsed": true
   },
   "outputs": [],
   "source": [
    "p3ht_n1_esp.write_cply()"
   ]
  },
  {
   "cell_type": "markdown",
   "metadata": {},
   "source": [
    "Build oligomer with length xN"
   ]
  },
  {
   "cell_type": "code",
   "execution_count": null,
   "metadata": {
    "collapsed": true
   },
   "outputs": [],
   "source": [
    "xN = 10"
   ]
  },
  {
   "cell_type": "code",
   "execution_count": null,
   "metadata": {},
   "outputs": [],
   "source": [
    "p3ht_xN = buildingblock.Container('p3ht_n%d'%(xN))\n",
    "p3ht_xN += p3ht_n1_esp"
   ]
  },
  {
   "cell_type": "code",
   "execution_count": null,
   "metadata": {},
   "outputs": [],
   "source": [
    "for n in range(1,xN):\n",
    "    p3ht_xN = buildingblock.attach(p3ht_n1_esp,p3ht_xN,\"T\",1,\"T\",0)\n",
    "    "
   ]
  },
  {
   "cell_type": "code",
   "execution_count": null,
   "metadata": {},
   "outputs": [],
   "source": [
    "p3ht_xN.calc_charge()"
   ]
  },
  {
   "cell_type": "code",
   "execution_count": null,
   "metadata": {},
   "outputs": [],
   "source": [
    "print p3ht_xN.charge"
   ]
  },
  {
   "cell_type": "code",
   "execution_count": null,
   "metadata": {},
   "outputs": [],
   "source": [
    "p3ht_xN.tag = 'p3ht_n%d_esp'%(xN)"
   ]
  },
  {
   "cell_type": "code",
   "execution_count": null,
   "metadata": {
    "collapsed": true
   },
   "outputs": [],
   "source": [
    "p3ht_xN.write_xyz()"
   ]
  },
  {
   "cell_type": "code",
   "execution_count": null,
   "metadata": {
    "collapsed": true
   },
   "outputs": [],
   "source": [
    "p3ht_xN.write_cply()"
   ]
  },
  {
   "cell_type": "code",
   "execution_count": null,
   "metadata": {},
   "outputs": [],
   "source": [
    "del p3ht_xN,p3ht_n1_esp,gaus_i"
   ]
  }
 ],
 "metadata": {
  "anaconda-cloud": {},
  "kernelspec": {
   "display_name": "Python 2",
   "language": "python",
   "name": "python2"
  },
  "language_info": {
   "codemirror_mode": {
    "name": "ipython",
    "version": 2
   },
   "file_extension": ".py",
   "mimetype": "text/x-python",
   "name": "python",
   "nbconvert_exporter": "python",
   "pygments_lexer": "ipython2",
   "version": "2.7.13"
  }
 },
 "nbformat": 4,
 "nbformat_minor": 1
}
