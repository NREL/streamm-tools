{
 "cells": [
  {
   "cell_type": "markdown",
   "metadata": {},
   "source": [
    "Build a P3HT structure"
   ]
  },
  {
   "cell_type": "code",
   "execution_count": 10,
   "metadata": {
    "collapsed": true
   },
   "outputs": [],
   "source": [
    "import os,sys"
   ]
  },
  {
   "cell_type": "code",
   "execution_count": 11,
   "metadata": {
    "collapsed": true
   },
   "outputs": [],
   "source": [
    "from streamm import *"
   ]
  },
  {
   "cell_type": "markdown",
   "metadata": {},
   "source": [
    "Build molecule from scratch (this could also be done using avogadro and exporting an xyz file that could be read in)"
   ]
  },
  {
   "cell_type": "code",
   "execution_count": 12,
   "metadata": {
    "collapsed": false
   },
   "outputs": [],
   "source": [
    "bbTh = buildingblock.Container('thiophene')\n",
    "symbols = ['C','C','C','C','S','H','H','H','H']\n",
    "positions = [ ]\n",
    "positions.append([-1.55498576,-1.91131218,-0.00081000])\n",
    "positions.append([-0.17775976,-1.91131218,-0.00081000])\n",
    "positions.append([0.34761524,-0.57904218,-0.00081000])\n",
    "positions.append([-0.65884476,0.36101082,0.00000000])\n",
    "positions.append([-2.16948076,-0.35614618,-0.00000800])\n",
    "positions.append([-2.18966076,-2.79526518,-0.00132100])\n",
    "positions.append([0.45389024,-2.80145418,-0.00106400])\n",
    "positions.append([1.41682424,-0.35961818,-0.00138200])\n",
    "positions.append([-0.51943676,1.44024682,0.00064700])\n",
    "for i in range(len(symbols)):\n",
    "    pt_i = buildingblock.BBatom(symbols[i])\n",
    "    pos_i = positions[i]\n",
    "    bbTh.add_partpos(pt_i,pos_i)"
   ]
  },
  {
   "cell_type": "markdown",
   "metadata": {},
   "source": [
    "Find neighbors "
   ]
  },
  {
   "cell_type": "code",
   "execution_count": 13,
   "metadata": {
    "collapsed": false
   },
   "outputs": [
    {
     "name": "stdout",
     "output_type": "stream",
     "text": [
      "Particles  i_0 - j_1 dr 1.377226 cut 1.700000 \n",
      "Particles  i_0 - j_2 dr 2.322678 cut 1.700000 \n",
      "Particles  i_0 - j_3 dr 2.442646 cut 1.700000 \n",
      "Particles  i_0 - j_4 dr 1.672168 cut 2.125000 \n",
      "Particles  i_0 - j_5 dr 1.088203 cut 1.137500 \n",
      "Particles  i_0 - j_6 dr 2.197256 cut 1.137500 \n",
      "Particles  i_0 - j_7 dr 3.352523 cut 1.137500 \n",
      "Particles  i_0 - j_8 dr 3.507893 cut 1.137500 \n",
      "Particles  i_1 - j_0 dr 1.377226 cut 1.700000 \n",
      "Particles  i_1 - j_2 dr 1.432118 cut 1.700000 \n",
      "Particles  i_1 - j_3 dr 2.322691 cut 1.700000 \n",
      "Particles  i_1 - j_4 dr 2.526954 cut 2.125000 \n",
      "Particles  i_1 - j_5 dr 2.197526 cut 1.137500 \n",
      "Particles  i_1 - j_6 dr 1.091483 cut 1.137500 \n",
      "Particles  i_1 - j_7 dr 2.224961 cut 1.137500 \n",
      "Particles  i_1 - j_8 dr 3.368931 cut 1.137500 \n",
      "Particles  i_2 - j_0 dr 2.322678 cut 1.700000 \n",
      "Particles  i_2 - j_1 dr 1.432118 cut 1.700000 \n",
      "Particles  i_2 - j_3 dr 1.377194 cut 1.700000 \n",
      "Particles  i_2 - j_4 dr 2.526946 cut 2.125000 \n",
      "Particles  i_2 - j_5 dr 3.368889 cut 1.137500 \n",
      "Particles  i_2 - j_6 dr 2.224952 cut 1.137500 \n",
      "Particles  i_2 - j_7 dr 1.091492 cut 1.137500 \n",
      "Particles  i_2 - j_8 dr 2.197569 cut 1.137500 \n",
      "Particles  i_3 - j_0 dr 2.442646 cut 1.700000 \n",
      "Particles  i_3 - j_1 dr 2.322691 cut 1.700000 \n",
      "Particles  i_3 - j_2 dr 1.377194 cut 1.700000 \n",
      "Particles  i_3 - j_4 dr 1.672225 cut 2.125000 \n",
      "Particles  i_3 - j_5 dr 3.507916 cut 1.137500 \n",
      "Particles  i_3 - j_6 dr 3.352516 cut 1.137500 \n",
      "Particles  i_3 - j_7 dr 2.197205 cut 1.137500 \n",
      "Particles  i_3 - j_8 dr 1.088203 cut 1.137500 \n",
      "Particles  i_4 - j_0 dr 1.672168 cut 2.125000 \n",
      "Particles  i_4 - j_1 dr 2.526954 cut 2.125000 \n",
      "Particles  i_4 - j_2 dr 2.526946 cut 2.125000 \n",
      "Particles  i_4 - j_3 dr 1.672225 cut 2.125000 \n",
      "Particles  i_4 - j_5 dr 2.439203 cut 1.562500 \n",
      "Particles  i_4 - j_6 dr 3.586308 cut 1.562500 \n",
      "Particles  i_4 - j_7 dr 3.586307 cut 1.562500 \n",
      "Particles  i_4 - j_8 dr 2.439195 cut 1.562500 \n",
      "Particles  i_5 - j_0 dr 1.088203 cut 1.137500 \n",
      "Particles  i_5 - j_1 dr 2.197526 cut 1.137500 \n",
      "Particles  i_5 - j_2 dr 3.368889 cut 1.137500 \n",
      "Particles  i_5 - j_3 dr 3.507916 cut 1.137500 \n",
      "Particles  i_5 - j_4 dr 2.439203 cut 1.562500 \n",
      "Particles  i_5 - j_6 dr 2.643558 cut 0.575000 \n",
      "Particles  i_5 - j_7 dr 4.351909 cut 0.575000 \n",
      "Particles  i_5 - j_8 dr 4.552935 cut 0.575000 \n",
      "Particles  i_6 - j_0 dr 2.197256 cut 1.137500 \n",
      "Particles  i_6 - j_1 dr 1.091483 cut 1.137500 \n",
      "Particles  i_6 - j_2 dr 2.224952 cut 1.137500 \n",
      "Particles  i_6 - j_3 dr 3.352516 cut 1.137500 \n",
      "Particles  i_6 - j_4 dr 3.586308 cut 1.562500 \n",
      "Particles  i_6 - j_5 dr 2.643558 cut 0.575000 \n",
      "Particles  i_6 - j_7 dr 2.624844 cut 0.575000 \n",
      "Particles  i_6 - j_8 dr 4.351942 cut 0.575000 \n",
      "Particles  i_7 - j_0 dr 3.352523 cut 1.137500 \n",
      "Particles  i_7 - j_1 dr 2.224961 cut 1.137500 \n",
      "Particles  i_7 - j_2 dr 1.091492 cut 1.137500 \n",
      "Particles  i_7 - j_3 dr 2.197205 cut 1.137500 \n",
      "Particles  i_7 - j_4 dr 3.586307 cut 1.562500 \n",
      "Particles  i_7 - j_5 dr 4.351909 cut 0.575000 \n",
      "Particles  i_7 - j_6 dr 2.624844 cut 0.575000 \n",
      "Particles  i_7 - j_8 dr 2.643601 cut 0.575000 \n",
      "Particles  i_8 - j_0 dr 3.507893 cut 1.137500 \n",
      "Particles  i_8 - j_1 dr 3.368931 cut 1.137500 \n",
      "Particles  i_8 - j_2 dr 2.197569 cut 1.137500 \n",
      "Particles  i_8 - j_3 dr 1.088203 cut 1.137500 \n",
      "Particles  i_8 - j_4 dr 2.439195 cut 1.562500 \n",
      "Particles  i_8 - j_5 dr 4.552935 cut 0.575000 \n",
      "Particles  i_8 - j_6 dr 4.351942 cut 0.575000 \n",
      "Particles  i_8 - j_7 dr 2.643601 cut 0.575000 \n"
     ]
    }
   ],
   "source": [
    "bbTh.bonded_nblist.guess_nblist(bbTh.lat,bbTh.particles,bbTh.positions,\"cov_radii\",radii_buffer=1.25)\n",
    "bbTh.bonded_bonds()"
   ]
  },
  {
   "cell_type": "markdown",
   "metadata": {},
   "source": [
    "Set connection points "
   ]
  },
  {
   "cell_type": "code",
   "execution_count": 14,
   "metadata": {
    "collapsed": true
   },
   "outputs": [],
   "source": [
    "bbTh.particles[0].properties['cplytag'] = 'term_'\n",
    "bbTh.particles[1].properties['cplytag'] = 'func_'\n",
    "bbTh.particles[3].properties['cplytag'] = 'term_'\n",
    "bbTh.particles[5].properties['cplytag'] = 'termcap_'\n",
    "bbTh.particles[6].properties['cplytag'] = 'funccap_'\n",
    "bbTh.particles[8].properties['cplytag'] = 'termcap_'"
   ]
  },
  {
   "cell_type": "code",
   "execution_count": 15,
   "metadata": {
    "collapsed": true
   },
   "outputs": [],
   "source": [
    "bbTh.parse_cplytag()"
   ]
  },
  {
   "cell_type": "code",
   "execution_count": 16,
   "metadata": {
    "collapsed": false
   },
   "outputs": [],
   "source": [
    "c_cnt =1\n",
    "h_cnt =1\n",
    "\n",
    "for pkey_i, particle_i  in bbTh.particles.iteritems():\n",
    "            if( particle_i.properties['symbol'] == 'C' ):\n",
    "                particle_i.properties['label'] = \"C%d\"%(c_cnt)\n",
    "\n",
    "                particle_i.properties['fftype'] == 'CA'\n",
    "                particle_i.properties['resname'] = \"SCP2\"\n",
    "                particle_i.properties['residue'] = 1\n",
    "                c_cnt +=1 \n",
    "            if( particle_i.properties['symbol'] == 'S' ):\n",
    "                particle_i.properties['fftype'] == 'S'\n",
    "                particle_i.properties['resname'] = \"ThS\"\n",
    "                particle_i.properties['residue'] = 2\n",
    "            if( particle_i.properties['symbol'] == 'H' ):\n",
    "                particle_i.properties['label'] = \"H%d\"%(h_cnt)\n",
    "\n",
    "                particle_i.properties['fftype'] == 'HA'\n",
    "                particle_i.properties['resname'] = \"HA\"\n",
    "                particle_i.properties['residue'] = 3\n",
    "                h_cnt +=1 \n",
    "                "
   ]
  },
  {
   "cell_type": "code",
   "execution_count": 17,
   "metadata": {
    "collapsed": true
   },
   "outputs": [],
   "source": [
    "bbTh.write_cply()"
   ]
  },
  {
   "cell_type": "code",
   "execution_count": 18,
   "metadata": {
    "collapsed": false
   },
   "outputs": [],
   "source": [
    "bbHex = buildingblock.Container('hexane')\n",
    "symbols = ['C','H','H','H','C','H','H','C','H','H','C','H','H','C','H','H','C','H','H','H']\n",
    "positions = [ ]\n",
    "positions.append([-6.410969,-0.381641,-0.000031])\n",
    "positions.append([-7.310084,0.245311,-0.000038])\n",
    "positions.append([-6.456117,-1.028799,0.884636])\n",
    "positions.append([-6.456111,-1.028812,-0.884689])\n",
    "positions.append([-5.135268,0.467175,-0.000033])\n",
    "positions.append([-5.135484,1.128782,0.877977])\n",
    "positions.append([-5.135479,1.128771,-0.87805])\n",
    "positions.append([-3.850566,-0.371258,-0.000024])\n",
    "positions.append([-3.85112,-1.033978,0.87841])\n",
    "positions.append([-3.851114,-1.033987,-0.878451])\n",
    "positions.append([-2.567451,0.469603,-0.000024])\n",
    "positions.append([-2.567784,1.132155,0.8784])\n",
    "positions.append([-2.567776,1.132146,-0.878455])\n",
    "positions.append([-1.283527,-0.370234,-0.000013])\n",
    "positions.append([-1.28337,-1.032804,0.87836])\n",
    "positions.append([-1.28336,-1.032812,-0.87838])\n",
    "positions.append([0.00482234,0.47342231,-0.00000898])\n",
    "positions.append([0.02595107,1.09220686,0.87266464])\n",
    "positions.append([0.85585781,-0.17514133,0.00194589])\n",
    "positions.append([0.02780957,1.08937798,-0.87463473])\n",
    "for i in range(len(symbols)):\n",
    "    pt_i = buildingblock.BBatom(symbols[i])\n",
    "    pos_i = positions[i]\n",
    "    bbHex.add_partpos(pt_i,pos_i)"
   ]
  },
  {
   "cell_type": "markdown",
   "metadata": {},
   "source": [
    "Find neighbors "
   ]
  },
  {
   "cell_type": "code",
   "execution_count": 19,
   "metadata": {
    "collapsed": false
   },
   "outputs": [
    {
     "name": "stdout",
     "output_type": "stream",
     "text": [
      "Particles  i_0 - j_1 dr 1.096119 cut 1.137500 \n",
      "Particles  i_0 - j_2 dr 1.097036 cut 1.137500 \n",
      "Particles  i_0 - j_3 dr 1.097036 cut 1.137500 \n",
      "Particles  i_0 - j_4 dr 1.532286 cut 1.700000 \n",
      "Particles  i_0 - j_5 dr 2.163131 cut 1.137500 \n",
      "Particles  i_0 - j_6 dr 2.163131 cut 1.137500 \n",
      "Particles  i_0 - j_7 dr 2.560424 cut 1.700000 \n",
      "Particles  i_0 - j_8 dr 2.783887 cut 1.137500 \n",
      "Particles  i_0 - j_9 dr 2.783888 cut 1.137500 \n",
      "Particles  i_0 - j_10 dr 3.936654 cut 1.700000 \n",
      "Particles  i_0 - j_11 dr 4.222948 cut 1.137500 \n",
      "Particles  i_0 - j_12 dr 4.222951 cut 1.137500 \n",
      "Particles  i_0 - j_13 dr 5.127455 cut 1.700000 \n",
      "Particles  i_0 - j_14 dr 5.242886 cut 1.137500 \n",
      "Particles  i_0 - j_15 dr 5.242890 cut 1.137500 \n",
      "Particles  i_0 - j_16 dr 6.472520 cut 1.700000 \n",
      "Particles  i_0 - j_17 dr 6.660913 cut 1.137500 \n",
      "Particles  i_0 - j_18 dr 7.269761 cut 1.137500 \n",
      "Particles  i_0 - j_19 dr 6.662334 cut 1.137500 \n",
      "Particles  i_1 - j_0 dr 1.096119 cut 1.137500 \n",
      "Particles  i_1 - j_2 dr 1.770668 cut 0.575000 \n",
      "Particles  i_1 - j_3 dr 1.770668 cut 0.575000 \n",
      "Particles  i_1 - j_4 dr 2.186103 cut 1.137500 \n",
      "Particles  i_1 - j_5 dr 2.506056 cut 0.575000 \n",
      "Particles  i_1 - j_6 dr 2.506055 cut 0.575000 \n",
      "Particles  i_1 - j_7 dr 3.514032 cut 1.137500 \n",
      "Particles  i_1 - j_8 dr 3.791132 cut 0.575000 \n",
      "Particles  i_1 - j_9 dr 3.791133 cut 0.575000 \n",
      "Particles  i_1 - j_10 dr 4.747934 cut 1.137500 \n",
      "Particles  i_1 - j_11 dr 4.903831 cut 0.575000 \n",
      "Particles  i_1 - j_12 dr 4.903833 cut 0.575000 \n",
      "Particles  i_1 - j_13 dr 6.057911 cut 1.137500 \n",
      "Particles  i_1 - j_14 dr 6.223057 cut 0.575000 \n",
      "Particles  i_1 - j_15 dr 6.223061 cut 0.575000 \n",
      "Particles  i_1 - j_16 dr 7.318462 cut 1.137500 \n",
      "Particles  i_1 - j_17 dr 7.436145 cut 0.575000 \n",
      "Particles  i_1 - j_18 dr 8.176759 cut 0.575000 \n",
      "Particles  i_1 - j_19 dr 7.437879 cut 0.575000 \n",
      "Particles  i_2 - j_0 dr 1.097036 cut 1.137500 \n",
      "Particles  i_2 - j_1 dr 1.770668 cut 0.575000 \n",
      "Particles  i_2 - j_3 dr 1.769325 cut 0.575000 \n",
      "Particles  i_2 - j_4 dr 2.182938 cut 1.137500 \n",
      "Particles  i_2 - j_5 dr 2.529678 cut 0.575000 \n",
      "Particles  i_2 - j_6 dr 3.083222 cut 0.575000 \n",
      "Particles  i_2 - j_7 dr 2.829113 cut 1.137500 \n",
      "Particles  i_2 - j_8 dr 2.605010 cut 0.575000 \n",
      "Particles  i_2 - j_9 dr 3.145559 cut 0.575000 \n",
      "Particles  i_2 - j_10 dr 4.260229 cut 1.137500 \n",
      "Particles  i_2 - j_11 dr 4.448471 cut 0.575000 \n",
      "Particles  i_2 - j_12 dr 4.785120 cut 0.575000 \n",
      "Particles  i_2 - j_13 dr 5.288856 cut 1.137500 \n",
      "Particles  i_2 - j_14 dr 5.172752 cut 0.575000 \n",
      "Particles  i_2 - j_15 dr 5.464948 cut 0.575000 \n",
      "Particles  i_2 - j_16 dr 6.692010 cut 1.137500 \n",
      "Particles  i_2 - j_17 dr 6.820265 cut 0.575000 \n",
      "Particles  i_2 - j_18 dr 7.414368 cut 0.575000 \n",
      "Particles  i_2 - j_19 dr 7.044360 cut 0.575000 \n",
      "Particles  i_3 - j_0 dr 1.097036 cut 1.137500 \n",
      "Particles  i_3 - j_1 dr 1.770668 cut 0.575000 \n",
      "Particles  i_3 - j_2 dr 1.769325 cut 0.575000 \n",
      "Particles  i_3 - j_4 dr 2.182938 cut 1.137500 \n",
      "Particles  i_3 - j_5 dr 3.083222 cut 0.575000 \n",
      "Particles  i_3 - j_6 dr 2.529679 cut 0.575000 \n",
      "Particles  i_3 - j_7 dr 2.829112 cut 1.137500 \n",
      "Particles  i_3 - j_8 dr 3.145556 cut 0.575000 \n",
      "Particles  i_3 - j_9 dr 2.605010 cut 0.575000 \n",
      "Particles  i_3 - j_10 dr 4.260230 cut 1.137500 \n",
      "Particles  i_3 - j_11 dr 4.785117 cut 0.575000 \n",
      "Particles  i_3 - j_12 dr 4.448475 cut 0.575000 \n",
      "Particles  i_3 - j_13 dr 5.288856 cut 1.137500 \n",
      "Particles  i_3 - j_14 dr 5.464943 cut 0.575000 \n",
      "Particles  i_3 - j_15 dr 5.172756 cut 0.575000 \n",
      "Particles  i_3 - j_16 dr 6.692012 cut 1.137500 \n",
      "Particles  i_3 - j_17 dr 7.043021 cut 0.575000 \n",
      "Particles  i_3 - j_18 dr 7.414834 cut 0.575000 \n",
      "Particles  i_3 - j_19 dr 6.821148 cut 0.575000 \n",
      "Particles  i_4 - j_0 dr 1.532286 cut 1.700000 \n",
      "Particles  i_4 - j_1 dr 2.186103 cut 1.137500 \n",
      "Particles  i_4 - j_2 dr 2.182938 cut 1.137500 \n",
      "Particles  i_4 - j_3 dr 2.182938 cut 1.137500 \n",
      "Particles  i_4 - j_5 dr 1.099375 cut 1.137500 \n",
      "Particles  i_4 - j_6 dr 1.099374 cut 1.137500 \n",
      "Particles  i_4 - j_7 dr 1.534089 cut 1.700000 \n",
      "Particles  i_4 - j_8 dr 2.161980 cut 1.137500 \n",
      "Particles  i_4 - j_9 dr 2.161980 cut 1.137500 \n",
      "Particles  i_4 - j_10 dr 2.567818 cut 1.700000 \n",
      "Particles  i_4 - j_11 dr 2.793889 cut 1.137500 \n",
      "Particles  i_4 - j_12 dr 2.793891 cut 1.137500 \n",
      "Particles  i_4 - j_13 dr 3.941721 cut 1.700000 \n",
      "Particles  i_4 - j_14 dr 4.225947 cut 1.137500 \n",
      "Particles  i_4 - j_15 dr 4.225950 cut 1.137500 \n",
      "Particles  i_4 - j_16 dr 5.140094 cut 1.700000 \n",
      "Particles  i_4 - j_17 dr 5.271665 cut 1.137500 \n",
      "Particles  i_4 - j_18 dr 6.025460 cut 1.137500 \n",
      "Particles  i_4 - j_19 dr 5.273465 cut 1.137500 \n",
      "Particles  i_5 - j_0 dr 2.163131 cut 1.137500 \n",
      "Particles  i_5 - j_1 dr 2.506056 cut 0.575000 \n",
      "Particles  i_5 - j_2 dr 2.529678 cut 0.575000 \n",
      "Particles  i_5 - j_3 dr 3.083222 cut 0.575000 \n",
      "Particles  i_5 - j_4 dr 1.099375 cut 1.137500 \n",
      "Particles  i_5 - j_6 dr 1.756027 cut 0.575000 \n",
      "Particles  i_5 - j_7 dr 2.161486 cut 1.137500 \n",
      "Particles  i_5 - j_8 dr 2.515377 cut 0.575000 \n",
      "Particles  i_5 - j_9 dr 3.067933 cut 0.575000 \n",
      "Particles  i_5 - j_10 dr 2.792883 cut 1.137500 \n",
      "Particles  i_5 - j_11 dr 2.567702 cut 0.575000 \n",
      "Particles  i_5 - j_12 dr 3.110979 cut 0.575000 \n",
      "Particles  i_5 - j_13 dr 4.225575 cut 1.137500 \n",
      "Particles  i_5 - j_14 dr 4.417153 cut 0.575000 \n",
      "Particles  i_5 - j_15 dr 4.753540 cut 0.575000 \n",
      "Particles  i_5 - j_16 dr 5.255769 cut 1.137500 \n",
      "Particles  i_5 - j_17 dr 5.161567 cut 0.575000 \n",
      "Particles  i_5 - j_18 dr 6.193854 cut 0.575000 \n",
      "Particles  i_5 - j_19 dr 5.452779 cut 0.575000 \n",
      "Particles  i_6 - j_0 dr 2.163131 cut 1.137500 \n",
      "Particles  i_6 - j_1 dr 2.506055 cut 0.575000 \n",
      "Particles  i_6 - j_2 dr 3.083222 cut 0.575000 \n",
      "Particles  i_6 - j_3 dr 2.529679 cut 0.575000 \n",
      "Particles  i_6 - j_4 dr 1.099374 cut 1.137500 \n",
      "Particles  i_6 - j_5 dr 1.756027 cut 0.575000 \n",
      "Particles  i_6 - j_7 dr 2.161485 cut 1.137500 \n",
      "Particles  i_6 - j_8 dr 3.067933 cut 0.575000 \n",
      "Particles  i_6 - j_9 dr 2.515376 cut 0.575000 \n",
      "Particles  i_6 - j_10 dr 2.792884 cut 1.137500 \n",
      "Particles  i_6 - j_11 dr 3.110978 cut 0.575000 \n",
      "Particles  i_6 - j_12 dr 2.567705 cut 0.575000 \n",
      "Particles  i_6 - j_13 dr 4.225577 cut 1.137500 \n",
      "Particles  i_6 - j_14 dr 4.753538 cut 0.575000 \n",
      "Particles  i_6 - j_15 dr 4.417155 cut 0.575000 \n",
      "Particles  i_6 - j_16 dr 5.255772 cut 1.137500 \n",
      "Particles  i_6 - j_17 dr 5.450385 cut 0.575000 \n",
      "Particles  i_6 - j_18 dr 6.194409 cut 0.575000 \n",
      "Particles  i_6 - j_19 dr 5.163440 cut 0.575000 \n",
      "Particles  i_7 - j_0 dr 2.560424 cut 1.700000 \n",
      "Particles  i_7 - j_1 dr 3.514032 cut 1.137500 \n",
      "Particles  i_7 - j_2 dr 2.829113 cut 1.137500 \n",
      "Particles  i_7 - j_3 dr 2.829112 cut 1.137500 \n",
      "Particles  i_7 - j_4 dr 1.534089 cut 1.700000 \n",
      "Particles  i_7 - j_5 dr 2.161486 cut 1.137500 \n",
      "Particles  i_7 - j_6 dr 2.161485 cut 1.137500 \n",
      "Particles  i_7 - j_8 dr 1.100384 cut 1.137500 \n",
      "Particles  i_7 - j_9 dr 1.100384 cut 1.137500 \n",
      "Particles  i_7 - j_10 dr 1.534090 cut 1.700000 \n",
      "Particles  i_7 - j_11 dr 2.162732 cut 1.137500 \n",
      "Particles  i_7 - j_12 dr 2.162733 cut 1.137500 \n",
      "Particles  i_7 - j_13 dr 2.567039 cut 1.700000 \n",
      "Particles  i_7 - j_14 dr 2.792794 cut 1.137500 \n",
      "Particles  i_7 - j_15 dr 2.792796 cut 1.137500 \n",
      "Particles  i_7 - j_16 dr 3.946835 cut 1.700000 \n",
      "Particles  i_7 - j_17 dr 4.234466 cut 1.137500 \n",
      "Particles  i_7 - j_18 dr 4.710509 cut 1.137500 \n",
      "Particles  i_7 - j_19 dr 4.235587 cut 1.137500 \n",
      "Particles  i_8 - j_0 dr 2.783887 cut 1.137500 \n",
      "Particles  i_8 - j_1 dr 3.791132 cut 0.575000 \n",
      "Particles  i_8 - j_2 dr 2.605010 cut 0.575000 \n",
      "Particles  i_8 - j_3 dr 3.145556 cut 0.575000 \n",
      "Particles  i_8 - j_4 dr 2.161980 cut 1.137500 \n",
      "Particles  i_8 - j_5 dr 2.515377 cut 0.575000 \n",
      "Particles  i_8 - j_6 dr 3.067933 cut 0.575000 \n",
      "Particles  i_8 - j_7 dr 1.100384 cut 1.137500 \n",
      "Particles  i_8 - j_9 dr 1.756861 cut 0.575000 \n",
      "Particles  i_8 - j_10 dr 2.163379 cut 1.137500 \n",
      "Particles  i_8 - j_11 dr 2.517754 cut 0.575000 \n",
      "Particles  i_8 - j_12 dr 3.070120 cut 0.575000 \n",
      "Particles  i_8 - j_13 dr 2.793692 cut 1.137500 \n",
      "Particles  i_8 - j_14 dr 2.567750 cut 0.575000 \n",
      "Particles  i_8 - j_15 dr 3.111222 cut 0.575000 \n",
      "Particles  i_8 - j_16 dr 4.232277 cut 1.137500 \n",
      "Particles  i_8 - j_17 dr 4.421807 cut 0.575000 \n",
      "Particles  i_8 - j_18 dr 4.864302 cut 0.575000 \n",
      "Particles  i_8 - j_19 dr 4.756879 cut 0.575000 \n",
      "Particles  i_9 - j_0 dr 2.783888 cut 1.137500 \n",
      "Particles  i_9 - j_1 dr 3.791133 cut 0.575000 \n",
      "Particles  i_9 - j_2 dr 3.145559 cut 0.575000 \n",
      "Particles  i_9 - j_3 dr 2.605010 cut 0.575000 \n",
      "Particles  i_9 - j_4 dr 2.161980 cut 1.137500 \n",
      "Particles  i_9 - j_5 dr 3.067933 cut 0.575000 \n",
      "Particles  i_9 - j_6 dr 2.515376 cut 0.575000 \n",
      "Particles  i_9 - j_7 dr 1.100384 cut 1.137500 \n",
      "Particles  i_9 - j_8 dr 1.756861 cut 0.575000 \n",
      "Particles  i_9 - j_10 dr 2.163379 cut 1.137500 \n",
      "Particles  i_9 - j_11 dr 3.070119 cut 0.575000 \n",
      "Particles  i_9 - j_12 dr 2.517755 cut 0.575000 \n",
      "Particles  i_9 - j_13 dr 2.793694 cut 1.137500 \n",
      "Particles  i_9 - j_14 dr 3.111221 cut 0.575000 \n",
      "Particles  i_9 - j_15 dr 2.567754 cut 0.575000 \n",
      "Particles  i_9 - j_16 dr 4.232279 cut 1.137500 \n",
      "Particles  i_9 - j_17 dr 4.755916 cut 0.575000 \n",
      "Particles  i_9 - j_18 dr 4.865008 cut 0.575000 \n",
      "Particles  i_9 - j_19 dr 4.422074 cut 0.575000 \n",
      "Particles  i_10 - j_0 dr 3.936654 cut 1.700000 \n",
      "Particles  i_10 - j_1 dr 4.747934 cut 1.137500 \n",
      "Particles  i_10 - j_2 dr 4.260229 cut 1.137500 \n",
      "Particles  i_10 - j_3 dr 4.260230 cut 1.137500 \n",
      "Particles  i_10 - j_4 dr 2.567818 cut 1.700000 \n",
      "Particles  i_10 - j_5 dr 2.792883 cut 1.137500 \n",
      "Particles  i_10 - j_6 dr 2.792884 cut 1.137500 \n",
      "Particles  i_10 - j_7 dr 1.534090 cut 1.700000 \n",
      "Particles  i_10 - j_8 dr 2.163379 cut 1.137500 \n",
      "Particles  i_10 - j_9 dr 2.163379 cut 1.137500 \n",
      "Particles  i_10 - j_11 dr 1.100275 cut 1.137500 \n",
      "Particles  i_10 - j_12 dr 1.100275 cut 1.137500 \n",
      "Particles  i_10 - j_13 dr 1.534206 cut 1.700000 \n",
      "Particles  i_10 - j_14 dr 2.162787 cut 1.137500 \n",
      "Particles  i_10 - j_15 dr 2.162788 cut 1.137500 \n",
      "Particles  i_10 - j_16 dr 2.572276 cut 1.700000 \n",
      "Particles  i_10 - j_17 dr 2.806235 cut 1.137500 \n",
      "Particles  i_10 - j_18 dr 3.483496 cut 1.137500 \n",
      "Particles  i_10 - j_19 dr 2.807925 cut 1.137500 \n",
      "Particles  i_11 - j_0 dr 4.222948 cut 1.137500 \n",
      "Particles  i_11 - j_1 dr 4.903831 cut 0.575000 \n",
      "Particles  i_11 - j_2 dr 4.448471 cut 0.575000 \n",
      "Particles  i_11 - j_3 dr 4.785117 cut 0.575000 \n",
      "Particles  i_11 - j_4 dr 2.793889 cut 1.137500 \n",
      "Particles  i_11 - j_5 dr 2.567702 cut 0.575000 \n",
      "Particles  i_11 - j_6 dr 3.110978 cut 0.575000 \n",
      "Particles  i_11 - j_7 dr 2.162732 cut 1.137500 \n",
      "Particles  i_11 - j_8 dr 2.517754 cut 0.575000 \n",
      "Particles  i_11 - j_9 dr 3.070119 cut 0.575000 \n",
      "Particles  i_11 - j_10 dr 1.100275 cut 1.137500 \n",
      "Particles  i_11 - j_12 dr 1.756855 cut 0.575000 \n",
      "Particles  i_11 - j_13 dr 2.162891 cut 1.137500 \n",
      "Particles  i_11 - j_14 dr 2.517294 cut 0.575000 \n",
      "Particles  i_11 - j_15 dr 3.069707 cut 0.575000 \n",
      "Particles  i_11 - j_16 dr 2.797112 cut 1.137500 \n",
      "Particles  i_11 - j_17 dr 2.594049 cut 0.575000 \n",
      "Particles  i_11 - j_18 dr 3.768092 cut 0.575000 \n",
      "Particles  i_11 - j_19 dr 3.132422 cut 0.575000 \n",
      "Particles  i_12 - j_0 dr 4.222951 cut 1.137500 \n",
      "Particles  i_12 - j_1 dr 4.903833 cut 0.575000 \n",
      "Particles  i_12 - j_2 dr 4.785120 cut 0.575000 \n",
      "Particles  i_12 - j_3 dr 4.448475 cut 0.575000 \n",
      "Particles  i_12 - j_4 dr 2.793891 cut 1.137500 \n",
      "Particles  i_12 - j_5 dr 3.110979 cut 0.575000 \n",
      "Particles  i_12 - j_6 dr 2.567705 cut 0.575000 \n",
      "Particles  i_12 - j_7 dr 2.162733 cut 1.137500 \n",
      "Particles  i_12 - j_8 dr 3.070120 cut 0.575000 \n",
      "Particles  i_12 - j_9 dr 2.517755 cut 0.575000 \n",
      "Particles  i_12 - j_10 dr 1.100275 cut 1.137500 \n",
      "Particles  i_12 - j_11 dr 1.756855 cut 0.575000 \n",
      "Particles  i_12 - j_13 dr 2.162892 cut 1.137500 \n",
      "Particles  i_12 - j_14 dr 3.069708 cut 0.575000 \n",
      "Particles  i_12 - j_15 dr 2.517294 cut 0.575000 \n",
      "Particles  i_12 - j_16 dr 2.797114 cut 1.137500 \n",
      "Particles  i_12 - j_17 dr 3.129766 cut 0.575000 \n",
      "Particles  i_12 - j_18 dr 3.769002 cut 0.575000 \n",
      "Particles  i_12 - j_19 dr 2.595941 cut 0.575000 \n",
      "Particles  i_13 - j_0 dr 5.127455 cut 1.700000 \n",
      "Particles  i_13 - j_1 dr 6.057911 cut 1.137500 \n",
      "Particles  i_13 - j_2 dr 5.288856 cut 1.137500 \n",
      "Particles  i_13 - j_3 dr 5.288856 cut 1.137500 \n",
      "Particles  i_13 - j_4 dr 3.941721 cut 1.700000 \n",
      "Particles  i_13 - j_5 dr 4.225575 cut 1.137500 \n",
      "Particles  i_13 - j_6 dr 4.225577 cut 1.137500 \n",
      "Particles  i_13 - j_7 dr 2.567039 cut 1.700000 \n",
      "Particles  i_13 - j_8 dr 2.793692 cut 1.137500 \n",
      "Particles  i_13 - j_9 dr 2.793694 cut 1.137500 \n",
      "Particles  i_13 - j_10 dr 1.534206 cut 1.700000 \n",
      "Particles  i_13 - j_11 dr 2.162891 cut 1.137500 \n",
      "Particles  i_13 - j_12 dr 2.162892 cut 1.137500 \n",
      "Particles  i_13 - j_14 dr 1.100245 cut 1.137500 \n",
      "Particles  i_13 - j_15 dr 1.100245 cut 1.137500 \n",
      "Particles  i_13 - j_16 dr 1.540000 cut 1.700000 \n",
      "Particles  i_13 - j_17 dr 2.148263 cut 1.137500 \n",
      "Particles  i_13 - j_18 dr 2.148263 cut 1.137500 \n",
      "Particles  i_13 - j_19 dr 2.148263 cut 1.137500 \n",
      "Particles  i_14 - j_0 dr 5.242886 cut 1.137500 \n",
      "Particles  i_14 - j_1 dr 6.223057 cut 0.575000 \n",
      "Particles  i_14 - j_2 dr 5.172752 cut 0.575000 \n",
      "Particles  i_14 - j_3 dr 5.464943 cut 0.575000 \n",
      "Particles  i_14 - j_4 dr 4.225947 cut 1.137500 \n",
      "Particles  i_14 - j_5 dr 4.417153 cut 0.575000 \n",
      "Particles  i_14 - j_6 dr 4.753538 cut 0.575000 \n",
      "Particles  i_14 - j_7 dr 2.792794 cut 1.137500 \n",
      "Particles  i_14 - j_8 dr 2.567750 cut 0.575000 \n",
      "Particles  i_14 - j_9 dr 3.111221 cut 0.575000 \n",
      "Particles  i_14 - j_10 dr 2.162787 cut 1.137500 \n",
      "Particles  i_14 - j_11 dr 2.517294 cut 0.575000 \n",
      "Particles  i_14 - j_12 dr 3.069708 cut 0.575000 \n",
      "Particles  i_14 - j_13 dr 1.100245 cut 1.137500 \n",
      "Particles  i_14 - j_15 dr 1.756740 cut 0.575000 \n",
      "Particles  i_14 - j_16 dr 2.167877 cut 1.137500 \n",
      "Particles  i_14 - j_17 dr 2.496002 cut 0.575000 \n",
      "Particles  i_14 - j_18 dr 2.465762 cut 0.575000 \n",
      "Particles  i_14 - j_19 dr 3.048908 cut 0.575000 \n",
      "Particles  i_15 - j_0 dr 5.242890 cut 1.137500 \n",
      "Particles  i_15 - j_1 dr 6.223061 cut 0.575000 \n",
      "Particles  i_15 - j_2 dr 5.464948 cut 0.575000 \n",
      "Particles  i_15 - j_3 dr 5.172756 cut 0.575000 \n",
      "Particles  i_15 - j_4 dr 4.225950 cut 1.137500 \n",
      "Particles  i_15 - j_5 dr 4.753540 cut 0.575000 \n",
      "Particles  i_15 - j_6 dr 4.417155 cut 0.575000 \n",
      "Particles  i_15 - j_7 dr 2.792796 cut 1.137500 \n",
      "Particles  i_15 - j_8 dr 3.111222 cut 0.575000 \n",
      "Particles  i_15 - j_9 dr 2.567754 cut 0.575000 \n",
      "Particles  i_15 - j_10 dr 2.162788 cut 1.137500 \n",
      "Particles  i_15 - j_11 dr 3.069707 cut 0.575000 \n",
      "Particles  i_15 - j_12 dr 2.517294 cut 0.575000 \n",
      "Particles  i_15 - j_13 dr 1.100245 cut 1.137500 \n",
      "Particles  i_15 - j_14 dr 1.756740 cut 0.575000 \n",
      "Particles  i_15 - j_16 dr 2.167877 cut 1.137500 \n",
      "Particles  i_15 - j_17 dr 3.048960 cut 0.575000 \n",
      "Particles  i_15 - j_18 dr 2.467149 cut 0.575000 \n",
      "Particles  i_15 - j_19 dr 2.494568 cut 0.575000 \n",
      "Particles  i_16 - j_0 dr 6.472520 cut 1.700000 \n",
      "Particles  i_16 - j_1 dr 7.318462 cut 1.137500 \n",
      "Particles  i_16 - j_2 dr 6.692010 cut 1.137500 \n",
      "Particles  i_16 - j_3 dr 6.692012 cut 1.137500 \n",
      "Particles  i_16 - j_4 dr 5.140094 cut 1.700000 \n",
      "Particles  i_16 - j_5 dr 5.255769 cut 1.137500 \n",
      "Particles  i_16 - j_6 dr 5.255772 cut 1.137500 \n",
      "Particles  i_16 - j_7 dr 3.946835 cut 1.700000 \n",
      "Particles  i_16 - j_8 dr 4.232277 cut 1.137500 \n",
      "Particles  i_16 - j_9 dr 4.232279 cut 1.137500 \n",
      "Particles  i_16 - j_10 dr 2.572276 cut 1.700000 \n",
      "Particles  i_16 - j_11 dr 2.797112 cut 1.137500 \n",
      "Particles  i_16 - j_12 dr 2.797114 cut 1.137500 \n",
      "Particles  i_16 - j_13 dr 1.540000 cut 1.700000 \n",
      "Particles  i_16 - j_14 dr 2.167877 cut 1.137500 \n",
      "Particles  i_16 - j_15 dr 2.167877 cut 1.137500 \n",
      "Particles  i_16 - j_17 dr 1.070000 cut 1.137500 \n",
      "Particles  i_16 - j_18 dr 1.070000 cut 1.137500 \n",
      "Particles  i_16 - j_19 dr 1.070000 cut 1.137500 \n",
      "Particles  i_17 - j_0 dr 6.660913 cut 1.137500 \n",
      "Particles  i_17 - j_1 dr 7.436145 cut 0.575000 \n",
      "Particles  i_17 - j_2 dr 6.820265 cut 0.575000 \n",
      "Particles  i_17 - j_3 dr 7.043021 cut 0.575000 \n",
      "Particles  i_17 - j_4 dr 5.271665 cut 1.137500 \n",
      "Particles  i_17 - j_5 dr 5.161567 cut 0.575000 \n",
      "Particles  i_17 - j_6 dr 5.450385 cut 0.575000 \n",
      "Particles  i_17 - j_7 dr 4.234466 cut 1.137500 \n",
      "Particles  i_17 - j_8 dr 4.421807 cut 0.575000 \n",
      "Particles  i_17 - j_9 dr 4.755916 cut 0.575000 \n",
      "Particles  i_17 - j_10 dr 2.806235 cut 1.137500 \n",
      "Particles  i_17 - j_11 dr 2.594049 cut 0.575000 \n",
      "Particles  i_17 - j_12 dr 3.129766 cut 0.575000 \n",
      "Particles  i_17 - j_13 dr 2.148263 cut 1.137500 \n",
      "Particles  i_17 - j_14 dr 2.496002 cut 0.575000 \n",
      "Particles  i_17 - j_15 dr 3.048960 cut 0.575000 \n",
      "Particles  i_17 - j_16 dr 1.070000 cut 1.137500 \n",
      "Particles  i_17 - j_18 dr 1.747303 cut 0.575000 \n",
      "Particles  i_17 - j_19 dr 1.747303 cut 0.575000 \n",
      "Particles  i_18 - j_0 dr 7.269761 cut 1.137500 \n",
      "Particles  i_18 - j_1 dr 8.176759 cut 0.575000 \n",
      "Particles  i_18 - j_2 dr 7.414368 cut 0.575000 \n",
      "Particles  i_18 - j_3 dr 7.414834 cut 0.575000 \n",
      "Particles  i_18 - j_4 dr 6.025460 cut 1.137500 \n",
      "Particles  i_18 - j_5 dr 6.193854 cut 0.575000 \n",
      "Particles  i_18 - j_6 dr 6.194409 cut 0.575000 \n",
      "Particles  i_18 - j_7 dr 4.710509 cut 1.137500 \n",
      "Particles  i_18 - j_8 dr 4.864302 cut 0.575000 \n",
      "Particles  i_18 - j_9 dr 4.865008 cut 0.575000 \n",
      "Particles  i_18 - j_10 dr 3.483496 cut 1.137500 \n",
      "Particles  i_18 - j_11 dr 3.768092 cut 0.575000 \n",
      "Particles  i_18 - j_12 dr 3.769002 cut 0.575000 \n",
      "Particles  i_18 - j_13 dr 2.148263 cut 1.137500 \n",
      "Particles  i_18 - j_14 dr 2.465762 cut 0.575000 \n",
      "Particles  i_18 - j_15 dr 2.467149 cut 0.575000 \n",
      "Particles  i_18 - j_16 dr 1.070000 cut 1.137500 \n",
      "Particles  i_18 - j_17 dr 1.747303 cut 0.575000 \n",
      "Particles  i_18 - j_19 dr 1.747303 cut 0.575000 \n",
      "Particles  i_19 - j_0 dr 6.662334 cut 1.137500 \n",
      "Particles  i_19 - j_1 dr 7.437879 cut 0.575000 \n",
      "Particles  i_19 - j_2 dr 7.044360 cut 0.575000 \n",
      "Particles  i_19 - j_3 dr 6.821148 cut 0.575000 \n",
      "Particles  i_19 - j_4 dr 5.273465 cut 1.137500 \n",
      "Particles  i_19 - j_5 dr 5.452779 cut 0.575000 \n",
      "Particles  i_19 - j_6 dr 5.163440 cut 0.575000 \n",
      "Particles  i_19 - j_7 dr 4.235587 cut 1.137500 \n",
      "Particles  i_19 - j_8 dr 4.756879 cut 0.575000 \n",
      "Particles  i_19 - j_9 dr 4.422074 cut 0.575000 \n",
      "Particles  i_19 - j_10 dr 2.807925 cut 1.137500 \n",
      "Particles  i_19 - j_11 dr 3.132422 cut 0.575000 \n",
      "Particles  i_19 - j_12 dr 2.595941 cut 0.575000 \n",
      "Particles  i_19 - j_13 dr 2.148263 cut 1.137500 \n",
      "Particles  i_19 - j_14 dr 3.048908 cut 0.575000 \n",
      "Particles  i_19 - j_15 dr 2.494568 cut 0.575000 \n",
      "Particles  i_19 - j_16 dr 1.070000 cut 1.137500 \n",
      "Particles  i_19 - j_17 dr 1.747303 cut 0.575000 \n",
      "Particles  i_19 - j_18 dr 1.747303 cut 0.575000 \n"
     ]
    }
   ],
   "source": [
    "bbHex.bonded_nblist.guess_nblist(bbHex.lat,bbHex.particles,bbHex.positions,\"cov_radii\",radii_buffer=1.25)\n",
    "bbHex.bonded_bonds()"
   ]
  },
  {
   "cell_type": "code",
   "execution_count": 20,
   "metadata": {
    "collapsed": true
   },
   "outputs": [],
   "source": [
    "bbHex.particles[0].properties['cplytag'] = 'rg_'\n",
    "bbHex.particles[1].properties['cplytag'] = 'rgcap_'"
   ]
  },
  {
   "cell_type": "code",
   "execution_count": 21,
   "metadata": {
    "collapsed": true
   },
   "outputs": [],
   "source": [
    "bbHex.parse_cplytag()"
   ]
  },
  {
   "cell_type": "code",
   "execution_count": 22,
   "metadata": {
    "collapsed": false
   },
   "outputs": [],
   "source": [
    "c_cnt =1\n",
    "h_cnt =1\n",
    "for pkey_i, particle_i  in bbHex.particles.iteritems():\n",
    "            if( particle_i.properties['symbol'] == 'C' ):\n",
    "                particle_i.properties['label'] = \"C%d\"%(c_cnt)\n",
    "                particle_i.properties['fftype'] = 'CT'\n",
    "                particle_i.properties['resname'] = \"SCP3\"\n",
    "                particle_i.properties['residue'] = c_cnt\n",
    "                c_cnt +=1 \n",
    "            if( particle_i.properties['symbol'] == 'H' ):\n",
    "                particle_i.properties['label'] = \"H%d\"%(h_cnt)\n",
    "                particle_i.properties['fftype'] = 'HC'\n",
    "                particle_i.properties['resname'] = \"HC\"\n",
    "                particle_i.properties['residue'] = c_cnt -1 \n",
    "                h_cnt +=1 "
   ]
  },
  {
   "cell_type": "code",
   "execution_count": 23,
   "metadata": {
    "collapsed": true
   },
   "outputs": [],
   "source": [
    "bbHex.write_cply()"
   ]
  },
  {
   "cell_type": "markdown",
   "metadata": {},
   "source": [
    "Attach them together at R-group positions "
   ]
  },
  {
   "cell_type": "markdown",
   "metadata": {},
   "source": [
    "Modify tag so attaching leaves a '_' between tags"
   ]
  },
  {
   "cell_type": "code",
   "execution_count": 24,
   "metadata": {
    "collapsed": false
   },
   "outputs": [],
   "source": [
    "bbTh.tag = '%s_'%(bbTh.tag)"
   ]
  },
  {
   "cell_type": "code",
   "execution_count": 25,
   "metadata": {
    "collapsed": false
   },
   "outputs": [
    {
     "name": "stdout",
     "output_type": "stream",
     "text": [
      "[1, 4, 5, 0, 2, 6, 1, 3, 7, 2, 4, 8, 0, 3, 0, 1, 2, 3]\n",
      "[1, 2, 3, 4, 0, 0, 0, 0, 5, 6, 7, 4, 4, 4, 8, 9, 10, 7, 7, 7, 11, 12, 13, 10, 10, 10, 14, 15, 16, 13, 13, 13, 17, 18, 19, 16, 16, 16]\n"
     ]
    }
   ],
   "source": [
    "print bbTh.bonded_nblist.list\n",
    "print bbHex.bonded_nblist.list"
   ]
  },
  {
   "cell_type": "code",
   "execution_count": 26,
   "metadata": {
    "collapsed": false
   },
   "outputs": [],
   "source": [
    "p3ht_n1 = buildingblock.attach(bbTh,bbHex,\"R\",0,\"R\",0)"
   ]
  },
  {
   "cell_type": "code",
   "execution_count": 27,
   "metadata": {
    "collapsed": false
   },
   "outputs": [
    {
     "name": "stdout",
     "output_type": "stream",
     "text": [
      "thiophene_hexane\n"
     ]
    }
   ],
   "source": [
    "print p3ht_n1.tag"
   ]
  },
  {
   "cell_type": "code",
   "execution_count": 28,
   "metadata": {
    "collapsed": false
   },
   "outputs": [
    {
     "name": "stdout",
     "output_type": "stream",
     "text": [
      "[1, 4, 5, 0, 2, 8, 1, 3, 6, 2, 4, 7, 0, 3, 0, 2, 3, 9, 10, 11, 1, 8, 8, 8, 12, 13, 14, 11, 11, 11, 15, 16, 17, 14, 14, 14, 18, 19, 20, 17, 17, 17, 21, 22, 23, 20, 20, 20, 24, 25, 26, 23, 23, 23]\n"
     ]
    }
   ],
   "source": [
    "print p3ht_n1.bonded_nblist.list"
   ]
  },
  {
   "cell_type": "code",
   "execution_count": 29,
   "metadata": {
    "collapsed": false
   },
   "outputs": [],
   "source": [
    "p3ht_n1.write_xyz()"
   ]
  },
  {
   "cell_type": "code",
   "execution_count": 30,
   "metadata": {
    "collapsed": true
   },
   "outputs": [],
   "source": [
    "p3ht_n1.write_cply()"
   ]
  },
  {
   "cell_type": "markdown",
   "metadata": {},
   "source": [
    "Build oligomer with length xN"
   ]
  },
  {
   "cell_type": "code",
   "execution_count": 31,
   "metadata": {
    "collapsed": true
   },
   "outputs": [],
   "source": [
    "xN = 10"
   ]
  },
  {
   "cell_type": "code",
   "execution_count": 32,
   "metadata": {
    "collapsed": false
   },
   "outputs": [],
   "source": [
    "p3ht_xN = buildingblock.Container('p3ht_n%d'%(xN))\n",
    "p3ht_xN += p3ht_n1"
   ]
  },
  {
   "cell_type": "code",
   "execution_count": 33,
   "metadata": {
    "collapsed": false
   },
   "outputs": [],
   "source": [
    "for n in range(1,xN):\n",
    "    TTF_prep = TTF.prepattach(\"R\",0,yangle=90.0)\n",
    "    pk_i = TTF_prep.attach_p\n",
    "    \n",
    "    TTF_prep.particles[pk_i]['charge'] += TTF_prep.particles[pk_j]['charge'] \n",
    "    TTF_prep.particles[pk_i]['fftype'] = 'C!'\n",
    "    \n",
    "    p3ht_xN = buildingblock.attach(p3ht_xN,p3ht_n1,\"T\",1,\"T\",0,yangle=90.0,)\n",
    "    "
   ]
  },
  {
   "cell_type": "code",
   "execution_count": 34,
   "metadata": {
    "collapsed": false
   },
   "outputs": [
    {
     "name": "stdout",
     "output_type": "stream",
     "text": [
      "thiophene_hexanethiophene_hexanethiophene_hexanethiophene_hexanethiophene_hexanethiophene_hexanethiophene_hexanethiophene_hexanethiophene_hexanethiophene_hexane\n"
     ]
    }
   ],
   "source": [
    "print p3ht_xN.tag"
   ]
  },
  {
   "cell_type": "code",
   "execution_count": 35,
   "metadata": {
    "collapsed": true
   },
   "outputs": [],
   "source": [
    "p3ht_xN.tag = 'p3ht_n%d'%(xN)"
   ]
  },
  {
   "cell_type": "code",
   "execution_count": 36,
   "metadata": {
    "collapsed": true
   },
   "outputs": [],
   "source": [
    "p3ht_xN.write_xyz()"
   ]
  },
  {
   "cell_type": "code",
   "execution_count": 37,
   "metadata": {
    "collapsed": true
   },
   "outputs": [],
   "source": [
    "p3ht_xN.write_cply()"
   ]
  },
  {
   "cell_type": "code",
   "execution_count": 38,
   "metadata": {
    "collapsed": true
   },
   "outputs": [],
   "source": [
    "del p3ht_xN"
   ]
  },
  {
   "cell_type": "code",
   "execution_count": null,
   "metadata": {
    "collapsed": true
   },
   "outputs": [],
   "source": []
  }
 ],
 "metadata": {
  "anaconda-cloud": {},
  "kernelspec": {
   "display_name": "Python [conda root]",
   "language": "python",
   "name": "conda-root-py"
  },
  "language_info": {
   "codemirror_mode": {
    "name": "ipython",
    "version": 2
   },
   "file_extension": ".py",
   "mimetype": "text/x-python",
   "name": "python",
   "nbconvert_exporter": "python",
   "pygments_lexer": "ipython2",
   "version": "2.7.12"
  }
 },
 "nbformat": 4,
 "nbformat_minor": 0
}
